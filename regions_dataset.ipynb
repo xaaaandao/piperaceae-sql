{
 "cells": [
  {
   "cell_type": "code",
   "execution_count": 1,
   "metadata": {
    "collapsed": false,
    "ExecuteTime": {
     "start_time": "2023-04-05T16:00:24.438601Z",
     "end_time": "2023-04-05T16:00:37.568115Z"
    }
   },
   "outputs": [
    {
     "name": "stdout",
     "output_type": "stream",
     "text": [
      "The autoreload extension is already loaded. To reload it, use:\n",
      "  %reload_ext autoreload\n"
     ]
    }
   ],
   "source": [
    "%reload_ext autoreload\n",
    "%load_ext autoreload\n",
    "%autoreload 2"
   ]
  },
  {
   "cell_type": "code",
   "execution_count": 2,
   "metadata": {
    "collapsed": false,
    "ExecuteTime": {
     "start_time": "2023-04-05T16:00:24.479301Z",
     "end_time": "2023-04-05T16:00:37.570167Z"
    }
   },
   "outputs": [],
   "source": [
    "import os\n",
    "import sqlalchemy as sa\n",
    "\n",
    "import database as db\n",
    "from images import copy_images, get_list_of_images_invalid, save_metadata, select_images\n",
    "from models import County, DataTrustedIdentifier"
   ]
  },
  {
   "cell_type": "code",
   "execution_count": 3,
   "metadata": {
    "collapsed": false,
    "ExecuteTime": {
     "start_time": "2023-04-05T16:00:24.772798Z",
     "end_time": "2023-04-05T16:00:37.570747Z"
    }
   },
   "outputs": [
    {
     "name": "stdout",
     "output_type": "stream",
     "text": [
      "2023-04-05 16:00:24,819 INFO sqlalchemy.engine.Engine select pg_catalog.version()\n",
      "2023-04-05 16:00:24,819 INFO sqlalchemy.engine.Engine [raw sql] {}\n",
      "2023-04-05 16:00:24,821 INFO sqlalchemy.engine.Engine select current_schema()\n",
      "2023-04-05 16:00:24,821 INFO sqlalchemy.engine.Engine [raw sql] {}\n",
      "2023-04-05 16:00:24,822 INFO sqlalchemy.engine.Engine show standard_conforming_strings\n",
      "2023-04-05 16:00:24,822 INFO sqlalchemy.engine.Engine [raw sql] {}\n"
     ]
    }
   ],
   "source": [
    "engine, session=db.connect()\n",
    "engine.echo=False"
   ]
  },
  {
   "cell_type": "code",
   "execution_count": 4,
   "metadata": {
    "collapsed": false,
    "ExecuteTime": {
     "start_time": "2023-04-05T16:00:24.826899Z",
     "end_time": "2023-04-05T16:00:37.570836Z"
    }
   },
   "outputs": [],
   "source": [
    "list_minimum_image=[5, 10, 20]\n",
    "list_color=['rgb', 'grayscale']\n",
    "list_image_size=['256', '400', '512']\n",
    "list_regions=['Norte', 'Nordeste', 'Centro-Oeste', 'Sul', 'Sudeste']\n",
    "path_out = '/home/xandao/Imagens/regions_dataset/images'\n",
    "list_images_invalid=get_list_of_images_invalid()\n",
    "list_images_invalid=list_images_invalid['barcode']"
   ]
  },
  {
   "cell_type": "code",
   "execution_count": 6,
   "metadata": {
    "collapsed": false,
    "ExecuteTime": {
     "start_time": "2023-04-05T16:07:59.013630Z",
     "end_time": "2023-04-05T16:19:04.951181Z"
    }
   },
   "outputs": [
    {
     "name": "stdout",
     "output_type": "stream",
     "text": [
      "region: Norte color: RGB image_size: 256 minimum_image: 5\n",
      "total of levels: 107 total of images: 2636\n"
     ]
    },
    {
     "data": {
      "text/plain": "                                                               0\ndst            /home/xandao/Imagens/regions_dataset/images/RG...\ncolor                                                        rgb\nimage_size                                                   256\nminimum_image                                                  5\nlevel_name                              specific_epithet_trusted\nregion                                                     Norte\nlevels                                                       107\ntotal                                                       2636\naverage                                                    24.64",
      "text/html": "<div>\n<style scoped>\n    .dataframe tbody tr th:only-of-type {\n        vertical-align: middle;\n    }\n\n    .dataframe tbody tr th {\n        vertical-align: top;\n    }\n\n    .dataframe thead th {\n        text-align: right;\n    }\n</style>\n<table border=\"1\" class=\"dataframe\">\n  <thead>\n    <tr style=\"text-align: right;\">\n      <th></th>\n      <th>0</th>\n    </tr>\n  </thead>\n  <tbody>\n    <tr>\n      <th>dst</th>\n      <td>/home/xandao/Imagens/regions_dataset/images/RG...</td>\n    </tr>\n    <tr>\n      <th>color</th>\n      <td>rgb</td>\n    </tr>\n    <tr>\n      <th>image_size</th>\n      <td>256</td>\n    </tr>\n    <tr>\n      <th>minimum_image</th>\n      <td>5</td>\n    </tr>\n    <tr>\n      <th>level_name</th>\n      <td>specific_epithet_trusted</td>\n    </tr>\n    <tr>\n      <th>region</th>\n      <td>Norte</td>\n    </tr>\n    <tr>\n      <th>levels</th>\n      <td>107</td>\n    </tr>\n    <tr>\n      <th>total</th>\n      <td>2636</td>\n    </tr>\n    <tr>\n      <th>average</th>\n      <td>24.64</td>\n    </tr>\n  </tbody>\n</table>\n</div>"
     },
     "metadata": {},
     "output_type": "display_data"
    },
    {
     "name": "stdout",
     "output_type": "stream",
     "text": [
      "region: Norte color: RGB image_size: 256 minimum_image: 10\n",
      "total of levels: 68 total of images: 2352\n"
     ]
    },
    {
     "data": {
      "text/plain": "                                                               0\ndst            /home/xandao/Imagens/regions_dataset/images/RG...\ncolor                                                        rgb\nimage_size                                                   256\nminimum_image                                                 10\nlevel_name                              specific_epithet_trusted\nregion                                                     Norte\nlevels                                                        68\ntotal                                                       2352\naverage                                                    34.59",
      "text/html": "<div>\n<style scoped>\n    .dataframe tbody tr th:only-of-type {\n        vertical-align: middle;\n    }\n\n    .dataframe tbody tr th {\n        vertical-align: top;\n    }\n\n    .dataframe thead th {\n        text-align: right;\n    }\n</style>\n<table border=\"1\" class=\"dataframe\">\n  <thead>\n    <tr style=\"text-align: right;\">\n      <th></th>\n      <th>0</th>\n    </tr>\n  </thead>\n  <tbody>\n    <tr>\n      <th>dst</th>\n      <td>/home/xandao/Imagens/regions_dataset/images/RG...</td>\n    </tr>\n    <tr>\n      <th>color</th>\n      <td>rgb</td>\n    </tr>\n    <tr>\n      <th>image_size</th>\n      <td>256</td>\n    </tr>\n    <tr>\n      <th>minimum_image</th>\n      <td>10</td>\n    </tr>\n    <tr>\n      <th>level_name</th>\n      <td>specific_epithet_trusted</td>\n    </tr>\n    <tr>\n      <th>region</th>\n      <td>Norte</td>\n    </tr>\n    <tr>\n      <th>levels</th>\n      <td>68</td>\n    </tr>\n    <tr>\n      <th>total</th>\n      <td>2352</td>\n    </tr>\n    <tr>\n      <th>average</th>\n      <td>34.59</td>\n    </tr>\n  </tbody>\n</table>\n</div>"
     },
     "metadata": {},
     "output_type": "display_data"
    },
    {
     "name": "stdout",
     "output_type": "stream",
     "text": [
      "region: Norte color: RGB image_size: 256 minimum_image: 20\n",
      "total of levels: 41 total of images: 2016\n"
     ]
    },
    {
     "data": {
      "text/plain": "                                                               0\ndst            /home/xandao/Imagens/regions_dataset/images/RG...\ncolor                                                        rgb\nimage_size                                                   256\nminimum_image                                                 20\nlevel_name                              specific_epithet_trusted\nregion                                                     Norte\nlevels                                                        41\ntotal                                                       2016\naverage                                                    49.17",
      "text/html": "<div>\n<style scoped>\n    .dataframe tbody tr th:only-of-type {\n        vertical-align: middle;\n    }\n\n    .dataframe tbody tr th {\n        vertical-align: top;\n    }\n\n    .dataframe thead th {\n        text-align: right;\n    }\n</style>\n<table border=\"1\" class=\"dataframe\">\n  <thead>\n    <tr style=\"text-align: right;\">\n      <th></th>\n      <th>0</th>\n    </tr>\n  </thead>\n  <tbody>\n    <tr>\n      <th>dst</th>\n      <td>/home/xandao/Imagens/regions_dataset/images/RG...</td>\n    </tr>\n    <tr>\n      <th>color</th>\n      <td>rgb</td>\n    </tr>\n    <tr>\n      <th>image_size</th>\n      <td>256</td>\n    </tr>\n    <tr>\n      <th>minimum_image</th>\n      <td>20</td>\n    </tr>\n    <tr>\n      <th>level_name</th>\n      <td>specific_epithet_trusted</td>\n    </tr>\n    <tr>\n      <th>region</th>\n      <td>Norte</td>\n    </tr>\n    <tr>\n      <th>levels</th>\n      <td>41</td>\n    </tr>\n    <tr>\n      <th>total</th>\n      <td>2016</td>\n    </tr>\n    <tr>\n      <th>average</th>\n      <td>49.17</td>\n    </tr>\n  </tbody>\n</table>\n</div>"
     },
     "metadata": {},
     "output_type": "display_data"
    },
    {
     "name": "stdout",
     "output_type": "stream",
     "text": [
      "region: Norte color: RGB image_size: 400 minimum_image: 5\n",
      "total of levels: 107 total of images: 2636\n"
     ]
    },
    {
     "data": {
      "text/plain": "                                                               0\ndst            /home/xandao/Imagens/regions_dataset/images/RG...\ncolor                                                        rgb\nimage_size                                                   400\nminimum_image                                                  5\nlevel_name                              specific_epithet_trusted\nregion                                                     Norte\nlevels                                                       107\ntotal                                                       2636\naverage                                                    24.64",
      "text/html": "<div>\n<style scoped>\n    .dataframe tbody tr th:only-of-type {\n        vertical-align: middle;\n    }\n\n    .dataframe tbody tr th {\n        vertical-align: top;\n    }\n\n    .dataframe thead th {\n        text-align: right;\n    }\n</style>\n<table border=\"1\" class=\"dataframe\">\n  <thead>\n    <tr style=\"text-align: right;\">\n      <th></th>\n      <th>0</th>\n    </tr>\n  </thead>\n  <tbody>\n    <tr>\n      <th>dst</th>\n      <td>/home/xandao/Imagens/regions_dataset/images/RG...</td>\n    </tr>\n    <tr>\n      <th>color</th>\n      <td>rgb</td>\n    </tr>\n    <tr>\n      <th>image_size</th>\n      <td>400</td>\n    </tr>\n    <tr>\n      <th>minimum_image</th>\n      <td>5</td>\n    </tr>\n    <tr>\n      <th>level_name</th>\n      <td>specific_epithet_trusted</td>\n    </tr>\n    <tr>\n      <th>region</th>\n      <td>Norte</td>\n    </tr>\n    <tr>\n      <th>levels</th>\n      <td>107</td>\n    </tr>\n    <tr>\n      <th>total</th>\n      <td>2636</td>\n    </tr>\n    <tr>\n      <th>average</th>\n      <td>24.64</td>\n    </tr>\n  </tbody>\n</table>\n</div>"
     },
     "metadata": {},
     "output_type": "display_data"
    },
    {
     "name": "stdout",
     "output_type": "stream",
     "text": [
      "region: Norte color: RGB image_size: 400 minimum_image: 10\n",
      "total of levels: 68 total of images: 2352\n"
     ]
    },
    {
     "data": {
      "text/plain": "                                                               0\ndst            /home/xandao/Imagens/regions_dataset/images/RG...\ncolor                                                        rgb\nimage_size                                                   400\nminimum_image                                                 10\nlevel_name                              specific_epithet_trusted\nregion                                                     Norte\nlevels                                                        68\ntotal                                                       2352\naverage                                                    34.59",
      "text/html": "<div>\n<style scoped>\n    .dataframe tbody tr th:only-of-type {\n        vertical-align: middle;\n    }\n\n    .dataframe tbody tr th {\n        vertical-align: top;\n    }\n\n    .dataframe thead th {\n        text-align: right;\n    }\n</style>\n<table border=\"1\" class=\"dataframe\">\n  <thead>\n    <tr style=\"text-align: right;\">\n      <th></th>\n      <th>0</th>\n    </tr>\n  </thead>\n  <tbody>\n    <tr>\n      <th>dst</th>\n      <td>/home/xandao/Imagens/regions_dataset/images/RG...</td>\n    </tr>\n    <tr>\n      <th>color</th>\n      <td>rgb</td>\n    </tr>\n    <tr>\n      <th>image_size</th>\n      <td>400</td>\n    </tr>\n    <tr>\n      <th>minimum_image</th>\n      <td>10</td>\n    </tr>\n    <tr>\n      <th>level_name</th>\n      <td>specific_epithet_trusted</td>\n    </tr>\n    <tr>\n      <th>region</th>\n      <td>Norte</td>\n    </tr>\n    <tr>\n      <th>levels</th>\n      <td>68</td>\n    </tr>\n    <tr>\n      <th>total</th>\n      <td>2352</td>\n    </tr>\n    <tr>\n      <th>average</th>\n      <td>34.59</td>\n    </tr>\n  </tbody>\n</table>\n</div>"
     },
     "metadata": {},
     "output_type": "display_data"
    },
    {
     "name": "stdout",
     "output_type": "stream",
     "text": [
      "region: Norte color: RGB image_size: 400 minimum_image: 20\n",
      "total of levels: 41 total of images: 2016\n"
     ]
    },
    {
     "data": {
      "text/plain": "                                                               0\ndst            /home/xandao/Imagens/regions_dataset/images/RG...\ncolor                                                        rgb\nimage_size                                                   400\nminimum_image                                                 20\nlevel_name                              specific_epithet_trusted\nregion                                                     Norte\nlevels                                                        41\ntotal                                                       2016\naverage                                                    49.17",
      "text/html": "<div>\n<style scoped>\n    .dataframe tbody tr th:only-of-type {\n        vertical-align: middle;\n    }\n\n    .dataframe tbody tr th {\n        vertical-align: top;\n    }\n\n    .dataframe thead th {\n        text-align: right;\n    }\n</style>\n<table border=\"1\" class=\"dataframe\">\n  <thead>\n    <tr style=\"text-align: right;\">\n      <th></th>\n      <th>0</th>\n    </tr>\n  </thead>\n  <tbody>\n    <tr>\n      <th>dst</th>\n      <td>/home/xandao/Imagens/regions_dataset/images/RG...</td>\n    </tr>\n    <tr>\n      <th>color</th>\n      <td>rgb</td>\n    </tr>\n    <tr>\n      <th>image_size</th>\n      <td>400</td>\n    </tr>\n    <tr>\n      <th>minimum_image</th>\n      <td>20</td>\n    </tr>\n    <tr>\n      <th>level_name</th>\n      <td>specific_epithet_trusted</td>\n    </tr>\n    <tr>\n      <th>region</th>\n      <td>Norte</td>\n    </tr>\n    <tr>\n      <th>levels</th>\n      <td>41</td>\n    </tr>\n    <tr>\n      <th>total</th>\n      <td>2016</td>\n    </tr>\n    <tr>\n      <th>average</th>\n      <td>49.17</td>\n    </tr>\n  </tbody>\n</table>\n</div>"
     },
     "metadata": {},
     "output_type": "display_data"
    },
    {
     "name": "stdout",
     "output_type": "stream",
     "text": [
      "region: Norte color: RGB image_size: 512 minimum_image: 5\n",
      "total of levels: 107 total of images: 2636\n"
     ]
    },
    {
     "data": {
      "text/plain": "                                                               0\ndst            /home/xandao/Imagens/regions_dataset/images/RG...\ncolor                                                        rgb\nimage_size                                                   512\nminimum_image                                                  5\nlevel_name                              specific_epithet_trusted\nregion                                                     Norte\nlevels                                                       107\ntotal                                                       2636\naverage                                                    24.64",
      "text/html": "<div>\n<style scoped>\n    .dataframe tbody tr th:only-of-type {\n        vertical-align: middle;\n    }\n\n    .dataframe tbody tr th {\n        vertical-align: top;\n    }\n\n    .dataframe thead th {\n        text-align: right;\n    }\n</style>\n<table border=\"1\" class=\"dataframe\">\n  <thead>\n    <tr style=\"text-align: right;\">\n      <th></th>\n      <th>0</th>\n    </tr>\n  </thead>\n  <tbody>\n    <tr>\n      <th>dst</th>\n      <td>/home/xandao/Imagens/regions_dataset/images/RG...</td>\n    </tr>\n    <tr>\n      <th>color</th>\n      <td>rgb</td>\n    </tr>\n    <tr>\n      <th>image_size</th>\n      <td>512</td>\n    </tr>\n    <tr>\n      <th>minimum_image</th>\n      <td>5</td>\n    </tr>\n    <tr>\n      <th>level_name</th>\n      <td>specific_epithet_trusted</td>\n    </tr>\n    <tr>\n      <th>region</th>\n      <td>Norte</td>\n    </tr>\n    <tr>\n      <th>levels</th>\n      <td>107</td>\n    </tr>\n    <tr>\n      <th>total</th>\n      <td>2636</td>\n    </tr>\n    <tr>\n      <th>average</th>\n      <td>24.64</td>\n    </tr>\n  </tbody>\n</table>\n</div>"
     },
     "metadata": {},
     "output_type": "display_data"
    },
    {
     "name": "stdout",
     "output_type": "stream",
     "text": [
      "region: Norte color: RGB image_size: 512 minimum_image: 10\n",
      "total of levels: 68 total of images: 2352\n"
     ]
    },
    {
     "data": {
      "text/plain": "                                                               0\ndst            /home/xandao/Imagens/regions_dataset/images/RG...\ncolor                                                        rgb\nimage_size                                                   512\nminimum_image                                                 10\nlevel_name                              specific_epithet_trusted\nregion                                                     Norte\nlevels                                                        68\ntotal                                                       2352\naverage                                                    34.59",
      "text/html": "<div>\n<style scoped>\n    .dataframe tbody tr th:only-of-type {\n        vertical-align: middle;\n    }\n\n    .dataframe tbody tr th {\n        vertical-align: top;\n    }\n\n    .dataframe thead th {\n        text-align: right;\n    }\n</style>\n<table border=\"1\" class=\"dataframe\">\n  <thead>\n    <tr style=\"text-align: right;\">\n      <th></th>\n      <th>0</th>\n    </tr>\n  </thead>\n  <tbody>\n    <tr>\n      <th>dst</th>\n      <td>/home/xandao/Imagens/regions_dataset/images/RG...</td>\n    </tr>\n    <tr>\n      <th>color</th>\n      <td>rgb</td>\n    </tr>\n    <tr>\n      <th>image_size</th>\n      <td>512</td>\n    </tr>\n    <tr>\n      <th>minimum_image</th>\n      <td>10</td>\n    </tr>\n    <tr>\n      <th>level_name</th>\n      <td>specific_epithet_trusted</td>\n    </tr>\n    <tr>\n      <th>region</th>\n      <td>Norte</td>\n    </tr>\n    <tr>\n      <th>levels</th>\n      <td>68</td>\n    </tr>\n    <tr>\n      <th>total</th>\n      <td>2352</td>\n    </tr>\n    <tr>\n      <th>average</th>\n      <td>34.59</td>\n    </tr>\n  </tbody>\n</table>\n</div>"
     },
     "metadata": {},
     "output_type": "display_data"
    },
    {
     "name": "stdout",
     "output_type": "stream",
     "text": [
      "region: Norte color: RGB image_size: 512 minimum_image: 20\n",
      "total of levels: 41 total of images: 2016\n"
     ]
    },
    {
     "data": {
      "text/plain": "                                                               0\ndst            /home/xandao/Imagens/regions_dataset/images/RG...\ncolor                                                        rgb\nimage_size                                                   512\nminimum_image                                                 20\nlevel_name                              specific_epithet_trusted\nregion                                                     Norte\nlevels                                                        41\ntotal                                                       2016\naverage                                                    49.17",
      "text/html": "<div>\n<style scoped>\n    .dataframe tbody tr th:only-of-type {\n        vertical-align: middle;\n    }\n\n    .dataframe tbody tr th {\n        vertical-align: top;\n    }\n\n    .dataframe thead th {\n        text-align: right;\n    }\n</style>\n<table border=\"1\" class=\"dataframe\">\n  <thead>\n    <tr style=\"text-align: right;\">\n      <th></th>\n      <th>0</th>\n    </tr>\n  </thead>\n  <tbody>\n    <tr>\n      <th>dst</th>\n      <td>/home/xandao/Imagens/regions_dataset/images/RG...</td>\n    </tr>\n    <tr>\n      <th>color</th>\n      <td>rgb</td>\n    </tr>\n    <tr>\n      <th>image_size</th>\n      <td>512</td>\n    </tr>\n    <tr>\n      <th>minimum_image</th>\n      <td>20</td>\n    </tr>\n    <tr>\n      <th>level_name</th>\n      <td>specific_epithet_trusted</td>\n    </tr>\n    <tr>\n      <th>region</th>\n      <td>Norte</td>\n    </tr>\n    <tr>\n      <th>levels</th>\n      <td>41</td>\n    </tr>\n    <tr>\n      <th>total</th>\n      <td>2016</td>\n    </tr>\n    <tr>\n      <th>average</th>\n      <td>49.17</td>\n    </tr>\n  </tbody>\n</table>\n</div>"
     },
     "metadata": {},
     "output_type": "display_data"
    },
    {
     "name": "stdout",
     "output_type": "stream",
     "text": [
      "region: Nordeste color: RGB image_size: 256 minimum_image: 5\n",
      "total of levels: 48 total of images: 1063\n"
     ]
    },
    {
     "data": {
      "text/plain": "                                                               0\ndst            /home/xandao/Imagens/regions_dataset/images/RG...\ncolor                                                        rgb\nimage_size                                                   256\nminimum_image                                                  5\nlevel_name                              specific_epithet_trusted\nregion                                                  Nordeste\nlevels                                                        48\ntotal                                                       1063\naverage                                                    22.15",
      "text/html": "<div>\n<style scoped>\n    .dataframe tbody tr th:only-of-type {\n        vertical-align: middle;\n    }\n\n    .dataframe tbody tr th {\n        vertical-align: top;\n    }\n\n    .dataframe thead th {\n        text-align: right;\n    }\n</style>\n<table border=\"1\" class=\"dataframe\">\n  <thead>\n    <tr style=\"text-align: right;\">\n      <th></th>\n      <th>0</th>\n    </tr>\n  </thead>\n  <tbody>\n    <tr>\n      <th>dst</th>\n      <td>/home/xandao/Imagens/regions_dataset/images/RG...</td>\n    </tr>\n    <tr>\n      <th>color</th>\n      <td>rgb</td>\n    </tr>\n    <tr>\n      <th>image_size</th>\n      <td>256</td>\n    </tr>\n    <tr>\n      <th>minimum_image</th>\n      <td>5</td>\n    </tr>\n    <tr>\n      <th>level_name</th>\n      <td>specific_epithet_trusted</td>\n    </tr>\n    <tr>\n      <th>region</th>\n      <td>Nordeste</td>\n    </tr>\n    <tr>\n      <th>levels</th>\n      <td>48</td>\n    </tr>\n    <tr>\n      <th>total</th>\n      <td>1063</td>\n    </tr>\n    <tr>\n      <th>average</th>\n      <td>22.15</td>\n    </tr>\n  </tbody>\n</table>\n</div>"
     },
     "metadata": {},
     "output_type": "display_data"
    },
    {
     "name": "stdout",
     "output_type": "stream",
     "text": [
      "region: Nordeste color: RGB image_size: 256 minimum_image: 10\n",
      "total of levels: 35 total of images: 974\n"
     ]
    },
    {
     "data": {
      "text/plain": "                                                               0\ndst            /home/xandao/Imagens/regions_dataset/images/RG...\ncolor                                                        rgb\nimage_size                                                   256\nminimum_image                                                 10\nlevel_name                              specific_epithet_trusted\nregion                                                  Nordeste\nlevels                                                        35\ntotal                                                        974\naverage                                                    27.83",
      "text/html": "<div>\n<style scoped>\n    .dataframe tbody tr th:only-of-type {\n        vertical-align: middle;\n    }\n\n    .dataframe tbody tr th {\n        vertical-align: top;\n    }\n\n    .dataframe thead th {\n        text-align: right;\n    }\n</style>\n<table border=\"1\" class=\"dataframe\">\n  <thead>\n    <tr style=\"text-align: right;\">\n      <th></th>\n      <th>0</th>\n    </tr>\n  </thead>\n  <tbody>\n    <tr>\n      <th>dst</th>\n      <td>/home/xandao/Imagens/regions_dataset/images/RG...</td>\n    </tr>\n    <tr>\n      <th>color</th>\n      <td>rgb</td>\n    </tr>\n    <tr>\n      <th>image_size</th>\n      <td>256</td>\n    </tr>\n    <tr>\n      <th>minimum_image</th>\n      <td>10</td>\n    </tr>\n    <tr>\n      <th>level_name</th>\n      <td>specific_epithet_trusted</td>\n    </tr>\n    <tr>\n      <th>region</th>\n      <td>Nordeste</td>\n    </tr>\n    <tr>\n      <th>levels</th>\n      <td>35</td>\n    </tr>\n    <tr>\n      <th>total</th>\n      <td>974</td>\n    </tr>\n    <tr>\n      <th>average</th>\n      <td>27.83</td>\n    </tr>\n  </tbody>\n</table>\n</div>"
     },
     "metadata": {},
     "output_type": "display_data"
    },
    {
     "name": "stdout",
     "output_type": "stream",
     "text": [
      "region: Nordeste color: RGB image_size: 256 minimum_image: 20\n",
      "total of levels: 21 total of images: 776\n"
     ]
    },
    {
     "data": {
      "text/plain": "                                                               0\ndst            /home/xandao/Imagens/regions_dataset/images/RG...\ncolor                                                        rgb\nimage_size                                                   256\nminimum_image                                                 20\nlevel_name                              specific_epithet_trusted\nregion                                                  Nordeste\nlevels                                                        21\ntotal                                                        776\naverage                                                    36.95",
      "text/html": "<div>\n<style scoped>\n    .dataframe tbody tr th:only-of-type {\n        vertical-align: middle;\n    }\n\n    .dataframe tbody tr th {\n        vertical-align: top;\n    }\n\n    .dataframe thead th {\n        text-align: right;\n    }\n</style>\n<table border=\"1\" class=\"dataframe\">\n  <thead>\n    <tr style=\"text-align: right;\">\n      <th></th>\n      <th>0</th>\n    </tr>\n  </thead>\n  <tbody>\n    <tr>\n      <th>dst</th>\n      <td>/home/xandao/Imagens/regions_dataset/images/RG...</td>\n    </tr>\n    <tr>\n      <th>color</th>\n      <td>rgb</td>\n    </tr>\n    <tr>\n      <th>image_size</th>\n      <td>256</td>\n    </tr>\n    <tr>\n      <th>minimum_image</th>\n      <td>20</td>\n    </tr>\n    <tr>\n      <th>level_name</th>\n      <td>specific_epithet_trusted</td>\n    </tr>\n    <tr>\n      <th>region</th>\n      <td>Nordeste</td>\n    </tr>\n    <tr>\n      <th>levels</th>\n      <td>21</td>\n    </tr>\n    <tr>\n      <th>total</th>\n      <td>776</td>\n    </tr>\n    <tr>\n      <th>average</th>\n      <td>36.95</td>\n    </tr>\n  </tbody>\n</table>\n</div>"
     },
     "metadata": {},
     "output_type": "display_data"
    },
    {
     "name": "stdout",
     "output_type": "stream",
     "text": [
      "region: Nordeste color: RGB image_size: 400 minimum_image: 5\n",
      "total of levels: 48 total of images: 1063\n"
     ]
    },
    {
     "data": {
      "text/plain": "                                                               0\ndst            /home/xandao/Imagens/regions_dataset/images/RG...\ncolor                                                        rgb\nimage_size                                                   400\nminimum_image                                                  5\nlevel_name                              specific_epithet_trusted\nregion                                                  Nordeste\nlevels                                                        48\ntotal                                                       1063\naverage                                                    22.15",
      "text/html": "<div>\n<style scoped>\n    .dataframe tbody tr th:only-of-type {\n        vertical-align: middle;\n    }\n\n    .dataframe tbody tr th {\n        vertical-align: top;\n    }\n\n    .dataframe thead th {\n        text-align: right;\n    }\n</style>\n<table border=\"1\" class=\"dataframe\">\n  <thead>\n    <tr style=\"text-align: right;\">\n      <th></th>\n      <th>0</th>\n    </tr>\n  </thead>\n  <tbody>\n    <tr>\n      <th>dst</th>\n      <td>/home/xandao/Imagens/regions_dataset/images/RG...</td>\n    </tr>\n    <tr>\n      <th>color</th>\n      <td>rgb</td>\n    </tr>\n    <tr>\n      <th>image_size</th>\n      <td>400</td>\n    </tr>\n    <tr>\n      <th>minimum_image</th>\n      <td>5</td>\n    </tr>\n    <tr>\n      <th>level_name</th>\n      <td>specific_epithet_trusted</td>\n    </tr>\n    <tr>\n      <th>region</th>\n      <td>Nordeste</td>\n    </tr>\n    <tr>\n      <th>levels</th>\n      <td>48</td>\n    </tr>\n    <tr>\n      <th>total</th>\n      <td>1063</td>\n    </tr>\n    <tr>\n      <th>average</th>\n      <td>22.15</td>\n    </tr>\n  </tbody>\n</table>\n</div>"
     },
     "metadata": {},
     "output_type": "display_data"
    },
    {
     "name": "stdout",
     "output_type": "stream",
     "text": [
      "region: Nordeste color: RGB image_size: 400 minimum_image: 10\n",
      "total of levels: 35 total of images: 974\n"
     ]
    },
    {
     "data": {
      "text/plain": "                                                               0\ndst            /home/xandao/Imagens/regions_dataset/images/RG...\ncolor                                                        rgb\nimage_size                                                   400\nminimum_image                                                 10\nlevel_name                              specific_epithet_trusted\nregion                                                  Nordeste\nlevels                                                        35\ntotal                                                        974\naverage                                                    27.83",
      "text/html": "<div>\n<style scoped>\n    .dataframe tbody tr th:only-of-type {\n        vertical-align: middle;\n    }\n\n    .dataframe tbody tr th {\n        vertical-align: top;\n    }\n\n    .dataframe thead th {\n        text-align: right;\n    }\n</style>\n<table border=\"1\" class=\"dataframe\">\n  <thead>\n    <tr style=\"text-align: right;\">\n      <th></th>\n      <th>0</th>\n    </tr>\n  </thead>\n  <tbody>\n    <tr>\n      <th>dst</th>\n      <td>/home/xandao/Imagens/regions_dataset/images/RG...</td>\n    </tr>\n    <tr>\n      <th>color</th>\n      <td>rgb</td>\n    </tr>\n    <tr>\n      <th>image_size</th>\n      <td>400</td>\n    </tr>\n    <tr>\n      <th>minimum_image</th>\n      <td>10</td>\n    </tr>\n    <tr>\n      <th>level_name</th>\n      <td>specific_epithet_trusted</td>\n    </tr>\n    <tr>\n      <th>region</th>\n      <td>Nordeste</td>\n    </tr>\n    <tr>\n      <th>levels</th>\n      <td>35</td>\n    </tr>\n    <tr>\n      <th>total</th>\n      <td>974</td>\n    </tr>\n    <tr>\n      <th>average</th>\n      <td>27.83</td>\n    </tr>\n  </tbody>\n</table>\n</div>"
     },
     "metadata": {},
     "output_type": "display_data"
    },
    {
     "name": "stdout",
     "output_type": "stream",
     "text": [
      "region: Nordeste color: RGB image_size: 400 minimum_image: 20\n",
      "total of levels: 21 total of images: 776\n"
     ]
    },
    {
     "data": {
      "text/plain": "                                                               0\ndst            /home/xandao/Imagens/regions_dataset/images/RG...\ncolor                                                        rgb\nimage_size                                                   400\nminimum_image                                                 20\nlevel_name                              specific_epithet_trusted\nregion                                                  Nordeste\nlevels                                                        21\ntotal                                                        776\naverage                                                    36.95",
      "text/html": "<div>\n<style scoped>\n    .dataframe tbody tr th:only-of-type {\n        vertical-align: middle;\n    }\n\n    .dataframe tbody tr th {\n        vertical-align: top;\n    }\n\n    .dataframe thead th {\n        text-align: right;\n    }\n</style>\n<table border=\"1\" class=\"dataframe\">\n  <thead>\n    <tr style=\"text-align: right;\">\n      <th></th>\n      <th>0</th>\n    </tr>\n  </thead>\n  <tbody>\n    <tr>\n      <th>dst</th>\n      <td>/home/xandao/Imagens/regions_dataset/images/RG...</td>\n    </tr>\n    <tr>\n      <th>color</th>\n      <td>rgb</td>\n    </tr>\n    <tr>\n      <th>image_size</th>\n      <td>400</td>\n    </tr>\n    <tr>\n      <th>minimum_image</th>\n      <td>20</td>\n    </tr>\n    <tr>\n      <th>level_name</th>\n      <td>specific_epithet_trusted</td>\n    </tr>\n    <tr>\n      <th>region</th>\n      <td>Nordeste</td>\n    </tr>\n    <tr>\n      <th>levels</th>\n      <td>21</td>\n    </tr>\n    <tr>\n      <th>total</th>\n      <td>776</td>\n    </tr>\n    <tr>\n      <th>average</th>\n      <td>36.95</td>\n    </tr>\n  </tbody>\n</table>\n</div>"
     },
     "metadata": {},
     "output_type": "display_data"
    },
    {
     "name": "stdout",
     "output_type": "stream",
     "text": [
      "region: Nordeste color: RGB image_size: 512 minimum_image: 5\n",
      "total of levels: 48 total of images: 1063\n"
     ]
    },
    {
     "data": {
      "text/plain": "                                                               0\ndst            /home/xandao/Imagens/regions_dataset/images/RG...\ncolor                                                        rgb\nimage_size                                                   512\nminimum_image                                                  5\nlevel_name                              specific_epithet_trusted\nregion                                                  Nordeste\nlevels                                                        48\ntotal                                                       1063\naverage                                                    22.15",
      "text/html": "<div>\n<style scoped>\n    .dataframe tbody tr th:only-of-type {\n        vertical-align: middle;\n    }\n\n    .dataframe tbody tr th {\n        vertical-align: top;\n    }\n\n    .dataframe thead th {\n        text-align: right;\n    }\n</style>\n<table border=\"1\" class=\"dataframe\">\n  <thead>\n    <tr style=\"text-align: right;\">\n      <th></th>\n      <th>0</th>\n    </tr>\n  </thead>\n  <tbody>\n    <tr>\n      <th>dst</th>\n      <td>/home/xandao/Imagens/regions_dataset/images/RG...</td>\n    </tr>\n    <tr>\n      <th>color</th>\n      <td>rgb</td>\n    </tr>\n    <tr>\n      <th>image_size</th>\n      <td>512</td>\n    </tr>\n    <tr>\n      <th>minimum_image</th>\n      <td>5</td>\n    </tr>\n    <tr>\n      <th>level_name</th>\n      <td>specific_epithet_trusted</td>\n    </tr>\n    <tr>\n      <th>region</th>\n      <td>Nordeste</td>\n    </tr>\n    <tr>\n      <th>levels</th>\n      <td>48</td>\n    </tr>\n    <tr>\n      <th>total</th>\n      <td>1063</td>\n    </tr>\n    <tr>\n      <th>average</th>\n      <td>22.15</td>\n    </tr>\n  </tbody>\n</table>\n</div>"
     },
     "metadata": {},
     "output_type": "display_data"
    },
    {
     "name": "stdout",
     "output_type": "stream",
     "text": [
      "region: Nordeste color: RGB image_size: 512 minimum_image: 10\n",
      "total of levels: 35 total of images: 974\n"
     ]
    },
    {
     "data": {
      "text/plain": "                                                               0\ndst            /home/xandao/Imagens/regions_dataset/images/RG...\ncolor                                                        rgb\nimage_size                                                   512\nminimum_image                                                 10\nlevel_name                              specific_epithet_trusted\nregion                                                  Nordeste\nlevels                                                        35\ntotal                                                        974\naverage                                                    27.83",
      "text/html": "<div>\n<style scoped>\n    .dataframe tbody tr th:only-of-type {\n        vertical-align: middle;\n    }\n\n    .dataframe tbody tr th {\n        vertical-align: top;\n    }\n\n    .dataframe thead th {\n        text-align: right;\n    }\n</style>\n<table border=\"1\" class=\"dataframe\">\n  <thead>\n    <tr style=\"text-align: right;\">\n      <th></th>\n      <th>0</th>\n    </tr>\n  </thead>\n  <tbody>\n    <tr>\n      <th>dst</th>\n      <td>/home/xandao/Imagens/regions_dataset/images/RG...</td>\n    </tr>\n    <tr>\n      <th>color</th>\n      <td>rgb</td>\n    </tr>\n    <tr>\n      <th>image_size</th>\n      <td>512</td>\n    </tr>\n    <tr>\n      <th>minimum_image</th>\n      <td>10</td>\n    </tr>\n    <tr>\n      <th>level_name</th>\n      <td>specific_epithet_trusted</td>\n    </tr>\n    <tr>\n      <th>region</th>\n      <td>Nordeste</td>\n    </tr>\n    <tr>\n      <th>levels</th>\n      <td>35</td>\n    </tr>\n    <tr>\n      <th>total</th>\n      <td>974</td>\n    </tr>\n    <tr>\n      <th>average</th>\n      <td>27.83</td>\n    </tr>\n  </tbody>\n</table>\n</div>"
     },
     "metadata": {},
     "output_type": "display_data"
    },
    {
     "name": "stdout",
     "output_type": "stream",
     "text": [
      "region: Nordeste color: RGB image_size: 512 minimum_image: 20\n",
      "total of levels: 21 total of images: 776\n"
     ]
    },
    {
     "data": {
      "text/plain": "                                                               0\ndst            /home/xandao/Imagens/regions_dataset/images/RG...\ncolor                                                        rgb\nimage_size                                                   512\nminimum_image                                                 20\nlevel_name                              specific_epithet_trusted\nregion                                                  Nordeste\nlevels                                                        21\ntotal                                                        776\naverage                                                    36.95",
      "text/html": "<div>\n<style scoped>\n    .dataframe tbody tr th:only-of-type {\n        vertical-align: middle;\n    }\n\n    .dataframe tbody tr th {\n        vertical-align: top;\n    }\n\n    .dataframe thead th {\n        text-align: right;\n    }\n</style>\n<table border=\"1\" class=\"dataframe\">\n  <thead>\n    <tr style=\"text-align: right;\">\n      <th></th>\n      <th>0</th>\n    </tr>\n  </thead>\n  <tbody>\n    <tr>\n      <th>dst</th>\n      <td>/home/xandao/Imagens/regions_dataset/images/RG...</td>\n    </tr>\n    <tr>\n      <th>color</th>\n      <td>rgb</td>\n    </tr>\n    <tr>\n      <th>image_size</th>\n      <td>512</td>\n    </tr>\n    <tr>\n      <th>minimum_image</th>\n      <td>20</td>\n    </tr>\n    <tr>\n      <th>level_name</th>\n      <td>specific_epithet_trusted</td>\n    </tr>\n    <tr>\n      <th>region</th>\n      <td>Nordeste</td>\n    </tr>\n    <tr>\n      <th>levels</th>\n      <td>21</td>\n    </tr>\n    <tr>\n      <th>total</th>\n      <td>776</td>\n    </tr>\n    <tr>\n      <th>average</th>\n      <td>36.95</td>\n    </tr>\n  </tbody>\n</table>\n</div>"
     },
     "metadata": {},
     "output_type": "display_data"
    },
    {
     "name": "stdout",
     "output_type": "stream",
     "text": [
      "region: Centro-Oeste color: RGB image_size: 256 minimum_image: 5\n",
      "total of levels: 42 total of images: 1137\n"
     ]
    },
    {
     "data": {
      "text/plain": "                                                               0\ndst            /home/xandao/Imagens/regions_dataset/images/RG...\ncolor                                                        rgb\nimage_size                                                   256\nminimum_image                                                  5\nlevel_name                              specific_epithet_trusted\nregion                                              Centro-Oeste\nlevels                                                        42\ntotal                                                       1137\naverage                                                    27.07",
      "text/html": "<div>\n<style scoped>\n    .dataframe tbody tr th:only-of-type {\n        vertical-align: middle;\n    }\n\n    .dataframe tbody tr th {\n        vertical-align: top;\n    }\n\n    .dataframe thead th {\n        text-align: right;\n    }\n</style>\n<table border=\"1\" class=\"dataframe\">\n  <thead>\n    <tr style=\"text-align: right;\">\n      <th></th>\n      <th>0</th>\n    </tr>\n  </thead>\n  <tbody>\n    <tr>\n      <th>dst</th>\n      <td>/home/xandao/Imagens/regions_dataset/images/RG...</td>\n    </tr>\n    <tr>\n      <th>color</th>\n      <td>rgb</td>\n    </tr>\n    <tr>\n      <th>image_size</th>\n      <td>256</td>\n    </tr>\n    <tr>\n      <th>minimum_image</th>\n      <td>5</td>\n    </tr>\n    <tr>\n      <th>level_name</th>\n      <td>specific_epithet_trusted</td>\n    </tr>\n    <tr>\n      <th>region</th>\n      <td>Centro-Oeste</td>\n    </tr>\n    <tr>\n      <th>levels</th>\n      <td>42</td>\n    </tr>\n    <tr>\n      <th>total</th>\n      <td>1137</td>\n    </tr>\n    <tr>\n      <th>average</th>\n      <td>27.07</td>\n    </tr>\n  </tbody>\n</table>\n</div>"
     },
     "metadata": {},
     "output_type": "display_data"
    },
    {
     "name": "stdout",
     "output_type": "stream",
     "text": [
      "region: Centro-Oeste color: RGB image_size: 256 minimum_image: 10\n",
      "total of levels: 29 total of images: 1045\n"
     ]
    },
    {
     "data": {
      "text/plain": "                                                               0\ndst            /home/xandao/Imagens/regions_dataset/images/RG...\ncolor                                                        rgb\nimage_size                                                   256\nminimum_image                                                 10\nlevel_name                              specific_epithet_trusted\nregion                                              Centro-Oeste\nlevels                                                        29\ntotal                                                       1045\naverage                                                    36.03",
      "text/html": "<div>\n<style scoped>\n    .dataframe tbody tr th:only-of-type {\n        vertical-align: middle;\n    }\n\n    .dataframe tbody tr th {\n        vertical-align: top;\n    }\n\n    .dataframe thead th {\n        text-align: right;\n    }\n</style>\n<table border=\"1\" class=\"dataframe\">\n  <thead>\n    <tr style=\"text-align: right;\">\n      <th></th>\n      <th>0</th>\n    </tr>\n  </thead>\n  <tbody>\n    <tr>\n      <th>dst</th>\n      <td>/home/xandao/Imagens/regions_dataset/images/RG...</td>\n    </tr>\n    <tr>\n      <th>color</th>\n      <td>rgb</td>\n    </tr>\n    <tr>\n      <th>image_size</th>\n      <td>256</td>\n    </tr>\n    <tr>\n      <th>minimum_image</th>\n      <td>10</td>\n    </tr>\n    <tr>\n      <th>level_name</th>\n      <td>specific_epithet_trusted</td>\n    </tr>\n    <tr>\n      <th>region</th>\n      <td>Centro-Oeste</td>\n    </tr>\n    <tr>\n      <th>levels</th>\n      <td>29</td>\n    </tr>\n    <tr>\n      <th>total</th>\n      <td>1045</td>\n    </tr>\n    <tr>\n      <th>average</th>\n      <td>36.03</td>\n    </tr>\n  </tbody>\n</table>\n</div>"
     },
     "metadata": {},
     "output_type": "display_data"
    },
    {
     "name": "stdout",
     "output_type": "stream",
     "text": [
      "region: Centro-Oeste color: RGB image_size: 256 minimum_image: 20\n",
      "total of levels: 17 total of images: 888\n"
     ]
    },
    {
     "data": {
      "text/plain": "                                                               0\ndst            /home/xandao/Imagens/regions_dataset/images/RG...\ncolor                                                        rgb\nimage_size                                                   256\nminimum_image                                                 20\nlevel_name                              specific_epithet_trusted\nregion                                              Centro-Oeste\nlevels                                                        17\ntotal                                                        888\naverage                                                    52.24",
      "text/html": "<div>\n<style scoped>\n    .dataframe tbody tr th:only-of-type {\n        vertical-align: middle;\n    }\n\n    .dataframe tbody tr th {\n        vertical-align: top;\n    }\n\n    .dataframe thead th {\n        text-align: right;\n    }\n</style>\n<table border=\"1\" class=\"dataframe\">\n  <thead>\n    <tr style=\"text-align: right;\">\n      <th></th>\n      <th>0</th>\n    </tr>\n  </thead>\n  <tbody>\n    <tr>\n      <th>dst</th>\n      <td>/home/xandao/Imagens/regions_dataset/images/RG...</td>\n    </tr>\n    <tr>\n      <th>color</th>\n      <td>rgb</td>\n    </tr>\n    <tr>\n      <th>image_size</th>\n      <td>256</td>\n    </tr>\n    <tr>\n      <th>minimum_image</th>\n      <td>20</td>\n    </tr>\n    <tr>\n      <th>level_name</th>\n      <td>specific_epithet_trusted</td>\n    </tr>\n    <tr>\n      <th>region</th>\n      <td>Centro-Oeste</td>\n    </tr>\n    <tr>\n      <th>levels</th>\n      <td>17</td>\n    </tr>\n    <tr>\n      <th>total</th>\n      <td>888</td>\n    </tr>\n    <tr>\n      <th>average</th>\n      <td>52.24</td>\n    </tr>\n  </tbody>\n</table>\n</div>"
     },
     "metadata": {},
     "output_type": "display_data"
    },
    {
     "name": "stdout",
     "output_type": "stream",
     "text": [
      "region: Centro-Oeste color: RGB image_size: 400 minimum_image: 5\n",
      "total of levels: 42 total of images: 1137\n"
     ]
    },
    {
     "data": {
      "text/plain": "                                                               0\ndst            /home/xandao/Imagens/regions_dataset/images/RG...\ncolor                                                        rgb\nimage_size                                                   400\nminimum_image                                                  5\nlevel_name                              specific_epithet_trusted\nregion                                              Centro-Oeste\nlevels                                                        42\ntotal                                                       1137\naverage                                                    27.07",
      "text/html": "<div>\n<style scoped>\n    .dataframe tbody tr th:only-of-type {\n        vertical-align: middle;\n    }\n\n    .dataframe tbody tr th {\n        vertical-align: top;\n    }\n\n    .dataframe thead th {\n        text-align: right;\n    }\n</style>\n<table border=\"1\" class=\"dataframe\">\n  <thead>\n    <tr style=\"text-align: right;\">\n      <th></th>\n      <th>0</th>\n    </tr>\n  </thead>\n  <tbody>\n    <tr>\n      <th>dst</th>\n      <td>/home/xandao/Imagens/regions_dataset/images/RG...</td>\n    </tr>\n    <tr>\n      <th>color</th>\n      <td>rgb</td>\n    </tr>\n    <tr>\n      <th>image_size</th>\n      <td>400</td>\n    </tr>\n    <tr>\n      <th>minimum_image</th>\n      <td>5</td>\n    </tr>\n    <tr>\n      <th>level_name</th>\n      <td>specific_epithet_trusted</td>\n    </tr>\n    <tr>\n      <th>region</th>\n      <td>Centro-Oeste</td>\n    </tr>\n    <tr>\n      <th>levels</th>\n      <td>42</td>\n    </tr>\n    <tr>\n      <th>total</th>\n      <td>1137</td>\n    </tr>\n    <tr>\n      <th>average</th>\n      <td>27.07</td>\n    </tr>\n  </tbody>\n</table>\n</div>"
     },
     "metadata": {},
     "output_type": "display_data"
    },
    {
     "name": "stdout",
     "output_type": "stream",
     "text": [
      "region: Centro-Oeste color: RGB image_size: 400 minimum_image: 10\n",
      "total of levels: 29 total of images: 1045\n"
     ]
    },
    {
     "data": {
      "text/plain": "                                                               0\ndst            /home/xandao/Imagens/regions_dataset/images/RG...\ncolor                                                        rgb\nimage_size                                                   400\nminimum_image                                                 10\nlevel_name                              specific_epithet_trusted\nregion                                              Centro-Oeste\nlevels                                                        29\ntotal                                                       1045\naverage                                                    36.03",
      "text/html": "<div>\n<style scoped>\n    .dataframe tbody tr th:only-of-type {\n        vertical-align: middle;\n    }\n\n    .dataframe tbody tr th {\n        vertical-align: top;\n    }\n\n    .dataframe thead th {\n        text-align: right;\n    }\n</style>\n<table border=\"1\" class=\"dataframe\">\n  <thead>\n    <tr style=\"text-align: right;\">\n      <th></th>\n      <th>0</th>\n    </tr>\n  </thead>\n  <tbody>\n    <tr>\n      <th>dst</th>\n      <td>/home/xandao/Imagens/regions_dataset/images/RG...</td>\n    </tr>\n    <tr>\n      <th>color</th>\n      <td>rgb</td>\n    </tr>\n    <tr>\n      <th>image_size</th>\n      <td>400</td>\n    </tr>\n    <tr>\n      <th>minimum_image</th>\n      <td>10</td>\n    </tr>\n    <tr>\n      <th>level_name</th>\n      <td>specific_epithet_trusted</td>\n    </tr>\n    <tr>\n      <th>region</th>\n      <td>Centro-Oeste</td>\n    </tr>\n    <tr>\n      <th>levels</th>\n      <td>29</td>\n    </tr>\n    <tr>\n      <th>total</th>\n      <td>1045</td>\n    </tr>\n    <tr>\n      <th>average</th>\n      <td>36.03</td>\n    </tr>\n  </tbody>\n</table>\n</div>"
     },
     "metadata": {},
     "output_type": "display_data"
    },
    {
     "name": "stdout",
     "output_type": "stream",
     "text": [
      "region: Centro-Oeste color: RGB image_size: 400 minimum_image: 20\n",
      "total of levels: 17 total of images: 888\n"
     ]
    },
    {
     "data": {
      "text/plain": "                                                               0\ndst            /home/xandao/Imagens/regions_dataset/images/RG...\ncolor                                                        rgb\nimage_size                                                   400\nminimum_image                                                 20\nlevel_name                              specific_epithet_trusted\nregion                                              Centro-Oeste\nlevels                                                        17\ntotal                                                        888\naverage                                                    52.24",
      "text/html": "<div>\n<style scoped>\n    .dataframe tbody tr th:only-of-type {\n        vertical-align: middle;\n    }\n\n    .dataframe tbody tr th {\n        vertical-align: top;\n    }\n\n    .dataframe thead th {\n        text-align: right;\n    }\n</style>\n<table border=\"1\" class=\"dataframe\">\n  <thead>\n    <tr style=\"text-align: right;\">\n      <th></th>\n      <th>0</th>\n    </tr>\n  </thead>\n  <tbody>\n    <tr>\n      <th>dst</th>\n      <td>/home/xandao/Imagens/regions_dataset/images/RG...</td>\n    </tr>\n    <tr>\n      <th>color</th>\n      <td>rgb</td>\n    </tr>\n    <tr>\n      <th>image_size</th>\n      <td>400</td>\n    </tr>\n    <tr>\n      <th>minimum_image</th>\n      <td>20</td>\n    </tr>\n    <tr>\n      <th>level_name</th>\n      <td>specific_epithet_trusted</td>\n    </tr>\n    <tr>\n      <th>region</th>\n      <td>Centro-Oeste</td>\n    </tr>\n    <tr>\n      <th>levels</th>\n      <td>17</td>\n    </tr>\n    <tr>\n      <th>total</th>\n      <td>888</td>\n    </tr>\n    <tr>\n      <th>average</th>\n      <td>52.24</td>\n    </tr>\n  </tbody>\n</table>\n</div>"
     },
     "metadata": {},
     "output_type": "display_data"
    },
    {
     "name": "stdout",
     "output_type": "stream",
     "text": [
      "region: Centro-Oeste color: RGB image_size: 512 minimum_image: 5\n",
      "total of levels: 42 total of images: 1137\n"
     ]
    },
    {
     "data": {
      "text/plain": "                                                               0\ndst            /home/xandao/Imagens/regions_dataset/images/RG...\ncolor                                                        rgb\nimage_size                                                   512\nminimum_image                                                  5\nlevel_name                              specific_epithet_trusted\nregion                                              Centro-Oeste\nlevels                                                        42\ntotal                                                       1137\naverage                                                    27.07",
      "text/html": "<div>\n<style scoped>\n    .dataframe tbody tr th:only-of-type {\n        vertical-align: middle;\n    }\n\n    .dataframe tbody tr th {\n        vertical-align: top;\n    }\n\n    .dataframe thead th {\n        text-align: right;\n    }\n</style>\n<table border=\"1\" class=\"dataframe\">\n  <thead>\n    <tr style=\"text-align: right;\">\n      <th></th>\n      <th>0</th>\n    </tr>\n  </thead>\n  <tbody>\n    <tr>\n      <th>dst</th>\n      <td>/home/xandao/Imagens/regions_dataset/images/RG...</td>\n    </tr>\n    <tr>\n      <th>color</th>\n      <td>rgb</td>\n    </tr>\n    <tr>\n      <th>image_size</th>\n      <td>512</td>\n    </tr>\n    <tr>\n      <th>minimum_image</th>\n      <td>5</td>\n    </tr>\n    <tr>\n      <th>level_name</th>\n      <td>specific_epithet_trusted</td>\n    </tr>\n    <tr>\n      <th>region</th>\n      <td>Centro-Oeste</td>\n    </tr>\n    <tr>\n      <th>levels</th>\n      <td>42</td>\n    </tr>\n    <tr>\n      <th>total</th>\n      <td>1137</td>\n    </tr>\n    <tr>\n      <th>average</th>\n      <td>27.07</td>\n    </tr>\n  </tbody>\n</table>\n</div>"
     },
     "metadata": {},
     "output_type": "display_data"
    },
    {
     "name": "stdout",
     "output_type": "stream",
     "text": [
      "region: Centro-Oeste color: RGB image_size: 512 minimum_image: 10\n",
      "total of levels: 29 total of images: 1045\n"
     ]
    },
    {
     "data": {
      "text/plain": "                                                               0\ndst            /home/xandao/Imagens/regions_dataset/images/RG...\ncolor                                                        rgb\nimage_size                                                   512\nminimum_image                                                 10\nlevel_name                              specific_epithet_trusted\nregion                                              Centro-Oeste\nlevels                                                        29\ntotal                                                       1045\naverage                                                    36.03",
      "text/html": "<div>\n<style scoped>\n    .dataframe tbody tr th:only-of-type {\n        vertical-align: middle;\n    }\n\n    .dataframe tbody tr th {\n        vertical-align: top;\n    }\n\n    .dataframe thead th {\n        text-align: right;\n    }\n</style>\n<table border=\"1\" class=\"dataframe\">\n  <thead>\n    <tr style=\"text-align: right;\">\n      <th></th>\n      <th>0</th>\n    </tr>\n  </thead>\n  <tbody>\n    <tr>\n      <th>dst</th>\n      <td>/home/xandao/Imagens/regions_dataset/images/RG...</td>\n    </tr>\n    <tr>\n      <th>color</th>\n      <td>rgb</td>\n    </tr>\n    <tr>\n      <th>image_size</th>\n      <td>512</td>\n    </tr>\n    <tr>\n      <th>minimum_image</th>\n      <td>10</td>\n    </tr>\n    <tr>\n      <th>level_name</th>\n      <td>specific_epithet_trusted</td>\n    </tr>\n    <tr>\n      <th>region</th>\n      <td>Centro-Oeste</td>\n    </tr>\n    <tr>\n      <th>levels</th>\n      <td>29</td>\n    </tr>\n    <tr>\n      <th>total</th>\n      <td>1045</td>\n    </tr>\n    <tr>\n      <th>average</th>\n      <td>36.03</td>\n    </tr>\n  </tbody>\n</table>\n</div>"
     },
     "metadata": {},
     "output_type": "display_data"
    },
    {
     "name": "stdout",
     "output_type": "stream",
     "text": [
      "region: Centro-Oeste color: RGB image_size: 512 minimum_image: 20\n",
      "total of levels: 17 total of images: 888\n"
     ]
    },
    {
     "data": {
      "text/plain": "                                                               0\ndst            /home/xandao/Imagens/regions_dataset/images/RG...\ncolor                                                        rgb\nimage_size                                                   512\nminimum_image                                                 20\nlevel_name                              specific_epithet_trusted\nregion                                              Centro-Oeste\nlevels                                                        17\ntotal                                                        888\naverage                                                    52.24",
      "text/html": "<div>\n<style scoped>\n    .dataframe tbody tr th:only-of-type {\n        vertical-align: middle;\n    }\n\n    .dataframe tbody tr th {\n        vertical-align: top;\n    }\n\n    .dataframe thead th {\n        text-align: right;\n    }\n</style>\n<table border=\"1\" class=\"dataframe\">\n  <thead>\n    <tr style=\"text-align: right;\">\n      <th></th>\n      <th>0</th>\n    </tr>\n  </thead>\n  <tbody>\n    <tr>\n      <th>dst</th>\n      <td>/home/xandao/Imagens/regions_dataset/images/RG...</td>\n    </tr>\n    <tr>\n      <th>color</th>\n      <td>rgb</td>\n    </tr>\n    <tr>\n      <th>image_size</th>\n      <td>512</td>\n    </tr>\n    <tr>\n      <th>minimum_image</th>\n      <td>20</td>\n    </tr>\n    <tr>\n      <th>level_name</th>\n      <td>specific_epithet_trusted</td>\n    </tr>\n    <tr>\n      <th>region</th>\n      <td>Centro-Oeste</td>\n    </tr>\n    <tr>\n      <th>levels</th>\n      <td>17</td>\n    </tr>\n    <tr>\n      <th>total</th>\n      <td>888</td>\n    </tr>\n    <tr>\n      <th>average</th>\n      <td>52.24</td>\n    </tr>\n  </tbody>\n</table>\n</div>"
     },
     "metadata": {},
     "output_type": "display_data"
    },
    {
     "name": "stdout",
     "output_type": "stream",
     "text": [
      "region: Sul color: RGB image_size: 256 minimum_image: 5\n",
      "total of levels: 72 total of images: 2459\n"
     ]
    },
    {
     "data": {
      "text/plain": "                                                               0\ndst            /home/xandao/Imagens/regions_dataset/images/RG...\ncolor                                                        rgb\nimage_size                                                   256\nminimum_image                                                  5\nlevel_name                              specific_epithet_trusted\nregion                                                       Sul\nlevels                                                        72\ntotal                                                       2459\naverage                                                    34.15",
      "text/html": "<div>\n<style scoped>\n    .dataframe tbody tr th:only-of-type {\n        vertical-align: middle;\n    }\n\n    .dataframe tbody tr th {\n        vertical-align: top;\n    }\n\n    .dataframe thead th {\n        text-align: right;\n    }\n</style>\n<table border=\"1\" class=\"dataframe\">\n  <thead>\n    <tr style=\"text-align: right;\">\n      <th></th>\n      <th>0</th>\n    </tr>\n  </thead>\n  <tbody>\n    <tr>\n      <th>dst</th>\n      <td>/home/xandao/Imagens/regions_dataset/images/RG...</td>\n    </tr>\n    <tr>\n      <th>color</th>\n      <td>rgb</td>\n    </tr>\n    <tr>\n      <th>image_size</th>\n      <td>256</td>\n    </tr>\n    <tr>\n      <th>minimum_image</th>\n      <td>5</td>\n    </tr>\n    <tr>\n      <th>level_name</th>\n      <td>specific_epithet_trusted</td>\n    </tr>\n    <tr>\n      <th>region</th>\n      <td>Sul</td>\n    </tr>\n    <tr>\n      <th>levels</th>\n      <td>72</td>\n    </tr>\n    <tr>\n      <th>total</th>\n      <td>2459</td>\n    </tr>\n    <tr>\n      <th>average</th>\n      <td>34.15</td>\n    </tr>\n  </tbody>\n</table>\n</div>"
     },
     "metadata": {},
     "output_type": "display_data"
    },
    {
     "name": "stdout",
     "output_type": "stream",
     "text": [
      "region: Sul color: RGB image_size: 256 minimum_image: 10\n",
      "total of levels: 49 total of images: 2311\n"
     ]
    },
    {
     "data": {
      "text/plain": "                                                               0\ndst            /home/xandao/Imagens/regions_dataset/images/RG...\ncolor                                                        rgb\nimage_size                                                   256\nminimum_image                                                 10\nlevel_name                              specific_epithet_trusted\nregion                                                       Sul\nlevels                                                        49\ntotal                                                       2311\naverage                                                    47.16",
      "text/html": "<div>\n<style scoped>\n    .dataframe tbody tr th:only-of-type {\n        vertical-align: middle;\n    }\n\n    .dataframe tbody tr th {\n        vertical-align: top;\n    }\n\n    .dataframe thead th {\n        text-align: right;\n    }\n</style>\n<table border=\"1\" class=\"dataframe\">\n  <thead>\n    <tr style=\"text-align: right;\">\n      <th></th>\n      <th>0</th>\n    </tr>\n  </thead>\n  <tbody>\n    <tr>\n      <th>dst</th>\n      <td>/home/xandao/Imagens/regions_dataset/images/RG...</td>\n    </tr>\n    <tr>\n      <th>color</th>\n      <td>rgb</td>\n    </tr>\n    <tr>\n      <th>image_size</th>\n      <td>256</td>\n    </tr>\n    <tr>\n      <th>minimum_image</th>\n      <td>10</td>\n    </tr>\n    <tr>\n      <th>level_name</th>\n      <td>specific_epithet_trusted</td>\n    </tr>\n    <tr>\n      <th>region</th>\n      <td>Sul</td>\n    </tr>\n    <tr>\n      <th>levels</th>\n      <td>49</td>\n    </tr>\n    <tr>\n      <th>total</th>\n      <td>2311</td>\n    </tr>\n    <tr>\n      <th>average</th>\n      <td>47.16</td>\n    </tr>\n  </tbody>\n</table>\n</div>"
     },
     "metadata": {},
     "output_type": "display_data"
    },
    {
     "name": "stdout",
     "output_type": "stream",
     "text": [
      "region: Sul color: RGB image_size: 256 minimum_image: 20\n",
      "total of levels: 33 total of images: 2111\n"
     ]
    },
    {
     "data": {
      "text/plain": "                                                               0\ndst            /home/xandao/Imagens/regions_dataset/images/RG...\ncolor                                                        rgb\nimage_size                                                   256\nminimum_image                                                 20\nlevel_name                              specific_epithet_trusted\nregion                                                       Sul\nlevels                                                        33\ntotal                                                       2111\naverage                                                    63.97",
      "text/html": "<div>\n<style scoped>\n    .dataframe tbody tr th:only-of-type {\n        vertical-align: middle;\n    }\n\n    .dataframe tbody tr th {\n        vertical-align: top;\n    }\n\n    .dataframe thead th {\n        text-align: right;\n    }\n</style>\n<table border=\"1\" class=\"dataframe\">\n  <thead>\n    <tr style=\"text-align: right;\">\n      <th></th>\n      <th>0</th>\n    </tr>\n  </thead>\n  <tbody>\n    <tr>\n      <th>dst</th>\n      <td>/home/xandao/Imagens/regions_dataset/images/RG...</td>\n    </tr>\n    <tr>\n      <th>color</th>\n      <td>rgb</td>\n    </tr>\n    <tr>\n      <th>image_size</th>\n      <td>256</td>\n    </tr>\n    <tr>\n      <th>minimum_image</th>\n      <td>20</td>\n    </tr>\n    <tr>\n      <th>level_name</th>\n      <td>specific_epithet_trusted</td>\n    </tr>\n    <tr>\n      <th>region</th>\n      <td>Sul</td>\n    </tr>\n    <tr>\n      <th>levels</th>\n      <td>33</td>\n    </tr>\n    <tr>\n      <th>total</th>\n      <td>2111</td>\n    </tr>\n    <tr>\n      <th>average</th>\n      <td>63.97</td>\n    </tr>\n  </tbody>\n</table>\n</div>"
     },
     "metadata": {},
     "output_type": "display_data"
    },
    {
     "name": "stdout",
     "output_type": "stream",
     "text": [
      "region: Sul color: RGB image_size: 400 minimum_image: 5\n",
      "total of levels: 72 total of images: 2459\n"
     ]
    },
    {
     "data": {
      "text/plain": "                                                               0\ndst            /home/xandao/Imagens/regions_dataset/images/RG...\ncolor                                                        rgb\nimage_size                                                   400\nminimum_image                                                  5\nlevel_name                              specific_epithet_trusted\nregion                                                       Sul\nlevels                                                        72\ntotal                                                       2459\naverage                                                    34.15",
      "text/html": "<div>\n<style scoped>\n    .dataframe tbody tr th:only-of-type {\n        vertical-align: middle;\n    }\n\n    .dataframe tbody tr th {\n        vertical-align: top;\n    }\n\n    .dataframe thead th {\n        text-align: right;\n    }\n</style>\n<table border=\"1\" class=\"dataframe\">\n  <thead>\n    <tr style=\"text-align: right;\">\n      <th></th>\n      <th>0</th>\n    </tr>\n  </thead>\n  <tbody>\n    <tr>\n      <th>dst</th>\n      <td>/home/xandao/Imagens/regions_dataset/images/RG...</td>\n    </tr>\n    <tr>\n      <th>color</th>\n      <td>rgb</td>\n    </tr>\n    <tr>\n      <th>image_size</th>\n      <td>400</td>\n    </tr>\n    <tr>\n      <th>minimum_image</th>\n      <td>5</td>\n    </tr>\n    <tr>\n      <th>level_name</th>\n      <td>specific_epithet_trusted</td>\n    </tr>\n    <tr>\n      <th>region</th>\n      <td>Sul</td>\n    </tr>\n    <tr>\n      <th>levels</th>\n      <td>72</td>\n    </tr>\n    <tr>\n      <th>total</th>\n      <td>2459</td>\n    </tr>\n    <tr>\n      <th>average</th>\n      <td>34.15</td>\n    </tr>\n  </tbody>\n</table>\n</div>"
     },
     "metadata": {},
     "output_type": "display_data"
    },
    {
     "name": "stdout",
     "output_type": "stream",
     "text": [
      "region: Sul color: RGB image_size: 400 minimum_image: 10\n",
      "total of levels: 49 total of images: 2311\n"
     ]
    },
    {
     "data": {
      "text/plain": "                                                               0\ndst            /home/xandao/Imagens/regions_dataset/images/RG...\ncolor                                                        rgb\nimage_size                                                   400\nminimum_image                                                 10\nlevel_name                              specific_epithet_trusted\nregion                                                       Sul\nlevels                                                        49\ntotal                                                       2311\naverage                                                    47.16",
      "text/html": "<div>\n<style scoped>\n    .dataframe tbody tr th:only-of-type {\n        vertical-align: middle;\n    }\n\n    .dataframe tbody tr th {\n        vertical-align: top;\n    }\n\n    .dataframe thead th {\n        text-align: right;\n    }\n</style>\n<table border=\"1\" class=\"dataframe\">\n  <thead>\n    <tr style=\"text-align: right;\">\n      <th></th>\n      <th>0</th>\n    </tr>\n  </thead>\n  <tbody>\n    <tr>\n      <th>dst</th>\n      <td>/home/xandao/Imagens/regions_dataset/images/RG...</td>\n    </tr>\n    <tr>\n      <th>color</th>\n      <td>rgb</td>\n    </tr>\n    <tr>\n      <th>image_size</th>\n      <td>400</td>\n    </tr>\n    <tr>\n      <th>minimum_image</th>\n      <td>10</td>\n    </tr>\n    <tr>\n      <th>level_name</th>\n      <td>specific_epithet_trusted</td>\n    </tr>\n    <tr>\n      <th>region</th>\n      <td>Sul</td>\n    </tr>\n    <tr>\n      <th>levels</th>\n      <td>49</td>\n    </tr>\n    <tr>\n      <th>total</th>\n      <td>2311</td>\n    </tr>\n    <tr>\n      <th>average</th>\n      <td>47.16</td>\n    </tr>\n  </tbody>\n</table>\n</div>"
     },
     "metadata": {},
     "output_type": "display_data"
    },
    {
     "name": "stdout",
     "output_type": "stream",
     "text": [
      "region: Sul color: RGB image_size: 400 minimum_image: 20\n",
      "total of levels: 33 total of images: 2111\n"
     ]
    },
    {
     "data": {
      "text/plain": "                                                               0\ndst            /home/xandao/Imagens/regions_dataset/images/RG...\ncolor                                                        rgb\nimage_size                                                   400\nminimum_image                                                 20\nlevel_name                              specific_epithet_trusted\nregion                                                       Sul\nlevels                                                        33\ntotal                                                       2111\naverage                                                    63.97",
      "text/html": "<div>\n<style scoped>\n    .dataframe tbody tr th:only-of-type {\n        vertical-align: middle;\n    }\n\n    .dataframe tbody tr th {\n        vertical-align: top;\n    }\n\n    .dataframe thead th {\n        text-align: right;\n    }\n</style>\n<table border=\"1\" class=\"dataframe\">\n  <thead>\n    <tr style=\"text-align: right;\">\n      <th></th>\n      <th>0</th>\n    </tr>\n  </thead>\n  <tbody>\n    <tr>\n      <th>dst</th>\n      <td>/home/xandao/Imagens/regions_dataset/images/RG...</td>\n    </tr>\n    <tr>\n      <th>color</th>\n      <td>rgb</td>\n    </tr>\n    <tr>\n      <th>image_size</th>\n      <td>400</td>\n    </tr>\n    <tr>\n      <th>minimum_image</th>\n      <td>20</td>\n    </tr>\n    <tr>\n      <th>level_name</th>\n      <td>specific_epithet_trusted</td>\n    </tr>\n    <tr>\n      <th>region</th>\n      <td>Sul</td>\n    </tr>\n    <tr>\n      <th>levels</th>\n      <td>33</td>\n    </tr>\n    <tr>\n      <th>total</th>\n      <td>2111</td>\n    </tr>\n    <tr>\n      <th>average</th>\n      <td>63.97</td>\n    </tr>\n  </tbody>\n</table>\n</div>"
     },
     "metadata": {},
     "output_type": "display_data"
    },
    {
     "name": "stdout",
     "output_type": "stream",
     "text": [
      "region: Sul color: RGB image_size: 512 minimum_image: 5\n",
      "total of levels: 72 total of images: 2459\n"
     ]
    },
    {
     "data": {
      "text/plain": "                                                               0\ndst            /home/xandao/Imagens/regions_dataset/images/RG...\ncolor                                                        rgb\nimage_size                                                   512\nminimum_image                                                  5\nlevel_name                              specific_epithet_trusted\nregion                                                       Sul\nlevels                                                        72\ntotal                                                       2459\naverage                                                    34.15",
      "text/html": "<div>\n<style scoped>\n    .dataframe tbody tr th:only-of-type {\n        vertical-align: middle;\n    }\n\n    .dataframe tbody tr th {\n        vertical-align: top;\n    }\n\n    .dataframe thead th {\n        text-align: right;\n    }\n</style>\n<table border=\"1\" class=\"dataframe\">\n  <thead>\n    <tr style=\"text-align: right;\">\n      <th></th>\n      <th>0</th>\n    </tr>\n  </thead>\n  <tbody>\n    <tr>\n      <th>dst</th>\n      <td>/home/xandao/Imagens/regions_dataset/images/RG...</td>\n    </tr>\n    <tr>\n      <th>color</th>\n      <td>rgb</td>\n    </tr>\n    <tr>\n      <th>image_size</th>\n      <td>512</td>\n    </tr>\n    <tr>\n      <th>minimum_image</th>\n      <td>5</td>\n    </tr>\n    <tr>\n      <th>level_name</th>\n      <td>specific_epithet_trusted</td>\n    </tr>\n    <tr>\n      <th>region</th>\n      <td>Sul</td>\n    </tr>\n    <tr>\n      <th>levels</th>\n      <td>72</td>\n    </tr>\n    <tr>\n      <th>total</th>\n      <td>2459</td>\n    </tr>\n    <tr>\n      <th>average</th>\n      <td>34.15</td>\n    </tr>\n  </tbody>\n</table>\n</div>"
     },
     "metadata": {},
     "output_type": "display_data"
    },
    {
     "name": "stdout",
     "output_type": "stream",
     "text": [
      "region: Sul color: RGB image_size: 512 minimum_image: 10\n",
      "total of levels: 49 total of images: 2311\n"
     ]
    },
    {
     "data": {
      "text/plain": "                                                               0\ndst            /home/xandao/Imagens/regions_dataset/images/RG...\ncolor                                                        rgb\nimage_size                                                   512\nminimum_image                                                 10\nlevel_name                              specific_epithet_trusted\nregion                                                       Sul\nlevels                                                        49\ntotal                                                       2311\naverage                                                    47.16",
      "text/html": "<div>\n<style scoped>\n    .dataframe tbody tr th:only-of-type {\n        vertical-align: middle;\n    }\n\n    .dataframe tbody tr th {\n        vertical-align: top;\n    }\n\n    .dataframe thead th {\n        text-align: right;\n    }\n</style>\n<table border=\"1\" class=\"dataframe\">\n  <thead>\n    <tr style=\"text-align: right;\">\n      <th></th>\n      <th>0</th>\n    </tr>\n  </thead>\n  <tbody>\n    <tr>\n      <th>dst</th>\n      <td>/home/xandao/Imagens/regions_dataset/images/RG...</td>\n    </tr>\n    <tr>\n      <th>color</th>\n      <td>rgb</td>\n    </tr>\n    <tr>\n      <th>image_size</th>\n      <td>512</td>\n    </tr>\n    <tr>\n      <th>minimum_image</th>\n      <td>10</td>\n    </tr>\n    <tr>\n      <th>level_name</th>\n      <td>specific_epithet_trusted</td>\n    </tr>\n    <tr>\n      <th>region</th>\n      <td>Sul</td>\n    </tr>\n    <tr>\n      <th>levels</th>\n      <td>49</td>\n    </tr>\n    <tr>\n      <th>total</th>\n      <td>2311</td>\n    </tr>\n    <tr>\n      <th>average</th>\n      <td>47.16</td>\n    </tr>\n  </tbody>\n</table>\n</div>"
     },
     "metadata": {},
     "output_type": "display_data"
    },
    {
     "name": "stdout",
     "output_type": "stream",
     "text": [
      "region: Sul color: RGB image_size: 512 minimum_image: 20\n",
      "total of levels: 33 total of images: 2111\n"
     ]
    },
    {
     "data": {
      "text/plain": "                                                               0\ndst            /home/xandao/Imagens/regions_dataset/images/RG...\ncolor                                                        rgb\nimage_size                                                   512\nminimum_image                                                 20\nlevel_name                              specific_epithet_trusted\nregion                                                       Sul\nlevels                                                        33\ntotal                                                       2111\naverage                                                    63.97",
      "text/html": "<div>\n<style scoped>\n    .dataframe tbody tr th:only-of-type {\n        vertical-align: middle;\n    }\n\n    .dataframe tbody tr th {\n        vertical-align: top;\n    }\n\n    .dataframe thead th {\n        text-align: right;\n    }\n</style>\n<table border=\"1\" class=\"dataframe\">\n  <thead>\n    <tr style=\"text-align: right;\">\n      <th></th>\n      <th>0</th>\n    </tr>\n  </thead>\n  <tbody>\n    <tr>\n      <th>dst</th>\n      <td>/home/xandao/Imagens/regions_dataset/images/RG...</td>\n    </tr>\n    <tr>\n      <th>color</th>\n      <td>rgb</td>\n    </tr>\n    <tr>\n      <th>image_size</th>\n      <td>512</td>\n    </tr>\n    <tr>\n      <th>minimum_image</th>\n      <td>20</td>\n    </tr>\n    <tr>\n      <th>level_name</th>\n      <td>specific_epithet_trusted</td>\n    </tr>\n    <tr>\n      <th>region</th>\n      <td>Sul</td>\n    </tr>\n    <tr>\n      <th>levels</th>\n      <td>33</td>\n    </tr>\n    <tr>\n      <th>total</th>\n      <td>2111</td>\n    </tr>\n    <tr>\n      <th>average</th>\n      <td>63.97</td>\n    </tr>\n  </tbody>\n</table>\n</div>"
     },
     "metadata": {},
     "output_type": "display_data"
    },
    {
     "name": "stdout",
     "output_type": "stream",
     "text": [
      "region: Sudeste color: RGB image_size: 256 minimum_image: 5\n",
      "total of levels: 102 total of images: 2761\n"
     ]
    },
    {
     "data": {
      "text/plain": "                                                               0\ndst            /home/xandao/Imagens/regions_dataset/images/RG...\ncolor                                                        rgb\nimage_size                                                   256\nminimum_image                                                  5\nlevel_name                              specific_epithet_trusted\nregion                                                   Sudeste\nlevels                                                       102\ntotal                                                       2761\naverage                                                    27.07",
      "text/html": "<div>\n<style scoped>\n    .dataframe tbody tr th:only-of-type {\n        vertical-align: middle;\n    }\n\n    .dataframe tbody tr th {\n        vertical-align: top;\n    }\n\n    .dataframe thead th {\n        text-align: right;\n    }\n</style>\n<table border=\"1\" class=\"dataframe\">\n  <thead>\n    <tr style=\"text-align: right;\">\n      <th></th>\n      <th>0</th>\n    </tr>\n  </thead>\n  <tbody>\n    <tr>\n      <th>dst</th>\n      <td>/home/xandao/Imagens/regions_dataset/images/RG...</td>\n    </tr>\n    <tr>\n      <th>color</th>\n      <td>rgb</td>\n    </tr>\n    <tr>\n      <th>image_size</th>\n      <td>256</td>\n    </tr>\n    <tr>\n      <th>minimum_image</th>\n      <td>5</td>\n    </tr>\n    <tr>\n      <th>level_name</th>\n      <td>specific_epithet_trusted</td>\n    </tr>\n    <tr>\n      <th>region</th>\n      <td>Sudeste</td>\n    </tr>\n    <tr>\n      <th>levels</th>\n      <td>102</td>\n    </tr>\n    <tr>\n      <th>total</th>\n      <td>2761</td>\n    </tr>\n    <tr>\n      <th>average</th>\n      <td>27.07</td>\n    </tr>\n  </tbody>\n</table>\n</div>"
     },
     "metadata": {},
     "output_type": "display_data"
    },
    {
     "name": "stdout",
     "output_type": "stream",
     "text": [
      "region: Sudeste color: RGB image_size: 256 minimum_image: 10\n",
      "total of levels: 68 total of images: 2536\n"
     ]
    },
    {
     "data": {
      "text/plain": "                                                               0\ndst            /home/xandao/Imagens/regions_dataset/images/RG...\ncolor                                                        rgb\nimage_size                                                   256\nminimum_image                                                 10\nlevel_name                              specific_epithet_trusted\nregion                                                   Sudeste\nlevels                                                        68\ntotal                                                       2536\naverage                                                    37.29",
      "text/html": "<div>\n<style scoped>\n    .dataframe tbody tr th:only-of-type {\n        vertical-align: middle;\n    }\n\n    .dataframe tbody tr th {\n        vertical-align: top;\n    }\n\n    .dataframe thead th {\n        text-align: right;\n    }\n</style>\n<table border=\"1\" class=\"dataframe\">\n  <thead>\n    <tr style=\"text-align: right;\">\n      <th></th>\n      <th>0</th>\n    </tr>\n  </thead>\n  <tbody>\n    <tr>\n      <th>dst</th>\n      <td>/home/xandao/Imagens/regions_dataset/images/RG...</td>\n    </tr>\n    <tr>\n      <th>color</th>\n      <td>rgb</td>\n    </tr>\n    <tr>\n      <th>image_size</th>\n      <td>256</td>\n    </tr>\n    <tr>\n      <th>minimum_image</th>\n      <td>10</td>\n    </tr>\n    <tr>\n      <th>level_name</th>\n      <td>specific_epithet_trusted</td>\n    </tr>\n    <tr>\n      <th>region</th>\n      <td>Sudeste</td>\n    </tr>\n    <tr>\n      <th>levels</th>\n      <td>68</td>\n    </tr>\n    <tr>\n      <th>total</th>\n      <td>2536</td>\n    </tr>\n    <tr>\n      <th>average</th>\n      <td>37.29</td>\n    </tr>\n  </tbody>\n</table>\n</div>"
     },
     "metadata": {},
     "output_type": "display_data"
    },
    {
     "name": "stdout",
     "output_type": "stream",
     "text": [
      "region: Sudeste color: RGB image_size: 256 minimum_image: 20\n",
      "total of levels: 42 total of images: 2211\n"
     ]
    },
    {
     "data": {
      "text/plain": "                                                               0\ndst            /home/xandao/Imagens/regions_dataset/images/RG...\ncolor                                                        rgb\nimage_size                                                   256\nminimum_image                                                 20\nlevel_name                              specific_epithet_trusted\nregion                                                   Sudeste\nlevels                                                        42\ntotal                                                       2211\naverage                                                    52.64",
      "text/html": "<div>\n<style scoped>\n    .dataframe tbody tr th:only-of-type {\n        vertical-align: middle;\n    }\n\n    .dataframe tbody tr th {\n        vertical-align: top;\n    }\n\n    .dataframe thead th {\n        text-align: right;\n    }\n</style>\n<table border=\"1\" class=\"dataframe\">\n  <thead>\n    <tr style=\"text-align: right;\">\n      <th></th>\n      <th>0</th>\n    </tr>\n  </thead>\n  <tbody>\n    <tr>\n      <th>dst</th>\n      <td>/home/xandao/Imagens/regions_dataset/images/RG...</td>\n    </tr>\n    <tr>\n      <th>color</th>\n      <td>rgb</td>\n    </tr>\n    <tr>\n      <th>image_size</th>\n      <td>256</td>\n    </tr>\n    <tr>\n      <th>minimum_image</th>\n      <td>20</td>\n    </tr>\n    <tr>\n      <th>level_name</th>\n      <td>specific_epithet_trusted</td>\n    </tr>\n    <tr>\n      <th>region</th>\n      <td>Sudeste</td>\n    </tr>\n    <tr>\n      <th>levels</th>\n      <td>42</td>\n    </tr>\n    <tr>\n      <th>total</th>\n      <td>2211</td>\n    </tr>\n    <tr>\n      <th>average</th>\n      <td>52.64</td>\n    </tr>\n  </tbody>\n</table>\n</div>"
     },
     "metadata": {},
     "output_type": "display_data"
    },
    {
     "name": "stdout",
     "output_type": "stream",
     "text": [
      "region: Sudeste color: RGB image_size: 400 minimum_image: 5\n",
      "total of levels: 102 total of images: 2761\n"
     ]
    },
    {
     "data": {
      "text/plain": "                                                               0\ndst            /home/xandao/Imagens/regions_dataset/images/RG...\ncolor                                                        rgb\nimage_size                                                   400\nminimum_image                                                  5\nlevel_name                              specific_epithet_trusted\nregion                                                   Sudeste\nlevels                                                       102\ntotal                                                       2761\naverage                                                    27.07",
      "text/html": "<div>\n<style scoped>\n    .dataframe tbody tr th:only-of-type {\n        vertical-align: middle;\n    }\n\n    .dataframe tbody tr th {\n        vertical-align: top;\n    }\n\n    .dataframe thead th {\n        text-align: right;\n    }\n</style>\n<table border=\"1\" class=\"dataframe\">\n  <thead>\n    <tr style=\"text-align: right;\">\n      <th></th>\n      <th>0</th>\n    </tr>\n  </thead>\n  <tbody>\n    <tr>\n      <th>dst</th>\n      <td>/home/xandao/Imagens/regions_dataset/images/RG...</td>\n    </tr>\n    <tr>\n      <th>color</th>\n      <td>rgb</td>\n    </tr>\n    <tr>\n      <th>image_size</th>\n      <td>400</td>\n    </tr>\n    <tr>\n      <th>minimum_image</th>\n      <td>5</td>\n    </tr>\n    <tr>\n      <th>level_name</th>\n      <td>specific_epithet_trusted</td>\n    </tr>\n    <tr>\n      <th>region</th>\n      <td>Sudeste</td>\n    </tr>\n    <tr>\n      <th>levels</th>\n      <td>102</td>\n    </tr>\n    <tr>\n      <th>total</th>\n      <td>2761</td>\n    </tr>\n    <tr>\n      <th>average</th>\n      <td>27.07</td>\n    </tr>\n  </tbody>\n</table>\n</div>"
     },
     "metadata": {},
     "output_type": "display_data"
    },
    {
     "name": "stdout",
     "output_type": "stream",
     "text": [
      "region: Sudeste color: RGB image_size: 400 minimum_image: 10\n",
      "total of levels: 68 total of images: 2536\n"
     ]
    },
    {
     "data": {
      "text/plain": "                                                               0\ndst            /home/xandao/Imagens/regions_dataset/images/RG...\ncolor                                                        rgb\nimage_size                                                   400\nminimum_image                                                 10\nlevel_name                              specific_epithet_trusted\nregion                                                   Sudeste\nlevels                                                        68\ntotal                                                       2536\naverage                                                    37.29",
      "text/html": "<div>\n<style scoped>\n    .dataframe tbody tr th:only-of-type {\n        vertical-align: middle;\n    }\n\n    .dataframe tbody tr th {\n        vertical-align: top;\n    }\n\n    .dataframe thead th {\n        text-align: right;\n    }\n</style>\n<table border=\"1\" class=\"dataframe\">\n  <thead>\n    <tr style=\"text-align: right;\">\n      <th></th>\n      <th>0</th>\n    </tr>\n  </thead>\n  <tbody>\n    <tr>\n      <th>dst</th>\n      <td>/home/xandao/Imagens/regions_dataset/images/RG...</td>\n    </tr>\n    <tr>\n      <th>color</th>\n      <td>rgb</td>\n    </tr>\n    <tr>\n      <th>image_size</th>\n      <td>400</td>\n    </tr>\n    <tr>\n      <th>minimum_image</th>\n      <td>10</td>\n    </tr>\n    <tr>\n      <th>level_name</th>\n      <td>specific_epithet_trusted</td>\n    </tr>\n    <tr>\n      <th>region</th>\n      <td>Sudeste</td>\n    </tr>\n    <tr>\n      <th>levels</th>\n      <td>68</td>\n    </tr>\n    <tr>\n      <th>total</th>\n      <td>2536</td>\n    </tr>\n    <tr>\n      <th>average</th>\n      <td>37.29</td>\n    </tr>\n  </tbody>\n</table>\n</div>"
     },
     "metadata": {},
     "output_type": "display_data"
    },
    {
     "name": "stdout",
     "output_type": "stream",
     "text": [
      "region: Sudeste color: RGB image_size: 400 minimum_image: 20\n",
      "total of levels: 42 total of images: 2211\n"
     ]
    },
    {
     "data": {
      "text/plain": "                                                               0\ndst            /home/xandao/Imagens/regions_dataset/images/RG...\ncolor                                                        rgb\nimage_size                                                   400\nminimum_image                                                 20\nlevel_name                              specific_epithet_trusted\nregion                                                   Sudeste\nlevels                                                        42\ntotal                                                       2211\naverage                                                    52.64",
      "text/html": "<div>\n<style scoped>\n    .dataframe tbody tr th:only-of-type {\n        vertical-align: middle;\n    }\n\n    .dataframe tbody tr th {\n        vertical-align: top;\n    }\n\n    .dataframe thead th {\n        text-align: right;\n    }\n</style>\n<table border=\"1\" class=\"dataframe\">\n  <thead>\n    <tr style=\"text-align: right;\">\n      <th></th>\n      <th>0</th>\n    </tr>\n  </thead>\n  <tbody>\n    <tr>\n      <th>dst</th>\n      <td>/home/xandao/Imagens/regions_dataset/images/RG...</td>\n    </tr>\n    <tr>\n      <th>color</th>\n      <td>rgb</td>\n    </tr>\n    <tr>\n      <th>image_size</th>\n      <td>400</td>\n    </tr>\n    <tr>\n      <th>minimum_image</th>\n      <td>20</td>\n    </tr>\n    <tr>\n      <th>level_name</th>\n      <td>specific_epithet_trusted</td>\n    </tr>\n    <tr>\n      <th>region</th>\n      <td>Sudeste</td>\n    </tr>\n    <tr>\n      <th>levels</th>\n      <td>42</td>\n    </tr>\n    <tr>\n      <th>total</th>\n      <td>2211</td>\n    </tr>\n    <tr>\n      <th>average</th>\n      <td>52.64</td>\n    </tr>\n  </tbody>\n</table>\n</div>"
     },
     "metadata": {},
     "output_type": "display_data"
    },
    {
     "name": "stdout",
     "output_type": "stream",
     "text": [
      "region: Sudeste color: RGB image_size: 512 minimum_image: 5\n",
      "total of levels: 102 total of images: 2761\n"
     ]
    },
    {
     "data": {
      "text/plain": "                                                               0\ndst            /home/xandao/Imagens/regions_dataset/images/RG...\ncolor                                                        rgb\nimage_size                                                   512\nminimum_image                                                  5\nlevel_name                              specific_epithet_trusted\nregion                                                   Sudeste\nlevels                                                       102\ntotal                                                       2761\naverage                                                    27.07",
      "text/html": "<div>\n<style scoped>\n    .dataframe tbody tr th:only-of-type {\n        vertical-align: middle;\n    }\n\n    .dataframe tbody tr th {\n        vertical-align: top;\n    }\n\n    .dataframe thead th {\n        text-align: right;\n    }\n</style>\n<table border=\"1\" class=\"dataframe\">\n  <thead>\n    <tr style=\"text-align: right;\">\n      <th></th>\n      <th>0</th>\n    </tr>\n  </thead>\n  <tbody>\n    <tr>\n      <th>dst</th>\n      <td>/home/xandao/Imagens/regions_dataset/images/RG...</td>\n    </tr>\n    <tr>\n      <th>color</th>\n      <td>rgb</td>\n    </tr>\n    <tr>\n      <th>image_size</th>\n      <td>512</td>\n    </tr>\n    <tr>\n      <th>minimum_image</th>\n      <td>5</td>\n    </tr>\n    <tr>\n      <th>level_name</th>\n      <td>specific_epithet_trusted</td>\n    </tr>\n    <tr>\n      <th>region</th>\n      <td>Sudeste</td>\n    </tr>\n    <tr>\n      <th>levels</th>\n      <td>102</td>\n    </tr>\n    <tr>\n      <th>total</th>\n      <td>2761</td>\n    </tr>\n    <tr>\n      <th>average</th>\n      <td>27.07</td>\n    </tr>\n  </tbody>\n</table>\n</div>"
     },
     "metadata": {},
     "output_type": "display_data"
    },
    {
     "name": "stdout",
     "output_type": "stream",
     "text": [
      "region: Sudeste color: RGB image_size: 512 minimum_image: 10\n",
      "total of levels: 68 total of images: 2536\n"
     ]
    },
    {
     "data": {
      "text/plain": "                                                               0\ndst            /home/xandao/Imagens/regions_dataset/images/RG...\ncolor                                                        rgb\nimage_size                                                   512\nminimum_image                                                 10\nlevel_name                              specific_epithet_trusted\nregion                                                   Sudeste\nlevels                                                        68\ntotal                                                       2536\naverage                                                    37.29",
      "text/html": "<div>\n<style scoped>\n    .dataframe tbody tr th:only-of-type {\n        vertical-align: middle;\n    }\n\n    .dataframe tbody tr th {\n        vertical-align: top;\n    }\n\n    .dataframe thead th {\n        text-align: right;\n    }\n</style>\n<table border=\"1\" class=\"dataframe\">\n  <thead>\n    <tr style=\"text-align: right;\">\n      <th></th>\n      <th>0</th>\n    </tr>\n  </thead>\n  <tbody>\n    <tr>\n      <th>dst</th>\n      <td>/home/xandao/Imagens/regions_dataset/images/RG...</td>\n    </tr>\n    <tr>\n      <th>color</th>\n      <td>rgb</td>\n    </tr>\n    <tr>\n      <th>image_size</th>\n      <td>512</td>\n    </tr>\n    <tr>\n      <th>minimum_image</th>\n      <td>10</td>\n    </tr>\n    <tr>\n      <th>level_name</th>\n      <td>specific_epithet_trusted</td>\n    </tr>\n    <tr>\n      <th>region</th>\n      <td>Sudeste</td>\n    </tr>\n    <tr>\n      <th>levels</th>\n      <td>68</td>\n    </tr>\n    <tr>\n      <th>total</th>\n      <td>2536</td>\n    </tr>\n    <tr>\n      <th>average</th>\n      <td>37.29</td>\n    </tr>\n  </tbody>\n</table>\n</div>"
     },
     "metadata": {},
     "output_type": "display_data"
    },
    {
     "name": "stdout",
     "output_type": "stream",
     "text": [
      "region: Sudeste color: RGB image_size: 512 minimum_image: 20\n",
      "total of levels: 42 total of images: 2211\n"
     ]
    },
    {
     "data": {
      "text/plain": "                                                               0\ndst            /home/xandao/Imagens/regions_dataset/images/RG...\ncolor                                                        rgb\nimage_size                                                   512\nminimum_image                                                 20\nlevel_name                              specific_epithet_trusted\nregion                                                   Sudeste\nlevels                                                        42\ntotal                                                       2211\naverage                                                    52.64",
      "text/html": "<div>\n<style scoped>\n    .dataframe tbody tr th:only-of-type {\n        vertical-align: middle;\n    }\n\n    .dataframe tbody tr th {\n        vertical-align: top;\n    }\n\n    .dataframe thead th {\n        text-align: right;\n    }\n</style>\n<table border=\"1\" class=\"dataframe\">\n  <thead>\n    <tr style=\"text-align: right;\">\n      <th></th>\n      <th>0</th>\n    </tr>\n  </thead>\n  <tbody>\n    <tr>\n      <th>dst</th>\n      <td>/home/xandao/Imagens/regions_dataset/images/RG...</td>\n    </tr>\n    <tr>\n      <th>color</th>\n      <td>rgb</td>\n    </tr>\n    <tr>\n      <th>image_size</th>\n      <td>512</td>\n    </tr>\n    <tr>\n      <th>minimum_image</th>\n      <td>20</td>\n    </tr>\n    <tr>\n      <th>level_name</th>\n      <td>specific_epithet_trusted</td>\n    </tr>\n    <tr>\n      <th>region</th>\n      <td>Sudeste</td>\n    </tr>\n    <tr>\n      <th>levels</th>\n      <td>42</td>\n    </tr>\n    <tr>\n      <th>total</th>\n      <td>2211</td>\n    </tr>\n    <tr>\n      <th>average</th>\n      <td>52.64</td>\n    </tr>\n  </tbody>\n</table>\n</div>"
     },
     "metadata": {},
     "output_type": "display_data"
    },
    {
     "name": "stdout",
     "output_type": "stream",
     "text": [
      "region: Norte color: GRAYSCALE image_size: 256 minimum_image: 5\n",
      "total of levels: 107 total of images: 2636\n"
     ]
    },
    {
     "data": {
      "text/plain": "                                                               0\ndst            /home/xandao/Imagens/regions_dataset/images/GR...\ncolor                                                  grayscale\nimage_size                                                   256\nminimum_image                                                  5\nlevel_name                              specific_epithet_trusted\nregion                                                     Norte\nlevels                                                       107\ntotal                                                       2636\naverage                                                    24.64",
      "text/html": "<div>\n<style scoped>\n    .dataframe tbody tr th:only-of-type {\n        vertical-align: middle;\n    }\n\n    .dataframe tbody tr th {\n        vertical-align: top;\n    }\n\n    .dataframe thead th {\n        text-align: right;\n    }\n</style>\n<table border=\"1\" class=\"dataframe\">\n  <thead>\n    <tr style=\"text-align: right;\">\n      <th></th>\n      <th>0</th>\n    </tr>\n  </thead>\n  <tbody>\n    <tr>\n      <th>dst</th>\n      <td>/home/xandao/Imagens/regions_dataset/images/GR...</td>\n    </tr>\n    <tr>\n      <th>color</th>\n      <td>grayscale</td>\n    </tr>\n    <tr>\n      <th>image_size</th>\n      <td>256</td>\n    </tr>\n    <tr>\n      <th>minimum_image</th>\n      <td>5</td>\n    </tr>\n    <tr>\n      <th>level_name</th>\n      <td>specific_epithet_trusted</td>\n    </tr>\n    <tr>\n      <th>region</th>\n      <td>Norte</td>\n    </tr>\n    <tr>\n      <th>levels</th>\n      <td>107</td>\n    </tr>\n    <tr>\n      <th>total</th>\n      <td>2636</td>\n    </tr>\n    <tr>\n      <th>average</th>\n      <td>24.64</td>\n    </tr>\n  </tbody>\n</table>\n</div>"
     },
     "metadata": {},
     "output_type": "display_data"
    },
    {
     "name": "stdout",
     "output_type": "stream",
     "text": [
      "region: Norte color: GRAYSCALE image_size: 256 minimum_image: 10\n",
      "total of levels: 68 total of images: 2352\n"
     ]
    },
    {
     "data": {
      "text/plain": "                                                               0\ndst            /home/xandao/Imagens/regions_dataset/images/GR...\ncolor                                                  grayscale\nimage_size                                                   256\nminimum_image                                                 10\nlevel_name                              specific_epithet_trusted\nregion                                                     Norte\nlevels                                                        68\ntotal                                                       2352\naverage                                                    34.59",
      "text/html": "<div>\n<style scoped>\n    .dataframe tbody tr th:only-of-type {\n        vertical-align: middle;\n    }\n\n    .dataframe tbody tr th {\n        vertical-align: top;\n    }\n\n    .dataframe thead th {\n        text-align: right;\n    }\n</style>\n<table border=\"1\" class=\"dataframe\">\n  <thead>\n    <tr style=\"text-align: right;\">\n      <th></th>\n      <th>0</th>\n    </tr>\n  </thead>\n  <tbody>\n    <tr>\n      <th>dst</th>\n      <td>/home/xandao/Imagens/regions_dataset/images/GR...</td>\n    </tr>\n    <tr>\n      <th>color</th>\n      <td>grayscale</td>\n    </tr>\n    <tr>\n      <th>image_size</th>\n      <td>256</td>\n    </tr>\n    <tr>\n      <th>minimum_image</th>\n      <td>10</td>\n    </tr>\n    <tr>\n      <th>level_name</th>\n      <td>specific_epithet_trusted</td>\n    </tr>\n    <tr>\n      <th>region</th>\n      <td>Norte</td>\n    </tr>\n    <tr>\n      <th>levels</th>\n      <td>68</td>\n    </tr>\n    <tr>\n      <th>total</th>\n      <td>2352</td>\n    </tr>\n    <tr>\n      <th>average</th>\n      <td>34.59</td>\n    </tr>\n  </tbody>\n</table>\n</div>"
     },
     "metadata": {},
     "output_type": "display_data"
    },
    {
     "name": "stdout",
     "output_type": "stream",
     "text": [
      "region: Norte color: GRAYSCALE image_size: 256 minimum_image: 20\n",
      "total of levels: 41 total of images: 2016\n"
     ]
    },
    {
     "data": {
      "text/plain": "                                                               0\ndst            /home/xandao/Imagens/regions_dataset/images/GR...\ncolor                                                  grayscale\nimage_size                                                   256\nminimum_image                                                 20\nlevel_name                              specific_epithet_trusted\nregion                                                     Norte\nlevels                                                        41\ntotal                                                       2016\naverage                                                    49.17",
      "text/html": "<div>\n<style scoped>\n    .dataframe tbody tr th:only-of-type {\n        vertical-align: middle;\n    }\n\n    .dataframe tbody tr th {\n        vertical-align: top;\n    }\n\n    .dataframe thead th {\n        text-align: right;\n    }\n</style>\n<table border=\"1\" class=\"dataframe\">\n  <thead>\n    <tr style=\"text-align: right;\">\n      <th></th>\n      <th>0</th>\n    </tr>\n  </thead>\n  <tbody>\n    <tr>\n      <th>dst</th>\n      <td>/home/xandao/Imagens/regions_dataset/images/GR...</td>\n    </tr>\n    <tr>\n      <th>color</th>\n      <td>grayscale</td>\n    </tr>\n    <tr>\n      <th>image_size</th>\n      <td>256</td>\n    </tr>\n    <tr>\n      <th>minimum_image</th>\n      <td>20</td>\n    </tr>\n    <tr>\n      <th>level_name</th>\n      <td>specific_epithet_trusted</td>\n    </tr>\n    <tr>\n      <th>region</th>\n      <td>Norte</td>\n    </tr>\n    <tr>\n      <th>levels</th>\n      <td>41</td>\n    </tr>\n    <tr>\n      <th>total</th>\n      <td>2016</td>\n    </tr>\n    <tr>\n      <th>average</th>\n      <td>49.17</td>\n    </tr>\n  </tbody>\n</table>\n</div>"
     },
     "metadata": {},
     "output_type": "display_data"
    },
    {
     "name": "stdout",
     "output_type": "stream",
     "text": [
      "region: Norte color: GRAYSCALE image_size: 400 minimum_image: 5\n",
      "total of levels: 107 total of images: 2636\n"
     ]
    },
    {
     "data": {
      "text/plain": "                                                               0\ndst            /home/xandao/Imagens/regions_dataset/images/GR...\ncolor                                                  grayscale\nimage_size                                                   400\nminimum_image                                                  5\nlevel_name                              specific_epithet_trusted\nregion                                                     Norte\nlevels                                                       107\ntotal                                                       2636\naverage                                                    24.64",
      "text/html": "<div>\n<style scoped>\n    .dataframe tbody tr th:only-of-type {\n        vertical-align: middle;\n    }\n\n    .dataframe tbody tr th {\n        vertical-align: top;\n    }\n\n    .dataframe thead th {\n        text-align: right;\n    }\n</style>\n<table border=\"1\" class=\"dataframe\">\n  <thead>\n    <tr style=\"text-align: right;\">\n      <th></th>\n      <th>0</th>\n    </tr>\n  </thead>\n  <tbody>\n    <tr>\n      <th>dst</th>\n      <td>/home/xandao/Imagens/regions_dataset/images/GR...</td>\n    </tr>\n    <tr>\n      <th>color</th>\n      <td>grayscale</td>\n    </tr>\n    <tr>\n      <th>image_size</th>\n      <td>400</td>\n    </tr>\n    <tr>\n      <th>minimum_image</th>\n      <td>5</td>\n    </tr>\n    <tr>\n      <th>level_name</th>\n      <td>specific_epithet_trusted</td>\n    </tr>\n    <tr>\n      <th>region</th>\n      <td>Norte</td>\n    </tr>\n    <tr>\n      <th>levels</th>\n      <td>107</td>\n    </tr>\n    <tr>\n      <th>total</th>\n      <td>2636</td>\n    </tr>\n    <tr>\n      <th>average</th>\n      <td>24.64</td>\n    </tr>\n  </tbody>\n</table>\n</div>"
     },
     "metadata": {},
     "output_type": "display_data"
    },
    {
     "name": "stdout",
     "output_type": "stream",
     "text": [
      "region: Norte color: GRAYSCALE image_size: 400 minimum_image: 10\n",
      "total of levels: 68 total of images: 2352\n"
     ]
    },
    {
     "data": {
      "text/plain": "                                                               0\ndst            /home/xandao/Imagens/regions_dataset/images/GR...\ncolor                                                  grayscale\nimage_size                                                   400\nminimum_image                                                 10\nlevel_name                              specific_epithet_trusted\nregion                                                     Norte\nlevels                                                        68\ntotal                                                       2352\naverage                                                    34.59",
      "text/html": "<div>\n<style scoped>\n    .dataframe tbody tr th:only-of-type {\n        vertical-align: middle;\n    }\n\n    .dataframe tbody tr th {\n        vertical-align: top;\n    }\n\n    .dataframe thead th {\n        text-align: right;\n    }\n</style>\n<table border=\"1\" class=\"dataframe\">\n  <thead>\n    <tr style=\"text-align: right;\">\n      <th></th>\n      <th>0</th>\n    </tr>\n  </thead>\n  <tbody>\n    <tr>\n      <th>dst</th>\n      <td>/home/xandao/Imagens/regions_dataset/images/GR...</td>\n    </tr>\n    <tr>\n      <th>color</th>\n      <td>grayscale</td>\n    </tr>\n    <tr>\n      <th>image_size</th>\n      <td>400</td>\n    </tr>\n    <tr>\n      <th>minimum_image</th>\n      <td>10</td>\n    </tr>\n    <tr>\n      <th>level_name</th>\n      <td>specific_epithet_trusted</td>\n    </tr>\n    <tr>\n      <th>region</th>\n      <td>Norte</td>\n    </tr>\n    <tr>\n      <th>levels</th>\n      <td>68</td>\n    </tr>\n    <tr>\n      <th>total</th>\n      <td>2352</td>\n    </tr>\n    <tr>\n      <th>average</th>\n      <td>34.59</td>\n    </tr>\n  </tbody>\n</table>\n</div>"
     },
     "metadata": {},
     "output_type": "display_data"
    },
    {
     "name": "stdout",
     "output_type": "stream",
     "text": [
      "region: Norte color: GRAYSCALE image_size: 400 minimum_image: 20\n",
      "total of levels: 41 total of images: 2016\n"
     ]
    },
    {
     "data": {
      "text/plain": "                                                               0\ndst            /home/xandao/Imagens/regions_dataset/images/GR...\ncolor                                                  grayscale\nimage_size                                                   400\nminimum_image                                                 20\nlevel_name                              specific_epithet_trusted\nregion                                                     Norte\nlevels                                                        41\ntotal                                                       2016\naverage                                                    49.17",
      "text/html": "<div>\n<style scoped>\n    .dataframe tbody tr th:only-of-type {\n        vertical-align: middle;\n    }\n\n    .dataframe tbody tr th {\n        vertical-align: top;\n    }\n\n    .dataframe thead th {\n        text-align: right;\n    }\n</style>\n<table border=\"1\" class=\"dataframe\">\n  <thead>\n    <tr style=\"text-align: right;\">\n      <th></th>\n      <th>0</th>\n    </tr>\n  </thead>\n  <tbody>\n    <tr>\n      <th>dst</th>\n      <td>/home/xandao/Imagens/regions_dataset/images/GR...</td>\n    </tr>\n    <tr>\n      <th>color</th>\n      <td>grayscale</td>\n    </tr>\n    <tr>\n      <th>image_size</th>\n      <td>400</td>\n    </tr>\n    <tr>\n      <th>minimum_image</th>\n      <td>20</td>\n    </tr>\n    <tr>\n      <th>level_name</th>\n      <td>specific_epithet_trusted</td>\n    </tr>\n    <tr>\n      <th>region</th>\n      <td>Norte</td>\n    </tr>\n    <tr>\n      <th>levels</th>\n      <td>41</td>\n    </tr>\n    <tr>\n      <th>total</th>\n      <td>2016</td>\n    </tr>\n    <tr>\n      <th>average</th>\n      <td>49.17</td>\n    </tr>\n  </tbody>\n</table>\n</div>"
     },
     "metadata": {},
     "output_type": "display_data"
    },
    {
     "name": "stdout",
     "output_type": "stream",
     "text": [
      "region: Norte color: GRAYSCALE image_size: 512 minimum_image: 5\n",
      "total of levels: 107 total of images: 2636\n"
     ]
    },
    {
     "data": {
      "text/plain": "                                                               0\ndst            /home/xandao/Imagens/regions_dataset/images/GR...\ncolor                                                  grayscale\nimage_size                                                   512\nminimum_image                                                  5\nlevel_name                              specific_epithet_trusted\nregion                                                     Norte\nlevels                                                       107\ntotal                                                       2636\naverage                                                    24.64",
      "text/html": "<div>\n<style scoped>\n    .dataframe tbody tr th:only-of-type {\n        vertical-align: middle;\n    }\n\n    .dataframe tbody tr th {\n        vertical-align: top;\n    }\n\n    .dataframe thead th {\n        text-align: right;\n    }\n</style>\n<table border=\"1\" class=\"dataframe\">\n  <thead>\n    <tr style=\"text-align: right;\">\n      <th></th>\n      <th>0</th>\n    </tr>\n  </thead>\n  <tbody>\n    <tr>\n      <th>dst</th>\n      <td>/home/xandao/Imagens/regions_dataset/images/GR...</td>\n    </tr>\n    <tr>\n      <th>color</th>\n      <td>grayscale</td>\n    </tr>\n    <tr>\n      <th>image_size</th>\n      <td>512</td>\n    </tr>\n    <tr>\n      <th>minimum_image</th>\n      <td>5</td>\n    </tr>\n    <tr>\n      <th>level_name</th>\n      <td>specific_epithet_trusted</td>\n    </tr>\n    <tr>\n      <th>region</th>\n      <td>Norte</td>\n    </tr>\n    <tr>\n      <th>levels</th>\n      <td>107</td>\n    </tr>\n    <tr>\n      <th>total</th>\n      <td>2636</td>\n    </tr>\n    <tr>\n      <th>average</th>\n      <td>24.64</td>\n    </tr>\n  </tbody>\n</table>\n</div>"
     },
     "metadata": {},
     "output_type": "display_data"
    },
    {
     "name": "stdout",
     "output_type": "stream",
     "text": [
      "region: Norte color: GRAYSCALE image_size: 512 minimum_image: 10\n",
      "total of levels: 68 total of images: 2352\n"
     ]
    },
    {
     "data": {
      "text/plain": "                                                               0\ndst            /home/xandao/Imagens/regions_dataset/images/GR...\ncolor                                                  grayscale\nimage_size                                                   512\nminimum_image                                                 10\nlevel_name                              specific_epithet_trusted\nregion                                                     Norte\nlevels                                                        68\ntotal                                                       2352\naverage                                                    34.59",
      "text/html": "<div>\n<style scoped>\n    .dataframe tbody tr th:only-of-type {\n        vertical-align: middle;\n    }\n\n    .dataframe tbody tr th {\n        vertical-align: top;\n    }\n\n    .dataframe thead th {\n        text-align: right;\n    }\n</style>\n<table border=\"1\" class=\"dataframe\">\n  <thead>\n    <tr style=\"text-align: right;\">\n      <th></th>\n      <th>0</th>\n    </tr>\n  </thead>\n  <tbody>\n    <tr>\n      <th>dst</th>\n      <td>/home/xandao/Imagens/regions_dataset/images/GR...</td>\n    </tr>\n    <tr>\n      <th>color</th>\n      <td>grayscale</td>\n    </tr>\n    <tr>\n      <th>image_size</th>\n      <td>512</td>\n    </tr>\n    <tr>\n      <th>minimum_image</th>\n      <td>10</td>\n    </tr>\n    <tr>\n      <th>level_name</th>\n      <td>specific_epithet_trusted</td>\n    </tr>\n    <tr>\n      <th>region</th>\n      <td>Norte</td>\n    </tr>\n    <tr>\n      <th>levels</th>\n      <td>68</td>\n    </tr>\n    <tr>\n      <th>total</th>\n      <td>2352</td>\n    </tr>\n    <tr>\n      <th>average</th>\n      <td>34.59</td>\n    </tr>\n  </tbody>\n</table>\n</div>"
     },
     "metadata": {},
     "output_type": "display_data"
    },
    {
     "name": "stdout",
     "output_type": "stream",
     "text": [
      "region: Norte color: GRAYSCALE image_size: 512 minimum_image: 20\n",
      "total of levels: 41 total of images: 2016\n"
     ]
    },
    {
     "data": {
      "text/plain": "                                                               0\ndst            /home/xandao/Imagens/regions_dataset/images/GR...\ncolor                                                  grayscale\nimage_size                                                   512\nminimum_image                                                 20\nlevel_name                              specific_epithet_trusted\nregion                                                     Norte\nlevels                                                        41\ntotal                                                       2016\naverage                                                    49.17",
      "text/html": "<div>\n<style scoped>\n    .dataframe tbody tr th:only-of-type {\n        vertical-align: middle;\n    }\n\n    .dataframe tbody tr th {\n        vertical-align: top;\n    }\n\n    .dataframe thead th {\n        text-align: right;\n    }\n</style>\n<table border=\"1\" class=\"dataframe\">\n  <thead>\n    <tr style=\"text-align: right;\">\n      <th></th>\n      <th>0</th>\n    </tr>\n  </thead>\n  <tbody>\n    <tr>\n      <th>dst</th>\n      <td>/home/xandao/Imagens/regions_dataset/images/GR...</td>\n    </tr>\n    <tr>\n      <th>color</th>\n      <td>grayscale</td>\n    </tr>\n    <tr>\n      <th>image_size</th>\n      <td>512</td>\n    </tr>\n    <tr>\n      <th>minimum_image</th>\n      <td>20</td>\n    </tr>\n    <tr>\n      <th>level_name</th>\n      <td>specific_epithet_trusted</td>\n    </tr>\n    <tr>\n      <th>region</th>\n      <td>Norte</td>\n    </tr>\n    <tr>\n      <th>levels</th>\n      <td>41</td>\n    </tr>\n    <tr>\n      <th>total</th>\n      <td>2016</td>\n    </tr>\n    <tr>\n      <th>average</th>\n      <td>49.17</td>\n    </tr>\n  </tbody>\n</table>\n</div>"
     },
     "metadata": {},
     "output_type": "display_data"
    },
    {
     "name": "stdout",
     "output_type": "stream",
     "text": [
      "region: Nordeste color: GRAYSCALE image_size: 256 minimum_image: 5\n",
      "total of levels: 48 total of images: 1063\n"
     ]
    },
    {
     "data": {
      "text/plain": "                                                               0\ndst            /home/xandao/Imagens/regions_dataset/images/GR...\ncolor                                                  grayscale\nimage_size                                                   256\nminimum_image                                                  5\nlevel_name                              specific_epithet_trusted\nregion                                                  Nordeste\nlevels                                                        48\ntotal                                                       1063\naverage                                                    22.15",
      "text/html": "<div>\n<style scoped>\n    .dataframe tbody tr th:only-of-type {\n        vertical-align: middle;\n    }\n\n    .dataframe tbody tr th {\n        vertical-align: top;\n    }\n\n    .dataframe thead th {\n        text-align: right;\n    }\n</style>\n<table border=\"1\" class=\"dataframe\">\n  <thead>\n    <tr style=\"text-align: right;\">\n      <th></th>\n      <th>0</th>\n    </tr>\n  </thead>\n  <tbody>\n    <tr>\n      <th>dst</th>\n      <td>/home/xandao/Imagens/regions_dataset/images/GR...</td>\n    </tr>\n    <tr>\n      <th>color</th>\n      <td>grayscale</td>\n    </tr>\n    <tr>\n      <th>image_size</th>\n      <td>256</td>\n    </tr>\n    <tr>\n      <th>minimum_image</th>\n      <td>5</td>\n    </tr>\n    <tr>\n      <th>level_name</th>\n      <td>specific_epithet_trusted</td>\n    </tr>\n    <tr>\n      <th>region</th>\n      <td>Nordeste</td>\n    </tr>\n    <tr>\n      <th>levels</th>\n      <td>48</td>\n    </tr>\n    <tr>\n      <th>total</th>\n      <td>1063</td>\n    </tr>\n    <tr>\n      <th>average</th>\n      <td>22.15</td>\n    </tr>\n  </tbody>\n</table>\n</div>"
     },
     "metadata": {},
     "output_type": "display_data"
    },
    {
     "name": "stdout",
     "output_type": "stream",
     "text": [
      "region: Nordeste color: GRAYSCALE image_size: 256 minimum_image: 10\n",
      "total of levels: 35 total of images: 974\n"
     ]
    },
    {
     "data": {
      "text/plain": "                                                               0\ndst            /home/xandao/Imagens/regions_dataset/images/GR...\ncolor                                                  grayscale\nimage_size                                                   256\nminimum_image                                                 10\nlevel_name                              specific_epithet_trusted\nregion                                                  Nordeste\nlevels                                                        35\ntotal                                                        974\naverage                                                    27.83",
      "text/html": "<div>\n<style scoped>\n    .dataframe tbody tr th:only-of-type {\n        vertical-align: middle;\n    }\n\n    .dataframe tbody tr th {\n        vertical-align: top;\n    }\n\n    .dataframe thead th {\n        text-align: right;\n    }\n</style>\n<table border=\"1\" class=\"dataframe\">\n  <thead>\n    <tr style=\"text-align: right;\">\n      <th></th>\n      <th>0</th>\n    </tr>\n  </thead>\n  <tbody>\n    <tr>\n      <th>dst</th>\n      <td>/home/xandao/Imagens/regions_dataset/images/GR...</td>\n    </tr>\n    <tr>\n      <th>color</th>\n      <td>grayscale</td>\n    </tr>\n    <tr>\n      <th>image_size</th>\n      <td>256</td>\n    </tr>\n    <tr>\n      <th>minimum_image</th>\n      <td>10</td>\n    </tr>\n    <tr>\n      <th>level_name</th>\n      <td>specific_epithet_trusted</td>\n    </tr>\n    <tr>\n      <th>region</th>\n      <td>Nordeste</td>\n    </tr>\n    <tr>\n      <th>levels</th>\n      <td>35</td>\n    </tr>\n    <tr>\n      <th>total</th>\n      <td>974</td>\n    </tr>\n    <tr>\n      <th>average</th>\n      <td>27.83</td>\n    </tr>\n  </tbody>\n</table>\n</div>"
     },
     "metadata": {},
     "output_type": "display_data"
    },
    {
     "name": "stdout",
     "output_type": "stream",
     "text": [
      "region: Nordeste color: GRAYSCALE image_size: 256 minimum_image: 20\n",
      "total of levels: 21 total of images: 776\n"
     ]
    },
    {
     "data": {
      "text/plain": "                                                               0\ndst            /home/xandao/Imagens/regions_dataset/images/GR...\ncolor                                                  grayscale\nimage_size                                                   256\nminimum_image                                                 20\nlevel_name                              specific_epithet_trusted\nregion                                                  Nordeste\nlevels                                                        21\ntotal                                                        776\naverage                                                    36.95",
      "text/html": "<div>\n<style scoped>\n    .dataframe tbody tr th:only-of-type {\n        vertical-align: middle;\n    }\n\n    .dataframe tbody tr th {\n        vertical-align: top;\n    }\n\n    .dataframe thead th {\n        text-align: right;\n    }\n</style>\n<table border=\"1\" class=\"dataframe\">\n  <thead>\n    <tr style=\"text-align: right;\">\n      <th></th>\n      <th>0</th>\n    </tr>\n  </thead>\n  <tbody>\n    <tr>\n      <th>dst</th>\n      <td>/home/xandao/Imagens/regions_dataset/images/GR...</td>\n    </tr>\n    <tr>\n      <th>color</th>\n      <td>grayscale</td>\n    </tr>\n    <tr>\n      <th>image_size</th>\n      <td>256</td>\n    </tr>\n    <tr>\n      <th>minimum_image</th>\n      <td>20</td>\n    </tr>\n    <tr>\n      <th>level_name</th>\n      <td>specific_epithet_trusted</td>\n    </tr>\n    <tr>\n      <th>region</th>\n      <td>Nordeste</td>\n    </tr>\n    <tr>\n      <th>levels</th>\n      <td>21</td>\n    </tr>\n    <tr>\n      <th>total</th>\n      <td>776</td>\n    </tr>\n    <tr>\n      <th>average</th>\n      <td>36.95</td>\n    </tr>\n  </tbody>\n</table>\n</div>"
     },
     "metadata": {},
     "output_type": "display_data"
    },
    {
     "name": "stdout",
     "output_type": "stream",
     "text": [
      "region: Nordeste color: GRAYSCALE image_size: 400 minimum_image: 5\n",
      "total of levels: 48 total of images: 1063\n"
     ]
    },
    {
     "data": {
      "text/plain": "                                                               0\ndst            /home/xandao/Imagens/regions_dataset/images/GR...\ncolor                                                  grayscale\nimage_size                                                   400\nminimum_image                                                  5\nlevel_name                              specific_epithet_trusted\nregion                                                  Nordeste\nlevels                                                        48\ntotal                                                       1063\naverage                                                    22.15",
      "text/html": "<div>\n<style scoped>\n    .dataframe tbody tr th:only-of-type {\n        vertical-align: middle;\n    }\n\n    .dataframe tbody tr th {\n        vertical-align: top;\n    }\n\n    .dataframe thead th {\n        text-align: right;\n    }\n</style>\n<table border=\"1\" class=\"dataframe\">\n  <thead>\n    <tr style=\"text-align: right;\">\n      <th></th>\n      <th>0</th>\n    </tr>\n  </thead>\n  <tbody>\n    <tr>\n      <th>dst</th>\n      <td>/home/xandao/Imagens/regions_dataset/images/GR...</td>\n    </tr>\n    <tr>\n      <th>color</th>\n      <td>grayscale</td>\n    </tr>\n    <tr>\n      <th>image_size</th>\n      <td>400</td>\n    </tr>\n    <tr>\n      <th>minimum_image</th>\n      <td>5</td>\n    </tr>\n    <tr>\n      <th>level_name</th>\n      <td>specific_epithet_trusted</td>\n    </tr>\n    <tr>\n      <th>region</th>\n      <td>Nordeste</td>\n    </tr>\n    <tr>\n      <th>levels</th>\n      <td>48</td>\n    </tr>\n    <tr>\n      <th>total</th>\n      <td>1063</td>\n    </tr>\n    <tr>\n      <th>average</th>\n      <td>22.15</td>\n    </tr>\n  </tbody>\n</table>\n</div>"
     },
     "metadata": {},
     "output_type": "display_data"
    },
    {
     "name": "stdout",
     "output_type": "stream",
     "text": [
      "region: Nordeste color: GRAYSCALE image_size: 400 minimum_image: 10\n",
      "total of levels: 35 total of images: 974\n"
     ]
    },
    {
     "data": {
      "text/plain": "                                                               0\ndst            /home/xandao/Imagens/regions_dataset/images/GR...\ncolor                                                  grayscale\nimage_size                                                   400\nminimum_image                                                 10\nlevel_name                              specific_epithet_trusted\nregion                                                  Nordeste\nlevels                                                        35\ntotal                                                        974\naverage                                                    27.83",
      "text/html": "<div>\n<style scoped>\n    .dataframe tbody tr th:only-of-type {\n        vertical-align: middle;\n    }\n\n    .dataframe tbody tr th {\n        vertical-align: top;\n    }\n\n    .dataframe thead th {\n        text-align: right;\n    }\n</style>\n<table border=\"1\" class=\"dataframe\">\n  <thead>\n    <tr style=\"text-align: right;\">\n      <th></th>\n      <th>0</th>\n    </tr>\n  </thead>\n  <tbody>\n    <tr>\n      <th>dst</th>\n      <td>/home/xandao/Imagens/regions_dataset/images/GR...</td>\n    </tr>\n    <tr>\n      <th>color</th>\n      <td>grayscale</td>\n    </tr>\n    <tr>\n      <th>image_size</th>\n      <td>400</td>\n    </tr>\n    <tr>\n      <th>minimum_image</th>\n      <td>10</td>\n    </tr>\n    <tr>\n      <th>level_name</th>\n      <td>specific_epithet_trusted</td>\n    </tr>\n    <tr>\n      <th>region</th>\n      <td>Nordeste</td>\n    </tr>\n    <tr>\n      <th>levels</th>\n      <td>35</td>\n    </tr>\n    <tr>\n      <th>total</th>\n      <td>974</td>\n    </tr>\n    <tr>\n      <th>average</th>\n      <td>27.83</td>\n    </tr>\n  </tbody>\n</table>\n</div>"
     },
     "metadata": {},
     "output_type": "display_data"
    },
    {
     "name": "stdout",
     "output_type": "stream",
     "text": [
      "region: Nordeste color: GRAYSCALE image_size: 400 minimum_image: 20\n",
      "total of levels: 21 total of images: 776\n"
     ]
    },
    {
     "data": {
      "text/plain": "                                                               0\ndst            /home/xandao/Imagens/regions_dataset/images/GR...\ncolor                                                  grayscale\nimage_size                                                   400\nminimum_image                                                 20\nlevel_name                              specific_epithet_trusted\nregion                                                  Nordeste\nlevels                                                        21\ntotal                                                        776\naverage                                                    36.95",
      "text/html": "<div>\n<style scoped>\n    .dataframe tbody tr th:only-of-type {\n        vertical-align: middle;\n    }\n\n    .dataframe tbody tr th {\n        vertical-align: top;\n    }\n\n    .dataframe thead th {\n        text-align: right;\n    }\n</style>\n<table border=\"1\" class=\"dataframe\">\n  <thead>\n    <tr style=\"text-align: right;\">\n      <th></th>\n      <th>0</th>\n    </tr>\n  </thead>\n  <tbody>\n    <tr>\n      <th>dst</th>\n      <td>/home/xandao/Imagens/regions_dataset/images/GR...</td>\n    </tr>\n    <tr>\n      <th>color</th>\n      <td>grayscale</td>\n    </tr>\n    <tr>\n      <th>image_size</th>\n      <td>400</td>\n    </tr>\n    <tr>\n      <th>minimum_image</th>\n      <td>20</td>\n    </tr>\n    <tr>\n      <th>level_name</th>\n      <td>specific_epithet_trusted</td>\n    </tr>\n    <tr>\n      <th>region</th>\n      <td>Nordeste</td>\n    </tr>\n    <tr>\n      <th>levels</th>\n      <td>21</td>\n    </tr>\n    <tr>\n      <th>total</th>\n      <td>776</td>\n    </tr>\n    <tr>\n      <th>average</th>\n      <td>36.95</td>\n    </tr>\n  </tbody>\n</table>\n</div>"
     },
     "metadata": {},
     "output_type": "display_data"
    },
    {
     "name": "stdout",
     "output_type": "stream",
     "text": [
      "region: Nordeste color: GRAYSCALE image_size: 512 minimum_image: 5\n",
      "total of levels: 48 total of images: 1063\n"
     ]
    },
    {
     "data": {
      "text/plain": "                                                               0\ndst            /home/xandao/Imagens/regions_dataset/images/GR...\ncolor                                                  grayscale\nimage_size                                                   512\nminimum_image                                                  5\nlevel_name                              specific_epithet_trusted\nregion                                                  Nordeste\nlevels                                                        48\ntotal                                                       1063\naverage                                                    22.15",
      "text/html": "<div>\n<style scoped>\n    .dataframe tbody tr th:only-of-type {\n        vertical-align: middle;\n    }\n\n    .dataframe tbody tr th {\n        vertical-align: top;\n    }\n\n    .dataframe thead th {\n        text-align: right;\n    }\n</style>\n<table border=\"1\" class=\"dataframe\">\n  <thead>\n    <tr style=\"text-align: right;\">\n      <th></th>\n      <th>0</th>\n    </tr>\n  </thead>\n  <tbody>\n    <tr>\n      <th>dst</th>\n      <td>/home/xandao/Imagens/regions_dataset/images/GR...</td>\n    </tr>\n    <tr>\n      <th>color</th>\n      <td>grayscale</td>\n    </tr>\n    <tr>\n      <th>image_size</th>\n      <td>512</td>\n    </tr>\n    <tr>\n      <th>minimum_image</th>\n      <td>5</td>\n    </tr>\n    <tr>\n      <th>level_name</th>\n      <td>specific_epithet_trusted</td>\n    </tr>\n    <tr>\n      <th>region</th>\n      <td>Nordeste</td>\n    </tr>\n    <tr>\n      <th>levels</th>\n      <td>48</td>\n    </tr>\n    <tr>\n      <th>total</th>\n      <td>1063</td>\n    </tr>\n    <tr>\n      <th>average</th>\n      <td>22.15</td>\n    </tr>\n  </tbody>\n</table>\n</div>"
     },
     "metadata": {},
     "output_type": "display_data"
    },
    {
     "name": "stdout",
     "output_type": "stream",
     "text": [
      "region: Nordeste color: GRAYSCALE image_size: 512 minimum_image: 10\n",
      "total of levels: 35 total of images: 974\n"
     ]
    },
    {
     "data": {
      "text/plain": "                                                               0\ndst            /home/xandao/Imagens/regions_dataset/images/GR...\ncolor                                                  grayscale\nimage_size                                                   512\nminimum_image                                                 10\nlevel_name                              specific_epithet_trusted\nregion                                                  Nordeste\nlevels                                                        35\ntotal                                                        974\naverage                                                    27.83",
      "text/html": "<div>\n<style scoped>\n    .dataframe tbody tr th:only-of-type {\n        vertical-align: middle;\n    }\n\n    .dataframe tbody tr th {\n        vertical-align: top;\n    }\n\n    .dataframe thead th {\n        text-align: right;\n    }\n</style>\n<table border=\"1\" class=\"dataframe\">\n  <thead>\n    <tr style=\"text-align: right;\">\n      <th></th>\n      <th>0</th>\n    </tr>\n  </thead>\n  <tbody>\n    <tr>\n      <th>dst</th>\n      <td>/home/xandao/Imagens/regions_dataset/images/GR...</td>\n    </tr>\n    <tr>\n      <th>color</th>\n      <td>grayscale</td>\n    </tr>\n    <tr>\n      <th>image_size</th>\n      <td>512</td>\n    </tr>\n    <tr>\n      <th>minimum_image</th>\n      <td>10</td>\n    </tr>\n    <tr>\n      <th>level_name</th>\n      <td>specific_epithet_trusted</td>\n    </tr>\n    <tr>\n      <th>region</th>\n      <td>Nordeste</td>\n    </tr>\n    <tr>\n      <th>levels</th>\n      <td>35</td>\n    </tr>\n    <tr>\n      <th>total</th>\n      <td>974</td>\n    </tr>\n    <tr>\n      <th>average</th>\n      <td>27.83</td>\n    </tr>\n  </tbody>\n</table>\n</div>"
     },
     "metadata": {},
     "output_type": "display_data"
    },
    {
     "name": "stdout",
     "output_type": "stream",
     "text": [
      "region: Nordeste color: GRAYSCALE image_size: 512 minimum_image: 20\n",
      "total of levels: 21 total of images: 776\n"
     ]
    },
    {
     "data": {
      "text/plain": "                                                               0\ndst            /home/xandao/Imagens/regions_dataset/images/GR...\ncolor                                                  grayscale\nimage_size                                                   512\nminimum_image                                                 20\nlevel_name                              specific_epithet_trusted\nregion                                                  Nordeste\nlevels                                                        21\ntotal                                                        776\naverage                                                    36.95",
      "text/html": "<div>\n<style scoped>\n    .dataframe tbody tr th:only-of-type {\n        vertical-align: middle;\n    }\n\n    .dataframe tbody tr th {\n        vertical-align: top;\n    }\n\n    .dataframe thead th {\n        text-align: right;\n    }\n</style>\n<table border=\"1\" class=\"dataframe\">\n  <thead>\n    <tr style=\"text-align: right;\">\n      <th></th>\n      <th>0</th>\n    </tr>\n  </thead>\n  <tbody>\n    <tr>\n      <th>dst</th>\n      <td>/home/xandao/Imagens/regions_dataset/images/GR...</td>\n    </tr>\n    <tr>\n      <th>color</th>\n      <td>grayscale</td>\n    </tr>\n    <tr>\n      <th>image_size</th>\n      <td>512</td>\n    </tr>\n    <tr>\n      <th>minimum_image</th>\n      <td>20</td>\n    </tr>\n    <tr>\n      <th>level_name</th>\n      <td>specific_epithet_trusted</td>\n    </tr>\n    <tr>\n      <th>region</th>\n      <td>Nordeste</td>\n    </tr>\n    <tr>\n      <th>levels</th>\n      <td>21</td>\n    </tr>\n    <tr>\n      <th>total</th>\n      <td>776</td>\n    </tr>\n    <tr>\n      <th>average</th>\n      <td>36.95</td>\n    </tr>\n  </tbody>\n</table>\n</div>"
     },
     "metadata": {},
     "output_type": "display_data"
    },
    {
     "name": "stdout",
     "output_type": "stream",
     "text": [
      "region: Centro-Oeste color: GRAYSCALE image_size: 256 minimum_image: 5\n",
      "total of levels: 42 total of images: 1137\n"
     ]
    },
    {
     "data": {
      "text/plain": "                                                               0\ndst            /home/xandao/Imagens/regions_dataset/images/GR...\ncolor                                                  grayscale\nimage_size                                                   256\nminimum_image                                                  5\nlevel_name                              specific_epithet_trusted\nregion                                              Centro-Oeste\nlevels                                                        42\ntotal                                                       1137\naverage                                                    27.07",
      "text/html": "<div>\n<style scoped>\n    .dataframe tbody tr th:only-of-type {\n        vertical-align: middle;\n    }\n\n    .dataframe tbody tr th {\n        vertical-align: top;\n    }\n\n    .dataframe thead th {\n        text-align: right;\n    }\n</style>\n<table border=\"1\" class=\"dataframe\">\n  <thead>\n    <tr style=\"text-align: right;\">\n      <th></th>\n      <th>0</th>\n    </tr>\n  </thead>\n  <tbody>\n    <tr>\n      <th>dst</th>\n      <td>/home/xandao/Imagens/regions_dataset/images/GR...</td>\n    </tr>\n    <tr>\n      <th>color</th>\n      <td>grayscale</td>\n    </tr>\n    <tr>\n      <th>image_size</th>\n      <td>256</td>\n    </tr>\n    <tr>\n      <th>minimum_image</th>\n      <td>5</td>\n    </tr>\n    <tr>\n      <th>level_name</th>\n      <td>specific_epithet_trusted</td>\n    </tr>\n    <tr>\n      <th>region</th>\n      <td>Centro-Oeste</td>\n    </tr>\n    <tr>\n      <th>levels</th>\n      <td>42</td>\n    </tr>\n    <tr>\n      <th>total</th>\n      <td>1137</td>\n    </tr>\n    <tr>\n      <th>average</th>\n      <td>27.07</td>\n    </tr>\n  </tbody>\n</table>\n</div>"
     },
     "metadata": {},
     "output_type": "display_data"
    },
    {
     "name": "stdout",
     "output_type": "stream",
     "text": [
      "region: Centro-Oeste color: GRAYSCALE image_size: 256 minimum_image: 10\n",
      "total of levels: 29 total of images: 1045\n"
     ]
    },
    {
     "data": {
      "text/plain": "                                                               0\ndst            /home/xandao/Imagens/regions_dataset/images/GR...\ncolor                                                  grayscale\nimage_size                                                   256\nminimum_image                                                 10\nlevel_name                              specific_epithet_trusted\nregion                                              Centro-Oeste\nlevels                                                        29\ntotal                                                       1045\naverage                                                    36.03",
      "text/html": "<div>\n<style scoped>\n    .dataframe tbody tr th:only-of-type {\n        vertical-align: middle;\n    }\n\n    .dataframe tbody tr th {\n        vertical-align: top;\n    }\n\n    .dataframe thead th {\n        text-align: right;\n    }\n</style>\n<table border=\"1\" class=\"dataframe\">\n  <thead>\n    <tr style=\"text-align: right;\">\n      <th></th>\n      <th>0</th>\n    </tr>\n  </thead>\n  <tbody>\n    <tr>\n      <th>dst</th>\n      <td>/home/xandao/Imagens/regions_dataset/images/GR...</td>\n    </tr>\n    <tr>\n      <th>color</th>\n      <td>grayscale</td>\n    </tr>\n    <tr>\n      <th>image_size</th>\n      <td>256</td>\n    </tr>\n    <tr>\n      <th>minimum_image</th>\n      <td>10</td>\n    </tr>\n    <tr>\n      <th>level_name</th>\n      <td>specific_epithet_trusted</td>\n    </tr>\n    <tr>\n      <th>region</th>\n      <td>Centro-Oeste</td>\n    </tr>\n    <tr>\n      <th>levels</th>\n      <td>29</td>\n    </tr>\n    <tr>\n      <th>total</th>\n      <td>1045</td>\n    </tr>\n    <tr>\n      <th>average</th>\n      <td>36.03</td>\n    </tr>\n  </tbody>\n</table>\n</div>"
     },
     "metadata": {},
     "output_type": "display_data"
    },
    {
     "name": "stdout",
     "output_type": "stream",
     "text": [
      "region: Centro-Oeste color: GRAYSCALE image_size: 256 minimum_image: 20\n",
      "total of levels: 17 total of images: 888\n"
     ]
    },
    {
     "data": {
      "text/plain": "                                                               0\ndst            /home/xandao/Imagens/regions_dataset/images/GR...\ncolor                                                  grayscale\nimage_size                                                   256\nminimum_image                                                 20\nlevel_name                              specific_epithet_trusted\nregion                                              Centro-Oeste\nlevels                                                        17\ntotal                                                        888\naverage                                                    52.24",
      "text/html": "<div>\n<style scoped>\n    .dataframe tbody tr th:only-of-type {\n        vertical-align: middle;\n    }\n\n    .dataframe tbody tr th {\n        vertical-align: top;\n    }\n\n    .dataframe thead th {\n        text-align: right;\n    }\n</style>\n<table border=\"1\" class=\"dataframe\">\n  <thead>\n    <tr style=\"text-align: right;\">\n      <th></th>\n      <th>0</th>\n    </tr>\n  </thead>\n  <tbody>\n    <tr>\n      <th>dst</th>\n      <td>/home/xandao/Imagens/regions_dataset/images/GR...</td>\n    </tr>\n    <tr>\n      <th>color</th>\n      <td>grayscale</td>\n    </tr>\n    <tr>\n      <th>image_size</th>\n      <td>256</td>\n    </tr>\n    <tr>\n      <th>minimum_image</th>\n      <td>20</td>\n    </tr>\n    <tr>\n      <th>level_name</th>\n      <td>specific_epithet_trusted</td>\n    </tr>\n    <tr>\n      <th>region</th>\n      <td>Centro-Oeste</td>\n    </tr>\n    <tr>\n      <th>levels</th>\n      <td>17</td>\n    </tr>\n    <tr>\n      <th>total</th>\n      <td>888</td>\n    </tr>\n    <tr>\n      <th>average</th>\n      <td>52.24</td>\n    </tr>\n  </tbody>\n</table>\n</div>"
     },
     "metadata": {},
     "output_type": "display_data"
    },
    {
     "name": "stdout",
     "output_type": "stream",
     "text": [
      "region: Centro-Oeste color: GRAYSCALE image_size: 400 minimum_image: 5\n",
      "total of levels: 42 total of images: 1137\n"
     ]
    },
    {
     "data": {
      "text/plain": "                                                               0\ndst            /home/xandao/Imagens/regions_dataset/images/GR...\ncolor                                                  grayscale\nimage_size                                                   400\nminimum_image                                                  5\nlevel_name                              specific_epithet_trusted\nregion                                              Centro-Oeste\nlevels                                                        42\ntotal                                                       1137\naverage                                                    27.07",
      "text/html": "<div>\n<style scoped>\n    .dataframe tbody tr th:only-of-type {\n        vertical-align: middle;\n    }\n\n    .dataframe tbody tr th {\n        vertical-align: top;\n    }\n\n    .dataframe thead th {\n        text-align: right;\n    }\n</style>\n<table border=\"1\" class=\"dataframe\">\n  <thead>\n    <tr style=\"text-align: right;\">\n      <th></th>\n      <th>0</th>\n    </tr>\n  </thead>\n  <tbody>\n    <tr>\n      <th>dst</th>\n      <td>/home/xandao/Imagens/regions_dataset/images/GR...</td>\n    </tr>\n    <tr>\n      <th>color</th>\n      <td>grayscale</td>\n    </tr>\n    <tr>\n      <th>image_size</th>\n      <td>400</td>\n    </tr>\n    <tr>\n      <th>minimum_image</th>\n      <td>5</td>\n    </tr>\n    <tr>\n      <th>level_name</th>\n      <td>specific_epithet_trusted</td>\n    </tr>\n    <tr>\n      <th>region</th>\n      <td>Centro-Oeste</td>\n    </tr>\n    <tr>\n      <th>levels</th>\n      <td>42</td>\n    </tr>\n    <tr>\n      <th>total</th>\n      <td>1137</td>\n    </tr>\n    <tr>\n      <th>average</th>\n      <td>27.07</td>\n    </tr>\n  </tbody>\n</table>\n</div>"
     },
     "metadata": {},
     "output_type": "display_data"
    },
    {
     "name": "stdout",
     "output_type": "stream",
     "text": [
      "region: Centro-Oeste color: GRAYSCALE image_size: 400 minimum_image: 10\n",
      "total of levels: 29 total of images: 1045\n"
     ]
    },
    {
     "data": {
      "text/plain": "                                                               0\ndst            /home/xandao/Imagens/regions_dataset/images/GR...\ncolor                                                  grayscale\nimage_size                                                   400\nminimum_image                                                 10\nlevel_name                              specific_epithet_trusted\nregion                                              Centro-Oeste\nlevels                                                        29\ntotal                                                       1045\naverage                                                    36.03",
      "text/html": "<div>\n<style scoped>\n    .dataframe tbody tr th:only-of-type {\n        vertical-align: middle;\n    }\n\n    .dataframe tbody tr th {\n        vertical-align: top;\n    }\n\n    .dataframe thead th {\n        text-align: right;\n    }\n</style>\n<table border=\"1\" class=\"dataframe\">\n  <thead>\n    <tr style=\"text-align: right;\">\n      <th></th>\n      <th>0</th>\n    </tr>\n  </thead>\n  <tbody>\n    <tr>\n      <th>dst</th>\n      <td>/home/xandao/Imagens/regions_dataset/images/GR...</td>\n    </tr>\n    <tr>\n      <th>color</th>\n      <td>grayscale</td>\n    </tr>\n    <tr>\n      <th>image_size</th>\n      <td>400</td>\n    </tr>\n    <tr>\n      <th>minimum_image</th>\n      <td>10</td>\n    </tr>\n    <tr>\n      <th>level_name</th>\n      <td>specific_epithet_trusted</td>\n    </tr>\n    <tr>\n      <th>region</th>\n      <td>Centro-Oeste</td>\n    </tr>\n    <tr>\n      <th>levels</th>\n      <td>29</td>\n    </tr>\n    <tr>\n      <th>total</th>\n      <td>1045</td>\n    </tr>\n    <tr>\n      <th>average</th>\n      <td>36.03</td>\n    </tr>\n  </tbody>\n</table>\n</div>"
     },
     "metadata": {},
     "output_type": "display_data"
    },
    {
     "name": "stdout",
     "output_type": "stream",
     "text": [
      "region: Centro-Oeste color: GRAYSCALE image_size: 400 minimum_image: 20\n",
      "total of levels: 17 total of images: 888\n"
     ]
    },
    {
     "data": {
      "text/plain": "                                                               0\ndst            /home/xandao/Imagens/regions_dataset/images/GR...\ncolor                                                  grayscale\nimage_size                                                   400\nminimum_image                                                 20\nlevel_name                              specific_epithet_trusted\nregion                                              Centro-Oeste\nlevels                                                        17\ntotal                                                        888\naverage                                                    52.24",
      "text/html": "<div>\n<style scoped>\n    .dataframe tbody tr th:only-of-type {\n        vertical-align: middle;\n    }\n\n    .dataframe tbody tr th {\n        vertical-align: top;\n    }\n\n    .dataframe thead th {\n        text-align: right;\n    }\n</style>\n<table border=\"1\" class=\"dataframe\">\n  <thead>\n    <tr style=\"text-align: right;\">\n      <th></th>\n      <th>0</th>\n    </tr>\n  </thead>\n  <tbody>\n    <tr>\n      <th>dst</th>\n      <td>/home/xandao/Imagens/regions_dataset/images/GR...</td>\n    </tr>\n    <tr>\n      <th>color</th>\n      <td>grayscale</td>\n    </tr>\n    <tr>\n      <th>image_size</th>\n      <td>400</td>\n    </tr>\n    <tr>\n      <th>minimum_image</th>\n      <td>20</td>\n    </tr>\n    <tr>\n      <th>level_name</th>\n      <td>specific_epithet_trusted</td>\n    </tr>\n    <tr>\n      <th>region</th>\n      <td>Centro-Oeste</td>\n    </tr>\n    <tr>\n      <th>levels</th>\n      <td>17</td>\n    </tr>\n    <tr>\n      <th>total</th>\n      <td>888</td>\n    </tr>\n    <tr>\n      <th>average</th>\n      <td>52.24</td>\n    </tr>\n  </tbody>\n</table>\n</div>"
     },
     "metadata": {},
     "output_type": "display_data"
    },
    {
     "name": "stdout",
     "output_type": "stream",
     "text": [
      "region: Centro-Oeste color: GRAYSCALE image_size: 512 minimum_image: 5\n",
      "total of levels: 42 total of images: 1137\n"
     ]
    },
    {
     "data": {
      "text/plain": "                                                               0\ndst            /home/xandao/Imagens/regions_dataset/images/GR...\ncolor                                                  grayscale\nimage_size                                                   512\nminimum_image                                                  5\nlevel_name                              specific_epithet_trusted\nregion                                              Centro-Oeste\nlevels                                                        42\ntotal                                                       1137\naverage                                                    27.07",
      "text/html": "<div>\n<style scoped>\n    .dataframe tbody tr th:only-of-type {\n        vertical-align: middle;\n    }\n\n    .dataframe tbody tr th {\n        vertical-align: top;\n    }\n\n    .dataframe thead th {\n        text-align: right;\n    }\n</style>\n<table border=\"1\" class=\"dataframe\">\n  <thead>\n    <tr style=\"text-align: right;\">\n      <th></th>\n      <th>0</th>\n    </tr>\n  </thead>\n  <tbody>\n    <tr>\n      <th>dst</th>\n      <td>/home/xandao/Imagens/regions_dataset/images/GR...</td>\n    </tr>\n    <tr>\n      <th>color</th>\n      <td>grayscale</td>\n    </tr>\n    <tr>\n      <th>image_size</th>\n      <td>512</td>\n    </tr>\n    <tr>\n      <th>minimum_image</th>\n      <td>5</td>\n    </tr>\n    <tr>\n      <th>level_name</th>\n      <td>specific_epithet_trusted</td>\n    </tr>\n    <tr>\n      <th>region</th>\n      <td>Centro-Oeste</td>\n    </tr>\n    <tr>\n      <th>levels</th>\n      <td>42</td>\n    </tr>\n    <tr>\n      <th>total</th>\n      <td>1137</td>\n    </tr>\n    <tr>\n      <th>average</th>\n      <td>27.07</td>\n    </tr>\n  </tbody>\n</table>\n</div>"
     },
     "metadata": {},
     "output_type": "display_data"
    },
    {
     "name": "stdout",
     "output_type": "stream",
     "text": [
      "region: Centro-Oeste color: GRAYSCALE image_size: 512 minimum_image: 10\n",
      "total of levels: 29 total of images: 1045\n"
     ]
    },
    {
     "data": {
      "text/plain": "                                                               0\ndst            /home/xandao/Imagens/regions_dataset/images/GR...\ncolor                                                  grayscale\nimage_size                                                   512\nminimum_image                                                 10\nlevel_name                              specific_epithet_trusted\nregion                                              Centro-Oeste\nlevels                                                        29\ntotal                                                       1045\naverage                                                    36.03",
      "text/html": "<div>\n<style scoped>\n    .dataframe tbody tr th:only-of-type {\n        vertical-align: middle;\n    }\n\n    .dataframe tbody tr th {\n        vertical-align: top;\n    }\n\n    .dataframe thead th {\n        text-align: right;\n    }\n</style>\n<table border=\"1\" class=\"dataframe\">\n  <thead>\n    <tr style=\"text-align: right;\">\n      <th></th>\n      <th>0</th>\n    </tr>\n  </thead>\n  <tbody>\n    <tr>\n      <th>dst</th>\n      <td>/home/xandao/Imagens/regions_dataset/images/GR...</td>\n    </tr>\n    <tr>\n      <th>color</th>\n      <td>grayscale</td>\n    </tr>\n    <tr>\n      <th>image_size</th>\n      <td>512</td>\n    </tr>\n    <tr>\n      <th>minimum_image</th>\n      <td>10</td>\n    </tr>\n    <tr>\n      <th>level_name</th>\n      <td>specific_epithet_trusted</td>\n    </tr>\n    <tr>\n      <th>region</th>\n      <td>Centro-Oeste</td>\n    </tr>\n    <tr>\n      <th>levels</th>\n      <td>29</td>\n    </tr>\n    <tr>\n      <th>total</th>\n      <td>1045</td>\n    </tr>\n    <tr>\n      <th>average</th>\n      <td>36.03</td>\n    </tr>\n  </tbody>\n</table>\n</div>"
     },
     "metadata": {},
     "output_type": "display_data"
    },
    {
     "name": "stdout",
     "output_type": "stream",
     "text": [
      "region: Centro-Oeste color: GRAYSCALE image_size: 512 minimum_image: 20\n",
      "total of levels: 17 total of images: 888\n"
     ]
    },
    {
     "data": {
      "text/plain": "                                                               0\ndst            /home/xandao/Imagens/regions_dataset/images/GR...\ncolor                                                  grayscale\nimage_size                                                   512\nminimum_image                                                 20\nlevel_name                              specific_epithet_trusted\nregion                                              Centro-Oeste\nlevels                                                        17\ntotal                                                        888\naverage                                                    52.24",
      "text/html": "<div>\n<style scoped>\n    .dataframe tbody tr th:only-of-type {\n        vertical-align: middle;\n    }\n\n    .dataframe tbody tr th {\n        vertical-align: top;\n    }\n\n    .dataframe thead th {\n        text-align: right;\n    }\n</style>\n<table border=\"1\" class=\"dataframe\">\n  <thead>\n    <tr style=\"text-align: right;\">\n      <th></th>\n      <th>0</th>\n    </tr>\n  </thead>\n  <tbody>\n    <tr>\n      <th>dst</th>\n      <td>/home/xandao/Imagens/regions_dataset/images/GR...</td>\n    </tr>\n    <tr>\n      <th>color</th>\n      <td>grayscale</td>\n    </tr>\n    <tr>\n      <th>image_size</th>\n      <td>512</td>\n    </tr>\n    <tr>\n      <th>minimum_image</th>\n      <td>20</td>\n    </tr>\n    <tr>\n      <th>level_name</th>\n      <td>specific_epithet_trusted</td>\n    </tr>\n    <tr>\n      <th>region</th>\n      <td>Centro-Oeste</td>\n    </tr>\n    <tr>\n      <th>levels</th>\n      <td>17</td>\n    </tr>\n    <tr>\n      <th>total</th>\n      <td>888</td>\n    </tr>\n    <tr>\n      <th>average</th>\n      <td>52.24</td>\n    </tr>\n  </tbody>\n</table>\n</div>"
     },
     "metadata": {},
     "output_type": "display_data"
    },
    {
     "name": "stdout",
     "output_type": "stream",
     "text": [
      "region: Sul color: GRAYSCALE image_size: 256 minimum_image: 5\n",
      "total of levels: 72 total of images: 2459\n"
     ]
    },
    {
     "data": {
      "text/plain": "                                                               0\ndst            /home/xandao/Imagens/regions_dataset/images/GR...\ncolor                                                  grayscale\nimage_size                                                   256\nminimum_image                                                  5\nlevel_name                              specific_epithet_trusted\nregion                                                       Sul\nlevels                                                        72\ntotal                                                       2459\naverage                                                    34.15",
      "text/html": "<div>\n<style scoped>\n    .dataframe tbody tr th:only-of-type {\n        vertical-align: middle;\n    }\n\n    .dataframe tbody tr th {\n        vertical-align: top;\n    }\n\n    .dataframe thead th {\n        text-align: right;\n    }\n</style>\n<table border=\"1\" class=\"dataframe\">\n  <thead>\n    <tr style=\"text-align: right;\">\n      <th></th>\n      <th>0</th>\n    </tr>\n  </thead>\n  <tbody>\n    <tr>\n      <th>dst</th>\n      <td>/home/xandao/Imagens/regions_dataset/images/GR...</td>\n    </tr>\n    <tr>\n      <th>color</th>\n      <td>grayscale</td>\n    </tr>\n    <tr>\n      <th>image_size</th>\n      <td>256</td>\n    </tr>\n    <tr>\n      <th>minimum_image</th>\n      <td>5</td>\n    </tr>\n    <tr>\n      <th>level_name</th>\n      <td>specific_epithet_trusted</td>\n    </tr>\n    <tr>\n      <th>region</th>\n      <td>Sul</td>\n    </tr>\n    <tr>\n      <th>levels</th>\n      <td>72</td>\n    </tr>\n    <tr>\n      <th>total</th>\n      <td>2459</td>\n    </tr>\n    <tr>\n      <th>average</th>\n      <td>34.15</td>\n    </tr>\n  </tbody>\n</table>\n</div>"
     },
     "metadata": {},
     "output_type": "display_data"
    },
    {
     "name": "stdout",
     "output_type": "stream",
     "text": [
      "region: Sul color: GRAYSCALE image_size: 256 minimum_image: 10\n",
      "total of levels: 49 total of images: 2311\n"
     ]
    },
    {
     "data": {
      "text/plain": "                                                               0\ndst            /home/xandao/Imagens/regions_dataset/images/GR...\ncolor                                                  grayscale\nimage_size                                                   256\nminimum_image                                                 10\nlevel_name                              specific_epithet_trusted\nregion                                                       Sul\nlevels                                                        49\ntotal                                                       2311\naverage                                                    47.16",
      "text/html": "<div>\n<style scoped>\n    .dataframe tbody tr th:only-of-type {\n        vertical-align: middle;\n    }\n\n    .dataframe tbody tr th {\n        vertical-align: top;\n    }\n\n    .dataframe thead th {\n        text-align: right;\n    }\n</style>\n<table border=\"1\" class=\"dataframe\">\n  <thead>\n    <tr style=\"text-align: right;\">\n      <th></th>\n      <th>0</th>\n    </tr>\n  </thead>\n  <tbody>\n    <tr>\n      <th>dst</th>\n      <td>/home/xandao/Imagens/regions_dataset/images/GR...</td>\n    </tr>\n    <tr>\n      <th>color</th>\n      <td>grayscale</td>\n    </tr>\n    <tr>\n      <th>image_size</th>\n      <td>256</td>\n    </tr>\n    <tr>\n      <th>minimum_image</th>\n      <td>10</td>\n    </tr>\n    <tr>\n      <th>level_name</th>\n      <td>specific_epithet_trusted</td>\n    </tr>\n    <tr>\n      <th>region</th>\n      <td>Sul</td>\n    </tr>\n    <tr>\n      <th>levels</th>\n      <td>49</td>\n    </tr>\n    <tr>\n      <th>total</th>\n      <td>2311</td>\n    </tr>\n    <tr>\n      <th>average</th>\n      <td>47.16</td>\n    </tr>\n  </tbody>\n</table>\n</div>"
     },
     "metadata": {},
     "output_type": "display_data"
    },
    {
     "name": "stdout",
     "output_type": "stream",
     "text": [
      "region: Sul color: GRAYSCALE image_size: 256 minimum_image: 20\n",
      "total of levels: 33 total of images: 2111\n"
     ]
    },
    {
     "data": {
      "text/plain": "                                                               0\ndst            /home/xandao/Imagens/regions_dataset/images/GR...\ncolor                                                  grayscale\nimage_size                                                   256\nminimum_image                                                 20\nlevel_name                              specific_epithet_trusted\nregion                                                       Sul\nlevels                                                        33\ntotal                                                       2111\naverage                                                    63.97",
      "text/html": "<div>\n<style scoped>\n    .dataframe tbody tr th:only-of-type {\n        vertical-align: middle;\n    }\n\n    .dataframe tbody tr th {\n        vertical-align: top;\n    }\n\n    .dataframe thead th {\n        text-align: right;\n    }\n</style>\n<table border=\"1\" class=\"dataframe\">\n  <thead>\n    <tr style=\"text-align: right;\">\n      <th></th>\n      <th>0</th>\n    </tr>\n  </thead>\n  <tbody>\n    <tr>\n      <th>dst</th>\n      <td>/home/xandao/Imagens/regions_dataset/images/GR...</td>\n    </tr>\n    <tr>\n      <th>color</th>\n      <td>grayscale</td>\n    </tr>\n    <tr>\n      <th>image_size</th>\n      <td>256</td>\n    </tr>\n    <tr>\n      <th>minimum_image</th>\n      <td>20</td>\n    </tr>\n    <tr>\n      <th>level_name</th>\n      <td>specific_epithet_trusted</td>\n    </tr>\n    <tr>\n      <th>region</th>\n      <td>Sul</td>\n    </tr>\n    <tr>\n      <th>levels</th>\n      <td>33</td>\n    </tr>\n    <tr>\n      <th>total</th>\n      <td>2111</td>\n    </tr>\n    <tr>\n      <th>average</th>\n      <td>63.97</td>\n    </tr>\n  </tbody>\n</table>\n</div>"
     },
     "metadata": {},
     "output_type": "display_data"
    },
    {
     "name": "stdout",
     "output_type": "stream",
     "text": [
      "region: Sul color: GRAYSCALE image_size: 400 minimum_image: 5\n",
      "total of levels: 72 total of images: 2459\n"
     ]
    },
    {
     "data": {
      "text/plain": "                                                               0\ndst            /home/xandao/Imagens/regions_dataset/images/GR...\ncolor                                                  grayscale\nimage_size                                                   400\nminimum_image                                                  5\nlevel_name                              specific_epithet_trusted\nregion                                                       Sul\nlevels                                                        72\ntotal                                                       2459\naverage                                                    34.15",
      "text/html": "<div>\n<style scoped>\n    .dataframe tbody tr th:only-of-type {\n        vertical-align: middle;\n    }\n\n    .dataframe tbody tr th {\n        vertical-align: top;\n    }\n\n    .dataframe thead th {\n        text-align: right;\n    }\n</style>\n<table border=\"1\" class=\"dataframe\">\n  <thead>\n    <tr style=\"text-align: right;\">\n      <th></th>\n      <th>0</th>\n    </tr>\n  </thead>\n  <tbody>\n    <tr>\n      <th>dst</th>\n      <td>/home/xandao/Imagens/regions_dataset/images/GR...</td>\n    </tr>\n    <tr>\n      <th>color</th>\n      <td>grayscale</td>\n    </tr>\n    <tr>\n      <th>image_size</th>\n      <td>400</td>\n    </tr>\n    <tr>\n      <th>minimum_image</th>\n      <td>5</td>\n    </tr>\n    <tr>\n      <th>level_name</th>\n      <td>specific_epithet_trusted</td>\n    </tr>\n    <tr>\n      <th>region</th>\n      <td>Sul</td>\n    </tr>\n    <tr>\n      <th>levels</th>\n      <td>72</td>\n    </tr>\n    <tr>\n      <th>total</th>\n      <td>2459</td>\n    </tr>\n    <tr>\n      <th>average</th>\n      <td>34.15</td>\n    </tr>\n  </tbody>\n</table>\n</div>"
     },
     "metadata": {},
     "output_type": "display_data"
    },
    {
     "name": "stdout",
     "output_type": "stream",
     "text": [
      "region: Sul color: GRAYSCALE image_size: 400 minimum_image: 10\n",
      "total of levels: 49 total of images: 2311\n"
     ]
    },
    {
     "data": {
      "text/plain": "                                                               0\ndst            /home/xandao/Imagens/regions_dataset/images/GR...\ncolor                                                  grayscale\nimage_size                                                   400\nminimum_image                                                 10\nlevel_name                              specific_epithet_trusted\nregion                                                       Sul\nlevels                                                        49\ntotal                                                       2311\naverage                                                    47.16",
      "text/html": "<div>\n<style scoped>\n    .dataframe tbody tr th:only-of-type {\n        vertical-align: middle;\n    }\n\n    .dataframe tbody tr th {\n        vertical-align: top;\n    }\n\n    .dataframe thead th {\n        text-align: right;\n    }\n</style>\n<table border=\"1\" class=\"dataframe\">\n  <thead>\n    <tr style=\"text-align: right;\">\n      <th></th>\n      <th>0</th>\n    </tr>\n  </thead>\n  <tbody>\n    <tr>\n      <th>dst</th>\n      <td>/home/xandao/Imagens/regions_dataset/images/GR...</td>\n    </tr>\n    <tr>\n      <th>color</th>\n      <td>grayscale</td>\n    </tr>\n    <tr>\n      <th>image_size</th>\n      <td>400</td>\n    </tr>\n    <tr>\n      <th>minimum_image</th>\n      <td>10</td>\n    </tr>\n    <tr>\n      <th>level_name</th>\n      <td>specific_epithet_trusted</td>\n    </tr>\n    <tr>\n      <th>region</th>\n      <td>Sul</td>\n    </tr>\n    <tr>\n      <th>levels</th>\n      <td>49</td>\n    </tr>\n    <tr>\n      <th>total</th>\n      <td>2311</td>\n    </tr>\n    <tr>\n      <th>average</th>\n      <td>47.16</td>\n    </tr>\n  </tbody>\n</table>\n</div>"
     },
     "metadata": {},
     "output_type": "display_data"
    },
    {
     "name": "stdout",
     "output_type": "stream",
     "text": [
      "region: Sul color: GRAYSCALE image_size: 400 minimum_image: 20\n",
      "total of levels: 33 total of images: 2111\n"
     ]
    },
    {
     "data": {
      "text/plain": "                                                               0\ndst            /home/xandao/Imagens/regions_dataset/images/GR...\ncolor                                                  grayscale\nimage_size                                                   400\nminimum_image                                                 20\nlevel_name                              specific_epithet_trusted\nregion                                                       Sul\nlevels                                                        33\ntotal                                                       2111\naverage                                                    63.97",
      "text/html": "<div>\n<style scoped>\n    .dataframe tbody tr th:only-of-type {\n        vertical-align: middle;\n    }\n\n    .dataframe tbody tr th {\n        vertical-align: top;\n    }\n\n    .dataframe thead th {\n        text-align: right;\n    }\n</style>\n<table border=\"1\" class=\"dataframe\">\n  <thead>\n    <tr style=\"text-align: right;\">\n      <th></th>\n      <th>0</th>\n    </tr>\n  </thead>\n  <tbody>\n    <tr>\n      <th>dst</th>\n      <td>/home/xandao/Imagens/regions_dataset/images/GR...</td>\n    </tr>\n    <tr>\n      <th>color</th>\n      <td>grayscale</td>\n    </tr>\n    <tr>\n      <th>image_size</th>\n      <td>400</td>\n    </tr>\n    <tr>\n      <th>minimum_image</th>\n      <td>20</td>\n    </tr>\n    <tr>\n      <th>level_name</th>\n      <td>specific_epithet_trusted</td>\n    </tr>\n    <tr>\n      <th>region</th>\n      <td>Sul</td>\n    </tr>\n    <tr>\n      <th>levels</th>\n      <td>33</td>\n    </tr>\n    <tr>\n      <th>total</th>\n      <td>2111</td>\n    </tr>\n    <tr>\n      <th>average</th>\n      <td>63.97</td>\n    </tr>\n  </tbody>\n</table>\n</div>"
     },
     "metadata": {},
     "output_type": "display_data"
    },
    {
     "name": "stdout",
     "output_type": "stream",
     "text": [
      "region: Sul color: GRAYSCALE image_size: 512 minimum_image: 5\n",
      "total of levels: 72 total of images: 2459\n"
     ]
    },
    {
     "data": {
      "text/plain": "                                                               0\ndst            /home/xandao/Imagens/regions_dataset/images/GR...\ncolor                                                  grayscale\nimage_size                                                   512\nminimum_image                                                  5\nlevel_name                              specific_epithet_trusted\nregion                                                       Sul\nlevels                                                        72\ntotal                                                       2459\naverage                                                    34.15",
      "text/html": "<div>\n<style scoped>\n    .dataframe tbody tr th:only-of-type {\n        vertical-align: middle;\n    }\n\n    .dataframe tbody tr th {\n        vertical-align: top;\n    }\n\n    .dataframe thead th {\n        text-align: right;\n    }\n</style>\n<table border=\"1\" class=\"dataframe\">\n  <thead>\n    <tr style=\"text-align: right;\">\n      <th></th>\n      <th>0</th>\n    </tr>\n  </thead>\n  <tbody>\n    <tr>\n      <th>dst</th>\n      <td>/home/xandao/Imagens/regions_dataset/images/GR...</td>\n    </tr>\n    <tr>\n      <th>color</th>\n      <td>grayscale</td>\n    </tr>\n    <tr>\n      <th>image_size</th>\n      <td>512</td>\n    </tr>\n    <tr>\n      <th>minimum_image</th>\n      <td>5</td>\n    </tr>\n    <tr>\n      <th>level_name</th>\n      <td>specific_epithet_trusted</td>\n    </tr>\n    <tr>\n      <th>region</th>\n      <td>Sul</td>\n    </tr>\n    <tr>\n      <th>levels</th>\n      <td>72</td>\n    </tr>\n    <tr>\n      <th>total</th>\n      <td>2459</td>\n    </tr>\n    <tr>\n      <th>average</th>\n      <td>34.15</td>\n    </tr>\n  </tbody>\n</table>\n</div>"
     },
     "metadata": {},
     "output_type": "display_data"
    },
    {
     "name": "stdout",
     "output_type": "stream",
     "text": [
      "region: Sul color: GRAYSCALE image_size: 512 minimum_image: 10\n",
      "total of levels: 49 total of images: 2311\n"
     ]
    },
    {
     "data": {
      "text/plain": "                                                               0\ndst            /home/xandao/Imagens/regions_dataset/images/GR...\ncolor                                                  grayscale\nimage_size                                                   512\nminimum_image                                                 10\nlevel_name                              specific_epithet_trusted\nregion                                                       Sul\nlevels                                                        49\ntotal                                                       2311\naverage                                                    47.16",
      "text/html": "<div>\n<style scoped>\n    .dataframe tbody tr th:only-of-type {\n        vertical-align: middle;\n    }\n\n    .dataframe tbody tr th {\n        vertical-align: top;\n    }\n\n    .dataframe thead th {\n        text-align: right;\n    }\n</style>\n<table border=\"1\" class=\"dataframe\">\n  <thead>\n    <tr style=\"text-align: right;\">\n      <th></th>\n      <th>0</th>\n    </tr>\n  </thead>\n  <tbody>\n    <tr>\n      <th>dst</th>\n      <td>/home/xandao/Imagens/regions_dataset/images/GR...</td>\n    </tr>\n    <tr>\n      <th>color</th>\n      <td>grayscale</td>\n    </tr>\n    <tr>\n      <th>image_size</th>\n      <td>512</td>\n    </tr>\n    <tr>\n      <th>minimum_image</th>\n      <td>10</td>\n    </tr>\n    <tr>\n      <th>level_name</th>\n      <td>specific_epithet_trusted</td>\n    </tr>\n    <tr>\n      <th>region</th>\n      <td>Sul</td>\n    </tr>\n    <tr>\n      <th>levels</th>\n      <td>49</td>\n    </tr>\n    <tr>\n      <th>total</th>\n      <td>2311</td>\n    </tr>\n    <tr>\n      <th>average</th>\n      <td>47.16</td>\n    </tr>\n  </tbody>\n</table>\n</div>"
     },
     "metadata": {},
     "output_type": "display_data"
    },
    {
     "name": "stdout",
     "output_type": "stream",
     "text": [
      "region: Sul color: GRAYSCALE image_size: 512 minimum_image: 20\n",
      "total of levels: 33 total of images: 2111\n"
     ]
    },
    {
     "data": {
      "text/plain": "                                                               0\ndst            /home/xandao/Imagens/regions_dataset/images/GR...\ncolor                                                  grayscale\nimage_size                                                   512\nminimum_image                                                 20\nlevel_name                              specific_epithet_trusted\nregion                                                       Sul\nlevels                                                        33\ntotal                                                       2111\naverage                                                    63.97",
      "text/html": "<div>\n<style scoped>\n    .dataframe tbody tr th:only-of-type {\n        vertical-align: middle;\n    }\n\n    .dataframe tbody tr th {\n        vertical-align: top;\n    }\n\n    .dataframe thead th {\n        text-align: right;\n    }\n</style>\n<table border=\"1\" class=\"dataframe\">\n  <thead>\n    <tr style=\"text-align: right;\">\n      <th></th>\n      <th>0</th>\n    </tr>\n  </thead>\n  <tbody>\n    <tr>\n      <th>dst</th>\n      <td>/home/xandao/Imagens/regions_dataset/images/GR...</td>\n    </tr>\n    <tr>\n      <th>color</th>\n      <td>grayscale</td>\n    </tr>\n    <tr>\n      <th>image_size</th>\n      <td>512</td>\n    </tr>\n    <tr>\n      <th>minimum_image</th>\n      <td>20</td>\n    </tr>\n    <tr>\n      <th>level_name</th>\n      <td>specific_epithet_trusted</td>\n    </tr>\n    <tr>\n      <th>region</th>\n      <td>Sul</td>\n    </tr>\n    <tr>\n      <th>levels</th>\n      <td>33</td>\n    </tr>\n    <tr>\n      <th>total</th>\n      <td>2111</td>\n    </tr>\n    <tr>\n      <th>average</th>\n      <td>63.97</td>\n    </tr>\n  </tbody>\n</table>\n</div>"
     },
     "metadata": {},
     "output_type": "display_data"
    },
    {
     "name": "stdout",
     "output_type": "stream",
     "text": [
      "region: Sudeste color: GRAYSCALE image_size: 256 minimum_image: 5\n",
      "total of levels: 102 total of images: 2761\n"
     ]
    },
    {
     "data": {
      "text/plain": "                                                               0\ndst            /home/xandao/Imagens/regions_dataset/images/GR...\ncolor                                                  grayscale\nimage_size                                                   256\nminimum_image                                                  5\nlevel_name                              specific_epithet_trusted\nregion                                                   Sudeste\nlevels                                                       102\ntotal                                                       2761\naverage                                                    27.07",
      "text/html": "<div>\n<style scoped>\n    .dataframe tbody tr th:only-of-type {\n        vertical-align: middle;\n    }\n\n    .dataframe tbody tr th {\n        vertical-align: top;\n    }\n\n    .dataframe thead th {\n        text-align: right;\n    }\n</style>\n<table border=\"1\" class=\"dataframe\">\n  <thead>\n    <tr style=\"text-align: right;\">\n      <th></th>\n      <th>0</th>\n    </tr>\n  </thead>\n  <tbody>\n    <tr>\n      <th>dst</th>\n      <td>/home/xandao/Imagens/regions_dataset/images/GR...</td>\n    </tr>\n    <tr>\n      <th>color</th>\n      <td>grayscale</td>\n    </tr>\n    <tr>\n      <th>image_size</th>\n      <td>256</td>\n    </tr>\n    <tr>\n      <th>minimum_image</th>\n      <td>5</td>\n    </tr>\n    <tr>\n      <th>level_name</th>\n      <td>specific_epithet_trusted</td>\n    </tr>\n    <tr>\n      <th>region</th>\n      <td>Sudeste</td>\n    </tr>\n    <tr>\n      <th>levels</th>\n      <td>102</td>\n    </tr>\n    <tr>\n      <th>total</th>\n      <td>2761</td>\n    </tr>\n    <tr>\n      <th>average</th>\n      <td>27.07</td>\n    </tr>\n  </tbody>\n</table>\n</div>"
     },
     "metadata": {},
     "output_type": "display_data"
    },
    {
     "name": "stdout",
     "output_type": "stream",
     "text": [
      "region: Sudeste color: GRAYSCALE image_size: 256 minimum_image: 10\n",
      "total of levels: 68 total of images: 2536\n"
     ]
    },
    {
     "data": {
      "text/plain": "                                                               0\ndst            /home/xandao/Imagens/regions_dataset/images/GR...\ncolor                                                  grayscale\nimage_size                                                   256\nminimum_image                                                 10\nlevel_name                              specific_epithet_trusted\nregion                                                   Sudeste\nlevels                                                        68\ntotal                                                       2536\naverage                                                    37.29",
      "text/html": "<div>\n<style scoped>\n    .dataframe tbody tr th:only-of-type {\n        vertical-align: middle;\n    }\n\n    .dataframe tbody tr th {\n        vertical-align: top;\n    }\n\n    .dataframe thead th {\n        text-align: right;\n    }\n</style>\n<table border=\"1\" class=\"dataframe\">\n  <thead>\n    <tr style=\"text-align: right;\">\n      <th></th>\n      <th>0</th>\n    </tr>\n  </thead>\n  <tbody>\n    <tr>\n      <th>dst</th>\n      <td>/home/xandao/Imagens/regions_dataset/images/GR...</td>\n    </tr>\n    <tr>\n      <th>color</th>\n      <td>grayscale</td>\n    </tr>\n    <tr>\n      <th>image_size</th>\n      <td>256</td>\n    </tr>\n    <tr>\n      <th>minimum_image</th>\n      <td>10</td>\n    </tr>\n    <tr>\n      <th>level_name</th>\n      <td>specific_epithet_trusted</td>\n    </tr>\n    <tr>\n      <th>region</th>\n      <td>Sudeste</td>\n    </tr>\n    <tr>\n      <th>levels</th>\n      <td>68</td>\n    </tr>\n    <tr>\n      <th>total</th>\n      <td>2536</td>\n    </tr>\n    <tr>\n      <th>average</th>\n      <td>37.29</td>\n    </tr>\n  </tbody>\n</table>\n</div>"
     },
     "metadata": {},
     "output_type": "display_data"
    },
    {
     "name": "stdout",
     "output_type": "stream",
     "text": [
      "region: Sudeste color: GRAYSCALE image_size: 256 minimum_image: 20\n",
      "total of levels: 42 total of images: 2211\n"
     ]
    },
    {
     "data": {
      "text/plain": "                                                               0\ndst            /home/xandao/Imagens/regions_dataset/images/GR...\ncolor                                                  grayscale\nimage_size                                                   256\nminimum_image                                                 20\nlevel_name                              specific_epithet_trusted\nregion                                                   Sudeste\nlevels                                                        42\ntotal                                                       2211\naverage                                                    52.64",
      "text/html": "<div>\n<style scoped>\n    .dataframe tbody tr th:only-of-type {\n        vertical-align: middle;\n    }\n\n    .dataframe tbody tr th {\n        vertical-align: top;\n    }\n\n    .dataframe thead th {\n        text-align: right;\n    }\n</style>\n<table border=\"1\" class=\"dataframe\">\n  <thead>\n    <tr style=\"text-align: right;\">\n      <th></th>\n      <th>0</th>\n    </tr>\n  </thead>\n  <tbody>\n    <tr>\n      <th>dst</th>\n      <td>/home/xandao/Imagens/regions_dataset/images/GR...</td>\n    </tr>\n    <tr>\n      <th>color</th>\n      <td>grayscale</td>\n    </tr>\n    <tr>\n      <th>image_size</th>\n      <td>256</td>\n    </tr>\n    <tr>\n      <th>minimum_image</th>\n      <td>20</td>\n    </tr>\n    <tr>\n      <th>level_name</th>\n      <td>specific_epithet_trusted</td>\n    </tr>\n    <tr>\n      <th>region</th>\n      <td>Sudeste</td>\n    </tr>\n    <tr>\n      <th>levels</th>\n      <td>42</td>\n    </tr>\n    <tr>\n      <th>total</th>\n      <td>2211</td>\n    </tr>\n    <tr>\n      <th>average</th>\n      <td>52.64</td>\n    </tr>\n  </tbody>\n</table>\n</div>"
     },
     "metadata": {},
     "output_type": "display_data"
    },
    {
     "name": "stdout",
     "output_type": "stream",
     "text": [
      "region: Sudeste color: GRAYSCALE image_size: 400 minimum_image: 5\n",
      "total of levels: 102 total of images: 2761\n"
     ]
    },
    {
     "data": {
      "text/plain": "                                                               0\ndst            /home/xandao/Imagens/regions_dataset/images/GR...\ncolor                                                  grayscale\nimage_size                                                   400\nminimum_image                                                  5\nlevel_name                              specific_epithet_trusted\nregion                                                   Sudeste\nlevels                                                       102\ntotal                                                       2761\naverage                                                    27.07",
      "text/html": "<div>\n<style scoped>\n    .dataframe tbody tr th:only-of-type {\n        vertical-align: middle;\n    }\n\n    .dataframe tbody tr th {\n        vertical-align: top;\n    }\n\n    .dataframe thead th {\n        text-align: right;\n    }\n</style>\n<table border=\"1\" class=\"dataframe\">\n  <thead>\n    <tr style=\"text-align: right;\">\n      <th></th>\n      <th>0</th>\n    </tr>\n  </thead>\n  <tbody>\n    <tr>\n      <th>dst</th>\n      <td>/home/xandao/Imagens/regions_dataset/images/GR...</td>\n    </tr>\n    <tr>\n      <th>color</th>\n      <td>grayscale</td>\n    </tr>\n    <tr>\n      <th>image_size</th>\n      <td>400</td>\n    </tr>\n    <tr>\n      <th>minimum_image</th>\n      <td>5</td>\n    </tr>\n    <tr>\n      <th>level_name</th>\n      <td>specific_epithet_trusted</td>\n    </tr>\n    <tr>\n      <th>region</th>\n      <td>Sudeste</td>\n    </tr>\n    <tr>\n      <th>levels</th>\n      <td>102</td>\n    </tr>\n    <tr>\n      <th>total</th>\n      <td>2761</td>\n    </tr>\n    <tr>\n      <th>average</th>\n      <td>27.07</td>\n    </tr>\n  </tbody>\n</table>\n</div>"
     },
     "metadata": {},
     "output_type": "display_data"
    },
    {
     "name": "stdout",
     "output_type": "stream",
     "text": [
      "region: Sudeste color: GRAYSCALE image_size: 400 minimum_image: 10\n",
      "total of levels: 68 total of images: 2536\n"
     ]
    },
    {
     "data": {
      "text/plain": "                                                               0\ndst            /home/xandao/Imagens/regions_dataset/images/GR...\ncolor                                                  grayscale\nimage_size                                                   400\nminimum_image                                                 10\nlevel_name                              specific_epithet_trusted\nregion                                                   Sudeste\nlevels                                                        68\ntotal                                                       2536\naverage                                                    37.29",
      "text/html": "<div>\n<style scoped>\n    .dataframe tbody tr th:only-of-type {\n        vertical-align: middle;\n    }\n\n    .dataframe tbody tr th {\n        vertical-align: top;\n    }\n\n    .dataframe thead th {\n        text-align: right;\n    }\n</style>\n<table border=\"1\" class=\"dataframe\">\n  <thead>\n    <tr style=\"text-align: right;\">\n      <th></th>\n      <th>0</th>\n    </tr>\n  </thead>\n  <tbody>\n    <tr>\n      <th>dst</th>\n      <td>/home/xandao/Imagens/regions_dataset/images/GR...</td>\n    </tr>\n    <tr>\n      <th>color</th>\n      <td>grayscale</td>\n    </tr>\n    <tr>\n      <th>image_size</th>\n      <td>400</td>\n    </tr>\n    <tr>\n      <th>minimum_image</th>\n      <td>10</td>\n    </tr>\n    <tr>\n      <th>level_name</th>\n      <td>specific_epithet_trusted</td>\n    </tr>\n    <tr>\n      <th>region</th>\n      <td>Sudeste</td>\n    </tr>\n    <tr>\n      <th>levels</th>\n      <td>68</td>\n    </tr>\n    <tr>\n      <th>total</th>\n      <td>2536</td>\n    </tr>\n    <tr>\n      <th>average</th>\n      <td>37.29</td>\n    </tr>\n  </tbody>\n</table>\n</div>"
     },
     "metadata": {},
     "output_type": "display_data"
    },
    {
     "name": "stdout",
     "output_type": "stream",
     "text": [
      "region: Sudeste color: GRAYSCALE image_size: 400 minimum_image: 20\n",
      "total of levels: 42 total of images: 2211\n"
     ]
    },
    {
     "data": {
      "text/plain": "                                                               0\ndst            /home/xandao/Imagens/regions_dataset/images/GR...\ncolor                                                  grayscale\nimage_size                                                   400\nminimum_image                                                 20\nlevel_name                              specific_epithet_trusted\nregion                                                   Sudeste\nlevels                                                        42\ntotal                                                       2211\naverage                                                    52.64",
      "text/html": "<div>\n<style scoped>\n    .dataframe tbody tr th:only-of-type {\n        vertical-align: middle;\n    }\n\n    .dataframe tbody tr th {\n        vertical-align: top;\n    }\n\n    .dataframe thead th {\n        text-align: right;\n    }\n</style>\n<table border=\"1\" class=\"dataframe\">\n  <thead>\n    <tr style=\"text-align: right;\">\n      <th></th>\n      <th>0</th>\n    </tr>\n  </thead>\n  <tbody>\n    <tr>\n      <th>dst</th>\n      <td>/home/xandao/Imagens/regions_dataset/images/GR...</td>\n    </tr>\n    <tr>\n      <th>color</th>\n      <td>grayscale</td>\n    </tr>\n    <tr>\n      <th>image_size</th>\n      <td>400</td>\n    </tr>\n    <tr>\n      <th>minimum_image</th>\n      <td>20</td>\n    </tr>\n    <tr>\n      <th>level_name</th>\n      <td>specific_epithet_trusted</td>\n    </tr>\n    <tr>\n      <th>region</th>\n      <td>Sudeste</td>\n    </tr>\n    <tr>\n      <th>levels</th>\n      <td>42</td>\n    </tr>\n    <tr>\n      <th>total</th>\n      <td>2211</td>\n    </tr>\n    <tr>\n      <th>average</th>\n      <td>52.64</td>\n    </tr>\n  </tbody>\n</table>\n</div>"
     },
     "metadata": {},
     "output_type": "display_data"
    },
    {
     "name": "stdout",
     "output_type": "stream",
     "text": [
      "region: Sudeste color: GRAYSCALE image_size: 512 minimum_image: 5\n",
      "total of levels: 102 total of images: 2761\n"
     ]
    },
    {
     "data": {
      "text/plain": "                                                               0\ndst            /home/xandao/Imagens/regions_dataset/images/GR...\ncolor                                                  grayscale\nimage_size                                                   512\nminimum_image                                                  5\nlevel_name                              specific_epithet_trusted\nregion                                                   Sudeste\nlevels                                                       102\ntotal                                                       2761\naverage                                                    27.07",
      "text/html": "<div>\n<style scoped>\n    .dataframe tbody tr th:only-of-type {\n        vertical-align: middle;\n    }\n\n    .dataframe tbody tr th {\n        vertical-align: top;\n    }\n\n    .dataframe thead th {\n        text-align: right;\n    }\n</style>\n<table border=\"1\" class=\"dataframe\">\n  <thead>\n    <tr style=\"text-align: right;\">\n      <th></th>\n      <th>0</th>\n    </tr>\n  </thead>\n  <tbody>\n    <tr>\n      <th>dst</th>\n      <td>/home/xandao/Imagens/regions_dataset/images/GR...</td>\n    </tr>\n    <tr>\n      <th>color</th>\n      <td>grayscale</td>\n    </tr>\n    <tr>\n      <th>image_size</th>\n      <td>512</td>\n    </tr>\n    <tr>\n      <th>minimum_image</th>\n      <td>5</td>\n    </tr>\n    <tr>\n      <th>level_name</th>\n      <td>specific_epithet_trusted</td>\n    </tr>\n    <tr>\n      <th>region</th>\n      <td>Sudeste</td>\n    </tr>\n    <tr>\n      <th>levels</th>\n      <td>102</td>\n    </tr>\n    <tr>\n      <th>total</th>\n      <td>2761</td>\n    </tr>\n    <tr>\n      <th>average</th>\n      <td>27.07</td>\n    </tr>\n  </tbody>\n</table>\n</div>"
     },
     "metadata": {},
     "output_type": "display_data"
    },
    {
     "name": "stdout",
     "output_type": "stream",
     "text": [
      "region: Sudeste color: GRAYSCALE image_size: 512 minimum_image: 10\n",
      "total of levels: 68 total of images: 2536\n"
     ]
    },
    {
     "data": {
      "text/plain": "                                                               0\ndst            /home/xandao/Imagens/regions_dataset/images/GR...\ncolor                                                  grayscale\nimage_size                                                   512\nminimum_image                                                 10\nlevel_name                              specific_epithet_trusted\nregion                                                   Sudeste\nlevels                                                        68\ntotal                                                       2536\naverage                                                    37.29",
      "text/html": "<div>\n<style scoped>\n    .dataframe tbody tr th:only-of-type {\n        vertical-align: middle;\n    }\n\n    .dataframe tbody tr th {\n        vertical-align: top;\n    }\n\n    .dataframe thead th {\n        text-align: right;\n    }\n</style>\n<table border=\"1\" class=\"dataframe\">\n  <thead>\n    <tr style=\"text-align: right;\">\n      <th></th>\n      <th>0</th>\n    </tr>\n  </thead>\n  <tbody>\n    <tr>\n      <th>dst</th>\n      <td>/home/xandao/Imagens/regions_dataset/images/GR...</td>\n    </tr>\n    <tr>\n      <th>color</th>\n      <td>grayscale</td>\n    </tr>\n    <tr>\n      <th>image_size</th>\n      <td>512</td>\n    </tr>\n    <tr>\n      <th>minimum_image</th>\n      <td>10</td>\n    </tr>\n    <tr>\n      <th>level_name</th>\n      <td>specific_epithet_trusted</td>\n    </tr>\n    <tr>\n      <th>region</th>\n      <td>Sudeste</td>\n    </tr>\n    <tr>\n      <th>levels</th>\n      <td>68</td>\n    </tr>\n    <tr>\n      <th>total</th>\n      <td>2536</td>\n    </tr>\n    <tr>\n      <th>average</th>\n      <td>37.29</td>\n    </tr>\n  </tbody>\n</table>\n</div>"
     },
     "metadata": {},
     "output_type": "display_data"
    },
    {
     "name": "stdout",
     "output_type": "stream",
     "text": [
      "region: Sudeste color: GRAYSCALE image_size: 512 minimum_image: 20\n",
      "total of levels: 42 total of images: 2211\n"
     ]
    },
    {
     "data": {
      "text/plain": "                                                               0\ndst            /home/xandao/Imagens/regions_dataset/images/GR...\ncolor                                                  grayscale\nimage_size                                                   512\nminimum_image                                                 20\nlevel_name                              specific_epithet_trusted\nregion                                                   Sudeste\nlevels                                                        42\ntotal                                                       2211\naverage                                                    52.64",
      "text/html": "<div>\n<style scoped>\n    .dataframe tbody tr th:only-of-type {\n        vertical-align: middle;\n    }\n\n    .dataframe tbody tr th {\n        vertical-align: top;\n    }\n\n    .dataframe thead th {\n        text-align: right;\n    }\n</style>\n<table border=\"1\" class=\"dataframe\">\n  <thead>\n    <tr style=\"text-align: right;\">\n      <th></th>\n      <th>0</th>\n    </tr>\n  </thead>\n  <tbody>\n    <tr>\n      <th>dst</th>\n      <td>/home/xandao/Imagens/regions_dataset/images/GR...</td>\n    </tr>\n    <tr>\n      <th>color</th>\n      <td>grayscale</td>\n    </tr>\n    <tr>\n      <th>image_size</th>\n      <td>512</td>\n    </tr>\n    <tr>\n      <th>minimum_image</th>\n      <td>20</td>\n    </tr>\n    <tr>\n      <th>level_name</th>\n      <td>specific_epithet_trusted</td>\n    </tr>\n    <tr>\n      <th>region</th>\n      <td>Sudeste</td>\n    </tr>\n    <tr>\n      <th>levels</th>\n      <td>42</td>\n    </tr>\n    <tr>\n      <th>total</th>\n      <td>2211</td>\n    </tr>\n    <tr>\n      <th>average</th>\n      <td>52.64</td>\n    </tr>\n  </tbody>\n</table>\n</div>"
     },
     "metadata": {},
     "output_type": "display_data"
    }
   ],
   "source": [
    "for color in list_color:\n",
    "    for region in list_regions:\n",
    "        for image_size in list_image_size:\n",
    "            for minimum_image in list_minimum_image:\n",
    "                query = session.query(County).filter(County.regiao.__eq__(region)).distinct().all()\n",
    "\n",
    "                state_unaccented_lower, uf_unaccented_lower, county_unaccented_lower = db.get_state_uf_county(query)\n",
    "\n",
    "                list_level = []\n",
    "                list_path_images_final = []\n",
    "                list_seq_final = []\n",
    "                list_count_samples = []\n",
    "\n",
    "                level=DataTrustedIdentifier.specific_epithet_trusted\n",
    "                out=os.path.join(path_out, color.upper(), level.name, region, image_size, str(minimum_image))\n",
    "\n",
    "                condition = sa.and_(DataTrustedIdentifier.country_trusted.__eq__('Brasil'),\n",
    "                                    level.is_not(None),\n",
    "                                    sa.or_(sa.and_(uf_unaccented_lower,\n",
    "                                           state_unaccented_lower,\n",
    "                                           county_unaccented_lower),\n",
    "                                           sa.and_(uf_unaccented_lower,\n",
    "                                           county_unaccented_lower),\n",
    "                                           sa.and_(state_unaccented_lower,\n",
    "                                           county_unaccented_lower),\n",
    "                                           uf_unaccented_lower,\n",
    "                                           state_unaccented_lower)\n",
    "                                    )\n",
    "\n",
    "                query = db.get_records_group_by_level(condition, level, minimum_image, session)\n",
    "                print('region: %s color: %s image_size: %s minimum_image: %d' % (region, color.upper(), image_size, minimum_image))\n",
    "                select_images(color, image_size, list_count_samples, list_level, list_images_invalid, list_path_images_final, list_seq_final, minimum_image, session, query)\n",
    "\n",
    "                list_dst, list_f = copy_images(list_level, list_path_images_final, out)\n",
    "                save_metadata(color, image_size, level, list_count_samples, list_dst, list_f, list_level, list_path_images_final, list_seq_final, minimum_image, out, session, region=region)"
   ]
  },
  {
   "cell_type": "code",
   "execution_count": null,
   "metadata": {
    "collapsed": false,
    "ExecuteTime": {
     "start_time": "2023-04-03T14:41:21.453284Z",
     "end_time": "2023-04-03T14:41:21.522768Z"
    }
   },
   "outputs": [],
   "source": [
    "session.close()\n",
    "engine.dispose()"
   ]
  }
 ],
 "metadata": {
  "kernelspec": {
   "display_name": "Python 3",
   "language": "python",
   "name": "python3"
  },
  "language_info": {
   "codemirror_mode": {
    "name": "ipython",
    "version": 3
   },
   "file_extension": ".py",
   "mimetype": "text/x-python",
   "name": "python",
   "nbconvert_exporter": "python",
   "pygments_lexer": "ipython3",
   "version": "3.9.12"
  }
 },
 "nbformat": 4,
 "nbformat_minor": 0
}
