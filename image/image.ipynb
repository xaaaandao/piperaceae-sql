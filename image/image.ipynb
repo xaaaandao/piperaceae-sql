{
 "cells": [
  {
   "cell_type": "code",
   "execution_count": 1,
   "outputs": [
    {
     "name": "stdout",
     "output_type": "stream",
     "text": [
      "The autoreload extension is already loaded. To reload it, use:\n",
      "  %reload_ext autoreload\n"
     ]
    }
   ],
   "source": [
    "%reload_ext autoreload\n",
    "%load_ext autoreload\n",
    "%autoreload 2"
   ],
   "metadata": {
    "collapsed": false
   }
  },
  {
   "cell_type": "code",
   "execution_count": 2,
   "metadata": {},
   "outputs": [],
   "source": [
    "import os\n",
    "import pathlib\n",
    "import sys\n",
    "\n",
    "sys.path.append(os.path.dirname(os.path.dirname(os.path.abspath('main.ipynb'))))\n",
    "\n",
    "import database as db\n",
    "from models import DataTrustedIdentifier, Image, create_info_image\n",
    "from sqlalchemy import and_\n",
    "from sqlalchemy.orm import Session"
   ]
  },
  {
   "cell_type": "markdown",
   "source": [
    "## Database connection"
   ],
   "metadata": {
    "collapsed": false
   }
  },
  {
   "cell_type": "code",
   "execution_count": 3,
   "outputs": [
    {
     "name": "stdout",
     "output_type": "stream",
     "text": [
      "2023-03-24 20:46:33,601 INFO sqlalchemy.engine.Engine select pg_catalog.version()\n",
      "2023-03-24 20:46:33,602 INFO sqlalchemy.engine.Engine [raw sql] {}\n",
      "2023-03-24 20:46:33,603 INFO sqlalchemy.engine.Engine select current_schema()\n",
      "2023-03-24 20:46:33,604 INFO sqlalchemy.engine.Engine [raw sql] {}\n",
      "2023-03-24 20:46:33,604 INFO sqlalchemy.engine.Engine show standard_conforming_strings\n",
      "2023-03-24 20:46:33,605 INFO sqlalchemy.engine.Engine [raw sql] {}\n"
     ]
    }
   ],
   "source": [
    "session: Session\n",
    "engine, session = db.connect()\n",
    "engine.echo=False"
   ],
   "metadata": {
    "collapsed": false
   }
  },
  {
   "cell_type": "markdown",
   "source": [
    "## Create table info_image and fill table"
   ],
   "metadata": {
    "collapsed": false
   }
  },
  {
   "cell_type": "code",
   "execution_count": null,
   "outputs": [],
   "source": [
    "def fill_table_info_image(color_mode, image_size, result, seq):\n",
    "    for r in result:\n",
    "        record_exist = session.query(Image) \\\n",
    "            .filter(and_(Image.color_mode == color_mode,\n",
    "                         Image.image_size == image_size,\n",
    "                         Image.path_image == r,\n",
    "                         Image.seq_id == seq)) \\\n",
    "            .all()\n",
    "        if len(record_exist) == 0:\n",
    "            print('inserted new record')\n",
    "            image_info = create_info_image(color_mode, image_size, r, seq)\n",
    "            session.add(image_info)\n",
    "            session.commit()\n",
    "\n",
    "\n",
    "def set_path_image(color_mode, image_size, list_images, query):\n",
    "    for i, q in enumerate(query):\n",
    "        result = sorted([str(image) for image in list_images if q.barcode in str(image.stem) and os.path.exists(image)])\n",
    "        print('founded %d files' % len(result))\n",
    "        if len(result) > 0:\n",
    "            fill_table_info_image(color_mode, image_size, result, q.seq)"
   ],
   "metadata": {
    "collapsed": false
   }
  },
  {
   "cell_type": "code",
   "execution_count": null,
   "outputs": [],
   "source": [
    "db.create_table(engine, Image)\n",
    "\n",
    "for color in ['rgb', 'grayscale']:\n",
    "    for image_size in ['256', '400', '512']:\n",
    "        column_name = 'path_%s_%s' % (image_size, color)\n",
    "        path_fotos = '/home/xandao/Documentos/%s/%s/w_pred_mask' % (color.upper(), image_size)\n",
    "        list_images = [image for image in pathlib.Path(path_fotos).rglob('*.jpeg') if image.is_file()]\n",
    "        columns = [DataTrustedIdentifier.barcode, DataTrustedIdentifier.seq]\n",
    "        query = session.query(*columns).all()\n",
    "        if len(list_images) > 0 and len(query) >= 0:\n",
    "            set_path_image(color, image_size, list_images, query)"
   ],
   "metadata": {
    "collapsed": false
   }
  },
  {
   "cell_type": "markdown",
   "source": [
    "## Close connection"
   ],
   "metadata": {
    "collapsed": false
   }
  },
  {
   "cell_type": "code",
   "execution_count": 5,
   "outputs": [],
   "source": [
    "session.close()\n",
    "engine.dispose()"
   ],
   "metadata": {
    "collapsed": false
   }
  }
 ],
 "metadata": {
  "kernelspec": {
   "display_name": "base",
   "language": "python",
   "name": "python3"
  },
  "language_info": {
   "codemirror_mode": {
    "name": "ipython",
    "version": 3
   },
   "file_extension": ".py",
   "mimetype": "text/x-python",
   "name": "python",
   "nbconvert_exporter": "python",
   "pygments_lexer": "ipython3",
   "version": "3.9.12"
  },
  "vscode": {
   "interpreter": {
    "hash": "53ce972a288a646521e393254486dd3d4e40ae124f0f9a66da52dff344d61cdc"
   }
  }
 },
 "nbformat": 4,
 "nbformat_minor": 1
}
