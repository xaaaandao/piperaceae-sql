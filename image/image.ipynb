{
 "cells": [
  {
   "cell_type": "code",
   "execution_count": 1,
   "outputs": [
    {
     "name": "stdout",
     "output_type": "stream",
     "text": [
      "The autoreload extension is already loaded. To reload it, use:\n",
      "  %reload_ext autoreload\n"
     ]
    }
   ],
   "source": [
    "%reload_ext autoreload\n",
    "%load_ext autoreload\n",
    "%autoreload 2"
   ],
   "metadata": {
    "collapsed": false
   }
  },
  {
   "cell_type": "code",
   "execution_count": 2,
   "metadata": {},
   "outputs": [],
   "source": [
    "import os\n",
    "import pathlib\n",
    "import sys\n",
    "\n",
    "sys.path.append(os.path.dirname(os.path.dirname(os.path.abspath('main.ipynb'))))\n",
    "\n",
    "import database as db\n",
    "from models import DataTrustedIdentifier, Image, create_info_image\n",
    "from sqlalchemy import and_\n",
    "from sqlalchemy.orm import Session"
   ]
  },
  {
   "cell_type": "markdown",
   "source": [
    "## Database connection"
   ],
   "metadata": {
    "collapsed": false
   }
  },
  {
   "cell_type": "code",
   "execution_count": 3,
   "outputs": [
    {
     "name": "stdout",
     "output_type": "stream",
     "text": [
      "2023-03-27 00:06:34,194 INFO sqlalchemy.engine.Engine select pg_catalog.version()\n",
      "2023-03-27 00:06:34,194 INFO sqlalchemy.engine.Engine [raw sql] {}\n",
      "2023-03-27 00:06:34,195 INFO sqlalchemy.engine.Engine select current_schema()\n",
      "2023-03-27 00:06:34,196 INFO sqlalchemy.engine.Engine [raw sql] {}\n",
      "2023-03-27 00:06:34,196 INFO sqlalchemy.engine.Engine show standard_conforming_strings\n",
      "2023-03-27 00:06:34,197 INFO sqlalchemy.engine.Engine [raw sql] {}\n"
     ]
    }
   ],
   "source": [
    "session: Session\n",
    "engine, session = db.connect()\n",
    "engine.echo=False"
   ],
   "metadata": {
    "collapsed": false
   }
  },
  {
   "cell_type": "markdown",
   "source": [
    "## Create table info_image and fill table"
   ],
   "metadata": {
    "collapsed": false
   }
  },
  {
   "cell_type": "code",
   "execution_count": 4,
   "outputs": [],
   "source": [
    "def fill_table_info_image(color_mode, width, height, result, seq):\n",
    "    for r in result:\n",
    "        record_exist = session.query(Image) \\\n",
    "            .filter(and_(Image.color_mode == color_mode,\n",
    "                         Image.height == width,\n",
    "                         Image.width == height,\n",
    "                         Image.path == r,\n",
    "                         Image.seq_id == seq)) \\\n",
    "            .all()\n",
    "        if len(record_exist) == 0:\n",
    "            print('inserted new record')\n",
    "            image_info = create_info_image(color_mode, image_size, r, seq)\n",
    "            session.add(image_info)\n",
    "            session.commit()\n",
    "\n",
    "\n",
    "def set_path_image(color_mode, image_size, list_images, query):\n",
    "    for i, q in enumerate(query):\n",
    "        result = sorted([str(image) for image in list_images if q.barcode in str(image.stem) and os.path.exists(image)])\n",
    "        print('founded %d files' % len(result))\n",
    "        if len(result) > 0:\n",
    "            fill_table_info_image(color_mode, image_size, result, q.seq)"
   ],
   "metadata": {
    "collapsed": false
   }
  },
  {
   "cell_type": "code",
   "execution_count": 5,
   "outputs": [
    {
     "name": "stdout",
     "output_type": "stream",
     "text": [
      "create table: images\n",
      "founded 1 files\n"
     ]
    },
    {
     "ename": "AttributeError",
     "evalue": "type object 'Image' has no attribute 'image_size'",
     "output_type": "error",
     "traceback": [
      "\u001B[0;31m---------------------------------------------------------------------------\u001B[0m",
      "\u001B[0;31mAttributeError\u001B[0m                            Traceback (most recent call last)",
      "Cell \u001B[0;32mIn[5], line 11\u001B[0m\n\u001B[1;32m      9\u001B[0m query \u001B[38;5;241m=\u001B[39m session\u001B[38;5;241m.\u001B[39mquery(\u001B[38;5;241m*\u001B[39mcolumns)\u001B[38;5;241m.\u001B[39mall()\n\u001B[1;32m     10\u001B[0m \u001B[38;5;28;01mif\u001B[39;00m \u001B[38;5;28mlen\u001B[39m(list_images) \u001B[38;5;241m>\u001B[39m \u001B[38;5;241m0\u001B[39m \u001B[38;5;129;01mand\u001B[39;00m \u001B[38;5;28mlen\u001B[39m(query) \u001B[38;5;241m>\u001B[39m\u001B[38;5;241m=\u001B[39m \u001B[38;5;241m0\u001B[39m:\n\u001B[0;32m---> 11\u001B[0m     \u001B[43mset_path_image\u001B[49m\u001B[43m(\u001B[49m\u001B[43mcolor\u001B[49m\u001B[43m,\u001B[49m\u001B[43m \u001B[49m\u001B[43mimage_size\u001B[49m\u001B[43m,\u001B[49m\u001B[43m \u001B[49m\u001B[43mlist_images\u001B[49m\u001B[43m,\u001B[49m\u001B[43m \u001B[49m\u001B[43mquery\u001B[49m\u001B[43m)\u001B[49m\n",
      "Cell \u001B[0;32mIn[4], line 21\u001B[0m, in \u001B[0;36mset_path_image\u001B[0;34m(color_mode, image_size, list_images, query)\u001B[0m\n\u001B[1;32m     19\u001B[0m \u001B[38;5;28mprint\u001B[39m(\u001B[38;5;124m'\u001B[39m\u001B[38;5;124mfounded \u001B[39m\u001B[38;5;132;01m%d\u001B[39;00m\u001B[38;5;124m files\u001B[39m\u001B[38;5;124m'\u001B[39m \u001B[38;5;241m%\u001B[39m \u001B[38;5;28mlen\u001B[39m(result))\n\u001B[1;32m     20\u001B[0m \u001B[38;5;28;01mif\u001B[39;00m \u001B[38;5;28mlen\u001B[39m(result) \u001B[38;5;241m>\u001B[39m \u001B[38;5;241m0\u001B[39m:\n\u001B[0;32m---> 21\u001B[0m     \u001B[43mfill_table_info_image\u001B[49m\u001B[43m(\u001B[49m\u001B[43mcolor_mode\u001B[49m\u001B[43m,\u001B[49m\u001B[43m \u001B[49m\u001B[43mimage_size\u001B[49m\u001B[43m,\u001B[49m\u001B[43m \u001B[49m\u001B[43mresult\u001B[49m\u001B[43m,\u001B[49m\u001B[43m \u001B[49m\u001B[43mq\u001B[49m\u001B[38;5;241;43m.\u001B[39;49m\u001B[43mseq\u001B[49m\u001B[43m)\u001B[49m\n",
      "Cell \u001B[0;32mIn[4], line 5\u001B[0m, in \u001B[0;36mfill_table_info_image\u001B[0;34m(color_mode, image_size, result, seq)\u001B[0m\n\u001B[1;32m      1\u001B[0m \u001B[38;5;28;01mdef\u001B[39;00m \u001B[38;5;21mfill_table_info_image\u001B[39m(color_mode, image_size, result, seq):\n\u001B[1;32m      2\u001B[0m     \u001B[38;5;28;01mfor\u001B[39;00m r \u001B[38;5;129;01min\u001B[39;00m result:\n\u001B[1;32m      3\u001B[0m         record_exist \u001B[38;5;241m=\u001B[39m session\u001B[38;5;241m.\u001B[39mquery(Image) \\\n\u001B[1;32m      4\u001B[0m             \u001B[38;5;241m.\u001B[39mfilter(and_(Image\u001B[38;5;241m.\u001B[39mcolor_mode \u001B[38;5;241m==\u001B[39m color_mode,\n\u001B[0;32m----> 5\u001B[0m                          \u001B[43mImage\u001B[49m\u001B[38;5;241;43m.\u001B[39;49m\u001B[43mimage_size\u001B[49m \u001B[38;5;241m==\u001B[39m image_size,\n\u001B[1;32m      6\u001B[0m                          Image\u001B[38;5;241m.\u001B[39mpath_image \u001B[38;5;241m==\u001B[39m r,\n\u001B[1;32m      7\u001B[0m                          Image\u001B[38;5;241m.\u001B[39mseq_id \u001B[38;5;241m==\u001B[39m seq)) \\\n\u001B[1;32m      8\u001B[0m             \u001B[38;5;241m.\u001B[39mall()\n\u001B[1;32m      9\u001B[0m         \u001B[38;5;28;01mif\u001B[39;00m \u001B[38;5;28mlen\u001B[39m(record_exist) \u001B[38;5;241m==\u001B[39m \u001B[38;5;241m0\u001B[39m:\n\u001B[1;32m     10\u001B[0m             \u001B[38;5;28mprint\u001B[39m(\u001B[38;5;124m'\u001B[39m\u001B[38;5;124minserted new record\u001B[39m\u001B[38;5;124m'\u001B[39m)\n",
      "\u001B[0;31mAttributeError\u001B[0m: type object 'Image' has no attribute 'image_size'"
     ]
    }
   ],
   "source": [
    "db.create_table(engine, Image)\n",
    "\n",
    "for color in ['rgb', 'grayscale']:\n",
    "    for image_size in ['256', '400', '512']:\n",
    "        column_name = 'path_%s_%s' % (image_size, color)\n",
    "        path_fotos = '/media/xandao/c2f58d30-ff2c-47f7-95af-91ad6fd69760/dataset/dataset-52k-sp-RGB-resize-xcf-mask-segmented/RGB/%s/w_pred_mask' % (image_size)\n",
    "        list_images = [image for image in pathlib.Path(path_fotos).rglob('*.jpeg') if image.is_file()]\n",
    "        columns = [DataTrustedIdentifier.barcode, DataTrustedIdentifier.seq]\n",
    "        query = session.query(*columns).all()\n",
    "        if len(list_images) > 0 and len(query) >= 0:\n",
    "            set_path_image(color, image_size, list_images, query)"
   ],
   "metadata": {
    "collapsed": false
   }
  },
  {
   "cell_type": "markdown",
   "source": [
    "## Close connection"
   ],
   "metadata": {
    "collapsed": false
   }
  },
  {
   "cell_type": "code",
   "execution_count": null,
   "outputs": [],
   "source": [
    "session.close()\n",
    "engine.dispose()"
   ],
   "metadata": {
    "collapsed": false
   }
  }
 ],
 "metadata": {
  "kernelspec": {
   "display_name": "base",
   "language": "python",
   "name": "python3"
  },
  "language_info": {
   "codemirror_mode": {
    "name": "ipython",
    "version": 3
   },
   "file_extension": ".py",
   "mimetype": "text/x-python",
   "name": "python",
   "nbconvert_exporter": "python",
   "pygments_lexer": "ipython3",
   "version": "3.9.12"
  },
  "vscode": {
   "interpreter": {
    "hash": "53ce972a288a646521e393254486dd3d4e40ae124f0f9a66da52dff344d61cdc"
   }
  }
 },
 "nbformat": 4,
 "nbformat_minor": 1
}
