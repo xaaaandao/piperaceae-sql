{
 "cells": [
  {
   "cell_type": "code",
   "execution_count": 4,
   "metadata": {},
   "outputs": [],
   "source": [
    "import os\n",
    "import pandas as pd\n",
    "import pathlib"
   ]
  },
  {
   "cell_type": "markdown",
   "source": [
    "# region dataset"
   ],
   "metadata": {
    "collapsed": false
   }
  },
  {
   "cell_type": "code",
   "execution_count": 22,
   "outputs": [
    {
     "data": {
      "text/plain": "'color: RGB image_size: 256 minimum_image: 5 regions: Norte'"
     },
     "metadata": {},
     "output_type": "display_data"
    },
    {
     "data": {
      "text/plain": "       species folder  count  \\\n0   piscatorum     f1     10   \n1     obliquum     f2     61   \n2   javariense     f3     11   \n3    coruscans     f4     13   \n4  brasiliense     f5     23   \n\n                                         list_images  \n0  ['INPA0179861', 'INPA0023412', 'NY01421846_01'...  \n1  ['INPA0179861', 'INPA0023412', 'NY01421846_01'...  \n2  ['INPA0179861', 'INPA0023412', 'NY01421846_01'...  \n3  ['INPA0179861', 'INPA0023412', 'NY01421846_01'...  \n4  ['INPA0179861', 'INPA0023412', 'NY01421846_01'...  ",
      "text/html": "<div>\n<style scoped>\n    .dataframe tbody tr th:only-of-type {\n        vertical-align: middle;\n    }\n\n    .dataframe tbody tr th {\n        vertical-align: top;\n    }\n\n    .dataframe thead th {\n        text-align: right;\n    }\n</style>\n<table border=\"1\" class=\"dataframe\">\n  <thead>\n    <tr style=\"text-align: right;\">\n      <th></th>\n      <th>species</th>\n      <th>folder</th>\n      <th>count</th>\n      <th>list_images</th>\n    </tr>\n  </thead>\n  <tbody>\n    <tr>\n      <th>0</th>\n      <td>piscatorum</td>\n      <td>f1</td>\n      <td>10</td>\n      <td>['INPA0179861', 'INPA0023412', 'NY01421846_01'...</td>\n    </tr>\n    <tr>\n      <th>1</th>\n      <td>obliquum</td>\n      <td>f2</td>\n      <td>61</td>\n      <td>['INPA0179861', 'INPA0023412', 'NY01421846_01'...</td>\n    </tr>\n    <tr>\n      <th>2</th>\n      <td>javariense</td>\n      <td>f3</td>\n      <td>11</td>\n      <td>['INPA0179861', 'INPA0023412', 'NY01421846_01'...</td>\n    </tr>\n    <tr>\n      <th>3</th>\n      <td>coruscans</td>\n      <td>f4</td>\n      <td>13</td>\n      <td>['INPA0179861', 'INPA0023412', 'NY01421846_01'...</td>\n    </tr>\n    <tr>\n      <th>4</th>\n      <td>brasiliense</td>\n      <td>f5</td>\n      <td>23</td>\n      <td>['INPA0179861', 'INPA0023412', 'NY01421846_01'...</td>\n    </tr>\n  </tbody>\n</table>\n</div>"
     },
     "metadata": {},
     "output_type": "display_data"
    },
    {
     "data": {
      "text/plain": "'color: RGB image_size: 256 minimum_image: 10 regions: Norte'"
     },
     "metadata": {},
     "output_type": "display_data"
    },
    {
     "data": {
      "text/plain": "       species folder  count  \\\n0   piscatorum     f1     10   \n1     obliquum     f2     61   \n2   javariense     f3     11   \n3    coruscans     f4     13   \n4  brasiliense     f5     23   \n\n                                         list_images  \n0  ['NY01397567_01', 'IAN011429', 'NY01397566_01'...  \n1  ['NY01397567_01', 'IAN011429', 'NY01397566_01'...  \n2  ['NY01397567_01', 'IAN011429', 'NY01397566_01'...  \n3  ['NY01397567_01', 'IAN011429', 'NY01397566_01'...  \n4  ['NY01397567_01', 'IAN011429', 'NY01397566_01'...  ",
      "text/html": "<div>\n<style scoped>\n    .dataframe tbody tr th:only-of-type {\n        vertical-align: middle;\n    }\n\n    .dataframe tbody tr th {\n        vertical-align: top;\n    }\n\n    .dataframe thead th {\n        text-align: right;\n    }\n</style>\n<table border=\"1\" class=\"dataframe\">\n  <thead>\n    <tr style=\"text-align: right;\">\n      <th></th>\n      <th>species</th>\n      <th>folder</th>\n      <th>count</th>\n      <th>list_images</th>\n    </tr>\n  </thead>\n  <tbody>\n    <tr>\n      <th>0</th>\n      <td>piscatorum</td>\n      <td>f1</td>\n      <td>10</td>\n      <td>['NY01397567_01', 'IAN011429', 'NY01397566_01'...</td>\n    </tr>\n    <tr>\n      <th>1</th>\n      <td>obliquum</td>\n      <td>f2</td>\n      <td>61</td>\n      <td>['NY01397567_01', 'IAN011429', 'NY01397566_01'...</td>\n    </tr>\n    <tr>\n      <th>2</th>\n      <td>javariense</td>\n      <td>f3</td>\n      <td>11</td>\n      <td>['NY01397567_01', 'IAN011429', 'NY01397566_01'...</td>\n    </tr>\n    <tr>\n      <th>3</th>\n      <td>coruscans</td>\n      <td>f4</td>\n      <td>13</td>\n      <td>['NY01397567_01', 'IAN011429', 'NY01397566_01'...</td>\n    </tr>\n    <tr>\n      <th>4</th>\n      <td>brasiliense</td>\n      <td>f5</td>\n      <td>23</td>\n      <td>['NY01397567_01', 'IAN011429', 'NY01397566_01'...</td>\n    </tr>\n  </tbody>\n</table>\n</div>"
     },
     "metadata": {},
     "output_type": "display_data"
    },
    {
     "data": {
      "text/plain": "'color: RGB image_size: 256 minimum_image: 20 regions: Norte'"
     },
     "metadata": {},
     "output_type": "display_data"
    },
    {
     "data": {
      "text/plain": "       species folder  count  \\\n0     obliquum     f1     61   \n1  brasiliense     f2     23   \n2  alatabaccum     f3     28   \n3      piresii     f4     38   \n4  reticulatum     f5     35   \n\n                                         list_images  \n0  ['NY01397567_01', 'IAN011429', 'NY01397566_01'...  \n1  ['NY01397567_01', 'IAN011429', 'NY01397566_01'...  \n2  ['NY01397567_01', 'IAN011429', 'NY01397566_01'...  \n3  ['NY01397567_01', 'IAN011429', 'NY01397566_01'...  \n4  ['NY01397567_01', 'IAN011429', 'NY01397566_01'...  ",
      "text/html": "<div>\n<style scoped>\n    .dataframe tbody tr th:only-of-type {\n        vertical-align: middle;\n    }\n\n    .dataframe tbody tr th {\n        vertical-align: top;\n    }\n\n    .dataframe thead th {\n        text-align: right;\n    }\n</style>\n<table border=\"1\" class=\"dataframe\">\n  <thead>\n    <tr style=\"text-align: right;\">\n      <th></th>\n      <th>species</th>\n      <th>folder</th>\n      <th>count</th>\n      <th>list_images</th>\n    </tr>\n  </thead>\n  <tbody>\n    <tr>\n      <th>0</th>\n      <td>obliquum</td>\n      <td>f1</td>\n      <td>61</td>\n      <td>['NY01397567_01', 'IAN011429', 'NY01397566_01'...</td>\n    </tr>\n    <tr>\n      <th>1</th>\n      <td>brasiliense</td>\n      <td>f2</td>\n      <td>23</td>\n      <td>['NY01397567_01', 'IAN011429', 'NY01397566_01'...</td>\n    </tr>\n    <tr>\n      <th>2</th>\n      <td>alatabaccum</td>\n      <td>f3</td>\n      <td>28</td>\n      <td>['NY01397567_01', 'IAN011429', 'NY01397566_01'...</td>\n    </tr>\n    <tr>\n      <th>3</th>\n      <td>piresii</td>\n      <td>f4</td>\n      <td>38</td>\n      <td>['NY01397567_01', 'IAN011429', 'NY01397566_01'...</td>\n    </tr>\n    <tr>\n      <th>4</th>\n      <td>reticulatum</td>\n      <td>f5</td>\n      <td>35</td>\n      <td>['NY01397567_01', 'IAN011429', 'NY01397566_01'...</td>\n    </tr>\n  </tbody>\n</table>\n</div>"
     },
     "metadata": {},
     "output_type": "display_data"
    },
    {
     "data": {
      "text/plain": "'color: RGB image_size: 256 minimum_image: 5 regions: Nordeste'"
     },
     "metadata": {},
     "output_type": "display_data"
    },
    {
     "data": {
      "text/plain": "         species folder  count  \\\n0     fuligineum     f1     13   \n1      oreophila     f2     23   \n2  corcovadensis     f3     27   \n3    campinasana     f4      7   \n4          limai     f5      9   \n\n                                         list_images  \n0  ['MBM116011', 'SPF00164804', 'ALCB002302', 'SP...  \n1  ['MBM116011', 'SPF00164804', 'ALCB002302', 'SP...  \n2  ['MBM116011', 'SPF00164804', 'ALCB002302', 'SP...  \n3  ['MBM116011', 'SPF00164804', 'ALCB002302', 'SP...  \n4  ['MBM116011', 'SPF00164804', 'ALCB002302', 'SP...  ",
      "text/html": "<div>\n<style scoped>\n    .dataframe tbody tr th:only-of-type {\n        vertical-align: middle;\n    }\n\n    .dataframe tbody tr th {\n        vertical-align: top;\n    }\n\n    .dataframe thead th {\n        text-align: right;\n    }\n</style>\n<table border=\"1\" class=\"dataframe\">\n  <thead>\n    <tr style=\"text-align: right;\">\n      <th></th>\n      <th>species</th>\n      <th>folder</th>\n      <th>count</th>\n      <th>list_images</th>\n    </tr>\n  </thead>\n  <tbody>\n    <tr>\n      <th>0</th>\n      <td>fuligineum</td>\n      <td>f1</td>\n      <td>13</td>\n      <td>['MBM116011', 'SPF00164804', 'ALCB002302', 'SP...</td>\n    </tr>\n    <tr>\n      <th>1</th>\n      <td>oreophila</td>\n      <td>f2</td>\n      <td>23</td>\n      <td>['MBM116011', 'SPF00164804', 'ALCB002302', 'SP...</td>\n    </tr>\n    <tr>\n      <th>2</th>\n      <td>corcovadensis</td>\n      <td>f3</td>\n      <td>27</td>\n      <td>['MBM116011', 'SPF00164804', 'ALCB002302', 'SP...</td>\n    </tr>\n    <tr>\n      <th>3</th>\n      <td>campinasana</td>\n      <td>f4</td>\n      <td>7</td>\n      <td>['MBM116011', 'SPF00164804', 'ALCB002302', 'SP...</td>\n    </tr>\n    <tr>\n      <th>4</th>\n      <td>limai</td>\n      <td>f5</td>\n      <td>9</td>\n      <td>['MBM116011', 'SPF00164804', 'ALCB002302', 'SP...</td>\n    </tr>\n  </tbody>\n</table>\n</div>"
     },
     "metadata": {},
     "output_type": "display_data"
    },
    {
     "data": {
      "text/plain": "'color: RGB image_size: 256 minimum_image: 10 regions: Nordeste'"
     },
     "metadata": {},
     "output_type": "display_data"
    },
    {
     "data": {
      "text/plain": "         species folder  count  \\\n0     fuligineum     f1     13   \n1      oreophila     f2     23   \n2  corcovadensis     f3     27   \n3      vicosanum     f4     12   \n4      sincorana     f5     47   \n\n                                         list_images  \n0  ['MBM116011', 'SPF00164804', 'ALCB002302', 'SP...  \n1  ['MBM116011', 'SPF00164804', 'ALCB002302', 'SP...  \n2  ['MBM116011', 'SPF00164804', 'ALCB002302', 'SP...  \n3  ['MBM116011', 'SPF00164804', 'ALCB002302', 'SP...  \n4  ['MBM116011', 'SPF00164804', 'ALCB002302', 'SP...  ",
      "text/html": "<div>\n<style scoped>\n    .dataframe tbody tr th:only-of-type {\n        vertical-align: middle;\n    }\n\n    .dataframe tbody tr th {\n        vertical-align: top;\n    }\n\n    .dataframe thead th {\n        text-align: right;\n    }\n</style>\n<table border=\"1\" class=\"dataframe\">\n  <thead>\n    <tr style=\"text-align: right;\">\n      <th></th>\n      <th>species</th>\n      <th>folder</th>\n      <th>count</th>\n      <th>list_images</th>\n    </tr>\n  </thead>\n  <tbody>\n    <tr>\n      <th>0</th>\n      <td>fuligineum</td>\n      <td>f1</td>\n      <td>13</td>\n      <td>['MBM116011', 'SPF00164804', 'ALCB002302', 'SP...</td>\n    </tr>\n    <tr>\n      <th>1</th>\n      <td>oreophila</td>\n      <td>f2</td>\n      <td>23</td>\n      <td>['MBM116011', 'SPF00164804', 'ALCB002302', 'SP...</td>\n    </tr>\n    <tr>\n      <th>2</th>\n      <td>corcovadensis</td>\n      <td>f3</td>\n      <td>27</td>\n      <td>['MBM116011', 'SPF00164804', 'ALCB002302', 'SP...</td>\n    </tr>\n    <tr>\n      <th>3</th>\n      <td>vicosanum</td>\n      <td>f4</td>\n      <td>12</td>\n      <td>['MBM116011', 'SPF00164804', 'ALCB002302', 'SP...</td>\n    </tr>\n    <tr>\n      <th>4</th>\n      <td>sincorana</td>\n      <td>f5</td>\n      <td>47</td>\n      <td>['MBM116011', 'SPF00164804', 'ALCB002302', 'SP...</td>\n    </tr>\n  </tbody>\n</table>\n</div>"
     },
     "metadata": {},
     "output_type": "display_data"
    },
    {
     "data": {
      "text/plain": "'color: RGB image_size: 256 minimum_image: 20 regions: Nordeste'"
     },
     "metadata": {},
     "output_type": "display_data"
    },
    {
     "data": {
      "text/plain": "         species folder  count  \\\n0      oreophila     f1     23   \n1  corcovadensis     f2     27   \n2      sincorana     f3     47   \n3    tetraphylla     f4     58   \n4  magnoliifolia     f5     21   \n\n                                         list_images  \n0  ['SPF00048717', 'SPF00082803', 'NY00555600_01'...  \n1  ['SPF00048717', 'SPF00082803', 'NY00555600_01'...  \n2  ['SPF00048717', 'SPF00082803', 'NY00555600_01'...  \n3  ['SPF00048717', 'SPF00082803', 'NY00555600_01'...  \n4  ['SPF00048717', 'SPF00082803', 'NY00555600_01'...  ",
      "text/html": "<div>\n<style scoped>\n    .dataframe tbody tr th:only-of-type {\n        vertical-align: middle;\n    }\n\n    .dataframe tbody tr th {\n        vertical-align: top;\n    }\n\n    .dataframe thead th {\n        text-align: right;\n    }\n</style>\n<table border=\"1\" class=\"dataframe\">\n  <thead>\n    <tr style=\"text-align: right;\">\n      <th></th>\n      <th>species</th>\n      <th>folder</th>\n      <th>count</th>\n      <th>list_images</th>\n    </tr>\n  </thead>\n  <tbody>\n    <tr>\n      <th>0</th>\n      <td>oreophila</td>\n      <td>f1</td>\n      <td>23</td>\n      <td>['SPF00048717', 'SPF00082803', 'NY00555600_01'...</td>\n    </tr>\n    <tr>\n      <th>1</th>\n      <td>corcovadensis</td>\n      <td>f2</td>\n      <td>27</td>\n      <td>['SPF00048717', 'SPF00082803', 'NY00555600_01'...</td>\n    </tr>\n    <tr>\n      <th>2</th>\n      <td>sincorana</td>\n      <td>f3</td>\n      <td>47</td>\n      <td>['SPF00048717', 'SPF00082803', 'NY00555600_01'...</td>\n    </tr>\n    <tr>\n      <th>3</th>\n      <td>tetraphylla</td>\n      <td>f4</td>\n      <td>58</td>\n      <td>['SPF00048717', 'SPF00082803', 'NY00555600_01'...</td>\n    </tr>\n    <tr>\n      <th>4</th>\n      <td>magnoliifolia</td>\n      <td>f5</td>\n      <td>21</td>\n      <td>['SPF00048717', 'SPF00082803', 'NY00555600_01'...</td>\n    </tr>\n  </tbody>\n</table>\n</div>"
     },
     "metadata": {},
     "output_type": "display_data"
    },
    {
     "data": {
      "text/plain": "'color: RGB image_size: 256 minimum_image: 5 regions: Sul'"
     },
     "metadata": {},
     "output_type": "display_data"
    },
    {
     "data": {
      "text/plain": "         species folder  count  \\\n0       glaziovi     f1      5   \n1     fuligineum     f2      5   \n2  corcovadensis     f3    168   \n3      regnellii     f4     24   \n4     mikanianum     f5     72   \n\n                                         list_images  \n0  ['MBM037883', 'NY00559096_01', 'MBM045085', 'M...  \n1  ['MBM037883', 'NY00559096_01', 'MBM045085', 'M...  \n2  ['MBM037883', 'NY00559096_01', 'MBM045085', 'M...  \n3  ['MBM037883', 'NY00559096_01', 'MBM045085', 'M...  \n4  ['MBM037883', 'NY00559096_01', 'MBM045085', 'M...  ",
      "text/html": "<div>\n<style scoped>\n    .dataframe tbody tr th:only-of-type {\n        vertical-align: middle;\n    }\n\n    .dataframe tbody tr th {\n        vertical-align: top;\n    }\n\n    .dataframe thead th {\n        text-align: right;\n    }\n</style>\n<table border=\"1\" class=\"dataframe\">\n  <thead>\n    <tr style=\"text-align: right;\">\n      <th></th>\n      <th>species</th>\n      <th>folder</th>\n      <th>count</th>\n      <th>list_images</th>\n    </tr>\n  </thead>\n  <tbody>\n    <tr>\n      <th>0</th>\n      <td>glaziovi</td>\n      <td>f1</td>\n      <td>5</td>\n      <td>['MBM037883', 'NY00559096_01', 'MBM045085', 'M...</td>\n    </tr>\n    <tr>\n      <th>1</th>\n      <td>fuligineum</td>\n      <td>f2</td>\n      <td>5</td>\n      <td>['MBM037883', 'NY00559096_01', 'MBM045085', 'M...</td>\n    </tr>\n    <tr>\n      <th>2</th>\n      <td>corcovadensis</td>\n      <td>f3</td>\n      <td>168</td>\n      <td>['MBM037883', 'NY00559096_01', 'MBM045085', 'M...</td>\n    </tr>\n    <tr>\n      <th>3</th>\n      <td>regnellii</td>\n      <td>f4</td>\n      <td>24</td>\n      <td>['MBM037883', 'NY00559096_01', 'MBM045085', 'M...</td>\n    </tr>\n    <tr>\n      <th>4</th>\n      <td>mikanianum</td>\n      <td>f5</td>\n      <td>72</td>\n      <td>['MBM037883', 'NY00559096_01', 'MBM045085', 'M...</td>\n    </tr>\n  </tbody>\n</table>\n</div>"
     },
     "metadata": {},
     "output_type": "display_data"
    },
    {
     "data": {
      "text/plain": "'color: RGB image_size: 256 minimum_image: 10 regions: Sul'"
     },
     "metadata": {},
     "output_type": "display_data"
    },
    {
     "data": {
      "text/plain": "         species folder  count  \\\n0  corcovadensis     f1    168   \n1      regnellii     f2     24   \n2     mikanianum     f3     72   \n3        reitzii     f4     20   \n4    miquelianum     f5    141   \n\n                                         list_images  \n0  ['MBM037883', 'NY00559096_01', 'MBM045085', 'M...  \n1  ['MBM037883', 'NY00559096_01', 'MBM045085', 'M...  \n2  ['MBM037883', 'NY00559096_01', 'MBM045085', 'M...  \n3  ['MBM037883', 'NY00559096_01', 'MBM045085', 'M...  \n4  ['MBM037883', 'NY00559096_01', 'MBM045085', 'M...  ",
      "text/html": "<div>\n<style scoped>\n    .dataframe tbody tr th:only-of-type {\n        vertical-align: middle;\n    }\n\n    .dataframe tbody tr th {\n        vertical-align: top;\n    }\n\n    .dataframe thead th {\n        text-align: right;\n    }\n</style>\n<table border=\"1\" class=\"dataframe\">\n  <thead>\n    <tr style=\"text-align: right;\">\n      <th></th>\n      <th>species</th>\n      <th>folder</th>\n      <th>count</th>\n      <th>list_images</th>\n    </tr>\n  </thead>\n  <tbody>\n    <tr>\n      <th>0</th>\n      <td>corcovadensis</td>\n      <td>f1</td>\n      <td>168</td>\n      <td>['MBM037883', 'NY00559096_01', 'MBM045085', 'M...</td>\n    </tr>\n    <tr>\n      <th>1</th>\n      <td>regnellii</td>\n      <td>f2</td>\n      <td>24</td>\n      <td>['MBM037883', 'NY00559096_01', 'MBM045085', 'M...</td>\n    </tr>\n    <tr>\n      <th>2</th>\n      <td>mikanianum</td>\n      <td>f3</td>\n      <td>72</td>\n      <td>['MBM037883', 'NY00559096_01', 'MBM045085', 'M...</td>\n    </tr>\n    <tr>\n      <th>3</th>\n      <td>reitzii</td>\n      <td>f4</td>\n      <td>20</td>\n      <td>['MBM037883', 'NY00559096_01', 'MBM045085', 'M...</td>\n    </tr>\n    <tr>\n      <th>4</th>\n      <td>miquelianum</td>\n      <td>f5</td>\n      <td>141</td>\n      <td>['MBM037883', 'NY00559096_01', 'MBM045085', 'M...</td>\n    </tr>\n  </tbody>\n</table>\n</div>"
     },
     "metadata": {},
     "output_type": "display_data"
    },
    {
     "data": {
      "text/plain": "'color: RGB image_size: 256 minimum_image: 20 regions: Sul'"
     },
     "metadata": {},
     "output_type": "display_data"
    },
    {
     "data": {
      "text/plain": "         species folder  count  \\\n0  corcovadensis     f1    168   \n1      regnellii     f2     24   \n2     mikanianum     f3     72   \n3        reitzii     f4     20   \n4    miquelianum     f5    141   \n\n                                         list_images  \n0  ['MBM089701', 'MBM089707', 'CEN00047117', 'FUR...  \n1  ['MBM089701', 'MBM089707', 'CEN00047117', 'FUR...  \n2  ['MBM089701', 'MBM089707', 'CEN00047117', 'FUR...  \n3  ['MBM089701', 'MBM089707', 'CEN00047117', 'FUR...  \n4  ['MBM089701', 'MBM089707', 'CEN00047117', 'FUR...  ",
      "text/html": "<div>\n<style scoped>\n    .dataframe tbody tr th:only-of-type {\n        vertical-align: middle;\n    }\n\n    .dataframe tbody tr th {\n        vertical-align: top;\n    }\n\n    .dataframe thead th {\n        text-align: right;\n    }\n</style>\n<table border=\"1\" class=\"dataframe\">\n  <thead>\n    <tr style=\"text-align: right;\">\n      <th></th>\n      <th>species</th>\n      <th>folder</th>\n      <th>count</th>\n      <th>list_images</th>\n    </tr>\n  </thead>\n  <tbody>\n    <tr>\n      <th>0</th>\n      <td>corcovadensis</td>\n      <td>f1</td>\n      <td>168</td>\n      <td>['MBM089701', 'MBM089707', 'CEN00047117', 'FUR...</td>\n    </tr>\n    <tr>\n      <th>1</th>\n      <td>regnellii</td>\n      <td>f2</td>\n      <td>24</td>\n      <td>['MBM089701', 'MBM089707', 'CEN00047117', 'FUR...</td>\n    </tr>\n    <tr>\n      <th>2</th>\n      <td>mikanianum</td>\n      <td>f3</td>\n      <td>72</td>\n      <td>['MBM089701', 'MBM089707', 'CEN00047117', 'FUR...</td>\n    </tr>\n    <tr>\n      <th>3</th>\n      <td>reitzii</td>\n      <td>f4</td>\n      <td>20</td>\n      <td>['MBM089701', 'MBM089707', 'CEN00047117', 'FUR...</td>\n    </tr>\n    <tr>\n      <th>4</th>\n      <td>miquelianum</td>\n      <td>f5</td>\n      <td>141</td>\n      <td>['MBM089701', 'MBM089707', 'CEN00047117', 'FUR...</td>\n    </tr>\n  </tbody>\n</table>\n</div>"
     },
     "metadata": {},
     "output_type": "display_data"
    },
    {
     "data": {
      "text/plain": "'color: RGB image_size: 256 minimum_image: 5 regions: Sudeste'"
     },
     "metadata": {},
     "output_type": "display_data"
    },
    {
     "data": {
      "text/plain": "         species folder  count  \\\n0     fuligineum     f1     79   \n1      oreophila     f2      5   \n2  corcovadensis     f3    124   \n3   psilostachya     f4      7   \n4      regnellii     f5     55   \n\n                                         list_images  \n0  ['MBM084431', 'INPA0124667', 'SP011164', 'NY00...  \n1  ['MBM084431', 'INPA0124667', 'SP011164', 'NY00...  \n2  ['MBM084431', 'INPA0124667', 'SP011164', 'NY00...  \n3  ['MBM084431', 'INPA0124667', 'SP011164', 'NY00...  \n4  ['MBM084431', 'INPA0124667', 'SP011164', 'NY00...  ",
      "text/html": "<div>\n<style scoped>\n    .dataframe tbody tr th:only-of-type {\n        vertical-align: middle;\n    }\n\n    .dataframe tbody tr th {\n        vertical-align: top;\n    }\n\n    .dataframe thead th {\n        text-align: right;\n    }\n</style>\n<table border=\"1\" class=\"dataframe\">\n  <thead>\n    <tr style=\"text-align: right;\">\n      <th></th>\n      <th>species</th>\n      <th>folder</th>\n      <th>count</th>\n      <th>list_images</th>\n    </tr>\n  </thead>\n  <tbody>\n    <tr>\n      <th>0</th>\n      <td>fuligineum</td>\n      <td>f1</td>\n      <td>79</td>\n      <td>['MBM084431', 'INPA0124667', 'SP011164', 'NY00...</td>\n    </tr>\n    <tr>\n      <th>1</th>\n      <td>oreophila</td>\n      <td>f2</td>\n      <td>5</td>\n      <td>['MBM084431', 'INPA0124667', 'SP011164', 'NY00...</td>\n    </tr>\n    <tr>\n      <th>2</th>\n      <td>corcovadensis</td>\n      <td>f3</td>\n      <td>124</td>\n      <td>['MBM084431', 'INPA0124667', 'SP011164', 'NY00...</td>\n    </tr>\n    <tr>\n      <th>3</th>\n      <td>psilostachya</td>\n      <td>f4</td>\n      <td>7</td>\n      <td>['MBM084431', 'INPA0124667', 'SP011164', 'NY00...</td>\n    </tr>\n    <tr>\n      <th>4</th>\n      <td>regnellii</td>\n      <td>f5</td>\n      <td>55</td>\n      <td>['MBM084431', 'INPA0124667', 'SP011164', 'NY00...</td>\n    </tr>\n  </tbody>\n</table>\n</div>"
     },
     "metadata": {},
     "output_type": "display_data"
    },
    {
     "data": {
      "text/plain": "'color: RGB image_size: 256 minimum_image: 10 regions: Sudeste'"
     },
     "metadata": {},
     "output_type": "display_data"
    },
    {
     "data": {
      "text/plain": "         species folder  count  \\\n0     fuligineum     f1     79   \n1  corcovadensis     f2    124   \n2      regnellii     f3     55   \n3     mikanianum     f4     18   \n4      vicosanum     f5     24   \n\n                                         list_images  \n0  ['ESA031454', 'NY00559090_01', 'MBM084435', 'S...  \n1  ['ESA031454', 'NY00559090_01', 'MBM084435', 'S...  \n2  ['ESA031454', 'NY00559090_01', 'MBM084435', 'S...  \n3  ['ESA031454', 'NY00559090_01', 'MBM084435', 'S...  \n4  ['ESA031454', 'NY00559090_01', 'MBM084435', 'S...  ",
      "text/html": "<div>\n<style scoped>\n    .dataframe tbody tr th:only-of-type {\n        vertical-align: middle;\n    }\n\n    .dataframe tbody tr th {\n        vertical-align: top;\n    }\n\n    .dataframe thead th {\n        text-align: right;\n    }\n</style>\n<table border=\"1\" class=\"dataframe\">\n  <thead>\n    <tr style=\"text-align: right;\">\n      <th></th>\n      <th>species</th>\n      <th>folder</th>\n      <th>count</th>\n      <th>list_images</th>\n    </tr>\n  </thead>\n  <tbody>\n    <tr>\n      <th>0</th>\n      <td>fuligineum</td>\n      <td>f1</td>\n      <td>79</td>\n      <td>['ESA031454', 'NY00559090_01', 'MBM084435', 'S...</td>\n    </tr>\n    <tr>\n      <th>1</th>\n      <td>corcovadensis</td>\n      <td>f2</td>\n      <td>124</td>\n      <td>['ESA031454', 'NY00559090_01', 'MBM084435', 'S...</td>\n    </tr>\n    <tr>\n      <th>2</th>\n      <td>regnellii</td>\n      <td>f3</td>\n      <td>55</td>\n      <td>['ESA031454', 'NY00559090_01', 'MBM084435', 'S...</td>\n    </tr>\n    <tr>\n      <th>3</th>\n      <td>mikanianum</td>\n      <td>f4</td>\n      <td>18</td>\n      <td>['ESA031454', 'NY00559090_01', 'MBM084435', 'S...</td>\n    </tr>\n    <tr>\n      <th>4</th>\n      <td>vicosanum</td>\n      <td>f5</td>\n      <td>24</td>\n      <td>['ESA031454', 'NY00559090_01', 'MBM084435', 'S...</td>\n    </tr>\n  </tbody>\n</table>\n</div>"
     },
     "metadata": {},
     "output_type": "display_data"
    },
    {
     "data": {
      "text/plain": "'color: RGB image_size: 256 minimum_image: 20 regions: Sudeste'"
     },
     "metadata": {},
     "output_type": "display_data"
    },
    {
     "data": {
      "text/plain": "         species folder  count  \\\n0     fuligineum     f1     79   \n1  corcovadensis     f2    124   \n2      regnellii     f3     55   \n3      vicosanum     f4     24   \n4    lhotzkyanum     f5     34   \n\n                                         list_images  \n0  ['ESA031454', 'NY00559090_01', 'MBM084435', 'S...  \n1  ['ESA031454', 'NY00559090_01', 'MBM084435', 'S...  \n2  ['ESA031454', 'NY00559090_01', 'MBM084435', 'S...  \n3  ['ESA031454', 'NY00559090_01', 'MBM084435', 'S...  \n4  ['ESA031454', 'NY00559090_01', 'MBM084435', 'S...  ",
      "text/html": "<div>\n<style scoped>\n    .dataframe tbody tr th:only-of-type {\n        vertical-align: middle;\n    }\n\n    .dataframe tbody tr th {\n        vertical-align: top;\n    }\n\n    .dataframe thead th {\n        text-align: right;\n    }\n</style>\n<table border=\"1\" class=\"dataframe\">\n  <thead>\n    <tr style=\"text-align: right;\">\n      <th></th>\n      <th>species</th>\n      <th>folder</th>\n      <th>count</th>\n      <th>list_images</th>\n    </tr>\n  </thead>\n  <tbody>\n    <tr>\n      <th>0</th>\n      <td>fuligineum</td>\n      <td>f1</td>\n      <td>79</td>\n      <td>['ESA031454', 'NY00559090_01', 'MBM084435', 'S...</td>\n    </tr>\n    <tr>\n      <th>1</th>\n      <td>corcovadensis</td>\n      <td>f2</td>\n      <td>124</td>\n      <td>['ESA031454', 'NY00559090_01', 'MBM084435', 'S...</td>\n    </tr>\n    <tr>\n      <th>2</th>\n      <td>regnellii</td>\n      <td>f3</td>\n      <td>55</td>\n      <td>['ESA031454', 'NY00559090_01', 'MBM084435', 'S...</td>\n    </tr>\n    <tr>\n      <th>3</th>\n      <td>vicosanum</td>\n      <td>f4</td>\n      <td>24</td>\n      <td>['ESA031454', 'NY00559090_01', 'MBM084435', 'S...</td>\n    </tr>\n    <tr>\n      <th>4</th>\n      <td>lhotzkyanum</td>\n      <td>f5</td>\n      <td>34</td>\n      <td>['ESA031454', 'NY00559090_01', 'MBM084435', 'S...</td>\n    </tr>\n  </tbody>\n</table>\n</div>"
     },
     "metadata": {},
     "output_type": "display_data"
    },
    {
     "data": {
      "text/plain": "'color: RGB image_size: 256 minimum_image: 5 regions: Centro-Oeste'"
     },
     "metadata": {},
     "output_type": "display_data"
    },
    {
     "data": {
      "text/plain": "       species folder  count  \\\n0   fuligineum     f1     77   \n1  campinasana     f2      7   \n2    regnellii     f3     40   \n3      aequale     f4     15   \n4  miquelianum     f5      8   \n\n                                         list_images  \n0  ['NY00679960_01', 'NY00956929_01', 'MBM250545'...  \n1  ['NY00679960_01', 'NY00956929_01', 'MBM250545'...  \n2  ['NY00679960_01', 'NY00956929_01', 'MBM250545'...  \n3  ['NY00679960_01', 'NY00956929_01', 'MBM250545'...  \n4  ['NY00679960_01', 'NY00956929_01', 'MBM250545'...  ",
      "text/html": "<div>\n<style scoped>\n    .dataframe tbody tr th:only-of-type {\n        vertical-align: middle;\n    }\n\n    .dataframe tbody tr th {\n        vertical-align: top;\n    }\n\n    .dataframe thead th {\n        text-align: right;\n    }\n</style>\n<table border=\"1\" class=\"dataframe\">\n  <thead>\n    <tr style=\"text-align: right;\">\n      <th></th>\n      <th>species</th>\n      <th>folder</th>\n      <th>count</th>\n      <th>list_images</th>\n    </tr>\n  </thead>\n  <tbody>\n    <tr>\n      <th>0</th>\n      <td>fuligineum</td>\n      <td>f1</td>\n      <td>77</td>\n      <td>['NY00679960_01', 'NY00956929_01', 'MBM250545'...</td>\n    </tr>\n    <tr>\n      <th>1</th>\n      <td>campinasana</td>\n      <td>f2</td>\n      <td>7</td>\n      <td>['NY00679960_01', 'NY00956929_01', 'MBM250545'...</td>\n    </tr>\n    <tr>\n      <th>2</th>\n      <td>regnellii</td>\n      <td>f3</td>\n      <td>40</td>\n      <td>['NY00679960_01', 'NY00956929_01', 'MBM250545'...</td>\n    </tr>\n    <tr>\n      <th>3</th>\n      <td>aequale</td>\n      <td>f4</td>\n      <td>15</td>\n      <td>['NY00679960_01', 'NY00956929_01', 'MBM250545'...</td>\n    </tr>\n    <tr>\n      <th>4</th>\n      <td>miquelianum</td>\n      <td>f5</td>\n      <td>8</td>\n      <td>['NY00679960_01', 'NY00956929_01', 'MBM250545'...</td>\n    </tr>\n  </tbody>\n</table>\n</div>"
     },
     "metadata": {},
     "output_type": "display_data"
    },
    {
     "data": {
      "text/plain": "'color: RGB image_size: 256 minimum_image: 10 regions: Centro-Oeste'"
     },
     "metadata": {},
     "output_type": "display_data"
    },
    {
     "data": {
      "text/plain": "         species folder  count  \\\n0     fuligineum     f1     77   \n1      regnellii     f2     40   \n2        aequale     f3     15   \n3  crassinervium     f4     14   \n4    gardneriana     f5     15   \n\n                                         list_images  \n0  ['NY00679960_01', 'NY00956929_01', 'MBM250545'...  \n1  ['NY00679960_01', 'NY00956929_01', 'MBM250545'...  \n2  ['NY00679960_01', 'NY00956929_01', 'MBM250545'...  \n3  ['NY00679960_01', 'NY00956929_01', 'MBM250545'...  \n4  ['NY00679960_01', 'NY00956929_01', 'MBM250545'...  ",
      "text/html": "<div>\n<style scoped>\n    .dataframe tbody tr th:only-of-type {\n        vertical-align: middle;\n    }\n\n    .dataframe tbody tr th {\n        vertical-align: top;\n    }\n\n    .dataframe thead th {\n        text-align: right;\n    }\n</style>\n<table border=\"1\" class=\"dataframe\">\n  <thead>\n    <tr style=\"text-align: right;\">\n      <th></th>\n      <th>species</th>\n      <th>folder</th>\n      <th>count</th>\n      <th>list_images</th>\n    </tr>\n  </thead>\n  <tbody>\n    <tr>\n      <th>0</th>\n      <td>fuligineum</td>\n      <td>f1</td>\n      <td>77</td>\n      <td>['NY00679960_01', 'NY00956929_01', 'MBM250545'...</td>\n    </tr>\n    <tr>\n      <th>1</th>\n      <td>regnellii</td>\n      <td>f2</td>\n      <td>40</td>\n      <td>['NY00679960_01', 'NY00956929_01', 'MBM250545'...</td>\n    </tr>\n    <tr>\n      <th>2</th>\n      <td>aequale</td>\n      <td>f3</td>\n      <td>15</td>\n      <td>['NY00679960_01', 'NY00956929_01', 'MBM250545'...</td>\n    </tr>\n    <tr>\n      <th>3</th>\n      <td>crassinervium</td>\n      <td>f4</td>\n      <td>14</td>\n      <td>['NY00679960_01', 'NY00956929_01', 'MBM250545'...</td>\n    </tr>\n    <tr>\n      <th>4</th>\n      <td>gardneriana</td>\n      <td>f5</td>\n      <td>15</td>\n      <td>['NY00679960_01', 'NY00956929_01', 'MBM250545'...</td>\n    </tr>\n  </tbody>\n</table>\n</div>"
     },
     "metadata": {},
     "output_type": "display_data"
    },
    {
     "data": {
      "text/plain": "'color: RGB image_size: 256 minimum_image: 20 regions: Centro-Oeste'"
     },
     "metadata": {},
     "output_type": "display_data"
    },
    {
     "data": {
      "text/plain": "      species folder  count                                        list_images\n0  fuligineum     f1     77  ['CEN00036424', 'UEC149671', 'NY00885318_01', ...\n1   regnellii     f2     40  ['CEN00036424', 'UEC149671', 'NY00885318_01', ...\n2    elongata     f3     20  ['CEN00036424', 'UEC149671', 'NY00885318_01', ...\n3    arboreum     f4    203  ['CEN00036424', 'UEC149671', 'NY00885318_01', ...\n4    hispidum     f5     53  ['CEN00036424', 'UEC149671', 'NY00885318_01', ...",
      "text/html": "<div>\n<style scoped>\n    .dataframe tbody tr th:only-of-type {\n        vertical-align: middle;\n    }\n\n    .dataframe tbody tr th {\n        vertical-align: top;\n    }\n\n    .dataframe thead th {\n        text-align: right;\n    }\n</style>\n<table border=\"1\" class=\"dataframe\">\n  <thead>\n    <tr style=\"text-align: right;\">\n      <th></th>\n      <th>species</th>\n      <th>folder</th>\n      <th>count</th>\n      <th>list_images</th>\n    </tr>\n  </thead>\n  <tbody>\n    <tr>\n      <th>0</th>\n      <td>fuligineum</td>\n      <td>f1</td>\n      <td>77</td>\n      <td>['CEN00036424', 'UEC149671', 'NY00885318_01', ...</td>\n    </tr>\n    <tr>\n      <th>1</th>\n      <td>regnellii</td>\n      <td>f2</td>\n      <td>40</td>\n      <td>['CEN00036424', 'UEC149671', 'NY00885318_01', ...</td>\n    </tr>\n    <tr>\n      <th>2</th>\n      <td>elongata</td>\n      <td>f3</td>\n      <td>20</td>\n      <td>['CEN00036424', 'UEC149671', 'NY00885318_01', ...</td>\n    </tr>\n    <tr>\n      <th>3</th>\n      <td>arboreum</td>\n      <td>f4</td>\n      <td>203</td>\n      <td>['CEN00036424', 'UEC149671', 'NY00885318_01', ...</td>\n    </tr>\n    <tr>\n      <th>4</th>\n      <td>hispidum</td>\n      <td>f5</td>\n      <td>53</td>\n      <td>['CEN00036424', 'UEC149671', 'NY00885318_01', ...</td>\n    </tr>\n  </tbody>\n</table>\n</div>"
     },
     "metadata": {},
     "output_type": "display_data"
    },
    {
     "data": {
      "text/plain": "'color: RGB image_size: 400 minimum_image: 5 regions: Norte'"
     },
     "metadata": {},
     "output_type": "display_data"
    },
    {
     "data": {
      "text/plain": "       species folder  count  \\\n0   piscatorum     f1     10   \n1     obliquum     f2     61   \n2   javariense     f3     11   \n3    coruscans     f4     13   \n4  brasiliense     f5     23   \n\n                                         list_images  \n0  ['INPA0179861', 'INPA0023412', 'NY01421846_01'...  \n1  ['INPA0179861', 'INPA0023412', 'NY01421846_01'...  \n2  ['INPA0179861', 'INPA0023412', 'NY01421846_01'...  \n3  ['INPA0179861', 'INPA0023412', 'NY01421846_01'...  \n4  ['INPA0179861', 'INPA0023412', 'NY01421846_01'...  ",
      "text/html": "<div>\n<style scoped>\n    .dataframe tbody tr th:only-of-type {\n        vertical-align: middle;\n    }\n\n    .dataframe tbody tr th {\n        vertical-align: top;\n    }\n\n    .dataframe thead th {\n        text-align: right;\n    }\n</style>\n<table border=\"1\" class=\"dataframe\">\n  <thead>\n    <tr style=\"text-align: right;\">\n      <th></th>\n      <th>species</th>\n      <th>folder</th>\n      <th>count</th>\n      <th>list_images</th>\n    </tr>\n  </thead>\n  <tbody>\n    <tr>\n      <th>0</th>\n      <td>piscatorum</td>\n      <td>f1</td>\n      <td>10</td>\n      <td>['INPA0179861', 'INPA0023412', 'NY01421846_01'...</td>\n    </tr>\n    <tr>\n      <th>1</th>\n      <td>obliquum</td>\n      <td>f2</td>\n      <td>61</td>\n      <td>['INPA0179861', 'INPA0023412', 'NY01421846_01'...</td>\n    </tr>\n    <tr>\n      <th>2</th>\n      <td>javariense</td>\n      <td>f3</td>\n      <td>11</td>\n      <td>['INPA0179861', 'INPA0023412', 'NY01421846_01'...</td>\n    </tr>\n    <tr>\n      <th>3</th>\n      <td>coruscans</td>\n      <td>f4</td>\n      <td>13</td>\n      <td>['INPA0179861', 'INPA0023412', 'NY01421846_01'...</td>\n    </tr>\n    <tr>\n      <th>4</th>\n      <td>brasiliense</td>\n      <td>f5</td>\n      <td>23</td>\n      <td>['INPA0179861', 'INPA0023412', 'NY01421846_01'...</td>\n    </tr>\n  </tbody>\n</table>\n</div>"
     },
     "metadata": {},
     "output_type": "display_data"
    },
    {
     "data": {
      "text/plain": "'color: RGB image_size: 400 minimum_image: 10 regions: Norte'"
     },
     "metadata": {},
     "output_type": "display_data"
    },
    {
     "data": {
      "text/plain": "       species folder  count  \\\n0   piscatorum     f1     10   \n1     obliquum     f2     61   \n2   javariense     f3     11   \n3    coruscans     f4     13   \n4  brasiliense     f5     23   \n\n                                         list_images  \n0  ['NY01397567_01', 'IAN011429', 'NY01397566_01'...  \n1  ['NY01397567_01', 'IAN011429', 'NY01397566_01'...  \n2  ['NY01397567_01', 'IAN011429', 'NY01397566_01'...  \n3  ['NY01397567_01', 'IAN011429', 'NY01397566_01'...  \n4  ['NY01397567_01', 'IAN011429', 'NY01397566_01'...  ",
      "text/html": "<div>\n<style scoped>\n    .dataframe tbody tr th:only-of-type {\n        vertical-align: middle;\n    }\n\n    .dataframe tbody tr th {\n        vertical-align: top;\n    }\n\n    .dataframe thead th {\n        text-align: right;\n    }\n</style>\n<table border=\"1\" class=\"dataframe\">\n  <thead>\n    <tr style=\"text-align: right;\">\n      <th></th>\n      <th>species</th>\n      <th>folder</th>\n      <th>count</th>\n      <th>list_images</th>\n    </tr>\n  </thead>\n  <tbody>\n    <tr>\n      <th>0</th>\n      <td>piscatorum</td>\n      <td>f1</td>\n      <td>10</td>\n      <td>['NY01397567_01', 'IAN011429', 'NY01397566_01'...</td>\n    </tr>\n    <tr>\n      <th>1</th>\n      <td>obliquum</td>\n      <td>f2</td>\n      <td>61</td>\n      <td>['NY01397567_01', 'IAN011429', 'NY01397566_01'...</td>\n    </tr>\n    <tr>\n      <th>2</th>\n      <td>javariense</td>\n      <td>f3</td>\n      <td>11</td>\n      <td>['NY01397567_01', 'IAN011429', 'NY01397566_01'...</td>\n    </tr>\n    <tr>\n      <th>3</th>\n      <td>coruscans</td>\n      <td>f4</td>\n      <td>13</td>\n      <td>['NY01397567_01', 'IAN011429', 'NY01397566_01'...</td>\n    </tr>\n    <tr>\n      <th>4</th>\n      <td>brasiliense</td>\n      <td>f5</td>\n      <td>23</td>\n      <td>['NY01397567_01', 'IAN011429', 'NY01397566_01'...</td>\n    </tr>\n  </tbody>\n</table>\n</div>"
     },
     "metadata": {},
     "output_type": "display_data"
    },
    {
     "data": {
      "text/plain": "'color: RGB image_size: 400 minimum_image: 20 regions: Norte'"
     },
     "metadata": {},
     "output_type": "display_data"
    },
    {
     "data": {
      "text/plain": "       species folder  count  \\\n0     obliquum     f1     61   \n1  brasiliense     f2     23   \n2  alatabaccum     f3     28   \n3      piresii     f4     38   \n4  reticulatum     f5     35   \n\n                                         list_images  \n0  ['NY01397567_01', 'IAN011429', 'NY01397566_01'...  \n1  ['NY01397567_01', 'IAN011429', 'NY01397566_01'...  \n2  ['NY01397567_01', 'IAN011429', 'NY01397566_01'...  \n3  ['NY01397567_01', 'IAN011429', 'NY01397566_01'...  \n4  ['NY01397567_01', 'IAN011429', 'NY01397566_01'...  ",
      "text/html": "<div>\n<style scoped>\n    .dataframe tbody tr th:only-of-type {\n        vertical-align: middle;\n    }\n\n    .dataframe tbody tr th {\n        vertical-align: top;\n    }\n\n    .dataframe thead th {\n        text-align: right;\n    }\n</style>\n<table border=\"1\" class=\"dataframe\">\n  <thead>\n    <tr style=\"text-align: right;\">\n      <th></th>\n      <th>species</th>\n      <th>folder</th>\n      <th>count</th>\n      <th>list_images</th>\n    </tr>\n  </thead>\n  <tbody>\n    <tr>\n      <th>0</th>\n      <td>obliquum</td>\n      <td>f1</td>\n      <td>61</td>\n      <td>['NY01397567_01', 'IAN011429', 'NY01397566_01'...</td>\n    </tr>\n    <tr>\n      <th>1</th>\n      <td>brasiliense</td>\n      <td>f2</td>\n      <td>23</td>\n      <td>['NY01397567_01', 'IAN011429', 'NY01397566_01'...</td>\n    </tr>\n    <tr>\n      <th>2</th>\n      <td>alatabaccum</td>\n      <td>f3</td>\n      <td>28</td>\n      <td>['NY01397567_01', 'IAN011429', 'NY01397566_01'...</td>\n    </tr>\n    <tr>\n      <th>3</th>\n      <td>piresii</td>\n      <td>f4</td>\n      <td>38</td>\n      <td>['NY01397567_01', 'IAN011429', 'NY01397566_01'...</td>\n    </tr>\n    <tr>\n      <th>4</th>\n      <td>reticulatum</td>\n      <td>f5</td>\n      <td>35</td>\n      <td>['NY01397567_01', 'IAN011429', 'NY01397566_01'...</td>\n    </tr>\n  </tbody>\n</table>\n</div>"
     },
     "metadata": {},
     "output_type": "display_data"
    },
    {
     "data": {
      "text/plain": "'color: RGB image_size: 400 minimum_image: 5 regions: Nordeste'"
     },
     "metadata": {},
     "output_type": "display_data"
    },
    {
     "data": {
      "text/plain": "         species folder  count  \\\n0     fuligineum     f1     13   \n1      oreophila     f2     23   \n2  corcovadensis     f3     27   \n3    campinasana     f4      7   \n4          limai     f5      9   \n\n                                         list_images  \n0  ['MBM116011', 'SPF00164804', 'ALCB002302', 'SP...  \n1  ['MBM116011', 'SPF00164804', 'ALCB002302', 'SP...  \n2  ['MBM116011', 'SPF00164804', 'ALCB002302', 'SP...  \n3  ['MBM116011', 'SPF00164804', 'ALCB002302', 'SP...  \n4  ['MBM116011', 'SPF00164804', 'ALCB002302', 'SP...  ",
      "text/html": "<div>\n<style scoped>\n    .dataframe tbody tr th:only-of-type {\n        vertical-align: middle;\n    }\n\n    .dataframe tbody tr th {\n        vertical-align: top;\n    }\n\n    .dataframe thead th {\n        text-align: right;\n    }\n</style>\n<table border=\"1\" class=\"dataframe\">\n  <thead>\n    <tr style=\"text-align: right;\">\n      <th></th>\n      <th>species</th>\n      <th>folder</th>\n      <th>count</th>\n      <th>list_images</th>\n    </tr>\n  </thead>\n  <tbody>\n    <tr>\n      <th>0</th>\n      <td>fuligineum</td>\n      <td>f1</td>\n      <td>13</td>\n      <td>['MBM116011', 'SPF00164804', 'ALCB002302', 'SP...</td>\n    </tr>\n    <tr>\n      <th>1</th>\n      <td>oreophila</td>\n      <td>f2</td>\n      <td>23</td>\n      <td>['MBM116011', 'SPF00164804', 'ALCB002302', 'SP...</td>\n    </tr>\n    <tr>\n      <th>2</th>\n      <td>corcovadensis</td>\n      <td>f3</td>\n      <td>27</td>\n      <td>['MBM116011', 'SPF00164804', 'ALCB002302', 'SP...</td>\n    </tr>\n    <tr>\n      <th>3</th>\n      <td>campinasana</td>\n      <td>f4</td>\n      <td>7</td>\n      <td>['MBM116011', 'SPF00164804', 'ALCB002302', 'SP...</td>\n    </tr>\n    <tr>\n      <th>4</th>\n      <td>limai</td>\n      <td>f5</td>\n      <td>9</td>\n      <td>['MBM116011', 'SPF00164804', 'ALCB002302', 'SP...</td>\n    </tr>\n  </tbody>\n</table>\n</div>"
     },
     "metadata": {},
     "output_type": "display_data"
    },
    {
     "data": {
      "text/plain": "'color: RGB image_size: 400 minimum_image: 10 regions: Nordeste'"
     },
     "metadata": {},
     "output_type": "display_data"
    },
    {
     "data": {
      "text/plain": "         species folder  count  \\\n0     fuligineum     f1     13   \n1      oreophila     f2     23   \n2  corcovadensis     f3     27   \n3      vicosanum     f4     12   \n4      sincorana     f5     47   \n\n                                         list_images  \n0  ['MBM116011', 'SPF00164804', 'ALCB002302', 'SP...  \n1  ['MBM116011', 'SPF00164804', 'ALCB002302', 'SP...  \n2  ['MBM116011', 'SPF00164804', 'ALCB002302', 'SP...  \n3  ['MBM116011', 'SPF00164804', 'ALCB002302', 'SP...  \n4  ['MBM116011', 'SPF00164804', 'ALCB002302', 'SP...  ",
      "text/html": "<div>\n<style scoped>\n    .dataframe tbody tr th:only-of-type {\n        vertical-align: middle;\n    }\n\n    .dataframe tbody tr th {\n        vertical-align: top;\n    }\n\n    .dataframe thead th {\n        text-align: right;\n    }\n</style>\n<table border=\"1\" class=\"dataframe\">\n  <thead>\n    <tr style=\"text-align: right;\">\n      <th></th>\n      <th>species</th>\n      <th>folder</th>\n      <th>count</th>\n      <th>list_images</th>\n    </tr>\n  </thead>\n  <tbody>\n    <tr>\n      <th>0</th>\n      <td>fuligineum</td>\n      <td>f1</td>\n      <td>13</td>\n      <td>['MBM116011', 'SPF00164804', 'ALCB002302', 'SP...</td>\n    </tr>\n    <tr>\n      <th>1</th>\n      <td>oreophila</td>\n      <td>f2</td>\n      <td>23</td>\n      <td>['MBM116011', 'SPF00164804', 'ALCB002302', 'SP...</td>\n    </tr>\n    <tr>\n      <th>2</th>\n      <td>corcovadensis</td>\n      <td>f3</td>\n      <td>27</td>\n      <td>['MBM116011', 'SPF00164804', 'ALCB002302', 'SP...</td>\n    </tr>\n    <tr>\n      <th>3</th>\n      <td>vicosanum</td>\n      <td>f4</td>\n      <td>12</td>\n      <td>['MBM116011', 'SPF00164804', 'ALCB002302', 'SP...</td>\n    </tr>\n    <tr>\n      <th>4</th>\n      <td>sincorana</td>\n      <td>f5</td>\n      <td>47</td>\n      <td>['MBM116011', 'SPF00164804', 'ALCB002302', 'SP...</td>\n    </tr>\n  </tbody>\n</table>\n</div>"
     },
     "metadata": {},
     "output_type": "display_data"
    },
    {
     "data": {
      "text/plain": "'color: RGB image_size: 400 minimum_image: 20 regions: Nordeste'"
     },
     "metadata": {},
     "output_type": "display_data"
    },
    {
     "data": {
      "text/plain": "         species folder  count  \\\n0      oreophila     f1     23   \n1  corcovadensis     f2     27   \n2      sincorana     f3     47   \n3    tetraphylla     f4     58   \n4  magnoliifolia     f5     21   \n\n                                         list_images  \n0  ['SPF00048717', 'SPF00082803', 'NY00555600_01'...  \n1  ['SPF00048717', 'SPF00082803', 'NY00555600_01'...  \n2  ['SPF00048717', 'SPF00082803', 'NY00555600_01'...  \n3  ['SPF00048717', 'SPF00082803', 'NY00555600_01'...  \n4  ['SPF00048717', 'SPF00082803', 'NY00555600_01'...  ",
      "text/html": "<div>\n<style scoped>\n    .dataframe tbody tr th:only-of-type {\n        vertical-align: middle;\n    }\n\n    .dataframe tbody tr th {\n        vertical-align: top;\n    }\n\n    .dataframe thead th {\n        text-align: right;\n    }\n</style>\n<table border=\"1\" class=\"dataframe\">\n  <thead>\n    <tr style=\"text-align: right;\">\n      <th></th>\n      <th>species</th>\n      <th>folder</th>\n      <th>count</th>\n      <th>list_images</th>\n    </tr>\n  </thead>\n  <tbody>\n    <tr>\n      <th>0</th>\n      <td>oreophila</td>\n      <td>f1</td>\n      <td>23</td>\n      <td>['SPF00048717', 'SPF00082803', 'NY00555600_01'...</td>\n    </tr>\n    <tr>\n      <th>1</th>\n      <td>corcovadensis</td>\n      <td>f2</td>\n      <td>27</td>\n      <td>['SPF00048717', 'SPF00082803', 'NY00555600_01'...</td>\n    </tr>\n    <tr>\n      <th>2</th>\n      <td>sincorana</td>\n      <td>f3</td>\n      <td>47</td>\n      <td>['SPF00048717', 'SPF00082803', 'NY00555600_01'...</td>\n    </tr>\n    <tr>\n      <th>3</th>\n      <td>tetraphylla</td>\n      <td>f4</td>\n      <td>58</td>\n      <td>['SPF00048717', 'SPF00082803', 'NY00555600_01'...</td>\n    </tr>\n    <tr>\n      <th>4</th>\n      <td>magnoliifolia</td>\n      <td>f5</td>\n      <td>21</td>\n      <td>['SPF00048717', 'SPF00082803', 'NY00555600_01'...</td>\n    </tr>\n  </tbody>\n</table>\n</div>"
     },
     "metadata": {},
     "output_type": "display_data"
    },
    {
     "data": {
      "text/plain": "'color: RGB image_size: 400 minimum_image: 5 regions: Sul'"
     },
     "metadata": {},
     "output_type": "display_data"
    },
    {
     "data": {
      "text/plain": "         species folder  count  \\\n0       glaziovi     f1      5   \n1     fuligineum     f2      5   \n2  corcovadensis     f3    168   \n3      regnellii     f4     24   \n4     mikanianum     f5     72   \n\n                                         list_images  \n0  ['MBM037883', 'NY00559096_01', 'MBM045085', 'M...  \n1  ['MBM037883', 'NY00559096_01', 'MBM045085', 'M...  \n2  ['MBM037883', 'NY00559096_01', 'MBM045085', 'M...  \n3  ['MBM037883', 'NY00559096_01', 'MBM045085', 'M...  \n4  ['MBM037883', 'NY00559096_01', 'MBM045085', 'M...  ",
      "text/html": "<div>\n<style scoped>\n    .dataframe tbody tr th:only-of-type {\n        vertical-align: middle;\n    }\n\n    .dataframe tbody tr th {\n        vertical-align: top;\n    }\n\n    .dataframe thead th {\n        text-align: right;\n    }\n</style>\n<table border=\"1\" class=\"dataframe\">\n  <thead>\n    <tr style=\"text-align: right;\">\n      <th></th>\n      <th>species</th>\n      <th>folder</th>\n      <th>count</th>\n      <th>list_images</th>\n    </tr>\n  </thead>\n  <tbody>\n    <tr>\n      <th>0</th>\n      <td>glaziovi</td>\n      <td>f1</td>\n      <td>5</td>\n      <td>['MBM037883', 'NY00559096_01', 'MBM045085', 'M...</td>\n    </tr>\n    <tr>\n      <th>1</th>\n      <td>fuligineum</td>\n      <td>f2</td>\n      <td>5</td>\n      <td>['MBM037883', 'NY00559096_01', 'MBM045085', 'M...</td>\n    </tr>\n    <tr>\n      <th>2</th>\n      <td>corcovadensis</td>\n      <td>f3</td>\n      <td>168</td>\n      <td>['MBM037883', 'NY00559096_01', 'MBM045085', 'M...</td>\n    </tr>\n    <tr>\n      <th>3</th>\n      <td>regnellii</td>\n      <td>f4</td>\n      <td>24</td>\n      <td>['MBM037883', 'NY00559096_01', 'MBM045085', 'M...</td>\n    </tr>\n    <tr>\n      <th>4</th>\n      <td>mikanianum</td>\n      <td>f5</td>\n      <td>72</td>\n      <td>['MBM037883', 'NY00559096_01', 'MBM045085', 'M...</td>\n    </tr>\n  </tbody>\n</table>\n</div>"
     },
     "metadata": {},
     "output_type": "display_data"
    },
    {
     "data": {
      "text/plain": "'color: RGB image_size: 400 minimum_image: 10 regions: Sul'"
     },
     "metadata": {},
     "output_type": "display_data"
    },
    {
     "data": {
      "text/plain": "         species folder  count  \\\n0  corcovadensis     f1    168   \n1      regnellii     f2     24   \n2     mikanianum     f3     72   \n3        reitzii     f4     20   \n4    miquelianum     f5    141   \n\n                                         list_images  \n0  ['MBM037883', 'NY00559096_01', 'MBM045085', 'M...  \n1  ['MBM037883', 'NY00559096_01', 'MBM045085', 'M...  \n2  ['MBM037883', 'NY00559096_01', 'MBM045085', 'M...  \n3  ['MBM037883', 'NY00559096_01', 'MBM045085', 'M...  \n4  ['MBM037883', 'NY00559096_01', 'MBM045085', 'M...  ",
      "text/html": "<div>\n<style scoped>\n    .dataframe tbody tr th:only-of-type {\n        vertical-align: middle;\n    }\n\n    .dataframe tbody tr th {\n        vertical-align: top;\n    }\n\n    .dataframe thead th {\n        text-align: right;\n    }\n</style>\n<table border=\"1\" class=\"dataframe\">\n  <thead>\n    <tr style=\"text-align: right;\">\n      <th></th>\n      <th>species</th>\n      <th>folder</th>\n      <th>count</th>\n      <th>list_images</th>\n    </tr>\n  </thead>\n  <tbody>\n    <tr>\n      <th>0</th>\n      <td>corcovadensis</td>\n      <td>f1</td>\n      <td>168</td>\n      <td>['MBM037883', 'NY00559096_01', 'MBM045085', 'M...</td>\n    </tr>\n    <tr>\n      <th>1</th>\n      <td>regnellii</td>\n      <td>f2</td>\n      <td>24</td>\n      <td>['MBM037883', 'NY00559096_01', 'MBM045085', 'M...</td>\n    </tr>\n    <tr>\n      <th>2</th>\n      <td>mikanianum</td>\n      <td>f3</td>\n      <td>72</td>\n      <td>['MBM037883', 'NY00559096_01', 'MBM045085', 'M...</td>\n    </tr>\n    <tr>\n      <th>3</th>\n      <td>reitzii</td>\n      <td>f4</td>\n      <td>20</td>\n      <td>['MBM037883', 'NY00559096_01', 'MBM045085', 'M...</td>\n    </tr>\n    <tr>\n      <th>4</th>\n      <td>miquelianum</td>\n      <td>f5</td>\n      <td>141</td>\n      <td>['MBM037883', 'NY00559096_01', 'MBM045085', 'M...</td>\n    </tr>\n  </tbody>\n</table>\n</div>"
     },
     "metadata": {},
     "output_type": "display_data"
    },
    {
     "data": {
      "text/plain": "'color: RGB image_size: 400 minimum_image: 20 regions: Sul'"
     },
     "metadata": {},
     "output_type": "display_data"
    },
    {
     "data": {
      "text/plain": "         species folder  count  \\\n0  corcovadensis     f1    168   \n1      regnellii     f2     24   \n2     mikanianum     f3     72   \n3        reitzii     f4     20   \n4    miquelianum     f5    141   \n\n                                         list_images  \n0  ['MBM089701', 'MBM089707', 'CEN00047117', 'FUR...  \n1  ['MBM089701', 'MBM089707', 'CEN00047117', 'FUR...  \n2  ['MBM089701', 'MBM089707', 'CEN00047117', 'FUR...  \n3  ['MBM089701', 'MBM089707', 'CEN00047117', 'FUR...  \n4  ['MBM089701', 'MBM089707', 'CEN00047117', 'FUR...  ",
      "text/html": "<div>\n<style scoped>\n    .dataframe tbody tr th:only-of-type {\n        vertical-align: middle;\n    }\n\n    .dataframe tbody tr th {\n        vertical-align: top;\n    }\n\n    .dataframe thead th {\n        text-align: right;\n    }\n</style>\n<table border=\"1\" class=\"dataframe\">\n  <thead>\n    <tr style=\"text-align: right;\">\n      <th></th>\n      <th>species</th>\n      <th>folder</th>\n      <th>count</th>\n      <th>list_images</th>\n    </tr>\n  </thead>\n  <tbody>\n    <tr>\n      <th>0</th>\n      <td>corcovadensis</td>\n      <td>f1</td>\n      <td>168</td>\n      <td>['MBM089701', 'MBM089707', 'CEN00047117', 'FUR...</td>\n    </tr>\n    <tr>\n      <th>1</th>\n      <td>regnellii</td>\n      <td>f2</td>\n      <td>24</td>\n      <td>['MBM089701', 'MBM089707', 'CEN00047117', 'FUR...</td>\n    </tr>\n    <tr>\n      <th>2</th>\n      <td>mikanianum</td>\n      <td>f3</td>\n      <td>72</td>\n      <td>['MBM089701', 'MBM089707', 'CEN00047117', 'FUR...</td>\n    </tr>\n    <tr>\n      <th>3</th>\n      <td>reitzii</td>\n      <td>f4</td>\n      <td>20</td>\n      <td>['MBM089701', 'MBM089707', 'CEN00047117', 'FUR...</td>\n    </tr>\n    <tr>\n      <th>4</th>\n      <td>miquelianum</td>\n      <td>f5</td>\n      <td>141</td>\n      <td>['MBM089701', 'MBM089707', 'CEN00047117', 'FUR...</td>\n    </tr>\n  </tbody>\n</table>\n</div>"
     },
     "metadata": {},
     "output_type": "display_data"
    },
    {
     "data": {
      "text/plain": "'color: RGB image_size: 400 minimum_image: 5 regions: Sudeste'"
     },
     "metadata": {},
     "output_type": "display_data"
    },
    {
     "data": {
      "text/plain": "         species folder  count  \\\n0     fuligineum     f1     79   \n1      oreophila     f2      5   \n2  corcovadensis     f3    124   \n3   psilostachya     f4      7   \n4      regnellii     f5     55   \n\n                                         list_images  \n0  ['MBM084431', 'INPA0124667', 'SP011164', 'NY00...  \n1  ['MBM084431', 'INPA0124667', 'SP011164', 'NY00...  \n2  ['MBM084431', 'INPA0124667', 'SP011164', 'NY00...  \n3  ['MBM084431', 'INPA0124667', 'SP011164', 'NY00...  \n4  ['MBM084431', 'INPA0124667', 'SP011164', 'NY00...  ",
      "text/html": "<div>\n<style scoped>\n    .dataframe tbody tr th:only-of-type {\n        vertical-align: middle;\n    }\n\n    .dataframe tbody tr th {\n        vertical-align: top;\n    }\n\n    .dataframe thead th {\n        text-align: right;\n    }\n</style>\n<table border=\"1\" class=\"dataframe\">\n  <thead>\n    <tr style=\"text-align: right;\">\n      <th></th>\n      <th>species</th>\n      <th>folder</th>\n      <th>count</th>\n      <th>list_images</th>\n    </tr>\n  </thead>\n  <tbody>\n    <tr>\n      <th>0</th>\n      <td>fuligineum</td>\n      <td>f1</td>\n      <td>79</td>\n      <td>['MBM084431', 'INPA0124667', 'SP011164', 'NY00...</td>\n    </tr>\n    <tr>\n      <th>1</th>\n      <td>oreophila</td>\n      <td>f2</td>\n      <td>5</td>\n      <td>['MBM084431', 'INPA0124667', 'SP011164', 'NY00...</td>\n    </tr>\n    <tr>\n      <th>2</th>\n      <td>corcovadensis</td>\n      <td>f3</td>\n      <td>124</td>\n      <td>['MBM084431', 'INPA0124667', 'SP011164', 'NY00...</td>\n    </tr>\n    <tr>\n      <th>3</th>\n      <td>psilostachya</td>\n      <td>f4</td>\n      <td>7</td>\n      <td>['MBM084431', 'INPA0124667', 'SP011164', 'NY00...</td>\n    </tr>\n    <tr>\n      <th>4</th>\n      <td>regnellii</td>\n      <td>f5</td>\n      <td>55</td>\n      <td>['MBM084431', 'INPA0124667', 'SP011164', 'NY00...</td>\n    </tr>\n  </tbody>\n</table>\n</div>"
     },
     "metadata": {},
     "output_type": "display_data"
    },
    {
     "data": {
      "text/plain": "'color: RGB image_size: 400 minimum_image: 10 regions: Sudeste'"
     },
     "metadata": {},
     "output_type": "display_data"
    },
    {
     "data": {
      "text/plain": "         species folder  count  \\\n0     fuligineum     f1     79   \n1  corcovadensis     f2    124   \n2      regnellii     f3     55   \n3     mikanianum     f4     18   \n4      vicosanum     f5     24   \n\n                                         list_images  \n0  ['ESA031454', 'NY00559090_01', 'MBM084435', 'S...  \n1  ['ESA031454', 'NY00559090_01', 'MBM084435', 'S...  \n2  ['ESA031454', 'NY00559090_01', 'MBM084435', 'S...  \n3  ['ESA031454', 'NY00559090_01', 'MBM084435', 'S...  \n4  ['ESA031454', 'NY00559090_01', 'MBM084435', 'S...  ",
      "text/html": "<div>\n<style scoped>\n    .dataframe tbody tr th:only-of-type {\n        vertical-align: middle;\n    }\n\n    .dataframe tbody tr th {\n        vertical-align: top;\n    }\n\n    .dataframe thead th {\n        text-align: right;\n    }\n</style>\n<table border=\"1\" class=\"dataframe\">\n  <thead>\n    <tr style=\"text-align: right;\">\n      <th></th>\n      <th>species</th>\n      <th>folder</th>\n      <th>count</th>\n      <th>list_images</th>\n    </tr>\n  </thead>\n  <tbody>\n    <tr>\n      <th>0</th>\n      <td>fuligineum</td>\n      <td>f1</td>\n      <td>79</td>\n      <td>['ESA031454', 'NY00559090_01', 'MBM084435', 'S...</td>\n    </tr>\n    <tr>\n      <th>1</th>\n      <td>corcovadensis</td>\n      <td>f2</td>\n      <td>124</td>\n      <td>['ESA031454', 'NY00559090_01', 'MBM084435', 'S...</td>\n    </tr>\n    <tr>\n      <th>2</th>\n      <td>regnellii</td>\n      <td>f3</td>\n      <td>55</td>\n      <td>['ESA031454', 'NY00559090_01', 'MBM084435', 'S...</td>\n    </tr>\n    <tr>\n      <th>3</th>\n      <td>mikanianum</td>\n      <td>f4</td>\n      <td>18</td>\n      <td>['ESA031454', 'NY00559090_01', 'MBM084435', 'S...</td>\n    </tr>\n    <tr>\n      <th>4</th>\n      <td>vicosanum</td>\n      <td>f5</td>\n      <td>24</td>\n      <td>['ESA031454', 'NY00559090_01', 'MBM084435', 'S...</td>\n    </tr>\n  </tbody>\n</table>\n</div>"
     },
     "metadata": {},
     "output_type": "display_data"
    },
    {
     "data": {
      "text/plain": "'color: RGB image_size: 400 minimum_image: 20 regions: Sudeste'"
     },
     "metadata": {},
     "output_type": "display_data"
    },
    {
     "data": {
      "text/plain": "         species folder  count  \\\n0     fuligineum     f1     79   \n1  corcovadensis     f2    124   \n2      regnellii     f3     55   \n3      vicosanum     f4     24   \n4    lhotzkyanum     f5     34   \n\n                                         list_images  \n0  ['ESA031454', 'NY00559090_01', 'MBM084435', 'S...  \n1  ['ESA031454', 'NY00559090_01', 'MBM084435', 'S...  \n2  ['ESA031454', 'NY00559090_01', 'MBM084435', 'S...  \n3  ['ESA031454', 'NY00559090_01', 'MBM084435', 'S...  \n4  ['ESA031454', 'NY00559090_01', 'MBM084435', 'S...  ",
      "text/html": "<div>\n<style scoped>\n    .dataframe tbody tr th:only-of-type {\n        vertical-align: middle;\n    }\n\n    .dataframe tbody tr th {\n        vertical-align: top;\n    }\n\n    .dataframe thead th {\n        text-align: right;\n    }\n</style>\n<table border=\"1\" class=\"dataframe\">\n  <thead>\n    <tr style=\"text-align: right;\">\n      <th></th>\n      <th>species</th>\n      <th>folder</th>\n      <th>count</th>\n      <th>list_images</th>\n    </tr>\n  </thead>\n  <tbody>\n    <tr>\n      <th>0</th>\n      <td>fuligineum</td>\n      <td>f1</td>\n      <td>79</td>\n      <td>['ESA031454', 'NY00559090_01', 'MBM084435', 'S...</td>\n    </tr>\n    <tr>\n      <th>1</th>\n      <td>corcovadensis</td>\n      <td>f2</td>\n      <td>124</td>\n      <td>['ESA031454', 'NY00559090_01', 'MBM084435', 'S...</td>\n    </tr>\n    <tr>\n      <th>2</th>\n      <td>regnellii</td>\n      <td>f3</td>\n      <td>55</td>\n      <td>['ESA031454', 'NY00559090_01', 'MBM084435', 'S...</td>\n    </tr>\n    <tr>\n      <th>3</th>\n      <td>vicosanum</td>\n      <td>f4</td>\n      <td>24</td>\n      <td>['ESA031454', 'NY00559090_01', 'MBM084435', 'S...</td>\n    </tr>\n    <tr>\n      <th>4</th>\n      <td>lhotzkyanum</td>\n      <td>f5</td>\n      <td>34</td>\n      <td>['ESA031454', 'NY00559090_01', 'MBM084435', 'S...</td>\n    </tr>\n  </tbody>\n</table>\n</div>"
     },
     "metadata": {},
     "output_type": "display_data"
    },
    {
     "data": {
      "text/plain": "'color: RGB image_size: 400 minimum_image: 5 regions: Centro-Oeste'"
     },
     "metadata": {},
     "output_type": "display_data"
    },
    {
     "data": {
      "text/plain": "       species folder  count  \\\n0   fuligineum     f1     77   \n1  campinasana     f2      7   \n2    regnellii     f3     40   \n3      aequale     f4     15   \n4  miquelianum     f5      8   \n\n                                         list_images  \n0  ['NY00679960_01', 'NY00956929_01', 'MBM250545'...  \n1  ['NY00679960_01', 'NY00956929_01', 'MBM250545'...  \n2  ['NY00679960_01', 'NY00956929_01', 'MBM250545'...  \n3  ['NY00679960_01', 'NY00956929_01', 'MBM250545'...  \n4  ['NY00679960_01', 'NY00956929_01', 'MBM250545'...  ",
      "text/html": "<div>\n<style scoped>\n    .dataframe tbody tr th:only-of-type {\n        vertical-align: middle;\n    }\n\n    .dataframe tbody tr th {\n        vertical-align: top;\n    }\n\n    .dataframe thead th {\n        text-align: right;\n    }\n</style>\n<table border=\"1\" class=\"dataframe\">\n  <thead>\n    <tr style=\"text-align: right;\">\n      <th></th>\n      <th>species</th>\n      <th>folder</th>\n      <th>count</th>\n      <th>list_images</th>\n    </tr>\n  </thead>\n  <tbody>\n    <tr>\n      <th>0</th>\n      <td>fuligineum</td>\n      <td>f1</td>\n      <td>77</td>\n      <td>['NY00679960_01', 'NY00956929_01', 'MBM250545'...</td>\n    </tr>\n    <tr>\n      <th>1</th>\n      <td>campinasana</td>\n      <td>f2</td>\n      <td>7</td>\n      <td>['NY00679960_01', 'NY00956929_01', 'MBM250545'...</td>\n    </tr>\n    <tr>\n      <th>2</th>\n      <td>regnellii</td>\n      <td>f3</td>\n      <td>40</td>\n      <td>['NY00679960_01', 'NY00956929_01', 'MBM250545'...</td>\n    </tr>\n    <tr>\n      <th>3</th>\n      <td>aequale</td>\n      <td>f4</td>\n      <td>15</td>\n      <td>['NY00679960_01', 'NY00956929_01', 'MBM250545'...</td>\n    </tr>\n    <tr>\n      <th>4</th>\n      <td>miquelianum</td>\n      <td>f5</td>\n      <td>8</td>\n      <td>['NY00679960_01', 'NY00956929_01', 'MBM250545'...</td>\n    </tr>\n  </tbody>\n</table>\n</div>"
     },
     "metadata": {},
     "output_type": "display_data"
    },
    {
     "data": {
      "text/plain": "'color: RGB image_size: 400 minimum_image: 10 regions: Centro-Oeste'"
     },
     "metadata": {},
     "output_type": "display_data"
    },
    {
     "data": {
      "text/plain": "         species folder  count  \\\n0     fuligineum     f1     77   \n1      regnellii     f2     40   \n2        aequale     f3     15   \n3  crassinervium     f4     14   \n4    gardneriana     f5     15   \n\n                                         list_images  \n0  ['NY00679960_01', 'NY00956929_01', 'MBM250545'...  \n1  ['NY00679960_01', 'NY00956929_01', 'MBM250545'...  \n2  ['NY00679960_01', 'NY00956929_01', 'MBM250545'...  \n3  ['NY00679960_01', 'NY00956929_01', 'MBM250545'...  \n4  ['NY00679960_01', 'NY00956929_01', 'MBM250545'...  ",
      "text/html": "<div>\n<style scoped>\n    .dataframe tbody tr th:only-of-type {\n        vertical-align: middle;\n    }\n\n    .dataframe tbody tr th {\n        vertical-align: top;\n    }\n\n    .dataframe thead th {\n        text-align: right;\n    }\n</style>\n<table border=\"1\" class=\"dataframe\">\n  <thead>\n    <tr style=\"text-align: right;\">\n      <th></th>\n      <th>species</th>\n      <th>folder</th>\n      <th>count</th>\n      <th>list_images</th>\n    </tr>\n  </thead>\n  <tbody>\n    <tr>\n      <th>0</th>\n      <td>fuligineum</td>\n      <td>f1</td>\n      <td>77</td>\n      <td>['NY00679960_01', 'NY00956929_01', 'MBM250545'...</td>\n    </tr>\n    <tr>\n      <th>1</th>\n      <td>regnellii</td>\n      <td>f2</td>\n      <td>40</td>\n      <td>['NY00679960_01', 'NY00956929_01', 'MBM250545'...</td>\n    </tr>\n    <tr>\n      <th>2</th>\n      <td>aequale</td>\n      <td>f3</td>\n      <td>15</td>\n      <td>['NY00679960_01', 'NY00956929_01', 'MBM250545'...</td>\n    </tr>\n    <tr>\n      <th>3</th>\n      <td>crassinervium</td>\n      <td>f4</td>\n      <td>14</td>\n      <td>['NY00679960_01', 'NY00956929_01', 'MBM250545'...</td>\n    </tr>\n    <tr>\n      <th>4</th>\n      <td>gardneriana</td>\n      <td>f5</td>\n      <td>15</td>\n      <td>['NY00679960_01', 'NY00956929_01', 'MBM250545'...</td>\n    </tr>\n  </tbody>\n</table>\n</div>"
     },
     "metadata": {},
     "output_type": "display_data"
    },
    {
     "data": {
      "text/plain": "'color: RGB image_size: 400 minimum_image: 20 regions: Centro-Oeste'"
     },
     "metadata": {},
     "output_type": "display_data"
    },
    {
     "data": {
      "text/plain": "      species folder  count                                        list_images\n0  fuligineum     f1     77  ['CEN00036424', 'UEC149671', 'NY00885318_01', ...\n1   regnellii     f2     40  ['CEN00036424', 'UEC149671', 'NY00885318_01', ...\n2    elongata     f3     20  ['CEN00036424', 'UEC149671', 'NY00885318_01', ...\n3    arboreum     f4    203  ['CEN00036424', 'UEC149671', 'NY00885318_01', ...\n4    hispidum     f5     53  ['CEN00036424', 'UEC149671', 'NY00885318_01', ...",
      "text/html": "<div>\n<style scoped>\n    .dataframe tbody tr th:only-of-type {\n        vertical-align: middle;\n    }\n\n    .dataframe tbody tr th {\n        vertical-align: top;\n    }\n\n    .dataframe thead th {\n        text-align: right;\n    }\n</style>\n<table border=\"1\" class=\"dataframe\">\n  <thead>\n    <tr style=\"text-align: right;\">\n      <th></th>\n      <th>species</th>\n      <th>folder</th>\n      <th>count</th>\n      <th>list_images</th>\n    </tr>\n  </thead>\n  <tbody>\n    <tr>\n      <th>0</th>\n      <td>fuligineum</td>\n      <td>f1</td>\n      <td>77</td>\n      <td>['CEN00036424', 'UEC149671', 'NY00885318_01', ...</td>\n    </tr>\n    <tr>\n      <th>1</th>\n      <td>regnellii</td>\n      <td>f2</td>\n      <td>40</td>\n      <td>['CEN00036424', 'UEC149671', 'NY00885318_01', ...</td>\n    </tr>\n    <tr>\n      <th>2</th>\n      <td>elongata</td>\n      <td>f3</td>\n      <td>20</td>\n      <td>['CEN00036424', 'UEC149671', 'NY00885318_01', ...</td>\n    </tr>\n    <tr>\n      <th>3</th>\n      <td>arboreum</td>\n      <td>f4</td>\n      <td>203</td>\n      <td>['CEN00036424', 'UEC149671', 'NY00885318_01', ...</td>\n    </tr>\n    <tr>\n      <th>4</th>\n      <td>hispidum</td>\n      <td>f5</td>\n      <td>53</td>\n      <td>['CEN00036424', 'UEC149671', 'NY00885318_01', ...</td>\n    </tr>\n  </tbody>\n</table>\n</div>"
     },
     "metadata": {},
     "output_type": "display_data"
    },
    {
     "data": {
      "text/plain": "'color: RGB image_size: 512 minimum_image: 5 regions: Norte'"
     },
     "metadata": {},
     "output_type": "display_data"
    },
    {
     "data": {
      "text/plain": "       species folder  count  \\\n0   piscatorum     f1     10   \n1     obliquum     f2     61   \n2   javariense     f3     11   \n3    coruscans     f4     13   \n4  brasiliense     f5     23   \n\n                                         list_images  \n0  ['INPA0179861', 'INPA0023412', 'NY01421846_01'...  \n1  ['INPA0179861', 'INPA0023412', 'NY01421846_01'...  \n2  ['INPA0179861', 'INPA0023412', 'NY01421846_01'...  \n3  ['INPA0179861', 'INPA0023412', 'NY01421846_01'...  \n4  ['INPA0179861', 'INPA0023412', 'NY01421846_01'...  ",
      "text/html": "<div>\n<style scoped>\n    .dataframe tbody tr th:only-of-type {\n        vertical-align: middle;\n    }\n\n    .dataframe tbody tr th {\n        vertical-align: top;\n    }\n\n    .dataframe thead th {\n        text-align: right;\n    }\n</style>\n<table border=\"1\" class=\"dataframe\">\n  <thead>\n    <tr style=\"text-align: right;\">\n      <th></th>\n      <th>species</th>\n      <th>folder</th>\n      <th>count</th>\n      <th>list_images</th>\n    </tr>\n  </thead>\n  <tbody>\n    <tr>\n      <th>0</th>\n      <td>piscatorum</td>\n      <td>f1</td>\n      <td>10</td>\n      <td>['INPA0179861', 'INPA0023412', 'NY01421846_01'...</td>\n    </tr>\n    <tr>\n      <th>1</th>\n      <td>obliquum</td>\n      <td>f2</td>\n      <td>61</td>\n      <td>['INPA0179861', 'INPA0023412', 'NY01421846_01'...</td>\n    </tr>\n    <tr>\n      <th>2</th>\n      <td>javariense</td>\n      <td>f3</td>\n      <td>11</td>\n      <td>['INPA0179861', 'INPA0023412', 'NY01421846_01'...</td>\n    </tr>\n    <tr>\n      <th>3</th>\n      <td>coruscans</td>\n      <td>f4</td>\n      <td>13</td>\n      <td>['INPA0179861', 'INPA0023412', 'NY01421846_01'...</td>\n    </tr>\n    <tr>\n      <th>4</th>\n      <td>brasiliense</td>\n      <td>f5</td>\n      <td>23</td>\n      <td>['INPA0179861', 'INPA0023412', 'NY01421846_01'...</td>\n    </tr>\n  </tbody>\n</table>\n</div>"
     },
     "metadata": {},
     "output_type": "display_data"
    },
    {
     "data": {
      "text/plain": "'color: RGB image_size: 512 minimum_image: 10 regions: Norte'"
     },
     "metadata": {},
     "output_type": "display_data"
    },
    {
     "data": {
      "text/plain": "       species folder  count  \\\n0   piscatorum     f1     10   \n1     obliquum     f2     61   \n2   javariense     f3     11   \n3    coruscans     f4     13   \n4  brasiliense     f5     23   \n\n                                         list_images  \n0  ['NY01397567_01', 'IAN011429', 'NY01397566_01'...  \n1  ['NY01397567_01', 'IAN011429', 'NY01397566_01'...  \n2  ['NY01397567_01', 'IAN011429', 'NY01397566_01'...  \n3  ['NY01397567_01', 'IAN011429', 'NY01397566_01'...  \n4  ['NY01397567_01', 'IAN011429', 'NY01397566_01'...  ",
      "text/html": "<div>\n<style scoped>\n    .dataframe tbody tr th:only-of-type {\n        vertical-align: middle;\n    }\n\n    .dataframe tbody tr th {\n        vertical-align: top;\n    }\n\n    .dataframe thead th {\n        text-align: right;\n    }\n</style>\n<table border=\"1\" class=\"dataframe\">\n  <thead>\n    <tr style=\"text-align: right;\">\n      <th></th>\n      <th>species</th>\n      <th>folder</th>\n      <th>count</th>\n      <th>list_images</th>\n    </tr>\n  </thead>\n  <tbody>\n    <tr>\n      <th>0</th>\n      <td>piscatorum</td>\n      <td>f1</td>\n      <td>10</td>\n      <td>['NY01397567_01', 'IAN011429', 'NY01397566_01'...</td>\n    </tr>\n    <tr>\n      <th>1</th>\n      <td>obliquum</td>\n      <td>f2</td>\n      <td>61</td>\n      <td>['NY01397567_01', 'IAN011429', 'NY01397566_01'...</td>\n    </tr>\n    <tr>\n      <th>2</th>\n      <td>javariense</td>\n      <td>f3</td>\n      <td>11</td>\n      <td>['NY01397567_01', 'IAN011429', 'NY01397566_01'...</td>\n    </tr>\n    <tr>\n      <th>3</th>\n      <td>coruscans</td>\n      <td>f4</td>\n      <td>13</td>\n      <td>['NY01397567_01', 'IAN011429', 'NY01397566_01'...</td>\n    </tr>\n    <tr>\n      <th>4</th>\n      <td>brasiliense</td>\n      <td>f5</td>\n      <td>23</td>\n      <td>['NY01397567_01', 'IAN011429', 'NY01397566_01'...</td>\n    </tr>\n  </tbody>\n</table>\n</div>"
     },
     "metadata": {},
     "output_type": "display_data"
    },
    {
     "data": {
      "text/plain": "'color: RGB image_size: 512 minimum_image: 20 regions: Norte'"
     },
     "metadata": {},
     "output_type": "display_data"
    },
    {
     "data": {
      "text/plain": "       species folder  count  \\\n0     obliquum     f1     61   \n1  brasiliense     f2     23   \n2  alatabaccum     f3     28   \n3      piresii     f4     38   \n4  reticulatum     f5     35   \n\n                                         list_images  \n0  ['NY01397567_01', 'IAN011429', 'NY01397566_01'...  \n1  ['NY01397567_01', 'IAN011429', 'NY01397566_01'...  \n2  ['NY01397567_01', 'IAN011429', 'NY01397566_01'...  \n3  ['NY01397567_01', 'IAN011429', 'NY01397566_01'...  \n4  ['NY01397567_01', 'IAN011429', 'NY01397566_01'...  ",
      "text/html": "<div>\n<style scoped>\n    .dataframe tbody tr th:only-of-type {\n        vertical-align: middle;\n    }\n\n    .dataframe tbody tr th {\n        vertical-align: top;\n    }\n\n    .dataframe thead th {\n        text-align: right;\n    }\n</style>\n<table border=\"1\" class=\"dataframe\">\n  <thead>\n    <tr style=\"text-align: right;\">\n      <th></th>\n      <th>species</th>\n      <th>folder</th>\n      <th>count</th>\n      <th>list_images</th>\n    </tr>\n  </thead>\n  <tbody>\n    <tr>\n      <th>0</th>\n      <td>obliquum</td>\n      <td>f1</td>\n      <td>61</td>\n      <td>['NY01397567_01', 'IAN011429', 'NY01397566_01'...</td>\n    </tr>\n    <tr>\n      <th>1</th>\n      <td>brasiliense</td>\n      <td>f2</td>\n      <td>23</td>\n      <td>['NY01397567_01', 'IAN011429', 'NY01397566_01'...</td>\n    </tr>\n    <tr>\n      <th>2</th>\n      <td>alatabaccum</td>\n      <td>f3</td>\n      <td>28</td>\n      <td>['NY01397567_01', 'IAN011429', 'NY01397566_01'...</td>\n    </tr>\n    <tr>\n      <th>3</th>\n      <td>piresii</td>\n      <td>f4</td>\n      <td>38</td>\n      <td>['NY01397567_01', 'IAN011429', 'NY01397566_01'...</td>\n    </tr>\n    <tr>\n      <th>4</th>\n      <td>reticulatum</td>\n      <td>f5</td>\n      <td>35</td>\n      <td>['NY01397567_01', 'IAN011429', 'NY01397566_01'...</td>\n    </tr>\n  </tbody>\n</table>\n</div>"
     },
     "metadata": {},
     "output_type": "display_data"
    },
    {
     "data": {
      "text/plain": "'color: RGB image_size: 512 minimum_image: 5 regions: Nordeste'"
     },
     "metadata": {},
     "output_type": "display_data"
    },
    {
     "data": {
      "text/plain": "         species folder  count  \\\n0     fuligineum     f1     13   \n1      oreophila     f2     23   \n2  corcovadensis     f3     27   \n3    campinasana     f4      7   \n4          limai     f5      9   \n\n                                         list_images  \n0  ['MBM116011', 'SPF00164804', 'ALCB002302', 'SP...  \n1  ['MBM116011', 'SPF00164804', 'ALCB002302', 'SP...  \n2  ['MBM116011', 'SPF00164804', 'ALCB002302', 'SP...  \n3  ['MBM116011', 'SPF00164804', 'ALCB002302', 'SP...  \n4  ['MBM116011', 'SPF00164804', 'ALCB002302', 'SP...  ",
      "text/html": "<div>\n<style scoped>\n    .dataframe tbody tr th:only-of-type {\n        vertical-align: middle;\n    }\n\n    .dataframe tbody tr th {\n        vertical-align: top;\n    }\n\n    .dataframe thead th {\n        text-align: right;\n    }\n</style>\n<table border=\"1\" class=\"dataframe\">\n  <thead>\n    <tr style=\"text-align: right;\">\n      <th></th>\n      <th>species</th>\n      <th>folder</th>\n      <th>count</th>\n      <th>list_images</th>\n    </tr>\n  </thead>\n  <tbody>\n    <tr>\n      <th>0</th>\n      <td>fuligineum</td>\n      <td>f1</td>\n      <td>13</td>\n      <td>['MBM116011', 'SPF00164804', 'ALCB002302', 'SP...</td>\n    </tr>\n    <tr>\n      <th>1</th>\n      <td>oreophila</td>\n      <td>f2</td>\n      <td>23</td>\n      <td>['MBM116011', 'SPF00164804', 'ALCB002302', 'SP...</td>\n    </tr>\n    <tr>\n      <th>2</th>\n      <td>corcovadensis</td>\n      <td>f3</td>\n      <td>27</td>\n      <td>['MBM116011', 'SPF00164804', 'ALCB002302', 'SP...</td>\n    </tr>\n    <tr>\n      <th>3</th>\n      <td>campinasana</td>\n      <td>f4</td>\n      <td>7</td>\n      <td>['MBM116011', 'SPF00164804', 'ALCB002302', 'SP...</td>\n    </tr>\n    <tr>\n      <th>4</th>\n      <td>limai</td>\n      <td>f5</td>\n      <td>9</td>\n      <td>['MBM116011', 'SPF00164804', 'ALCB002302', 'SP...</td>\n    </tr>\n  </tbody>\n</table>\n</div>"
     },
     "metadata": {},
     "output_type": "display_data"
    },
    {
     "data": {
      "text/plain": "'color: RGB image_size: 512 minimum_image: 10 regions: Nordeste'"
     },
     "metadata": {},
     "output_type": "display_data"
    },
    {
     "data": {
      "text/plain": "         species folder  count  \\\n0     fuligineum     f1     13   \n1      oreophila     f2     23   \n2  corcovadensis     f3     27   \n3      vicosanum     f4     12   \n4      sincorana     f5     47   \n\n                                         list_images  \n0  ['MBM116011', 'SPF00164804', 'ALCB002302', 'SP...  \n1  ['MBM116011', 'SPF00164804', 'ALCB002302', 'SP...  \n2  ['MBM116011', 'SPF00164804', 'ALCB002302', 'SP...  \n3  ['MBM116011', 'SPF00164804', 'ALCB002302', 'SP...  \n4  ['MBM116011', 'SPF00164804', 'ALCB002302', 'SP...  ",
      "text/html": "<div>\n<style scoped>\n    .dataframe tbody tr th:only-of-type {\n        vertical-align: middle;\n    }\n\n    .dataframe tbody tr th {\n        vertical-align: top;\n    }\n\n    .dataframe thead th {\n        text-align: right;\n    }\n</style>\n<table border=\"1\" class=\"dataframe\">\n  <thead>\n    <tr style=\"text-align: right;\">\n      <th></th>\n      <th>species</th>\n      <th>folder</th>\n      <th>count</th>\n      <th>list_images</th>\n    </tr>\n  </thead>\n  <tbody>\n    <tr>\n      <th>0</th>\n      <td>fuligineum</td>\n      <td>f1</td>\n      <td>13</td>\n      <td>['MBM116011', 'SPF00164804', 'ALCB002302', 'SP...</td>\n    </tr>\n    <tr>\n      <th>1</th>\n      <td>oreophila</td>\n      <td>f2</td>\n      <td>23</td>\n      <td>['MBM116011', 'SPF00164804', 'ALCB002302', 'SP...</td>\n    </tr>\n    <tr>\n      <th>2</th>\n      <td>corcovadensis</td>\n      <td>f3</td>\n      <td>27</td>\n      <td>['MBM116011', 'SPF00164804', 'ALCB002302', 'SP...</td>\n    </tr>\n    <tr>\n      <th>3</th>\n      <td>vicosanum</td>\n      <td>f4</td>\n      <td>12</td>\n      <td>['MBM116011', 'SPF00164804', 'ALCB002302', 'SP...</td>\n    </tr>\n    <tr>\n      <th>4</th>\n      <td>sincorana</td>\n      <td>f5</td>\n      <td>47</td>\n      <td>['MBM116011', 'SPF00164804', 'ALCB002302', 'SP...</td>\n    </tr>\n  </tbody>\n</table>\n</div>"
     },
     "metadata": {},
     "output_type": "display_data"
    },
    {
     "data": {
      "text/plain": "'color: RGB image_size: 512 minimum_image: 20 regions: Nordeste'"
     },
     "metadata": {},
     "output_type": "display_data"
    },
    {
     "data": {
      "text/plain": "         species folder  count  \\\n0      oreophila     f1     23   \n1  corcovadensis     f2     27   \n2      sincorana     f3     47   \n3    tetraphylla     f4     58   \n4  magnoliifolia     f5     21   \n\n                                         list_images  \n0  ['SPF00048717', 'SPF00082803', 'NY00555600_01'...  \n1  ['SPF00048717', 'SPF00082803', 'NY00555600_01'...  \n2  ['SPF00048717', 'SPF00082803', 'NY00555600_01'...  \n3  ['SPF00048717', 'SPF00082803', 'NY00555600_01'...  \n4  ['SPF00048717', 'SPF00082803', 'NY00555600_01'...  ",
      "text/html": "<div>\n<style scoped>\n    .dataframe tbody tr th:only-of-type {\n        vertical-align: middle;\n    }\n\n    .dataframe tbody tr th {\n        vertical-align: top;\n    }\n\n    .dataframe thead th {\n        text-align: right;\n    }\n</style>\n<table border=\"1\" class=\"dataframe\">\n  <thead>\n    <tr style=\"text-align: right;\">\n      <th></th>\n      <th>species</th>\n      <th>folder</th>\n      <th>count</th>\n      <th>list_images</th>\n    </tr>\n  </thead>\n  <tbody>\n    <tr>\n      <th>0</th>\n      <td>oreophila</td>\n      <td>f1</td>\n      <td>23</td>\n      <td>['SPF00048717', 'SPF00082803', 'NY00555600_01'...</td>\n    </tr>\n    <tr>\n      <th>1</th>\n      <td>corcovadensis</td>\n      <td>f2</td>\n      <td>27</td>\n      <td>['SPF00048717', 'SPF00082803', 'NY00555600_01'...</td>\n    </tr>\n    <tr>\n      <th>2</th>\n      <td>sincorana</td>\n      <td>f3</td>\n      <td>47</td>\n      <td>['SPF00048717', 'SPF00082803', 'NY00555600_01'...</td>\n    </tr>\n    <tr>\n      <th>3</th>\n      <td>tetraphylla</td>\n      <td>f4</td>\n      <td>58</td>\n      <td>['SPF00048717', 'SPF00082803', 'NY00555600_01'...</td>\n    </tr>\n    <tr>\n      <th>4</th>\n      <td>magnoliifolia</td>\n      <td>f5</td>\n      <td>21</td>\n      <td>['SPF00048717', 'SPF00082803', 'NY00555600_01'...</td>\n    </tr>\n  </tbody>\n</table>\n</div>"
     },
     "metadata": {},
     "output_type": "display_data"
    },
    {
     "data": {
      "text/plain": "'color: RGB image_size: 512 minimum_image: 5 regions: Sul'"
     },
     "metadata": {},
     "output_type": "display_data"
    },
    {
     "data": {
      "text/plain": "         species folder  count  \\\n0       glaziovi     f1      5   \n1     fuligineum     f2      5   \n2  corcovadensis     f3    168   \n3      regnellii     f4     24   \n4     mikanianum     f5     72   \n\n                                         list_images  \n0  ['MBM037883', 'NY00559096_01', 'MBM045085', 'M...  \n1  ['MBM037883', 'NY00559096_01', 'MBM045085', 'M...  \n2  ['MBM037883', 'NY00559096_01', 'MBM045085', 'M...  \n3  ['MBM037883', 'NY00559096_01', 'MBM045085', 'M...  \n4  ['MBM037883', 'NY00559096_01', 'MBM045085', 'M...  ",
      "text/html": "<div>\n<style scoped>\n    .dataframe tbody tr th:only-of-type {\n        vertical-align: middle;\n    }\n\n    .dataframe tbody tr th {\n        vertical-align: top;\n    }\n\n    .dataframe thead th {\n        text-align: right;\n    }\n</style>\n<table border=\"1\" class=\"dataframe\">\n  <thead>\n    <tr style=\"text-align: right;\">\n      <th></th>\n      <th>species</th>\n      <th>folder</th>\n      <th>count</th>\n      <th>list_images</th>\n    </tr>\n  </thead>\n  <tbody>\n    <tr>\n      <th>0</th>\n      <td>glaziovi</td>\n      <td>f1</td>\n      <td>5</td>\n      <td>['MBM037883', 'NY00559096_01', 'MBM045085', 'M...</td>\n    </tr>\n    <tr>\n      <th>1</th>\n      <td>fuligineum</td>\n      <td>f2</td>\n      <td>5</td>\n      <td>['MBM037883', 'NY00559096_01', 'MBM045085', 'M...</td>\n    </tr>\n    <tr>\n      <th>2</th>\n      <td>corcovadensis</td>\n      <td>f3</td>\n      <td>168</td>\n      <td>['MBM037883', 'NY00559096_01', 'MBM045085', 'M...</td>\n    </tr>\n    <tr>\n      <th>3</th>\n      <td>regnellii</td>\n      <td>f4</td>\n      <td>24</td>\n      <td>['MBM037883', 'NY00559096_01', 'MBM045085', 'M...</td>\n    </tr>\n    <tr>\n      <th>4</th>\n      <td>mikanianum</td>\n      <td>f5</td>\n      <td>72</td>\n      <td>['MBM037883', 'NY00559096_01', 'MBM045085', 'M...</td>\n    </tr>\n  </tbody>\n</table>\n</div>"
     },
     "metadata": {},
     "output_type": "display_data"
    },
    {
     "data": {
      "text/plain": "'color: RGB image_size: 512 minimum_image: 10 regions: Sul'"
     },
     "metadata": {},
     "output_type": "display_data"
    },
    {
     "data": {
      "text/plain": "         species folder  count  \\\n0  corcovadensis     f1    168   \n1      regnellii     f2     24   \n2     mikanianum     f3     72   \n3        reitzii     f4     20   \n4    miquelianum     f5    141   \n\n                                         list_images  \n0  ['MBM037883', 'NY00559096_01', 'MBM045085', 'M...  \n1  ['MBM037883', 'NY00559096_01', 'MBM045085', 'M...  \n2  ['MBM037883', 'NY00559096_01', 'MBM045085', 'M...  \n3  ['MBM037883', 'NY00559096_01', 'MBM045085', 'M...  \n4  ['MBM037883', 'NY00559096_01', 'MBM045085', 'M...  ",
      "text/html": "<div>\n<style scoped>\n    .dataframe tbody tr th:only-of-type {\n        vertical-align: middle;\n    }\n\n    .dataframe tbody tr th {\n        vertical-align: top;\n    }\n\n    .dataframe thead th {\n        text-align: right;\n    }\n</style>\n<table border=\"1\" class=\"dataframe\">\n  <thead>\n    <tr style=\"text-align: right;\">\n      <th></th>\n      <th>species</th>\n      <th>folder</th>\n      <th>count</th>\n      <th>list_images</th>\n    </tr>\n  </thead>\n  <tbody>\n    <tr>\n      <th>0</th>\n      <td>corcovadensis</td>\n      <td>f1</td>\n      <td>168</td>\n      <td>['MBM037883', 'NY00559096_01', 'MBM045085', 'M...</td>\n    </tr>\n    <tr>\n      <th>1</th>\n      <td>regnellii</td>\n      <td>f2</td>\n      <td>24</td>\n      <td>['MBM037883', 'NY00559096_01', 'MBM045085', 'M...</td>\n    </tr>\n    <tr>\n      <th>2</th>\n      <td>mikanianum</td>\n      <td>f3</td>\n      <td>72</td>\n      <td>['MBM037883', 'NY00559096_01', 'MBM045085', 'M...</td>\n    </tr>\n    <tr>\n      <th>3</th>\n      <td>reitzii</td>\n      <td>f4</td>\n      <td>20</td>\n      <td>['MBM037883', 'NY00559096_01', 'MBM045085', 'M...</td>\n    </tr>\n    <tr>\n      <th>4</th>\n      <td>miquelianum</td>\n      <td>f5</td>\n      <td>141</td>\n      <td>['MBM037883', 'NY00559096_01', 'MBM045085', 'M...</td>\n    </tr>\n  </tbody>\n</table>\n</div>"
     },
     "metadata": {},
     "output_type": "display_data"
    },
    {
     "data": {
      "text/plain": "'color: RGB image_size: 512 minimum_image: 20 regions: Sul'"
     },
     "metadata": {},
     "output_type": "display_data"
    },
    {
     "data": {
      "text/plain": "         species folder  count  \\\n0  corcovadensis     f1    168   \n1      regnellii     f2     24   \n2     mikanianum     f3     72   \n3        reitzii     f4     20   \n4    miquelianum     f5    141   \n\n                                         list_images  \n0  ['MBM089701', 'MBM089707', 'CEN00047117', 'FUR...  \n1  ['MBM089701', 'MBM089707', 'CEN00047117', 'FUR...  \n2  ['MBM089701', 'MBM089707', 'CEN00047117', 'FUR...  \n3  ['MBM089701', 'MBM089707', 'CEN00047117', 'FUR...  \n4  ['MBM089701', 'MBM089707', 'CEN00047117', 'FUR...  ",
      "text/html": "<div>\n<style scoped>\n    .dataframe tbody tr th:only-of-type {\n        vertical-align: middle;\n    }\n\n    .dataframe tbody tr th {\n        vertical-align: top;\n    }\n\n    .dataframe thead th {\n        text-align: right;\n    }\n</style>\n<table border=\"1\" class=\"dataframe\">\n  <thead>\n    <tr style=\"text-align: right;\">\n      <th></th>\n      <th>species</th>\n      <th>folder</th>\n      <th>count</th>\n      <th>list_images</th>\n    </tr>\n  </thead>\n  <tbody>\n    <tr>\n      <th>0</th>\n      <td>corcovadensis</td>\n      <td>f1</td>\n      <td>168</td>\n      <td>['MBM089701', 'MBM089707', 'CEN00047117', 'FUR...</td>\n    </tr>\n    <tr>\n      <th>1</th>\n      <td>regnellii</td>\n      <td>f2</td>\n      <td>24</td>\n      <td>['MBM089701', 'MBM089707', 'CEN00047117', 'FUR...</td>\n    </tr>\n    <tr>\n      <th>2</th>\n      <td>mikanianum</td>\n      <td>f3</td>\n      <td>72</td>\n      <td>['MBM089701', 'MBM089707', 'CEN00047117', 'FUR...</td>\n    </tr>\n    <tr>\n      <th>3</th>\n      <td>reitzii</td>\n      <td>f4</td>\n      <td>20</td>\n      <td>['MBM089701', 'MBM089707', 'CEN00047117', 'FUR...</td>\n    </tr>\n    <tr>\n      <th>4</th>\n      <td>miquelianum</td>\n      <td>f5</td>\n      <td>141</td>\n      <td>['MBM089701', 'MBM089707', 'CEN00047117', 'FUR...</td>\n    </tr>\n  </tbody>\n</table>\n</div>"
     },
     "metadata": {},
     "output_type": "display_data"
    },
    {
     "data": {
      "text/plain": "'color: RGB image_size: 512 minimum_image: 5 regions: Sudeste'"
     },
     "metadata": {},
     "output_type": "display_data"
    },
    {
     "data": {
      "text/plain": "         species folder  count  \\\n0     fuligineum     f1     79   \n1      oreophila     f2      5   \n2  corcovadensis     f3    124   \n3   psilostachya     f4      7   \n4      regnellii     f5     55   \n\n                                         list_images  \n0  ['MBM084431', 'INPA0124667', 'SP011164', 'NY00...  \n1  ['MBM084431', 'INPA0124667', 'SP011164', 'NY00...  \n2  ['MBM084431', 'INPA0124667', 'SP011164', 'NY00...  \n3  ['MBM084431', 'INPA0124667', 'SP011164', 'NY00...  \n4  ['MBM084431', 'INPA0124667', 'SP011164', 'NY00...  ",
      "text/html": "<div>\n<style scoped>\n    .dataframe tbody tr th:only-of-type {\n        vertical-align: middle;\n    }\n\n    .dataframe tbody tr th {\n        vertical-align: top;\n    }\n\n    .dataframe thead th {\n        text-align: right;\n    }\n</style>\n<table border=\"1\" class=\"dataframe\">\n  <thead>\n    <tr style=\"text-align: right;\">\n      <th></th>\n      <th>species</th>\n      <th>folder</th>\n      <th>count</th>\n      <th>list_images</th>\n    </tr>\n  </thead>\n  <tbody>\n    <tr>\n      <th>0</th>\n      <td>fuligineum</td>\n      <td>f1</td>\n      <td>79</td>\n      <td>['MBM084431', 'INPA0124667', 'SP011164', 'NY00...</td>\n    </tr>\n    <tr>\n      <th>1</th>\n      <td>oreophila</td>\n      <td>f2</td>\n      <td>5</td>\n      <td>['MBM084431', 'INPA0124667', 'SP011164', 'NY00...</td>\n    </tr>\n    <tr>\n      <th>2</th>\n      <td>corcovadensis</td>\n      <td>f3</td>\n      <td>124</td>\n      <td>['MBM084431', 'INPA0124667', 'SP011164', 'NY00...</td>\n    </tr>\n    <tr>\n      <th>3</th>\n      <td>psilostachya</td>\n      <td>f4</td>\n      <td>7</td>\n      <td>['MBM084431', 'INPA0124667', 'SP011164', 'NY00...</td>\n    </tr>\n    <tr>\n      <th>4</th>\n      <td>regnellii</td>\n      <td>f5</td>\n      <td>55</td>\n      <td>['MBM084431', 'INPA0124667', 'SP011164', 'NY00...</td>\n    </tr>\n  </tbody>\n</table>\n</div>"
     },
     "metadata": {},
     "output_type": "display_data"
    },
    {
     "data": {
      "text/plain": "'color: RGB image_size: 512 minimum_image: 10 regions: Sudeste'"
     },
     "metadata": {},
     "output_type": "display_data"
    },
    {
     "data": {
      "text/plain": "         species folder  count  \\\n0     fuligineum     f1     79   \n1  corcovadensis     f2    124   \n2      regnellii     f3     55   \n3     mikanianum     f4     18   \n4      vicosanum     f5     24   \n\n                                         list_images  \n0  ['ESA031454', 'NY00559090_01', 'MBM084435', 'S...  \n1  ['ESA031454', 'NY00559090_01', 'MBM084435', 'S...  \n2  ['ESA031454', 'NY00559090_01', 'MBM084435', 'S...  \n3  ['ESA031454', 'NY00559090_01', 'MBM084435', 'S...  \n4  ['ESA031454', 'NY00559090_01', 'MBM084435', 'S...  ",
      "text/html": "<div>\n<style scoped>\n    .dataframe tbody tr th:only-of-type {\n        vertical-align: middle;\n    }\n\n    .dataframe tbody tr th {\n        vertical-align: top;\n    }\n\n    .dataframe thead th {\n        text-align: right;\n    }\n</style>\n<table border=\"1\" class=\"dataframe\">\n  <thead>\n    <tr style=\"text-align: right;\">\n      <th></th>\n      <th>species</th>\n      <th>folder</th>\n      <th>count</th>\n      <th>list_images</th>\n    </tr>\n  </thead>\n  <tbody>\n    <tr>\n      <th>0</th>\n      <td>fuligineum</td>\n      <td>f1</td>\n      <td>79</td>\n      <td>['ESA031454', 'NY00559090_01', 'MBM084435', 'S...</td>\n    </tr>\n    <tr>\n      <th>1</th>\n      <td>corcovadensis</td>\n      <td>f2</td>\n      <td>124</td>\n      <td>['ESA031454', 'NY00559090_01', 'MBM084435', 'S...</td>\n    </tr>\n    <tr>\n      <th>2</th>\n      <td>regnellii</td>\n      <td>f3</td>\n      <td>55</td>\n      <td>['ESA031454', 'NY00559090_01', 'MBM084435', 'S...</td>\n    </tr>\n    <tr>\n      <th>3</th>\n      <td>mikanianum</td>\n      <td>f4</td>\n      <td>18</td>\n      <td>['ESA031454', 'NY00559090_01', 'MBM084435', 'S...</td>\n    </tr>\n    <tr>\n      <th>4</th>\n      <td>vicosanum</td>\n      <td>f5</td>\n      <td>24</td>\n      <td>['ESA031454', 'NY00559090_01', 'MBM084435', 'S...</td>\n    </tr>\n  </tbody>\n</table>\n</div>"
     },
     "metadata": {},
     "output_type": "display_data"
    },
    {
     "data": {
      "text/plain": "'color: RGB image_size: 512 minimum_image: 20 regions: Sudeste'"
     },
     "metadata": {},
     "output_type": "display_data"
    },
    {
     "data": {
      "text/plain": "         species folder  count  \\\n0     fuligineum     f1     79   \n1  corcovadensis     f2    124   \n2      regnellii     f3     55   \n3      vicosanum     f4     24   \n4    lhotzkyanum     f5     34   \n\n                                         list_images  \n0  ['ESA031454', 'NY00559090_01', 'MBM084435', 'S...  \n1  ['ESA031454', 'NY00559090_01', 'MBM084435', 'S...  \n2  ['ESA031454', 'NY00559090_01', 'MBM084435', 'S...  \n3  ['ESA031454', 'NY00559090_01', 'MBM084435', 'S...  \n4  ['ESA031454', 'NY00559090_01', 'MBM084435', 'S...  ",
      "text/html": "<div>\n<style scoped>\n    .dataframe tbody tr th:only-of-type {\n        vertical-align: middle;\n    }\n\n    .dataframe tbody tr th {\n        vertical-align: top;\n    }\n\n    .dataframe thead th {\n        text-align: right;\n    }\n</style>\n<table border=\"1\" class=\"dataframe\">\n  <thead>\n    <tr style=\"text-align: right;\">\n      <th></th>\n      <th>species</th>\n      <th>folder</th>\n      <th>count</th>\n      <th>list_images</th>\n    </tr>\n  </thead>\n  <tbody>\n    <tr>\n      <th>0</th>\n      <td>fuligineum</td>\n      <td>f1</td>\n      <td>79</td>\n      <td>['ESA031454', 'NY00559090_01', 'MBM084435', 'S...</td>\n    </tr>\n    <tr>\n      <th>1</th>\n      <td>corcovadensis</td>\n      <td>f2</td>\n      <td>124</td>\n      <td>['ESA031454', 'NY00559090_01', 'MBM084435', 'S...</td>\n    </tr>\n    <tr>\n      <th>2</th>\n      <td>regnellii</td>\n      <td>f3</td>\n      <td>55</td>\n      <td>['ESA031454', 'NY00559090_01', 'MBM084435', 'S...</td>\n    </tr>\n    <tr>\n      <th>3</th>\n      <td>vicosanum</td>\n      <td>f4</td>\n      <td>24</td>\n      <td>['ESA031454', 'NY00559090_01', 'MBM084435', 'S...</td>\n    </tr>\n    <tr>\n      <th>4</th>\n      <td>lhotzkyanum</td>\n      <td>f5</td>\n      <td>34</td>\n      <td>['ESA031454', 'NY00559090_01', 'MBM084435', 'S...</td>\n    </tr>\n  </tbody>\n</table>\n</div>"
     },
     "metadata": {},
     "output_type": "display_data"
    },
    {
     "data": {
      "text/plain": "'color: RGB image_size: 512 minimum_image: 5 regions: Centro-Oeste'"
     },
     "metadata": {},
     "output_type": "display_data"
    },
    {
     "data": {
      "text/plain": "       species folder  count  \\\n0   fuligineum     f1     77   \n1  campinasana     f2      7   \n2    regnellii     f3     40   \n3      aequale     f4     15   \n4  miquelianum     f5      8   \n\n                                         list_images  \n0  ['NY00679960_01', 'NY00956929_01', 'MBM250545'...  \n1  ['NY00679960_01', 'NY00956929_01', 'MBM250545'...  \n2  ['NY00679960_01', 'NY00956929_01', 'MBM250545'...  \n3  ['NY00679960_01', 'NY00956929_01', 'MBM250545'...  \n4  ['NY00679960_01', 'NY00956929_01', 'MBM250545'...  ",
      "text/html": "<div>\n<style scoped>\n    .dataframe tbody tr th:only-of-type {\n        vertical-align: middle;\n    }\n\n    .dataframe tbody tr th {\n        vertical-align: top;\n    }\n\n    .dataframe thead th {\n        text-align: right;\n    }\n</style>\n<table border=\"1\" class=\"dataframe\">\n  <thead>\n    <tr style=\"text-align: right;\">\n      <th></th>\n      <th>species</th>\n      <th>folder</th>\n      <th>count</th>\n      <th>list_images</th>\n    </tr>\n  </thead>\n  <tbody>\n    <tr>\n      <th>0</th>\n      <td>fuligineum</td>\n      <td>f1</td>\n      <td>77</td>\n      <td>['NY00679960_01', 'NY00956929_01', 'MBM250545'...</td>\n    </tr>\n    <tr>\n      <th>1</th>\n      <td>campinasana</td>\n      <td>f2</td>\n      <td>7</td>\n      <td>['NY00679960_01', 'NY00956929_01', 'MBM250545'...</td>\n    </tr>\n    <tr>\n      <th>2</th>\n      <td>regnellii</td>\n      <td>f3</td>\n      <td>40</td>\n      <td>['NY00679960_01', 'NY00956929_01', 'MBM250545'...</td>\n    </tr>\n    <tr>\n      <th>3</th>\n      <td>aequale</td>\n      <td>f4</td>\n      <td>15</td>\n      <td>['NY00679960_01', 'NY00956929_01', 'MBM250545'...</td>\n    </tr>\n    <tr>\n      <th>4</th>\n      <td>miquelianum</td>\n      <td>f5</td>\n      <td>8</td>\n      <td>['NY00679960_01', 'NY00956929_01', 'MBM250545'...</td>\n    </tr>\n  </tbody>\n</table>\n</div>"
     },
     "metadata": {},
     "output_type": "display_data"
    },
    {
     "data": {
      "text/plain": "'color: RGB image_size: 512 minimum_image: 10 regions: Centro-Oeste'"
     },
     "metadata": {},
     "output_type": "display_data"
    },
    {
     "data": {
      "text/plain": "         species folder  count  \\\n0     fuligineum     f1     77   \n1      regnellii     f2     40   \n2        aequale     f3     15   \n3  crassinervium     f4     14   \n4    gardneriana     f5     15   \n\n                                         list_images  \n0  ['NY00679960_01', 'NY00956929_01', 'MBM250545'...  \n1  ['NY00679960_01', 'NY00956929_01', 'MBM250545'...  \n2  ['NY00679960_01', 'NY00956929_01', 'MBM250545'...  \n3  ['NY00679960_01', 'NY00956929_01', 'MBM250545'...  \n4  ['NY00679960_01', 'NY00956929_01', 'MBM250545'...  ",
      "text/html": "<div>\n<style scoped>\n    .dataframe tbody tr th:only-of-type {\n        vertical-align: middle;\n    }\n\n    .dataframe tbody tr th {\n        vertical-align: top;\n    }\n\n    .dataframe thead th {\n        text-align: right;\n    }\n</style>\n<table border=\"1\" class=\"dataframe\">\n  <thead>\n    <tr style=\"text-align: right;\">\n      <th></th>\n      <th>species</th>\n      <th>folder</th>\n      <th>count</th>\n      <th>list_images</th>\n    </tr>\n  </thead>\n  <tbody>\n    <tr>\n      <th>0</th>\n      <td>fuligineum</td>\n      <td>f1</td>\n      <td>77</td>\n      <td>['NY00679960_01', 'NY00956929_01', 'MBM250545'...</td>\n    </tr>\n    <tr>\n      <th>1</th>\n      <td>regnellii</td>\n      <td>f2</td>\n      <td>40</td>\n      <td>['NY00679960_01', 'NY00956929_01', 'MBM250545'...</td>\n    </tr>\n    <tr>\n      <th>2</th>\n      <td>aequale</td>\n      <td>f3</td>\n      <td>15</td>\n      <td>['NY00679960_01', 'NY00956929_01', 'MBM250545'...</td>\n    </tr>\n    <tr>\n      <th>3</th>\n      <td>crassinervium</td>\n      <td>f4</td>\n      <td>14</td>\n      <td>['NY00679960_01', 'NY00956929_01', 'MBM250545'...</td>\n    </tr>\n    <tr>\n      <th>4</th>\n      <td>gardneriana</td>\n      <td>f5</td>\n      <td>15</td>\n      <td>['NY00679960_01', 'NY00956929_01', 'MBM250545'...</td>\n    </tr>\n  </tbody>\n</table>\n</div>"
     },
     "metadata": {},
     "output_type": "display_data"
    },
    {
     "data": {
      "text/plain": "'color: RGB image_size: 512 minimum_image: 20 regions: Centro-Oeste'"
     },
     "metadata": {},
     "output_type": "display_data"
    },
    {
     "data": {
      "text/plain": "      species folder  count                                        list_images\n0  fuligineum     f1     77  ['CEN00036424', 'UEC149671', 'NY00885318_01', ...\n1   regnellii     f2     40  ['CEN00036424', 'UEC149671', 'NY00885318_01', ...\n2    elongata     f3     20  ['CEN00036424', 'UEC149671', 'NY00885318_01', ...\n3    arboreum     f4    203  ['CEN00036424', 'UEC149671', 'NY00885318_01', ...\n4    hispidum     f5     53  ['CEN00036424', 'UEC149671', 'NY00885318_01', ...",
      "text/html": "<div>\n<style scoped>\n    .dataframe tbody tr th:only-of-type {\n        vertical-align: middle;\n    }\n\n    .dataframe tbody tr th {\n        vertical-align: top;\n    }\n\n    .dataframe thead th {\n        text-align: right;\n    }\n</style>\n<table border=\"1\" class=\"dataframe\">\n  <thead>\n    <tr style=\"text-align: right;\">\n      <th></th>\n      <th>species</th>\n      <th>folder</th>\n      <th>count</th>\n      <th>list_images</th>\n    </tr>\n  </thead>\n  <tbody>\n    <tr>\n      <th>0</th>\n      <td>fuligineum</td>\n      <td>f1</td>\n      <td>77</td>\n      <td>['CEN00036424', 'UEC149671', 'NY00885318_01', ...</td>\n    </tr>\n    <tr>\n      <th>1</th>\n      <td>regnellii</td>\n      <td>f2</td>\n      <td>40</td>\n      <td>['CEN00036424', 'UEC149671', 'NY00885318_01', ...</td>\n    </tr>\n    <tr>\n      <th>2</th>\n      <td>elongata</td>\n      <td>f3</td>\n      <td>20</td>\n      <td>['CEN00036424', 'UEC149671', 'NY00885318_01', ...</td>\n    </tr>\n    <tr>\n      <th>3</th>\n      <td>arboreum</td>\n      <td>f4</td>\n      <td>203</td>\n      <td>['CEN00036424', 'UEC149671', 'NY00885318_01', ...</td>\n    </tr>\n    <tr>\n      <th>4</th>\n      <td>hispidum</td>\n      <td>f5</td>\n      <td>53</td>\n      <td>['CEN00036424', 'UEC149671', 'NY00885318_01', ...</td>\n    </tr>\n  </tbody>\n</table>\n</div>"
     },
     "metadata": {},
     "output_type": "display_data"
    },
    {
     "data": {
      "text/plain": "'color: grayscale image_size: 256 minimum_image: 5 regions: Norte'"
     },
     "metadata": {},
     "output_type": "display_data"
    },
    {
     "data": {
      "text/plain": "       species folder  count  \\\n0   piscatorum     f1     10   \n1     obliquum     f2     61   \n2   javariense     f3     11   \n3    coruscans     f4     13   \n4  brasiliense     f5     23   \n\n                                         list_images  \n0  ['INPA0179861', 'INPA0023412', 'NY01421846_01'...  \n1  ['INPA0179861', 'INPA0023412', 'NY01421846_01'...  \n2  ['INPA0179861', 'INPA0023412', 'NY01421846_01'...  \n3  ['INPA0179861', 'INPA0023412', 'NY01421846_01'...  \n4  ['INPA0179861', 'INPA0023412', 'NY01421846_01'...  ",
      "text/html": "<div>\n<style scoped>\n    .dataframe tbody tr th:only-of-type {\n        vertical-align: middle;\n    }\n\n    .dataframe tbody tr th {\n        vertical-align: top;\n    }\n\n    .dataframe thead th {\n        text-align: right;\n    }\n</style>\n<table border=\"1\" class=\"dataframe\">\n  <thead>\n    <tr style=\"text-align: right;\">\n      <th></th>\n      <th>species</th>\n      <th>folder</th>\n      <th>count</th>\n      <th>list_images</th>\n    </tr>\n  </thead>\n  <tbody>\n    <tr>\n      <th>0</th>\n      <td>piscatorum</td>\n      <td>f1</td>\n      <td>10</td>\n      <td>['INPA0179861', 'INPA0023412', 'NY01421846_01'...</td>\n    </tr>\n    <tr>\n      <th>1</th>\n      <td>obliquum</td>\n      <td>f2</td>\n      <td>61</td>\n      <td>['INPA0179861', 'INPA0023412', 'NY01421846_01'...</td>\n    </tr>\n    <tr>\n      <th>2</th>\n      <td>javariense</td>\n      <td>f3</td>\n      <td>11</td>\n      <td>['INPA0179861', 'INPA0023412', 'NY01421846_01'...</td>\n    </tr>\n    <tr>\n      <th>3</th>\n      <td>coruscans</td>\n      <td>f4</td>\n      <td>13</td>\n      <td>['INPA0179861', 'INPA0023412', 'NY01421846_01'...</td>\n    </tr>\n    <tr>\n      <th>4</th>\n      <td>brasiliense</td>\n      <td>f5</td>\n      <td>23</td>\n      <td>['INPA0179861', 'INPA0023412', 'NY01421846_01'...</td>\n    </tr>\n  </tbody>\n</table>\n</div>"
     },
     "metadata": {},
     "output_type": "display_data"
    },
    {
     "data": {
      "text/plain": "'color: grayscale image_size: 256 minimum_image: 10 regions: Norte'"
     },
     "metadata": {},
     "output_type": "display_data"
    },
    {
     "data": {
      "text/plain": "       species folder  count  \\\n0   piscatorum     f1     10   \n1     obliquum     f2     61   \n2   javariense     f3     11   \n3    coruscans     f4     13   \n4  brasiliense     f5     23   \n\n                                         list_images  \n0  ['NY01397567_01', 'IAN011429', 'NY01397566_01'...  \n1  ['NY01397567_01', 'IAN011429', 'NY01397566_01'...  \n2  ['NY01397567_01', 'IAN011429', 'NY01397566_01'...  \n3  ['NY01397567_01', 'IAN011429', 'NY01397566_01'...  \n4  ['NY01397567_01', 'IAN011429', 'NY01397566_01'...  ",
      "text/html": "<div>\n<style scoped>\n    .dataframe tbody tr th:only-of-type {\n        vertical-align: middle;\n    }\n\n    .dataframe tbody tr th {\n        vertical-align: top;\n    }\n\n    .dataframe thead th {\n        text-align: right;\n    }\n</style>\n<table border=\"1\" class=\"dataframe\">\n  <thead>\n    <tr style=\"text-align: right;\">\n      <th></th>\n      <th>species</th>\n      <th>folder</th>\n      <th>count</th>\n      <th>list_images</th>\n    </tr>\n  </thead>\n  <tbody>\n    <tr>\n      <th>0</th>\n      <td>piscatorum</td>\n      <td>f1</td>\n      <td>10</td>\n      <td>['NY01397567_01', 'IAN011429', 'NY01397566_01'...</td>\n    </tr>\n    <tr>\n      <th>1</th>\n      <td>obliquum</td>\n      <td>f2</td>\n      <td>61</td>\n      <td>['NY01397567_01', 'IAN011429', 'NY01397566_01'...</td>\n    </tr>\n    <tr>\n      <th>2</th>\n      <td>javariense</td>\n      <td>f3</td>\n      <td>11</td>\n      <td>['NY01397567_01', 'IAN011429', 'NY01397566_01'...</td>\n    </tr>\n    <tr>\n      <th>3</th>\n      <td>coruscans</td>\n      <td>f4</td>\n      <td>13</td>\n      <td>['NY01397567_01', 'IAN011429', 'NY01397566_01'...</td>\n    </tr>\n    <tr>\n      <th>4</th>\n      <td>brasiliense</td>\n      <td>f5</td>\n      <td>23</td>\n      <td>['NY01397567_01', 'IAN011429', 'NY01397566_01'...</td>\n    </tr>\n  </tbody>\n</table>\n</div>"
     },
     "metadata": {},
     "output_type": "display_data"
    },
    {
     "data": {
      "text/plain": "'color: grayscale image_size: 256 minimum_image: 20 regions: Norte'"
     },
     "metadata": {},
     "output_type": "display_data"
    },
    {
     "data": {
      "text/plain": "       species folder  count  \\\n0     obliquum     f1     61   \n1  brasiliense     f2     23   \n2  alatabaccum     f3     28   \n3      piresii     f4     38   \n4  reticulatum     f5     35   \n\n                                         list_images  \n0  ['NY01397567_01', 'IAN011429', 'NY01397566_01'...  \n1  ['NY01397567_01', 'IAN011429', 'NY01397566_01'...  \n2  ['NY01397567_01', 'IAN011429', 'NY01397566_01'...  \n3  ['NY01397567_01', 'IAN011429', 'NY01397566_01'...  \n4  ['NY01397567_01', 'IAN011429', 'NY01397566_01'...  ",
      "text/html": "<div>\n<style scoped>\n    .dataframe tbody tr th:only-of-type {\n        vertical-align: middle;\n    }\n\n    .dataframe tbody tr th {\n        vertical-align: top;\n    }\n\n    .dataframe thead th {\n        text-align: right;\n    }\n</style>\n<table border=\"1\" class=\"dataframe\">\n  <thead>\n    <tr style=\"text-align: right;\">\n      <th></th>\n      <th>species</th>\n      <th>folder</th>\n      <th>count</th>\n      <th>list_images</th>\n    </tr>\n  </thead>\n  <tbody>\n    <tr>\n      <th>0</th>\n      <td>obliquum</td>\n      <td>f1</td>\n      <td>61</td>\n      <td>['NY01397567_01', 'IAN011429', 'NY01397566_01'...</td>\n    </tr>\n    <tr>\n      <th>1</th>\n      <td>brasiliense</td>\n      <td>f2</td>\n      <td>23</td>\n      <td>['NY01397567_01', 'IAN011429', 'NY01397566_01'...</td>\n    </tr>\n    <tr>\n      <th>2</th>\n      <td>alatabaccum</td>\n      <td>f3</td>\n      <td>28</td>\n      <td>['NY01397567_01', 'IAN011429', 'NY01397566_01'...</td>\n    </tr>\n    <tr>\n      <th>3</th>\n      <td>piresii</td>\n      <td>f4</td>\n      <td>38</td>\n      <td>['NY01397567_01', 'IAN011429', 'NY01397566_01'...</td>\n    </tr>\n    <tr>\n      <th>4</th>\n      <td>reticulatum</td>\n      <td>f5</td>\n      <td>35</td>\n      <td>['NY01397567_01', 'IAN011429', 'NY01397566_01'...</td>\n    </tr>\n  </tbody>\n</table>\n</div>"
     },
     "metadata": {},
     "output_type": "display_data"
    },
    {
     "data": {
      "text/plain": "'color: grayscale image_size: 256 minimum_image: 5 regions: Nordeste'"
     },
     "metadata": {},
     "output_type": "display_data"
    },
    {
     "data": {
      "text/plain": "         species folder  count  \\\n0     fuligineum     f1     13   \n1      oreophila     f2     23   \n2  corcovadensis     f3     27   \n3    campinasana     f4      7   \n4          limai     f5      9   \n\n                                         list_images  \n0  ['MBM116011', 'SPF00164804', 'ALCB002302', 'SP...  \n1  ['MBM116011', 'SPF00164804', 'ALCB002302', 'SP...  \n2  ['MBM116011', 'SPF00164804', 'ALCB002302', 'SP...  \n3  ['MBM116011', 'SPF00164804', 'ALCB002302', 'SP...  \n4  ['MBM116011', 'SPF00164804', 'ALCB002302', 'SP...  ",
      "text/html": "<div>\n<style scoped>\n    .dataframe tbody tr th:only-of-type {\n        vertical-align: middle;\n    }\n\n    .dataframe tbody tr th {\n        vertical-align: top;\n    }\n\n    .dataframe thead th {\n        text-align: right;\n    }\n</style>\n<table border=\"1\" class=\"dataframe\">\n  <thead>\n    <tr style=\"text-align: right;\">\n      <th></th>\n      <th>species</th>\n      <th>folder</th>\n      <th>count</th>\n      <th>list_images</th>\n    </tr>\n  </thead>\n  <tbody>\n    <tr>\n      <th>0</th>\n      <td>fuligineum</td>\n      <td>f1</td>\n      <td>13</td>\n      <td>['MBM116011', 'SPF00164804', 'ALCB002302', 'SP...</td>\n    </tr>\n    <tr>\n      <th>1</th>\n      <td>oreophila</td>\n      <td>f2</td>\n      <td>23</td>\n      <td>['MBM116011', 'SPF00164804', 'ALCB002302', 'SP...</td>\n    </tr>\n    <tr>\n      <th>2</th>\n      <td>corcovadensis</td>\n      <td>f3</td>\n      <td>27</td>\n      <td>['MBM116011', 'SPF00164804', 'ALCB002302', 'SP...</td>\n    </tr>\n    <tr>\n      <th>3</th>\n      <td>campinasana</td>\n      <td>f4</td>\n      <td>7</td>\n      <td>['MBM116011', 'SPF00164804', 'ALCB002302', 'SP...</td>\n    </tr>\n    <tr>\n      <th>4</th>\n      <td>limai</td>\n      <td>f5</td>\n      <td>9</td>\n      <td>['MBM116011', 'SPF00164804', 'ALCB002302', 'SP...</td>\n    </tr>\n  </tbody>\n</table>\n</div>"
     },
     "metadata": {},
     "output_type": "display_data"
    },
    {
     "data": {
      "text/plain": "'color: grayscale image_size: 256 minimum_image: 10 regions: Nordeste'"
     },
     "metadata": {},
     "output_type": "display_data"
    },
    {
     "data": {
      "text/plain": "         species folder  count  \\\n0     fuligineum     f1     13   \n1      oreophila     f2     23   \n2  corcovadensis     f3     27   \n3      vicosanum     f4     12   \n4      sincorana     f5     47   \n\n                                         list_images  \n0  ['MBM116011', 'SPF00164804', 'ALCB002302', 'SP...  \n1  ['MBM116011', 'SPF00164804', 'ALCB002302', 'SP...  \n2  ['MBM116011', 'SPF00164804', 'ALCB002302', 'SP...  \n3  ['MBM116011', 'SPF00164804', 'ALCB002302', 'SP...  \n4  ['MBM116011', 'SPF00164804', 'ALCB002302', 'SP...  ",
      "text/html": "<div>\n<style scoped>\n    .dataframe tbody tr th:only-of-type {\n        vertical-align: middle;\n    }\n\n    .dataframe tbody tr th {\n        vertical-align: top;\n    }\n\n    .dataframe thead th {\n        text-align: right;\n    }\n</style>\n<table border=\"1\" class=\"dataframe\">\n  <thead>\n    <tr style=\"text-align: right;\">\n      <th></th>\n      <th>species</th>\n      <th>folder</th>\n      <th>count</th>\n      <th>list_images</th>\n    </tr>\n  </thead>\n  <tbody>\n    <tr>\n      <th>0</th>\n      <td>fuligineum</td>\n      <td>f1</td>\n      <td>13</td>\n      <td>['MBM116011', 'SPF00164804', 'ALCB002302', 'SP...</td>\n    </tr>\n    <tr>\n      <th>1</th>\n      <td>oreophila</td>\n      <td>f2</td>\n      <td>23</td>\n      <td>['MBM116011', 'SPF00164804', 'ALCB002302', 'SP...</td>\n    </tr>\n    <tr>\n      <th>2</th>\n      <td>corcovadensis</td>\n      <td>f3</td>\n      <td>27</td>\n      <td>['MBM116011', 'SPF00164804', 'ALCB002302', 'SP...</td>\n    </tr>\n    <tr>\n      <th>3</th>\n      <td>vicosanum</td>\n      <td>f4</td>\n      <td>12</td>\n      <td>['MBM116011', 'SPF00164804', 'ALCB002302', 'SP...</td>\n    </tr>\n    <tr>\n      <th>4</th>\n      <td>sincorana</td>\n      <td>f5</td>\n      <td>47</td>\n      <td>['MBM116011', 'SPF00164804', 'ALCB002302', 'SP...</td>\n    </tr>\n  </tbody>\n</table>\n</div>"
     },
     "metadata": {},
     "output_type": "display_data"
    },
    {
     "data": {
      "text/plain": "'color: grayscale image_size: 256 minimum_image: 20 regions: Nordeste'"
     },
     "metadata": {},
     "output_type": "display_data"
    },
    {
     "data": {
      "text/plain": "         species folder  count  \\\n0      oreophila     f1     23   \n1  corcovadensis     f2     27   \n2      sincorana     f3     47   \n3    tetraphylla     f4     58   \n4  magnoliifolia     f5     21   \n\n                                         list_images  \n0  ['SPF00048717', 'SPF00082803', 'NY00555600_01'...  \n1  ['SPF00048717', 'SPF00082803', 'NY00555600_01'...  \n2  ['SPF00048717', 'SPF00082803', 'NY00555600_01'...  \n3  ['SPF00048717', 'SPF00082803', 'NY00555600_01'...  \n4  ['SPF00048717', 'SPF00082803', 'NY00555600_01'...  ",
      "text/html": "<div>\n<style scoped>\n    .dataframe tbody tr th:only-of-type {\n        vertical-align: middle;\n    }\n\n    .dataframe tbody tr th {\n        vertical-align: top;\n    }\n\n    .dataframe thead th {\n        text-align: right;\n    }\n</style>\n<table border=\"1\" class=\"dataframe\">\n  <thead>\n    <tr style=\"text-align: right;\">\n      <th></th>\n      <th>species</th>\n      <th>folder</th>\n      <th>count</th>\n      <th>list_images</th>\n    </tr>\n  </thead>\n  <tbody>\n    <tr>\n      <th>0</th>\n      <td>oreophila</td>\n      <td>f1</td>\n      <td>23</td>\n      <td>['SPF00048717', 'SPF00082803', 'NY00555600_01'...</td>\n    </tr>\n    <tr>\n      <th>1</th>\n      <td>corcovadensis</td>\n      <td>f2</td>\n      <td>27</td>\n      <td>['SPF00048717', 'SPF00082803', 'NY00555600_01'...</td>\n    </tr>\n    <tr>\n      <th>2</th>\n      <td>sincorana</td>\n      <td>f3</td>\n      <td>47</td>\n      <td>['SPF00048717', 'SPF00082803', 'NY00555600_01'...</td>\n    </tr>\n    <tr>\n      <th>3</th>\n      <td>tetraphylla</td>\n      <td>f4</td>\n      <td>58</td>\n      <td>['SPF00048717', 'SPF00082803', 'NY00555600_01'...</td>\n    </tr>\n    <tr>\n      <th>4</th>\n      <td>magnoliifolia</td>\n      <td>f5</td>\n      <td>21</td>\n      <td>['SPF00048717', 'SPF00082803', 'NY00555600_01'...</td>\n    </tr>\n  </tbody>\n</table>\n</div>"
     },
     "metadata": {},
     "output_type": "display_data"
    },
    {
     "data": {
      "text/plain": "'color: grayscale image_size: 256 minimum_image: 5 regions: Sul'"
     },
     "metadata": {},
     "output_type": "display_data"
    },
    {
     "data": {
      "text/plain": "         species folder  count  \\\n0       glaziovi     f1      5   \n1     fuligineum     f2      5   \n2  corcovadensis     f3    168   \n3      regnellii     f4     24   \n4     mikanianum     f5     72   \n\n                                         list_images  \n0  ['MBM037883', 'NY00559096_01', 'MBM045085', 'M...  \n1  ['MBM037883', 'NY00559096_01', 'MBM045085', 'M...  \n2  ['MBM037883', 'NY00559096_01', 'MBM045085', 'M...  \n3  ['MBM037883', 'NY00559096_01', 'MBM045085', 'M...  \n4  ['MBM037883', 'NY00559096_01', 'MBM045085', 'M...  ",
      "text/html": "<div>\n<style scoped>\n    .dataframe tbody tr th:only-of-type {\n        vertical-align: middle;\n    }\n\n    .dataframe tbody tr th {\n        vertical-align: top;\n    }\n\n    .dataframe thead th {\n        text-align: right;\n    }\n</style>\n<table border=\"1\" class=\"dataframe\">\n  <thead>\n    <tr style=\"text-align: right;\">\n      <th></th>\n      <th>species</th>\n      <th>folder</th>\n      <th>count</th>\n      <th>list_images</th>\n    </tr>\n  </thead>\n  <tbody>\n    <tr>\n      <th>0</th>\n      <td>glaziovi</td>\n      <td>f1</td>\n      <td>5</td>\n      <td>['MBM037883', 'NY00559096_01', 'MBM045085', 'M...</td>\n    </tr>\n    <tr>\n      <th>1</th>\n      <td>fuligineum</td>\n      <td>f2</td>\n      <td>5</td>\n      <td>['MBM037883', 'NY00559096_01', 'MBM045085', 'M...</td>\n    </tr>\n    <tr>\n      <th>2</th>\n      <td>corcovadensis</td>\n      <td>f3</td>\n      <td>168</td>\n      <td>['MBM037883', 'NY00559096_01', 'MBM045085', 'M...</td>\n    </tr>\n    <tr>\n      <th>3</th>\n      <td>regnellii</td>\n      <td>f4</td>\n      <td>24</td>\n      <td>['MBM037883', 'NY00559096_01', 'MBM045085', 'M...</td>\n    </tr>\n    <tr>\n      <th>4</th>\n      <td>mikanianum</td>\n      <td>f5</td>\n      <td>72</td>\n      <td>['MBM037883', 'NY00559096_01', 'MBM045085', 'M...</td>\n    </tr>\n  </tbody>\n</table>\n</div>"
     },
     "metadata": {},
     "output_type": "display_data"
    },
    {
     "data": {
      "text/plain": "'color: grayscale image_size: 256 minimum_image: 10 regions: Sul'"
     },
     "metadata": {},
     "output_type": "display_data"
    },
    {
     "data": {
      "text/plain": "         species folder  count  \\\n0  corcovadensis     f1    168   \n1      regnellii     f2     24   \n2     mikanianum     f3     72   \n3        reitzii     f4     20   \n4    miquelianum     f5    141   \n\n                                         list_images  \n0  ['MBM037883', 'NY00559096_01', 'MBM045085', 'M...  \n1  ['MBM037883', 'NY00559096_01', 'MBM045085', 'M...  \n2  ['MBM037883', 'NY00559096_01', 'MBM045085', 'M...  \n3  ['MBM037883', 'NY00559096_01', 'MBM045085', 'M...  \n4  ['MBM037883', 'NY00559096_01', 'MBM045085', 'M...  ",
      "text/html": "<div>\n<style scoped>\n    .dataframe tbody tr th:only-of-type {\n        vertical-align: middle;\n    }\n\n    .dataframe tbody tr th {\n        vertical-align: top;\n    }\n\n    .dataframe thead th {\n        text-align: right;\n    }\n</style>\n<table border=\"1\" class=\"dataframe\">\n  <thead>\n    <tr style=\"text-align: right;\">\n      <th></th>\n      <th>species</th>\n      <th>folder</th>\n      <th>count</th>\n      <th>list_images</th>\n    </tr>\n  </thead>\n  <tbody>\n    <tr>\n      <th>0</th>\n      <td>corcovadensis</td>\n      <td>f1</td>\n      <td>168</td>\n      <td>['MBM037883', 'NY00559096_01', 'MBM045085', 'M...</td>\n    </tr>\n    <tr>\n      <th>1</th>\n      <td>regnellii</td>\n      <td>f2</td>\n      <td>24</td>\n      <td>['MBM037883', 'NY00559096_01', 'MBM045085', 'M...</td>\n    </tr>\n    <tr>\n      <th>2</th>\n      <td>mikanianum</td>\n      <td>f3</td>\n      <td>72</td>\n      <td>['MBM037883', 'NY00559096_01', 'MBM045085', 'M...</td>\n    </tr>\n    <tr>\n      <th>3</th>\n      <td>reitzii</td>\n      <td>f4</td>\n      <td>20</td>\n      <td>['MBM037883', 'NY00559096_01', 'MBM045085', 'M...</td>\n    </tr>\n    <tr>\n      <th>4</th>\n      <td>miquelianum</td>\n      <td>f5</td>\n      <td>141</td>\n      <td>['MBM037883', 'NY00559096_01', 'MBM045085', 'M...</td>\n    </tr>\n  </tbody>\n</table>\n</div>"
     },
     "metadata": {},
     "output_type": "display_data"
    },
    {
     "data": {
      "text/plain": "'color: grayscale image_size: 256 minimum_image: 20 regions: Sul'"
     },
     "metadata": {},
     "output_type": "display_data"
    },
    {
     "data": {
      "text/plain": "         species folder  count  \\\n0  corcovadensis     f1    168   \n1      regnellii     f2     24   \n2     mikanianum     f3     72   \n3        reitzii     f4     20   \n4    miquelianum     f5    141   \n\n                                         list_images  \n0  ['MBM089701', 'MBM089707', 'CEN00047117', 'FUR...  \n1  ['MBM089701', 'MBM089707', 'CEN00047117', 'FUR...  \n2  ['MBM089701', 'MBM089707', 'CEN00047117', 'FUR...  \n3  ['MBM089701', 'MBM089707', 'CEN00047117', 'FUR...  \n4  ['MBM089701', 'MBM089707', 'CEN00047117', 'FUR...  ",
      "text/html": "<div>\n<style scoped>\n    .dataframe tbody tr th:only-of-type {\n        vertical-align: middle;\n    }\n\n    .dataframe tbody tr th {\n        vertical-align: top;\n    }\n\n    .dataframe thead th {\n        text-align: right;\n    }\n</style>\n<table border=\"1\" class=\"dataframe\">\n  <thead>\n    <tr style=\"text-align: right;\">\n      <th></th>\n      <th>species</th>\n      <th>folder</th>\n      <th>count</th>\n      <th>list_images</th>\n    </tr>\n  </thead>\n  <tbody>\n    <tr>\n      <th>0</th>\n      <td>corcovadensis</td>\n      <td>f1</td>\n      <td>168</td>\n      <td>['MBM089701', 'MBM089707', 'CEN00047117', 'FUR...</td>\n    </tr>\n    <tr>\n      <th>1</th>\n      <td>regnellii</td>\n      <td>f2</td>\n      <td>24</td>\n      <td>['MBM089701', 'MBM089707', 'CEN00047117', 'FUR...</td>\n    </tr>\n    <tr>\n      <th>2</th>\n      <td>mikanianum</td>\n      <td>f3</td>\n      <td>72</td>\n      <td>['MBM089701', 'MBM089707', 'CEN00047117', 'FUR...</td>\n    </tr>\n    <tr>\n      <th>3</th>\n      <td>reitzii</td>\n      <td>f4</td>\n      <td>20</td>\n      <td>['MBM089701', 'MBM089707', 'CEN00047117', 'FUR...</td>\n    </tr>\n    <tr>\n      <th>4</th>\n      <td>miquelianum</td>\n      <td>f5</td>\n      <td>141</td>\n      <td>['MBM089701', 'MBM089707', 'CEN00047117', 'FUR...</td>\n    </tr>\n  </tbody>\n</table>\n</div>"
     },
     "metadata": {},
     "output_type": "display_data"
    },
    {
     "data": {
      "text/plain": "'color: grayscale image_size: 256 minimum_image: 5 regions: Sudeste'"
     },
     "metadata": {},
     "output_type": "display_data"
    },
    {
     "data": {
      "text/plain": "         species folder  count  \\\n0     fuligineum     f1     79   \n1      oreophila     f2      5   \n2  corcovadensis     f3    124   \n3   psilostachya     f4      7   \n4      regnellii     f5     55   \n\n                                         list_images  \n0  ['MBM084431', 'INPA0124667', 'SP011164', 'NY00...  \n1  ['MBM084431', 'INPA0124667', 'SP011164', 'NY00...  \n2  ['MBM084431', 'INPA0124667', 'SP011164', 'NY00...  \n3  ['MBM084431', 'INPA0124667', 'SP011164', 'NY00...  \n4  ['MBM084431', 'INPA0124667', 'SP011164', 'NY00...  ",
      "text/html": "<div>\n<style scoped>\n    .dataframe tbody tr th:only-of-type {\n        vertical-align: middle;\n    }\n\n    .dataframe tbody tr th {\n        vertical-align: top;\n    }\n\n    .dataframe thead th {\n        text-align: right;\n    }\n</style>\n<table border=\"1\" class=\"dataframe\">\n  <thead>\n    <tr style=\"text-align: right;\">\n      <th></th>\n      <th>species</th>\n      <th>folder</th>\n      <th>count</th>\n      <th>list_images</th>\n    </tr>\n  </thead>\n  <tbody>\n    <tr>\n      <th>0</th>\n      <td>fuligineum</td>\n      <td>f1</td>\n      <td>79</td>\n      <td>['MBM084431', 'INPA0124667', 'SP011164', 'NY00...</td>\n    </tr>\n    <tr>\n      <th>1</th>\n      <td>oreophila</td>\n      <td>f2</td>\n      <td>5</td>\n      <td>['MBM084431', 'INPA0124667', 'SP011164', 'NY00...</td>\n    </tr>\n    <tr>\n      <th>2</th>\n      <td>corcovadensis</td>\n      <td>f3</td>\n      <td>124</td>\n      <td>['MBM084431', 'INPA0124667', 'SP011164', 'NY00...</td>\n    </tr>\n    <tr>\n      <th>3</th>\n      <td>psilostachya</td>\n      <td>f4</td>\n      <td>7</td>\n      <td>['MBM084431', 'INPA0124667', 'SP011164', 'NY00...</td>\n    </tr>\n    <tr>\n      <th>4</th>\n      <td>regnellii</td>\n      <td>f5</td>\n      <td>55</td>\n      <td>['MBM084431', 'INPA0124667', 'SP011164', 'NY00...</td>\n    </tr>\n  </tbody>\n</table>\n</div>"
     },
     "metadata": {},
     "output_type": "display_data"
    },
    {
     "data": {
      "text/plain": "'color: grayscale image_size: 256 minimum_image: 10 regions: Sudeste'"
     },
     "metadata": {},
     "output_type": "display_data"
    },
    {
     "data": {
      "text/plain": "         species folder  count  \\\n0     fuligineum     f1     79   \n1  corcovadensis     f2    124   \n2      regnellii     f3     55   \n3     mikanianum     f4     18   \n4      vicosanum     f5     24   \n\n                                         list_images  \n0  ['ESA031454', 'NY00559090_01', 'MBM084435', 'S...  \n1  ['ESA031454', 'NY00559090_01', 'MBM084435', 'S...  \n2  ['ESA031454', 'NY00559090_01', 'MBM084435', 'S...  \n3  ['ESA031454', 'NY00559090_01', 'MBM084435', 'S...  \n4  ['ESA031454', 'NY00559090_01', 'MBM084435', 'S...  ",
      "text/html": "<div>\n<style scoped>\n    .dataframe tbody tr th:only-of-type {\n        vertical-align: middle;\n    }\n\n    .dataframe tbody tr th {\n        vertical-align: top;\n    }\n\n    .dataframe thead th {\n        text-align: right;\n    }\n</style>\n<table border=\"1\" class=\"dataframe\">\n  <thead>\n    <tr style=\"text-align: right;\">\n      <th></th>\n      <th>species</th>\n      <th>folder</th>\n      <th>count</th>\n      <th>list_images</th>\n    </tr>\n  </thead>\n  <tbody>\n    <tr>\n      <th>0</th>\n      <td>fuligineum</td>\n      <td>f1</td>\n      <td>79</td>\n      <td>['ESA031454', 'NY00559090_01', 'MBM084435', 'S...</td>\n    </tr>\n    <tr>\n      <th>1</th>\n      <td>corcovadensis</td>\n      <td>f2</td>\n      <td>124</td>\n      <td>['ESA031454', 'NY00559090_01', 'MBM084435', 'S...</td>\n    </tr>\n    <tr>\n      <th>2</th>\n      <td>regnellii</td>\n      <td>f3</td>\n      <td>55</td>\n      <td>['ESA031454', 'NY00559090_01', 'MBM084435', 'S...</td>\n    </tr>\n    <tr>\n      <th>3</th>\n      <td>mikanianum</td>\n      <td>f4</td>\n      <td>18</td>\n      <td>['ESA031454', 'NY00559090_01', 'MBM084435', 'S...</td>\n    </tr>\n    <tr>\n      <th>4</th>\n      <td>vicosanum</td>\n      <td>f5</td>\n      <td>24</td>\n      <td>['ESA031454', 'NY00559090_01', 'MBM084435', 'S...</td>\n    </tr>\n  </tbody>\n</table>\n</div>"
     },
     "metadata": {},
     "output_type": "display_data"
    },
    {
     "data": {
      "text/plain": "'color: grayscale image_size: 256 minimum_image: 20 regions: Sudeste'"
     },
     "metadata": {},
     "output_type": "display_data"
    },
    {
     "data": {
      "text/plain": "         species folder  count  \\\n0     fuligineum     f1     79   \n1  corcovadensis     f2    124   \n2      regnellii     f3     55   \n3      vicosanum     f4     24   \n4    lhotzkyanum     f5     34   \n\n                                         list_images  \n0  ['ESA031454', 'NY00559090_01', 'MBM084435', 'S...  \n1  ['ESA031454', 'NY00559090_01', 'MBM084435', 'S...  \n2  ['ESA031454', 'NY00559090_01', 'MBM084435', 'S...  \n3  ['ESA031454', 'NY00559090_01', 'MBM084435', 'S...  \n4  ['ESA031454', 'NY00559090_01', 'MBM084435', 'S...  ",
      "text/html": "<div>\n<style scoped>\n    .dataframe tbody tr th:only-of-type {\n        vertical-align: middle;\n    }\n\n    .dataframe tbody tr th {\n        vertical-align: top;\n    }\n\n    .dataframe thead th {\n        text-align: right;\n    }\n</style>\n<table border=\"1\" class=\"dataframe\">\n  <thead>\n    <tr style=\"text-align: right;\">\n      <th></th>\n      <th>species</th>\n      <th>folder</th>\n      <th>count</th>\n      <th>list_images</th>\n    </tr>\n  </thead>\n  <tbody>\n    <tr>\n      <th>0</th>\n      <td>fuligineum</td>\n      <td>f1</td>\n      <td>79</td>\n      <td>['ESA031454', 'NY00559090_01', 'MBM084435', 'S...</td>\n    </tr>\n    <tr>\n      <th>1</th>\n      <td>corcovadensis</td>\n      <td>f2</td>\n      <td>124</td>\n      <td>['ESA031454', 'NY00559090_01', 'MBM084435', 'S...</td>\n    </tr>\n    <tr>\n      <th>2</th>\n      <td>regnellii</td>\n      <td>f3</td>\n      <td>55</td>\n      <td>['ESA031454', 'NY00559090_01', 'MBM084435', 'S...</td>\n    </tr>\n    <tr>\n      <th>3</th>\n      <td>vicosanum</td>\n      <td>f4</td>\n      <td>24</td>\n      <td>['ESA031454', 'NY00559090_01', 'MBM084435', 'S...</td>\n    </tr>\n    <tr>\n      <th>4</th>\n      <td>lhotzkyanum</td>\n      <td>f5</td>\n      <td>34</td>\n      <td>['ESA031454', 'NY00559090_01', 'MBM084435', 'S...</td>\n    </tr>\n  </tbody>\n</table>\n</div>"
     },
     "metadata": {},
     "output_type": "display_data"
    },
    {
     "data": {
      "text/plain": "'color: grayscale image_size: 256 minimum_image: 5 regions: Centro-Oeste'"
     },
     "metadata": {},
     "output_type": "display_data"
    },
    {
     "data": {
      "text/plain": "       species folder  count  \\\n0   fuligineum     f1     77   \n1  campinasana     f2      7   \n2    regnellii     f3     40   \n3      aequale     f4     15   \n4  miquelianum     f5      8   \n\n                                         list_images  \n0  ['NY00679960_01', 'NY00956929_01', 'MBM250545'...  \n1  ['NY00679960_01', 'NY00956929_01', 'MBM250545'...  \n2  ['NY00679960_01', 'NY00956929_01', 'MBM250545'...  \n3  ['NY00679960_01', 'NY00956929_01', 'MBM250545'...  \n4  ['NY00679960_01', 'NY00956929_01', 'MBM250545'...  ",
      "text/html": "<div>\n<style scoped>\n    .dataframe tbody tr th:only-of-type {\n        vertical-align: middle;\n    }\n\n    .dataframe tbody tr th {\n        vertical-align: top;\n    }\n\n    .dataframe thead th {\n        text-align: right;\n    }\n</style>\n<table border=\"1\" class=\"dataframe\">\n  <thead>\n    <tr style=\"text-align: right;\">\n      <th></th>\n      <th>species</th>\n      <th>folder</th>\n      <th>count</th>\n      <th>list_images</th>\n    </tr>\n  </thead>\n  <tbody>\n    <tr>\n      <th>0</th>\n      <td>fuligineum</td>\n      <td>f1</td>\n      <td>77</td>\n      <td>['NY00679960_01', 'NY00956929_01', 'MBM250545'...</td>\n    </tr>\n    <tr>\n      <th>1</th>\n      <td>campinasana</td>\n      <td>f2</td>\n      <td>7</td>\n      <td>['NY00679960_01', 'NY00956929_01', 'MBM250545'...</td>\n    </tr>\n    <tr>\n      <th>2</th>\n      <td>regnellii</td>\n      <td>f3</td>\n      <td>40</td>\n      <td>['NY00679960_01', 'NY00956929_01', 'MBM250545'...</td>\n    </tr>\n    <tr>\n      <th>3</th>\n      <td>aequale</td>\n      <td>f4</td>\n      <td>15</td>\n      <td>['NY00679960_01', 'NY00956929_01', 'MBM250545'...</td>\n    </tr>\n    <tr>\n      <th>4</th>\n      <td>miquelianum</td>\n      <td>f5</td>\n      <td>8</td>\n      <td>['NY00679960_01', 'NY00956929_01', 'MBM250545'...</td>\n    </tr>\n  </tbody>\n</table>\n</div>"
     },
     "metadata": {},
     "output_type": "display_data"
    },
    {
     "data": {
      "text/plain": "'color: grayscale image_size: 256 minimum_image: 10 regions: Centro-Oeste'"
     },
     "metadata": {},
     "output_type": "display_data"
    },
    {
     "data": {
      "text/plain": "         species folder  count  \\\n0     fuligineum     f1     77   \n1      regnellii     f2     40   \n2        aequale     f3     15   \n3  crassinervium     f4     14   \n4    gardneriana     f5     15   \n\n                                         list_images  \n0  ['NY00679960_01', 'NY00956929_01', 'MBM250545'...  \n1  ['NY00679960_01', 'NY00956929_01', 'MBM250545'...  \n2  ['NY00679960_01', 'NY00956929_01', 'MBM250545'...  \n3  ['NY00679960_01', 'NY00956929_01', 'MBM250545'...  \n4  ['NY00679960_01', 'NY00956929_01', 'MBM250545'...  ",
      "text/html": "<div>\n<style scoped>\n    .dataframe tbody tr th:only-of-type {\n        vertical-align: middle;\n    }\n\n    .dataframe tbody tr th {\n        vertical-align: top;\n    }\n\n    .dataframe thead th {\n        text-align: right;\n    }\n</style>\n<table border=\"1\" class=\"dataframe\">\n  <thead>\n    <tr style=\"text-align: right;\">\n      <th></th>\n      <th>species</th>\n      <th>folder</th>\n      <th>count</th>\n      <th>list_images</th>\n    </tr>\n  </thead>\n  <tbody>\n    <tr>\n      <th>0</th>\n      <td>fuligineum</td>\n      <td>f1</td>\n      <td>77</td>\n      <td>['NY00679960_01', 'NY00956929_01', 'MBM250545'...</td>\n    </tr>\n    <tr>\n      <th>1</th>\n      <td>regnellii</td>\n      <td>f2</td>\n      <td>40</td>\n      <td>['NY00679960_01', 'NY00956929_01', 'MBM250545'...</td>\n    </tr>\n    <tr>\n      <th>2</th>\n      <td>aequale</td>\n      <td>f3</td>\n      <td>15</td>\n      <td>['NY00679960_01', 'NY00956929_01', 'MBM250545'...</td>\n    </tr>\n    <tr>\n      <th>3</th>\n      <td>crassinervium</td>\n      <td>f4</td>\n      <td>14</td>\n      <td>['NY00679960_01', 'NY00956929_01', 'MBM250545'...</td>\n    </tr>\n    <tr>\n      <th>4</th>\n      <td>gardneriana</td>\n      <td>f5</td>\n      <td>15</td>\n      <td>['NY00679960_01', 'NY00956929_01', 'MBM250545'...</td>\n    </tr>\n  </tbody>\n</table>\n</div>"
     },
     "metadata": {},
     "output_type": "display_data"
    },
    {
     "data": {
      "text/plain": "'color: grayscale image_size: 256 minimum_image: 20 regions: Centro-Oeste'"
     },
     "metadata": {},
     "output_type": "display_data"
    },
    {
     "data": {
      "text/plain": "      species folder  count                                        list_images\n0  fuligineum     f1     77  ['CEN00036424', 'UEC149671', 'NY00885318_01', ...\n1   regnellii     f2     40  ['CEN00036424', 'UEC149671', 'NY00885318_01', ...\n2    elongata     f3     20  ['CEN00036424', 'UEC149671', 'NY00885318_01', ...\n3    arboreum     f4    203  ['CEN00036424', 'UEC149671', 'NY00885318_01', ...\n4    hispidum     f5     53  ['CEN00036424', 'UEC149671', 'NY00885318_01', ...",
      "text/html": "<div>\n<style scoped>\n    .dataframe tbody tr th:only-of-type {\n        vertical-align: middle;\n    }\n\n    .dataframe tbody tr th {\n        vertical-align: top;\n    }\n\n    .dataframe thead th {\n        text-align: right;\n    }\n</style>\n<table border=\"1\" class=\"dataframe\">\n  <thead>\n    <tr style=\"text-align: right;\">\n      <th></th>\n      <th>species</th>\n      <th>folder</th>\n      <th>count</th>\n      <th>list_images</th>\n    </tr>\n  </thead>\n  <tbody>\n    <tr>\n      <th>0</th>\n      <td>fuligineum</td>\n      <td>f1</td>\n      <td>77</td>\n      <td>['CEN00036424', 'UEC149671', 'NY00885318_01', ...</td>\n    </tr>\n    <tr>\n      <th>1</th>\n      <td>regnellii</td>\n      <td>f2</td>\n      <td>40</td>\n      <td>['CEN00036424', 'UEC149671', 'NY00885318_01', ...</td>\n    </tr>\n    <tr>\n      <th>2</th>\n      <td>elongata</td>\n      <td>f3</td>\n      <td>20</td>\n      <td>['CEN00036424', 'UEC149671', 'NY00885318_01', ...</td>\n    </tr>\n    <tr>\n      <th>3</th>\n      <td>arboreum</td>\n      <td>f4</td>\n      <td>203</td>\n      <td>['CEN00036424', 'UEC149671', 'NY00885318_01', ...</td>\n    </tr>\n    <tr>\n      <th>4</th>\n      <td>hispidum</td>\n      <td>f5</td>\n      <td>53</td>\n      <td>['CEN00036424', 'UEC149671', 'NY00885318_01', ...</td>\n    </tr>\n  </tbody>\n</table>\n</div>"
     },
     "metadata": {},
     "output_type": "display_data"
    },
    {
     "data": {
      "text/plain": "'color: grayscale image_size: 400 minimum_image: 5 regions: Norte'"
     },
     "metadata": {},
     "output_type": "display_data"
    },
    {
     "data": {
      "text/plain": "       species folder  count  \\\n0   piscatorum     f1     10   \n1     obliquum     f2     61   \n2   javariense     f3     11   \n3    coruscans     f4     13   \n4  brasiliense     f5     23   \n\n                                         list_images  \n0  ['INPA0179861', 'INPA0023412', 'NY01421846_01'...  \n1  ['INPA0179861', 'INPA0023412', 'NY01421846_01'...  \n2  ['INPA0179861', 'INPA0023412', 'NY01421846_01'...  \n3  ['INPA0179861', 'INPA0023412', 'NY01421846_01'...  \n4  ['INPA0179861', 'INPA0023412', 'NY01421846_01'...  ",
      "text/html": "<div>\n<style scoped>\n    .dataframe tbody tr th:only-of-type {\n        vertical-align: middle;\n    }\n\n    .dataframe tbody tr th {\n        vertical-align: top;\n    }\n\n    .dataframe thead th {\n        text-align: right;\n    }\n</style>\n<table border=\"1\" class=\"dataframe\">\n  <thead>\n    <tr style=\"text-align: right;\">\n      <th></th>\n      <th>species</th>\n      <th>folder</th>\n      <th>count</th>\n      <th>list_images</th>\n    </tr>\n  </thead>\n  <tbody>\n    <tr>\n      <th>0</th>\n      <td>piscatorum</td>\n      <td>f1</td>\n      <td>10</td>\n      <td>['INPA0179861', 'INPA0023412', 'NY01421846_01'...</td>\n    </tr>\n    <tr>\n      <th>1</th>\n      <td>obliquum</td>\n      <td>f2</td>\n      <td>61</td>\n      <td>['INPA0179861', 'INPA0023412', 'NY01421846_01'...</td>\n    </tr>\n    <tr>\n      <th>2</th>\n      <td>javariense</td>\n      <td>f3</td>\n      <td>11</td>\n      <td>['INPA0179861', 'INPA0023412', 'NY01421846_01'...</td>\n    </tr>\n    <tr>\n      <th>3</th>\n      <td>coruscans</td>\n      <td>f4</td>\n      <td>13</td>\n      <td>['INPA0179861', 'INPA0023412', 'NY01421846_01'...</td>\n    </tr>\n    <tr>\n      <th>4</th>\n      <td>brasiliense</td>\n      <td>f5</td>\n      <td>23</td>\n      <td>['INPA0179861', 'INPA0023412', 'NY01421846_01'...</td>\n    </tr>\n  </tbody>\n</table>\n</div>"
     },
     "metadata": {},
     "output_type": "display_data"
    },
    {
     "data": {
      "text/plain": "'color: grayscale image_size: 400 minimum_image: 10 regions: Norte'"
     },
     "metadata": {},
     "output_type": "display_data"
    },
    {
     "data": {
      "text/plain": "       species folder  count  \\\n0   piscatorum     f1     10   \n1     obliquum     f2     61   \n2   javariense     f3     11   \n3    coruscans     f4     13   \n4  brasiliense     f5     23   \n\n                                         list_images  \n0  ['NY01397567_01', 'IAN011429', 'NY01397566_01'...  \n1  ['NY01397567_01', 'IAN011429', 'NY01397566_01'...  \n2  ['NY01397567_01', 'IAN011429', 'NY01397566_01'...  \n3  ['NY01397567_01', 'IAN011429', 'NY01397566_01'...  \n4  ['NY01397567_01', 'IAN011429', 'NY01397566_01'...  ",
      "text/html": "<div>\n<style scoped>\n    .dataframe tbody tr th:only-of-type {\n        vertical-align: middle;\n    }\n\n    .dataframe tbody tr th {\n        vertical-align: top;\n    }\n\n    .dataframe thead th {\n        text-align: right;\n    }\n</style>\n<table border=\"1\" class=\"dataframe\">\n  <thead>\n    <tr style=\"text-align: right;\">\n      <th></th>\n      <th>species</th>\n      <th>folder</th>\n      <th>count</th>\n      <th>list_images</th>\n    </tr>\n  </thead>\n  <tbody>\n    <tr>\n      <th>0</th>\n      <td>piscatorum</td>\n      <td>f1</td>\n      <td>10</td>\n      <td>['NY01397567_01', 'IAN011429', 'NY01397566_01'...</td>\n    </tr>\n    <tr>\n      <th>1</th>\n      <td>obliquum</td>\n      <td>f2</td>\n      <td>61</td>\n      <td>['NY01397567_01', 'IAN011429', 'NY01397566_01'...</td>\n    </tr>\n    <tr>\n      <th>2</th>\n      <td>javariense</td>\n      <td>f3</td>\n      <td>11</td>\n      <td>['NY01397567_01', 'IAN011429', 'NY01397566_01'...</td>\n    </tr>\n    <tr>\n      <th>3</th>\n      <td>coruscans</td>\n      <td>f4</td>\n      <td>13</td>\n      <td>['NY01397567_01', 'IAN011429', 'NY01397566_01'...</td>\n    </tr>\n    <tr>\n      <th>4</th>\n      <td>brasiliense</td>\n      <td>f5</td>\n      <td>23</td>\n      <td>['NY01397567_01', 'IAN011429', 'NY01397566_01'...</td>\n    </tr>\n  </tbody>\n</table>\n</div>"
     },
     "metadata": {},
     "output_type": "display_data"
    },
    {
     "data": {
      "text/plain": "'color: grayscale image_size: 400 minimum_image: 20 regions: Norte'"
     },
     "metadata": {},
     "output_type": "display_data"
    },
    {
     "data": {
      "text/plain": "       species folder  count  \\\n0     obliquum     f1     61   \n1  brasiliense     f2     23   \n2  alatabaccum     f3     28   \n3      piresii     f4     38   \n4  reticulatum     f5     35   \n\n                                         list_images  \n0  ['NY01397567_01', 'IAN011429', 'NY01397566_01'...  \n1  ['NY01397567_01', 'IAN011429', 'NY01397566_01'...  \n2  ['NY01397567_01', 'IAN011429', 'NY01397566_01'...  \n3  ['NY01397567_01', 'IAN011429', 'NY01397566_01'...  \n4  ['NY01397567_01', 'IAN011429', 'NY01397566_01'...  ",
      "text/html": "<div>\n<style scoped>\n    .dataframe tbody tr th:only-of-type {\n        vertical-align: middle;\n    }\n\n    .dataframe tbody tr th {\n        vertical-align: top;\n    }\n\n    .dataframe thead th {\n        text-align: right;\n    }\n</style>\n<table border=\"1\" class=\"dataframe\">\n  <thead>\n    <tr style=\"text-align: right;\">\n      <th></th>\n      <th>species</th>\n      <th>folder</th>\n      <th>count</th>\n      <th>list_images</th>\n    </tr>\n  </thead>\n  <tbody>\n    <tr>\n      <th>0</th>\n      <td>obliquum</td>\n      <td>f1</td>\n      <td>61</td>\n      <td>['NY01397567_01', 'IAN011429', 'NY01397566_01'...</td>\n    </tr>\n    <tr>\n      <th>1</th>\n      <td>brasiliense</td>\n      <td>f2</td>\n      <td>23</td>\n      <td>['NY01397567_01', 'IAN011429', 'NY01397566_01'...</td>\n    </tr>\n    <tr>\n      <th>2</th>\n      <td>alatabaccum</td>\n      <td>f3</td>\n      <td>28</td>\n      <td>['NY01397567_01', 'IAN011429', 'NY01397566_01'...</td>\n    </tr>\n    <tr>\n      <th>3</th>\n      <td>piresii</td>\n      <td>f4</td>\n      <td>38</td>\n      <td>['NY01397567_01', 'IAN011429', 'NY01397566_01'...</td>\n    </tr>\n    <tr>\n      <th>4</th>\n      <td>reticulatum</td>\n      <td>f5</td>\n      <td>35</td>\n      <td>['NY01397567_01', 'IAN011429', 'NY01397566_01'...</td>\n    </tr>\n  </tbody>\n</table>\n</div>"
     },
     "metadata": {},
     "output_type": "display_data"
    },
    {
     "data": {
      "text/plain": "'color: grayscale image_size: 400 minimum_image: 5 regions: Nordeste'"
     },
     "metadata": {},
     "output_type": "display_data"
    },
    {
     "data": {
      "text/plain": "         species folder  count  \\\n0     fuligineum     f1     13   \n1      oreophila     f2     23   \n2  corcovadensis     f3     27   \n3    campinasana     f4      7   \n4          limai     f5      9   \n\n                                         list_images  \n0  ['MBM116011', 'SPF00164804', 'ALCB002302', 'SP...  \n1  ['MBM116011', 'SPF00164804', 'ALCB002302', 'SP...  \n2  ['MBM116011', 'SPF00164804', 'ALCB002302', 'SP...  \n3  ['MBM116011', 'SPF00164804', 'ALCB002302', 'SP...  \n4  ['MBM116011', 'SPF00164804', 'ALCB002302', 'SP...  ",
      "text/html": "<div>\n<style scoped>\n    .dataframe tbody tr th:only-of-type {\n        vertical-align: middle;\n    }\n\n    .dataframe tbody tr th {\n        vertical-align: top;\n    }\n\n    .dataframe thead th {\n        text-align: right;\n    }\n</style>\n<table border=\"1\" class=\"dataframe\">\n  <thead>\n    <tr style=\"text-align: right;\">\n      <th></th>\n      <th>species</th>\n      <th>folder</th>\n      <th>count</th>\n      <th>list_images</th>\n    </tr>\n  </thead>\n  <tbody>\n    <tr>\n      <th>0</th>\n      <td>fuligineum</td>\n      <td>f1</td>\n      <td>13</td>\n      <td>['MBM116011', 'SPF00164804', 'ALCB002302', 'SP...</td>\n    </tr>\n    <tr>\n      <th>1</th>\n      <td>oreophila</td>\n      <td>f2</td>\n      <td>23</td>\n      <td>['MBM116011', 'SPF00164804', 'ALCB002302', 'SP...</td>\n    </tr>\n    <tr>\n      <th>2</th>\n      <td>corcovadensis</td>\n      <td>f3</td>\n      <td>27</td>\n      <td>['MBM116011', 'SPF00164804', 'ALCB002302', 'SP...</td>\n    </tr>\n    <tr>\n      <th>3</th>\n      <td>campinasana</td>\n      <td>f4</td>\n      <td>7</td>\n      <td>['MBM116011', 'SPF00164804', 'ALCB002302', 'SP...</td>\n    </tr>\n    <tr>\n      <th>4</th>\n      <td>limai</td>\n      <td>f5</td>\n      <td>9</td>\n      <td>['MBM116011', 'SPF00164804', 'ALCB002302', 'SP...</td>\n    </tr>\n  </tbody>\n</table>\n</div>"
     },
     "metadata": {},
     "output_type": "display_data"
    },
    {
     "data": {
      "text/plain": "'color: grayscale image_size: 400 minimum_image: 10 regions: Nordeste'"
     },
     "metadata": {},
     "output_type": "display_data"
    },
    {
     "data": {
      "text/plain": "         species folder  count  \\\n0     fuligineum     f1     13   \n1      oreophila     f2     23   \n2  corcovadensis     f3     27   \n3      vicosanum     f4     12   \n4      sincorana     f5     47   \n\n                                         list_images  \n0  ['MBM116011', 'SPF00164804', 'ALCB002302', 'SP...  \n1  ['MBM116011', 'SPF00164804', 'ALCB002302', 'SP...  \n2  ['MBM116011', 'SPF00164804', 'ALCB002302', 'SP...  \n3  ['MBM116011', 'SPF00164804', 'ALCB002302', 'SP...  \n4  ['MBM116011', 'SPF00164804', 'ALCB002302', 'SP...  ",
      "text/html": "<div>\n<style scoped>\n    .dataframe tbody tr th:only-of-type {\n        vertical-align: middle;\n    }\n\n    .dataframe tbody tr th {\n        vertical-align: top;\n    }\n\n    .dataframe thead th {\n        text-align: right;\n    }\n</style>\n<table border=\"1\" class=\"dataframe\">\n  <thead>\n    <tr style=\"text-align: right;\">\n      <th></th>\n      <th>species</th>\n      <th>folder</th>\n      <th>count</th>\n      <th>list_images</th>\n    </tr>\n  </thead>\n  <tbody>\n    <tr>\n      <th>0</th>\n      <td>fuligineum</td>\n      <td>f1</td>\n      <td>13</td>\n      <td>['MBM116011', 'SPF00164804', 'ALCB002302', 'SP...</td>\n    </tr>\n    <tr>\n      <th>1</th>\n      <td>oreophila</td>\n      <td>f2</td>\n      <td>23</td>\n      <td>['MBM116011', 'SPF00164804', 'ALCB002302', 'SP...</td>\n    </tr>\n    <tr>\n      <th>2</th>\n      <td>corcovadensis</td>\n      <td>f3</td>\n      <td>27</td>\n      <td>['MBM116011', 'SPF00164804', 'ALCB002302', 'SP...</td>\n    </tr>\n    <tr>\n      <th>3</th>\n      <td>vicosanum</td>\n      <td>f4</td>\n      <td>12</td>\n      <td>['MBM116011', 'SPF00164804', 'ALCB002302', 'SP...</td>\n    </tr>\n    <tr>\n      <th>4</th>\n      <td>sincorana</td>\n      <td>f5</td>\n      <td>47</td>\n      <td>['MBM116011', 'SPF00164804', 'ALCB002302', 'SP...</td>\n    </tr>\n  </tbody>\n</table>\n</div>"
     },
     "metadata": {},
     "output_type": "display_data"
    },
    {
     "data": {
      "text/plain": "'color: grayscale image_size: 400 minimum_image: 20 regions: Nordeste'"
     },
     "metadata": {},
     "output_type": "display_data"
    },
    {
     "data": {
      "text/plain": "         species folder  count  \\\n0      oreophila     f1     23   \n1  corcovadensis     f2     27   \n2      sincorana     f3     47   \n3    tetraphylla     f4     58   \n4  magnoliifolia     f5     21   \n\n                                         list_images  \n0  ['SPF00048717', 'SPF00082803', 'NY00555600_01'...  \n1  ['SPF00048717', 'SPF00082803', 'NY00555600_01'...  \n2  ['SPF00048717', 'SPF00082803', 'NY00555600_01'...  \n3  ['SPF00048717', 'SPF00082803', 'NY00555600_01'...  \n4  ['SPF00048717', 'SPF00082803', 'NY00555600_01'...  ",
      "text/html": "<div>\n<style scoped>\n    .dataframe tbody tr th:only-of-type {\n        vertical-align: middle;\n    }\n\n    .dataframe tbody tr th {\n        vertical-align: top;\n    }\n\n    .dataframe thead th {\n        text-align: right;\n    }\n</style>\n<table border=\"1\" class=\"dataframe\">\n  <thead>\n    <tr style=\"text-align: right;\">\n      <th></th>\n      <th>species</th>\n      <th>folder</th>\n      <th>count</th>\n      <th>list_images</th>\n    </tr>\n  </thead>\n  <tbody>\n    <tr>\n      <th>0</th>\n      <td>oreophila</td>\n      <td>f1</td>\n      <td>23</td>\n      <td>['SPF00048717', 'SPF00082803', 'NY00555600_01'...</td>\n    </tr>\n    <tr>\n      <th>1</th>\n      <td>corcovadensis</td>\n      <td>f2</td>\n      <td>27</td>\n      <td>['SPF00048717', 'SPF00082803', 'NY00555600_01'...</td>\n    </tr>\n    <tr>\n      <th>2</th>\n      <td>sincorana</td>\n      <td>f3</td>\n      <td>47</td>\n      <td>['SPF00048717', 'SPF00082803', 'NY00555600_01'...</td>\n    </tr>\n    <tr>\n      <th>3</th>\n      <td>tetraphylla</td>\n      <td>f4</td>\n      <td>58</td>\n      <td>['SPF00048717', 'SPF00082803', 'NY00555600_01'...</td>\n    </tr>\n    <tr>\n      <th>4</th>\n      <td>magnoliifolia</td>\n      <td>f5</td>\n      <td>21</td>\n      <td>['SPF00048717', 'SPF00082803', 'NY00555600_01'...</td>\n    </tr>\n  </tbody>\n</table>\n</div>"
     },
     "metadata": {},
     "output_type": "display_data"
    },
    {
     "data": {
      "text/plain": "'color: grayscale image_size: 400 minimum_image: 5 regions: Sul'"
     },
     "metadata": {},
     "output_type": "display_data"
    },
    {
     "data": {
      "text/plain": "         species folder  count  \\\n0       glaziovi     f1      5   \n1     fuligineum     f2      5   \n2  corcovadensis     f3    168   \n3      regnellii     f4     24   \n4     mikanianum     f5     72   \n\n                                         list_images  \n0  ['MBM037883', 'NY00559096_01', 'MBM045085', 'M...  \n1  ['MBM037883', 'NY00559096_01', 'MBM045085', 'M...  \n2  ['MBM037883', 'NY00559096_01', 'MBM045085', 'M...  \n3  ['MBM037883', 'NY00559096_01', 'MBM045085', 'M...  \n4  ['MBM037883', 'NY00559096_01', 'MBM045085', 'M...  ",
      "text/html": "<div>\n<style scoped>\n    .dataframe tbody tr th:only-of-type {\n        vertical-align: middle;\n    }\n\n    .dataframe tbody tr th {\n        vertical-align: top;\n    }\n\n    .dataframe thead th {\n        text-align: right;\n    }\n</style>\n<table border=\"1\" class=\"dataframe\">\n  <thead>\n    <tr style=\"text-align: right;\">\n      <th></th>\n      <th>species</th>\n      <th>folder</th>\n      <th>count</th>\n      <th>list_images</th>\n    </tr>\n  </thead>\n  <tbody>\n    <tr>\n      <th>0</th>\n      <td>glaziovi</td>\n      <td>f1</td>\n      <td>5</td>\n      <td>['MBM037883', 'NY00559096_01', 'MBM045085', 'M...</td>\n    </tr>\n    <tr>\n      <th>1</th>\n      <td>fuligineum</td>\n      <td>f2</td>\n      <td>5</td>\n      <td>['MBM037883', 'NY00559096_01', 'MBM045085', 'M...</td>\n    </tr>\n    <tr>\n      <th>2</th>\n      <td>corcovadensis</td>\n      <td>f3</td>\n      <td>168</td>\n      <td>['MBM037883', 'NY00559096_01', 'MBM045085', 'M...</td>\n    </tr>\n    <tr>\n      <th>3</th>\n      <td>regnellii</td>\n      <td>f4</td>\n      <td>24</td>\n      <td>['MBM037883', 'NY00559096_01', 'MBM045085', 'M...</td>\n    </tr>\n    <tr>\n      <th>4</th>\n      <td>mikanianum</td>\n      <td>f5</td>\n      <td>72</td>\n      <td>['MBM037883', 'NY00559096_01', 'MBM045085', 'M...</td>\n    </tr>\n  </tbody>\n</table>\n</div>"
     },
     "metadata": {},
     "output_type": "display_data"
    },
    {
     "data": {
      "text/plain": "'color: grayscale image_size: 400 minimum_image: 10 regions: Sul'"
     },
     "metadata": {},
     "output_type": "display_data"
    },
    {
     "data": {
      "text/plain": "         species folder  count  \\\n0  corcovadensis     f1    168   \n1      regnellii     f2     24   \n2     mikanianum     f3     72   \n3        reitzii     f4     20   \n4    miquelianum     f5    141   \n\n                                         list_images  \n0  ['MBM037883', 'NY00559096_01', 'MBM045085', 'M...  \n1  ['MBM037883', 'NY00559096_01', 'MBM045085', 'M...  \n2  ['MBM037883', 'NY00559096_01', 'MBM045085', 'M...  \n3  ['MBM037883', 'NY00559096_01', 'MBM045085', 'M...  \n4  ['MBM037883', 'NY00559096_01', 'MBM045085', 'M...  ",
      "text/html": "<div>\n<style scoped>\n    .dataframe tbody tr th:only-of-type {\n        vertical-align: middle;\n    }\n\n    .dataframe tbody tr th {\n        vertical-align: top;\n    }\n\n    .dataframe thead th {\n        text-align: right;\n    }\n</style>\n<table border=\"1\" class=\"dataframe\">\n  <thead>\n    <tr style=\"text-align: right;\">\n      <th></th>\n      <th>species</th>\n      <th>folder</th>\n      <th>count</th>\n      <th>list_images</th>\n    </tr>\n  </thead>\n  <tbody>\n    <tr>\n      <th>0</th>\n      <td>corcovadensis</td>\n      <td>f1</td>\n      <td>168</td>\n      <td>['MBM037883', 'NY00559096_01', 'MBM045085', 'M...</td>\n    </tr>\n    <tr>\n      <th>1</th>\n      <td>regnellii</td>\n      <td>f2</td>\n      <td>24</td>\n      <td>['MBM037883', 'NY00559096_01', 'MBM045085', 'M...</td>\n    </tr>\n    <tr>\n      <th>2</th>\n      <td>mikanianum</td>\n      <td>f3</td>\n      <td>72</td>\n      <td>['MBM037883', 'NY00559096_01', 'MBM045085', 'M...</td>\n    </tr>\n    <tr>\n      <th>3</th>\n      <td>reitzii</td>\n      <td>f4</td>\n      <td>20</td>\n      <td>['MBM037883', 'NY00559096_01', 'MBM045085', 'M...</td>\n    </tr>\n    <tr>\n      <th>4</th>\n      <td>miquelianum</td>\n      <td>f5</td>\n      <td>141</td>\n      <td>['MBM037883', 'NY00559096_01', 'MBM045085', 'M...</td>\n    </tr>\n  </tbody>\n</table>\n</div>"
     },
     "metadata": {},
     "output_type": "display_data"
    },
    {
     "data": {
      "text/plain": "'color: grayscale image_size: 400 minimum_image: 20 regions: Sul'"
     },
     "metadata": {},
     "output_type": "display_data"
    },
    {
     "data": {
      "text/plain": "         species folder  count  \\\n0  corcovadensis     f1    168   \n1      regnellii     f2     24   \n2     mikanianum     f3     72   \n3        reitzii     f4     20   \n4    miquelianum     f5    141   \n\n                                         list_images  \n0  ['MBM089701', 'MBM089707', 'CEN00047117', 'FUR...  \n1  ['MBM089701', 'MBM089707', 'CEN00047117', 'FUR...  \n2  ['MBM089701', 'MBM089707', 'CEN00047117', 'FUR...  \n3  ['MBM089701', 'MBM089707', 'CEN00047117', 'FUR...  \n4  ['MBM089701', 'MBM089707', 'CEN00047117', 'FUR...  ",
      "text/html": "<div>\n<style scoped>\n    .dataframe tbody tr th:only-of-type {\n        vertical-align: middle;\n    }\n\n    .dataframe tbody tr th {\n        vertical-align: top;\n    }\n\n    .dataframe thead th {\n        text-align: right;\n    }\n</style>\n<table border=\"1\" class=\"dataframe\">\n  <thead>\n    <tr style=\"text-align: right;\">\n      <th></th>\n      <th>species</th>\n      <th>folder</th>\n      <th>count</th>\n      <th>list_images</th>\n    </tr>\n  </thead>\n  <tbody>\n    <tr>\n      <th>0</th>\n      <td>corcovadensis</td>\n      <td>f1</td>\n      <td>168</td>\n      <td>['MBM089701', 'MBM089707', 'CEN00047117', 'FUR...</td>\n    </tr>\n    <tr>\n      <th>1</th>\n      <td>regnellii</td>\n      <td>f2</td>\n      <td>24</td>\n      <td>['MBM089701', 'MBM089707', 'CEN00047117', 'FUR...</td>\n    </tr>\n    <tr>\n      <th>2</th>\n      <td>mikanianum</td>\n      <td>f3</td>\n      <td>72</td>\n      <td>['MBM089701', 'MBM089707', 'CEN00047117', 'FUR...</td>\n    </tr>\n    <tr>\n      <th>3</th>\n      <td>reitzii</td>\n      <td>f4</td>\n      <td>20</td>\n      <td>['MBM089701', 'MBM089707', 'CEN00047117', 'FUR...</td>\n    </tr>\n    <tr>\n      <th>4</th>\n      <td>miquelianum</td>\n      <td>f5</td>\n      <td>141</td>\n      <td>['MBM089701', 'MBM089707', 'CEN00047117', 'FUR...</td>\n    </tr>\n  </tbody>\n</table>\n</div>"
     },
     "metadata": {},
     "output_type": "display_data"
    },
    {
     "data": {
      "text/plain": "'color: grayscale image_size: 400 minimum_image: 5 regions: Sudeste'"
     },
     "metadata": {},
     "output_type": "display_data"
    },
    {
     "data": {
      "text/plain": "         species folder  count  \\\n0     fuligineum     f1     79   \n1      oreophila     f2      5   \n2  corcovadensis     f3    124   \n3   psilostachya     f4      7   \n4      regnellii     f5     55   \n\n                                         list_images  \n0  ['MBM084431', 'INPA0124667', 'SP011164', 'NY00...  \n1  ['MBM084431', 'INPA0124667', 'SP011164', 'NY00...  \n2  ['MBM084431', 'INPA0124667', 'SP011164', 'NY00...  \n3  ['MBM084431', 'INPA0124667', 'SP011164', 'NY00...  \n4  ['MBM084431', 'INPA0124667', 'SP011164', 'NY00...  ",
      "text/html": "<div>\n<style scoped>\n    .dataframe tbody tr th:only-of-type {\n        vertical-align: middle;\n    }\n\n    .dataframe tbody tr th {\n        vertical-align: top;\n    }\n\n    .dataframe thead th {\n        text-align: right;\n    }\n</style>\n<table border=\"1\" class=\"dataframe\">\n  <thead>\n    <tr style=\"text-align: right;\">\n      <th></th>\n      <th>species</th>\n      <th>folder</th>\n      <th>count</th>\n      <th>list_images</th>\n    </tr>\n  </thead>\n  <tbody>\n    <tr>\n      <th>0</th>\n      <td>fuligineum</td>\n      <td>f1</td>\n      <td>79</td>\n      <td>['MBM084431', 'INPA0124667', 'SP011164', 'NY00...</td>\n    </tr>\n    <tr>\n      <th>1</th>\n      <td>oreophila</td>\n      <td>f2</td>\n      <td>5</td>\n      <td>['MBM084431', 'INPA0124667', 'SP011164', 'NY00...</td>\n    </tr>\n    <tr>\n      <th>2</th>\n      <td>corcovadensis</td>\n      <td>f3</td>\n      <td>124</td>\n      <td>['MBM084431', 'INPA0124667', 'SP011164', 'NY00...</td>\n    </tr>\n    <tr>\n      <th>3</th>\n      <td>psilostachya</td>\n      <td>f4</td>\n      <td>7</td>\n      <td>['MBM084431', 'INPA0124667', 'SP011164', 'NY00...</td>\n    </tr>\n    <tr>\n      <th>4</th>\n      <td>regnellii</td>\n      <td>f5</td>\n      <td>55</td>\n      <td>['MBM084431', 'INPA0124667', 'SP011164', 'NY00...</td>\n    </tr>\n  </tbody>\n</table>\n</div>"
     },
     "metadata": {},
     "output_type": "display_data"
    },
    {
     "data": {
      "text/plain": "'color: grayscale image_size: 400 minimum_image: 10 regions: Sudeste'"
     },
     "metadata": {},
     "output_type": "display_data"
    },
    {
     "data": {
      "text/plain": "         species folder  count  \\\n0     fuligineum     f1     79   \n1  corcovadensis     f2    124   \n2      regnellii     f3     55   \n3     mikanianum     f4     18   \n4      vicosanum     f5     24   \n\n                                         list_images  \n0  ['ESA031454', 'NY00559090_01', 'MBM084435', 'S...  \n1  ['ESA031454', 'NY00559090_01', 'MBM084435', 'S...  \n2  ['ESA031454', 'NY00559090_01', 'MBM084435', 'S...  \n3  ['ESA031454', 'NY00559090_01', 'MBM084435', 'S...  \n4  ['ESA031454', 'NY00559090_01', 'MBM084435', 'S...  ",
      "text/html": "<div>\n<style scoped>\n    .dataframe tbody tr th:only-of-type {\n        vertical-align: middle;\n    }\n\n    .dataframe tbody tr th {\n        vertical-align: top;\n    }\n\n    .dataframe thead th {\n        text-align: right;\n    }\n</style>\n<table border=\"1\" class=\"dataframe\">\n  <thead>\n    <tr style=\"text-align: right;\">\n      <th></th>\n      <th>species</th>\n      <th>folder</th>\n      <th>count</th>\n      <th>list_images</th>\n    </tr>\n  </thead>\n  <tbody>\n    <tr>\n      <th>0</th>\n      <td>fuligineum</td>\n      <td>f1</td>\n      <td>79</td>\n      <td>['ESA031454', 'NY00559090_01', 'MBM084435', 'S...</td>\n    </tr>\n    <tr>\n      <th>1</th>\n      <td>corcovadensis</td>\n      <td>f2</td>\n      <td>124</td>\n      <td>['ESA031454', 'NY00559090_01', 'MBM084435', 'S...</td>\n    </tr>\n    <tr>\n      <th>2</th>\n      <td>regnellii</td>\n      <td>f3</td>\n      <td>55</td>\n      <td>['ESA031454', 'NY00559090_01', 'MBM084435', 'S...</td>\n    </tr>\n    <tr>\n      <th>3</th>\n      <td>mikanianum</td>\n      <td>f4</td>\n      <td>18</td>\n      <td>['ESA031454', 'NY00559090_01', 'MBM084435', 'S...</td>\n    </tr>\n    <tr>\n      <th>4</th>\n      <td>vicosanum</td>\n      <td>f5</td>\n      <td>24</td>\n      <td>['ESA031454', 'NY00559090_01', 'MBM084435', 'S...</td>\n    </tr>\n  </tbody>\n</table>\n</div>"
     },
     "metadata": {},
     "output_type": "display_data"
    },
    {
     "data": {
      "text/plain": "'color: grayscale image_size: 400 minimum_image: 20 regions: Sudeste'"
     },
     "metadata": {},
     "output_type": "display_data"
    },
    {
     "data": {
      "text/plain": "         species folder  count  \\\n0     fuligineum     f1     79   \n1  corcovadensis     f2    124   \n2      regnellii     f3     55   \n3      vicosanum     f4     24   \n4    lhotzkyanum     f5     34   \n\n                                         list_images  \n0  ['ESA031454', 'NY00559090_01', 'MBM084435', 'S...  \n1  ['ESA031454', 'NY00559090_01', 'MBM084435', 'S...  \n2  ['ESA031454', 'NY00559090_01', 'MBM084435', 'S...  \n3  ['ESA031454', 'NY00559090_01', 'MBM084435', 'S...  \n4  ['ESA031454', 'NY00559090_01', 'MBM084435', 'S...  ",
      "text/html": "<div>\n<style scoped>\n    .dataframe tbody tr th:only-of-type {\n        vertical-align: middle;\n    }\n\n    .dataframe tbody tr th {\n        vertical-align: top;\n    }\n\n    .dataframe thead th {\n        text-align: right;\n    }\n</style>\n<table border=\"1\" class=\"dataframe\">\n  <thead>\n    <tr style=\"text-align: right;\">\n      <th></th>\n      <th>species</th>\n      <th>folder</th>\n      <th>count</th>\n      <th>list_images</th>\n    </tr>\n  </thead>\n  <tbody>\n    <tr>\n      <th>0</th>\n      <td>fuligineum</td>\n      <td>f1</td>\n      <td>79</td>\n      <td>['ESA031454', 'NY00559090_01', 'MBM084435', 'S...</td>\n    </tr>\n    <tr>\n      <th>1</th>\n      <td>corcovadensis</td>\n      <td>f2</td>\n      <td>124</td>\n      <td>['ESA031454', 'NY00559090_01', 'MBM084435', 'S...</td>\n    </tr>\n    <tr>\n      <th>2</th>\n      <td>regnellii</td>\n      <td>f3</td>\n      <td>55</td>\n      <td>['ESA031454', 'NY00559090_01', 'MBM084435', 'S...</td>\n    </tr>\n    <tr>\n      <th>3</th>\n      <td>vicosanum</td>\n      <td>f4</td>\n      <td>24</td>\n      <td>['ESA031454', 'NY00559090_01', 'MBM084435', 'S...</td>\n    </tr>\n    <tr>\n      <th>4</th>\n      <td>lhotzkyanum</td>\n      <td>f5</td>\n      <td>34</td>\n      <td>['ESA031454', 'NY00559090_01', 'MBM084435', 'S...</td>\n    </tr>\n  </tbody>\n</table>\n</div>"
     },
     "metadata": {},
     "output_type": "display_data"
    },
    {
     "data": {
      "text/plain": "'color: grayscale image_size: 400 minimum_image: 5 regions: Centro-Oeste'"
     },
     "metadata": {},
     "output_type": "display_data"
    },
    {
     "data": {
      "text/plain": "       species folder  count  \\\n0   fuligineum     f1     77   \n1  campinasana     f2      7   \n2    regnellii     f3     40   \n3      aequale     f4     15   \n4  miquelianum     f5      8   \n\n                                         list_images  \n0  ['NY00679960_01', 'NY00956929_01', 'MBM250545'...  \n1  ['NY00679960_01', 'NY00956929_01', 'MBM250545'...  \n2  ['NY00679960_01', 'NY00956929_01', 'MBM250545'...  \n3  ['NY00679960_01', 'NY00956929_01', 'MBM250545'...  \n4  ['NY00679960_01', 'NY00956929_01', 'MBM250545'...  ",
      "text/html": "<div>\n<style scoped>\n    .dataframe tbody tr th:only-of-type {\n        vertical-align: middle;\n    }\n\n    .dataframe tbody tr th {\n        vertical-align: top;\n    }\n\n    .dataframe thead th {\n        text-align: right;\n    }\n</style>\n<table border=\"1\" class=\"dataframe\">\n  <thead>\n    <tr style=\"text-align: right;\">\n      <th></th>\n      <th>species</th>\n      <th>folder</th>\n      <th>count</th>\n      <th>list_images</th>\n    </tr>\n  </thead>\n  <tbody>\n    <tr>\n      <th>0</th>\n      <td>fuligineum</td>\n      <td>f1</td>\n      <td>77</td>\n      <td>['NY00679960_01', 'NY00956929_01', 'MBM250545'...</td>\n    </tr>\n    <tr>\n      <th>1</th>\n      <td>campinasana</td>\n      <td>f2</td>\n      <td>7</td>\n      <td>['NY00679960_01', 'NY00956929_01', 'MBM250545'...</td>\n    </tr>\n    <tr>\n      <th>2</th>\n      <td>regnellii</td>\n      <td>f3</td>\n      <td>40</td>\n      <td>['NY00679960_01', 'NY00956929_01', 'MBM250545'...</td>\n    </tr>\n    <tr>\n      <th>3</th>\n      <td>aequale</td>\n      <td>f4</td>\n      <td>15</td>\n      <td>['NY00679960_01', 'NY00956929_01', 'MBM250545'...</td>\n    </tr>\n    <tr>\n      <th>4</th>\n      <td>miquelianum</td>\n      <td>f5</td>\n      <td>8</td>\n      <td>['NY00679960_01', 'NY00956929_01', 'MBM250545'...</td>\n    </tr>\n  </tbody>\n</table>\n</div>"
     },
     "metadata": {},
     "output_type": "display_data"
    },
    {
     "data": {
      "text/plain": "'color: grayscale image_size: 400 minimum_image: 10 regions: Centro-Oeste'"
     },
     "metadata": {},
     "output_type": "display_data"
    },
    {
     "data": {
      "text/plain": "         species folder  count  \\\n0     fuligineum     f1     77   \n1      regnellii     f2     40   \n2        aequale     f3     15   \n3  crassinervium     f4     14   \n4    gardneriana     f5     15   \n\n                                         list_images  \n0  ['NY00679960_01', 'NY00956929_01', 'MBM250545'...  \n1  ['NY00679960_01', 'NY00956929_01', 'MBM250545'...  \n2  ['NY00679960_01', 'NY00956929_01', 'MBM250545'...  \n3  ['NY00679960_01', 'NY00956929_01', 'MBM250545'...  \n4  ['NY00679960_01', 'NY00956929_01', 'MBM250545'...  ",
      "text/html": "<div>\n<style scoped>\n    .dataframe tbody tr th:only-of-type {\n        vertical-align: middle;\n    }\n\n    .dataframe tbody tr th {\n        vertical-align: top;\n    }\n\n    .dataframe thead th {\n        text-align: right;\n    }\n</style>\n<table border=\"1\" class=\"dataframe\">\n  <thead>\n    <tr style=\"text-align: right;\">\n      <th></th>\n      <th>species</th>\n      <th>folder</th>\n      <th>count</th>\n      <th>list_images</th>\n    </tr>\n  </thead>\n  <tbody>\n    <tr>\n      <th>0</th>\n      <td>fuligineum</td>\n      <td>f1</td>\n      <td>77</td>\n      <td>['NY00679960_01', 'NY00956929_01', 'MBM250545'...</td>\n    </tr>\n    <tr>\n      <th>1</th>\n      <td>regnellii</td>\n      <td>f2</td>\n      <td>40</td>\n      <td>['NY00679960_01', 'NY00956929_01', 'MBM250545'...</td>\n    </tr>\n    <tr>\n      <th>2</th>\n      <td>aequale</td>\n      <td>f3</td>\n      <td>15</td>\n      <td>['NY00679960_01', 'NY00956929_01', 'MBM250545'...</td>\n    </tr>\n    <tr>\n      <th>3</th>\n      <td>crassinervium</td>\n      <td>f4</td>\n      <td>14</td>\n      <td>['NY00679960_01', 'NY00956929_01', 'MBM250545'...</td>\n    </tr>\n    <tr>\n      <th>4</th>\n      <td>gardneriana</td>\n      <td>f5</td>\n      <td>15</td>\n      <td>['NY00679960_01', 'NY00956929_01', 'MBM250545'...</td>\n    </tr>\n  </tbody>\n</table>\n</div>"
     },
     "metadata": {},
     "output_type": "display_data"
    },
    {
     "data": {
      "text/plain": "'color: grayscale image_size: 400 minimum_image: 20 regions: Centro-Oeste'"
     },
     "metadata": {},
     "output_type": "display_data"
    },
    {
     "data": {
      "text/plain": "      species folder  count                                        list_images\n0  fuligineum     f1     77  ['CEN00036424', 'UEC149671', 'NY00885318_01', ...\n1   regnellii     f2     40  ['CEN00036424', 'UEC149671', 'NY00885318_01', ...\n2    elongata     f3     20  ['CEN00036424', 'UEC149671', 'NY00885318_01', ...\n3    arboreum     f4    203  ['CEN00036424', 'UEC149671', 'NY00885318_01', ...\n4    hispidum     f5     53  ['CEN00036424', 'UEC149671', 'NY00885318_01', ...",
      "text/html": "<div>\n<style scoped>\n    .dataframe tbody tr th:only-of-type {\n        vertical-align: middle;\n    }\n\n    .dataframe tbody tr th {\n        vertical-align: top;\n    }\n\n    .dataframe thead th {\n        text-align: right;\n    }\n</style>\n<table border=\"1\" class=\"dataframe\">\n  <thead>\n    <tr style=\"text-align: right;\">\n      <th></th>\n      <th>species</th>\n      <th>folder</th>\n      <th>count</th>\n      <th>list_images</th>\n    </tr>\n  </thead>\n  <tbody>\n    <tr>\n      <th>0</th>\n      <td>fuligineum</td>\n      <td>f1</td>\n      <td>77</td>\n      <td>['CEN00036424', 'UEC149671', 'NY00885318_01', ...</td>\n    </tr>\n    <tr>\n      <th>1</th>\n      <td>regnellii</td>\n      <td>f2</td>\n      <td>40</td>\n      <td>['CEN00036424', 'UEC149671', 'NY00885318_01', ...</td>\n    </tr>\n    <tr>\n      <th>2</th>\n      <td>elongata</td>\n      <td>f3</td>\n      <td>20</td>\n      <td>['CEN00036424', 'UEC149671', 'NY00885318_01', ...</td>\n    </tr>\n    <tr>\n      <th>3</th>\n      <td>arboreum</td>\n      <td>f4</td>\n      <td>203</td>\n      <td>['CEN00036424', 'UEC149671', 'NY00885318_01', ...</td>\n    </tr>\n    <tr>\n      <th>4</th>\n      <td>hispidum</td>\n      <td>f5</td>\n      <td>53</td>\n      <td>['CEN00036424', 'UEC149671', 'NY00885318_01', ...</td>\n    </tr>\n  </tbody>\n</table>\n</div>"
     },
     "metadata": {},
     "output_type": "display_data"
    },
    {
     "data": {
      "text/plain": "'color: grayscale image_size: 512 minimum_image: 5 regions: Norte'"
     },
     "metadata": {},
     "output_type": "display_data"
    },
    {
     "data": {
      "text/plain": "       species folder  count  \\\n0   piscatorum     f1     10   \n1     obliquum     f2     61   \n2   javariense     f3     11   \n3    coruscans     f4     13   \n4  brasiliense     f5     23   \n\n                                         list_images  \n0  ['INPA0179861', 'INPA0023412', 'NY01421846_01'...  \n1  ['INPA0179861', 'INPA0023412', 'NY01421846_01'...  \n2  ['INPA0179861', 'INPA0023412', 'NY01421846_01'...  \n3  ['INPA0179861', 'INPA0023412', 'NY01421846_01'...  \n4  ['INPA0179861', 'INPA0023412', 'NY01421846_01'...  ",
      "text/html": "<div>\n<style scoped>\n    .dataframe tbody tr th:only-of-type {\n        vertical-align: middle;\n    }\n\n    .dataframe tbody tr th {\n        vertical-align: top;\n    }\n\n    .dataframe thead th {\n        text-align: right;\n    }\n</style>\n<table border=\"1\" class=\"dataframe\">\n  <thead>\n    <tr style=\"text-align: right;\">\n      <th></th>\n      <th>species</th>\n      <th>folder</th>\n      <th>count</th>\n      <th>list_images</th>\n    </tr>\n  </thead>\n  <tbody>\n    <tr>\n      <th>0</th>\n      <td>piscatorum</td>\n      <td>f1</td>\n      <td>10</td>\n      <td>['INPA0179861', 'INPA0023412', 'NY01421846_01'...</td>\n    </tr>\n    <tr>\n      <th>1</th>\n      <td>obliquum</td>\n      <td>f2</td>\n      <td>61</td>\n      <td>['INPA0179861', 'INPA0023412', 'NY01421846_01'...</td>\n    </tr>\n    <tr>\n      <th>2</th>\n      <td>javariense</td>\n      <td>f3</td>\n      <td>11</td>\n      <td>['INPA0179861', 'INPA0023412', 'NY01421846_01'...</td>\n    </tr>\n    <tr>\n      <th>3</th>\n      <td>coruscans</td>\n      <td>f4</td>\n      <td>13</td>\n      <td>['INPA0179861', 'INPA0023412', 'NY01421846_01'...</td>\n    </tr>\n    <tr>\n      <th>4</th>\n      <td>brasiliense</td>\n      <td>f5</td>\n      <td>23</td>\n      <td>['INPA0179861', 'INPA0023412', 'NY01421846_01'...</td>\n    </tr>\n  </tbody>\n</table>\n</div>"
     },
     "metadata": {},
     "output_type": "display_data"
    },
    {
     "data": {
      "text/plain": "'color: grayscale image_size: 512 minimum_image: 10 regions: Norte'"
     },
     "metadata": {},
     "output_type": "display_data"
    },
    {
     "data": {
      "text/plain": "       species folder  count  \\\n0   piscatorum     f1     10   \n1     obliquum     f2     61   \n2   javariense     f3     11   \n3    coruscans     f4     13   \n4  brasiliense     f5     23   \n\n                                         list_images  \n0  ['NY01397567_01', 'IAN011429', 'NY01397566_01'...  \n1  ['NY01397567_01', 'IAN011429', 'NY01397566_01'...  \n2  ['NY01397567_01', 'IAN011429', 'NY01397566_01'...  \n3  ['NY01397567_01', 'IAN011429', 'NY01397566_01'...  \n4  ['NY01397567_01', 'IAN011429', 'NY01397566_01'...  ",
      "text/html": "<div>\n<style scoped>\n    .dataframe tbody tr th:only-of-type {\n        vertical-align: middle;\n    }\n\n    .dataframe tbody tr th {\n        vertical-align: top;\n    }\n\n    .dataframe thead th {\n        text-align: right;\n    }\n</style>\n<table border=\"1\" class=\"dataframe\">\n  <thead>\n    <tr style=\"text-align: right;\">\n      <th></th>\n      <th>species</th>\n      <th>folder</th>\n      <th>count</th>\n      <th>list_images</th>\n    </tr>\n  </thead>\n  <tbody>\n    <tr>\n      <th>0</th>\n      <td>piscatorum</td>\n      <td>f1</td>\n      <td>10</td>\n      <td>['NY01397567_01', 'IAN011429', 'NY01397566_01'...</td>\n    </tr>\n    <tr>\n      <th>1</th>\n      <td>obliquum</td>\n      <td>f2</td>\n      <td>61</td>\n      <td>['NY01397567_01', 'IAN011429', 'NY01397566_01'...</td>\n    </tr>\n    <tr>\n      <th>2</th>\n      <td>javariense</td>\n      <td>f3</td>\n      <td>11</td>\n      <td>['NY01397567_01', 'IAN011429', 'NY01397566_01'...</td>\n    </tr>\n    <tr>\n      <th>3</th>\n      <td>coruscans</td>\n      <td>f4</td>\n      <td>13</td>\n      <td>['NY01397567_01', 'IAN011429', 'NY01397566_01'...</td>\n    </tr>\n    <tr>\n      <th>4</th>\n      <td>brasiliense</td>\n      <td>f5</td>\n      <td>23</td>\n      <td>['NY01397567_01', 'IAN011429', 'NY01397566_01'...</td>\n    </tr>\n  </tbody>\n</table>\n</div>"
     },
     "metadata": {},
     "output_type": "display_data"
    },
    {
     "data": {
      "text/plain": "'color: grayscale image_size: 512 minimum_image: 20 regions: Norte'"
     },
     "metadata": {},
     "output_type": "display_data"
    },
    {
     "data": {
      "text/plain": "       species folder  count  \\\n0     obliquum     f1     61   \n1  brasiliense     f2     23   \n2  alatabaccum     f3     28   \n3      piresii     f4     38   \n4  reticulatum     f5     35   \n\n                                         list_images  \n0  ['NY01397567_01', 'IAN011429', 'NY01397566_01'...  \n1  ['NY01397567_01', 'IAN011429', 'NY01397566_01'...  \n2  ['NY01397567_01', 'IAN011429', 'NY01397566_01'...  \n3  ['NY01397567_01', 'IAN011429', 'NY01397566_01'...  \n4  ['NY01397567_01', 'IAN011429', 'NY01397566_01'...  ",
      "text/html": "<div>\n<style scoped>\n    .dataframe tbody tr th:only-of-type {\n        vertical-align: middle;\n    }\n\n    .dataframe tbody tr th {\n        vertical-align: top;\n    }\n\n    .dataframe thead th {\n        text-align: right;\n    }\n</style>\n<table border=\"1\" class=\"dataframe\">\n  <thead>\n    <tr style=\"text-align: right;\">\n      <th></th>\n      <th>species</th>\n      <th>folder</th>\n      <th>count</th>\n      <th>list_images</th>\n    </tr>\n  </thead>\n  <tbody>\n    <tr>\n      <th>0</th>\n      <td>obliquum</td>\n      <td>f1</td>\n      <td>61</td>\n      <td>['NY01397567_01', 'IAN011429', 'NY01397566_01'...</td>\n    </tr>\n    <tr>\n      <th>1</th>\n      <td>brasiliense</td>\n      <td>f2</td>\n      <td>23</td>\n      <td>['NY01397567_01', 'IAN011429', 'NY01397566_01'...</td>\n    </tr>\n    <tr>\n      <th>2</th>\n      <td>alatabaccum</td>\n      <td>f3</td>\n      <td>28</td>\n      <td>['NY01397567_01', 'IAN011429', 'NY01397566_01'...</td>\n    </tr>\n    <tr>\n      <th>3</th>\n      <td>piresii</td>\n      <td>f4</td>\n      <td>38</td>\n      <td>['NY01397567_01', 'IAN011429', 'NY01397566_01'...</td>\n    </tr>\n    <tr>\n      <th>4</th>\n      <td>reticulatum</td>\n      <td>f5</td>\n      <td>35</td>\n      <td>['NY01397567_01', 'IAN011429', 'NY01397566_01'...</td>\n    </tr>\n  </tbody>\n</table>\n</div>"
     },
     "metadata": {},
     "output_type": "display_data"
    },
    {
     "data": {
      "text/plain": "'color: grayscale image_size: 512 minimum_image: 5 regions: Nordeste'"
     },
     "metadata": {},
     "output_type": "display_data"
    },
    {
     "data": {
      "text/plain": "         species folder  count  \\\n0     fuligineum     f1     13   \n1      oreophila     f2     23   \n2  corcovadensis     f3     27   \n3    campinasana     f4      7   \n4          limai     f5      9   \n\n                                         list_images  \n0  ['MBM116011', 'SPF00164804', 'ALCB002302', 'SP...  \n1  ['MBM116011', 'SPF00164804', 'ALCB002302', 'SP...  \n2  ['MBM116011', 'SPF00164804', 'ALCB002302', 'SP...  \n3  ['MBM116011', 'SPF00164804', 'ALCB002302', 'SP...  \n4  ['MBM116011', 'SPF00164804', 'ALCB002302', 'SP...  ",
      "text/html": "<div>\n<style scoped>\n    .dataframe tbody tr th:only-of-type {\n        vertical-align: middle;\n    }\n\n    .dataframe tbody tr th {\n        vertical-align: top;\n    }\n\n    .dataframe thead th {\n        text-align: right;\n    }\n</style>\n<table border=\"1\" class=\"dataframe\">\n  <thead>\n    <tr style=\"text-align: right;\">\n      <th></th>\n      <th>species</th>\n      <th>folder</th>\n      <th>count</th>\n      <th>list_images</th>\n    </tr>\n  </thead>\n  <tbody>\n    <tr>\n      <th>0</th>\n      <td>fuligineum</td>\n      <td>f1</td>\n      <td>13</td>\n      <td>['MBM116011', 'SPF00164804', 'ALCB002302', 'SP...</td>\n    </tr>\n    <tr>\n      <th>1</th>\n      <td>oreophila</td>\n      <td>f2</td>\n      <td>23</td>\n      <td>['MBM116011', 'SPF00164804', 'ALCB002302', 'SP...</td>\n    </tr>\n    <tr>\n      <th>2</th>\n      <td>corcovadensis</td>\n      <td>f3</td>\n      <td>27</td>\n      <td>['MBM116011', 'SPF00164804', 'ALCB002302', 'SP...</td>\n    </tr>\n    <tr>\n      <th>3</th>\n      <td>campinasana</td>\n      <td>f4</td>\n      <td>7</td>\n      <td>['MBM116011', 'SPF00164804', 'ALCB002302', 'SP...</td>\n    </tr>\n    <tr>\n      <th>4</th>\n      <td>limai</td>\n      <td>f5</td>\n      <td>9</td>\n      <td>['MBM116011', 'SPF00164804', 'ALCB002302', 'SP...</td>\n    </tr>\n  </tbody>\n</table>\n</div>"
     },
     "metadata": {},
     "output_type": "display_data"
    },
    {
     "data": {
      "text/plain": "'color: grayscale image_size: 512 minimum_image: 10 regions: Nordeste'"
     },
     "metadata": {},
     "output_type": "display_data"
    },
    {
     "data": {
      "text/plain": "         species folder  count  \\\n0     fuligineum     f1     13   \n1      oreophila     f2     23   \n2  corcovadensis     f3     27   \n3      vicosanum     f4     12   \n4      sincorana     f5     47   \n\n                                         list_images  \n0  ['MBM116011', 'SPF00164804', 'ALCB002302', 'SP...  \n1  ['MBM116011', 'SPF00164804', 'ALCB002302', 'SP...  \n2  ['MBM116011', 'SPF00164804', 'ALCB002302', 'SP...  \n3  ['MBM116011', 'SPF00164804', 'ALCB002302', 'SP...  \n4  ['MBM116011', 'SPF00164804', 'ALCB002302', 'SP...  ",
      "text/html": "<div>\n<style scoped>\n    .dataframe tbody tr th:only-of-type {\n        vertical-align: middle;\n    }\n\n    .dataframe tbody tr th {\n        vertical-align: top;\n    }\n\n    .dataframe thead th {\n        text-align: right;\n    }\n</style>\n<table border=\"1\" class=\"dataframe\">\n  <thead>\n    <tr style=\"text-align: right;\">\n      <th></th>\n      <th>species</th>\n      <th>folder</th>\n      <th>count</th>\n      <th>list_images</th>\n    </tr>\n  </thead>\n  <tbody>\n    <tr>\n      <th>0</th>\n      <td>fuligineum</td>\n      <td>f1</td>\n      <td>13</td>\n      <td>['MBM116011', 'SPF00164804', 'ALCB002302', 'SP...</td>\n    </tr>\n    <tr>\n      <th>1</th>\n      <td>oreophila</td>\n      <td>f2</td>\n      <td>23</td>\n      <td>['MBM116011', 'SPF00164804', 'ALCB002302', 'SP...</td>\n    </tr>\n    <tr>\n      <th>2</th>\n      <td>corcovadensis</td>\n      <td>f3</td>\n      <td>27</td>\n      <td>['MBM116011', 'SPF00164804', 'ALCB002302', 'SP...</td>\n    </tr>\n    <tr>\n      <th>3</th>\n      <td>vicosanum</td>\n      <td>f4</td>\n      <td>12</td>\n      <td>['MBM116011', 'SPF00164804', 'ALCB002302', 'SP...</td>\n    </tr>\n    <tr>\n      <th>4</th>\n      <td>sincorana</td>\n      <td>f5</td>\n      <td>47</td>\n      <td>['MBM116011', 'SPF00164804', 'ALCB002302', 'SP...</td>\n    </tr>\n  </tbody>\n</table>\n</div>"
     },
     "metadata": {},
     "output_type": "display_data"
    },
    {
     "data": {
      "text/plain": "'color: grayscale image_size: 512 minimum_image: 20 regions: Nordeste'"
     },
     "metadata": {},
     "output_type": "display_data"
    },
    {
     "data": {
      "text/plain": "         species folder  count  \\\n0      oreophila     f1     23   \n1  corcovadensis     f2     27   \n2      sincorana     f3     47   \n3    tetraphylla     f4     58   \n4  magnoliifolia     f5     21   \n\n                                         list_images  \n0  ['SPF00048717', 'SPF00082803', 'NY00555600_01'...  \n1  ['SPF00048717', 'SPF00082803', 'NY00555600_01'...  \n2  ['SPF00048717', 'SPF00082803', 'NY00555600_01'...  \n3  ['SPF00048717', 'SPF00082803', 'NY00555600_01'...  \n4  ['SPF00048717', 'SPF00082803', 'NY00555600_01'...  ",
      "text/html": "<div>\n<style scoped>\n    .dataframe tbody tr th:only-of-type {\n        vertical-align: middle;\n    }\n\n    .dataframe tbody tr th {\n        vertical-align: top;\n    }\n\n    .dataframe thead th {\n        text-align: right;\n    }\n</style>\n<table border=\"1\" class=\"dataframe\">\n  <thead>\n    <tr style=\"text-align: right;\">\n      <th></th>\n      <th>species</th>\n      <th>folder</th>\n      <th>count</th>\n      <th>list_images</th>\n    </tr>\n  </thead>\n  <tbody>\n    <tr>\n      <th>0</th>\n      <td>oreophila</td>\n      <td>f1</td>\n      <td>23</td>\n      <td>['SPF00048717', 'SPF00082803', 'NY00555600_01'...</td>\n    </tr>\n    <tr>\n      <th>1</th>\n      <td>corcovadensis</td>\n      <td>f2</td>\n      <td>27</td>\n      <td>['SPF00048717', 'SPF00082803', 'NY00555600_01'...</td>\n    </tr>\n    <tr>\n      <th>2</th>\n      <td>sincorana</td>\n      <td>f3</td>\n      <td>47</td>\n      <td>['SPF00048717', 'SPF00082803', 'NY00555600_01'...</td>\n    </tr>\n    <tr>\n      <th>3</th>\n      <td>tetraphylla</td>\n      <td>f4</td>\n      <td>58</td>\n      <td>['SPF00048717', 'SPF00082803', 'NY00555600_01'...</td>\n    </tr>\n    <tr>\n      <th>4</th>\n      <td>magnoliifolia</td>\n      <td>f5</td>\n      <td>21</td>\n      <td>['SPF00048717', 'SPF00082803', 'NY00555600_01'...</td>\n    </tr>\n  </tbody>\n</table>\n</div>"
     },
     "metadata": {},
     "output_type": "display_data"
    },
    {
     "data": {
      "text/plain": "'color: grayscale image_size: 512 minimum_image: 5 regions: Sul'"
     },
     "metadata": {},
     "output_type": "display_data"
    },
    {
     "data": {
      "text/plain": "         species folder  count  \\\n0       glaziovi     f1      5   \n1     fuligineum     f2      5   \n2  corcovadensis     f3    168   \n3      regnellii     f4     24   \n4     mikanianum     f5     72   \n\n                                         list_images  \n0  ['MBM037883', 'NY00559096_01', 'MBM045085', 'M...  \n1  ['MBM037883', 'NY00559096_01', 'MBM045085', 'M...  \n2  ['MBM037883', 'NY00559096_01', 'MBM045085', 'M...  \n3  ['MBM037883', 'NY00559096_01', 'MBM045085', 'M...  \n4  ['MBM037883', 'NY00559096_01', 'MBM045085', 'M...  ",
      "text/html": "<div>\n<style scoped>\n    .dataframe tbody tr th:only-of-type {\n        vertical-align: middle;\n    }\n\n    .dataframe tbody tr th {\n        vertical-align: top;\n    }\n\n    .dataframe thead th {\n        text-align: right;\n    }\n</style>\n<table border=\"1\" class=\"dataframe\">\n  <thead>\n    <tr style=\"text-align: right;\">\n      <th></th>\n      <th>species</th>\n      <th>folder</th>\n      <th>count</th>\n      <th>list_images</th>\n    </tr>\n  </thead>\n  <tbody>\n    <tr>\n      <th>0</th>\n      <td>glaziovi</td>\n      <td>f1</td>\n      <td>5</td>\n      <td>['MBM037883', 'NY00559096_01', 'MBM045085', 'M...</td>\n    </tr>\n    <tr>\n      <th>1</th>\n      <td>fuligineum</td>\n      <td>f2</td>\n      <td>5</td>\n      <td>['MBM037883', 'NY00559096_01', 'MBM045085', 'M...</td>\n    </tr>\n    <tr>\n      <th>2</th>\n      <td>corcovadensis</td>\n      <td>f3</td>\n      <td>168</td>\n      <td>['MBM037883', 'NY00559096_01', 'MBM045085', 'M...</td>\n    </tr>\n    <tr>\n      <th>3</th>\n      <td>regnellii</td>\n      <td>f4</td>\n      <td>24</td>\n      <td>['MBM037883', 'NY00559096_01', 'MBM045085', 'M...</td>\n    </tr>\n    <tr>\n      <th>4</th>\n      <td>mikanianum</td>\n      <td>f5</td>\n      <td>72</td>\n      <td>['MBM037883', 'NY00559096_01', 'MBM045085', 'M...</td>\n    </tr>\n  </tbody>\n</table>\n</div>"
     },
     "metadata": {},
     "output_type": "display_data"
    },
    {
     "data": {
      "text/plain": "'color: grayscale image_size: 512 minimum_image: 10 regions: Sul'"
     },
     "metadata": {},
     "output_type": "display_data"
    },
    {
     "data": {
      "text/plain": "         species folder  count  \\\n0  corcovadensis     f1    168   \n1      regnellii     f2     24   \n2     mikanianum     f3     72   \n3        reitzii     f4     20   \n4    miquelianum     f5    141   \n\n                                         list_images  \n0  ['MBM037883', 'NY00559096_01', 'MBM045085', 'M...  \n1  ['MBM037883', 'NY00559096_01', 'MBM045085', 'M...  \n2  ['MBM037883', 'NY00559096_01', 'MBM045085', 'M...  \n3  ['MBM037883', 'NY00559096_01', 'MBM045085', 'M...  \n4  ['MBM037883', 'NY00559096_01', 'MBM045085', 'M...  ",
      "text/html": "<div>\n<style scoped>\n    .dataframe tbody tr th:only-of-type {\n        vertical-align: middle;\n    }\n\n    .dataframe tbody tr th {\n        vertical-align: top;\n    }\n\n    .dataframe thead th {\n        text-align: right;\n    }\n</style>\n<table border=\"1\" class=\"dataframe\">\n  <thead>\n    <tr style=\"text-align: right;\">\n      <th></th>\n      <th>species</th>\n      <th>folder</th>\n      <th>count</th>\n      <th>list_images</th>\n    </tr>\n  </thead>\n  <tbody>\n    <tr>\n      <th>0</th>\n      <td>corcovadensis</td>\n      <td>f1</td>\n      <td>168</td>\n      <td>['MBM037883', 'NY00559096_01', 'MBM045085', 'M...</td>\n    </tr>\n    <tr>\n      <th>1</th>\n      <td>regnellii</td>\n      <td>f2</td>\n      <td>24</td>\n      <td>['MBM037883', 'NY00559096_01', 'MBM045085', 'M...</td>\n    </tr>\n    <tr>\n      <th>2</th>\n      <td>mikanianum</td>\n      <td>f3</td>\n      <td>72</td>\n      <td>['MBM037883', 'NY00559096_01', 'MBM045085', 'M...</td>\n    </tr>\n    <tr>\n      <th>3</th>\n      <td>reitzii</td>\n      <td>f4</td>\n      <td>20</td>\n      <td>['MBM037883', 'NY00559096_01', 'MBM045085', 'M...</td>\n    </tr>\n    <tr>\n      <th>4</th>\n      <td>miquelianum</td>\n      <td>f5</td>\n      <td>141</td>\n      <td>['MBM037883', 'NY00559096_01', 'MBM045085', 'M...</td>\n    </tr>\n  </tbody>\n</table>\n</div>"
     },
     "metadata": {},
     "output_type": "display_data"
    },
    {
     "data": {
      "text/plain": "'color: grayscale image_size: 512 minimum_image: 20 regions: Sul'"
     },
     "metadata": {},
     "output_type": "display_data"
    },
    {
     "data": {
      "text/plain": "         species folder  count  \\\n0  corcovadensis     f1    168   \n1      regnellii     f2     24   \n2     mikanianum     f3     72   \n3        reitzii     f4     20   \n4    miquelianum     f5    141   \n\n                                         list_images  \n0  ['MBM089701', 'MBM089707', 'CEN00047117', 'FUR...  \n1  ['MBM089701', 'MBM089707', 'CEN00047117', 'FUR...  \n2  ['MBM089701', 'MBM089707', 'CEN00047117', 'FUR...  \n3  ['MBM089701', 'MBM089707', 'CEN00047117', 'FUR...  \n4  ['MBM089701', 'MBM089707', 'CEN00047117', 'FUR...  ",
      "text/html": "<div>\n<style scoped>\n    .dataframe tbody tr th:only-of-type {\n        vertical-align: middle;\n    }\n\n    .dataframe tbody tr th {\n        vertical-align: top;\n    }\n\n    .dataframe thead th {\n        text-align: right;\n    }\n</style>\n<table border=\"1\" class=\"dataframe\">\n  <thead>\n    <tr style=\"text-align: right;\">\n      <th></th>\n      <th>species</th>\n      <th>folder</th>\n      <th>count</th>\n      <th>list_images</th>\n    </tr>\n  </thead>\n  <tbody>\n    <tr>\n      <th>0</th>\n      <td>corcovadensis</td>\n      <td>f1</td>\n      <td>168</td>\n      <td>['MBM089701', 'MBM089707', 'CEN00047117', 'FUR...</td>\n    </tr>\n    <tr>\n      <th>1</th>\n      <td>regnellii</td>\n      <td>f2</td>\n      <td>24</td>\n      <td>['MBM089701', 'MBM089707', 'CEN00047117', 'FUR...</td>\n    </tr>\n    <tr>\n      <th>2</th>\n      <td>mikanianum</td>\n      <td>f3</td>\n      <td>72</td>\n      <td>['MBM089701', 'MBM089707', 'CEN00047117', 'FUR...</td>\n    </tr>\n    <tr>\n      <th>3</th>\n      <td>reitzii</td>\n      <td>f4</td>\n      <td>20</td>\n      <td>['MBM089701', 'MBM089707', 'CEN00047117', 'FUR...</td>\n    </tr>\n    <tr>\n      <th>4</th>\n      <td>miquelianum</td>\n      <td>f5</td>\n      <td>141</td>\n      <td>['MBM089701', 'MBM089707', 'CEN00047117', 'FUR...</td>\n    </tr>\n  </tbody>\n</table>\n</div>"
     },
     "metadata": {},
     "output_type": "display_data"
    },
    {
     "data": {
      "text/plain": "'color: grayscale image_size: 512 minimum_image: 5 regions: Sudeste'"
     },
     "metadata": {},
     "output_type": "display_data"
    },
    {
     "data": {
      "text/plain": "         species folder  count  \\\n0     fuligineum     f1     79   \n1      oreophila     f2      5   \n2  corcovadensis     f3    124   \n3   psilostachya     f4      7   \n4      regnellii     f5     55   \n\n                                         list_images  \n0  ['MBM084431', 'INPA0124667', 'SP011164', 'NY00...  \n1  ['MBM084431', 'INPA0124667', 'SP011164', 'NY00...  \n2  ['MBM084431', 'INPA0124667', 'SP011164', 'NY00...  \n3  ['MBM084431', 'INPA0124667', 'SP011164', 'NY00...  \n4  ['MBM084431', 'INPA0124667', 'SP011164', 'NY00...  ",
      "text/html": "<div>\n<style scoped>\n    .dataframe tbody tr th:only-of-type {\n        vertical-align: middle;\n    }\n\n    .dataframe tbody tr th {\n        vertical-align: top;\n    }\n\n    .dataframe thead th {\n        text-align: right;\n    }\n</style>\n<table border=\"1\" class=\"dataframe\">\n  <thead>\n    <tr style=\"text-align: right;\">\n      <th></th>\n      <th>species</th>\n      <th>folder</th>\n      <th>count</th>\n      <th>list_images</th>\n    </tr>\n  </thead>\n  <tbody>\n    <tr>\n      <th>0</th>\n      <td>fuligineum</td>\n      <td>f1</td>\n      <td>79</td>\n      <td>['MBM084431', 'INPA0124667', 'SP011164', 'NY00...</td>\n    </tr>\n    <tr>\n      <th>1</th>\n      <td>oreophila</td>\n      <td>f2</td>\n      <td>5</td>\n      <td>['MBM084431', 'INPA0124667', 'SP011164', 'NY00...</td>\n    </tr>\n    <tr>\n      <th>2</th>\n      <td>corcovadensis</td>\n      <td>f3</td>\n      <td>124</td>\n      <td>['MBM084431', 'INPA0124667', 'SP011164', 'NY00...</td>\n    </tr>\n    <tr>\n      <th>3</th>\n      <td>psilostachya</td>\n      <td>f4</td>\n      <td>7</td>\n      <td>['MBM084431', 'INPA0124667', 'SP011164', 'NY00...</td>\n    </tr>\n    <tr>\n      <th>4</th>\n      <td>regnellii</td>\n      <td>f5</td>\n      <td>55</td>\n      <td>['MBM084431', 'INPA0124667', 'SP011164', 'NY00...</td>\n    </tr>\n  </tbody>\n</table>\n</div>"
     },
     "metadata": {},
     "output_type": "display_data"
    },
    {
     "data": {
      "text/plain": "'color: grayscale image_size: 512 minimum_image: 10 regions: Sudeste'"
     },
     "metadata": {},
     "output_type": "display_data"
    },
    {
     "data": {
      "text/plain": "         species folder  count  \\\n0     fuligineum     f1     79   \n1  corcovadensis     f2    124   \n2      regnellii     f3     55   \n3     mikanianum     f4     18   \n4      vicosanum     f5     24   \n\n                                         list_images  \n0  ['ESA031454', 'NY00559090_01', 'MBM084435', 'S...  \n1  ['ESA031454', 'NY00559090_01', 'MBM084435', 'S...  \n2  ['ESA031454', 'NY00559090_01', 'MBM084435', 'S...  \n3  ['ESA031454', 'NY00559090_01', 'MBM084435', 'S...  \n4  ['ESA031454', 'NY00559090_01', 'MBM084435', 'S...  ",
      "text/html": "<div>\n<style scoped>\n    .dataframe tbody tr th:only-of-type {\n        vertical-align: middle;\n    }\n\n    .dataframe tbody tr th {\n        vertical-align: top;\n    }\n\n    .dataframe thead th {\n        text-align: right;\n    }\n</style>\n<table border=\"1\" class=\"dataframe\">\n  <thead>\n    <tr style=\"text-align: right;\">\n      <th></th>\n      <th>species</th>\n      <th>folder</th>\n      <th>count</th>\n      <th>list_images</th>\n    </tr>\n  </thead>\n  <tbody>\n    <tr>\n      <th>0</th>\n      <td>fuligineum</td>\n      <td>f1</td>\n      <td>79</td>\n      <td>['ESA031454', 'NY00559090_01', 'MBM084435', 'S...</td>\n    </tr>\n    <tr>\n      <th>1</th>\n      <td>corcovadensis</td>\n      <td>f2</td>\n      <td>124</td>\n      <td>['ESA031454', 'NY00559090_01', 'MBM084435', 'S...</td>\n    </tr>\n    <tr>\n      <th>2</th>\n      <td>regnellii</td>\n      <td>f3</td>\n      <td>55</td>\n      <td>['ESA031454', 'NY00559090_01', 'MBM084435', 'S...</td>\n    </tr>\n    <tr>\n      <th>3</th>\n      <td>mikanianum</td>\n      <td>f4</td>\n      <td>18</td>\n      <td>['ESA031454', 'NY00559090_01', 'MBM084435', 'S...</td>\n    </tr>\n    <tr>\n      <th>4</th>\n      <td>vicosanum</td>\n      <td>f5</td>\n      <td>24</td>\n      <td>['ESA031454', 'NY00559090_01', 'MBM084435', 'S...</td>\n    </tr>\n  </tbody>\n</table>\n</div>"
     },
     "metadata": {},
     "output_type": "display_data"
    },
    {
     "data": {
      "text/plain": "'color: grayscale image_size: 512 minimum_image: 20 regions: Sudeste'"
     },
     "metadata": {},
     "output_type": "display_data"
    },
    {
     "data": {
      "text/plain": "         species folder  count  \\\n0     fuligineum     f1     79   \n1  corcovadensis     f2    124   \n2      regnellii     f3     55   \n3      vicosanum     f4     24   \n4    lhotzkyanum     f5     34   \n\n                                         list_images  \n0  ['ESA031454', 'NY00559090_01', 'MBM084435', 'S...  \n1  ['ESA031454', 'NY00559090_01', 'MBM084435', 'S...  \n2  ['ESA031454', 'NY00559090_01', 'MBM084435', 'S...  \n3  ['ESA031454', 'NY00559090_01', 'MBM084435', 'S...  \n4  ['ESA031454', 'NY00559090_01', 'MBM084435', 'S...  ",
      "text/html": "<div>\n<style scoped>\n    .dataframe tbody tr th:only-of-type {\n        vertical-align: middle;\n    }\n\n    .dataframe tbody tr th {\n        vertical-align: top;\n    }\n\n    .dataframe thead th {\n        text-align: right;\n    }\n</style>\n<table border=\"1\" class=\"dataframe\">\n  <thead>\n    <tr style=\"text-align: right;\">\n      <th></th>\n      <th>species</th>\n      <th>folder</th>\n      <th>count</th>\n      <th>list_images</th>\n    </tr>\n  </thead>\n  <tbody>\n    <tr>\n      <th>0</th>\n      <td>fuligineum</td>\n      <td>f1</td>\n      <td>79</td>\n      <td>['ESA031454', 'NY00559090_01', 'MBM084435', 'S...</td>\n    </tr>\n    <tr>\n      <th>1</th>\n      <td>corcovadensis</td>\n      <td>f2</td>\n      <td>124</td>\n      <td>['ESA031454', 'NY00559090_01', 'MBM084435', 'S...</td>\n    </tr>\n    <tr>\n      <th>2</th>\n      <td>regnellii</td>\n      <td>f3</td>\n      <td>55</td>\n      <td>['ESA031454', 'NY00559090_01', 'MBM084435', 'S...</td>\n    </tr>\n    <tr>\n      <th>3</th>\n      <td>vicosanum</td>\n      <td>f4</td>\n      <td>24</td>\n      <td>['ESA031454', 'NY00559090_01', 'MBM084435', 'S...</td>\n    </tr>\n    <tr>\n      <th>4</th>\n      <td>lhotzkyanum</td>\n      <td>f5</td>\n      <td>34</td>\n      <td>['ESA031454', 'NY00559090_01', 'MBM084435', 'S...</td>\n    </tr>\n  </tbody>\n</table>\n</div>"
     },
     "metadata": {},
     "output_type": "display_data"
    },
    {
     "data": {
      "text/plain": "'color: grayscale image_size: 512 minimum_image: 5 regions: Centro-Oeste'"
     },
     "metadata": {},
     "output_type": "display_data"
    },
    {
     "data": {
      "text/plain": "       species folder  count  \\\n0   fuligineum     f1     77   \n1  campinasana     f2      7   \n2    regnellii     f3     40   \n3      aequale     f4     15   \n4  miquelianum     f5      8   \n\n                                         list_images  \n0  ['NY00679960_01', 'NY00956929_01', 'MBM250545'...  \n1  ['NY00679960_01', 'NY00956929_01', 'MBM250545'...  \n2  ['NY00679960_01', 'NY00956929_01', 'MBM250545'...  \n3  ['NY00679960_01', 'NY00956929_01', 'MBM250545'...  \n4  ['NY00679960_01', 'NY00956929_01', 'MBM250545'...  ",
      "text/html": "<div>\n<style scoped>\n    .dataframe tbody tr th:only-of-type {\n        vertical-align: middle;\n    }\n\n    .dataframe tbody tr th {\n        vertical-align: top;\n    }\n\n    .dataframe thead th {\n        text-align: right;\n    }\n</style>\n<table border=\"1\" class=\"dataframe\">\n  <thead>\n    <tr style=\"text-align: right;\">\n      <th></th>\n      <th>species</th>\n      <th>folder</th>\n      <th>count</th>\n      <th>list_images</th>\n    </tr>\n  </thead>\n  <tbody>\n    <tr>\n      <th>0</th>\n      <td>fuligineum</td>\n      <td>f1</td>\n      <td>77</td>\n      <td>['NY00679960_01', 'NY00956929_01', 'MBM250545'...</td>\n    </tr>\n    <tr>\n      <th>1</th>\n      <td>campinasana</td>\n      <td>f2</td>\n      <td>7</td>\n      <td>['NY00679960_01', 'NY00956929_01', 'MBM250545'...</td>\n    </tr>\n    <tr>\n      <th>2</th>\n      <td>regnellii</td>\n      <td>f3</td>\n      <td>40</td>\n      <td>['NY00679960_01', 'NY00956929_01', 'MBM250545'...</td>\n    </tr>\n    <tr>\n      <th>3</th>\n      <td>aequale</td>\n      <td>f4</td>\n      <td>15</td>\n      <td>['NY00679960_01', 'NY00956929_01', 'MBM250545'...</td>\n    </tr>\n    <tr>\n      <th>4</th>\n      <td>miquelianum</td>\n      <td>f5</td>\n      <td>8</td>\n      <td>['NY00679960_01', 'NY00956929_01', 'MBM250545'...</td>\n    </tr>\n  </tbody>\n</table>\n</div>"
     },
     "metadata": {},
     "output_type": "display_data"
    },
    {
     "data": {
      "text/plain": "'color: grayscale image_size: 512 minimum_image: 10 regions: Centro-Oeste'"
     },
     "metadata": {},
     "output_type": "display_data"
    },
    {
     "data": {
      "text/plain": "         species folder  count  \\\n0     fuligineum     f1     77   \n1      regnellii     f2     40   \n2        aequale     f3     15   \n3  crassinervium     f4     14   \n4    gardneriana     f5     15   \n\n                                         list_images  \n0  ['NY00679960_01', 'NY00956929_01', 'MBM250545'...  \n1  ['NY00679960_01', 'NY00956929_01', 'MBM250545'...  \n2  ['NY00679960_01', 'NY00956929_01', 'MBM250545'...  \n3  ['NY00679960_01', 'NY00956929_01', 'MBM250545'...  \n4  ['NY00679960_01', 'NY00956929_01', 'MBM250545'...  ",
      "text/html": "<div>\n<style scoped>\n    .dataframe tbody tr th:only-of-type {\n        vertical-align: middle;\n    }\n\n    .dataframe tbody tr th {\n        vertical-align: top;\n    }\n\n    .dataframe thead th {\n        text-align: right;\n    }\n</style>\n<table border=\"1\" class=\"dataframe\">\n  <thead>\n    <tr style=\"text-align: right;\">\n      <th></th>\n      <th>species</th>\n      <th>folder</th>\n      <th>count</th>\n      <th>list_images</th>\n    </tr>\n  </thead>\n  <tbody>\n    <tr>\n      <th>0</th>\n      <td>fuligineum</td>\n      <td>f1</td>\n      <td>77</td>\n      <td>['NY00679960_01', 'NY00956929_01', 'MBM250545'...</td>\n    </tr>\n    <tr>\n      <th>1</th>\n      <td>regnellii</td>\n      <td>f2</td>\n      <td>40</td>\n      <td>['NY00679960_01', 'NY00956929_01', 'MBM250545'...</td>\n    </tr>\n    <tr>\n      <th>2</th>\n      <td>aequale</td>\n      <td>f3</td>\n      <td>15</td>\n      <td>['NY00679960_01', 'NY00956929_01', 'MBM250545'...</td>\n    </tr>\n    <tr>\n      <th>3</th>\n      <td>crassinervium</td>\n      <td>f4</td>\n      <td>14</td>\n      <td>['NY00679960_01', 'NY00956929_01', 'MBM250545'...</td>\n    </tr>\n    <tr>\n      <th>4</th>\n      <td>gardneriana</td>\n      <td>f5</td>\n      <td>15</td>\n      <td>['NY00679960_01', 'NY00956929_01', 'MBM250545'...</td>\n    </tr>\n  </tbody>\n</table>\n</div>"
     },
     "metadata": {},
     "output_type": "display_data"
    },
    {
     "data": {
      "text/plain": "'color: grayscale image_size: 512 minimum_image: 20 regions: Centro-Oeste'"
     },
     "metadata": {},
     "output_type": "display_data"
    },
    {
     "data": {
      "text/plain": "      species folder  count                                        list_images\n0  fuligineum     f1     77  ['CEN00036424', 'UEC149671', 'NY00885318_01', ...\n1   regnellii     f2     40  ['CEN00036424', 'UEC149671', 'NY00885318_01', ...\n2    elongata     f3     20  ['CEN00036424', 'UEC149671', 'NY00885318_01', ...\n3    arboreum     f4    203  ['CEN00036424', 'UEC149671', 'NY00885318_01', ...\n4    hispidum     f5     53  ['CEN00036424', 'UEC149671', 'NY00885318_01', ...",
      "text/html": "<div>\n<style scoped>\n    .dataframe tbody tr th:only-of-type {\n        vertical-align: middle;\n    }\n\n    .dataframe tbody tr th {\n        vertical-align: top;\n    }\n\n    .dataframe thead th {\n        text-align: right;\n    }\n</style>\n<table border=\"1\" class=\"dataframe\">\n  <thead>\n    <tr style=\"text-align: right;\">\n      <th></th>\n      <th>species</th>\n      <th>folder</th>\n      <th>count</th>\n      <th>list_images</th>\n    </tr>\n  </thead>\n  <tbody>\n    <tr>\n      <th>0</th>\n      <td>fuligineum</td>\n      <td>f1</td>\n      <td>77</td>\n      <td>['CEN00036424', 'UEC149671', 'NY00885318_01', ...</td>\n    </tr>\n    <tr>\n      <th>1</th>\n      <td>regnellii</td>\n      <td>f2</td>\n      <td>40</td>\n      <td>['CEN00036424', 'UEC149671', 'NY00885318_01', ...</td>\n    </tr>\n    <tr>\n      <th>2</th>\n      <td>elongata</td>\n      <td>f3</td>\n      <td>20</td>\n      <td>['CEN00036424', 'UEC149671', 'NY00885318_01', ...</td>\n    </tr>\n    <tr>\n      <th>3</th>\n      <td>arboreum</td>\n      <td>f4</td>\n      <td>203</td>\n      <td>['CEN00036424', 'UEC149671', 'NY00885318_01', ...</td>\n    </tr>\n    <tr>\n      <th>4</th>\n      <td>hispidum</td>\n      <td>f5</td>\n      <td>53</td>\n      <td>['CEN00036424', 'UEC149671', 'NY00885318_01', ...</td>\n    </tr>\n  </tbody>\n</table>\n</div>"
     },
     "metadata": {},
     "output_type": "display_data"
    }
   ],
   "source": [
    "list_color = ['RGB', 'grayscale']\n",
    "list_image_size = ['256', '400', '512']\n",
    "list_regions = ['Norte', 'Nordeste', 'Sul', 'Sudeste', 'Centro-Oeste']\n",
    "list_minimum_image = ['5', '10', '20']\n",
    "path_dataset = '/home/xandao/Documentos/dataset_gimp/imagens_regioes/imagens/'\n",
    "\n",
    "for color in list_color:\n",
    "    for image_size in list_image_size:\n",
    "        for region in list_regions:\n",
    "            for minimum_image in list_minimum_image:\n",
    "                p = os.path.join(path_dataset, color, image_size, region, minimum_image)\n",
    "                file_labels = [f for f in pathlib.Path(p).rglob('label2.txt') if f.is_file()]\n",
    "                if len(file_labels) == 1:\n",
    "                    df = pd.read_csv(file_labels[0], header=None, sep=';', names=['species', 'folder', 'count'])\n",
    "                    display('color: %s image_size: %s minimum_image: %s regions: %s' % (color, image_size, minimum_image, region))\n",
    "                    for folder_name in df['folder']:\n",
    "                        df['list_images'] = str([str(image.stem) for image in pathlib.Path(os.path.join(p, folder_name)).rglob('*.jpeg') if image.is_file()])\n",
    "                    display(df.head(5))\n",
    "                    filename = '%s_%s_%s_%s.csv' % (color, image_size, region, minimum_image)\n",
    "                    filename = os.path.join('csv', 'region', filename)\n",
    "                    df.to_csv(filename, sep=';', header=None, index=None, lineterminator='\\n')"
   ],
   "metadata": {
    "collapsed": false
   }
  }
 ],
 "metadata": {
  "kernelspec": {
   "display_name": "base",
   "language": "python",
   "name": "python3"
  },
  "language_info": {
   "codemirror_mode": {
    "name": "ipython",
    "version": 3
   },
   "file_extension": ".py",
   "mimetype": "text/x-python",
   "name": "python",
   "nbconvert_exporter": "python",
   "pygments_lexer": "ipython3",
   "version": "3.9.12"
  },
  "vscode": {
   "interpreter": {
    "hash": "53ce972a288a646521e393254486dd3d4e40ae124f0f9a66da52dff344d61cdc"
   }
  }
 },
 "nbformat": 4,
 "nbformat_minor": 1
}
