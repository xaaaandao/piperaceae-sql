{
 "cells": [
  {
   "cell_type": "code",
   "execution_count": 2,
   "metadata": {},
   "outputs": [],
   "source": [
    "%reload_ext autoreload\n",
    "%autoreload 2\n",
    "\n",
    "from api import *\n",
    "from dataframe import *\n",
    "from database import *\n",
    "from tables import *"
   ]
  },
  {
   "cell_type": "markdown",
   "metadata": {},
   "source": [
    "# Database connection"
   ]
  },
  {
   "cell_type": "code",
   "execution_count": 3,
   "metadata": {},
   "outputs": [
    {
     "name": "stdout",
     "output_type": "stream",
     "text": [
      "2022-11-21 20:56:34,492 INFO sqlalchemy.engine.Engine select pg_catalog.version()\n",
      "2022-11-21 20:56:34,492 INFO sqlalchemy.engine.Engine [raw sql] {}\n",
      "2022-11-21 20:56:34,494 INFO sqlalchemy.engine.Engine select current_schema()\n",
      "2022-11-21 20:56:34,494 INFO sqlalchemy.engine.Engine [raw sql] {}\n",
      "2022-11-21 20:56:34,495 INFO sqlalchemy.engine.Engine show standard_conforming_strings\n",
      "2022-11-21 20:56:34,496 INFO sqlalchemy.engine.Engine [raw sql] {}\n"
     ]
    }
   ],
   "source": [
    "engine, session = connect()"
   ]
  },
  {
   "cell_type": "markdown",
   "metadata": {},
   "source": [
    "# Load CSV files"
   ]
  },
  {
   "cell_type": "code",
   "execution_count": 4,
   "metadata": {},
   "outputs": [],
   "source": [
    "original_filename = 'csv/original.csv'\n",
    "george_filename = 'csv/george_data.csv'\n",
    "\n",
    "df = pandas.read_csv(original_filename, sep=';', low_memory=False, skipinitialspace=True)\n",
    "df_george = pandas.read_csv(george_filename, sep=';', low_memory=False, skipinitialspace=True)"
   ]
  },
  {
   "cell_type": "markdown",
   "source": [
    "## Create table County and download e inserted info of API"
   ],
   "metadata": {
    "collapsed": false
   }
  },
  {
   "cell_type": "code",
   "execution_count": 6,
   "metadata": {},
   "outputs": [
    {
     "name": "stdout",
     "output_type": "stream",
     "text": [
      "2022-11-21 20:56:35,221 INFO sqlalchemy.engine.Engine BEGIN (implicit)\n",
      "2022-11-21 20:56:35,224 INFO sqlalchemy.engine.Engine SELECT count(*) AS count_1 \n",
      "FROM (SELECT county.id AS county_id, county.county AS county_county, county.uf AS county_uf, county.uf_name AS county_uf_name \n",
      "FROM county) AS anon_1\n",
      "2022-11-21 20:56:35,225 INFO sqlalchemy.engine.Engine [generated in 0.00079s] {}\n"
     ]
    }
   ],
   "source": [
    "create_table_if_not_exists(engine, County)\n",
    "\n",
    "count_records_in_county = session.query(County).count()\n",
    "\n",
    "if count_records_in_county == 0:\n",
    "    response = get_data_api()\n",
    "    for i, county in enumerate(response.json()):\n",
    "        session.add(create_county(county))\n",
    "        session.commit()"
   ]
  },
  {
   "cell_type": "markdown",
   "source": [
    "## Create table DataSP and insert rows of sheet in db"
   ],
   "metadata": {
    "collapsed": false
   }
  },
  {
   "cell_type": "code",
   "execution_count": 7,
   "outputs": [
    {
     "name": "stdout",
     "output_type": "stream",
     "text": [
      "2022-11-21 20:56:35,251 INFO sqlalchemy.engine.Engine SELECT count(*) AS count_1 \n",
      "FROM (SELECT data.seq AS data_seq, data.modified AS data_modified, data.institution_code AS data_institution_code, data.collection_code AS data_collection_code, data.catalog_number AS data_catalog_number, data.basis_of_record AS data_basis_of_record, data.kingdom AS data_kingdom, data.phylum AS data_phylum, data.classe AS data_classe, data.\"order\" AS data_order, data.family AS data_family, data.genus AS data_genus, data.specific_epithet AS data_specific_epithet, data.infraspecific_epithet AS data_infraspecific_epithet, data.scientific_name AS data_scientific_name, data.scientific_name_authorship AS data_scientific_name_authorship, data.identified_by AS data_identified_by, data.year_identified AS data_year_identified, data.month_identified AS data_month_identified, data.day_identified AS data_day_identified, data.type_status AS data_type_status, data.recorded_by AS data_recorded_by, data.record_number AS data_record_number, data.field_number AS data_field_number, data.year AS data_year, data.month AS data_month, data.day AS data_day, data.event_time AS data_event_time, data.continent_ocean AS data_continent_ocean, data.country AS data_country, data.state_province AS data_state_province, data.county AS data_county, data.locality AS data_locality, data.decimal_longitude AS data_decimal_longitude, data.decimal_latitude AS data_decimal_latitude, data.verbatim_longitude AS data_verbatim_longitude, data.verbatim_latitude AS data_verbatim_latitude, data.coordinate_precision AS data_coordinate_precision, data.bounding_box AS data_bounding_box, data.minimum_elevation_in_meters AS data_minimum_elevation_in_meters, data.maximum_elevation_in_meters AS data_maximum_elevation_in_meters, data.minimum_depth_in_meters AS data_minimum_depth_in_meters, data.maximum_depth_in_meters AS data_maximum_depth_in_meters, data.sex AS data_sex, data.preparation_type AS data_preparation_type, data.individual_count AS data_individual_count, data.previous_catalog_number AS data_previous_catalog_number, data.relationship_type AS data_relationship_type, data.related_catalog_item AS data_related_catalog_item, data.occurrence_remarks AS data_occurrence_remarks, data.barcode AS data_barcode, data.imagecode AS data_imagecode, data.geo_flag AS data_geo_flag, data.george AS data_george, data.my_country AS data_my_country, data.my_state AS data_my_state, data.my_city AS data_my_city, data.index AS data_index, data.index_identified_by AS data_index_identified_by \n",
      "FROM data) AS anon_1\n",
      "2022-11-21 20:56:35,251 INFO sqlalchemy.engine.Engine [generated in 0.00100s] {}\n"
     ]
    }
   ],
   "source": [
    "create_table_if_not_exists(engine, DataTrustedIdentifier)\n",
    "\n",
    "count_records_in_data_sp = session.query(DataSP).count()\n",
    "\n",
    "if count_records_in_data_sp == 0:\n",
    "    rename_header_dataframe(df)\n",
    "    df = preprocess(df)\n",
    "    for row in df.iterrows():\n",
    "        try:\n",
    "            data_sp = create_datasp(row[1])\n",
    "            session.add(data_sp)\n",
    "        except:\n",
    "            session.commit()\n",
    "            session.flush()"
   ],
   "metadata": {
    "collapsed": false
   }
  },
  {
   "cell_type": "markdown",
   "source": [
    "## Adds 'yes' in the George column ('yes' are records marked as reliable by George))"
   ],
   "metadata": {
    "collapsed": false
   }
  },
  {
   "cell_type": "code",
   "execution_count": 8,
   "outputs": [
    {
     "name": "stdout",
     "output_type": "stream",
     "text": [
      "2022-11-21 20:56:35,273 INFO sqlalchemy.engine.Engine SELECT count(*) AS count_1 \n",
      "FROM (SELECT data.seq AS data_seq, data.modified AS data_modified, data.institution_code AS data_institution_code, data.collection_code AS data_collection_code, data.catalog_number AS data_catalog_number, data.basis_of_record AS data_basis_of_record, data.kingdom AS data_kingdom, data.phylum AS data_phylum, data.classe AS data_classe, data.\"order\" AS data_order, data.family AS data_family, data.genus AS data_genus, data.specific_epithet AS data_specific_epithet, data.infraspecific_epithet AS data_infraspecific_epithet, data.scientific_name AS data_scientific_name, data.scientific_name_authorship AS data_scientific_name_authorship, data.identified_by AS data_identified_by, data.year_identified AS data_year_identified, data.month_identified AS data_month_identified, data.day_identified AS data_day_identified, data.type_status AS data_type_status, data.recorded_by AS data_recorded_by, data.record_number AS data_record_number, data.field_number AS data_field_number, data.year AS data_year, data.month AS data_month, data.day AS data_day, data.event_time AS data_event_time, data.continent_ocean AS data_continent_ocean, data.country AS data_country, data.state_province AS data_state_province, data.county AS data_county, data.locality AS data_locality, data.decimal_longitude AS data_decimal_longitude, data.decimal_latitude AS data_decimal_latitude, data.verbatim_longitude AS data_verbatim_longitude, data.verbatim_latitude AS data_verbatim_latitude, data.coordinate_precision AS data_coordinate_precision, data.bounding_box AS data_bounding_box, data.minimum_elevation_in_meters AS data_minimum_elevation_in_meters, data.maximum_elevation_in_meters AS data_maximum_elevation_in_meters, data.minimum_depth_in_meters AS data_minimum_depth_in_meters, data.maximum_depth_in_meters AS data_maximum_depth_in_meters, data.sex AS data_sex, data.preparation_type AS data_preparation_type, data.individual_count AS data_individual_count, data.previous_catalog_number AS data_previous_catalog_number, data.relationship_type AS data_relationship_type, data.related_catalog_item AS data_related_catalog_item, data.occurrence_remarks AS data_occurrence_remarks, data.barcode AS data_barcode, data.imagecode AS data_imagecode, data.geo_flag AS data_geo_flag, data.george AS data_george, data.my_country AS data_my_country, data.my_state AS data_my_state, data.my_city AS data_my_city, data.index AS data_index, data.index_identified_by AS data_index_identified_by \n",
      "FROM data \n",
      "WHERE data.george = true) AS anon_1\n",
      "2022-11-21 20:56:35,274 INFO sqlalchemy.engine.Engine [generated in 0.00076s] {}\n"
     ]
    }
   ],
   "source": [
    "count_records_marked_by_george = session.query(DataSP)\\\n",
    "    .filter(DataSP.george == True)\\\n",
    "    .count()\n",
    "\n",
    "if count_records_marked_by_george == 0:\n",
    "    for row in df_george.iterrows():\n",
    "        get_value_column_george = row[1]['GEORGE']\n",
    "        if get_value_column_george.lower() == 'sim':\n",
    "            session.query(DataSP)\\\n",
    "                .filter(DataSP.seq == row[1]['seq'])\\\n",
    "                .update({'george': True}, synchronize_session=False)"
   ],
   "metadata": {
    "collapsed": false
   }
  },
  {
   "cell_type": "markdown",
   "source": [
    "## Close connection"
   ],
   "metadata": {
    "collapsed": false
   }
  },
  {
   "cell_type": "code",
   "execution_count": null,
   "metadata": {},
   "outputs": [],
   "source": [
    "session.close()\n",
    "engine.dispose()"
   ]
  }
 ],
 "metadata": {
  "kernelspec": {
   "display_name": "Python 3 (ipykernel)",
   "language": "python",
   "name": "python3"
  },
  "language_info": {
   "codemirror_mode": {
    "name": "ipython",
    "version": 3
   },
   "file_extension": ".py",
   "mimetype": "text/x-python",
   "name": "python",
   "nbconvert_exporter": "python",
   "pygments_lexer": "ipython3",
   "version": "3.8.13"
  }
 },
 "nbformat": 4,
 "nbformat_minor": 1
}
