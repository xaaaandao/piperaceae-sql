{
 "cells": [
  {
   "cell_type": "code",
   "execution_count": 2,
   "metadata": {},
   "outputs": [],
   "source": [
    "%reload_ext autoreload\n",
    "%autoreload 2\n",
    "\n",
    "import pandas as pd\n",
    "import shutil\n",
    "import time\n",
    "\n",
    "from api import *\n",
    "from dataframe import *\n",
    "from database import *\n",
    "from file import *\n",
    "from sql import *\n",
    "from tables import *"
   ]
  },
  {
   "cell_type": "markdown",
   "metadata": {},
   "source": [
    "# cfg"
   ]
  },
  {
   "cell_type": "code",
   "execution_count": 3,
   "metadata": {},
   "outputs": [
    {
     "name": "stdout",
     "output_type": "stream",
     "text": [
      "2022-11-21 20:56:34,492 INFO sqlalchemy.engine.Engine select pg_catalog.version()\n",
      "2022-11-21 20:56:34,492 INFO sqlalchemy.engine.Engine [raw sql] {}\n",
      "2022-11-21 20:56:34,494 INFO sqlalchemy.engine.Engine select current_schema()\n",
      "2022-11-21 20:56:34,494 INFO sqlalchemy.engine.Engine [raw sql] {}\n",
      "2022-11-21 20:56:34,495 INFO sqlalchemy.engine.Engine show standard_conforming_strings\n",
      "2022-11-21 20:56:34,496 INFO sqlalchemy.engine.Engine [raw sql] {}\n"
     ]
    }
   ],
   "source": [
    "cfg = {\n",
    "    \"host\": f\"192.168.0.144\",\n",
    "    \"user\": f\"{os.environ['POSTGRE_USER']}\",\n",
    "    \"password\": f\"{os.environ['POSTGRE_PASSWORD']}\",\n",
    "    \"port\": \"5432\",\n",
    "    \"database\": \"herbario\"\n",
    "}\n",
    "filename = \"csv/original.csv\"\n",
    "filename_george = \"csv/dados-george.csv\"\n",
    "\n",
    "engine, session = connect(cfg)"
   ]
  },
  {
   "cell_type": "markdown",
   "metadata": {},
   "source": [
    "# Load data"
   ]
  },
  {
   "cell_type": "code",
   "execution_count": 4,
   "metadata": {},
   "outputs": [],
   "source": [
    "dataframe = pandas.read_csv(\"csv/original.csv\", sep=\";\", low_memory=False, skipinitialspace=True)\n",
    "dataframe_george = pandas.read_csv(filename_george, sep=\";\", low_memory=False, skipinitialspace=True)"
   ]
  },
  {
   "cell_type": "code",
   "execution_count": 5,
   "metadata": {},
   "outputs": [
    {
     "name": "stdout",
     "output_type": "stream",
     "text": [
      "2022-11-21 20:56:35,190 INFO sqlalchemy.engine.Engine select relname from pg_class c join pg_namespace n on n.oid=c.relnamespace where n.nspname=%(schema)s and relname=%(name)s\n",
      "2022-11-21 20:56:35,191 INFO sqlalchemy.engine.Engine [generated in 0.00101s] {'schema': 'herbario', 'name': 'county'}\n",
      "2022-11-21 20:56:35,193 INFO sqlalchemy.engine.Engine BEGIN (implicit)\n",
      "2022-11-21 20:56:35,195 INFO sqlalchemy.engine.Engine select relname from pg_class c join pg_namespace n on n.oid=c.relnamespace where pg_catalog.pg_table_is_visible(c.oid) and relname=%(name)s\n",
      "2022-11-21 20:56:35,195 INFO sqlalchemy.engine.Engine [generated in 0.00087s] {'name': 'data'}\n",
      "2022-11-21 20:56:35,197 INFO sqlalchemy.engine.Engine select relname from pg_class c join pg_namespace n on n.oid=c.relnamespace where pg_catalog.pg_table_is_visible(c.oid) and relname=%(name)s\n",
      "2022-11-21 20:56:35,197 INFO sqlalchemy.engine.Engine [cached since 0.002736s ago] {'name': 'county'}\n",
      "2022-11-21 20:56:35,198 INFO sqlalchemy.engine.Engine COMMIT\n",
      "2022-11-21 20:56:35,200 INFO sqlalchemy.engine.Engine select relname from pg_class c join pg_namespace n on n.oid=c.relnamespace where n.nspname=%(schema)s and relname=%(name)s\n",
      "2022-11-21 20:56:35,200 INFO sqlalchemy.engine.Engine [cached since 0.009895s ago] {'schema': 'herbario', 'name': 'data'}\n",
      "2022-11-21 20:56:35,202 INFO sqlalchemy.engine.Engine BEGIN (implicit)\n",
      "2022-11-21 20:56:35,202 INFO sqlalchemy.engine.Engine select relname from pg_class c join pg_namespace n on n.oid=c.relnamespace where pg_catalog.pg_table_is_visible(c.oid) and relname=%(name)s\n",
      "2022-11-21 20:56:35,203 INFO sqlalchemy.engine.Engine [cached since 0.008214s ago] {'name': 'data'}\n",
      "2022-11-21 20:56:35,204 INFO sqlalchemy.engine.Engine select relname from pg_class c join pg_namespace n on n.oid=c.relnamespace where pg_catalog.pg_table_is_visible(c.oid) and relname=%(name)s\n",
      "2022-11-21 20:56:35,205 INFO sqlalchemy.engine.Engine [cached since 0.01041s ago] {'name': 'county'}\n",
      "2022-11-21 20:56:35,206 INFO sqlalchemy.engine.Engine COMMIT\n"
     ]
    }
   ],
   "source": [
    "create_table_if_not_exists(cfg, engine, \"county\")\n",
    "create_table_if_not_exists(cfg, engine, \"data\")"
   ]
  },
  {
   "cell_type": "code",
   "execution_count": 6,
   "metadata": {},
   "outputs": [
    {
     "name": "stdout",
     "output_type": "stream",
     "text": [
      "2022-11-21 20:56:35,221 INFO sqlalchemy.engine.Engine BEGIN (implicit)\n",
      "2022-11-21 20:56:35,224 INFO sqlalchemy.engine.Engine SELECT count(*) AS count_1 \n",
      "FROM (SELECT county.id AS county_id, county.county AS county_county, county.uf AS county_uf, county.uf_name AS county_uf_name \n",
      "FROM county) AS anon_1\n",
      "2022-11-21 20:56:35,225 INFO sqlalchemy.engine.Engine [generated in 0.00079s] {}\n"
     ]
    }
   ],
   "source": [
    "if session.query(County).count() == 0:\n",
    "    response = get_municipies()\n",
    "    for i, county in enumerate(response.json()):\n",
    "        session.add(create_county(county))\n",
    "        make_operation(session)"
   ]
  },
  {
   "cell_type": "code",
   "execution_count": 7,
   "outputs": [
    {
     "name": "stdout",
     "output_type": "stream",
     "text": [
      "2022-11-21 20:56:35,251 INFO sqlalchemy.engine.Engine SELECT count(*) AS count_1 \n",
      "FROM (SELECT data.seq AS data_seq, data.modified AS data_modified, data.institution_code AS data_institution_code, data.collection_code AS data_collection_code, data.catalog_number AS data_catalog_number, data.basis_of_record AS data_basis_of_record, data.kingdom AS data_kingdom, data.phylum AS data_phylum, data.classe AS data_classe, data.\"order\" AS data_order, data.family AS data_family, data.genus AS data_genus, data.specific_epithet AS data_specific_epithet, data.infraspecific_epithet AS data_infraspecific_epithet, data.scientific_name AS data_scientific_name, data.scientific_name_authorship AS data_scientific_name_authorship, data.identified_by AS data_identified_by, data.year_identified AS data_year_identified, data.month_identified AS data_month_identified, data.day_identified AS data_day_identified, data.type_status AS data_type_status, data.recorded_by AS data_recorded_by, data.record_number AS data_record_number, data.field_number AS data_field_number, data.year AS data_year, data.month AS data_month, data.day AS data_day, data.event_time AS data_event_time, data.continent_ocean AS data_continent_ocean, data.country AS data_country, data.state_province AS data_state_province, data.county AS data_county, data.locality AS data_locality, data.decimal_longitude AS data_decimal_longitude, data.decimal_latitude AS data_decimal_latitude, data.verbatim_longitude AS data_verbatim_longitude, data.verbatim_latitude AS data_verbatim_latitude, data.coordinate_precision AS data_coordinate_precision, data.bounding_box AS data_bounding_box, data.minimum_elevation_in_meters AS data_minimum_elevation_in_meters, data.maximum_elevation_in_meters AS data_maximum_elevation_in_meters, data.minimum_depth_in_meters AS data_minimum_depth_in_meters, data.maximum_depth_in_meters AS data_maximum_depth_in_meters, data.sex AS data_sex, data.preparation_type AS data_preparation_type, data.individual_count AS data_individual_count, data.previous_catalog_number AS data_previous_catalog_number, data.relationship_type AS data_relationship_type, data.related_catalog_item AS data_related_catalog_item, data.occurrence_remarks AS data_occurrence_remarks, data.barcode AS data_barcode, data.imagecode AS data_imagecode, data.geo_flag AS data_geo_flag, data.george AS data_george, data.my_country AS data_my_country, data.my_state AS data_my_state, data.my_city AS data_my_city, data.index AS data_index, data.index_identified_by AS data_index_identified_by \n",
      "FROM data) AS anon_1\n",
      "2022-11-21 20:56:35,251 INFO sqlalchemy.engine.Engine [generated in 0.00100s] {}\n"
     ]
    }
   ],
   "source": [
    "if session.query(DataSP).count() == 0:\n",
    "    change_header(dataframe)\n",
    "    dataframe = preprocess(dataframe)\n",
    "    # dataframe.iloc[24230]\n",
    "    for row in dataframe.iterrows():\n",
    "        session.add(create_datasp(row[1]))\n",
    "        make_operation(session)"
   ],
   "metadata": {
    "collapsed": false
   }
  },
  {
   "cell_type": "code",
   "execution_count": 8,
   "outputs": [
    {
     "name": "stdout",
     "output_type": "stream",
     "text": [
      "2022-11-21 20:56:35,273 INFO sqlalchemy.engine.Engine SELECT count(*) AS count_1 \n",
      "FROM (SELECT data.seq AS data_seq, data.modified AS data_modified, data.institution_code AS data_institution_code, data.collection_code AS data_collection_code, data.catalog_number AS data_catalog_number, data.basis_of_record AS data_basis_of_record, data.kingdom AS data_kingdom, data.phylum AS data_phylum, data.classe AS data_classe, data.\"order\" AS data_order, data.family AS data_family, data.genus AS data_genus, data.specific_epithet AS data_specific_epithet, data.infraspecific_epithet AS data_infraspecific_epithet, data.scientific_name AS data_scientific_name, data.scientific_name_authorship AS data_scientific_name_authorship, data.identified_by AS data_identified_by, data.year_identified AS data_year_identified, data.month_identified AS data_month_identified, data.day_identified AS data_day_identified, data.type_status AS data_type_status, data.recorded_by AS data_recorded_by, data.record_number AS data_record_number, data.field_number AS data_field_number, data.year AS data_year, data.month AS data_month, data.day AS data_day, data.event_time AS data_event_time, data.continent_ocean AS data_continent_ocean, data.country AS data_country, data.state_province AS data_state_province, data.county AS data_county, data.locality AS data_locality, data.decimal_longitude AS data_decimal_longitude, data.decimal_latitude AS data_decimal_latitude, data.verbatim_longitude AS data_verbatim_longitude, data.verbatim_latitude AS data_verbatim_latitude, data.coordinate_precision AS data_coordinate_precision, data.bounding_box AS data_bounding_box, data.minimum_elevation_in_meters AS data_minimum_elevation_in_meters, data.maximum_elevation_in_meters AS data_maximum_elevation_in_meters, data.minimum_depth_in_meters AS data_minimum_depth_in_meters, data.maximum_depth_in_meters AS data_maximum_depth_in_meters, data.sex AS data_sex, data.preparation_type AS data_preparation_type, data.individual_count AS data_individual_count, data.previous_catalog_number AS data_previous_catalog_number, data.relationship_type AS data_relationship_type, data.related_catalog_item AS data_related_catalog_item, data.occurrence_remarks AS data_occurrence_remarks, data.barcode AS data_barcode, data.imagecode AS data_imagecode, data.geo_flag AS data_geo_flag, data.george AS data_george, data.my_country AS data_my_country, data.my_state AS data_my_state, data.my_city AS data_my_city, data.index AS data_index, data.index_identified_by AS data_index_identified_by \n",
      "FROM data \n",
      "WHERE data.george = true) AS anon_1\n",
      "2022-11-21 20:56:35,274 INFO sqlalchemy.engine.Engine [generated in 0.00076s] {}\n"
     ]
    }
   ],
   "source": [
    "if session.query(DataSP).filter(DataSP.george == True).count() == 0:\n",
    "    for row in dataframe_george.iterrows():\n",
    "        if row[1][\"GEORGE\"].lower() == \"sim\":\n",
    "            session.query(DataSP).filter(DataSP.seq == row[1][\"seq\"]).update({\"george\": True}, synchronize_session=False)\n",
    "            make_operation(session)"
   ],
   "metadata": {
    "collapsed": false
   }
  },
  {
   "cell_type": "code",
   "execution_count": 9,
   "outputs": [
    {
     "name": "stdout",
     "output_type": "stream",
     "text": [
      "2022-11-21 20:56:35,309 INFO sqlalchemy.engine.Engine SELECT data.seq AS data_seq, data.modified AS data_modified, data.institution_code AS data_institution_code, data.collection_code AS data_collection_code, data.catalog_number AS data_catalog_number, data.basis_of_record AS data_basis_of_record, data.kingdom AS data_kingdom, data.phylum AS data_phylum, data.classe AS data_classe, data.\"order\" AS data_order, data.family AS data_family, data.genus AS data_genus, data.specific_epithet AS data_specific_epithet, data.infraspecific_epithet AS data_infraspecific_epithet, data.scientific_name AS data_scientific_name, data.scientific_name_authorship AS data_scientific_name_authorship, data.identified_by AS data_identified_by, data.year_identified AS data_year_identified, data.month_identified AS data_month_identified, data.day_identified AS data_day_identified, data.type_status AS data_type_status, data.recorded_by AS data_recorded_by, data.record_number AS data_record_number, data.field_number AS data_field_number, data.year AS data_year, data.month AS data_month, data.day AS data_day, data.event_time AS data_event_time, data.continent_ocean AS data_continent_ocean, data.country AS data_country, data.state_province AS data_state_province, data.county AS data_county, data.locality AS data_locality, data.decimal_longitude AS data_decimal_longitude, data.decimal_latitude AS data_decimal_latitude, data.verbatim_longitude AS data_verbatim_longitude, data.verbatim_latitude AS data_verbatim_latitude, data.coordinate_precision AS data_coordinate_precision, data.bounding_box AS data_bounding_box, data.minimum_elevation_in_meters AS data_minimum_elevation_in_meters, data.maximum_elevation_in_meters AS data_maximum_elevation_in_meters, data.minimum_depth_in_meters AS data_minimum_depth_in_meters, data.maximum_depth_in_meters AS data_maximum_depth_in_meters, data.sex AS data_sex, data.preparation_type AS data_preparation_type, data.individual_count AS data_individual_count, data.previous_catalog_number AS data_previous_catalog_number, data.relationship_type AS data_relationship_type, data.related_catalog_item AS data_related_catalog_item, data.occurrence_remarks AS data_occurrence_remarks, data.barcode AS data_barcode, data.imagecode AS data_imagecode, data.geo_flag AS data_geo_flag, data.george AS data_george, data.my_country AS data_my_country, data.my_state AS data_my_state, data.my_city AS data_my_city, data.index AS data_index, data.index_identified_by AS data_index_identified_by \n",
      "FROM data\n",
      "2022-11-21 20:56:35,310 INFO sqlalchemy.engine.Engine [generated in 0.00082s] {}\n",
      "2022-11-21 20:56:39,853 INFO sqlalchemy.engine.Engine SELECT DISTINCT lower(unaccent(county.uf)) AS lower_1 \n",
      "FROM county\n",
      "2022-11-21 20:56:39,853 INFO sqlalchemy.engine.Engine [no key 0.00067s] {}\n",
      "2022-11-21 20:56:39,860 INFO sqlalchemy.engine.Engine SELECT DISTINCT county.uf_name AS county_uf_name, lower(unaccent(county.uf_name)) AS lower_1 \n",
      "FROM county\n",
      "2022-11-21 20:56:39,861 INFO sqlalchemy.engine.Engine [no key 0.00067s] {}\n",
      "2022-11-21 20:56:39,866 INFO sqlalchemy.engine.Engine SELECT county.county AS county_county, unaccent(county.county) AS unaccent_1 \n",
      "FROM county \n",
      "WHERE county.uf = %(uf_1)s\n",
      "2022-11-21 20:56:39,867 INFO sqlalchemy.engine.Engine [no key 0.00063s] {'uf_1': 'PR'}\n"
     ]
    },
    {
     "name": "stderr",
     "output_type": "stream",
     "text": [
      "/tmp/ipykernel_1248396/3996990519.py:4: SAWarning: Class unaccent will not make use of SQL compilation caching as it does not set the 'inherit_cache' attribute to ``True``.  This can have significant performance implications including some performance degradations in comparison to prior SQLAlchemy versions.  Set this attribute to True if this object can make use of the cache key generated by the superclass.  Alternatively, this attribute may be set to False which will disable this warning. (Background on this error at: https://sqlalche.me/e/14/cprf)\n",
      "  data_uf = session.query(sqlalchemy.func.lower(unaccent(County.uf))).distinct().all()\n"
     ]
    }
   ],
   "source": [
    "from unaccent import unaccent\n",
    "\n",
    "data_piperaceae = session.query(DataSP).all()\n",
    "data_uf = session.query(sqlalchemy.func.lower(unaccent(County.uf))).distinct().all()\n",
    "data_uf_name = session.query(County.uf_name, sqlalchemy.func.lower(unaccent(County.uf_name))).distinct().all()\n",
    "data_county = session.query(County.county, unaccent(County.county)).filter(County.uf==\"PR\").all()"
   ],
   "metadata": {
    "collapsed": false
   }
  },
  {
   "cell_type": "markdown",
   "source": [
    "### create file meta-data imgs george"
   ],
   "metadata": {
    "collapsed": false
   }
  },
  {
   "cell_type": "code",
   "execution_count": 10,
   "outputs": [
    {
     "name": "stdout",
     "output_type": "stream",
     "text": [
      "2022-11-21 20:56:39,884 INFO sqlalchemy.engine.Engine SELECT data.barcode AS data_barcode, data.genus AS data_genus, data.specific_epithet AS data_specific_epithet \n",
      "FROM data \n",
      "WHERE data.george = true\n",
      "2022-11-21 20:56:39,885 INFO sqlalchemy.engine.Engine [generated in 0.00082s] {}\n"
     ]
    }
   ],
   "source": [
    "result = session.query(DataSP.barcode, DataSP.genus, DataSP.specific_epithet).filter(DataSP.george==True).all()\n",
    "\n",
    "columns = ['barcode', 'genus', 'specific_epithet']\n",
    "values = [row for row in result]\n",
    "output = pd.DataFrame(values, columns=columns)\n",
    "output.to_excel('genus-and-specific_epithet-by-image.xlsx', na_rep='', engine='xlsxwriter', index=None)\n",
    "output.to_csv('genus-and-specific_epithet-by-image.csv', na_rep='')"
   ],
   "metadata": {
    "collapsed": false
   }
  },
  {
   "cell_type": "code",
   "execution_count": 12,
   "outputs": [
    {
     "name": "stdout",
     "output_type": "stream",
     "text": [
      "2022-11-21 20:56:48,117 INFO sqlalchemy.engine.Engine UPDATE data SET index=((setweight(to_tsvector(%(to_tsvector_1)s, data.county), %(setweight_1)s) || setweight(to_tsvector(%(to_tsvector_2)s, data.state_province), %(setweight_2)s)) || setweight(to_tsvector(%(to_tsvector_3)s, data.country), %(setweight_3)s))\n",
      "2022-11-21 20:56:48,118 INFO sqlalchemy.engine.Engine [generated in 0.00094s] {'to_tsvector_1': 'portuguese', 'setweight_1': 'A', 'to_tsvector_2': 'portuguese', 'setweight_2': 'B', 'to_tsvector_3': 'portuguese', 'setweight_3': 'C'}\n",
      "2022-11-21 20:56:48,562 INFO sqlalchemy.engine.Engine COMMIT\n",
      "2022-11-21 20:56:48,839 INFO sqlalchemy.engine.Engine BEGIN (implicit)\n",
      "2022-11-21 20:56:48,841 INFO sqlalchemy.engine.Engine SELECT data.seq AS data_seq, ts_rank(data.index, to_tsquery(%(to_tsquery_1)s, %(to_tsquery_2)s)) AS ts_rank_1 \n",
      "FROM data \n",
      "WHERE data.index @@ to_tsquery(%(to_tsquery_1)s, %(to_tsquery_2)s)\n",
      "2022-11-21 20:56:48,841 INFO sqlalchemy.engine.Engine [generated in 0.00063s] {'to_tsquery_1': 'portuguese', 'to_tsquery_2': 'Paraná'}\n"
     ]
    },
    {
     "data": {
      "text/plain": "[(6832, 0.24317084),\n (6847, 0.24317084),\n (7049, 0.24317084),\n (7099, 0.24317084),\n (4, 0.24317084),\n (5, 0.24317084),\n (7368, 0.24317084),\n (7383, 0.24317084),\n (7553, 0.24317084),\n (14, 0.24317084),\n (15, 0.24317084),\n (7649, 0.24317084),\n (7683, 0.24317084),\n (7695, 0.24317084),\n (17, 0.24317084),\n (7705, 0.24317084),\n (7706, 0.24317084),\n (7836, 0.24317084),\n (7852, 0.24317084),\n (7853, 0.24317084),\n (7856, 0.24317084),\n (7854, 0.24317084),\n (7866, 0.24317084),\n (7868, 0.24317084),\n (7869, 0.24317084),\n (7870, 0.24317084),\n (7871, 0.24317084),\n (7872, 0.24317084),\n (7874, 0.24317084),\n (7875, 0.24317084),\n (7876, 0.24317084),\n (7878, 0.24317084),\n (7867, 0.24317084),\n (8527, 0.24317084),\n (7983, 0.24317084),\n (7984, 0.24317084),\n (7985, 0.24317084),\n (7986, 0.24317084),\n (7987, 0.24317084),\n (7988, 0.24317084),\n (7989, 0.24317084),\n (7990, 0.24317084),\n (16, 0.24317084),\n (8077, 0.24317084),\n (8078, 0.24317084),\n (8079, 0.24317084),\n (8080, 0.24317084),\n (8081, 0.24317084),\n (8082, 0.24317084),\n (18, 0.24317084),\n (8162, 0.24317084),\n (8163, 0.24317084),\n (8168, 0.24317084),\n (8170, 0.24317084),\n (8171, 0.24317084),\n (8172, 0.24317084),\n (8173, 0.24317084),\n (19, 0.24317084),\n (8218, 0.24317084),\n (8222, 0.24317084),\n (8237, 0.24317084),\n (8238, 0.24317084),\n (8769, 0.24317084),\n (8293, 0.24317084),\n (8295, 0.24317084),\n (8322, 0.24317084),\n (8367, 0.24317084),\n (8368, 0.24317084),\n (8371, 0.24317084),\n (8372, 0.24317084),\n (8373, 0.24317084),\n (8380, 0.24317084),\n (8381, 0.24317084),\n (8382, 0.24317084),\n (8385, 0.24317084),\n (8386, 0.24317084),\n (8387, 0.24317084),\n (8396, 0.24317084),\n (8397, 0.24317084),\n (8398, 0.24317084),\n (8400, 0.24317084),\n (8406, 0.24317084),\n (8407, 0.24317084),\n (8408, 0.24317084),\n (8409, 0.24317084),\n (8413, 0.24317084),\n (8415, 0.24317084),\n (8423, 0.24317084),\n (8425, 0.24317084),\n (8426, 0.24317084),\n (8427, 0.24317084),\n (8428, 0.24317084),\n (8430, 0.24317084),\n (8431, 0.24317084),\n (8432, 0.24317084),\n (8440, 0.24317084),\n (8442, 0.24317084),\n (8443, 0.24317084),\n (8447, 0.24317084),\n (8453, 0.24317084),\n (8454, 0.24317084),\n (8455, 0.24317084),\n (22, 0.24317084),\n (8465, 0.24317084),\n (8472, 0.24317084),\n (23, 0.24317084),\n (8491, 0.24317084),\n (8493, 0.24317084),\n (8494, 0.24317084),\n (8495, 0.24317084),\n (8497, 0.24317084),\n (8501, 0.24317084),\n (8502, 0.24317084),\n (8503, 0.24317084),\n (20, 0.24317084),\n (8526, 0.24317084),\n (8528, 0.24317084),\n (8529, 0.24317084),\n (8549, 0.24317084),\n (8552, 0.24317084),\n (8565, 0.24317084),\n (8566, 0.24317084),\n (8567, 0.24317084),\n (8687, 0.24317084),\n (8577, 0.24317084),\n (8579, 0.24317084),\n (8580, 0.24317084),\n (8583, 0.24317084),\n (8584, 0.24317084),\n (8593, 0.24317084),\n (8596, 0.24317084),\n (8597, 0.24317084),\n (8602, 0.24317084),\n (8603, 0.24317084),\n (8605, 0.24317084),\n (8606, 0.24317084),\n (8607, 0.24317084),\n (8608, 0.24317084),\n (8609, 0.24317084),\n (8610, 0.24317084),\n (8611, 0.24317084),\n (8625, 0.24317084),\n (8648, 0.24317084),\n (8649, 0.24317084),\n (21, 0.24317084),\n (8662, 0.24317084),\n (8667, 0.24317084),\n (8671, 0.24317084),\n (8672, 0.24317084),\n (8673, 0.24317084),\n (8674, 0.24317084),\n (8675, 0.24317084),\n (8676, 0.24317084),\n (8677, 0.24317084),\n (8679, 0.24317084),\n (8680, 0.24317084),\n (8753, 0.24317084),\n (8754, 0.24317084),\n (8755, 0.24317084),\n (8756, 0.24317084),\n (8760, 0.24317084),\n (8766, 0.24317084),\n (8791, 0.24317084),\n (8817, 0.24317084),\n (8818, 0.24317084),\n (8819, 0.66871977),\n (8857, 0.24317084),\n (8859, 0.24317084),\n (8868, 0.24317084),\n (8869, 0.24317084),\n (8880, 0.24317084),\n (8881, 0.24317084),\n (8882, 0.24317084),\n (8887, 0.24317084),\n (8888, 0.24317084),\n (8893, 0.24317084),\n (8902, 0.24317084),\n (8903, 0.24317084),\n (8904, 0.24317084),\n (8905, 0.24317084),\n (8907, 0.24317084),\n (8908, 0.24317084),\n (8909, 0.24317084),\n (8915, 0.24317084),\n (8938, 0.24317084),\n (8939, 0.24317084),\n (8946, 0.24317084),\n (8947, 0.24317084),\n (8948, 0.24317084),\n (8950, 0.66871977),\n (8952, 0.24317084),\n (8953, 0.24317084),\n (8954, 0.24317084),\n (8956, 0.24317084),\n (8957, 0.24317084),\n (8958, 0.24317084),\n (8959, 0.24317084),\n (8960, 0.24317084),\n (8965, 0.24317084),\n (8966, 0.24317084),\n (8969, 0.24317084),\n (8970, 0.24317084),\n (8971, 0.24317084),\n (8974, 0.24317084),\n (8977, 0.24317084),\n (8978, 0.24317084),\n (8979, 0.24317084),\n (8984, 0.24317084),\n (9002, 0.24317084),\n (9003, 0.24317084),\n (9008, 0.24317084),\n (9010, 0.24317084),\n (9011, 0.24317084),\n (9004, 0.24317084),\n (9057, 0.24317084),\n (9077, 0.24317084),\n (9078, 0.24317084),\n (9080, 0.24317084),\n (9081, 0.24317084),\n (9083, 0.24317084),\n (9085, 0.24317084),\n (25, 0.24317084),\n (9119, 0.24317084),\n (27, 0.24317084),\n (9125, 0.24317084),\n (28, 0.24317084),\n (9137, 0.24317084),\n (9141, 0.24317084),\n (9142, 0.24317084),\n (29, 0.24317084),\n (9159, 0.6079271),\n (30, 0.24317084),\n (32, 0.24317084),\n (9206, 0.24317084),\n (9207, 0.24317084),\n (9208, 0.24317084),\n (9210, 0.66871977),\n (9211, 0.24317084),\n (9215, 0.24317084),\n (9217, 0.24317084),\n (9218, 0.24317084),\n (36, 0.24317084),\n (9849, 0.24317084),\n (37, 0.24317084),\n (9866, 0.24317084),\n (9906, 0.24317084),\n (38, 0.24317084),\n (9947, 0.24317084),\n (39, 0.24317084),\n (40, 0.24317084),\n (10055, 0.24317084),\n (10075, 0.24317084),\n (41, 0.24317084),\n (24, 0.24317084),\n (10111, 0.24317084),\n (26, 0.24317084),\n (42, 0.24317084),\n (44, 0.24317084),\n (10229, 0.24317084),\n (31, 0.24317084),\n (34, 0.24317084),\n (35, 0.24317084),\n (48, 0.24317084),\n (49, 0.24317084),\n (9553, 0.24317084),\n (51, 0.24317084),\n (9959, 0.24317084),\n (9976, 0.24317084),\n (54, 0.24317084),\n (10017, 0.24317084),\n (56, 0.24317084),\n (57, 0.24317084),\n (9714, 0.24317084),\n (58, 0.24317084),\n (9673, 0.24317084),\n (9674, 0.24317084),\n (9671, 0.24317084),\n (9675, 0.24317084),\n (9670, 0.24317084),\n (9676, 0.24317084),\n (9681, 0.24317084),\n (9682, 0.24317084),\n (9683, 0.24317084),\n (9684, 0.24317084),\n (9685, 0.24317084),\n (9686, 0.24317084),\n (9687, 0.24317084),\n (9688, 0.24317084),\n (9689, 0.24317084),\n (9690, 0.24317084),\n (9691, 0.24317084),\n (9679, 0.24317084),\n (9692, 0.24317084),\n (60, 0.24317084),\n (9680, 0.24317084),\n (9694, 0.24317084),\n (9697, 0.24317084),\n (9699, 0.24317084),\n (9700, 0.24317084),\n (9701, 0.24317084),\n (9702, 0.24317084),\n (9703, 0.24317084),\n (9704, 0.24317084),\n (9705, 0.24317084),\n (9707, 0.24317084),\n (9708, 0.24317084),\n (9711, 0.24317084),\n (9712, 0.24317084),\n (10131, 0.24317084),\n (61, 0.24317084),\n (62, 0.24317084),\n (9696, 0.24317084),\n (9695, 0.24317084),\n (9710, 0.24317084),\n (9698, 0.24317084),\n (9706, 0.24317084),\n (9713, 0.24317084),\n (9719, 0.24317084),\n (9720, 0.24317084),\n (9721, 0.24317084),\n (9722, 0.24317084),\n (9723, 0.24317084),\n (9724, 0.24317084),\n (9732, 0.24317084),\n (63, 0.24317084),\n (9728, 0.24317084),\n (9731, 0.24317084),\n (9730, 0.24317084),\n (9729, 0.24317084),\n (9727, 0.24317084),\n (9726, 0.24317084),\n (9725, 0.24317084),\n (9718, 0.24317084),\n (9717, 0.24317084),\n (9716, 0.24317084),\n (9715, 0.24317084),\n (9733, 0.24317084),\n (9735, 0.24317084),\n (9736, 0.24317084),\n (9737, 0.24317084),\n (9738, 0.24317084),\n (9739, 0.24317084),\n (9740, 0.24317084),\n (9741, 0.24317084),\n (9742, 0.24317084),\n (9744, 0.24317084),\n (9745, 0.24317084),\n (9747, 0.24317084),\n (9748, 0.24317084),\n (9750, 0.24317084),\n (9751, 0.24317084),\n (9752, 0.24317084),\n (9755, 0.24317084),\n (43, 0.24317084),\n (9753, 0.24317084),\n (9743, 0.24317084),\n (9749, 0.24317084),\n (9754, 0.24317084),\n (9770, 0.24317084),\n (9774, 0.24317084),\n (9768, 0.24317084),\n (9767, 0.24317084),\n (9762, 0.24317084),\n (9772, 0.24317084),\n (9775, 0.24317084),\n (9771, 0.24317084),\n (9769, 0.24317084),\n (9766, 0.24317084),\n (9764, 0.24317084),\n (9763, 0.24317084),\n (9761, 0.24317084),\n (66, 0.24317084),\n (9760, 0.24317084),\n (9759, 0.24317084),\n (9758, 0.24317084),\n (9757, 0.24317084),\n (9756, 0.24317084),\n (9773, 0.24317084),\n (9765, 0.24317084),\n (9786, 0.24317084),\n (9787, 0.24317084),\n (9788, 0.24317084),\n (45, 0.24317084),\n (9789, 0.24317084),\n (9790, 0.24317084),\n (9791, 0.24317084),\n (9792, 0.24317084),\n (9793, 0.24317084),\n (9794, 0.24317084),\n (68, 0.24317084),\n (9795, 0.24317084),\n (9796, 0.24317084),\n (9797, 0.24317084),\n (9783, 0.24317084),\n (9781, 0.24317084),\n (9778, 0.24317084),\n (9779, 0.24317084),\n (9784, 0.24317084),\n (9780, 0.24317084),\n (9798, 0.24317084),\n (9799, 0.24317084),\n (9801, 0.24317084),\n (9802, 0.24317084),\n (69, 0.24317084),\n (70, 0.24317084),\n (9803, 0.24317084),\n (9804, 0.24317084),\n (9805, 0.24317084),\n (9806, 0.24317084),\n (9807, 0.24317084),\n (9810, 0.24317084),\n (9811, 0.24317084),\n (46, 0.24317084),\n (47, 0.24317084),\n (9814, 0.24317084),\n (9809, 0.24317084),\n (9808, 0.24317084),\n (9800, 0.24317084),\n (9812, 0.24317084),\n (9815, 0.24317084),\n (71, 0.24317084),\n (9813, 0.24317084),\n (9876, 0.24317084),\n (9819, 0.24317084),\n (9820, 0.24317084),\n (9829, 0.24317084),\n (9830, 0.24317084),\n (9831, 0.24317084),\n (9835, 0.24317084),\n (9836, 0.24317084),\n (9817, 0.24317084),\n (9833, 0.24317084),\n (9821, 0.24317084),\n (9828, 0.24317084),\n (9826, 0.24317084),\n (72, 0.24317084),\n (9823, 0.24317084),\n (9827, 0.24317084),\n (9834, 0.24317084),\n (9825, 0.24317084),\n (9822, 0.24317084),\n (9818, 0.24317084),\n (9832, 0.24317084),\n (9850, 0.24317084),\n (9852, 0.24317084),\n (9855, 0.24317084),\n (9837, 0.24317084),\n (9851, 0.24317084),\n (9854, 0.24317084),\n (9853, 0.24317084),\n (73, 0.24317084),\n (74, 0.24317084),\n (9848, 0.24317084),\n (9847, 0.24317084),\n (50, 0.24317084),\n (9846, 0.24317084),\n (9845, 0.24317084),\n (9842, 0.24317084),\n (9841, 0.24317084),\n (9840, 0.24317084),\n (9839, 0.24317084),\n (9838, 0.24317084),\n (9856, 0.24317084),\n (9858, 0.24317084),\n (9859, 0.24317084),\n (75, 0.24317084),\n (9860, 0.24317084),\n (9862, 0.24317084),\n (9870, 0.24317084),\n (9871, 0.24317084),\n (9873, 0.24317084),\n (52, 0.24317084),\n (9874, 0.24317084),\n (9875, 0.24317084),\n (9861, 0.24317084),\n (9867, 0.24317084),\n (9863, 0.24317084),\n (9865, 0.24317084),\n (9868, 0.24317084),\n (9864, 0.24317084),\n (76, 0.24317084),\n (9869, 0.24317084),\n (9878, 0.24317084),\n (9879, 0.24317084),\n (9880, 0.24317084),\n (53, 0.24317084),\n (9881, 0.24317084),\n (9882, 0.24317084),\n (9886, 0.24317084),\n (9887, 0.24317084),\n (9892, 0.24317084),\n (9893, 0.24317084),\n (9894, 0.24317084),\n (9889, 0.24317084),\n (9888, 0.24317084),\n (9884, 0.24317084),\n (9891, 0.24317084),\n (9877, 0.24317084),\n (9885, 0.24317084),\n (10330, 0.24317084),\n (10397, 0.24317084),\n (9897, 0.24317084),\n (9898, 0.24317084),\n (9899, 0.24317084),\n (9900, 0.24317084),\n (9901, 0.24317084),\n (9905, 0.24317084),\n (9907, 0.24317084),\n (9908, 0.24317084),\n (9909, 0.24317084),\n (9910, 0.24317084),\n (9904, 0.24317084),\n (9912, 0.24317084),\n (9903, 0.24317084),\n (9896, 0.24317084),\n (9911, 0.24317084),\n (9902, 0.24317084),\n (9920, 0.24317084),\n (9930, 0.24317084),\n (9914, 0.24317084),\n (9929, 0.24317084),\n (9928, 0.24317084),\n (9927, 0.24317084),\n (9926, 0.24317084),\n (9925, 0.24317084),\n (9924, 0.24317084),\n (9923, 0.24317084),\n (55, 0.24317084),\n (9922, 0.24317084),\n (9919, 0.24317084),\n (9918, 0.24317084),\n (9917, 0.24317084),\n (9916, 0.24317084),\n (9932, 0.24317084),\n (9931, 0.24317084),\n (9933, 0.24317084),\n (9950, 0.24317084),\n (9952, 0.24317084),\n (9948, 0.24317084),\n (9946, 0.24317084),\n (9945, 0.24317084),\n (9944, 0.24317084),\n (9943, 0.24317084),\n (9942, 0.24317084),\n (9941, 0.24317084),\n (9940, 0.24317084),\n (9939, 0.24317084),\n (9938, 0.24317084),\n (9937, 0.24317084),\n (9936, 0.24317084),\n (9935, 0.24317084),\n (9934, 0.24317084),\n (9953, 0.24317084),\n (9951, 0.24317084),\n (9964, 0.24317084),\n (9966, 0.24317084),\n (9967, 0.24317084),\n (9969, 0.24317084),\n (9965, 0.24317084),\n (9963, 0.24317084),\n (9961, 0.24317084),\n (9960, 0.24317084),\n (9957, 0.24317084),\n (9956, 0.24317084),\n (9955, 0.24317084),\n (9970, 0.24317084),\n (9968, 0.24317084),\n (9954, 0.24317084),\n (9974, 0.24317084),\n (9958, 0.24317084),\n (9973, 0.24317084),\n (9972, 0.24317084),\n (9971, 0.24317084),\n (9975, 0.24317084),\n (9978, 0.24317084),\n (9981, 0.24317084),\n (9988, 0.24317084),\n (9989, 0.24317084),\n (9991, 0.24317084),\n (10036, 0.24317084),\n (9979, 0.24317084),\n (9993, 0.24317084),\n (9980, 0.24317084),\n (9992, 0.24317084),\n (9990, 0.24317084),\n (9987, 0.24317084),\n (9986, 0.24317084),\n (9985, 0.24317084),\n (59, 0.24317084),\n (9984, 0.24317084),\n (9983, 0.24317084),\n (9977, 0.24317084),\n (9994, 0.24317084),\n (9999, 0.24317084),\n (10000, 0.24317084),\n (10003, 0.24317084),\n (10005, 0.24317084),\n (10014, 0.24317084),\n (10001, 0.24317084),\n (9998, 0.24317084),\n (10012, 0.24317084),\n (10002, 0.24317084),\n (10011, 0.24317084),\n (10010, 0.24317084),\n (10009, 0.24317084),\n (10007, 0.24317084),\n (10004, 0.24317084),\n (9996, 0.24317084),\n (9995, 0.24317084),\n (10013, 0.24317084),\n (10006, 0.24317084),\n (10019, 0.24317084),\n (10022, 0.24317084),\n (10023, 0.24317084),\n (10025, 0.24317084),\n (10028, 0.24317084),\n (10029, 0.24317084),\n (10030, 0.24317084),\n (10034, 0.24317084),\n (10035, 0.24317084),\n (10032, 0.24317084),\n (10015, 0.24317084),\n (10027, 0.24317084),\n (10026, 0.24317084),\n (10024, 0.24317084),\n (10021, 0.24317084),\n (10020, 0.24317084),\n (10033, 0.24317084),\n (10016, 0.24317084),\n (10040, 0.24317084),\n (10041, 0.24317084),\n (10043, 0.24317084),\n (10044, 0.24317084),\n (10046, 0.24317084),\n (10047, 0.24317084),\n (10048, 0.24317084),\n (10049, 0.24317084),\n (10050, 0.24317084),\n (10052, 0.24317084),\n (10037, 0.24317084),\n (10039, 0.24317084),\n (10045, 0.24317084),\n (10038, 0.24317084),\n (10042, 0.24317084),\n (10053, 0.24317084),\n (64, 0.24317084),\n (10056, 0.24317084),\n (10062, 0.24317084),\n (10063, 0.24317084),\n (10064, 0.24317084),\n (10066, 0.24317084),\n (10071, 0.24317084),\n (10073, 0.24317084),\n (10061, 0.24317084),\n (10059, 0.24317084),\n (10058, 0.24317084),\n (10057, 0.24317084),\n (10070, 0.24317084),\n (10067, 0.24317084),\n (10069, 0.24317084),\n (65, 0.24317084),\n (10060, 0.24317084),\n (10072, 0.24317084),\n (10065, 0.24317084),\n (10078, 0.24317084),\n (10086, 0.24317084),\n (10088, 0.24317084),\n (10089, 0.24317084),\n (10090, 0.24317084),\n (10091, 0.24317084),\n (10110, 0.24317084),\n (10077, 0.24317084),\n (10083, 0.24317084),\n (10085, 0.24317084),\n (10074, 0.24317084),\n (10082, 0.24317084),\n (10081, 0.24317084),\n (10080, 0.24317084),\n (10079, 0.24317084),\n (10076, 0.24317084),\n (10084, 0.24317084),\n (10096, 0.24317084),\n (10097, 0.24317084),\n (10098, 0.24317084),\n (10099, 0.24317084),\n (10100, 0.24317084),\n (10101, 0.24317084),\n (10102, 0.24317084),\n (67, 0.24317084),\n (10103, 0.24317084),\n (10106, 0.24317084),\n (10107, 0.24317084),\n (10108, 0.24317084),\n (10095, 0.24317084),\n (10104, 0.24317084),\n (10094, 0.24317084),\n (10093, 0.24317084),\n (10113, 0.24317084),\n (10114, 0.24317084),\n (10121, 0.24317084),\n (10125, 0.24317084),\n (10126, 0.24317084),\n (10118, 0.24317084),\n (10115, 0.24317084),\n (10112, 0.24317084),\n (10127, 0.24317084),\n (10119, 0.24317084),\n (10120, 0.24317084),\n (10122, 0.24317084),\n (10128, 0.24317084),\n (10117, 0.24317084),\n (10116, 0.24317084),\n (10129, 0.24317084),\n (10140, 0.24317084),\n (10142, 0.24317084),\n (10143, 0.24317084),\n (10144, 0.24317084),\n (10147, 0.24317084),\n (10148, 0.24317084),\n (10149, 0.24317084),\n (10145, 0.24317084),\n (10141, 0.24317084),\n (10138, 0.24317084),\n (10146, 0.24317084),\n (10137, 0.24317084),\n (10136, 0.24317084),\n (10135, 0.24317084),\n (10134, 0.24317084),\n (10133, 0.24317084),\n (10132, 0.24317084),\n (10130, 0.24317084),\n (10139, 0.24317084),\n (10151, 0.24317084),\n (10154, 0.24317084),\n (10155, 0.24317084),\n (10156, 0.24317084),\n (10157, 0.24317084),\n (10158, 0.24317084),\n (10159, 0.24317084),\n (10160, 0.24317084),\n (10161, 0.24317084),\n (10165, 0.24317084),\n (10166, 0.24317084),\n (10168, 0.24317084),\n (10169, 0.24317084),\n (10167, 0.24317084),\n (10164, 0.24317084),\n (10163, 0.24317084),\n (10153, 0.24317084),\n (10152, 0.24317084),\n (10170, 0.24317084),\n (10172, 0.24317084),\n (10173, 0.24317084),\n (10174, 0.24317084),\n (10175, 0.24317084),\n (10177, 0.24317084),\n (10179, 0.24317084),\n (10180, 0.24317084),\n (10182, 0.24317084),\n (10183, 0.24317084),\n (10185, 0.24317084),\n (10186, 0.24317084),\n (10178, 0.24317084),\n (10189, 0.24317084),\n (10184, 0.24317084),\n (10188, 0.24317084),\n (10187, 0.24317084),\n (10176, 0.24317084),\n (10171, 0.24317084),\n (10191, 0.24317084),\n (10193, 0.24317084),\n (10194, 0.24317084),\n (10195, 0.24317084),\n (10210, 0.24317084),\n (10211, 0.24317084),\n (10202, 0.24317084),\n (10200, 0.24317084),\n (10199, 0.24317084),\n (10192, 0.24317084),\n (10208, 0.24317084),\n (10203, 0.24317084),\n (10201, 0.24317084),\n (10207, 0.24317084),\n (10205, 0.24317084),\n (10197, 0.24317084),\n (10206, 0.24317084),\n (10209, 0.24317084),\n (10198, 0.24317084),\n (10196, 0.24317084),\n (10212, 0.24317084),\n (10225, 0.24317084),\n (10228, 0.24317084),\n (10312, 0.24317084),\n (10231, 0.24317084),\n (10230, 0.24317084),\n (10227, 0.24317084),\n (10226, 0.24317084),\n (10224, 0.24317084),\n (10222, 0.24317084),\n (10215, 0.24317084),\n (10214, 0.24317084),\n (10221, 0.24317084),\n (10232, 0.24317084),\n (10220, 0.24317084),\n (10219, 0.24317084),\n (10218, 0.24317084),\n (10217, 0.24317084),\n (10216, 0.24317084),\n (10233, 0.24317084),\n (10237, 0.24317084),\n (10238, 0.24317084),\n (10239, 0.24317084),\n (10240, 0.24317084),\n (10243, 0.24317084),\n (10244, 0.24317084),\n (10245, 0.24317084),\n (10247, 0.24317084),\n (10248, 0.24317084),\n (10249, 0.24317084),\n (10250, 0.24317084),\n (10246, 0.24317084),\n (10241, 0.24317084),\n (10236, 0.24317084),\n (10235, 0.24317084),\n (10251, 0.24317084),\n (77, 0.24317084),\n (10252, 0.24317084),\n (10234, 0.24317084),\n (10242, 0.24317084),\n (10254, 0.24317084),\n (10259, 0.24317084),\n (10263, 0.24317084),\n (10265, 0.24317084),\n (10269, 0.24317084),\n (10268, 0.24317084),\n (10267, 0.24317084),\n (10266, 0.24317084),\n (10264, 0.24317084),\n (10262, 0.24317084),\n (10261, 0.24317084),\n (78, 0.24317084),\n (10260, 0.24317084),\n (10257, 0.24317084),\n (10256, 0.24317084),\n (10258, 0.24317084),\n (10270, 0.24317084),\n (10255, 0.24317084),\n (10272, 0.24317084),\n (10280, 0.24317084),\n (10281, 0.24317084),\n (10290, 0.24317084),\n (10275, 0.24317084),\n (10273, 0.24317084),\n (10287, 0.24317084),\n (10291, 0.24317084),\n (10286, 0.24317084),\n (10285, 0.24317084),\n (10284, 0.24317084),\n (10283, 0.24317084),\n (10282, 0.24317084),\n (10277, 0.24317084),\n (10276, 0.24317084),\n (10274, 0.24317084),\n (10289, 0.24317084),\n (10278, 0.24317084),\n (10288, 0.24317084),\n (10300, 0.24317084),\n (10301, 0.24317084),\n (10303, 0.24317084),\n (10304, 0.24317084),\n (10305, 0.24317084),\n (10306, 0.24317084),\n (10307, 0.24317084),\n (10311, 0.24317084),\n (10297, 0.24317084),\n (10296, 0.24317084),\n (10295, 0.24317084),\n (10294, 0.24317084),\n (10293, 0.24317084),\n (10309, 0.24317084),\n (10298, 0.24317084),\n (10308, 0.24317084),\n (10310, 0.24317084),\n (10313, 0.24317084),\n (10315, 0.24317084),\n (10316, 0.24317084),\n (10326, 0.24317084),\n (10325, 0.24317084),\n (10323, 0.24317084),\n (10322, 0.24317084),\n (10331, 0.24317084),\n (10327, 0.24317084),\n (10329, 0.24317084),\n (10328, 0.24317084),\n (10324, 0.24317084),\n (10321, 0.24317084),\n (10320, 0.24317084),\n (10319, 0.24317084),\n (10317, 0.24317084),\n (10314, 0.24317084),\n (10333, 0.24317084),\n (10318, 0.24317084),\n (10335, 0.24317084),\n (10337, 0.24317084),\n (10338, 0.24317084),\n (10344, 0.24317084),\n (10345, 0.24317084),\n (10346, 0.24317084),\n (10349, 0.24317084),\n (10353, 0.24317084),\n (10343, 0.24317084),\n (10340, 0.24317084),\n (10342, 0.24317084),\n (10350, 0.24317084),\n (10348, 0.24317084),\n (10339, 0.24317084),\n (10347, 0.24317084),\n (10351, 0.24317084),\n (10334, 0.24317084),\n (10352, 0.24317084),\n (10354, 0.24317084),\n (10356, 0.24317084),\n (10357, 0.24317084),\n (10362, 0.24317084),\n (10363, 0.24317084),\n (10364, 0.24317084),\n (10365, 0.24317084),\n (10372, 0.24317084),\n (10361, 0.24317084),\n (10360, 0.24317084),\n (10359, 0.24317084),\n (10358, 0.24317084),\n (10370, 0.24317084),\n (10373, 0.24317084),\n (10369, 0.24317084),\n (10368, 0.24317084),\n (10367, 0.24317084),\n (10355, 0.24317084),\n (10371, 0.24317084),\n (10381, 0.24317084),\n (10384, 0.24317084),\n (10385, 0.24317084),\n (10386, 0.24317084),\n (10387, 0.24317084),\n (10388, 0.24317084),\n (10389, 0.24317084),\n (10390, 0.24317084),\n (10391, 0.24317084),\n (10392, 0.24317084),\n (10380, 0.24317084),\n (10377, 0.24317084),\n (10379, 0.24317084),\n (10378, 0.24317084),\n (10376, 0.24317084),\n (10375, 0.24317084),\n (10393, 0.24317084),\n (10382, 0.24317084),\n (10394, 0.24317084),\n (10398, 0.24317084),\n (10399, 0.24317084),\n (10400, 0.24317084),\n (10406, 0.24317084),\n (10404, 0.24317084),\n (10403, 0.24317084),\n (10402, 0.24317084),\n (10401, 0.24317084),\n (10415, 0.24317084),\n (10412, 0.24317084),\n (10414, 0.24317084),\n (10413, 0.24317084),\n (10411, 0.24317084),\n (10410, 0.24317084),\n (10409, 0.24317084),\n (10408, 0.24317084),\n (10407, 0.24317084),\n (10396, 0.24317084),\n (10395, 0.24317084),\n (10416, 0.24317084),\n (10420, 0.24317084),\n (10422, 0.24317084),\n (10426, 0.24317084),\n (10427, 0.24317084),\n (10428, 0.24317084),\n (10429, 0.24317084),\n (10430, 0.24317084),\n (10432, 0.24317084),\n (10433, 0.24317084),\n (10434, 0.24317084),\n (10435, 0.24317084),\n (10425, 0.24317084),\n (10421, 0.24317084),\n (10419, 0.24317084),\n (10418, 0.24317084),\n (10423, 0.24317084),\n (10431, 0.24317084),\n (10424, 0.24317084),\n (10417, 0.24317084),\n (10437, 0.24317084),\n (10438, 0.24317084),\n (10444, 0.24317084),\n ...]"
     },
     "execution_count": 12,
     "metadata": {},
     "output_type": "execute_result"
    }
   ],
   "source": [],
   "metadata": {
    "collapsed": false
   }
  },
  {
   "cell_type": "code",
   "execution_count": null,
   "metadata": {},
   "outputs": [],
   "source": [
    "session.close()\n",
    "engine.dispose()"
   ]
  }
 ],
 "metadata": {
  "kernelspec": {
   "display_name": "Python 3 (ipykernel)",
   "language": "python",
   "name": "python3"
  },
  "language_info": {
   "codemirror_mode": {
    "name": "ipython",
    "version": 3
   },
   "file_extension": ".py",
   "mimetype": "text/x-python",
   "name": "python",
   "nbconvert_exporter": "python",
   "pygments_lexer": "ipython3",
   "version": "3.8.13"
  }
 },
 "nbformat": 4,
 "nbformat_minor": 1
}
