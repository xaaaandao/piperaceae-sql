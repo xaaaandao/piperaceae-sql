{
 "cells": [
  {
   "cell_type": "code",
   "execution_count": 1,
   "metadata": {
    "pycharm": {
     "name": "#%%\n"
    }
   },
   "outputs": [],
   "source": [
    "import os\n",
    "import sqlalchemy.orm.decl_api\n",
    "import time\n",
    "\n",
    "from api import *\n",
    "from dataframe import *\n",
    "from database import *\n",
    "from file import create_outfile\n",
    "from unaccent import unaccent"
   ]
  },
  {
   "cell_type": "markdown",
   "metadata": {
    "pycharm": {
     "name": "#%% md\n"
    }
   },
   "source": [
    "# cfg"
   ]
  },
  {
   "cell_type": "code",
   "execution_count": 2,
   "metadata": {
    "pycharm": {
     "name": "#%%\n"
    }
   },
   "outputs": [
    {
     "name": "stdout",
     "output_type": "stream",
     "text": [
      "2022-07-25 19:14:37,960 INFO sqlalchemy.engine.Engine select pg_catalog.version()\n",
      "2022-07-25 19:14:37,960 INFO sqlalchemy.engine.Engine [raw sql] {}\n",
      "2022-07-25 19:14:37,961 INFO sqlalchemy.engine.Engine select current_schema()\n",
      "2022-07-25 19:14:37,961 INFO sqlalchemy.engine.Engine [raw sql] {}\n",
      "2022-07-25 19:14:37,962 INFO sqlalchemy.engine.Engine show standard_conforming_strings\n",
      "2022-07-25 19:14:37,962 INFO sqlalchemy.engine.Engine [raw sql] {}\n"
     ]
    }
   ],
   "source": [
    "cfg = {\n",
    "    \"user\": f\"{os.environ['POSTGRE_USER']}\",\n",
    "    \"password\": f\"{os.environ['POSTGRE_PASSWORD']}\",\n",
    "    \"port\": \"5432\",\n",
    "    \"database\": \"herbario\"\n",
    "}\n",
    "filename = \"original.csv\"\n",
    "filename_george = \"dados-george.csv\"\n",
    "\n",
    "engine, session = connect(cfg)"
   ]
  },
  {
   "cell_type": "markdown",
   "metadata": {
    "pycharm": {
     "name": "#%% md\n"
    }
   },
   "source": [
    "# Load data"
   ]
  },
  {
   "cell_type": "code",
   "execution_count": 3,
   "metadata": {
    "pycharm": {
     "name": "#%%\n"
    }
   },
   "outputs": [],
   "source": [
    "dataframe = pandas.read_csv(\"original.csv\", sep=\";\", low_memory=False, skipinitialspace=True)\n",
    "dataframe_george = pandas.read_csv(filename_george, sep=\";\", low_memory=False, skipinitialspace=True)"
   ]
  },
  {
   "cell_type": "code",
   "execution_count": 4,
   "metadata": {
    "pycharm": {
     "name": "#%%\n"
    }
   },
   "outputs": [
    {
     "name": "stdout",
     "output_type": "stream",
     "text": [
      "2022-07-25 19:14:45,494 INFO sqlalchemy.engine.Engine select relname from pg_class c join pg_namespace n on n.oid=c.relnamespace where n.nspname=%(schema)s and relname=%(name)s\n",
      "2022-07-25 19:14:45,495 INFO sqlalchemy.engine.Engine [generated in 0.00063s] {'schema': 'herbario', 'name': 'county'}\n",
      "2022-07-25 19:14:45,496 INFO sqlalchemy.engine.Engine BEGIN (implicit)\n",
      "2022-07-25 19:14:45,496 INFO sqlalchemy.engine.Engine select relname from pg_class c join pg_namespace n on n.oid=c.relnamespace where pg_catalog.pg_table_is_visible(c.oid) and relname=%(name)s\n",
      "2022-07-25 19:14:45,497 INFO sqlalchemy.engine.Engine [generated in 0.00046s] {'name': 'data'}\n",
      "2022-07-25 19:14:45,498 INFO sqlalchemy.engine.Engine select relname from pg_class c join pg_namespace n on n.oid=c.relnamespace where pg_catalog.pg_table_is_visible(c.oid) and relname=%(name)s\n",
      "2022-07-25 19:14:45,498 INFO sqlalchemy.engine.Engine [cached since 0.001574s ago] {'name': 'county'}\n",
      "2022-07-25 19:14:45,499 INFO sqlalchemy.engine.Engine COMMIT\n",
      "2022-07-25 19:14:45,499 INFO sqlalchemy.engine.Engine select relname from pg_class c join pg_namespace n on n.oid=c.relnamespace where n.nspname=%(schema)s and relname=%(name)s\n",
      "2022-07-25 19:14:45,500 INFO sqlalchemy.engine.Engine [cached since 0.005516s ago] {'schema': 'herbario', 'name': 'data'}\n",
      "2022-07-25 19:14:45,501 INFO sqlalchemy.engine.Engine BEGIN (implicit)\n",
      "2022-07-25 19:14:45,501 INFO sqlalchemy.engine.Engine select relname from pg_class c join pg_namespace n on n.oid=c.relnamespace where pg_catalog.pg_table_is_visible(c.oid) and relname=%(name)s\n",
      "2022-07-25 19:14:45,501 INFO sqlalchemy.engine.Engine [cached since 0.005154s ago] {'name': 'data'}\n",
      "2022-07-25 19:14:45,502 INFO sqlalchemy.engine.Engine select relname from pg_class c join pg_namespace n on n.oid=c.relnamespace where pg_catalog.pg_table_is_visible(c.oid) and relname=%(name)s\n",
      "2022-07-25 19:14:45,503 INFO sqlalchemy.engine.Engine [cached since 0.006253s ago] {'name': 'county'}\n",
      "2022-07-25 19:14:45,503 INFO sqlalchemy.engine.Engine COMMIT\n"
     ]
    }
   ],
   "source": [
    "create_table_if_not_exists(cfg, engine, \"county\")\n",
    "create_table_if_not_exists(cfg, engine, \"data\")"
   ]
  },
  {
   "cell_type": "code",
   "execution_count": 5,
   "metadata": {
    "pycharm": {
     "name": "#%%\n"
    }
   },
   "outputs": [
    {
     "name": "stdout",
     "output_type": "stream",
     "text": [
      "2022-07-25 19:14:45,512 INFO sqlalchemy.engine.Engine BEGIN (implicit)\n",
      "2022-07-25 19:14:45,515 INFO sqlalchemy.engine.Engine SELECT count(*) AS count_1 \n",
      "FROM (SELECT county.id AS county_id, county.county AS county_county, county.uf AS county_uf, county.uf_name AS county_uf_name \n",
      "FROM county) AS anon_1\n",
      "2022-07-25 19:14:45,515 INFO sqlalchemy.engine.Engine [generated in 0.00052s] {}\n",
      "2022-07-25 19:14:45,522 INFO sqlalchemy.engine.Engine SELECT count(*) AS count_1 \n",
      "FROM (SELECT data.seq AS data_seq, data.modified AS data_modified, data.institution_code AS data_institution_code, data.collection_code AS data_collection_code, data.catalog_number AS data_catalog_number, data.basis_of_record AS data_basis_of_record, data.kingdom AS data_kingdom, data.phylum AS data_phylum, data.classe AS data_classe, data.\"order\" AS data_order, data.family AS data_family, data.genus AS data_genus, data.specific_epithet AS data_specific_epithet, data.infraspecific_epithet AS data_infraspecific_epithet, data.scientific_name AS data_scientific_name, data.scientific_name_authorship AS data_scientific_name_authorship, data.identified_by AS data_identified_by, data.year_identified AS data_year_identified, data.month_identified AS data_month_identified, data.day_identified AS data_day_identified, data.type_status AS data_type_status, data.recorded_by AS data_recorded_by, data.record_number AS data_record_number, data.field_number AS data_field_number, data.year AS data_year, data.month AS data_month, data.day AS data_day, data.event_time AS data_event_time, data.continent_ocean AS data_continent_ocean, data.country AS data_country, data.state_province AS data_state_province, data.county AS data_county, data.locality AS data_locality, data.decimal_longitude AS data_decimal_longitude, data.decimal_latitude AS data_decimal_latitude, data.verbatim_longitude AS data_verbatim_longitude, data.verbatim_latitude AS data_verbatim_latitude, data.coordinate_precision AS data_coordinate_precision, data.bounding_box AS data_bounding_box, data.minimum_elevation_in_meters AS data_minimum_elevation_in_meters, data.maximum_elevation_in_meters AS data_maximum_elevation_in_meters, data.minimum_depth_in_meters AS data_minimum_depth_in_meters, data.maximum_depth_in_meters AS data_maximum_depth_in_meters, data.sex AS data_sex, data.preparation_type AS data_preparation_type, data.individual_count AS data_individual_count, data.previous_catalog_number AS data_previous_catalog_number, data.relationship_type AS data_relationship_type, data.related_catalog_item AS data_related_catalog_item, data.occurrence_remarks AS data_occurrence_remarks, data.barcode AS data_barcode, data.imagecode AS data_imagecode, data.geo_flag AS data_geo_flag, data.george AS data_george, data.my_country AS data_my_country, data.my_state AS data_my_state, data.my_city AS data_my_city \n",
      "FROM data) AS anon_1\n",
      "2022-07-25 19:14:45,522 INFO sqlalchemy.engine.Engine [generated in 0.00037s] {}\n",
      "2022-07-25 19:14:45,553 INFO sqlalchemy.engine.Engine SELECT count(*) AS count_1 \n",
      "FROM (SELECT data.seq AS data_seq, data.modified AS data_modified, data.institution_code AS data_institution_code, data.collection_code AS data_collection_code, data.catalog_number AS data_catalog_number, data.basis_of_record AS data_basis_of_record, data.kingdom AS data_kingdom, data.phylum AS data_phylum, data.classe AS data_classe, data.\"order\" AS data_order, data.family AS data_family, data.genus AS data_genus, data.specific_epithet AS data_specific_epithet, data.infraspecific_epithet AS data_infraspecific_epithet, data.scientific_name AS data_scientific_name, data.scientific_name_authorship AS data_scientific_name_authorship, data.identified_by AS data_identified_by, data.year_identified AS data_year_identified, data.month_identified AS data_month_identified, data.day_identified AS data_day_identified, data.type_status AS data_type_status, data.recorded_by AS data_recorded_by, data.record_number AS data_record_number, data.field_number AS data_field_number, data.year AS data_year, data.month AS data_month, data.day AS data_day, data.event_time AS data_event_time, data.continent_ocean AS data_continent_ocean, data.country AS data_country, data.state_province AS data_state_province, data.county AS data_county, data.locality AS data_locality, data.decimal_longitude AS data_decimal_longitude, data.decimal_latitude AS data_decimal_latitude, data.verbatim_longitude AS data_verbatim_longitude, data.verbatim_latitude AS data_verbatim_latitude, data.coordinate_precision AS data_coordinate_precision, data.bounding_box AS data_bounding_box, data.minimum_elevation_in_meters AS data_minimum_elevation_in_meters, data.maximum_elevation_in_meters AS data_maximum_elevation_in_meters, data.minimum_depth_in_meters AS data_minimum_depth_in_meters, data.maximum_depth_in_meters AS data_maximum_depth_in_meters, data.sex AS data_sex, data.preparation_type AS data_preparation_type, data.individual_count AS data_individual_count, data.previous_catalog_number AS data_previous_catalog_number, data.relationship_type AS data_relationship_type, data.related_catalog_item AS data_related_catalog_item, data.occurrence_remarks AS data_occurrence_remarks, data.barcode AS data_barcode, data.imagecode AS data_imagecode, data.geo_flag AS data_geo_flag, data.george AS data_george, data.my_country AS data_my_country, data.my_state AS data_my_state, data.my_city AS data_my_city \n",
      "FROM data \n",
      "WHERE data.george = true) AS anon_1\n",
      "2022-07-25 19:14:45,554 INFO sqlalchemy.engine.Engine [generated in 0.00038s] {}\n"
     ]
    }
   ],
   "source": [
    "if session.query(County).count() == 0:\n",
    "    response = get_municipies()\n",
    "    for i, county in enumerate(response.json()):\n",
    "        session.add(create_county(county))\n",
    "        make_operation(session)\n",
    "\n",
    "\n",
    "if session.query(DataSP).count() == 0:\n",
    "    dataframe = preprocess(dataframe)\n",
    "    for row in dataframe.iterrows():\n",
    "        session.add(create_datasp(row[1]))\n",
    "        make_operation(session)\n",
    "\n",
    "\n",
    "if session.query(DataSP).filter(DataSP.george == True).count() == 0:\n",
    "    for row in dataframe.iterrows():\n",
    "        if row[1][\"GEORGE\"].lower() == \"sim\":\n",
    "            session.query(DataSP).filter(DataSP.seq == row[1][\"seq\"]).update({\"george\": True}, synchronize_session=False)\n",
    "            make_operation(session)"
   ]
  },
  {
   "cell_type": "code",
   "execution_count": 6,
   "metadata": {
    "pycharm": {
     "name": "#%%\n"
    }
   },
   "outputs": [],
   "source": [
    "def column_is_string_or_varchar_or_text(column):\n",
    "    return str(column.type).lower() in (\"string\", \"varchar\", \"text\")\n",
    "\n",
    "def get_columns_text():\n",
    "    return list([column.key for column in get_columns_table(DataSP) if column_is_string_or_varchar_or_text(column)])\n",
    "\n",
    "\n",
    "def remove_white_spaces(string):\n",
    "    return remove_word_started_lowercase(string).split(\" \")\n",
    "\n",
    "\n",
    "def remove_hyphen(string):\n",
    "    return remove_word_started_lowercase(string).split(\"-\")\n",
    "\n",
    "\n",
    "def remove_word_started_lowercase(string):\n",
    "    return re.sub(r\"\\b[a-z]+\\s*\", \"\", string)\n",
    "\n",
    "\n",
    "def find_and_update(data, list_seq, new_column, value=None):\n",
    "    for columns in list_of_columns_valid:\n",
    "        for data_formatted in (remove_white_spaces(data), remove_hyphen(data)):\n",
    "            if len(data_formatted) > 0:\n",
    "                q = session.query(DataSP.seq).filter(sqlalchemy.and_(\n",
    "                    *[sqlalchemy.func.lower(unaccent(getattr(DataSP, columns))).ilike(f\"%{s.lower()}%\") for s in\n",
    "                      data_formatted])).all()\n",
    "            else:\n",
    "                q = session.query(DataSP.seq).filter(\n",
    "                    sqlalchemy.func.lower(unaccent(getattr(DataSP, columns))).ilike(f\"%{data_formatted}%\")).all()\n",
    "            if len(q) > 0:\n",
    "                list_seq.append({\"seq\": remove_set(q), \"column\": columns, \"new_column\": new_column, \"value_searched\": value if value else data})"
   ]
  },
  {
   "cell_type": "code",
   "execution_count": 12,
   "metadata": {
    "pycharm": {
     "name": "#%%\n"
    }
   },
   "outputs": [
    {
     "name": "stdout",
     "output_type": "stream",
     "text": [
      "2022-07-25 19:17:40,906 INFO sqlalchemy.engine.Engine SELECT data.seq AS data_seq, data.modified AS data_modified, data.institution_code AS data_institution_code, data.collection_code AS data_collection_code, data.catalog_number AS data_catalog_number, data.basis_of_record AS data_basis_of_record, data.kingdom AS data_kingdom, data.phylum AS data_phylum, data.classe AS data_classe, data.\"order\" AS data_order, data.family AS data_family, data.genus AS data_genus, data.specific_epithet AS data_specific_epithet, data.infraspecific_epithet AS data_infraspecific_epithet, data.scientific_name AS data_scientific_name, data.scientific_name_authorship AS data_scientific_name_authorship, data.identified_by AS data_identified_by, data.year_identified AS data_year_identified, data.month_identified AS data_month_identified, data.day_identified AS data_day_identified, data.type_status AS data_type_status, data.recorded_by AS data_recorded_by, data.record_number AS data_record_number, data.field_number AS data_field_number, data.year AS data_year, data.month AS data_month, data.day AS data_day, data.event_time AS data_event_time, data.continent_ocean AS data_continent_ocean, data.country AS data_country, data.state_province AS data_state_province, data.county AS data_county, data.locality AS data_locality, data.decimal_longitude AS data_decimal_longitude, data.decimal_latitude AS data_decimal_latitude, data.verbatim_longitude AS data_verbatim_longitude, data.verbatim_latitude AS data_verbatim_latitude, data.coordinate_precision AS data_coordinate_precision, data.bounding_box AS data_bounding_box, data.minimum_elevation_in_meters AS data_minimum_elevation_in_meters, data.maximum_elevation_in_meters AS data_maximum_elevation_in_meters, data.minimum_depth_in_meters AS data_minimum_depth_in_meters, data.maximum_depth_in_meters AS data_maximum_depth_in_meters, data.sex AS data_sex, data.preparation_type AS data_preparation_type, data.individual_count AS data_individual_count, data.previous_catalog_number AS data_previous_catalog_number, data.relationship_type AS data_relationship_type, data.related_catalog_item AS data_related_catalog_item, data.occurrence_remarks AS data_occurrence_remarks, data.barcode AS data_barcode, data.imagecode AS data_imagecode, data.geo_flag AS data_geo_flag, data.george AS data_george, data.my_country AS data_my_country, data.my_state AS data_my_state, data.my_city AS data_my_city \n",
      "FROM data\n",
      "2022-07-25 19:17:40,907 INFO sqlalchemy.engine.Engine [cached since 175.3s ago] {}\n",
      "2022-07-25 19:17:41,496 INFO sqlalchemy.engine.Engine SELECT DISTINCT lower(unaccent(county.uf)) AS lower_1 \n",
      "FROM county\n",
      "2022-07-25 19:17:41,496 INFO sqlalchemy.engine.Engine [no key 0.00049s] {}\n",
      "2022-07-25 19:17:41,500 INFO sqlalchemy.engine.Engine SELECT DISTINCT county.uf_name AS county_uf_name, lower(unaccent(county.uf_name)) AS lower_1 \n",
      "FROM county\n",
      "2022-07-25 19:17:41,500 INFO sqlalchemy.engine.Engine [no key 0.00038s] {}\n",
      "2022-07-25 19:17:41,506 INFO sqlalchemy.engine.Engine SELECT county.county AS county_county, unaccent(county.county) AS unaccent_1 \n",
      "FROM county \n",
      "WHERE county.uf = %(uf_1)s\n",
      "2022-07-25 19:17:41,506 INFO sqlalchemy.engine.Engine [no key 0.00048s] {'uf_1': 'PR'}\n"
     ]
    }
   ],
   "source": [
    "data_piperaceae = session.query(DataSP).all()\n",
    "data_uf = session.query(sqlalchemy.func.lower(unaccent(County.uf))).distinct().all()\n",
    "data_uf_name = session.query(County.uf_name, sqlalchemy.func.lower(unaccent(County.uf_name))).distinct().all()\n",
    "data_county = session.query(County.county, unaccent(County.county)).filter(County.uf==\"PR\").all()"
   ]
  },
  {
   "cell_type": "code",
   "execution_count": 11,
   "metadata": {
    "pycharm": {
     "name": "#%%\n"
    }
   },
   "outputs": [],
   "source": [
    "\n",
    "# data_uf = remove_set(data_uf)\n",
    "# data_uf_name = remove_set(data_uf_name)\n",
    "# data_county = remove_set(data_county)\n",
    "# data_country = list([\"Brazil\", \"Brasil\"])"
   ]
  },
  {
   "cell_type": "code",
   "execution_count": 9,
   "metadata": {
    "pycharm": {
     "name": "#%%\n"
    }
   },
   "outputs": [],
   "source": [
    "list_seq = list([])\n",
    "list_of_columns_valid = get_columns_text()"
   ]
  },
  {
   "cell_type": "code",
   "execution_count": null,
   "metadata": {
    "pycharm": {
     "name": "#%%\n"
    }
   },
   "outputs": [],
   "source": [
    "start = time.process_time()\n",
    "\n",
    "for d in data_country:\n",
    "    find_and_update(d, list_seq, \"my_country\", value=\"Brasil\")\n",
    "\n",
    "end = time.process_time()\n",
    "elapsed_time = end-start\n",
    "print(f\"elapsed_time: {elapsed_time} seconds\")"
   ]
  },
  {
   "cell_type": "code",
   "execution_count": 11,
   "metadata": {
    "pycharm": {
     "name": "#%%\n"
    }
   },
   "outputs": [
    {
     "name": "stdout",
     "output_type": "stream",
     "text": [
      "Rio Grande do Norte rio grande do norte\n",
      "Mato Grosso do Sul mato grosso do sul\n",
      "Pará para\n",
      "Piauí piaui\n",
      "Mato Grosso mato grosso\n",
      "Paraná parana\n",
      "Pernambuco pernambuco\n",
      "Ceará ceara\n",
      "Goiás goias\n",
      "Rio Grande do Sul rio grande do sul\n",
      "Minas Gerais minas gerais\n",
      "Bahia bahia\n",
      "Rio de Janeiro rio de janeiro\n",
      "Acre acre\n",
      "Distrito Federal distrito federal\n",
      "Paraíba paraiba\n",
      "Sergipe sergipe\n",
      "Amapá amapa\n",
      "São Paulo sao paulo\n",
      "Roraima roraima\n",
      "Tocantins tocantins\n",
      "Santa Catarina santa catarina\n",
      "Alagoas alagoas\n",
      "Amazonas amazonas\n",
      "Espírito Santo espirito santo\n",
      "Rondônia rondonia\n",
      "Maranhão maranhao\n",
      "elapsed_time: 0.00030586500000051586 seconds\n"
     ]
    }
   ],
   "source": [
    "start = time.process_time()\n",
    "\n",
    "for (original, preprocessed) in data_uf_name:\n",
    "    find_and_update(preprocessed, list_seq, \"my_state\", original)\n",
    "\n",
    "end = time.process_time()\n",
    "elapsed_time = end-start\n",
    "print(f\"elapsed_time: {elapsed_time} seconds\")"
   ]
  },
  {
   "cell_type": "code",
   "execution_count": 13,
   "metadata": {
    "pycharm": {
     "name": "#%%\n"
    }
   },
   "outputs": [
    {
     "name": "stdout",
     "output_type": "stream",
     "text": [
      "elapsed_time: 21.383442718 seconds\n"
     ]
    }
   ],
   "source": [
    "start = time.process_time()\n",
    "\n",
    "for (original, preprocessed) in data_county:\n",
    "    find_and_update(preprocessed, list_seq, \"my_city\", original)\n",
    "\n",
    "end = time.process_time()\n",
    "elapsed_time = end-start\n",
    "print(f\"elapsed_time: {elapsed_time} seconds\")"
   ]
  },
  {
   "cell_type": "code",
   "execution_count": 14,
   "metadata": {
    "pycharm": {
     "name": "#%%\n"
    }
   },
   "outputs": [],
   "source": [
    "for l in list_seq:\n",
    "    for y in l[\"seq\"]:\n",
    "        session.query(DataSP).filter(DataSP.seq == y).update(values=dict({l[\"new_column\"]: l[\"value_searched\"]}), synchronize_session=False)\n",
    "        make_operation(session)"
   ]
  },
  {
   "cell_type": "code",
   "execution_count": null,
   "metadata": {
    "pycharm": {
     "name": "#%%\n"
    }
   },
   "outputs": [],
   "source": [
    "create_outfile(list_seq)"
   ]
  },
  {
   "cell_type": "code",
   "execution_count": null,
   "metadata": {
    "pycharm": {
     "name": "#%%\n"
    }
   },
   "outputs": [],
   "source": [
    "data_has_only_state = session.query(DataSP.seq, DataSP.my_state).filter(sqlalchemy.and_(DataSP.my_state.is_not(None), DataSP.my_country.is_(None))).all()\n",
    "make_operation(session)\n",
    "\n",
    "for (seq, state) in sorted(data_has_only_state):\n",
    "    session.query(DataSP).filter(DataSP.seq == seq).update(values=dict({\"my_country\": \"Brasil\"}), synchronize_session=False)\n",
    "    make_operation(session)"
   ]
  },
  {
   "cell_type": "code",
   "execution_count": null,
   "metadata": {
    "pycharm": {
     "name": "#%%\n"
    }
   },
   "outputs": [],
   "source": [
    "def get_state_of_city(city):\n",
    "    state_of_city = session.query(County.uf_name).filter(County.county == city).all()\n",
    "    make_operation(session)\n",
    "    return state_of_city\n",
    "\n",
    "data_has_only_county = session.query(DataSP.seq, DataSP.my_city).filter(sqlalchemy.and_(DataSP.my_city.is_not(None), DataSP.my_state.is_(None), DataSP.my_country.is_(None))).all()\n",
    "make_operation(session)\n",
    "\n",
    "print(data_has_only_county)\n",
    "for (seq, city) in data_has_only_county:\n",
    "    state_of_city = get_state_of_city(city)\n",
    "    session.query(DataSP).filter(DataSP.seq == seq).update(values=dict({\"my_state\": state_of_city, \"my_country\": \"Brasil\"}), synchronize_session=False)\n",
    "    make_operation(session)"
   ]
  },
  {
   "cell_type": "code",
   "execution_count": null,
   "metadata": {
    "pycharm": {
     "name": "#%%\n"
    }
   },
   "outputs": [],
   "source": [
    "session.close()\n",
    "engine.dispose()"
   ]
  }
 ],
 "metadata": {
  "kernelspec": {
   "display_name": "Python 3 (ipykernel)",
   "language": "python",
   "name": "python3"
  },
  "language_info": {
   "codemirror_mode": {
    "name": "ipython",
    "version": 3
   },
   "file_extension": ".py",
   "mimetype": "text/x-python",
   "name": "python",
   "nbconvert_exporter": "python",
   "pygments_lexer": "ipython3",
   "version": "3.8.13"
  }
 },
 "nbformat": 4,
 "nbformat_minor": 1
}
