{
 "cells": [
  {
   "cell_type": "code",
   "execution_count": null,
   "metadata": {},
   "outputs": [],
   "source": [
    "%reload_ext autoreload\n",
    "%autoreload 2\n",
    "\n",
    "import pathlib\n",
    "import shutil\n",
    "import time\n",
    "\n",
    "from api import *\n",
    "from dataframe import *\n",
    "from database import *\n",
    "from file import *\n",
    "from sql import *\n",
    "from tables import *"
   ]
  },
  {
   "cell_type": "markdown",
   "metadata": {},
   "source": [
    "# cfg"
   ]
  },
  {
   "cell_type": "code",
   "execution_count": null,
   "metadata": {},
   "outputs": [],
   "source": [
    "cfg = {\n",
    "    \"host\": f\"{os.environ['POSTGRE_HOST']}\",\n",
    "    \"user\": f\"{os.environ['POSTGRE_USER']}\",\n",
    "    \"password\": f\"{os.environ['POSTGRE_PASSWORD']}\",\n",
    "    \"port\": \"5432\",\n",
    "    \"database\": \"herbario\"\n",
    "}\n",
    "filename = \"original.csv\"\n",
    "filename_george = \"dados-george.csv\"\n",
    "\n",
    "engine, session = connect(cfg)"
   ]
  },
  {
   "cell_type": "markdown",
   "metadata": {},
   "source": [
    "# Load data"
   ]
  },
  {
   "cell_type": "code",
   "execution_count": null,
   "metadata": {},
   "outputs": [],
   "source": [
    "dataframe = pandas.read_csv(\"original.csv\", sep=\";\", low_memory=False, skipinitialspace=True)\n",
    "dataframe_george = pandas.read_csv(filename_george, sep=\";\", low_memory=False, skipinitialspace=True)"
   ]
  },
  {
   "cell_type": "code",
   "execution_count": null,
   "metadata": {},
   "outputs": [],
   "source": [
    "create_table_if_not_exists(cfg, engine, \"county\")\n",
    "create_table_if_not_exists(cfg, engine, \"data\")"
   ]
  },
  {
   "cell_type": "code",
   "execution_count": null,
   "metadata": {},
   "outputs": [],
   "source": [
    "if session.query(County).count() == 0:\n",
    "    response = get_municipies()\n",
    "    for i, county in enumerate(response.json()):\n",
    "        session.add(create_county(county))\n",
    "        make_operation(session)"
   ]
  },
  {
   "cell_type": "code",
   "execution_count": null,
   "outputs": [],
   "source": [
    "if session.query(DataSP).count() == 0:\n",
    "    change_header(dataframe)\n",
    "    dataframe = preprocess(dataframe)\n",
    "    # dataframe.iloc[24230]\n",
    "    for row in dataframe.iterrows():\n",
    "        session.add(create_datasp(row[1]))\n",
    "        make_operation(session)"
   ],
   "metadata": {
    "collapsed": false
   }
  },
  {
   "cell_type": "code",
   "execution_count": null,
   "outputs": [],
   "source": [
    "if session.query(DataSP).filter(DataSP.george == True).count() == 0:\n",
    "    for row in dataframe_george.iterrows():\n",
    "        if row[1][\"GEORGE\"].lower() == \"sim\":\n",
    "            session.query(DataSP).filter(DataSP.seq == row[1][\"seq\"]).update({\"george\": True}, synchronize_session=False)\n",
    "            make_operation(session)"
   ],
   "metadata": {
    "collapsed": false
   }
  },
  {
   "cell_type": "code",
   "execution_count": null,
   "outputs": [],
   "source": [
    "data_piperaceae = session.query(DataSP).all()\n",
    "data_uf = session.query(sqlalchemy.func.lower(unaccent(County.uf))).distinct().all()\n",
    "data_uf_name = session.query(County.uf_name, sqlalchemy.func.lower(unaccent(County.uf_name))).distinct().all()\n",
    "data_county = session.query(County.county, unaccent(County.county)).filter(County.uf==\"PR\").all()"
   ],
   "metadata": {
    "collapsed": false
   }
  },
  {
   "cell_type": "code",
   "execution_count": null,
   "outputs": [],
   "source": [
    "list_images = list([file for file in pathlib.Path(\"/home/xandao/Documentos/dataset-52k-sp-2021/fotos\").rglob(\"*\") if file.is_file()])\n",
    "result = session.query(DataSP.barcode).filter(DataSP.george==True).all()\n",
    "\n",
    "path_out = \"imgs_george\"\n",
    "pathlib.Path(path_out).mkdir(parents=True, exist_ok=True)\n",
    "images_not_founded = list()\n",
    "\n",
    "for r in result:\n",
    "    images_founded = list(filter(lambda x: r[0] in x.stem, list_images))\n",
    "    if len(images_founded) == 0:\n",
    "        images_not_founded.append(r[0])\n",
    "    else:\n",
    "        for i in images_founded:\n",
    "            shutil.copyfile(i, os.path.join(path_out, i.name))\n",
    "\n",
    "len(list_images), len(images_not_founded)"
   ],
   "metadata": {
    "collapsed": false
   }
  },
  {
   "cell_type": "code",
   "execution_count": null,
   "outputs": [],
   "source": [
    "weight = create_tsvector(\n",
    "    (DataSP.county, 'A'),\n",
    "    (DataSP.state_province, 'B'),\n",
    "    (DataSP.country, 'C')\n",
    ")\n",
    "session.query(DataSP).filter().update(values=dict({\"index\": weight}), synchronize_session=False)\n",
    "make_operation(session)\n",
    "\n",
    "query = sqlalchemy.func.to_tsquery(\"portuguese\", \"Paraná\")\n",
    "session.query(DataSP.seq, sqlalchemy.func.ts_rank(DataSP.index, query)).filter(DataSP.index.op(\"@@\")(query)).all()"
   ],
   "metadata": {
    "collapsed": false
   }
  },
  {
   "cell_type": "code",
   "execution_count": null,
   "outputs": [],
   "source": [
    "# import collections\n",
    "# import pandas\n",
    "#\n",
    "# query_identified_specific_epithet = session.query(DataSP.identified_by, DataSP.specific_epithet).filter(DataSP.george == True).all()\n",
    "# query_specific_epithet = session.query(DataSP.specific_epithet).filter(DataSP.george == True).distinct().all()\n",
    "# query_identified_by = session.query(DataSP.identified_by).filter(DataSP.george == True).distinct().all()\n",
    "# list_specific_epithet = dict((specific_epithet[0], 0) for specific_epithet in query_specific_epithet if specific_epithet[0])\n",
    "# list_identified_by = list(identified_by[0]for identified_by in query_identified_by if identified_by[0])\n",
    "#\n",
    "# # for k, v in list_identified_specific_epithet.items():\n",
    "# df = pandas.DataFrame(list_specific_epithet, index=list_identified_by)\n",
    "# b = list(q for q in query_identified_specific_epithet if q[1])\n",
    "# # for k, v in sorted(collections.(Counter(b).items()):\n",
    "# #     if k[1]:\n",
    "# #         g = list_identified_specific_epithet[k[0]]\n",
    "# #         g[k[1]] = v\n",
    "#\n",
    "# # list_identified_specific_epithet"
   ],
   "metadata": {
    "collapsed": false
   }
  },
  {
   "cell_type": "code",
   "execution_count": null,
   "outputs": [],
   "source": [
    "df"
   ],
   "metadata": {
    "collapsed": false
   }
  },
  {
   "cell_type": "code",
   "execution_count": null,
   "outputs": [],
   "source": [
    "import collections\n",
    "for k, v in sorted(collections.Counter(b).items()):\n",
    "    df.at[k[0], k[1]]=v\n",
    "\n",
    "df"
   ],
   "metadata": {
    "collapsed": false
   }
  },
  {
   "cell_type": "code",
   "execution_count": null,
   "outputs": [],
   "source": [
    "list_seq = list([])\n",
    "list_of_columns_valid = get_columns_text(DataSP)"
   ],
   "metadata": {
    "collapsed": false
   }
  },
  {
   "cell_type": "code",
   "execution_count": null,
   "outputs": [],
   "source": [
    "start = time.process_time()\n",
    "\n",
    "for d in data_country:\n",
    "    find_and_update(d, list_seq, \"my_country\", value=\"Brasil\")\n",
    "\n",
    "end = time.process_time()\n",
    "elapsed_time = end-start\n",
    "print(f\"elapsed_time: {elapsed_time} seconds\")"
   ],
   "metadata": {
    "collapsed": false
   }
  },
  {
   "cell_type": "code",
   "execution_count": null,
   "outputs": [],
   "source": [
    "start = time.process_time()\n",
    "\n",
    "for (original, preprocessed) in data_uf_name:\n",
    "    find_and_update(preprocessed, list_seq, \"my_state\", original)\n",
    "\n",
    "end = time.process_time()\n",
    "elapsed_time = end-start\n",
    "print(f\"elapsed_time: {elapsed_time} seconds\")"
   ],
   "metadata": {
    "collapsed": false
   }
  },
  {
   "cell_type": "code",
   "execution_count": null,
   "outputs": [],
   "source": [
    "start = time.process_time()\n",
    "\n",
    "for (original, preprocessed) in data_county:\n",
    "    find_and_update(preprocessed, list_seq, \"my_city\", original)\n",
    "\n",
    "end = time.process_time()\n",
    "elapsed_time = end-start\n",
    "print(f\"elapsed_time: {elapsed_time} seconds\")"
   ],
   "metadata": {
    "collapsed": false
   }
  },
  {
   "cell_type": "code",
   "execution_count": null,
   "metadata": {},
   "outputs": [],
   "source": [
    "for l in list_seq:\n",
    "    for y in l[\"seq\"]:\n",
    "        session.query(DataSP).filter(DataSP.seq == y).update(values=dict({l[\"new_column\"]: l[\"value_searched\"]}), synchronize_session=False)\n",
    "        make_operation(session)"
   ]
  },
  {
   "cell_type": "code",
   "execution_count": null,
   "metadata": {},
   "outputs": [],
   "source": [
    "create_outfile(list_seq)"
   ]
  },
  {
   "cell_type": "code",
   "execution_count": null,
   "metadata": {},
   "outputs": [],
   "source": [
    "data_has_only_state = session.query(DataSP.seq, DataSP.my_state).filter(sqlalchemy.and_(DataSP.my_state.is_not(None), DataSP.my_country.is_(None))).all()\n",
    "make_operation(session)\n",
    "len(data_has_only_state)"
   ]
  },
  {
   "cell_type": "code",
   "execution_count": null,
   "outputs": [],
   "source": [
    "for (seq, state) in sorted(data_has_only_state):\n",
    "    session.query(DataSP).filter(DataSP.seq == seq).update(values=dict({\"my_country\": \"Brasil\"}), synchronize_session=False)\n",
    "    make_operation(session)"
   ],
   "metadata": {
    "collapsed": false
   }
  },
  {
   "cell_type": "code",
   "execution_count": null,
   "metadata": {},
   "outputs": [],
   "source": [
    "def get_state_of_city(city):\n",
    "    state_of_city = session.query(County.uf_name).filter(County.county == city).all()\n",
    "    make_operation(session)\n",
    "    return state_of_city\n",
    "\n",
    "data_has_only_county = session.query(DataSP.seq, DataSP.my_city).filter(sqlalchemy.and_(DataSP.my_city.is_not(None), DataSP.my_state.is_(None), DataSP.my_country.is_(None))).all()\n",
    "make_operation(session)\n",
    "\n",
    "len(data_has_only_county)"
   ]
  },
  {
   "cell_type": "code",
   "execution_count": null,
   "outputs": [],
   "source": [
    "for (seq, city) in data_has_only_county:\n",
    "    state_of_city = get_state_of_city(city)\n",
    "    session.query(DataSP).filter(DataSP.seq == seq).update(values=dict({\"my_state\": state_of_city, \"my_country\": \"Brasil\"}), synchronize_session=False)\n",
    "    make_operation(session)"
   ],
   "metadata": {
    "collapsed": false
   }
  },
  {
   "cell_type": "code",
   "execution_count": null,
   "metadata": {},
   "outputs": [],
   "source": [
    "session.close()\n",
    "engine.dispose()"
   ]
  }
 ],
 "metadata": {
  "kernelspec": {
   "display_name": "Python 3 (ipykernel)",
   "language": "python",
   "name": "python3"
  },
  "language_info": {
   "codemirror_mode": {
    "name": "ipython",
    "version": 3
   },
   "file_extension": ".py",
   "mimetype": "text/x-python",
   "name": "python",
   "nbconvert_exporter": "python",
   "pygments_lexer": "ipython3",
   "version": "3.8.13"
  }
 },
 "nbformat": 4,
 "nbformat_minor": 1
}
