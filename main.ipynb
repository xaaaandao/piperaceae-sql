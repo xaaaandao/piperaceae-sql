{
 "cells": [
  {
   "cell_type": "code",
   "execution_count": 93,
   "outputs": [],
   "source": [
    "import datetime\n",
    "import numpy\n",
    "import os\n",
    "import pandas\n",
    "import pathlib\n",
    "import re\n",
    "import requests\n",
    "import sqlalchemy\n",
    "import sqlalchemy.ext.declarative\n",
    "import sqlalchemy.orm\n",
    "import sqlalchemy.orm.decl_api\n",
    "import time"
   ],
   "metadata": {
    "collapsed": false,
    "pycharm": {
     "name": "#%%\n"
    }
   }
  },
  {
   "cell_type": "markdown",
   "source": [
    "# cfg"
   ],
   "metadata": {
    "collapsed": false,
    "pycharm": {
     "name": "#%% md\n"
    }
   }
  },
  {
   "cell_type": "code",
   "execution_count": 94,
   "outputs": [
    {
     "name": "stdout",
     "output_type": "stream",
     "text": [
      "problems with host localhost\n",
      "2022-07-20 10:42:35,352 INFO sqlalchemy.engine.Engine select pg_catalog.version()\n",
      "2022-07-20 10:42:35,352 INFO sqlalchemy.engine.Engine [raw sql] {}\n",
      "2022-07-20 10:42:35,352 INFO sqlalchemy.engine.Engine select current_schema()\n",
      "2022-07-20 10:42:35,352 INFO sqlalchemy.engine.Engine [raw sql] {}\n",
      "2022-07-20 10:42:35,361 INFO sqlalchemy.engine.Engine show standard_conforming_strings\n",
      "2022-07-20 10:42:35,361 INFO sqlalchemy.engine.Engine [raw sql] {}\n"
     ]
    }
   ],
   "source": [
    "cfg = {\n",
    "    \"user\": f\"{os.environ['POSTGRE_USER']}\",\n",
    "    \"password\": f\"{os.environ['POSTGRE_PASSWORD']}\",\n",
    "    \"port\": \"5432\",\n",
    "    \"database\": \"herbario\"\n",
    "}\n",
    "filename = \"original.csv\"\n",
    "filename_george = \"dados-george.csv\"\n",
    "\n",
    "\n",
    "def connect(cfg):\n",
    "    list_hosts = [\"localhost\", \"192.168.0.160\"]\n",
    "    for host in list_hosts:\n",
    "        try:\n",
    "            engine = sqlalchemy.create_engine(f\"postgresql+psycopg2://{cfg['user']}:{cfg['password']}@{host}:{cfg['port']}/{cfg['database']}\", echo=True, pool_pre_ping=True)\n",
    "            Session = sqlalchemy.orm.sessionmaker(bind=engine)\n",
    "            Session.configure(bind=engine)\n",
    "            session = Session()\n",
    "            if engine.connect():\n",
    "                return engine, session\n",
    "        except Exception as e:\n",
    "            print(f\"problems with host {host}\")\n",
    "\n",
    "\n",
    "engine, session = connect(cfg)"
   ],
   "metadata": {
    "collapsed": false,
    "pycharm": {
     "name": "#%%\n"
    }
   }
  },
  {
   "cell_type": "markdown",
   "source": [
    "# Load data"
   ],
   "metadata": {
    "collapsed": false,
    "pycharm": {
     "name": "#%% md\n"
    }
   }
  },
  {
   "cell_type": "code",
   "execution_count": 95,
   "outputs": [],
   "source": [
    "dataframe = pandas.read_csv(\"original.csv\", sep=\";\", low_memory=False, skipinitialspace=True)\n",
    "dataframe_george = pandas.read_csv(filename_george, sep=\";\", low_memory=False, skipinitialspace=True)"
   ],
   "metadata": {
    "collapsed": false,
    "pycharm": {
     "name": "#%%\n"
    }
   }
  },
  {
   "cell_type": "markdown",
   "source": [
    "# \"Tables\""
   ],
   "metadata": {
    "collapsed": false,
    "pycharm": {
     "name": "#%% md\n"
    }
   }
  },
  {
   "cell_type": "code",
   "execution_count": 96,
   "outputs": [],
   "source": [
    "Base = sqlalchemy.ext.declarative.declarative_base()\n",
    "\n",
    "class DataSP(Base):\n",
    "    __tablename__ = \"data\"\n",
    "\n",
    "    seq = sqlalchemy.Column(sqlalchemy.BigInteger, primary_key=True)\n",
    "    modified = sqlalchemy.Column(sqlalchemy.DateTime, nullable=True)\n",
    "    institution_code = sqlalchemy.Column(sqlalchemy.String, nullable=True)\n",
    "    collection_code = sqlalchemy.Column(sqlalchemy.String, nullable=True)\n",
    "    catalog_number = sqlalchemy.Column(sqlalchemy.String, nullable=True)\n",
    "    basis_of_record = sqlalchemy.Column(sqlalchemy.String, nullable=True)\n",
    "    kingdom = sqlalchemy.Column(sqlalchemy.String, nullable=True)\n",
    "    phylum = sqlalchemy.Column(sqlalchemy.String, nullable=True)\n",
    "    classe = sqlalchemy.Column(sqlalchemy.String, nullable=True)\n",
    "    order = sqlalchemy.Column(sqlalchemy.String, nullable=True)\n",
    "    family = sqlalchemy.Column(sqlalchemy.String, nullable=True)\n",
    "    genus = sqlalchemy.Column(sqlalchemy.String, nullable=True)\n",
    "    specific_epithet = sqlalchemy.Column(sqlalchemy.String, nullable=True)\n",
    "    infraspecific_epithet = sqlalchemy.Column(sqlalchemy.String, nullable=True)\n",
    "    scientific_name = sqlalchemy.Column(sqlalchemy.String, nullable=True)\n",
    "    scientific_name_authorship = sqlalchemy.Column(sqlalchemy.String, nullable=True)\n",
    "    identified_by = sqlalchemy.Column(sqlalchemy.String, nullable=True)\n",
    "    year_identified = sqlalchemy.Column(sqlalchemy.String, nullable=True)\n",
    "    month_identified = sqlalchemy.Column(sqlalchemy.String, nullable=True)\n",
    "    day_identified = sqlalchemy.Column(sqlalchemy.String, nullable=True)\n",
    "    type_status = sqlalchemy.Column(sqlalchemy.String, nullable=True)\n",
    "    recorded_by = sqlalchemy.Column(sqlalchemy.String, nullable=True)\n",
    "    record_number = sqlalchemy.Column(sqlalchemy.String, nullable=True)\n",
    "    field_number = sqlalchemy.Column(sqlalchemy.String, nullable=True)\n",
    "    year = sqlalchemy.Column(sqlalchemy.BigInteger, nullable=True)\n",
    "    month = sqlalchemy.Column(sqlalchemy.BigInteger, nullable=True)\n",
    "    day = sqlalchemy.Column(sqlalchemy.BigInteger, nullable=True)\n",
    "    event_time = sqlalchemy.Column(sqlalchemy.String, nullable=True)\n",
    "    continent_ocean = sqlalchemy.Column(sqlalchemy.String, nullable=True)\n",
    "    country = sqlalchemy.Column(sqlalchemy.String, nullable=True)\n",
    "    state_province = sqlalchemy.Column(sqlalchemy.String, nullable=True)\n",
    "    county = sqlalchemy.Column(sqlalchemy.String, nullable=True)\n",
    "    locality = sqlalchemy.Column(sqlalchemy.String, nullable=True)\n",
    "    decimal_longitude = sqlalchemy.Column(sqlalchemy.String, nullable=True)\n",
    "    decimal_latitude = sqlalchemy.Column(sqlalchemy.String, nullable=True)\n",
    "    verbatim_longitude = sqlalchemy.Column(sqlalchemy.String, nullable=True)\n",
    "    verbatim_latitude = sqlalchemy.Column(sqlalchemy.String, nullable=True)\n",
    "    coordinate_precision = sqlalchemy.Column(sqlalchemy.String, nullable=True)\n",
    "    bounding_box = sqlalchemy.Column(sqlalchemy.String, nullable=True)\n",
    "    minimum_elevation_in_meters = sqlalchemy.Column(sqlalchemy.BigInteger, nullable=True)\n",
    "    maximum_elevation_in_meters = sqlalchemy.Column(sqlalchemy.BigInteger, nullable=True)\n",
    "    minimum_depth_in_meters = sqlalchemy.Column(sqlalchemy.BigInteger, nullable=True)\n",
    "    maximum_depth_in_meters = sqlalchemy.Column(sqlalchemy.BigInteger, nullable=True)\n",
    "    sex = sqlalchemy.Column(sqlalchemy.String, nullable=True)\n",
    "    preparation_type = sqlalchemy.Column(sqlalchemy.String, nullable=True)\n",
    "    individual_count = sqlalchemy.Column(sqlalchemy.BigInteger, nullable=True)\n",
    "    previous_catalog_number = sqlalchemy.Column(sqlalchemy.String, nullable=True)\n",
    "    relationship_type = sqlalchemy.Column(sqlalchemy.String, nullable=True)\n",
    "    related_catalog_item = sqlalchemy.Column(sqlalchemy.String, nullable=True)\n",
    "    occurrence_remarks = sqlalchemy.Column(sqlalchemy.String, nullable=True)\n",
    "    barcode = sqlalchemy.Column(sqlalchemy.String, nullable=True)\n",
    "    imagecode = sqlalchemy.Column(sqlalchemy.String, nullable=True)\n",
    "    geo_flag = sqlalchemy.Column(sqlalchemy.String, nullable=True)\n",
    "    george = sqlalchemy.Column(sqlalchemy.Boolean, nullable=True)\n",
    "    my_country = sqlalchemy.Column(sqlalchemy.String, nullable=True)\n",
    "    my_state = sqlalchemy.Column(sqlalchemy.String, nullable=True)\n",
    "    my_city = sqlalchemy.Column(sqlalchemy.String, nullable=True)\n",
    "\n",
    "    def __repr__(self):\n",
    "        return \"DataSP(seq=%s, modified=%s, institution_code=%s, collection_code=%s, catalog_number=%s, \" \\\n",
    "               \"basis_of_record=%s, kingdom=%s, phylum=%s, classe=%s, order=%s, family=%s, genus=%s, \" \\\n",
    "               \"specific_epithet=%s, infraspecific_epithet=%s, scientific_name=%s, scientific_name_authorship=%s, \" \\\n",
    "               \"identified_by=%s, year_identified=%s, month_identified=%s, day_identified=%s, type_status=%s, \" \\\n",
    "               \"recorded_by=%s, record_number=%s, field_number=%s, year=%s, month=%s, day=%s, event_time=%s, \" \\\n",
    "               \"continent_ocean=%s, country=%s, state_province=%s, county=%s, locality=%s, decimal_longitude=%s, \" \\\n",
    "               \"decimal_latitude=%s, verbatim_longitude=%s, verbatim_latitude=%s, coordinate_precision=%s, \" \\\n",
    "               \"bounding_box=%s, minimum_elevation_in_meters=%s, maximum_elevation_in_meters=%s, \" \\\n",
    "               \"minimum_depth_in_meters=%s, maximum_depth_in_meters=%s, sex=%s, preparation_type=%s, \" \\\n",
    "               \"individual_count=%s, previous_catalog_number=%s, relationship_type=%s, related_catalog_item=%s, \" \\\n",
    "               \"occurrence_remarks=%s, barcode=%s, imagecode=%s, geo_flag=%s) \"\n",
    "\n",
    "# County is muncipio, condado\n",
    "class County(Base):\n",
    "    __tablename__ = \"county\"\n",
    "\n",
    "    id = sqlalchemy.Column(sqlalchemy.Integer, primary_key=True)\n",
    "    county = sqlalchemy.Column(sqlalchemy.String, nullable=True)\n",
    "    uf = sqlalchemy.Column(sqlalchemy.String, nullable=True)\n",
    "    uf_name = sqlalchemy.Column(sqlalchemy.String, nullable=True)\n",
    "\n",
    "    def __repr__(self):\n",
    "        return \"County(id=%s, county=%s, county_normalized=%s, uf=%s, uf_normalized=%s, uf_name=%s, uf_name_normalized=%s)\""
   ],
   "metadata": {
    "collapsed": false,
    "pycharm": {
     "name": "#%%\n"
    }
   }
  },
  {
   "cell_type": "markdown",
   "source": [
    "# database"
   ],
   "metadata": {
    "collapsed": false,
    "pycharm": {
     "name": "#%% md\n"
    }
   }
  },
  {
   "cell_type": "code",
   "execution_count": 97,
   "outputs": [],
   "source": [
    "def make_operation(session):\n",
    "    try:\n",
    "        session.commit()\n",
    "        session.flush()\n",
    "    except Exception as e:\n",
    "        session.rollback()\n",
    "        print(e)\n",
    "        raise\n",
    "    finally:\n",
    "        session.close()\n",
    "\n",
    "def create_table_if_not_exists(table_name):\n",
    "    if not sqlalchemy.inspect(engine).has_table(table_name, schema=cfg[\"database\"]):\n",
    "        Base.metadata.create_all(engine)\n",
    "\n",
    "def create_datasp(info):\n",
    "    return DataSP(seq=info[\"seq\"],\n",
    "                  modified=info[\"modified\"], institution_code=info[\"institutionCode\"],\n",
    "                  collection_code=info[\"collectionCode\"], catalog_number=info[\"catalogNumber\"],\n",
    "                  basis_of_record=info[\"basisOfRecord\"], kingdom=info[\"kingdom\"], phylum=info[\"phylum\"],\n",
    "                  classe=info[\"class\"], order=info[\"order\"], family=info[\"family\"],\n",
    "                  genus=info[\"genus\"],\n",
    "                  specific_epithet=info[\"specificEpithet\"],\n",
    "                  infraspecific_epithet=info[\"infraspecificEpithet\"],\n",
    "                  scientific_name=info[\"scientificName\"],\n",
    "                  scientific_name_authorship=info[\"scientificNameAuthorship\"],\n",
    "                  identified_by=info[\"identifiedBy\"], year_identified=info[\"yearIdentified\"],\n",
    "                  month_identified=info[\"monthIdentified\"], day_identified=info[\"dayIdentified\"],\n",
    "                  type_status=info[\"typeStatus\"],\n",
    "                  recorded_by=info[\"recordedBy\"], record_number=info[\"recordNumber\"],\n",
    "                  field_number=info[\"fieldNumber\"], year=info[\"year\"], month=info[\"month\"],\n",
    "                  day=info[\"day\"], event_time=info[\"eventTime\"],\n",
    "                  continent_ocean=info[\"continentOcean\"], country=info[\"country\"],\n",
    "                  state_province=info[\"stateProvince\"], county=info[\"county\"], locality=info[\"locality\"],\n",
    "                  decimal_longitude=info[\"decimalLongitude\"],\n",
    "                  decimal_latitude=info[\"decimalLatitude\"], verbatim_longitude=info[\"verbatimLongitude\"],\n",
    "                  verbatim_latitude=info[\"verbatimLatitude\"],\n",
    "                  coordinate_precision=info[\"coordinatePrecision\"],\n",
    "                  bounding_box=info[\"boundingBox\"],\n",
    "                  minimum_elevation_in_meters=info[\"minimumElevationInMeters\"],\n",
    "                  maximum_elevation_in_meters=info[\"maximumElevationInMeters\"],\n",
    "                  minimum_depth_in_meters=info[\"minimumDepthInMeters\"],\n",
    "                  maximum_depth_in_meters=info[\"maximumDepthInMeters\"], sex=info[\"sex\"],\n",
    "                  preparation_type=info[\"preparationType\"],\n",
    "                  individual_count=info[\"individualCount\"],\n",
    "                  previous_catalog_number=info[\"previousCatalogNumber\"],\n",
    "                  relationship_type=info[\"relationshipType\"],\n",
    "                  related_catalog_item=info[\"relatedCatalogItem\"],\n",
    "                  occurrence_remarks=info[\"occurrenceRemarks\"], barcode=info[\"barcode\"],\n",
    "                  imagecode=info[\"imagecode\"], geo_flag=info[\"geoFlag\"])\n",
    "\n",
    "def create_county(json):\n",
    "    uf, uf_name = get_uf(json)\n",
    "    return County(id=get_id(json), county=get_county_name(json), uf=uf, uf_name=uf_name)"
   ],
   "metadata": {
    "collapsed": false,
    "pycharm": {
     "name": "#%%\n"
    }
   }
  },
  {
   "cell_type": "code",
   "execution_count": 98,
   "outputs": [
    {
     "name": "stderr",
     "output_type": "stream",
     "text": [
      "C:\\Users\\xandao\\AppData\\Local\\Temp\\ipykernel_9288\\3214596379.py:4: SAWarning: The GenericFunction 'unaccent' is already registered and is going to be overridden.\n",
      "  class unaccent(ReturnTypeFromArgs):\n"
     ]
    }
   ],
   "source": [
    "from sqlalchemy.sql.functions import ReturnTypeFromArgs\n",
    "\n",
    "# CREATE EXTENSION unaccent;\n",
    "class unaccent(ReturnTypeFromArgs):\n",
    "    pass\n",
    "\n",
    "\n",
    "def get_key(json, key):\n",
    "    if key in json:\n",
    "        return json[key]\n",
    "    raise KeyError(f\"key {key} not found\")\n",
    "\n",
    "\n",
    "def get_id(json):\n",
    "    if \"id\" in json:\n",
    "        return json[\"id\"]\n",
    "    raise KeyError(f\"key id not found\")\n",
    "\n",
    "\n",
    "def get_county_name(json):\n",
    "    if \"nome\" in json:\n",
    "        return json[\"nome\"]\n",
    "    raise KeyError(f\"key nome not found\")\n",
    "\n",
    "\n",
    "def get_uf(json):\n",
    "    if \"microrregiao\" in json:\n",
    "        if \"mesorregiao\" in json[\"microrregiao\"]:\n",
    "            if \"UF\" in json[\"microrregiao\"][\"mesorregiao\"]:\n",
    "                return json[\"microrregiao\"][\"mesorregiao\"][\"UF\"][\"sigla\"], json[\"microrregiao\"][\"mesorregiao\"][\"UF\"][\"nome\"]\n",
    "            raise KeyError(\"key UF not found\")\n",
    "        raise KeyError(\"key mesorregiao not found\")\n",
    "    raise KeyError(\"key microrregiao not found\")"
   ],
   "metadata": {
    "collapsed": false,
    "pycharm": {
     "name": "#%%\n"
    }
   }
  },
  {
   "cell_type": "code",
   "execution_count": 99,
   "outputs": [
    {
     "name": "stdout",
     "output_type": "stream",
     "text": [
      "2022-07-20 10:42:36,042 INFO sqlalchemy.engine.Engine select relname from pg_class c join pg_namespace n on n.oid=c.relnamespace where n.nspname=%(schema)s and relname=%(name)s\n",
      "2022-07-20 10:42:36,042 INFO sqlalchemy.engine.Engine [generated in 0.00266s] {'schema': 'herbario', 'name': 'county'}\n",
      "2022-07-20 10:42:36,051 INFO sqlalchemy.engine.Engine BEGIN (implicit)\n",
      "2022-07-20 10:42:36,051 INFO sqlalchemy.engine.Engine select relname from pg_class c join pg_namespace n on n.oid=c.relnamespace where pg_catalog.pg_table_is_visible(c.oid) and relname=%(name)s\n",
      "2022-07-20 10:42:36,051 INFO sqlalchemy.engine.Engine [generated in 0.00087s] {'name': 'data'}\n",
      "2022-07-20 10:42:36,062 INFO sqlalchemy.engine.Engine select relname from pg_class c join pg_namespace n on n.oid=c.relnamespace where pg_catalog.pg_table_is_visible(c.oid) and relname=%(name)s\n",
      "2022-07-20 10:42:36,062 INFO sqlalchemy.engine.Engine [cached since 0.005756s ago] {'name': 'county'}\n",
      "2022-07-20 10:42:36,062 INFO sqlalchemy.engine.Engine COMMIT\n",
      "2022-07-20 10:42:36,071 INFO sqlalchemy.engine.Engine select relname from pg_class c join pg_namespace n on n.oid=c.relnamespace where n.nspname=%(schema)s and relname=%(name)s\n",
      "2022-07-20 10:42:36,071 INFO sqlalchemy.engine.Engine [cached since 0.02671s ago] {'schema': 'herbario', 'name': 'data'}\n",
      "2022-07-20 10:42:36,071 INFO sqlalchemy.engine.Engine BEGIN (implicit)\n",
      "2022-07-20 10:42:36,071 INFO sqlalchemy.engine.Engine select relname from pg_class c join pg_namespace n on n.oid=c.relnamespace where pg_catalog.pg_table_is_visible(c.oid) and relname=%(name)s\n",
      "2022-07-20 10:42:36,071 INFO sqlalchemy.engine.Engine [cached since 0.02074s ago] {'name': 'data'}\n",
      "2022-07-20 10:42:36,081 INFO sqlalchemy.engine.Engine select relname from pg_class c join pg_namespace n on n.oid=c.relnamespace where pg_catalog.pg_table_is_visible(c.oid) and relname=%(name)s\n",
      "2022-07-20 10:42:36,081 INFO sqlalchemy.engine.Engine [cached since 0.02526s ago] {'name': 'county'}\n",
      "2022-07-20 10:42:36,081 INFO sqlalchemy.engine.Engine COMMIT\n"
     ]
    }
   ],
   "source": [
    "create_table_if_not_exists(\"county\")\n",
    "create_table_if_not_exists(\"data\")"
   ],
   "metadata": {
    "collapsed": false,
    "pycharm": {
     "name": "#%%\n"
    }
   }
  },
  {
   "cell_type": "code",
   "execution_count": 100,
   "outputs": [
    {
     "name": "stdout",
     "output_type": "stream",
     "text": [
      "2022-07-20 10:42:36,101 INFO sqlalchemy.engine.Engine BEGIN (implicit)\n",
      "2022-07-20 10:42:36,101 INFO sqlalchemy.engine.Engine SELECT count(*) AS count_1 \n",
      "FROM (SELECT county.id AS county_id, county.county AS county_county, county.uf AS county_uf, county.uf_name AS county_uf_name \n",
      "FROM county) AS anon_1\n",
      "2022-07-20 10:42:36,101 INFO sqlalchemy.engine.Engine [generated in 0.00129s] {}\n",
      "2022-07-20 10:42:36,111 INFO sqlalchemy.engine.Engine SELECT count(*) AS count_1 \n",
      "FROM (SELECT data.seq AS data_seq, data.modified AS data_modified, data.institution_code AS data_institution_code, data.collection_code AS data_collection_code, data.catalog_number AS data_catalog_number, data.basis_of_record AS data_basis_of_record, data.kingdom AS data_kingdom, data.phylum AS data_phylum, data.classe AS data_classe, data.\"order\" AS data_order, data.family AS data_family, data.genus AS data_genus, data.specific_epithet AS data_specific_epithet, data.infraspecific_epithet AS data_infraspecific_epithet, data.scientific_name AS data_scientific_name, data.scientific_name_authorship AS data_scientific_name_authorship, data.identified_by AS data_identified_by, data.year_identified AS data_year_identified, data.month_identified AS data_month_identified, data.day_identified AS data_day_identified, data.type_status AS data_type_status, data.recorded_by AS data_recorded_by, data.record_number AS data_record_number, data.field_number AS data_field_number, data.year AS data_year, data.month AS data_month, data.day AS data_day, data.event_time AS data_event_time, data.continent_ocean AS data_continent_ocean, data.country AS data_country, data.state_province AS data_state_province, data.county AS data_county, data.locality AS data_locality, data.decimal_longitude AS data_decimal_longitude, data.decimal_latitude AS data_decimal_latitude, data.verbatim_longitude AS data_verbatim_longitude, data.verbatim_latitude AS data_verbatim_latitude, data.coordinate_precision AS data_coordinate_precision, data.bounding_box AS data_bounding_box, data.minimum_elevation_in_meters AS data_minimum_elevation_in_meters, data.maximum_elevation_in_meters AS data_maximum_elevation_in_meters, data.minimum_depth_in_meters AS data_minimum_depth_in_meters, data.maximum_depth_in_meters AS data_maximum_depth_in_meters, data.sex AS data_sex, data.preparation_type AS data_preparation_type, data.individual_count AS data_individual_count, data.previous_catalog_number AS data_previous_catalog_number, data.relationship_type AS data_relationship_type, data.related_catalog_item AS data_related_catalog_item, data.occurrence_remarks AS data_occurrence_remarks, data.barcode AS data_barcode, data.imagecode AS data_imagecode, data.geo_flag AS data_geo_flag, data.george AS data_george, data.my_country AS data_my_country, data.my_state AS data_my_state, data.my_city AS data_my_city \n",
      "FROM data) AS anon_1\n",
      "2022-07-20 10:42:36,111 INFO sqlalchemy.engine.Engine [generated in 0.00103s] {}\n",
      "2022-07-20 10:42:36,131 INFO sqlalchemy.engine.Engine SELECT count(*) AS count_1 \n",
      "FROM (SELECT data.seq AS data_seq, data.modified AS data_modified, data.institution_code AS data_institution_code, data.collection_code AS data_collection_code, data.catalog_number AS data_catalog_number, data.basis_of_record AS data_basis_of_record, data.kingdom AS data_kingdom, data.phylum AS data_phylum, data.classe AS data_classe, data.\"order\" AS data_order, data.family AS data_family, data.genus AS data_genus, data.specific_epithet AS data_specific_epithet, data.infraspecific_epithet AS data_infraspecific_epithet, data.scientific_name AS data_scientific_name, data.scientific_name_authorship AS data_scientific_name_authorship, data.identified_by AS data_identified_by, data.year_identified AS data_year_identified, data.month_identified AS data_month_identified, data.day_identified AS data_day_identified, data.type_status AS data_type_status, data.recorded_by AS data_recorded_by, data.record_number AS data_record_number, data.field_number AS data_field_number, data.year AS data_year, data.month AS data_month, data.day AS data_day, data.event_time AS data_event_time, data.continent_ocean AS data_continent_ocean, data.country AS data_country, data.state_province AS data_state_province, data.county AS data_county, data.locality AS data_locality, data.decimal_longitude AS data_decimal_longitude, data.decimal_latitude AS data_decimal_latitude, data.verbatim_longitude AS data_verbatim_longitude, data.verbatim_latitude AS data_verbatim_latitude, data.coordinate_precision AS data_coordinate_precision, data.bounding_box AS data_bounding_box, data.minimum_elevation_in_meters AS data_minimum_elevation_in_meters, data.maximum_elevation_in_meters AS data_maximum_elevation_in_meters, data.minimum_depth_in_meters AS data_minimum_depth_in_meters, data.maximum_depth_in_meters AS data_maximum_depth_in_meters, data.sex AS data_sex, data.preparation_type AS data_preparation_type, data.individual_count AS data_individual_count, data.previous_catalog_number AS data_previous_catalog_number, data.relationship_type AS data_relationship_type, data.related_catalog_item AS data_related_catalog_item, data.occurrence_remarks AS data_occurrence_remarks, data.barcode AS data_barcode, data.imagecode AS data_imagecode, data.geo_flag AS data_geo_flag, data.george AS data_george, data.my_country AS data_my_country, data.my_state AS data_my_state, data.my_city AS data_my_city \n",
      "FROM data \n",
      "WHERE data.george = true) AS anon_1\n",
      "2022-07-20 10:42:36,137 INFO sqlalchemy.engine.Engine [generated in 0.00109s] {}\n"
     ]
    }
   ],
   "source": [
    "if session.query(County).count() == 0:\n",
    "    try:\n",
    "        response = requests.get(\"https://servicodados.ibge.gov.br/api/v1/localidades/municipios\")\n",
    "    except Exception as e:\n",
    "        raise print(f\"error: {e}\")\n",
    "\n",
    "    for i, county in enumerate(response.json()):\n",
    "        session.add(create_county(county))\n",
    "        make_operation(session)\n",
    "\n",
    "\n",
    "if session.query(DataSP).count() == 0:\n",
    "\n",
    "    for row in dataframe.iterrows():\n",
    "        session.add(create_datasp(row[1]))\n",
    "        make_operation(session)\n",
    "\n",
    "\n",
    "if session.query(DataSP).filter(DataSP.george == True).count() == 0:\n",
    "    for row in dataframe.iterrows():\n",
    "        if row[1][\"GEORGE\"].lower() == \"sim\":\n",
    "            session.query(DataSP).filter(DataSP.seq == row[1][\"seq\"]).update({\"george\": True}, synchronize_session=False)\n",
    "            make_operation(session)"
   ],
   "metadata": {
    "collapsed": false,
    "pycharm": {
     "name": "#%%\n"
    }
   }
  },
  {
   "cell_type": "markdown",
   "source": [
    "# Preprocess (dataframe)"
   ],
   "metadata": {
    "collapsed": false,
    "pycharm": {
     "name": "#%% md\n"
    }
   }
  },
  {
   "cell_type": "code",
   "execution_count": 101,
   "outputs": [],
   "source": [
    "def convert_header_to_snake_case(dataframe):\n",
    "    return  {column_name: re.sub(r'(?<!^)(?=[A-Z])', '_', column_name).lower() for column_name in get_columns_dataframe(dataframe)}\n",
    "\n",
    "\n",
    "def change_header(dataframe):\n",
    "    dataframe.rename(columns=convert_header_to_snake_case(dataframe), inplace=True)\n",
    "\n",
    "\n",
    "def get_columns_numeric(dataframe):\n",
    "    list_of_columns_numeric = list([])\n",
    "    for columns_dataframe in get_columns_dataframe(dataframe):\n",
    "        for columns_table in get_columns_table(DataSP):\n",
    "            if check_if_column_is_numeric(columns_dataframe, columns_table):\n",
    "                list_of_columns_numeric.append(columns_dataframe)\n",
    "    return list_of_columns_numeric\n",
    "\n",
    "\n",
    "def get_columns_table(table):\n",
    "    return table.__table__.columns\n",
    "\n",
    "\n",
    "def get_columns_dataframe(dataframe):\n",
    "    return list([*dataframe.columns])\n",
    "\n",
    "\n",
    "def check_if_column_is_numeric(columns_dataframe, columns_table):\n",
    "    return str(columns_dataframe) in str(columns_table) and (\"int\" in str(columns_table.type).lower() or \"float\" in str(columns_table.type).lower())\n",
    "\n",
    "\n",
    "def replace_nan_to_null(dataframe):\n",
    "    return dataframe.replace({numpy.nan: None})\n",
    "\n",
    "\n",
    "def replace_values_not_numeric(dataframe):\n",
    "    for column in list([*get_columns_numeric(dataframe)]):\n",
    "        dataframe[column] = pandas.to_numeric(getattr(dataframe, column), errors='coerce').fillna(-1)\n",
    "    return dataframe\n",
    "\n",
    "\n",
    "def preprocess(dataframe):\n",
    "    return replace_nan_to_null(replace_values_not_numeric(dataframe))"
   ],
   "metadata": {
    "collapsed": false,
    "pycharm": {
     "name": "#%%\n"
    }
   }
  },
  {
   "cell_type": "code",
   "execution_count": null,
   "outputs": [],
   "source": [
    "data_piperaceae = session.query(DataSP).all()\n",
    "data_uf = session.query(sqlalchemy.func.lower(unaccent(County.uf))).distinct().all()\n",
    "data_uf_name = session.query(sqlalchemy.func.lower(unaccent(County.uf_name))).distinct().all()\n",
    "data_county = session.query(unaccent(County.county)).all()"
   ],
   "metadata": {
    "collapsed": false,
    "pycharm": {
     "name": "#%%\n",
     "is_executing": true
    }
   }
  },
  {
   "cell_type": "code",
   "execution_count": 115,
   "outputs": [],
   "source": [
    "def remove_set(data):\n",
    "    return list([s for s, in data])\n",
    "\n",
    "data_uf = remove_set(data_uf)\n",
    "data_uf_name = remove_set(data_uf_name)\n",
    "data_county = remove_set(data_county)\n",
    "data_country = [\"brasil\", \"brasil\"]\n",
    "list_of_all_data = [data_uf_name, data_county, data_country]"
   ],
   "metadata": {
    "collapsed": false,
    "pycharm": {
     "name": "#%%\n"
    }
   }
  },
  {
   "cell_type": "code",
   "execution_count": null,
   "outputs": [],
   "source": [
    "def column_is_string_or_varchar_or_text(column):\n",
    "    return \"string\" in str(column.type).lower() or \"varchar\" in str(column.type).lower() or \"text\" in str(column.type).lower()\n",
    "\n",
    "list_seq = list([])\n",
    "list_of_columns_valid = list([column.name.replace(\"data.\", \"\") for column in get_columns_table(DataSP) if column_is_string_or_varchar_or_text(column)])\n",
    "\n",
    "start = time.process_time()\n",
    "for data in list_of_all_data:\n",
    "    for d in data:\n",
    "        for columns in list_of_columns_valid:\n",
    "            separado = re.sub(r'\\b[a-z]+\\s*', '', d).strip().split() #\n",
    "            if len(separado) > 0:\n",
    "                q = session.query(DataSP.seq).filter(sqlalchemy.and_(*[sqlalchemy.func.lower(unaccent(getattr(DataSP, columns))).ilike(f\"%{s}%\") for s in separado])).all()\n",
    "            else:\n",
    "                q = session.query(DataSP.seq).filter(sqlalchemy.func.lower(unaccent(getattr(DataSP, columns))).ilike(f\"%{d}%\")).all()\n",
    "            if len(q) > 0:\n",
    "                list_seq.append({\"seq\": remove_set(q), \"column\": columns, \"value_searched\": d})\n",
    "end = time.process_time()\n",
    "elapsed_time = end-start\n",
    "print(f\"elapsed_time: {elapsed_time} seconds\") "
   ],
   "metadata": {
    "collapsed": false,
    "pycharm": {
     "name": "#%%\n",
     "is_executing": true
    }
   }
  },
  {
   "cell_type": "code",
   "execution_count": 117,
   "outputs": [
    {
     "name": "stdout",
     "output_type": "stream",
     "text": [
      "file result\\20-07-2022-10-46-14.csv created\n"
     ]
    }
   ],
   "source": [
    "pathlib.Path(\"result\").mkdir(parents=True, exist_ok=True)\n",
    "path_to_file = os.path.join(\"result\", f\"{datetime.datetime.now().strftime('%d-%m-%Y-%H-%M-%S')}.csv\")\n",
    "try:\n",
    "    with open(path_to_file, \"w\") as file:\n",
    "        file.write(\"seq; column; value_searched\\n\")\n",
    "        for s in list_seq:\n",
    "            file.write(f\"{s['seq']}; {s['column']}; {s['value_searched']}\\n\")\n",
    "        file.close()\n",
    "        print(f\"file {path_to_file} created\")\n",
    "except Exception as e:\n",
    "    print(f\"except: {e}\")\n",
    "    raise"
   ],
   "metadata": {
    "collapsed": false,
    "pycharm": {
     "name": "#%%\n"
    }
   }
  },
  {
   "cell_type": "code",
   "execution_count": 106,
   "outputs": [
    {
     "name": "stdout",
     "output_type": "stream",
     "text": [
      "2022-07-20 10:42:37,861 INFO sqlalchemy.engine.Engine ROLLBACK\n"
     ]
    }
   ],
   "source": [
    "session.close()\n",
    "engine.dispose()"
   ],
   "metadata": {
    "collapsed": false,
    "pycharm": {
     "name": "#%%\n"
    }
   }
  },
  {
   "cell_type": "code",
   "execution_count": null,
   "outputs": [],
   "source": [],
   "metadata": {
    "collapsed": false,
    "pycharm": {
     "name": "#%%\n"
    }
   }
  }
 ],
 "metadata": {
  "kernelspec": {
   "display_name": "Python 3",
   "language": "python",
   "name": "python3"
  },
  "language_info": {
   "codemirror_mode": {
    "name": "ipython",
    "version": 2
   },
   "file_extension": ".py",
   "mimetype": "text/x-python",
   "name": "python",
   "nbconvert_exporter": "python",
   "pygments_lexer": "ipython2",
   "version": "2.7.6"
  }
 },
 "nbformat": 4,
 "nbformat_minor": 0
}