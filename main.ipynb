{
 "cells": [
  {
   "cell_type": "code",
   "execution_count": 4,
   "metadata": {
    "collapsed": false,
    "pycharm": {
     "name": "#%%\n"
    }
   },
   "outputs": [],
   "source": [
    "import os\n",
    "import sqlalchemy.orm.decl_api\n",
    "import time\n",
    "\n",
    "from api import *\n",
    "from dataframe import *\n",
    "from database import *\n",
    "from file import create_outfile\n",
    "from unaccent import unaccent"
   ]
  },
  {
   "cell_type": "markdown",
   "metadata": {
    "collapsed": false,
    "pycharm": {
     "name": "#%% md\n"
    }
   },
   "source": [
    "# cfg"
   ]
  },
  {
   "cell_type": "code",
   "execution_count": 5,
   "metadata": {
    "collapsed": false,
    "pycharm": {
     "name": "#%%\n"
    }
   },
   "outputs": [],
   "source": [
    "cfg = {\n",
    "    \"user\": f\"{os.environ['POSTGRE_USER']}\",\n",
    "    \"password\": f\"{os.environ['POSTGRE_PASSWORD']}\",\n",
    "    \"port\": \"5432\",\n",
    "    \"database\": \"herbario\"\n",
    "}\n",
    "filename = \"original.csv\"\n",
    "filename_george = \"dados-george.csv\"\n",
    "\n",
    "engine, session = connect(cfg)"
   ]
  },
  {
   "cell_type": "markdown",
   "metadata": {
    "collapsed": false,
    "pycharm": {
     "name": "#%% md\n"
    }
   },
   "source": [
    "# Load data"
   ]
  },
  {
   "cell_type": "code",
   "execution_count": 6,
   "metadata": {
    "collapsed": false,
    "pycharm": {
     "name": "#%%\n"
    }
   },
   "outputs": [],
   "source": [
    "dataframe = pandas.read_csv(\"original.csv\", sep=\";\", low_memory=False, skipinitialspace=True)\n",
    "dataframe_george = pandas.read_csv(filename_george, sep=\";\", low_memory=False, skipinitialspace=True)"
   ]
  },
  {
   "cell_type": "code",
   "execution_count": 7,
   "metadata": {
    "collapsed": false,
    "pycharm": {
     "name": "#%%\n"
    }
   },
   "outputs": [],
   "source": [
    "create_table_if_not_exists(cfg, engine, \"county\")\n",
    "create_table_if_not_exists(cfg, engine, \"data\")"
   ]
  },
  {
   "cell_type": "code",
   "execution_count": 8,
   "metadata": {
    "collapsed": false,
    "pycharm": {
     "name": "#%%\n"
    }
   },
   "outputs": [],
   "source": [
    "if session.query(County).count() == 0:\n",
    "    response = get_municipies()\n",
    "    for i, county in enumerate(response.json()):\n",
    "        session.add(create_county(county))\n",
    "        make_operation(session)\n",
    "\n",
    "\n",
    "if session.query(DataSP).count() == 0:\n",
    "    dataframe = preprocess(dataframe)\n",
    "    for row in dataframe.iterrows():\n",
    "        session.add(create_datasp(row[1]))\n",
    "        make_operation(session)\n",
    "\n",
    "\n",
    "if session.query(DataSP).filter(DataSP.george == True).count() == 0:\n",
    "    for row in dataframe.iterrows():\n",
    "        if row[1][\"GEORGE\"].lower() == \"sim\":\n",
    "            session.query(DataSP).filter(DataSP.seq == row[1][\"seq\"]).update({\"george\": True}, synchronize_session=False)\n",
    "            make_operation(session)"
   ]
  },
  {
   "cell_type": "code",
   "execution_count": 9,
   "metadata": {
    "collapsed": false,
    "pycharm": {
     "name": "#%%\n"
    }
   },
   "outputs": [],
   "source": [
    "def column_is_string_or_varchar_or_text(column):\n",
    "    return str(column.type).lower() in (\"string\", \"varchar\", \"text\")\n",
    "\n",
    "def get_columns_text():\n",
    "    return list([column.key for column in get_columns_table(DataSP) if column_is_string_or_varchar_or_text(column)])\n",
    "\n",
    "\n",
    "def remove_white_spaces(string):\n",
    "    return remove_word_started_lowercase(string).split(\" \")\n",
    "\n",
    "\n",
    "def remove_hyphen(string):\n",
    "    return remove_word_started_lowercase(string).split(\"-\")\n",
    "\n",
    "\n",
    "def remove_word_started_lowercase(string):\n",
    "    return re.sub(r\"\\b[a-z]+\\s*\", \"\", string)\n",
    "\n",
    "\n",
    "def find_and_update(data, list_seq, new_column, value=None):\n",
    "    for columns in list_of_columns_valid:\n",
    "        for data_formatted in (remove_white_spaces(data), remove_hyphen(data)):\n",
    "            if len(data_formatted) > 0:\n",
    "                q = session.query(DataSP.seq).filter(sqlalchemy.and_(\n",
    "                    *[sqlalchemy.func.lower(unaccent(getattr(DataSP, columns))).ilike(f\"%{s.lower()}%\") for s in\n",
    "                      data_formatted])).all()\n",
    "            else:\n",
    "                q = session.query(DataSP.seq).filter(\n",
    "                    sqlalchemy.func.lower(unaccent(getattr(DataSP, columns))).ilike(f\"%{data_formatted}%\")).all()\n",
    "            if len(q) > 0:\n",
    "                list_seq.append({\"seq\": remove_set(q), \"column\": columns, \"new_column\": new_column, \"value_searched\": value if value else data})"
   ]
  },
  {
   "cell_type": "code",
   "execution_count": 10,
   "metadata": {
    "collapsed": false,
    "pycharm": {
     "name": "#%%\n"
    }
   },
   "outputs": [],
   "source": [
    "data_piperaceae = session.query(DataSP).all()\n",
    "data_uf = session.query(sqlalchemy.func.lower(unaccent(County.uf))).distinct().all()\n",
    "data_uf_name = session.query(sqlalchemy.func.lower(unaccent(County.uf_name))).distinct().all()\n",
    "data_county = session.query(unaccent(County.county)).filter(County.uf==\"PR\").all()"
   ]
  },
  {
   "cell_type": "code",
   "execution_count": 11,
   "metadata": {
    "collapsed": false,
    "pycharm": {
     "name": "#%%\n"
    }
   },
   "outputs": [],
   "source": [
    "def remove_set(data):\n",
    "    return list([s for s, in data])\n",
    "\n",
    "data_uf = remove_set(data_uf)\n",
    "data_uf_name = remove_set(data_uf_name)\n",
    "data_county = remove_set(data_county)\n",
    "data_country = list([\"Brazil\", \"Brasil\"])"
   ]
  },
  {
   "cell_type": "code",
   "execution_count": 12,
   "metadata": {
    "collapsed": false,
    "pycharm": {
     "name": "#%%\n"
    }
   },
   "outputs": [],
   "source": [
    "list_seq = list([])\n",
    "list_of_columns_valid = get_columns_text()"
   ]
  },
  {
   "cell_type": "code",
   "execution_count": null,
   "metadata": {
    "collapsed": false,
    "pycharm": {
     "name": "#%%\n"
    }
   },
   "outputs": [],
   "source": [
    "start = time.process_time()\n",
    "\n",
    "for d in data_country:\n",
    "    find_and_update(d, list_seq, \"my_country\", value=\"Brasil\")\n",
    "\n",
    "end = time.process_time()\n",
    "elapsed_time = end-start\n",
    "print(f\"elapsed_time: {elapsed_time} seconds\")"
   ]
  },
  {
   "cell_type": "code",
   "execution_count": 13,
   "metadata": {
    "collapsed": false,
    "pycharm": {
     "name": "#%%\n"
    }
   },
   "outputs": [
    {
     "name": "stdout",
     "output_type": "stream",
     "text": [
      "elapsed_time: 520.125 seconds\n"
     ]
    }
   ],
   "source": [
    "start = time.process_time()\n",
    "\n",
    "for d in data_uf_name:\n",
    "    find_and_update(d, list_seq, \"my_state\")\n",
    "\n",
    "end = time.process_time()\n",
    "elapsed_time = end-start\n",
    "print(f\"elapsed_time: {elapsed_time} seconds\")"
   ]
  },
  {
   "cell_type": "code",
   "execution_count": null,
   "metadata": {
    "collapsed": false,
    "pycharm": {
     "name": "#%%\n"
    }
   },
   "outputs": [],
   "source": [
    "start = time.process_time()\n",
    "\n",
    "for d in data_county:\n",
    "    find_and_update(d, list_seq, \"my_city\")\n",
    "\n",
    "end = time.process_time()\n",
    "elapsed_time = end-start\n",
    "print(f\"elapsed_time: {elapsed_time} seconds\")"
   ]
  },
  {
   "cell_type": "code",
   "execution_count": 14,
   "metadata": {
    "collapsed": false,
    "pycharm": {
     "name": "#%%\n"
    }
   },
   "outputs": [
    {
     "ename": "KeyboardInterrupt",
     "evalue": "",
     "output_type": "error",
     "traceback": [
      "\u001B[1;31m---------------------------------------------------------------------------\u001B[0m",
      "\u001B[1;31mKeyboardInterrupt\u001B[0m                         Traceback (most recent call last)",
      "Input \u001B[1;32mIn [14]\u001B[0m, in \u001B[0;36m<cell line: 1>\u001B[1;34m()\u001B[0m\n\u001B[0;32m      1\u001B[0m \u001B[38;5;28;01mfor\u001B[39;00m l \u001B[38;5;129;01min\u001B[39;00m list_seq:\n\u001B[0;32m      2\u001B[0m     \u001B[38;5;28;01mfor\u001B[39;00m y \u001B[38;5;129;01min\u001B[39;00m l[\u001B[38;5;124m\"\u001B[39m\u001B[38;5;124mseq\u001B[39m\u001B[38;5;124m\"\u001B[39m]:\n\u001B[1;32m----> 3\u001B[0m         \u001B[43msession\u001B[49m\u001B[38;5;241;43m.\u001B[39;49m\u001B[43mquery\u001B[49m\u001B[43m(\u001B[49m\u001B[43mDataSP\u001B[49m\u001B[43m)\u001B[49m\u001B[38;5;241;43m.\u001B[39;49m\u001B[43mfilter\u001B[49m\u001B[43m(\u001B[49m\u001B[43mDataSP\u001B[49m\u001B[38;5;241;43m.\u001B[39;49m\u001B[43mseq\u001B[49m\u001B[43m \u001B[49m\u001B[38;5;241;43m==\u001B[39;49m\u001B[43m \u001B[49m\u001B[43my\u001B[49m\u001B[43m)\u001B[49m\u001B[38;5;241;43m.\u001B[39;49m\u001B[43mupdate\u001B[49m\u001B[43m(\u001B[49m\u001B[43mvalues\u001B[49m\u001B[38;5;241;43m=\u001B[39;49m\u001B[38;5;28;43mdict\u001B[39;49m\u001B[43m(\u001B[49m\u001B[43m{\u001B[49m\u001B[43ml\u001B[49m\u001B[43m[\u001B[49m\u001B[38;5;124;43m\"\u001B[39;49m\u001B[38;5;124;43mnew_column\u001B[39;49m\u001B[38;5;124;43m\"\u001B[39;49m\u001B[43m]\u001B[49m\u001B[43m:\u001B[49m\u001B[43m \u001B[49m\u001B[43ml\u001B[49m\u001B[43m[\u001B[49m\u001B[38;5;124;43m\"\u001B[39;49m\u001B[38;5;124;43mvalue_searched\u001B[39;49m\u001B[38;5;124;43m\"\u001B[39;49m\u001B[43m]\u001B[49m\u001B[43m}\u001B[49m\u001B[43m)\u001B[49m\u001B[43m,\u001B[49m\u001B[43m \u001B[49m\u001B[43msynchronize_session\u001B[49m\u001B[38;5;241;43m=\u001B[39;49m\u001B[38;5;28;43;01mFalse\u001B[39;49;00m\u001B[43m)\u001B[49m\n\u001B[0;32m      4\u001B[0m         make_operation(session)\n",
      "File \u001B[1;32m~\\anaconda3\\envs\\py38\\lib\\site-packages\\sqlalchemy\\orm\\query.py:3293\u001B[0m, in \u001B[0;36mQuery.update\u001B[1;34m(self, values, synchronize_session, update_args)\u001B[0m\n\u001B[0;32m   3290\u001B[0m     upd \u001B[38;5;241m=\u001B[39m upd\u001B[38;5;241m.\u001B[39mwith_dialect_options(\u001B[38;5;241m*\u001B[39m\u001B[38;5;241m*\u001B[39mupdate_args)\n\u001B[0;32m   3292\u001B[0m upd\u001B[38;5;241m.\u001B[39m_where_criteria \u001B[38;5;241m=\u001B[39m \u001B[38;5;28mself\u001B[39m\u001B[38;5;241m.\u001B[39m_where_criteria\n\u001B[1;32m-> 3293\u001B[0m result \u001B[38;5;241m=\u001B[39m \u001B[38;5;28;43mself\u001B[39;49m\u001B[38;5;241;43m.\u001B[39;49m\u001B[43msession\u001B[49m\u001B[38;5;241;43m.\u001B[39;49m\u001B[43mexecute\u001B[49m\u001B[43m(\u001B[49m\n\u001B[0;32m   3294\u001B[0m \u001B[43m    \u001B[49m\u001B[43mupd\u001B[49m\u001B[43m,\u001B[49m\n\u001B[0;32m   3295\u001B[0m \u001B[43m    \u001B[49m\u001B[38;5;28;43mself\u001B[39;49m\u001B[38;5;241;43m.\u001B[39;49m\u001B[43m_params\u001B[49m\u001B[43m,\u001B[49m\n\u001B[0;32m   3296\u001B[0m \u001B[43m    \u001B[49m\u001B[43mexecution_options\u001B[49m\u001B[38;5;241;43m=\u001B[39;49m\u001B[43m{\u001B[49m\u001B[38;5;124;43m\"\u001B[39;49m\u001B[38;5;124;43msynchronize_session\u001B[39;49m\u001B[38;5;124;43m\"\u001B[39;49m\u001B[43m:\u001B[49m\u001B[43m \u001B[49m\u001B[43msynchronize_session\u001B[49m\u001B[43m}\u001B[49m\u001B[43m,\u001B[49m\n\u001B[0;32m   3297\u001B[0m \u001B[43m\u001B[49m\u001B[43m)\u001B[49m\n\u001B[0;32m   3298\u001B[0m bulk_ud\u001B[38;5;241m.\u001B[39mresult \u001B[38;5;241m=\u001B[39m result\n\u001B[0;32m   3299\u001B[0m \u001B[38;5;28mself\u001B[39m\u001B[38;5;241m.\u001B[39msession\u001B[38;5;241m.\u001B[39mdispatch\u001B[38;5;241m.\u001B[39mafter_bulk_update(bulk_ud)\n",
      "File \u001B[1;32m~\\anaconda3\\envs\\py38\\lib\\site-packages\\sqlalchemy\\orm\\session.py:1711\u001B[0m, in \u001B[0;36mSession.execute\u001B[1;34m(self, statement, params, execution_options, bind_arguments, _parent_execute_state, _add_event, **kw)\u001B[0m\n\u001B[0;32m   1707\u001B[0m     execution_options \u001B[38;5;241m=\u001B[39m execution_options\u001B[38;5;241m.\u001B[39munion(\n\u001B[0;32m   1708\u001B[0m         \u001B[38;5;28mdict\u001B[39m(future_result\u001B[38;5;241m=\u001B[39m\u001B[38;5;28;01mFalse\u001B[39;00m)\n\u001B[0;32m   1709\u001B[0m     )\n\u001B[0;32m   1710\u001B[0m \u001B[38;5;28;01melse\u001B[39;00m:\n\u001B[1;32m-> 1711\u001B[0m     conn \u001B[38;5;241m=\u001B[39m \u001B[38;5;28;43mself\u001B[39;49m\u001B[38;5;241;43m.\u001B[39;49m\u001B[43m_connection_for_bind\u001B[49m\u001B[43m(\u001B[49m\u001B[43mbind\u001B[49m\u001B[43m)\u001B[49m\n\u001B[0;32m   1712\u001B[0m result \u001B[38;5;241m=\u001B[39m conn\u001B[38;5;241m.\u001B[39m_execute_20(statement, params \u001B[38;5;129;01mor\u001B[39;00m {}, execution_options)\n\u001B[0;32m   1714\u001B[0m \u001B[38;5;28;01mif\u001B[39;00m compile_state_cls:\n",
      "File \u001B[1;32m~\\anaconda3\\envs\\py38\\lib\\site-packages\\sqlalchemy\\orm\\session.py:1552\u001B[0m, in \u001B[0;36mSession._connection_for_bind\u001B[1;34m(self, engine, execution_options, **kw)\u001B[0m\n\u001B[0;32m   1549\u001B[0m TransactionalContext\u001B[38;5;241m.\u001B[39m_trans_ctx_check(\u001B[38;5;28mself\u001B[39m)\n\u001B[0;32m   1551\u001B[0m \u001B[38;5;28;01mif\u001B[39;00m \u001B[38;5;28mself\u001B[39m\u001B[38;5;241m.\u001B[39m_transaction \u001B[38;5;129;01mis\u001B[39;00m \u001B[38;5;129;01mnot\u001B[39;00m \u001B[38;5;28;01mNone\u001B[39;00m \u001B[38;5;129;01mor\u001B[39;00m \u001B[38;5;28mself\u001B[39m\u001B[38;5;241m.\u001B[39m_autobegin():\n\u001B[1;32m-> 1552\u001B[0m     \u001B[38;5;28;01mreturn\u001B[39;00m \u001B[38;5;28;43mself\u001B[39;49m\u001B[38;5;241;43m.\u001B[39;49m\u001B[43m_transaction\u001B[49m\u001B[38;5;241;43m.\u001B[39;49m\u001B[43m_connection_for_bind\u001B[49m\u001B[43m(\u001B[49m\n\u001B[0;32m   1553\u001B[0m \u001B[43m        \u001B[49m\u001B[43mengine\u001B[49m\u001B[43m,\u001B[49m\u001B[43m \u001B[49m\u001B[43mexecution_options\u001B[49m\n\u001B[0;32m   1554\u001B[0m \u001B[43m    \u001B[49m\u001B[43m)\u001B[49m\n\u001B[0;32m   1556\u001B[0m \u001B[38;5;28;01massert\u001B[39;00m \u001B[38;5;28mself\u001B[39m\u001B[38;5;241m.\u001B[39m_transaction \u001B[38;5;129;01mis\u001B[39;00m \u001B[38;5;28;01mNone\u001B[39;00m\n\u001B[0;32m   1557\u001B[0m \u001B[38;5;28;01massert\u001B[39;00m \u001B[38;5;28mself\u001B[39m\u001B[38;5;241m.\u001B[39mautocommit\n",
      "File \u001B[1;32m~\\anaconda3\\envs\\py38\\lib\\site-packages\\sqlalchemy\\orm\\session.py:747\u001B[0m, in \u001B[0;36mSessionTransaction._connection_for_bind\u001B[1;34m(self, bind, execution_options)\u001B[0m\n\u001B[0;32m    742\u001B[0m             \u001B[38;5;28;01mraise\u001B[39;00m sa_exc\u001B[38;5;241m.\u001B[39mInvalidRequestError(\n\u001B[0;32m    743\u001B[0m                 \u001B[38;5;124m\"\u001B[39m\u001B[38;5;124mSession already has a Connection associated for the \u001B[39m\u001B[38;5;124m\"\u001B[39m\n\u001B[0;32m    744\u001B[0m                 \u001B[38;5;124m\"\u001B[39m\u001B[38;5;124mgiven Connection\u001B[39m\u001B[38;5;124m'\u001B[39m\u001B[38;5;124ms Engine\u001B[39m\u001B[38;5;124m\"\u001B[39m\n\u001B[0;32m    745\u001B[0m             )\n\u001B[0;32m    746\u001B[0m     \u001B[38;5;28;01melse\u001B[39;00m:\n\u001B[1;32m--> 747\u001B[0m         conn \u001B[38;5;241m=\u001B[39m \u001B[43mbind\u001B[49m\u001B[38;5;241;43m.\u001B[39;49m\u001B[43mconnect\u001B[49m\u001B[43m(\u001B[49m\u001B[43m)\u001B[49m\n\u001B[0;32m    748\u001B[0m         local_connect \u001B[38;5;241m=\u001B[39m \u001B[38;5;28;01mTrue\u001B[39;00m\n\u001B[0;32m    750\u001B[0m \u001B[38;5;28;01mtry\u001B[39;00m:\n",
      "File \u001B[1;32m~\\anaconda3\\envs\\py38\\lib\\site-packages\\sqlalchemy\\engine\\base.py:3234\u001B[0m, in \u001B[0;36mEngine.connect\u001B[1;34m(self, close_with_result)\u001B[0m\n\u001B[0;32m   3219\u001B[0m \u001B[38;5;28;01mdef\u001B[39;00m \u001B[38;5;21mconnect\u001B[39m(\u001B[38;5;28mself\u001B[39m, close_with_result\u001B[38;5;241m=\u001B[39m\u001B[38;5;28;01mFalse\u001B[39;00m):\n\u001B[0;32m   3220\u001B[0m     \u001B[38;5;124;03m\"\"\"Return a new :class:`_engine.Connection` object.\u001B[39;00m\n\u001B[0;32m   3221\u001B[0m \n\u001B[0;32m   3222\u001B[0m \u001B[38;5;124;03m    The :class:`_engine.Connection` object is a facade that uses a DBAPI\u001B[39;00m\n\u001B[1;32m   (...)\u001B[0m\n\u001B[0;32m   3231\u001B[0m \n\u001B[0;32m   3232\u001B[0m \u001B[38;5;124;03m    \"\"\"\u001B[39;00m\n\u001B[1;32m-> 3234\u001B[0m     \u001B[38;5;28;01mreturn\u001B[39;00m \u001B[38;5;28;43mself\u001B[39;49m\u001B[38;5;241;43m.\u001B[39;49m\u001B[43m_connection_cls\u001B[49m\u001B[43m(\u001B[49m\u001B[38;5;28;43mself\u001B[39;49m\u001B[43m,\u001B[49m\u001B[43m \u001B[49m\u001B[43mclose_with_result\u001B[49m\u001B[38;5;241;43m=\u001B[39;49m\u001B[43mclose_with_result\u001B[49m\u001B[43m)\u001B[49m\n",
      "File \u001B[1;32m~\\anaconda3\\envs\\py38\\lib\\site-packages\\sqlalchemy\\engine\\base.py:96\u001B[0m, in \u001B[0;36mConnection.__init__\u001B[1;34m(self, engine, connection, close_with_result, _branch_from, _execution_options, _dispatch, _has_events, _allow_revalidate)\u001B[0m\n\u001B[0;32m     91\u001B[0m     \u001B[38;5;28mself\u001B[39m\u001B[38;5;241m.\u001B[39m_has_events \u001B[38;5;241m=\u001B[39m _branch_from\u001B[38;5;241m.\u001B[39m_has_events\n\u001B[0;32m     92\u001B[0m \u001B[38;5;28;01melse\u001B[39;00m:\n\u001B[0;32m     93\u001B[0m     \u001B[38;5;28mself\u001B[39m\u001B[38;5;241m.\u001B[39m_dbapi_connection \u001B[38;5;241m=\u001B[39m (\n\u001B[0;32m     94\u001B[0m         connection\n\u001B[0;32m     95\u001B[0m         \u001B[38;5;28;01mif\u001B[39;00m connection \u001B[38;5;129;01mis\u001B[39;00m \u001B[38;5;129;01mnot\u001B[39;00m \u001B[38;5;28;01mNone\u001B[39;00m\n\u001B[1;32m---> 96\u001B[0m         \u001B[38;5;28;01melse\u001B[39;00m \u001B[43mengine\u001B[49m\u001B[38;5;241;43m.\u001B[39;49m\u001B[43mraw_connection\u001B[49m\u001B[43m(\u001B[49m\u001B[43m)\u001B[49m\n\u001B[0;32m     97\u001B[0m     )\n\u001B[0;32m     99\u001B[0m     \u001B[38;5;28mself\u001B[39m\u001B[38;5;241m.\u001B[39m_transaction \u001B[38;5;241m=\u001B[39m \u001B[38;5;28mself\u001B[39m\u001B[38;5;241m.\u001B[39m_nested_transaction \u001B[38;5;241m=\u001B[39m \u001B[38;5;28;01mNone\u001B[39;00m\n\u001B[0;32m    100\u001B[0m     \u001B[38;5;28mself\u001B[39m\u001B[38;5;241m.\u001B[39m__savepoint_seq \u001B[38;5;241m=\u001B[39m \u001B[38;5;241m0\u001B[39m\n",
      "File \u001B[1;32m~\\anaconda3\\envs\\py38\\lib\\site-packages\\sqlalchemy\\engine\\base.py:3313\u001B[0m, in \u001B[0;36mEngine.raw_connection\u001B[1;34m(self, _connection)\u001B[0m\n\u001B[0;32m   3291\u001B[0m \u001B[38;5;28;01mdef\u001B[39;00m \u001B[38;5;21mraw_connection\u001B[39m(\u001B[38;5;28mself\u001B[39m, _connection\u001B[38;5;241m=\u001B[39m\u001B[38;5;28;01mNone\u001B[39;00m):\n\u001B[0;32m   3292\u001B[0m     \u001B[38;5;124;03m\"\"\"Return a \"raw\" DBAPI connection from the connection pool.\u001B[39;00m\n\u001B[0;32m   3293\u001B[0m \n\u001B[0;32m   3294\u001B[0m \u001B[38;5;124;03m    The returned object is a proxied version of the DBAPI\u001B[39;00m\n\u001B[1;32m   (...)\u001B[0m\n\u001B[0;32m   3311\u001B[0m \n\u001B[0;32m   3312\u001B[0m \u001B[38;5;124;03m    \"\"\"\u001B[39;00m\n\u001B[1;32m-> 3313\u001B[0m     \u001B[38;5;28;01mreturn\u001B[39;00m \u001B[38;5;28;43mself\u001B[39;49m\u001B[38;5;241;43m.\u001B[39;49m\u001B[43m_wrap_pool_connect\u001B[49m\u001B[43m(\u001B[49m\u001B[38;5;28;43mself\u001B[39;49m\u001B[38;5;241;43m.\u001B[39;49m\u001B[43mpool\u001B[49m\u001B[38;5;241;43m.\u001B[39;49m\u001B[43mconnect\u001B[49m\u001B[43m,\u001B[49m\u001B[43m \u001B[49m\u001B[43m_connection\u001B[49m\u001B[43m)\u001B[49m\n",
      "File \u001B[1;32m~\\anaconda3\\envs\\py38\\lib\\site-packages\\sqlalchemy\\engine\\base.py:3280\u001B[0m, in \u001B[0;36mEngine._wrap_pool_connect\u001B[1;34m(self, fn, connection)\u001B[0m\n\u001B[0;32m   3278\u001B[0m dialect \u001B[38;5;241m=\u001B[39m \u001B[38;5;28mself\u001B[39m\u001B[38;5;241m.\u001B[39mdialect\n\u001B[0;32m   3279\u001B[0m \u001B[38;5;28;01mtry\u001B[39;00m:\n\u001B[1;32m-> 3280\u001B[0m     \u001B[38;5;28;01mreturn\u001B[39;00m \u001B[43mfn\u001B[49m\u001B[43m(\u001B[49m\u001B[43m)\u001B[49m\n\u001B[0;32m   3281\u001B[0m \u001B[38;5;28;01mexcept\u001B[39;00m dialect\u001B[38;5;241m.\u001B[39mdbapi\u001B[38;5;241m.\u001B[39mError \u001B[38;5;28;01mas\u001B[39;00m e:\n\u001B[0;32m   3282\u001B[0m     \u001B[38;5;28;01mif\u001B[39;00m connection \u001B[38;5;129;01mis\u001B[39;00m \u001B[38;5;28;01mNone\u001B[39;00m:\n",
      "File \u001B[1;32m~\\anaconda3\\envs\\py38\\lib\\site-packages\\sqlalchemy\\pool\\base.py:310\u001B[0m, in \u001B[0;36mPool.connect\u001B[1;34m(self)\u001B[0m\n\u001B[0;32m    302\u001B[0m \u001B[38;5;28;01mdef\u001B[39;00m \u001B[38;5;21mconnect\u001B[39m(\u001B[38;5;28mself\u001B[39m):\n\u001B[0;32m    303\u001B[0m     \u001B[38;5;124;03m\"\"\"Return a DBAPI connection from the pool.\u001B[39;00m\n\u001B[0;32m    304\u001B[0m \n\u001B[0;32m    305\u001B[0m \u001B[38;5;124;03m    The connection is instrumented such that when its\u001B[39;00m\n\u001B[1;32m   (...)\u001B[0m\n\u001B[0;32m    308\u001B[0m \n\u001B[0;32m    309\u001B[0m \u001B[38;5;124;03m    \"\"\"\u001B[39;00m\n\u001B[1;32m--> 310\u001B[0m     \u001B[38;5;28;01mreturn\u001B[39;00m \u001B[43m_ConnectionFairy\u001B[49m\u001B[38;5;241;43m.\u001B[39;49m\u001B[43m_checkout\u001B[49m\u001B[43m(\u001B[49m\u001B[38;5;28;43mself\u001B[39;49m\u001B[43m)\u001B[49m\n",
      "File \u001B[1;32m~\\anaconda3\\envs\\py38\\lib\\site-packages\\sqlalchemy\\pool\\base.py:901\u001B[0m, in \u001B[0;36m_ConnectionFairy._checkout\u001B[1;34m(cls, pool, threadconns, fairy)\u001B[0m\n\u001B[0;32m    896\u001B[0m \u001B[38;5;28;01mif\u001B[39;00m fairy\u001B[38;5;241m.\u001B[39m_echo:\n\u001B[0;32m    897\u001B[0m     pool\u001B[38;5;241m.\u001B[39mlogger\u001B[38;5;241m.\u001B[39mdebug(\n\u001B[0;32m    898\u001B[0m         \u001B[38;5;124m\"\u001B[39m\u001B[38;5;124mPool pre-ping on connection \u001B[39m\u001B[38;5;132;01m%s\u001B[39;00m\u001B[38;5;124m\"\u001B[39m,\n\u001B[0;32m    899\u001B[0m         fairy\u001B[38;5;241m.\u001B[39mdbapi_connection,\n\u001B[0;32m    900\u001B[0m     )\n\u001B[1;32m--> 901\u001B[0m result \u001B[38;5;241m=\u001B[39m \u001B[43mpool\u001B[49m\u001B[38;5;241;43m.\u001B[39;49m\u001B[43m_dialect\u001B[49m\u001B[38;5;241;43m.\u001B[39;49m\u001B[43mdo_ping\u001B[49m\u001B[43m(\u001B[49m\u001B[43mfairy\u001B[49m\u001B[38;5;241;43m.\u001B[39;49m\u001B[43mdbapi_connection\u001B[49m\u001B[43m)\u001B[49m\n\u001B[0;32m    902\u001B[0m \u001B[38;5;28;01mif\u001B[39;00m \u001B[38;5;129;01mnot\u001B[39;00m result:\n\u001B[0;32m    903\u001B[0m     \u001B[38;5;28;01mif\u001B[39;00m fairy\u001B[38;5;241m.\u001B[39m_echo:\n",
      "File \u001B[1;32m~\\anaconda3\\envs\\py38\\lib\\site-packages\\sqlalchemy\\dialects\\postgresql\\psycopg2.py:844\u001B[0m, in \u001B[0;36mPGDialect_psycopg2.do_ping\u001B[1;34m(self, dbapi_connection)\u001B[0m\n\u001B[0;32m    842\u001B[0m cursor \u001B[38;5;241m=\u001B[39m dbapi_connection\u001B[38;5;241m.\u001B[39mcursor()\n\u001B[0;32m    843\u001B[0m \u001B[38;5;28;01mtry\u001B[39;00m:\n\u001B[1;32m--> 844\u001B[0m     \u001B[43mcursor\u001B[49m\u001B[38;5;241;43m.\u001B[39;49m\u001B[43mexecute\u001B[49m\u001B[43m(\u001B[49m\u001B[38;5;28;43mself\u001B[39;49m\u001B[38;5;241;43m.\u001B[39;49m\u001B[43m_dialect_specific_select_one\u001B[49m\u001B[43m)\u001B[49m\n\u001B[0;32m    845\u001B[0m \u001B[38;5;28;01mfinally\u001B[39;00m:\n\u001B[0;32m    846\u001B[0m     cursor\u001B[38;5;241m.\u001B[39mclose()\n",
      "File \u001B[1;32m~\\anaconda3\\envs\\py38\\lib\\encodings\\utf_8.py:15\u001B[0m, in \u001B[0;36mdecode\u001B[1;34m(input, errors)\u001B[0m\n\u001B[0;32m     11\u001B[0m \u001B[38;5;66;03m### Codec APIs\u001B[39;00m\n\u001B[0;32m     13\u001B[0m encode \u001B[38;5;241m=\u001B[39m codecs\u001B[38;5;241m.\u001B[39mutf_8_encode\n\u001B[1;32m---> 15\u001B[0m \u001B[38;5;28;01mdef\u001B[39;00m \u001B[38;5;21mdecode\u001B[39m(\u001B[38;5;28minput\u001B[39m, errors\u001B[38;5;241m=\u001B[39m\u001B[38;5;124m'\u001B[39m\u001B[38;5;124mstrict\u001B[39m\u001B[38;5;124m'\u001B[39m):\n\u001B[0;32m     16\u001B[0m     \u001B[38;5;28;01mreturn\u001B[39;00m codecs\u001B[38;5;241m.\u001B[39mutf_8_decode(\u001B[38;5;28minput\u001B[39m, errors, \u001B[38;5;28;01mTrue\u001B[39;00m)\n\u001B[0;32m     18\u001B[0m \u001B[38;5;28;01mclass\u001B[39;00m \u001B[38;5;21;01mIncrementalEncoder\u001B[39;00m(codecs\u001B[38;5;241m.\u001B[39mIncrementalEncoder):\n",
      "\u001B[1;31mKeyboardInterrupt\u001B[0m: "
     ]
    }
   ],
   "source": [
    "for l in list_seq:\n",
    "    for y in l[\"seq\"]:\n",
    "        session.query(DataSP).filter(DataSP.seq == y).update(values=dict({l[\"new_column\"]: l[\"value_searched\"]}), synchronize_session=False)\n",
    "        make_operation(session)"
   ]
  },
  {
   "cell_type": "code",
   "execution_count": null,
   "metadata": {
    "collapsed": false,
    "pycharm": {
     "name": "#%%\n"
    }
   },
   "outputs": [],
   "source": [
    "create_outfile(list_seq)"
   ]
  },
  {
   "cell_type": "code",
   "execution_count": null,
   "metadata": {
    "collapsed": false,
    "pycharm": {
     "name": "#%%\n"
    }
   },
   "outputs": [],
   "source": [
    "data_has_only_state = session.query(DataSP.seq, DataSP.my_state).filter(sqlalchemy.and_(DataSP.my_state.is_not(None), DataSP.my_country.is_(None))).all()\n",
    "make_operation(session)\n",
    "\n",
    "for (seq, state) in sorted(data_has_only_state):\n",
    "    session.query(DataSP).filter(DataSP.seq == seq).update(values=dict({\"my_country\": \"Brasil\"}), synchronize_session=False)\n",
    "    make_operation(session)"
   ]
  },
  {
   "cell_type": "code",
   "execution_count": null,
   "metadata": {
    "collapsed": false,
    "pycharm": {
     "name": "#%%\n"
    }
   },
   "outputs": [],
   "source": [
    "def get_state_of_city(city):\n",
    "    state_of_city = session.query(County.uf_name).filter(County.county == city).all()\n",
    "    make_operation(session)\n",
    "    return state_of_city\n",
    "\n",
    "data_has_only_county = session.query(DataSP.seq, DataSP.my_city).filter(sqlalchemy.and_(DataSP.my_city.is_not(None), DataSP.my_state.is_(None), DataSP.my_country.is_(None))).all()\n",
    "make_operation(session)\n",
    "\n",
    "print(data_has_only_county)\n",
    "for (seq, city) in data_has_only_county:\n",
    "    state_of_city = get_state_of_city(city)\n",
    "    session.query(DataSP).filter(DataSP.seq == seq).update(values=dict({\"my_state\": state_of_city, \"my_country\": \"Brasil\"}), synchronize_session=False)\n",
    "    make_operation(session)"
   ]
  },
  {
   "cell_type": "code",
   "execution_count": null,
   "metadata": {
    "collapsed": false,
    "pycharm": {
     "name": "#%%\n"
    }
   },
   "outputs": [],
   "source": [
    "session.close()\n",
    "engine.dispose()"
   ]
  }
 ],
 "metadata": {
  "kernelspec": {
   "display_name": "Python 3",
   "language": "python",
   "name": "python3"
  },
  "language_info": {
   "codemirror_mode": {
    "name": "ipython",
    "version": 2
   },
   "file_extension": ".py",
   "mimetype": "text/x-python",
   "name": "python",
   "nbconvert_exporter": "python",
   "pygments_lexer": "ipython2",
   "version": "2.7.6"
  }
 },
 "nbformat": 4,
 "nbformat_minor": 0
}