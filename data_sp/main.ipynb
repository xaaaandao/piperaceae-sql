{
 "cells": [
  {
   "cell_type": "code",
   "execution_count": 6,
   "outputs": [
    {
     "name": "stdout",
     "output_type": "stream",
     "text": [
      "The autoreload extension is already loaded. To reload it, use:\n",
      "  %reload_ext autoreload\n"
     ]
    }
   ],
   "source": [
    "%reload_ext autoreload\n",
    "%load_ext autoreload\n",
    "%autoreload 2"
   ],
   "metadata": {
    "collapsed": false
   }
  },
  {
   "cell_type": "code",
   "execution_count": 7,
   "outputs": [],
   "source": [
    "import os\n",
    "import pandas as pd\n",
    "import sys\n",
    "\n",
    "from dataframe import preprocess, rename_header_dataframe\n",
    "\n",
    "sys.path.append(os.path.dirname(os.path.dirname(os.path.abspath('main.ipynb'))))\n",
    "\n",
    "from database import connect, create_table\n",
    "from models import DataSP"
   ],
   "metadata": {
    "collapsed": false
   }
  },
  {
   "cell_type": "markdown",
   "source": [
    "## Database connection"
   ],
   "metadata": {
    "collapsed": false
   }
  },
  {
   "cell_type": "code",
   "execution_count": 8,
   "outputs": [
    {
     "name": "stdout",
     "output_type": "stream",
     "text": [
      "2023-03-24 16:19:45,036 INFO sqlalchemy.engine.Engine select pg_catalog.version()\n",
      "2023-03-24 16:19:45,036 INFO sqlalchemy.engine.Engine [raw sql] {}\n",
      "2023-03-24 16:19:45,038 INFO sqlalchemy.engine.Engine select current_schema()\n",
      "2023-03-24 16:19:45,039 INFO sqlalchemy.engine.Engine [raw sql] {}\n",
      "2023-03-24 16:19:45,040 INFO sqlalchemy.engine.Engine show standard_conforming_strings\n",
      "2023-03-24 16:19:45,041 INFO sqlalchemy.engine.Engine [raw sql] {}\n"
     ]
    }
   ],
   "source": [
    "engine, session = connect()\n",
    "engine.echo = False"
   ],
   "metadata": {
    "collapsed": false
   }
  },
  {
   "cell_type": "markdown",
   "source": [
    "# Load CSV files"
   ],
   "metadata": {
    "collapsed": false
   }
  },
  {
   "cell_type": "code",
   "execution_count": 9,
   "metadata": {},
   "outputs": [],
   "source": [
    "filename = '../csv/original.csv'\n",
    "df = pd.read_csv(filename, sep=';', low_memory=False, skipinitialspace=True)"
   ]
  },
  {
   "cell_type": "markdown",
   "source": [
    "## Create table DataSP and insert rows of sheet in db"
   ],
   "metadata": {
    "collapsed": false
   }
  },
  {
   "cell_type": "code",
   "execution_count": 10,
   "outputs": [
    {
     "name": "stdout",
     "output_type": "stream",
     "text": [
      "create table: data_sp\n",
      "count records inserted in table data_sp: 55453\n"
     ]
    }
   ],
   "source": [
    "def create_datasp(info):\n",
    "    return DataSP(seq=info['seq'],\n",
    "                  modified=info['modified'], institution_code=info['institution_code'],\n",
    "                  collection_code=info['collection_code'], catalog_number=info['catalog_number'],\n",
    "                  basis_of_record=info['basis_of_record'], kingdom=info['kingdom'], phylum=info['phylum'],\n",
    "                  classe=info['class'], order=info['order'], family=info['family'],\n",
    "                  genus=info['genus'],\n",
    "                  specific_epithet=info['specific_epithet'],\n",
    "                  infraspecific_epithet=info['infraspecific_epithet'],\n",
    "                  scientific_name=info['scientific_name'],\n",
    "                  scientific_name_authorship=info['scientific_name_authorship'],\n",
    "                  identified_by=info['identified_by'], year_identified=info['year_identified'],\n",
    "                  month_identified=info['month_identified'], day_identified=info['day_identified'],\n",
    "                  type_status=info['type_status'],\n",
    "                  recorded_by=info['recorded_by'], record_number=info['record_number'],\n",
    "                  field_number=info['field_number'], year=info['year'], month=info['month'],\n",
    "                  day=info['day'], event_time=info['event_time'],\n",
    "                  continent_ocean=info['continent_ocean'], country=info['country'],\n",
    "                  state_province=info['state_province'], county=info['county'], locality=info['locality'],\n",
    "                  decimal_longitude=info['decimal_longitude'],\n",
    "                  decimal_latitude=info['decimal_latitude'], verbatim_longitude=info['verbatim_longitude'],\n",
    "                  verbatim_latitude=info['verbatim_latitude'],\n",
    "                  coordinate_precision=info['coordinate_precision'],\n",
    "                  bounding_box=info['bounding_box'],\n",
    "                  minimum_elevation_in_meters=info['minimum_elevation_in_meters'],\n",
    "                  maximum_elevation_in_meters=info['maximum_elevation_in_meters'],\n",
    "                  minimum_depth_in_meters=info['minimum_depth_in_meters'],\n",
    "                  maximum_depth_in_meters=info['maximum_depth_in_meters'], sex=info['sex'],\n",
    "                  preparation_type=info['preparation_type'],\n",
    "                  individual_count=info['individual_count'],\n",
    "                  previous_catalog_number=info['previous_catalog_number'],\n",
    "                  relationship_type=info['relationship_type'],\n",
    "                  related_catalog_item=info['related_catalog_item'],\n",
    "                  occurrence_remarks=info['occurrence_remarks'], barcode=info['barcode'],\n",
    "                  imagecode=info['imagecode'], geo_flag=info['geo_flag'])\n",
    "\n",
    "create_table(engine, DataSP)\n",
    "\n",
    "count_records_in_data_sp = session.query(DataSP).count()\n",
    "\n",
    "if count_records_in_data_sp == 0:\n",
    "    rename_header_dataframe(df)\n",
    "    df = preprocess(df)\n",
    "    for row in df.iterrows():\n",
    "        try:\n",
    "            data_sp = create_datasp(row[1])\n",
    "            session.add(data_sp)\n",
    "            session.commit()\n",
    "        except:\n",
    "            session.flush()\n",
    "    count_records_in_data_sp = session.query(DataSP).count()\n",
    "    print('count records inserted in table %s: %d' % (DataSP.__tablename__, count_records_in_data_sp))"
   ],
   "metadata": {
    "collapsed": false
   }
  },
  {
   "cell_type": "markdown",
   "source": [
    "## Close connection"
   ],
   "metadata": {
    "collapsed": false
   }
  },
  {
   "cell_type": "code",
   "execution_count": 11,
   "metadata": {},
   "outputs": [],
   "source": [
    "session.close()\n",
    "engine.dispose()"
   ]
  }
 ],
 "metadata": {
  "kernelspec": {
   "display_name": "Python 3 (ipykernel)",
   "language": "python",
   "name": "python3"
  },
  "language_info": {
   "codemirror_mode": {
    "name": "ipython",
    "version": 3
   },
   "file_extension": ".py",
   "mimetype": "text/x-python",
   "name": "python",
   "nbconvert_exporter": "python",
   "pygments_lexer": "ipython3",
   "version": "3.8.13"
  }
 },
 "nbformat": 4,
 "nbformat_minor": 1
}
