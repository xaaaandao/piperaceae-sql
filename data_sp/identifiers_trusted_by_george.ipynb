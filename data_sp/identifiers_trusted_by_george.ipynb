{
 "cells": [
  {
   "cell_type": "code",
   "execution_count": 1,
   "outputs": [
    {
     "name": "stdout",
     "output_type": "stream",
     "text": [
      "The autoreload extension is already loaded. To reload it, use:\n",
      "  %reload_ext autoreload\n"
     ]
    }
   ],
   "source": [
    "%reload_ext autoreload\n",
    "%load_ext autoreload\n",
    "%autoreload 2"
   ],
   "metadata": {
    "collapsed": false
   }
  },
  {
   "cell_type": "code",
   "execution_count": 2,
   "outputs": [],
   "source": [
    "import os\n",
    "import pandas as pd\n",
    "import sqlalchemy as sa\n",
    "import sys\n",
    "\n",
    "from dataframe import preprocess, rename_header_dataframe\n",
    "\n",
    "sys.path.append(os.path.dirname(os.path.dirname(os.path.abspath('main.ipynb'))))\n",
    "\n",
    "import database as db\n",
    "from models import DataSP"
   ],
   "metadata": {
    "collapsed": false
   }
  },
  {
   "cell_type": "markdown",
   "source": [
    "## Database connection"
   ],
   "metadata": {
    "collapsed": false
   }
  },
  {
   "cell_type": "code",
   "execution_count": 3,
   "outputs": [
    {
     "name": "stdout",
     "output_type": "stream",
     "text": [
      "2023-03-24 19:57:55,558 INFO sqlalchemy.engine.Engine select pg_catalog.version()\n",
      "2023-03-24 19:57:55,559 INFO sqlalchemy.engine.Engine [raw sql] {}\n",
      "2023-03-24 19:57:55,561 INFO sqlalchemy.engine.Engine select current_schema()\n",
      "2023-03-24 19:57:55,561 INFO sqlalchemy.engine.Engine [raw sql] {}\n",
      "2023-03-24 19:57:55,562 INFO sqlalchemy.engine.Engine show standard_conforming_strings\n",
      "2023-03-24 19:57:55,563 INFO sqlalchemy.engine.Engine [raw sql] {}\n"
     ]
    }
   ],
   "source": [
    "engine, session = db.connect()\n",
    "engine.echo = False"
   ],
   "metadata": {
    "collapsed": false
   }
  },
  {
   "cell_type": "markdown",
   "source": [
    "# Load CSV files"
   ],
   "metadata": {
    "collapsed": false
   }
  },
  {
   "cell_type": "code",
   "execution_count": 4,
   "metadata": {},
   "outputs": [],
   "source": [
    "filename = '../csv/george_data.csv'\n",
    "df = pd.read_csv(filename, sep=';', low_memory=False, skipinitialspace=True)"
   ]
  },
  {
   "cell_type": "markdown",
   "source": [
    "## Adds 'yes' in the George column ('yes' are records marked as reliable by George))"
   ],
   "metadata": {
    "collapsed": false
   }
  },
  {
   "cell_type": "code",
   "execution_count": 5,
   "outputs": [
    {
     "name": "stdout",
     "output_type": "stream",
     "text": [
      "count of records in table data_sp: 1419\n"
     ]
    }
   ],
   "source": [
    "count_records_marked_by_george = session.query(DataSP) \\\n",
    "    .filter(DataSP.george == True) \\\n",
    "    .count()\n",
    "\n",
    "if count_records_marked_by_george == 0:\n",
    "    for row in df.iterrows():\n",
    "        get_value_column_george = row[1]['GEORGE']\n",
    "        if get_value_column_george.lower() == 'sim':\n",
    "            session.query(DataSP) \\\n",
    "                .filter(DataSP.seq == row[1]['seq']) \\\n",
    "                .update({'george': True}, synchronize_session=False)\n",
    "            session.commit()\n",
    "\n",
    "    count_records_marked_by_george = session.query(DataSP) \\\n",
    "        .filter(DataSP.george == True) \\\n",
    "        .count()\n",
    "    print('count of records in table %s: %d' % (DataSP.__tablename__, count_records_marked_by_george))"
   ],
   "metadata": {
    "collapsed": false
   }
  },
  {
   "cell_type": "markdown",
   "source": [
    "## Close connection"
   ],
   "metadata": {
    "collapsed": false
   }
  },
  {
   "cell_type": "code",
   "execution_count": 6,
   "metadata": {},
   "outputs": [],
   "source": [
    "session.close()\n",
    "engine.dispose()"
   ]
  }
 ],
 "metadata": {
  "kernelspec": {
   "display_name": "Python 3 (ipykernel)",
   "language": "python",
   "name": "python3"
  },
  "language_info": {
   "codemirror_mode": {
    "name": "ipython",
    "version": 3
   },
   "file_extension": ".py",
   "mimetype": "text/x-python",
   "name": "python",
   "nbconvert_exporter": "python",
   "pygments_lexer": "ipython3",
   "version": "3.8.13"
  }
 },
 "nbformat": 4,
 "nbformat_minor": 1
}
