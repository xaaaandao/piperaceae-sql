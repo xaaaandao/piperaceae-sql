{
 "cells": [
  {
   "cell_type": "code",
   "execution_count": 1,
   "outputs": [
    {
     "name": "stdout",
     "output_type": "stream",
     "text": [
      "The autoreload extension is already loaded. To reload it, use:\n",
      "  %reload_ext autoreload\n"
     ]
    }
   ],
   "source": [
    "%reload_ext autoreload\n",
    "%load_ext autoreload\n",
    "%autoreload 2"
   ],
   "metadata": {
    "collapsed": false
   }
  },
  {
   "cell_type": "code",
   "execution_count": 2,
   "metadata": {},
   "outputs": [],
   "source": [
    "import os\n",
    "import pandas as pd\n",
    "import sys\n",
    "\n",
    "sys.path.append(os.path.dirname(os.path.dirname(os.path.abspath('main.ipynb'))))\n",
    "\n",
    "import database as db\n",
    "from models import County, DataTrustedIdentifier, TrustedIdentifier, DataSP, Image, create_data_trusted_identifier"
   ]
  },
  {
   "cell_type": "markdown",
   "source": [
    "## Database connection"
   ],
   "metadata": {
    "collapsed": false
   }
  },
  {
   "cell_type": "code",
   "execution_count": 3,
   "outputs": [
    {
     "name": "stdout",
     "output_type": "stream",
     "text": [
      "2023-03-28 17:32:18,293 INFO sqlalchemy.engine.Engine select pg_catalog.version()\n",
      "2023-03-28 17:32:18,294 INFO sqlalchemy.engine.Engine [raw sql] {}\n",
      "2023-03-28 17:32:18,295 INFO sqlalchemy.engine.Engine select current_schema()\n",
      "2023-03-28 17:32:18,295 INFO sqlalchemy.engine.Engine [raw sql] {}\n",
      "2023-03-28 17:32:18,296 INFO sqlalchemy.engine.Engine show standard_conforming_strings\n",
      "2023-03-28 17:32:18,296 INFO sqlalchemy.engine.Engine [raw sql] {}\n"
     ]
    }
   ],
   "source": [
    "engine, session = db.connect()\n",
    "engine.echo = False"
   ],
   "metadata": {
    "collapsed": false
   }
  },
  {
   "cell_type": "markdown",
   "source": [
    "## List with full name and variations of identifier"
   ],
   "metadata": {
    "collapsed": false
   }
  },
  {
   "cell_type": "code",
   "execution_count": 4,
   "metadata": {},
   "outputs": [
    {
     "data": {
      "text/plain": "                                    full_name searched_name\n0                  Aline Vieira de Melo Silva         Silva\n1                  Carmen Lúcia Falcão Ichaso        Ichaso\n2                   Daniele Monteiro Ferreira      Monteiro\n3                              Daniel Ruschel       Ruschel\n4                    Elsie Franklin Guimarães        Guimar\n5                                 Eric J Tepe          Tepe\n6   Erika Erika Von Sohsten de Souza Medeiros      Medeiros\n7                   George Azevedo de Queiroz       Queiroz\n8                    Micheline Carvalho-Silva      Carvalho\n9        Ricardo de la Merced Callejas Posada      Callejas\n10                      Truman George Yuncker       Yuncker\n11                           William Trelease      Trelease",
      "text/html": "<div>\n<style scoped>\n    .dataframe tbody tr th:only-of-type {\n        vertical-align: middle;\n    }\n\n    .dataframe tbody tr th {\n        vertical-align: top;\n    }\n\n    .dataframe thead th {\n        text-align: right;\n    }\n</style>\n<table border=\"1\" class=\"dataframe\">\n  <thead>\n    <tr style=\"text-align: right;\">\n      <th></th>\n      <th>full_name</th>\n      <th>searched_name</th>\n    </tr>\n  </thead>\n  <tbody>\n    <tr>\n      <th>0</th>\n      <td>Aline Vieira de Melo Silva</td>\n      <td>Silva</td>\n    </tr>\n    <tr>\n      <th>1</th>\n      <td>Carmen Lúcia Falcão Ichaso</td>\n      <td>Ichaso</td>\n    </tr>\n    <tr>\n      <th>2</th>\n      <td>Daniele Monteiro Ferreira</td>\n      <td>Monteiro</td>\n    </tr>\n    <tr>\n      <th>3</th>\n      <td>Daniel Ruschel</td>\n      <td>Ruschel</td>\n    </tr>\n    <tr>\n      <th>4</th>\n      <td>Elsie Franklin Guimarães</td>\n      <td>Guimar</td>\n    </tr>\n    <tr>\n      <th>5</th>\n      <td>Eric J Tepe</td>\n      <td>Tepe</td>\n    </tr>\n    <tr>\n      <th>6</th>\n      <td>Erika Erika Von Sohsten de Souza Medeiros</td>\n      <td>Medeiros</td>\n    </tr>\n    <tr>\n      <th>7</th>\n      <td>George Azevedo de Queiroz</td>\n      <td>Queiroz</td>\n    </tr>\n    <tr>\n      <th>8</th>\n      <td>Micheline Carvalho-Silva</td>\n      <td>Carvalho</td>\n    </tr>\n    <tr>\n      <th>9</th>\n      <td>Ricardo de la Merced Callejas Posada</td>\n      <td>Callejas</td>\n    </tr>\n    <tr>\n      <th>10</th>\n      <td>Truman George Yuncker</td>\n      <td>Yuncker</td>\n    </tr>\n    <tr>\n      <th>11</th>\n      <td>William Trelease</td>\n      <td>Trelease</td>\n    </tr>\n  </tbody>\n</table>\n</div>"
     },
     "execution_count": 4,
     "metadata": {},
     "output_type": "execute_result"
    }
   ],
   "source": [
    "list_identifier_trusted = {\n",
    "    'full_name': ['Aline Vieira de Melo Silva', 'Carmen Lúcia Falcão Ichaso', 'Daniele Monteiro Ferreira', 'Daniel Ruschel', 'Elsie Franklin Guimarães', 'Eric J Tepe', 'Erika Erika Von Sohsten de Souza Medeiros', 'George Azevedo de Queiroz', 'Micheline Carvalho-Silva', 'Ricardo de la Merced Callejas Posada', 'Truman George Yuncker', 'William Trelease'],\n",
    "    'searched_name': ['Silva', 'Ichaso', 'Monteiro', 'Ruschel', 'Guimar', 'Tepe', 'Medeiros', 'Queiroz', 'Carvalho', 'Callejas', 'Yuncker', 'Trelease']\n",
    "}\n",
    "\n",
    "pd.DataFrame(list_identifier_trusted)"
   ]
  },
  {
   "cell_type": "markdown",
   "source": [
    "## Get list of records with variations of name identifier"
   ],
   "metadata": {
    "collapsed": false
   }
  },
  {
   "cell_type": "code",
   "execution_count": 5,
   "outputs": [
    {
     "name": "stdout",
     "output_type": "stream",
     "text": [
      "count of records founded with variations of identifier name: 13182\n"
     ]
    }
   ],
   "source": [
    "query = session.query(TrustedIdentifier.value_founded) \\\n",
    "    .filter(TrustedIdentifier.trusted) \\\n",
    "    .distinct()\\\n",
    "    .all()\n",
    "\n",
    "list_variations_of_identifiers_trusted = [q.value_founded for q in query]\n",
    "\n",
    "count_of_records_with_variations_identifier_name = session.query(DataSP) \\\n",
    "    .filter(DataSP.identified_by.in_(list_variations_of_identifiers_trusted))\\\n",
    "    .count()\n",
    "\n",
    "print('count of records founded with variations of identifier name: %d' % count_of_records_with_variations_identifier_name)"
   ],
   "metadata": {
    "collapsed": false
   }
  },
  {
   "cell_type": "markdown",
   "source": [
    "## Create table data by trusted identifiers"
   ],
   "metadata": {
    "collapsed": false
   }
  },
  {
   "cell_type": "code",
   "execution_count": 6,
   "outputs": [
    {
     "name": "stdout",
     "output_type": "stream",
     "text": [
      "create table: data_trusted_identifier\n",
      "count of records in table data_trusted_identifier: 13182\n"
     ]
    }
   ],
   "source": [
    "db.create_table(engine, DataTrustedIdentifier)\n",
    "count_data_in_data_trusted_identifier = session.query(DataTrustedIdentifier).count()\n",
    "\n",
    "if count_data_in_data_trusted_identifier == 0:\n",
    "    query = session.query(DataSP) \\\n",
    "        .filter(DataSP.identified_by.in_(list_variations_of_identifiers_trusted)) \\\n",
    "        .all()\n",
    "\n",
    "    for i, q in enumerate(query):\n",
    "        try:\n",
    "            new_data_of_identifier_trusted = create_data_trusted_identifier(q)\n",
    "            session.add(new_data_of_identifier_trusted)\n",
    "            session.commit()\n",
    "        except Exception as e:\n",
    "            print(e)\n",
    "\n",
    "count_data_from_trusted_identifers = session.query(DataTrustedIdentifier).count()\n",
    "print('count of records in table %s: %d' % (DataTrustedIdentifier.__tablename__, count_data_from_trusted_identifers))"
   ],
   "metadata": {
    "collapsed": false
   }
  },
  {
   "cell_type": "markdown",
   "source": [
    "## Close connection"
   ],
   "metadata": {
    "collapsed": false
   }
  },
  {
   "cell_type": "code",
   "execution_count": 7,
   "outputs": [],
   "source": [
    "session.close()\n",
    "engine.dispose()"
   ],
   "metadata": {
    "collapsed": false
   }
  }
 ],
 "metadata": {
  "kernelspec": {
   "display_name": "base",
   "language": "python",
   "name": "python3"
  },
  "language_info": {
   "codemirror_mode": {
    "name": "ipython",
    "version": 3
   },
   "file_extension": ".py",
   "mimetype": "text/x-python",
   "name": "python",
   "nbconvert_exporter": "python",
   "pygments_lexer": "ipython3",
   "version": "3.9.12"
  },
  "vscode": {
   "interpreter": {
    "hash": "53ce972a288a646521e393254486dd3d4e40ae124f0f9a66da52dff344d61cdc"
   }
  }
 },
 "nbformat": 4,
 "nbformat_minor": 1
}
