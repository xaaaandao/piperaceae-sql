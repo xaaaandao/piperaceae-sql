{
 "cells": [
  {
   "cell_type": "code",
   "execution_count": 11,
   "outputs": [
    {
     "name": "stdout",
     "output_type": "stream",
     "text": [
      "The autoreload extension is already loaded. To reload it, use:\n",
      "  %reload_ext autoreload\n"
     ]
    }
   ],
   "source": [
    "%reload_ext autoreload\n",
    "%load_ext autoreload\n",
    "%autoreload 2"
   ],
   "metadata": {
    "collapsed": false
   }
  },
  {
   "cell_type": "code",
   "execution_count": 12,
   "outputs": [],
   "source": [
    "import os\n",
    "import pandas as pd\n",
    "import sqlalchemy as sa\n",
    "import sys\n",
    "\n",
    "sys.path.append(os.path.dirname(os.path.dirname(os.path.abspath('main.ipynb'))))\n",
    "\n",
    "import database as db\n",
    "from models import CorrectLevel, County, DataTrustedIdentifier, TrustedIdentifier, DataSP, Image, create_data_trusted_identifier"
   ],
   "metadata": {
    "collapsed": false
   }
  },
  {
   "cell_type": "markdown",
   "source": [
    "## Database connection"
   ],
   "metadata": {
    "collapsed": false
   }
  },
  {
   "cell_type": "code",
   "execution_count": 13,
   "outputs": [
    {
     "name": "stdout",
     "output_type": "stream",
     "text": [
      "2023-03-27 10:07:17,397 INFO sqlalchemy.engine.Engine select pg_catalog.version()\n",
      "2023-03-27 10:07:17,397 INFO sqlalchemy.engine.Engine [raw sql] {}\n",
      "2023-03-27 10:07:17,398 INFO sqlalchemy.engine.Engine select current_schema()\n",
      "2023-03-27 10:07:17,398 INFO sqlalchemy.engine.Engine [raw sql] {}\n",
      "2023-03-27 10:07:17,399 INFO sqlalchemy.engine.Engine show standard_conforming_strings\n",
      "2023-03-27 10:07:17,399 INFO sqlalchemy.engine.Engine [raw sql] {}\n"
     ]
    }
   ],
   "source": [
    "engine, session = db.connect()\n",
    "engine.echo = False"
   ],
   "metadata": {
    "collapsed": false
   }
  },
  {
   "cell_type": "code",
   "execution_count": 14,
   "outputs": [],
   "source": [
    "db.create_table(engine, CorrectLevel)"
   ],
   "metadata": {
    "collapsed": false
   }
  },
  {
   "cell_type": "code",
   "execution_count": 15,
   "outputs": [],
   "source": [
    "old_genus = [['Sarcorhachis'], ['Pothomorphe'], ['Piperomia', 'Peperonia']]\n",
    "new_genus = ['Manekia', 'Piper', 'Peperomia']\n",
    "\n",
    "for g in zip(old_genus, new_genus):\n",
    "    list_old_genus = g[0]\n",
    "    new = g[1]\n",
    "    for old in list_old_genus:\n",
    "        session.query(DataTrustedIdentifier)\\\n",
    "            .filter(DataTrustedIdentifier.genus.__eq__(old))\\\n",
    "            .update(values={DataTrustedIdentifier.genus_trusted: new}, synchronize_session=False)"
   ],
   "metadata": {
    "collapsed": false
   }
  },
  {
   "cell_type": "code",
   "execution_count": 41,
   "outputs": [
    {
     "data": {
      "text/plain": "    kingdom phylum order classe family                              genus  \\\n0      None   None  None   None   None                            Ottonia   \n1      None   None  None   None   None                            Ottonia   \n2      None   None  None   None   None                            Ottonia   \n3      None   None  None   None   None                            Ottonia   \n4      None   None  None   None   None                            Ottonia   \n..      ...    ...   ...    ...    ...                                ...   \n113    None   None  None   None   None                            Ottonia   \n114    None   None  None   None   None                            Ottonia   \n115    None   None  None   None   None                              Piper   \n116    None   None  None   None   None  Ottonia frutescens (C. DC.) Trel.   \n117    None   None  None   None   None                              Piper   \n\n    specific_epithet infraspecific_epithet scientific_name_authorship  \\\n0             anisum                  None                    Spreng.   \n1             anisum           f. glabrior                       Miq.   \n2           armondii                  None                      Trel.   \n3         burchellii                  None                      Trel.   \n4       carpinifolia   f. hirtipedicellata                     Yunck.   \n..               ...                   ...                        ...   \n113   brevistipitata                  None             (C. DC.) Trel.   \n114     leptostachya   var. brevistipitata        (C. DC.) E.F. Guim.   \n115       frutescens                  None                     C. DC.   \n116             None                  None                       None   \n117    setebarraense          var. pilosum   E.F. Guim. & L.H.P.Costa   \n\n    kingdom_trusted phylum_trusted order_trusted classe_trusted  \\\n0              None           None          None           None   \n1              None           None          None           None   \n2              None           None          None           None   \n3              None           None          None           None   \n4              None           None          None           None   \n..              ...            ...           ...            ...   \n113            None           None          None           None   \n114            None           None          None           None   \n115            None           None          None           None   \n116            None           None          None           None   \n117            None           None          None           None   \n\n    family_trusted genus_trusted specific_epithet_trusted  \\\n0             None         Piper                   anisum   \n1             None         Piper                   anisum   \n2             None         Piper                   anisum   \n3             None         Piper                   anisum   \n4             None         Piper                   anisum   \n..             ...           ...                      ...   \n113           None         Piper                   ovatum   \n114           None         Piper                   ovatum   \n115           None         Piper                   ovatum   \n116           None         Piper                   ovatum   \n117           None         Piper            setebarraense   \n\n    infraspecific_epithet_trusted scientific_name_authorship_trusted  \n0                            None                   (Spreng.) Angely  \n1                            None                   (Spreng.) Angely  \n2                            None                   (Spreng.) Angely  \n3                            None                   (Spreng.) Angely  \n4                            None                   (Spreng.) Angely  \n..                            ...                                ...  \n113                var. hirtellum                             C. DC.  \n114                var. hirtellum                             C. DC.  \n115                var. hirtellum                             C. DC.  \n116                var. hirtellum                             C. DC.  \n117                          None          E.F. Guim. & L.H.P. Costa  \n\n[118 rows x 18 columns]",
      "text/html": "<div>\n<style scoped>\n    .dataframe tbody tr th:only-of-type {\n        vertical-align: middle;\n    }\n\n    .dataframe tbody tr th {\n        vertical-align: top;\n    }\n\n    .dataframe thead th {\n        text-align: right;\n    }\n</style>\n<table border=\"1\" class=\"dataframe\">\n  <thead>\n    <tr style=\"text-align: right;\">\n      <th></th>\n      <th>kingdom</th>\n      <th>phylum</th>\n      <th>order</th>\n      <th>classe</th>\n      <th>family</th>\n      <th>genus</th>\n      <th>specific_epithet</th>\n      <th>infraspecific_epithet</th>\n      <th>scientific_name_authorship</th>\n      <th>kingdom_trusted</th>\n      <th>phylum_trusted</th>\n      <th>order_trusted</th>\n      <th>classe_trusted</th>\n      <th>family_trusted</th>\n      <th>genus_trusted</th>\n      <th>specific_epithet_trusted</th>\n      <th>infraspecific_epithet_trusted</th>\n      <th>scientific_name_authorship_trusted</th>\n    </tr>\n  </thead>\n  <tbody>\n    <tr>\n      <th>0</th>\n      <td>None</td>\n      <td>None</td>\n      <td>None</td>\n      <td>None</td>\n      <td>None</td>\n      <td>Ottonia</td>\n      <td>anisum</td>\n      <td>None</td>\n      <td>Spreng.</td>\n      <td>None</td>\n      <td>None</td>\n      <td>None</td>\n      <td>None</td>\n      <td>None</td>\n      <td>Piper</td>\n      <td>anisum</td>\n      <td>None</td>\n      <td>(Spreng.) Angely</td>\n    </tr>\n    <tr>\n      <th>1</th>\n      <td>None</td>\n      <td>None</td>\n      <td>None</td>\n      <td>None</td>\n      <td>None</td>\n      <td>Ottonia</td>\n      <td>anisum</td>\n      <td>f. glabrior</td>\n      <td>Miq.</td>\n      <td>None</td>\n      <td>None</td>\n      <td>None</td>\n      <td>None</td>\n      <td>None</td>\n      <td>Piper</td>\n      <td>anisum</td>\n      <td>None</td>\n      <td>(Spreng.) Angely</td>\n    </tr>\n    <tr>\n      <th>2</th>\n      <td>None</td>\n      <td>None</td>\n      <td>None</td>\n      <td>None</td>\n      <td>None</td>\n      <td>Ottonia</td>\n      <td>armondii</td>\n      <td>None</td>\n      <td>Trel.</td>\n      <td>None</td>\n      <td>None</td>\n      <td>None</td>\n      <td>None</td>\n      <td>None</td>\n      <td>Piper</td>\n      <td>anisum</td>\n      <td>None</td>\n      <td>(Spreng.) Angely</td>\n    </tr>\n    <tr>\n      <th>3</th>\n      <td>None</td>\n      <td>None</td>\n      <td>None</td>\n      <td>None</td>\n      <td>None</td>\n      <td>Ottonia</td>\n      <td>burchellii</td>\n      <td>None</td>\n      <td>Trel.</td>\n      <td>None</td>\n      <td>None</td>\n      <td>None</td>\n      <td>None</td>\n      <td>None</td>\n      <td>Piper</td>\n      <td>anisum</td>\n      <td>None</td>\n      <td>(Spreng.) Angely</td>\n    </tr>\n    <tr>\n      <th>4</th>\n      <td>None</td>\n      <td>None</td>\n      <td>None</td>\n      <td>None</td>\n      <td>None</td>\n      <td>Ottonia</td>\n      <td>carpinifolia</td>\n      <td>f. hirtipedicellata</td>\n      <td>Yunck.</td>\n      <td>None</td>\n      <td>None</td>\n      <td>None</td>\n      <td>None</td>\n      <td>None</td>\n      <td>Piper</td>\n      <td>anisum</td>\n      <td>None</td>\n      <td>(Spreng.) Angely</td>\n    </tr>\n    <tr>\n      <th>...</th>\n      <td>...</td>\n      <td>...</td>\n      <td>...</td>\n      <td>...</td>\n      <td>...</td>\n      <td>...</td>\n      <td>...</td>\n      <td>...</td>\n      <td>...</td>\n      <td>...</td>\n      <td>...</td>\n      <td>...</td>\n      <td>...</td>\n      <td>...</td>\n      <td>...</td>\n      <td>...</td>\n      <td>...</td>\n      <td>...</td>\n    </tr>\n    <tr>\n      <th>113</th>\n      <td>None</td>\n      <td>None</td>\n      <td>None</td>\n      <td>None</td>\n      <td>None</td>\n      <td>Ottonia</td>\n      <td>brevistipitata</td>\n      <td>None</td>\n      <td>(C. DC.) Trel.</td>\n      <td>None</td>\n      <td>None</td>\n      <td>None</td>\n      <td>None</td>\n      <td>None</td>\n      <td>Piper</td>\n      <td>ovatum</td>\n      <td>var. hirtellum</td>\n      <td>C. DC.</td>\n    </tr>\n    <tr>\n      <th>114</th>\n      <td>None</td>\n      <td>None</td>\n      <td>None</td>\n      <td>None</td>\n      <td>None</td>\n      <td>Ottonia</td>\n      <td>leptostachya</td>\n      <td>var. brevistipitata</td>\n      <td>(C. DC.) E.F. Guim.</td>\n      <td>None</td>\n      <td>None</td>\n      <td>None</td>\n      <td>None</td>\n      <td>None</td>\n      <td>Piper</td>\n      <td>ovatum</td>\n      <td>var. hirtellum</td>\n      <td>C. DC.</td>\n    </tr>\n    <tr>\n      <th>115</th>\n      <td>None</td>\n      <td>None</td>\n      <td>None</td>\n      <td>None</td>\n      <td>None</td>\n      <td>Piper</td>\n      <td>frutescens</td>\n      <td>None</td>\n      <td>C. DC.</td>\n      <td>None</td>\n      <td>None</td>\n      <td>None</td>\n      <td>None</td>\n      <td>None</td>\n      <td>Piper</td>\n      <td>ovatum</td>\n      <td>var. hirtellum</td>\n      <td>C. DC.</td>\n    </tr>\n    <tr>\n      <th>116</th>\n      <td>None</td>\n      <td>None</td>\n      <td>None</td>\n      <td>None</td>\n      <td>None</td>\n      <td>Ottonia frutescens (C. DC.) Trel.</td>\n      <td>None</td>\n      <td>None</td>\n      <td>None</td>\n      <td>None</td>\n      <td>None</td>\n      <td>None</td>\n      <td>None</td>\n      <td>None</td>\n      <td>Piper</td>\n      <td>ovatum</td>\n      <td>var. hirtellum</td>\n      <td>C. DC.</td>\n    </tr>\n    <tr>\n      <th>117</th>\n      <td>None</td>\n      <td>None</td>\n      <td>None</td>\n      <td>None</td>\n      <td>None</td>\n      <td>Piper</td>\n      <td>setebarraense</td>\n      <td>var. pilosum</td>\n      <td>E.F. Guim. &amp; L.H.P.Costa</td>\n      <td>None</td>\n      <td>None</td>\n      <td>None</td>\n      <td>None</td>\n      <td>None</td>\n      <td>Piper</td>\n      <td>setebarraense</td>\n      <td>None</td>\n      <td>E.F. Guim. &amp; L.H.P. Costa</td>\n    </tr>\n  </tbody>\n</table>\n<p>118 rows × 18 columns</p>\n</div>"
     },
     "execution_count": 41,
     "metadata": {},
     "output_type": "execute_result"
    }
   ],
   "source": [
    "df = pd.read_csv('../csv/list_genus_species_correct.csv', sep=';', index_col=None, header=0).astype(str)\n",
    "df = df.replace('nan', None)\n",
    "df"
   ],
   "metadata": {
    "collapsed": false
   }
  },
  {
   "cell_type": "code",
   "execution_count": 43,
   "outputs": [
    {
     "name": "stdout",
     "output_type": "stream",
     "text": [
      "genus (old) Ottonia - (new) Piper\n",
      "specific_epithet (old) anisum - (new) anisum\n",
      "infraspecific_epithet (old) None - (new) None\n",
      "scientific_name_authorship (old) Spreng. - (new) (Spreng.) Angely\n",
      "<class 'NoneType'>\n"
     ]
    }
   ],
   "source": [
    "session.commit()\n",
    "session.flush()\n",
    "\n",
    "def get_old_columns(columns):\n",
    "    genus = columns.genus\n",
    "    specific_epithet = columns.specific_epithet\n",
    "    infraspecific_epithet = columns.infraspecific_epithet\n",
    "    if infraspecific_epithet:\n",
    "        infraspecific_epithet = infraspecific_epithet.replace('f. ', '').replace('var. ', '')\n",
    "    scientific_name_authorship = columns.scientific_name_authorship\n",
    "    if scientific_name_authorship:\n",
    "        scientific_name_authorship = scientific_name_authorship.replace(' ', '').replace('(', '').replace(')','').replace('.', '')\n",
    "    return genus, specific_epithet, infraspecific_epithet, scientific_name_authorship\n",
    "\n",
    "\n",
    "def get_new_columns(columns):\n",
    "    genus = columns.genus_trusted\n",
    "    specific_epithet = columns.specific_epithet_trusted\n",
    "    infraspecific_epithet = columns.infraspecific_epithet_trusted\n",
    "    if infraspecific_epithet:\n",
    "        infraspecific_epithet = infraspecific_epithet.replace('f. ', '').replace('var. ', '')\n",
    "    scientific_name_authorship = columns.scientific_name_authorship_trusted\n",
    "    if scientific_name_authorship:\n",
    "        scientific_name_authorship = scientific_name_authorship.replace(' ', '').replace('(', '').replace(')','').replace('.', '')\n",
    "    return genus, specific_epithet, infraspecific_epithet, scientific_name_authorship\n",
    "\n",
    "\n",
    "for d in df[['genus', 'specific_epithet', 'infraspecific_epithet', 'scientific_name_authorship', 'genus_trusted', 'specific_epithet_trusted', 'infraspecific_epithet_trusted','scientific_name_authorship_trusted']].iterrows():\n",
    "    print('genus (old) %s - (new) %s' % (d[1].genus, d[1].genus_trusted))\n",
    "    print('specific_epithet (old) %s - (new) %s' % (d[1].specific_epithet, d[1].specific_epithet_trusted))\n",
    "    print('infraspecific_epithet (old) %s - (new) %s' % (d[1].infraspecific_epithet, d[1].infraspecific_epithet_trusted))\n",
    "    print('scientific_name_authorship (old) %s - (new) %s' % (d[1].scientific_name_authorship, d[1].scientific_name_authorship_trusted))\n",
    "\n",
    "    print(type(d[1].infraspecific_epithet_trusted))\n",
    "\n",
    "\n",
    "    # sub = session.query(DataTrustedIdentifier)\\\n",
    "    #     .filter(sa.and_(DataTrustedIdentifier.genus.__eq__(d[1].genus),\n",
    "    #                     DataTrustedIdentifier.specific_epithet.__eq__(d[1].specific_epithet),\n",
    "    #                     sa.or_(DataTrustedIdentifier.infraspecific_epithet.__eq__(d[1].infraspecific_epithet), DataTrustedIdentifier.scientific_name_authorship.__eq__(d[1].scientific_name_authorship))))\\\n",
    "    #     .subquery('sub')\n",
    "\n",
    "    session.query(DataTrustedIdentifier)\\\n",
    "        .filter(sa.and_(DataTrustedIdentifier.genus.__eq__(d[1].genus),\n",
    "                        DataTrustedIdentifier.specific_epithet.__eq__(d[1].specific_epithet),\n",
    "                        sa.or_(DataTrustedIdentifier.infraspecific_epithet.__eq__(d[1].infraspecific_epithet), DataTrustedIdentifier.scientific_name_authorship.__eq__(d[1].scientific_name_authorship))))\\\n",
    "        .update(values={DataTrustedIdentifier.genus_trusted: d[1].genus_trusted,\n",
    "                        DataTrustedIdentifier.specific_epithet_trusted: d[1].specific_epithet_trusted,\n",
    "                        DataTrustedIdentifier.infraspecific_epithet_trusted: d[1].infraspecific_epithet_trusted,\n",
    "                        DataTrustedIdentifier.scientific_name_authorship_trusted: d[1].scientific_name_authorship_trusted}, synchronize_session=False)\n",
    "\n",
    "    session.commit()\n",
    "    break"
   ],
   "metadata": {
    "collapsed": false
   }
  },
  {
   "cell_type": "code",
   "execution_count": null,
   "outputs": [],
   "source": [
    "# genus_old, specific_epithet_old, infraspecific_epithet_old, scientific_name_authorship_old = get_old_columns(d[1])\n",
    "    #\n",
    "    # genus_new, specific_epithet_new, infraspecific_epithet_new, scientific_name_authorship_new = get_new_columns(d[1])\n",
    "    #\n",
    "    #\n",
    "    # column_infraspecific_epithet = sa.func.replace(\n",
    "    #     sa.func.replace(DataTrustedIdentifier.infraspecific_epithet, 'f. ', ''),\n",
    "    #     'var. ', '')\n",
    "    # column_scientific_name_authorship = sa.func.replace(\n",
    "    #     sa.func.replace(\n",
    "    #         sa.func.replace(\n",
    "    #             DataTrustedIdentifier.scientific_name_authorship, '.', ''),\n",
    "    #         '(', ''),\n",
    "    #     ')', '')\n",
    "    #\n",
    "    # columns = [\n",
    "    #     DataTrustedIdentifier.genus,\n",
    "    #     DataTrustedIdentifier.specific_epithet,\n",
    "    #     column_infraspecific_epithet.label('infraspecific_epithet'),\n",
    "    #     column_scientific_name_authorship.label('scientific_name_authorship'),\n",
    "    # ]\n",
    "    #\n",
    "    # sub = session.query(*columns) \\\n",
    "    #     .filter(sa.and_(DataTrustedIdentifier.genus.__eq__(genus_old),\n",
    "    #                     DataTrustedIdentifier.specific_epithet.__eq__(specific_epithet_old))) \\\n",
    "    #     .subquery('sub')\n",
    "    #\n",
    "    # session.query(DataTrustedIdentifier) \\\n",
    "    #     .filter(sa.and_(sub.c.genus.__eq__(genus_old),\n",
    "    #                     sub.c.specific_epithet.__eq__(specific_epithet_old),\n",
    "    #                     sa.or_(sub.c.infraspecific_epithet.__eq__(infraspecific_epithet_old),\n",
    "    #                            sub.c.scientific_name_authorship.__eq__(scientific_name_authorship_old))))\\\n",
    "    #     .update(values={DataTrustedIdentifier.genus_trusted: genus_new,\n",
    "    #                     DataTrustedIdentifier.specific_epithet_trusted: specific_epithet_new,\n",
    "    #                     DataTrustedIdentifier.infraspecific_epithet_trusted: infraspecific_epithet_new,\n",
    "    #                     DataTrustedIdentifier.scientific_name_authorship_trusted: scientific_name_authorship_new},\n",
    "    #             synchronize_session=False)\n",
    "    # session.commit()"
   ],
   "metadata": {
    "collapsed": false
   }
  },
  {
   "cell_type": "markdown",
   "source": [
    "## Close connection"
   ],
   "metadata": {
    "collapsed": false
   }
  },
  {
   "cell_type": "code",
   "execution_count": 18,
   "outputs": [],
   "source": [
    "session.close()\n",
    "engine.dispose()"
   ],
   "metadata": {
    "collapsed": false
   }
  }
 ],
 "metadata": {
  "kernelspec": {
   "display_name": "Python 3",
   "language": "python",
   "name": "python3"
  },
  "language_info": {
   "codemirror_mode": {
    "name": "ipython",
    "version": 2
   },
   "file_extension": ".py",
   "mimetype": "text/x-python",
   "name": "python",
   "nbconvert_exporter": "python",
   "pygments_lexer": "ipython2",
   "version": "2.7.6"
  }
 },
 "nbformat": 4,
 "nbformat_minor": 0
}
