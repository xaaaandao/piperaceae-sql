{
 "cells": [
  {
   "cell_type": "code",
   "execution_count": 1,
   "outputs": [
    {
     "name": "stdout",
     "output_type": "stream",
     "text": [
      "The autoreload extension is already loaded. To reload it, use:\n",
      "  %reload_ext autoreload\n"
     ]
    }
   ],
   "source": [
    "%reload_ext autoreload\n",
    "%load_ext autoreload\n",
    "%autoreload 2"
   ],
   "metadata": {
    "collapsed": false
   }
  },
  {
   "cell_type": "code",
   "execution_count": 2,
   "metadata": {},
   "outputs": [],
   "source": [
    "import os\n",
    "import pandas as pd\n",
    "import sqlalchemy as sa\n",
    "import sys\n",
    "\n",
    "sys.path.append(os.path.dirname(os.path.dirname(os.path.abspath('main.ipynb'))))\n",
    "\n",
    "import database as db\n",
    "from models import County, DataTrustedIdentifier, TrustedIdentifier, DataSP, Image, create_data_trusted_identifier"
   ]
  },
  {
   "cell_type": "markdown",
   "source": [
    "## Database connection"
   ],
   "metadata": {
    "collapsed": false
   }
  },
  {
   "cell_type": "code",
   "execution_count": 3,
   "outputs": [
    {
     "name": "stdout",
     "output_type": "stream",
     "text": [
      "2023-03-28 19:55:51,173 INFO sqlalchemy.engine.Engine select pg_catalog.version()\n",
      "2023-03-28 19:55:51,173 INFO sqlalchemy.engine.Engine [raw sql] {}\n",
      "2023-03-28 19:55:51,174 INFO sqlalchemy.engine.Engine select current_schema()\n",
      "2023-03-28 19:55:51,175 INFO sqlalchemy.engine.Engine [raw sql] {}\n",
      "2023-03-28 19:55:51,176 INFO sqlalchemy.engine.Engine show standard_conforming_strings\n",
      "2023-03-28 19:55:51,176 INFO sqlalchemy.engine.Engine [raw sql] {}\n"
     ]
    }
   ],
   "source": [
    "engine, session = db.connect()\n",
    "engine.echo = False"
   ],
   "metadata": {
    "collapsed": false
   }
  },
  {
   "cell_type": "markdown",
   "source": [
    "## Replace unenconded character"
   ],
   "metadata": {
    "collapsed": false
   }
  },
  {
   "cell_type": "code",
   "execution_count": 4,
   "outputs": [
    {
     "data": {
      "text/plain": "  error correct\n0    Ã¡       á\n1    Ãº       ú\n2     Ã       í\n3    Ã³       ó\n4    Ã±       ñ\n5    Ã©       é",
      "text/html": "<div>\n<style scoped>\n    .dataframe tbody tr th:only-of-type {\n        vertical-align: middle;\n    }\n\n    .dataframe tbody tr th {\n        vertical-align: top;\n    }\n\n    .dataframe thead th {\n        text-align: right;\n    }\n</style>\n<table border=\"1\" class=\"dataframe\">\n  <thead>\n    <tr style=\"text-align: right;\">\n      <th></th>\n      <th>error</th>\n      <th>correct</th>\n    </tr>\n  </thead>\n  <tbody>\n    <tr>\n      <th>0</th>\n      <td>Ã¡</td>\n      <td>á</td>\n    </tr>\n    <tr>\n      <th>1</th>\n      <td>Ãº</td>\n      <td>ú</td>\n    </tr>\n    <tr>\n      <th>2</th>\n      <td>Ã</td>\n      <td>í</td>\n    </tr>\n    <tr>\n      <th>3</th>\n      <td>Ã³</td>\n      <td>ó</td>\n    </tr>\n    <tr>\n      <th>4</th>\n      <td>Ã±</td>\n      <td>ñ</td>\n    </tr>\n    <tr>\n      <th>5</th>\n      <td>Ã©</td>\n      <td>é</td>\n    </tr>\n  </tbody>\n</table>\n</div>"
     },
     "execution_count": 4,
     "metadata": {},
     "output_type": "execute_result"
    }
   ],
   "source": [
    "list_unenconded_characters = {\n",
    "    'error': ['Ã¡', 'Ãº', 'Ã', 'Ã³', 'Ã±', 'Ã©'],\n",
    "    'correct': ['á', 'ú', 'í', 'ó', 'ñ', 'é']\n",
    "}\n",
    "\n",
    "pd.DataFrame(list_unenconded_characters)"
   ],
   "metadata": {
    "collapsed": false
   }
  },
  {
   "cell_type": "code",
   "execution_count": 5,
   "outputs": [],
   "source": [
    "for column in [DataTrustedIdentifier.state_province, DataTrustedIdentifier.county]:\n",
    "    list_character_error = list_unenconded_characters['error']\n",
    "    list_character_correct = list_unenconded_characters['correct']\n",
    "    for special_character in zip(list_character_error, list_character_correct):\n",
    "        special_character_to_find = special_character[0]\n",
    "        special_character_to_replace = special_character[1]\n",
    "        value = sa.func.replace(column, special_character_to_find, special_character_to_replace)\n",
    "        session.query(DataTrustedIdentifier)\\\n",
    "            .update(values={column: value}, synchronize_session=False)\n",
    "        session.commit()"
   ],
   "metadata": {
    "collapsed": false
   }
  },
  {
   "cell_type": "markdown",
   "source": [
    "## Update column country trusted if column country contains variations of word Brazil"
   ],
   "metadata": {
    "collapsed": false
   }
  },
  {
   "cell_type": "code",
   "execution_count": 6,
   "outputs": [
    {
     "name": "stdout",
     "output_type": "stream",
     "text": [
      "count of records with variations of Brazil: 11206\n"
     ]
    }
   ],
   "source": [
    "count_of_brazil_in_country_trusted = session.query(DataTrustedIdentifier) \\\n",
    "    .filter(DataTrustedIdentifier.country_trusted == 'Brasil') \\\n",
    "    .count()\n",
    "\n",
    "list_variations_br = ['Brasil', 'BRASIL', 'Brasil/Bolivia', 'Brasilia', 'brazil', 'Brazil', 'BRazil', 'BRAZIL', '[Brésil]', 'Brésil']\n",
    "\n",
    "if count_of_brazil_in_country_trusted == 0:\n",
    "    records_with_variations_brasil = session.query(DataTrustedIdentifier) \\\n",
    "        .filter(DataTrustedIdentifier.country.in_(list_variations_br)) \\\n",
    "        .all()\n",
    "\n",
    "    print('count of records with variations of Brazil: %d' % len(records_with_variations_brasil))\n",
    "\n",
    "    session.query(DataTrustedIdentifier) \\\n",
    "        .filter(DataTrustedIdentifier.country.in_(list_variations_br)) \\\n",
    "        .update({'country_trusted': 'Brasil'}, synchronize_session=False)\n",
    "    session.commit()"
   ],
   "metadata": {
    "collapsed": false
   }
  },
  {
   "cell_type": "markdown",
   "source": [
    "## Find records Brazilian's state and county. After that update column country trusted"
   ],
   "metadata": {
    "collapsed": false
   }
  },
  {
   "cell_type": "code",
   "execution_count": 7,
   "outputs": [
    {
     "name": "stderr",
     "output_type": "stream",
     "text": [
      "/tmp/ipykernel_149377/1863021139.py:5: SAWarning: Class unaccent will not make use of SQL compilation caching as it does not set the 'inherit_cache' attribute to ``True``.  This can have significant performance implications including some performance degradations in comparison to prior SQLAlchemy versions.  Set this attribute to True if this object can make use of the cache key generated by the superclass.  Alternatively, this attribute may be set to False which will disable this warning. (Background on this error at: https://sqlalche.me/e/20/cprf)\n",
      "  session.query(DataTrustedIdentifier) \\\n"
     ]
    }
   ],
   "source": [
    "query = session.query(County).distinct().all()\n",
    "\n",
    "uf_unaccented_lower, state_unaccented_lower, county_unaccented_lower = db.get_list_uf_state_county(query)\n",
    "\n",
    "session.query(DataTrustedIdentifier) \\\n",
    "    .filter(sa.and_(DataTrustedIdentifier.country_trusted.is_(None),\n",
    "                 sa.or_(uf_unaccented_lower, state_unaccented_lower),\n",
    "                 county_unaccented_lower)) \\\n",
    "    .update({'country_trusted': 'Brasil'}, synchronize_session=False)\n",
    "session.commit()"
   ],
   "metadata": {
    "collapsed": false
   }
  },
  {
   "cell_type": "code",
   "execution_count": 8,
   "outputs": [
    {
     "name": "stdout",
     "output_type": "stream",
     "text": [
      "count of Brasil in country trusted: 12144\n"
     ]
    }
   ],
   "source": [
    "count_of_brazil_in_country_trusted = session.query(DataTrustedIdentifier) \\\n",
    "    .filter(DataTrustedIdentifier.country_trusted == 'Brasil') \\\n",
    "    .count()\n",
    "\n",
    "print('count of Brasil in country trusted: %d' % count_of_brazil_in_country_trusted)"
   ],
   "metadata": {
    "collapsed": false
   }
  },
  {
   "cell_type": "markdown",
   "source": [
    "## Close connection"
   ],
   "metadata": {
    "collapsed": false
   }
  },
  {
   "cell_type": "code",
   "execution_count": 9,
   "outputs": [],
   "source": [
    "session.close()\n",
    "engine.dispose()"
   ],
   "metadata": {
    "collapsed": false
   }
  }
 ],
 "metadata": {
  "kernelspec": {
   "display_name": "base",
   "language": "python",
   "name": "python3"
  },
  "language_info": {
   "codemirror_mode": {
    "name": "ipython",
    "version": 3
   },
   "file_extension": ".py",
   "mimetype": "text/x-python",
   "name": "python",
   "nbconvert_exporter": "python",
   "pygments_lexer": "ipython3",
   "version": "3.9.12"
  },
  "vscode": {
   "interpreter": {
    "hash": "53ce972a288a646521e393254486dd3d4e40ae124f0f9a66da52dff344d61cdc"
   }
  }
 },
 "nbformat": 4,
 "nbformat_minor": 1
}
