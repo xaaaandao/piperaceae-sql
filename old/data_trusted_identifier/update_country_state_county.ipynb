{
 "cells": [
  {
   "cell_type": "code",
   "execution_count": 1,
   "outputs": [
    {
     "name": "stdout",
     "output_type": "stream",
     "text": [
      "The autoreload extension is already loaded. To reload it, use:\n",
      "  %reload_ext autoreload\n"
     ]
    }
   ],
   "source": [
    "%reload_ext autoreload\n",
    "%load_ext autoreload\n",
    "%autoreload 2"
   ],
   "metadata": {
    "collapsed": false
   }
  },
  {
   "cell_type": "code",
   "execution_count": 2,
   "metadata": {},
   "outputs": [],
   "source": [
    "import os\n",
    "import pandas as pd\n",
    "import sqlalchemy as sa\n",
    "import sys\n",
    "\n",
    "sys.path.append(os.path.dirname(os.path.dirname(os.path.abspath('main.ipynb'))))\n",
    "\n",
    "import database as db\n",
    "from models import County, DataTrustedIdentifier, TrustedIdentifier, DataSP, Image, create_data_trusted_identifier"
   ]
  },
  {
   "cell_type": "markdown",
   "source": [
    "## Database connection"
   ],
   "metadata": {
    "collapsed": false
   }
  },
  {
   "cell_type": "code",
   "execution_count": 3,
   "outputs": [
    {
     "name": "stdout",
     "output_type": "stream",
     "text": [
      "2023-03-28 19:55:51,173 INFO sqlalchemy.engine.Engine select pg_catalog.version()\n",
      "2023-03-28 19:55:51,173 INFO sqlalchemy.engine.Engine [raw sql] {}\n",
      "2023-03-28 19:55:51,174 INFO sqlalchemy.engine.Engine select current_schema()\n",
      "2023-03-28 19:55:51,175 INFO sqlalchemy.engine.Engine [raw sql] {}\n",
      "2023-03-28 19:55:51,176 INFO sqlalchemy.engine.Engine show standard_conforming_strings\n",
      "2023-03-28 19:55:51,176 INFO sqlalchemy.engine.Engine [raw sql] {}\n"
     ]
    }
   ],
   "source": [
    "engine, session = db.connect()\n",
    "engine.echo = False"
   ],
   "metadata": {
    "collapsed": false
   }
  },
  {
   "cell_type": "markdown",
   "source": [
    "## Replace unenconded character"
   ],
   "metadata": {
    "collapsed": false
   }
  },
  {
   "cell_type": "markdown",
   "source": [],
   "metadata": {
    "collapsed": false
   }
  },
  {
   "cell_type": "code",
   "execution_count": 1,
   "outputs": [
    {
     "ename": "NameError",
     "evalue": "name 'pd' is not defined",
     "output_type": "error",
     "traceback": [
      "\u001B[0;31m---------------------------------------------------------------------------\u001B[0m",
      "\u001B[0;31mNameError\u001B[0m                                 Traceback (most recent call last)",
      "Cell \u001B[0;32mIn[1], line 6\u001B[0m\n\u001B[1;32m      1\u001B[0m list_unenconded_characters \u001B[38;5;241m=\u001B[39m {\n\u001B[1;32m      2\u001B[0m     \u001B[38;5;124m'\u001B[39m\u001B[38;5;124merror\u001B[39m\u001B[38;5;124m'\u001B[39m: [\u001B[38;5;124m'\u001B[39m\u001B[38;5;124mÃ¡\u001B[39m\u001B[38;5;124m'\u001B[39m, \u001B[38;5;124m'\u001B[39m\u001B[38;5;124mÃº\u001B[39m\u001B[38;5;124m'\u001B[39m, \u001B[38;5;124m'\u001B[39m\u001B[38;5;124mÃ\u001B[39m\u001B[38;5;124m'\u001B[39m, \u001B[38;5;124m'\u001B[39m\u001B[38;5;124mÃ³\u001B[39m\u001B[38;5;124m'\u001B[39m, \u001B[38;5;124m'\u001B[39m\u001B[38;5;124mÃ±\u001B[39m\u001B[38;5;124m'\u001B[39m, \u001B[38;5;124m'\u001B[39m\u001B[38;5;124mÃ©\u001B[39m\u001B[38;5;124m'\u001B[39m],\n\u001B[1;32m      3\u001B[0m     \u001B[38;5;124m'\u001B[39m\u001B[38;5;124mcorrect\u001B[39m\u001B[38;5;124m'\u001B[39m: [\u001B[38;5;124m'\u001B[39m\u001B[38;5;124má\u001B[39m\u001B[38;5;124m'\u001B[39m, \u001B[38;5;124m'\u001B[39m\u001B[38;5;124mú\u001B[39m\u001B[38;5;124m'\u001B[39m, \u001B[38;5;124m'\u001B[39m\u001B[38;5;124mí\u001B[39m\u001B[38;5;124m'\u001B[39m, \u001B[38;5;124m'\u001B[39m\u001B[38;5;124mó\u001B[39m\u001B[38;5;124m'\u001B[39m, \u001B[38;5;124m'\u001B[39m\u001B[38;5;124mñ\u001B[39m\u001B[38;5;124m'\u001B[39m, \u001B[38;5;124m'\u001B[39m\u001B[38;5;124mé\u001B[39m\u001B[38;5;124m'\u001B[39m]\n\u001B[1;32m      4\u001B[0m }\n\u001B[0;32m----> 6\u001B[0m \u001B[43mpd\u001B[49m\u001B[38;5;241m.\u001B[39mDataFrame(list_unenconded_characters)\n",
      "\u001B[0;31mNameError\u001B[0m: name 'pd' is not defined"
     ]
    }
   ],
   "source": [
    "list_unenconded_characters = {\n",
    "    'error': ['Ã¡', 'Ãº', 'Ã', 'Ã³', 'Ã±', 'Ã©'],\n",
    "    'correct': ['á', 'ú', 'í', 'ó', 'ñ', 'é']\n",
    "}\n",
    "\n",
    "pd.DataFrame(list_unenconded_characters)"
   ],
   "metadata": {
    "collapsed": false,
    "ExecuteTime": {
     "end_time": "2023-11-09T16:08:46.382420834Z",
     "start_time": "2023-11-09T16:08:46.334571750Z"
    }
   }
  },
  {
   "cell_type": "code",
   "execution_count": 5,
   "outputs": [],
   "source": [
    "for column in [DataTrustedIdentifier.state_province, DataTrustedIdentifier.county]:\n",
    "    list_character_error = list_unenconded_characters['error']\n",
    "    list_character_correct = list_unenconded_characters['correct']\n",
    "    for special_character in zip(list_character_error, list_character_correct):\n",
    "        special_character_to_find = special_character[0]\n",
    "        special_character_to_replace = special_character[1]\n",
    "        value = sa.func.replace(column, special_character_to_find, special_character_to_replace)\n",
    "        session.query(DataTrustedIdentifier)\\\n",
    "            .update(values={column: value}, synchronize_session=False)\n",
    "        session.commit()"
   ],
   "metadata": {
    "collapsed": false
   }
  },
  {
   "cell_type": "markdown",
   "source": [
    "## Update column country trusted if column country contains variations of word Brazil"
   ],
   "metadata": {
    "collapsed": false
   }
  },
  {
   "cell_type": "code",
   "execution_count": 6,
   "outputs": [
    {
     "name": "stdout",
     "output_type": "stream",
     "text": [
      "count of records with variations of Brazil: 11206\n"
     ]
    }
   ],
   "source": [
    "count_of_brazil_in_country_trusted = session.query(DataTrustedIdentifier) \\\n",
    "    .filter(DataTrustedIdentifier.country_trusted == 'Brasil') \\\n",
    "    .count()\n",
    "\n",
    "list_variations_br = ['Brasil', 'BRASIL', 'Brasil/Bolivia', 'Brasilia', 'brazil', 'Brazil', 'BRazil', 'BRAZIL', '[Brésil]', 'Brésil']\n",
    "\n",
    "if count_of_brazil_in_country_trusted == 0:\n",
    "    records_with_variations_brasil = session.query(DataTrustedIdentifier) \\\n",
    "        .filter(DataTrustedIdentifier.country.in_(list_variations_br)) \\\n",
    "        .all()\n",
    "\n",
    "    print('count of records with variations of Brazil: %d' % len(records_with_variations_brasil))\n",
    "\n",
    "    session.query(DataTrustedIdentifier) \\\n",
    "        .filter(DataTrustedIdentifier.country.in_(list_variations_br)) \\\n",
    "        .update({'country_trusted': 'Brasil'}, synchronize_session=False)\n",
    "    session.commit()"
   ],
   "metadata": {
    "collapsed": false
   }
  },
  {
   "cell_type": "markdown",
   "source": [
    "## Find records Brazilian's state and county. After that update column country trusted"
   ],
   "metadata": {
    "collapsed": false
   }
  },
  {
   "cell_type": "code",
   "execution_count": 7,
   "outputs": [
    {
     "name": "stderr",
     "output_type": "stream",
     "text": [
      "/tmp/ipykernel_149377/1863021139.py:5: SAWarning: Class unaccent will not make use of SQL compilation caching as it does not set the 'inherit_cache' attribute to ``True``.  This can have significant performance implications including some performance degradations in comparison to prior SQLAlchemy versions.  Set this attribute to True if this object can make use of the cache key generated by the superclass.  Alternatively, this attribute may be set to False which will disable this warning. (Background on this error at: https://sqlalche.me/e/20/cprf)\n",
      "  session.query(DataTrustedIdentifier) \\\n"
     ]
    }
   ],
   "source": [
    "query = session.query(County).distinct().all()\n",
    "\n",
    "uf_unaccented_lower, state_unaccented_lower, county_unaccented_lower = db.get_list_uf_state_county(query)\n",
    "\n",
    "session.query(DataTrustedIdentifier) \\\n",
    "    .filter(sa.and_(DataTrustedIdentifier.country_trusted.is_(None),\n",
    "                 sa.or_(uf_unaccented_lower, state_unaccented_lower),\n",
    "                 county_unaccented_lower)) \\\n",
    "    .update({'country_trusted': 'Brasil'}, synchronize_session=False)\n",
    "session.commit()"
   ],
   "metadata": {
    "collapsed": false
   }
  },
  {
   "cell_type": "code",
   "execution_count": 8,
   "outputs": [
    {
     "name": "stdout",
     "output_type": "stream",
     "text": [
      "count of Brasil in country trusted: 12144\n"
     ]
    }
   ],
   "source": [
    "count_of_brazil_in_country_trusted = session.query(DataTrustedIdentifier) \\\n",
    "    .filter(DataTrustedIdentifier.country_trusted == 'Brasil') \\\n",
    "    .count()\n",
    "\n",
    "print('count of Brasil in country trusted: %d' % count_of_brazil_in_country_trusted)"
   ],
   "metadata": {
    "collapsed": false
   }
  },
  {
   "cell_type": "markdown",
   "source": [
    "## Close connection"
   ],
   "metadata": {
    "collapsed": false
   }
  },
  {
   "cell_type": "code",
   "execution_count": 9,
   "outputs": [],
   "source": [
    "session.close()\n",
    "engine.dispose()"
   ],
   "metadata": {
    "collapsed": false
   }
  }
 ],
 "metadata": {
  "kernelspec": {
   "display_name": "base",
   "language": "python",
   "name": "python3"
  },
  "language_info": {
   "codemirror_mode": {
    "name": "ipython",
    "version": 3
   },
   "file_extension": ".py",
   "mimetype": "text/x-python",
   "name": "python",
   "nbconvert_exporter": "python",
   "pygments_lexer": "ipython3",
   "version": "3.9.12"
  },
  "vscode": {
   "interpreter": {
    "hash": "53ce972a288a646521e393254486dd3d4e40ae124f0f9a66da52dff344d61cdc"
   }
  }
 },
 "nbformat": 4,
 "nbformat_minor": 1
}
