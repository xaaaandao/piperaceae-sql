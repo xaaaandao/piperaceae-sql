{
 "cells": [
  {
   "cell_type": "code",
   "execution_count": 3,
   "metadata": {},
   "outputs": [],
   "source": [
    "%reload_ext autoreload\n",
    "%autoreload 2\n",
    "\n",
    "import pandas as pd\n",
    "import shutil\n",
    "import time\n",
    "\n",
    "from api import *\n",
    "from dataframe import *\n",
    "from database import *\n",
    "from file import *\n",
    "from sql import *\n",
    "from tables import *"
   ]
  },
  {
   "cell_type": "markdown",
   "metadata": {},
   "source": [
    "# cfg"
   ]
  },
  {
   "cell_type": "code",
   "execution_count": 4,
   "metadata": {},
   "outputs": [
    {
     "name": "stdout",
     "output_type": "stream",
     "text": [
      "2022-11-20 00:13:04,392 INFO sqlalchemy.engine.Engine select pg_catalog.version()\n",
      "2022-11-20 00:13:04,392 INFO sqlalchemy.engine.Engine [raw sql] {}\n",
      "2022-11-20 00:13:04,394 INFO sqlalchemy.engine.Engine select current_schema()\n",
      "2022-11-20 00:13:04,395 INFO sqlalchemy.engine.Engine [raw sql] {}\n",
      "2022-11-20 00:13:04,396 INFO sqlalchemy.engine.Engine show standard_conforming_strings\n",
      "2022-11-20 00:13:04,397 INFO sqlalchemy.engine.Engine [raw sql] {}\n"
     ]
    }
   ],
   "source": [
    "user = os.environ['POSTGRE_USER']\n",
    "password = os.environ['POSTGRE_PASSWORD']\n",
    "cfg = {\n",
    "    'host': '192.168.0.144',\n",
    "    'user': user,\n",
    "    'password': password,\n",
    "    'port': '5432',\n",
    "    'database': 'herbario'\n",
    "}\n",
    "filename = \"csv/dados-sp.csv\"\n",
    "filename_george = \"csv/dados-george.csv\"\n",
    "\n",
    "engine, session = connect(cfg)"
   ]
  },
  {
   "cell_type": "markdown",
   "metadata": {},
   "source": [
    "# Load data"
   ]
  },
  {
   "cell_type": "code",
   "execution_count": 3,
   "metadata": {},
   "outputs": [],
   "source": [
    "dataframe = pandas.read_csv(\"csv/original.csv\", sep=\";\", low_memory=False, skipinitialspace=True)\n",
    "dataframe_george = pandas.read_csv(filename_george, sep=\";\", low_memory=False, skipinitialspace=True)"
   ]
  },
  {
   "cell_type": "code",
   "execution_count": null,
   "metadata": {},
   "outputs": [],
   "source": [
    "create_table_if_not_exists(cfg, engine, \"county\")\n",
    "create_table_if_not_exists(cfg, engine, \"data\")"
   ]
  },
  {
   "cell_type": "code",
   "execution_count": null,
   "metadata": {},
   "outputs": [],
   "source": [
    "if session.query(County).count() == 0:\n",
    "    response = get_municipies()\n",
    "    for i, county in enumerate(response.json()):\n",
    "        session.add(create_county(county))\n",
    "        make_operation(session)"
   ]
  },
  {
   "cell_type": "code",
   "execution_count": null,
   "outputs": [],
   "source": [
    "if session.query(DataSP).count() == 0:\n",
    "    change_header(dataframe)\n",
    "    dataframe = preprocess(dataframe)\n",
    "    # dataframe.iloc[24230]\n",
    "    for row in dataframe.iterrows():\n",
    "        session.add(create_datasp(row[1]))\n",
    "        make_operation(session)"
   ],
   "metadata": {
    "collapsed": false
   }
  },
  {
   "cell_type": "code",
   "execution_count": null,
   "outputs": [],
   "source": [
    "if session.query(DataSP).filter(DataSP.george == True).count() == 0:\n",
    "    for row in dataframe_george.iterrows():\n",
    "        if row[1][\"GEORGE\"].lower() == \"sim\":\n",
    "            session.query(DataSP).filter(DataSP.seq == row[1][\"seq\"]).update({\"george\": True}, synchronize_session=False)\n",
    "            make_operation(session)"
   ],
   "metadata": {
    "collapsed": false
   }
  },
  {
   "cell_type": "code",
   "execution_count": 4,
   "outputs": [
    {
     "name": "stdout",
     "output_type": "stream",
     "text": [
      "2022-11-15 19:09:36,471 INFO sqlalchemy.engine.Engine BEGIN (implicit)\n",
      "2022-11-15 19:09:36,474 INFO sqlalchemy.engine.Engine SELECT data.seq AS data_seq, data.modified AS data_modified, data.institution_code AS data_institution_code, data.collection_code AS data_collection_code, data.catalog_number AS data_catalog_number, data.basis_of_record AS data_basis_of_record, data.kingdom AS data_kingdom, data.phylum AS data_phylum, data.classe AS data_classe, data.\"order\" AS data_order, data.family AS data_family, data.genus AS data_genus, data.specific_epithet AS data_specific_epithet, data.infraspecific_epithet AS data_infraspecific_epithet, data.scientific_name AS data_scientific_name, data.scientific_name_authorship AS data_scientific_name_authorship, data.identified_by AS data_identified_by, data.year_identified AS data_year_identified, data.month_identified AS data_month_identified, data.day_identified AS data_day_identified, data.type_status AS data_type_status, data.recorded_by AS data_recorded_by, data.record_number AS data_record_number, data.field_number AS data_field_number, data.year AS data_year, data.month AS data_month, data.day AS data_day, data.event_time AS data_event_time, data.continent_ocean AS data_continent_ocean, data.country AS data_country, data.state_province AS data_state_province, data.county AS data_county, data.locality AS data_locality, data.decimal_longitude AS data_decimal_longitude, data.decimal_latitude AS data_decimal_latitude, data.verbatim_longitude AS data_verbatim_longitude, data.verbatim_latitude AS data_verbatim_latitude, data.coordinate_precision AS data_coordinate_precision, data.bounding_box AS data_bounding_box, data.minimum_elevation_in_meters AS data_minimum_elevation_in_meters, data.maximum_elevation_in_meters AS data_maximum_elevation_in_meters, data.minimum_depth_in_meters AS data_minimum_depth_in_meters, data.maximum_depth_in_meters AS data_maximum_depth_in_meters, data.sex AS data_sex, data.preparation_type AS data_preparation_type, data.individual_count AS data_individual_count, data.previous_catalog_number AS data_previous_catalog_number, data.relationship_type AS data_relationship_type, data.related_catalog_item AS data_related_catalog_item, data.occurrence_remarks AS data_occurrence_remarks, data.barcode AS data_barcode, data.imagecode AS data_imagecode, data.geo_flag AS data_geo_flag, data.george AS data_george, data.my_country AS data_my_country, data.my_state AS data_my_state, data.my_city AS data_my_city, data.index AS data_index, data.index_identified_by AS data_index_identified_by \n",
      "FROM data\n",
      "2022-11-15 19:09:36,475 INFO sqlalchemy.engine.Engine [generated in 0.00044s] {}\n",
      "2022-11-15 19:09:40,630 INFO sqlalchemy.engine.Engine SELECT DISTINCT lower(unaccent(county.uf)) AS lower_1 \n",
      "FROM county\n",
      "2022-11-15 19:09:40,630 INFO sqlalchemy.engine.Engine [no key 0.00060s] {}\n",
      "2022-11-15 19:09:40,638 INFO sqlalchemy.engine.Engine SELECT DISTINCT county.uf_name AS county_uf_name, lower(unaccent(county.uf_name)) AS lower_1 \n",
      "FROM county\n",
      "2022-11-15 19:09:40,638 INFO sqlalchemy.engine.Engine [no key 0.00035s] {}\n",
      "2022-11-15 19:09:40,646 INFO sqlalchemy.engine.Engine SELECT county.county AS county_county, unaccent(county.county) AS unaccent_1 \n",
      "FROM county \n",
      "WHERE county.uf = %(uf_1)s\n",
      "2022-11-15 19:09:40,646 INFO sqlalchemy.engine.Engine [no key 0.00059s] {'uf_1': 'PR'}\n"
     ]
    },
    {
     "name": "stderr",
     "output_type": "stream",
     "text": [
      "/tmp/ipykernel_99727/3996990519.py:4: SAWarning: Class unaccent will not make use of SQL compilation caching as it does not set the 'inherit_cache' attribute to ``True``.  This can have significant performance implications including some performance degradations in comparison to prior SQLAlchemy versions.  Set this attribute to True if this object can make use of the cache key generated by the superclass.  Alternatively, this attribute may be set to False which will disable this warning. (Background on this error at: https://sqlalche.me/e/14/cprf)\n",
      "  data_uf = session.query(sqlalchemy.func.lower(unaccent(County.uf))).distinct().all()\n"
     ]
    }
   ],
   "source": [
    "from unaccent import unaccent\n",
    "\n",
    "data_piperaceae = session.query(DataSP).all()\n",
    "data_uf = session.query(sqlalchemy.func.lower(unaccent(County.uf))).distinct().all()\n",
    "data_uf_name = session.query(County.uf_name, sqlalchemy.func.lower(unaccent(County.uf_name))).distinct().all()\n",
    "data_county = session.query(County.county, unaccent(County.county)).filter(County.uf==\"PR\").all()"
   ],
   "metadata": {
    "collapsed": false
   }
  },
  {
   "cell_type": "markdown",
   "source": [
    "### create file meta-data imgs george"
   ],
   "metadata": {
    "collapsed": false
   }
  },
  {
   "cell_type": "code",
   "execution_count": null,
   "outputs": [],
   "source": [
    "result = session.query(DataSP.barcode, DataSP.genus, DataSP.specific_epithet).filter(DataSP.george==True).all()\n",
    "\n",
    "columns = ['barcode', 'genus', 'specific_epithet']\n",
    "values = [row for row in result]\n",
    "output = pd.DataFrame(values, columns=columns)\n",
    "output.to_excel('genus-and-specific_epithet-by-image.xlsx', na_rep='', engine='xlsxwriter', index=None)\n",
    "output.to_csv('genus-and-specific_epithet-by-image.csv', na_rep='')"
   ],
   "metadata": {
    "collapsed": false
   }
  },
  {
   "cell_type": "code",
   "execution_count": null,
   "metadata": {},
   "outputs": [],
   "source": [
    "session.close()\n",
    "engine.dispose()"
   ]
  }
 ],
 "metadata": {
  "kernelspec": {
   "display_name": "Python 3 (ipykernel)",
   "language": "python",
   "name": "python3"
  },
  "language_info": {
   "codemirror_mode": {
    "name": "ipython",
    "version": 3
   },
   "file_extension": ".py",
   "mimetype": "text/x-python",
   "name": "python",
   "nbconvert_exporter": "python",
   "pygments_lexer": "ipython3",
   "version": "3.8.13"
  }
 },
 "nbformat": 4,
 "nbformat_minor": 1
}
