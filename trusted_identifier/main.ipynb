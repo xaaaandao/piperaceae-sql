{
 "cells": [
  {
   "cell_type": "code",
   "execution_count": 1,
   "outputs": [
    {
     "name": "stdout",
     "output_type": "stream",
     "text": [
      "The autoreload extension is already loaded. To reload it, use:\n",
      "  %reload_ext autoreload\n"
     ]
    }
   ],
   "source": [
    "%reload_ext autoreload\n",
    "%load_ext autoreload\n",
    "%autoreload 2"
   ],
   "metadata": {
    "collapsed": false
   }
  },
  {
   "cell_type": "code",
   "execution_count": 2,
   "metadata": {},
   "outputs": [],
   "source": [
    "import os\n",
    "import pandas as pd\n",
    "import sqlalchemy as sa\n",
    "import sys\n",
    "\n",
    "sys.path.append(os.path.dirname(os.path.dirname(os.path.abspath('main.ipynb'))))\n",
    "\n",
    "import database as db\n",
    "from models import County, DataTrustedIdentifier, TrustedIdentifier, DataSP, Image, create_data_trusted_identifier"
   ]
  },
  {
   "cell_type": "markdown",
   "source": [
    "## Database connection"
   ],
   "metadata": {
    "collapsed": false
   }
  },
  {
   "cell_type": "code",
   "execution_count": 3,
   "outputs": [
    {
     "name": "stdout",
     "output_type": "stream",
     "text": [
      "2023-03-24 16:32:12,497 INFO sqlalchemy.engine.Engine select pg_catalog.version()\n",
      "2023-03-24 16:32:12,498 INFO sqlalchemy.engine.Engine [raw sql] {}\n",
      "2023-03-24 16:32:12,499 INFO sqlalchemy.engine.Engine select current_schema()\n",
      "2023-03-24 16:32:12,500 INFO sqlalchemy.engine.Engine [raw sql] {}\n",
      "2023-03-24 16:32:12,501 INFO sqlalchemy.engine.Engine show standard_conforming_strings\n",
      "2023-03-24 16:32:12,501 INFO sqlalchemy.engine.Engine [raw sql] {}\n"
     ]
    }
   ],
   "source": [
    "engine, session = db.connect()\n",
    "engine.echo = False"
   ],
   "metadata": {
    "collapsed": false
   }
  },
  {
   "cell_type": "markdown",
   "source": [
    "## List with full name and variations of identifier"
   ],
   "metadata": {
    "collapsed": false
   }
  },
  {
   "cell_type": "code",
   "execution_count": 4,
   "metadata": {},
   "outputs": [
    {
     "data": {
      "text/plain": "                                    full_name searched_name\n0                  Aline Vieira de Melo Silva         Silva\n1                  Carmen Lúcia Falcão Ichaso        Ichaso\n2                   Daniele Monteiro Ferreira      Monteiro\n3                              Daniel Ruschel       Ruschel\n4                    Elsie Franklin Guimarães        Guimar\n5                                 Eric J Tepe          Tepe\n6   Erika Erika Von Sohsten de Souza Medeiros      Medeiros\n7                   George Azevedo de Queiroz       Queiroz\n8                    Micheline Carvalho-Silva      Carvalho\n9        Ricardo de la Merced Callejas Posada      Callejas\n10                      Truman George Yuncker       Yuncker\n11                           William Trelease      Trelease",
      "text/html": "<div>\n<style scoped>\n    .dataframe tbody tr th:only-of-type {\n        vertical-align: middle;\n    }\n\n    .dataframe tbody tr th {\n        vertical-align: top;\n    }\n\n    .dataframe thead th {\n        text-align: right;\n    }\n</style>\n<table border=\"1\" class=\"dataframe\">\n  <thead>\n    <tr style=\"text-align: right;\">\n      <th></th>\n      <th>full_name</th>\n      <th>searched_name</th>\n    </tr>\n  </thead>\n  <tbody>\n    <tr>\n      <th>0</th>\n      <td>Aline Vieira de Melo Silva</td>\n      <td>Silva</td>\n    </tr>\n    <tr>\n      <th>1</th>\n      <td>Carmen Lúcia Falcão Ichaso</td>\n      <td>Ichaso</td>\n    </tr>\n    <tr>\n      <th>2</th>\n      <td>Daniele Monteiro Ferreira</td>\n      <td>Monteiro</td>\n    </tr>\n    <tr>\n      <th>3</th>\n      <td>Daniel Ruschel</td>\n      <td>Ruschel</td>\n    </tr>\n    <tr>\n      <th>4</th>\n      <td>Elsie Franklin Guimarães</td>\n      <td>Guimar</td>\n    </tr>\n    <tr>\n      <th>5</th>\n      <td>Eric J Tepe</td>\n      <td>Tepe</td>\n    </tr>\n    <tr>\n      <th>6</th>\n      <td>Erika Erika Von Sohsten de Souza Medeiros</td>\n      <td>Medeiros</td>\n    </tr>\n    <tr>\n      <th>7</th>\n      <td>George Azevedo de Queiroz</td>\n      <td>Queiroz</td>\n    </tr>\n    <tr>\n      <th>8</th>\n      <td>Micheline Carvalho-Silva</td>\n      <td>Carvalho</td>\n    </tr>\n    <tr>\n      <th>9</th>\n      <td>Ricardo de la Merced Callejas Posada</td>\n      <td>Callejas</td>\n    </tr>\n    <tr>\n      <th>10</th>\n      <td>Truman George Yuncker</td>\n      <td>Yuncker</td>\n    </tr>\n    <tr>\n      <th>11</th>\n      <td>William Trelease</td>\n      <td>Trelease</td>\n    </tr>\n  </tbody>\n</table>\n</div>"
     },
     "execution_count": 4,
     "metadata": {},
     "output_type": "execute_result"
    }
   ],
   "source": [
    "list_identifier_trusted = {\n",
    "    'full_name': ['Aline Vieira de Melo Silva', 'Carmen Lúcia Falcão Ichaso', 'Daniele Monteiro Ferreira', 'Daniel Ruschel', 'Elsie Franklin Guimarães', 'Eric J Tepe', 'Erika Erika Von Sohsten de Souza Medeiros', 'George Azevedo de Queiroz', 'Micheline Carvalho-Silva', 'Ricardo de la Merced Callejas Posada', 'Truman George Yuncker', 'William Trelease'],\n",
    "    'searched_name': ['Silva', 'Ichaso', 'Monteiro', 'Ruschel', 'Guimar', 'Tepe', 'Medeiros', 'Queiroz', 'Carvalho', 'Callejas', 'Yuncker', 'Trelease']\n",
    "}\n",
    "\n",
    "pd.DataFrame(list_identifier_trusted)"
   ]
  },
  {
   "cell_type": "markdown",
   "source": [
    "## Get variations of trusted identifiers"
   ],
   "metadata": {
    "collapsed": false
   }
  },
  {
   "cell_type": "code",
   "execution_count": 5,
   "outputs": [
    {
     "name": "stdout",
     "output_type": "stream",
     "text": [
      "create table: trusted_identifier\n",
      "full name identifier: Aline Vieira de Melo Silva variation founded: A. G. da Silva\n",
      "full name identifier: Aline Vieira de Melo Silva variation founded: A. S. L. da Silva\n",
      "full name identifier: Aline Vieira de Melo Silva variation founded: A. V. de Melo Silva\n",
      "full name identifier: Aline Vieira de Melo Silva variation founded: Bernardi, P.T.; Mendes, N.A.; Schinato, F.; Silva, A.L.\n",
      "full name identifier: Aline Vieira de Melo Silva variation founded: Caralho Silva, M.\n",
      "full name identifier: Aline Vieira de Melo Silva variation founded: Carvalho Silva, M\n",
      "full name identifier: Aline Vieira de Melo Silva variation founded: Carvalho-Silva M\n",
      "full name identifier: Aline Vieira de Melo Silva variation founded: Carvalho-Silva, M\n",
      "full name identifier: Aline Vieira de Melo Silva variation founded: Carvalho-Silva, M.\n",
      "full name identifier: Aline Vieira de Melo Silva variation founded: Carvalho-Silva, M.; Amorim, P.\n",
      "full name identifier: Aline Vieira de Melo Silva variation founded: Carvalho-Silva, M; Pereira, LA\n",
      "full name identifier: Aline Vieira de Melo Silva variation founded: Da Silva, D.R.\n",
      "full name identifier: Aline Vieira de Melo Silva variation founded: F. Bonadeu da Silva\n",
      "full name identifier: Aline Vieira de Melo Silva variation founded: Fleury-Silva, H.R.\n",
      "full name identifier: Aline Vieira de Melo Silva variation founded: F. Silva Filho\n",
      "full name identifier: Aline Vieira de Melo Silva variation founded: G. Pereira-Silva\n",
      "full name identifier: Aline Vieira de Melo Silva variation founded: G. Pereira-Silva & M. Carvalho-Silva\n",
      "full name identifier: Aline Vieira de Melo Silva variation founded: G. P. Silva\n",
      "full name identifier: Aline Vieira de Melo Silva variation founded: Guedes, ML; Silva, LM; Akita, AST\n",
      "full name identifier: Aline Vieira de Melo Silva variation founded: Macedo-Silva, T.\n",
      "full name identifier: Aline Vieira de Melo Silva variation founded: Machado-Silva\n",
      "full name identifier: Aline Vieira de Melo Silva variation founded: Machado Silva, T.\n",
      "full name identifier: Aline Vieira de Melo Silva variation founded: Machado-Silva, T\n",
      "full name identifier: Aline Vieira de Melo Silva variation founded: Machado-Silva, T.\n",
      "full name identifier: Aline Vieira de Melo Silva variation founded: M. A. da Silva\n",
      "full name identifier: Aline Vieira de Melo Silva variation founded: M.A. da Silva\n",
      "full name identifier: Aline Vieira de Melo Silva variation founded: Mattos Silva, LA\n",
      "full name identifier: Aline Vieira de Melo Silva variation founded: M. Carvalho-Silva\n",
      "full name identifier: Aline Vieira de Melo Silva variation founded: M.Carvalho-Silva\n",
      "full name identifier: Aline Vieira de Melo Silva variation founded: M. Carvalho Silva/10-08-2006\n",
      "full name identifier: Aline Vieira de Melo Silva variation founded: M. Carvalho-Silva/10-08-2006\n",
      "full name identifier: Aline Vieira de Melo Silva variation founded: M. Carvalho-Silva, C.C. Silva, et. all\n",
      "full name identifier: Aline Vieira de Melo Silva variation founded: M. Carvalho-Silva/Fev.-2008\n",
      "full name identifier: Aline Vieira de Melo Silva variation founded: M. Carvalho-Silva/X-2006\n",
      "full name identifier: Aline Vieira de Melo Silva variation founded: M. Carvalho-Silva/X-2007\n",
      "full name identifier: Aline Vieira de Melo Silva variation founded: M. Carvalho Silva/X-2008\n",
      "full name identifier: Aline Vieira de Melo Silva variation founded: M.C. Silva\n",
      "full name identifier: Aline Vieira de Melo Silva variation founded: M. C. Silva & C. Sinigaglia\n",
      "full name identifier: Aline Vieira de Melo Silva variation founded: M.F.O. Silva et Galvão, M.N.\n",
      "full name identifier: Aline Vieira de Melo Silva variation founded: M. G. da Silva\n",
      "full name identifier: Aline Vieira de Melo Silva variation founded: Micheline Carvalho Silva\n",
      "full name identifier: Aline Vieira de Melo Silva variation founded: MICHELINE CARVALHO-SILVA\n",
      "full name identifier: Aline Vieira de Melo Silva variation founded: N. T. da Silva\n",
      "full name identifier: Aline Vieira de Melo Silva variation founded: S. Aparecida Silva\n",
      "full name identifier: Aline Vieira de Melo Silva variation founded: Silva\n",
      "full name identifier: Aline Vieira de Melo Silva variation founded: Silva, ACB\n",
      "full name identifier: Aline Vieira de Melo Silva variation founded: Silva, ACC\n",
      "full name identifier: Aline Vieira de Melo Silva variation founded: Silva, ACC; Melo, A\n",
      "full name identifier: Aline Vieira de Melo Silva variation founded: Silva, BG\n",
      "full name identifier: Aline Vieira de Melo Silva variation founded: Silva, C.A.\n",
      "full name identifier: Aline Vieira de Melo Silva variation founded: Silva; Carvalho, M\n",
      "full name identifier: Aline Vieira de Melo Silva variation founded: Silva, CAS\n",
      "full name identifier: Aline Vieira de Melo Silva variation founded: Silva, CAS da\n",
      "full name identifier: Aline Vieira de Melo Silva variation founded: Silva, CSA da\n",
      "full name identifier: Aline Vieira de Melo Silva variation founded: Silva, DCG\n",
      "full name identifier: Aline Vieira de Melo Silva variation founded: Silva, FSG\n",
      "full name identifier: Aline Vieira de Melo Silva variation founded: Silva, G.P.\n",
      "full name identifier: Aline Vieira de Melo Silva variation founded: Silva, M.C.\n",
      "full name identifier: Aline Vieira de Melo Silva variation founded: Silva, MC\n",
      "full name identifier: Aline Vieira de Melo Silva variation founded: Silva, MC da\n",
      "full name identifier: Aline Vieira de Melo Silva variation founded: Silva, MCR\n",
      "full name identifier: Aline Vieira de Melo Silva variation founded: Silva, M da\n",
      "full name identifier: Aline Vieira de Melo Silva variation founded: Silva, MF da\n",
      "full name identifier: Aline Vieira de Melo Silva variation founded: Silva, MFF da\n",
      "full name identifier: Aline Vieira de Melo Silva variation founded: Silva, M.G.\n",
      "full name identifier: Aline Vieira de Melo Silva variation founded: Silva, MG da\n",
      "full name identifier: Aline Vieira de Melo Silva variation founded: Silva, MR\n",
      "full name identifier: Aline Vieira de Melo Silva variation founded: Silva Neto, S.J.\n",
      "full name identifier: Aline Vieira de Melo Silva variation founded: Silva, NT\n",
      "full name identifier: Aline Vieira de Melo Silva variation founded: Silva, NT da\n",
      "full name identifier: Aline Vieira de Melo Silva variation founded: Silva, R.K.; Seidinger. L.C.\n",
      "full name identifier: Aline Vieira de Melo Silva variation founded: Silva, S.M.\n",
      "full name identifier: Aline Vieira de Melo Silva variation founded: Silva, SM\n",
      "full name identifier: Aline Vieira de Melo Silva variation founded: Silva, T.M.\n",
      "full name identifier: Aline Vieira de Melo Silva variation founded: Silva, TT\n",
      "full name identifier: Aline Vieira de Melo Silva variation founded: S. M. Silva\n",
      "full name identifier: Aline Vieira de Melo Silva variation founded: Soares-Silva, J. P.\n",
      "full name identifier: Aline Vieira de Melo Silva variation founded: Soares-Silva, J.P.; Sampaio, D.\n",
      "full name identifier: Aline Vieira de Melo Silva variation founded: T. Macambo-Silva\n",
      "count records inserted in table trusted_identifier: 79\n",
      "full name identifier: Carmen Lúcia Falcão Ichaso variation founded: C. L. F. Ichaso\n",
      "full name identifier: Carmen Lúcia Falcão Ichaso variation founded: C. L. F. Ichaso; E. F. GuimarÃ£es\n",
      "full name identifier: Carmen Lúcia Falcão Ichaso variation founded: C. L. F. Ichaso; E. F. Guimarães\n",
      "full name identifier: Carmen Lúcia Falcão Ichaso variation founded: E. F. GuimarÃ£es; C. L. F. Ichaso\n",
      "full name identifier: Carmen Lúcia Falcão Ichaso variation founded: E. F. Guimarães; C. L. F. Ichaso\n",
      "full name identifier: Carmen Lúcia Falcão Ichaso variation founded: Guimarães, E.F.; Ichaso, C.\n",
      "full name identifier: Carmen Lúcia Falcão Ichaso variation founded: Guimarães, E.F.; Ichaso, C.L.\n",
      "full name identifier: Carmen Lúcia Falcão Ichaso variation founded: Guimarães EF; Ichaso CLF\n",
      "full name identifier: Carmen Lúcia Falcão Ichaso variation founded: Guimarães, E. & Ichaso, C.\n",
      "full name identifier: Carmen Lúcia Falcão Ichaso variation founded: Guimarães, E. & Ichaso,C.\n",
      "full name identifier: Carmen Lúcia Falcão Ichaso variation founded: Guimarães, E.; Ichaso, C.L.\n",
      "full name identifier: Carmen Lúcia Falcão Ichaso variation founded: Guimarães, E.; Ichaso, C.L.F.\n",
      "full name identifier: Carmen Lúcia Falcão Ichaso variation founded: Guimarães, O.; Ichaso, C.\n",
      "full name identifier: Carmen Lúcia Falcão Ichaso variation founded: Ichaso, C.\n",
      "full name identifier: Carmen Lúcia Falcão Ichaso variation founded: Ichaso, CL\n",
      "full name identifier: Carmen Lúcia Falcão Ichaso variation founded: Ichaso CLF\n",
      "full name identifier: Carmen Lúcia Falcão Ichaso variation founded: Ichaso, CLF\n",
      "full name identifier: Carmen Lúcia Falcão Ichaso variation founded: Ichaso, CLF; Guimarães, EF\n",
      "full name identifier: Carmen Lúcia Falcão Ichaso variation founded: Ichaso, C.L.; Guimarães, E.\n",
      "count records inserted in table trusted_identifier: 98\n",
      "full name identifier: Daniele Monteiro Ferreira variation founded: Daniela Monteiro\n",
      "full name identifier: Daniele Monteiro Ferreira variation founded: Daniele Monteiro\n",
      "full name identifier: Daniele Monteiro Ferreira variation founded: D. F. Monteiro\n",
      "full name identifier: Daniele Monteiro Ferreira variation founded: D. Monteiro\n",
      "full name identifier: Daniele Monteiro Ferreira variation founded: D.Monteiro\n",
      "full name identifier: Daniele Monteiro Ferreira variation founded: D. Monteiro/15-06-2012\n",
      "full name identifier: Daniele Monteiro Ferreira variation founded: D.Monteiro/15-06-2012\n",
      "full name identifier: Daniele Monteiro Ferreira variation founded: D. Monteiro/20-06-2012\n",
      "full name identifier: Daniele Monteiro Ferreira variation founded: D. Monteiro/2008\n",
      "full name identifier: Daniele Monteiro Ferreira variation founded: D. Monteiro/2011\n",
      "full name identifier: Daniele Monteiro Ferreira variation founded: D. Monteiro/25-03-2008\n",
      "full name identifier: Daniele Monteiro Ferreira variation founded: D. Monteiro/26-03-2008\n",
      "full name identifier: Daniele Monteiro Ferreira variation founded: D. Monteiro/III-2008\n",
      "full name identifier: Daniele Monteiro Ferreira variation founded: D. Monteiro/Março-2008\n",
      "full name identifier: Daniele Monteiro Ferreira variation founded: D. Monteiro/VI-2011\n",
      "full name identifier: Daniele Monteiro Ferreira variation founded: D. Monteiro/X-2014\n",
      "full name identifier: Daniele Monteiro Ferreira variation founded: E.F.Guimarães & D.Monteiro/04\n",
      "full name identifier: Daniele Monteiro Ferreira variation founded: Guimarães, E. F. et Dmonteiro\n",
      "full name identifier: Daniele Monteiro Ferreira variation founded: Guimarães, EF; Monteiro, D\n",
      "full name identifier: Daniele Monteiro Ferreira variation founded: H. d. C. Monteiro Filho\n",
      "full name identifier: Daniele Monteiro Ferreira variation founded: J. Monteiro\n",
      "full name identifier: Daniele Monteiro Ferreira variation founded: Monteiro\n",
      "full name identifier: Daniele Monteiro Ferreira variation founded: Monteiro, D\n",
      "full name identifier: Daniele Monteiro Ferreira variation founded: Monteiro, D.\n",
      "full name identifier: Daniele Monteiro Ferreira variation founded: Monteiro, D.M.\n",
      "full name identifier: Daniele Monteiro Ferreira variation founded: Monteiro, J\n",
      "full name identifier: Daniele Monteiro Ferreira variation founded: Monteiro, O\n",
      "full name identifier: Daniele Monteiro Ferreira variation founded: Monteiro, OP\n",
      "full name identifier: Daniele Monteiro Ferreira variation founded: R.Monteiro\n",
      "count records inserted in table trusted_identifier: 127\n",
      "full name identifier: Daniel Ruschel variation founded: Daniel Rruschel\n",
      "full name identifier: Daniel Ruschel variation founded: Daniel Ruschel\n",
      "full name identifier: Daniel Ruschel variation founded: D. Ruschell\n",
      "full name identifier: Daniel Ruschel variation founded: Ruschel, D\n",
      "full name identifier: Daniel Ruschel variation founded: Ruschel, D.\n",
      "count records inserted in table trusted_identifier: 132\n",
      "full name identifier: Elsie Franklin Guimarães variation founded: C. L. F. Ichaso; E. F. GuimarÃ£es\n",
      "full name identifier: Elsie Franklin Guimarães variation founded: C. L. F. Ichaso; E. F. Guimarães\n",
      "full name identifier: Elsie Franklin Guimarães variation founded: D. Guimarães\n",
      "full name identifier: Elsie Franklin Guimarães variation founded: D. M. Cavalcanti Ferreira; E. F. Guimarães\n",
      "full name identifier: Elsie Franklin Guimarães variation founded: D. M. Ferreira; E. F. Guimarães\n",
      "full name identifier: Elsie Franklin Guimarães variation founded: E. F. GuimarÃ£es\n",
      "full name identifier: Elsie Franklin Guimarães variation founded: E. F. GuimarÃ£es; C. L. F. Ichaso\n",
      "full name identifier: Elsie Franklin Guimarães variation founded: E. F. Guimarães\n",
      "full name identifier: Elsie Franklin Guimarães variation founded: E.F. Guimarães\n",
      "full name identifier: Elsie Franklin Guimarães variation founded: E.F.Guimarães\n",
      "full name identifier: Elsie Franklin Guimarães variation founded: E.F.GUIMARÃES\n",
      "full name identifier: Elsie Franklin Guimarães variation founded: E.F. Guimarães/15-05-2013\n",
      "full name identifier: Elsie Franklin Guimarães variation founded: E. F. Guimarães/1991\n",
      "full name identifier: Elsie Franklin Guimarães variation founded: E. F. Guimarães/1992\n",
      "full name identifier: Elsie Franklin Guimarães variation founded: E. F. Guimarães/2003\n",
      "full name identifier: Elsie Franklin Guimarães variation founded: E. F. Guimarães/2005\n",
      "full name identifier: Elsie Franklin Guimarães variation founded: E.F. Guimarães/2006\n",
      "full name identifier: Elsie Franklin Guimarães variation founded: E.F.Guimarães/2006\n",
      "full name identifier: Elsie Franklin Guimarães variation founded: E. F. Guimarães/2007\n",
      "full name identifier: Elsie Franklin Guimarães variation founded: E. F. Guimarães/2008\n",
      "full name identifier: Elsie Franklin Guimarães variation founded: E.F. Guimarães/2008\n",
      "full name identifier: Elsie Franklin Guimarães variation founded: E.F.Guimarães/2009\n",
      "full name identifier: Elsie Franklin Guimarães variation founded: E.F. Guimarães/2016\n",
      "full name identifier: Elsie Franklin Guimarães variation founded: E.F. Guimarães/2018\n",
      "full name identifier: Elsie Franklin Guimarães variation founded: E.F. Guimarães/2019\n",
      "full name identifier: Elsie Franklin Guimarães variation founded: E. F. Guimarães/Agos.1991\n",
      "full name identifier: Elsie Franklin Guimarães variation founded: E. F. Guimarães/Agosto.1991\n",
      "full name identifier: Elsie Franklin Guimarães variation founded: E. F. Guimarães; C. L. F. Ichaso\n",
      "full name identifier: Elsie Franklin Guimarães variation founded: E. F. Guimarães; D. M. Ferreira\n",
      "full name identifier: Elsie Franklin Guimarães variation founded: E.F.Guimarães & D.M. Ferreira/2006\n",
      "full name identifier: Elsie Franklin Guimarães variation founded: E.F.Guimarães & D.Monteiro/04\n",
      "full name identifier: Elsie Franklin Guimarães variation founded: E. F. Guimarães, E. Medeiros\n",
      "full name identifier: Elsie Franklin Guimarães variation founded: E.F. Guimarães & G.A. Queirox/2017\n",
      "full name identifier: Elsie Franklin Guimarães variation founded: E.F. Guimarães-I/2008\n",
      "full name identifier: Elsie Franklin Guimarães variation founded: E. F. Guimarães/IV-2006\n",
      "full name identifier: Elsie Franklin Guimarães variation founded: E. F. Guimarães/Jan.2008\n",
      "full name identifier: Elsie Franklin Guimarães variation founded: E.F. Guimarães-Jan.2008\n",
      "full name identifier: Elsie Franklin Guimarães variation founded: E.F. Guimarães/Out.2008\n",
      "full name identifier: Elsie Franklin Guimarães variation founded: E. F. Guimarães; R. Callejas Posada\n",
      "full name identifier: Elsie Franklin Guimarães variation founded: E.F. Guimarães & V.B. Sarnaglia-Jr.\n",
      "full name identifier: Elsie Franklin Guimarães variation founded: E.F. Guimarães/VII-2011\n",
      "full name identifier: Elsie Franklin Guimarães variation founded: E. Guimarães\n",
      "full name identifier: Elsie Franklin Guimarães variation founded: E.Guimarães/1992\n",
      "full name identifier: Elsie Franklin Guimarães variation founded: E. Guimarães/2001\n",
      "full name identifier: Elsie Franklin Guimarães variation founded: E. Guimarães/2009\n",
      "full name identifier: Elsie Franklin Guimarães variation founded: E. Guimaraes & C. L. Ichas\n",
      "full name identifier: Elsie Franklin Guimarães variation founded: Elsie F. Guimaraes\n",
      "full name identifier: Elsie Franklin Guimarães variation founded: Elsie F. Guimarães\n",
      "full name identifier: Elsie Franklin Guimarães variation founded: Elsie F.Guimarães\n",
      "full name identifier: Elsie Franklin Guimarães variation founded: Elsie F. Guimarães/ 1995\n",
      "full name identifier: Elsie Franklin Guimarães variation founded: Elsie F. Guimarães/2000\n",
      "full name identifier: Elsie Franklin Guimarães variation founded: Elsie F. Guimarães/2006\n",
      "full name identifier: Elsie Franklin Guimarães variation founded: Elsie F. Guimarães/2008\n",
      "full name identifier: Elsie Franklin Guimarães variation founded: Elsie F. Guimarães/2009\n",
      "full name identifier: Elsie Franklin Guimarães variation founded: Elsie F. Guimarães - 5/1/2008\n",
      "full name identifier: Elsie Franklin Guimarães variation founded: Elsie F. Guimarães/junho.2008\n",
      "full name identifier: Elsie Franklin Guimarães variation founded: Elsie Franklin Guimarães\n",
      "full name identifier: Elsie Franklin Guimarães variation founded: Elsie Guimarães\n",
      "full name identifier: Elsie Franklin Guimarães variation founded: Guimaraes\n",
      "full name identifier: Elsie Franklin Guimarães variation founded: Guimarães\n",
      "full name identifier: Elsie Franklin Guimarães variation founded: Guimarães/10-10-2007\n",
      "full name identifier: Elsie Franklin Guimarães variation founded: Guimarães, E\n",
      "full name identifier: Elsie Franklin Guimarães variation founded: Guimarães, E.\n",
      "full name identifier: Elsie Franklin Guimarães variation founded: Guimarães E.F.\n",
      "full name identifier: Elsie Franklin Guimarães variation founded: Guimarães EF\n",
      "full name identifier: Elsie Franklin Guimarães variation founded: Guimarães, E. .F.\n",
      "full name identifier: Elsie Franklin Guimarães variation founded: Guimarães, E. F.\n",
      "full name identifier: Elsie Franklin Guimarães variation founded: Guimarães, E.F.\n",
      "full name identifier: Elsie Franklin Guimarães variation founded: Guimarães, EF\n",
      "full name identifier: Elsie Franklin Guimarães variation founded: Guimarães,E.F.\n",
      "full name identifier: Elsie Franklin Guimarães variation founded: Guimarães, EF; Callejas, R\n",
      "full name identifier: Elsie Franklin Guimarães variation founded: Guimarães, EF; Carvalho, M\n",
      "full name identifier: Elsie Franklin Guimarães variation founded: Guimarães, EF; Carvalho, MS\n",
      "full name identifier: Elsie Franklin Guimarães variation founded: Guimarães, E.F.; Costa, C.G.; Falcão, C.L.\n",
      "full name identifier: Elsie Franklin Guimarães variation founded: Guimarães, E. F. et Dmonteiro\n",
      "full name identifier: Elsie Franklin Guimarães variation founded: Guimarães E.F.; Ferreira, D.M.\n",
      "full name identifier: Elsie Franklin Guimarães variation founded: Guimarães, E.F.; Ferreira, D.M.\n",
      "full name identifier: Elsie Franklin Guimarães variation founded: Guimarães, EF; Ferreira, DM\n",
      "full name identifier: Elsie Franklin Guimarães variation founded: Guimarães, E.F.; Ichaso, C.\n",
      "full name identifier: Elsie Franklin Guimarães variation founded: Guimarães, E.F.; Ichaso, C.L.\n",
      "full name identifier: Elsie Franklin Guimarães variation founded: Guimarães EF; Ichaso CLF\n",
      "full name identifier: Elsie Franklin Guimarães variation founded: Guimarães, EF; Medeiros, E von S.\n",
      "full name identifier: Elsie Franklin Guimarães variation founded: Guimarães, EF; Monteiro, D\n",
      "full name identifier: Elsie Franklin Guimarães variation founded: Guimarães, E.F.; Queiroz, G.A.\n",
      "full name identifier: Elsie Franklin Guimarães variation founded: Guimarães, E.F.; Sarnaglia Júnior, V.B.\n",
      "full name identifier: Elsie Franklin Guimarães variation founded: Guimarães, EF; V. Catarelli\n",
      "full name identifier: Elsie Franklin Guimarães variation founded: Guimarães, EF; Wesenberg, J\n",
      "full name identifier: Elsie Franklin Guimarães variation founded: Guimarães, E.G.\n",
      "full name identifier: Elsie Franklin Guimarães variation founded: Guimarães, E. & Ichaso, C.\n",
      "full name identifier: Elsie Franklin Guimarães variation founded: Guimarães, E. & Ichaso,C.\n",
      "full name identifier: Elsie Franklin Guimarães variation founded: Guimarães, E.; Ichaso, C.L.\n",
      "full name identifier: Elsie Franklin Guimarães variation founded: Guimarães, E.; Ichaso, C.L.F.\n",
      "full name identifier: Elsie Franklin Guimarães variation founded: Guimarães, E.K.\n",
      "full name identifier: Elsie Franklin Guimarães variation founded: Guimarães, EL\n",
      "full name identifier: Elsie Franklin Guimarães variation founded: Guimarães, E.; Queiroz, G.A.\n",
      "full name identifier: Elsie Franklin Guimarães variation founded: Guimarães, E.; Sanaglia\n",
      "full name identifier: Elsie Franklin Guimarães variation founded: Guimarães, L\n",
      "full name identifier: Elsie Franklin Guimarães variation founded: Guimarães, O\n",
      "full name identifier: Elsie Franklin Guimarães variation founded: Guimarães, O.\n",
      "full name identifier: Elsie Franklin Guimarães variation founded: Guimarães, O.; Ichaso, C.\n",
      "full name identifier: Elsie Franklin Guimarães variation founded: Guimarães, W.\n",
      "full name identifier: Elsie Franklin Guimarães variation founded: Guimar~eas, E.F.\n",
      "full name identifier: Elsie Franklin Guimarães variation founded: Guimar~eas, E.F.; Ferreira, D.M.\n",
      "full name identifier: Elsie Franklin Guimarães variation founded: Ichaso, CLF; Guimarães, EF\n",
      "full name identifier: Elsie Franklin Guimarães variation founded: Ichaso, C.L.; Guimarães, E.\n",
      "full name identifier: Elsie Franklin Guimarães variation founded: J.Wesenberg, E.F. Guimarães/02-XII-2009\n",
      "full name identifier: Elsie Franklin Guimarães variation founded: L.A.Pereira & E.F. Guimarães/17-01-2008\n",
      "full name identifier: Elsie Franklin Guimarães variation founded: L.A.Pereira & E.F. Guimarães/24-01-2008\n",
      "full name identifier: Elsie Franklin Guimarães variation founded: L.A.Pereira & E.F. Guimarães/25-01-2008\n",
      "full name identifier: Elsie Franklin Guimarães variation founded: L.A.Pereira & E.F. Guimarães/26-03-2008\n",
      "full name identifier: Elsie Franklin Guimarães variation founded: O. A. Guimarães\n",
      "full name identifier: Elsie Franklin Guimarães variation founded: O.A. Guimarães\n",
      "full name identifier: Elsie Franklin Guimarães variation founded: R. Callejas Posada; E. F. GuimarÃ£es\n",
      "full name identifier: Elsie Franklin Guimarães variation founded: Tais B. Guimarães\n",
      "full name identifier: Elsie Franklin Guimarães variation founded: T. S. Mendes & E.Guimarães\n",
      "full name identifier: Elsie Franklin Guimarães variation founded: V. Catarelli; E. Guimarães\n",
      "count records inserted in table trusted_identifier: 248\n",
      "full name identifier: Eric J Tepe variation founded: E. J. Tepe\n",
      "full name identifier: Eric J Tepe variation founded: R. C. Foster; E. J. Tepe\n",
      "full name identifier: Eric J Tepe variation founded: Tepe EJ\n",
      "full name identifier: Eric J Tepe variation founded: Tepe, E.J.\n",
      "full name identifier: Eric J Tepe variation founded: Tepe, EJ\n",
      "count records inserted in table trusted_identifier: 253\n",
      "full name identifier: Erika Erika Von Sohsten de Souza Medeiros variation founded: E. F. Guimarães, E. Medeiros\n",
      "full name identifier: Erika Erika Von Sohsten de Souza Medeiros variation founded: Guimarães, EF; Medeiros, E von S.\n",
      "full name identifier: Erika Erika Von Sohsten de Souza Medeiros variation founded: H. Medeiros\n",
      "full name identifier: Erika Erika Von Sohsten de Souza Medeiros variation founded: Medeiros\n",
      "full name identifier: Erika Erika Von Sohsten de Souza Medeiros variation founded: Medeiros, ESS\n",
      "full name identifier: Erika Erika Von Sohsten de Souza Medeiros variation founded: Medeiros, E von S\n",
      "full name identifier: Erika Erika Von Sohsten de Souza Medeiros variation founded: Medeiros, E von S.\n",
      "full name identifier: Erika Erika Von Sohsten de Souza Medeiros variation founded: Medeiros, H\n",
      "count records inserted in table trusted_identifier: 261\n",
      "full name identifier: George Azevedo de Queiroz variation founded: G. A. Queiroz\n",
      "full name identifier: George Azevedo de Queiroz variation founded: G.A. Queiroz\n",
      "full name identifier: George Azevedo de Queiroz variation founded: G.A. Queiroz/2018\n",
      "full name identifier: George Azevedo de Queiroz variation founded: Guimarães, E.F.; Queiroz, G.A.\n",
      "full name identifier: George Azevedo de Queiroz variation founded: Guimarães, E.; Queiroz, G.A.\n",
      "full name identifier: George Azevedo de Queiroz variation founded: L.N.Sátiro & L.P.de Queiroz\n",
      "full name identifier: George Azevedo de Queiroz variation founded: L. P. de Queiroz\n",
      "full name identifier: George Azevedo de Queiroz variation founded: L.P.de Queiroz\n",
      "full name identifier: George Azevedo de Queiroz variation founded: M.H. de Queiroz\n",
      "full name identifier: George Azevedo de Queiroz variation founded: Queiroz\n",
      "full name identifier: George Azevedo de Queiroz variation founded: Queiroz, EP\n",
      "full name identifier: George Azevedo de Queiroz variation founded: Queiroz, G.A.\n",
      "full name identifier: George Azevedo de Queiroz variation founded: Queiroz, G.A. de\n",
      "full name identifier: George Azevedo de Queiroz variation founded: Queiroz, LP de\n",
      "full name identifier: George Azevedo de Queiroz variation founded: Queiroz, M.H. de\n",
      "full name identifier: George Azevedo de Queiroz variation founded: Queiroz, MN\n",
      "count records inserted in table trusted_identifier: 277\n",
      "full name identifier: Micheline Carvalho-Silva variation founded: Carvalho, AM de\n",
      "full name identifier: Micheline Carvalho-Silva variation founded: Carvalho, M\n",
      "full name identifier: Micheline Carvalho-Silva variation founded: Carvalho, MLS\n",
      "full name identifier: Micheline Carvalho-Silva variation founded: Carvalho, M.S.\n",
      "full name identifier: Micheline Carvalho-Silva variation founded: Carvalho, MS\n",
      "full name identifier: Micheline Carvalho-Silva variation founded: Carvalho Silva, M\n",
      "full name identifier: Micheline Carvalho-Silva variation founded: Carvalho-Silva M\n",
      "full name identifier: Micheline Carvalho-Silva variation founded: Carvalho-Silva, M\n",
      "full name identifier: Micheline Carvalho-Silva variation founded: Carvalho-Silva, M.\n",
      "full name identifier: Micheline Carvalho-Silva variation founded: Carvalho-Silva, M.; Amorim, P.\n",
      "full name identifier: Micheline Carvalho-Silva variation founded: Carvalho-Silva, M; Pereira, LA\n",
      "full name identifier: Micheline Carvalho-Silva variation founded: G. Pereira-Silva & M. Carvalho-Silva\n",
      "full name identifier: Micheline Carvalho-Silva variation founded: Guimarães, EF; Carvalho, M\n",
      "full name identifier: Micheline Carvalho-Silva variation founded: Guimarães, EF; Carvalho, MS\n",
      "full name identifier: Micheline Carvalho-Silva variation founded: J.G.de Carvalho-Sobrinho\n",
      "full name identifier: Micheline Carvalho-Silva variation founded: M. Carvalho\n",
      "full name identifier: Micheline Carvalho-Silva variation founded: M. Carvalho-Silva\n",
      "full name identifier: Micheline Carvalho-Silva variation founded: M.Carvalho-Silva\n",
      "full name identifier: Micheline Carvalho-Silva variation founded: M. Carvalho Silva/10-08-2006\n",
      "full name identifier: Micheline Carvalho-Silva variation founded: M. Carvalho-Silva/10-08-2006\n",
      "full name identifier: Micheline Carvalho-Silva variation founded: M. Carvalho-Silva, C.C. Silva, et. all\n",
      "full name identifier: Micheline Carvalho-Silva variation founded: M. Carvalho-Silva/Fev.-2008\n",
      "full name identifier: Micheline Carvalho-Silva variation founded: M. Carvalho-Silva/X-2006\n",
      "full name identifier: Micheline Carvalho-Silva variation founded: M. Carvalho-Silva/X-2007\n",
      "full name identifier: Micheline Carvalho-Silva variation founded: M. Carvalho Silva/X-2008\n",
      "full name identifier: Micheline Carvalho-Silva variation founded: Micheline Carvalho Silva\n",
      "full name identifier: Micheline Carvalho-Silva variation founded: MICHELINE CARVALHO-SILVA\n",
      "full name identifier: Micheline Carvalho-Silva variation founded: Silva; Carvalho, M\n",
      "count records inserted in table trusted_identifier: 305\n",
      "full name identifier: Ricardo de la Merced Callejas Posada variation founded: Callejas\n",
      "full name identifier: Ricardo de la Merced Callejas Posada variation founded: Callejas Posada R\n",
      "full name identifier: Ricardo de la Merced Callejas Posada variation founded: Callejas, R\n",
      "full name identifier: Ricardo de la Merced Callejas Posada variation founded: Callejas, R.\n",
      "full name identifier: Ricardo de la Merced Callejas Posada variation founded: Callejas, R; Garcia, AR\n",
      "full name identifier: Ricardo de la Merced Callejas Posada variation founded: E. F. Guimarães; R. Callejas Posada\n",
      "full name identifier: Ricardo de la Merced Callejas Posada variation founded: et al.; Callejas, R\n",
      "full name identifier: Ricardo de la Merced Callejas Posada variation founded: Guimarães, EF; Callejas, R\n",
      "full name identifier: Ricardo de la Merced Callejas Posada variation founded: R. Callejas\n",
      "full name identifier: Ricardo de la Merced Callejas Posada variation founded: R.Callejas\n",
      "full name identifier: Ricardo de la Merced Callejas Posada variation founded: R. Callejas/1993\n",
      "full name identifier: Ricardo de la Merced Callejas Posada variation founded: R. Callejas/1994\n",
      "full name identifier: Ricardo de la Merced Callejas Posada variation founded: R. Callejas Posada\n",
      "full name identifier: Ricardo de la Merced Callejas Posada variation founded: R. Callejas Posada; E. F. GuimarÃ£es\n",
      "full name identifier: Ricardo de la Merced Callejas Posada variation founded: Ricardo Callejas\n",
      "count records inserted in table trusted_identifier: 320\n",
      "full name identifier: Truman George Yuncker variation founded: G Yuncker, T.\n",
      "full name identifier: Truman George Yuncker variation founded: T. G. Yuncker\n",
      "full name identifier: Truman George Yuncker variation founded: T. G.Yuncker\n",
      "full name identifier: Truman George Yuncker variation founded: Trelease, W.; Yuncker, T. G.\n",
      "full name identifier: Truman George Yuncker variation founded: W. Trelease; T. G. Yuncker\n",
      "full name identifier: Truman George Yuncker variation founded: Yuncker\n",
      "full name identifier: Truman George Yuncker variation founded: Yuncker TG\n",
      "full name identifier: Truman George Yuncker variation founded: Yuncker, T. G.\n",
      "full name identifier: Truman George Yuncker variation founded: Yuncker, T.G.\n",
      "full name identifier: Truman George Yuncker variation founded: Yuncker, TG\n",
      "full name identifier: Truman George Yuncker variation founded: Yuncker,T.G.\n",
      "full name identifier: Truman George Yuncker variation founded: Yuncker TG; Trelease W\n",
      "count records inserted in table trusted_identifier: 332\n",
      "full name identifier: William Trelease variation founded: Trelease\n",
      "full name identifier: William Trelease variation founded: Trelease W\n",
      "full name identifier: William Trelease variation founded: Trelease, W\n",
      "full name identifier: William Trelease variation founded: Trelease, W.\n",
      "full name identifier: William Trelease variation founded: Trelease, W.; Yuncker, T. G.\n",
      "full name identifier: William Trelease variation founded: W. Trelease\n",
      "full name identifier: William Trelease variation founded: W. Trelease; T. G. Yuncker\n",
      "full name identifier: William Trelease variation founded: Yuncker TG; Trelease W\n",
      "count records inserted in table trusted_identifier: 340\n"
     ]
    }
   ],
   "source": [
    "db.create_table(engine, TrustedIdentifier)\n",
    "\n",
    "count_of_records_trusted_identifier = session.query(TrustedIdentifier) \\\n",
    "                                        .count()\n",
    "\n",
    "if count_of_records_trusted_identifier == 0:\n",
    "    list_full_name = list_identifier_trusted['full_name']\n",
    "    list_searched_name = list_identifier_trusted['searched_name']\n",
    "    for item in zip(list_full_name, list_searched_name):\n",
    "        full_name_identifier = item[0]\n",
    "        variation_of_name_identfier = item[1]\n",
    "\n",
    "        query = session.query(DataSP.identified_by) \\\n",
    "            .filter(DataSP.identified_by.ilike('%{}%'.format(variation_of_name_identfier))) \\\n",
    "            .distinct(DataSP.identified_by) \\\n",
    "            .all()\n",
    "\n",
    "        for q in query:\n",
    "            print('full name identifier: %s variation founded: %s' % (full_name_identifier, q.identified_by))\n",
    "            new_identifier_trusted = TrustedIdentifier(name=full_name_identifier, searched_name=variation_of_name_identfier, value_founded=q.identified_by, trusted=False)\n",
    "\n",
    "            session.add(new_identifier_trusted)\n",
    "            session.commit()\n",
    "\n",
    "        count_of_records_trusted_identifier = session.query(TrustedIdentifier).count()\n",
    "        print('count records inserted in table %s: %d' % (TrustedIdentifier.__tablename__, count_of_records_trusted_identifier))"
   ],
   "metadata": {
    "collapsed": false
   }
  },
  {
   "cell_type": "code",
   "execution_count": 10,
   "outputs": [
    {
     "name": "stdout",
     "output_type": "stream",
     "text": [
      "count of variations founded of identifiers name marked trusted: 187\n"
     ]
    }
   ],
   "source": [
    "count_variations_identifier_name_marked_trusted = session.query(TrustedIdentifier.value_founded) \\\n",
    "    .filter(TrustedIdentifier.trusted) \\\n",
    "    .distinct()\\\n",
    "    .count()\n",
    "\n",
    "# 187\n",
    "print('count of variations founded of identifiers name marked trusted: %d' % count_variations_identifier_name_marked_trusted)"
   ],
   "metadata": {
    "collapsed": false
   }
  },
  {
   "cell_type": "markdown",
   "source": [
    "## Get list of records with variations of name identifier"
   ],
   "metadata": {
    "collapsed": false
   }
  },
  {
   "cell_type": "code",
   "execution_count": 12,
   "outputs": [
    {
     "name": "stdout",
     "output_type": "stream",
     "text": [
      "count of records founded with variations of identifier name: 13182\n"
     ]
    }
   ],
   "source": [
    "query = session.query(TrustedIdentifier.value_founded) \\\n",
    "    .filter(TrustedIdentifier.trusted) \\\n",
    "    .distinct()\\\n",
    "    .all()\n",
    "\n",
    "list_variations_of_identifiers_trusted = [q[0] for q in query]\n",
    "\n",
    "count_of_records_with_variations_identifier_name = session.query(DataSP) \\\n",
    "    .filter(DataSP.identified_by.in_(list_variations_of_identifiers_trusted))\\\n",
    "    .count()\n",
    "\n",
    "print('count of records founded with variations of identifier name: %d' % count_of_records_with_variations_identifier_name)"
   ],
   "metadata": {
    "collapsed": false
   }
  },
  {
   "cell_type": "markdown",
   "source": [
    "## Create table data by trusted identifiers"
   ],
   "metadata": {
    "collapsed": false
   }
  },
  {
   "cell_type": "code",
   "execution_count": 13,
   "outputs": [
    {
     "name": "stdout",
     "output_type": "stream",
     "text": [
      "create table: data_trusted_identifier\n",
      "count of records in table data_trusted_identifier: 13182\n"
     ]
    }
   ],
   "source": [
    "db.create_table(engine, DataTrustedIdentifier)\n",
    "\n",
    "count_data_in_data_trusted_identifier = session.query(DataTrustedIdentifier).count()\n",
    "\n",
    "if count_data_in_data_trusted_identifier == 0:\n",
    "    condition = DataSP.identified_by.in_(list_variations_of_identifiers_trusted)\n",
    "    query = session.query(DataSP) \\\n",
    "        .filter(condition) \\\n",
    "        .all()\n",
    "    for q in query:\n",
    "        new_data_of_identifier_trusted = create_data_trusted_identifier(q)\n",
    "        session.add(new_data_of_identifier_trusted)\n",
    "\n",
    "count_data_from_trusted_identifers = session.query(DataTrustedIdentifier).count()\n",
    "print('count of records in table %s: %d' % (DataTrustedIdentifier.__tablename__, count_data_from_trusted_identifers))"
   ],
   "metadata": {
    "collapsed": false
   }
  },
  {
   "cell_type": "markdown",
   "source": [
    "## Close connection"
   ],
   "metadata": {
    "collapsed": false
   }
  },
  {
   "cell_type": "code",
   "execution_count": 9,
   "outputs": [],
   "source": [
    "session.close()\n",
    "engine.dispose()"
   ],
   "metadata": {
    "collapsed": false
   }
  }
 ],
 "metadata": {
  "kernelspec": {
   "display_name": "base",
   "language": "python",
   "name": "python3"
  },
  "language_info": {
   "codemirror_mode": {
    "name": "ipython",
    "version": 3
   },
   "file_extension": ".py",
   "mimetype": "text/x-python",
   "name": "python",
   "nbconvert_exporter": "python",
   "pygments_lexer": "ipython3",
   "version": "3.9.12"
  },
  "vscode": {
   "interpreter": {
    "hash": "53ce972a288a646521e393254486dd3d4e40ae124f0f9a66da52dff344d61cdc"
   }
  }
 },
 "nbformat": 4,
 "nbformat_minor": 1
}
