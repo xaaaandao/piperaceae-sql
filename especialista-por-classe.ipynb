{
 "cells": [
  {
   "cell_type": "code",
   "execution_count": 6,
   "outputs": [],
   "source": [
    "import collections\n",
    "import os\n",
    "import pandas\n",
    "import sqlalchemy\n",
    "\n",
    "from database import connect\n",
    "from tables import DataSP"
   ],
   "metadata": {
    "collapsed": false,
    "pycharm": {
     "name": "#%%\n"
    }
   }
  },
  {
   "cell_type": "code",
   "execution_count": 7,
   "metadata": {
    "collapsed": true,
    "pycharm": {
     "name": "#%%\n"
    }
   },
   "outputs": [
    {
     "name": "stdout",
     "output_type": "stream",
     "text": [
      "2022-08-17 20:05:11,628 INFO sqlalchemy.engine.Engine select pg_catalog.version()\n",
      "2022-08-17 20:05:11,628 INFO sqlalchemy.engine.Engine [raw sql] {}\n",
      "2022-08-17 20:05:11,630 INFO sqlalchemy.engine.Engine select current_schema()\n",
      "2022-08-17 20:05:11,630 INFO sqlalchemy.engine.Engine [raw sql] {}\n",
      "2022-08-17 20:05:11,631 INFO sqlalchemy.engine.Engine show standard_conforming_strings\n",
      "2022-08-17 20:05:11,631 INFO sqlalchemy.engine.Engine [raw sql] {}\n"
     ]
    }
   ],
   "source": [
    "cfg = {\n",
    "    \"host\": f\"{os.environ['POSTGRE_HOST']}\",\n",
    "    \"user\": f\"{os.environ['POSTGRE_USER']}\",\n",
    "    \"password\": f\"{os.environ['POSTGRE_PASSWORD']}\",\n",
    "    \"port\": \"5432\",\n",
    "    \"database\": \"herbario\"\n",
    "}\n",
    "\n",
    "engine, session = connect(cfg)"
   ]
  },
  {
   "cell_type": "code",
   "execution_count": 25,
   "outputs": [],
   "source": [
    "condition = DataSP.george == True\n",
    "# condition = DataSP.state_province.ilike(\"%paran%\")"
   ],
   "metadata": {
    "collapsed": false,
    "pycharm": {
     "name": "#%%\n"
    }
   }
  },
  {
   "cell_type": "code",
   "execution_count": 26,
   "outputs": [
    {
     "name": "stdout",
     "output_type": "stream",
     "text": [
      "2022-08-17 21:21:46,468 INFO sqlalchemy.engine.Engine SELECT data.identified_by AS data_identified_by, data.specific_epithet AS data_specific_epithet \n",
      "FROM data \n",
      "WHERE data.george = true\n",
      "2022-08-17 21:21:46,468 INFO sqlalchemy.engine.Engine [generated in 0.00065s] {}\n",
      "2022-08-17 21:21:46,501 INFO sqlalchemy.engine.Engine SELECT DISTINCT data.specific_epithet AS data_specific_epithet \n",
      "FROM data \n",
      "WHERE data.george = true\n",
      "2022-08-17 21:21:46,501 INFO sqlalchemy.engine.Engine [generated in 0.00066s] {}\n",
      "2022-08-17 21:21:46,519 INFO sqlalchemy.engine.Engine SELECT DISTINCT data.identified_by AS data_identified_by \n",
      "FROM data \n",
      "WHERE data.george = true\n",
      "2022-08-17 21:21:46,520 INFO sqlalchemy.engine.Engine [generated in 0.00083s] {}\n"
     ]
    }
   ],
   "source": [
    "query_identified_specific_epithet = session.query(DataSP.identified_by, DataSP.specific_epithet).filter(condition).all()\n",
    "query_specific_epithet = session.query(DataSP.specific_epithet).filter(condition).distinct().all()\n",
    "query_identified_by = session.query(DataSP.identified_by).filter(condition).distinct().all()\n",
    "list_specific_epithet = sorted(list(specific_epithet[0] for specific_epithet in query_specific_epithet if specific_epithet[0]))\n",
    "list_identified_by = dict((identified_by[0], 0) for identified_by in query_identified_by if identified_by[0])\n",
    "list_identified_by = collections.OrderedDict(sorted(list_identified_by.items()))"
   ],
   "metadata": {
    "collapsed": false,
    "pycharm": {
     "name": "#%%\n"
    }
   }
  },
  {
   "cell_type": "code",
   "execution_count": 27,
   "outputs": [],
   "source": [
    "df = pandas.DataFrame(list_identified_by, index=list_specific_epithet)\n",
    "query_identified_with_specific_epithet = list(q for q in query_identified_specific_epithet if q[0] and q[1])"
   ],
   "metadata": {
    "collapsed": false,
    "pycharm": {
     "name": "#%%\n"
    }
   }
  },
  {
   "cell_type": "code",
   "execution_count": 28,
   "outputs": [
    {
     "data": {
      "text/plain": "               C. L. F. Ichaso  Callejas, R  Callejas, R.  Calleras, R.  \\\nabutiloides                  0            0             0             0   \naduncum                      0            0             0             0   \naequale                      0            0             0             0   \nalata                        0            0             0             0   \nalnoides                     0            0             0             0   \n...                        ...          ...           ...           ...   \nvicosanum                    0            0             0             0   \nviminifolium                 0            0             0             0   \nwarmingii                    0            0             0             0   \nxylosteoides                 0            0             0             0   \nxylosteroides                0            0             0             0   \n\n               Carvalho Silva, M  Carvalho, MLS  Carvalho, MS  \\\nabutiloides                    0              0             0   \naduncum                        0              0             0   \naequale                        0              0             0   \nalata                          0              0             0   \nalnoides                       0              0             0   \n...                          ...            ...           ...   \nvicosanum                      0              0             0   \nviminifolium                   0              0             0   \nwarmingii                      0              0             0   \nxylosteoides                   0              0             0   \nxylosteroides                  0              0             0   \n\n               Carvalho-Silva, M  Carvalho-Silva, M.  D. Monteiro  ...  \\\nabutiloides                    0                   0            0  ...   \naduncum                        0                   0            0  ...   \naequale                        0                   0            0  ...   \nalata                          0                   0            0  ...   \nalnoides                       0                   0            0  ...   \n...                          ...                 ...          ...  ...   \nvicosanum                      0                   0            0  ...   \nviminifolium                   0                   0            0  ...   \nwarmingii                      0                   0            0  ...   \nxylosteoides                   0                   0            0  ...   \nxylosteroides                  0                   0            0  ...   \n\n               Rushel, D.  Silva, M.C.  Silva, MC  Silva, MCR  T. G. Yuncker  \\\nabutiloides             0            0          0           0              0   \naduncum                 0            0          0           0              0   \naequale                 0            0          0           0              0   \nalata                   0            0          0           0              0   \nalnoides                0            0          0           0              0   \n...                   ...          ...        ...         ...            ...   \nvicosanum               0            0          0           0              0   \nviminifolium            0            0          0           0              0   \nwarmingii               0            0          0           0              0   \nxylosteoides            0            0          0           0              0   \nxylosteroides           0            0          0           0              0   \n\n               Tepe, EJ  W. Trelease  Yuncher, T.G.  Yuncker, T.G.  \\\nabutiloides           0            0              0              0   \naduncum               0            0              0              0   \naequale               0            0              0              0   \nalata                 0            0              0              0   \nalnoides              0            0              0              0   \n...                 ...          ...            ...            ...   \nvicosanum             0            0              0              0   \nviminifolium          0            0              0              0   \nwarmingii             0            0              0              0   \nxylosteoides          0            0              0              0   \nxylosteroides         0            0              0              0   \n\n               Yuncku, T.G.  \nabutiloides               0  \naduncum                   0  \naequale                   0  \nalata                     0  \nalnoides                  0  \n...                     ...  \nvicosanum                 0  \nviminifolium              0  \nwarmingii                 0  \nxylosteoides              0  \nxylosteroides             0  \n\n[129 rows x 49 columns]",
      "text/html": "<div>\n<style scoped>\n    .dataframe tbody tr th:only-of-type {\n        vertical-align: middle;\n    }\n\n    .dataframe tbody tr th {\n        vertical-align: top;\n    }\n\n    .dataframe thead th {\n        text-align: right;\n    }\n</style>\n<table border=\"1\" class=\"dataframe\">\n  <thead>\n    <tr style=\"text-align: right;\">\n      <th></th>\n      <th>C. L. F. Ichaso</th>\n      <th>Callejas, R</th>\n      <th>Callejas, R.</th>\n      <th>Calleras, R.</th>\n      <th>Carvalho Silva, M</th>\n      <th>Carvalho, MLS</th>\n      <th>Carvalho, MS</th>\n      <th>Carvalho-Silva, M</th>\n      <th>Carvalho-Silva, M.</th>\n      <th>D. Monteiro</th>\n      <th>...</th>\n      <th>Rushel, D.</th>\n      <th>Silva, M.C.</th>\n      <th>Silva, MC</th>\n      <th>Silva, MCR</th>\n      <th>T. G. Yuncker</th>\n      <th>Tepe, EJ</th>\n      <th>W. Trelease</th>\n      <th>Yuncher, T.G.</th>\n      <th>Yuncker, T.G.</th>\n      <th>Yuncku, T.G.</th>\n    </tr>\n  </thead>\n  <tbody>\n    <tr>\n      <th>abutiloides</th>\n      <td>0</td>\n      <td>0</td>\n      <td>0</td>\n      <td>0</td>\n      <td>0</td>\n      <td>0</td>\n      <td>0</td>\n      <td>0</td>\n      <td>0</td>\n      <td>0</td>\n      <td>...</td>\n      <td>0</td>\n      <td>0</td>\n      <td>0</td>\n      <td>0</td>\n      <td>0</td>\n      <td>0</td>\n      <td>0</td>\n      <td>0</td>\n      <td>0</td>\n      <td>0</td>\n    </tr>\n    <tr>\n      <th>aduncum</th>\n      <td>0</td>\n      <td>0</td>\n      <td>0</td>\n      <td>0</td>\n      <td>0</td>\n      <td>0</td>\n      <td>0</td>\n      <td>0</td>\n      <td>0</td>\n      <td>0</td>\n      <td>...</td>\n      <td>0</td>\n      <td>0</td>\n      <td>0</td>\n      <td>0</td>\n      <td>0</td>\n      <td>0</td>\n      <td>0</td>\n      <td>0</td>\n      <td>0</td>\n      <td>0</td>\n    </tr>\n    <tr>\n      <th>aequale</th>\n      <td>0</td>\n      <td>0</td>\n      <td>0</td>\n      <td>0</td>\n      <td>0</td>\n      <td>0</td>\n      <td>0</td>\n      <td>0</td>\n      <td>0</td>\n      <td>0</td>\n      <td>...</td>\n      <td>0</td>\n      <td>0</td>\n      <td>0</td>\n      <td>0</td>\n      <td>0</td>\n      <td>0</td>\n      <td>0</td>\n      <td>0</td>\n      <td>0</td>\n      <td>0</td>\n    </tr>\n    <tr>\n      <th>alata</th>\n      <td>0</td>\n      <td>0</td>\n      <td>0</td>\n      <td>0</td>\n      <td>0</td>\n      <td>0</td>\n      <td>0</td>\n      <td>0</td>\n      <td>0</td>\n      <td>0</td>\n      <td>...</td>\n      <td>0</td>\n      <td>0</td>\n      <td>0</td>\n      <td>0</td>\n      <td>0</td>\n      <td>0</td>\n      <td>0</td>\n      <td>0</td>\n      <td>0</td>\n      <td>0</td>\n    </tr>\n    <tr>\n      <th>alnoides</th>\n      <td>0</td>\n      <td>0</td>\n      <td>0</td>\n      <td>0</td>\n      <td>0</td>\n      <td>0</td>\n      <td>0</td>\n      <td>0</td>\n      <td>0</td>\n      <td>0</td>\n      <td>...</td>\n      <td>0</td>\n      <td>0</td>\n      <td>0</td>\n      <td>0</td>\n      <td>0</td>\n      <td>0</td>\n      <td>0</td>\n      <td>0</td>\n      <td>0</td>\n      <td>0</td>\n    </tr>\n    <tr>\n      <th>...</th>\n      <td>...</td>\n      <td>...</td>\n      <td>...</td>\n      <td>...</td>\n      <td>...</td>\n      <td>...</td>\n      <td>...</td>\n      <td>...</td>\n      <td>...</td>\n      <td>...</td>\n      <td>...</td>\n      <td>...</td>\n      <td>...</td>\n      <td>...</td>\n      <td>...</td>\n      <td>...</td>\n      <td>...</td>\n      <td>...</td>\n      <td>...</td>\n      <td>...</td>\n      <td>...</td>\n    </tr>\n    <tr>\n      <th>vicosanum</th>\n      <td>0</td>\n      <td>0</td>\n      <td>0</td>\n      <td>0</td>\n      <td>0</td>\n      <td>0</td>\n      <td>0</td>\n      <td>0</td>\n      <td>0</td>\n      <td>0</td>\n      <td>...</td>\n      <td>0</td>\n      <td>0</td>\n      <td>0</td>\n      <td>0</td>\n      <td>0</td>\n      <td>0</td>\n      <td>0</td>\n      <td>0</td>\n      <td>0</td>\n      <td>0</td>\n    </tr>\n    <tr>\n      <th>viminifolium</th>\n      <td>0</td>\n      <td>0</td>\n      <td>0</td>\n      <td>0</td>\n      <td>0</td>\n      <td>0</td>\n      <td>0</td>\n      <td>0</td>\n      <td>0</td>\n      <td>0</td>\n      <td>...</td>\n      <td>0</td>\n      <td>0</td>\n      <td>0</td>\n      <td>0</td>\n      <td>0</td>\n      <td>0</td>\n      <td>0</td>\n      <td>0</td>\n      <td>0</td>\n      <td>0</td>\n    </tr>\n    <tr>\n      <th>warmingii</th>\n      <td>0</td>\n      <td>0</td>\n      <td>0</td>\n      <td>0</td>\n      <td>0</td>\n      <td>0</td>\n      <td>0</td>\n      <td>0</td>\n      <td>0</td>\n      <td>0</td>\n      <td>...</td>\n      <td>0</td>\n      <td>0</td>\n      <td>0</td>\n      <td>0</td>\n      <td>0</td>\n      <td>0</td>\n      <td>0</td>\n      <td>0</td>\n      <td>0</td>\n      <td>0</td>\n    </tr>\n    <tr>\n      <th>xylosteoides</th>\n      <td>0</td>\n      <td>0</td>\n      <td>0</td>\n      <td>0</td>\n      <td>0</td>\n      <td>0</td>\n      <td>0</td>\n      <td>0</td>\n      <td>0</td>\n      <td>0</td>\n      <td>...</td>\n      <td>0</td>\n      <td>0</td>\n      <td>0</td>\n      <td>0</td>\n      <td>0</td>\n      <td>0</td>\n      <td>0</td>\n      <td>0</td>\n      <td>0</td>\n      <td>0</td>\n    </tr>\n    <tr>\n      <th>xylosteroides</th>\n      <td>0</td>\n      <td>0</td>\n      <td>0</td>\n      <td>0</td>\n      <td>0</td>\n      <td>0</td>\n      <td>0</td>\n      <td>0</td>\n      <td>0</td>\n      <td>0</td>\n      <td>...</td>\n      <td>0</td>\n      <td>0</td>\n      <td>0</td>\n      <td>0</td>\n      <td>0</td>\n      <td>0</td>\n      <td>0</td>\n      <td>0</td>\n      <td>0</td>\n      <td>0</td>\n    </tr>\n  </tbody>\n</table>\n<p>129 rows × 49 columns</p>\n</div>"
     },
     "execution_count": 28,
     "metadata": {},
     "output_type": "execute_result"
    }
   ],
   "source": [
    "df"
   ],
   "metadata": {
    "collapsed": false,
    "pycharm": {
     "name": "#%%\n"
    }
   }
  },
  {
   "cell_type": "code",
   "execution_count": 29,
   "outputs": [
    {
     "data": {
      "text/plain": "dict_items([(('Silva, MC', 'caldense'), 2), (('Queiroz', 'amalago'), 3), (('Queiroz', 'aduncum'), 3), (('Silva, MC', 'dilatatum'), 1), (('Silva, MC', 'aduncum'), 1), (('Silva, MC', 'xylosteoides'), 2), (('Ruschel, D', 'glabratum'), 1), (('Carvalho, MLS', 'balansana'), 1), (('Guimarães, EF; Carvalho, MS', 'glabella'), 2), (('Callejas, R', 'xylosteoides'), 3), (('Guimarães, E.F.', 'hispidum'), 18), (('Guimarães, E.F.', 'aduncum'), 5), (('Guimarães, E.F.', 'urocarpa'), 16), (('Callejas, R.', 'umbellatum'), 4), (('Yuncker, T.G.', 'elongata'), 1), (('Callejas, R.', 'pereirae'), 2), (('Guimarães, E.F.', 'caldense'), 2), (('Callejas, R.', 'blanda'), 3), (('Guimarães, E.F.', 'miquelianum'), 29), (('Guimarães, E.F.', 'mollicomum'), 3), (('Callejas, R.', 'arboreum'), 5), (('Guimarães, E.F.', 'amalago'), 3), (('Callejas, R.', 'michelianum'), 4), (('Callejas, R.', 'corcovadensis'), 8), (('Guimarães, E.F.', 'corcovadensis'), 19), (('Callejas, R.', 'gaudichaudianum'), 27), (('Callejas, R.', 'rivinoides'), 1), (('Callejas, R.', 'cernuum'), 4), (('Callejas, R.', 'glabella'), 15), (('Callejas, R.', 'mikanianum'), 4), (('Callejas, R.', 'caldense'), 8), (('Callejas, R.', 'solmsianum'), 15), (('Yuncker, T.G.', 'arboreum'), 4), (('Callejas, R.', 'rotundifolia'), 6), (('Callejas, R.', 'caldasianum'), 4), (('Callejas, R.', 'mandioccana'), 2), (('Callejas, R.', 'urocarpa'), 9), (('Callejas, R.', 'trichocarpa'), 1), (('Guimarães, E.F.', 'clivicola'), 2), (('Guimarães, E.F.', 'catharinae'), 6), (('Yuncker, T.G.', 'circinnata'), 1), (('Yuncker, T.G.', 'mollicomum'), 1), (('Guimarães, E.F.', 'xylosteoides'), 9), (('Guimarães, E.F.', 'glabratum'), 6), (('Guimarães, E.F.', 'ovatum'), 4), (('Yuncker, T.G.', 'crassinervium'), 3), (('Callejas, R.', 'nitida'), 4), (('Yuncker, T.G.', 'urocarpa'), 11), (('Callejas, R.', 'subretusa'), 2), (('Callejas, R.', 'xylosteoides'), 22), (('Carvalho-Silva, M.', 'urocarpa'), 1), (('Yuncker, T.G.', 'mosenii'), 3), (('Yuncker, T.G.', 'galioides'), 1), (('Yuncker, T.G.', 'tetraphylla'), 14), (('Yuncker, T.G.', 'mikanianum'), 5), (('Yuncker, T.G.', 'catharinae'), 11), (('Yuncker, T.G.', 'gaudichaudianum'), 6), (('Guimarães, E.F.', 'mikanianum'), 6), (('Yuncker, T.G.', 'tenuissima'), 2), (('Yuncker, T.G.', 'glabella'), 4), (('Yuncker, T.G.', 'pereskiifolia'), 3), (('Yuncker, T.G.', 'caulibarbis'), 1), (('Callejas, R.', 'hispidula'), 5), (('Yuncker, T.G.', 'alata'), 4), (('Yuncker, T.G.', 'subemarginata'), 1), (('Callejas, R.', 'glabratum'), 10), (('Callejas, R.', 'amalago'), 10), (('Callejas, R.', 'martiana'), 6), (('Yuncker, T.G.', 'glabratum'), 3), (('Yuncker, T.G.', 'blanda'), 4), (('Callejas, R.', 'glaziovi'), 1), (('Callejas, R.', 'hispidum'), 3), (('Callejas, R.', 'alata'), 4), (('Yuncker, T.G.', 'martiana'), 5), (('Callejas, R.', 'miquelianum'), 3), (('Callejas, R.', 'aduncum'), 3), (('Callejas, R.', 'crassinervium'), 1), (('Callejas, R.', 'tetraphylla'), 15), (('Callejas, R.', 'emarginella'), 2), (('Callejas, R.', 'hydrocotyloides'), 2), (('Callejas, R.', 'lepturum'), 1), (('Callejas, R.', 'dilatatum'), 5), (('Callejas, R.', 'trineura'), 2), (('Callejas, R.', 'barbarana'), 2), (('Yuncker, T.G.', 'rupestris'), 3), (('Yuncker, T.G.', 'rotundifolia'), 3), (('Callejas, R.', 'warmingii'), 1), (('Yuncker, T.G.', 'nitida'), 1), (('Yuncker, T.G.', 'barbarana'), 2), (('Yuncker, T.G.', 'obtusa'), 1), (('Guimarães, E.F.', 'martiana'), 4), (('Callejas, R.', 'mollicomum'), 3), (('Callejas, R.', 'abutiloides'), 2), (('Calleras, R.', 'tetraphylla'), 1), (('Callejas, R.', 'regnellii'), 3), (('Guimarães, E.F.', 'hayneanum'), 4), (('Yuncker, T.G.', 'hispidum'), 3), (('Callejas, R.', 'ouabianae'), 2), (('Guimarães, E.F.', 'tetraphylla'), 12), (('Callejas, R.', 'arifolia'), 2), (('Queiroz, G.A.', 'amplum'), 2), (('Guimarães, E.F.', 'circinnata'), 4), (('Yuncker, T.G.', 'renifolia'), 1), (('Yuncker, T.G.', 'amalago'), 5), (('Yuncker, T.G.', 'ibiramana'), 1), (('Yuncker, T.G.', 'hemmandorfii'), 1), (('Callejas, R.', 'flavicans'), 1), (('Callejas, R.', 'leucaenum'), 1), (('Yuncker, T.G.', 'trineura'), 1), (('Callejas, R.', 'pseudoestrellensis'), 3), (('Guimarães, E.F.', 'arboreum'), 3), (('Yuncher, T.G.', 'catharinae'), 1), (('Yuncker, T.G.', 'hilariana'), 1), (('Callejas, R.', 'aequale'), 1), (('Callejas, R.', 'fuligineum'), 2), (('Guimarães, E.F.', 'alata'), 3), (('Callejas, R.', 'reitzii'), 1), (('Guimarães, E.F.', 'permucronatum'), 1), (('Guimarães, E.F.', 'gaudichaudianum'), 3), (('Guimarães, E.F.', 'solmsianum'), 4), (('Guimarães, E.G.', 'punicea'), 1), (('Calleras, R.', 'caldense'), 2), (('Yuncker, T.G.', 'corcovadensis'), 10), (('Yuncker, T.G.', 'obtusifolia'), 1), (('Yuncker, T.G.', 'cernuum'), 2), (('Callejas, R.', 'lyman-smithii'), 1), (('Yuncker, T.G.', 'crinicaulis'), 1), (('Yuncker, T.G.', 'solmsianum'), 3), (('Callejas, R.', 'rizzinii'), 1), (('Carvalho-Silva, M.', 'glaziovi'), 1), (('Yuncker, T.G.', 'glaziovi'), 2), (('Queiroz, G.A.', 'amalago'), 2), (('Guimarães, E.F.', 'regnellii'), 1), (('Callejas, R.', 'galioides'), 1), (('Guimarães, E.F.', 'pereskiaefolia'), 8), (('Guimarães, E.F.', 'barbarana'), 1), (('Callejas, R.', 'macedoi'), 1), (('Callejas, R.', 'lhotzkianum'), 2), (('Yuncker, T.G.', 'macedoi'), 2), (('Yuncker, T.G.', 'xylosteoides'), 8), (('Guimarães, E.F.', 'delicatula'), 2), (('Callejas, R.', 'diospyrifolium'), 3), (('Callejas, R.', 'hernandiifolia'), 1), (('Guimarães, E.F.', 'mosenii'), 1), (('Guimarães, E.F.', 'glabella'), 2), (('Guimarães, E.F.', 'trineuroides'), 3), (('Callejas, R.', 'obtusa'), 1), (('Callejas, R.', 'rhombea'), 2), (('Callejas, R.', 'concinnatoris'), 1), (('Yuncker, T.G.', 'pseudolanceolatum'), 1), (('Yuncker, T.G.', 'reitzii'), 2), (('Yuncker, T.G.', 'trineuroides'), 3), (('Callejas, R.', 'schwackei'), 1), (('Callejas, R.', 'calophylla'), 1), (('Yuncker, T.G.', 'umbellatum'), 1), (('Yuncker, T.G.', 'dilatatum'), 1), (('Yuncker, T.G.', 'gracilicaulis'), 2), (('Callejas, R.', 'psilostachya'), 1), (('Queiroz, G.A.', 'arboreum'), 3), (('Yuncker, T.G.', 'psilostachya'), 1), (('Callejas, R.', 'piritubanum'), 1), (('Callejas, R.', 'caulibarbis'), 1), (('Guimarães, E.F.', 'diospyrifolium'), 1), (('Yuncker, T.G.', 'pseudoestrellensis'), 2), (('Yuncker, T.G.', 'perlongicaulis'), 1), (('Yuncker, T.G.', 'emarginella'), 2), (('Yuncker, T.G.', 'hernandiifolia'), 1), (('Yuncker, T.G.', 'piritubanum'), 1), (('Guimarães, E.F.', 'trineura'), 2), (('Guimarães, E.F.', 'blanda'), 5), (('Carvalho-Silva, M.', 'blanda'), 1), (('Guimarães, E.F.', 'hispidula'), 2), (('Guimarães, E.G.', 'corcovadensis'), 1), (('Callejas, R.', 'radicosa'), 1), (('Callejas, R.', 'quadrifolia'), 1), (('Yuncker, T.G.', 'hatschbachii'), 1), (('Callejas, R.', 'malacophyllum'), 4), (('Queiroz, G.A.', 'aduncum'), 1), (('Guimarães, E.F.', 'rotundifolia'), 4), (('Yuncker, T.G.', 'hispidula'), 1), (('Yuncker, T.G.', 'viminifolium'), 1), (('Yuncker, T.G.', 'reflexa'), 2), (('Guimarães, E.F.', 'lhotzkianum'), 3), (('Guimarães, E.F.', 'diaphanodies'), 4), (('Elsie F. Guimarães', 'martiana'), 3), (('Medeiros, E von S', 'corcovadensis'), 1), (('Monteiro, D', 'hydrocotyloides'), 1), (('Medeiros, E von S', 'glabella'), 1), (('Monteiro, D', 'martiana'), 1), (('D.Monteiro', 'rotundifolia'), 2), (('Elsie F. Guimarães', 'nitida'), 1), (('Guimarães, EF', 'rotundifolia'), 1), (('Monteiro, D', 'rhombea'), 1), (('Medeiros, E von S', 'pereskiaefolia'), 2), (('Medeiros, E von S', 'pellucida'), 1), (('Medeiros, E von S', 'rotundifolia'), 1), (('Monteiro, D', 'rotundifolia'), 1), (('Elsie Franklin Guimarães', 'stroemfeltii'), 2), (('Medeiros, E von S', 'subrubrispica'), 1), (('Monteiro, D', 'subternifolia'), 1), (('Medeiros, E von S', 'tetraphylla'), 1), (('Monteiro, D', 'tetraphylla'), 1), (('Guimarães, EF', 'aduncum'), 4), (('D.Monteiro', 'amalago'), 5), (('Guimarães, EF', 'amalago'), 26), (('D.Monteiro', 'arboreum'), 2), (('Elsie F. Guimarães', 'corcovadensis'), 3), (('Elsie F. Guimarães', 'arboreum'), 1), (('Guimarães, EF', 'corcovadensis'), 19), (('Guimarães, EF', 'arboreum'), 5), (('D.Monteiro', 'gaudichaudianum'), 4), (('D.Monteiro', 'diospyrifolium'), 1), (('Guimarães, EF', 'glabratum'), 12), (('D.Monteiro', 'hispidum'), 3), (('Guimarães, EF', 'malacophyllum'), 3), (('Guimarães, EF', 'hispidum'), 10), (('D.Monteiro', 'mollicomum'), 1), (('Guimarães, EF', 'mikanianum'), 4), (('Guimarães, EF; V. Catarelli', 'mikanianum'), 1), (('D.Monteiro', 'malacophyllum'), 1), (('Monteiro, D', 'macedoi'), 1), (('D.Monteiro', 'miquelianum'), 3), (('Guimarães, EF', 'xylosteoides'), 3), (('Guimarães, EF', 'viminifolium'), 5), (('Guimarães, EF', 'mollicomum'), 2), (('Guimarães, EF', 'miquelianum'), 5), (('D. Monteiro', 'miquelianum'), 1), (('Guimarães, EF', 'subcinereum'), 1), (('Monteiro, D', 'gaudichaudianum'), 5), (('Monteiro, D', 'glabratum'), 2), (('Guimarães, EF', 'tuberculatum'), 2), (('Guimarães, EF', 'rubricaulis'), 1), (('Monteiro, D', 'arboreum'), 1), (('Guimarães, EF', 'elongata'), 2), (('Guimarães, EF', 'sandersii'), 1), (('Guimarães, EF', 'regnellii'), 5), (('Guimarães, EF', 'crassinervium'), 4), (('Guimarães, EF', 'glabella'), 1), (('Guimarães, EF', 'circinnata'), 2), (('Guimarães, EF', 'barbarana'), 1), (('Guimarães, EF', 'pereskiaefolia'), 2), (('Monteiro, D', 'tuberculatum'), 1), (('Guimarães, EF', 'catharinae'), 2), (('Monteiro, D', 'delicatula'), 1), (('Monteiro, D', 'amalago'), 1), (('Yuncker, T.G.', 'retivenulosa'), 2), (('Guimarães, E.F.', 'dilatatum'), 3), (('Yuncker, T.G.', 'rizzinii'), 1), (('Yuncker, T.G.', 'subretusa'), 1), (('Carvalho-Silva, M', 'aduncum'), 1), (('Monteiro, D', 'obtusa'), 1), (('Carvalho-Silva, M', 'martiana'), 1), (('Carvalho-Silva, M', 'galioides'), 1), (('Carvalho-Silva, M', 'brasiliensis'), 1), (('Silva, MC', 'blanda'), 1), (('Carvalho-Silva, M', 'amalago'), 2), (('Carvalho-Silva, M', 'catharinae'), 1), (('Carvalho-Silva, M', 'regnellii'), 2), (('Carvalho-Silva, M', 'urocarpa'), 5), (('Carvalho-Silva, M', 'blanda'), 3), (('D.Monteiro', 'hayneanum'), 1), (('Carvalho-Silva, M.', 'xylosteoides'), 1), (('Carvalho-Silva, M.', 'amalago'), 1), (('Carvalho-Silva, M.', 'galioides'), 1), (('Carvalho-Silva, M.', 'martiana'), 1), (('Carvalho-Silva, M.', 'dilatatum'), 2), (('Rushel, D.', 'crassinervium'), 1), (('Rushel, D.', 'xylosteoides'), 2), (('Rushel, D.', 'glabratum'), 1), (('Rushel, D.', 'regenelli'), 1), (('Rushel, D.', 'aduncum'), 1), (('Rushel, D.', 'mollicomum'), 1), (('Rushel, D.', 'hispidum'), 1), (('Rushel, D.', 'mikanianium'), 1), (('Guimarães, E.F.', 'crassinervium'), 4), (('Guimarães, E.F.', 'hemmendorffii'), 4), (('Carvalho-Silva, M.', 'gaudichaudianum'), 1), (('Guimarães, EF', 'urocarpa'), 2), (('Guimarães, EF', 'clivicola'), 1), (('Carvalho-Silva, M', 'glabratum'), 1), (('Carvalho-Silva, M', 'arifolia'), 1), (('Callejas, R', 'gaudichaudianum'), 4), (('Carvalho-Silva, M', 'crassinervium'), 3), (('Silva, MC', 'urocarpa'), 1), (('Silva, MCR', 'hispidum'), 1), (('Guimarães, EF', 'tetraphylla'), 1), (('R. Callejas Posada', 'rhombea'), 4), (('R. Callejas Posada', 'miquelianum'), 25), (('R. Callejas Posada', 'glabella'), 18), (('R. Callejas Posada', 'amalago'), 5), (('R. Callejas Posada', 'trineura'), 1), (('R. Callejas Posada', 'martiana'), 4), (('R. Callejas Posada', 'nitida'), 4), (('R. Callejas Posada', 'fuligineum'), 2), (('R. Callejas Posada', 'caldasianum'), 5), (('T. G. Yuncker', 'gaudichaudianum'), 22), (('T. G. Yuncker', 'solmsianum'), 7), (('T. G. Yuncker', 'xylosteoides'), 29), (('T. G. Yuncker', 'hatschbachii'), 3), (('R. Callejas Posada', 'xylosteoides'), 10), (('R. Callejas Posada', 'regnellii'), 3), (('R. Callejas Posada', 'diospyrifolium'), 3), (('R. Callejas Posada', 'gaudichaudianum'), 25), (('R. Callejas Posada', 'arboreum'), 4), (('R. Callejas Posada', 'mollicomum'), 2), (('T. G. Yuncker', 'hilariana'), 3), (('R. Callejas Posada', 'glaziovii'), 1), (('T. G. Yuncker', 'mikanianum'), 8), (('R. Callejas Posada', 'calophylla'), 1), (('R. Callejas Posada', 'tetraphylla'), 8), (('T. G. Yuncker', 'tetraphylla'), 19), (('R. Callejas Posada', 'caldense'), 10), (('C. L. F. Ichaso', 'caldense'), 1), (('R. Callejas Posada', 'hispidula'), 2), (('R. Callejas Posada', 'emarginella'), 2), (('R. Callejas Posada', 'dilatatum'), 4), (('R. Callejas Posada', 'lepturum'), 3), (('T. G. Yuncker', 'viminifolium'), 1), (('T. G. Yuncker', 'mollicomum'), 2), (('T. G. Yuncker', 'corcovadensis'), 2), (('W. Trelease', 'martiana'), 1), (('R. Callejas Posada', 'solmsianum'), 10), (('T. G. Yuncker', 'reitzii'), 3), (('R. Callejas Posada', 'pseudoestrellensis'), 3), (('T. G. Yuncker', 'martiana'), 2), (('T. G. Yuncker', 'pseudoestrellensis'), 3), (('R. Callejas Posada', 'glabratum'), 7), (('R. Callejas Posada', 'caulibarbis'), 1), (('R. Callejas Posada', 'magnoliifolia'), 1), (('R. Callejas Posada', 'piritubanum'), 1), (('T. G. Yuncker', 'regnellii'), 2), (('T. G. Yuncker', 'crassinervium'), 1), (('T. G. Yuncker', 'cernuum'), 1), (('T. G. Yuncker', 'hispidula'), 2), (('W. Trelease', 'elongata'), 1), (('R. Callejas Posada', 'nudifolia'), 2), (('R. Callejas Posada', 'hydrocotyloides'), 2), (('R. Callejas Posada', 'alata'), 3), (('R. Callejas Posada', 'cernuum'), 4), (('C. L. F. Ichaso', 'arboreum'), 2), (('T. G. Yuncker', 'lucaeanum'), 1), (('R. Callejas Posada', 'urocarpa'), 7), (('T. G. Yuncker', 'blanda'), 2), (('T. G. Yuncker', 'trineura'), 3), (('T. G. Yuncker', 'glabratum'), 5), (('T. G. Yuncker', 'amalago'), 2), (('T. G. Yuncker', 'pereskiifolia'), 2), (('T. G. Yuncker', 'mosenii'), 4), (('R. Callejas Posada', 'mikanianum'), 5), (('R. Callejas Posada', 'aduncum'), 3), (('T. G. Yuncker', 'lindbergii'), 1), (('T. G. Yuncker', 'aduncum'), 1), (('T. G. Yuncker', 'hispidum'), 4), (('T. G. Yuncker', 'leucanthum'), 1), (('R. Callejas Posada', 'aequale'), 1), (('R. Callejas Posada', 'reitzii'), 3), (('R. Callejas Posada', 'rotundifolia'), 2), (('R. Callejas Posada', 'lanceolatopeltata'), 1), (('R. Callejas Posada', 'corcovadensis'), 5), (('T. G. Yuncker', 'piritubanum'), 1), (('T. G. Yuncker', 'alata'), 1), (('T. G. Yuncker', 'arifolia'), 1), (('T. G. Yuncker', 'urocarpa'), 3), (('T. G. Yuncker', 'catharinae'), 3), (('R. Callejas Posada', 'diaphanoides'), 1), (('R. Callejas Posada', 'malacophyllum'), 4), (('R. Callejas Posada', 'umbellata'), 3), (('T. G. Yuncker', 'hemmendorfii'), 1), (('R. Callejas Posada', 'blanda'), 3), (('T. G. Yuncker', 'rupestris'), 2), (('T. G. Yuncker', 'rizzinii'), 1), (('E. Guimarães', 'gaudichaudianum'), 1), (('E. Guimarães', 'alnoides'), 1), (('E. Guimarães/2009', 'crassinervium'), 1), (('E.F. Guimarães', 'glabratum'), 2), (('E.F. Guimarães', 'reitzii'), 1), (('E.F. Guimarães', 'hispidum'), 2), (('E.F. Guimarães', 'aduncum'), 3), (('E.F.Guimarães', 'glabratum'), 1), (('E.F.Guimarães', 'barbarana'), 1), (('M. Carvalho-Silva', 'xylosteoides'), 2), (('M. Carvalho-Silva', 'aduncum'), 1), (('E.F. Guimarães', 'mikanianum'), 1), (('M. Carvalho', 'arboreum'), 1), (('M. Carvalho-Silva', 'mikanianum'), 1), (('M. Carvalho-Silva', 'crassinervium'), 1), (('M. Carvalho-Silva', 'caldense'), 1), (('Ruschel, D', 'gaudichaudianum'), 3), (('Callejas, R', 'caldense'), 1), (('Callejas, R', 'pseudoestrellensis'), 1), (('Melo, A', 'amalago'), 2), (('Callejas, R', 'pereirae'), 1), (('Callejas, R', 'glabella'), 2), (('Ruschel, D.', 'gaudichaudianum'), 3), (('E.F.Guimarães', 'hispidum'), 1), (('E.F.Guimarães', 'mikanianum'), 1), (('Elsie F. Guimarães', 'hispidum'), 2), (('Elsie F. Guimarães', 'stroemfeltii'), 1), (('Elsie F. Guimarães', 'pereskiaefolia'), 1), (('Elsie Franklin Guimarães', 'miquelianum'), 1), (('Callejas, R', 'mikanianum'), 1), (('Guimarães E.F.', 'amalago'), 1), (('Guimarães, E', 'barbarana'), 1), (('Guimarães, E', 'crassinervium'), 1), (('Guimarães, E.', 'obtusa'), 1), (('Guimarães, E.', 'xylosteroides'), 1), (('Guimarães, E.', 'xylosteoides'), 1), (('Carvalho-Silva, M', 'nitida'), 1), (('Carvalho, MS', 'arifolia'), 1), (('Guimarães, E.F.', 'obtusa'), 1), (('Guimarães, E.F.', 'hilariana'), 1), (('Guimarães, E.F.', 'rubricaulis'), 1), (('Guimarães, E.F.', 'reitzii'), 2), (('Guimarães, E.F.', 'viminifolium'), 3), (('Guimarães, E.F.', 'arifolia'), 1), (('Guimarães, E.F.', 'hydrocotyloides'), 1), (('Guimarães, E.F.', 'vicosanum'), 1), (('Guimarães, E.F.', 'pseudoestrellensis'), 1), (('Guimarães, E.F.', 'tuberculatum'), 1), (('Guimarães, EF', 'amplum'), 1), (('Guimarães, EF', 'gaudichaudianum'), 1), (('Guimarães, EF', 'blanda'), 1), (('M. Carvalho-Silva', 'amalago'), 1), (('M.Carvalho-Silva', 'arifolia'), 1), (('Callejas, R.', 'lanceolato-peltata'), 1), (('Callejas, R.', 'magnoliifolia'), 1), (('Callejas, R', 'rotundifolia'), 1), (('M.Carvalho-Silva', 'trineura'), 1), (('D.Monteiro', 'pereskiaefolia'), 1), (('Monteiro, D.', 'miquelianum'), 1), (('Queiroz', 'arboreum'), 1), (('Queiroz', 'amplum'), 1), (('R. Callejas Posada', 'pereirae'), 2), (('R. Callejas Posada', 'galioides'), 1), (('R. Callejas Posada', 'balansana'), 1), (('R. Callejas Posada', 'arifolia'), 2), (('R. Callejas Posada', 'circinnata'), 1), (('R. Callejas Posada', 'mandiocana'), 2), (('Carvalho Silva, M', 'hispidum'), 1), (('Carvalho-Silva, M.', 'lhotzkyanum'), 1), (('Carvalho-Silva, M.', 'hispidum'), 1), (('R. Callejas Posada', 'trichocarpa'), 1), (('Callejas, R', 'solmsianum'), 1), (('R. Callejas Posada', 'radicosa'), 1), (('R. Callejas Posada', 'concinnatoris'), 1), (('R. Callejas Posada', 'subretusa'), 2), (('D.Monteiro', 'tetraphylla'), 1), (('Carvalho-Silva, M', 'tetraphylla'), 1), (('R. Callejas Posada', 'rivinoides'), 1), (('R. Callejas Posada', 'barbarana'), 2), (('R. Callejas Posada', 'renifolia'), 1), (('R. Callejas Posada', 'flavicans'), 1), (('R. Callejas Posada', 'hilariana'), 1), (('R. Callejas Posada', 'warmingii'), 1), (('R. Callejas Posada', 'crassinervium'), 1), (('R. Callejas Posada', 'schwackei'), 1), (('R. Callejas Posada', 'lyman-smithii'), 1), (('E. F. Guimarães; C. L. F. Ichaso', 'solmsianum'), 1), (('Ruschel, D', 'xylosteoides'), 2), (('Ruschel, D', 'hispidum'), 1), (('Ruschel, D.', 'miquelianum'), 1), (('Silva, M.C.', 'urocarpa'), 1), (('E. F. Guimarães', 'callosum'), 1), (('T. G. Yuncker', 'arboreum'), 1), (('T. G. Yuncker', 'barbarana'), 1), (('T. G. Yuncker', 'macedoi'), 1), (('T. G. Yuncker', 'glabella'), 1), (('T. G. Yuncker', 'malacophyllum'), 1), (('Callejas, R', 'miquelianum'), 1), (('Tepe, EJ', 'regnellii'), 1), (('Yuncku, T.G.', 'hatschbachii'), 1)])"
     },
     "execution_count": 29,
     "metadata": {},
     "output_type": "execute_result"
    }
   ],
   "source": [
    "collections.Counter(query_identified_with_specific_epithet).items()"
   ],
   "metadata": {
    "collapsed": false,
    "pycharm": {
     "name": "#%%\n"
    }
   }
  },
  {
   "cell_type": "code",
   "execution_count": 30,
   "outputs": [
    {
     "data": {
      "text/plain": "               C. L. F. Ichaso  Callejas, R  Callejas, R.  Calleras, R.  \\\nabutiloides                  0            0             2             0   \naduncum                      0            0             3             0   \naequale                      0            0             1             0   \nalata                        0            0             4             0   \nalnoides                     0            0             0             0   \n...                        ...          ...           ...           ...   \nvicosanum                    0            0             0             0   \nviminifolium                 0            0             0             0   \nwarmingii                    0            0             1             0   \nxylosteoides                 0            3            22             0   \nxylosteroides                0            0             0             0   \n\n               Carvalho Silva, M  Carvalho, MLS  Carvalho, MS  \\\nabutiloides                    0              0             0   \naduncum                        0              0             0   \naequale                        0              0             0   \nalata                          0              0             0   \nalnoides                       0              0             0   \n...                          ...            ...           ...   \nvicosanum                      0              0             0   \nviminifolium                   0              0             0   \nwarmingii                      0              0             0   \nxylosteoides                   0              0             0   \nxylosteroides                  0              0             0   \n\n               Carvalho-Silva, M  Carvalho-Silva, M.  D. Monteiro  ...  \\\nabutiloides                    0                   0            0  ...   \naduncum                        1                   0            0  ...   \naequale                        0                   0            0  ...   \nalata                          0                   0            0  ...   \nalnoides                       0                   0            0  ...   \n...                          ...                 ...          ...  ...   \nvicosanum                      0                   0            0  ...   \nviminifolium                   0                   0            0  ...   \nwarmingii                      0                   0            0  ...   \nxylosteoides                   0                   1            0  ...   \nxylosteroides                  0                   0            0  ...   \n\n               Rushel, D.  Silva, M.C.  Silva, MC  Silva, MCR  T. G. Yuncker  \\\nabutiloides             0            0          0           0              0   \naduncum                 1            0          1           0              1   \naequale                 0            0          0           0              0   \nalata                   0            0          0           0              1   \nalnoides                0            0          0           0              0   \n...                   ...          ...        ...         ...            ...   \nvicosanum               0            0          0           0              0   \nviminifolium            0            0          0           0              1   \nwarmingii               0            0          0           0              0   \nxylosteoides            2            0          2           0             29   \nxylosteroides           0            0          0           0              0   \n\n               Tepe, EJ  W. Trelease  Yuncher, T.G.  Yuncker, T.G.  \\\nabutiloides           0            0              0              0   \naduncum               0            0              0              0   \naequale               0            0              0              0   \nalata                 0            0              0              4   \nalnoides              0            0              0              0   \n...                 ...          ...            ...            ...   \nvicosanum             0            0              0              0   \nviminifolium          0            0              0              1   \nwarmingii             0            0              0              0   \nxylosteoides          0            0              0              8   \nxylosteroides         0            0              0              0   \n\n               Yuncku, T.G.  \nabutiloides               0  \naduncum                   0  \naequale                   0  \nalata                     0  \nalnoides                  0  \n...                     ...  \nvicosanum                 0  \nviminifolium              0  \nwarmingii                 0  \nxylosteoides              0  \nxylosteroides             0  \n\n[129 rows x 49 columns]",
      "text/html": "<div>\n<style scoped>\n    .dataframe tbody tr th:only-of-type {\n        vertical-align: middle;\n    }\n\n    .dataframe tbody tr th {\n        vertical-align: top;\n    }\n\n    .dataframe thead th {\n        text-align: right;\n    }\n</style>\n<table border=\"1\" class=\"dataframe\">\n  <thead>\n    <tr style=\"text-align: right;\">\n      <th></th>\n      <th>C. L. F. Ichaso</th>\n      <th>Callejas, R</th>\n      <th>Callejas, R.</th>\n      <th>Calleras, R.</th>\n      <th>Carvalho Silva, M</th>\n      <th>Carvalho, MLS</th>\n      <th>Carvalho, MS</th>\n      <th>Carvalho-Silva, M</th>\n      <th>Carvalho-Silva, M.</th>\n      <th>D. Monteiro</th>\n      <th>...</th>\n      <th>Rushel, D.</th>\n      <th>Silva, M.C.</th>\n      <th>Silva, MC</th>\n      <th>Silva, MCR</th>\n      <th>T. G. Yuncker</th>\n      <th>Tepe, EJ</th>\n      <th>W. Trelease</th>\n      <th>Yuncher, T.G.</th>\n      <th>Yuncker, T.G.</th>\n      <th>Yuncku, T.G.</th>\n    </tr>\n  </thead>\n  <tbody>\n    <tr>\n      <th>abutiloides</th>\n      <td>0</td>\n      <td>0</td>\n      <td>2</td>\n      <td>0</td>\n      <td>0</td>\n      <td>0</td>\n      <td>0</td>\n      <td>0</td>\n      <td>0</td>\n      <td>0</td>\n      <td>...</td>\n      <td>0</td>\n      <td>0</td>\n      <td>0</td>\n      <td>0</td>\n      <td>0</td>\n      <td>0</td>\n      <td>0</td>\n      <td>0</td>\n      <td>0</td>\n      <td>0</td>\n    </tr>\n    <tr>\n      <th>aduncum</th>\n      <td>0</td>\n      <td>0</td>\n      <td>3</td>\n      <td>0</td>\n      <td>0</td>\n      <td>0</td>\n      <td>0</td>\n      <td>1</td>\n      <td>0</td>\n      <td>0</td>\n      <td>...</td>\n      <td>1</td>\n      <td>0</td>\n      <td>1</td>\n      <td>0</td>\n      <td>1</td>\n      <td>0</td>\n      <td>0</td>\n      <td>0</td>\n      <td>0</td>\n      <td>0</td>\n    </tr>\n    <tr>\n      <th>aequale</th>\n      <td>0</td>\n      <td>0</td>\n      <td>1</td>\n      <td>0</td>\n      <td>0</td>\n      <td>0</td>\n      <td>0</td>\n      <td>0</td>\n      <td>0</td>\n      <td>0</td>\n      <td>...</td>\n      <td>0</td>\n      <td>0</td>\n      <td>0</td>\n      <td>0</td>\n      <td>0</td>\n      <td>0</td>\n      <td>0</td>\n      <td>0</td>\n      <td>0</td>\n      <td>0</td>\n    </tr>\n    <tr>\n      <th>alata</th>\n      <td>0</td>\n      <td>0</td>\n      <td>4</td>\n      <td>0</td>\n      <td>0</td>\n      <td>0</td>\n      <td>0</td>\n      <td>0</td>\n      <td>0</td>\n      <td>0</td>\n      <td>...</td>\n      <td>0</td>\n      <td>0</td>\n      <td>0</td>\n      <td>0</td>\n      <td>1</td>\n      <td>0</td>\n      <td>0</td>\n      <td>0</td>\n      <td>4</td>\n      <td>0</td>\n    </tr>\n    <tr>\n      <th>alnoides</th>\n      <td>0</td>\n      <td>0</td>\n      <td>0</td>\n      <td>0</td>\n      <td>0</td>\n      <td>0</td>\n      <td>0</td>\n      <td>0</td>\n      <td>0</td>\n      <td>0</td>\n      <td>...</td>\n      <td>0</td>\n      <td>0</td>\n      <td>0</td>\n      <td>0</td>\n      <td>0</td>\n      <td>0</td>\n      <td>0</td>\n      <td>0</td>\n      <td>0</td>\n      <td>0</td>\n    </tr>\n    <tr>\n      <th>...</th>\n      <td>...</td>\n      <td>...</td>\n      <td>...</td>\n      <td>...</td>\n      <td>...</td>\n      <td>...</td>\n      <td>...</td>\n      <td>...</td>\n      <td>...</td>\n      <td>...</td>\n      <td>...</td>\n      <td>...</td>\n      <td>...</td>\n      <td>...</td>\n      <td>...</td>\n      <td>...</td>\n      <td>...</td>\n      <td>...</td>\n      <td>...</td>\n      <td>...</td>\n      <td>...</td>\n    </tr>\n    <tr>\n      <th>vicosanum</th>\n      <td>0</td>\n      <td>0</td>\n      <td>0</td>\n      <td>0</td>\n      <td>0</td>\n      <td>0</td>\n      <td>0</td>\n      <td>0</td>\n      <td>0</td>\n      <td>0</td>\n      <td>...</td>\n      <td>0</td>\n      <td>0</td>\n      <td>0</td>\n      <td>0</td>\n      <td>0</td>\n      <td>0</td>\n      <td>0</td>\n      <td>0</td>\n      <td>0</td>\n      <td>0</td>\n    </tr>\n    <tr>\n      <th>viminifolium</th>\n      <td>0</td>\n      <td>0</td>\n      <td>0</td>\n      <td>0</td>\n      <td>0</td>\n      <td>0</td>\n      <td>0</td>\n      <td>0</td>\n      <td>0</td>\n      <td>0</td>\n      <td>...</td>\n      <td>0</td>\n      <td>0</td>\n      <td>0</td>\n      <td>0</td>\n      <td>1</td>\n      <td>0</td>\n      <td>0</td>\n      <td>0</td>\n      <td>1</td>\n      <td>0</td>\n    </tr>\n    <tr>\n      <th>warmingii</th>\n      <td>0</td>\n      <td>0</td>\n      <td>1</td>\n      <td>0</td>\n      <td>0</td>\n      <td>0</td>\n      <td>0</td>\n      <td>0</td>\n      <td>0</td>\n      <td>0</td>\n      <td>...</td>\n      <td>0</td>\n      <td>0</td>\n      <td>0</td>\n      <td>0</td>\n      <td>0</td>\n      <td>0</td>\n      <td>0</td>\n      <td>0</td>\n      <td>0</td>\n      <td>0</td>\n    </tr>\n    <tr>\n      <th>xylosteoides</th>\n      <td>0</td>\n      <td>3</td>\n      <td>22</td>\n      <td>0</td>\n      <td>0</td>\n      <td>0</td>\n      <td>0</td>\n      <td>0</td>\n      <td>1</td>\n      <td>0</td>\n      <td>...</td>\n      <td>2</td>\n      <td>0</td>\n      <td>2</td>\n      <td>0</td>\n      <td>29</td>\n      <td>0</td>\n      <td>0</td>\n      <td>0</td>\n      <td>8</td>\n      <td>0</td>\n    </tr>\n    <tr>\n      <th>xylosteroides</th>\n      <td>0</td>\n      <td>0</td>\n      <td>0</td>\n      <td>0</td>\n      <td>0</td>\n      <td>0</td>\n      <td>0</td>\n      <td>0</td>\n      <td>0</td>\n      <td>0</td>\n      <td>...</td>\n      <td>0</td>\n      <td>0</td>\n      <td>0</td>\n      <td>0</td>\n      <td>0</td>\n      <td>0</td>\n      <td>0</td>\n      <td>0</td>\n      <td>0</td>\n      <td>0</td>\n    </tr>\n  </tbody>\n</table>\n<p>129 rows × 49 columns</p>\n</div>"
     },
     "execution_count": 30,
     "metadata": {},
     "output_type": "execute_result"
    }
   ],
   "source": [
    "for k, v in sorted(collections.Counter(query_identified_with_specific_epithet).items()):\n",
    "    df.at[k[1], k[0]] = v\n",
    "\n",
    "df"
   ],
   "metadata": {
    "collapsed": false,
    "pycharm": {
     "name": "#%%\n"
    }
   }
  },
  {
   "cell_type": "code",
   "execution_count": null,
   "outputs": [],
   "source": [],
   "metadata": {
    "collapsed": false,
    "pycharm": {
     "name": "#%%\n"
    }
   }
  }
 ],
 "metadata": {
  "kernelspec": {
   "display_name": "Python 3",
   "language": "python",
   "name": "python3"
  },
  "language_info": {
   "codemirror_mode": {
    "name": "ipython",
    "version": 2
   },
   "file_extension": ".py",
   "mimetype": "text/x-python",
   "name": "python",
   "nbconvert_exporter": "python",
   "pygments_lexer": "ipython2",
   "version": "2.7.6"
  }
 },
 "nbformat": 4,
 "nbformat_minor": 0
}