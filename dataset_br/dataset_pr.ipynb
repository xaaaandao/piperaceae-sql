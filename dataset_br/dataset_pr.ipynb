{
 "cells": [
  {
   "cell_type": "code",
   "execution_count": 2,
   "metadata": {},
   "outputs": [
    {
     "name": "stdout",
     "output_type": "stream",
     "text": [
      "The autoreload extension is already loaded. To reload it, use:\n",
      "  %reload_ext autoreload\n"
     ]
    }
   ],
   "source": [
    "%reload_ext autoreload\n",
    "%load_ext autoreload\n",
    "%autoreload 2"
   ]
  },
  {
   "cell_type": "code",
   "execution_count": 4,
   "outputs": [],
   "source": [
    "import os\n",
    "import pandas as pd\n",
    "import pathlib\n",
    "import shutil\n",
    "import sqlalchemy as sa\n",
    "\n",
    "import database as db\n",
    "\n",
    "from images import copy_images, get_list_of_images_invalid, remove_images_invalid\n",
    "from tables import County, DataTrustedIdentifier, InfoImage"
   ],
   "metadata": {
    "collapsed": false
   }
  },
  {
   "cell_type": "markdown",
   "source": [
    "## Database connection"
   ],
   "metadata": {
    "collapsed": false
   }
  },
  {
   "cell_type": "code",
   "execution_count": 5,
   "outputs": [
    {
     "name": "stdout",
     "output_type": "stream",
     "text": [
      "2023-03-23 16:16:15,802 INFO sqlalchemy.engine.Engine select pg_catalog.version()\n",
      "2023-03-23 16:16:15,803 INFO sqlalchemy.engine.Engine [raw sql] {}\n",
      "2023-03-23 16:16:15,804 INFO sqlalchemy.engine.Engine select current_schema()\n",
      "2023-03-23 16:16:15,805 INFO sqlalchemy.engine.Engine [raw sql] {}\n",
      "2023-03-23 16:16:15,806 INFO sqlalchemy.engine.Engine show standard_conforming_strings\n",
      "2023-03-23 16:16:15,807 INFO sqlalchemy.engine.Engine [raw sql] {}\n"
     ]
    }
   ],
   "source": [
    "engine, session = db.connect()\n",
    "engine.echo = False"
   ],
   "metadata": {
    "collapsed": false
   }
  },
  {
   "cell_type": "code",
   "execution_count": 24,
   "outputs": [
    {
     "name": "stdout",
     "output_type": "stream",
     "text": [
      "count of images is a 52604\n"
     ]
    }
   ],
   "source": [
    "list_images = [str(image) for image in pathlib.Path('/home/xandao/Documentos/RGB/512/w_pred_mask').rglob('*.jpeg') if image.is_file()]\n",
    "print('count of images is a %d' % len(list_images))"
   ],
   "metadata": {
    "collapsed": false
   }
  },
  {
   "cell_type": "code",
   "execution_count": 25,
   "outputs": [],
   "source": [
    "query = session.query(County).filter(County.uf=='PR').distinct().all()\n",
    "\n",
    "uf_unaccented_lower, state_unaccented_lower, county_unaccented_lower = db.get_list_uf_state_county(query)"
   ],
   "metadata": {
    "collapsed": false
   }
  },
  {
   "cell_type": "code",
   "execution_count": 40,
   "outputs": [],
   "source": [
    "level = DataTrustedIdentifier.specific_epithet\n",
    "columns = [level, sa.func.array_agg(DataTrustedIdentifier.seq)]\n",
    "condition = sa.and_(DataTrustedIdentifier.country_trusted == 'Brasil',\n",
    "                        DataTrustedIdentifier.specific_epithet.is_not(None),\n",
    "                        DataTrustedIdentifier.specific_epithet.is_not(None),\n",
    "                        sa.or_(uf_unaccented_lower, state_unaccented_lower))\n",
    "list_minimum_image=[5, 10, 20]\n",
    "list_color=['rgb', 'grayscale']\n",
    "list_image_size=['256', '400', '512']\n",
    "path_out = '/home/xandao/Imagens'"
   ],
   "metadata": {
    "collapsed": false
   }
  },
  {
   "cell_type": "code",
   "execution_count": 41,
   "outputs": [
    {
     "data": {
      "text/plain": "            barcode        reason\n0       INPA0248526    horizontal\n1       INPA0248523    horizontal\n2       INPA0248528    horizontal\n3     NY01421575_01    horizontal\n4   HUFSJ001689_v00  not exsicate\n5   HUFSJ001133_v00  not exsicate\n6   HUFSJ002198_v00  not exsicate\n7   HUFSJ003255_v00  not exsicate\n8   HVASF000487_v01  not exsicate\n9    INPA0019084_nd         label\n10   INPA0022379_nd         label\n11   INPA0032742_nd         label\n12      INPA0023115        letter\n13      NL-U1484137        letter\n14      INPA0012286        letter\n15      INPA0146998    incomplete",
      "text/html": "<div>\n<style scoped>\n    .dataframe tbody tr th:only-of-type {\n        vertical-align: middle;\n    }\n\n    .dataframe tbody tr th {\n        vertical-align: top;\n    }\n\n    .dataframe thead th {\n        text-align: right;\n    }\n</style>\n<table border=\"1\" class=\"dataframe\">\n  <thead>\n    <tr style=\"text-align: right;\">\n      <th></th>\n      <th>barcode</th>\n      <th>reason</th>\n    </tr>\n  </thead>\n  <tbody>\n    <tr>\n      <th>0</th>\n      <td>INPA0248526</td>\n      <td>horizontal</td>\n    </tr>\n    <tr>\n      <th>1</th>\n      <td>INPA0248523</td>\n      <td>horizontal</td>\n    </tr>\n    <tr>\n      <th>2</th>\n      <td>INPA0248528</td>\n      <td>horizontal</td>\n    </tr>\n    <tr>\n      <th>3</th>\n      <td>NY01421575_01</td>\n      <td>horizontal</td>\n    </tr>\n    <tr>\n      <th>4</th>\n      <td>HUFSJ001689_v00</td>\n      <td>not exsicate</td>\n    </tr>\n    <tr>\n      <th>5</th>\n      <td>HUFSJ001133_v00</td>\n      <td>not exsicate</td>\n    </tr>\n    <tr>\n      <th>6</th>\n      <td>HUFSJ002198_v00</td>\n      <td>not exsicate</td>\n    </tr>\n    <tr>\n      <th>7</th>\n      <td>HUFSJ003255_v00</td>\n      <td>not exsicate</td>\n    </tr>\n    <tr>\n      <th>8</th>\n      <td>HVASF000487_v01</td>\n      <td>not exsicate</td>\n    </tr>\n    <tr>\n      <th>9</th>\n      <td>INPA0019084_nd</td>\n      <td>label</td>\n    </tr>\n    <tr>\n      <th>10</th>\n      <td>INPA0022379_nd</td>\n      <td>label</td>\n    </tr>\n    <tr>\n      <th>11</th>\n      <td>INPA0032742_nd</td>\n      <td>label</td>\n    </tr>\n    <tr>\n      <th>12</th>\n      <td>INPA0023115</td>\n      <td>letter</td>\n    </tr>\n    <tr>\n      <th>13</th>\n      <td>NL-U1484137</td>\n      <td>letter</td>\n    </tr>\n    <tr>\n      <th>14</th>\n      <td>INPA0012286</td>\n      <td>letter</td>\n    </tr>\n    <tr>\n      <th>15</th>\n      <td>INPA0146998</td>\n      <td>incomplete</td>\n    </tr>\n  </tbody>\n</table>\n</div>"
     },
     "execution_count": 41,
     "metadata": {},
     "output_type": "execute_result"
    }
   ],
   "source": [
    "list_images_invalid = get_list_of_images_invalid()\n",
    "pd.DataFrame(list_images_invalid)"
   ],
   "metadata": {
    "collapsed": false
   }
  },
  {
   "cell_type": "code",
   "execution_count": 43,
   "outputs": [
    {
     "name": "stdout",
     "output_type": "stream",
     "text": [
      "/home/xandao/Imagens/RGB/256/5\n"
     ]
    },
    {
     "data": {
      "text/plain": "'color: rgb image_size: 256 minimum_image: 5'"
     },
     "metadata": {},
     "output_type": "display_data"
    },
    {
     "data": {
      "text/plain": "'len(list_level_name): 0 len(paths_images): 0'"
     },
     "metadata": {},
     "output_type": "display_data"
    },
    {
     "data": {
      "text/plain": "Empty DataFrame\nColumns: [species, paths, count]\nIndex: []",
      "text/html": "<div>\n<style scoped>\n    .dataframe tbody tr th:only-of-type {\n        vertical-align: middle;\n    }\n\n    .dataframe tbody tr th {\n        vertical-align: top;\n    }\n\n    .dataframe thead th {\n        text-align: right;\n    }\n</style>\n<table border=\"1\" class=\"dataframe\">\n  <thead>\n    <tr style=\"text-align: right;\">\n      <th></th>\n      <th>species</th>\n      <th>paths</th>\n      <th>count</th>\n    </tr>\n  </thead>\n  <tbody>\n  </tbody>\n</table>\n</div>"
     },
     "metadata": {},
     "output_type": "display_data"
    },
    {
     "name": "stdout",
     "output_type": "stream",
     "text": [
      "/home/xandao/Imagens/RGB/256/10\n"
     ]
    },
    {
     "data": {
      "text/plain": "'color: rgb image_size: 256 minimum_image: 10'"
     },
     "metadata": {},
     "output_type": "display_data"
    },
    {
     "data": {
      "text/plain": "'len(list_level_name): 0 len(paths_images): 0'"
     },
     "metadata": {},
     "output_type": "display_data"
    },
    {
     "data": {
      "text/plain": "Empty DataFrame\nColumns: [species, paths, count]\nIndex: []",
      "text/html": "<div>\n<style scoped>\n    .dataframe tbody tr th:only-of-type {\n        vertical-align: middle;\n    }\n\n    .dataframe tbody tr th {\n        vertical-align: top;\n    }\n\n    .dataframe thead th {\n        text-align: right;\n    }\n</style>\n<table border=\"1\" class=\"dataframe\">\n  <thead>\n    <tr style=\"text-align: right;\">\n      <th></th>\n      <th>species</th>\n      <th>paths</th>\n      <th>count</th>\n    </tr>\n  </thead>\n  <tbody>\n  </tbody>\n</table>\n</div>"
     },
     "metadata": {},
     "output_type": "display_data"
    },
    {
     "name": "stdout",
     "output_type": "stream",
     "text": [
      "/home/xandao/Imagens/RGB/256/20\n"
     ]
    },
    {
     "data": {
      "text/plain": "'color: rgb image_size: 256 minimum_image: 20'"
     },
     "metadata": {},
     "output_type": "display_data"
    },
    {
     "data": {
      "text/plain": "'len(list_level_name): 0 len(paths_images): 0'"
     },
     "metadata": {},
     "output_type": "display_data"
    },
    {
     "data": {
      "text/plain": "Empty DataFrame\nColumns: [species, paths, count]\nIndex: []",
      "text/html": "<div>\n<style scoped>\n    .dataframe tbody tr th:only-of-type {\n        vertical-align: middle;\n    }\n\n    .dataframe tbody tr th {\n        vertical-align: top;\n    }\n\n    .dataframe thead th {\n        text-align: right;\n    }\n</style>\n<table border=\"1\" class=\"dataframe\">\n  <thead>\n    <tr style=\"text-align: right;\">\n      <th></th>\n      <th>species</th>\n      <th>paths</th>\n      <th>count</th>\n    </tr>\n  </thead>\n  <tbody>\n  </tbody>\n</table>\n</div>"
     },
     "metadata": {},
     "output_type": "display_data"
    },
    {
     "name": "stdout",
     "output_type": "stream",
     "text": [
      "/home/xandao/Imagens/RGB/400/5\n"
     ]
    },
    {
     "data": {
      "text/plain": "'color: rgb image_size: 400 minimum_image: 5'"
     },
     "metadata": {},
     "output_type": "display_data"
    },
    {
     "data": {
      "text/plain": "'len(list_level_name): 0 len(paths_images): 0'"
     },
     "metadata": {},
     "output_type": "display_data"
    },
    {
     "data": {
      "text/plain": "Empty DataFrame\nColumns: [species, paths, count]\nIndex: []",
      "text/html": "<div>\n<style scoped>\n    .dataframe tbody tr th:only-of-type {\n        vertical-align: middle;\n    }\n\n    .dataframe tbody tr th {\n        vertical-align: top;\n    }\n\n    .dataframe thead th {\n        text-align: right;\n    }\n</style>\n<table border=\"1\" class=\"dataframe\">\n  <thead>\n    <tr style=\"text-align: right;\">\n      <th></th>\n      <th>species</th>\n      <th>paths</th>\n      <th>count</th>\n    </tr>\n  </thead>\n  <tbody>\n  </tbody>\n</table>\n</div>"
     },
     "metadata": {},
     "output_type": "display_data"
    },
    {
     "name": "stdout",
     "output_type": "stream",
     "text": [
      "/home/xandao/Imagens/RGB/400/10\n"
     ]
    },
    {
     "data": {
      "text/plain": "'color: rgb image_size: 400 minimum_image: 10'"
     },
     "metadata": {},
     "output_type": "display_data"
    },
    {
     "data": {
      "text/plain": "'len(list_level_name): 0 len(paths_images): 0'"
     },
     "metadata": {},
     "output_type": "display_data"
    },
    {
     "data": {
      "text/plain": "Empty DataFrame\nColumns: [species, paths, count]\nIndex: []",
      "text/html": "<div>\n<style scoped>\n    .dataframe tbody tr th:only-of-type {\n        vertical-align: middle;\n    }\n\n    .dataframe tbody tr th {\n        vertical-align: top;\n    }\n\n    .dataframe thead th {\n        text-align: right;\n    }\n</style>\n<table border=\"1\" class=\"dataframe\">\n  <thead>\n    <tr style=\"text-align: right;\">\n      <th></th>\n      <th>species</th>\n      <th>paths</th>\n      <th>count</th>\n    </tr>\n  </thead>\n  <tbody>\n  </tbody>\n</table>\n</div>"
     },
     "metadata": {},
     "output_type": "display_data"
    },
    {
     "name": "stdout",
     "output_type": "stream",
     "text": [
      "/home/xandao/Imagens/RGB/400/20\n"
     ]
    },
    {
     "data": {
      "text/plain": "'color: rgb image_size: 400 minimum_image: 20'"
     },
     "metadata": {},
     "output_type": "display_data"
    },
    {
     "data": {
      "text/plain": "'len(list_level_name): 0 len(paths_images): 0'"
     },
     "metadata": {},
     "output_type": "display_data"
    },
    {
     "data": {
      "text/plain": "Empty DataFrame\nColumns: [species, paths, count]\nIndex: []",
      "text/html": "<div>\n<style scoped>\n    .dataframe tbody tr th:only-of-type {\n        vertical-align: middle;\n    }\n\n    .dataframe tbody tr th {\n        vertical-align: top;\n    }\n\n    .dataframe thead th {\n        text-align: right;\n    }\n</style>\n<table border=\"1\" class=\"dataframe\">\n  <thead>\n    <tr style=\"text-align: right;\">\n      <th></th>\n      <th>species</th>\n      <th>paths</th>\n      <th>count</th>\n    </tr>\n  </thead>\n  <tbody>\n  </tbody>\n</table>\n</div>"
     },
     "metadata": {},
     "output_type": "display_data"
    },
    {
     "name": "stdout",
     "output_type": "stream",
     "text": [
      "/home/xandao/Imagens/RGB/512/5\n"
     ]
    },
    {
     "data": {
      "text/plain": "'color: rgb image_size: 512 minimum_image: 5'"
     },
     "metadata": {},
     "output_type": "display_data"
    },
    {
     "data": {
      "text/plain": "'len(list_level_name): 54 len(paths_images): 1359'"
     },
     "metadata": {},
     "output_type": "display_data"
    },
    {
     "data": {
      "text/plain": "   species                                              paths  count\n0  aduncum  [/home/xandao/Documentos/RGB/512/w_pred_mask/A...     33\n1    alata  [/home/xandao/Documentos/RGB/512/w_pred_mask/C...     18\n2  amalago  [/home/xandao/Documentos/RGB/512/w_pred_mask/A...     69",
      "text/html": "<div>\n<style scoped>\n    .dataframe tbody tr th:only-of-type {\n        vertical-align: middle;\n    }\n\n    .dataframe tbody tr th {\n        vertical-align: top;\n    }\n\n    .dataframe thead th {\n        text-align: right;\n    }\n</style>\n<table border=\"1\" class=\"dataframe\">\n  <thead>\n    <tr style=\"text-align: right;\">\n      <th></th>\n      <th>species</th>\n      <th>paths</th>\n      <th>count</th>\n    </tr>\n  </thead>\n  <tbody>\n    <tr>\n      <th>0</th>\n      <td>aduncum</td>\n      <td>[/home/xandao/Documentos/RGB/512/w_pred_mask/A...</td>\n      <td>33</td>\n    </tr>\n    <tr>\n      <th>1</th>\n      <td>alata</td>\n      <td>[/home/xandao/Documentos/RGB/512/w_pred_mask/C...</td>\n      <td>18</td>\n    </tr>\n    <tr>\n      <th>2</th>\n      <td>amalago</td>\n      <td>[/home/xandao/Documentos/RGB/512/w_pred_mask/A...</td>\n      <td>69</td>\n    </tr>\n  </tbody>\n</table>\n</div>"
     },
     "metadata": {},
     "output_type": "display_data"
    },
    {
     "name": "stdout",
     "output_type": "stream",
     "text": [
      "/home/xandao/Imagens/RGB/512/10\n"
     ]
    },
    {
     "data": {
      "text/plain": "'color: rgb image_size: 512 minimum_image: 10'"
     },
     "metadata": {},
     "output_type": "display_data"
    },
    {
     "data": {
      "text/plain": "'len(list_level_name): 35 len(paths_images): 1240'"
     },
     "metadata": {},
     "output_type": "display_data"
    },
    {
     "data": {
      "text/plain": "   species                                              paths  count\n0  aduncum  [/home/xandao/Documentos/RGB/512/w_pred_mask/A...     33\n1    alata  [/home/xandao/Documentos/RGB/512/w_pred_mask/C...     18\n2  amalago  [/home/xandao/Documentos/RGB/512/w_pred_mask/A...     69",
      "text/html": "<div>\n<style scoped>\n    .dataframe tbody tr th:only-of-type {\n        vertical-align: middle;\n    }\n\n    .dataframe tbody tr th {\n        vertical-align: top;\n    }\n\n    .dataframe thead th {\n        text-align: right;\n    }\n</style>\n<table border=\"1\" class=\"dataframe\">\n  <thead>\n    <tr style=\"text-align: right;\">\n      <th></th>\n      <th>species</th>\n      <th>paths</th>\n      <th>count</th>\n    </tr>\n  </thead>\n  <tbody>\n    <tr>\n      <th>0</th>\n      <td>aduncum</td>\n      <td>[/home/xandao/Documentos/RGB/512/w_pred_mask/A...</td>\n      <td>33</td>\n    </tr>\n    <tr>\n      <th>1</th>\n      <td>alata</td>\n      <td>[/home/xandao/Documentos/RGB/512/w_pred_mask/C...</td>\n      <td>18</td>\n    </tr>\n    <tr>\n      <th>2</th>\n      <td>amalago</td>\n      <td>[/home/xandao/Documentos/RGB/512/w_pred_mask/A...</td>\n      <td>69</td>\n    </tr>\n  </tbody>\n</table>\n</div>"
     },
     "metadata": {},
     "output_type": "display_data"
    },
    {
     "name": "stdout",
     "output_type": "stream",
     "text": [
      "/home/xandao/Imagens/RGB/512/20\n"
     ]
    },
    {
     "data": {
      "text/plain": "'color: rgb image_size: 512 minimum_image: 20'"
     },
     "metadata": {},
     "output_type": "display_data"
    },
    {
     "data": {
      "text/plain": "'len(list_level_name): 22 len(paths_images): 1069'"
     },
     "metadata": {},
     "output_type": "display_data"
    },
    {
     "data": {
      "text/plain": "    species                                              paths  count\n0   aduncum  [/home/xandao/Documentos/RGB/512/w_pred_mask/A...     33\n1   amalago  [/home/xandao/Documentos/RGB/512/w_pred_mask/A...     69\n2  arboreum  [/home/xandao/Documentos/RGB/512/w_pred_mask/C...     35",
      "text/html": "<div>\n<style scoped>\n    .dataframe tbody tr th:only-of-type {\n        vertical-align: middle;\n    }\n\n    .dataframe tbody tr th {\n        vertical-align: top;\n    }\n\n    .dataframe thead th {\n        text-align: right;\n    }\n</style>\n<table border=\"1\" class=\"dataframe\">\n  <thead>\n    <tr style=\"text-align: right;\">\n      <th></th>\n      <th>species</th>\n      <th>paths</th>\n      <th>count</th>\n    </tr>\n  </thead>\n  <tbody>\n    <tr>\n      <th>0</th>\n      <td>aduncum</td>\n      <td>[/home/xandao/Documentos/RGB/512/w_pred_mask/A...</td>\n      <td>33</td>\n    </tr>\n    <tr>\n      <th>1</th>\n      <td>amalago</td>\n      <td>[/home/xandao/Documentos/RGB/512/w_pred_mask/A...</td>\n      <td>69</td>\n    </tr>\n    <tr>\n      <th>2</th>\n      <td>arboreum</td>\n      <td>[/home/xandao/Documentos/RGB/512/w_pred_mask/C...</td>\n      <td>35</td>\n    </tr>\n  </tbody>\n</table>\n</div>"
     },
     "metadata": {},
     "output_type": "display_data"
    },
    {
     "name": "stdout",
     "output_type": "stream",
     "text": [
      "/home/xandao/Imagens/GRAYSCALE/256/5\n"
     ]
    },
    {
     "data": {
      "text/plain": "'color: grayscale image_size: 256 minimum_image: 5'"
     },
     "metadata": {},
     "output_type": "display_data"
    },
    {
     "data": {
      "text/plain": "'len(list_level_name): 0 len(paths_images): 0'"
     },
     "metadata": {},
     "output_type": "display_data"
    },
    {
     "data": {
      "text/plain": "Empty DataFrame\nColumns: [species, paths, count]\nIndex: []",
      "text/html": "<div>\n<style scoped>\n    .dataframe tbody tr th:only-of-type {\n        vertical-align: middle;\n    }\n\n    .dataframe tbody tr th {\n        vertical-align: top;\n    }\n\n    .dataframe thead th {\n        text-align: right;\n    }\n</style>\n<table border=\"1\" class=\"dataframe\">\n  <thead>\n    <tr style=\"text-align: right;\">\n      <th></th>\n      <th>species</th>\n      <th>paths</th>\n      <th>count</th>\n    </tr>\n  </thead>\n  <tbody>\n  </tbody>\n</table>\n</div>"
     },
     "metadata": {},
     "output_type": "display_data"
    },
    {
     "name": "stdout",
     "output_type": "stream",
     "text": [
      "/home/xandao/Imagens/GRAYSCALE/256/10\n"
     ]
    },
    {
     "data": {
      "text/plain": "'color: grayscale image_size: 256 minimum_image: 10'"
     },
     "metadata": {},
     "output_type": "display_data"
    },
    {
     "data": {
      "text/plain": "'len(list_level_name): 0 len(paths_images): 0'"
     },
     "metadata": {},
     "output_type": "display_data"
    },
    {
     "data": {
      "text/plain": "Empty DataFrame\nColumns: [species, paths, count]\nIndex: []",
      "text/html": "<div>\n<style scoped>\n    .dataframe tbody tr th:only-of-type {\n        vertical-align: middle;\n    }\n\n    .dataframe tbody tr th {\n        vertical-align: top;\n    }\n\n    .dataframe thead th {\n        text-align: right;\n    }\n</style>\n<table border=\"1\" class=\"dataframe\">\n  <thead>\n    <tr style=\"text-align: right;\">\n      <th></th>\n      <th>species</th>\n      <th>paths</th>\n      <th>count</th>\n    </tr>\n  </thead>\n  <tbody>\n  </tbody>\n</table>\n</div>"
     },
     "metadata": {},
     "output_type": "display_data"
    },
    {
     "name": "stdout",
     "output_type": "stream",
     "text": [
      "/home/xandao/Imagens/GRAYSCALE/256/20\n"
     ]
    },
    {
     "data": {
      "text/plain": "'color: grayscale image_size: 256 minimum_image: 20'"
     },
     "metadata": {},
     "output_type": "display_data"
    },
    {
     "data": {
      "text/plain": "'len(list_level_name): 0 len(paths_images): 0'"
     },
     "metadata": {},
     "output_type": "display_data"
    },
    {
     "data": {
      "text/plain": "Empty DataFrame\nColumns: [species, paths, count]\nIndex: []",
      "text/html": "<div>\n<style scoped>\n    .dataframe tbody tr th:only-of-type {\n        vertical-align: middle;\n    }\n\n    .dataframe tbody tr th {\n        vertical-align: top;\n    }\n\n    .dataframe thead th {\n        text-align: right;\n    }\n</style>\n<table border=\"1\" class=\"dataframe\">\n  <thead>\n    <tr style=\"text-align: right;\">\n      <th></th>\n      <th>species</th>\n      <th>paths</th>\n      <th>count</th>\n    </tr>\n  </thead>\n  <tbody>\n  </tbody>\n</table>\n</div>"
     },
     "metadata": {},
     "output_type": "display_data"
    },
    {
     "name": "stdout",
     "output_type": "stream",
     "text": [
      "/home/xandao/Imagens/GRAYSCALE/400/5\n"
     ]
    },
    {
     "data": {
      "text/plain": "'color: grayscale image_size: 400 minimum_image: 5'"
     },
     "metadata": {},
     "output_type": "display_data"
    },
    {
     "data": {
      "text/plain": "'len(list_level_name): 0 len(paths_images): 0'"
     },
     "metadata": {},
     "output_type": "display_data"
    },
    {
     "data": {
      "text/plain": "Empty DataFrame\nColumns: [species, paths, count]\nIndex: []",
      "text/html": "<div>\n<style scoped>\n    .dataframe tbody tr th:only-of-type {\n        vertical-align: middle;\n    }\n\n    .dataframe tbody tr th {\n        vertical-align: top;\n    }\n\n    .dataframe thead th {\n        text-align: right;\n    }\n</style>\n<table border=\"1\" class=\"dataframe\">\n  <thead>\n    <tr style=\"text-align: right;\">\n      <th></th>\n      <th>species</th>\n      <th>paths</th>\n      <th>count</th>\n    </tr>\n  </thead>\n  <tbody>\n  </tbody>\n</table>\n</div>"
     },
     "metadata": {},
     "output_type": "display_data"
    },
    {
     "name": "stdout",
     "output_type": "stream",
     "text": [
      "/home/xandao/Imagens/GRAYSCALE/400/10\n"
     ]
    },
    {
     "data": {
      "text/plain": "'color: grayscale image_size: 400 minimum_image: 10'"
     },
     "metadata": {},
     "output_type": "display_data"
    },
    {
     "data": {
      "text/plain": "'len(list_level_name): 0 len(paths_images): 0'"
     },
     "metadata": {},
     "output_type": "display_data"
    },
    {
     "data": {
      "text/plain": "Empty DataFrame\nColumns: [species, paths, count]\nIndex: []",
      "text/html": "<div>\n<style scoped>\n    .dataframe tbody tr th:only-of-type {\n        vertical-align: middle;\n    }\n\n    .dataframe tbody tr th {\n        vertical-align: top;\n    }\n\n    .dataframe thead th {\n        text-align: right;\n    }\n</style>\n<table border=\"1\" class=\"dataframe\">\n  <thead>\n    <tr style=\"text-align: right;\">\n      <th></th>\n      <th>species</th>\n      <th>paths</th>\n      <th>count</th>\n    </tr>\n  </thead>\n  <tbody>\n  </tbody>\n</table>\n</div>"
     },
     "metadata": {},
     "output_type": "display_data"
    },
    {
     "name": "stdout",
     "output_type": "stream",
     "text": [
      "/home/xandao/Imagens/GRAYSCALE/400/20\n"
     ]
    },
    {
     "data": {
      "text/plain": "'color: grayscale image_size: 400 minimum_image: 20'"
     },
     "metadata": {},
     "output_type": "display_data"
    },
    {
     "data": {
      "text/plain": "'len(list_level_name): 0 len(paths_images): 0'"
     },
     "metadata": {},
     "output_type": "display_data"
    },
    {
     "data": {
      "text/plain": "Empty DataFrame\nColumns: [species, paths, count]\nIndex: []",
      "text/html": "<div>\n<style scoped>\n    .dataframe tbody tr th:only-of-type {\n        vertical-align: middle;\n    }\n\n    .dataframe tbody tr th {\n        vertical-align: top;\n    }\n\n    .dataframe thead th {\n        text-align: right;\n    }\n</style>\n<table border=\"1\" class=\"dataframe\">\n  <thead>\n    <tr style=\"text-align: right;\">\n      <th></th>\n      <th>species</th>\n      <th>paths</th>\n      <th>count</th>\n    </tr>\n  </thead>\n  <tbody>\n  </tbody>\n</table>\n</div>"
     },
     "metadata": {},
     "output_type": "display_data"
    },
    {
     "name": "stdout",
     "output_type": "stream",
     "text": [
      "/home/xandao/Imagens/GRAYSCALE/512/5\n"
     ]
    },
    {
     "data": {
      "text/plain": "'color: grayscale image_size: 512 minimum_image: 5'"
     },
     "metadata": {},
     "output_type": "display_data"
    },
    {
     "data": {
      "text/plain": "'len(list_level_name): 0 len(paths_images): 0'"
     },
     "metadata": {},
     "output_type": "display_data"
    },
    {
     "data": {
      "text/plain": "Empty DataFrame\nColumns: [species, paths, count]\nIndex: []",
      "text/html": "<div>\n<style scoped>\n    .dataframe tbody tr th:only-of-type {\n        vertical-align: middle;\n    }\n\n    .dataframe tbody tr th {\n        vertical-align: top;\n    }\n\n    .dataframe thead th {\n        text-align: right;\n    }\n</style>\n<table border=\"1\" class=\"dataframe\">\n  <thead>\n    <tr style=\"text-align: right;\">\n      <th></th>\n      <th>species</th>\n      <th>paths</th>\n      <th>count</th>\n    </tr>\n  </thead>\n  <tbody>\n  </tbody>\n</table>\n</div>"
     },
     "metadata": {},
     "output_type": "display_data"
    },
    {
     "name": "stdout",
     "output_type": "stream",
     "text": [
      "/home/xandao/Imagens/GRAYSCALE/512/10\n"
     ]
    },
    {
     "data": {
      "text/plain": "'color: grayscale image_size: 512 minimum_image: 10'"
     },
     "metadata": {},
     "output_type": "display_data"
    },
    {
     "data": {
      "text/plain": "'len(list_level_name): 0 len(paths_images): 0'"
     },
     "metadata": {},
     "output_type": "display_data"
    },
    {
     "data": {
      "text/plain": "Empty DataFrame\nColumns: [species, paths, count]\nIndex: []",
      "text/html": "<div>\n<style scoped>\n    .dataframe tbody tr th:only-of-type {\n        vertical-align: middle;\n    }\n\n    .dataframe tbody tr th {\n        vertical-align: top;\n    }\n\n    .dataframe thead th {\n        text-align: right;\n    }\n</style>\n<table border=\"1\" class=\"dataframe\">\n  <thead>\n    <tr style=\"text-align: right;\">\n      <th></th>\n      <th>species</th>\n      <th>paths</th>\n      <th>count</th>\n    </tr>\n  </thead>\n  <tbody>\n  </tbody>\n</table>\n</div>"
     },
     "metadata": {},
     "output_type": "display_data"
    },
    {
     "name": "stdout",
     "output_type": "stream",
     "text": [
      "/home/xandao/Imagens/GRAYSCALE/512/20\n"
     ]
    },
    {
     "data": {
      "text/plain": "'color: grayscale image_size: 512 minimum_image: 20'"
     },
     "metadata": {},
     "output_type": "display_data"
    },
    {
     "data": {
      "text/plain": "'len(list_level_name): 0 len(paths_images): 0'"
     },
     "metadata": {},
     "output_type": "display_data"
    },
    {
     "data": {
      "text/plain": "Empty DataFrame\nColumns: [species, paths, count]\nIndex: []",
      "text/html": "<div>\n<style scoped>\n    .dataframe tbody tr th:only-of-type {\n        vertical-align: middle;\n    }\n\n    .dataframe tbody tr th {\n        vertical-align: top;\n    }\n\n    .dataframe thead th {\n        text-align: right;\n    }\n</style>\n<table border=\"1\" class=\"dataframe\">\n  <thead>\n    <tr style=\"text-align: right;\">\n      <th></th>\n      <th>species</th>\n      <th>paths</th>\n      <th>count</th>\n    </tr>\n  </thead>\n  <tbody>\n  </tbody>\n</table>\n</div>"
     },
     "metadata": {},
     "output_type": "display_data"
    }
   ],
   "source": [
    "for color in list_color:\n",
    "    for image_size in list_image_size:\n",
    "        for minimum_image in list_minimum_image:\n",
    "            records = db.get_records_group_by_level(columns, condition, level, minimum_image, session)\n",
    "            list_level_name, list_path_images = db.filter_records(color, image_size, minimum_image, records, session)\n",
    "            list_count_path, list_path_images = remove_images_invalid(list_level_name, list_images_invalid, list_path_images)\n",
    "            copy_images(color, image_size, list_level_name, list_path_images, str(minimum_image), path_out)\n",
    "\n",
    "            df = pd.DataFrame({\n",
    "                'species': list_level_name,\n",
    "                'paths': list_path_images,\n",
    "                'count': list_count_path\n",
    "            })\n",
    "\n",
    "            display('color: %s image_size: %s minimum_image: %d' % (color, image_size, minimum_image))\n",
    "            display('len(list_level_name): %d len(paths_images): %d' % (len(list_level_name), df['count'].sum()))\n",
    "            display(df.head(3))"
   ],
   "metadata": {
    "collapsed": false
   }
  },
  {
   "cell_type": "markdown",
   "source": [
    "## Close connection"
   ],
   "metadata": {
    "collapsed": false
   }
  },
  {
   "cell_type": "code",
   "execution_count": 63,
   "outputs": [],
   "source": [
    "session.close()\n",
    "engine.dispose()"
   ],
   "metadata": {
    "collapsed": false
   }
  }
 ],
 "metadata": {
  "kernelspec": {
   "display_name": "base",
   "language": "python",
   "name": "python3"
  },
  "language_info": {
   "codemirror_mode": {
    "name": "ipython",
    "version": 3
   },
   "file_extension": ".py",
   "mimetype": "text/x-python",
   "name": "python",
   "nbconvert_exporter": "python",
   "pygments_lexer": "ipython3",
   "version": "3.9.12"
  },
  "vscode": {
   "interpreter": {
    "hash": "53ce972a288a646521e393254486dd3d4e40ae124f0f9a66da52dff344d61cdc"
   }
  }
 },
 "nbformat": 4,
 "nbformat_minor": 1
}
