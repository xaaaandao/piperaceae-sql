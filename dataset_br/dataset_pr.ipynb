{
 "cells": [
  {
   "cell_type": "code",
   "execution_count": 35,
   "metadata": {},
   "outputs": [
    {
     "name": "stdout",
     "output_type": "stream",
     "text": [
      "The autoreload extension is already loaded. To reload it, use:\n",
      "  %reload_ext autoreload\n"
     ]
    }
   ],
   "source": [
    "import shutil\n",
    "\n",
    "from dataset_br.images_invalid import get_list_of_images_invalid\n",
    "%reload_ext autoreload\n",
    "%load_ext autoreload\n",
    "%autoreload 2"
   ]
  },
  {
   "cell_type": "code",
   "execution_count": 56,
   "outputs": [],
   "source": [
    "import itertools\n",
    "import numpy as np\n",
    "import os\n",
    "import pandas as pd\n",
    "import pathlib\n",
    "import shutil\n",
    "import sqlalchemy as sa\n",
    "import sys\n",
    "\n",
    "sys.path.append(os.path.dirname(os.path.dirname(os.path.abspath('main.ipynb'))))\n",
    "\n",
    "from tables import County, DataTrustedIdentifier, InfoImage\n",
    "from database import connect\n",
    "\n",
    "from unaccent import unaccent"
   ],
   "metadata": {
    "collapsed": false
   }
  },
  {
   "cell_type": "markdown",
   "source": [
    "## Database connection"
   ],
   "metadata": {
    "collapsed": false
   }
  },
  {
   "cell_type": "code",
   "execution_count": 37,
   "outputs": [
    {
     "name": "stdout",
     "output_type": "stream",
     "text": [
      "2023-03-21 14:42:37,163 INFO sqlalchemy.engine.Engine select pg_catalog.version()\n",
      "2023-03-21 14:42:37,164 INFO sqlalchemy.engine.Engine [raw sql] {}\n",
      "2023-03-21 14:42:37,165 INFO sqlalchemy.engine.Engine select current_schema()\n",
      "2023-03-21 14:42:37,166 INFO sqlalchemy.engine.Engine [raw sql] {}\n",
      "2023-03-21 14:42:37,167 INFO sqlalchemy.engine.Engine show standard_conforming_strings\n",
      "2023-03-21 14:42:37,167 INFO sqlalchemy.engine.Engine [raw sql] {}\n"
     ]
    }
   ],
   "source": [
    "engine, session = connect()\n",
    "engine.echo = False"
   ],
   "metadata": {
    "collapsed": false
   }
  },
  {
   "cell_type": "code",
   "execution_count": 38,
   "outputs": [
    {
     "name": "stdout",
     "output_type": "stream",
     "text": [
      "count of images is a 105208\n"
     ]
    }
   ],
   "source": [
    "list_images = [str(image) for image in pathlib.Path('/home/xandao/Documentos/RGB/512').rglob('*.jpeg') if image.is_file()]\n",
    "print('count of images is a %d' % len(list_images))"
   ],
   "metadata": {
    "collapsed": false
   }
  },
  {
   "cell_type": "code",
   "execution_count": 39,
   "outputs": [],
   "source": [
    "county = session.query(County).filter(County.uf=='PR').distinct().all()\n",
    "\n",
    "list_uf = [unaccent(sa.func.lower(c.uf)) for c in county]\n",
    "list_state = [unaccent(sa.func.lower(c.state)) for c in county]\n",
    "list_county = [unaccent(sa.func.lower(c.county)) for c in county]\n",
    "\n",
    "uf_unaccent_lower = unaccent(sa.func.lower(DataTrustedIdentifier.state_province)).in_(list_uf)\n",
    "state_unaccent_lower = unaccent(sa.func.lower(DataTrustedIdentifier.state_province)).in_(list_state)\n",
    "county_unaccent_lower = unaccent(sa.func.lower(DataTrustedIdentifier.county)).in_(list_county)"
   ],
   "metadata": {
    "collapsed": false
   }
  },
  {
   "cell_type": "code",
   "execution_count": 40,
   "outputs": [
    {
     "name": "stdout",
     "output_type": "stream",
     "text": [
      "count of species: 54\n"
     ]
    }
   ],
   "source": [
    "columns = [DataTrustedIdentifier.specific_epithet, sa.func.array_agg(DataTrustedIdentifier.seq)]\n",
    "\n",
    "species_with_five_more_records = session.query(*columns)\\\n",
    "    .filter(sa.and_(DataTrustedIdentifier.country_trusted =='Brasil',\n",
    "                DataTrustedIdentifier.specific_epithet.is_not(None),\n",
    "                 DataTrustedIdentifier.specific_epithet.is_not(None),\n",
    "               sa.or_(uf_unaccent_lower, state_unaccent_lower)))\\\n",
    "    .distinct()\\\n",
    "    .group_by(DataTrustedIdentifier.specific_epithet)\\\n",
    "    .order_by(DataTrustedIdentifier.specific_epithet)\\\n",
    "    .having(sa.func.count(DataTrustedIdentifier.specific_epithet) >= 5)\\\n",
    "    .all()\n",
    "\n",
    "print('count of species: %d' % len(species_with_five_more_records))"
   ],
   "metadata": {
    "collapsed": false
   }
  },
  {
   "cell_type": "code",
   "execution_count": 41,
   "outputs": [
    {
     "name": "stdout",
     "output_type": "stream",
     "text": [
      "count of species: 54\n"
     ]
    }
   ],
   "source": [
    "list_species = []\n",
    "list_path = []\n",
    "color = 'rgb'\n",
    "image_size='512'\n",
    "\n",
    "for i, q in enumerate(species_with_five_more_records):\n",
    "    species = q[0]\n",
    "    list_seq = q[1]\n",
    "    query = session.query(sa.func.array_agg(sa.distinct(InfoImage.path_image))) \\\n",
    "        .filter(sa.and_(InfoImage.seq_id.in_(list_seq),\n",
    "                     InfoImage.image_size == image_size,\n",
    "                     InfoImage.color_mode == color)) \\\n",
    "        .group_by(InfoImage.seq_id) \\\n",
    "        .all()\n",
    "\n",
    "    l = list(itertools.chain(*query)) # \"remove of tuples\"\n",
    "\n",
    "    if len(l) >= 5:\n",
    "\n",
    "        # remove images duplicates\n",
    "        list_only_one_path = []\n",
    "        for barcode in l:\n",
    "            list_only_one_path.append(sorted(barcode)[0]) # sorted and catch first value of list\n",
    "\n",
    "        if len(np.unique(list_only_one_path)) >= 5:\n",
    "            list_species.append(species)\n",
    "            list_path.append(np.unique(list_only_one_path).tolist())\n",
    "\n",
    "print('count of species: %d' % len(list_species))"
   ],
   "metadata": {
    "collapsed": false
   }
  },
  {
   "cell_type": "code",
   "execution_count": 42,
   "outputs": [
    {
     "data": {
      "text/plain": "            barcode        reason\n0       INPA0248526    horizontal\n1       INPA0248523    horizontal\n2       INPA0248528    horizontal\n3     NY01421575_01    horizontal\n4   HUFSJ001689_v00  not exsicate\n5   HUFSJ001133_v00  not exsicate\n6   HUFSJ002198_v00  not exsicate\n7   HUFSJ003255_v00  not exsicate\n8   HVASF000487_v01  not exsicate\n9    INPA0019084_nd         label\n10   INPA0022379_nd         label\n11   INPA0032742_nd         label\n12      INPA0023115        letter\n13      NL-U1484137        letter\n14      INPA0012286        letter\n15      INPA0146998    incomplete",
      "text/html": "<div>\n<style scoped>\n    .dataframe tbody tr th:only-of-type {\n        vertical-align: middle;\n    }\n\n    .dataframe tbody tr th {\n        vertical-align: top;\n    }\n\n    .dataframe thead th {\n        text-align: right;\n    }\n</style>\n<table border=\"1\" class=\"dataframe\">\n  <thead>\n    <tr style=\"text-align: right;\">\n      <th></th>\n      <th>barcode</th>\n      <th>reason</th>\n    </tr>\n  </thead>\n  <tbody>\n    <tr>\n      <th>0</th>\n      <td>INPA0248526</td>\n      <td>horizontal</td>\n    </tr>\n    <tr>\n      <th>1</th>\n      <td>INPA0248523</td>\n      <td>horizontal</td>\n    </tr>\n    <tr>\n      <th>2</th>\n      <td>INPA0248528</td>\n      <td>horizontal</td>\n    </tr>\n    <tr>\n      <th>3</th>\n      <td>NY01421575_01</td>\n      <td>horizontal</td>\n    </tr>\n    <tr>\n      <th>4</th>\n      <td>HUFSJ001689_v00</td>\n      <td>not exsicate</td>\n    </tr>\n    <tr>\n      <th>5</th>\n      <td>HUFSJ001133_v00</td>\n      <td>not exsicate</td>\n    </tr>\n    <tr>\n      <th>6</th>\n      <td>HUFSJ002198_v00</td>\n      <td>not exsicate</td>\n    </tr>\n    <tr>\n      <th>7</th>\n      <td>HUFSJ003255_v00</td>\n      <td>not exsicate</td>\n    </tr>\n    <tr>\n      <th>8</th>\n      <td>HVASF000487_v01</td>\n      <td>not exsicate</td>\n    </tr>\n    <tr>\n      <th>9</th>\n      <td>INPA0019084_nd</td>\n      <td>label</td>\n    </tr>\n    <tr>\n      <th>10</th>\n      <td>INPA0022379_nd</td>\n      <td>label</td>\n    </tr>\n    <tr>\n      <th>11</th>\n      <td>INPA0032742_nd</td>\n      <td>label</td>\n    </tr>\n    <tr>\n      <th>12</th>\n      <td>INPA0023115</td>\n      <td>letter</td>\n    </tr>\n    <tr>\n      <th>13</th>\n      <td>NL-U1484137</td>\n      <td>letter</td>\n    </tr>\n    <tr>\n      <th>14</th>\n      <td>INPA0012286</td>\n      <td>letter</td>\n    </tr>\n    <tr>\n      <th>15</th>\n      <td>INPA0146998</td>\n      <td>incomplete</td>\n    </tr>\n  </tbody>\n</table>\n</div>"
     },
     "execution_count": 42,
     "metadata": {},
     "output_type": "execute_result"
    }
   ],
   "source": [
    "list_images_invalid = get_list_of_images_invalid()\n",
    "pd.DataFrame(list_images_invalid)"
   ],
   "metadata": {
    "collapsed": false
   }
  },
  {
   "cell_type": "code",
   "execution_count": 44,
   "outputs": [],
   "source": [
    "list_path_correct = []\n",
    "list_count_path = []\n",
    "sum = 0\n",
    "for i, p in enumerate(list_path):\n",
    "    matching = [path for path in p if not any(barcode in path for barcode in list_images_invalid['barcode'])]\n",
    "\n",
    "    if len(p) != len(matching):\n",
    "        print('specie: %s before: %d after: %d' % (list_species[i], len(p), len(matching)))\n",
    "        diff = list(set(p) ^ set(matching))\n",
    "        print('diff: %s' % str(diff))\n",
    "\n",
    "    list_path_correct.append(matching)\n",
    "    list_count_path.append(len(matching))"
   ],
   "metadata": {
    "collapsed": false
   }
  },
  {
   "cell_type": "code",
   "execution_count": 49,
   "outputs": [
    {
     "data": {
      "text/plain": "               species                                              paths  \\\n0              aduncum  [/home/xandao/Documentos/RGB/512/w_pred_mask/A...   \n1                alata  [/home/xandao/Documentos/RGB/512/w_pred_mask/C...   \n2              amalago  [/home/xandao/Documentos/RGB/512/w_pred_mask/A...   \n3               amplum  [/home/xandao/Documentos/RGB/512/w_pred_mask/C...   \n4             arboreum  [/home/xandao/Documentos/RGB/512/w_pred_mask/C...   \n5             arifolia  [/home/xandao/Documentos/RGB/512/w_pred_mask/A...   \n6            barbarana  [/home/xandao/Documentos/RGB/512/w_pred_mask/H...   \n7               blanda  [/home/xandao/Documentos/RGB/512/w_pred_mask/A...   \n8          caldasianum  [/home/xandao/Documentos/RGB/512/w_pred_mask/M...   \n9             caldense  [/home/xandao/Documentos/RGB/512/w_pred_mask/C...   \n10          catharinae  [/home/xandao/Documentos/RGB/512/w_pred_mask/C...   \n11             cernuum  [/home/xandao/Documentos/RGB/512/w_pred_mask/C...   \n12          circinnata  [/home/xandao/Documentos/RGB/512/w_pred_mask/C...   \n13       corcovadensis  [/home/xandao/Documentos/RGB/512/w_pred_mask/C...   \n14       crassinervium  [/home/xandao/Documentos/RGB/512/w_pred_mask/A...   \n15           dilatatum  [/home/xandao/Documentos/RGB/512/w_pred_mask/C...   \n16      diospyrifolium  [/home/xandao/Documentos/RGB/512/w_pred_mask/C...   \n17         emarginella  [/home/xandao/Documentos/RGB/512/w_pred_mask/M...   \n18           galioides  [/home/xandao/Documentos/RGB/512/w_pred_mask/C...   \n19     gaudichaudianum  [/home/xandao/Documentos/RGB/512/w_pred_mask/A...   \n20            glabella  [/home/xandao/Documentos/RGB/512/w_pred_mask/C...   \n21           glabratum  [/home/xandao/Documentos/RGB/512/w_pred_mask/A...   \n22           hayneanum  [/home/xandao/Documentos/RGB/512/w_pred_mask/C...   \n23           hilariana  [/home/xandao/Documentos/RGB/512/w_pred_mask/M...   \n24           hispidula  [/home/xandao/Documentos/RGB/512/w_pred_mask/C...   \n25            hispidum  [/home/xandao/Documentos/RGB/512/w_pred_mask/C...   \n26     hydrocotyloides  [/home/xandao/Documentos/RGB/512/w_pred_mask/H...   \n27         lhotzkianum  [/home/xandao/Documentos/RGB/512/w_pred_mask/M...   \n28             macedoi  [/home/xandao/Documentos/RGB/512/w_pred_mask/H...   \n29       malacophyllum  [/home/xandao/Documentos/RGB/512/w_pred_mask/C...   \n30            martiana  [/home/xandao/Documentos/RGB/512/w_pred_mask/C...   \n31          mikanianum  [/home/xandao/Documentos/RGB/512/w_pred_mask/C...   \n32         miquelianum  [/home/xandao/Documentos/RGB/512/w_pred_mask/C...   \n33          mollicomum  [/home/xandao/Documentos/RGB/512/w_pred_mask/C...   \n34             mosenii  [/home/xandao/Documentos/RGB/512/w_pred_mask/M...   \n35              nitida  [/home/xandao/Documentos/RGB/512/w_pred_mask/H...   \n36            pereirae  [/home/xandao/Documentos/RGB/512/w_pred_mask/I...   \n37      pereskiaefolia  [/home/xandao/Documentos/RGB/512/w_pred_mask/H...   \n38       pereskiifolia  [/home/xandao/Documentos/RGB/512/w_pred_mask/M...   \n39  pseudoestrellensis  [/home/xandao/Documentos/RGB/512/w_pred_mask/I...   \n40           regnellii  [/home/xandao/Documentos/RGB/512/w_pred_mask/C...   \n41             reitzii  [/home/xandao/Documentos/RGB/512/w_pred_mask/F...   \n42             rhombea  [/home/xandao/Documentos/RGB/512/w_pred_mask/H...   \n43        rotundifolia  [/home/xandao/Documentos/RGB/512/w_pred_mask/H...   \n44           rupestris  [/home/xandao/Documentos/RGB/512/w_pred_mask/M...   \n45          solmsianum  [/home/xandao/Documentos/RGB/512/w_pred_mask/C...   \n46           subretusa  [/home/xandao/Documentos/RGB/512/w_pred_mask/M...   \n47         tetraphylla  [/home/xandao/Documentos/RGB/512/w_pred_mask/A...   \n48            trineura  [/home/xandao/Documentos/RGB/512/w_pred_mask/H...   \n49        trineuroides  [/home/xandao/Documentos/RGB/512/w_pred_mask/M...   \n50          umbellatum  [/home/xandao/Documentos/RGB/512/w_pred_mask/M...   \n51            urocarpa  [/home/xandao/Documentos/RGB/512/w_pred_mask/A...   \n52        viminifolium  [/home/xandao/Documentos/RGB/512/w_pred_mask/E...   \n53        xylosteoides  [/home/xandao/Documentos/RGB/512/w_pred_mask/C...   \n\n    count  \n0      33  \n1      18  \n2      69  \n3       6  \n4      35  \n5      11  \n6      10  \n7      25  \n8       9  \n9      26  \n10     26  \n11     14  \n12      9  \n13     73  \n14     24  \n15     20  \n16      9  \n17      6  \n18      6  \n19    114  \n20     50  \n21     55  \n22      6  \n23      6  \n24     13  \n25     52  \n26      6  \n27      5  \n28      5  \n29     18  \n30     30  \n31     40  \n32     75  \n33     17  \n34      8  \n35     11  \n36      5  \n37     14  \n38      5  \n39     13  \n40     22  \n41     12  \n42      7  \n43     21  \n44      5  \n45     45  \n46      5  \n47     74  \n48     10  \n49      6  \n50      5  \n51     63  \n52     10  \n53     97  ",
      "text/html": "<div>\n<style scoped>\n    .dataframe tbody tr th:only-of-type {\n        vertical-align: middle;\n    }\n\n    .dataframe tbody tr th {\n        vertical-align: top;\n    }\n\n    .dataframe thead th {\n        text-align: right;\n    }\n</style>\n<table border=\"1\" class=\"dataframe\">\n  <thead>\n    <tr style=\"text-align: right;\">\n      <th></th>\n      <th>species</th>\n      <th>paths</th>\n      <th>count</th>\n    </tr>\n  </thead>\n  <tbody>\n    <tr>\n      <th>0</th>\n      <td>aduncum</td>\n      <td>[/home/xandao/Documentos/RGB/512/w_pred_mask/A...</td>\n      <td>33</td>\n    </tr>\n    <tr>\n      <th>1</th>\n      <td>alata</td>\n      <td>[/home/xandao/Documentos/RGB/512/w_pred_mask/C...</td>\n      <td>18</td>\n    </tr>\n    <tr>\n      <th>2</th>\n      <td>amalago</td>\n      <td>[/home/xandao/Documentos/RGB/512/w_pred_mask/A...</td>\n      <td>69</td>\n    </tr>\n    <tr>\n      <th>3</th>\n      <td>amplum</td>\n      <td>[/home/xandao/Documentos/RGB/512/w_pred_mask/C...</td>\n      <td>6</td>\n    </tr>\n    <tr>\n      <th>4</th>\n      <td>arboreum</td>\n      <td>[/home/xandao/Documentos/RGB/512/w_pred_mask/C...</td>\n      <td>35</td>\n    </tr>\n    <tr>\n      <th>5</th>\n      <td>arifolia</td>\n      <td>[/home/xandao/Documentos/RGB/512/w_pred_mask/A...</td>\n      <td>11</td>\n    </tr>\n    <tr>\n      <th>6</th>\n      <td>barbarana</td>\n      <td>[/home/xandao/Documentos/RGB/512/w_pred_mask/H...</td>\n      <td>10</td>\n    </tr>\n    <tr>\n      <th>7</th>\n      <td>blanda</td>\n      <td>[/home/xandao/Documentos/RGB/512/w_pred_mask/A...</td>\n      <td>25</td>\n    </tr>\n    <tr>\n      <th>8</th>\n      <td>caldasianum</td>\n      <td>[/home/xandao/Documentos/RGB/512/w_pred_mask/M...</td>\n      <td>9</td>\n    </tr>\n    <tr>\n      <th>9</th>\n      <td>caldense</td>\n      <td>[/home/xandao/Documentos/RGB/512/w_pred_mask/C...</td>\n      <td>26</td>\n    </tr>\n    <tr>\n      <th>10</th>\n      <td>catharinae</td>\n      <td>[/home/xandao/Documentos/RGB/512/w_pred_mask/C...</td>\n      <td>26</td>\n    </tr>\n    <tr>\n      <th>11</th>\n      <td>cernuum</td>\n      <td>[/home/xandao/Documentos/RGB/512/w_pred_mask/C...</td>\n      <td>14</td>\n    </tr>\n    <tr>\n      <th>12</th>\n      <td>circinnata</td>\n      <td>[/home/xandao/Documentos/RGB/512/w_pred_mask/C...</td>\n      <td>9</td>\n    </tr>\n    <tr>\n      <th>13</th>\n      <td>corcovadensis</td>\n      <td>[/home/xandao/Documentos/RGB/512/w_pred_mask/C...</td>\n      <td>73</td>\n    </tr>\n    <tr>\n      <th>14</th>\n      <td>crassinervium</td>\n      <td>[/home/xandao/Documentos/RGB/512/w_pred_mask/A...</td>\n      <td>24</td>\n    </tr>\n    <tr>\n      <th>15</th>\n      <td>dilatatum</td>\n      <td>[/home/xandao/Documentos/RGB/512/w_pred_mask/C...</td>\n      <td>20</td>\n    </tr>\n    <tr>\n      <th>16</th>\n      <td>diospyrifolium</td>\n      <td>[/home/xandao/Documentos/RGB/512/w_pred_mask/C...</td>\n      <td>9</td>\n    </tr>\n    <tr>\n      <th>17</th>\n      <td>emarginella</td>\n      <td>[/home/xandao/Documentos/RGB/512/w_pred_mask/M...</td>\n      <td>6</td>\n    </tr>\n    <tr>\n      <th>18</th>\n      <td>galioides</td>\n      <td>[/home/xandao/Documentos/RGB/512/w_pred_mask/C...</td>\n      <td>6</td>\n    </tr>\n    <tr>\n      <th>19</th>\n      <td>gaudichaudianum</td>\n      <td>[/home/xandao/Documentos/RGB/512/w_pred_mask/A...</td>\n      <td>114</td>\n    </tr>\n    <tr>\n      <th>20</th>\n      <td>glabella</td>\n      <td>[/home/xandao/Documentos/RGB/512/w_pred_mask/C...</td>\n      <td>50</td>\n    </tr>\n    <tr>\n      <th>21</th>\n      <td>glabratum</td>\n      <td>[/home/xandao/Documentos/RGB/512/w_pred_mask/A...</td>\n      <td>55</td>\n    </tr>\n    <tr>\n      <th>22</th>\n      <td>hayneanum</td>\n      <td>[/home/xandao/Documentos/RGB/512/w_pred_mask/C...</td>\n      <td>6</td>\n    </tr>\n    <tr>\n      <th>23</th>\n      <td>hilariana</td>\n      <td>[/home/xandao/Documentos/RGB/512/w_pred_mask/M...</td>\n      <td>6</td>\n    </tr>\n    <tr>\n      <th>24</th>\n      <td>hispidula</td>\n      <td>[/home/xandao/Documentos/RGB/512/w_pred_mask/C...</td>\n      <td>13</td>\n    </tr>\n    <tr>\n      <th>25</th>\n      <td>hispidum</td>\n      <td>[/home/xandao/Documentos/RGB/512/w_pred_mask/C...</td>\n      <td>52</td>\n    </tr>\n    <tr>\n      <th>26</th>\n      <td>hydrocotyloides</td>\n      <td>[/home/xandao/Documentos/RGB/512/w_pred_mask/H...</td>\n      <td>6</td>\n    </tr>\n    <tr>\n      <th>27</th>\n      <td>lhotzkianum</td>\n      <td>[/home/xandao/Documentos/RGB/512/w_pred_mask/M...</td>\n      <td>5</td>\n    </tr>\n    <tr>\n      <th>28</th>\n      <td>macedoi</td>\n      <td>[/home/xandao/Documentos/RGB/512/w_pred_mask/H...</td>\n      <td>5</td>\n    </tr>\n    <tr>\n      <th>29</th>\n      <td>malacophyllum</td>\n      <td>[/home/xandao/Documentos/RGB/512/w_pred_mask/C...</td>\n      <td>18</td>\n    </tr>\n    <tr>\n      <th>30</th>\n      <td>martiana</td>\n      <td>[/home/xandao/Documentos/RGB/512/w_pred_mask/C...</td>\n      <td>30</td>\n    </tr>\n    <tr>\n      <th>31</th>\n      <td>mikanianum</td>\n      <td>[/home/xandao/Documentos/RGB/512/w_pred_mask/C...</td>\n      <td>40</td>\n    </tr>\n    <tr>\n      <th>32</th>\n      <td>miquelianum</td>\n      <td>[/home/xandao/Documentos/RGB/512/w_pred_mask/C...</td>\n      <td>75</td>\n    </tr>\n    <tr>\n      <th>33</th>\n      <td>mollicomum</td>\n      <td>[/home/xandao/Documentos/RGB/512/w_pred_mask/C...</td>\n      <td>17</td>\n    </tr>\n    <tr>\n      <th>34</th>\n      <td>mosenii</td>\n      <td>[/home/xandao/Documentos/RGB/512/w_pred_mask/M...</td>\n      <td>8</td>\n    </tr>\n    <tr>\n      <th>35</th>\n      <td>nitida</td>\n      <td>[/home/xandao/Documentos/RGB/512/w_pred_mask/H...</td>\n      <td>11</td>\n    </tr>\n    <tr>\n      <th>36</th>\n      <td>pereirae</td>\n      <td>[/home/xandao/Documentos/RGB/512/w_pred_mask/I...</td>\n      <td>5</td>\n    </tr>\n    <tr>\n      <th>37</th>\n      <td>pereskiaefolia</td>\n      <td>[/home/xandao/Documentos/RGB/512/w_pred_mask/H...</td>\n      <td>14</td>\n    </tr>\n    <tr>\n      <th>38</th>\n      <td>pereskiifolia</td>\n      <td>[/home/xandao/Documentos/RGB/512/w_pred_mask/M...</td>\n      <td>5</td>\n    </tr>\n    <tr>\n      <th>39</th>\n      <td>pseudoestrellensis</td>\n      <td>[/home/xandao/Documentos/RGB/512/w_pred_mask/I...</td>\n      <td>13</td>\n    </tr>\n    <tr>\n      <th>40</th>\n      <td>regnellii</td>\n      <td>[/home/xandao/Documentos/RGB/512/w_pred_mask/C...</td>\n      <td>22</td>\n    </tr>\n    <tr>\n      <th>41</th>\n      <td>reitzii</td>\n      <td>[/home/xandao/Documentos/RGB/512/w_pred_mask/F...</td>\n      <td>12</td>\n    </tr>\n    <tr>\n      <th>42</th>\n      <td>rhombea</td>\n      <td>[/home/xandao/Documentos/RGB/512/w_pred_mask/H...</td>\n      <td>7</td>\n    </tr>\n    <tr>\n      <th>43</th>\n      <td>rotundifolia</td>\n      <td>[/home/xandao/Documentos/RGB/512/w_pred_mask/H...</td>\n      <td>21</td>\n    </tr>\n    <tr>\n      <th>44</th>\n      <td>rupestris</td>\n      <td>[/home/xandao/Documentos/RGB/512/w_pred_mask/M...</td>\n      <td>5</td>\n    </tr>\n    <tr>\n      <th>45</th>\n      <td>solmsianum</td>\n      <td>[/home/xandao/Documentos/RGB/512/w_pred_mask/C...</td>\n      <td>45</td>\n    </tr>\n    <tr>\n      <th>46</th>\n      <td>subretusa</td>\n      <td>[/home/xandao/Documentos/RGB/512/w_pred_mask/M...</td>\n      <td>5</td>\n    </tr>\n    <tr>\n      <th>47</th>\n      <td>tetraphylla</td>\n      <td>[/home/xandao/Documentos/RGB/512/w_pred_mask/A...</td>\n      <td>74</td>\n    </tr>\n    <tr>\n      <th>48</th>\n      <td>trineura</td>\n      <td>[/home/xandao/Documentos/RGB/512/w_pred_mask/H...</td>\n      <td>10</td>\n    </tr>\n    <tr>\n      <th>49</th>\n      <td>trineuroides</td>\n      <td>[/home/xandao/Documentos/RGB/512/w_pred_mask/M...</td>\n      <td>6</td>\n    </tr>\n    <tr>\n      <th>50</th>\n      <td>umbellatum</td>\n      <td>[/home/xandao/Documentos/RGB/512/w_pred_mask/M...</td>\n      <td>5</td>\n    </tr>\n    <tr>\n      <th>51</th>\n      <td>urocarpa</td>\n      <td>[/home/xandao/Documentos/RGB/512/w_pred_mask/A...</td>\n      <td>63</td>\n    </tr>\n    <tr>\n      <th>52</th>\n      <td>viminifolium</td>\n      <td>[/home/xandao/Documentos/RGB/512/w_pred_mask/E...</td>\n      <td>10</td>\n    </tr>\n    <tr>\n      <th>53</th>\n      <td>xylosteoides</td>\n      <td>[/home/xandao/Documentos/RGB/512/w_pred_mask/C...</td>\n      <td>97</td>\n    </tr>\n  </tbody>\n</table>\n</div>"
     },
     "execution_count": 49,
     "metadata": {},
     "output_type": "execute_result"
    }
   ],
   "source": [
    "df = pd.DataFrame({\n",
    "    'species': list_species,\n",
    "    'paths': list_path,\n",
    "    'count': list_count_path\n",
    "})\n",
    "df"
   ],
   "metadata": {
    "collapsed": false
   }
  },
  {
   "cell_type": "code",
   "execution_count": 60,
   "outputs": [
    {
     "name": "stdout",
     "output_type": "stream",
     "text": [
      "('aduncum', ['/home/xandao/Documentos/RGB/512/w_pred_mask/ALCB002468.jpeg', '/home/xandao/Documentos/RGB/512/w_pred_mask/CEN00041534.jpeg', '/home/xandao/Documentos/RGB/512/w_pred_mask/CEN00041548.jpeg', '/home/xandao/Documentos/RGB/512/w_pred_mask/CEN00044966.jpeg', '/home/xandao/Documentos/RGB/512/w_pred_mask/CEN00044989.jpeg', '/home/xandao/Documentos/RGB/512/w_pred_mask/CEN00044991.jpeg', '/home/xandao/Documentos/RGB/512/w_pred_mask/CEN00045021.jpeg', '/home/xandao/Documentos/RGB/512/w_pred_mask/CEN00045026.jpeg', '/home/xandao/Documentos/RGB/512/w_pred_mask/CEN00045028.jpeg', '/home/xandao/Documentos/RGB/512/w_pred_mask/CEN00045030.jpeg', '/home/xandao/Documentos/RGB/512/w_pred_mask/CEN00047028.jpeg', '/home/xandao/Documentos/RGB/512/w_pred_mask/EVB000213.jpeg', '/home/xandao/Documentos/RGB/512/w_pred_mask/FURB38506.jpeg', '/home/xandao/Documentos/RGB/512/w_pred_mask/FURB38507.jpeg', '/home/xandao/Documentos/RGB/512/w_pred_mask/FURB38518.jpeg', '/home/xandao/Documentos/RGB/512/w_pred_mask/FURB38521.jpeg', '/home/xandao/Documentos/RGB/512/w_pred_mask/HUEM000009899.jpeg', '/home/xandao/Documentos/RGB/512/w_pred_mask/HUEM000009902.jpeg', '/home/xandao/Documentos/RGB/512/w_pred_mask/HUEM000009904.jpeg', '/home/xandao/Documentos/RGB/512/w_pred_mask/HUEM000009905.jpeg', '/home/xandao/Documentos/RGB/512/w_pred_mask/HUEM000009906.jpeg', '/home/xandao/Documentos/RGB/512/w_pred_mask/MBM067670.jpeg', '/home/xandao/Documentos/RGB/512/w_pred_mask/MBM082698.jpeg', '/home/xandao/Documentos/RGB/512/w_pred_mask/MBM171931.jpeg', '/home/xandao/Documentos/RGB/512/w_pred_mask/MBM195747.jpeg', '/home/xandao/Documentos/RGB/512/w_pred_mask/MBM257156.jpeg', '/home/xandao/Documentos/RGB/512/w_pred_mask/MBM267637.jpeg', '/home/xandao/Documentos/RGB/512/w_pred_mask/MBM372010.jpeg', '/home/xandao/Documentos/RGB/512/w_pred_mask/NY00555606_01.jpeg', '/home/xandao/Documentos/RGB/512/w_pred_mask/NY00555607_01.jpeg', '/home/xandao/Documentos/RGB/512/w_pred_mask/NY00555615_01.jpeg', '/home/xandao/Documentos/RGB/512/w_pred_mask/NY00555616_01.jpeg', '/home/xandao/Documentos/RGB/512/w_pred_mask/SPF00161690.jpeg'])\n"
     ]
    }
   ],
   "source": [
    "out='./'\n",
    "threshold='5'\n",
    "path_out = os.path.join(out, color, image_size, threshold)\n",
    "\n",
    "for i, species_and_paths in enumerate(zip(list_species, list_path), start=1):\n",
    "    species = species_and_paths[0]\n",
    "    list_p = species_and_paths[0]\n",
    "    path_final = os.path.join(path_out, 'f%d' % i)\n",
    "\n",
    "    if not os.path.exists(path_final):\n",
    "        os.makedirs(path_final)\n",
    "\n",
    "    for p in list_p:\n",
    "        shutil.copy(p, path_final)"
   ],
   "metadata": {
    "collapsed": false
   }
  },
  {
   "cell_type": "markdown",
   "source": [
    "## Close connection"
   ],
   "metadata": {
    "collapsed": false
   }
  },
  {
   "cell_type": "code",
   "execution_count": 8,
   "outputs": [],
   "source": [
    "session.close()\n",
    "engine.dispose()"
   ],
   "metadata": {
    "collapsed": false
   }
  }
 ],
 "metadata": {
  "kernelspec": {
   "display_name": "base",
   "language": "python",
   "name": "python3"
  },
  "language_info": {
   "codemirror_mode": {
    "name": "ipython",
    "version": 3
   },
   "file_extension": ".py",
   "mimetype": "text/x-python",
   "name": "python",
   "nbconvert_exporter": "python",
   "pygments_lexer": "ipython3",
   "version": "3.9.12"
  },
  "vscode": {
   "interpreter": {
    "hash": "53ce972a288a646521e393254486dd3d4e40ae124f0f9a66da52dff344d61cdc"
   }
  }
 },
 "nbformat": 4,
 "nbformat_minor": 1
}
