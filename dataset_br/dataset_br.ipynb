{
 "cells": [
  {
   "cell_type": "code",
   "execution_count": 18,
   "metadata": {},
   "outputs": [
    {
     "name": "stdout",
     "output_type": "stream",
     "text": [
      "The autoreload extension is already loaded. To reload it, use:\n",
      "  %reload_ext autoreload\n"
     ]
    }
   ],
   "source": [
    "from dataset_br.images_invalid import get_list_of_images_invalid\n",
    "%reload_ext autoreload\n",
    "%load_ext autoreload\n",
    "%autoreload 2\n",
    "\n",
    "import itertools\n",
    "import numpy as np\n",
    "import os\n",
    "import pandas as pd\n",
    "import sqlalchemy as sa\n",
    "import sys\n",
    "\n",
    "sys.path.append(os.path.dirname(os.path.dirname(os.path.abspath('main.ipynb'))))\n",
    "\n",
    "from tables import County, DataTrustedIdentifier, InfoImage\n",
    "from database import connect\n",
    "from sqlalchemy import and_, or_\n",
    "from sqlalchemy.orm import Session\n",
    "\n",
    "from unaccent import unaccent"
   ]
  },
  {
   "cell_type": "markdown",
   "source": [
    "## Database connection"
   ],
   "metadata": {
    "collapsed": false
   }
  },
  {
   "cell_type": "code",
   "execution_count": 10,
   "outputs": [
    {
     "name": "stdout",
     "output_type": "stream",
     "text": [
      "2023-03-20 00:49:36,843 INFO sqlalchemy.engine.Engine select pg_catalog.version()\n",
      "2023-03-20 00:49:36,844 INFO sqlalchemy.engine.Engine [raw sql] {}\n",
      "2023-03-20 00:49:36,845 INFO sqlalchemy.engine.Engine select current_schema()\n",
      "2023-03-20 00:49:36,845 INFO sqlalchemy.engine.Engine [raw sql] {}\n",
      "2023-03-20 00:49:36,846 INFO sqlalchemy.engine.Engine show standard_conforming_strings\n",
      "2023-03-20 00:49:36,846 INFO sqlalchemy.engine.Engine [raw sql] {}\n"
     ]
    }
   ],
   "source": [
    "session: Session\n",
    "engine, session = connect()\n",
    "engine.echo=False"
   ],
   "metadata": {
    "collapsed": false
   }
  },
  {
   "cell_type": "markdown",
   "source": [
    "## BR dataset"
   ],
   "metadata": {
    "collapsed": false
   }
  },
  {
   "cell_type": "code",
   "execution_count": 11,
   "outputs": [],
   "source": [
    "county = session.query(County).distinct().all()\n",
    "\n",
    "list_uf = [unaccent(sa.func.lower(c.uf)) for c in county]\n",
    "list_state = [unaccent(sa.func.lower(c.state)) for c in county]\n",
    "list_county = [unaccent(sa.func.lower(c.county)) for c in county]\n",
    "\n",
    "uf_unaccent_lower = unaccent(sa.func.lower(DataTrustedIdentifier.state_province)).in_(list_uf)\n",
    "state_unaccent_lower = unaccent(sa.func.lower(DataTrustedIdentifier.state_province)).in_(list_state)\n",
    "county_unaccent_lower = unaccent(sa.func.lower(DataTrustedIdentifier.county)).in_(list_county)"
   ],
   "metadata": {
    "collapsed": false
   }
  },
  {
   "cell_type": "code",
   "execution_count": 12,
   "outputs": [
    {
     "name": "stdout",
     "output_type": "stream",
     "text": [
      "count of records using only field state_province: 11914\n"
     ]
    }
   ],
   "source": [
    "columns = [DataTrustedIdentifier.specific_epithet, DataTrustedIdentifier.barcode]\n",
    "query_only_state = session.query(*columns)\\\n",
    "    .filter(and_(DataTrustedIdentifier.country_trusted =='Brasil',\n",
    "                DataTrustedIdentifier.specific_epithet.is_not(None),\n",
    "                 or_(uf_unaccent_lower, state_unaccent_lower)))\\\n",
    "    .distinct()\\\n",
    "    .all()\n",
    "\n",
    "print('count of records using only field state_province: %d' % len(query_only_state))"
   ],
   "metadata": {
    "collapsed": false
   }
  },
  {
   "cell_type": "code",
   "execution_count": 13,
   "outputs": [
    {
     "name": "stdout",
     "output_type": "stream",
     "text": [
      "count of records using only fields state_province and locality: 11927\n"
     ]
    }
   ],
   "source": [
    "query_lower_unaccent_like = session.query(sa.func.concat('%', unaccent(sa.func.lower(County.state)), '%')).distinct().all()\n",
    "list_state_like = [q[0] for q in query_lower_unaccent_like]\n",
    "locality_unaccent_lower = unaccent(sa.func.lower(DataTrustedIdentifier.locality)).like(sa.func.any_(list_state_like))\n",
    "\n",
    "query_has_state_in_locality = session.query(*columns)\\\n",
    "    .filter(and_(DataTrustedIdentifier.country_trusted=='Brasil',\n",
    "                 DataTrustedIdentifier.specific_epithet.is_not(None),\n",
    "                 or_(uf_unaccent_lower,\n",
    "                     state_unaccent_lower,\n",
    "                     locality_unaccent_lower)))\\\n",
    "    .distinct()\\\n",
    "    .all()\n",
    "\n",
    "print('count of records using only fields state_province and locality: %d' % len(query_has_state_in_locality))"
   ],
   "metadata": {
    "collapsed": false
   }
  },
  {
   "cell_type": "markdown",
   "source": [
    "## Get species with five more records (this steps was made to records with ten and twenty more records)"
   ],
   "metadata": {
    "collapsed": false
   }
  },
  {
   "cell_type": "code",
   "execution_count": 14,
   "outputs": [
    {
     "name": "stdout",
     "output_type": "stream",
     "text": [
      "count of species: 247\n"
     ]
    }
   ],
   "source": [
    "columns = [DataTrustedIdentifier.specific_epithet, sa.func.array_agg(DataTrustedIdentifier.seq)]\n",
    "\n",
    "species_with_five_more_records = session.query(*columns)\\\n",
    "    .filter(and_(DataTrustedIdentifier.country_trusted =='Brasil',\n",
    "                DataTrustedIdentifier.specific_epithet.is_not(None),\n",
    "               or_(uf_unaccent_lower, state_unaccent_lower)))\\\n",
    "    .distinct()\\\n",
    "    .group_by(DataTrustedIdentifier.specific_epithet)\\\n",
    "    .order_by(DataTrustedIdentifier.specific_epithet)\\\n",
    "    .having(sa.func.count(DataTrustedIdentifier.specific_epithet) >= 5)\\\n",
    "    .all()\n",
    "\n",
    "print('count of species: %d' % len(species_with_five_more_records))"
   ],
   "metadata": {
    "collapsed": false
   }
  },
  {
   "cell_type": "markdown",
   "source": [
    "## Get only one image. This steps was made to images grayscale and size 256 and 400"
   ],
   "metadata": {
    "collapsed": false
   }
  },
  {
   "cell_type": "code",
   "execution_count": 20,
   "outputs": [
    {
     "name": "stdout",
     "output_type": "stream",
     "text": [
      "count of species: 235\n"
     ]
    }
   ],
   "source": [
    "list_species = []\n",
    "list_path = []\n",
    "color = 'rgb'\n",
    "image_size='512'\n",
    "\n",
    "for i, q in enumerate(species_with_five_more_records):\n",
    "    species = q[0]\n",
    "    list_seq = q[1]\n",
    "    query = session.query(sa.func.array_agg(sa.distinct(InfoImage.path_image))) \\\n",
    "        .filter(and_(InfoImage.seq_id.in_(list_seq),\n",
    "                     InfoImage.image_size == image_size,\n",
    "                     InfoImage.color_mode == color)) \\\n",
    "        .group_by(InfoImage.seq_id) \\\n",
    "        .all()\n",
    "\n",
    "    l = list(itertools.chain(*query)) # \"remove of tuples\"\n",
    "\n",
    "    if len(l) >= 5:\n",
    "\n",
    "        # remove images duplicates\n",
    "        list_only_one_path = []\n",
    "        for barcode in l:\n",
    "            list_only_one_path.append(sorted(barcode)[0]) # sorted and catch first value of list\n",
    "\n",
    "        if len(np.unique(list_only_one_path)) >= 5:\n",
    "            list_species.append(species)\n",
    "            list_path.append(np.unique(list_only_one_path).tolist())\n",
    "\n",
    "print('count of species: %d' % len(list_species))"
   ],
   "metadata": {
    "collapsed": false
   }
  },
  {
   "cell_type": "markdown",
   "source": [
    "## List images invalid"
   ],
   "metadata": {
    "collapsed": false
   }
  },
  {
   "cell_type": "code",
   "execution_count": 19,
   "outputs": [
    {
     "data": {
      "text/plain": "            barcode        reason\n0       INPA0248526    horizontal\n1       INPA0248523    horizontal\n2       INPA0248528    horizontal\n3     NY01421575_01    horizontal\n4   HUFSJ001689_v00  not exsicate\n5   HUFSJ001133_v00  not exsicate\n6   HUFSJ002198_v00  not exsicate\n7   HUFSJ003255_v00  not exsicate\n8   HVASF000487_v01  not exsicate\n9    INPA0019084_nd         label\n10   INPA0022379_nd         label\n11   INPA0032742_nd         label\n12      INPA0023115        letter\n13      NL-U1484137        letter\n14      INPA0012286        letter\n15      INPA0146998    incomplete",
      "text/html": "<div>\n<style scoped>\n    .dataframe tbody tr th:only-of-type {\n        vertical-align: middle;\n    }\n\n    .dataframe tbody tr th {\n        vertical-align: top;\n    }\n\n    .dataframe thead th {\n        text-align: right;\n    }\n</style>\n<table border=\"1\" class=\"dataframe\">\n  <thead>\n    <tr style=\"text-align: right;\">\n      <th></th>\n      <th>barcode</th>\n      <th>reason</th>\n    </tr>\n  </thead>\n  <tbody>\n    <tr>\n      <th>0</th>\n      <td>INPA0248526</td>\n      <td>horizontal</td>\n    </tr>\n    <tr>\n      <th>1</th>\n      <td>INPA0248523</td>\n      <td>horizontal</td>\n    </tr>\n    <tr>\n      <th>2</th>\n      <td>INPA0248528</td>\n      <td>horizontal</td>\n    </tr>\n    <tr>\n      <th>3</th>\n      <td>NY01421575_01</td>\n      <td>horizontal</td>\n    </tr>\n    <tr>\n      <th>4</th>\n      <td>HUFSJ001689_v00</td>\n      <td>not exsicate</td>\n    </tr>\n    <tr>\n      <th>5</th>\n      <td>HUFSJ001133_v00</td>\n      <td>not exsicate</td>\n    </tr>\n    <tr>\n      <th>6</th>\n      <td>HUFSJ002198_v00</td>\n      <td>not exsicate</td>\n    </tr>\n    <tr>\n      <th>7</th>\n      <td>HUFSJ003255_v00</td>\n      <td>not exsicate</td>\n    </tr>\n    <tr>\n      <th>8</th>\n      <td>HVASF000487_v01</td>\n      <td>not exsicate</td>\n    </tr>\n    <tr>\n      <th>9</th>\n      <td>INPA0019084_nd</td>\n      <td>label</td>\n    </tr>\n    <tr>\n      <th>10</th>\n      <td>INPA0022379_nd</td>\n      <td>label</td>\n    </tr>\n    <tr>\n      <th>11</th>\n      <td>INPA0032742_nd</td>\n      <td>label</td>\n    </tr>\n    <tr>\n      <th>12</th>\n      <td>INPA0023115</td>\n      <td>letter</td>\n    </tr>\n    <tr>\n      <th>13</th>\n      <td>NL-U1484137</td>\n      <td>letter</td>\n    </tr>\n    <tr>\n      <th>14</th>\n      <td>INPA0012286</td>\n      <td>letter</td>\n    </tr>\n    <tr>\n      <th>15</th>\n      <td>INPA0146998</td>\n      <td>incomplete</td>\n    </tr>\n  </tbody>\n</table>\n</div>"
     },
     "execution_count": 19,
     "metadata": {},
     "output_type": "execute_result"
    }
   ],
   "source": [
    "list_images_invalid = get_list_of_images_invalid()\n",
    "pd.DataFrame(list_images_invalid)"
   ],
   "metadata": {
    "collapsed": false
   }
  },
  {
   "cell_type": "markdown",
   "source": [
    "## Remove path of images invalid"
   ],
   "metadata": {
    "collapsed": false
   }
  },
  {
   "cell_type": "code",
   "execution_count": 22,
   "outputs": [
    {
     "name": "stdout",
     "output_type": "stream",
     "text": [
      "specie: aleyreanum before: 54 after: 53\n",
      "diff: ['/home/xandao/Documentos/RGB/512/w_pred_mask/INPA0023115.jpeg']\n",
      "specie: arboreum before: 621 after: 620\n",
      "diff: ['/home/xandao/Documentos/RGB/512/w_pred_mask/INPA0248528.jpeg']\n",
      "specie: bartlingianum before: 146 after: 145\n",
      "diff: ['/home/xandao/Documentos/RGB/512/w_pred_mask/NY01421575_01.jpeg']\n",
      "specie: belterraense before: 14 after: 13\n",
      "diff: ['/home/xandao/Documentos/RGB/512/w_pred_mask/NL-U1484137.jpeg']\n",
      "specie: blanda before: 114 after: 113\n",
      "diff: ['/home/xandao/Documentos/RGB/512/w_pred_mask/HUFSJ001133_v00.jpeg']\n",
      "specie: callosum before: 60 after: 59\n",
      "diff: ['/home/xandao/Documentos/RGB/512/w_pred_mask/INPA0022379_nd.jpeg']\n",
      "specie: decora before: 39 after: 38\n",
      "diff: ['/home/xandao/Documentos/RGB/512/w_pred_mask/HUFSJ002198_v00.jpeg']\n",
      "specie: hispidum before: 332 after: 331\n",
      "diff: ['/home/xandao/Documentos/RGB/512/w_pred_mask/INPA0032742_nd.jpeg']\n",
      "specie: hostmannianum before: 146 after: 144\n",
      "diff: ['/home/xandao/Documentos/RGB/512/w_pred_mask/INPA0248526.jpeg', '/home/xandao/Documentos/RGB/512/w_pred_mask/INPA0248523.jpeg']\n",
      "specie: peltatum before: 55 after: 54\n",
      "diff: ['/home/xandao/Documentos/RGB/512/w_pred_mask/INPA0146998.jpeg']\n",
      "specie: piresii before: 38 after: 37\n",
      "diff: ['/home/xandao/Documentos/RGB/512/w_pred_mask/INPA0019084_nd.jpeg']\n",
      "specie: quadrifolia before: 13 after: 11\n",
      "diff: ['/home/xandao/Documentos/RGB/512/w_pred_mask/HUFSJ003255_v00.jpeg', '/home/xandao/Documentos/RGB/512/w_pred_mask/HUFSJ001689_v00.jpeg']\n",
      "specie: sincorana before: 48 after: 47\n",
      "diff: ['/home/xandao/Documentos/RGB/512/w_pred_mask/HVASF000487_v01.jpeg']\n",
      "specie: spruceana before: 15 after: 14\n",
      "diff: ['/home/xandao/Documentos/RGB/512/w_pred_mask/INPA0012286.jpeg']\n",
      "total of species species: %d \n"
     ]
    }
   ],
   "source": [
    "list_path_correct = []\n",
    "list_count_path = []\n",
    "sum = 0\n",
    "for i, p in enumerate(list_path):\n",
    "    matching = [path for path in p if not any(barcode in path for barcode in list_images_invalid['barcode'])]\n",
    "\n",
    "    if len(p) != len(matching):\n",
    "        print('specie: %s before: %d after: %d' % (list_species[i], len(p), len(matching)))\n",
    "        diff = list(set(p) ^ set(matching))\n",
    "        print('diff: %s' % str(diff))\n",
    "\n",
    "    list_path_correct.append(matching)\n",
    "    list_count_path.append(len(matching))"
   ],
   "metadata": {
    "collapsed": false
   }
  },
  {
   "cell_type": "code",
   "execution_count": 64,
   "outputs": [
    {
     "data": {
      "text/plain": "          species                                              paths  count\n0     abutiloides  [/home/xandao/Documentos/RGB/512/w_pred_mask/C...      8\n1         aduncum  [/home/xandao/Documentos/RGB/512/w_pred_mask/A...    377\n2         aequale  [/home/xandao/Documentos/RGB/512/w_pred_mask/C...     30\n3           alata  [/home/xandao/Documentos/RGB/512/w_pred_mask/C...     81\n4     alatabaccum  [/home/xandao/Documentos/RGB/512/w_pred_mask/I...     28\n..            ...                                                ...    ...\n230  viminifolium  [/home/xandao/Documentos/RGB/512/w_pred_mask/C...     29\n231      vitaceum  [/home/xandao/Documentos/RGB/512/w_pred_mask/I...     13\n232  wachenheimii  [/home/xandao/Documentos/RGB/512/w_pred_mask/N...      5\n233     warmingii  [/home/xandao/Documentos/RGB/512/w_pred_mask/M...      6\n234  xylosteoides  [/home/xandao/Documentos/RGB/512/w_pred_mask/C...    192\n\n[235 rows x 3 columns]",
      "text/html": "<div>\n<style scoped>\n    .dataframe tbody tr th:only-of-type {\n        vertical-align: middle;\n    }\n\n    .dataframe tbody tr th {\n        vertical-align: top;\n    }\n\n    .dataframe thead th {\n        text-align: right;\n    }\n</style>\n<table border=\"1\" class=\"dataframe\">\n  <thead>\n    <tr style=\"text-align: right;\">\n      <th></th>\n      <th>species</th>\n      <th>paths</th>\n      <th>count</th>\n    </tr>\n  </thead>\n  <tbody>\n    <tr>\n      <th>0</th>\n      <td>abutiloides</td>\n      <td>[/home/xandao/Documentos/RGB/512/w_pred_mask/C...</td>\n      <td>8</td>\n    </tr>\n    <tr>\n      <th>1</th>\n      <td>aduncum</td>\n      <td>[/home/xandao/Documentos/RGB/512/w_pred_mask/A...</td>\n      <td>377</td>\n    </tr>\n    <tr>\n      <th>2</th>\n      <td>aequale</td>\n      <td>[/home/xandao/Documentos/RGB/512/w_pred_mask/C...</td>\n      <td>30</td>\n    </tr>\n    <tr>\n      <th>3</th>\n      <td>alata</td>\n      <td>[/home/xandao/Documentos/RGB/512/w_pred_mask/C...</td>\n      <td>81</td>\n    </tr>\n    <tr>\n      <th>4</th>\n      <td>alatabaccum</td>\n      <td>[/home/xandao/Documentos/RGB/512/w_pred_mask/I...</td>\n      <td>28</td>\n    </tr>\n    <tr>\n      <th>...</th>\n      <td>...</td>\n      <td>...</td>\n      <td>...</td>\n    </tr>\n    <tr>\n      <th>230</th>\n      <td>viminifolium</td>\n      <td>[/home/xandao/Documentos/RGB/512/w_pred_mask/C...</td>\n      <td>29</td>\n    </tr>\n    <tr>\n      <th>231</th>\n      <td>vitaceum</td>\n      <td>[/home/xandao/Documentos/RGB/512/w_pred_mask/I...</td>\n      <td>13</td>\n    </tr>\n    <tr>\n      <th>232</th>\n      <td>wachenheimii</td>\n      <td>[/home/xandao/Documentos/RGB/512/w_pred_mask/N...</td>\n      <td>5</td>\n    </tr>\n    <tr>\n      <th>233</th>\n      <td>warmingii</td>\n      <td>[/home/xandao/Documentos/RGB/512/w_pred_mask/M...</td>\n      <td>6</td>\n    </tr>\n    <tr>\n      <th>234</th>\n      <td>xylosteoides</td>\n      <td>[/home/xandao/Documentos/RGB/512/w_pred_mask/C...</td>\n      <td>192</td>\n    </tr>\n  </tbody>\n</table>\n<p>235 rows × 3 columns</p>\n</div>"
     },
     "execution_count": 64,
     "metadata": {},
     "output_type": "execute_result"
    }
   ],
   "source": [
    "pd.DataFrame({\n",
    "    'species': list_species,\n",
    "    'paths': list_path,\n",
    "    'count': list_count_path\n",
    "})"
   ],
   "metadata": {
    "collapsed": false
   }
  },
  {
   "cell_type": "code",
   "execution_count": 23,
   "outputs": [
    {
     "name": "stdout",
     "output_type": "stream",
     "text": [
      "total of images: 10512\n"
     ]
    }
   ],
   "source": [
    "print('total of images: %d' % np.sum(list_count_path))"
   ],
   "metadata": {
    "collapsed": false
   }
  },
  {
   "cell_type": "markdown",
   "source": [
    "## Close connection"
   ],
   "metadata": {
    "collapsed": false
   }
  },
  {
   "cell_type": "code",
   "execution_count": null,
   "outputs": [],
   "source": [
    "session.close()\n",
    "engine.close()"
   ],
   "metadata": {
    "collapsed": false
   }
  }
 ],
 "metadata": {
  "kernelspec": {
   "display_name": "base",
   "language": "python",
   "name": "python3"
  },
  "language_info": {
   "codemirror_mode": {
    "name": "ipython",
    "version": 3
   },
   "file_extension": ".py",
   "mimetype": "text/x-python",
   "name": "python",
   "nbconvert_exporter": "python",
   "pygments_lexer": "ipython3",
   "version": "3.9.12"
  },
  "vscode": {
   "interpreter": {
    "hash": "53ce972a288a646521e393254486dd3d4e40ae124f0f9a66da52dff344d61cdc"
   }
  }
 },
 "nbformat": 4,
 "nbformat_minor": 1
}
