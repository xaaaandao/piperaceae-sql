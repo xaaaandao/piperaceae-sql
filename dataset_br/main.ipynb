{
 "cells": [
  {
   "cell_type": "code",
   "execution_count": 1,
   "metadata": {},
   "outputs": [
    {
     "name": "stdout",
     "output_type": "stream",
     "text": [
      "The autoreload extension is already loaded. To reload it, use:\n",
      "  %reload_ext autoreload\n"
     ]
    }
   ],
   "source": [
    "%reload_ext autoreload\n",
    "%load_ext autoreload\n",
    "%autoreload 2\n",
    "import os\n",
    "import sqlalchemy as sa\n",
    "import sys\n",
    "\n",
    "sys.path.append(os.path.dirname(os.path.dirname(os.path.abspath('main.ipynb'))))\n",
    "\n",
    "from tables import County, DataTrustedIdentifier, TrustedIdentifier, DataSP, InfoImage\n",
    "from database import connect, create_table_if_not_exists, table_is_empty, \\\n",
    "    insert_new_identifier_trusted, find_and_replace_broken_characters, \\\n",
    "    insert_new_data_trusted_identifier, update_country_trusted_based_original_field, has_brasil_in_country_trusted, update_country_trusted, get_all_identifiers_ilike\n",
    "from sqlalchemy.orm import Session\n",
    "\n",
    "from unaccent import unaccent"
   ]
  },
  {
   "cell_type": "markdown",
   "source": [
    "## database connection"
   ],
   "metadata": {
    "collapsed": false
   }
  },
  {
   "cell_type": "code",
   "execution_count": 2,
   "outputs": [
    {
     "name": "stdout",
     "output_type": "stream",
     "text": [
      "2023-03-17 23:38:48,026 INFO sqlalchemy.engine.Engine select pg_catalog.version()\n",
      "2023-03-17 23:38:48,027 INFO sqlalchemy.engine.Engine [raw sql] {}\n",
      "2023-03-17 23:38:48,028 INFO sqlalchemy.engine.Engine select current_schema()\n",
      "2023-03-17 23:38:48,029 INFO sqlalchemy.engine.Engine [raw sql] {}\n",
      "2023-03-17 23:38:48,030 INFO sqlalchemy.engine.Engine show standard_conforming_strings\n",
      "2023-03-17 23:38:48,030 INFO sqlalchemy.engine.Engine [raw sql] {}\n"
     ]
    }
   ],
   "source": [
    "session: Session\n",
    "engine, session = connect()\n",
    "engine.echo=False"
   ],
   "metadata": {
    "collapsed": false
   }
  },
  {
   "cell_type": "markdown",
   "source": [
    "## full name of identifier"
   ],
   "metadata": {
    "collapsed": false
   }
  },
  {
   "cell_type": "code",
   "execution_count": 3,
   "metadata": {},
   "outputs": [],
   "source": [
    "list_identifier_trusted = [\n",
    "    {'full_name': 'Aline Vieira de Melo Silva', 'searched_name': ['Silva']},\n",
    "    {'full_name': 'Carmen Lúcia Falcão Ichaso', 'searched_name': ['Ichaso']},\n",
    "    {'full_name': 'Daniele Monteiro Ferreira', 'searched_name': ['Monteiro']},\n",
    "    {'full_name': 'Daniel Ruschel', 'searched_name': ['Ruschel']},\n",
    "    {'full_name': 'Elsie Franklin Guimarães', 'searched_name': ['Guimar']},\n",
    "    {'full_name': 'Eric J Tepe', 'searched_name': ['Tepe']},\n",
    "    {'full_name': 'Erika Von Sohsten de Souza Medeiros', 'searched_name': ['Medeiros']},\n",
    "    {'full_name': 'George Azevedo de Queiroz', 'searched_name': ['Queiroz']},\n",
    "    {'full_name': 'Micheline Carvalho-Silva', 'searched_name': ['Carvalho']},\n",
    "    {'full_name': 'Ricardo de la Merced Callejas Posada', 'searched_name': ['Callejas']},\n",
    "    {'full_name': 'Truman George Yuncker', 'searched_name': ['Yuncker']},\n",
    "    {'full_name': 'William Trelease', 'searched_name': ['Trelease']}\n",
    "]\n",
    "\n",
    "def text_bold(string):\n",
    "    return '\\033[1m' + string + '\\033[0m'"
   ]
  },
  {
   "cell_type": "markdown",
   "metadata": {
    "collapsed": false
   },
   "source": [
    "## identificadores confiaveis\n",
    "### tem que ser distinct de value_founded, por causa das identificacoes com mais de uma pessoa"
   ]
  },
  {
   "cell_type": "code",
   "execution_count": 4,
   "metadata": {},
   "outputs": [
    {
     "name": "stdout",
     "output_type": "stream",
     "text": [
      "count identifiers trusted: \u001B[1m187\u001B[0m\n"
     ]
    }
   ],
   "source": [
    "identifiers_trusted = session.query(TrustedIdentifier.value_founded)\\\n",
    "    .filter(TrustedIdentifier.trusted)\\\n",
    "    .distinct()\n",
    "\n",
    "print('count identifiers trusted: %s' % text_bold(str(identifiers_trusted.count())))\n",
    "\n",
    "create_table_if_not_exists(engine, TrustedIdentifier)\n",
    "\n",
    "if table_is_empty(session, TrustedIdentifier):\n",
    "    for identifier in list_identifier_trusted:\n",
    "        for trusted_identifier in identifier['searched_name']:\n",
    "            query = get_all_identifiers_ilike(trusted_identifier, session)\n",
    "            insert_new_identifier_trusted(identifier, query, trusted_identifier, session)\n",
    "\n",
    "list_identifier_trusted = [q[0] for q in identifiers_trusted]"
   ]
  },
  {
   "cell_type": "code",
   "execution_count": 5,
   "metadata": {},
   "outputs": [
    {
     "name": "stdout",
     "output_type": "stream",
     "text": [
      "count of records with variations in the name of the identifiers: \u001B[1m13182\u001B[0m\n",
      "create table: \u001B[1minfo_image\u001B[0m\n",
      "count of records in table data_trusted_identifier: \u001B[1m13182\u001B[0m\n"
     ]
    }
   ],
   "source": [
    "query_diff_identifier = session.query(DataSP)\\\n",
    "        .filter(DataSP.identified_by.in_(list_identifier_trusted))\n",
    "\n",
    "print('count of records with variations in the name of the identifiers: %s' % text_bold(str(query_diff_identifier.count())))\n",
    "\n",
    "create_table_if_not_exists(engine, InfoImage)\n",
    "create_table_if_not_exists(engine, DataTrustedIdentifier)\n",
    "\n",
    "if table_is_empty(session, DataTrustedIdentifier):\n",
    "    insert_new_data_trusted_identifier(session, query_diff_identifier)\n",
    "\n",
    "count_data_trusted_identifier = session.query(DataTrustedIdentifier)\\\n",
    "    .count()\n",
    "print('count of records in table data_trusted_identifier: %s' % text_bold(str(count_data_trusted_identifier)))"
   ]
  },
  {
   "cell_type": "markdown",
   "metadata": {
    "collapsed": false
   },
   "source": [
    "## replace unenconded caracters"
   ]
  },
  {
   "cell_type": "code",
   "execution_count": 6,
   "metadata": {
    "collapsed": false
   },
   "outputs": [],
   "source": [
    "list_special_characters = [{'find': 'Ã¡', 'replace': 'á'},\n",
    "                           {'find': 'Ãº', 'replace': 'ú'},\n",
    "                           {'find': 'Ã', 'replace': 'í'},\n",
    "                           {'find': 'Ã³', 'replace': 'ó'},\n",
    "                           {'find': 'Ã±', 'replace': 'ñ'},\n",
    "                           {'find': 'Ã©', 'replace': 'é'}]\n",
    "\n",
    "for attribute in [DataTrustedIdentifier.state_province, DataTrustedIdentifier.county]:\n",
    "    for special_character in list_special_characters:\n",
    "        find_and_replace_broken_characters(attribute, session, special_character)"
   ]
  },
  {
   "cell_type": "markdown",
   "metadata": {
    "collapsed": false
   },
   "source": [
    "## replace varations of word Brazil"
   ]
  },
  {
   "cell_type": "code",
   "execution_count": 7,
   "metadata": {
    "collapsed": false
   },
   "outputs": [
    {
     "name": "stdout",
     "output_type": "stream",
     "text": [
      "quantidade de registros encontrados com as variacoes dos nome dos identificadores + \u001B[1mvariacoes de Brasil\u001B[0m: 11206\n",
      "\u001B[1mcount of records with Brazil in column county_trusted\u001B[0m: 11206\n"
     ]
    }
   ],
   "source": [
    "list_diff_br = ['Brasil', 'BRASIL', 'Brasil/Bolivia', 'Brasilia', 'brazil', 'Brazil', 'BRazil', 'BRAZIL', '[Brésil]', 'Brésil']\n",
    "\n",
    "if has_brasil_in_country_trusted(session):\n",
    "    records_with_diff_brasil = session.query(DataTrustedIdentifier)\\\n",
    "        .filter(DataTrustedIdentifier.country.in_(list_diff_br))\\\n",
    "        .all()\n",
    "    print('quantidade de registros encontrados com as variacoes dos nome dos identificadores + %s: %d' % (text_bold('variacoes de Brasil'), len(records_with_diff_brasil)))\n",
    "    update_country_trusted_based_original_field(list_diff_br, session)\n",
    "\n",
    "\n",
    "records_with_brasil_in_country_trusted = session.query(DataTrustedIdentifier)\\\n",
    "        .filter(DataTrustedIdentifier.country_trusted == 'Brasil')\\\n",
    "        .distinct()\\\n",
    "        .all()\n",
    "print('%s: %d' % (text_bold('count of records with Brazil in column county_trusted'), len(records_with_brasil_in_country_trusted)))"
   ]
  },
  {
   "cell_type": "markdown",
   "metadata": {
    "collapsed": false
   },
   "source": [
    "## insert BR in column country_trusted"
   ]
  },
  {
   "cell_type": "code",
   "execution_count": 9,
   "metadata": {
    "collapsed": false
   },
   "outputs": [
    {
     "name": "stderr",
     "output_type": "stream",
     "text": [
      "/home/xandao/Documentos/piperaceae-sql/database.py:185: SAWarning: Class unaccent will not make use of SQL compilation caching as it does not set the 'inherit_cache' attribute to ``True``.  This can have significant performance implications including some performance degradations in comparison to prior SQLAlchemy versions.  Set this attribute to True if this object can make use of the cache key generated by the superclass.  Alternatively, this attribute may be set to False which will disable this warning. (Background on this error at: https://sqlalche.me/e/20/cprf)\n",
      "  session.query(DataTrustedIdentifier)\\\n"
     ]
    }
   ],
   "source": [
    "county = session.query(County).distinct().all()\n",
    "\n",
    "list_uf = [unaccent(sa.func.lower(c.uf)) for c in county]\n",
    "list_state = [unaccent(sa.func.lower(c.state)) for c in county]\n",
    "list_county = [unaccent(sa.func.lower(c.county)) for c in county]\n",
    "\n",
    "update_country_trusted(list_county, list_state, list_uf, session)"
   ]
  },
  {
   "cell_type": "markdown",
   "source": [
    "## close connection"
   ],
   "metadata": {
    "collapsed": false
   }
  },
  {
   "cell_type": "code",
   "execution_count": 8,
   "outputs": [],
   "source": [
    "session.close()\n",
    "engine.dispose()"
   ],
   "metadata": {
    "collapsed": false
   }
  }
 ],
 "metadata": {
  "kernelspec": {
   "display_name": "base",
   "language": "python",
   "name": "python3"
  },
  "language_info": {
   "codemirror_mode": {
    "name": "ipython",
    "version": 3
   },
   "file_extension": ".py",
   "mimetype": "text/x-python",
   "name": "python",
   "nbconvert_exporter": "python",
   "pygments_lexer": "ipython3",
   "version": "3.9.12"
  },
  "vscode": {
   "interpreter": {
    "hash": "53ce972a288a646521e393254486dd3d4e40ae124f0f9a66da52dff344d61cdc"
   }
  }
 },
 "nbformat": 4,
 "nbformat_minor": 1
}
