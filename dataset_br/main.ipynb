{
 "cells": [
  {
   "cell_type": "code",
   "execution_count": 1,
   "metadata": {},
   "outputs": [
    {
     "name": "stdout",
     "output_type": "stream",
     "text": [
      "The autoreload extension is already loaded. To reload it, use:\n",
      "  %reload_ext autoreload\n"
     ]
    }
   ],
   "source": [
    "%reload_ext autoreload\n",
    "%load_ext autoreload\n",
    "%autoreload 2\n",
    "import os\n",
    "import pandas as pd\n",
    "import sqlalchemy as sa\n",
    "import sys\n",
    "\n",
    "sys.path.append(os.path.dirname(os.path.dirname(os.path.abspath('main.ipynb'))))\n",
    "\n",
    "from tables import County, DataTrustedIdentifier, TrustedIdentifier, DataSP, InfoImage, create_data_trusted_identifier\n",
    "from database import connect, create_table_if_not_exists, table_is_empty, \\\n",
    "    insert_new_identifier_trusted, find_and_replace_broken_characters, \\\n",
    "    insert_new_data_trusted_identifier, update_country_trusted_based_original_field, has_brasil_in_country_trusted, \\\n",
    "    update_country_trusted, get_all_identifiers_ilike, execute_query\n",
    "\n",
    "from unaccent import unaccent"
   ]
  },
  {
   "cell_type": "markdown",
   "source": [
    "## database connection"
   ],
   "metadata": {
    "collapsed": false
   }
  },
  {
   "cell_type": "code",
   "execution_count": 2,
   "outputs": [
    {
     "name": "stdout",
     "output_type": "stream",
     "text": [
      "2023-03-19 23:37:04,241 INFO sqlalchemy.engine.Engine select pg_catalog.version()\n",
      "2023-03-19 23:37:04,242 INFO sqlalchemy.engine.Engine [raw sql] {}\n",
      "2023-03-19 23:37:04,243 INFO sqlalchemy.engine.Engine select current_schema()\n",
      "2023-03-19 23:37:04,243 INFO sqlalchemy.engine.Engine [raw sql] {}\n",
      "2023-03-19 23:37:04,244 INFO sqlalchemy.engine.Engine show standard_conforming_strings\n",
      "2023-03-19 23:37:04,245 INFO sqlalchemy.engine.Engine [raw sql] {}\n"
     ]
    }
   ],
   "source": [
    "engine, session = connect()\n",
    "engine.echo=False"
   ],
   "metadata": {
    "collapsed": false
   }
  },
  {
   "cell_type": "markdown",
   "source": [
    "## list with full name of identifier"
   ],
   "metadata": {
    "collapsed": false
   }
  },
  {
   "cell_type": "code",
   "execution_count": 3,
   "metadata": {},
   "outputs": [
    {
     "data": {
      "text/plain": "                                    full_name searched_name\n0                  Aline Vieira de Melo Silva         Silva\n1                  Carmen Lúcia Falcão Ichaso        Ichaso\n2                   Daniele Monteiro Ferreira      Monteiro\n3                              Daniel Ruschel       Ruschel\n4                    Elsie Franklin Guimarães        Guimar\n5                                 Eric J Tepe          Tepe\n6   Erika Erika Von Sohsten de Souza Medeiros      Medeiros\n7                   George Azevedo de Queiroz       Queiroz\n8                    Micheline Carvalho-Silva      Carvalho\n9        Ricardo de la Merced Callejas Posada      Callejas\n10                      Truman George Yuncker       Yuncker\n11                           William Trelease      Trelease",
      "text/html": "<div>\n<style scoped>\n    .dataframe tbody tr th:only-of-type {\n        vertical-align: middle;\n    }\n\n    .dataframe tbody tr th {\n        vertical-align: top;\n    }\n\n    .dataframe thead th {\n        text-align: right;\n    }\n</style>\n<table border=\"1\" class=\"dataframe\">\n  <thead>\n    <tr style=\"text-align: right;\">\n      <th></th>\n      <th>full_name</th>\n      <th>searched_name</th>\n    </tr>\n  </thead>\n  <tbody>\n    <tr>\n      <th>0</th>\n      <td>Aline Vieira de Melo Silva</td>\n      <td>Silva</td>\n    </tr>\n    <tr>\n      <th>1</th>\n      <td>Carmen Lúcia Falcão Ichaso</td>\n      <td>Ichaso</td>\n    </tr>\n    <tr>\n      <th>2</th>\n      <td>Daniele Monteiro Ferreira</td>\n      <td>Monteiro</td>\n    </tr>\n    <tr>\n      <th>3</th>\n      <td>Daniel Ruschel</td>\n      <td>Ruschel</td>\n    </tr>\n    <tr>\n      <th>4</th>\n      <td>Elsie Franklin Guimarães</td>\n      <td>Guimar</td>\n    </tr>\n    <tr>\n      <th>5</th>\n      <td>Eric J Tepe</td>\n      <td>Tepe</td>\n    </tr>\n    <tr>\n      <th>6</th>\n      <td>Erika Erika Von Sohsten de Souza Medeiros</td>\n      <td>Medeiros</td>\n    </tr>\n    <tr>\n      <th>7</th>\n      <td>George Azevedo de Queiroz</td>\n      <td>Queiroz</td>\n    </tr>\n    <tr>\n      <th>8</th>\n      <td>Micheline Carvalho-Silva</td>\n      <td>Carvalho</td>\n    </tr>\n    <tr>\n      <th>9</th>\n      <td>Ricardo de la Merced Callejas Posada</td>\n      <td>Callejas</td>\n    </tr>\n    <tr>\n      <th>10</th>\n      <td>Truman George Yuncker</td>\n      <td>Yuncker</td>\n    </tr>\n    <tr>\n      <th>11</th>\n      <td>William Trelease</td>\n      <td>Trelease</td>\n    </tr>\n  </tbody>\n</table>\n</div>"
     },
     "execution_count": 3,
     "metadata": {},
     "output_type": "execute_result"
    }
   ],
   "source": [
    "list_identifier_trusted = {\n",
    "    'full_name': ['Aline Vieira de Melo Silva', 'Carmen Lúcia Falcão Ichaso', 'Daniele Monteiro Ferreira', 'Daniel Ruschel', 'Elsie Franklin Guimarães', 'Eric J Tepe', 'Erika Erika Von Sohsten de Souza Medeiros', 'George Azevedo de Queiroz', 'Micheline Carvalho-Silva', 'Ricardo de la Merced Callejas Posada', 'Truman George Yuncker', 'William Trelease'],\n",
    "    'searched_name': ['Silva', 'Ichaso', 'Monteiro', 'Ruschel', 'Guimar', 'Tepe', 'Medeiros', 'Queiroz', 'Carvalho', 'Callejas', 'Yuncker', 'Trelease']\n",
    "}\n",
    "\n",
    "pd.DataFrame(list_identifier_trusted)"
   ]
  },
  {
   "cell_type": "markdown",
   "metadata": {
    "collapsed": false
   },
   "source": [
    "## trusted identifiers"
   ]
  },
  {
   "cell_type": "code",
   "execution_count": 4,
   "outputs": [],
   "source": [
    "create_table_if_not_exists(engine, TrustedIdentifier)\n",
    "\n",
    "count_of_records_trusted_identifier = session.query(TrustedIdentifier) \\\n",
    "                                        .count()\n",
    "\n",
    "if count_of_records_trusted_identifier == 0:\n",
    "    list_full_name = list_identifier_trusted['full_name']\n",
    "    list_searched_name = list_identifier_trusted['searched_name']\n",
    "    for item in zip(list_full_name, list_searched_name):\n",
    "        full_name_identifier = item[0]\n",
    "        variation_of_name_identfier = item[1]\n",
    "\n",
    "        query = session.query(DataSP.identified_by) \\\n",
    "            .filter(DataSP.identified_by.ilike('%{}%'.format(variation_of_name_identfier))) \\\n",
    "            .distinct(DataSP.identified_by) \\\n",
    "            .all()\n",
    "\n",
    "        for q in query:\n",
    "            print('full name identifier: %s variation founded: %s' % (full_name_identifier, q[0]))\n",
    "            new_identifier_trusted = TrustedIdentifier(name=full_name_identifier, searched_name=variation_of_name_identfier,\n",
    "                                                       value_founded=q[0], trusted=False)\n",
    "\n",
    "            session.add(new_identifier_trusted)"
   ],
   "metadata": {
    "collapsed": false
   }
  },
  {
   "cell_type": "code",
   "execution_count": 7,
   "outputs": [
    {
     "name": "stdout",
     "output_type": "stream",
     "text": [
      "count of varations founded of identifiers name marked trusted: 187\n"
     ]
    }
   ],
   "source": [
    "count_variations_identifier_name_marked_trusted = session.query(TrustedIdentifier.value_founded) \\\n",
    "    .filter(TrustedIdentifier.trusted) \\\n",
    "    .distinct()\\\n",
    "    .count()\n",
    "\n",
    "print('count of varations founded of identifiers name marked trusted: %d' % count_variations_identifier_name_marked_trusted)"
   ],
   "metadata": {
    "collapsed": false
   }
  },
  {
   "cell_type": "markdown",
   "source": [
    "## get variations of identfiers trusted"
   ],
   "metadata": {
    "collapsed": false
   }
  },
  {
   "cell_type": "code",
   "execution_count": 8,
   "outputs": [],
   "source": [
    "query = session.query(TrustedIdentifier.value_founded) \\\n",
    "    .filter(TrustedIdentifier.trusted) \\\n",
    "    .distinct()\\\n",
    "    .all()\n",
    "\n",
    "list_variations_of_identifiers_trusted = [q[0] for q in query]"
   ],
   "metadata": {
    "collapsed": false
   }
  },
  {
   "cell_type": "code",
   "execution_count": 12,
   "outputs": [
    {
     "name": "stdout",
     "output_type": "stream",
     "text": [
      "count of records founded with variations identifier name: 13182\n"
     ]
    }
   ],
   "source": [
    "count_of_records_with_variations_identifier_name = session.query(DataSP) \\\n",
    "    .filter(DataSP.identified_by.in_(list_variations_of_identifiers_trusted))\\\n",
    "    .count()\n",
    "\n",
    "print('count of records founded with variations of identifier name: %d' % count_of_records_with_variations_identifier_name)"
   ],
   "metadata": {
    "collapsed": false
   }
  },
  {
   "cell_type": "code",
   "execution_count": 11,
   "metadata": {},
   "outputs": [],
   "source": [
    "create_table_if_not_exists(engine, InfoImage)\n",
    "create_table_if_not_exists(engine, DataTrustedIdentifier)"
   ]
  },
  {
   "cell_type": "code",
   "execution_count": 13,
   "outputs": [
    {
     "name": "stdout",
     "output_type": "stream",
     "text": [
      "count of records in table data_trusted_identifier: 13182\n"
     ]
    }
   ],
   "source": [
    "if table_is_empty(session, DataTrustedIdentifier):\n",
    "    query = session.query(DataSP) \\\n",
    "        .filter(DataSP.identified_by.in_(list_variations_of_identifiers_trusted)) \\\n",
    "        .all()\n",
    "    for q in query:\n",
    "        new_data_of_identifier_trusted = create_data_trusted_identifier(q)\n",
    "        session.add(new_data_of_identifier_trusted)\n",
    "\n",
    "count_data_from_trusted_identifers = session.query(DataTrustedIdentifier).count()\n",
    "print('count of records in table data_trusted_identifier: %d' % count_data_from_trusted_identifers)"
   ],
   "metadata": {
    "collapsed": false
   }
  },
  {
   "cell_type": "markdown",
   "metadata": {
    "collapsed": false
   },
   "source": [
    "## replace unenconded character"
   ]
  },
  {
   "cell_type": "code",
   "execution_count": 14,
   "outputs": [
    {
     "data": {
      "text/plain": "  find replace\n0   Ã¡       á\n1   Ãº       ú\n2    Ã       í\n3   Ã³       ó\n4   Ã±       ñ\n5   Ã©       é",
      "text/html": "<div>\n<style scoped>\n    .dataframe tbody tr th:only-of-type {\n        vertical-align: middle;\n    }\n\n    .dataframe tbody tr th {\n        vertical-align: top;\n    }\n\n    .dataframe thead th {\n        text-align: right;\n    }\n</style>\n<table border=\"1\" class=\"dataframe\">\n  <thead>\n    <tr style=\"text-align: right;\">\n      <th></th>\n      <th>find</th>\n      <th>replace</th>\n    </tr>\n  </thead>\n  <tbody>\n    <tr>\n      <th>0</th>\n      <td>Ã¡</td>\n      <td>á</td>\n    </tr>\n    <tr>\n      <th>1</th>\n      <td>Ãº</td>\n      <td>ú</td>\n    </tr>\n    <tr>\n      <th>2</th>\n      <td>Ã</td>\n      <td>í</td>\n    </tr>\n    <tr>\n      <th>3</th>\n      <td>Ã³</td>\n      <td>ó</td>\n    </tr>\n    <tr>\n      <th>4</th>\n      <td>Ã±</td>\n      <td>ñ</td>\n    </tr>\n    <tr>\n      <th>5</th>\n      <td>Ã©</td>\n      <td>é</td>\n    </tr>\n  </tbody>\n</table>\n</div>"
     },
     "execution_count": 14,
     "metadata": {},
     "output_type": "execute_result"
    }
   ],
   "source": [
    "list_unenconded_characters = {\n",
    "    'error': ['Ã¡', 'Ãº', 'Ã', 'Ã³', 'Ã±', 'Ã©'],\n",
    "    'correct': ['á', 'ú', 'í', 'ó', 'ñ', 'é']\n",
    "}\n",
    "\n",
    "pd.DataFrame(list_unenconded_characters)"
   ],
   "metadata": {
    "collapsed": false
   }
  },
  {
   "cell_type": "code",
   "execution_count": 6,
   "metadata": {
    "collapsed": false
   },
   "outputs": [],
   "source": [
    "for column in [DataTrustedIdentifier.state_province, DataTrustedIdentifier.county]:\n",
    "    list_character_error = list_unenconded_characters['error']\n",
    "    list_character_correct = list_unenconded_characters['correct']\n",
    "    for special_character in zip(list_character_error, list_character_correct):\n",
    "        value = sa.func.replace(column, special_character['find'], special_character['replace'])\n",
    "        session.query(DataTrustedIdentifier)\\\n",
    "            .update(values={column: value}, synchronize_session=False)"
   ]
  },
  {
   "cell_type": "markdown",
   "metadata": {
    "collapsed": false
   },
   "source": [
    "## replace variations of word Brazil"
   ]
  },
  {
   "cell_type": "code",
   "execution_count": 15,
   "metadata": {
    "collapsed": false
   },
   "outputs": [
    {
     "name": "stdout",
     "output_type": "stream",
     "text": [
      "count of Brasil in country trusted: 12144\n"
     ]
    }
   ],
   "source": [
    "count_of_brazil_in_country_trusted = session.query(DataTrustedIdentifier) \\\n",
    "    .filter(DataTrustedIdentifier.country_trusted == 'Brasil') \\\n",
    "    .count()\n",
    "\n",
    "print('count of Brasil in country trusted: %d' % count_of_brazil_in_country_trusted)"
   ]
  },
  {
   "cell_type": "code",
   "execution_count": 16,
   "outputs": [],
   "source": [
    "list_variations_br = ['Brasil', 'BRASIL', 'Brasil/Bolivia', 'Brasilia', 'brazil', 'Brazil', 'BRazil', 'BRAZIL',\n",
    "                      '[Brésil]',\n",
    "                      'Brésil']\n",
    "\n",
    "if count_of_brazil_in_country_trusted == 0:\n",
    "    records_with_variations_brasil = session.query(DataTrustedIdentifier) \\\n",
    "        .filter(DataTrustedIdentifier.country.in_(list_variations_br)) \\\n",
    "        .all()\n",
    "\n",
    "    print('count of records with variations of Brazil: %d' % len(records_with_variations_brasil))\n",
    "\n",
    "    session.query(DataTrustedIdentifier) \\\n",
    "        .filter(DataTrustedIdentifier.country.in_(list_variations_br)) \\\n",
    "        .update({'country_trusted': 'Brasil'}, synchronize_session=False)"
   ],
   "metadata": {
    "collapsed": false
   }
  },
  {
   "cell_type": "markdown",
   "metadata": {
    "collapsed": false
   },
   "source": [
    "## insert BR in column country_trusted"
   ]
  },
  {
   "cell_type": "code",
   "execution_count": 9,
   "metadata": {
    "collapsed": false
   },
   "outputs": [
    {
     "name": "stderr",
     "output_type": "stream",
     "text": [
      "/home/xandao/Documentos/piperaceae-sql/database.py:185: SAWarning: Class unaccent will not make use of SQL compilation caching as it does not set the 'inherit_cache' attribute to ``True``.  This can have significant performance implications including some performance degradations in comparison to prior SQLAlchemy versions.  Set this attribute to True if this object can make use of the cache key generated by the superclass.  Alternatively, this attribute may be set to False which will disable this warning. (Background on this error at: https://sqlalche.me/e/20/cprf)\n",
      "  session.query(DataTrustedIdentifier)\\\n"
     ]
    }
   ],
   "source": [
    "county = session.query(County).distinct().all()\n",
    "\n",
    "list_uf = [unaccent(sa.func.lower(c.uf)) for c in county]\n",
    "list_state = [unaccent(sa.func.lower(c.state)) for c in county]\n",
    "list_county = [unaccent(sa.func.lower(c.county)) for c in county]\n",
    "\n",
    "uf_unaccent_lower = unaccent(sa.func.lower(DataTrustedIdentifier.state_province)).in_(list_uf)\n",
    "state_unaccent_lower = unaccent(sa.func.lower(DataTrustedIdentifier.state_province)).in_(list_state)\n",
    "county_unaccent_lower = unaccent(sa.func.lower(DataTrustedIdentifier.county)).in_(list_county)\n",
    "\n",
    "session.query(DataTrustedIdentifier) \\\n",
    "    .filter(sa.and_(DataTrustedIdentifier.country_trusted.is_(None),\n",
    "                 sa.or_(uf_unaccent_lower, state_unaccent_lower),\n",
    "                 county_unaccent_lower)) \\\n",
    "    .update({'country_trusted': 'Brasil'}, synchronize_session=False)"
   ]
  },
  {
   "cell_type": "markdown",
   "source": [
    "## close connection"
   ],
   "metadata": {
    "collapsed": false
   }
  },
  {
   "cell_type": "code",
   "execution_count": 8,
   "outputs": [],
   "source": [
    "session.close()\n",
    "engine.dispose()"
   ],
   "metadata": {
    "collapsed": false
   }
  }
 ],
 "metadata": {
  "kernelspec": {
   "display_name": "base",
   "language": "python",
   "name": "python3"
  },
  "language_info": {
   "codemirror_mode": {
    "name": "ipython",
    "version": 3
   },
   "file_extension": ".py",
   "mimetype": "text/x-python",
   "name": "python",
   "nbconvert_exporter": "python",
   "pygments_lexer": "ipython3",
   "version": "3.9.12"
  },
  "vscode": {
   "interpreter": {
    "hash": "53ce972a288a646521e393254486dd3d4e40ae124f0f9a66da52dff344d61cdc"
   }
  }
 },
 "nbformat": 4,
 "nbformat_minor": 1
}
