{
 "cells": [
  {
   "cell_type": "code",
   "execution_count": 1,
   "metadata": {},
   "outputs": [],
   "source": [
    "import os\n",
    "import shutil\n",
    "\n",
    "import pandas as pd\n",
    "import pathlib\n",
    "import sqlalchemy as sa\n",
    "\n",
    "from tables import County, DataTrustedIdentifier, TrustedIdentifier\n",
    "from database import connect, create_table_if_not_exists, table_is_empty, \\\n",
    "    insert_new_identifier_trusted, find_and_replace_broken_characters, get_all_records_of_trusted_identifier, \\\n",
    "    insert_new_data_trusted_identifier, get_all_identifiers_ilike, get_all_records_with_diff_brasil, \\\n",
    "    update_country_trusted_based_original_field, has_brasil_in_country_trusted, \\\n",
    "    get_all_records_with_brasil_in_country_trusted, state_province_in_list_uf_or_list_state, update_country_trusted, \\\n",
    "    has_state_in_locality\n",
    "from sqlalchemy import and_, or_\n",
    "from sqlalchemy.orm import Session\n",
    "\n",
    "from unaccent import unaccent"
   ]
  },
  {
   "cell_type": "code",
   "execution_count": 2,
   "metadata": {},
   "outputs": [
    {
     "name": "stdout",
     "output_type": "stream",
     "text": [
      "2022-12-06 10:20:29,531 INFO sqlalchemy.engine.Engine select pg_catalog.version()\n",
      "2022-12-06 10:20:29,532 INFO sqlalchemy.engine.Engine [raw sql] {}\n",
      "2022-12-06 10:20:29,533 INFO sqlalchemy.engine.Engine select current_schema()\n",
      "2022-12-06 10:20:29,533 INFO sqlalchemy.engine.Engine [raw sql] {}\n",
      "2022-12-06 10:20:29,534 INFO sqlalchemy.engine.Engine show standard_conforming_strings\n",
      "2022-12-06 10:20:29,535 INFO sqlalchemy.engine.Engine [raw sql] {}\n"
     ]
    }
   ],
   "source": [
    "session: Session\n",
    "engine, session = connect()\n",
    "engine.echo=False\n",
    "\n",
    "path_fotos = '/home/xandao/Documentos/dataset-52k-sp-2021/fotos'\n",
    "list_images = list([file for file in pathlib.Path(path_fotos).rglob('*') if file.is_file()])\n",
    "\n",
    "list_identified_trusted = [\n",
    "    {'full_name': 'Aline Vieira de Melo Silva', 'searched_name': ['Silva']},\n",
    "    {'full_name': 'Carmen Lúcia Falcão Ichaso', 'searched_name': ['Ichaso']},\n",
    "    {'full_name': 'Daniele Monteiro Ferreira', 'searched_name': ['Monteiro']},\n",
    "    {'full_name': 'Daniel Ruschel', 'searched_name': ['Ruschel']},\n",
    "    {'full_name': 'Elsie Franklin Guimarães', 'searched_name': ['Guimar']},\n",
    "    {'full_name': 'Eric J Tepe', 'searched_name': ['Tepe']},\n",
    "    {'full_name': 'Erika Von Sohsten de Souza Medeiros', 'searched_name': ['Medeiros']},\n",
    "    {'full_name': 'George Azevedo de Queiroz', 'searched_name': ['Queiroz']},\n",
    "    {'full_name': 'Micheline Carvalho-Silva', 'searched_name': ['Carvalho']},\n",
    "    {'full_name': 'Ricardo de la Merced Callejas Posada', 'searched_name': ['Callejas']},\n",
    "    {'full_name': 'Truman George Yuncker', 'searched_name': ['Yuncker']},\n",
    "    {'full_name': 'William Trelease', 'searched_name': ['Trelease']}\n",
    "]\n",
    "\n",
    "def text_bold(string):\n",
    "    return '\\033[1m' + string + '\\033[0m'"
   ]
  },
  {
   "cell_type": "markdown",
   "source": [
    "## identificadores confiaveis\n",
    "### tem que ser distinct de value_founded, por causa das identificacoes com mais de uma pessoa"
   ],
   "metadata": {
    "collapsed": false
   }
  },
  {
   "cell_type": "code",
   "execution_count": 3,
   "metadata": {},
   "outputs": [
    {
     "name": "stdout",
     "output_type": "stream",
     "text": [
      "quantidade de identificadores confiaveis: 187\n"
     ]
    }
   ],
   "source": [
    "identifiers_trusted = session.query(TrustedIdentifier.value_founded)\\\n",
    "    .filter(TrustedIdentifier.trusted)\\\n",
    "    .distinct()\n",
    "\n",
    "print('quantidade de identificadores confiaveis: %d' % identifiers_trusted.count())\n",
    "\n",
    "create_table_if_not_exists(engine, TrustedIdentifier)\n",
    "\n",
    "if table_is_empty(session, TrustedIdentifier):\n",
    "    for identifier in list_identified_trusted:\n",
    "        for trusted_identifier in identifier['searched_name']:\n",
    "            query = get_all_identifiers_ilike(trusted_identifier, session)\n",
    "            insert_new_identifier_trusted(identifier, query, trusted_identifier, session)\n",
    "\n",
    "list_identifier_trusted = [q[0] for q in identifiers_trusted]"
   ]
  },
  {
   "cell_type": "code",
   "execution_count": 4,
   "metadata": {},
   "outputs": [
    {
     "name": "stdout",
     "output_type": "stream",
     "text": [
      "quantidade de registros encontrados com as variacoes dos nome dos identificadores: 13182\n",
      "quantidade dados na tabela data_trusted_identifier: 13182\n"
     ]
    }
   ],
   "source": [
    "query_diff_identifier = get_all_records_of_trusted_identifier(list_identifier_trusted, session)\n",
    "\n",
    "print('quantidade de registros encontrados com as variacoes dos nome dos identificadores: %d' % query_diff_identifier.count())\n",
    "\n",
    "if table_is_empty(session, DataTrustedIdentifier):\n",
    "    insert_new_data_trusted_identifier(session, query_diff_identifier)\n",
    "\n",
    "count_data_trusted_identifier = session.query(DataTrustedIdentifier).count()\n",
    "print('quantidade dados na tabela data_trusted_identifier: %d' % count_data_trusted_identifier)"
   ]
  },
  {
   "cell_type": "markdown",
   "source": [
    "## substitui caracteres nao codificados"
   ],
   "metadata": {
    "collapsed": false
   }
  },
  {
   "cell_type": "code",
   "execution_count": 5,
   "outputs": [],
   "source": [
    "list_special_characters = [{'find': 'Ã¡', 'replace': 'á'},\n",
    "                           {'find': 'Ãº', 'replace': 'ú'},\n",
    "                           {'find': 'Ã', 'replace': 'í'},\n",
    "                           {'find': 'Ã³', 'replace': 'ó'},\n",
    "                           {'find': 'Ã±', 'replace': 'ñ'},\n",
    "                           {'find': 'Ã©', 'replace': 'é'}]\n",
    "\n",
    "for attribute in [DataTrustedIdentifier.state_province, DataTrustedIdentifier.county]:\n",
    "    for special_character in list_special_characters:\n",
    "        find_and_replace_broken_characters(attribute, session, special_character)"
   ],
   "metadata": {
    "collapsed": false
   }
  },
  {
   "cell_type": "markdown",
   "source": [
    "## substitui as variacoes de BR, pela palavra certa"
   ],
   "metadata": {
    "collapsed": false
   }
  },
  {
   "cell_type": "code",
   "execution_count": 6,
   "outputs": [
    {
     "name": "stdout",
     "output_type": "stream",
     "text": [
      "\u001B[1mquantidade de registros com Brasil no campo confiavel\u001B[0m: 12144\n"
     ]
    }
   ],
   "source": [
    "list_diff_br = ['Brasil', 'BRASIL', 'Brasil/Bolivia', 'Brasilia', 'brazil', 'Brazil', 'BRazil', 'BRAZIL', '[Brésil]', 'Brésil']\n",
    "\n",
    "if has_brasil_in_country_trusted(session):\n",
    "    records_with_diff_brasil = get_all_records_with_diff_brasil(list_diff_br, session)\n",
    "    print('quantidade de registros encontrados com as variacoes dos nome dos identificadores + %s: %d' % (text_bold('variacoes de Brasil'), len(records_with_diff_brasil)))\n",
    "    update_country_trusted_based_original_field(list_diff_br, session)\n",
    "\n",
    "\n",
    "records_with_brasil_in_country_trusted = get_all_records_with_brasil_in_country_trusted(session)\n",
    "print('%s: %d' % (text_bold('quantidade de registros com Brasil no campo confiavel'), len(records_with_brasil_in_country_trusted)))"
   ],
   "metadata": {
    "collapsed": false
   }
  },
  {
   "cell_type": "markdown",
   "source": [
    "## adiciona BR no campo confiavel (encontra estados e cidades na tabela county, e que nao tem no campo country variacoes BR)"
   ],
   "metadata": {
    "collapsed": false
   }
  },
  {
   "cell_type": "code",
   "execution_count": 7,
   "outputs": [
    {
     "name": "stderr",
     "output_type": "stream",
     "text": [
      "/home/xandao/Documentos/GitHub/piperaceae-sql/database.py:184: SAWarning: Class unaccent will not make use of SQL compilation caching as it does not set the 'inherit_cache' attribute to ``True``.  This can have significant performance implications including some performance degradations in comparison to prior SQLAlchemy versions.  Set this attribute to True if this object can make use of the cache key generated by the superclass.  Alternatively, this attribute may be set to False which will disable this warning. (Background on this error at: https://sqlalche.me/e/14/cprf)\n",
      "  session.query(DataTrustedIdentifier)\\\n"
     ]
    }
   ],
   "source": [
    "county = session.query(County).distinct().all()\n",
    "\n",
    "list_uf = [unaccent(sa.func.lower(c.uf)) for c in county]\n",
    "list_state = [unaccent(sa.func.lower(c.state)) for c in county]\n",
    "list_county = [unaccent(sa.func.lower(c.county)) for c in county]\n",
    "\n",
    "update_country_trusted(list_county, list_state, list_uf, session)"
   ],
   "metadata": {
    "collapsed": false
   }
  },
  {
   "cell_type": "markdown",
   "source": [
    "## Amostras do BR"
   ],
   "metadata": {
    "collapsed": false
   }
  },
  {
   "cell_type": "code",
   "execution_count": 8,
   "outputs": [
    {
     "name": "stdout",
     "output_type": "stream",
     "text": [
      "quantidade de registros usando somente \u001B[1mstate_province\u001B[0m: 11915\n",
      "quantidade de registros usando somente \u001B[1mstate_province e locality\u001B[0m: 11928\n"
     ]
    }
   ],
   "source": [
    "query_lower_unaccent_like = session.query(sa.func.concat('%', unaccent(sa.func.lower(County.state)), '%')).distinct().all()\n",
    "list_state_like = [q[0] for q in query_lower_unaccent_like]\n",
    "columns = [DataTrustedIdentifier.specific_epithet, DataTrustedIdentifier.barcode, DataTrustedIdentifier.country, DataTrustedIdentifier.state_province, DataTrustedIdentifier.county]\n",
    "\n",
    "query_only_state = session.query(*columns)\\\n",
    "    .filter(and_(DataTrustedIdentifier.country_trusted =='Brasil',\n",
    "                DataTrustedIdentifier.specific_epithet.is_not(None),\n",
    "                state_province_in_list_uf_or_list_state(list_state, list_uf)))\\\n",
    "    .distinct()\\\n",
    "    .all()\n",
    "\n",
    "\n",
    "query_has_state_in_locality = session.query(*columns)\\\n",
    "    .filter(and_(DataTrustedIdentifier.country_trusted=='Brasil',\n",
    "                 DataTrustedIdentifier.specific_epithet.is_not(None),\n",
    "                 or_(state_province_in_list_uf_or_list_state(list_state, list_uf),\n",
    "                     has_state_in_locality(list_state_like)\n",
    "                     )))\\\n",
    "    .distinct()\\\n",
    "    .all()\n",
    "\n",
    "print('quantidade de registros usando somente %s: %d' % (text_bold('state_province'), len(query_only_state)))\n",
    "print('quantidade de registros usando somente %s: %d' % (text_bold('state_province e locality'), len(query_has_state_in_locality)))"
   ],
   "metadata": {
    "collapsed": false
   }
  },
  {
   "cell_type": "code",
   "execution_count": 10,
   "outputs": [],
   "source": [
    "from images import copy_all_images\n",
    "\n",
    "from images import separate_images_per_threshold\n",
    "\n",
    "query = query_only_state\n",
    "for color in ['RGB']:\n",
    "    for image_size in ['512']:\n",
    "        path_fotos = '/home/xandao/%s/%s/w_pred_mask' % (color, image_size)\n",
    "        list_images = list([file for file in pathlib.Path(path_fotos).glob('*.jpeg')])\n",
    "        dst = 'out/%s/%s' % (color, image_size)\n",
    "        copy_all_images(dst, list_images, query)\n",
    "        separate_images_per_threshold(dst)"
   ],
   "metadata": {
    "collapsed": false
   }
  },
  {
   "cell_type": "markdown",
   "source": [
    "## regioes"
   ],
   "metadata": {
    "collapsed": false
   }
  },
  {
   "cell_type": "code",
   "execution_count": 6,
   "outputs": [
    {
     "name": "stderr",
     "output_type": "stream",
     "text": [
      "/tmp/ipykernel_3589185/3862856866.py:13: SAWarning: Class unaccent will not make use of SQL compilation caching as it does not set the 'inherit_cache' attribute to ``True``.  This can have significant performance implications including some performance degradations in comparison to prior SQLAlchemy versions.  Set this attribute to True if this object can make use of the cache key generated by the superclass.  Alternatively, this attribute may be set to False which will disable this warning. (Background on this error at: https://sqlalche.me/e/14/cprf)\n",
      "  query_lower_unaccent_like = session.query(sa.func.concat('%', unaccent(sa.func.lower(County.state)), '%'))\\\n"
     ]
    },
    {
     "name": "stdout",
     "output_type": "stream",
     "text": [
      "quantidade de registros usando somente \u001B[1mstate_province\u001B[0m, na regiao \u001B[1mNorte\u001B[0m: 3186\n",
      "quantidade de registros usando somente \u001B[1mstate_province e locality\u001B[0m, na regiao \u001B[1mNorte\u001B[0m: 3676\n",
      "quantidade de registros usando somente \u001B[1mstate_province\u001B[0m, na regiao \u001B[1mNordeste\u001B[0m: 1198\n",
      "quantidade de registros usando somente \u001B[1mstate_province e locality\u001B[0m, na regiao \u001B[1mNordeste\u001B[0m: 1239\n",
      "quantidade de registros usando somente \u001B[1mstate_province\u001B[0m, na regiao \u001B[1mCentro-Oeste\u001B[0m: 1261\n",
      "quantidade de registros usando somente \u001B[1mstate_province e locality\u001B[0m, na regiao \u001B[1mCentro-Oeste\u001B[0m: 1282\n",
      "quantidade de registros usando somente \u001B[1mstate_province\u001B[0m, na regiao \u001B[1mSudeste\u001B[0m: 3619\n",
      "quantidade de registros usando somente \u001B[1mstate_province e locality\u001B[0m, na regiao \u001B[1mSudeste\u001B[0m: 3642\n",
      "quantidade de registros usando somente \u001B[1mstate_province\u001B[0m, na regiao \u001B[1mSul\u001B[0m: 2651\n",
      "quantidade de registros usando somente \u001B[1mstate_province e locality\u001B[0m, na regiao \u001B[1mSul\u001B[0m: 2737\n",
      "total sem \u001B[1mlocality\u001B[0m: 11915\n",
      "total comm \u001B[1mlocality\u001B[0m: 12576\n"
     ]
    }
   ],
   "source": [
    "total = 0\n",
    "total_locality = 0\n",
    "for regiao in ['Norte', 'Nordeste', 'Centro-Oeste', 'Sudeste', 'Sul']:\n",
    "    county = session.query(County)\\\n",
    "        .filter(County.regiao==regiao)\\\n",
    "        .distinct()\\\n",
    "        .all()\n",
    "\n",
    "    list_uf = [unaccent(sa.func.lower(c.uf)) for c in county]\n",
    "    list_state = [unaccent(sa.func.lower(c.state)) for c in county]\n",
    "    list_county = [unaccent(sa.func.lower(c.county)) for c in county]\n",
    "\n",
    "    query_lower_unaccent_like = session.query(sa.func.concat('%', unaccent(sa.func.lower(County.state)), '%'))\\\n",
    "        .filter(County.regiao==regiao)\\\n",
    "        .distinct()\\\n",
    "        .all()\n",
    "\n",
    "    list_state_like = [q[0] for q in query_lower_unaccent_like]\n",
    "    columns = [DataTrustedIdentifier.specific_epithet, DataTrustedIdentifier.barcode, DataTrustedIdentifier.country, DataTrustedIdentifier.state_province, DataTrustedIdentifier.county]\n",
    "\n",
    "    query_only_state = session.query(*columns)\\\n",
    "        .filter(and_(DataTrustedIdentifier.country_trusted =='Brasil',\n",
    "                    DataTrustedIdentifier.specific_epithet.is_not(None),\n",
    "                    state_province_in_list_uf_or_list_state(list_state, list_uf)))\\\n",
    "        .distinct()\\\n",
    "        .all()\n",
    "\n",
    "\n",
    "    query_has_state_in_locality = session.query(*columns)\\\n",
    "        .filter(and_(DataTrustedIdentifier.country_trusted=='Brasil',\n",
    "                     DataTrustedIdentifier.specific_epithet.is_not(None),\n",
    "                     or_(state_province_in_list_uf_or_list_state(list_state, list_uf),\n",
    "                         has_state_in_locality(list_state_like)\n",
    "                         )))\\\n",
    "        .distinct()\\\n",
    "        .all()\n",
    "\n",
    "    print('quantidade de registros usando somente %s, na regiao %s: %d' % (text_bold('state_province'), text_bold(regiao), len(query_only_state)))\n",
    "    print('quantidade de registros usando somente %s, na regiao %s: %d' % (text_bold('state_province e locality'), text_bold(regiao), len(query_has_state_in_locality)))\n",
    "    total = total + len(query_only_state)\n",
    "    total_locality = total_locality + len(query_has_state_in_locality)\n",
    "print('total sem %s: %d' % (text_bold('locality'), total))\n",
    "print('total comm %s: %d' % (text_bold('locality'), total_locality))"
   ],
   "metadata": {
    "collapsed": false
   }
  },
  {
   "cell_type": "code",
   "execution_count": 20,
   "outputs": [],
   "source": [
    "for regiao in ['Norte', 'Nordeste', 'Centro-Oeste', 'Sudeste', 'Sul']:\n",
    "    county = session.query(County)\\\n",
    "        .filter(County.regiao==regiao)\\\n",
    "        .distinct()\\\n",
    "        .all()\n",
    "\n",
    "    list_uf = [unaccent(sa.func.lower(c.uf)) for c in county]\n",
    "    list_state = [unaccent(sa.func.lower(c.state)) for c in county]\n",
    "    list_county = [unaccent(sa.func.lower(c.county)) for c in county]\n",
    "\n",
    "    query_lower_unaccent_like = session.query(sa.func.concat('%', unaccent(sa.func.lower(County.state)), '%'))\\\n",
    "        .filter(County.regiao==regiao)\\\n",
    "        .distinct()\\\n",
    "        .all()\n",
    "\n",
    "    list_state_like = [q[0] for q in query_lower_unaccent_like]\n",
    "    columns = [DataTrustedIdentifier.specific_epithet, DataTrustedIdentifier.barcode, DataTrustedIdentifier.country, DataTrustedIdentifier.state_province, DataTrustedIdentifier.county]\n",
    "\n",
    "    query_only_state = session.query(*columns)\\\n",
    "        .filter(and_(DataTrustedIdentifier.country_trusted =='Brasil',\n",
    "                    DataTrustedIdentifier.specific_epithet.is_not(None),\n",
    "                    state_province_in_list_uf_or_list_state(list_state, list_uf)))\\\n",
    "        .distinct()\\\n",
    "        .all()\n",
    "\n",
    "    for color in ['RGB']:\n",
    "        for image_size in ['256']:\n",
    "            path_fotos = '/home/xandao/%s/%s/w_pred_mask' % (color, image_size)\n",
    "            list_images = list([file for file in pathlib.Path(path_fotos).glob('*.jpeg')])\n",
    "            dst = 'out2/%s/%s/%s' % (color, image_size, regiao)\n",
    "            copy_all_images(dst, list_images, query)\n",
    "            separate_images_per_threshold(dst)"
   ],
   "metadata": {
    "collapsed": false
   }
  },
  {
   "cell_type": "code",
   "execution_count": 7,
   "metadata": {},
   "outputs": [],
   "source": [
    "session.close()\n",
    "engine.dispose()"
   ]
  }
 ],
 "metadata": {
  "kernelspec": {
   "display_name": "Python 3 (ipykernel)",
   "language": "python",
   "name": "python3"
  },
  "language_info": {
   "codemirror_mode": {
    "name": "ipython",
    "version": 3
   },
   "file_extension": ".py",
   "mimetype": "text/x-python",
   "name": "python",
   "nbconvert_exporter": "python",
   "pygments_lexer": "ipython3",
   "version": "3.9.12"
  }
 },
 "nbformat": 4,
 "nbformat_minor": 1
}
