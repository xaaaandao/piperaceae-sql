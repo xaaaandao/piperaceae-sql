{
 "cells": [
  {
   "cell_type": "code",
   "execution_count": 9,
   "metadata": {},
   "outputs": [
    {
     "name": "stdout",
     "output_type": "stream",
     "text": [
      "The autoreload extension is already loaded. To reload it, use:\n",
      "  %reload_ext autoreload\n"
     ]
    }
   ],
   "source": [
    "%reload_ext autoreload\n",
    "%load_ext autoreload\n",
    "%autoreload 2"
   ]
  },
  {
   "cell_type": "code",
   "execution_count": 10,
   "outputs": [],
   "source": [
    "import os\n",
    "import pandas as pd\n",
    "import sqlalchemy as sa\n",
    "\n",
    "import database as db\n",
    "\n",
    "from images import copy_images, get_list_of_images_invalid, remove_images_invalid,separate_and_copy_images\n",
    "from tables import County, DataTrustedIdentifier, InfoImage"
   ],
   "metadata": {
    "collapsed": false
   }
  },
  {
   "cell_type": "markdown",
   "source": [
    "## Database connection"
   ],
   "metadata": {
    "collapsed": false
   }
  },
  {
   "cell_type": "code",
   "execution_count": 11,
   "outputs": [
    {
     "name": "stdout",
     "output_type": "stream",
     "text": [
      "2023-03-23 23:53:44,239 INFO sqlalchemy.engine.Engine select pg_catalog.version()\n",
      "2023-03-23 23:53:44,240 INFO sqlalchemy.engine.Engine [raw sql] {}\n",
      "2023-03-23 23:53:44,249 INFO sqlalchemy.engine.Engine select current_schema()\n",
      "2023-03-23 23:53:44,250 INFO sqlalchemy.engine.Engine [raw sql] {}\n",
      "2023-03-23 23:53:44,255 INFO sqlalchemy.engine.Engine show standard_conforming_strings\n",
      "2023-03-23 23:53:44,256 INFO sqlalchemy.engine.Engine [raw sql] {}\n"
     ]
    }
   ],
   "source": [
    "engine, session = db.connect()\n",
    "engine.echo = False"
   ],
   "metadata": {
    "collapsed": false
   }
  },
  {
   "cell_type": "markdown",
   "source": [
    "## List of images invalid"
   ],
   "metadata": {
    "collapsed": false
   }
  },
  {
   "cell_type": "code",
   "execution_count": 12,
   "outputs": [
    {
     "data": {
      "text/plain": "       barcode      reason\n0  INPA0248526  horizontal\n1  INPA0248523  horizontal\n2  INPA0248528  horizontal",
      "text/html": "<div>\n<style scoped>\n    .dataframe tbody tr th:only-of-type {\n        vertical-align: middle;\n    }\n\n    .dataframe tbody tr th {\n        vertical-align: top;\n    }\n\n    .dataframe thead th {\n        text-align: right;\n    }\n</style>\n<table border=\"1\" class=\"dataframe\">\n  <thead>\n    <tr style=\"text-align: right;\">\n      <th></th>\n      <th>barcode</th>\n      <th>reason</th>\n    </tr>\n  </thead>\n  <tbody>\n    <tr>\n      <th>0</th>\n      <td>INPA0248526</td>\n      <td>horizontal</td>\n    </tr>\n    <tr>\n      <th>1</th>\n      <td>INPA0248523</td>\n      <td>horizontal</td>\n    </tr>\n    <tr>\n      <th>2</th>\n      <td>INPA0248528</td>\n      <td>horizontal</td>\n    </tr>\n  </tbody>\n</table>\n</div>"
     },
     "execution_count": 12,
     "metadata": {},
     "output_type": "execute_result"
    }
   ],
   "source": [
    "list_images_invalid = get_list_of_images_invalid()\n",
    "pd.DataFrame(list_images_invalid).head(3)"
   ],
   "metadata": {
    "collapsed": false
   }
  },
  {
   "cell_type": "markdown",
   "source": [
    "## Define variable for build dataset"
   ],
   "metadata": {
    "collapsed": false
   }
  },
  {
   "cell_type": "code",
   "execution_count": 13,
   "outputs": [],
   "source": [
    "list_minimum_image=[5, 10, 20]\n",
    "list_color=['rgb', 'grayscale']\n",
    "list_image_size=['256', '400', '512']\n",
    "path_out = '/home/xandao/Imagens/pr_dataset'"
   ],
   "metadata": {
    "collapsed": false
   }
  },
  {
   "cell_type": "markdown",
   "source": [
    "## List of uf, state, county in Paraná"
   ],
   "metadata": {
    "collapsed": false
   }
  },
  {
   "cell_type": "code",
   "execution_count": 14,
   "outputs": [],
   "source": [
    "query = session.query(County).filter(County.uf=='PR').distinct().all()\n",
    "\n",
    "uf_unaccented_lower, state_unaccented_lower, county_unaccented_lower = db.get_list_uf_state_county(query)"
   ],
   "metadata": {
    "collapsed": false
   }
  },
  {
   "cell_type": "markdown",
   "source": [
    "## copy images"
   ],
   "metadata": {
    "collapsed": false
   }
  },
  {
   "cell_type": "code",
   "execution_count": 15,
   "outputs": [
    {
     "data": {
      "text/plain": "'color: rgb image_size: 512 minimum_image: 5'"
     },
     "metadata": {},
     "output_type": "display_data"
    },
    {
     "data": {
      "text/plain": "'len(list_level_name): 54 len(paths_images): 1359'"
     },
     "metadata": {},
     "output_type": "display_data"
    },
    {
     "data": {
      "text/plain": "'save csv in /home/xandao/Imagens/pr_dataset/RGB/512/5/dataset_informations.csv'"
     },
     "metadata": {},
     "output_type": "display_data"
    },
    {
     "data": {
      "text/plain": "   species                                              paths  count  \\\n0  aduncum  [/home/xandao/Documentos/RGB/512/w_pred_mask/A...     33   \n1    alata  [/home/xandao/Documentos/RGB/512/w_pred_mask/C...     18   \n2  amalago  [/home/xandao/Documentos/RGB/512/w_pred_mask/A...     69   \n\n                                            dst  \n0  /home/xandao/Imagens/pr_dataset/RGB/512/5/f1  \n1  /home/xandao/Imagens/pr_dataset/RGB/512/5/f2  \n2  /home/xandao/Imagens/pr_dataset/RGB/512/5/f3  ",
      "text/html": "<div>\n<style scoped>\n    .dataframe tbody tr th:only-of-type {\n        vertical-align: middle;\n    }\n\n    .dataframe tbody tr th {\n        vertical-align: top;\n    }\n\n    .dataframe thead th {\n        text-align: right;\n    }\n</style>\n<table border=\"1\" class=\"dataframe\">\n  <thead>\n    <tr style=\"text-align: right;\">\n      <th></th>\n      <th>species</th>\n      <th>paths</th>\n      <th>count</th>\n      <th>dst</th>\n    </tr>\n  </thead>\n  <tbody>\n    <tr>\n      <th>0</th>\n      <td>aduncum</td>\n      <td>[/home/xandao/Documentos/RGB/512/w_pred_mask/A...</td>\n      <td>33</td>\n      <td>/home/xandao/Imagens/pr_dataset/RGB/512/5/f1</td>\n    </tr>\n    <tr>\n      <th>1</th>\n      <td>alata</td>\n      <td>[/home/xandao/Documentos/RGB/512/w_pred_mask/C...</td>\n      <td>18</td>\n      <td>/home/xandao/Imagens/pr_dataset/RGB/512/5/f2</td>\n    </tr>\n    <tr>\n      <th>2</th>\n      <td>amalago</td>\n      <td>[/home/xandao/Documentos/RGB/512/w_pred_mask/A...</td>\n      <td>69</td>\n      <td>/home/xandao/Imagens/pr_dataset/RGB/512/5/f3</td>\n    </tr>\n  </tbody>\n</table>\n</div>"
     },
     "metadata": {},
     "output_type": "display_data"
    },
    {
     "data": {
      "text/plain": "'total of images 1359'"
     },
     "metadata": {},
     "output_type": "display_data"
    },
    {
     "data": {
      "text/plain": "'image informations'"
     },
     "metadata": {},
     "output_type": "display_data"
    },
    {
     "data": {
      "text/plain": "'save csv in /home/xandao/Imagens/pr_dataset/RGB/512/5/image_informations.csv'"
     },
     "metadata": {},
     "output_type": "display_data"
    },
    {
     "data": {
      "text/plain": "     seq      genus specific_epithet catalog_number      barcode  \\\n0  11292  Peperomia         glabella          45015  CEN00045015   \n1  11299  Peperomia        hispidula          47117  CEN00047117   \n2  11291  Peperomia         glabella          41560  CEN00041560   \n\n                                          path_image institution_code  \\\n0  /home/xandao/Documentos/RGB/512/w_pred_mask/CE...         Cenargen   \n1  /home/xandao/Documentos/RGB/512/w_pred_mask/CE...         Cenargen   \n2  /home/xandao/Documentos/RGB/512/w_pred_mask/CE...         Cenargen   \n\n  collection_code                                                url  \n0             CEN  https://specieslink.net/search/util/osd-dezoom...  \n1             CEN  https://specieslink.net/search/util/osd-dezoom...  \n2             CEN  https://specieslink.net/search/util/osd-dezoom...  ",
      "text/html": "<div>\n<style scoped>\n    .dataframe tbody tr th:only-of-type {\n        vertical-align: middle;\n    }\n\n    .dataframe tbody tr th {\n        vertical-align: top;\n    }\n\n    .dataframe thead th {\n        text-align: right;\n    }\n</style>\n<table border=\"1\" class=\"dataframe\">\n  <thead>\n    <tr style=\"text-align: right;\">\n      <th></th>\n      <th>seq</th>\n      <th>genus</th>\n      <th>specific_epithet</th>\n      <th>catalog_number</th>\n      <th>barcode</th>\n      <th>path_image</th>\n      <th>institution_code</th>\n      <th>collection_code</th>\n      <th>url</th>\n    </tr>\n  </thead>\n  <tbody>\n    <tr>\n      <th>0</th>\n      <td>11292</td>\n      <td>Peperomia</td>\n      <td>glabella</td>\n      <td>45015</td>\n      <td>CEN00045015</td>\n      <td>/home/xandao/Documentos/RGB/512/w_pred_mask/CE...</td>\n      <td>Cenargen</td>\n      <td>CEN</td>\n      <td>https://specieslink.net/search/util/osd-dezoom...</td>\n    </tr>\n    <tr>\n      <th>1</th>\n      <td>11299</td>\n      <td>Peperomia</td>\n      <td>hispidula</td>\n      <td>47117</td>\n      <td>CEN00047117</td>\n      <td>/home/xandao/Documentos/RGB/512/w_pred_mask/CE...</td>\n      <td>Cenargen</td>\n      <td>CEN</td>\n      <td>https://specieslink.net/search/util/osd-dezoom...</td>\n    </tr>\n    <tr>\n      <th>2</th>\n      <td>11291</td>\n      <td>Peperomia</td>\n      <td>glabella</td>\n      <td>41560</td>\n      <td>CEN00041560</td>\n      <td>/home/xandao/Documentos/RGB/512/w_pred_mask/CE...</td>\n      <td>Cenargen</td>\n      <td>CEN</td>\n      <td>https://specieslink.net/search/util/osd-dezoom...</td>\n    </tr>\n  </tbody>\n</table>\n</div>"
     },
     "metadata": {},
     "output_type": "display_data"
    },
    {
     "data": {
      "text/plain": "'color: rgb image_size: 512 minimum_image: 10'"
     },
     "metadata": {},
     "output_type": "display_data"
    },
    {
     "data": {
      "text/plain": "'len(list_level_name): 35 len(paths_images): 1240'"
     },
     "metadata": {},
     "output_type": "display_data"
    },
    {
     "data": {
      "text/plain": "'save csv in /home/xandao/Imagens/pr_dataset/RGB/512/5/RGB/512/10/dataset_informations.csv'"
     },
     "metadata": {},
     "output_type": "display_data"
    },
    {
     "data": {
      "text/plain": "   species                                              paths  count  \\\n0  aduncum  [/home/xandao/Documentos/RGB/512/w_pred_mask/A...     33   \n1    alata  [/home/xandao/Documentos/RGB/512/w_pred_mask/C...     18   \n2  amalago  [/home/xandao/Documentos/RGB/512/w_pred_mask/A...     69   \n\n                                                 dst  \n0  /home/xandao/Imagens/pr_dataset/RGB/512/5/RGB/...  \n1  /home/xandao/Imagens/pr_dataset/RGB/512/5/RGB/...  \n2  /home/xandao/Imagens/pr_dataset/RGB/512/5/RGB/...  ",
      "text/html": "<div>\n<style scoped>\n    .dataframe tbody tr th:only-of-type {\n        vertical-align: middle;\n    }\n\n    .dataframe tbody tr th {\n        vertical-align: top;\n    }\n\n    .dataframe thead th {\n        text-align: right;\n    }\n</style>\n<table border=\"1\" class=\"dataframe\">\n  <thead>\n    <tr style=\"text-align: right;\">\n      <th></th>\n      <th>species</th>\n      <th>paths</th>\n      <th>count</th>\n      <th>dst</th>\n    </tr>\n  </thead>\n  <tbody>\n    <tr>\n      <th>0</th>\n      <td>aduncum</td>\n      <td>[/home/xandao/Documentos/RGB/512/w_pred_mask/A...</td>\n      <td>33</td>\n      <td>/home/xandao/Imagens/pr_dataset/RGB/512/5/RGB/...</td>\n    </tr>\n    <tr>\n      <th>1</th>\n      <td>alata</td>\n      <td>[/home/xandao/Documentos/RGB/512/w_pred_mask/C...</td>\n      <td>18</td>\n      <td>/home/xandao/Imagens/pr_dataset/RGB/512/5/RGB/...</td>\n    </tr>\n    <tr>\n      <th>2</th>\n      <td>amalago</td>\n      <td>[/home/xandao/Documentos/RGB/512/w_pred_mask/A...</td>\n      <td>69</td>\n      <td>/home/xandao/Imagens/pr_dataset/RGB/512/5/RGB/...</td>\n    </tr>\n  </tbody>\n</table>\n</div>"
     },
     "metadata": {},
     "output_type": "display_data"
    },
    {
     "data": {
      "text/plain": "'total of images 1240'"
     },
     "metadata": {},
     "output_type": "display_data"
    },
    {
     "data": {
      "text/plain": "'image informations'"
     },
     "metadata": {},
     "output_type": "display_data"
    },
    {
     "data": {
      "text/plain": "'save csv in /home/xandao/Imagens/pr_dataset/RGB/512/5/RGB/512/10/image_informations.csv'"
     },
     "metadata": {},
     "output_type": "display_data"
    },
    {
     "data": {
      "text/plain": "     seq      genus specific_epithet catalog_number      barcode  \\\n0  11292  Peperomia         glabella          45015  CEN00045015   \n1  11299  Peperomia        hispidula          47117  CEN00047117   \n2  11291  Peperomia         glabella          41560  CEN00041560   \n\n                                          path_image institution_code  \\\n0  /home/xandao/Documentos/RGB/512/w_pred_mask/CE...         Cenargen   \n1  /home/xandao/Documentos/RGB/512/w_pred_mask/CE...         Cenargen   \n2  /home/xandao/Documentos/RGB/512/w_pred_mask/CE...         Cenargen   \n\n  collection_code                                                url  \n0             CEN  https://specieslink.net/search/util/osd-dezoom...  \n1             CEN  https://specieslink.net/search/util/osd-dezoom...  \n2             CEN  https://specieslink.net/search/util/osd-dezoom...  ",
      "text/html": "<div>\n<style scoped>\n    .dataframe tbody tr th:only-of-type {\n        vertical-align: middle;\n    }\n\n    .dataframe tbody tr th {\n        vertical-align: top;\n    }\n\n    .dataframe thead th {\n        text-align: right;\n    }\n</style>\n<table border=\"1\" class=\"dataframe\">\n  <thead>\n    <tr style=\"text-align: right;\">\n      <th></th>\n      <th>seq</th>\n      <th>genus</th>\n      <th>specific_epithet</th>\n      <th>catalog_number</th>\n      <th>barcode</th>\n      <th>path_image</th>\n      <th>institution_code</th>\n      <th>collection_code</th>\n      <th>url</th>\n    </tr>\n  </thead>\n  <tbody>\n    <tr>\n      <th>0</th>\n      <td>11292</td>\n      <td>Peperomia</td>\n      <td>glabella</td>\n      <td>45015</td>\n      <td>CEN00045015</td>\n      <td>/home/xandao/Documentos/RGB/512/w_pred_mask/CE...</td>\n      <td>Cenargen</td>\n      <td>CEN</td>\n      <td>https://specieslink.net/search/util/osd-dezoom...</td>\n    </tr>\n    <tr>\n      <th>1</th>\n      <td>11299</td>\n      <td>Peperomia</td>\n      <td>hispidula</td>\n      <td>47117</td>\n      <td>CEN00047117</td>\n      <td>/home/xandao/Documentos/RGB/512/w_pred_mask/CE...</td>\n      <td>Cenargen</td>\n      <td>CEN</td>\n      <td>https://specieslink.net/search/util/osd-dezoom...</td>\n    </tr>\n    <tr>\n      <th>2</th>\n      <td>11291</td>\n      <td>Peperomia</td>\n      <td>glabella</td>\n      <td>41560</td>\n      <td>CEN00041560</td>\n      <td>/home/xandao/Documentos/RGB/512/w_pred_mask/CE...</td>\n      <td>Cenargen</td>\n      <td>CEN</td>\n      <td>https://specieslink.net/search/util/osd-dezoom...</td>\n    </tr>\n  </tbody>\n</table>\n</div>"
     },
     "metadata": {},
     "output_type": "display_data"
    },
    {
     "data": {
      "text/plain": "'color: rgb image_size: 512 minimum_image: 20'"
     },
     "metadata": {},
     "output_type": "display_data"
    },
    {
     "data": {
      "text/plain": "'len(list_level_name): 22 len(paths_images): 1069'"
     },
     "metadata": {},
     "output_type": "display_data"
    },
    {
     "data": {
      "text/plain": "'save csv in /home/xandao/Imagens/pr_dataset/RGB/512/5/RGB/512/10/RGB/512/20/dataset_informations.csv'"
     },
     "metadata": {},
     "output_type": "display_data"
    },
    {
     "data": {
      "text/plain": "    species                                              paths  count  \\\n0   aduncum  [/home/xandao/Documentos/RGB/512/w_pred_mask/A...     33   \n1   amalago  [/home/xandao/Documentos/RGB/512/w_pred_mask/A...     69   \n2  arboreum  [/home/xandao/Documentos/RGB/512/w_pred_mask/C...     35   \n\n                                                 dst  \n0  /home/xandao/Imagens/pr_dataset/RGB/512/5/RGB/...  \n1  /home/xandao/Imagens/pr_dataset/RGB/512/5/RGB/...  \n2  /home/xandao/Imagens/pr_dataset/RGB/512/5/RGB/...  ",
      "text/html": "<div>\n<style scoped>\n    .dataframe tbody tr th:only-of-type {\n        vertical-align: middle;\n    }\n\n    .dataframe tbody tr th {\n        vertical-align: top;\n    }\n\n    .dataframe thead th {\n        text-align: right;\n    }\n</style>\n<table border=\"1\" class=\"dataframe\">\n  <thead>\n    <tr style=\"text-align: right;\">\n      <th></th>\n      <th>species</th>\n      <th>paths</th>\n      <th>count</th>\n      <th>dst</th>\n    </tr>\n  </thead>\n  <tbody>\n    <tr>\n      <th>0</th>\n      <td>aduncum</td>\n      <td>[/home/xandao/Documentos/RGB/512/w_pred_mask/A...</td>\n      <td>33</td>\n      <td>/home/xandao/Imagens/pr_dataset/RGB/512/5/RGB/...</td>\n    </tr>\n    <tr>\n      <th>1</th>\n      <td>amalago</td>\n      <td>[/home/xandao/Documentos/RGB/512/w_pred_mask/A...</td>\n      <td>69</td>\n      <td>/home/xandao/Imagens/pr_dataset/RGB/512/5/RGB/...</td>\n    </tr>\n    <tr>\n      <th>2</th>\n      <td>arboreum</td>\n      <td>[/home/xandao/Documentos/RGB/512/w_pred_mask/C...</td>\n      <td>35</td>\n      <td>/home/xandao/Imagens/pr_dataset/RGB/512/5/RGB/...</td>\n    </tr>\n  </tbody>\n</table>\n</div>"
     },
     "metadata": {},
     "output_type": "display_data"
    },
    {
     "data": {
      "text/plain": "'total of images 1069'"
     },
     "metadata": {},
     "output_type": "display_data"
    },
    {
     "data": {
      "text/plain": "'image informations'"
     },
     "metadata": {},
     "output_type": "display_data"
    },
    {
     "data": {
      "text/plain": "'save csv in /home/xandao/Imagens/pr_dataset/RGB/512/5/RGB/512/10/RGB/512/20/image_informations.csv'"
     },
     "metadata": {},
     "output_type": "display_data"
    },
    {
     "data": {
      "text/plain": "     seq      genus specific_epithet catalog_number      barcode  \\\n0  11292  Peperomia         glabella          45015  CEN00045015   \n1  11291  Peperomia         glabella          41560  CEN00041560   \n2  11293  Peperomia         glabella          47015  CEN00047015   \n\n                                          path_image institution_code  \\\n0  /home/xandao/Documentos/RGB/512/w_pred_mask/CE...         Cenargen   \n1  /home/xandao/Documentos/RGB/512/w_pred_mask/CE...         Cenargen   \n2  /home/xandao/Documentos/RGB/512/w_pred_mask/CE...         Cenargen   \n\n  collection_code                                                url  \n0             CEN  https://specieslink.net/search/util/osd-dezoom...  \n1             CEN  https://specieslink.net/search/util/osd-dezoom...  \n2             CEN  https://specieslink.net/search/util/osd-dezoom...  ",
      "text/html": "<div>\n<style scoped>\n    .dataframe tbody tr th:only-of-type {\n        vertical-align: middle;\n    }\n\n    .dataframe tbody tr th {\n        vertical-align: top;\n    }\n\n    .dataframe thead th {\n        text-align: right;\n    }\n</style>\n<table border=\"1\" class=\"dataframe\">\n  <thead>\n    <tr style=\"text-align: right;\">\n      <th></th>\n      <th>seq</th>\n      <th>genus</th>\n      <th>specific_epithet</th>\n      <th>catalog_number</th>\n      <th>barcode</th>\n      <th>path_image</th>\n      <th>institution_code</th>\n      <th>collection_code</th>\n      <th>url</th>\n    </tr>\n  </thead>\n  <tbody>\n    <tr>\n      <th>0</th>\n      <td>11292</td>\n      <td>Peperomia</td>\n      <td>glabella</td>\n      <td>45015</td>\n      <td>CEN00045015</td>\n      <td>/home/xandao/Documentos/RGB/512/w_pred_mask/CE...</td>\n      <td>Cenargen</td>\n      <td>CEN</td>\n      <td>https://specieslink.net/search/util/osd-dezoom...</td>\n    </tr>\n    <tr>\n      <th>1</th>\n      <td>11291</td>\n      <td>Peperomia</td>\n      <td>glabella</td>\n      <td>41560</td>\n      <td>CEN00041560</td>\n      <td>/home/xandao/Documentos/RGB/512/w_pred_mask/CE...</td>\n      <td>Cenargen</td>\n      <td>CEN</td>\n      <td>https://specieslink.net/search/util/osd-dezoom...</td>\n    </tr>\n    <tr>\n      <th>2</th>\n      <td>11293</td>\n      <td>Peperomia</td>\n      <td>glabella</td>\n      <td>47015</td>\n      <td>CEN00047015</td>\n      <td>/home/xandao/Documentos/RGB/512/w_pred_mask/CE...</td>\n      <td>Cenargen</td>\n      <td>CEN</td>\n      <td>https://specieslink.net/search/util/osd-dezoom...</td>\n    </tr>\n  </tbody>\n</table>\n</div>"
     },
     "metadata": {},
     "output_type": "display_data"
    }
   ],
   "source": [
    "level = DataTrustedIdentifier.specific_epithet\n",
    "# columns = [level, sa.func.array_agg(DataTrustedIdentifier.seq)]\n",
    "condition = sa.and_(DataTrustedIdentifier.country_trusted == 'Brasil',\n",
    "                        DataTrustedIdentifier.specific_epithet.is_not(None),\n",
    "                        sa.or_(uf_unaccented_lower, state_unaccented_lower))\n",
    "\n",
    "separate_and_copy_images(condition, level, list_color, list_images_invalid, list_minimum_image, list_image_size, path_out, session)"
   ],
   "metadata": {
    "collapsed": false
   }
  },
  {
   "cell_type": "markdown",
   "source": [
    "## Close connection"
   ],
   "metadata": {
    "collapsed": false
   }
  },
  {
   "cell_type": "code",
   "execution_count": 16,
   "outputs": [],
   "source": [
    "session.close()\n",
    "engine.dispose()"
   ],
   "metadata": {
    "collapsed": false
   }
  }
 ],
 "metadata": {
  "kernelspec": {
   "display_name": "base",
   "language": "python",
   "name": "python3"
  },
  "language_info": {
   "codemirror_mode": {
    "name": "ipython",
    "version": 3
   },
   "file_extension": ".py",
   "mimetype": "text/x-python",
   "name": "python",
   "nbconvert_exporter": "python",
   "pygments_lexer": "ipython3",
   "version": "3.9.12"
  },
  "vscode": {
   "interpreter": {
    "hash": "53ce972a288a646521e393254486dd3d4e40ae124f0f9a66da52dff344d61cdc"
   }
  }
 },
 "nbformat": 4,
 "nbformat_minor": 1
}
