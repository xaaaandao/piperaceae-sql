{
 "cells": [
  {
   "cell_type": "code",
   "execution_count": 1,
   "metadata": {
    "collapsed": false,
    "ExecuteTime": {
     "start_time": "2023-04-03T14:08:39.435151Z",
     "end_time": "2023-04-03T14:08:39.652728Z"
    }
   },
   "outputs": [
    {
     "name": "stdout",
     "output_type": "stream",
     "text": [
      "The autoreload extension is already loaded. To reload it, use:\n",
      "  %reload_ext autoreload\n"
     ]
    }
   ],
   "source": [
    "%reload_ext autoreload\n",
    "%load_ext autoreload\n",
    "%autoreload 2"
   ]
  },
  {
   "cell_type": "code",
   "execution_count": 2,
   "metadata": {
    "collapsed": false,
    "ExecuteTime": {
     "start_time": "2023-04-03T14:08:39.480258Z",
     "end_time": "2023-04-03T14:08:39.956069Z"
    }
   },
   "outputs": [],
   "source": [
    "import os\n",
    "import sqlalchemy as sa\n",
    "\n",
    "import database as db\n",
    "from images import copy_images, get_list_of_images_invalid, save_metadata, select_images\n",
    "from models import County, DataTrustedIdentifier"
   ]
  },
  {
   "cell_type": "code",
   "execution_count": 3,
   "metadata": {
    "collapsed": false,
    "ExecuteTime": {
     "start_time": "2023-04-03T14:08:39.957288Z",
     "end_time": "2023-04-03T14:08:40.038450Z"
    }
   },
   "outputs": [
    {
     "name": "stdout",
     "output_type": "stream",
     "text": [
      "2023-04-03 14:08:40,031 INFO sqlalchemy.engine.Engine select pg_catalog.version()\n",
      "2023-04-03 14:08:40,031 INFO sqlalchemy.engine.Engine [raw sql] {}\n",
      "2023-04-03 14:08:40,032 INFO sqlalchemy.engine.Engine select current_schema()\n",
      "2023-04-03 14:08:40,033 INFO sqlalchemy.engine.Engine [raw sql] {}\n",
      "2023-04-03 14:08:40,034 INFO sqlalchemy.engine.Engine show standard_conforming_strings\n",
      "2023-04-03 14:08:40,034 INFO sqlalchemy.engine.Engine [raw sql] {}\n"
     ]
    }
   ],
   "source": [
    "engine, session=db.connect()\n",
    "engine.echo=False"
   ]
  },
  {
   "cell_type": "code",
   "execution_count": 4,
   "metadata": {
    "collapsed": false,
    "ExecuteTime": {
     "start_time": "2023-04-03T14:08:40.079262Z",
     "end_time": "2023-04-03T14:08:40.123507Z"
    }
   },
   "outputs": [],
   "source": [
    "list_minimum_image=[5, 10, 20]\n",
    "list_color=['rgb', 'grayscale']\n",
    "list_image_size=['256', '400', '512']\n",
    "path_out = '/home/xandao/Imagens/pr_dataset'\n",
    "list_images_invalid=get_list_of_images_invalid()\n",
    "list_images_invalid=list_images_invalid['barcode']\n",
    "\n",
    "query = session.query(County).filter(County.uf.__eq__('PR')).distinct().all()\n",
    "state_unaccented_lower, uf_unaccented_lower, county_unaccented_lower=db.get_state_uf_county(query)"
   ]
  },
  {
   "cell_type": "code",
   "execution_count": 6,
   "metadata": {
    "collapsed": false,
    "ExecuteTime": {
     "start_time": "2023-04-03T14:23:02.614188Z",
     "end_time": "2023-04-03T14:24:01.608412Z"
    }
   },
   "outputs": [
    {
     "name": "stdout",
     "output_type": "stream",
     "text": [
      "color: RGB image_size: 256 minimum_image: 5\n",
      "total of levels: 55 total of images: 1356\n"
     ]
    },
    {
     "data": {
      "text/plain": "    levels  count                                                dst  \\\n0  aduncum     33  /home/xandao/Imagens/pr_dataset/RGB/specific_e...   \n1    alata     18  /home/xandao/Imagens/pr_dataset/RGB/specific_e...   \n2  amalago     68  /home/xandao/Imagens/pr_dataset/RGB/specific_e...   \n\n                                               paths  \\\n0  [/media/xandao/c2f58d30-ff2c-47f7-95af-91ad6fd...   \n1  [/media/xandao/c2f58d30-ff2c-47f7-95af-91ad6fd...   \n2  [/media/xandao/c2f58d30-ff2c-47f7-95af-91ad6fd...   \n\n                                                 seq  \n0  [9674, 9927, 10002, 10051, 10094, 10468, 10676...  \n1  [9865, 9884, 9911, 10134, 10178, 10271, 10380,...  \n2  [7707, 7723, 8236, 8767, 9678, 9698, 9888, 993...  ",
      "text/html": "<div>\n<style scoped>\n    .dataframe tbody tr th:only-of-type {\n        vertical-align: middle;\n    }\n\n    .dataframe tbody tr th {\n        vertical-align: top;\n    }\n\n    .dataframe thead th {\n        text-align: right;\n    }\n</style>\n<table border=\"1\" class=\"dataframe\">\n  <thead>\n    <tr style=\"text-align: right;\">\n      <th></th>\n      <th>levels</th>\n      <th>count</th>\n      <th>dst</th>\n      <th>paths</th>\n      <th>seq</th>\n    </tr>\n  </thead>\n  <tbody>\n    <tr>\n      <th>0</th>\n      <td>aduncum</td>\n      <td>33</td>\n      <td>/home/xandao/Imagens/pr_dataset/RGB/specific_e...</td>\n      <td>[/media/xandao/c2f58d30-ff2c-47f7-95af-91ad6fd...</td>\n      <td>[9674, 9927, 10002, 10051, 10094, 10468, 10676...</td>\n    </tr>\n    <tr>\n      <th>1</th>\n      <td>alata</td>\n      <td>18</td>\n      <td>/home/xandao/Imagens/pr_dataset/RGB/specific_e...</td>\n      <td>[/media/xandao/c2f58d30-ff2c-47f7-95af-91ad6fd...</td>\n      <td>[9865, 9884, 9911, 10134, 10178, 10271, 10380,...</td>\n    </tr>\n    <tr>\n      <th>2</th>\n      <td>amalago</td>\n      <td>68</td>\n      <td>/home/xandao/Imagens/pr_dataset/RGB/specific_e...</td>\n      <td>[/media/xandao/c2f58d30-ff2c-47f7-95af-91ad6fd...</td>\n      <td>[7707, 7723, 8236, 8767, 9678, 9698, 9888, 993...</td>\n    </tr>\n  </tbody>\n</table>\n</div>"
     },
     "metadata": {},
     "output_type": "display_data"
    },
    {
     "data": {
      "text/plain": "     seq  genus specific_epithet genus_trusted specific_epithet_trusted  \\\n0   9735  Piper         arboreum         Piper                 arboreum   \n1  13064  Piper    corcovadensis         Piper                grazielae   \n2   9821  Piper    corcovadensis         Piper                grazielae   \n\n  country_trusted country             county state_province  \\\n0          Brasil  Brazil           Antonina         Paraná   \n1          Brasil  Brasil  Diamante do Norte         Paraná   \n2          Brasil  Brazil    Bocaiúva do Sul         Paraná   \n\n                                                urls  \n0  [https://storage.googleapis.com/cria-zoomify/h...  \n1  [https://storage.googleapis.com/cria-zoomify/h...  \n2  [https://storage.googleapis.com/cria-zoomify/h...  ",
      "text/html": "<div>\n<style scoped>\n    .dataframe tbody tr th:only-of-type {\n        vertical-align: middle;\n    }\n\n    .dataframe tbody tr th {\n        vertical-align: top;\n    }\n\n    .dataframe thead th {\n        text-align: right;\n    }\n</style>\n<table border=\"1\" class=\"dataframe\">\n  <thead>\n    <tr style=\"text-align: right;\">\n      <th></th>\n      <th>seq</th>\n      <th>genus</th>\n      <th>specific_epithet</th>\n      <th>genus_trusted</th>\n      <th>specific_epithet_trusted</th>\n      <th>country_trusted</th>\n      <th>country</th>\n      <th>county</th>\n      <th>state_province</th>\n      <th>urls</th>\n    </tr>\n  </thead>\n  <tbody>\n    <tr>\n      <th>0</th>\n      <td>9735</td>\n      <td>Piper</td>\n      <td>arboreum</td>\n      <td>Piper</td>\n      <td>arboreum</td>\n      <td>Brasil</td>\n      <td>Brazil</td>\n      <td>Antonina</td>\n      <td>Paraná</td>\n      <td>[https://storage.googleapis.com/cria-zoomify/h...</td>\n    </tr>\n    <tr>\n      <th>1</th>\n      <td>13064</td>\n      <td>Piper</td>\n      <td>corcovadensis</td>\n      <td>Piper</td>\n      <td>grazielae</td>\n      <td>Brasil</td>\n      <td>Brasil</td>\n      <td>Diamante do Norte</td>\n      <td>Paraná</td>\n      <td>[https://storage.googleapis.com/cria-zoomify/h...</td>\n    </tr>\n    <tr>\n      <th>2</th>\n      <td>9821</td>\n      <td>Piper</td>\n      <td>corcovadensis</td>\n      <td>Piper</td>\n      <td>grazielae</td>\n      <td>Brasil</td>\n      <td>Brazil</td>\n      <td>Bocaiúva do Sul</td>\n      <td>Paraná</td>\n      <td>[https://storage.googleapis.com/cria-zoomify/h...</td>\n    </tr>\n  </tbody>\n</table>\n</div>"
     },
     "metadata": {},
     "output_type": "display_data"
    },
    {
     "data": {
      "text/plain": "                                                               0\ndst            /home/xandao/Imagens/pr_dataset/RGB/specific_e...\ncolor                                                        rgb\nimage_size                                                   256\nminimum_image                                                  5\nlevel_name                              specific_epithet_trusted\nlevels                                                        55\ntotal                                                       1356\naverage                                                    24.65",
      "text/html": "<div>\n<style scoped>\n    .dataframe tbody tr th:only-of-type {\n        vertical-align: middle;\n    }\n\n    .dataframe tbody tr th {\n        vertical-align: top;\n    }\n\n    .dataframe thead th {\n        text-align: right;\n    }\n</style>\n<table border=\"1\" class=\"dataframe\">\n  <thead>\n    <tr style=\"text-align: right;\">\n      <th></th>\n      <th>0</th>\n    </tr>\n  </thead>\n  <tbody>\n    <tr>\n      <th>dst</th>\n      <td>/home/xandao/Imagens/pr_dataset/RGB/specific_e...</td>\n    </tr>\n    <tr>\n      <th>color</th>\n      <td>rgb</td>\n    </tr>\n    <tr>\n      <th>image_size</th>\n      <td>256</td>\n    </tr>\n    <tr>\n      <th>minimum_image</th>\n      <td>5</td>\n    </tr>\n    <tr>\n      <th>level_name</th>\n      <td>specific_epithet_trusted</td>\n    </tr>\n    <tr>\n      <th>levels</th>\n      <td>55</td>\n    </tr>\n    <tr>\n      <th>total</th>\n      <td>1356</td>\n    </tr>\n    <tr>\n      <th>average</th>\n      <td>24.65</td>\n    </tr>\n  </tbody>\n</table>\n</div>"
     },
     "metadata": {},
     "output_type": "display_data"
    },
    {
     "name": "stdout",
     "output_type": "stream",
     "text": [
      "color: RGB image_size: 256 minimum_image: 10\n",
      "total of levels: 36 total of images: 1237\n"
     ]
    },
    {
     "data": {
      "text/plain": "    levels  count                                                dst  \\\n0  aduncum     33  /home/xandao/Imagens/pr_dataset/RGB/specific_e...   \n1    alata     18  /home/xandao/Imagens/pr_dataset/RGB/specific_e...   \n2  amalago     68  /home/xandao/Imagens/pr_dataset/RGB/specific_e...   \n\n                                               paths  \\\n0  [/media/xandao/c2f58d30-ff2c-47f7-95af-91ad6fd...   \n1  [/media/xandao/c2f58d30-ff2c-47f7-95af-91ad6fd...   \n2  [/media/xandao/c2f58d30-ff2c-47f7-95af-91ad6fd...   \n\n                                                 seq  \n0  [9674, 9927, 10002, 10051, 10094, 10468, 10676...  \n1  [9865, 9884, 9911, 10134, 10178, 10271, 10380,...  \n2  [7707, 7723, 8236, 8767, 9678, 9698, 9888, 993...  ",
      "text/html": "<div>\n<style scoped>\n    .dataframe tbody tr th:only-of-type {\n        vertical-align: middle;\n    }\n\n    .dataframe tbody tr th {\n        vertical-align: top;\n    }\n\n    .dataframe thead th {\n        text-align: right;\n    }\n</style>\n<table border=\"1\" class=\"dataframe\">\n  <thead>\n    <tr style=\"text-align: right;\">\n      <th></th>\n      <th>levels</th>\n      <th>count</th>\n      <th>dst</th>\n      <th>paths</th>\n      <th>seq</th>\n    </tr>\n  </thead>\n  <tbody>\n    <tr>\n      <th>0</th>\n      <td>aduncum</td>\n      <td>33</td>\n      <td>/home/xandao/Imagens/pr_dataset/RGB/specific_e...</td>\n      <td>[/media/xandao/c2f58d30-ff2c-47f7-95af-91ad6fd...</td>\n      <td>[9674, 9927, 10002, 10051, 10094, 10468, 10676...</td>\n    </tr>\n    <tr>\n      <th>1</th>\n      <td>alata</td>\n      <td>18</td>\n      <td>/home/xandao/Imagens/pr_dataset/RGB/specific_e...</td>\n      <td>[/media/xandao/c2f58d30-ff2c-47f7-95af-91ad6fd...</td>\n      <td>[9865, 9884, 9911, 10134, 10178, 10271, 10380,...</td>\n    </tr>\n    <tr>\n      <th>2</th>\n      <td>amalago</td>\n      <td>68</td>\n      <td>/home/xandao/Imagens/pr_dataset/RGB/specific_e...</td>\n      <td>[/media/xandao/c2f58d30-ff2c-47f7-95af-91ad6fd...</td>\n      <td>[7707, 7723, 8236, 8767, 9678, 9698, 9888, 993...</td>\n    </tr>\n  </tbody>\n</table>\n</div>"
     },
     "metadata": {},
     "output_type": "display_data"
    },
    {
     "data": {
      "text/plain": "     seq  genus specific_epithet genus_trusted specific_epithet_trusted  \\\n0   9735  Piper         arboreum         Piper                 arboreum   \n1  13064  Piper    corcovadensis         Piper                grazielae   \n2   9821  Piper    corcovadensis         Piper                grazielae   \n\n  country_trusted country             county state_province  \\\n0          Brasil  Brazil           Antonina         Paraná   \n1          Brasil  Brasil  Diamante do Norte         Paraná   \n2          Brasil  Brazil    Bocaiúva do Sul         Paraná   \n\n                                                urls  \n0  [https://storage.googleapis.com/cria-zoomify/h...  \n1  [https://storage.googleapis.com/cria-zoomify/h...  \n2  [https://storage.googleapis.com/cria-zoomify/h...  ",
      "text/html": "<div>\n<style scoped>\n    .dataframe tbody tr th:only-of-type {\n        vertical-align: middle;\n    }\n\n    .dataframe tbody tr th {\n        vertical-align: top;\n    }\n\n    .dataframe thead th {\n        text-align: right;\n    }\n</style>\n<table border=\"1\" class=\"dataframe\">\n  <thead>\n    <tr style=\"text-align: right;\">\n      <th></th>\n      <th>seq</th>\n      <th>genus</th>\n      <th>specific_epithet</th>\n      <th>genus_trusted</th>\n      <th>specific_epithet_trusted</th>\n      <th>country_trusted</th>\n      <th>country</th>\n      <th>county</th>\n      <th>state_province</th>\n      <th>urls</th>\n    </tr>\n  </thead>\n  <tbody>\n    <tr>\n      <th>0</th>\n      <td>9735</td>\n      <td>Piper</td>\n      <td>arboreum</td>\n      <td>Piper</td>\n      <td>arboreum</td>\n      <td>Brasil</td>\n      <td>Brazil</td>\n      <td>Antonina</td>\n      <td>Paraná</td>\n      <td>[https://storage.googleapis.com/cria-zoomify/h...</td>\n    </tr>\n    <tr>\n      <th>1</th>\n      <td>13064</td>\n      <td>Piper</td>\n      <td>corcovadensis</td>\n      <td>Piper</td>\n      <td>grazielae</td>\n      <td>Brasil</td>\n      <td>Brasil</td>\n      <td>Diamante do Norte</td>\n      <td>Paraná</td>\n      <td>[https://storage.googleapis.com/cria-zoomify/h...</td>\n    </tr>\n    <tr>\n      <th>2</th>\n      <td>9821</td>\n      <td>Piper</td>\n      <td>corcovadensis</td>\n      <td>Piper</td>\n      <td>grazielae</td>\n      <td>Brasil</td>\n      <td>Brazil</td>\n      <td>Bocaiúva do Sul</td>\n      <td>Paraná</td>\n      <td>[https://storage.googleapis.com/cria-zoomify/h...</td>\n    </tr>\n  </tbody>\n</table>\n</div>"
     },
     "metadata": {},
     "output_type": "display_data"
    },
    {
     "data": {
      "text/plain": "                                                               0\ndst            /home/xandao/Imagens/pr_dataset/RGB/specific_e...\ncolor                                                        rgb\nimage_size                                                   256\nminimum_image                                                 10\nlevel_name                              specific_epithet_trusted\nlevels                                                        36\ntotal                                                       1237\naverage                                                    34.36",
      "text/html": "<div>\n<style scoped>\n    .dataframe tbody tr th:only-of-type {\n        vertical-align: middle;\n    }\n\n    .dataframe tbody tr th {\n        vertical-align: top;\n    }\n\n    .dataframe thead th {\n        text-align: right;\n    }\n</style>\n<table border=\"1\" class=\"dataframe\">\n  <thead>\n    <tr style=\"text-align: right;\">\n      <th></th>\n      <th>0</th>\n    </tr>\n  </thead>\n  <tbody>\n    <tr>\n      <th>dst</th>\n      <td>/home/xandao/Imagens/pr_dataset/RGB/specific_e...</td>\n    </tr>\n    <tr>\n      <th>color</th>\n      <td>rgb</td>\n    </tr>\n    <tr>\n      <th>image_size</th>\n      <td>256</td>\n    </tr>\n    <tr>\n      <th>minimum_image</th>\n      <td>10</td>\n    </tr>\n    <tr>\n      <th>level_name</th>\n      <td>specific_epithet_trusted</td>\n    </tr>\n    <tr>\n      <th>levels</th>\n      <td>36</td>\n    </tr>\n    <tr>\n      <th>total</th>\n      <td>1237</td>\n    </tr>\n    <tr>\n      <th>average</th>\n      <td>34.36</td>\n    </tr>\n  </tbody>\n</table>\n</div>"
     },
     "metadata": {},
     "output_type": "display_data"
    },
    {
     "name": "stdout",
     "output_type": "stream",
     "text": [
      "color: RGB image_size: 256 minimum_image: 20\n",
      "total of levels: 23 total of images: 1066\n"
     ]
    },
    {
     "data": {
      "text/plain": "     levels  count                                                dst  \\\n0   aduncum     33  /home/xandao/Imagens/pr_dataset/RGB/specific_e...   \n1   amalago     68  /home/xandao/Imagens/pr_dataset/RGB/specific_e...   \n2  arboreum     35  /home/xandao/Imagens/pr_dataset/RGB/specific_e...   \n\n                                               paths  \\\n0  [/media/xandao/c2f58d30-ff2c-47f7-95af-91ad6fd...   \n1  [/media/xandao/c2f58d30-ff2c-47f7-95af-91ad6fd...   \n2  [/media/xandao/c2f58d30-ff2c-47f7-95af-91ad6fd...   \n\n                                                 seq  \n0  [9674, 9927, 10002, 10051, 10094, 10468, 10676...  \n1  [7707, 7723, 8236, 8767, 9678, 9698, 9888, 993...  \n2  [8834, 9710, 9735, 9749, 9765, 9776, 9842, 991...  ",
      "text/html": "<div>\n<style scoped>\n    .dataframe tbody tr th:only-of-type {\n        vertical-align: middle;\n    }\n\n    .dataframe tbody tr th {\n        vertical-align: top;\n    }\n\n    .dataframe thead th {\n        text-align: right;\n    }\n</style>\n<table border=\"1\" class=\"dataframe\">\n  <thead>\n    <tr style=\"text-align: right;\">\n      <th></th>\n      <th>levels</th>\n      <th>count</th>\n      <th>dst</th>\n      <th>paths</th>\n      <th>seq</th>\n    </tr>\n  </thead>\n  <tbody>\n    <tr>\n      <th>0</th>\n      <td>aduncum</td>\n      <td>33</td>\n      <td>/home/xandao/Imagens/pr_dataset/RGB/specific_e...</td>\n      <td>[/media/xandao/c2f58d30-ff2c-47f7-95af-91ad6fd...</td>\n      <td>[9674, 9927, 10002, 10051, 10094, 10468, 10676...</td>\n    </tr>\n    <tr>\n      <th>1</th>\n      <td>amalago</td>\n      <td>68</td>\n      <td>/home/xandao/Imagens/pr_dataset/RGB/specific_e...</td>\n      <td>[/media/xandao/c2f58d30-ff2c-47f7-95af-91ad6fd...</td>\n      <td>[7707, 7723, 8236, 8767, 9678, 9698, 9888, 993...</td>\n    </tr>\n    <tr>\n      <th>2</th>\n      <td>arboreum</td>\n      <td>35</td>\n      <td>/home/xandao/Imagens/pr_dataset/RGB/specific_e...</td>\n      <td>[/media/xandao/c2f58d30-ff2c-47f7-95af-91ad6fd...</td>\n      <td>[8834, 9710, 9735, 9749, 9765, 9776, 9842, 991...</td>\n    </tr>\n  </tbody>\n</table>\n</div>"
     },
     "metadata": {},
     "output_type": "display_data"
    },
    {
     "data": {
      "text/plain": "     seq  genus specific_epithet genus_trusted specific_epithet_trusted  \\\n0   9735  Piper         arboreum         Piper                 arboreum   \n1  13064  Piper    corcovadensis         Piper                grazielae   \n2   9821  Piper    corcovadensis         Piper                grazielae   \n\n  country_trusted country             county state_province  \\\n0          Brasil  Brazil           Antonina         Paraná   \n1          Brasil  Brasil  Diamante do Norte         Paraná   \n2          Brasil  Brazil    Bocaiúva do Sul         Paraná   \n\n                                                urls  \n0  [https://storage.googleapis.com/cria-zoomify/h...  \n1  [https://storage.googleapis.com/cria-zoomify/h...  \n2  [https://storage.googleapis.com/cria-zoomify/h...  ",
      "text/html": "<div>\n<style scoped>\n    .dataframe tbody tr th:only-of-type {\n        vertical-align: middle;\n    }\n\n    .dataframe tbody tr th {\n        vertical-align: top;\n    }\n\n    .dataframe thead th {\n        text-align: right;\n    }\n</style>\n<table border=\"1\" class=\"dataframe\">\n  <thead>\n    <tr style=\"text-align: right;\">\n      <th></th>\n      <th>seq</th>\n      <th>genus</th>\n      <th>specific_epithet</th>\n      <th>genus_trusted</th>\n      <th>specific_epithet_trusted</th>\n      <th>country_trusted</th>\n      <th>country</th>\n      <th>county</th>\n      <th>state_province</th>\n      <th>urls</th>\n    </tr>\n  </thead>\n  <tbody>\n    <tr>\n      <th>0</th>\n      <td>9735</td>\n      <td>Piper</td>\n      <td>arboreum</td>\n      <td>Piper</td>\n      <td>arboreum</td>\n      <td>Brasil</td>\n      <td>Brazil</td>\n      <td>Antonina</td>\n      <td>Paraná</td>\n      <td>[https://storage.googleapis.com/cria-zoomify/h...</td>\n    </tr>\n    <tr>\n      <th>1</th>\n      <td>13064</td>\n      <td>Piper</td>\n      <td>corcovadensis</td>\n      <td>Piper</td>\n      <td>grazielae</td>\n      <td>Brasil</td>\n      <td>Brasil</td>\n      <td>Diamante do Norte</td>\n      <td>Paraná</td>\n      <td>[https://storage.googleapis.com/cria-zoomify/h...</td>\n    </tr>\n    <tr>\n      <th>2</th>\n      <td>9821</td>\n      <td>Piper</td>\n      <td>corcovadensis</td>\n      <td>Piper</td>\n      <td>grazielae</td>\n      <td>Brasil</td>\n      <td>Brazil</td>\n      <td>Bocaiúva do Sul</td>\n      <td>Paraná</td>\n      <td>[https://storage.googleapis.com/cria-zoomify/h...</td>\n    </tr>\n  </tbody>\n</table>\n</div>"
     },
     "metadata": {},
     "output_type": "display_data"
    },
    {
     "data": {
      "text/plain": "                                                               0\ndst            /home/xandao/Imagens/pr_dataset/RGB/specific_e...\ncolor                                                        rgb\nimage_size                                                   256\nminimum_image                                                 20\nlevel_name                              specific_epithet_trusted\nlevels                                                        23\ntotal                                                       1066\naverage                                                    46.35",
      "text/html": "<div>\n<style scoped>\n    .dataframe tbody tr th:only-of-type {\n        vertical-align: middle;\n    }\n\n    .dataframe tbody tr th {\n        vertical-align: top;\n    }\n\n    .dataframe thead th {\n        text-align: right;\n    }\n</style>\n<table border=\"1\" class=\"dataframe\">\n  <thead>\n    <tr style=\"text-align: right;\">\n      <th></th>\n      <th>0</th>\n    </tr>\n  </thead>\n  <tbody>\n    <tr>\n      <th>dst</th>\n      <td>/home/xandao/Imagens/pr_dataset/RGB/specific_e...</td>\n    </tr>\n    <tr>\n      <th>color</th>\n      <td>rgb</td>\n    </tr>\n    <tr>\n      <th>image_size</th>\n      <td>256</td>\n    </tr>\n    <tr>\n      <th>minimum_image</th>\n      <td>20</td>\n    </tr>\n    <tr>\n      <th>level_name</th>\n      <td>specific_epithet_trusted</td>\n    </tr>\n    <tr>\n      <th>levels</th>\n      <td>23</td>\n    </tr>\n    <tr>\n      <th>total</th>\n      <td>1066</td>\n    </tr>\n    <tr>\n      <th>average</th>\n      <td>46.35</td>\n    </tr>\n  </tbody>\n</table>\n</div>"
     },
     "metadata": {},
     "output_type": "display_data"
    },
    {
     "name": "stdout",
     "output_type": "stream",
     "text": [
      "color: RGB image_size: 400 minimum_image: 5\n",
      "total of levels: 55 total of images: 1356\n"
     ]
    },
    {
     "data": {
      "text/plain": "    levels  count                                                dst  \\\n0  aduncum     33  /home/xandao/Imagens/pr_dataset/RGB/specific_e...   \n1    alata     18  /home/xandao/Imagens/pr_dataset/RGB/specific_e...   \n2  amalago     68  /home/xandao/Imagens/pr_dataset/RGB/specific_e...   \n\n                                               paths  \\\n0  [/media/xandao/c2f58d30-ff2c-47f7-95af-91ad6fd...   \n1  [/media/xandao/c2f58d30-ff2c-47f7-95af-91ad6fd...   \n2  [/media/xandao/c2f58d30-ff2c-47f7-95af-91ad6fd...   \n\n                                                 seq  \n0  [9674, 9927, 10002, 10051, 10094, 10468, 10676...  \n1  [9865, 9884, 9911, 10134, 10178, 10271, 10380,...  \n2  [7707, 7723, 8236, 8767, 9678, 9698, 9888, 993...  ",
      "text/html": "<div>\n<style scoped>\n    .dataframe tbody tr th:only-of-type {\n        vertical-align: middle;\n    }\n\n    .dataframe tbody tr th {\n        vertical-align: top;\n    }\n\n    .dataframe thead th {\n        text-align: right;\n    }\n</style>\n<table border=\"1\" class=\"dataframe\">\n  <thead>\n    <tr style=\"text-align: right;\">\n      <th></th>\n      <th>levels</th>\n      <th>count</th>\n      <th>dst</th>\n      <th>paths</th>\n      <th>seq</th>\n    </tr>\n  </thead>\n  <tbody>\n    <tr>\n      <th>0</th>\n      <td>aduncum</td>\n      <td>33</td>\n      <td>/home/xandao/Imagens/pr_dataset/RGB/specific_e...</td>\n      <td>[/media/xandao/c2f58d30-ff2c-47f7-95af-91ad6fd...</td>\n      <td>[9674, 9927, 10002, 10051, 10094, 10468, 10676...</td>\n    </tr>\n    <tr>\n      <th>1</th>\n      <td>alata</td>\n      <td>18</td>\n      <td>/home/xandao/Imagens/pr_dataset/RGB/specific_e...</td>\n      <td>[/media/xandao/c2f58d30-ff2c-47f7-95af-91ad6fd...</td>\n      <td>[9865, 9884, 9911, 10134, 10178, 10271, 10380,...</td>\n    </tr>\n    <tr>\n      <th>2</th>\n      <td>amalago</td>\n      <td>68</td>\n      <td>/home/xandao/Imagens/pr_dataset/RGB/specific_e...</td>\n      <td>[/media/xandao/c2f58d30-ff2c-47f7-95af-91ad6fd...</td>\n      <td>[7707, 7723, 8236, 8767, 9678, 9698, 9888, 993...</td>\n    </tr>\n  </tbody>\n</table>\n</div>"
     },
     "metadata": {},
     "output_type": "display_data"
    },
    {
     "data": {
      "text/plain": "     seq  genus specific_epithet genus_trusted specific_epithet_trusted  \\\n0   9735  Piper         arboreum         Piper                 arboreum   \n1  13064  Piper    corcovadensis         Piper                grazielae   \n2   9821  Piper    corcovadensis         Piper                grazielae   \n\n  country_trusted country             county state_province  \\\n0          Brasil  Brazil           Antonina         Paraná   \n1          Brasil  Brasil  Diamante do Norte         Paraná   \n2          Brasil  Brazil    Bocaiúva do Sul         Paraná   \n\n                                                urls  \n0  [https://storage.googleapis.com/cria-zoomify/h...  \n1  [https://storage.googleapis.com/cria-zoomify/h...  \n2  [https://storage.googleapis.com/cria-zoomify/h...  ",
      "text/html": "<div>\n<style scoped>\n    .dataframe tbody tr th:only-of-type {\n        vertical-align: middle;\n    }\n\n    .dataframe tbody tr th {\n        vertical-align: top;\n    }\n\n    .dataframe thead th {\n        text-align: right;\n    }\n</style>\n<table border=\"1\" class=\"dataframe\">\n  <thead>\n    <tr style=\"text-align: right;\">\n      <th></th>\n      <th>seq</th>\n      <th>genus</th>\n      <th>specific_epithet</th>\n      <th>genus_trusted</th>\n      <th>specific_epithet_trusted</th>\n      <th>country_trusted</th>\n      <th>country</th>\n      <th>county</th>\n      <th>state_province</th>\n      <th>urls</th>\n    </tr>\n  </thead>\n  <tbody>\n    <tr>\n      <th>0</th>\n      <td>9735</td>\n      <td>Piper</td>\n      <td>arboreum</td>\n      <td>Piper</td>\n      <td>arboreum</td>\n      <td>Brasil</td>\n      <td>Brazil</td>\n      <td>Antonina</td>\n      <td>Paraná</td>\n      <td>[https://storage.googleapis.com/cria-zoomify/h...</td>\n    </tr>\n    <tr>\n      <th>1</th>\n      <td>13064</td>\n      <td>Piper</td>\n      <td>corcovadensis</td>\n      <td>Piper</td>\n      <td>grazielae</td>\n      <td>Brasil</td>\n      <td>Brasil</td>\n      <td>Diamante do Norte</td>\n      <td>Paraná</td>\n      <td>[https://storage.googleapis.com/cria-zoomify/h...</td>\n    </tr>\n    <tr>\n      <th>2</th>\n      <td>9821</td>\n      <td>Piper</td>\n      <td>corcovadensis</td>\n      <td>Piper</td>\n      <td>grazielae</td>\n      <td>Brasil</td>\n      <td>Brazil</td>\n      <td>Bocaiúva do Sul</td>\n      <td>Paraná</td>\n      <td>[https://storage.googleapis.com/cria-zoomify/h...</td>\n    </tr>\n  </tbody>\n</table>\n</div>"
     },
     "metadata": {},
     "output_type": "display_data"
    },
    {
     "data": {
      "text/plain": "                                                               0\ndst            /home/xandao/Imagens/pr_dataset/RGB/specific_e...\ncolor                                                        rgb\nimage_size                                                   400\nminimum_image                                                  5\nlevel_name                              specific_epithet_trusted\nlevels                                                        55\ntotal                                                       1356\naverage                                                    24.65",
      "text/html": "<div>\n<style scoped>\n    .dataframe tbody tr th:only-of-type {\n        vertical-align: middle;\n    }\n\n    .dataframe tbody tr th {\n        vertical-align: top;\n    }\n\n    .dataframe thead th {\n        text-align: right;\n    }\n</style>\n<table border=\"1\" class=\"dataframe\">\n  <thead>\n    <tr style=\"text-align: right;\">\n      <th></th>\n      <th>0</th>\n    </tr>\n  </thead>\n  <tbody>\n    <tr>\n      <th>dst</th>\n      <td>/home/xandao/Imagens/pr_dataset/RGB/specific_e...</td>\n    </tr>\n    <tr>\n      <th>color</th>\n      <td>rgb</td>\n    </tr>\n    <tr>\n      <th>image_size</th>\n      <td>400</td>\n    </tr>\n    <tr>\n      <th>minimum_image</th>\n      <td>5</td>\n    </tr>\n    <tr>\n      <th>level_name</th>\n      <td>specific_epithet_trusted</td>\n    </tr>\n    <tr>\n      <th>levels</th>\n      <td>55</td>\n    </tr>\n    <tr>\n      <th>total</th>\n      <td>1356</td>\n    </tr>\n    <tr>\n      <th>average</th>\n      <td>24.65</td>\n    </tr>\n  </tbody>\n</table>\n</div>"
     },
     "metadata": {},
     "output_type": "display_data"
    },
    {
     "name": "stdout",
     "output_type": "stream",
     "text": [
      "color: RGB image_size: 400 minimum_image: 10\n",
      "total of levels: 36 total of images: 1237\n"
     ]
    },
    {
     "data": {
      "text/plain": "    levels  count                                                dst  \\\n0  aduncum     33  /home/xandao/Imagens/pr_dataset/RGB/specific_e...   \n1    alata     18  /home/xandao/Imagens/pr_dataset/RGB/specific_e...   \n2  amalago     68  /home/xandao/Imagens/pr_dataset/RGB/specific_e...   \n\n                                               paths  \\\n0  [/media/xandao/c2f58d30-ff2c-47f7-95af-91ad6fd...   \n1  [/media/xandao/c2f58d30-ff2c-47f7-95af-91ad6fd...   \n2  [/media/xandao/c2f58d30-ff2c-47f7-95af-91ad6fd...   \n\n                                                 seq  \n0  [9674, 9927, 10002, 10051, 10094, 10468, 10676...  \n1  [9865, 9884, 9911, 10134, 10178, 10271, 10380,...  \n2  [7707, 7723, 8236, 8767, 9678, 9698, 9888, 993...  ",
      "text/html": "<div>\n<style scoped>\n    .dataframe tbody tr th:only-of-type {\n        vertical-align: middle;\n    }\n\n    .dataframe tbody tr th {\n        vertical-align: top;\n    }\n\n    .dataframe thead th {\n        text-align: right;\n    }\n</style>\n<table border=\"1\" class=\"dataframe\">\n  <thead>\n    <tr style=\"text-align: right;\">\n      <th></th>\n      <th>levels</th>\n      <th>count</th>\n      <th>dst</th>\n      <th>paths</th>\n      <th>seq</th>\n    </tr>\n  </thead>\n  <tbody>\n    <tr>\n      <th>0</th>\n      <td>aduncum</td>\n      <td>33</td>\n      <td>/home/xandao/Imagens/pr_dataset/RGB/specific_e...</td>\n      <td>[/media/xandao/c2f58d30-ff2c-47f7-95af-91ad6fd...</td>\n      <td>[9674, 9927, 10002, 10051, 10094, 10468, 10676...</td>\n    </tr>\n    <tr>\n      <th>1</th>\n      <td>alata</td>\n      <td>18</td>\n      <td>/home/xandao/Imagens/pr_dataset/RGB/specific_e...</td>\n      <td>[/media/xandao/c2f58d30-ff2c-47f7-95af-91ad6fd...</td>\n      <td>[9865, 9884, 9911, 10134, 10178, 10271, 10380,...</td>\n    </tr>\n    <tr>\n      <th>2</th>\n      <td>amalago</td>\n      <td>68</td>\n      <td>/home/xandao/Imagens/pr_dataset/RGB/specific_e...</td>\n      <td>[/media/xandao/c2f58d30-ff2c-47f7-95af-91ad6fd...</td>\n      <td>[7707, 7723, 8236, 8767, 9678, 9698, 9888, 993...</td>\n    </tr>\n  </tbody>\n</table>\n</div>"
     },
     "metadata": {},
     "output_type": "display_data"
    },
    {
     "data": {
      "text/plain": "     seq  genus specific_epithet genus_trusted specific_epithet_trusted  \\\n0   9735  Piper         arboreum         Piper                 arboreum   \n1  13064  Piper    corcovadensis         Piper                grazielae   \n2   9821  Piper    corcovadensis         Piper                grazielae   \n\n  country_trusted country             county state_province  \\\n0          Brasil  Brazil           Antonina         Paraná   \n1          Brasil  Brasil  Diamante do Norte         Paraná   \n2          Brasil  Brazil    Bocaiúva do Sul         Paraná   \n\n                                                urls  \n0  [https://storage.googleapis.com/cria-zoomify/h...  \n1  [https://storage.googleapis.com/cria-zoomify/h...  \n2  [https://storage.googleapis.com/cria-zoomify/h...  ",
      "text/html": "<div>\n<style scoped>\n    .dataframe tbody tr th:only-of-type {\n        vertical-align: middle;\n    }\n\n    .dataframe tbody tr th {\n        vertical-align: top;\n    }\n\n    .dataframe thead th {\n        text-align: right;\n    }\n</style>\n<table border=\"1\" class=\"dataframe\">\n  <thead>\n    <tr style=\"text-align: right;\">\n      <th></th>\n      <th>seq</th>\n      <th>genus</th>\n      <th>specific_epithet</th>\n      <th>genus_trusted</th>\n      <th>specific_epithet_trusted</th>\n      <th>country_trusted</th>\n      <th>country</th>\n      <th>county</th>\n      <th>state_province</th>\n      <th>urls</th>\n    </tr>\n  </thead>\n  <tbody>\n    <tr>\n      <th>0</th>\n      <td>9735</td>\n      <td>Piper</td>\n      <td>arboreum</td>\n      <td>Piper</td>\n      <td>arboreum</td>\n      <td>Brasil</td>\n      <td>Brazil</td>\n      <td>Antonina</td>\n      <td>Paraná</td>\n      <td>[https://storage.googleapis.com/cria-zoomify/h...</td>\n    </tr>\n    <tr>\n      <th>1</th>\n      <td>13064</td>\n      <td>Piper</td>\n      <td>corcovadensis</td>\n      <td>Piper</td>\n      <td>grazielae</td>\n      <td>Brasil</td>\n      <td>Brasil</td>\n      <td>Diamante do Norte</td>\n      <td>Paraná</td>\n      <td>[https://storage.googleapis.com/cria-zoomify/h...</td>\n    </tr>\n    <tr>\n      <th>2</th>\n      <td>9821</td>\n      <td>Piper</td>\n      <td>corcovadensis</td>\n      <td>Piper</td>\n      <td>grazielae</td>\n      <td>Brasil</td>\n      <td>Brazil</td>\n      <td>Bocaiúva do Sul</td>\n      <td>Paraná</td>\n      <td>[https://storage.googleapis.com/cria-zoomify/h...</td>\n    </tr>\n  </tbody>\n</table>\n</div>"
     },
     "metadata": {},
     "output_type": "display_data"
    },
    {
     "data": {
      "text/plain": "                                                               0\ndst            /home/xandao/Imagens/pr_dataset/RGB/specific_e...\ncolor                                                        rgb\nimage_size                                                   400\nminimum_image                                                 10\nlevel_name                              specific_epithet_trusted\nlevels                                                        36\ntotal                                                       1237\naverage                                                    34.36",
      "text/html": "<div>\n<style scoped>\n    .dataframe tbody tr th:only-of-type {\n        vertical-align: middle;\n    }\n\n    .dataframe tbody tr th {\n        vertical-align: top;\n    }\n\n    .dataframe thead th {\n        text-align: right;\n    }\n</style>\n<table border=\"1\" class=\"dataframe\">\n  <thead>\n    <tr style=\"text-align: right;\">\n      <th></th>\n      <th>0</th>\n    </tr>\n  </thead>\n  <tbody>\n    <tr>\n      <th>dst</th>\n      <td>/home/xandao/Imagens/pr_dataset/RGB/specific_e...</td>\n    </tr>\n    <tr>\n      <th>color</th>\n      <td>rgb</td>\n    </tr>\n    <tr>\n      <th>image_size</th>\n      <td>400</td>\n    </tr>\n    <tr>\n      <th>minimum_image</th>\n      <td>10</td>\n    </tr>\n    <tr>\n      <th>level_name</th>\n      <td>specific_epithet_trusted</td>\n    </tr>\n    <tr>\n      <th>levels</th>\n      <td>36</td>\n    </tr>\n    <tr>\n      <th>total</th>\n      <td>1237</td>\n    </tr>\n    <tr>\n      <th>average</th>\n      <td>34.36</td>\n    </tr>\n  </tbody>\n</table>\n</div>"
     },
     "metadata": {},
     "output_type": "display_data"
    },
    {
     "name": "stdout",
     "output_type": "stream",
     "text": [
      "color: RGB image_size: 400 minimum_image: 20\n",
      "total of levels: 23 total of images: 1066\n"
     ]
    },
    {
     "data": {
      "text/plain": "     levels  count                                                dst  \\\n0   aduncum     33  /home/xandao/Imagens/pr_dataset/RGB/specific_e...   \n1   amalago     68  /home/xandao/Imagens/pr_dataset/RGB/specific_e...   \n2  arboreum     35  /home/xandao/Imagens/pr_dataset/RGB/specific_e...   \n\n                                               paths  \\\n0  [/media/xandao/c2f58d30-ff2c-47f7-95af-91ad6fd...   \n1  [/media/xandao/c2f58d30-ff2c-47f7-95af-91ad6fd...   \n2  [/media/xandao/c2f58d30-ff2c-47f7-95af-91ad6fd...   \n\n                                                 seq  \n0  [9674, 9927, 10002, 10051, 10094, 10468, 10676...  \n1  [7707, 7723, 8236, 8767, 9678, 9698, 9888, 993...  \n2  [8834, 9710, 9735, 9749, 9765, 9776, 9842, 991...  ",
      "text/html": "<div>\n<style scoped>\n    .dataframe tbody tr th:only-of-type {\n        vertical-align: middle;\n    }\n\n    .dataframe tbody tr th {\n        vertical-align: top;\n    }\n\n    .dataframe thead th {\n        text-align: right;\n    }\n</style>\n<table border=\"1\" class=\"dataframe\">\n  <thead>\n    <tr style=\"text-align: right;\">\n      <th></th>\n      <th>levels</th>\n      <th>count</th>\n      <th>dst</th>\n      <th>paths</th>\n      <th>seq</th>\n    </tr>\n  </thead>\n  <tbody>\n    <tr>\n      <th>0</th>\n      <td>aduncum</td>\n      <td>33</td>\n      <td>/home/xandao/Imagens/pr_dataset/RGB/specific_e...</td>\n      <td>[/media/xandao/c2f58d30-ff2c-47f7-95af-91ad6fd...</td>\n      <td>[9674, 9927, 10002, 10051, 10094, 10468, 10676...</td>\n    </tr>\n    <tr>\n      <th>1</th>\n      <td>amalago</td>\n      <td>68</td>\n      <td>/home/xandao/Imagens/pr_dataset/RGB/specific_e...</td>\n      <td>[/media/xandao/c2f58d30-ff2c-47f7-95af-91ad6fd...</td>\n      <td>[7707, 7723, 8236, 8767, 9678, 9698, 9888, 993...</td>\n    </tr>\n    <tr>\n      <th>2</th>\n      <td>arboreum</td>\n      <td>35</td>\n      <td>/home/xandao/Imagens/pr_dataset/RGB/specific_e...</td>\n      <td>[/media/xandao/c2f58d30-ff2c-47f7-95af-91ad6fd...</td>\n      <td>[8834, 9710, 9735, 9749, 9765, 9776, 9842, 991...</td>\n    </tr>\n  </tbody>\n</table>\n</div>"
     },
     "metadata": {},
     "output_type": "display_data"
    },
    {
     "data": {
      "text/plain": "     seq  genus specific_epithet genus_trusted specific_epithet_trusted  \\\n0   9735  Piper         arboreum         Piper                 arboreum   \n1  13064  Piper    corcovadensis         Piper                grazielae   \n2   9821  Piper    corcovadensis         Piper                grazielae   \n\n  country_trusted country             county state_province  \\\n0          Brasil  Brazil           Antonina         Paraná   \n1          Brasil  Brasil  Diamante do Norte         Paraná   \n2          Brasil  Brazil    Bocaiúva do Sul         Paraná   \n\n                                                urls  \n0  [https://storage.googleapis.com/cria-zoomify/h...  \n1  [https://storage.googleapis.com/cria-zoomify/h...  \n2  [https://storage.googleapis.com/cria-zoomify/h...  ",
      "text/html": "<div>\n<style scoped>\n    .dataframe tbody tr th:only-of-type {\n        vertical-align: middle;\n    }\n\n    .dataframe tbody tr th {\n        vertical-align: top;\n    }\n\n    .dataframe thead th {\n        text-align: right;\n    }\n</style>\n<table border=\"1\" class=\"dataframe\">\n  <thead>\n    <tr style=\"text-align: right;\">\n      <th></th>\n      <th>seq</th>\n      <th>genus</th>\n      <th>specific_epithet</th>\n      <th>genus_trusted</th>\n      <th>specific_epithet_trusted</th>\n      <th>country_trusted</th>\n      <th>country</th>\n      <th>county</th>\n      <th>state_province</th>\n      <th>urls</th>\n    </tr>\n  </thead>\n  <tbody>\n    <tr>\n      <th>0</th>\n      <td>9735</td>\n      <td>Piper</td>\n      <td>arboreum</td>\n      <td>Piper</td>\n      <td>arboreum</td>\n      <td>Brasil</td>\n      <td>Brazil</td>\n      <td>Antonina</td>\n      <td>Paraná</td>\n      <td>[https://storage.googleapis.com/cria-zoomify/h...</td>\n    </tr>\n    <tr>\n      <th>1</th>\n      <td>13064</td>\n      <td>Piper</td>\n      <td>corcovadensis</td>\n      <td>Piper</td>\n      <td>grazielae</td>\n      <td>Brasil</td>\n      <td>Brasil</td>\n      <td>Diamante do Norte</td>\n      <td>Paraná</td>\n      <td>[https://storage.googleapis.com/cria-zoomify/h...</td>\n    </tr>\n    <tr>\n      <th>2</th>\n      <td>9821</td>\n      <td>Piper</td>\n      <td>corcovadensis</td>\n      <td>Piper</td>\n      <td>grazielae</td>\n      <td>Brasil</td>\n      <td>Brazil</td>\n      <td>Bocaiúva do Sul</td>\n      <td>Paraná</td>\n      <td>[https://storage.googleapis.com/cria-zoomify/h...</td>\n    </tr>\n  </tbody>\n</table>\n</div>"
     },
     "metadata": {},
     "output_type": "display_data"
    },
    {
     "data": {
      "text/plain": "                                                               0\ndst            /home/xandao/Imagens/pr_dataset/RGB/specific_e...\ncolor                                                        rgb\nimage_size                                                   400\nminimum_image                                                 20\nlevel_name                              specific_epithet_trusted\nlevels                                                        23\ntotal                                                       1066\naverage                                                    46.35",
      "text/html": "<div>\n<style scoped>\n    .dataframe tbody tr th:only-of-type {\n        vertical-align: middle;\n    }\n\n    .dataframe tbody tr th {\n        vertical-align: top;\n    }\n\n    .dataframe thead th {\n        text-align: right;\n    }\n</style>\n<table border=\"1\" class=\"dataframe\">\n  <thead>\n    <tr style=\"text-align: right;\">\n      <th></th>\n      <th>0</th>\n    </tr>\n  </thead>\n  <tbody>\n    <tr>\n      <th>dst</th>\n      <td>/home/xandao/Imagens/pr_dataset/RGB/specific_e...</td>\n    </tr>\n    <tr>\n      <th>color</th>\n      <td>rgb</td>\n    </tr>\n    <tr>\n      <th>image_size</th>\n      <td>400</td>\n    </tr>\n    <tr>\n      <th>minimum_image</th>\n      <td>20</td>\n    </tr>\n    <tr>\n      <th>level_name</th>\n      <td>specific_epithet_trusted</td>\n    </tr>\n    <tr>\n      <th>levels</th>\n      <td>23</td>\n    </tr>\n    <tr>\n      <th>total</th>\n      <td>1066</td>\n    </tr>\n    <tr>\n      <th>average</th>\n      <td>46.35</td>\n    </tr>\n  </tbody>\n</table>\n</div>"
     },
     "metadata": {},
     "output_type": "display_data"
    },
    {
     "name": "stdout",
     "output_type": "stream",
     "text": [
      "color: RGB image_size: 512 minimum_image: 5\n",
      "total of levels: 55 total of images: 1356\n"
     ]
    },
    {
     "data": {
      "text/plain": "    levels  count                                                dst  \\\n0  aduncum     33  /home/xandao/Imagens/pr_dataset/RGB/specific_e...   \n1    alata     18  /home/xandao/Imagens/pr_dataset/RGB/specific_e...   \n2  amalago     68  /home/xandao/Imagens/pr_dataset/RGB/specific_e...   \n\n                                               paths  \\\n0  [/media/xandao/c2f58d30-ff2c-47f7-95af-91ad6fd...   \n1  [/media/xandao/c2f58d30-ff2c-47f7-95af-91ad6fd...   \n2  [/media/xandao/c2f58d30-ff2c-47f7-95af-91ad6fd...   \n\n                                                 seq  \n0  [9674, 9927, 10002, 10051, 10094, 10468, 10676...  \n1  [9865, 9884, 9911, 10134, 10178, 10271, 10380,...  \n2  [7707, 7723, 8236, 8767, 9678, 9698, 9888, 993...  ",
      "text/html": "<div>\n<style scoped>\n    .dataframe tbody tr th:only-of-type {\n        vertical-align: middle;\n    }\n\n    .dataframe tbody tr th {\n        vertical-align: top;\n    }\n\n    .dataframe thead th {\n        text-align: right;\n    }\n</style>\n<table border=\"1\" class=\"dataframe\">\n  <thead>\n    <tr style=\"text-align: right;\">\n      <th></th>\n      <th>levels</th>\n      <th>count</th>\n      <th>dst</th>\n      <th>paths</th>\n      <th>seq</th>\n    </tr>\n  </thead>\n  <tbody>\n    <tr>\n      <th>0</th>\n      <td>aduncum</td>\n      <td>33</td>\n      <td>/home/xandao/Imagens/pr_dataset/RGB/specific_e...</td>\n      <td>[/media/xandao/c2f58d30-ff2c-47f7-95af-91ad6fd...</td>\n      <td>[9674, 9927, 10002, 10051, 10094, 10468, 10676...</td>\n    </tr>\n    <tr>\n      <th>1</th>\n      <td>alata</td>\n      <td>18</td>\n      <td>/home/xandao/Imagens/pr_dataset/RGB/specific_e...</td>\n      <td>[/media/xandao/c2f58d30-ff2c-47f7-95af-91ad6fd...</td>\n      <td>[9865, 9884, 9911, 10134, 10178, 10271, 10380,...</td>\n    </tr>\n    <tr>\n      <th>2</th>\n      <td>amalago</td>\n      <td>68</td>\n      <td>/home/xandao/Imagens/pr_dataset/RGB/specific_e...</td>\n      <td>[/media/xandao/c2f58d30-ff2c-47f7-95af-91ad6fd...</td>\n      <td>[7707, 7723, 8236, 8767, 9678, 9698, 9888, 993...</td>\n    </tr>\n  </tbody>\n</table>\n</div>"
     },
     "metadata": {},
     "output_type": "display_data"
    },
    {
     "data": {
      "text/plain": "     seq  genus specific_epithet genus_trusted specific_epithet_trusted  \\\n0   9735  Piper         arboreum         Piper                 arboreum   \n1  13064  Piper    corcovadensis         Piper                grazielae   \n2   9821  Piper    corcovadensis         Piper                grazielae   \n\n  country_trusted country             county state_province  \\\n0          Brasil  Brazil           Antonina         Paraná   \n1          Brasil  Brasil  Diamante do Norte         Paraná   \n2          Brasil  Brazil    Bocaiúva do Sul         Paraná   \n\n                                                urls  \n0  [https://storage.googleapis.com/cria-zoomify/h...  \n1  [https://storage.googleapis.com/cria-zoomify/h...  \n2  [https://storage.googleapis.com/cria-zoomify/h...  ",
      "text/html": "<div>\n<style scoped>\n    .dataframe tbody tr th:only-of-type {\n        vertical-align: middle;\n    }\n\n    .dataframe tbody tr th {\n        vertical-align: top;\n    }\n\n    .dataframe thead th {\n        text-align: right;\n    }\n</style>\n<table border=\"1\" class=\"dataframe\">\n  <thead>\n    <tr style=\"text-align: right;\">\n      <th></th>\n      <th>seq</th>\n      <th>genus</th>\n      <th>specific_epithet</th>\n      <th>genus_trusted</th>\n      <th>specific_epithet_trusted</th>\n      <th>country_trusted</th>\n      <th>country</th>\n      <th>county</th>\n      <th>state_province</th>\n      <th>urls</th>\n    </tr>\n  </thead>\n  <tbody>\n    <tr>\n      <th>0</th>\n      <td>9735</td>\n      <td>Piper</td>\n      <td>arboreum</td>\n      <td>Piper</td>\n      <td>arboreum</td>\n      <td>Brasil</td>\n      <td>Brazil</td>\n      <td>Antonina</td>\n      <td>Paraná</td>\n      <td>[https://storage.googleapis.com/cria-zoomify/h...</td>\n    </tr>\n    <tr>\n      <th>1</th>\n      <td>13064</td>\n      <td>Piper</td>\n      <td>corcovadensis</td>\n      <td>Piper</td>\n      <td>grazielae</td>\n      <td>Brasil</td>\n      <td>Brasil</td>\n      <td>Diamante do Norte</td>\n      <td>Paraná</td>\n      <td>[https://storage.googleapis.com/cria-zoomify/h...</td>\n    </tr>\n    <tr>\n      <th>2</th>\n      <td>9821</td>\n      <td>Piper</td>\n      <td>corcovadensis</td>\n      <td>Piper</td>\n      <td>grazielae</td>\n      <td>Brasil</td>\n      <td>Brazil</td>\n      <td>Bocaiúva do Sul</td>\n      <td>Paraná</td>\n      <td>[https://storage.googleapis.com/cria-zoomify/h...</td>\n    </tr>\n  </tbody>\n</table>\n</div>"
     },
     "metadata": {},
     "output_type": "display_data"
    },
    {
     "data": {
      "text/plain": "                                                               0\ndst            /home/xandao/Imagens/pr_dataset/RGB/specific_e...\ncolor                                                        rgb\nimage_size                                                   512\nminimum_image                                                  5\nlevel_name                              specific_epithet_trusted\nlevels                                                        55\ntotal                                                       1356\naverage                                                    24.65",
      "text/html": "<div>\n<style scoped>\n    .dataframe tbody tr th:only-of-type {\n        vertical-align: middle;\n    }\n\n    .dataframe tbody tr th {\n        vertical-align: top;\n    }\n\n    .dataframe thead th {\n        text-align: right;\n    }\n</style>\n<table border=\"1\" class=\"dataframe\">\n  <thead>\n    <tr style=\"text-align: right;\">\n      <th></th>\n      <th>0</th>\n    </tr>\n  </thead>\n  <tbody>\n    <tr>\n      <th>dst</th>\n      <td>/home/xandao/Imagens/pr_dataset/RGB/specific_e...</td>\n    </tr>\n    <tr>\n      <th>color</th>\n      <td>rgb</td>\n    </tr>\n    <tr>\n      <th>image_size</th>\n      <td>512</td>\n    </tr>\n    <tr>\n      <th>minimum_image</th>\n      <td>5</td>\n    </tr>\n    <tr>\n      <th>level_name</th>\n      <td>specific_epithet_trusted</td>\n    </tr>\n    <tr>\n      <th>levels</th>\n      <td>55</td>\n    </tr>\n    <tr>\n      <th>total</th>\n      <td>1356</td>\n    </tr>\n    <tr>\n      <th>average</th>\n      <td>24.65</td>\n    </tr>\n  </tbody>\n</table>\n</div>"
     },
     "metadata": {},
     "output_type": "display_data"
    },
    {
     "name": "stdout",
     "output_type": "stream",
     "text": [
      "color: RGB image_size: 512 minimum_image: 10\n",
      "total of levels: 36 total of images: 1237\n"
     ]
    },
    {
     "data": {
      "text/plain": "    levels  count                                                dst  \\\n0  aduncum     33  /home/xandao/Imagens/pr_dataset/RGB/specific_e...   \n1    alata     18  /home/xandao/Imagens/pr_dataset/RGB/specific_e...   \n2  amalago     68  /home/xandao/Imagens/pr_dataset/RGB/specific_e...   \n\n                                               paths  \\\n0  [/media/xandao/c2f58d30-ff2c-47f7-95af-91ad6fd...   \n1  [/media/xandao/c2f58d30-ff2c-47f7-95af-91ad6fd...   \n2  [/media/xandao/c2f58d30-ff2c-47f7-95af-91ad6fd...   \n\n                                                 seq  \n0  [9674, 9927, 10002, 10051, 10094, 10468, 10676...  \n1  [9865, 9884, 9911, 10134, 10178, 10271, 10380,...  \n2  [7707, 7723, 8236, 8767, 9678, 9698, 9888, 993...  ",
      "text/html": "<div>\n<style scoped>\n    .dataframe tbody tr th:only-of-type {\n        vertical-align: middle;\n    }\n\n    .dataframe tbody tr th {\n        vertical-align: top;\n    }\n\n    .dataframe thead th {\n        text-align: right;\n    }\n</style>\n<table border=\"1\" class=\"dataframe\">\n  <thead>\n    <tr style=\"text-align: right;\">\n      <th></th>\n      <th>levels</th>\n      <th>count</th>\n      <th>dst</th>\n      <th>paths</th>\n      <th>seq</th>\n    </tr>\n  </thead>\n  <tbody>\n    <tr>\n      <th>0</th>\n      <td>aduncum</td>\n      <td>33</td>\n      <td>/home/xandao/Imagens/pr_dataset/RGB/specific_e...</td>\n      <td>[/media/xandao/c2f58d30-ff2c-47f7-95af-91ad6fd...</td>\n      <td>[9674, 9927, 10002, 10051, 10094, 10468, 10676...</td>\n    </tr>\n    <tr>\n      <th>1</th>\n      <td>alata</td>\n      <td>18</td>\n      <td>/home/xandao/Imagens/pr_dataset/RGB/specific_e...</td>\n      <td>[/media/xandao/c2f58d30-ff2c-47f7-95af-91ad6fd...</td>\n      <td>[9865, 9884, 9911, 10134, 10178, 10271, 10380,...</td>\n    </tr>\n    <tr>\n      <th>2</th>\n      <td>amalago</td>\n      <td>68</td>\n      <td>/home/xandao/Imagens/pr_dataset/RGB/specific_e...</td>\n      <td>[/media/xandao/c2f58d30-ff2c-47f7-95af-91ad6fd...</td>\n      <td>[7707, 7723, 8236, 8767, 9678, 9698, 9888, 993...</td>\n    </tr>\n  </tbody>\n</table>\n</div>"
     },
     "metadata": {},
     "output_type": "display_data"
    },
    {
     "data": {
      "text/plain": "     seq  genus specific_epithet genus_trusted specific_epithet_trusted  \\\n0   9735  Piper         arboreum         Piper                 arboreum   \n1  13064  Piper    corcovadensis         Piper                grazielae   \n2   9821  Piper    corcovadensis         Piper                grazielae   \n\n  country_trusted country             county state_province  \\\n0          Brasil  Brazil           Antonina         Paraná   \n1          Brasil  Brasil  Diamante do Norte         Paraná   \n2          Brasil  Brazil    Bocaiúva do Sul         Paraná   \n\n                                                urls  \n0  [https://storage.googleapis.com/cria-zoomify/h...  \n1  [https://storage.googleapis.com/cria-zoomify/h...  \n2  [https://storage.googleapis.com/cria-zoomify/h...  ",
      "text/html": "<div>\n<style scoped>\n    .dataframe tbody tr th:only-of-type {\n        vertical-align: middle;\n    }\n\n    .dataframe tbody tr th {\n        vertical-align: top;\n    }\n\n    .dataframe thead th {\n        text-align: right;\n    }\n</style>\n<table border=\"1\" class=\"dataframe\">\n  <thead>\n    <tr style=\"text-align: right;\">\n      <th></th>\n      <th>seq</th>\n      <th>genus</th>\n      <th>specific_epithet</th>\n      <th>genus_trusted</th>\n      <th>specific_epithet_trusted</th>\n      <th>country_trusted</th>\n      <th>country</th>\n      <th>county</th>\n      <th>state_province</th>\n      <th>urls</th>\n    </tr>\n  </thead>\n  <tbody>\n    <tr>\n      <th>0</th>\n      <td>9735</td>\n      <td>Piper</td>\n      <td>arboreum</td>\n      <td>Piper</td>\n      <td>arboreum</td>\n      <td>Brasil</td>\n      <td>Brazil</td>\n      <td>Antonina</td>\n      <td>Paraná</td>\n      <td>[https://storage.googleapis.com/cria-zoomify/h...</td>\n    </tr>\n    <tr>\n      <th>1</th>\n      <td>13064</td>\n      <td>Piper</td>\n      <td>corcovadensis</td>\n      <td>Piper</td>\n      <td>grazielae</td>\n      <td>Brasil</td>\n      <td>Brasil</td>\n      <td>Diamante do Norte</td>\n      <td>Paraná</td>\n      <td>[https://storage.googleapis.com/cria-zoomify/h...</td>\n    </tr>\n    <tr>\n      <th>2</th>\n      <td>9821</td>\n      <td>Piper</td>\n      <td>corcovadensis</td>\n      <td>Piper</td>\n      <td>grazielae</td>\n      <td>Brasil</td>\n      <td>Brazil</td>\n      <td>Bocaiúva do Sul</td>\n      <td>Paraná</td>\n      <td>[https://storage.googleapis.com/cria-zoomify/h...</td>\n    </tr>\n  </tbody>\n</table>\n</div>"
     },
     "metadata": {},
     "output_type": "display_data"
    },
    {
     "data": {
      "text/plain": "                                                               0\ndst            /home/xandao/Imagens/pr_dataset/RGB/specific_e...\ncolor                                                        rgb\nimage_size                                                   512\nminimum_image                                                 10\nlevel_name                              specific_epithet_trusted\nlevels                                                        36\ntotal                                                       1237\naverage                                                    34.36",
      "text/html": "<div>\n<style scoped>\n    .dataframe tbody tr th:only-of-type {\n        vertical-align: middle;\n    }\n\n    .dataframe tbody tr th {\n        vertical-align: top;\n    }\n\n    .dataframe thead th {\n        text-align: right;\n    }\n</style>\n<table border=\"1\" class=\"dataframe\">\n  <thead>\n    <tr style=\"text-align: right;\">\n      <th></th>\n      <th>0</th>\n    </tr>\n  </thead>\n  <tbody>\n    <tr>\n      <th>dst</th>\n      <td>/home/xandao/Imagens/pr_dataset/RGB/specific_e...</td>\n    </tr>\n    <tr>\n      <th>color</th>\n      <td>rgb</td>\n    </tr>\n    <tr>\n      <th>image_size</th>\n      <td>512</td>\n    </tr>\n    <tr>\n      <th>minimum_image</th>\n      <td>10</td>\n    </tr>\n    <tr>\n      <th>level_name</th>\n      <td>specific_epithet_trusted</td>\n    </tr>\n    <tr>\n      <th>levels</th>\n      <td>36</td>\n    </tr>\n    <tr>\n      <th>total</th>\n      <td>1237</td>\n    </tr>\n    <tr>\n      <th>average</th>\n      <td>34.36</td>\n    </tr>\n  </tbody>\n</table>\n</div>"
     },
     "metadata": {},
     "output_type": "display_data"
    },
    {
     "name": "stdout",
     "output_type": "stream",
     "text": [
      "color: RGB image_size: 512 minimum_image: 20\n",
      "total of levels: 23 total of images: 1066\n"
     ]
    },
    {
     "data": {
      "text/plain": "     levels  count                                                dst  \\\n0   aduncum     33  /home/xandao/Imagens/pr_dataset/RGB/specific_e...   \n1   amalago     68  /home/xandao/Imagens/pr_dataset/RGB/specific_e...   \n2  arboreum     35  /home/xandao/Imagens/pr_dataset/RGB/specific_e...   \n\n                                               paths  \\\n0  [/media/xandao/c2f58d30-ff2c-47f7-95af-91ad6fd...   \n1  [/media/xandao/c2f58d30-ff2c-47f7-95af-91ad6fd...   \n2  [/media/xandao/c2f58d30-ff2c-47f7-95af-91ad6fd...   \n\n                                                 seq  \n0  [9674, 9927, 10002, 10051, 10094, 10468, 10676...  \n1  [7707, 7723, 8236, 8767, 9678, 9698, 9888, 993...  \n2  [8834, 9710, 9735, 9749, 9765, 9776, 9842, 991...  ",
      "text/html": "<div>\n<style scoped>\n    .dataframe tbody tr th:only-of-type {\n        vertical-align: middle;\n    }\n\n    .dataframe tbody tr th {\n        vertical-align: top;\n    }\n\n    .dataframe thead th {\n        text-align: right;\n    }\n</style>\n<table border=\"1\" class=\"dataframe\">\n  <thead>\n    <tr style=\"text-align: right;\">\n      <th></th>\n      <th>levels</th>\n      <th>count</th>\n      <th>dst</th>\n      <th>paths</th>\n      <th>seq</th>\n    </tr>\n  </thead>\n  <tbody>\n    <tr>\n      <th>0</th>\n      <td>aduncum</td>\n      <td>33</td>\n      <td>/home/xandao/Imagens/pr_dataset/RGB/specific_e...</td>\n      <td>[/media/xandao/c2f58d30-ff2c-47f7-95af-91ad6fd...</td>\n      <td>[9674, 9927, 10002, 10051, 10094, 10468, 10676...</td>\n    </tr>\n    <tr>\n      <th>1</th>\n      <td>amalago</td>\n      <td>68</td>\n      <td>/home/xandao/Imagens/pr_dataset/RGB/specific_e...</td>\n      <td>[/media/xandao/c2f58d30-ff2c-47f7-95af-91ad6fd...</td>\n      <td>[7707, 7723, 8236, 8767, 9678, 9698, 9888, 993...</td>\n    </tr>\n    <tr>\n      <th>2</th>\n      <td>arboreum</td>\n      <td>35</td>\n      <td>/home/xandao/Imagens/pr_dataset/RGB/specific_e...</td>\n      <td>[/media/xandao/c2f58d30-ff2c-47f7-95af-91ad6fd...</td>\n      <td>[8834, 9710, 9735, 9749, 9765, 9776, 9842, 991...</td>\n    </tr>\n  </tbody>\n</table>\n</div>"
     },
     "metadata": {},
     "output_type": "display_data"
    },
    {
     "data": {
      "text/plain": "     seq  genus specific_epithet genus_trusted specific_epithet_trusted  \\\n0   9735  Piper         arboreum         Piper                 arboreum   \n1  13064  Piper    corcovadensis         Piper                grazielae   \n2   9821  Piper    corcovadensis         Piper                grazielae   \n\n  country_trusted country             county state_province  \\\n0          Brasil  Brazil           Antonina         Paraná   \n1          Brasil  Brasil  Diamante do Norte         Paraná   \n2          Brasil  Brazil    Bocaiúva do Sul         Paraná   \n\n                                                urls  \n0  [https://storage.googleapis.com/cria-zoomify/h...  \n1  [https://storage.googleapis.com/cria-zoomify/h...  \n2  [https://storage.googleapis.com/cria-zoomify/h...  ",
      "text/html": "<div>\n<style scoped>\n    .dataframe tbody tr th:only-of-type {\n        vertical-align: middle;\n    }\n\n    .dataframe tbody tr th {\n        vertical-align: top;\n    }\n\n    .dataframe thead th {\n        text-align: right;\n    }\n</style>\n<table border=\"1\" class=\"dataframe\">\n  <thead>\n    <tr style=\"text-align: right;\">\n      <th></th>\n      <th>seq</th>\n      <th>genus</th>\n      <th>specific_epithet</th>\n      <th>genus_trusted</th>\n      <th>specific_epithet_trusted</th>\n      <th>country_trusted</th>\n      <th>country</th>\n      <th>county</th>\n      <th>state_province</th>\n      <th>urls</th>\n    </tr>\n  </thead>\n  <tbody>\n    <tr>\n      <th>0</th>\n      <td>9735</td>\n      <td>Piper</td>\n      <td>arboreum</td>\n      <td>Piper</td>\n      <td>arboreum</td>\n      <td>Brasil</td>\n      <td>Brazil</td>\n      <td>Antonina</td>\n      <td>Paraná</td>\n      <td>[https://storage.googleapis.com/cria-zoomify/h...</td>\n    </tr>\n    <tr>\n      <th>1</th>\n      <td>13064</td>\n      <td>Piper</td>\n      <td>corcovadensis</td>\n      <td>Piper</td>\n      <td>grazielae</td>\n      <td>Brasil</td>\n      <td>Brasil</td>\n      <td>Diamante do Norte</td>\n      <td>Paraná</td>\n      <td>[https://storage.googleapis.com/cria-zoomify/h...</td>\n    </tr>\n    <tr>\n      <th>2</th>\n      <td>9821</td>\n      <td>Piper</td>\n      <td>corcovadensis</td>\n      <td>Piper</td>\n      <td>grazielae</td>\n      <td>Brasil</td>\n      <td>Brazil</td>\n      <td>Bocaiúva do Sul</td>\n      <td>Paraná</td>\n      <td>[https://storage.googleapis.com/cria-zoomify/h...</td>\n    </tr>\n  </tbody>\n</table>\n</div>"
     },
     "metadata": {},
     "output_type": "display_data"
    },
    {
     "data": {
      "text/plain": "                                                               0\ndst            /home/xandao/Imagens/pr_dataset/RGB/specific_e...\ncolor                                                        rgb\nimage_size                                                   512\nminimum_image                                                 20\nlevel_name                              specific_epithet_trusted\nlevels                                                        23\ntotal                                                       1066\naverage                                                    46.35",
      "text/html": "<div>\n<style scoped>\n    .dataframe tbody tr th:only-of-type {\n        vertical-align: middle;\n    }\n\n    .dataframe tbody tr th {\n        vertical-align: top;\n    }\n\n    .dataframe thead th {\n        text-align: right;\n    }\n</style>\n<table border=\"1\" class=\"dataframe\">\n  <thead>\n    <tr style=\"text-align: right;\">\n      <th></th>\n      <th>0</th>\n    </tr>\n  </thead>\n  <tbody>\n    <tr>\n      <th>dst</th>\n      <td>/home/xandao/Imagens/pr_dataset/RGB/specific_e...</td>\n    </tr>\n    <tr>\n      <th>color</th>\n      <td>rgb</td>\n    </tr>\n    <tr>\n      <th>image_size</th>\n      <td>512</td>\n    </tr>\n    <tr>\n      <th>minimum_image</th>\n      <td>20</td>\n    </tr>\n    <tr>\n      <th>level_name</th>\n      <td>specific_epithet_trusted</td>\n    </tr>\n    <tr>\n      <th>levels</th>\n      <td>23</td>\n    </tr>\n    <tr>\n      <th>total</th>\n      <td>1066</td>\n    </tr>\n    <tr>\n      <th>average</th>\n      <td>46.35</td>\n    </tr>\n  </tbody>\n</table>\n</div>"
     },
     "metadata": {},
     "output_type": "display_data"
    },
    {
     "name": "stdout",
     "output_type": "stream",
     "text": [
      "color: GRAYSCALE image_size: 256 minimum_image: 5\n",
      "total of levels: 55 total of images: 1356\n"
     ]
    },
    {
     "data": {
      "text/plain": "    levels  count                                                dst  \\\n0  aduncum     33  /home/xandao/Imagens/pr_dataset/GRAYSCALE/spec...   \n1    alata     18  /home/xandao/Imagens/pr_dataset/GRAYSCALE/spec...   \n2  amalago     68  /home/xandao/Imagens/pr_dataset/GRAYSCALE/spec...   \n\n                                               paths  \\\n0  [/media/xandao/c2f58d30-ff2c-47f7-95af-91ad6fd...   \n1  [/media/xandao/c2f58d30-ff2c-47f7-95af-91ad6fd...   \n2  [/media/xandao/c2f58d30-ff2c-47f7-95af-91ad6fd...   \n\n                                                 seq  \n0  [9674, 9927, 10002, 10051, 10094, 10468, 10676...  \n1  [9865, 9884, 9911, 10134, 10178, 10271, 10380,...  \n2  [7707, 7723, 8236, 8767, 9678, 9698, 9888, 993...  ",
      "text/html": "<div>\n<style scoped>\n    .dataframe tbody tr th:only-of-type {\n        vertical-align: middle;\n    }\n\n    .dataframe tbody tr th {\n        vertical-align: top;\n    }\n\n    .dataframe thead th {\n        text-align: right;\n    }\n</style>\n<table border=\"1\" class=\"dataframe\">\n  <thead>\n    <tr style=\"text-align: right;\">\n      <th></th>\n      <th>levels</th>\n      <th>count</th>\n      <th>dst</th>\n      <th>paths</th>\n      <th>seq</th>\n    </tr>\n  </thead>\n  <tbody>\n    <tr>\n      <th>0</th>\n      <td>aduncum</td>\n      <td>33</td>\n      <td>/home/xandao/Imagens/pr_dataset/GRAYSCALE/spec...</td>\n      <td>[/media/xandao/c2f58d30-ff2c-47f7-95af-91ad6fd...</td>\n      <td>[9674, 9927, 10002, 10051, 10094, 10468, 10676...</td>\n    </tr>\n    <tr>\n      <th>1</th>\n      <td>alata</td>\n      <td>18</td>\n      <td>/home/xandao/Imagens/pr_dataset/GRAYSCALE/spec...</td>\n      <td>[/media/xandao/c2f58d30-ff2c-47f7-95af-91ad6fd...</td>\n      <td>[9865, 9884, 9911, 10134, 10178, 10271, 10380,...</td>\n    </tr>\n    <tr>\n      <th>2</th>\n      <td>amalago</td>\n      <td>68</td>\n      <td>/home/xandao/Imagens/pr_dataset/GRAYSCALE/spec...</td>\n      <td>[/media/xandao/c2f58d30-ff2c-47f7-95af-91ad6fd...</td>\n      <td>[7707, 7723, 8236, 8767, 9678, 9698, 9888, 993...</td>\n    </tr>\n  </tbody>\n</table>\n</div>"
     },
     "metadata": {},
     "output_type": "display_data"
    },
    {
     "data": {
      "text/plain": "     seq  genus specific_epithet genus_trusted specific_epithet_trusted  \\\n0   9735  Piper         arboreum         Piper                 arboreum   \n1  13064  Piper    corcovadensis         Piper                grazielae   \n2   9821  Piper    corcovadensis         Piper                grazielae   \n\n  country_trusted country             county state_province  \\\n0          Brasil  Brazil           Antonina         Paraná   \n1          Brasil  Brasil  Diamante do Norte         Paraná   \n2          Brasil  Brazil    Bocaiúva do Sul         Paraná   \n\n                                                urls  \n0  [https://storage.googleapis.com/cria-zoomify/h...  \n1  [https://storage.googleapis.com/cria-zoomify/h...  \n2  [https://storage.googleapis.com/cria-zoomify/h...  ",
      "text/html": "<div>\n<style scoped>\n    .dataframe tbody tr th:only-of-type {\n        vertical-align: middle;\n    }\n\n    .dataframe tbody tr th {\n        vertical-align: top;\n    }\n\n    .dataframe thead th {\n        text-align: right;\n    }\n</style>\n<table border=\"1\" class=\"dataframe\">\n  <thead>\n    <tr style=\"text-align: right;\">\n      <th></th>\n      <th>seq</th>\n      <th>genus</th>\n      <th>specific_epithet</th>\n      <th>genus_trusted</th>\n      <th>specific_epithet_trusted</th>\n      <th>country_trusted</th>\n      <th>country</th>\n      <th>county</th>\n      <th>state_province</th>\n      <th>urls</th>\n    </tr>\n  </thead>\n  <tbody>\n    <tr>\n      <th>0</th>\n      <td>9735</td>\n      <td>Piper</td>\n      <td>arboreum</td>\n      <td>Piper</td>\n      <td>arboreum</td>\n      <td>Brasil</td>\n      <td>Brazil</td>\n      <td>Antonina</td>\n      <td>Paraná</td>\n      <td>[https://storage.googleapis.com/cria-zoomify/h...</td>\n    </tr>\n    <tr>\n      <th>1</th>\n      <td>13064</td>\n      <td>Piper</td>\n      <td>corcovadensis</td>\n      <td>Piper</td>\n      <td>grazielae</td>\n      <td>Brasil</td>\n      <td>Brasil</td>\n      <td>Diamante do Norte</td>\n      <td>Paraná</td>\n      <td>[https://storage.googleapis.com/cria-zoomify/h...</td>\n    </tr>\n    <tr>\n      <th>2</th>\n      <td>9821</td>\n      <td>Piper</td>\n      <td>corcovadensis</td>\n      <td>Piper</td>\n      <td>grazielae</td>\n      <td>Brasil</td>\n      <td>Brazil</td>\n      <td>Bocaiúva do Sul</td>\n      <td>Paraná</td>\n      <td>[https://storage.googleapis.com/cria-zoomify/h...</td>\n    </tr>\n  </tbody>\n</table>\n</div>"
     },
     "metadata": {},
     "output_type": "display_data"
    },
    {
     "data": {
      "text/plain": "                                                               0\ndst            /home/xandao/Imagens/pr_dataset/GRAYSCALE/spec...\ncolor                                                  grayscale\nimage_size                                                   256\nminimum_image                                                  5\nlevel_name                              specific_epithet_trusted\nlevels                                                        55\ntotal                                                       1356\naverage                                                    24.65",
      "text/html": "<div>\n<style scoped>\n    .dataframe tbody tr th:only-of-type {\n        vertical-align: middle;\n    }\n\n    .dataframe tbody tr th {\n        vertical-align: top;\n    }\n\n    .dataframe thead th {\n        text-align: right;\n    }\n</style>\n<table border=\"1\" class=\"dataframe\">\n  <thead>\n    <tr style=\"text-align: right;\">\n      <th></th>\n      <th>0</th>\n    </tr>\n  </thead>\n  <tbody>\n    <tr>\n      <th>dst</th>\n      <td>/home/xandao/Imagens/pr_dataset/GRAYSCALE/spec...</td>\n    </tr>\n    <tr>\n      <th>color</th>\n      <td>grayscale</td>\n    </tr>\n    <tr>\n      <th>image_size</th>\n      <td>256</td>\n    </tr>\n    <tr>\n      <th>minimum_image</th>\n      <td>5</td>\n    </tr>\n    <tr>\n      <th>level_name</th>\n      <td>specific_epithet_trusted</td>\n    </tr>\n    <tr>\n      <th>levels</th>\n      <td>55</td>\n    </tr>\n    <tr>\n      <th>total</th>\n      <td>1356</td>\n    </tr>\n    <tr>\n      <th>average</th>\n      <td>24.65</td>\n    </tr>\n  </tbody>\n</table>\n</div>"
     },
     "metadata": {},
     "output_type": "display_data"
    },
    {
     "name": "stdout",
     "output_type": "stream",
     "text": [
      "color: GRAYSCALE image_size: 256 minimum_image: 10\n",
      "total of levels: 36 total of images: 1237\n"
     ]
    },
    {
     "data": {
      "text/plain": "    levels  count                                                dst  \\\n0  aduncum     33  /home/xandao/Imagens/pr_dataset/GRAYSCALE/spec...   \n1    alata     18  /home/xandao/Imagens/pr_dataset/GRAYSCALE/spec...   \n2  amalago     68  /home/xandao/Imagens/pr_dataset/GRAYSCALE/spec...   \n\n                                               paths  \\\n0  [/media/xandao/c2f58d30-ff2c-47f7-95af-91ad6fd...   \n1  [/media/xandao/c2f58d30-ff2c-47f7-95af-91ad6fd...   \n2  [/media/xandao/c2f58d30-ff2c-47f7-95af-91ad6fd...   \n\n                                                 seq  \n0  [9674, 9927, 10002, 10051, 10094, 10468, 10676...  \n1  [9865, 9884, 9911, 10134, 10178, 10271, 10380,...  \n2  [7707, 7723, 8236, 8767, 9678, 9698, 9888, 993...  ",
      "text/html": "<div>\n<style scoped>\n    .dataframe tbody tr th:only-of-type {\n        vertical-align: middle;\n    }\n\n    .dataframe tbody tr th {\n        vertical-align: top;\n    }\n\n    .dataframe thead th {\n        text-align: right;\n    }\n</style>\n<table border=\"1\" class=\"dataframe\">\n  <thead>\n    <tr style=\"text-align: right;\">\n      <th></th>\n      <th>levels</th>\n      <th>count</th>\n      <th>dst</th>\n      <th>paths</th>\n      <th>seq</th>\n    </tr>\n  </thead>\n  <tbody>\n    <tr>\n      <th>0</th>\n      <td>aduncum</td>\n      <td>33</td>\n      <td>/home/xandao/Imagens/pr_dataset/GRAYSCALE/spec...</td>\n      <td>[/media/xandao/c2f58d30-ff2c-47f7-95af-91ad6fd...</td>\n      <td>[9674, 9927, 10002, 10051, 10094, 10468, 10676...</td>\n    </tr>\n    <tr>\n      <th>1</th>\n      <td>alata</td>\n      <td>18</td>\n      <td>/home/xandao/Imagens/pr_dataset/GRAYSCALE/spec...</td>\n      <td>[/media/xandao/c2f58d30-ff2c-47f7-95af-91ad6fd...</td>\n      <td>[9865, 9884, 9911, 10134, 10178, 10271, 10380,...</td>\n    </tr>\n    <tr>\n      <th>2</th>\n      <td>amalago</td>\n      <td>68</td>\n      <td>/home/xandao/Imagens/pr_dataset/GRAYSCALE/spec...</td>\n      <td>[/media/xandao/c2f58d30-ff2c-47f7-95af-91ad6fd...</td>\n      <td>[7707, 7723, 8236, 8767, 9678, 9698, 9888, 993...</td>\n    </tr>\n  </tbody>\n</table>\n</div>"
     },
     "metadata": {},
     "output_type": "display_data"
    },
    {
     "data": {
      "text/plain": "     seq  genus specific_epithet genus_trusted specific_epithet_trusted  \\\n0   9735  Piper         arboreum         Piper                 arboreum   \n1  13064  Piper    corcovadensis         Piper                grazielae   \n2   9821  Piper    corcovadensis         Piper                grazielae   \n\n  country_trusted country             county state_province  \\\n0          Brasil  Brazil           Antonina         Paraná   \n1          Brasil  Brasil  Diamante do Norte         Paraná   \n2          Brasil  Brazil    Bocaiúva do Sul         Paraná   \n\n                                                urls  \n0  [https://storage.googleapis.com/cria-zoomify/h...  \n1  [https://storage.googleapis.com/cria-zoomify/h...  \n2  [https://storage.googleapis.com/cria-zoomify/h...  ",
      "text/html": "<div>\n<style scoped>\n    .dataframe tbody tr th:only-of-type {\n        vertical-align: middle;\n    }\n\n    .dataframe tbody tr th {\n        vertical-align: top;\n    }\n\n    .dataframe thead th {\n        text-align: right;\n    }\n</style>\n<table border=\"1\" class=\"dataframe\">\n  <thead>\n    <tr style=\"text-align: right;\">\n      <th></th>\n      <th>seq</th>\n      <th>genus</th>\n      <th>specific_epithet</th>\n      <th>genus_trusted</th>\n      <th>specific_epithet_trusted</th>\n      <th>country_trusted</th>\n      <th>country</th>\n      <th>county</th>\n      <th>state_province</th>\n      <th>urls</th>\n    </tr>\n  </thead>\n  <tbody>\n    <tr>\n      <th>0</th>\n      <td>9735</td>\n      <td>Piper</td>\n      <td>arboreum</td>\n      <td>Piper</td>\n      <td>arboreum</td>\n      <td>Brasil</td>\n      <td>Brazil</td>\n      <td>Antonina</td>\n      <td>Paraná</td>\n      <td>[https://storage.googleapis.com/cria-zoomify/h...</td>\n    </tr>\n    <tr>\n      <th>1</th>\n      <td>13064</td>\n      <td>Piper</td>\n      <td>corcovadensis</td>\n      <td>Piper</td>\n      <td>grazielae</td>\n      <td>Brasil</td>\n      <td>Brasil</td>\n      <td>Diamante do Norte</td>\n      <td>Paraná</td>\n      <td>[https://storage.googleapis.com/cria-zoomify/h...</td>\n    </tr>\n    <tr>\n      <th>2</th>\n      <td>9821</td>\n      <td>Piper</td>\n      <td>corcovadensis</td>\n      <td>Piper</td>\n      <td>grazielae</td>\n      <td>Brasil</td>\n      <td>Brazil</td>\n      <td>Bocaiúva do Sul</td>\n      <td>Paraná</td>\n      <td>[https://storage.googleapis.com/cria-zoomify/h...</td>\n    </tr>\n  </tbody>\n</table>\n</div>"
     },
     "metadata": {},
     "output_type": "display_data"
    },
    {
     "data": {
      "text/plain": "                                                               0\ndst            /home/xandao/Imagens/pr_dataset/GRAYSCALE/spec...\ncolor                                                  grayscale\nimage_size                                                   256\nminimum_image                                                 10\nlevel_name                              specific_epithet_trusted\nlevels                                                        36\ntotal                                                       1237\naverage                                                    34.36",
      "text/html": "<div>\n<style scoped>\n    .dataframe tbody tr th:only-of-type {\n        vertical-align: middle;\n    }\n\n    .dataframe tbody tr th {\n        vertical-align: top;\n    }\n\n    .dataframe thead th {\n        text-align: right;\n    }\n</style>\n<table border=\"1\" class=\"dataframe\">\n  <thead>\n    <tr style=\"text-align: right;\">\n      <th></th>\n      <th>0</th>\n    </tr>\n  </thead>\n  <tbody>\n    <tr>\n      <th>dst</th>\n      <td>/home/xandao/Imagens/pr_dataset/GRAYSCALE/spec...</td>\n    </tr>\n    <tr>\n      <th>color</th>\n      <td>grayscale</td>\n    </tr>\n    <tr>\n      <th>image_size</th>\n      <td>256</td>\n    </tr>\n    <tr>\n      <th>minimum_image</th>\n      <td>10</td>\n    </tr>\n    <tr>\n      <th>level_name</th>\n      <td>specific_epithet_trusted</td>\n    </tr>\n    <tr>\n      <th>levels</th>\n      <td>36</td>\n    </tr>\n    <tr>\n      <th>total</th>\n      <td>1237</td>\n    </tr>\n    <tr>\n      <th>average</th>\n      <td>34.36</td>\n    </tr>\n  </tbody>\n</table>\n</div>"
     },
     "metadata": {},
     "output_type": "display_data"
    },
    {
     "name": "stdout",
     "output_type": "stream",
     "text": [
      "color: GRAYSCALE image_size: 256 minimum_image: 20\n",
      "total of levels: 23 total of images: 1066\n"
     ]
    },
    {
     "data": {
      "text/plain": "     levels  count                                                dst  \\\n0   aduncum     33  /home/xandao/Imagens/pr_dataset/GRAYSCALE/spec...   \n1   amalago     68  /home/xandao/Imagens/pr_dataset/GRAYSCALE/spec...   \n2  arboreum     35  /home/xandao/Imagens/pr_dataset/GRAYSCALE/spec...   \n\n                                               paths  \\\n0  [/media/xandao/c2f58d30-ff2c-47f7-95af-91ad6fd...   \n1  [/media/xandao/c2f58d30-ff2c-47f7-95af-91ad6fd...   \n2  [/media/xandao/c2f58d30-ff2c-47f7-95af-91ad6fd...   \n\n                                                 seq  \n0  [9674, 9927, 10002, 10051, 10094, 10468, 10676...  \n1  [7707, 7723, 8236, 8767, 9678, 9698, 9888, 993...  \n2  [8834, 9710, 9735, 9749, 9765, 9776, 9842, 991...  ",
      "text/html": "<div>\n<style scoped>\n    .dataframe tbody tr th:only-of-type {\n        vertical-align: middle;\n    }\n\n    .dataframe tbody tr th {\n        vertical-align: top;\n    }\n\n    .dataframe thead th {\n        text-align: right;\n    }\n</style>\n<table border=\"1\" class=\"dataframe\">\n  <thead>\n    <tr style=\"text-align: right;\">\n      <th></th>\n      <th>levels</th>\n      <th>count</th>\n      <th>dst</th>\n      <th>paths</th>\n      <th>seq</th>\n    </tr>\n  </thead>\n  <tbody>\n    <tr>\n      <th>0</th>\n      <td>aduncum</td>\n      <td>33</td>\n      <td>/home/xandao/Imagens/pr_dataset/GRAYSCALE/spec...</td>\n      <td>[/media/xandao/c2f58d30-ff2c-47f7-95af-91ad6fd...</td>\n      <td>[9674, 9927, 10002, 10051, 10094, 10468, 10676...</td>\n    </tr>\n    <tr>\n      <th>1</th>\n      <td>amalago</td>\n      <td>68</td>\n      <td>/home/xandao/Imagens/pr_dataset/GRAYSCALE/spec...</td>\n      <td>[/media/xandao/c2f58d30-ff2c-47f7-95af-91ad6fd...</td>\n      <td>[7707, 7723, 8236, 8767, 9678, 9698, 9888, 993...</td>\n    </tr>\n    <tr>\n      <th>2</th>\n      <td>arboreum</td>\n      <td>35</td>\n      <td>/home/xandao/Imagens/pr_dataset/GRAYSCALE/spec...</td>\n      <td>[/media/xandao/c2f58d30-ff2c-47f7-95af-91ad6fd...</td>\n      <td>[8834, 9710, 9735, 9749, 9765, 9776, 9842, 991...</td>\n    </tr>\n  </tbody>\n</table>\n</div>"
     },
     "metadata": {},
     "output_type": "display_data"
    },
    {
     "data": {
      "text/plain": "     seq  genus specific_epithet genus_trusted specific_epithet_trusted  \\\n0   9735  Piper         arboreum         Piper                 arboreum   \n1  13064  Piper    corcovadensis         Piper                grazielae   \n2   9821  Piper    corcovadensis         Piper                grazielae   \n\n  country_trusted country             county state_province  \\\n0          Brasil  Brazil           Antonina         Paraná   \n1          Brasil  Brasil  Diamante do Norte         Paraná   \n2          Brasil  Brazil    Bocaiúva do Sul         Paraná   \n\n                                                urls  \n0  [https://storage.googleapis.com/cria-zoomify/h...  \n1  [https://storage.googleapis.com/cria-zoomify/h...  \n2  [https://storage.googleapis.com/cria-zoomify/h...  ",
      "text/html": "<div>\n<style scoped>\n    .dataframe tbody tr th:only-of-type {\n        vertical-align: middle;\n    }\n\n    .dataframe tbody tr th {\n        vertical-align: top;\n    }\n\n    .dataframe thead th {\n        text-align: right;\n    }\n</style>\n<table border=\"1\" class=\"dataframe\">\n  <thead>\n    <tr style=\"text-align: right;\">\n      <th></th>\n      <th>seq</th>\n      <th>genus</th>\n      <th>specific_epithet</th>\n      <th>genus_trusted</th>\n      <th>specific_epithet_trusted</th>\n      <th>country_trusted</th>\n      <th>country</th>\n      <th>county</th>\n      <th>state_province</th>\n      <th>urls</th>\n    </tr>\n  </thead>\n  <tbody>\n    <tr>\n      <th>0</th>\n      <td>9735</td>\n      <td>Piper</td>\n      <td>arboreum</td>\n      <td>Piper</td>\n      <td>arboreum</td>\n      <td>Brasil</td>\n      <td>Brazil</td>\n      <td>Antonina</td>\n      <td>Paraná</td>\n      <td>[https://storage.googleapis.com/cria-zoomify/h...</td>\n    </tr>\n    <tr>\n      <th>1</th>\n      <td>13064</td>\n      <td>Piper</td>\n      <td>corcovadensis</td>\n      <td>Piper</td>\n      <td>grazielae</td>\n      <td>Brasil</td>\n      <td>Brasil</td>\n      <td>Diamante do Norte</td>\n      <td>Paraná</td>\n      <td>[https://storage.googleapis.com/cria-zoomify/h...</td>\n    </tr>\n    <tr>\n      <th>2</th>\n      <td>9821</td>\n      <td>Piper</td>\n      <td>corcovadensis</td>\n      <td>Piper</td>\n      <td>grazielae</td>\n      <td>Brasil</td>\n      <td>Brazil</td>\n      <td>Bocaiúva do Sul</td>\n      <td>Paraná</td>\n      <td>[https://storage.googleapis.com/cria-zoomify/h...</td>\n    </tr>\n  </tbody>\n</table>\n</div>"
     },
     "metadata": {},
     "output_type": "display_data"
    },
    {
     "data": {
      "text/plain": "                                                               0\ndst            /home/xandao/Imagens/pr_dataset/GRAYSCALE/spec...\ncolor                                                  grayscale\nimage_size                                                   256\nminimum_image                                                 20\nlevel_name                              specific_epithet_trusted\nlevels                                                        23\ntotal                                                       1066\naverage                                                    46.35",
      "text/html": "<div>\n<style scoped>\n    .dataframe tbody tr th:only-of-type {\n        vertical-align: middle;\n    }\n\n    .dataframe tbody tr th {\n        vertical-align: top;\n    }\n\n    .dataframe thead th {\n        text-align: right;\n    }\n</style>\n<table border=\"1\" class=\"dataframe\">\n  <thead>\n    <tr style=\"text-align: right;\">\n      <th></th>\n      <th>0</th>\n    </tr>\n  </thead>\n  <tbody>\n    <tr>\n      <th>dst</th>\n      <td>/home/xandao/Imagens/pr_dataset/GRAYSCALE/spec...</td>\n    </tr>\n    <tr>\n      <th>color</th>\n      <td>grayscale</td>\n    </tr>\n    <tr>\n      <th>image_size</th>\n      <td>256</td>\n    </tr>\n    <tr>\n      <th>minimum_image</th>\n      <td>20</td>\n    </tr>\n    <tr>\n      <th>level_name</th>\n      <td>specific_epithet_trusted</td>\n    </tr>\n    <tr>\n      <th>levels</th>\n      <td>23</td>\n    </tr>\n    <tr>\n      <th>total</th>\n      <td>1066</td>\n    </tr>\n    <tr>\n      <th>average</th>\n      <td>46.35</td>\n    </tr>\n  </tbody>\n</table>\n</div>"
     },
     "metadata": {},
     "output_type": "display_data"
    },
    {
     "name": "stdout",
     "output_type": "stream",
     "text": [
      "color: GRAYSCALE image_size: 400 minimum_image: 5\n",
      "total of levels: 55 total of images: 1356\n"
     ]
    },
    {
     "data": {
      "text/plain": "    levels  count                                                dst  \\\n0  aduncum     33  /home/xandao/Imagens/pr_dataset/GRAYSCALE/spec...   \n1    alata     18  /home/xandao/Imagens/pr_dataset/GRAYSCALE/spec...   \n2  amalago     68  /home/xandao/Imagens/pr_dataset/GRAYSCALE/spec...   \n\n                                               paths  \\\n0  [/media/xandao/c2f58d30-ff2c-47f7-95af-91ad6fd...   \n1  [/media/xandao/c2f58d30-ff2c-47f7-95af-91ad6fd...   \n2  [/media/xandao/c2f58d30-ff2c-47f7-95af-91ad6fd...   \n\n                                                 seq  \n0  [9674, 9927, 10002, 10051, 10094, 10468, 10676...  \n1  [9865, 9884, 9911, 10134, 10178, 10271, 10380,...  \n2  [7707, 7723, 8236, 8767, 9678, 9698, 9888, 993...  ",
      "text/html": "<div>\n<style scoped>\n    .dataframe tbody tr th:only-of-type {\n        vertical-align: middle;\n    }\n\n    .dataframe tbody tr th {\n        vertical-align: top;\n    }\n\n    .dataframe thead th {\n        text-align: right;\n    }\n</style>\n<table border=\"1\" class=\"dataframe\">\n  <thead>\n    <tr style=\"text-align: right;\">\n      <th></th>\n      <th>levels</th>\n      <th>count</th>\n      <th>dst</th>\n      <th>paths</th>\n      <th>seq</th>\n    </tr>\n  </thead>\n  <tbody>\n    <tr>\n      <th>0</th>\n      <td>aduncum</td>\n      <td>33</td>\n      <td>/home/xandao/Imagens/pr_dataset/GRAYSCALE/spec...</td>\n      <td>[/media/xandao/c2f58d30-ff2c-47f7-95af-91ad6fd...</td>\n      <td>[9674, 9927, 10002, 10051, 10094, 10468, 10676...</td>\n    </tr>\n    <tr>\n      <th>1</th>\n      <td>alata</td>\n      <td>18</td>\n      <td>/home/xandao/Imagens/pr_dataset/GRAYSCALE/spec...</td>\n      <td>[/media/xandao/c2f58d30-ff2c-47f7-95af-91ad6fd...</td>\n      <td>[9865, 9884, 9911, 10134, 10178, 10271, 10380,...</td>\n    </tr>\n    <tr>\n      <th>2</th>\n      <td>amalago</td>\n      <td>68</td>\n      <td>/home/xandao/Imagens/pr_dataset/GRAYSCALE/spec...</td>\n      <td>[/media/xandao/c2f58d30-ff2c-47f7-95af-91ad6fd...</td>\n      <td>[7707, 7723, 8236, 8767, 9678, 9698, 9888, 993...</td>\n    </tr>\n  </tbody>\n</table>\n</div>"
     },
     "metadata": {},
     "output_type": "display_data"
    },
    {
     "data": {
      "text/plain": "     seq  genus specific_epithet genus_trusted specific_epithet_trusted  \\\n0   9735  Piper         arboreum         Piper                 arboreum   \n1  13064  Piper    corcovadensis         Piper                grazielae   \n2   9821  Piper    corcovadensis         Piper                grazielae   \n\n  country_trusted country             county state_province  \\\n0          Brasil  Brazil           Antonina         Paraná   \n1          Brasil  Brasil  Diamante do Norte         Paraná   \n2          Brasil  Brazil    Bocaiúva do Sul         Paraná   \n\n                                                urls  \n0  [https://storage.googleapis.com/cria-zoomify/h...  \n1  [https://storage.googleapis.com/cria-zoomify/h...  \n2  [https://storage.googleapis.com/cria-zoomify/h...  ",
      "text/html": "<div>\n<style scoped>\n    .dataframe tbody tr th:only-of-type {\n        vertical-align: middle;\n    }\n\n    .dataframe tbody tr th {\n        vertical-align: top;\n    }\n\n    .dataframe thead th {\n        text-align: right;\n    }\n</style>\n<table border=\"1\" class=\"dataframe\">\n  <thead>\n    <tr style=\"text-align: right;\">\n      <th></th>\n      <th>seq</th>\n      <th>genus</th>\n      <th>specific_epithet</th>\n      <th>genus_trusted</th>\n      <th>specific_epithet_trusted</th>\n      <th>country_trusted</th>\n      <th>country</th>\n      <th>county</th>\n      <th>state_province</th>\n      <th>urls</th>\n    </tr>\n  </thead>\n  <tbody>\n    <tr>\n      <th>0</th>\n      <td>9735</td>\n      <td>Piper</td>\n      <td>arboreum</td>\n      <td>Piper</td>\n      <td>arboreum</td>\n      <td>Brasil</td>\n      <td>Brazil</td>\n      <td>Antonina</td>\n      <td>Paraná</td>\n      <td>[https://storage.googleapis.com/cria-zoomify/h...</td>\n    </tr>\n    <tr>\n      <th>1</th>\n      <td>13064</td>\n      <td>Piper</td>\n      <td>corcovadensis</td>\n      <td>Piper</td>\n      <td>grazielae</td>\n      <td>Brasil</td>\n      <td>Brasil</td>\n      <td>Diamante do Norte</td>\n      <td>Paraná</td>\n      <td>[https://storage.googleapis.com/cria-zoomify/h...</td>\n    </tr>\n    <tr>\n      <th>2</th>\n      <td>9821</td>\n      <td>Piper</td>\n      <td>corcovadensis</td>\n      <td>Piper</td>\n      <td>grazielae</td>\n      <td>Brasil</td>\n      <td>Brazil</td>\n      <td>Bocaiúva do Sul</td>\n      <td>Paraná</td>\n      <td>[https://storage.googleapis.com/cria-zoomify/h...</td>\n    </tr>\n  </tbody>\n</table>\n</div>"
     },
     "metadata": {},
     "output_type": "display_data"
    },
    {
     "data": {
      "text/plain": "                                                               0\ndst            /home/xandao/Imagens/pr_dataset/GRAYSCALE/spec...\ncolor                                                  grayscale\nimage_size                                                   400\nminimum_image                                                  5\nlevel_name                              specific_epithet_trusted\nlevels                                                        55\ntotal                                                       1356\naverage                                                    24.65",
      "text/html": "<div>\n<style scoped>\n    .dataframe tbody tr th:only-of-type {\n        vertical-align: middle;\n    }\n\n    .dataframe tbody tr th {\n        vertical-align: top;\n    }\n\n    .dataframe thead th {\n        text-align: right;\n    }\n</style>\n<table border=\"1\" class=\"dataframe\">\n  <thead>\n    <tr style=\"text-align: right;\">\n      <th></th>\n      <th>0</th>\n    </tr>\n  </thead>\n  <tbody>\n    <tr>\n      <th>dst</th>\n      <td>/home/xandao/Imagens/pr_dataset/GRAYSCALE/spec...</td>\n    </tr>\n    <tr>\n      <th>color</th>\n      <td>grayscale</td>\n    </tr>\n    <tr>\n      <th>image_size</th>\n      <td>400</td>\n    </tr>\n    <tr>\n      <th>minimum_image</th>\n      <td>5</td>\n    </tr>\n    <tr>\n      <th>level_name</th>\n      <td>specific_epithet_trusted</td>\n    </tr>\n    <tr>\n      <th>levels</th>\n      <td>55</td>\n    </tr>\n    <tr>\n      <th>total</th>\n      <td>1356</td>\n    </tr>\n    <tr>\n      <th>average</th>\n      <td>24.65</td>\n    </tr>\n  </tbody>\n</table>\n</div>"
     },
     "metadata": {},
     "output_type": "display_data"
    },
    {
     "name": "stdout",
     "output_type": "stream",
     "text": [
      "color: GRAYSCALE image_size: 400 minimum_image: 10\n",
      "total of levels: 36 total of images: 1237\n"
     ]
    },
    {
     "data": {
      "text/plain": "    levels  count                                                dst  \\\n0  aduncum     33  /home/xandao/Imagens/pr_dataset/GRAYSCALE/spec...   \n1    alata     18  /home/xandao/Imagens/pr_dataset/GRAYSCALE/spec...   \n2  amalago     68  /home/xandao/Imagens/pr_dataset/GRAYSCALE/spec...   \n\n                                               paths  \\\n0  [/media/xandao/c2f58d30-ff2c-47f7-95af-91ad6fd...   \n1  [/media/xandao/c2f58d30-ff2c-47f7-95af-91ad6fd...   \n2  [/media/xandao/c2f58d30-ff2c-47f7-95af-91ad6fd...   \n\n                                                 seq  \n0  [9674, 9927, 10002, 10051, 10094, 10468, 10676...  \n1  [9865, 9884, 9911, 10134, 10178, 10271, 10380,...  \n2  [7707, 7723, 8236, 8767, 9678, 9698, 9888, 993...  ",
      "text/html": "<div>\n<style scoped>\n    .dataframe tbody tr th:only-of-type {\n        vertical-align: middle;\n    }\n\n    .dataframe tbody tr th {\n        vertical-align: top;\n    }\n\n    .dataframe thead th {\n        text-align: right;\n    }\n</style>\n<table border=\"1\" class=\"dataframe\">\n  <thead>\n    <tr style=\"text-align: right;\">\n      <th></th>\n      <th>levels</th>\n      <th>count</th>\n      <th>dst</th>\n      <th>paths</th>\n      <th>seq</th>\n    </tr>\n  </thead>\n  <tbody>\n    <tr>\n      <th>0</th>\n      <td>aduncum</td>\n      <td>33</td>\n      <td>/home/xandao/Imagens/pr_dataset/GRAYSCALE/spec...</td>\n      <td>[/media/xandao/c2f58d30-ff2c-47f7-95af-91ad6fd...</td>\n      <td>[9674, 9927, 10002, 10051, 10094, 10468, 10676...</td>\n    </tr>\n    <tr>\n      <th>1</th>\n      <td>alata</td>\n      <td>18</td>\n      <td>/home/xandao/Imagens/pr_dataset/GRAYSCALE/spec...</td>\n      <td>[/media/xandao/c2f58d30-ff2c-47f7-95af-91ad6fd...</td>\n      <td>[9865, 9884, 9911, 10134, 10178, 10271, 10380,...</td>\n    </tr>\n    <tr>\n      <th>2</th>\n      <td>amalago</td>\n      <td>68</td>\n      <td>/home/xandao/Imagens/pr_dataset/GRAYSCALE/spec...</td>\n      <td>[/media/xandao/c2f58d30-ff2c-47f7-95af-91ad6fd...</td>\n      <td>[7707, 7723, 8236, 8767, 9678, 9698, 9888, 993...</td>\n    </tr>\n  </tbody>\n</table>\n</div>"
     },
     "metadata": {},
     "output_type": "display_data"
    },
    {
     "data": {
      "text/plain": "     seq  genus specific_epithet genus_trusted specific_epithet_trusted  \\\n0   9735  Piper         arboreum         Piper                 arboreum   \n1  13064  Piper    corcovadensis         Piper                grazielae   \n2   9821  Piper    corcovadensis         Piper                grazielae   \n\n  country_trusted country             county state_province  \\\n0          Brasil  Brazil           Antonina         Paraná   \n1          Brasil  Brasil  Diamante do Norte         Paraná   \n2          Brasil  Brazil    Bocaiúva do Sul         Paraná   \n\n                                                urls  \n0  [https://storage.googleapis.com/cria-zoomify/h...  \n1  [https://storage.googleapis.com/cria-zoomify/h...  \n2  [https://storage.googleapis.com/cria-zoomify/h...  ",
      "text/html": "<div>\n<style scoped>\n    .dataframe tbody tr th:only-of-type {\n        vertical-align: middle;\n    }\n\n    .dataframe tbody tr th {\n        vertical-align: top;\n    }\n\n    .dataframe thead th {\n        text-align: right;\n    }\n</style>\n<table border=\"1\" class=\"dataframe\">\n  <thead>\n    <tr style=\"text-align: right;\">\n      <th></th>\n      <th>seq</th>\n      <th>genus</th>\n      <th>specific_epithet</th>\n      <th>genus_trusted</th>\n      <th>specific_epithet_trusted</th>\n      <th>country_trusted</th>\n      <th>country</th>\n      <th>county</th>\n      <th>state_province</th>\n      <th>urls</th>\n    </tr>\n  </thead>\n  <tbody>\n    <tr>\n      <th>0</th>\n      <td>9735</td>\n      <td>Piper</td>\n      <td>arboreum</td>\n      <td>Piper</td>\n      <td>arboreum</td>\n      <td>Brasil</td>\n      <td>Brazil</td>\n      <td>Antonina</td>\n      <td>Paraná</td>\n      <td>[https://storage.googleapis.com/cria-zoomify/h...</td>\n    </tr>\n    <tr>\n      <th>1</th>\n      <td>13064</td>\n      <td>Piper</td>\n      <td>corcovadensis</td>\n      <td>Piper</td>\n      <td>grazielae</td>\n      <td>Brasil</td>\n      <td>Brasil</td>\n      <td>Diamante do Norte</td>\n      <td>Paraná</td>\n      <td>[https://storage.googleapis.com/cria-zoomify/h...</td>\n    </tr>\n    <tr>\n      <th>2</th>\n      <td>9821</td>\n      <td>Piper</td>\n      <td>corcovadensis</td>\n      <td>Piper</td>\n      <td>grazielae</td>\n      <td>Brasil</td>\n      <td>Brazil</td>\n      <td>Bocaiúva do Sul</td>\n      <td>Paraná</td>\n      <td>[https://storage.googleapis.com/cria-zoomify/h...</td>\n    </tr>\n  </tbody>\n</table>\n</div>"
     },
     "metadata": {},
     "output_type": "display_data"
    },
    {
     "data": {
      "text/plain": "                                                               0\ndst            /home/xandao/Imagens/pr_dataset/GRAYSCALE/spec...\ncolor                                                  grayscale\nimage_size                                                   400\nminimum_image                                                 10\nlevel_name                              specific_epithet_trusted\nlevels                                                        36\ntotal                                                       1237\naverage                                                    34.36",
      "text/html": "<div>\n<style scoped>\n    .dataframe tbody tr th:only-of-type {\n        vertical-align: middle;\n    }\n\n    .dataframe tbody tr th {\n        vertical-align: top;\n    }\n\n    .dataframe thead th {\n        text-align: right;\n    }\n</style>\n<table border=\"1\" class=\"dataframe\">\n  <thead>\n    <tr style=\"text-align: right;\">\n      <th></th>\n      <th>0</th>\n    </tr>\n  </thead>\n  <tbody>\n    <tr>\n      <th>dst</th>\n      <td>/home/xandao/Imagens/pr_dataset/GRAYSCALE/spec...</td>\n    </tr>\n    <tr>\n      <th>color</th>\n      <td>grayscale</td>\n    </tr>\n    <tr>\n      <th>image_size</th>\n      <td>400</td>\n    </tr>\n    <tr>\n      <th>minimum_image</th>\n      <td>10</td>\n    </tr>\n    <tr>\n      <th>level_name</th>\n      <td>specific_epithet_trusted</td>\n    </tr>\n    <tr>\n      <th>levels</th>\n      <td>36</td>\n    </tr>\n    <tr>\n      <th>total</th>\n      <td>1237</td>\n    </tr>\n    <tr>\n      <th>average</th>\n      <td>34.36</td>\n    </tr>\n  </tbody>\n</table>\n</div>"
     },
     "metadata": {},
     "output_type": "display_data"
    },
    {
     "name": "stdout",
     "output_type": "stream",
     "text": [
      "color: GRAYSCALE image_size: 400 minimum_image: 20\n",
      "total of levels: 23 total of images: 1066\n"
     ]
    },
    {
     "data": {
      "text/plain": "     levels  count                                                dst  \\\n0   aduncum     33  /home/xandao/Imagens/pr_dataset/GRAYSCALE/spec...   \n1   amalago     68  /home/xandao/Imagens/pr_dataset/GRAYSCALE/spec...   \n2  arboreum     35  /home/xandao/Imagens/pr_dataset/GRAYSCALE/spec...   \n\n                                               paths  \\\n0  [/media/xandao/c2f58d30-ff2c-47f7-95af-91ad6fd...   \n1  [/media/xandao/c2f58d30-ff2c-47f7-95af-91ad6fd...   \n2  [/media/xandao/c2f58d30-ff2c-47f7-95af-91ad6fd...   \n\n                                                 seq  \n0  [9674, 9927, 10002, 10051, 10094, 10468, 10676...  \n1  [7707, 7723, 8236, 8767, 9678, 9698, 9888, 993...  \n2  [8834, 9710, 9735, 9749, 9765, 9776, 9842, 991...  ",
      "text/html": "<div>\n<style scoped>\n    .dataframe tbody tr th:only-of-type {\n        vertical-align: middle;\n    }\n\n    .dataframe tbody tr th {\n        vertical-align: top;\n    }\n\n    .dataframe thead th {\n        text-align: right;\n    }\n</style>\n<table border=\"1\" class=\"dataframe\">\n  <thead>\n    <tr style=\"text-align: right;\">\n      <th></th>\n      <th>levels</th>\n      <th>count</th>\n      <th>dst</th>\n      <th>paths</th>\n      <th>seq</th>\n    </tr>\n  </thead>\n  <tbody>\n    <tr>\n      <th>0</th>\n      <td>aduncum</td>\n      <td>33</td>\n      <td>/home/xandao/Imagens/pr_dataset/GRAYSCALE/spec...</td>\n      <td>[/media/xandao/c2f58d30-ff2c-47f7-95af-91ad6fd...</td>\n      <td>[9674, 9927, 10002, 10051, 10094, 10468, 10676...</td>\n    </tr>\n    <tr>\n      <th>1</th>\n      <td>amalago</td>\n      <td>68</td>\n      <td>/home/xandao/Imagens/pr_dataset/GRAYSCALE/spec...</td>\n      <td>[/media/xandao/c2f58d30-ff2c-47f7-95af-91ad6fd...</td>\n      <td>[7707, 7723, 8236, 8767, 9678, 9698, 9888, 993...</td>\n    </tr>\n    <tr>\n      <th>2</th>\n      <td>arboreum</td>\n      <td>35</td>\n      <td>/home/xandao/Imagens/pr_dataset/GRAYSCALE/spec...</td>\n      <td>[/media/xandao/c2f58d30-ff2c-47f7-95af-91ad6fd...</td>\n      <td>[8834, 9710, 9735, 9749, 9765, 9776, 9842, 991...</td>\n    </tr>\n  </tbody>\n</table>\n</div>"
     },
     "metadata": {},
     "output_type": "display_data"
    },
    {
     "data": {
      "text/plain": "     seq  genus specific_epithet genus_trusted specific_epithet_trusted  \\\n0   9735  Piper         arboreum         Piper                 arboreum   \n1  13064  Piper    corcovadensis         Piper                grazielae   \n2   9821  Piper    corcovadensis         Piper                grazielae   \n\n  country_trusted country             county state_province  \\\n0          Brasil  Brazil           Antonina         Paraná   \n1          Brasil  Brasil  Diamante do Norte         Paraná   \n2          Brasil  Brazil    Bocaiúva do Sul         Paraná   \n\n                                                urls  \n0  [https://storage.googleapis.com/cria-zoomify/h...  \n1  [https://storage.googleapis.com/cria-zoomify/h...  \n2  [https://storage.googleapis.com/cria-zoomify/h...  ",
      "text/html": "<div>\n<style scoped>\n    .dataframe tbody tr th:only-of-type {\n        vertical-align: middle;\n    }\n\n    .dataframe tbody tr th {\n        vertical-align: top;\n    }\n\n    .dataframe thead th {\n        text-align: right;\n    }\n</style>\n<table border=\"1\" class=\"dataframe\">\n  <thead>\n    <tr style=\"text-align: right;\">\n      <th></th>\n      <th>seq</th>\n      <th>genus</th>\n      <th>specific_epithet</th>\n      <th>genus_trusted</th>\n      <th>specific_epithet_trusted</th>\n      <th>country_trusted</th>\n      <th>country</th>\n      <th>county</th>\n      <th>state_province</th>\n      <th>urls</th>\n    </tr>\n  </thead>\n  <tbody>\n    <tr>\n      <th>0</th>\n      <td>9735</td>\n      <td>Piper</td>\n      <td>arboreum</td>\n      <td>Piper</td>\n      <td>arboreum</td>\n      <td>Brasil</td>\n      <td>Brazil</td>\n      <td>Antonina</td>\n      <td>Paraná</td>\n      <td>[https://storage.googleapis.com/cria-zoomify/h...</td>\n    </tr>\n    <tr>\n      <th>1</th>\n      <td>13064</td>\n      <td>Piper</td>\n      <td>corcovadensis</td>\n      <td>Piper</td>\n      <td>grazielae</td>\n      <td>Brasil</td>\n      <td>Brasil</td>\n      <td>Diamante do Norte</td>\n      <td>Paraná</td>\n      <td>[https://storage.googleapis.com/cria-zoomify/h...</td>\n    </tr>\n    <tr>\n      <th>2</th>\n      <td>9821</td>\n      <td>Piper</td>\n      <td>corcovadensis</td>\n      <td>Piper</td>\n      <td>grazielae</td>\n      <td>Brasil</td>\n      <td>Brazil</td>\n      <td>Bocaiúva do Sul</td>\n      <td>Paraná</td>\n      <td>[https://storage.googleapis.com/cria-zoomify/h...</td>\n    </tr>\n  </tbody>\n</table>\n</div>"
     },
     "metadata": {},
     "output_type": "display_data"
    },
    {
     "data": {
      "text/plain": "                                                               0\ndst            /home/xandao/Imagens/pr_dataset/GRAYSCALE/spec...\ncolor                                                  grayscale\nimage_size                                                   400\nminimum_image                                                 20\nlevel_name                              specific_epithet_trusted\nlevels                                                        23\ntotal                                                       1066\naverage                                                    46.35",
      "text/html": "<div>\n<style scoped>\n    .dataframe tbody tr th:only-of-type {\n        vertical-align: middle;\n    }\n\n    .dataframe tbody tr th {\n        vertical-align: top;\n    }\n\n    .dataframe thead th {\n        text-align: right;\n    }\n</style>\n<table border=\"1\" class=\"dataframe\">\n  <thead>\n    <tr style=\"text-align: right;\">\n      <th></th>\n      <th>0</th>\n    </tr>\n  </thead>\n  <tbody>\n    <tr>\n      <th>dst</th>\n      <td>/home/xandao/Imagens/pr_dataset/GRAYSCALE/spec...</td>\n    </tr>\n    <tr>\n      <th>color</th>\n      <td>grayscale</td>\n    </tr>\n    <tr>\n      <th>image_size</th>\n      <td>400</td>\n    </tr>\n    <tr>\n      <th>minimum_image</th>\n      <td>20</td>\n    </tr>\n    <tr>\n      <th>level_name</th>\n      <td>specific_epithet_trusted</td>\n    </tr>\n    <tr>\n      <th>levels</th>\n      <td>23</td>\n    </tr>\n    <tr>\n      <th>total</th>\n      <td>1066</td>\n    </tr>\n    <tr>\n      <th>average</th>\n      <td>46.35</td>\n    </tr>\n  </tbody>\n</table>\n</div>"
     },
     "metadata": {},
     "output_type": "display_data"
    },
    {
     "name": "stdout",
     "output_type": "stream",
     "text": [
      "color: GRAYSCALE image_size: 512 minimum_image: 5\n",
      "total of levels: 55 total of images: 1356\n"
     ]
    },
    {
     "data": {
      "text/plain": "    levels  count                                                dst  \\\n0  aduncum     33  /home/xandao/Imagens/pr_dataset/GRAYSCALE/spec...   \n1    alata     18  /home/xandao/Imagens/pr_dataset/GRAYSCALE/spec...   \n2  amalago     68  /home/xandao/Imagens/pr_dataset/GRAYSCALE/spec...   \n\n                                               paths  \\\n0  [/media/xandao/c2f58d30-ff2c-47f7-95af-91ad6fd...   \n1  [/media/xandao/c2f58d30-ff2c-47f7-95af-91ad6fd...   \n2  [/media/xandao/c2f58d30-ff2c-47f7-95af-91ad6fd...   \n\n                                                 seq  \n0  [9674, 9927, 10002, 10051, 10094, 10468, 10676...  \n1  [9865, 9884, 9911, 10134, 10178, 10271, 10380,...  \n2  [7707, 7723, 8236, 8767, 9678, 9698, 9888, 993...  ",
      "text/html": "<div>\n<style scoped>\n    .dataframe tbody tr th:only-of-type {\n        vertical-align: middle;\n    }\n\n    .dataframe tbody tr th {\n        vertical-align: top;\n    }\n\n    .dataframe thead th {\n        text-align: right;\n    }\n</style>\n<table border=\"1\" class=\"dataframe\">\n  <thead>\n    <tr style=\"text-align: right;\">\n      <th></th>\n      <th>levels</th>\n      <th>count</th>\n      <th>dst</th>\n      <th>paths</th>\n      <th>seq</th>\n    </tr>\n  </thead>\n  <tbody>\n    <tr>\n      <th>0</th>\n      <td>aduncum</td>\n      <td>33</td>\n      <td>/home/xandao/Imagens/pr_dataset/GRAYSCALE/spec...</td>\n      <td>[/media/xandao/c2f58d30-ff2c-47f7-95af-91ad6fd...</td>\n      <td>[9674, 9927, 10002, 10051, 10094, 10468, 10676...</td>\n    </tr>\n    <tr>\n      <th>1</th>\n      <td>alata</td>\n      <td>18</td>\n      <td>/home/xandao/Imagens/pr_dataset/GRAYSCALE/spec...</td>\n      <td>[/media/xandao/c2f58d30-ff2c-47f7-95af-91ad6fd...</td>\n      <td>[9865, 9884, 9911, 10134, 10178, 10271, 10380,...</td>\n    </tr>\n    <tr>\n      <th>2</th>\n      <td>amalago</td>\n      <td>68</td>\n      <td>/home/xandao/Imagens/pr_dataset/GRAYSCALE/spec...</td>\n      <td>[/media/xandao/c2f58d30-ff2c-47f7-95af-91ad6fd...</td>\n      <td>[7707, 7723, 8236, 8767, 9678, 9698, 9888, 993...</td>\n    </tr>\n  </tbody>\n</table>\n</div>"
     },
     "metadata": {},
     "output_type": "display_data"
    },
    {
     "data": {
      "text/plain": "     seq  genus specific_epithet genus_trusted specific_epithet_trusted  \\\n0   9735  Piper         arboreum         Piper                 arboreum   \n1  13064  Piper    corcovadensis         Piper                grazielae   \n2   9821  Piper    corcovadensis         Piper                grazielae   \n\n  country_trusted country             county state_province  \\\n0          Brasil  Brazil           Antonina         Paraná   \n1          Brasil  Brasil  Diamante do Norte         Paraná   \n2          Brasil  Brazil    Bocaiúva do Sul         Paraná   \n\n                                                urls  \n0  [https://storage.googleapis.com/cria-zoomify/h...  \n1  [https://storage.googleapis.com/cria-zoomify/h...  \n2  [https://storage.googleapis.com/cria-zoomify/h...  ",
      "text/html": "<div>\n<style scoped>\n    .dataframe tbody tr th:only-of-type {\n        vertical-align: middle;\n    }\n\n    .dataframe tbody tr th {\n        vertical-align: top;\n    }\n\n    .dataframe thead th {\n        text-align: right;\n    }\n</style>\n<table border=\"1\" class=\"dataframe\">\n  <thead>\n    <tr style=\"text-align: right;\">\n      <th></th>\n      <th>seq</th>\n      <th>genus</th>\n      <th>specific_epithet</th>\n      <th>genus_trusted</th>\n      <th>specific_epithet_trusted</th>\n      <th>country_trusted</th>\n      <th>country</th>\n      <th>county</th>\n      <th>state_province</th>\n      <th>urls</th>\n    </tr>\n  </thead>\n  <tbody>\n    <tr>\n      <th>0</th>\n      <td>9735</td>\n      <td>Piper</td>\n      <td>arboreum</td>\n      <td>Piper</td>\n      <td>arboreum</td>\n      <td>Brasil</td>\n      <td>Brazil</td>\n      <td>Antonina</td>\n      <td>Paraná</td>\n      <td>[https://storage.googleapis.com/cria-zoomify/h...</td>\n    </tr>\n    <tr>\n      <th>1</th>\n      <td>13064</td>\n      <td>Piper</td>\n      <td>corcovadensis</td>\n      <td>Piper</td>\n      <td>grazielae</td>\n      <td>Brasil</td>\n      <td>Brasil</td>\n      <td>Diamante do Norte</td>\n      <td>Paraná</td>\n      <td>[https://storage.googleapis.com/cria-zoomify/h...</td>\n    </tr>\n    <tr>\n      <th>2</th>\n      <td>9821</td>\n      <td>Piper</td>\n      <td>corcovadensis</td>\n      <td>Piper</td>\n      <td>grazielae</td>\n      <td>Brasil</td>\n      <td>Brazil</td>\n      <td>Bocaiúva do Sul</td>\n      <td>Paraná</td>\n      <td>[https://storage.googleapis.com/cria-zoomify/h...</td>\n    </tr>\n  </tbody>\n</table>\n</div>"
     },
     "metadata": {},
     "output_type": "display_data"
    },
    {
     "data": {
      "text/plain": "                                                               0\ndst            /home/xandao/Imagens/pr_dataset/GRAYSCALE/spec...\ncolor                                                  grayscale\nimage_size                                                   512\nminimum_image                                                  5\nlevel_name                              specific_epithet_trusted\nlevels                                                        55\ntotal                                                       1356\naverage                                                    24.65",
      "text/html": "<div>\n<style scoped>\n    .dataframe tbody tr th:only-of-type {\n        vertical-align: middle;\n    }\n\n    .dataframe tbody tr th {\n        vertical-align: top;\n    }\n\n    .dataframe thead th {\n        text-align: right;\n    }\n</style>\n<table border=\"1\" class=\"dataframe\">\n  <thead>\n    <tr style=\"text-align: right;\">\n      <th></th>\n      <th>0</th>\n    </tr>\n  </thead>\n  <tbody>\n    <tr>\n      <th>dst</th>\n      <td>/home/xandao/Imagens/pr_dataset/GRAYSCALE/spec...</td>\n    </tr>\n    <tr>\n      <th>color</th>\n      <td>grayscale</td>\n    </tr>\n    <tr>\n      <th>image_size</th>\n      <td>512</td>\n    </tr>\n    <tr>\n      <th>minimum_image</th>\n      <td>5</td>\n    </tr>\n    <tr>\n      <th>level_name</th>\n      <td>specific_epithet_trusted</td>\n    </tr>\n    <tr>\n      <th>levels</th>\n      <td>55</td>\n    </tr>\n    <tr>\n      <th>total</th>\n      <td>1356</td>\n    </tr>\n    <tr>\n      <th>average</th>\n      <td>24.65</td>\n    </tr>\n  </tbody>\n</table>\n</div>"
     },
     "metadata": {},
     "output_type": "display_data"
    },
    {
     "name": "stdout",
     "output_type": "stream",
     "text": [
      "color: GRAYSCALE image_size: 512 minimum_image: 10\n",
      "total of levels: 36 total of images: 1237\n"
     ]
    },
    {
     "data": {
      "text/plain": "    levels  count                                                dst  \\\n0  aduncum     33  /home/xandao/Imagens/pr_dataset/GRAYSCALE/spec...   \n1    alata     18  /home/xandao/Imagens/pr_dataset/GRAYSCALE/spec...   \n2  amalago     68  /home/xandao/Imagens/pr_dataset/GRAYSCALE/spec...   \n\n                                               paths  \\\n0  [/media/xandao/c2f58d30-ff2c-47f7-95af-91ad6fd...   \n1  [/media/xandao/c2f58d30-ff2c-47f7-95af-91ad6fd...   \n2  [/media/xandao/c2f58d30-ff2c-47f7-95af-91ad6fd...   \n\n                                                 seq  \n0  [9674, 9927, 10002, 10051, 10094, 10468, 10676...  \n1  [9865, 9884, 9911, 10134, 10178, 10271, 10380,...  \n2  [7707, 7723, 8236, 8767, 9678, 9698, 9888, 993...  ",
      "text/html": "<div>\n<style scoped>\n    .dataframe tbody tr th:only-of-type {\n        vertical-align: middle;\n    }\n\n    .dataframe tbody tr th {\n        vertical-align: top;\n    }\n\n    .dataframe thead th {\n        text-align: right;\n    }\n</style>\n<table border=\"1\" class=\"dataframe\">\n  <thead>\n    <tr style=\"text-align: right;\">\n      <th></th>\n      <th>levels</th>\n      <th>count</th>\n      <th>dst</th>\n      <th>paths</th>\n      <th>seq</th>\n    </tr>\n  </thead>\n  <tbody>\n    <tr>\n      <th>0</th>\n      <td>aduncum</td>\n      <td>33</td>\n      <td>/home/xandao/Imagens/pr_dataset/GRAYSCALE/spec...</td>\n      <td>[/media/xandao/c2f58d30-ff2c-47f7-95af-91ad6fd...</td>\n      <td>[9674, 9927, 10002, 10051, 10094, 10468, 10676...</td>\n    </tr>\n    <tr>\n      <th>1</th>\n      <td>alata</td>\n      <td>18</td>\n      <td>/home/xandao/Imagens/pr_dataset/GRAYSCALE/spec...</td>\n      <td>[/media/xandao/c2f58d30-ff2c-47f7-95af-91ad6fd...</td>\n      <td>[9865, 9884, 9911, 10134, 10178, 10271, 10380,...</td>\n    </tr>\n    <tr>\n      <th>2</th>\n      <td>amalago</td>\n      <td>68</td>\n      <td>/home/xandao/Imagens/pr_dataset/GRAYSCALE/spec...</td>\n      <td>[/media/xandao/c2f58d30-ff2c-47f7-95af-91ad6fd...</td>\n      <td>[7707, 7723, 8236, 8767, 9678, 9698, 9888, 993...</td>\n    </tr>\n  </tbody>\n</table>\n</div>"
     },
     "metadata": {},
     "output_type": "display_data"
    },
    {
     "data": {
      "text/plain": "     seq  genus specific_epithet genus_trusted specific_epithet_trusted  \\\n0   9735  Piper         arboreum         Piper                 arboreum   \n1  13064  Piper    corcovadensis         Piper                grazielae   \n2   9821  Piper    corcovadensis         Piper                grazielae   \n\n  country_trusted country             county state_province  \\\n0          Brasil  Brazil           Antonina         Paraná   \n1          Brasil  Brasil  Diamante do Norte         Paraná   \n2          Brasil  Brazil    Bocaiúva do Sul         Paraná   \n\n                                                urls  \n0  [https://storage.googleapis.com/cria-zoomify/h...  \n1  [https://storage.googleapis.com/cria-zoomify/h...  \n2  [https://storage.googleapis.com/cria-zoomify/h...  ",
      "text/html": "<div>\n<style scoped>\n    .dataframe tbody tr th:only-of-type {\n        vertical-align: middle;\n    }\n\n    .dataframe tbody tr th {\n        vertical-align: top;\n    }\n\n    .dataframe thead th {\n        text-align: right;\n    }\n</style>\n<table border=\"1\" class=\"dataframe\">\n  <thead>\n    <tr style=\"text-align: right;\">\n      <th></th>\n      <th>seq</th>\n      <th>genus</th>\n      <th>specific_epithet</th>\n      <th>genus_trusted</th>\n      <th>specific_epithet_trusted</th>\n      <th>country_trusted</th>\n      <th>country</th>\n      <th>county</th>\n      <th>state_province</th>\n      <th>urls</th>\n    </tr>\n  </thead>\n  <tbody>\n    <tr>\n      <th>0</th>\n      <td>9735</td>\n      <td>Piper</td>\n      <td>arboreum</td>\n      <td>Piper</td>\n      <td>arboreum</td>\n      <td>Brasil</td>\n      <td>Brazil</td>\n      <td>Antonina</td>\n      <td>Paraná</td>\n      <td>[https://storage.googleapis.com/cria-zoomify/h...</td>\n    </tr>\n    <tr>\n      <th>1</th>\n      <td>13064</td>\n      <td>Piper</td>\n      <td>corcovadensis</td>\n      <td>Piper</td>\n      <td>grazielae</td>\n      <td>Brasil</td>\n      <td>Brasil</td>\n      <td>Diamante do Norte</td>\n      <td>Paraná</td>\n      <td>[https://storage.googleapis.com/cria-zoomify/h...</td>\n    </tr>\n    <tr>\n      <th>2</th>\n      <td>9821</td>\n      <td>Piper</td>\n      <td>corcovadensis</td>\n      <td>Piper</td>\n      <td>grazielae</td>\n      <td>Brasil</td>\n      <td>Brazil</td>\n      <td>Bocaiúva do Sul</td>\n      <td>Paraná</td>\n      <td>[https://storage.googleapis.com/cria-zoomify/h...</td>\n    </tr>\n  </tbody>\n</table>\n</div>"
     },
     "metadata": {},
     "output_type": "display_data"
    },
    {
     "data": {
      "text/plain": "                                                               0\ndst            /home/xandao/Imagens/pr_dataset/GRAYSCALE/spec...\ncolor                                                  grayscale\nimage_size                                                   512\nminimum_image                                                 10\nlevel_name                              specific_epithet_trusted\nlevels                                                        36\ntotal                                                       1237\naverage                                                    34.36",
      "text/html": "<div>\n<style scoped>\n    .dataframe tbody tr th:only-of-type {\n        vertical-align: middle;\n    }\n\n    .dataframe tbody tr th {\n        vertical-align: top;\n    }\n\n    .dataframe thead th {\n        text-align: right;\n    }\n</style>\n<table border=\"1\" class=\"dataframe\">\n  <thead>\n    <tr style=\"text-align: right;\">\n      <th></th>\n      <th>0</th>\n    </tr>\n  </thead>\n  <tbody>\n    <tr>\n      <th>dst</th>\n      <td>/home/xandao/Imagens/pr_dataset/GRAYSCALE/spec...</td>\n    </tr>\n    <tr>\n      <th>color</th>\n      <td>grayscale</td>\n    </tr>\n    <tr>\n      <th>image_size</th>\n      <td>512</td>\n    </tr>\n    <tr>\n      <th>minimum_image</th>\n      <td>10</td>\n    </tr>\n    <tr>\n      <th>level_name</th>\n      <td>specific_epithet_trusted</td>\n    </tr>\n    <tr>\n      <th>levels</th>\n      <td>36</td>\n    </tr>\n    <tr>\n      <th>total</th>\n      <td>1237</td>\n    </tr>\n    <tr>\n      <th>average</th>\n      <td>34.36</td>\n    </tr>\n  </tbody>\n</table>\n</div>"
     },
     "metadata": {},
     "output_type": "display_data"
    },
    {
     "name": "stdout",
     "output_type": "stream",
     "text": [
      "color: GRAYSCALE image_size: 512 minimum_image: 20\n",
      "total of levels: 23 total of images: 1066\n"
     ]
    },
    {
     "data": {
      "text/plain": "     levels  count                                                dst  \\\n0   aduncum     33  /home/xandao/Imagens/pr_dataset/GRAYSCALE/spec...   \n1   amalago     68  /home/xandao/Imagens/pr_dataset/GRAYSCALE/spec...   \n2  arboreum     35  /home/xandao/Imagens/pr_dataset/GRAYSCALE/spec...   \n\n                                               paths  \\\n0  [/media/xandao/c2f58d30-ff2c-47f7-95af-91ad6fd...   \n1  [/media/xandao/c2f58d30-ff2c-47f7-95af-91ad6fd...   \n2  [/media/xandao/c2f58d30-ff2c-47f7-95af-91ad6fd...   \n\n                                                 seq  \n0  [9674, 9927, 10002, 10051, 10094, 10468, 10676...  \n1  [7707, 7723, 8236, 8767, 9678, 9698, 9888, 993...  \n2  [8834, 9710, 9735, 9749, 9765, 9776, 9842, 991...  ",
      "text/html": "<div>\n<style scoped>\n    .dataframe tbody tr th:only-of-type {\n        vertical-align: middle;\n    }\n\n    .dataframe tbody tr th {\n        vertical-align: top;\n    }\n\n    .dataframe thead th {\n        text-align: right;\n    }\n</style>\n<table border=\"1\" class=\"dataframe\">\n  <thead>\n    <tr style=\"text-align: right;\">\n      <th></th>\n      <th>levels</th>\n      <th>count</th>\n      <th>dst</th>\n      <th>paths</th>\n      <th>seq</th>\n    </tr>\n  </thead>\n  <tbody>\n    <tr>\n      <th>0</th>\n      <td>aduncum</td>\n      <td>33</td>\n      <td>/home/xandao/Imagens/pr_dataset/GRAYSCALE/spec...</td>\n      <td>[/media/xandao/c2f58d30-ff2c-47f7-95af-91ad6fd...</td>\n      <td>[9674, 9927, 10002, 10051, 10094, 10468, 10676...</td>\n    </tr>\n    <tr>\n      <th>1</th>\n      <td>amalago</td>\n      <td>68</td>\n      <td>/home/xandao/Imagens/pr_dataset/GRAYSCALE/spec...</td>\n      <td>[/media/xandao/c2f58d30-ff2c-47f7-95af-91ad6fd...</td>\n      <td>[7707, 7723, 8236, 8767, 9678, 9698, 9888, 993...</td>\n    </tr>\n    <tr>\n      <th>2</th>\n      <td>arboreum</td>\n      <td>35</td>\n      <td>/home/xandao/Imagens/pr_dataset/GRAYSCALE/spec...</td>\n      <td>[/media/xandao/c2f58d30-ff2c-47f7-95af-91ad6fd...</td>\n      <td>[8834, 9710, 9735, 9749, 9765, 9776, 9842, 991...</td>\n    </tr>\n  </tbody>\n</table>\n</div>"
     },
     "metadata": {},
     "output_type": "display_data"
    },
    {
     "data": {
      "text/plain": "     seq  genus specific_epithet genus_trusted specific_epithet_trusted  \\\n0   9735  Piper         arboreum         Piper                 arboreum   \n1  13064  Piper    corcovadensis         Piper                grazielae   \n2   9821  Piper    corcovadensis         Piper                grazielae   \n\n  country_trusted country             county state_province  \\\n0          Brasil  Brazil           Antonina         Paraná   \n1          Brasil  Brasil  Diamante do Norte         Paraná   \n2          Brasil  Brazil    Bocaiúva do Sul         Paraná   \n\n                                                urls  \n0  [https://storage.googleapis.com/cria-zoomify/h...  \n1  [https://storage.googleapis.com/cria-zoomify/h...  \n2  [https://storage.googleapis.com/cria-zoomify/h...  ",
      "text/html": "<div>\n<style scoped>\n    .dataframe tbody tr th:only-of-type {\n        vertical-align: middle;\n    }\n\n    .dataframe tbody tr th {\n        vertical-align: top;\n    }\n\n    .dataframe thead th {\n        text-align: right;\n    }\n</style>\n<table border=\"1\" class=\"dataframe\">\n  <thead>\n    <tr style=\"text-align: right;\">\n      <th></th>\n      <th>seq</th>\n      <th>genus</th>\n      <th>specific_epithet</th>\n      <th>genus_trusted</th>\n      <th>specific_epithet_trusted</th>\n      <th>country_trusted</th>\n      <th>country</th>\n      <th>county</th>\n      <th>state_province</th>\n      <th>urls</th>\n    </tr>\n  </thead>\n  <tbody>\n    <tr>\n      <th>0</th>\n      <td>9735</td>\n      <td>Piper</td>\n      <td>arboreum</td>\n      <td>Piper</td>\n      <td>arboreum</td>\n      <td>Brasil</td>\n      <td>Brazil</td>\n      <td>Antonina</td>\n      <td>Paraná</td>\n      <td>[https://storage.googleapis.com/cria-zoomify/h...</td>\n    </tr>\n    <tr>\n      <th>1</th>\n      <td>13064</td>\n      <td>Piper</td>\n      <td>corcovadensis</td>\n      <td>Piper</td>\n      <td>grazielae</td>\n      <td>Brasil</td>\n      <td>Brasil</td>\n      <td>Diamante do Norte</td>\n      <td>Paraná</td>\n      <td>[https://storage.googleapis.com/cria-zoomify/h...</td>\n    </tr>\n    <tr>\n      <th>2</th>\n      <td>9821</td>\n      <td>Piper</td>\n      <td>corcovadensis</td>\n      <td>Piper</td>\n      <td>grazielae</td>\n      <td>Brasil</td>\n      <td>Brazil</td>\n      <td>Bocaiúva do Sul</td>\n      <td>Paraná</td>\n      <td>[https://storage.googleapis.com/cria-zoomify/h...</td>\n    </tr>\n  </tbody>\n</table>\n</div>"
     },
     "metadata": {},
     "output_type": "display_data"
    },
    {
     "data": {
      "text/plain": "                                                               0\ndst            /home/xandao/Imagens/pr_dataset/GRAYSCALE/spec...\ncolor                                                  grayscale\nimage_size                                                   512\nminimum_image                                                 20\nlevel_name                              specific_epithet_trusted\nlevels                                                        23\ntotal                                                       1066\naverage                                                    46.35",
      "text/html": "<div>\n<style scoped>\n    .dataframe tbody tr th:only-of-type {\n        vertical-align: middle;\n    }\n\n    .dataframe tbody tr th {\n        vertical-align: top;\n    }\n\n    .dataframe thead th {\n        text-align: right;\n    }\n</style>\n<table border=\"1\" class=\"dataframe\">\n  <thead>\n    <tr style=\"text-align: right;\">\n      <th></th>\n      <th>0</th>\n    </tr>\n  </thead>\n  <tbody>\n    <tr>\n      <th>dst</th>\n      <td>/home/xandao/Imagens/pr_dataset/GRAYSCALE/spec...</td>\n    </tr>\n    <tr>\n      <th>color</th>\n      <td>grayscale</td>\n    </tr>\n    <tr>\n      <th>image_size</th>\n      <td>512</td>\n    </tr>\n    <tr>\n      <th>minimum_image</th>\n      <td>20</td>\n    </tr>\n    <tr>\n      <th>level_name</th>\n      <td>specific_epithet_trusted</td>\n    </tr>\n    <tr>\n      <th>levels</th>\n      <td>23</td>\n    </tr>\n    <tr>\n      <th>total</th>\n      <td>1066</td>\n    </tr>\n    <tr>\n      <th>average</th>\n      <td>46.35</td>\n    </tr>\n  </tbody>\n</table>\n</div>"
     },
     "metadata": {},
     "output_type": "display_data"
    }
   ],
   "source": [
    "for color in list_color:\n",
    "    for image_size in list_image_size:\n",
    "        for minimum_image in list_minimum_image:\n",
    "            list_level = []\n",
    "            list_path_images_final = []\n",
    "            list_seq_final = []\n",
    "            list_count_samples = []\n",
    "\n",
    "            level=DataTrustedIdentifier.specific_epithet_trusted\n",
    "            out=os.path.join(path_out, color.upper(), level.name, image_size, str(minimum_image))\n",
    "\n",
    "\n",
    "            condition = sa.and_(DataTrustedIdentifier.country_trusted.__eq__('Brasil'),\n",
    "                                    level.is_not(None),\n",
    "                                    sa.or_(sa.and_(uf_unaccented_lower,\n",
    "                                           state_unaccented_lower,\n",
    "                                           county_unaccented_lower),\n",
    "                                           sa.and_(uf_unaccented_lower,\n",
    "                                           county_unaccented_lower),\n",
    "                                           sa.and_(state_unaccented_lower,\n",
    "                                           county_unaccented_lower),\n",
    "                                           uf_unaccented_lower,\n",
    "                                           state_unaccented_lower)\n",
    "                                    )\n",
    "\n",
    "\n",
    "            query = db.get_records_group_by_level(condition, level, minimum_image, session)\n",
    "            print('color: %s image_size: %s minimum_image: %d' % (color.upper(), image_size, minimum_image))\n",
    "            select_images(color, image_size, list_count_samples, list_level, list_images_invalid, list_path_images_final, list_seq_final, minimum_image, session, query)\n",
    "            \n",
    "\n",
    "            list_f = copy_images(list_level, list_path_images_final, out)\n",
    "            save_metadata(color, image_size, level, list_count_samples, list_f, list_level, list_path_images_final, list_seq_final, minimum_image, out, session)"
   ]
  },
  {
   "cell_type": "code",
   "execution_count": 7,
   "metadata": {
    "collapsed": false,
    "ExecuteTime": {
     "start_time": "2023-04-03T14:24:01.604193Z",
     "end_time": "2023-04-03T14:24:01.613728Z"
    }
   },
   "outputs": [],
   "source": [
    "session.close()\n",
    "engine.dispose()"
   ]
  }
 ],
 "metadata": {
  "kernelspec": {
   "display_name": "Python 3",
   "language": "python",
   "name": "python3"
  },
  "language_info": {
   "codemirror_mode": {
    "name": "ipython",
    "version": 3
   },
   "file_extension": ".py",
   "mimetype": "text/x-python",
   "name": "python",
   "nbconvert_exporter": "python",
   "pygments_lexer": "ipython3",
   "version": "3.9.12"
  }
 },
 "nbformat": 4,
 "nbformat_minor": 0
}
