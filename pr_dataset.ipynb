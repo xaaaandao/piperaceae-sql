{
 "cells": [
  {
   "cell_type": "code",
   "execution_count": 2,
   "metadata": {},
   "outputs": [],
   "source": [
    "import os\n",
    "import pandas as pd\n",
    "import pathlib"
   ]
  },
  {
   "cell_type": "markdown",
   "source": [
    "# pr dataset"
   ],
   "metadata": {
    "collapsed": false
   }
  },
  {
   "cell_type": "code",
   "execution_count": 5,
   "outputs": [
    {
     "data": {
      "text/plain": "'color: RGB image_size: 256 minimum_image: 5'"
     },
     "metadata": {},
     "output_type": "display_data"
    },
    {
     "data": {
      "text/plain": "         species folder  count  \\\n0  corcovadensis     f1     68   \n1      regnellii     f2     17   \n2     mikanianum     f3     37   \n3      subretusa     f4      5   \n4        reitzii     f5     12   \n\n                                         list_images  \n0  ['MBM037883', 'NY00559096_01', 'MBM045085', 'S...  \n1  ['MBM037883', 'NY00559096_01', 'MBM045085', 'S...  \n2  ['MBM037883', 'NY00559096_01', 'MBM045085', 'S...  \n3  ['MBM037883', 'NY00559096_01', 'MBM045085', 'S...  \n4  ['MBM037883', 'NY00559096_01', 'MBM045085', 'S...  ",
      "text/html": "<div>\n<style scoped>\n    .dataframe tbody tr th:only-of-type {\n        vertical-align: middle;\n    }\n\n    .dataframe tbody tr th {\n        vertical-align: top;\n    }\n\n    .dataframe thead th {\n        text-align: right;\n    }\n</style>\n<table border=\"1\" class=\"dataframe\">\n  <thead>\n    <tr style=\"text-align: right;\">\n      <th></th>\n      <th>species</th>\n      <th>folder</th>\n      <th>count</th>\n      <th>list_images</th>\n    </tr>\n  </thead>\n  <tbody>\n    <tr>\n      <th>0</th>\n      <td>corcovadensis</td>\n      <td>f1</td>\n      <td>68</td>\n      <td>['MBM037883', 'NY00559096_01', 'MBM045085', 'S...</td>\n    </tr>\n    <tr>\n      <th>1</th>\n      <td>regnellii</td>\n      <td>f2</td>\n      <td>17</td>\n      <td>['MBM037883', 'NY00559096_01', 'MBM045085', 'S...</td>\n    </tr>\n    <tr>\n      <th>2</th>\n      <td>mikanianum</td>\n      <td>f3</td>\n      <td>37</td>\n      <td>['MBM037883', 'NY00559096_01', 'MBM045085', 'S...</td>\n    </tr>\n    <tr>\n      <th>3</th>\n      <td>subretusa</td>\n      <td>f4</td>\n      <td>5</td>\n      <td>['MBM037883', 'NY00559096_01', 'MBM045085', 'S...</td>\n    </tr>\n    <tr>\n      <th>4</th>\n      <td>reitzii</td>\n      <td>f5</td>\n      <td>12</td>\n      <td>['MBM037883', 'NY00559096_01', 'MBM045085', 'S...</td>\n    </tr>\n  </tbody>\n</table>\n</div>"
     },
     "metadata": {},
     "output_type": "display_data"
    },
    {
     "data": {
      "text/plain": "'color: RGB image_size: 256 minimum_image: 10'"
     },
     "metadata": {},
     "output_type": "display_data"
    },
    {
     "data": {
      "text/plain": "         species folder  count  \\\n0  corcovadensis     f1     68   \n1      regnellii     f2     17   \n2     mikanianum     f3     37   \n3        reitzii     f4     12   \n4    miquelianum     f5     70   \n\n                                         list_images  \n0  ['MBM089701', 'MBM089707', 'NY00559303_01', 'M...  \n1  ['MBM089701', 'MBM089707', 'NY00559303_01', 'M...  \n2  ['MBM089701', 'MBM089707', 'NY00559303_01', 'M...  \n3  ['MBM089701', 'MBM089707', 'NY00559303_01', 'M...  \n4  ['MBM089701', 'MBM089707', 'NY00559303_01', 'M...  ",
      "text/html": "<div>\n<style scoped>\n    .dataframe tbody tr th:only-of-type {\n        vertical-align: middle;\n    }\n\n    .dataframe tbody tr th {\n        vertical-align: top;\n    }\n\n    .dataframe thead th {\n        text-align: right;\n    }\n</style>\n<table border=\"1\" class=\"dataframe\">\n  <thead>\n    <tr style=\"text-align: right;\">\n      <th></th>\n      <th>species</th>\n      <th>folder</th>\n      <th>count</th>\n      <th>list_images</th>\n    </tr>\n  </thead>\n  <tbody>\n    <tr>\n      <th>0</th>\n      <td>corcovadensis</td>\n      <td>f1</td>\n      <td>68</td>\n      <td>['MBM089701', 'MBM089707', 'NY00559303_01', 'M...</td>\n    </tr>\n    <tr>\n      <th>1</th>\n      <td>regnellii</td>\n      <td>f2</td>\n      <td>17</td>\n      <td>['MBM089701', 'MBM089707', 'NY00559303_01', 'M...</td>\n    </tr>\n    <tr>\n      <th>2</th>\n      <td>mikanianum</td>\n      <td>f3</td>\n      <td>37</td>\n      <td>['MBM089701', 'MBM089707', 'NY00559303_01', 'M...</td>\n    </tr>\n    <tr>\n      <th>3</th>\n      <td>reitzii</td>\n      <td>f4</td>\n      <td>12</td>\n      <td>['MBM089701', 'MBM089707', 'NY00559303_01', 'M...</td>\n    </tr>\n    <tr>\n      <th>4</th>\n      <td>miquelianum</td>\n      <td>f5</td>\n      <td>70</td>\n      <td>['MBM089701', 'MBM089707', 'NY00559303_01', 'M...</td>\n    </tr>\n  </tbody>\n</table>\n</div>"
     },
     "metadata": {},
     "output_type": "display_data"
    },
    {
     "data": {
      "text/plain": "'color: RGB image_size: 256 minimum_image: 20'"
     },
     "metadata": {},
     "output_type": "display_data"
    },
    {
     "data": {
      "text/plain": "           species folder  count  \\\n0    corcovadensis     f1     68   \n1       mikanianum     f2     37   \n2      miquelianum     f3     70   \n3    crassinervium     f4     20   \n4  gaudichaudianum     f5    105   \n\n                                         list_images  \n0  ['ESA100586', 'NY00555607_01', 'MBM171931', 'H...  \n1  ['ESA100586', 'NY00555607_01', 'MBM171931', 'H...  \n2  ['ESA100586', 'NY00555607_01', 'MBM171931', 'H...  \n3  ['ESA100586', 'NY00555607_01', 'MBM171931', 'H...  \n4  ['ESA100586', 'NY00555607_01', 'MBM171931', 'H...  ",
      "text/html": "<div>\n<style scoped>\n    .dataframe tbody tr th:only-of-type {\n        vertical-align: middle;\n    }\n\n    .dataframe tbody tr th {\n        vertical-align: top;\n    }\n\n    .dataframe thead th {\n        text-align: right;\n    }\n</style>\n<table border=\"1\" class=\"dataframe\">\n  <thead>\n    <tr style=\"text-align: right;\">\n      <th></th>\n      <th>species</th>\n      <th>folder</th>\n      <th>count</th>\n      <th>list_images</th>\n    </tr>\n  </thead>\n  <tbody>\n    <tr>\n      <th>0</th>\n      <td>corcovadensis</td>\n      <td>f1</td>\n      <td>68</td>\n      <td>['ESA100586', 'NY00555607_01', 'MBM171931', 'H...</td>\n    </tr>\n    <tr>\n      <th>1</th>\n      <td>mikanianum</td>\n      <td>f2</td>\n      <td>37</td>\n      <td>['ESA100586', 'NY00555607_01', 'MBM171931', 'H...</td>\n    </tr>\n    <tr>\n      <th>2</th>\n      <td>miquelianum</td>\n      <td>f3</td>\n      <td>70</td>\n      <td>['ESA100586', 'NY00555607_01', 'MBM171931', 'H...</td>\n    </tr>\n    <tr>\n      <th>3</th>\n      <td>crassinervium</td>\n      <td>f4</td>\n      <td>20</td>\n      <td>['ESA100586', 'NY00555607_01', 'MBM171931', 'H...</td>\n    </tr>\n    <tr>\n      <th>4</th>\n      <td>gaudichaudianum</td>\n      <td>f5</td>\n      <td>105</td>\n      <td>['ESA100586', 'NY00555607_01', 'MBM171931', 'H...</td>\n    </tr>\n  </tbody>\n</table>\n</div>"
     },
     "metadata": {},
     "output_type": "display_data"
    },
    {
     "data": {
      "text/plain": "'color: RGB image_size: 400 minimum_image: 5'"
     },
     "metadata": {},
     "output_type": "display_data"
    },
    {
     "data": {
      "text/plain": "         species folder  count  \\\n0  corcovadensis     f1     68   \n1      regnellii     f2     17   \n2     mikanianum     f3     37   \n3      subretusa     f4      5   \n4        reitzii     f5     12   \n\n                                         list_images  \n0  ['MBM037883', 'NY00559096_01', 'MBM045085', 'S...  \n1  ['MBM037883', 'NY00559096_01', 'MBM045085', 'S...  \n2  ['MBM037883', 'NY00559096_01', 'MBM045085', 'S...  \n3  ['MBM037883', 'NY00559096_01', 'MBM045085', 'S...  \n4  ['MBM037883', 'NY00559096_01', 'MBM045085', 'S...  ",
      "text/html": "<div>\n<style scoped>\n    .dataframe tbody tr th:only-of-type {\n        vertical-align: middle;\n    }\n\n    .dataframe tbody tr th {\n        vertical-align: top;\n    }\n\n    .dataframe thead th {\n        text-align: right;\n    }\n</style>\n<table border=\"1\" class=\"dataframe\">\n  <thead>\n    <tr style=\"text-align: right;\">\n      <th></th>\n      <th>species</th>\n      <th>folder</th>\n      <th>count</th>\n      <th>list_images</th>\n    </tr>\n  </thead>\n  <tbody>\n    <tr>\n      <th>0</th>\n      <td>corcovadensis</td>\n      <td>f1</td>\n      <td>68</td>\n      <td>['MBM037883', 'NY00559096_01', 'MBM045085', 'S...</td>\n    </tr>\n    <tr>\n      <th>1</th>\n      <td>regnellii</td>\n      <td>f2</td>\n      <td>17</td>\n      <td>['MBM037883', 'NY00559096_01', 'MBM045085', 'S...</td>\n    </tr>\n    <tr>\n      <th>2</th>\n      <td>mikanianum</td>\n      <td>f3</td>\n      <td>37</td>\n      <td>['MBM037883', 'NY00559096_01', 'MBM045085', 'S...</td>\n    </tr>\n    <tr>\n      <th>3</th>\n      <td>subretusa</td>\n      <td>f4</td>\n      <td>5</td>\n      <td>['MBM037883', 'NY00559096_01', 'MBM045085', 'S...</td>\n    </tr>\n    <tr>\n      <th>4</th>\n      <td>reitzii</td>\n      <td>f5</td>\n      <td>12</td>\n      <td>['MBM037883', 'NY00559096_01', 'MBM045085', 'S...</td>\n    </tr>\n  </tbody>\n</table>\n</div>"
     },
     "metadata": {},
     "output_type": "display_data"
    },
    {
     "data": {
      "text/plain": "'color: RGB image_size: 400 minimum_image: 10'"
     },
     "metadata": {},
     "output_type": "display_data"
    },
    {
     "data": {
      "text/plain": "         species folder  count  \\\n0  corcovadensis     f1     68   \n1      regnellii     f2     17   \n2     mikanianum     f3     37   \n3        reitzii     f4     12   \n4    miquelianum     f5     70   \n\n                                         list_images  \n0  ['MBM089701', 'MBM089707', 'NY00559303_01', 'M...  \n1  ['MBM089701', 'MBM089707', 'NY00559303_01', 'M...  \n2  ['MBM089701', 'MBM089707', 'NY00559303_01', 'M...  \n3  ['MBM089701', 'MBM089707', 'NY00559303_01', 'M...  \n4  ['MBM089701', 'MBM089707', 'NY00559303_01', 'M...  ",
      "text/html": "<div>\n<style scoped>\n    .dataframe tbody tr th:only-of-type {\n        vertical-align: middle;\n    }\n\n    .dataframe tbody tr th {\n        vertical-align: top;\n    }\n\n    .dataframe thead th {\n        text-align: right;\n    }\n</style>\n<table border=\"1\" class=\"dataframe\">\n  <thead>\n    <tr style=\"text-align: right;\">\n      <th></th>\n      <th>species</th>\n      <th>folder</th>\n      <th>count</th>\n      <th>list_images</th>\n    </tr>\n  </thead>\n  <tbody>\n    <tr>\n      <th>0</th>\n      <td>corcovadensis</td>\n      <td>f1</td>\n      <td>68</td>\n      <td>['MBM089701', 'MBM089707', 'NY00559303_01', 'M...</td>\n    </tr>\n    <tr>\n      <th>1</th>\n      <td>regnellii</td>\n      <td>f2</td>\n      <td>17</td>\n      <td>['MBM089701', 'MBM089707', 'NY00559303_01', 'M...</td>\n    </tr>\n    <tr>\n      <th>2</th>\n      <td>mikanianum</td>\n      <td>f3</td>\n      <td>37</td>\n      <td>['MBM089701', 'MBM089707', 'NY00559303_01', 'M...</td>\n    </tr>\n    <tr>\n      <th>3</th>\n      <td>reitzii</td>\n      <td>f4</td>\n      <td>12</td>\n      <td>['MBM089701', 'MBM089707', 'NY00559303_01', 'M...</td>\n    </tr>\n    <tr>\n      <th>4</th>\n      <td>miquelianum</td>\n      <td>f5</td>\n      <td>70</td>\n      <td>['MBM089701', 'MBM089707', 'NY00559303_01', 'M...</td>\n    </tr>\n  </tbody>\n</table>\n</div>"
     },
     "metadata": {},
     "output_type": "display_data"
    },
    {
     "data": {
      "text/plain": "'color: RGB image_size: 400 minimum_image: 20'"
     },
     "metadata": {},
     "output_type": "display_data"
    },
    {
     "data": {
      "text/plain": "           species folder  count  \\\n0    corcovadensis     f1     68   \n1       mikanianum     f2     37   \n2      miquelianum     f3     70   \n3    crassinervium     f4     20   \n4  gaudichaudianum     f5    105   \n\n                                         list_images  \n0  ['ESA100586', 'NY00555607_01', 'MBM171931', 'H...  \n1  ['ESA100586', 'NY00555607_01', 'MBM171931', 'H...  \n2  ['ESA100586', 'NY00555607_01', 'MBM171931', 'H...  \n3  ['ESA100586', 'NY00555607_01', 'MBM171931', 'H...  \n4  ['ESA100586', 'NY00555607_01', 'MBM171931', 'H...  ",
      "text/html": "<div>\n<style scoped>\n    .dataframe tbody tr th:only-of-type {\n        vertical-align: middle;\n    }\n\n    .dataframe tbody tr th {\n        vertical-align: top;\n    }\n\n    .dataframe thead th {\n        text-align: right;\n    }\n</style>\n<table border=\"1\" class=\"dataframe\">\n  <thead>\n    <tr style=\"text-align: right;\">\n      <th></th>\n      <th>species</th>\n      <th>folder</th>\n      <th>count</th>\n      <th>list_images</th>\n    </tr>\n  </thead>\n  <tbody>\n    <tr>\n      <th>0</th>\n      <td>corcovadensis</td>\n      <td>f1</td>\n      <td>68</td>\n      <td>['ESA100586', 'NY00555607_01', 'MBM171931', 'H...</td>\n    </tr>\n    <tr>\n      <th>1</th>\n      <td>mikanianum</td>\n      <td>f2</td>\n      <td>37</td>\n      <td>['ESA100586', 'NY00555607_01', 'MBM171931', 'H...</td>\n    </tr>\n    <tr>\n      <th>2</th>\n      <td>miquelianum</td>\n      <td>f3</td>\n      <td>70</td>\n      <td>['ESA100586', 'NY00555607_01', 'MBM171931', 'H...</td>\n    </tr>\n    <tr>\n      <th>3</th>\n      <td>crassinervium</td>\n      <td>f4</td>\n      <td>20</td>\n      <td>['ESA100586', 'NY00555607_01', 'MBM171931', 'H...</td>\n    </tr>\n    <tr>\n      <th>4</th>\n      <td>gaudichaudianum</td>\n      <td>f5</td>\n      <td>105</td>\n      <td>['ESA100586', 'NY00555607_01', 'MBM171931', 'H...</td>\n    </tr>\n  </tbody>\n</table>\n</div>"
     },
     "metadata": {},
     "output_type": "display_data"
    },
    {
     "data": {
      "text/plain": "'color: RGB image_size: 512 minimum_image: 5'"
     },
     "metadata": {},
     "output_type": "display_data"
    },
    {
     "data": {
      "text/plain": "         species folder  count  \\\n0  corcovadensis     f1     68   \n1      regnellii     f2     17   \n2     mikanianum     f3     37   \n3      subretusa     f4      5   \n4        reitzii     f5     12   \n\n                                         list_images  \n0  ['MBM037883', 'NY00559096_01', 'MBM045085', 'S...  \n1  ['MBM037883', 'NY00559096_01', 'MBM045085', 'S...  \n2  ['MBM037883', 'NY00559096_01', 'MBM045085', 'S...  \n3  ['MBM037883', 'NY00559096_01', 'MBM045085', 'S...  \n4  ['MBM037883', 'NY00559096_01', 'MBM045085', 'S...  ",
      "text/html": "<div>\n<style scoped>\n    .dataframe tbody tr th:only-of-type {\n        vertical-align: middle;\n    }\n\n    .dataframe tbody tr th {\n        vertical-align: top;\n    }\n\n    .dataframe thead th {\n        text-align: right;\n    }\n</style>\n<table border=\"1\" class=\"dataframe\">\n  <thead>\n    <tr style=\"text-align: right;\">\n      <th></th>\n      <th>species</th>\n      <th>folder</th>\n      <th>count</th>\n      <th>list_images</th>\n    </tr>\n  </thead>\n  <tbody>\n    <tr>\n      <th>0</th>\n      <td>corcovadensis</td>\n      <td>f1</td>\n      <td>68</td>\n      <td>['MBM037883', 'NY00559096_01', 'MBM045085', 'S...</td>\n    </tr>\n    <tr>\n      <th>1</th>\n      <td>regnellii</td>\n      <td>f2</td>\n      <td>17</td>\n      <td>['MBM037883', 'NY00559096_01', 'MBM045085', 'S...</td>\n    </tr>\n    <tr>\n      <th>2</th>\n      <td>mikanianum</td>\n      <td>f3</td>\n      <td>37</td>\n      <td>['MBM037883', 'NY00559096_01', 'MBM045085', 'S...</td>\n    </tr>\n    <tr>\n      <th>3</th>\n      <td>subretusa</td>\n      <td>f4</td>\n      <td>5</td>\n      <td>['MBM037883', 'NY00559096_01', 'MBM045085', 'S...</td>\n    </tr>\n    <tr>\n      <th>4</th>\n      <td>reitzii</td>\n      <td>f5</td>\n      <td>12</td>\n      <td>['MBM037883', 'NY00559096_01', 'MBM045085', 'S...</td>\n    </tr>\n  </tbody>\n</table>\n</div>"
     },
     "metadata": {},
     "output_type": "display_data"
    },
    {
     "data": {
      "text/plain": "'color: RGB image_size: 512 minimum_image: 10'"
     },
     "metadata": {},
     "output_type": "display_data"
    },
    {
     "data": {
      "text/plain": "         species folder  count  \\\n0  corcovadensis     f1     68   \n1      regnellii     f2     17   \n2     mikanianum     f3     37   \n3        reitzii     f4     12   \n4    miquelianum     f5     70   \n\n                                         list_images  \n0  ['MBM089701', 'MBM089707', 'NY00559303_01', 'M...  \n1  ['MBM089701', 'MBM089707', 'NY00559303_01', 'M...  \n2  ['MBM089701', 'MBM089707', 'NY00559303_01', 'M...  \n3  ['MBM089701', 'MBM089707', 'NY00559303_01', 'M...  \n4  ['MBM089701', 'MBM089707', 'NY00559303_01', 'M...  ",
      "text/html": "<div>\n<style scoped>\n    .dataframe tbody tr th:only-of-type {\n        vertical-align: middle;\n    }\n\n    .dataframe tbody tr th {\n        vertical-align: top;\n    }\n\n    .dataframe thead th {\n        text-align: right;\n    }\n</style>\n<table border=\"1\" class=\"dataframe\">\n  <thead>\n    <tr style=\"text-align: right;\">\n      <th></th>\n      <th>species</th>\n      <th>folder</th>\n      <th>count</th>\n      <th>list_images</th>\n    </tr>\n  </thead>\n  <tbody>\n    <tr>\n      <th>0</th>\n      <td>corcovadensis</td>\n      <td>f1</td>\n      <td>68</td>\n      <td>['MBM089701', 'MBM089707', 'NY00559303_01', 'M...</td>\n    </tr>\n    <tr>\n      <th>1</th>\n      <td>regnellii</td>\n      <td>f2</td>\n      <td>17</td>\n      <td>['MBM089701', 'MBM089707', 'NY00559303_01', 'M...</td>\n    </tr>\n    <tr>\n      <th>2</th>\n      <td>mikanianum</td>\n      <td>f3</td>\n      <td>37</td>\n      <td>['MBM089701', 'MBM089707', 'NY00559303_01', 'M...</td>\n    </tr>\n    <tr>\n      <th>3</th>\n      <td>reitzii</td>\n      <td>f4</td>\n      <td>12</td>\n      <td>['MBM089701', 'MBM089707', 'NY00559303_01', 'M...</td>\n    </tr>\n    <tr>\n      <th>4</th>\n      <td>miquelianum</td>\n      <td>f5</td>\n      <td>70</td>\n      <td>['MBM089701', 'MBM089707', 'NY00559303_01', 'M...</td>\n    </tr>\n  </tbody>\n</table>\n</div>"
     },
     "metadata": {},
     "output_type": "display_data"
    },
    {
     "data": {
      "text/plain": "'color: RGB image_size: 512 minimum_image: 20'"
     },
     "metadata": {},
     "output_type": "display_data"
    },
    {
     "data": {
      "text/plain": "           species folder  count  \\\n0    corcovadensis     f1     68   \n1       mikanianum     f2     37   \n2      miquelianum     f3     70   \n3    crassinervium     f4     20   \n4  gaudichaudianum     f5    105   \n\n                                         list_images  \n0  ['ESA100586', 'NY00555607_01', 'MBM171931', 'H...  \n1  ['ESA100586', 'NY00555607_01', 'MBM171931', 'H...  \n2  ['ESA100586', 'NY00555607_01', 'MBM171931', 'H...  \n3  ['ESA100586', 'NY00555607_01', 'MBM171931', 'H...  \n4  ['ESA100586', 'NY00555607_01', 'MBM171931', 'H...  ",
      "text/html": "<div>\n<style scoped>\n    .dataframe tbody tr th:only-of-type {\n        vertical-align: middle;\n    }\n\n    .dataframe tbody tr th {\n        vertical-align: top;\n    }\n\n    .dataframe thead th {\n        text-align: right;\n    }\n</style>\n<table border=\"1\" class=\"dataframe\">\n  <thead>\n    <tr style=\"text-align: right;\">\n      <th></th>\n      <th>species</th>\n      <th>folder</th>\n      <th>count</th>\n      <th>list_images</th>\n    </tr>\n  </thead>\n  <tbody>\n    <tr>\n      <th>0</th>\n      <td>corcovadensis</td>\n      <td>f1</td>\n      <td>68</td>\n      <td>['ESA100586', 'NY00555607_01', 'MBM171931', 'H...</td>\n    </tr>\n    <tr>\n      <th>1</th>\n      <td>mikanianum</td>\n      <td>f2</td>\n      <td>37</td>\n      <td>['ESA100586', 'NY00555607_01', 'MBM171931', 'H...</td>\n    </tr>\n    <tr>\n      <th>2</th>\n      <td>miquelianum</td>\n      <td>f3</td>\n      <td>70</td>\n      <td>['ESA100586', 'NY00555607_01', 'MBM171931', 'H...</td>\n    </tr>\n    <tr>\n      <th>3</th>\n      <td>crassinervium</td>\n      <td>f4</td>\n      <td>20</td>\n      <td>['ESA100586', 'NY00555607_01', 'MBM171931', 'H...</td>\n    </tr>\n    <tr>\n      <th>4</th>\n      <td>gaudichaudianum</td>\n      <td>f5</td>\n      <td>105</td>\n      <td>['ESA100586', 'NY00555607_01', 'MBM171931', 'H...</td>\n    </tr>\n  </tbody>\n</table>\n</div>"
     },
     "metadata": {},
     "output_type": "display_data"
    },
    {
     "data": {
      "text/plain": "'color: grayscale image_size: 256 minimum_image: 5'"
     },
     "metadata": {},
     "output_type": "display_data"
    },
    {
     "data": {
      "text/plain": "         species folder  count  \\\n0  corcovadensis     f1     68   \n1      regnellii     f2     17   \n2     mikanianum     f3     37   \n3      subretusa     f4      5   \n4        reitzii     f5     12   \n\n                                         list_images  \n0  ['MBM037883', 'NY00559096_01', 'MBM045085', 'S...  \n1  ['MBM037883', 'NY00559096_01', 'MBM045085', 'S...  \n2  ['MBM037883', 'NY00559096_01', 'MBM045085', 'S...  \n3  ['MBM037883', 'NY00559096_01', 'MBM045085', 'S...  \n4  ['MBM037883', 'NY00559096_01', 'MBM045085', 'S...  ",
      "text/html": "<div>\n<style scoped>\n    .dataframe tbody tr th:only-of-type {\n        vertical-align: middle;\n    }\n\n    .dataframe tbody tr th {\n        vertical-align: top;\n    }\n\n    .dataframe thead th {\n        text-align: right;\n    }\n</style>\n<table border=\"1\" class=\"dataframe\">\n  <thead>\n    <tr style=\"text-align: right;\">\n      <th></th>\n      <th>species</th>\n      <th>folder</th>\n      <th>count</th>\n      <th>list_images</th>\n    </tr>\n  </thead>\n  <tbody>\n    <tr>\n      <th>0</th>\n      <td>corcovadensis</td>\n      <td>f1</td>\n      <td>68</td>\n      <td>['MBM037883', 'NY00559096_01', 'MBM045085', 'S...</td>\n    </tr>\n    <tr>\n      <th>1</th>\n      <td>regnellii</td>\n      <td>f2</td>\n      <td>17</td>\n      <td>['MBM037883', 'NY00559096_01', 'MBM045085', 'S...</td>\n    </tr>\n    <tr>\n      <th>2</th>\n      <td>mikanianum</td>\n      <td>f3</td>\n      <td>37</td>\n      <td>['MBM037883', 'NY00559096_01', 'MBM045085', 'S...</td>\n    </tr>\n    <tr>\n      <th>3</th>\n      <td>subretusa</td>\n      <td>f4</td>\n      <td>5</td>\n      <td>['MBM037883', 'NY00559096_01', 'MBM045085', 'S...</td>\n    </tr>\n    <tr>\n      <th>4</th>\n      <td>reitzii</td>\n      <td>f5</td>\n      <td>12</td>\n      <td>['MBM037883', 'NY00559096_01', 'MBM045085', 'S...</td>\n    </tr>\n  </tbody>\n</table>\n</div>"
     },
     "metadata": {},
     "output_type": "display_data"
    },
    {
     "data": {
      "text/plain": "'color: grayscale image_size: 256 minimum_image: 10'"
     },
     "metadata": {},
     "output_type": "display_data"
    },
    {
     "data": {
      "text/plain": "         species folder  count  \\\n0  corcovadensis     f1     68   \n1      regnellii     f2     17   \n2     mikanianum     f3     37   \n3        reitzii     f4     12   \n4    miquelianum     f5     70   \n\n                                         list_images  \n0  ['MBM089701', 'MBM089707', 'NY00559303_01', 'M...  \n1  ['MBM089701', 'MBM089707', 'NY00559303_01', 'M...  \n2  ['MBM089701', 'MBM089707', 'NY00559303_01', 'M...  \n3  ['MBM089701', 'MBM089707', 'NY00559303_01', 'M...  \n4  ['MBM089701', 'MBM089707', 'NY00559303_01', 'M...  ",
      "text/html": "<div>\n<style scoped>\n    .dataframe tbody tr th:only-of-type {\n        vertical-align: middle;\n    }\n\n    .dataframe tbody tr th {\n        vertical-align: top;\n    }\n\n    .dataframe thead th {\n        text-align: right;\n    }\n</style>\n<table border=\"1\" class=\"dataframe\">\n  <thead>\n    <tr style=\"text-align: right;\">\n      <th></th>\n      <th>species</th>\n      <th>folder</th>\n      <th>count</th>\n      <th>list_images</th>\n    </tr>\n  </thead>\n  <tbody>\n    <tr>\n      <th>0</th>\n      <td>corcovadensis</td>\n      <td>f1</td>\n      <td>68</td>\n      <td>['MBM089701', 'MBM089707', 'NY00559303_01', 'M...</td>\n    </tr>\n    <tr>\n      <th>1</th>\n      <td>regnellii</td>\n      <td>f2</td>\n      <td>17</td>\n      <td>['MBM089701', 'MBM089707', 'NY00559303_01', 'M...</td>\n    </tr>\n    <tr>\n      <th>2</th>\n      <td>mikanianum</td>\n      <td>f3</td>\n      <td>37</td>\n      <td>['MBM089701', 'MBM089707', 'NY00559303_01', 'M...</td>\n    </tr>\n    <tr>\n      <th>3</th>\n      <td>reitzii</td>\n      <td>f4</td>\n      <td>12</td>\n      <td>['MBM089701', 'MBM089707', 'NY00559303_01', 'M...</td>\n    </tr>\n    <tr>\n      <th>4</th>\n      <td>miquelianum</td>\n      <td>f5</td>\n      <td>70</td>\n      <td>['MBM089701', 'MBM089707', 'NY00559303_01', 'M...</td>\n    </tr>\n  </tbody>\n</table>\n</div>"
     },
     "metadata": {},
     "output_type": "display_data"
    },
    {
     "data": {
      "text/plain": "'color: grayscale image_size: 256 minimum_image: 20'"
     },
     "metadata": {},
     "output_type": "display_data"
    },
    {
     "data": {
      "text/plain": "           species folder  count  \\\n0    corcovadensis     f1     68   \n1       mikanianum     f2     37   \n2      miquelianum     f3     70   \n3    crassinervium     f4     20   \n4  gaudichaudianum     f5    105   \n\n                                         list_images  \n0  ['ESA100586', 'NY00555607_01', 'MBM171931', 'H...  \n1  ['ESA100586', 'NY00555607_01', 'MBM171931', 'H...  \n2  ['ESA100586', 'NY00555607_01', 'MBM171931', 'H...  \n3  ['ESA100586', 'NY00555607_01', 'MBM171931', 'H...  \n4  ['ESA100586', 'NY00555607_01', 'MBM171931', 'H...  ",
      "text/html": "<div>\n<style scoped>\n    .dataframe tbody tr th:only-of-type {\n        vertical-align: middle;\n    }\n\n    .dataframe tbody tr th {\n        vertical-align: top;\n    }\n\n    .dataframe thead th {\n        text-align: right;\n    }\n</style>\n<table border=\"1\" class=\"dataframe\">\n  <thead>\n    <tr style=\"text-align: right;\">\n      <th></th>\n      <th>species</th>\n      <th>folder</th>\n      <th>count</th>\n      <th>list_images</th>\n    </tr>\n  </thead>\n  <tbody>\n    <tr>\n      <th>0</th>\n      <td>corcovadensis</td>\n      <td>f1</td>\n      <td>68</td>\n      <td>['ESA100586', 'NY00555607_01', 'MBM171931', 'H...</td>\n    </tr>\n    <tr>\n      <th>1</th>\n      <td>mikanianum</td>\n      <td>f2</td>\n      <td>37</td>\n      <td>['ESA100586', 'NY00555607_01', 'MBM171931', 'H...</td>\n    </tr>\n    <tr>\n      <th>2</th>\n      <td>miquelianum</td>\n      <td>f3</td>\n      <td>70</td>\n      <td>['ESA100586', 'NY00555607_01', 'MBM171931', 'H...</td>\n    </tr>\n    <tr>\n      <th>3</th>\n      <td>crassinervium</td>\n      <td>f4</td>\n      <td>20</td>\n      <td>['ESA100586', 'NY00555607_01', 'MBM171931', 'H...</td>\n    </tr>\n    <tr>\n      <th>4</th>\n      <td>gaudichaudianum</td>\n      <td>f5</td>\n      <td>105</td>\n      <td>['ESA100586', 'NY00555607_01', 'MBM171931', 'H...</td>\n    </tr>\n  </tbody>\n</table>\n</div>"
     },
     "metadata": {},
     "output_type": "display_data"
    },
    {
     "data": {
      "text/plain": "'color: grayscale image_size: 400 minimum_image: 5'"
     },
     "metadata": {},
     "output_type": "display_data"
    },
    {
     "data": {
      "text/plain": "         species folder  count  \\\n0  corcovadensis     f1     68   \n1      regnellii     f2     17   \n2     mikanianum     f3     37   \n3      subretusa     f4      5   \n4        reitzii     f5     12   \n\n                                         list_images  \n0  ['MBM037883', 'NY00559096_01', 'MBM045085', 'S...  \n1  ['MBM037883', 'NY00559096_01', 'MBM045085', 'S...  \n2  ['MBM037883', 'NY00559096_01', 'MBM045085', 'S...  \n3  ['MBM037883', 'NY00559096_01', 'MBM045085', 'S...  \n4  ['MBM037883', 'NY00559096_01', 'MBM045085', 'S...  ",
      "text/html": "<div>\n<style scoped>\n    .dataframe tbody tr th:only-of-type {\n        vertical-align: middle;\n    }\n\n    .dataframe tbody tr th {\n        vertical-align: top;\n    }\n\n    .dataframe thead th {\n        text-align: right;\n    }\n</style>\n<table border=\"1\" class=\"dataframe\">\n  <thead>\n    <tr style=\"text-align: right;\">\n      <th></th>\n      <th>species</th>\n      <th>folder</th>\n      <th>count</th>\n      <th>list_images</th>\n    </tr>\n  </thead>\n  <tbody>\n    <tr>\n      <th>0</th>\n      <td>corcovadensis</td>\n      <td>f1</td>\n      <td>68</td>\n      <td>['MBM037883', 'NY00559096_01', 'MBM045085', 'S...</td>\n    </tr>\n    <tr>\n      <th>1</th>\n      <td>regnellii</td>\n      <td>f2</td>\n      <td>17</td>\n      <td>['MBM037883', 'NY00559096_01', 'MBM045085', 'S...</td>\n    </tr>\n    <tr>\n      <th>2</th>\n      <td>mikanianum</td>\n      <td>f3</td>\n      <td>37</td>\n      <td>['MBM037883', 'NY00559096_01', 'MBM045085', 'S...</td>\n    </tr>\n    <tr>\n      <th>3</th>\n      <td>subretusa</td>\n      <td>f4</td>\n      <td>5</td>\n      <td>['MBM037883', 'NY00559096_01', 'MBM045085', 'S...</td>\n    </tr>\n    <tr>\n      <th>4</th>\n      <td>reitzii</td>\n      <td>f5</td>\n      <td>12</td>\n      <td>['MBM037883', 'NY00559096_01', 'MBM045085', 'S...</td>\n    </tr>\n  </tbody>\n</table>\n</div>"
     },
     "metadata": {},
     "output_type": "display_data"
    },
    {
     "data": {
      "text/plain": "'color: grayscale image_size: 400 minimum_image: 10'"
     },
     "metadata": {},
     "output_type": "display_data"
    },
    {
     "data": {
      "text/plain": "         species folder  count  \\\n0  corcovadensis     f1     68   \n1      regnellii     f2     17   \n2     mikanianum     f3     37   \n3        reitzii     f4     12   \n4    miquelianum     f5     70   \n\n                                         list_images  \n0  ['MBM089701', 'MBM089707', 'NY00559303_01', 'M...  \n1  ['MBM089701', 'MBM089707', 'NY00559303_01', 'M...  \n2  ['MBM089701', 'MBM089707', 'NY00559303_01', 'M...  \n3  ['MBM089701', 'MBM089707', 'NY00559303_01', 'M...  \n4  ['MBM089701', 'MBM089707', 'NY00559303_01', 'M...  ",
      "text/html": "<div>\n<style scoped>\n    .dataframe tbody tr th:only-of-type {\n        vertical-align: middle;\n    }\n\n    .dataframe tbody tr th {\n        vertical-align: top;\n    }\n\n    .dataframe thead th {\n        text-align: right;\n    }\n</style>\n<table border=\"1\" class=\"dataframe\">\n  <thead>\n    <tr style=\"text-align: right;\">\n      <th></th>\n      <th>species</th>\n      <th>folder</th>\n      <th>count</th>\n      <th>list_images</th>\n    </tr>\n  </thead>\n  <tbody>\n    <tr>\n      <th>0</th>\n      <td>corcovadensis</td>\n      <td>f1</td>\n      <td>68</td>\n      <td>['MBM089701', 'MBM089707', 'NY00559303_01', 'M...</td>\n    </tr>\n    <tr>\n      <th>1</th>\n      <td>regnellii</td>\n      <td>f2</td>\n      <td>17</td>\n      <td>['MBM089701', 'MBM089707', 'NY00559303_01', 'M...</td>\n    </tr>\n    <tr>\n      <th>2</th>\n      <td>mikanianum</td>\n      <td>f3</td>\n      <td>37</td>\n      <td>['MBM089701', 'MBM089707', 'NY00559303_01', 'M...</td>\n    </tr>\n    <tr>\n      <th>3</th>\n      <td>reitzii</td>\n      <td>f4</td>\n      <td>12</td>\n      <td>['MBM089701', 'MBM089707', 'NY00559303_01', 'M...</td>\n    </tr>\n    <tr>\n      <th>4</th>\n      <td>miquelianum</td>\n      <td>f5</td>\n      <td>70</td>\n      <td>['MBM089701', 'MBM089707', 'NY00559303_01', 'M...</td>\n    </tr>\n  </tbody>\n</table>\n</div>"
     },
     "metadata": {},
     "output_type": "display_data"
    },
    {
     "data": {
      "text/plain": "'color: grayscale image_size: 400 minimum_image: 20'"
     },
     "metadata": {},
     "output_type": "display_data"
    },
    {
     "data": {
      "text/plain": "           species folder  count  \\\n0    corcovadensis     f1     68   \n1       mikanianum     f2     37   \n2      miquelianum     f3     70   \n3    crassinervium     f4     20   \n4  gaudichaudianum     f5    105   \n\n                                         list_images  \n0  ['ESA100586', 'NY00555607_01', 'MBM171931', 'H...  \n1  ['ESA100586', 'NY00555607_01', 'MBM171931', 'H...  \n2  ['ESA100586', 'NY00555607_01', 'MBM171931', 'H...  \n3  ['ESA100586', 'NY00555607_01', 'MBM171931', 'H...  \n4  ['ESA100586', 'NY00555607_01', 'MBM171931', 'H...  ",
      "text/html": "<div>\n<style scoped>\n    .dataframe tbody tr th:only-of-type {\n        vertical-align: middle;\n    }\n\n    .dataframe tbody tr th {\n        vertical-align: top;\n    }\n\n    .dataframe thead th {\n        text-align: right;\n    }\n</style>\n<table border=\"1\" class=\"dataframe\">\n  <thead>\n    <tr style=\"text-align: right;\">\n      <th></th>\n      <th>species</th>\n      <th>folder</th>\n      <th>count</th>\n      <th>list_images</th>\n    </tr>\n  </thead>\n  <tbody>\n    <tr>\n      <th>0</th>\n      <td>corcovadensis</td>\n      <td>f1</td>\n      <td>68</td>\n      <td>['ESA100586', 'NY00555607_01', 'MBM171931', 'H...</td>\n    </tr>\n    <tr>\n      <th>1</th>\n      <td>mikanianum</td>\n      <td>f2</td>\n      <td>37</td>\n      <td>['ESA100586', 'NY00555607_01', 'MBM171931', 'H...</td>\n    </tr>\n    <tr>\n      <th>2</th>\n      <td>miquelianum</td>\n      <td>f3</td>\n      <td>70</td>\n      <td>['ESA100586', 'NY00555607_01', 'MBM171931', 'H...</td>\n    </tr>\n    <tr>\n      <th>3</th>\n      <td>crassinervium</td>\n      <td>f4</td>\n      <td>20</td>\n      <td>['ESA100586', 'NY00555607_01', 'MBM171931', 'H...</td>\n    </tr>\n    <tr>\n      <th>4</th>\n      <td>gaudichaudianum</td>\n      <td>f5</td>\n      <td>105</td>\n      <td>['ESA100586', 'NY00555607_01', 'MBM171931', 'H...</td>\n    </tr>\n  </tbody>\n</table>\n</div>"
     },
     "metadata": {},
     "output_type": "display_data"
    },
    {
     "data": {
      "text/plain": "'color: grayscale image_size: 512 minimum_image: 5'"
     },
     "metadata": {},
     "output_type": "display_data"
    },
    {
     "data": {
      "text/plain": "         species folder  count  \\\n0  corcovadensis     f1     68   \n1      regnellii     f2     17   \n2     mikanianum     f3     37   \n3      subretusa     f4      5   \n4        reitzii     f5     12   \n\n                                         list_images  \n0  ['MBM037883', 'NY00559096_01', 'MBM045085', 'S...  \n1  ['MBM037883', 'NY00559096_01', 'MBM045085', 'S...  \n2  ['MBM037883', 'NY00559096_01', 'MBM045085', 'S...  \n3  ['MBM037883', 'NY00559096_01', 'MBM045085', 'S...  \n4  ['MBM037883', 'NY00559096_01', 'MBM045085', 'S...  ",
      "text/html": "<div>\n<style scoped>\n    .dataframe tbody tr th:only-of-type {\n        vertical-align: middle;\n    }\n\n    .dataframe tbody tr th {\n        vertical-align: top;\n    }\n\n    .dataframe thead th {\n        text-align: right;\n    }\n</style>\n<table border=\"1\" class=\"dataframe\">\n  <thead>\n    <tr style=\"text-align: right;\">\n      <th></th>\n      <th>species</th>\n      <th>folder</th>\n      <th>count</th>\n      <th>list_images</th>\n    </tr>\n  </thead>\n  <tbody>\n    <tr>\n      <th>0</th>\n      <td>corcovadensis</td>\n      <td>f1</td>\n      <td>68</td>\n      <td>['MBM037883', 'NY00559096_01', 'MBM045085', 'S...</td>\n    </tr>\n    <tr>\n      <th>1</th>\n      <td>regnellii</td>\n      <td>f2</td>\n      <td>17</td>\n      <td>['MBM037883', 'NY00559096_01', 'MBM045085', 'S...</td>\n    </tr>\n    <tr>\n      <th>2</th>\n      <td>mikanianum</td>\n      <td>f3</td>\n      <td>37</td>\n      <td>['MBM037883', 'NY00559096_01', 'MBM045085', 'S...</td>\n    </tr>\n    <tr>\n      <th>3</th>\n      <td>subretusa</td>\n      <td>f4</td>\n      <td>5</td>\n      <td>['MBM037883', 'NY00559096_01', 'MBM045085', 'S...</td>\n    </tr>\n    <tr>\n      <th>4</th>\n      <td>reitzii</td>\n      <td>f5</td>\n      <td>12</td>\n      <td>['MBM037883', 'NY00559096_01', 'MBM045085', 'S...</td>\n    </tr>\n  </tbody>\n</table>\n</div>"
     },
     "metadata": {},
     "output_type": "display_data"
    },
    {
     "data": {
      "text/plain": "'color: grayscale image_size: 512 minimum_image: 10'"
     },
     "metadata": {},
     "output_type": "display_data"
    },
    {
     "data": {
      "text/plain": "         species folder  count  \\\n0  corcovadensis     f1     68   \n1      regnellii     f2     17   \n2     mikanianum     f3     37   \n3        reitzii     f4     12   \n4    miquelianum     f5     70   \n\n                                         list_images  \n0  ['MBM089701', 'MBM089707', 'NY00559303_01', 'M...  \n1  ['MBM089701', 'MBM089707', 'NY00559303_01', 'M...  \n2  ['MBM089701', 'MBM089707', 'NY00559303_01', 'M...  \n3  ['MBM089701', 'MBM089707', 'NY00559303_01', 'M...  \n4  ['MBM089701', 'MBM089707', 'NY00559303_01', 'M...  ",
      "text/html": "<div>\n<style scoped>\n    .dataframe tbody tr th:only-of-type {\n        vertical-align: middle;\n    }\n\n    .dataframe tbody tr th {\n        vertical-align: top;\n    }\n\n    .dataframe thead th {\n        text-align: right;\n    }\n</style>\n<table border=\"1\" class=\"dataframe\">\n  <thead>\n    <tr style=\"text-align: right;\">\n      <th></th>\n      <th>species</th>\n      <th>folder</th>\n      <th>count</th>\n      <th>list_images</th>\n    </tr>\n  </thead>\n  <tbody>\n    <tr>\n      <th>0</th>\n      <td>corcovadensis</td>\n      <td>f1</td>\n      <td>68</td>\n      <td>['MBM089701', 'MBM089707', 'NY00559303_01', 'M...</td>\n    </tr>\n    <tr>\n      <th>1</th>\n      <td>regnellii</td>\n      <td>f2</td>\n      <td>17</td>\n      <td>['MBM089701', 'MBM089707', 'NY00559303_01', 'M...</td>\n    </tr>\n    <tr>\n      <th>2</th>\n      <td>mikanianum</td>\n      <td>f3</td>\n      <td>37</td>\n      <td>['MBM089701', 'MBM089707', 'NY00559303_01', 'M...</td>\n    </tr>\n    <tr>\n      <th>3</th>\n      <td>reitzii</td>\n      <td>f4</td>\n      <td>12</td>\n      <td>['MBM089701', 'MBM089707', 'NY00559303_01', 'M...</td>\n    </tr>\n    <tr>\n      <th>4</th>\n      <td>miquelianum</td>\n      <td>f5</td>\n      <td>70</td>\n      <td>['MBM089701', 'MBM089707', 'NY00559303_01', 'M...</td>\n    </tr>\n  </tbody>\n</table>\n</div>"
     },
     "metadata": {},
     "output_type": "display_data"
    },
    {
     "data": {
      "text/plain": "'color: grayscale image_size: 512 minimum_image: 20'"
     },
     "metadata": {},
     "output_type": "display_data"
    },
    {
     "data": {
      "text/plain": "           species folder  count  \\\n0    corcovadensis     f1     68   \n1       mikanianum     f2     37   \n2      miquelianum     f3     70   \n3    crassinervium     f4     20   \n4  gaudichaudianum     f5    105   \n\n                                         list_images  \n0  ['ESA100586', 'NY00555607_01', 'MBM171931', 'H...  \n1  ['ESA100586', 'NY00555607_01', 'MBM171931', 'H...  \n2  ['ESA100586', 'NY00555607_01', 'MBM171931', 'H...  \n3  ['ESA100586', 'NY00555607_01', 'MBM171931', 'H...  \n4  ['ESA100586', 'NY00555607_01', 'MBM171931', 'H...  ",
      "text/html": "<div>\n<style scoped>\n    .dataframe tbody tr th:only-of-type {\n        vertical-align: middle;\n    }\n\n    .dataframe tbody tr th {\n        vertical-align: top;\n    }\n\n    .dataframe thead th {\n        text-align: right;\n    }\n</style>\n<table border=\"1\" class=\"dataframe\">\n  <thead>\n    <tr style=\"text-align: right;\">\n      <th></th>\n      <th>species</th>\n      <th>folder</th>\n      <th>count</th>\n      <th>list_images</th>\n    </tr>\n  </thead>\n  <tbody>\n    <tr>\n      <th>0</th>\n      <td>corcovadensis</td>\n      <td>f1</td>\n      <td>68</td>\n      <td>['ESA100586', 'NY00555607_01', 'MBM171931', 'H...</td>\n    </tr>\n    <tr>\n      <th>1</th>\n      <td>mikanianum</td>\n      <td>f2</td>\n      <td>37</td>\n      <td>['ESA100586', 'NY00555607_01', 'MBM171931', 'H...</td>\n    </tr>\n    <tr>\n      <th>2</th>\n      <td>miquelianum</td>\n      <td>f3</td>\n      <td>70</td>\n      <td>['ESA100586', 'NY00555607_01', 'MBM171931', 'H...</td>\n    </tr>\n    <tr>\n      <th>3</th>\n      <td>crassinervium</td>\n      <td>f4</td>\n      <td>20</td>\n      <td>['ESA100586', 'NY00555607_01', 'MBM171931', 'H...</td>\n    </tr>\n    <tr>\n      <th>4</th>\n      <td>gaudichaudianum</td>\n      <td>f5</td>\n      <td>105</td>\n      <td>['ESA100586', 'NY00555607_01', 'MBM171931', 'H...</td>\n    </tr>\n  </tbody>\n</table>\n</div>"
     },
     "metadata": {},
     "output_type": "display_data"
    }
   ],
   "source": [
    "list_color = ['RGB', 'grayscale']\n",
    "list_image_size = ['256', '400', '512']\n",
    "list_minimum_image = ['5', '10', '20']\n",
    "path_dataset = '/home/xandao/Documentos/dataset_gimp/imagens_george/imagens/'\n",
    "\n",
    "for color in list_color:\n",
    "    for image_size in list_image_size:\n",
    "        for minimum_image in list_minimum_image:\n",
    "            p = os.path.join(path_dataset, color, 'specific_epithet', image_size, minimum_image)\n",
    "            file_labels = [f for f in pathlib.Path(p).rglob('label2.txt') if f.is_file()]\n",
    "            if len(file_labels) == 1:\n",
    "                df = pd.read_csv(file_labels[0], header=None, sep=';', names=['species', 'folder', 'count'])\n",
    "                display('color: %s image_size: %s minimum_image: %s' % (\n",
    "                color, image_size, minimum_image))\n",
    "                for folder_name in df['folder']:\n",
    "                    df['list_images'] = str(\n",
    "                        [str(image.stem) for image in pathlib.Path(os.path.join(p, folder_name)).rglob('*.jpeg') if\n",
    "                         image.is_file()])\n",
    "                display(df.head(5))\n",
    "                filename = '%s_%s_%s.csv' % (color, image_size, minimum_image)\n",
    "                filename = os.path.join('csv', 'pr', filename)\n",
    "                df.to_csv(filename, sep=';', header=None, index=None, lineterminator='\\n')"
   ],
   "metadata": {
    "collapsed": false
   }
  }
 ],
 "metadata": {
  "kernelspec": {
   "display_name": "base",
   "language": "python",
   "name": "python3"
  },
  "language_info": {
   "codemirror_mode": {
    "name": "ipython",
    "version": 3
   },
   "file_extension": ".py",
   "mimetype": "text/x-python",
   "name": "python",
   "nbconvert_exporter": "python",
   "pygments_lexer": "ipython3",
   "version": "3.9.12"
  },
  "vscode": {
   "interpreter": {
    "hash": "53ce972a288a646521e393254486dd3d4e40ae124f0f9a66da52dff344d61cdc"
   }
  }
 },
 "nbformat": 4,
 "nbformat_minor": 1
}
