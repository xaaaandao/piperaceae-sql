{
 "cells": [
  {
   "cell_type": "code",
   "execution_count": 1,
   "outputs": [
    {
     "name": "stdout",
     "output_type": "stream",
     "text": [
      "The autoreload extension is already loaded. To reload it, use:\n",
      "  %reload_ext autoreload\n"
     ]
    }
   ],
   "source": [
    "%reload_ext autoreload\n",
    "%load_ext autoreload\n",
    "%autoreload 2"
   ],
   "metadata": {
    "collapsed": false
   }
  },
  {
   "cell_type": "code",
   "execution_count": 2,
   "outputs": [],
   "source": [
    "import os\n",
    "import sqlalchemy as sa\n",
    "\n",
    "import database as db\n",
    "from images import copy_images, get_list_of_images_invalid, save_metadata\n",
    "from models import County, DataTrustedIdentifier, Image\n",
    "from unaccent import unaccent"
   ],
   "metadata": {
    "collapsed": false
   }
  },
  {
   "cell_type": "code",
   "execution_count": 3,
   "outputs": [
    {
     "name": "stdout",
     "output_type": "stream",
     "text": [
      "2023-03-30 14:37:56,330 INFO sqlalchemy.engine.Engine select pg_catalog.version()\n",
      "2023-03-30 14:37:56,330 INFO sqlalchemy.engine.Engine [raw sql] {}\n",
      "2023-03-30 14:37:56,331 INFO sqlalchemy.engine.Engine select current_schema()\n",
      "2023-03-30 14:37:56,332 INFO sqlalchemy.engine.Engine [raw sql] {}\n",
      "2023-03-30 14:37:56,333 INFO sqlalchemy.engine.Engine show standard_conforming_strings\n",
      "2023-03-30 14:37:56,333 INFO sqlalchemy.engine.Engine [raw sql] {}\n"
     ]
    }
   ],
   "source": [
    "engine, session=db.connect()\n",
    "engine.echo=False"
   ],
   "metadata": {
    "collapsed": false
   }
  },
  {
   "cell_type": "code",
   "execution_count": 4,
   "outputs": [],
   "source": [
    "query = session.query(County).filter(County.uf.__eq__('PR')).distinct().all()\n",
    "\n",
    "list_uf = [unaccent(sa.func.lower(q.uf)) for q in query]\n",
    "list_state = [unaccent(sa.func.lower(q.state)) for q in query]\n",
    "list_county = [unaccent(sa.func.lower(q.county)) for q in query]\n",
    "\n",
    "uf_unaccented_lower = unaccent(sa.func.lower(DataTrustedIdentifier.state_province)).in_(list_uf)\n",
    "state_unaccented_lower = unaccent(sa.func.lower(DataTrustedIdentifier.state_province)).in_(list_state)\n",
    "county_unaccented_lower = unaccent(sa.func.lower(DataTrustedIdentifier.county)).in_(list_county)"
   ],
   "metadata": {
    "collapsed": false
   }
  },
  {
   "cell_type": "code",
   "execution_count": 5,
   "outputs": [
    {
     "data": {
      "text/plain": "['INPA0248526',\n 'INPA0248523',\n 'INPA0248528',\n 'NY01421926_01',\n 'NY01421575_01',\n 'HUFSJ001689_v00',\n 'HUFSJ001133_v00',\n 'HUFSJ002198_v00',\n 'HUFSJ003255_v00',\n 'HVASF000487_v01',\n 'HUFSJ001689_v01',\n 'INPA0019084_nd',\n 'INPA0022379_nd',\n 'INPA0032742_nd',\n 'INPA0023115',\n 'NL-U1484137',\n 'NY01397568_01',\n 'INPA0012286',\n 'INPA0146998']"
     },
     "execution_count": 5,
     "metadata": {},
     "output_type": "execute_result"
    }
   ],
   "source": [
    "list_minimum_image=[5, 10, 20]\n",
    "list_color=['rgb', 'grayscale']\n",
    "list_image_size=['256', '400', '512']\n",
    "path_out = '/home/xandao/Imagens/pr_dataset'\n",
    "list_images_invalid=get_list_of_images_invalid()\n",
    "list_images_invalid=list_images_invalid['barcode']\n",
    "list_images_invalid"
   ],
   "metadata": {
    "collapsed": false
   }
  },
  {
   "cell_type": "code",
   "execution_count": 22,
   "outputs": [
    {
     "name": "stdout",
     "output_type": "stream",
     "text": [
      "color: RGB image_size: 256 minimum_image: 5\n",
      "total of levels: 57 total of images: 1389\n"
     ]
    },
    {
     "data": {
      "text/plain": "    levels  count                                                dst  \\\n0  aduncum     34  /home/xandao/Imagens/pr_dataset/RGB/specific_e...   \n1    alata     18  /home/xandao/Imagens/pr_dataset/RGB/specific_e...   \n2  amalago     68  /home/xandao/Imagens/pr_dataset/RGB/specific_e...   \n3   amplum      6  /home/xandao/Imagens/pr_dataset/RGB/specific_e...   \n\n                                               paths  \\\n0  [/media/xandao/c2f58d30-ff2c-47f7-95af-91ad6fd...   \n1  [/media/xandao/c2f58d30-ff2c-47f7-95af-91ad6fd...   \n2  [/media/xandao/c2f58d30-ff2c-47f7-95af-91ad6fd...   \n3  [/media/xandao/c2f58d30-ff2c-47f7-95af-91ad6fd...   \n\n                                                 seq  \n0  [9674, 9927, 10002, 10051, 10094, 10468, 10676...  \n1  [9865, 9884, 9911, 10134, 10178, 10271, 10380,...  \n2  [7707, 7723, 8236, 8767, 9678, 9698, 9888, 993...  \n3         [10065, 10655, 11913, 11920, 11923, 12939]  ",
      "text/html": "<div>\n<style scoped>\n    .dataframe tbody tr th:only-of-type {\n        vertical-align: middle;\n    }\n\n    .dataframe tbody tr th {\n        vertical-align: top;\n    }\n\n    .dataframe thead th {\n        text-align: right;\n    }\n</style>\n<table border=\"1\" class=\"dataframe\">\n  <thead>\n    <tr style=\"text-align: right;\">\n      <th></th>\n      <th>levels</th>\n      <th>count</th>\n      <th>dst</th>\n      <th>paths</th>\n      <th>seq</th>\n    </tr>\n  </thead>\n  <tbody>\n    <tr>\n      <th>0</th>\n      <td>aduncum</td>\n      <td>34</td>\n      <td>/home/xandao/Imagens/pr_dataset/RGB/specific_e...</td>\n      <td>[/media/xandao/c2f58d30-ff2c-47f7-95af-91ad6fd...</td>\n      <td>[9674, 9927, 10002, 10051, 10094, 10468, 10676...</td>\n    </tr>\n    <tr>\n      <th>1</th>\n      <td>alata</td>\n      <td>18</td>\n      <td>/home/xandao/Imagens/pr_dataset/RGB/specific_e...</td>\n      <td>[/media/xandao/c2f58d30-ff2c-47f7-95af-91ad6fd...</td>\n      <td>[9865, 9884, 9911, 10134, 10178, 10271, 10380,...</td>\n    </tr>\n    <tr>\n      <th>2</th>\n      <td>amalago</td>\n      <td>68</td>\n      <td>/home/xandao/Imagens/pr_dataset/RGB/specific_e...</td>\n      <td>[/media/xandao/c2f58d30-ff2c-47f7-95af-91ad6fd...</td>\n      <td>[7707, 7723, 8236, 8767, 9678, 9698, 9888, 993...</td>\n    </tr>\n    <tr>\n      <th>3</th>\n      <td>amplum</td>\n      <td>6</td>\n      <td>/home/xandao/Imagens/pr_dataset/RGB/specific_e...</td>\n      <td>[/media/xandao/c2f58d30-ff2c-47f7-95af-91ad6fd...</td>\n      <td>[10065, 10655, 11913, 11920, 11923, 12939]</td>\n    </tr>\n  </tbody>\n</table>\n</div>"
     },
     "metadata": {},
     "output_type": "display_data"
    },
    {
     "data": {
      "text/plain": "     seq  genus specific_epithet genus_trusted specific_epithet_trusted  \\\n0   9735  Piper         arboreum         Piper                 arboreum   \n1   7333  Piper     corcovadense         Piper                grazielae   \n2  13064  Piper    corcovadensis         Piper                grazielae   \n3   9821  Piper    corcovadensis         Piper                grazielae   \n\n                                                urls  \n0  [https://storage.googleapis.com/cria-zoomify/h...  \n1  [https://storage.googleapis.com/cria-zoomify/h...  \n2  [https://storage.googleapis.com/cria-zoomify/h...  \n3  [https://storage.googleapis.com/cria-zoomify/h...  ",
      "text/html": "<div>\n<style scoped>\n    .dataframe tbody tr th:only-of-type {\n        vertical-align: middle;\n    }\n\n    .dataframe tbody tr th {\n        vertical-align: top;\n    }\n\n    .dataframe thead th {\n        text-align: right;\n    }\n</style>\n<table border=\"1\" class=\"dataframe\">\n  <thead>\n    <tr style=\"text-align: right;\">\n      <th></th>\n      <th>seq</th>\n      <th>genus</th>\n      <th>specific_epithet</th>\n      <th>genus_trusted</th>\n      <th>specific_epithet_trusted</th>\n      <th>urls</th>\n    </tr>\n  </thead>\n  <tbody>\n    <tr>\n      <th>0</th>\n      <td>9735</td>\n      <td>Piper</td>\n      <td>arboreum</td>\n      <td>Piper</td>\n      <td>arboreum</td>\n      <td>[https://storage.googleapis.com/cria-zoomify/h...</td>\n    </tr>\n    <tr>\n      <th>1</th>\n      <td>7333</td>\n      <td>Piper</td>\n      <td>corcovadense</td>\n      <td>Piper</td>\n      <td>grazielae</td>\n      <td>[https://storage.googleapis.com/cria-zoomify/h...</td>\n    </tr>\n    <tr>\n      <th>2</th>\n      <td>13064</td>\n      <td>Piper</td>\n      <td>corcovadensis</td>\n      <td>Piper</td>\n      <td>grazielae</td>\n      <td>[https://storage.googleapis.com/cria-zoomify/h...</td>\n    </tr>\n    <tr>\n      <th>3</th>\n      <td>9821</td>\n      <td>Piper</td>\n      <td>corcovadensis</td>\n      <td>Piper</td>\n      <td>grazielae</td>\n      <td>[https://storage.googleapis.com/cria-zoomify/h...</td>\n    </tr>\n  </tbody>\n</table>\n</div>"
     },
     "metadata": {},
     "output_type": "display_data"
    },
    {
     "data": {
      "text/plain": "                                                               0\ndst            /home/xandao/Imagens/pr_dataset/RGB/specific_e...\ncolor                                                        rgb\nimage_size                                                   256\nminimum_image                                                  5\nlevel_name                              specific_epithet_trusted\nlevels                                                        57\ntotal                                                       1389\naverage                                                    24.37",
      "text/html": "<div>\n<style scoped>\n    .dataframe tbody tr th:only-of-type {\n        vertical-align: middle;\n    }\n\n    .dataframe tbody tr th {\n        vertical-align: top;\n    }\n\n    .dataframe thead th {\n        text-align: right;\n    }\n</style>\n<table border=\"1\" class=\"dataframe\">\n  <thead>\n    <tr style=\"text-align: right;\">\n      <th></th>\n      <th>0</th>\n    </tr>\n  </thead>\n  <tbody>\n    <tr>\n      <th>dst</th>\n      <td>/home/xandao/Imagens/pr_dataset/RGB/specific_e...</td>\n    </tr>\n    <tr>\n      <th>color</th>\n      <td>rgb</td>\n    </tr>\n    <tr>\n      <th>image_size</th>\n      <td>256</td>\n    </tr>\n    <tr>\n      <th>minimum_image</th>\n      <td>5</td>\n    </tr>\n    <tr>\n      <th>level_name</th>\n      <td>specific_epithet_trusted</td>\n    </tr>\n    <tr>\n      <th>levels</th>\n      <td>57</td>\n    </tr>\n    <tr>\n      <th>total</th>\n      <td>1389</td>\n    </tr>\n    <tr>\n      <th>average</th>\n      <td>24.37</td>\n    </tr>\n  </tbody>\n</table>\n</div>"
     },
     "metadata": {},
     "output_type": "display_data"
    },
    {
     "name": "stdout",
     "output_type": "stream",
     "text": [
      "color: RGB image_size: 256 minimum_image: 10\n",
      "total of levels: 36 total of images: 1257\n"
     ]
    },
    {
     "data": {
      "text/plain": "     levels  count                                                dst  \\\n0   aduncum     34  /home/xandao/Imagens/pr_dataset/RGB/specific_e...   \n1     alata     18  /home/xandao/Imagens/pr_dataset/RGB/specific_e...   \n2   amalago     68  /home/xandao/Imagens/pr_dataset/RGB/specific_e...   \n3  arboreum     37  /home/xandao/Imagens/pr_dataset/RGB/specific_e...   \n\n                                               paths  \\\n0  [/media/xandao/c2f58d30-ff2c-47f7-95af-91ad6fd...   \n1  [/media/xandao/c2f58d30-ff2c-47f7-95af-91ad6fd...   \n2  [/media/xandao/c2f58d30-ff2c-47f7-95af-91ad6fd...   \n3  [/media/xandao/c2f58d30-ff2c-47f7-95af-91ad6fd...   \n\n                                                 seq  \n0  [9674, 9927, 10002, 10051, 10094, 10468, 10676...  \n1  [9865, 9884, 9911, 10134, 10178, 10271, 10380,...  \n2  [7707, 7723, 8236, 8767, 9678, 9698, 9888, 993...  \n3  [8834, 9710, 9735, 9749, 9765, 9776, 9842, 991...  ",
      "text/html": "<div>\n<style scoped>\n    .dataframe tbody tr th:only-of-type {\n        vertical-align: middle;\n    }\n\n    .dataframe tbody tr th {\n        vertical-align: top;\n    }\n\n    .dataframe thead th {\n        text-align: right;\n    }\n</style>\n<table border=\"1\" class=\"dataframe\">\n  <thead>\n    <tr style=\"text-align: right;\">\n      <th></th>\n      <th>levels</th>\n      <th>count</th>\n      <th>dst</th>\n      <th>paths</th>\n      <th>seq</th>\n    </tr>\n  </thead>\n  <tbody>\n    <tr>\n      <th>0</th>\n      <td>aduncum</td>\n      <td>34</td>\n      <td>/home/xandao/Imagens/pr_dataset/RGB/specific_e...</td>\n      <td>[/media/xandao/c2f58d30-ff2c-47f7-95af-91ad6fd...</td>\n      <td>[9674, 9927, 10002, 10051, 10094, 10468, 10676...</td>\n    </tr>\n    <tr>\n      <th>1</th>\n      <td>alata</td>\n      <td>18</td>\n      <td>/home/xandao/Imagens/pr_dataset/RGB/specific_e...</td>\n      <td>[/media/xandao/c2f58d30-ff2c-47f7-95af-91ad6fd...</td>\n      <td>[9865, 9884, 9911, 10134, 10178, 10271, 10380,...</td>\n    </tr>\n    <tr>\n      <th>2</th>\n      <td>amalago</td>\n      <td>68</td>\n      <td>/home/xandao/Imagens/pr_dataset/RGB/specific_e...</td>\n      <td>[/media/xandao/c2f58d30-ff2c-47f7-95af-91ad6fd...</td>\n      <td>[7707, 7723, 8236, 8767, 9678, 9698, 9888, 993...</td>\n    </tr>\n    <tr>\n      <th>3</th>\n      <td>arboreum</td>\n      <td>37</td>\n      <td>/home/xandao/Imagens/pr_dataset/RGB/specific_e...</td>\n      <td>[/media/xandao/c2f58d30-ff2c-47f7-95af-91ad6fd...</td>\n      <td>[8834, 9710, 9735, 9749, 9765, 9776, 9842, 991...</td>\n    </tr>\n  </tbody>\n</table>\n</div>"
     },
     "metadata": {},
     "output_type": "display_data"
    },
    {
     "data": {
      "text/plain": "     seq  genus specific_epithet genus_trusted specific_epithet_trusted  \\\n0   9735  Piper         arboreum         Piper                 arboreum   \n1   7333  Piper     corcovadense         Piper                grazielae   \n2  13064  Piper    corcovadensis         Piper                grazielae   \n3   9821  Piper    corcovadensis         Piper                grazielae   \n\n                                                urls  \n0  [https://storage.googleapis.com/cria-zoomify/h...  \n1  [https://storage.googleapis.com/cria-zoomify/h...  \n2  [https://storage.googleapis.com/cria-zoomify/h...  \n3  [https://storage.googleapis.com/cria-zoomify/h...  ",
      "text/html": "<div>\n<style scoped>\n    .dataframe tbody tr th:only-of-type {\n        vertical-align: middle;\n    }\n\n    .dataframe tbody tr th {\n        vertical-align: top;\n    }\n\n    .dataframe thead th {\n        text-align: right;\n    }\n</style>\n<table border=\"1\" class=\"dataframe\">\n  <thead>\n    <tr style=\"text-align: right;\">\n      <th></th>\n      <th>seq</th>\n      <th>genus</th>\n      <th>specific_epithet</th>\n      <th>genus_trusted</th>\n      <th>specific_epithet_trusted</th>\n      <th>urls</th>\n    </tr>\n  </thead>\n  <tbody>\n    <tr>\n      <th>0</th>\n      <td>9735</td>\n      <td>Piper</td>\n      <td>arboreum</td>\n      <td>Piper</td>\n      <td>arboreum</td>\n      <td>[https://storage.googleapis.com/cria-zoomify/h...</td>\n    </tr>\n    <tr>\n      <th>1</th>\n      <td>7333</td>\n      <td>Piper</td>\n      <td>corcovadense</td>\n      <td>Piper</td>\n      <td>grazielae</td>\n      <td>[https://storage.googleapis.com/cria-zoomify/h...</td>\n    </tr>\n    <tr>\n      <th>2</th>\n      <td>13064</td>\n      <td>Piper</td>\n      <td>corcovadensis</td>\n      <td>Piper</td>\n      <td>grazielae</td>\n      <td>[https://storage.googleapis.com/cria-zoomify/h...</td>\n    </tr>\n    <tr>\n      <th>3</th>\n      <td>9821</td>\n      <td>Piper</td>\n      <td>corcovadensis</td>\n      <td>Piper</td>\n      <td>grazielae</td>\n      <td>[https://storage.googleapis.com/cria-zoomify/h...</td>\n    </tr>\n  </tbody>\n</table>\n</div>"
     },
     "metadata": {},
     "output_type": "display_data"
    },
    {
     "data": {
      "text/plain": "                                                               0\ndst            /home/xandao/Imagens/pr_dataset/RGB/specific_e...\ncolor                                                        rgb\nimage_size                                                   256\nminimum_image                                                 10\nlevel_name                              specific_epithet_trusted\nlevels                                                        36\ntotal                                                       1257\naverage                                                    34.92",
      "text/html": "<div>\n<style scoped>\n    .dataframe tbody tr th:only-of-type {\n        vertical-align: middle;\n    }\n\n    .dataframe tbody tr th {\n        vertical-align: top;\n    }\n\n    .dataframe thead th {\n        text-align: right;\n    }\n</style>\n<table border=\"1\" class=\"dataframe\">\n  <thead>\n    <tr style=\"text-align: right;\">\n      <th></th>\n      <th>0</th>\n    </tr>\n  </thead>\n  <tbody>\n    <tr>\n      <th>dst</th>\n      <td>/home/xandao/Imagens/pr_dataset/RGB/specific_e...</td>\n    </tr>\n    <tr>\n      <th>color</th>\n      <td>rgb</td>\n    </tr>\n    <tr>\n      <th>image_size</th>\n      <td>256</td>\n    </tr>\n    <tr>\n      <th>minimum_image</th>\n      <td>10</td>\n    </tr>\n    <tr>\n      <th>level_name</th>\n      <td>specific_epithet_trusted</td>\n    </tr>\n    <tr>\n      <th>levels</th>\n      <td>36</td>\n    </tr>\n    <tr>\n      <th>total</th>\n      <td>1257</td>\n    </tr>\n    <tr>\n      <th>average</th>\n      <td>34.92</td>\n    </tr>\n  </tbody>\n</table>\n</div>"
     },
     "metadata": {},
     "output_type": "display_data"
    },
    {
     "name": "stdout",
     "output_type": "stream",
     "text": [
      "color: RGB image_size: 256 minimum_image: 20\n",
      "total of levels: 23 total of images: 1084\n"
     ]
    },
    {
     "data": {
      "text/plain": "     levels  count                                                dst  \\\n0   aduncum     34  /home/xandao/Imagens/pr_dataset/RGB/specific_e...   \n1   amalago     68  /home/xandao/Imagens/pr_dataset/RGB/specific_e...   \n2  arboreum     37  /home/xandao/Imagens/pr_dataset/RGB/specific_e...   \n3    blanda     25  /home/xandao/Imagens/pr_dataset/RGB/specific_e...   \n\n                                               paths  \\\n0  [/media/xandao/c2f58d30-ff2c-47f7-95af-91ad6fd...   \n1  [/media/xandao/c2f58d30-ff2c-47f7-95af-91ad6fd...   \n2  [/media/xandao/c2f58d30-ff2c-47f7-95af-91ad6fd...   \n3  [/media/xandao/c2f58d30-ff2c-47f7-95af-91ad6fd...   \n\n                                                 seq  \n0  [9674, 9927, 10002, 10051, 10094, 10468, 10676...  \n1  [7707, 7723, 8236, 8767, 9678, 9698, 9888, 993...  \n2  [8834, 9710, 9735, 9749, 9765, 9776, 9842, 991...  \n3  [8410, 9694, 9885, 9990, 10083, 10122, 10559, ...  ",
      "text/html": "<div>\n<style scoped>\n    .dataframe tbody tr th:only-of-type {\n        vertical-align: middle;\n    }\n\n    .dataframe tbody tr th {\n        vertical-align: top;\n    }\n\n    .dataframe thead th {\n        text-align: right;\n    }\n</style>\n<table border=\"1\" class=\"dataframe\">\n  <thead>\n    <tr style=\"text-align: right;\">\n      <th></th>\n      <th>levels</th>\n      <th>count</th>\n      <th>dst</th>\n      <th>paths</th>\n      <th>seq</th>\n    </tr>\n  </thead>\n  <tbody>\n    <tr>\n      <th>0</th>\n      <td>aduncum</td>\n      <td>34</td>\n      <td>/home/xandao/Imagens/pr_dataset/RGB/specific_e...</td>\n      <td>[/media/xandao/c2f58d30-ff2c-47f7-95af-91ad6fd...</td>\n      <td>[9674, 9927, 10002, 10051, 10094, 10468, 10676...</td>\n    </tr>\n    <tr>\n      <th>1</th>\n      <td>amalago</td>\n      <td>68</td>\n      <td>/home/xandao/Imagens/pr_dataset/RGB/specific_e...</td>\n      <td>[/media/xandao/c2f58d30-ff2c-47f7-95af-91ad6fd...</td>\n      <td>[7707, 7723, 8236, 8767, 9678, 9698, 9888, 993...</td>\n    </tr>\n    <tr>\n      <th>2</th>\n      <td>arboreum</td>\n      <td>37</td>\n      <td>/home/xandao/Imagens/pr_dataset/RGB/specific_e...</td>\n      <td>[/media/xandao/c2f58d30-ff2c-47f7-95af-91ad6fd...</td>\n      <td>[8834, 9710, 9735, 9749, 9765, 9776, 9842, 991...</td>\n    </tr>\n    <tr>\n      <th>3</th>\n      <td>blanda</td>\n      <td>25</td>\n      <td>/home/xandao/Imagens/pr_dataset/RGB/specific_e...</td>\n      <td>[/media/xandao/c2f58d30-ff2c-47f7-95af-91ad6fd...</td>\n      <td>[8410, 9694, 9885, 9990, 10083, 10122, 10559, ...</td>\n    </tr>\n  </tbody>\n</table>\n</div>"
     },
     "metadata": {},
     "output_type": "display_data"
    },
    {
     "data": {
      "text/plain": "     seq  genus specific_epithet genus_trusted specific_epithet_trusted  \\\n0   9735  Piper         arboreum         Piper                 arboreum   \n1   7333  Piper     corcovadense         Piper                grazielae   \n2  13064  Piper    corcovadensis         Piper                grazielae   \n3   9821  Piper    corcovadensis         Piper                grazielae   \n\n                                                urls  \n0  [https://storage.googleapis.com/cria-zoomify/h...  \n1  [https://storage.googleapis.com/cria-zoomify/h...  \n2  [https://storage.googleapis.com/cria-zoomify/h...  \n3  [https://storage.googleapis.com/cria-zoomify/h...  ",
      "text/html": "<div>\n<style scoped>\n    .dataframe tbody tr th:only-of-type {\n        vertical-align: middle;\n    }\n\n    .dataframe tbody tr th {\n        vertical-align: top;\n    }\n\n    .dataframe thead th {\n        text-align: right;\n    }\n</style>\n<table border=\"1\" class=\"dataframe\">\n  <thead>\n    <tr style=\"text-align: right;\">\n      <th></th>\n      <th>seq</th>\n      <th>genus</th>\n      <th>specific_epithet</th>\n      <th>genus_trusted</th>\n      <th>specific_epithet_trusted</th>\n      <th>urls</th>\n    </tr>\n  </thead>\n  <tbody>\n    <tr>\n      <th>0</th>\n      <td>9735</td>\n      <td>Piper</td>\n      <td>arboreum</td>\n      <td>Piper</td>\n      <td>arboreum</td>\n      <td>[https://storage.googleapis.com/cria-zoomify/h...</td>\n    </tr>\n    <tr>\n      <th>1</th>\n      <td>7333</td>\n      <td>Piper</td>\n      <td>corcovadense</td>\n      <td>Piper</td>\n      <td>grazielae</td>\n      <td>[https://storage.googleapis.com/cria-zoomify/h...</td>\n    </tr>\n    <tr>\n      <th>2</th>\n      <td>13064</td>\n      <td>Piper</td>\n      <td>corcovadensis</td>\n      <td>Piper</td>\n      <td>grazielae</td>\n      <td>[https://storage.googleapis.com/cria-zoomify/h...</td>\n    </tr>\n    <tr>\n      <th>3</th>\n      <td>9821</td>\n      <td>Piper</td>\n      <td>corcovadensis</td>\n      <td>Piper</td>\n      <td>grazielae</td>\n      <td>[https://storage.googleapis.com/cria-zoomify/h...</td>\n    </tr>\n  </tbody>\n</table>\n</div>"
     },
     "metadata": {},
     "output_type": "display_data"
    },
    {
     "data": {
      "text/plain": "                                                               0\ndst            /home/xandao/Imagens/pr_dataset/RGB/specific_e...\ncolor                                                        rgb\nimage_size                                                   256\nminimum_image                                                 20\nlevel_name                              specific_epithet_trusted\nlevels                                                        23\ntotal                                                       1084\naverage                                                    47.13",
      "text/html": "<div>\n<style scoped>\n    .dataframe tbody tr th:only-of-type {\n        vertical-align: middle;\n    }\n\n    .dataframe tbody tr th {\n        vertical-align: top;\n    }\n\n    .dataframe thead th {\n        text-align: right;\n    }\n</style>\n<table border=\"1\" class=\"dataframe\">\n  <thead>\n    <tr style=\"text-align: right;\">\n      <th></th>\n      <th>0</th>\n    </tr>\n  </thead>\n  <tbody>\n    <tr>\n      <th>dst</th>\n      <td>/home/xandao/Imagens/pr_dataset/RGB/specific_e...</td>\n    </tr>\n    <tr>\n      <th>color</th>\n      <td>rgb</td>\n    </tr>\n    <tr>\n      <th>image_size</th>\n      <td>256</td>\n    </tr>\n    <tr>\n      <th>minimum_image</th>\n      <td>20</td>\n    </tr>\n    <tr>\n      <th>level_name</th>\n      <td>specific_epithet_trusted</td>\n    </tr>\n    <tr>\n      <th>levels</th>\n      <td>23</td>\n    </tr>\n    <tr>\n      <th>total</th>\n      <td>1084</td>\n    </tr>\n    <tr>\n      <th>average</th>\n      <td>47.13</td>\n    </tr>\n  </tbody>\n</table>\n</div>"
     },
     "metadata": {},
     "output_type": "display_data"
    },
    {
     "name": "stdout",
     "output_type": "stream",
     "text": [
      "color: RGB image_size: 400 minimum_image: 5\n",
      "total of levels: 57 total of images: 1389\n"
     ]
    },
    {
     "data": {
      "text/plain": "    levels  count                                                dst  \\\n0  aduncum     34  /home/xandao/Imagens/pr_dataset/RGB/specific_e...   \n1    alata     18  /home/xandao/Imagens/pr_dataset/RGB/specific_e...   \n2  amalago     68  /home/xandao/Imagens/pr_dataset/RGB/specific_e...   \n3   amplum      6  /home/xandao/Imagens/pr_dataset/RGB/specific_e...   \n\n                                               paths  \\\n0  [/media/xandao/c2f58d30-ff2c-47f7-95af-91ad6fd...   \n1  [/media/xandao/c2f58d30-ff2c-47f7-95af-91ad6fd...   \n2  [/media/xandao/c2f58d30-ff2c-47f7-95af-91ad6fd...   \n3  [/media/xandao/c2f58d30-ff2c-47f7-95af-91ad6fd...   \n\n                                                 seq  \n0  [9674, 9927, 10002, 10051, 10094, 10468, 10676...  \n1  [9865, 9884, 9911, 10134, 10178, 10271, 10380,...  \n2  [7707, 7723, 8236, 8767, 9678, 9698, 9888, 993...  \n3         [10065, 10655, 11913, 11920, 11923, 12939]  ",
      "text/html": "<div>\n<style scoped>\n    .dataframe tbody tr th:only-of-type {\n        vertical-align: middle;\n    }\n\n    .dataframe tbody tr th {\n        vertical-align: top;\n    }\n\n    .dataframe thead th {\n        text-align: right;\n    }\n</style>\n<table border=\"1\" class=\"dataframe\">\n  <thead>\n    <tr style=\"text-align: right;\">\n      <th></th>\n      <th>levels</th>\n      <th>count</th>\n      <th>dst</th>\n      <th>paths</th>\n      <th>seq</th>\n    </tr>\n  </thead>\n  <tbody>\n    <tr>\n      <th>0</th>\n      <td>aduncum</td>\n      <td>34</td>\n      <td>/home/xandao/Imagens/pr_dataset/RGB/specific_e...</td>\n      <td>[/media/xandao/c2f58d30-ff2c-47f7-95af-91ad6fd...</td>\n      <td>[9674, 9927, 10002, 10051, 10094, 10468, 10676...</td>\n    </tr>\n    <tr>\n      <th>1</th>\n      <td>alata</td>\n      <td>18</td>\n      <td>/home/xandao/Imagens/pr_dataset/RGB/specific_e...</td>\n      <td>[/media/xandao/c2f58d30-ff2c-47f7-95af-91ad6fd...</td>\n      <td>[9865, 9884, 9911, 10134, 10178, 10271, 10380,...</td>\n    </tr>\n    <tr>\n      <th>2</th>\n      <td>amalago</td>\n      <td>68</td>\n      <td>/home/xandao/Imagens/pr_dataset/RGB/specific_e...</td>\n      <td>[/media/xandao/c2f58d30-ff2c-47f7-95af-91ad6fd...</td>\n      <td>[7707, 7723, 8236, 8767, 9678, 9698, 9888, 993...</td>\n    </tr>\n    <tr>\n      <th>3</th>\n      <td>amplum</td>\n      <td>6</td>\n      <td>/home/xandao/Imagens/pr_dataset/RGB/specific_e...</td>\n      <td>[/media/xandao/c2f58d30-ff2c-47f7-95af-91ad6fd...</td>\n      <td>[10065, 10655, 11913, 11920, 11923, 12939]</td>\n    </tr>\n  </tbody>\n</table>\n</div>"
     },
     "metadata": {},
     "output_type": "display_data"
    },
    {
     "data": {
      "text/plain": "     seq  genus specific_epithet genus_trusted specific_epithet_trusted  \\\n0   9735  Piper         arboreum         Piper                 arboreum   \n1   7333  Piper     corcovadense         Piper                grazielae   \n2  13064  Piper    corcovadensis         Piper                grazielae   \n3   9821  Piper    corcovadensis         Piper                grazielae   \n\n                                                urls  \n0  [https://storage.googleapis.com/cria-zoomify/h...  \n1  [https://storage.googleapis.com/cria-zoomify/h...  \n2  [https://storage.googleapis.com/cria-zoomify/h...  \n3  [https://storage.googleapis.com/cria-zoomify/h...  ",
      "text/html": "<div>\n<style scoped>\n    .dataframe tbody tr th:only-of-type {\n        vertical-align: middle;\n    }\n\n    .dataframe tbody tr th {\n        vertical-align: top;\n    }\n\n    .dataframe thead th {\n        text-align: right;\n    }\n</style>\n<table border=\"1\" class=\"dataframe\">\n  <thead>\n    <tr style=\"text-align: right;\">\n      <th></th>\n      <th>seq</th>\n      <th>genus</th>\n      <th>specific_epithet</th>\n      <th>genus_trusted</th>\n      <th>specific_epithet_trusted</th>\n      <th>urls</th>\n    </tr>\n  </thead>\n  <tbody>\n    <tr>\n      <th>0</th>\n      <td>9735</td>\n      <td>Piper</td>\n      <td>arboreum</td>\n      <td>Piper</td>\n      <td>arboreum</td>\n      <td>[https://storage.googleapis.com/cria-zoomify/h...</td>\n    </tr>\n    <tr>\n      <th>1</th>\n      <td>7333</td>\n      <td>Piper</td>\n      <td>corcovadense</td>\n      <td>Piper</td>\n      <td>grazielae</td>\n      <td>[https://storage.googleapis.com/cria-zoomify/h...</td>\n    </tr>\n    <tr>\n      <th>2</th>\n      <td>13064</td>\n      <td>Piper</td>\n      <td>corcovadensis</td>\n      <td>Piper</td>\n      <td>grazielae</td>\n      <td>[https://storage.googleapis.com/cria-zoomify/h...</td>\n    </tr>\n    <tr>\n      <th>3</th>\n      <td>9821</td>\n      <td>Piper</td>\n      <td>corcovadensis</td>\n      <td>Piper</td>\n      <td>grazielae</td>\n      <td>[https://storage.googleapis.com/cria-zoomify/h...</td>\n    </tr>\n  </tbody>\n</table>\n</div>"
     },
     "metadata": {},
     "output_type": "display_data"
    },
    {
     "data": {
      "text/plain": "                                                               0\ndst            /home/xandao/Imagens/pr_dataset/RGB/specific_e...\ncolor                                                        rgb\nimage_size                                                   400\nminimum_image                                                  5\nlevel_name                              specific_epithet_trusted\nlevels                                                        57\ntotal                                                       1389\naverage                                                    24.37",
      "text/html": "<div>\n<style scoped>\n    .dataframe tbody tr th:only-of-type {\n        vertical-align: middle;\n    }\n\n    .dataframe tbody tr th {\n        vertical-align: top;\n    }\n\n    .dataframe thead th {\n        text-align: right;\n    }\n</style>\n<table border=\"1\" class=\"dataframe\">\n  <thead>\n    <tr style=\"text-align: right;\">\n      <th></th>\n      <th>0</th>\n    </tr>\n  </thead>\n  <tbody>\n    <tr>\n      <th>dst</th>\n      <td>/home/xandao/Imagens/pr_dataset/RGB/specific_e...</td>\n    </tr>\n    <tr>\n      <th>color</th>\n      <td>rgb</td>\n    </tr>\n    <tr>\n      <th>image_size</th>\n      <td>400</td>\n    </tr>\n    <tr>\n      <th>minimum_image</th>\n      <td>5</td>\n    </tr>\n    <tr>\n      <th>level_name</th>\n      <td>specific_epithet_trusted</td>\n    </tr>\n    <tr>\n      <th>levels</th>\n      <td>57</td>\n    </tr>\n    <tr>\n      <th>total</th>\n      <td>1389</td>\n    </tr>\n    <tr>\n      <th>average</th>\n      <td>24.37</td>\n    </tr>\n  </tbody>\n</table>\n</div>"
     },
     "metadata": {},
     "output_type": "display_data"
    },
    {
     "name": "stdout",
     "output_type": "stream",
     "text": [
      "color: RGB image_size: 400 minimum_image: 10\n",
      "total of levels: 36 total of images: 1257\n"
     ]
    },
    {
     "data": {
      "text/plain": "     levels  count                                                dst  \\\n0   aduncum     34  /home/xandao/Imagens/pr_dataset/RGB/specific_e...   \n1     alata     18  /home/xandao/Imagens/pr_dataset/RGB/specific_e...   \n2   amalago     68  /home/xandao/Imagens/pr_dataset/RGB/specific_e...   \n3  arboreum     37  /home/xandao/Imagens/pr_dataset/RGB/specific_e...   \n\n                                               paths  \\\n0  [/media/xandao/c2f58d30-ff2c-47f7-95af-91ad6fd...   \n1  [/media/xandao/c2f58d30-ff2c-47f7-95af-91ad6fd...   \n2  [/media/xandao/c2f58d30-ff2c-47f7-95af-91ad6fd...   \n3  [/media/xandao/c2f58d30-ff2c-47f7-95af-91ad6fd...   \n\n                                                 seq  \n0  [9674, 9927, 10002, 10051, 10094, 10468, 10676...  \n1  [9865, 9884, 9911, 10134, 10178, 10271, 10380,...  \n2  [7707, 7723, 8236, 8767, 9678, 9698, 9888, 993...  \n3  [8834, 9710, 9735, 9749, 9765, 9776, 9842, 991...  ",
      "text/html": "<div>\n<style scoped>\n    .dataframe tbody tr th:only-of-type {\n        vertical-align: middle;\n    }\n\n    .dataframe tbody tr th {\n        vertical-align: top;\n    }\n\n    .dataframe thead th {\n        text-align: right;\n    }\n</style>\n<table border=\"1\" class=\"dataframe\">\n  <thead>\n    <tr style=\"text-align: right;\">\n      <th></th>\n      <th>levels</th>\n      <th>count</th>\n      <th>dst</th>\n      <th>paths</th>\n      <th>seq</th>\n    </tr>\n  </thead>\n  <tbody>\n    <tr>\n      <th>0</th>\n      <td>aduncum</td>\n      <td>34</td>\n      <td>/home/xandao/Imagens/pr_dataset/RGB/specific_e...</td>\n      <td>[/media/xandao/c2f58d30-ff2c-47f7-95af-91ad6fd...</td>\n      <td>[9674, 9927, 10002, 10051, 10094, 10468, 10676...</td>\n    </tr>\n    <tr>\n      <th>1</th>\n      <td>alata</td>\n      <td>18</td>\n      <td>/home/xandao/Imagens/pr_dataset/RGB/specific_e...</td>\n      <td>[/media/xandao/c2f58d30-ff2c-47f7-95af-91ad6fd...</td>\n      <td>[9865, 9884, 9911, 10134, 10178, 10271, 10380,...</td>\n    </tr>\n    <tr>\n      <th>2</th>\n      <td>amalago</td>\n      <td>68</td>\n      <td>/home/xandao/Imagens/pr_dataset/RGB/specific_e...</td>\n      <td>[/media/xandao/c2f58d30-ff2c-47f7-95af-91ad6fd...</td>\n      <td>[7707, 7723, 8236, 8767, 9678, 9698, 9888, 993...</td>\n    </tr>\n    <tr>\n      <th>3</th>\n      <td>arboreum</td>\n      <td>37</td>\n      <td>/home/xandao/Imagens/pr_dataset/RGB/specific_e...</td>\n      <td>[/media/xandao/c2f58d30-ff2c-47f7-95af-91ad6fd...</td>\n      <td>[8834, 9710, 9735, 9749, 9765, 9776, 9842, 991...</td>\n    </tr>\n  </tbody>\n</table>\n</div>"
     },
     "metadata": {},
     "output_type": "display_data"
    },
    {
     "data": {
      "text/plain": "     seq  genus specific_epithet genus_trusted specific_epithet_trusted  \\\n0   9735  Piper         arboreum         Piper                 arboreum   \n1   7333  Piper     corcovadense         Piper                grazielae   \n2  13064  Piper    corcovadensis         Piper                grazielae   \n3   9821  Piper    corcovadensis         Piper                grazielae   \n\n                                                urls  \n0  [https://storage.googleapis.com/cria-zoomify/h...  \n1  [https://storage.googleapis.com/cria-zoomify/h...  \n2  [https://storage.googleapis.com/cria-zoomify/h...  \n3  [https://storage.googleapis.com/cria-zoomify/h...  ",
      "text/html": "<div>\n<style scoped>\n    .dataframe tbody tr th:only-of-type {\n        vertical-align: middle;\n    }\n\n    .dataframe tbody tr th {\n        vertical-align: top;\n    }\n\n    .dataframe thead th {\n        text-align: right;\n    }\n</style>\n<table border=\"1\" class=\"dataframe\">\n  <thead>\n    <tr style=\"text-align: right;\">\n      <th></th>\n      <th>seq</th>\n      <th>genus</th>\n      <th>specific_epithet</th>\n      <th>genus_trusted</th>\n      <th>specific_epithet_trusted</th>\n      <th>urls</th>\n    </tr>\n  </thead>\n  <tbody>\n    <tr>\n      <th>0</th>\n      <td>9735</td>\n      <td>Piper</td>\n      <td>arboreum</td>\n      <td>Piper</td>\n      <td>arboreum</td>\n      <td>[https://storage.googleapis.com/cria-zoomify/h...</td>\n    </tr>\n    <tr>\n      <th>1</th>\n      <td>7333</td>\n      <td>Piper</td>\n      <td>corcovadense</td>\n      <td>Piper</td>\n      <td>grazielae</td>\n      <td>[https://storage.googleapis.com/cria-zoomify/h...</td>\n    </tr>\n    <tr>\n      <th>2</th>\n      <td>13064</td>\n      <td>Piper</td>\n      <td>corcovadensis</td>\n      <td>Piper</td>\n      <td>grazielae</td>\n      <td>[https://storage.googleapis.com/cria-zoomify/h...</td>\n    </tr>\n    <tr>\n      <th>3</th>\n      <td>9821</td>\n      <td>Piper</td>\n      <td>corcovadensis</td>\n      <td>Piper</td>\n      <td>grazielae</td>\n      <td>[https://storage.googleapis.com/cria-zoomify/h...</td>\n    </tr>\n  </tbody>\n</table>\n</div>"
     },
     "metadata": {},
     "output_type": "display_data"
    },
    {
     "data": {
      "text/plain": "                                                               0\ndst            /home/xandao/Imagens/pr_dataset/RGB/specific_e...\ncolor                                                        rgb\nimage_size                                                   400\nminimum_image                                                 10\nlevel_name                              specific_epithet_trusted\nlevels                                                        36\ntotal                                                       1257\naverage                                                    34.92",
      "text/html": "<div>\n<style scoped>\n    .dataframe tbody tr th:only-of-type {\n        vertical-align: middle;\n    }\n\n    .dataframe tbody tr th {\n        vertical-align: top;\n    }\n\n    .dataframe thead th {\n        text-align: right;\n    }\n</style>\n<table border=\"1\" class=\"dataframe\">\n  <thead>\n    <tr style=\"text-align: right;\">\n      <th></th>\n      <th>0</th>\n    </tr>\n  </thead>\n  <tbody>\n    <tr>\n      <th>dst</th>\n      <td>/home/xandao/Imagens/pr_dataset/RGB/specific_e...</td>\n    </tr>\n    <tr>\n      <th>color</th>\n      <td>rgb</td>\n    </tr>\n    <tr>\n      <th>image_size</th>\n      <td>400</td>\n    </tr>\n    <tr>\n      <th>minimum_image</th>\n      <td>10</td>\n    </tr>\n    <tr>\n      <th>level_name</th>\n      <td>specific_epithet_trusted</td>\n    </tr>\n    <tr>\n      <th>levels</th>\n      <td>36</td>\n    </tr>\n    <tr>\n      <th>total</th>\n      <td>1257</td>\n    </tr>\n    <tr>\n      <th>average</th>\n      <td>34.92</td>\n    </tr>\n  </tbody>\n</table>\n</div>"
     },
     "metadata": {},
     "output_type": "display_data"
    },
    {
     "name": "stdout",
     "output_type": "stream",
     "text": [
      "color: RGB image_size: 400 minimum_image: 20\n",
      "total of levels: 23 total of images: 1084\n"
     ]
    },
    {
     "data": {
      "text/plain": "     levels  count                                                dst  \\\n0   aduncum     34  /home/xandao/Imagens/pr_dataset/RGB/specific_e...   \n1   amalago     68  /home/xandao/Imagens/pr_dataset/RGB/specific_e...   \n2  arboreum     37  /home/xandao/Imagens/pr_dataset/RGB/specific_e...   \n3    blanda     25  /home/xandao/Imagens/pr_dataset/RGB/specific_e...   \n\n                                               paths  \\\n0  [/media/xandao/c2f58d30-ff2c-47f7-95af-91ad6fd...   \n1  [/media/xandao/c2f58d30-ff2c-47f7-95af-91ad6fd...   \n2  [/media/xandao/c2f58d30-ff2c-47f7-95af-91ad6fd...   \n3  [/media/xandao/c2f58d30-ff2c-47f7-95af-91ad6fd...   \n\n                                                 seq  \n0  [9674, 9927, 10002, 10051, 10094, 10468, 10676...  \n1  [7707, 7723, 8236, 8767, 9678, 9698, 9888, 993...  \n2  [8834, 9710, 9735, 9749, 9765, 9776, 9842, 991...  \n3  [8410, 9694, 9885, 9990, 10083, 10122, 10559, ...  ",
      "text/html": "<div>\n<style scoped>\n    .dataframe tbody tr th:only-of-type {\n        vertical-align: middle;\n    }\n\n    .dataframe tbody tr th {\n        vertical-align: top;\n    }\n\n    .dataframe thead th {\n        text-align: right;\n    }\n</style>\n<table border=\"1\" class=\"dataframe\">\n  <thead>\n    <tr style=\"text-align: right;\">\n      <th></th>\n      <th>levels</th>\n      <th>count</th>\n      <th>dst</th>\n      <th>paths</th>\n      <th>seq</th>\n    </tr>\n  </thead>\n  <tbody>\n    <tr>\n      <th>0</th>\n      <td>aduncum</td>\n      <td>34</td>\n      <td>/home/xandao/Imagens/pr_dataset/RGB/specific_e...</td>\n      <td>[/media/xandao/c2f58d30-ff2c-47f7-95af-91ad6fd...</td>\n      <td>[9674, 9927, 10002, 10051, 10094, 10468, 10676...</td>\n    </tr>\n    <tr>\n      <th>1</th>\n      <td>amalago</td>\n      <td>68</td>\n      <td>/home/xandao/Imagens/pr_dataset/RGB/specific_e...</td>\n      <td>[/media/xandao/c2f58d30-ff2c-47f7-95af-91ad6fd...</td>\n      <td>[7707, 7723, 8236, 8767, 9678, 9698, 9888, 993...</td>\n    </tr>\n    <tr>\n      <th>2</th>\n      <td>arboreum</td>\n      <td>37</td>\n      <td>/home/xandao/Imagens/pr_dataset/RGB/specific_e...</td>\n      <td>[/media/xandao/c2f58d30-ff2c-47f7-95af-91ad6fd...</td>\n      <td>[8834, 9710, 9735, 9749, 9765, 9776, 9842, 991...</td>\n    </tr>\n    <tr>\n      <th>3</th>\n      <td>blanda</td>\n      <td>25</td>\n      <td>/home/xandao/Imagens/pr_dataset/RGB/specific_e...</td>\n      <td>[/media/xandao/c2f58d30-ff2c-47f7-95af-91ad6fd...</td>\n      <td>[8410, 9694, 9885, 9990, 10083, 10122, 10559, ...</td>\n    </tr>\n  </tbody>\n</table>\n</div>"
     },
     "metadata": {},
     "output_type": "display_data"
    },
    {
     "data": {
      "text/plain": "     seq  genus specific_epithet genus_trusted specific_epithet_trusted  \\\n0   9735  Piper         arboreum         Piper                 arboreum   \n1   7333  Piper     corcovadense         Piper                grazielae   \n2  13064  Piper    corcovadensis         Piper                grazielae   \n3   9821  Piper    corcovadensis         Piper                grazielae   \n\n                                                urls  \n0  [https://storage.googleapis.com/cria-zoomify/h...  \n1  [https://storage.googleapis.com/cria-zoomify/h...  \n2  [https://storage.googleapis.com/cria-zoomify/h...  \n3  [https://storage.googleapis.com/cria-zoomify/h...  ",
      "text/html": "<div>\n<style scoped>\n    .dataframe tbody tr th:only-of-type {\n        vertical-align: middle;\n    }\n\n    .dataframe tbody tr th {\n        vertical-align: top;\n    }\n\n    .dataframe thead th {\n        text-align: right;\n    }\n</style>\n<table border=\"1\" class=\"dataframe\">\n  <thead>\n    <tr style=\"text-align: right;\">\n      <th></th>\n      <th>seq</th>\n      <th>genus</th>\n      <th>specific_epithet</th>\n      <th>genus_trusted</th>\n      <th>specific_epithet_trusted</th>\n      <th>urls</th>\n    </tr>\n  </thead>\n  <tbody>\n    <tr>\n      <th>0</th>\n      <td>9735</td>\n      <td>Piper</td>\n      <td>arboreum</td>\n      <td>Piper</td>\n      <td>arboreum</td>\n      <td>[https://storage.googleapis.com/cria-zoomify/h...</td>\n    </tr>\n    <tr>\n      <th>1</th>\n      <td>7333</td>\n      <td>Piper</td>\n      <td>corcovadense</td>\n      <td>Piper</td>\n      <td>grazielae</td>\n      <td>[https://storage.googleapis.com/cria-zoomify/h...</td>\n    </tr>\n    <tr>\n      <th>2</th>\n      <td>13064</td>\n      <td>Piper</td>\n      <td>corcovadensis</td>\n      <td>Piper</td>\n      <td>grazielae</td>\n      <td>[https://storage.googleapis.com/cria-zoomify/h...</td>\n    </tr>\n    <tr>\n      <th>3</th>\n      <td>9821</td>\n      <td>Piper</td>\n      <td>corcovadensis</td>\n      <td>Piper</td>\n      <td>grazielae</td>\n      <td>[https://storage.googleapis.com/cria-zoomify/h...</td>\n    </tr>\n  </tbody>\n</table>\n</div>"
     },
     "metadata": {},
     "output_type": "display_data"
    },
    {
     "data": {
      "text/plain": "                                                               0\ndst            /home/xandao/Imagens/pr_dataset/RGB/specific_e...\ncolor                                                        rgb\nimage_size                                                   400\nminimum_image                                                 20\nlevel_name                              specific_epithet_trusted\nlevels                                                        23\ntotal                                                       1084\naverage                                                    47.13",
      "text/html": "<div>\n<style scoped>\n    .dataframe tbody tr th:only-of-type {\n        vertical-align: middle;\n    }\n\n    .dataframe tbody tr th {\n        vertical-align: top;\n    }\n\n    .dataframe thead th {\n        text-align: right;\n    }\n</style>\n<table border=\"1\" class=\"dataframe\">\n  <thead>\n    <tr style=\"text-align: right;\">\n      <th></th>\n      <th>0</th>\n    </tr>\n  </thead>\n  <tbody>\n    <tr>\n      <th>dst</th>\n      <td>/home/xandao/Imagens/pr_dataset/RGB/specific_e...</td>\n    </tr>\n    <tr>\n      <th>color</th>\n      <td>rgb</td>\n    </tr>\n    <tr>\n      <th>image_size</th>\n      <td>400</td>\n    </tr>\n    <tr>\n      <th>minimum_image</th>\n      <td>20</td>\n    </tr>\n    <tr>\n      <th>level_name</th>\n      <td>specific_epithet_trusted</td>\n    </tr>\n    <tr>\n      <th>levels</th>\n      <td>23</td>\n    </tr>\n    <tr>\n      <th>total</th>\n      <td>1084</td>\n    </tr>\n    <tr>\n      <th>average</th>\n      <td>47.13</td>\n    </tr>\n  </tbody>\n</table>\n</div>"
     },
     "metadata": {},
     "output_type": "display_data"
    },
    {
     "name": "stdout",
     "output_type": "stream",
     "text": [
      "color: RGB image_size: 512 minimum_image: 5\n",
      "total of levels: 57 total of images: 1389\n"
     ]
    },
    {
     "data": {
      "text/plain": "    levels  count                                                dst  \\\n0  aduncum     34  /home/xandao/Imagens/pr_dataset/RGB/specific_e...   \n1    alata     18  /home/xandao/Imagens/pr_dataset/RGB/specific_e...   \n2  amalago     68  /home/xandao/Imagens/pr_dataset/RGB/specific_e...   \n3   amplum      6  /home/xandao/Imagens/pr_dataset/RGB/specific_e...   \n\n                                               paths  \\\n0  [/media/xandao/c2f58d30-ff2c-47f7-95af-91ad6fd...   \n1  [/media/xandao/c2f58d30-ff2c-47f7-95af-91ad6fd...   \n2  [/media/xandao/c2f58d30-ff2c-47f7-95af-91ad6fd...   \n3  [/media/xandao/c2f58d30-ff2c-47f7-95af-91ad6fd...   \n\n                                                 seq  \n0  [9674, 9927, 10002, 10051, 10094, 10468, 10676...  \n1  [9865, 9884, 9911, 10134, 10178, 10271, 10380,...  \n2  [7707, 7723, 8236, 8767, 9678, 9698, 9888, 993...  \n3         [10065, 10655, 11913, 11920, 11923, 12939]  ",
      "text/html": "<div>\n<style scoped>\n    .dataframe tbody tr th:only-of-type {\n        vertical-align: middle;\n    }\n\n    .dataframe tbody tr th {\n        vertical-align: top;\n    }\n\n    .dataframe thead th {\n        text-align: right;\n    }\n</style>\n<table border=\"1\" class=\"dataframe\">\n  <thead>\n    <tr style=\"text-align: right;\">\n      <th></th>\n      <th>levels</th>\n      <th>count</th>\n      <th>dst</th>\n      <th>paths</th>\n      <th>seq</th>\n    </tr>\n  </thead>\n  <tbody>\n    <tr>\n      <th>0</th>\n      <td>aduncum</td>\n      <td>34</td>\n      <td>/home/xandao/Imagens/pr_dataset/RGB/specific_e...</td>\n      <td>[/media/xandao/c2f58d30-ff2c-47f7-95af-91ad6fd...</td>\n      <td>[9674, 9927, 10002, 10051, 10094, 10468, 10676...</td>\n    </tr>\n    <tr>\n      <th>1</th>\n      <td>alata</td>\n      <td>18</td>\n      <td>/home/xandao/Imagens/pr_dataset/RGB/specific_e...</td>\n      <td>[/media/xandao/c2f58d30-ff2c-47f7-95af-91ad6fd...</td>\n      <td>[9865, 9884, 9911, 10134, 10178, 10271, 10380,...</td>\n    </tr>\n    <tr>\n      <th>2</th>\n      <td>amalago</td>\n      <td>68</td>\n      <td>/home/xandao/Imagens/pr_dataset/RGB/specific_e...</td>\n      <td>[/media/xandao/c2f58d30-ff2c-47f7-95af-91ad6fd...</td>\n      <td>[7707, 7723, 8236, 8767, 9678, 9698, 9888, 993...</td>\n    </tr>\n    <tr>\n      <th>3</th>\n      <td>amplum</td>\n      <td>6</td>\n      <td>/home/xandao/Imagens/pr_dataset/RGB/specific_e...</td>\n      <td>[/media/xandao/c2f58d30-ff2c-47f7-95af-91ad6fd...</td>\n      <td>[10065, 10655, 11913, 11920, 11923, 12939]</td>\n    </tr>\n  </tbody>\n</table>\n</div>"
     },
     "metadata": {},
     "output_type": "display_data"
    },
    {
     "data": {
      "text/plain": "     seq  genus specific_epithet genus_trusted specific_epithet_trusted  \\\n0   9735  Piper         arboreum         Piper                 arboreum   \n1   7333  Piper     corcovadense         Piper                grazielae   \n2  13064  Piper    corcovadensis         Piper                grazielae   \n3   9821  Piper    corcovadensis         Piper                grazielae   \n\n                                                urls  \n0  [https://storage.googleapis.com/cria-zoomify/h...  \n1  [https://storage.googleapis.com/cria-zoomify/h...  \n2  [https://storage.googleapis.com/cria-zoomify/h...  \n3  [https://storage.googleapis.com/cria-zoomify/h...  ",
      "text/html": "<div>\n<style scoped>\n    .dataframe tbody tr th:only-of-type {\n        vertical-align: middle;\n    }\n\n    .dataframe tbody tr th {\n        vertical-align: top;\n    }\n\n    .dataframe thead th {\n        text-align: right;\n    }\n</style>\n<table border=\"1\" class=\"dataframe\">\n  <thead>\n    <tr style=\"text-align: right;\">\n      <th></th>\n      <th>seq</th>\n      <th>genus</th>\n      <th>specific_epithet</th>\n      <th>genus_trusted</th>\n      <th>specific_epithet_trusted</th>\n      <th>urls</th>\n    </tr>\n  </thead>\n  <tbody>\n    <tr>\n      <th>0</th>\n      <td>9735</td>\n      <td>Piper</td>\n      <td>arboreum</td>\n      <td>Piper</td>\n      <td>arboreum</td>\n      <td>[https://storage.googleapis.com/cria-zoomify/h...</td>\n    </tr>\n    <tr>\n      <th>1</th>\n      <td>7333</td>\n      <td>Piper</td>\n      <td>corcovadense</td>\n      <td>Piper</td>\n      <td>grazielae</td>\n      <td>[https://storage.googleapis.com/cria-zoomify/h...</td>\n    </tr>\n    <tr>\n      <th>2</th>\n      <td>13064</td>\n      <td>Piper</td>\n      <td>corcovadensis</td>\n      <td>Piper</td>\n      <td>grazielae</td>\n      <td>[https://storage.googleapis.com/cria-zoomify/h...</td>\n    </tr>\n    <tr>\n      <th>3</th>\n      <td>9821</td>\n      <td>Piper</td>\n      <td>corcovadensis</td>\n      <td>Piper</td>\n      <td>grazielae</td>\n      <td>[https://storage.googleapis.com/cria-zoomify/h...</td>\n    </tr>\n  </tbody>\n</table>\n</div>"
     },
     "metadata": {},
     "output_type": "display_data"
    },
    {
     "data": {
      "text/plain": "                                                               0\ndst            /home/xandao/Imagens/pr_dataset/RGB/specific_e...\ncolor                                                        rgb\nimage_size                                                   512\nminimum_image                                                  5\nlevel_name                              specific_epithet_trusted\nlevels                                                        57\ntotal                                                       1389\naverage                                                    24.37",
      "text/html": "<div>\n<style scoped>\n    .dataframe tbody tr th:only-of-type {\n        vertical-align: middle;\n    }\n\n    .dataframe tbody tr th {\n        vertical-align: top;\n    }\n\n    .dataframe thead th {\n        text-align: right;\n    }\n</style>\n<table border=\"1\" class=\"dataframe\">\n  <thead>\n    <tr style=\"text-align: right;\">\n      <th></th>\n      <th>0</th>\n    </tr>\n  </thead>\n  <tbody>\n    <tr>\n      <th>dst</th>\n      <td>/home/xandao/Imagens/pr_dataset/RGB/specific_e...</td>\n    </tr>\n    <tr>\n      <th>color</th>\n      <td>rgb</td>\n    </tr>\n    <tr>\n      <th>image_size</th>\n      <td>512</td>\n    </tr>\n    <tr>\n      <th>minimum_image</th>\n      <td>5</td>\n    </tr>\n    <tr>\n      <th>level_name</th>\n      <td>specific_epithet_trusted</td>\n    </tr>\n    <tr>\n      <th>levels</th>\n      <td>57</td>\n    </tr>\n    <tr>\n      <th>total</th>\n      <td>1389</td>\n    </tr>\n    <tr>\n      <th>average</th>\n      <td>24.37</td>\n    </tr>\n  </tbody>\n</table>\n</div>"
     },
     "metadata": {},
     "output_type": "display_data"
    },
    {
     "name": "stdout",
     "output_type": "stream",
     "text": [
      "color: RGB image_size: 512 minimum_image: 10\n",
      "total of levels: 36 total of images: 1257\n"
     ]
    },
    {
     "data": {
      "text/plain": "     levels  count                                                dst  \\\n0   aduncum     34  /home/xandao/Imagens/pr_dataset/RGB/specific_e...   \n1     alata     18  /home/xandao/Imagens/pr_dataset/RGB/specific_e...   \n2   amalago     68  /home/xandao/Imagens/pr_dataset/RGB/specific_e...   \n3  arboreum     37  /home/xandao/Imagens/pr_dataset/RGB/specific_e...   \n\n                                               paths  \\\n0  [/media/xandao/c2f58d30-ff2c-47f7-95af-91ad6fd...   \n1  [/media/xandao/c2f58d30-ff2c-47f7-95af-91ad6fd...   \n2  [/media/xandao/c2f58d30-ff2c-47f7-95af-91ad6fd...   \n3  [/media/xandao/c2f58d30-ff2c-47f7-95af-91ad6fd...   \n\n                                                 seq  \n0  [9674, 9927, 10002, 10051, 10094, 10468, 10676...  \n1  [9865, 9884, 9911, 10134, 10178, 10271, 10380,...  \n2  [7707, 7723, 8236, 8767, 9678, 9698, 9888, 993...  \n3  [8834, 9710, 9735, 9749, 9765, 9776, 9842, 991...  ",
      "text/html": "<div>\n<style scoped>\n    .dataframe tbody tr th:only-of-type {\n        vertical-align: middle;\n    }\n\n    .dataframe tbody tr th {\n        vertical-align: top;\n    }\n\n    .dataframe thead th {\n        text-align: right;\n    }\n</style>\n<table border=\"1\" class=\"dataframe\">\n  <thead>\n    <tr style=\"text-align: right;\">\n      <th></th>\n      <th>levels</th>\n      <th>count</th>\n      <th>dst</th>\n      <th>paths</th>\n      <th>seq</th>\n    </tr>\n  </thead>\n  <tbody>\n    <tr>\n      <th>0</th>\n      <td>aduncum</td>\n      <td>34</td>\n      <td>/home/xandao/Imagens/pr_dataset/RGB/specific_e...</td>\n      <td>[/media/xandao/c2f58d30-ff2c-47f7-95af-91ad6fd...</td>\n      <td>[9674, 9927, 10002, 10051, 10094, 10468, 10676...</td>\n    </tr>\n    <tr>\n      <th>1</th>\n      <td>alata</td>\n      <td>18</td>\n      <td>/home/xandao/Imagens/pr_dataset/RGB/specific_e...</td>\n      <td>[/media/xandao/c2f58d30-ff2c-47f7-95af-91ad6fd...</td>\n      <td>[9865, 9884, 9911, 10134, 10178, 10271, 10380,...</td>\n    </tr>\n    <tr>\n      <th>2</th>\n      <td>amalago</td>\n      <td>68</td>\n      <td>/home/xandao/Imagens/pr_dataset/RGB/specific_e...</td>\n      <td>[/media/xandao/c2f58d30-ff2c-47f7-95af-91ad6fd...</td>\n      <td>[7707, 7723, 8236, 8767, 9678, 9698, 9888, 993...</td>\n    </tr>\n    <tr>\n      <th>3</th>\n      <td>arboreum</td>\n      <td>37</td>\n      <td>/home/xandao/Imagens/pr_dataset/RGB/specific_e...</td>\n      <td>[/media/xandao/c2f58d30-ff2c-47f7-95af-91ad6fd...</td>\n      <td>[8834, 9710, 9735, 9749, 9765, 9776, 9842, 991...</td>\n    </tr>\n  </tbody>\n</table>\n</div>"
     },
     "metadata": {},
     "output_type": "display_data"
    },
    {
     "data": {
      "text/plain": "     seq  genus specific_epithet genus_trusted specific_epithet_trusted  \\\n0   9735  Piper         arboreum         Piper                 arboreum   \n1   7333  Piper     corcovadense         Piper                grazielae   \n2  13064  Piper    corcovadensis         Piper                grazielae   \n3   9821  Piper    corcovadensis         Piper                grazielae   \n\n                                                urls  \n0  [https://storage.googleapis.com/cria-zoomify/h...  \n1  [https://storage.googleapis.com/cria-zoomify/h...  \n2  [https://storage.googleapis.com/cria-zoomify/h...  \n3  [https://storage.googleapis.com/cria-zoomify/h...  ",
      "text/html": "<div>\n<style scoped>\n    .dataframe tbody tr th:only-of-type {\n        vertical-align: middle;\n    }\n\n    .dataframe tbody tr th {\n        vertical-align: top;\n    }\n\n    .dataframe thead th {\n        text-align: right;\n    }\n</style>\n<table border=\"1\" class=\"dataframe\">\n  <thead>\n    <tr style=\"text-align: right;\">\n      <th></th>\n      <th>seq</th>\n      <th>genus</th>\n      <th>specific_epithet</th>\n      <th>genus_trusted</th>\n      <th>specific_epithet_trusted</th>\n      <th>urls</th>\n    </tr>\n  </thead>\n  <tbody>\n    <tr>\n      <th>0</th>\n      <td>9735</td>\n      <td>Piper</td>\n      <td>arboreum</td>\n      <td>Piper</td>\n      <td>arboreum</td>\n      <td>[https://storage.googleapis.com/cria-zoomify/h...</td>\n    </tr>\n    <tr>\n      <th>1</th>\n      <td>7333</td>\n      <td>Piper</td>\n      <td>corcovadense</td>\n      <td>Piper</td>\n      <td>grazielae</td>\n      <td>[https://storage.googleapis.com/cria-zoomify/h...</td>\n    </tr>\n    <tr>\n      <th>2</th>\n      <td>13064</td>\n      <td>Piper</td>\n      <td>corcovadensis</td>\n      <td>Piper</td>\n      <td>grazielae</td>\n      <td>[https://storage.googleapis.com/cria-zoomify/h...</td>\n    </tr>\n    <tr>\n      <th>3</th>\n      <td>9821</td>\n      <td>Piper</td>\n      <td>corcovadensis</td>\n      <td>Piper</td>\n      <td>grazielae</td>\n      <td>[https://storage.googleapis.com/cria-zoomify/h...</td>\n    </tr>\n  </tbody>\n</table>\n</div>"
     },
     "metadata": {},
     "output_type": "display_data"
    },
    {
     "data": {
      "text/plain": "                                                               0\ndst            /home/xandao/Imagens/pr_dataset/RGB/specific_e...\ncolor                                                        rgb\nimage_size                                                   512\nminimum_image                                                 10\nlevel_name                              specific_epithet_trusted\nlevels                                                        36\ntotal                                                       1257\naverage                                                    34.92",
      "text/html": "<div>\n<style scoped>\n    .dataframe tbody tr th:only-of-type {\n        vertical-align: middle;\n    }\n\n    .dataframe tbody tr th {\n        vertical-align: top;\n    }\n\n    .dataframe thead th {\n        text-align: right;\n    }\n</style>\n<table border=\"1\" class=\"dataframe\">\n  <thead>\n    <tr style=\"text-align: right;\">\n      <th></th>\n      <th>0</th>\n    </tr>\n  </thead>\n  <tbody>\n    <tr>\n      <th>dst</th>\n      <td>/home/xandao/Imagens/pr_dataset/RGB/specific_e...</td>\n    </tr>\n    <tr>\n      <th>color</th>\n      <td>rgb</td>\n    </tr>\n    <tr>\n      <th>image_size</th>\n      <td>512</td>\n    </tr>\n    <tr>\n      <th>minimum_image</th>\n      <td>10</td>\n    </tr>\n    <tr>\n      <th>level_name</th>\n      <td>specific_epithet_trusted</td>\n    </tr>\n    <tr>\n      <th>levels</th>\n      <td>36</td>\n    </tr>\n    <tr>\n      <th>total</th>\n      <td>1257</td>\n    </tr>\n    <tr>\n      <th>average</th>\n      <td>34.92</td>\n    </tr>\n  </tbody>\n</table>\n</div>"
     },
     "metadata": {},
     "output_type": "display_data"
    },
    {
     "name": "stdout",
     "output_type": "stream",
     "text": [
      "color: RGB image_size: 512 minimum_image: 20\n",
      "total of levels: 23 total of images: 1084\n"
     ]
    },
    {
     "data": {
      "text/plain": "     levels  count                                                dst  \\\n0   aduncum     34  /home/xandao/Imagens/pr_dataset/RGB/specific_e...   \n1   amalago     68  /home/xandao/Imagens/pr_dataset/RGB/specific_e...   \n2  arboreum     37  /home/xandao/Imagens/pr_dataset/RGB/specific_e...   \n3    blanda     25  /home/xandao/Imagens/pr_dataset/RGB/specific_e...   \n\n                                               paths  \\\n0  [/media/xandao/c2f58d30-ff2c-47f7-95af-91ad6fd...   \n1  [/media/xandao/c2f58d30-ff2c-47f7-95af-91ad6fd...   \n2  [/media/xandao/c2f58d30-ff2c-47f7-95af-91ad6fd...   \n3  [/media/xandao/c2f58d30-ff2c-47f7-95af-91ad6fd...   \n\n                                                 seq  \n0  [9674, 9927, 10002, 10051, 10094, 10468, 10676...  \n1  [7707, 7723, 8236, 8767, 9678, 9698, 9888, 993...  \n2  [8834, 9710, 9735, 9749, 9765, 9776, 9842, 991...  \n3  [8410, 9694, 9885, 9990, 10083, 10122, 10559, ...  ",
      "text/html": "<div>\n<style scoped>\n    .dataframe tbody tr th:only-of-type {\n        vertical-align: middle;\n    }\n\n    .dataframe tbody tr th {\n        vertical-align: top;\n    }\n\n    .dataframe thead th {\n        text-align: right;\n    }\n</style>\n<table border=\"1\" class=\"dataframe\">\n  <thead>\n    <tr style=\"text-align: right;\">\n      <th></th>\n      <th>levels</th>\n      <th>count</th>\n      <th>dst</th>\n      <th>paths</th>\n      <th>seq</th>\n    </tr>\n  </thead>\n  <tbody>\n    <tr>\n      <th>0</th>\n      <td>aduncum</td>\n      <td>34</td>\n      <td>/home/xandao/Imagens/pr_dataset/RGB/specific_e...</td>\n      <td>[/media/xandao/c2f58d30-ff2c-47f7-95af-91ad6fd...</td>\n      <td>[9674, 9927, 10002, 10051, 10094, 10468, 10676...</td>\n    </tr>\n    <tr>\n      <th>1</th>\n      <td>amalago</td>\n      <td>68</td>\n      <td>/home/xandao/Imagens/pr_dataset/RGB/specific_e...</td>\n      <td>[/media/xandao/c2f58d30-ff2c-47f7-95af-91ad6fd...</td>\n      <td>[7707, 7723, 8236, 8767, 9678, 9698, 9888, 993...</td>\n    </tr>\n    <tr>\n      <th>2</th>\n      <td>arboreum</td>\n      <td>37</td>\n      <td>/home/xandao/Imagens/pr_dataset/RGB/specific_e...</td>\n      <td>[/media/xandao/c2f58d30-ff2c-47f7-95af-91ad6fd...</td>\n      <td>[8834, 9710, 9735, 9749, 9765, 9776, 9842, 991...</td>\n    </tr>\n    <tr>\n      <th>3</th>\n      <td>blanda</td>\n      <td>25</td>\n      <td>/home/xandao/Imagens/pr_dataset/RGB/specific_e...</td>\n      <td>[/media/xandao/c2f58d30-ff2c-47f7-95af-91ad6fd...</td>\n      <td>[8410, 9694, 9885, 9990, 10083, 10122, 10559, ...</td>\n    </tr>\n  </tbody>\n</table>\n</div>"
     },
     "metadata": {},
     "output_type": "display_data"
    },
    {
     "data": {
      "text/plain": "     seq  genus specific_epithet genus_trusted specific_epithet_trusted  \\\n0   9735  Piper         arboreum         Piper                 arboreum   \n1   7333  Piper     corcovadense         Piper                grazielae   \n2  13064  Piper    corcovadensis         Piper                grazielae   \n3   9821  Piper    corcovadensis         Piper                grazielae   \n\n                                                urls  \n0  [https://storage.googleapis.com/cria-zoomify/h...  \n1  [https://storage.googleapis.com/cria-zoomify/h...  \n2  [https://storage.googleapis.com/cria-zoomify/h...  \n3  [https://storage.googleapis.com/cria-zoomify/h...  ",
      "text/html": "<div>\n<style scoped>\n    .dataframe tbody tr th:only-of-type {\n        vertical-align: middle;\n    }\n\n    .dataframe tbody tr th {\n        vertical-align: top;\n    }\n\n    .dataframe thead th {\n        text-align: right;\n    }\n</style>\n<table border=\"1\" class=\"dataframe\">\n  <thead>\n    <tr style=\"text-align: right;\">\n      <th></th>\n      <th>seq</th>\n      <th>genus</th>\n      <th>specific_epithet</th>\n      <th>genus_trusted</th>\n      <th>specific_epithet_trusted</th>\n      <th>urls</th>\n    </tr>\n  </thead>\n  <tbody>\n    <tr>\n      <th>0</th>\n      <td>9735</td>\n      <td>Piper</td>\n      <td>arboreum</td>\n      <td>Piper</td>\n      <td>arboreum</td>\n      <td>[https://storage.googleapis.com/cria-zoomify/h...</td>\n    </tr>\n    <tr>\n      <th>1</th>\n      <td>7333</td>\n      <td>Piper</td>\n      <td>corcovadense</td>\n      <td>Piper</td>\n      <td>grazielae</td>\n      <td>[https://storage.googleapis.com/cria-zoomify/h...</td>\n    </tr>\n    <tr>\n      <th>2</th>\n      <td>13064</td>\n      <td>Piper</td>\n      <td>corcovadensis</td>\n      <td>Piper</td>\n      <td>grazielae</td>\n      <td>[https://storage.googleapis.com/cria-zoomify/h...</td>\n    </tr>\n    <tr>\n      <th>3</th>\n      <td>9821</td>\n      <td>Piper</td>\n      <td>corcovadensis</td>\n      <td>Piper</td>\n      <td>grazielae</td>\n      <td>[https://storage.googleapis.com/cria-zoomify/h...</td>\n    </tr>\n  </tbody>\n</table>\n</div>"
     },
     "metadata": {},
     "output_type": "display_data"
    },
    {
     "data": {
      "text/plain": "                                                               0\ndst            /home/xandao/Imagens/pr_dataset/RGB/specific_e...\ncolor                                                        rgb\nimage_size                                                   512\nminimum_image                                                 20\nlevel_name                              specific_epithet_trusted\nlevels                                                        23\ntotal                                                       1084\naverage                                                    47.13",
      "text/html": "<div>\n<style scoped>\n    .dataframe tbody tr th:only-of-type {\n        vertical-align: middle;\n    }\n\n    .dataframe tbody tr th {\n        vertical-align: top;\n    }\n\n    .dataframe thead th {\n        text-align: right;\n    }\n</style>\n<table border=\"1\" class=\"dataframe\">\n  <thead>\n    <tr style=\"text-align: right;\">\n      <th></th>\n      <th>0</th>\n    </tr>\n  </thead>\n  <tbody>\n    <tr>\n      <th>dst</th>\n      <td>/home/xandao/Imagens/pr_dataset/RGB/specific_e...</td>\n    </tr>\n    <tr>\n      <th>color</th>\n      <td>rgb</td>\n    </tr>\n    <tr>\n      <th>image_size</th>\n      <td>512</td>\n    </tr>\n    <tr>\n      <th>minimum_image</th>\n      <td>20</td>\n    </tr>\n    <tr>\n      <th>level_name</th>\n      <td>specific_epithet_trusted</td>\n    </tr>\n    <tr>\n      <th>levels</th>\n      <td>23</td>\n    </tr>\n    <tr>\n      <th>total</th>\n      <td>1084</td>\n    </tr>\n    <tr>\n      <th>average</th>\n      <td>47.13</td>\n    </tr>\n  </tbody>\n</table>\n</div>"
     },
     "metadata": {},
     "output_type": "display_data"
    },
    {
     "name": "stdout",
     "output_type": "stream",
     "text": [
      "color: GRAYSCALE image_size: 256 minimum_image: 5\n",
      "total of levels: 57 total of images: 1389\n"
     ]
    },
    {
     "data": {
      "text/plain": "    levels  count                                                dst  \\\n0  aduncum     34  /home/xandao/Imagens/pr_dataset/GRAYSCALE/spec...   \n1    alata     18  /home/xandao/Imagens/pr_dataset/GRAYSCALE/spec...   \n2  amalago     68  /home/xandao/Imagens/pr_dataset/GRAYSCALE/spec...   \n3   amplum      6  /home/xandao/Imagens/pr_dataset/GRAYSCALE/spec...   \n\n                                               paths  \\\n0  [/media/xandao/c2f58d30-ff2c-47f7-95af-91ad6fd...   \n1  [/media/xandao/c2f58d30-ff2c-47f7-95af-91ad6fd...   \n2  [/media/xandao/c2f58d30-ff2c-47f7-95af-91ad6fd...   \n3  [/media/xandao/c2f58d30-ff2c-47f7-95af-91ad6fd...   \n\n                                                 seq  \n0  [9674, 9927, 10002, 10051, 10094, 10468, 10676...  \n1  [9865, 9884, 9911, 10134, 10178, 10271, 10380,...  \n2  [7707, 7723, 8236, 8767, 9678, 9698, 9888, 993...  \n3         [10065, 10655, 11913, 11920, 11923, 12939]  ",
      "text/html": "<div>\n<style scoped>\n    .dataframe tbody tr th:only-of-type {\n        vertical-align: middle;\n    }\n\n    .dataframe tbody tr th {\n        vertical-align: top;\n    }\n\n    .dataframe thead th {\n        text-align: right;\n    }\n</style>\n<table border=\"1\" class=\"dataframe\">\n  <thead>\n    <tr style=\"text-align: right;\">\n      <th></th>\n      <th>levels</th>\n      <th>count</th>\n      <th>dst</th>\n      <th>paths</th>\n      <th>seq</th>\n    </tr>\n  </thead>\n  <tbody>\n    <tr>\n      <th>0</th>\n      <td>aduncum</td>\n      <td>34</td>\n      <td>/home/xandao/Imagens/pr_dataset/GRAYSCALE/spec...</td>\n      <td>[/media/xandao/c2f58d30-ff2c-47f7-95af-91ad6fd...</td>\n      <td>[9674, 9927, 10002, 10051, 10094, 10468, 10676...</td>\n    </tr>\n    <tr>\n      <th>1</th>\n      <td>alata</td>\n      <td>18</td>\n      <td>/home/xandao/Imagens/pr_dataset/GRAYSCALE/spec...</td>\n      <td>[/media/xandao/c2f58d30-ff2c-47f7-95af-91ad6fd...</td>\n      <td>[9865, 9884, 9911, 10134, 10178, 10271, 10380,...</td>\n    </tr>\n    <tr>\n      <th>2</th>\n      <td>amalago</td>\n      <td>68</td>\n      <td>/home/xandao/Imagens/pr_dataset/GRAYSCALE/spec...</td>\n      <td>[/media/xandao/c2f58d30-ff2c-47f7-95af-91ad6fd...</td>\n      <td>[7707, 7723, 8236, 8767, 9678, 9698, 9888, 993...</td>\n    </tr>\n    <tr>\n      <th>3</th>\n      <td>amplum</td>\n      <td>6</td>\n      <td>/home/xandao/Imagens/pr_dataset/GRAYSCALE/spec...</td>\n      <td>[/media/xandao/c2f58d30-ff2c-47f7-95af-91ad6fd...</td>\n      <td>[10065, 10655, 11913, 11920, 11923, 12939]</td>\n    </tr>\n  </tbody>\n</table>\n</div>"
     },
     "metadata": {},
     "output_type": "display_data"
    },
    {
     "data": {
      "text/plain": "     seq  genus specific_epithet genus_trusted specific_epithet_trusted  \\\n0   9735  Piper         arboreum         Piper                 arboreum   \n1   7333  Piper     corcovadense         Piper                grazielae   \n2  13064  Piper    corcovadensis         Piper                grazielae   \n3   9821  Piper    corcovadensis         Piper                grazielae   \n\n                                                urls  \n0  [https://storage.googleapis.com/cria-zoomify/h...  \n1  [https://storage.googleapis.com/cria-zoomify/h...  \n2  [https://storage.googleapis.com/cria-zoomify/h...  \n3  [https://storage.googleapis.com/cria-zoomify/h...  ",
      "text/html": "<div>\n<style scoped>\n    .dataframe tbody tr th:only-of-type {\n        vertical-align: middle;\n    }\n\n    .dataframe tbody tr th {\n        vertical-align: top;\n    }\n\n    .dataframe thead th {\n        text-align: right;\n    }\n</style>\n<table border=\"1\" class=\"dataframe\">\n  <thead>\n    <tr style=\"text-align: right;\">\n      <th></th>\n      <th>seq</th>\n      <th>genus</th>\n      <th>specific_epithet</th>\n      <th>genus_trusted</th>\n      <th>specific_epithet_trusted</th>\n      <th>urls</th>\n    </tr>\n  </thead>\n  <tbody>\n    <tr>\n      <th>0</th>\n      <td>9735</td>\n      <td>Piper</td>\n      <td>arboreum</td>\n      <td>Piper</td>\n      <td>arboreum</td>\n      <td>[https://storage.googleapis.com/cria-zoomify/h...</td>\n    </tr>\n    <tr>\n      <th>1</th>\n      <td>7333</td>\n      <td>Piper</td>\n      <td>corcovadense</td>\n      <td>Piper</td>\n      <td>grazielae</td>\n      <td>[https://storage.googleapis.com/cria-zoomify/h...</td>\n    </tr>\n    <tr>\n      <th>2</th>\n      <td>13064</td>\n      <td>Piper</td>\n      <td>corcovadensis</td>\n      <td>Piper</td>\n      <td>grazielae</td>\n      <td>[https://storage.googleapis.com/cria-zoomify/h...</td>\n    </tr>\n    <tr>\n      <th>3</th>\n      <td>9821</td>\n      <td>Piper</td>\n      <td>corcovadensis</td>\n      <td>Piper</td>\n      <td>grazielae</td>\n      <td>[https://storage.googleapis.com/cria-zoomify/h...</td>\n    </tr>\n  </tbody>\n</table>\n</div>"
     },
     "metadata": {},
     "output_type": "display_data"
    },
    {
     "data": {
      "text/plain": "                                                               0\ndst            /home/xandao/Imagens/pr_dataset/GRAYSCALE/spec...\ncolor                                                  grayscale\nimage_size                                                   256\nminimum_image                                                  5\nlevel_name                              specific_epithet_trusted\nlevels                                                        57\ntotal                                                       1389\naverage                                                    24.37",
      "text/html": "<div>\n<style scoped>\n    .dataframe tbody tr th:only-of-type {\n        vertical-align: middle;\n    }\n\n    .dataframe tbody tr th {\n        vertical-align: top;\n    }\n\n    .dataframe thead th {\n        text-align: right;\n    }\n</style>\n<table border=\"1\" class=\"dataframe\">\n  <thead>\n    <tr style=\"text-align: right;\">\n      <th></th>\n      <th>0</th>\n    </tr>\n  </thead>\n  <tbody>\n    <tr>\n      <th>dst</th>\n      <td>/home/xandao/Imagens/pr_dataset/GRAYSCALE/spec...</td>\n    </tr>\n    <tr>\n      <th>color</th>\n      <td>grayscale</td>\n    </tr>\n    <tr>\n      <th>image_size</th>\n      <td>256</td>\n    </tr>\n    <tr>\n      <th>minimum_image</th>\n      <td>5</td>\n    </tr>\n    <tr>\n      <th>level_name</th>\n      <td>specific_epithet_trusted</td>\n    </tr>\n    <tr>\n      <th>levels</th>\n      <td>57</td>\n    </tr>\n    <tr>\n      <th>total</th>\n      <td>1389</td>\n    </tr>\n    <tr>\n      <th>average</th>\n      <td>24.37</td>\n    </tr>\n  </tbody>\n</table>\n</div>"
     },
     "metadata": {},
     "output_type": "display_data"
    },
    {
     "name": "stdout",
     "output_type": "stream",
     "text": [
      "color: GRAYSCALE image_size: 256 minimum_image: 10\n",
      "total of levels: 36 total of images: 1257\n"
     ]
    },
    {
     "data": {
      "text/plain": "     levels  count                                                dst  \\\n0   aduncum     34  /home/xandao/Imagens/pr_dataset/GRAYSCALE/spec...   \n1     alata     18  /home/xandao/Imagens/pr_dataset/GRAYSCALE/spec...   \n2   amalago     68  /home/xandao/Imagens/pr_dataset/GRAYSCALE/spec...   \n3  arboreum     37  /home/xandao/Imagens/pr_dataset/GRAYSCALE/spec...   \n\n                                               paths  \\\n0  [/media/xandao/c2f58d30-ff2c-47f7-95af-91ad6fd...   \n1  [/media/xandao/c2f58d30-ff2c-47f7-95af-91ad6fd...   \n2  [/media/xandao/c2f58d30-ff2c-47f7-95af-91ad6fd...   \n3  [/media/xandao/c2f58d30-ff2c-47f7-95af-91ad6fd...   \n\n                                                 seq  \n0  [9674, 9927, 10002, 10051, 10094, 10468, 10676...  \n1  [9865, 9884, 9911, 10134, 10178, 10271, 10380,...  \n2  [7707, 7723, 8236, 8767, 9678, 9698, 9888, 993...  \n3  [8834, 9710, 9735, 9749, 9765, 9776, 9842, 991...  ",
      "text/html": "<div>\n<style scoped>\n    .dataframe tbody tr th:only-of-type {\n        vertical-align: middle;\n    }\n\n    .dataframe tbody tr th {\n        vertical-align: top;\n    }\n\n    .dataframe thead th {\n        text-align: right;\n    }\n</style>\n<table border=\"1\" class=\"dataframe\">\n  <thead>\n    <tr style=\"text-align: right;\">\n      <th></th>\n      <th>levels</th>\n      <th>count</th>\n      <th>dst</th>\n      <th>paths</th>\n      <th>seq</th>\n    </tr>\n  </thead>\n  <tbody>\n    <tr>\n      <th>0</th>\n      <td>aduncum</td>\n      <td>34</td>\n      <td>/home/xandao/Imagens/pr_dataset/GRAYSCALE/spec...</td>\n      <td>[/media/xandao/c2f58d30-ff2c-47f7-95af-91ad6fd...</td>\n      <td>[9674, 9927, 10002, 10051, 10094, 10468, 10676...</td>\n    </tr>\n    <tr>\n      <th>1</th>\n      <td>alata</td>\n      <td>18</td>\n      <td>/home/xandao/Imagens/pr_dataset/GRAYSCALE/spec...</td>\n      <td>[/media/xandao/c2f58d30-ff2c-47f7-95af-91ad6fd...</td>\n      <td>[9865, 9884, 9911, 10134, 10178, 10271, 10380,...</td>\n    </tr>\n    <tr>\n      <th>2</th>\n      <td>amalago</td>\n      <td>68</td>\n      <td>/home/xandao/Imagens/pr_dataset/GRAYSCALE/spec...</td>\n      <td>[/media/xandao/c2f58d30-ff2c-47f7-95af-91ad6fd...</td>\n      <td>[7707, 7723, 8236, 8767, 9678, 9698, 9888, 993...</td>\n    </tr>\n    <tr>\n      <th>3</th>\n      <td>arboreum</td>\n      <td>37</td>\n      <td>/home/xandao/Imagens/pr_dataset/GRAYSCALE/spec...</td>\n      <td>[/media/xandao/c2f58d30-ff2c-47f7-95af-91ad6fd...</td>\n      <td>[8834, 9710, 9735, 9749, 9765, 9776, 9842, 991...</td>\n    </tr>\n  </tbody>\n</table>\n</div>"
     },
     "metadata": {},
     "output_type": "display_data"
    },
    {
     "data": {
      "text/plain": "     seq  genus specific_epithet genus_trusted specific_epithet_trusted  \\\n0   9735  Piper         arboreum         Piper                 arboreum   \n1   7333  Piper     corcovadense         Piper                grazielae   \n2  13064  Piper    corcovadensis         Piper                grazielae   \n3   9821  Piper    corcovadensis         Piper                grazielae   \n\n                                                urls  \n0  [https://storage.googleapis.com/cria-zoomify/h...  \n1  [https://storage.googleapis.com/cria-zoomify/h...  \n2  [https://storage.googleapis.com/cria-zoomify/h...  \n3  [https://storage.googleapis.com/cria-zoomify/h...  ",
      "text/html": "<div>\n<style scoped>\n    .dataframe tbody tr th:only-of-type {\n        vertical-align: middle;\n    }\n\n    .dataframe tbody tr th {\n        vertical-align: top;\n    }\n\n    .dataframe thead th {\n        text-align: right;\n    }\n</style>\n<table border=\"1\" class=\"dataframe\">\n  <thead>\n    <tr style=\"text-align: right;\">\n      <th></th>\n      <th>seq</th>\n      <th>genus</th>\n      <th>specific_epithet</th>\n      <th>genus_trusted</th>\n      <th>specific_epithet_trusted</th>\n      <th>urls</th>\n    </tr>\n  </thead>\n  <tbody>\n    <tr>\n      <th>0</th>\n      <td>9735</td>\n      <td>Piper</td>\n      <td>arboreum</td>\n      <td>Piper</td>\n      <td>arboreum</td>\n      <td>[https://storage.googleapis.com/cria-zoomify/h...</td>\n    </tr>\n    <tr>\n      <th>1</th>\n      <td>7333</td>\n      <td>Piper</td>\n      <td>corcovadense</td>\n      <td>Piper</td>\n      <td>grazielae</td>\n      <td>[https://storage.googleapis.com/cria-zoomify/h...</td>\n    </tr>\n    <tr>\n      <th>2</th>\n      <td>13064</td>\n      <td>Piper</td>\n      <td>corcovadensis</td>\n      <td>Piper</td>\n      <td>grazielae</td>\n      <td>[https://storage.googleapis.com/cria-zoomify/h...</td>\n    </tr>\n    <tr>\n      <th>3</th>\n      <td>9821</td>\n      <td>Piper</td>\n      <td>corcovadensis</td>\n      <td>Piper</td>\n      <td>grazielae</td>\n      <td>[https://storage.googleapis.com/cria-zoomify/h...</td>\n    </tr>\n  </tbody>\n</table>\n</div>"
     },
     "metadata": {},
     "output_type": "display_data"
    },
    {
     "data": {
      "text/plain": "                                                               0\ndst            /home/xandao/Imagens/pr_dataset/GRAYSCALE/spec...\ncolor                                                  grayscale\nimage_size                                                   256\nminimum_image                                                 10\nlevel_name                              specific_epithet_trusted\nlevels                                                        36\ntotal                                                       1257\naverage                                                    34.92",
      "text/html": "<div>\n<style scoped>\n    .dataframe tbody tr th:only-of-type {\n        vertical-align: middle;\n    }\n\n    .dataframe tbody tr th {\n        vertical-align: top;\n    }\n\n    .dataframe thead th {\n        text-align: right;\n    }\n</style>\n<table border=\"1\" class=\"dataframe\">\n  <thead>\n    <tr style=\"text-align: right;\">\n      <th></th>\n      <th>0</th>\n    </tr>\n  </thead>\n  <tbody>\n    <tr>\n      <th>dst</th>\n      <td>/home/xandao/Imagens/pr_dataset/GRAYSCALE/spec...</td>\n    </tr>\n    <tr>\n      <th>color</th>\n      <td>grayscale</td>\n    </tr>\n    <tr>\n      <th>image_size</th>\n      <td>256</td>\n    </tr>\n    <tr>\n      <th>minimum_image</th>\n      <td>10</td>\n    </tr>\n    <tr>\n      <th>level_name</th>\n      <td>specific_epithet_trusted</td>\n    </tr>\n    <tr>\n      <th>levels</th>\n      <td>36</td>\n    </tr>\n    <tr>\n      <th>total</th>\n      <td>1257</td>\n    </tr>\n    <tr>\n      <th>average</th>\n      <td>34.92</td>\n    </tr>\n  </tbody>\n</table>\n</div>"
     },
     "metadata": {},
     "output_type": "display_data"
    },
    {
     "name": "stdout",
     "output_type": "stream",
     "text": [
      "color: GRAYSCALE image_size: 256 minimum_image: 20\n",
      "total of levels: 23 total of images: 1084\n"
     ]
    },
    {
     "data": {
      "text/plain": "     levels  count                                                dst  \\\n0   aduncum     34  /home/xandao/Imagens/pr_dataset/GRAYSCALE/spec...   \n1   amalago     68  /home/xandao/Imagens/pr_dataset/GRAYSCALE/spec...   \n2  arboreum     37  /home/xandao/Imagens/pr_dataset/GRAYSCALE/spec...   \n3    blanda     25  /home/xandao/Imagens/pr_dataset/GRAYSCALE/spec...   \n\n                                               paths  \\\n0  [/media/xandao/c2f58d30-ff2c-47f7-95af-91ad6fd...   \n1  [/media/xandao/c2f58d30-ff2c-47f7-95af-91ad6fd...   \n2  [/media/xandao/c2f58d30-ff2c-47f7-95af-91ad6fd...   \n3  [/media/xandao/c2f58d30-ff2c-47f7-95af-91ad6fd...   \n\n                                                 seq  \n0  [9674, 9927, 10002, 10051, 10094, 10468, 10676...  \n1  [7707, 7723, 8236, 8767, 9678, 9698, 9888, 993...  \n2  [8834, 9710, 9735, 9749, 9765, 9776, 9842, 991...  \n3  [8410, 9694, 9885, 9990, 10083, 10122, 10559, ...  ",
      "text/html": "<div>\n<style scoped>\n    .dataframe tbody tr th:only-of-type {\n        vertical-align: middle;\n    }\n\n    .dataframe tbody tr th {\n        vertical-align: top;\n    }\n\n    .dataframe thead th {\n        text-align: right;\n    }\n</style>\n<table border=\"1\" class=\"dataframe\">\n  <thead>\n    <tr style=\"text-align: right;\">\n      <th></th>\n      <th>levels</th>\n      <th>count</th>\n      <th>dst</th>\n      <th>paths</th>\n      <th>seq</th>\n    </tr>\n  </thead>\n  <tbody>\n    <tr>\n      <th>0</th>\n      <td>aduncum</td>\n      <td>34</td>\n      <td>/home/xandao/Imagens/pr_dataset/GRAYSCALE/spec...</td>\n      <td>[/media/xandao/c2f58d30-ff2c-47f7-95af-91ad6fd...</td>\n      <td>[9674, 9927, 10002, 10051, 10094, 10468, 10676...</td>\n    </tr>\n    <tr>\n      <th>1</th>\n      <td>amalago</td>\n      <td>68</td>\n      <td>/home/xandao/Imagens/pr_dataset/GRAYSCALE/spec...</td>\n      <td>[/media/xandao/c2f58d30-ff2c-47f7-95af-91ad6fd...</td>\n      <td>[7707, 7723, 8236, 8767, 9678, 9698, 9888, 993...</td>\n    </tr>\n    <tr>\n      <th>2</th>\n      <td>arboreum</td>\n      <td>37</td>\n      <td>/home/xandao/Imagens/pr_dataset/GRAYSCALE/spec...</td>\n      <td>[/media/xandao/c2f58d30-ff2c-47f7-95af-91ad6fd...</td>\n      <td>[8834, 9710, 9735, 9749, 9765, 9776, 9842, 991...</td>\n    </tr>\n    <tr>\n      <th>3</th>\n      <td>blanda</td>\n      <td>25</td>\n      <td>/home/xandao/Imagens/pr_dataset/GRAYSCALE/spec...</td>\n      <td>[/media/xandao/c2f58d30-ff2c-47f7-95af-91ad6fd...</td>\n      <td>[8410, 9694, 9885, 9990, 10083, 10122, 10559, ...</td>\n    </tr>\n  </tbody>\n</table>\n</div>"
     },
     "metadata": {},
     "output_type": "display_data"
    },
    {
     "data": {
      "text/plain": "     seq  genus specific_epithet genus_trusted specific_epithet_trusted  \\\n0   9735  Piper         arboreum         Piper                 arboreum   \n1   7333  Piper     corcovadense         Piper                grazielae   \n2  13064  Piper    corcovadensis         Piper                grazielae   \n3   9821  Piper    corcovadensis         Piper                grazielae   \n\n                                                urls  \n0  [https://storage.googleapis.com/cria-zoomify/h...  \n1  [https://storage.googleapis.com/cria-zoomify/h...  \n2  [https://storage.googleapis.com/cria-zoomify/h...  \n3  [https://storage.googleapis.com/cria-zoomify/h...  ",
      "text/html": "<div>\n<style scoped>\n    .dataframe tbody tr th:only-of-type {\n        vertical-align: middle;\n    }\n\n    .dataframe tbody tr th {\n        vertical-align: top;\n    }\n\n    .dataframe thead th {\n        text-align: right;\n    }\n</style>\n<table border=\"1\" class=\"dataframe\">\n  <thead>\n    <tr style=\"text-align: right;\">\n      <th></th>\n      <th>seq</th>\n      <th>genus</th>\n      <th>specific_epithet</th>\n      <th>genus_trusted</th>\n      <th>specific_epithet_trusted</th>\n      <th>urls</th>\n    </tr>\n  </thead>\n  <tbody>\n    <tr>\n      <th>0</th>\n      <td>9735</td>\n      <td>Piper</td>\n      <td>arboreum</td>\n      <td>Piper</td>\n      <td>arboreum</td>\n      <td>[https://storage.googleapis.com/cria-zoomify/h...</td>\n    </tr>\n    <tr>\n      <th>1</th>\n      <td>7333</td>\n      <td>Piper</td>\n      <td>corcovadense</td>\n      <td>Piper</td>\n      <td>grazielae</td>\n      <td>[https://storage.googleapis.com/cria-zoomify/h...</td>\n    </tr>\n    <tr>\n      <th>2</th>\n      <td>13064</td>\n      <td>Piper</td>\n      <td>corcovadensis</td>\n      <td>Piper</td>\n      <td>grazielae</td>\n      <td>[https://storage.googleapis.com/cria-zoomify/h...</td>\n    </tr>\n    <tr>\n      <th>3</th>\n      <td>9821</td>\n      <td>Piper</td>\n      <td>corcovadensis</td>\n      <td>Piper</td>\n      <td>grazielae</td>\n      <td>[https://storage.googleapis.com/cria-zoomify/h...</td>\n    </tr>\n  </tbody>\n</table>\n</div>"
     },
     "metadata": {},
     "output_type": "display_data"
    },
    {
     "data": {
      "text/plain": "                                                               0\ndst            /home/xandao/Imagens/pr_dataset/GRAYSCALE/spec...\ncolor                                                  grayscale\nimage_size                                                   256\nminimum_image                                                 20\nlevel_name                              specific_epithet_trusted\nlevels                                                        23\ntotal                                                       1084\naverage                                                    47.13",
      "text/html": "<div>\n<style scoped>\n    .dataframe tbody tr th:only-of-type {\n        vertical-align: middle;\n    }\n\n    .dataframe tbody tr th {\n        vertical-align: top;\n    }\n\n    .dataframe thead th {\n        text-align: right;\n    }\n</style>\n<table border=\"1\" class=\"dataframe\">\n  <thead>\n    <tr style=\"text-align: right;\">\n      <th></th>\n      <th>0</th>\n    </tr>\n  </thead>\n  <tbody>\n    <tr>\n      <th>dst</th>\n      <td>/home/xandao/Imagens/pr_dataset/GRAYSCALE/spec...</td>\n    </tr>\n    <tr>\n      <th>color</th>\n      <td>grayscale</td>\n    </tr>\n    <tr>\n      <th>image_size</th>\n      <td>256</td>\n    </tr>\n    <tr>\n      <th>minimum_image</th>\n      <td>20</td>\n    </tr>\n    <tr>\n      <th>level_name</th>\n      <td>specific_epithet_trusted</td>\n    </tr>\n    <tr>\n      <th>levels</th>\n      <td>23</td>\n    </tr>\n    <tr>\n      <th>total</th>\n      <td>1084</td>\n    </tr>\n    <tr>\n      <th>average</th>\n      <td>47.13</td>\n    </tr>\n  </tbody>\n</table>\n</div>"
     },
     "metadata": {},
     "output_type": "display_data"
    },
    {
     "name": "stdout",
     "output_type": "stream",
     "text": [
      "color: GRAYSCALE image_size: 400 minimum_image: 5\n",
      "total of levels: 57 total of images: 1389\n"
     ]
    },
    {
     "data": {
      "text/plain": "    levels  count                                                dst  \\\n0  aduncum     34  /home/xandao/Imagens/pr_dataset/GRAYSCALE/spec...   \n1    alata     18  /home/xandao/Imagens/pr_dataset/GRAYSCALE/spec...   \n2  amalago     68  /home/xandao/Imagens/pr_dataset/GRAYSCALE/spec...   \n3   amplum      6  /home/xandao/Imagens/pr_dataset/GRAYSCALE/spec...   \n\n                                               paths  \\\n0  [/media/xandao/c2f58d30-ff2c-47f7-95af-91ad6fd...   \n1  [/media/xandao/c2f58d30-ff2c-47f7-95af-91ad6fd...   \n2  [/media/xandao/c2f58d30-ff2c-47f7-95af-91ad6fd...   \n3  [/media/xandao/c2f58d30-ff2c-47f7-95af-91ad6fd...   \n\n                                                 seq  \n0  [9674, 9927, 10002, 10051, 10094, 10468, 10676...  \n1  [9865, 9884, 9911, 10134, 10178, 10271, 10380,...  \n2  [7707, 7723, 8236, 8767, 9678, 9698, 9888, 993...  \n3         [10065, 10655, 11913, 11920, 11923, 12939]  ",
      "text/html": "<div>\n<style scoped>\n    .dataframe tbody tr th:only-of-type {\n        vertical-align: middle;\n    }\n\n    .dataframe tbody tr th {\n        vertical-align: top;\n    }\n\n    .dataframe thead th {\n        text-align: right;\n    }\n</style>\n<table border=\"1\" class=\"dataframe\">\n  <thead>\n    <tr style=\"text-align: right;\">\n      <th></th>\n      <th>levels</th>\n      <th>count</th>\n      <th>dst</th>\n      <th>paths</th>\n      <th>seq</th>\n    </tr>\n  </thead>\n  <tbody>\n    <tr>\n      <th>0</th>\n      <td>aduncum</td>\n      <td>34</td>\n      <td>/home/xandao/Imagens/pr_dataset/GRAYSCALE/spec...</td>\n      <td>[/media/xandao/c2f58d30-ff2c-47f7-95af-91ad6fd...</td>\n      <td>[9674, 9927, 10002, 10051, 10094, 10468, 10676...</td>\n    </tr>\n    <tr>\n      <th>1</th>\n      <td>alata</td>\n      <td>18</td>\n      <td>/home/xandao/Imagens/pr_dataset/GRAYSCALE/spec...</td>\n      <td>[/media/xandao/c2f58d30-ff2c-47f7-95af-91ad6fd...</td>\n      <td>[9865, 9884, 9911, 10134, 10178, 10271, 10380,...</td>\n    </tr>\n    <tr>\n      <th>2</th>\n      <td>amalago</td>\n      <td>68</td>\n      <td>/home/xandao/Imagens/pr_dataset/GRAYSCALE/spec...</td>\n      <td>[/media/xandao/c2f58d30-ff2c-47f7-95af-91ad6fd...</td>\n      <td>[7707, 7723, 8236, 8767, 9678, 9698, 9888, 993...</td>\n    </tr>\n    <tr>\n      <th>3</th>\n      <td>amplum</td>\n      <td>6</td>\n      <td>/home/xandao/Imagens/pr_dataset/GRAYSCALE/spec...</td>\n      <td>[/media/xandao/c2f58d30-ff2c-47f7-95af-91ad6fd...</td>\n      <td>[10065, 10655, 11913, 11920, 11923, 12939]</td>\n    </tr>\n  </tbody>\n</table>\n</div>"
     },
     "metadata": {},
     "output_type": "display_data"
    },
    {
     "data": {
      "text/plain": "     seq  genus specific_epithet genus_trusted specific_epithet_trusted  \\\n0   9735  Piper         arboreum         Piper                 arboreum   \n1   7333  Piper     corcovadense         Piper                grazielae   \n2  13064  Piper    corcovadensis         Piper                grazielae   \n3   9821  Piper    corcovadensis         Piper                grazielae   \n\n                                                urls  \n0  [https://storage.googleapis.com/cria-zoomify/h...  \n1  [https://storage.googleapis.com/cria-zoomify/h...  \n2  [https://storage.googleapis.com/cria-zoomify/h...  \n3  [https://storage.googleapis.com/cria-zoomify/h...  ",
      "text/html": "<div>\n<style scoped>\n    .dataframe tbody tr th:only-of-type {\n        vertical-align: middle;\n    }\n\n    .dataframe tbody tr th {\n        vertical-align: top;\n    }\n\n    .dataframe thead th {\n        text-align: right;\n    }\n</style>\n<table border=\"1\" class=\"dataframe\">\n  <thead>\n    <tr style=\"text-align: right;\">\n      <th></th>\n      <th>seq</th>\n      <th>genus</th>\n      <th>specific_epithet</th>\n      <th>genus_trusted</th>\n      <th>specific_epithet_trusted</th>\n      <th>urls</th>\n    </tr>\n  </thead>\n  <tbody>\n    <tr>\n      <th>0</th>\n      <td>9735</td>\n      <td>Piper</td>\n      <td>arboreum</td>\n      <td>Piper</td>\n      <td>arboreum</td>\n      <td>[https://storage.googleapis.com/cria-zoomify/h...</td>\n    </tr>\n    <tr>\n      <th>1</th>\n      <td>7333</td>\n      <td>Piper</td>\n      <td>corcovadense</td>\n      <td>Piper</td>\n      <td>grazielae</td>\n      <td>[https://storage.googleapis.com/cria-zoomify/h...</td>\n    </tr>\n    <tr>\n      <th>2</th>\n      <td>13064</td>\n      <td>Piper</td>\n      <td>corcovadensis</td>\n      <td>Piper</td>\n      <td>grazielae</td>\n      <td>[https://storage.googleapis.com/cria-zoomify/h...</td>\n    </tr>\n    <tr>\n      <th>3</th>\n      <td>9821</td>\n      <td>Piper</td>\n      <td>corcovadensis</td>\n      <td>Piper</td>\n      <td>grazielae</td>\n      <td>[https://storage.googleapis.com/cria-zoomify/h...</td>\n    </tr>\n  </tbody>\n</table>\n</div>"
     },
     "metadata": {},
     "output_type": "display_data"
    },
    {
     "data": {
      "text/plain": "                                                               0\ndst            /home/xandao/Imagens/pr_dataset/GRAYSCALE/spec...\ncolor                                                  grayscale\nimage_size                                                   400\nminimum_image                                                  5\nlevel_name                              specific_epithet_trusted\nlevels                                                        57\ntotal                                                       1389\naverage                                                    24.37",
      "text/html": "<div>\n<style scoped>\n    .dataframe tbody tr th:only-of-type {\n        vertical-align: middle;\n    }\n\n    .dataframe tbody tr th {\n        vertical-align: top;\n    }\n\n    .dataframe thead th {\n        text-align: right;\n    }\n</style>\n<table border=\"1\" class=\"dataframe\">\n  <thead>\n    <tr style=\"text-align: right;\">\n      <th></th>\n      <th>0</th>\n    </tr>\n  </thead>\n  <tbody>\n    <tr>\n      <th>dst</th>\n      <td>/home/xandao/Imagens/pr_dataset/GRAYSCALE/spec...</td>\n    </tr>\n    <tr>\n      <th>color</th>\n      <td>grayscale</td>\n    </tr>\n    <tr>\n      <th>image_size</th>\n      <td>400</td>\n    </tr>\n    <tr>\n      <th>minimum_image</th>\n      <td>5</td>\n    </tr>\n    <tr>\n      <th>level_name</th>\n      <td>specific_epithet_trusted</td>\n    </tr>\n    <tr>\n      <th>levels</th>\n      <td>57</td>\n    </tr>\n    <tr>\n      <th>total</th>\n      <td>1389</td>\n    </tr>\n    <tr>\n      <th>average</th>\n      <td>24.37</td>\n    </tr>\n  </tbody>\n</table>\n</div>"
     },
     "metadata": {},
     "output_type": "display_data"
    },
    {
     "name": "stdout",
     "output_type": "stream",
     "text": [
      "color: GRAYSCALE image_size: 400 minimum_image: 10\n",
      "total of levels: 36 total of images: 1257\n"
     ]
    },
    {
     "data": {
      "text/plain": "     levels  count                                                dst  \\\n0   aduncum     34  /home/xandao/Imagens/pr_dataset/GRAYSCALE/spec...   \n1     alata     18  /home/xandao/Imagens/pr_dataset/GRAYSCALE/spec...   \n2   amalago     68  /home/xandao/Imagens/pr_dataset/GRAYSCALE/spec...   \n3  arboreum     37  /home/xandao/Imagens/pr_dataset/GRAYSCALE/spec...   \n\n                                               paths  \\\n0  [/media/xandao/c2f58d30-ff2c-47f7-95af-91ad6fd...   \n1  [/media/xandao/c2f58d30-ff2c-47f7-95af-91ad6fd...   \n2  [/media/xandao/c2f58d30-ff2c-47f7-95af-91ad6fd...   \n3  [/media/xandao/c2f58d30-ff2c-47f7-95af-91ad6fd...   \n\n                                                 seq  \n0  [9674, 9927, 10002, 10051, 10094, 10468, 10676...  \n1  [9865, 9884, 9911, 10134, 10178, 10271, 10380,...  \n2  [7707, 7723, 8236, 8767, 9678, 9698, 9888, 993...  \n3  [8834, 9710, 9735, 9749, 9765, 9776, 9842, 991...  ",
      "text/html": "<div>\n<style scoped>\n    .dataframe tbody tr th:only-of-type {\n        vertical-align: middle;\n    }\n\n    .dataframe tbody tr th {\n        vertical-align: top;\n    }\n\n    .dataframe thead th {\n        text-align: right;\n    }\n</style>\n<table border=\"1\" class=\"dataframe\">\n  <thead>\n    <tr style=\"text-align: right;\">\n      <th></th>\n      <th>levels</th>\n      <th>count</th>\n      <th>dst</th>\n      <th>paths</th>\n      <th>seq</th>\n    </tr>\n  </thead>\n  <tbody>\n    <tr>\n      <th>0</th>\n      <td>aduncum</td>\n      <td>34</td>\n      <td>/home/xandao/Imagens/pr_dataset/GRAYSCALE/spec...</td>\n      <td>[/media/xandao/c2f58d30-ff2c-47f7-95af-91ad6fd...</td>\n      <td>[9674, 9927, 10002, 10051, 10094, 10468, 10676...</td>\n    </tr>\n    <tr>\n      <th>1</th>\n      <td>alata</td>\n      <td>18</td>\n      <td>/home/xandao/Imagens/pr_dataset/GRAYSCALE/spec...</td>\n      <td>[/media/xandao/c2f58d30-ff2c-47f7-95af-91ad6fd...</td>\n      <td>[9865, 9884, 9911, 10134, 10178, 10271, 10380,...</td>\n    </tr>\n    <tr>\n      <th>2</th>\n      <td>amalago</td>\n      <td>68</td>\n      <td>/home/xandao/Imagens/pr_dataset/GRAYSCALE/spec...</td>\n      <td>[/media/xandao/c2f58d30-ff2c-47f7-95af-91ad6fd...</td>\n      <td>[7707, 7723, 8236, 8767, 9678, 9698, 9888, 993...</td>\n    </tr>\n    <tr>\n      <th>3</th>\n      <td>arboreum</td>\n      <td>37</td>\n      <td>/home/xandao/Imagens/pr_dataset/GRAYSCALE/spec...</td>\n      <td>[/media/xandao/c2f58d30-ff2c-47f7-95af-91ad6fd...</td>\n      <td>[8834, 9710, 9735, 9749, 9765, 9776, 9842, 991...</td>\n    </tr>\n  </tbody>\n</table>\n</div>"
     },
     "metadata": {},
     "output_type": "display_data"
    },
    {
     "data": {
      "text/plain": "     seq  genus specific_epithet genus_trusted specific_epithet_trusted  \\\n0   9735  Piper         arboreum         Piper                 arboreum   \n1   7333  Piper     corcovadense         Piper                grazielae   \n2  13064  Piper    corcovadensis         Piper                grazielae   \n3   9821  Piper    corcovadensis         Piper                grazielae   \n\n                                                urls  \n0  [https://storage.googleapis.com/cria-zoomify/h...  \n1  [https://storage.googleapis.com/cria-zoomify/h...  \n2  [https://storage.googleapis.com/cria-zoomify/h...  \n3  [https://storage.googleapis.com/cria-zoomify/h...  ",
      "text/html": "<div>\n<style scoped>\n    .dataframe tbody tr th:only-of-type {\n        vertical-align: middle;\n    }\n\n    .dataframe tbody tr th {\n        vertical-align: top;\n    }\n\n    .dataframe thead th {\n        text-align: right;\n    }\n</style>\n<table border=\"1\" class=\"dataframe\">\n  <thead>\n    <tr style=\"text-align: right;\">\n      <th></th>\n      <th>seq</th>\n      <th>genus</th>\n      <th>specific_epithet</th>\n      <th>genus_trusted</th>\n      <th>specific_epithet_trusted</th>\n      <th>urls</th>\n    </tr>\n  </thead>\n  <tbody>\n    <tr>\n      <th>0</th>\n      <td>9735</td>\n      <td>Piper</td>\n      <td>arboreum</td>\n      <td>Piper</td>\n      <td>arboreum</td>\n      <td>[https://storage.googleapis.com/cria-zoomify/h...</td>\n    </tr>\n    <tr>\n      <th>1</th>\n      <td>7333</td>\n      <td>Piper</td>\n      <td>corcovadense</td>\n      <td>Piper</td>\n      <td>grazielae</td>\n      <td>[https://storage.googleapis.com/cria-zoomify/h...</td>\n    </tr>\n    <tr>\n      <th>2</th>\n      <td>13064</td>\n      <td>Piper</td>\n      <td>corcovadensis</td>\n      <td>Piper</td>\n      <td>grazielae</td>\n      <td>[https://storage.googleapis.com/cria-zoomify/h...</td>\n    </tr>\n    <tr>\n      <th>3</th>\n      <td>9821</td>\n      <td>Piper</td>\n      <td>corcovadensis</td>\n      <td>Piper</td>\n      <td>grazielae</td>\n      <td>[https://storage.googleapis.com/cria-zoomify/h...</td>\n    </tr>\n  </tbody>\n</table>\n</div>"
     },
     "metadata": {},
     "output_type": "display_data"
    },
    {
     "data": {
      "text/plain": "                                                               0\ndst            /home/xandao/Imagens/pr_dataset/GRAYSCALE/spec...\ncolor                                                  grayscale\nimage_size                                                   400\nminimum_image                                                 10\nlevel_name                              specific_epithet_trusted\nlevels                                                        36\ntotal                                                       1257\naverage                                                    34.92",
      "text/html": "<div>\n<style scoped>\n    .dataframe tbody tr th:only-of-type {\n        vertical-align: middle;\n    }\n\n    .dataframe tbody tr th {\n        vertical-align: top;\n    }\n\n    .dataframe thead th {\n        text-align: right;\n    }\n</style>\n<table border=\"1\" class=\"dataframe\">\n  <thead>\n    <tr style=\"text-align: right;\">\n      <th></th>\n      <th>0</th>\n    </tr>\n  </thead>\n  <tbody>\n    <tr>\n      <th>dst</th>\n      <td>/home/xandao/Imagens/pr_dataset/GRAYSCALE/spec...</td>\n    </tr>\n    <tr>\n      <th>color</th>\n      <td>grayscale</td>\n    </tr>\n    <tr>\n      <th>image_size</th>\n      <td>400</td>\n    </tr>\n    <tr>\n      <th>minimum_image</th>\n      <td>10</td>\n    </tr>\n    <tr>\n      <th>level_name</th>\n      <td>specific_epithet_trusted</td>\n    </tr>\n    <tr>\n      <th>levels</th>\n      <td>36</td>\n    </tr>\n    <tr>\n      <th>total</th>\n      <td>1257</td>\n    </tr>\n    <tr>\n      <th>average</th>\n      <td>34.92</td>\n    </tr>\n  </tbody>\n</table>\n</div>"
     },
     "metadata": {},
     "output_type": "display_data"
    },
    {
     "name": "stdout",
     "output_type": "stream",
     "text": [
      "color: GRAYSCALE image_size: 400 minimum_image: 20\n",
      "total of levels: 23 total of images: 1084\n"
     ]
    },
    {
     "data": {
      "text/plain": "     levels  count                                                dst  \\\n0   aduncum     34  /home/xandao/Imagens/pr_dataset/GRAYSCALE/spec...   \n1   amalago     68  /home/xandao/Imagens/pr_dataset/GRAYSCALE/spec...   \n2  arboreum     37  /home/xandao/Imagens/pr_dataset/GRAYSCALE/spec...   \n3    blanda     25  /home/xandao/Imagens/pr_dataset/GRAYSCALE/spec...   \n\n                                               paths  \\\n0  [/media/xandao/c2f58d30-ff2c-47f7-95af-91ad6fd...   \n1  [/media/xandao/c2f58d30-ff2c-47f7-95af-91ad6fd...   \n2  [/media/xandao/c2f58d30-ff2c-47f7-95af-91ad6fd...   \n3  [/media/xandao/c2f58d30-ff2c-47f7-95af-91ad6fd...   \n\n                                                 seq  \n0  [9674, 9927, 10002, 10051, 10094, 10468, 10676...  \n1  [7707, 7723, 8236, 8767, 9678, 9698, 9888, 993...  \n2  [8834, 9710, 9735, 9749, 9765, 9776, 9842, 991...  \n3  [8410, 9694, 9885, 9990, 10083, 10122, 10559, ...  ",
      "text/html": "<div>\n<style scoped>\n    .dataframe tbody tr th:only-of-type {\n        vertical-align: middle;\n    }\n\n    .dataframe tbody tr th {\n        vertical-align: top;\n    }\n\n    .dataframe thead th {\n        text-align: right;\n    }\n</style>\n<table border=\"1\" class=\"dataframe\">\n  <thead>\n    <tr style=\"text-align: right;\">\n      <th></th>\n      <th>levels</th>\n      <th>count</th>\n      <th>dst</th>\n      <th>paths</th>\n      <th>seq</th>\n    </tr>\n  </thead>\n  <tbody>\n    <tr>\n      <th>0</th>\n      <td>aduncum</td>\n      <td>34</td>\n      <td>/home/xandao/Imagens/pr_dataset/GRAYSCALE/spec...</td>\n      <td>[/media/xandao/c2f58d30-ff2c-47f7-95af-91ad6fd...</td>\n      <td>[9674, 9927, 10002, 10051, 10094, 10468, 10676...</td>\n    </tr>\n    <tr>\n      <th>1</th>\n      <td>amalago</td>\n      <td>68</td>\n      <td>/home/xandao/Imagens/pr_dataset/GRAYSCALE/spec...</td>\n      <td>[/media/xandao/c2f58d30-ff2c-47f7-95af-91ad6fd...</td>\n      <td>[7707, 7723, 8236, 8767, 9678, 9698, 9888, 993...</td>\n    </tr>\n    <tr>\n      <th>2</th>\n      <td>arboreum</td>\n      <td>37</td>\n      <td>/home/xandao/Imagens/pr_dataset/GRAYSCALE/spec...</td>\n      <td>[/media/xandao/c2f58d30-ff2c-47f7-95af-91ad6fd...</td>\n      <td>[8834, 9710, 9735, 9749, 9765, 9776, 9842, 991...</td>\n    </tr>\n    <tr>\n      <th>3</th>\n      <td>blanda</td>\n      <td>25</td>\n      <td>/home/xandao/Imagens/pr_dataset/GRAYSCALE/spec...</td>\n      <td>[/media/xandao/c2f58d30-ff2c-47f7-95af-91ad6fd...</td>\n      <td>[8410, 9694, 9885, 9990, 10083, 10122, 10559, ...</td>\n    </tr>\n  </tbody>\n</table>\n</div>"
     },
     "metadata": {},
     "output_type": "display_data"
    },
    {
     "data": {
      "text/plain": "     seq  genus specific_epithet genus_trusted specific_epithet_trusted  \\\n0   9735  Piper         arboreum         Piper                 arboreum   \n1   7333  Piper     corcovadense         Piper                grazielae   \n2  13064  Piper    corcovadensis         Piper                grazielae   \n3   9821  Piper    corcovadensis         Piper                grazielae   \n\n                                                urls  \n0  [https://storage.googleapis.com/cria-zoomify/h...  \n1  [https://storage.googleapis.com/cria-zoomify/h...  \n2  [https://storage.googleapis.com/cria-zoomify/h...  \n3  [https://storage.googleapis.com/cria-zoomify/h...  ",
      "text/html": "<div>\n<style scoped>\n    .dataframe tbody tr th:only-of-type {\n        vertical-align: middle;\n    }\n\n    .dataframe tbody tr th {\n        vertical-align: top;\n    }\n\n    .dataframe thead th {\n        text-align: right;\n    }\n</style>\n<table border=\"1\" class=\"dataframe\">\n  <thead>\n    <tr style=\"text-align: right;\">\n      <th></th>\n      <th>seq</th>\n      <th>genus</th>\n      <th>specific_epithet</th>\n      <th>genus_trusted</th>\n      <th>specific_epithet_trusted</th>\n      <th>urls</th>\n    </tr>\n  </thead>\n  <tbody>\n    <tr>\n      <th>0</th>\n      <td>9735</td>\n      <td>Piper</td>\n      <td>arboreum</td>\n      <td>Piper</td>\n      <td>arboreum</td>\n      <td>[https://storage.googleapis.com/cria-zoomify/h...</td>\n    </tr>\n    <tr>\n      <th>1</th>\n      <td>7333</td>\n      <td>Piper</td>\n      <td>corcovadense</td>\n      <td>Piper</td>\n      <td>grazielae</td>\n      <td>[https://storage.googleapis.com/cria-zoomify/h...</td>\n    </tr>\n    <tr>\n      <th>2</th>\n      <td>13064</td>\n      <td>Piper</td>\n      <td>corcovadensis</td>\n      <td>Piper</td>\n      <td>grazielae</td>\n      <td>[https://storage.googleapis.com/cria-zoomify/h...</td>\n    </tr>\n    <tr>\n      <th>3</th>\n      <td>9821</td>\n      <td>Piper</td>\n      <td>corcovadensis</td>\n      <td>Piper</td>\n      <td>grazielae</td>\n      <td>[https://storage.googleapis.com/cria-zoomify/h...</td>\n    </tr>\n  </tbody>\n</table>\n</div>"
     },
     "metadata": {},
     "output_type": "display_data"
    },
    {
     "data": {
      "text/plain": "                                                               0\ndst            /home/xandao/Imagens/pr_dataset/GRAYSCALE/spec...\ncolor                                                  grayscale\nimage_size                                                   400\nminimum_image                                                 20\nlevel_name                              specific_epithet_trusted\nlevels                                                        23\ntotal                                                       1084\naverage                                                    47.13",
      "text/html": "<div>\n<style scoped>\n    .dataframe tbody tr th:only-of-type {\n        vertical-align: middle;\n    }\n\n    .dataframe tbody tr th {\n        vertical-align: top;\n    }\n\n    .dataframe thead th {\n        text-align: right;\n    }\n</style>\n<table border=\"1\" class=\"dataframe\">\n  <thead>\n    <tr style=\"text-align: right;\">\n      <th></th>\n      <th>0</th>\n    </tr>\n  </thead>\n  <tbody>\n    <tr>\n      <th>dst</th>\n      <td>/home/xandao/Imagens/pr_dataset/GRAYSCALE/spec...</td>\n    </tr>\n    <tr>\n      <th>color</th>\n      <td>grayscale</td>\n    </tr>\n    <tr>\n      <th>image_size</th>\n      <td>400</td>\n    </tr>\n    <tr>\n      <th>minimum_image</th>\n      <td>20</td>\n    </tr>\n    <tr>\n      <th>level_name</th>\n      <td>specific_epithet_trusted</td>\n    </tr>\n    <tr>\n      <th>levels</th>\n      <td>23</td>\n    </tr>\n    <tr>\n      <th>total</th>\n      <td>1084</td>\n    </tr>\n    <tr>\n      <th>average</th>\n      <td>47.13</td>\n    </tr>\n  </tbody>\n</table>\n</div>"
     },
     "metadata": {},
     "output_type": "display_data"
    },
    {
     "name": "stdout",
     "output_type": "stream",
     "text": [
      "color: GRAYSCALE image_size: 512 minimum_image: 5\n",
      "total of levels: 57 total of images: 1389\n"
     ]
    },
    {
     "data": {
      "text/plain": "    levels  count                                                dst  \\\n0  aduncum     34  /home/xandao/Imagens/pr_dataset/GRAYSCALE/spec...   \n1    alata     18  /home/xandao/Imagens/pr_dataset/GRAYSCALE/spec...   \n2  amalago     68  /home/xandao/Imagens/pr_dataset/GRAYSCALE/spec...   \n3   amplum      6  /home/xandao/Imagens/pr_dataset/GRAYSCALE/spec...   \n\n                                               paths  \\\n0  [/media/xandao/c2f58d30-ff2c-47f7-95af-91ad6fd...   \n1  [/media/xandao/c2f58d30-ff2c-47f7-95af-91ad6fd...   \n2  [/media/xandao/c2f58d30-ff2c-47f7-95af-91ad6fd...   \n3  [/media/xandao/c2f58d30-ff2c-47f7-95af-91ad6fd...   \n\n                                                 seq  \n0  [9674, 9927, 10002, 10051, 10094, 10468, 10676...  \n1  [9865, 9884, 9911, 10134, 10178, 10271, 10380,...  \n2  [7707, 7723, 8236, 8767, 9678, 9698, 9888, 993...  \n3         [10065, 10655, 11913, 11920, 11923, 12939]  ",
      "text/html": "<div>\n<style scoped>\n    .dataframe tbody tr th:only-of-type {\n        vertical-align: middle;\n    }\n\n    .dataframe tbody tr th {\n        vertical-align: top;\n    }\n\n    .dataframe thead th {\n        text-align: right;\n    }\n</style>\n<table border=\"1\" class=\"dataframe\">\n  <thead>\n    <tr style=\"text-align: right;\">\n      <th></th>\n      <th>levels</th>\n      <th>count</th>\n      <th>dst</th>\n      <th>paths</th>\n      <th>seq</th>\n    </tr>\n  </thead>\n  <tbody>\n    <tr>\n      <th>0</th>\n      <td>aduncum</td>\n      <td>34</td>\n      <td>/home/xandao/Imagens/pr_dataset/GRAYSCALE/spec...</td>\n      <td>[/media/xandao/c2f58d30-ff2c-47f7-95af-91ad6fd...</td>\n      <td>[9674, 9927, 10002, 10051, 10094, 10468, 10676...</td>\n    </tr>\n    <tr>\n      <th>1</th>\n      <td>alata</td>\n      <td>18</td>\n      <td>/home/xandao/Imagens/pr_dataset/GRAYSCALE/spec...</td>\n      <td>[/media/xandao/c2f58d30-ff2c-47f7-95af-91ad6fd...</td>\n      <td>[9865, 9884, 9911, 10134, 10178, 10271, 10380,...</td>\n    </tr>\n    <tr>\n      <th>2</th>\n      <td>amalago</td>\n      <td>68</td>\n      <td>/home/xandao/Imagens/pr_dataset/GRAYSCALE/spec...</td>\n      <td>[/media/xandao/c2f58d30-ff2c-47f7-95af-91ad6fd...</td>\n      <td>[7707, 7723, 8236, 8767, 9678, 9698, 9888, 993...</td>\n    </tr>\n    <tr>\n      <th>3</th>\n      <td>amplum</td>\n      <td>6</td>\n      <td>/home/xandao/Imagens/pr_dataset/GRAYSCALE/spec...</td>\n      <td>[/media/xandao/c2f58d30-ff2c-47f7-95af-91ad6fd...</td>\n      <td>[10065, 10655, 11913, 11920, 11923, 12939]</td>\n    </tr>\n  </tbody>\n</table>\n</div>"
     },
     "metadata": {},
     "output_type": "display_data"
    },
    {
     "data": {
      "text/plain": "     seq  genus specific_epithet genus_trusted specific_epithet_trusted  \\\n0   9735  Piper         arboreum         Piper                 arboreum   \n1   7333  Piper     corcovadense         Piper                grazielae   \n2  13064  Piper    corcovadensis         Piper                grazielae   \n3   9821  Piper    corcovadensis         Piper                grazielae   \n\n                                                urls  \n0  [https://storage.googleapis.com/cria-zoomify/h...  \n1  [https://storage.googleapis.com/cria-zoomify/h...  \n2  [https://storage.googleapis.com/cria-zoomify/h...  \n3  [https://storage.googleapis.com/cria-zoomify/h...  ",
      "text/html": "<div>\n<style scoped>\n    .dataframe tbody tr th:only-of-type {\n        vertical-align: middle;\n    }\n\n    .dataframe tbody tr th {\n        vertical-align: top;\n    }\n\n    .dataframe thead th {\n        text-align: right;\n    }\n</style>\n<table border=\"1\" class=\"dataframe\">\n  <thead>\n    <tr style=\"text-align: right;\">\n      <th></th>\n      <th>seq</th>\n      <th>genus</th>\n      <th>specific_epithet</th>\n      <th>genus_trusted</th>\n      <th>specific_epithet_trusted</th>\n      <th>urls</th>\n    </tr>\n  </thead>\n  <tbody>\n    <tr>\n      <th>0</th>\n      <td>9735</td>\n      <td>Piper</td>\n      <td>arboreum</td>\n      <td>Piper</td>\n      <td>arboreum</td>\n      <td>[https://storage.googleapis.com/cria-zoomify/h...</td>\n    </tr>\n    <tr>\n      <th>1</th>\n      <td>7333</td>\n      <td>Piper</td>\n      <td>corcovadense</td>\n      <td>Piper</td>\n      <td>grazielae</td>\n      <td>[https://storage.googleapis.com/cria-zoomify/h...</td>\n    </tr>\n    <tr>\n      <th>2</th>\n      <td>13064</td>\n      <td>Piper</td>\n      <td>corcovadensis</td>\n      <td>Piper</td>\n      <td>grazielae</td>\n      <td>[https://storage.googleapis.com/cria-zoomify/h...</td>\n    </tr>\n    <tr>\n      <th>3</th>\n      <td>9821</td>\n      <td>Piper</td>\n      <td>corcovadensis</td>\n      <td>Piper</td>\n      <td>grazielae</td>\n      <td>[https://storage.googleapis.com/cria-zoomify/h...</td>\n    </tr>\n  </tbody>\n</table>\n</div>"
     },
     "metadata": {},
     "output_type": "display_data"
    },
    {
     "data": {
      "text/plain": "                                                               0\ndst            /home/xandao/Imagens/pr_dataset/GRAYSCALE/spec...\ncolor                                                  grayscale\nimage_size                                                   512\nminimum_image                                                  5\nlevel_name                              specific_epithet_trusted\nlevels                                                        57\ntotal                                                       1389\naverage                                                    24.37",
      "text/html": "<div>\n<style scoped>\n    .dataframe tbody tr th:only-of-type {\n        vertical-align: middle;\n    }\n\n    .dataframe tbody tr th {\n        vertical-align: top;\n    }\n\n    .dataframe thead th {\n        text-align: right;\n    }\n</style>\n<table border=\"1\" class=\"dataframe\">\n  <thead>\n    <tr style=\"text-align: right;\">\n      <th></th>\n      <th>0</th>\n    </tr>\n  </thead>\n  <tbody>\n    <tr>\n      <th>dst</th>\n      <td>/home/xandao/Imagens/pr_dataset/GRAYSCALE/spec...</td>\n    </tr>\n    <tr>\n      <th>color</th>\n      <td>grayscale</td>\n    </tr>\n    <tr>\n      <th>image_size</th>\n      <td>512</td>\n    </tr>\n    <tr>\n      <th>minimum_image</th>\n      <td>5</td>\n    </tr>\n    <tr>\n      <th>level_name</th>\n      <td>specific_epithet_trusted</td>\n    </tr>\n    <tr>\n      <th>levels</th>\n      <td>57</td>\n    </tr>\n    <tr>\n      <th>total</th>\n      <td>1389</td>\n    </tr>\n    <tr>\n      <th>average</th>\n      <td>24.37</td>\n    </tr>\n  </tbody>\n</table>\n</div>"
     },
     "metadata": {},
     "output_type": "display_data"
    },
    {
     "name": "stdout",
     "output_type": "stream",
     "text": [
      "color: GRAYSCALE image_size: 512 minimum_image: 10\n",
      "total of levels: 36 total of images: 1257\n"
     ]
    },
    {
     "data": {
      "text/plain": "     levels  count                                                dst  \\\n0   aduncum     34  /home/xandao/Imagens/pr_dataset/GRAYSCALE/spec...   \n1     alata     18  /home/xandao/Imagens/pr_dataset/GRAYSCALE/spec...   \n2   amalago     68  /home/xandao/Imagens/pr_dataset/GRAYSCALE/spec...   \n3  arboreum     37  /home/xandao/Imagens/pr_dataset/GRAYSCALE/spec...   \n\n                                               paths  \\\n0  [/media/xandao/c2f58d30-ff2c-47f7-95af-91ad6fd...   \n1  [/media/xandao/c2f58d30-ff2c-47f7-95af-91ad6fd...   \n2  [/media/xandao/c2f58d30-ff2c-47f7-95af-91ad6fd...   \n3  [/media/xandao/c2f58d30-ff2c-47f7-95af-91ad6fd...   \n\n                                                 seq  \n0  [9674, 9927, 10002, 10051, 10094, 10468, 10676...  \n1  [9865, 9884, 9911, 10134, 10178, 10271, 10380,...  \n2  [7707, 7723, 8236, 8767, 9678, 9698, 9888, 993...  \n3  [8834, 9710, 9735, 9749, 9765, 9776, 9842, 991...  ",
      "text/html": "<div>\n<style scoped>\n    .dataframe tbody tr th:only-of-type {\n        vertical-align: middle;\n    }\n\n    .dataframe tbody tr th {\n        vertical-align: top;\n    }\n\n    .dataframe thead th {\n        text-align: right;\n    }\n</style>\n<table border=\"1\" class=\"dataframe\">\n  <thead>\n    <tr style=\"text-align: right;\">\n      <th></th>\n      <th>levels</th>\n      <th>count</th>\n      <th>dst</th>\n      <th>paths</th>\n      <th>seq</th>\n    </tr>\n  </thead>\n  <tbody>\n    <tr>\n      <th>0</th>\n      <td>aduncum</td>\n      <td>34</td>\n      <td>/home/xandao/Imagens/pr_dataset/GRAYSCALE/spec...</td>\n      <td>[/media/xandao/c2f58d30-ff2c-47f7-95af-91ad6fd...</td>\n      <td>[9674, 9927, 10002, 10051, 10094, 10468, 10676...</td>\n    </tr>\n    <tr>\n      <th>1</th>\n      <td>alata</td>\n      <td>18</td>\n      <td>/home/xandao/Imagens/pr_dataset/GRAYSCALE/spec...</td>\n      <td>[/media/xandao/c2f58d30-ff2c-47f7-95af-91ad6fd...</td>\n      <td>[9865, 9884, 9911, 10134, 10178, 10271, 10380,...</td>\n    </tr>\n    <tr>\n      <th>2</th>\n      <td>amalago</td>\n      <td>68</td>\n      <td>/home/xandao/Imagens/pr_dataset/GRAYSCALE/spec...</td>\n      <td>[/media/xandao/c2f58d30-ff2c-47f7-95af-91ad6fd...</td>\n      <td>[7707, 7723, 8236, 8767, 9678, 9698, 9888, 993...</td>\n    </tr>\n    <tr>\n      <th>3</th>\n      <td>arboreum</td>\n      <td>37</td>\n      <td>/home/xandao/Imagens/pr_dataset/GRAYSCALE/spec...</td>\n      <td>[/media/xandao/c2f58d30-ff2c-47f7-95af-91ad6fd...</td>\n      <td>[8834, 9710, 9735, 9749, 9765, 9776, 9842, 991...</td>\n    </tr>\n  </tbody>\n</table>\n</div>"
     },
     "metadata": {},
     "output_type": "display_data"
    },
    {
     "data": {
      "text/plain": "     seq  genus specific_epithet genus_trusted specific_epithet_trusted  \\\n0   9735  Piper         arboreum         Piper                 arboreum   \n1   7333  Piper     corcovadense         Piper                grazielae   \n2  13064  Piper    corcovadensis         Piper                grazielae   \n3   9821  Piper    corcovadensis         Piper                grazielae   \n\n                                                urls  \n0  [https://storage.googleapis.com/cria-zoomify/h...  \n1  [https://storage.googleapis.com/cria-zoomify/h...  \n2  [https://storage.googleapis.com/cria-zoomify/h...  \n3  [https://storage.googleapis.com/cria-zoomify/h...  ",
      "text/html": "<div>\n<style scoped>\n    .dataframe tbody tr th:only-of-type {\n        vertical-align: middle;\n    }\n\n    .dataframe tbody tr th {\n        vertical-align: top;\n    }\n\n    .dataframe thead th {\n        text-align: right;\n    }\n</style>\n<table border=\"1\" class=\"dataframe\">\n  <thead>\n    <tr style=\"text-align: right;\">\n      <th></th>\n      <th>seq</th>\n      <th>genus</th>\n      <th>specific_epithet</th>\n      <th>genus_trusted</th>\n      <th>specific_epithet_trusted</th>\n      <th>urls</th>\n    </tr>\n  </thead>\n  <tbody>\n    <tr>\n      <th>0</th>\n      <td>9735</td>\n      <td>Piper</td>\n      <td>arboreum</td>\n      <td>Piper</td>\n      <td>arboreum</td>\n      <td>[https://storage.googleapis.com/cria-zoomify/h...</td>\n    </tr>\n    <tr>\n      <th>1</th>\n      <td>7333</td>\n      <td>Piper</td>\n      <td>corcovadense</td>\n      <td>Piper</td>\n      <td>grazielae</td>\n      <td>[https://storage.googleapis.com/cria-zoomify/h...</td>\n    </tr>\n    <tr>\n      <th>2</th>\n      <td>13064</td>\n      <td>Piper</td>\n      <td>corcovadensis</td>\n      <td>Piper</td>\n      <td>grazielae</td>\n      <td>[https://storage.googleapis.com/cria-zoomify/h...</td>\n    </tr>\n    <tr>\n      <th>3</th>\n      <td>9821</td>\n      <td>Piper</td>\n      <td>corcovadensis</td>\n      <td>Piper</td>\n      <td>grazielae</td>\n      <td>[https://storage.googleapis.com/cria-zoomify/h...</td>\n    </tr>\n  </tbody>\n</table>\n</div>"
     },
     "metadata": {},
     "output_type": "display_data"
    },
    {
     "data": {
      "text/plain": "                                                               0\ndst            /home/xandao/Imagens/pr_dataset/GRAYSCALE/spec...\ncolor                                                  grayscale\nimage_size                                                   512\nminimum_image                                                 10\nlevel_name                              specific_epithet_trusted\nlevels                                                        36\ntotal                                                       1257\naverage                                                    34.92",
      "text/html": "<div>\n<style scoped>\n    .dataframe tbody tr th:only-of-type {\n        vertical-align: middle;\n    }\n\n    .dataframe tbody tr th {\n        vertical-align: top;\n    }\n\n    .dataframe thead th {\n        text-align: right;\n    }\n</style>\n<table border=\"1\" class=\"dataframe\">\n  <thead>\n    <tr style=\"text-align: right;\">\n      <th></th>\n      <th>0</th>\n    </tr>\n  </thead>\n  <tbody>\n    <tr>\n      <th>dst</th>\n      <td>/home/xandao/Imagens/pr_dataset/GRAYSCALE/spec...</td>\n    </tr>\n    <tr>\n      <th>color</th>\n      <td>grayscale</td>\n    </tr>\n    <tr>\n      <th>image_size</th>\n      <td>512</td>\n    </tr>\n    <tr>\n      <th>minimum_image</th>\n      <td>10</td>\n    </tr>\n    <tr>\n      <th>level_name</th>\n      <td>specific_epithet_trusted</td>\n    </tr>\n    <tr>\n      <th>levels</th>\n      <td>36</td>\n    </tr>\n    <tr>\n      <th>total</th>\n      <td>1257</td>\n    </tr>\n    <tr>\n      <th>average</th>\n      <td>34.92</td>\n    </tr>\n  </tbody>\n</table>\n</div>"
     },
     "metadata": {},
     "output_type": "display_data"
    },
    {
     "name": "stdout",
     "output_type": "stream",
     "text": [
      "color: GRAYSCALE image_size: 512 minimum_image: 20\n",
      "total of levels: 23 total of images: 1084\n"
     ]
    },
    {
     "data": {
      "text/plain": "     levels  count                                                dst  \\\n0   aduncum     34  /home/xandao/Imagens/pr_dataset/GRAYSCALE/spec...   \n1   amalago     68  /home/xandao/Imagens/pr_dataset/GRAYSCALE/spec...   \n2  arboreum     37  /home/xandao/Imagens/pr_dataset/GRAYSCALE/spec...   \n3    blanda     25  /home/xandao/Imagens/pr_dataset/GRAYSCALE/spec...   \n\n                                               paths  \\\n0  [/media/xandao/c2f58d30-ff2c-47f7-95af-91ad6fd...   \n1  [/media/xandao/c2f58d30-ff2c-47f7-95af-91ad6fd...   \n2  [/media/xandao/c2f58d30-ff2c-47f7-95af-91ad6fd...   \n3  [/media/xandao/c2f58d30-ff2c-47f7-95af-91ad6fd...   \n\n                                                 seq  \n0  [9674, 9927, 10002, 10051, 10094, 10468, 10676...  \n1  [7707, 7723, 8236, 8767, 9678, 9698, 9888, 993...  \n2  [8834, 9710, 9735, 9749, 9765, 9776, 9842, 991...  \n3  [8410, 9694, 9885, 9990, 10083, 10122, 10559, ...  ",
      "text/html": "<div>\n<style scoped>\n    .dataframe tbody tr th:only-of-type {\n        vertical-align: middle;\n    }\n\n    .dataframe tbody tr th {\n        vertical-align: top;\n    }\n\n    .dataframe thead th {\n        text-align: right;\n    }\n</style>\n<table border=\"1\" class=\"dataframe\">\n  <thead>\n    <tr style=\"text-align: right;\">\n      <th></th>\n      <th>levels</th>\n      <th>count</th>\n      <th>dst</th>\n      <th>paths</th>\n      <th>seq</th>\n    </tr>\n  </thead>\n  <tbody>\n    <tr>\n      <th>0</th>\n      <td>aduncum</td>\n      <td>34</td>\n      <td>/home/xandao/Imagens/pr_dataset/GRAYSCALE/spec...</td>\n      <td>[/media/xandao/c2f58d30-ff2c-47f7-95af-91ad6fd...</td>\n      <td>[9674, 9927, 10002, 10051, 10094, 10468, 10676...</td>\n    </tr>\n    <tr>\n      <th>1</th>\n      <td>amalago</td>\n      <td>68</td>\n      <td>/home/xandao/Imagens/pr_dataset/GRAYSCALE/spec...</td>\n      <td>[/media/xandao/c2f58d30-ff2c-47f7-95af-91ad6fd...</td>\n      <td>[7707, 7723, 8236, 8767, 9678, 9698, 9888, 993...</td>\n    </tr>\n    <tr>\n      <th>2</th>\n      <td>arboreum</td>\n      <td>37</td>\n      <td>/home/xandao/Imagens/pr_dataset/GRAYSCALE/spec...</td>\n      <td>[/media/xandao/c2f58d30-ff2c-47f7-95af-91ad6fd...</td>\n      <td>[8834, 9710, 9735, 9749, 9765, 9776, 9842, 991...</td>\n    </tr>\n    <tr>\n      <th>3</th>\n      <td>blanda</td>\n      <td>25</td>\n      <td>/home/xandao/Imagens/pr_dataset/GRAYSCALE/spec...</td>\n      <td>[/media/xandao/c2f58d30-ff2c-47f7-95af-91ad6fd...</td>\n      <td>[8410, 9694, 9885, 9990, 10083, 10122, 10559, ...</td>\n    </tr>\n  </tbody>\n</table>\n</div>"
     },
     "metadata": {},
     "output_type": "display_data"
    },
    {
     "data": {
      "text/plain": "     seq  genus specific_epithet genus_trusted specific_epithet_trusted  \\\n0   9735  Piper         arboreum         Piper                 arboreum   \n1   7333  Piper     corcovadense         Piper                grazielae   \n2  13064  Piper    corcovadensis         Piper                grazielae   \n3   9821  Piper    corcovadensis         Piper                grazielae   \n\n                                                urls  \n0  [https://storage.googleapis.com/cria-zoomify/h...  \n1  [https://storage.googleapis.com/cria-zoomify/h...  \n2  [https://storage.googleapis.com/cria-zoomify/h...  \n3  [https://storage.googleapis.com/cria-zoomify/h...  ",
      "text/html": "<div>\n<style scoped>\n    .dataframe tbody tr th:only-of-type {\n        vertical-align: middle;\n    }\n\n    .dataframe tbody tr th {\n        vertical-align: top;\n    }\n\n    .dataframe thead th {\n        text-align: right;\n    }\n</style>\n<table border=\"1\" class=\"dataframe\">\n  <thead>\n    <tr style=\"text-align: right;\">\n      <th></th>\n      <th>seq</th>\n      <th>genus</th>\n      <th>specific_epithet</th>\n      <th>genus_trusted</th>\n      <th>specific_epithet_trusted</th>\n      <th>urls</th>\n    </tr>\n  </thead>\n  <tbody>\n    <tr>\n      <th>0</th>\n      <td>9735</td>\n      <td>Piper</td>\n      <td>arboreum</td>\n      <td>Piper</td>\n      <td>arboreum</td>\n      <td>[https://storage.googleapis.com/cria-zoomify/h...</td>\n    </tr>\n    <tr>\n      <th>1</th>\n      <td>7333</td>\n      <td>Piper</td>\n      <td>corcovadense</td>\n      <td>Piper</td>\n      <td>grazielae</td>\n      <td>[https://storage.googleapis.com/cria-zoomify/h...</td>\n    </tr>\n    <tr>\n      <th>2</th>\n      <td>13064</td>\n      <td>Piper</td>\n      <td>corcovadensis</td>\n      <td>Piper</td>\n      <td>grazielae</td>\n      <td>[https://storage.googleapis.com/cria-zoomify/h...</td>\n    </tr>\n    <tr>\n      <th>3</th>\n      <td>9821</td>\n      <td>Piper</td>\n      <td>corcovadensis</td>\n      <td>Piper</td>\n      <td>grazielae</td>\n      <td>[https://storage.googleapis.com/cria-zoomify/h...</td>\n    </tr>\n  </tbody>\n</table>\n</div>"
     },
     "metadata": {},
     "output_type": "display_data"
    },
    {
     "data": {
      "text/plain": "                                                               0\ndst            /home/xandao/Imagens/pr_dataset/GRAYSCALE/spec...\ncolor                                                  grayscale\nimage_size                                                   512\nminimum_image                                                 20\nlevel_name                              specific_epithet_trusted\nlevels                                                        23\ntotal                                                       1084\naverage                                                    47.13",
      "text/html": "<div>\n<style scoped>\n    .dataframe tbody tr th:only-of-type {\n        vertical-align: middle;\n    }\n\n    .dataframe tbody tr th {\n        vertical-align: top;\n    }\n\n    .dataframe thead th {\n        text-align: right;\n    }\n</style>\n<table border=\"1\" class=\"dataframe\">\n  <thead>\n    <tr style=\"text-align: right;\">\n      <th></th>\n      <th>0</th>\n    </tr>\n  </thead>\n  <tbody>\n    <tr>\n      <th>dst</th>\n      <td>/home/xandao/Imagens/pr_dataset/GRAYSCALE/spec...</td>\n    </tr>\n    <tr>\n      <th>color</th>\n      <td>grayscale</td>\n    </tr>\n    <tr>\n      <th>image_size</th>\n      <td>512</td>\n    </tr>\n    <tr>\n      <th>minimum_image</th>\n      <td>20</td>\n    </tr>\n    <tr>\n      <th>level_name</th>\n      <td>specific_epithet_trusted</td>\n    </tr>\n    <tr>\n      <th>levels</th>\n      <td>23</td>\n    </tr>\n    <tr>\n      <th>total</th>\n      <td>1084</td>\n    </tr>\n    <tr>\n      <th>average</th>\n      <td>47.13</td>\n    </tr>\n  </tbody>\n</table>\n</div>"
     },
     "metadata": {},
     "output_type": "display_data"
    }
   ],
   "source": [
    "for color in list_color:\n",
    "    for image_size in list_image_size:\n",
    "        for minimum_image in list_minimum_image:\n",
    "            list_level = []\n",
    "            list_path_images_final = []\n",
    "            list_seq_final = []\n",
    "            list_count_samples = []\n",
    "\n",
    "            level=DataTrustedIdentifier.specific_epithet_trusted\n",
    "            out=os.path.join(path_out, color.upper(), level.name, image_size, str(minimum_image))\n",
    "\n",
    "            condition = sa.and_(DataTrustedIdentifier.country_trusted == 'Brasil',\n",
    "                                level.is_not(None),\n",
    "                                sa.or_(uf_unaccented_lower,\n",
    "                                       state_unaccented_lower,\n",
    "                                       county_unaccented_lower))\n",
    "\n",
    "            columns = [level,\n",
    "                       sa.func.array_agg(DataTrustedIdentifier.seq).label('list_seq')]\n",
    "            query = session.query(*columns) \\\n",
    "                .filter(condition) \\\n",
    "                .distinct() \\\n",
    "                .group_by(level) \\\n",
    "                .order_by(level) \\\n",
    "                .having(sa.func.count(level) >= minimum_image) \\\n",
    "                .all()\n",
    "\n",
    "            print('color: %s image_size: %s minimum_image: %d' % (color.upper(), image_size, minimum_image))\n",
    "            for q in query:\n",
    "                qzao = session.query(Image.seq_id, sa.func.array_agg(Image.path_segmented).label('list_path_segmented')) \\\n",
    "                    .filter(sa.and_(Image.seq_id.in_(q.list_seq),\n",
    "                                    Image.color_mode.__eq__(color.upper()),\n",
    "                                    Image.height.__eq__(image_size),\n",
    "                                    Image.width.__eq__(image_size),\n",
    "                                    sa.not_(Image.filename.in_(list_images_invalid)),\n",
    "                                    sa.not_(Image.filename.ilike('%_v0%')),\n",
    "                                    sa.not_(Image.filename.like('%_e%')),\n",
    "                                    sa.not_(Image.filename.like('%_nd%')),\n",
    "                                    ))\\\n",
    "                    .group_by(Image.seq_id)\\\n",
    "                    .all()\n",
    "\n",
    "                list_one_image_per_seq = []\n",
    "                list_seq_one_image = []\n",
    "                for qzinho in qzao:\n",
    "                    list_seq_one_image.append(qzinho.seq_id)\n",
    "                    list_one_image_per_seq.append(sorted(qzinho.list_path_segmented)[0])\n",
    "\n",
    "                if len(list_one_image_per_seq) >= minimum_image:\n",
    "                    list_count_samples.append(len(list_one_image_per_seq))\n",
    "                    list_level.append(q.specific_epithet_trusted)\n",
    "                    list_path_images_final.append(list_one_image_per_seq)\n",
    "                    list_seq_final.append(list_seq_one_image)\n",
    "\n",
    "            list_f = copy_images(list_level, list_path_images_final, out)\n",
    "            save_metadata(color, image_size, level, list_count_samples, list_f, list_level, list_path_images_final, list_seq_final, minimum_image, out, session)"
   ],
   "metadata": {
    "collapsed": false
   }
  },
  {
   "cell_type": "code",
   "execution_count": null,
   "outputs": [],
   "source": [
    "session.close()\n",
    "engine.dispose()"
   ],
   "metadata": {
    "collapsed": false
   }
  }
 ],
 "metadata": {
  "kernelspec": {
   "display_name": "Python 3",
   "language": "python",
   "name": "python3"
  },
  "language_info": {
   "codemirror_mode": {
    "name": "ipython",
    "version": 2
   },
   "file_extension": ".py",
   "mimetype": "text/x-python",
   "name": "python",
   "nbconvert_exporter": "python",
   "pygments_lexer": "ipython2",
   "version": "2.7.6"
  }
 },
 "nbformat": 4,
 "nbformat_minor": 0
}
