{
 "cells": [
  {
   "cell_type": "code",
   "execution_count": 5,
   "metadata": {
    "pycharm": {
     "name": "#%%\n"
    }
   },
   "outputs": [],
   "source": [
    "import os\n",
    "import sqlalchemy.orm.decl_api\n",
    "import time\n",
    "\n",
    "from api import *\n",
    "from dataframe import *\n",
    "from database import *\n",
    "from file import create_outfile\n",
    "from unaccent import unaccent"
   ]
  },
  {
   "cell_type": "markdown",
   "metadata": {
    "pycharm": {
     "name": "#%% md\n"
    }
   },
   "source": [
    "# cfg"
   ]
  },
  {
   "cell_type": "code",
   "execution_count": 6,
   "metadata": {
    "pycharm": {
     "name": "#%%\n"
    }
   },
   "outputs": [
    {
     "name": "stdout",
     "output_type": "stream",
     "text": [
      "problems with host 192.168.0.160 ((psycopg2.OperationalError) connection to server at \"192.168.0.160\", port 5432 failed: FATAL:  no pg_hba.conf entry for host \"192.168.0.160\", user \"xandao\", database \"herbario\", SSL encryption\n",
      "connection to server at \"192.168.0.160\", port 5432 failed: FATAL:  no pg_hba.conf entry for host \"192.168.0.160\", user \"xandao\", database \"herbario\", no encryption\n",
      "\n",
      "(Background on this error at: https://sqlalche.me/e/14/e3q8))\n"
     ]
    }
   ],
   "source": [
    "cfg = {\n",
    "    \"user\": f\"{os.environ['POSTGRE_USER']}\",\n",
    "    \"password\": f\"{os.environ['POSTGRE_PASSWORD']}\",\n",
    "    \"port\": \"5432\",\n",
    "    \"database\": \"herbario\"\n",
    "}\n",
    "filename = \"original.csv\"\n",
    "filename_george = \"dados-george.csv\"\n",
    "\n",
    "engine, session = connect(cfg)"
   ]
  },
  {
   "cell_type": "markdown",
   "metadata": {
    "pycharm": {
     "name": "#%% md\n"
    }
   },
   "source": [
    "# Load data"
   ]
  },
  {
   "cell_type": "code",
   "execution_count": 6,
   "metadata": {
    "pycharm": {
     "name": "#%%\n"
    }
   },
   "outputs": [],
   "source": [
    "dataframe = pandas.read_csv(\"original.csv\", sep=\";\", low_memory=False, skipinitialspace=True)\n",
    "dataframe_george = pandas.read_csv(filename_george, sep=\";\", low_memory=False, skipinitialspace=True)"
   ]
  },
  {
   "cell_type": "code",
   "execution_count": 7,
   "metadata": {
    "pycharm": {
     "name": "#%%\n"
    }
   },
   "outputs": [],
   "source": [
    "create_table_if_not_exists(cfg, engine, \"county\")\n",
    "create_table_if_not_exists(cfg, engine, \"data\")"
   ]
  },
  {
   "cell_type": "code",
   "execution_count": 8,
   "metadata": {
    "pycharm": {
     "name": "#%%\n"
    }
   },
   "outputs": [],
   "source": [
    "if session.query(County).count() == 0:\n",
    "    response = get_municipies()\n",
    "    for i, county in enumerate(response.json()):\n",
    "        session.add(create_county(county))\n",
    "        make_operation(session)\n",
    "\n",
    "\n",
    "if session.query(DataSP).count() == 0:\n",
    "    dataframe = preprocess(dataframe)\n",
    "    for row in dataframe.iterrows():\n",
    "        session.add(create_datasp(row[1]))\n",
    "        make_operation(session)\n",
    "\n",
    "\n",
    "if session.query(DataSP).filter(DataSP.george == True).count() == 0:\n",
    "    for row in dataframe.iterrows():\n",
    "        if row[1][\"GEORGE\"].lower() == \"sim\":\n",
    "            session.query(DataSP).filter(DataSP.seq == row[1][\"seq\"]).update({\"george\": True}, synchronize_session=False)\n",
    "            make_operation(session)"
   ]
  },
  {
   "cell_type": "code",
   "execution_count": 9,
   "metadata": {
    "pycharm": {
     "name": "#%%\n"
    }
   },
   "outputs": [],
   "source": [
    "def column_is_string_or_varchar_or_text(column):\n",
    "    return str(column.type).lower() in (\"string\", \"varchar\", \"text\")\n",
    "\n",
    "def get_columns_text():\n",
    "    return list([column.key for column in get_columns_table(DataSP) if column_is_string_or_varchar_or_text(column)])\n",
    "\n",
    "\n",
    "def remove_white_spaces(string):\n",
    "    return remove_word_started_lowercase(string).split(\" \")\n",
    "\n",
    "\n",
    "def remove_hyphen(string):\n",
    "    return remove_word_started_lowercase(string).split(\"-\")\n",
    "\n",
    "\n",
    "def remove_word_started_lowercase(string):\n",
    "    return re.sub(r\"\\b[a-z]+\\s*\", \"\", string)\n",
    "\n",
    "\n",
    "def find_and_update(data, list_seq, new_column, value=None):\n",
    "    for columns in list_of_columns_valid:\n",
    "        for data_formatted in (remove_white_spaces(data), remove_hyphen(data)):\n",
    "            if len(data_formatted) > 0:\n",
    "                q = session.query(DataSP.seq).filter(sqlalchemy.and_(\n",
    "                    *[sqlalchemy.func.lower(unaccent(getattr(DataSP, columns))).ilike(f\"%{s.lower()}%\") for s in\n",
    "                      data_formatted])).all()\n",
    "            else:\n",
    "                q = session.query(DataSP.seq).filter(\n",
    "                    sqlalchemy.func.lower(unaccent(getattr(DataSP, columns))).ilike(f\"%{data_formatted}%\")).all()\n",
    "            if len(q) > 0:\n",
    "                list_seq.append({\"seq\": remove_set(q), \"column\": columns, \"new_column\": new_column, \"value_searched\": value if value else data})"
   ]
  },
  {
   "cell_type": "code",
   "execution_count": 10,
   "metadata": {
    "pycharm": {
     "name": "#%%\n"
    }
   },
   "outputs": [],
   "source": [
    "data_piperaceae = session.query(DataSP).all()\n",
    "data_uf = session.query(sqlalchemy.func.lower(unaccent(County.uf))).distinct().all()\n",
    "data_uf_name = session.query(sqlalchemy.func.lower(unaccent(County.uf_name))).distinct().all()\n",
    "data_county = session.query(unaccent(County.county)).filter(County.uf==\"PR\").all()"
   ]
  },
  {
   "cell_type": "code",
   "execution_count": 11,
   "metadata": {
    "pycharm": {
     "name": "#%%\n"
    }
   },
   "outputs": [],
   "source": [
    "def remove_set(data):\n",
    "    return list([s for s, in data])\n",
    "\n",
    "data_uf = remove_set(data_uf)\n",
    "data_uf_name = remove_set(data_uf_name)\n",
    "data_county = remove_set(data_county)\n",
    "data_country = list([\"Brazil\", \"Brasil\"])"
   ]
  },
  {
   "cell_type": "code",
   "execution_count": 12,
   "metadata": {
    "pycharm": {
     "name": "#%%\n"
    }
   },
   "outputs": [],
   "source": [
    "list_seq = list([])\n",
    "list_of_columns_valid = get_columns_text()"
   ]
  },
  {
   "cell_type": "code",
   "execution_count": null,
   "metadata": {
    "pycharm": {
     "name": "#%%\n"
    }
   },
   "outputs": [],
   "source": [
    "start = time.process_time()\n",
    "\n",
    "for d in data_country:\n",
    "    find_and_update(d, list_seq, \"my_country\", value=\"Brasil\")\n",
    "\n",
    "end = time.process_time()\n",
    "elapsed_time = end-start\n",
    "print(f\"elapsed_time: {elapsed_time} seconds\")"
   ]
  },
  {
   "cell_type": "code",
   "execution_count": 13,
   "metadata": {
    "pycharm": {
     "name": "#%%\n"
    }
   },
   "outputs": [
    {
     "name": "stdout",
     "output_type": "stream",
     "text": [
      "elapsed_time: 520.125 seconds\n"
     ]
    }
   ],
   "source": [
    "start = time.process_time()\n",
    "\n",
    "for d in data_uf_name:\n",
    "    find_and_update(d, list_seq, \"my_state\")\n",
    "\n",
    "end = time.process_time()\n",
    "elapsed_time = end-start\n",
    "print(f\"elapsed_time: {elapsed_time} seconds\")"
   ]
  },
  {
   "cell_type": "code",
   "execution_count": null,
   "metadata": {
    "pycharm": {
     "name": "#%%\n"
    }
   },
   "outputs": [],
   "source": [
    "start = time.process_time()\n",
    "\n",
    "for d in data_county:\n",
    "    find_and_update(d, list_seq, \"my_city\")\n",
    "\n",
    "end = time.process_time()\n",
    "elapsed_time = end-start\n",
    "print(f\"elapsed_time: {elapsed_time} seconds\")"
   ]
  },
  {
   "cell_type": "code",
   "execution_count": 14,
   "metadata": {
    "pycharm": {
     "name": "#%%\n"
    }
   },
   "outputs": [
    {
     "ename": "KeyboardInterrupt",
     "evalue": "",
     "output_type": "error",
     "traceback": [
      "\u001b[1;31m---------------------------------------------------------------------------\u001b[0m",
      "\u001b[1;31mKeyboardInterrupt\u001b[0m                         Traceback (most recent call last)",
      "Input \u001b[1;32mIn [14]\u001b[0m, in \u001b[0;36m<cell line: 1>\u001b[1;34m()\u001b[0m\n\u001b[0;32m      1\u001b[0m \u001b[38;5;28;01mfor\u001b[39;00m l \u001b[38;5;129;01min\u001b[39;00m list_seq:\n\u001b[0;32m      2\u001b[0m     \u001b[38;5;28;01mfor\u001b[39;00m y \u001b[38;5;129;01min\u001b[39;00m l[\u001b[38;5;124m\"\u001b[39m\u001b[38;5;124mseq\u001b[39m\u001b[38;5;124m\"\u001b[39m]:\n\u001b[1;32m----> 3\u001b[0m         \u001b[43msession\u001b[49m\u001b[38;5;241;43m.\u001b[39;49m\u001b[43mquery\u001b[49m\u001b[43m(\u001b[49m\u001b[43mDataSP\u001b[49m\u001b[43m)\u001b[49m\u001b[38;5;241;43m.\u001b[39;49m\u001b[43mfilter\u001b[49m\u001b[43m(\u001b[49m\u001b[43mDataSP\u001b[49m\u001b[38;5;241;43m.\u001b[39;49m\u001b[43mseq\u001b[49m\u001b[43m \u001b[49m\u001b[38;5;241;43m==\u001b[39;49m\u001b[43m \u001b[49m\u001b[43my\u001b[49m\u001b[43m)\u001b[49m\u001b[38;5;241;43m.\u001b[39;49m\u001b[43mupdate\u001b[49m\u001b[43m(\u001b[49m\u001b[43mvalues\u001b[49m\u001b[38;5;241;43m=\u001b[39;49m\u001b[38;5;28;43mdict\u001b[39;49m\u001b[43m(\u001b[49m\u001b[43m{\u001b[49m\u001b[43ml\u001b[49m\u001b[43m[\u001b[49m\u001b[38;5;124;43m\"\u001b[39;49m\u001b[38;5;124;43mnew_column\u001b[39;49m\u001b[38;5;124;43m\"\u001b[39;49m\u001b[43m]\u001b[49m\u001b[43m:\u001b[49m\u001b[43m \u001b[49m\u001b[43ml\u001b[49m\u001b[43m[\u001b[49m\u001b[38;5;124;43m\"\u001b[39;49m\u001b[38;5;124;43mvalue_searched\u001b[39;49m\u001b[38;5;124;43m\"\u001b[39;49m\u001b[43m]\u001b[49m\u001b[43m}\u001b[49m\u001b[43m)\u001b[49m\u001b[43m,\u001b[49m\u001b[43m \u001b[49m\u001b[43msynchronize_session\u001b[49m\u001b[38;5;241;43m=\u001b[39;49m\u001b[38;5;28;43;01mFalse\u001b[39;49;00m\u001b[43m)\u001b[49m\n\u001b[0;32m      4\u001b[0m         make_operation(session)\n",
      "File \u001b[1;32m~\\anaconda3\\envs\\py38\\lib\\site-packages\\sqlalchemy\\orm\\query.py:3293\u001b[0m, in \u001b[0;36mQuery.update\u001b[1;34m(self, values, synchronize_session, update_args)\u001b[0m\n\u001b[0;32m   3290\u001b[0m     upd \u001b[38;5;241m=\u001b[39m upd\u001b[38;5;241m.\u001b[39mwith_dialect_options(\u001b[38;5;241m*\u001b[39m\u001b[38;5;241m*\u001b[39mupdate_args)\n\u001b[0;32m   3292\u001b[0m upd\u001b[38;5;241m.\u001b[39m_where_criteria \u001b[38;5;241m=\u001b[39m \u001b[38;5;28mself\u001b[39m\u001b[38;5;241m.\u001b[39m_where_criteria\n\u001b[1;32m-> 3293\u001b[0m result \u001b[38;5;241m=\u001b[39m \u001b[38;5;28;43mself\u001b[39;49m\u001b[38;5;241;43m.\u001b[39;49m\u001b[43msession\u001b[49m\u001b[38;5;241;43m.\u001b[39;49m\u001b[43mexecute\u001b[49m\u001b[43m(\u001b[49m\n\u001b[0;32m   3294\u001b[0m \u001b[43m    \u001b[49m\u001b[43mupd\u001b[49m\u001b[43m,\u001b[49m\n\u001b[0;32m   3295\u001b[0m \u001b[43m    \u001b[49m\u001b[38;5;28;43mself\u001b[39;49m\u001b[38;5;241;43m.\u001b[39;49m\u001b[43m_params\u001b[49m\u001b[43m,\u001b[49m\n\u001b[0;32m   3296\u001b[0m \u001b[43m    \u001b[49m\u001b[43mexecution_options\u001b[49m\u001b[38;5;241;43m=\u001b[39;49m\u001b[43m{\u001b[49m\u001b[38;5;124;43m\"\u001b[39;49m\u001b[38;5;124;43msynchronize_session\u001b[39;49m\u001b[38;5;124;43m\"\u001b[39;49m\u001b[43m:\u001b[49m\u001b[43m \u001b[49m\u001b[43msynchronize_session\u001b[49m\u001b[43m}\u001b[49m\u001b[43m,\u001b[49m\n\u001b[0;32m   3297\u001b[0m \u001b[43m\u001b[49m\u001b[43m)\u001b[49m\n\u001b[0;32m   3298\u001b[0m bulk_ud\u001b[38;5;241m.\u001b[39mresult \u001b[38;5;241m=\u001b[39m result\n\u001b[0;32m   3299\u001b[0m \u001b[38;5;28mself\u001b[39m\u001b[38;5;241m.\u001b[39msession\u001b[38;5;241m.\u001b[39mdispatch\u001b[38;5;241m.\u001b[39mafter_bulk_update(bulk_ud)\n",
      "File \u001b[1;32m~\\anaconda3\\envs\\py38\\lib\\site-packages\\sqlalchemy\\orm\\session.py:1711\u001b[0m, in \u001b[0;36mSession.execute\u001b[1;34m(self, statement, params, execution_options, bind_arguments, _parent_execute_state, _add_event, **kw)\u001b[0m\n\u001b[0;32m   1707\u001b[0m     execution_options \u001b[38;5;241m=\u001b[39m execution_options\u001b[38;5;241m.\u001b[39munion(\n\u001b[0;32m   1708\u001b[0m         \u001b[38;5;28mdict\u001b[39m(future_result\u001b[38;5;241m=\u001b[39m\u001b[38;5;28;01mFalse\u001b[39;00m)\n\u001b[0;32m   1709\u001b[0m     )\n\u001b[0;32m   1710\u001b[0m \u001b[38;5;28;01melse\u001b[39;00m:\n\u001b[1;32m-> 1711\u001b[0m     conn \u001b[38;5;241m=\u001b[39m \u001b[38;5;28;43mself\u001b[39;49m\u001b[38;5;241;43m.\u001b[39;49m\u001b[43m_connection_for_bind\u001b[49m\u001b[43m(\u001b[49m\u001b[43mbind\u001b[49m\u001b[43m)\u001b[49m\n\u001b[0;32m   1712\u001b[0m result \u001b[38;5;241m=\u001b[39m conn\u001b[38;5;241m.\u001b[39m_execute_20(statement, params \u001b[38;5;129;01mor\u001b[39;00m {}, execution_options)\n\u001b[0;32m   1714\u001b[0m \u001b[38;5;28;01mif\u001b[39;00m compile_state_cls:\n",
      "File \u001b[1;32m~\\anaconda3\\envs\\py38\\lib\\site-packages\\sqlalchemy\\orm\\session.py:1552\u001b[0m, in \u001b[0;36mSession._connection_for_bind\u001b[1;34m(self, engine, execution_options, **kw)\u001b[0m\n\u001b[0;32m   1549\u001b[0m TransactionalContext\u001b[38;5;241m.\u001b[39m_trans_ctx_check(\u001b[38;5;28mself\u001b[39m)\n\u001b[0;32m   1551\u001b[0m \u001b[38;5;28;01mif\u001b[39;00m \u001b[38;5;28mself\u001b[39m\u001b[38;5;241m.\u001b[39m_transaction \u001b[38;5;129;01mis\u001b[39;00m \u001b[38;5;129;01mnot\u001b[39;00m \u001b[38;5;28;01mNone\u001b[39;00m \u001b[38;5;129;01mor\u001b[39;00m \u001b[38;5;28mself\u001b[39m\u001b[38;5;241m.\u001b[39m_autobegin():\n\u001b[1;32m-> 1552\u001b[0m     \u001b[38;5;28;01mreturn\u001b[39;00m \u001b[38;5;28;43mself\u001b[39;49m\u001b[38;5;241;43m.\u001b[39;49m\u001b[43m_transaction\u001b[49m\u001b[38;5;241;43m.\u001b[39;49m\u001b[43m_connection_for_bind\u001b[49m\u001b[43m(\u001b[49m\n\u001b[0;32m   1553\u001b[0m \u001b[43m        \u001b[49m\u001b[43mengine\u001b[49m\u001b[43m,\u001b[49m\u001b[43m \u001b[49m\u001b[43mexecution_options\u001b[49m\n\u001b[0;32m   1554\u001b[0m \u001b[43m    \u001b[49m\u001b[43m)\u001b[49m\n\u001b[0;32m   1556\u001b[0m \u001b[38;5;28;01massert\u001b[39;00m \u001b[38;5;28mself\u001b[39m\u001b[38;5;241m.\u001b[39m_transaction \u001b[38;5;129;01mis\u001b[39;00m \u001b[38;5;28;01mNone\u001b[39;00m\n\u001b[0;32m   1557\u001b[0m \u001b[38;5;28;01massert\u001b[39;00m \u001b[38;5;28mself\u001b[39m\u001b[38;5;241m.\u001b[39mautocommit\n",
      "File \u001b[1;32m~\\anaconda3\\envs\\py38\\lib\\site-packages\\sqlalchemy\\orm\\session.py:747\u001b[0m, in \u001b[0;36mSessionTransaction._connection_for_bind\u001b[1;34m(self, bind, execution_options)\u001b[0m\n\u001b[0;32m    742\u001b[0m             \u001b[38;5;28;01mraise\u001b[39;00m sa_exc\u001b[38;5;241m.\u001b[39mInvalidRequestError(\n\u001b[0;32m    743\u001b[0m                 \u001b[38;5;124m\"\u001b[39m\u001b[38;5;124mSession already has a Connection associated for the \u001b[39m\u001b[38;5;124m\"\u001b[39m\n\u001b[0;32m    744\u001b[0m                 \u001b[38;5;124m\"\u001b[39m\u001b[38;5;124mgiven Connection\u001b[39m\u001b[38;5;124m'\u001b[39m\u001b[38;5;124ms Engine\u001b[39m\u001b[38;5;124m\"\u001b[39m\n\u001b[0;32m    745\u001b[0m             )\n\u001b[0;32m    746\u001b[0m     \u001b[38;5;28;01melse\u001b[39;00m:\n\u001b[1;32m--> 747\u001b[0m         conn \u001b[38;5;241m=\u001b[39m \u001b[43mbind\u001b[49m\u001b[38;5;241;43m.\u001b[39;49m\u001b[43mconnect\u001b[49m\u001b[43m(\u001b[49m\u001b[43m)\u001b[49m\n\u001b[0;32m    748\u001b[0m         local_connect \u001b[38;5;241m=\u001b[39m \u001b[38;5;28;01mTrue\u001b[39;00m\n\u001b[0;32m    750\u001b[0m \u001b[38;5;28;01mtry\u001b[39;00m:\n",
      "File \u001b[1;32m~\\anaconda3\\envs\\py38\\lib\\site-packages\\sqlalchemy\\engine\\base.py:3234\u001b[0m, in \u001b[0;36mEngine.connect\u001b[1;34m(self, close_with_result)\u001b[0m\n\u001b[0;32m   3219\u001b[0m \u001b[38;5;28;01mdef\u001b[39;00m \u001b[38;5;21mconnect\u001b[39m(\u001b[38;5;28mself\u001b[39m, close_with_result\u001b[38;5;241m=\u001b[39m\u001b[38;5;28;01mFalse\u001b[39;00m):\n\u001b[0;32m   3220\u001b[0m     \u001b[38;5;124;03m\"\"\"Return a new :class:`_engine.Connection` object.\u001b[39;00m\n\u001b[0;32m   3221\u001b[0m \n\u001b[0;32m   3222\u001b[0m \u001b[38;5;124;03m    The :class:`_engine.Connection` object is a facade that uses a DBAPI\u001b[39;00m\n\u001b[1;32m   (...)\u001b[0m\n\u001b[0;32m   3231\u001b[0m \n\u001b[0;32m   3232\u001b[0m \u001b[38;5;124;03m    \"\"\"\u001b[39;00m\n\u001b[1;32m-> 3234\u001b[0m     \u001b[38;5;28;01mreturn\u001b[39;00m \u001b[38;5;28;43mself\u001b[39;49m\u001b[38;5;241;43m.\u001b[39;49m\u001b[43m_connection_cls\u001b[49m\u001b[43m(\u001b[49m\u001b[38;5;28;43mself\u001b[39;49m\u001b[43m,\u001b[49m\u001b[43m \u001b[49m\u001b[43mclose_with_result\u001b[49m\u001b[38;5;241;43m=\u001b[39;49m\u001b[43mclose_with_result\u001b[49m\u001b[43m)\u001b[49m\n",
      "File \u001b[1;32m~\\anaconda3\\envs\\py38\\lib\\site-packages\\sqlalchemy\\engine\\base.py:96\u001b[0m, in \u001b[0;36mConnection.__init__\u001b[1;34m(self, engine, connection, close_with_result, _branch_from, _execution_options, _dispatch, _has_events, _allow_revalidate)\u001b[0m\n\u001b[0;32m     91\u001b[0m     \u001b[38;5;28mself\u001b[39m\u001b[38;5;241m.\u001b[39m_has_events \u001b[38;5;241m=\u001b[39m _branch_from\u001b[38;5;241m.\u001b[39m_has_events\n\u001b[0;32m     92\u001b[0m \u001b[38;5;28;01melse\u001b[39;00m:\n\u001b[0;32m     93\u001b[0m     \u001b[38;5;28mself\u001b[39m\u001b[38;5;241m.\u001b[39m_dbapi_connection \u001b[38;5;241m=\u001b[39m (\n\u001b[0;32m     94\u001b[0m         connection\n\u001b[0;32m     95\u001b[0m         \u001b[38;5;28;01mif\u001b[39;00m connection \u001b[38;5;129;01mis\u001b[39;00m \u001b[38;5;129;01mnot\u001b[39;00m \u001b[38;5;28;01mNone\u001b[39;00m\n\u001b[1;32m---> 96\u001b[0m         \u001b[38;5;28;01melse\u001b[39;00m \u001b[43mengine\u001b[49m\u001b[38;5;241;43m.\u001b[39;49m\u001b[43mraw_connection\u001b[49m\u001b[43m(\u001b[49m\u001b[43m)\u001b[49m\n\u001b[0;32m     97\u001b[0m     )\n\u001b[0;32m     99\u001b[0m     \u001b[38;5;28mself\u001b[39m\u001b[38;5;241m.\u001b[39m_transaction \u001b[38;5;241m=\u001b[39m \u001b[38;5;28mself\u001b[39m\u001b[38;5;241m.\u001b[39m_nested_transaction \u001b[38;5;241m=\u001b[39m \u001b[38;5;28;01mNone\u001b[39;00m\n\u001b[0;32m    100\u001b[0m     \u001b[38;5;28mself\u001b[39m\u001b[38;5;241m.\u001b[39m__savepoint_seq \u001b[38;5;241m=\u001b[39m \u001b[38;5;241m0\u001b[39m\n",
      "File \u001b[1;32m~\\anaconda3\\envs\\py38\\lib\\site-packages\\sqlalchemy\\engine\\base.py:3313\u001b[0m, in \u001b[0;36mEngine.raw_connection\u001b[1;34m(self, _connection)\u001b[0m\n\u001b[0;32m   3291\u001b[0m \u001b[38;5;28;01mdef\u001b[39;00m \u001b[38;5;21mraw_connection\u001b[39m(\u001b[38;5;28mself\u001b[39m, _connection\u001b[38;5;241m=\u001b[39m\u001b[38;5;28;01mNone\u001b[39;00m):\n\u001b[0;32m   3292\u001b[0m     \u001b[38;5;124;03m\"\"\"Return a \"raw\" DBAPI connection from the connection pool.\u001b[39;00m\n\u001b[0;32m   3293\u001b[0m \n\u001b[0;32m   3294\u001b[0m \u001b[38;5;124;03m    The returned object is a proxied version of the DBAPI\u001b[39;00m\n\u001b[1;32m   (...)\u001b[0m\n\u001b[0;32m   3311\u001b[0m \n\u001b[0;32m   3312\u001b[0m \u001b[38;5;124;03m    \"\"\"\u001b[39;00m\n\u001b[1;32m-> 3313\u001b[0m     \u001b[38;5;28;01mreturn\u001b[39;00m \u001b[38;5;28;43mself\u001b[39;49m\u001b[38;5;241;43m.\u001b[39;49m\u001b[43m_wrap_pool_connect\u001b[49m\u001b[43m(\u001b[49m\u001b[38;5;28;43mself\u001b[39;49m\u001b[38;5;241;43m.\u001b[39;49m\u001b[43mpool\u001b[49m\u001b[38;5;241;43m.\u001b[39;49m\u001b[43mconnect\u001b[49m\u001b[43m,\u001b[49m\u001b[43m \u001b[49m\u001b[43m_connection\u001b[49m\u001b[43m)\u001b[49m\n",
      "File \u001b[1;32m~\\anaconda3\\envs\\py38\\lib\\site-packages\\sqlalchemy\\engine\\base.py:3280\u001b[0m, in \u001b[0;36mEngine._wrap_pool_connect\u001b[1;34m(self, fn, connection)\u001b[0m\n\u001b[0;32m   3278\u001b[0m dialect \u001b[38;5;241m=\u001b[39m \u001b[38;5;28mself\u001b[39m\u001b[38;5;241m.\u001b[39mdialect\n\u001b[0;32m   3279\u001b[0m \u001b[38;5;28;01mtry\u001b[39;00m:\n\u001b[1;32m-> 3280\u001b[0m     \u001b[38;5;28;01mreturn\u001b[39;00m \u001b[43mfn\u001b[49m\u001b[43m(\u001b[49m\u001b[43m)\u001b[49m\n\u001b[0;32m   3281\u001b[0m \u001b[38;5;28;01mexcept\u001b[39;00m dialect\u001b[38;5;241m.\u001b[39mdbapi\u001b[38;5;241m.\u001b[39mError \u001b[38;5;28;01mas\u001b[39;00m e:\n\u001b[0;32m   3282\u001b[0m     \u001b[38;5;28;01mif\u001b[39;00m connection \u001b[38;5;129;01mis\u001b[39;00m \u001b[38;5;28;01mNone\u001b[39;00m:\n",
      "File \u001b[1;32m~\\anaconda3\\envs\\py38\\lib\\site-packages\\sqlalchemy\\pool\\base.py:310\u001b[0m, in \u001b[0;36mPool.connect\u001b[1;34m(self)\u001b[0m\n\u001b[0;32m    302\u001b[0m \u001b[38;5;28;01mdef\u001b[39;00m \u001b[38;5;21mconnect\u001b[39m(\u001b[38;5;28mself\u001b[39m):\n\u001b[0;32m    303\u001b[0m     \u001b[38;5;124;03m\"\"\"Return a DBAPI connection from the pool.\u001b[39;00m\n\u001b[0;32m    304\u001b[0m \n\u001b[0;32m    305\u001b[0m \u001b[38;5;124;03m    The connection is instrumented such that when its\u001b[39;00m\n\u001b[1;32m   (...)\u001b[0m\n\u001b[0;32m    308\u001b[0m \n\u001b[0;32m    309\u001b[0m \u001b[38;5;124;03m    \"\"\"\u001b[39;00m\n\u001b[1;32m--> 310\u001b[0m     \u001b[38;5;28;01mreturn\u001b[39;00m \u001b[43m_ConnectionFairy\u001b[49m\u001b[38;5;241;43m.\u001b[39;49m\u001b[43m_checkout\u001b[49m\u001b[43m(\u001b[49m\u001b[38;5;28;43mself\u001b[39;49m\u001b[43m)\u001b[49m\n",
      "File \u001b[1;32m~\\anaconda3\\envs\\py38\\lib\\site-packages\\sqlalchemy\\pool\\base.py:901\u001b[0m, in \u001b[0;36m_ConnectionFairy._checkout\u001b[1;34m(cls, pool, threadconns, fairy)\u001b[0m\n\u001b[0;32m    896\u001b[0m \u001b[38;5;28;01mif\u001b[39;00m fairy\u001b[38;5;241m.\u001b[39m_echo:\n\u001b[0;32m    897\u001b[0m     pool\u001b[38;5;241m.\u001b[39mlogger\u001b[38;5;241m.\u001b[39mdebug(\n\u001b[0;32m    898\u001b[0m         \u001b[38;5;124m\"\u001b[39m\u001b[38;5;124mPool pre-ping on connection \u001b[39m\u001b[38;5;132;01m%s\u001b[39;00m\u001b[38;5;124m\"\u001b[39m,\n\u001b[0;32m    899\u001b[0m         fairy\u001b[38;5;241m.\u001b[39mdbapi_connection,\n\u001b[0;32m    900\u001b[0m     )\n\u001b[1;32m--> 901\u001b[0m result \u001b[38;5;241m=\u001b[39m \u001b[43mpool\u001b[49m\u001b[38;5;241;43m.\u001b[39;49m\u001b[43m_dialect\u001b[49m\u001b[38;5;241;43m.\u001b[39;49m\u001b[43mdo_ping\u001b[49m\u001b[43m(\u001b[49m\u001b[43mfairy\u001b[49m\u001b[38;5;241;43m.\u001b[39;49m\u001b[43mdbapi_connection\u001b[49m\u001b[43m)\u001b[49m\n\u001b[0;32m    902\u001b[0m \u001b[38;5;28;01mif\u001b[39;00m \u001b[38;5;129;01mnot\u001b[39;00m result:\n\u001b[0;32m    903\u001b[0m     \u001b[38;5;28;01mif\u001b[39;00m fairy\u001b[38;5;241m.\u001b[39m_echo:\n",
      "File \u001b[1;32m~\\anaconda3\\envs\\py38\\lib\\site-packages\\sqlalchemy\\dialects\\postgresql\\psycopg2.py:844\u001b[0m, in \u001b[0;36mPGDialect_psycopg2.do_ping\u001b[1;34m(self, dbapi_connection)\u001b[0m\n\u001b[0;32m    842\u001b[0m cursor \u001b[38;5;241m=\u001b[39m dbapi_connection\u001b[38;5;241m.\u001b[39mcursor()\n\u001b[0;32m    843\u001b[0m \u001b[38;5;28;01mtry\u001b[39;00m:\n\u001b[1;32m--> 844\u001b[0m     \u001b[43mcursor\u001b[49m\u001b[38;5;241;43m.\u001b[39;49m\u001b[43mexecute\u001b[49m\u001b[43m(\u001b[49m\u001b[38;5;28;43mself\u001b[39;49m\u001b[38;5;241;43m.\u001b[39;49m\u001b[43m_dialect_specific_select_one\u001b[49m\u001b[43m)\u001b[49m\n\u001b[0;32m    845\u001b[0m \u001b[38;5;28;01mfinally\u001b[39;00m:\n\u001b[0;32m    846\u001b[0m     cursor\u001b[38;5;241m.\u001b[39mclose()\n",
      "File \u001b[1;32m~\\anaconda3\\envs\\py38\\lib\\encodings\\utf_8.py:15\u001b[0m, in \u001b[0;36mdecode\u001b[1;34m(input, errors)\u001b[0m\n\u001b[0;32m     11\u001b[0m \u001b[38;5;66;03m### Codec APIs\u001b[39;00m\n\u001b[0;32m     13\u001b[0m encode \u001b[38;5;241m=\u001b[39m codecs\u001b[38;5;241m.\u001b[39mutf_8_encode\n\u001b[1;32m---> 15\u001b[0m \u001b[38;5;28;01mdef\u001b[39;00m \u001b[38;5;21mdecode\u001b[39m(\u001b[38;5;28minput\u001b[39m, errors\u001b[38;5;241m=\u001b[39m\u001b[38;5;124m'\u001b[39m\u001b[38;5;124mstrict\u001b[39m\u001b[38;5;124m'\u001b[39m):\n\u001b[0;32m     16\u001b[0m     \u001b[38;5;28;01mreturn\u001b[39;00m codecs\u001b[38;5;241m.\u001b[39mutf_8_decode(\u001b[38;5;28minput\u001b[39m, errors, \u001b[38;5;28;01mTrue\u001b[39;00m)\n\u001b[0;32m     18\u001b[0m \u001b[38;5;28;01mclass\u001b[39;00m \u001b[38;5;21;01mIncrementalEncoder\u001b[39;00m(codecs\u001b[38;5;241m.\u001b[39mIncrementalEncoder):\n",
      "\u001b[1;31mKeyboardInterrupt\u001b[0m: "
     ]
    }
   ],
   "source": [
    "for l in list_seq:\n",
    "    for y in l[\"seq\"]:\n",
    "        session.query(DataSP).filter(DataSP.seq == y).update(values=dict({l[\"new_column\"]: l[\"value_searched\"]}), synchronize_session=False)\n",
    "        make_operation(session)"
   ]
  },
  {
   "cell_type": "code",
   "execution_count": null,
   "metadata": {
    "pycharm": {
     "name": "#%%\n"
    }
   },
   "outputs": [],
   "source": [
    "create_outfile(list_seq)"
   ]
  },
  {
   "cell_type": "code",
   "execution_count": null,
   "metadata": {
    "pycharm": {
     "name": "#%%\n"
    }
   },
   "outputs": [],
   "source": [
    "data_has_only_state = session.query(DataSP.seq, DataSP.my_state).filter(sqlalchemy.and_(DataSP.my_state.is_not(None), DataSP.my_country.is_(None))).all()\n",
    "make_operation(session)\n",
    "\n",
    "for (seq, state) in sorted(data_has_only_state):\n",
    "    session.query(DataSP).filter(DataSP.seq == seq).update(values=dict({\"my_country\": \"Brasil\"}), synchronize_session=False)\n",
    "    make_operation(session)"
   ]
  },
  {
   "cell_type": "code",
   "execution_count": null,
   "metadata": {
    "pycharm": {
     "name": "#%%\n"
    }
   },
   "outputs": [],
   "source": [
    "def get_state_of_city(city):\n",
    "    state_of_city = session.query(County.uf_name).filter(County.county == city).all()\n",
    "    make_operation(session)\n",
    "    return state_of_city\n",
    "\n",
    "data_has_only_county = session.query(DataSP.seq, DataSP.my_city).filter(sqlalchemy.and_(DataSP.my_city.is_not(None), DataSP.my_state.is_(None), DataSP.my_country.is_(None))).all()\n",
    "make_operation(session)\n",
    "\n",
    "print(data_has_only_county)\n",
    "for (seq, city) in data_has_only_county:\n",
    "    state_of_city = get_state_of_city(city)\n",
    "    session.query(DataSP).filter(DataSP.seq == seq).update(values=dict({\"my_state\": state_of_city, \"my_country\": \"Brasil\"}), synchronize_session=False)\n",
    "    make_operation(session)"
   ]
  },
  {
   "cell_type": "code",
   "execution_count": null,
   "metadata": {
    "pycharm": {
     "name": "#%%\n"
    }
   },
   "outputs": [],
   "source": [
    "session.close()\n",
    "engine.dispose()"
   ]
  }
 ],
 "metadata": {
  "kernelspec": {
   "display_name": "Python 3 (ipykernel)",
   "language": "python",
   "name": "python3"
  },
  "language_info": {
   "codemirror_mode": {
    "name": "ipython",
    "version": 3
   },
   "file_extension": ".py",
   "mimetype": "text/x-python",
   "name": "python",
   "nbconvert_exporter": "python",
   "pygments_lexer": "ipython3",
   "version": "3.8.13"
  }
 },
 "nbformat": 4,
 "nbformat_minor": 1
}
