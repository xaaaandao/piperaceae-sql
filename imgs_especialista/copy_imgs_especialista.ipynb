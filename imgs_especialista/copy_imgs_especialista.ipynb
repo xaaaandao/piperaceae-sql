{
 "cells": [
  {
   "cell_type": "code",
   "execution_count": 6,
   "metadata": {},
   "outputs": [],
   "source": [
    "import collections\n",
    "import os\n",
    "\n",
    "import pandas as pd\n",
    "import sqlalchemy.orm\n",
    "from sqlalchemy.orm import Session\n",
    "%reload_ext autoreload\n",
    "%autoreload 2\n",
    "\n",
    "from database import *\n",
    "from file import *\n",
    "from tables import *"
   ]
  },
  {
   "cell_type": "markdown",
   "metadata": {},
   "source": [
    "# cfg"
   ]
  },
  {
   "cell_type": "code",
   "execution_count": 7,
   "metadata": {},
   "outputs": [
    {
     "name": "stdout",
     "output_type": "stream",
     "text": [
      "2022-11-20 16:57:07,305 INFO sqlalchemy.engine.Engine select pg_catalog.version()\n",
      "2022-11-20 16:57:07,306 INFO sqlalchemy.engine.Engine [raw sql] {}\n",
      "2022-11-20 16:57:07,307 INFO sqlalchemy.engine.Engine select current_schema()\n",
      "2022-11-20 16:57:07,308 INFO sqlalchemy.engine.Engine [raw sql] {}\n",
      "2022-11-20 16:57:07,309 INFO sqlalchemy.engine.Engine show standard_conforming_strings\n",
      "2022-11-20 16:57:07,309 INFO sqlalchemy.engine.Engine [raw sql] {}\n"
     ]
    }
   ],
   "source": [
    "user = os.environ['POSTGRE_USER']\n",
    "password = os.environ['POSTGRE_PASSWORD']\n",
    "cfg = {\n",
    "    'host': '192.168.0.144',\n",
    "    'user': user,\n",
    "    'password': password,\n",
    "    'port': '5432',\n",
    "    'database': 'herbario'\n",
    "}\n",
    "\n",
    "session: Session\n",
    "engine, session = connect(cfg)"
   ]
  },
  {
   "cell_type": "code",
   "execution_count": 8,
   "outputs": [],
   "source": [
    "def make_operation_a(session):\n",
    "    try:\n",
    "        session.commit()\n",
    "        session.flush()\n",
    "    except Exception as e:\n",
    "        session.rollback()\n",
    "        print(e)\n",
    "        raise\n",
    "    finally:\n",
    "        session.close()"
   ],
   "metadata": {
    "collapsed": false
   }
  },
  {
   "cell_type": "markdown",
   "source": [
    "## Count images identified per identificator"
   ],
   "metadata": {
    "collapsed": false
   }
  },
  {
   "cell_type": "code",
   "execution_count": 4,
   "outputs": [
    {
     "name": "stdout",
     "output_type": "stream",
     "text": [
      "2022-11-20 14:29:04,080 INFO sqlalchemy.engine.Engine BEGIN (implicit)\n",
      "2022-11-20 14:29:04,084 INFO sqlalchemy.engine.Engine SELECT DISTINCT data.identified_by AS data_identified_by \n",
      "FROM data \n",
      "WHERE data.george = true\n",
      "2022-11-20 14:29:04,085 INFO sqlalchemy.engine.Engine [generated in 0.00068s] {}\n"
     ]
    },
    {
     "data": {
      "text/plain": "(52605, 49)"
     },
     "execution_count": 4,
     "metadata": {},
     "output_type": "execute_result"
    }
   ],
   "source": [
    "list_images = list([file for file in pathlib.Path('/home/xandao/Documentos/dataset-52k-sp-2021/fotos').rglob('*') if file.is_file()])\n",
    "result = session.query(DataSP.identified_by).filter(DataSP.george==True).distinct().all()\n",
    "\n",
    "len(list_images), len(result)"
   ],
   "metadata": {
    "collapsed": false
   }
  },
  {
   "cell_type": "code",
   "execution_count": null,
   "outputs": [],
   "source": [
    "data_count_identified = {'identified': [], 'count': []}\n",
    "for r in result:\n",
    "    identified = r[0]\n",
    "\n",
    "    count_samples_of_identified = session.query(DataSP.genus, DataSP.specific_epithet, DataSP.barcode).filter(DataSP.genus!=None, DataSP.specific_epithet!=None, DataSP.identified_by.ilike(f'%{identified}%')).distinct().count()\n",
    "    make_operation(session)\n",
    "\n",
    "    data_count_identified['identified'].append(identified)\n",
    "    data_count_identified['count'].append(count_samples_of_identified)\n",
    "\n",
    "sheet = pd.DataFrame(data_count_identified)\n",
    "sheet.loc['Total'] = pd.Series(sheet['count'].sum(), index=['count'])\n",
    "sheet.to_excel('count_imgs_especialista_george.xlsx', na_rep='', engine='xlsxwriter', index=None)\n",
    "sheet"
   ],
   "metadata": {
    "collapsed": false
   }
  },
  {
   "cell_type": "markdown",
   "source": [
    "## Create csv with count samples of dataset george and dataset BR"
   ],
   "metadata": {
    "collapsed": false
   }
  },
  {
   "cell_type": "code",
   "execution_count": null,
   "outputs": [],
   "source": [
    "query_george = session.query(DataSP.specific_epithet, sqlalchemy.func.count(DataSP.specific_epithet).label('total')).filter(DataSP.genus!=None, DataSP.specific_epithet!=None, DataSP.george==True).group_by(DataSP.specific_epithet).order_by('total').having(sqlalchemy.func.count(DataSP.specific_epithet) >= 0).all()\n",
    "\n",
    "list_species_datasetgeorge_datasetbr = {'species': [], 'george': [], 'br': []}\n",
    "for q in query_george:\n",
    "    rs = session.query(DataSP.specific_epithet, sqlalchemy.func.count(DataSP.specific_epithet).label('total')).filter(DataSP.genus!=None, DataSP.specific_epithet==q[0], or_(*list_identified)).group_by(DataSP.specific_epithet).order_by('total').having(sqlalchemy.func.count(DataSP.specific_epithet) >= 0).all()\n",
    "    list_species_datasetgeorge_datasetbr['species'].append(q[0])\n",
    "    list_species_datasetgeorge_datasetbr['george'].append(q[1])\n",
    "    if len(rs) > 0:\n",
    "        list_species_datasetgeorge_datasetbr['br'].append(rs[0][1])\n",
    "    else:\n",
    "        list_species_datasetgeorge_datasetbr['br'].append(0)\n",
    "\n",
    "df = pd.DataFrame(list_species_datasetgeorge_datasetbr)\n",
    "df.to_csv('classes-datasetgeorge-datasetbr.csv')"
   ],
   "metadata": {
    "collapsed": false
   }
  },
  {
   "cell_type": "code",
   "execution_count": null,
   "outputs": [],
   "source": [
    "session.close()\n",
    "engine.dispose()"
   ],
   "metadata": {
    "collapsed": false
   }
  },
  {
   "cell_type": "markdown",
   "source": [
    "## Separate images by threshold"
   ],
   "metadata": {
    "collapsed": false
   }
  },
  {
   "cell_type": "code",
   "execution_count": 9,
   "outputs": [],
   "source": [
    "import shutil\n",
    "list_dir = [p for p in pathlib.Path('out').glob('*') if p.is_dir()]\n",
    "\n",
    "for threshold in ['5', '10', '20']:\n",
    "    pathlib.Path(threshold).mkdir(exist_ok=True, parents=True)\n",
    "\n",
    "for p in list_dir:\n",
    "    if len(os.listdir(p)) >= 5:\n",
    "        shutil.copytree(p, os.path.join('5', p.name))\n",
    "    if len(os.listdir(p)) >= 10:\n",
    "        shutil.copytree(p, os.path.join('10', p.name))\n",
    "    if len(os.listdir(p)) >= 20:\n",
    "        shutil.copytree(p, os.path.join('20', p.name))"
   ],
   "metadata": {
    "collapsed": false
   }
  },
  {
   "cell_type": "markdown",
   "source": [
    "## Create file label2.txt"
   ],
   "metadata": {
    "collapsed": false
   }
  },
  {
   "cell_type": "code",
   "execution_count": 10,
   "outputs": [],
   "source": [
    "for threshold in ['5', '10', '20']:\n",
    "    l = []\n",
    "    for i, p in enumerate(pathlib.Path(threshold).glob('*'), 1):\n",
    "        l.append('\\\"%s\\\";\\\"f%d\\\";\\\"%d\\\"\\n' % (p.name, i, len(os.listdir(p))))\n",
    "        dst = str(p.resolve()).replace(f'{p.name}', f'f{i}')\n",
    "        os.rename(p, dst)\n",
    "\n",
    "    f = open(f'{threshold}/label2.txt', mode='w')\n",
    "    for lines in l:\n",
    "        f.write(lines)\n",
    "    f.close()"
   ],
   "metadata": {
    "collapsed": false
   }
  },
  {
   "cell_type": "markdown",
   "source": [
    "## Create out"
   ],
   "metadata": {
    "collapsed": false
   }
  },
  {
   "cell_type": "code",
   "execution_count": 5,
   "outputs": [
    {
     "name": "stdout",
     "output_type": "stream",
     "text": [
      "2022-11-20 14:29:07,612 INFO sqlalchemy.engine.Engine SELECT data.specific_epithet AS data_specific_epithet, data.barcode AS data_barcode \n",
      "FROM data \n",
      "WHERE data.genus IS NOT NULL AND data.specific_epithet IS NOT NULL AND (data.identified_by ILIKE %(identified_by_1)s OR data.identified_by ILIKE %(identified_by_2)s OR data.identified_by ILIKE %(identified_by_3)s OR data.identified_by ILIKE %(identified_by_4)s OR data.identified_by ILIKE %(identified_by_5)s OR data.identified_by ILIKE %(identified_by_6)s OR data.identified_by ILIKE %(identified_by_7)s OR data.identified_by ILIKE %(identified_by_8)s OR data.identified_by ILIKE %(identified_by_9)s OR data.identified_by ILIKE %(identified_by_10)s OR data.identified_by ILIKE %(identified_by_11)s OR data.identified_by ILIKE %(identified_by_12)s OR data.identified_by ILIKE %(identified_by_13)s OR data.identified_by ILIKE %(identified_by_14)s OR data.identified_by ILIKE %(identified_by_15)s OR data.identified_by ILIKE %(identified_by_16)s OR data.identified_by ILIKE %(identified_by_17)s OR data.identified_by ILIKE %(identified_by_18)s OR data.identified_by ILIKE %(identified_by_19)s OR data.identified_by ILIKE %(identified_by_20)s OR data.identified_by ILIKE %(identified_by_21)s OR data.identified_by ILIKE %(identified_by_22)s OR data.identified_by ILIKE %(identified_by_23)s OR data.identified_by ILIKE %(identified_by_24)s OR data.identified_by ILIKE %(identified_by_25)s OR data.identified_by ILIKE %(identified_by_26)s OR data.identified_by ILIKE %(identified_by_27)s OR data.identified_by ILIKE %(identified_by_28)s OR data.identified_by ILIKE %(identified_by_29)s OR data.identified_by ILIKE %(identified_by_30)s OR data.identified_by ILIKE %(identified_by_31)s OR data.identified_by ILIKE %(identified_by_32)s OR data.identified_by ILIKE %(identified_by_33)s OR data.identified_by ILIKE %(identified_by_34)s OR data.identified_by ILIKE %(identified_by_35)s OR data.identified_by ILIKE %(identified_by_36)s OR data.identified_by ILIKE %(identified_by_37)s OR data.identified_by ILIKE %(identified_by_38)s OR data.identified_by ILIKE %(identified_by_39)s OR data.identified_by ILIKE %(identified_by_40)s OR data.identified_by ILIKE %(identified_by_41)s OR data.identified_by ILIKE %(identified_by_42)s OR data.identified_by ILIKE %(identified_by_43)s OR data.identified_by ILIKE %(identified_by_44)s OR data.identified_by ILIKE %(identified_by_45)s OR data.identified_by ILIKE %(identified_by_46)s OR data.identified_by ILIKE %(identified_by_47)s OR data.identified_by ILIKE %(identified_by_48)s OR data.identified_by ILIKE %(identified_by_49)s)\n",
      "2022-11-20 14:29:07,612 INFO sqlalchemy.engine.Engine [generated in 0.00090s] {'identified_by_1': '%Callejas, R%', 'identified_by_2': '%Callejas, R.%', 'identified_by_3': '%Calleras, R.%', 'identified_by_4': '%Carvalho, MLS%', 'identified_by_5': '%Carvalho, MS%', 'identified_by_6': '%Carvalho Silva, M%', 'identified_by_7': '%Carvalho-Silva, M%', 'identified_by_8': '%Carvalho-Silva, M.%', 'identified_by_9': '%C. L. F. Ichaso%', 'identified_by_10': '%D. Monteiro%', 'identified_by_11': '%D.Monteiro%', 'identified_by_12': '%E. F. Guimarães%', 'identified_by_13': '%E.F. Guimarães%', 'identified_by_14': '%E.F.Guimarães%', 'identified_by_15': '%E. F. Guimarães; C. L. F. Ichaso%', 'identified_by_16': '%E. Guimarães%', 'identified_by_17': '%E. Guimarães/2009%', 'identified_by_18': '%Elsie F. Guimarães%', 'identified_by_19': '%Elsie Franklin Guimarães%', 'identified_by_20': '%Guimarães, E%', 'identified_by_21': '%Guimarães, E.%', 'identified_by_22': '%Guimarães E.F.%', 'identified_by_23': '%Guimarães, E.F.%', 'identified_by_24': '%Guimarães, EF%', 'identified_by_25': '%Guimarães, EF; Carvalho, MS%', 'identified_by_26': '%Guimarães, EF; V. Catarelli%', 'identified_by_27': '%Guimarães, E.G.%', 'identified_by_28': '%M. Carvalho%', 'identified_by_29': '%M. Carvalho-Silva%', 'identified_by_30': '%M.Carvalho-Silva%', 'identified_by_31': '%Medeiros, E von S%', 'identified_by_32': '%Melo, A%', 'identified_by_33': '%Monteiro, D%', 'identified_by_34': '%Monteiro, D.%', 'identified_by_35': '%Queiroz%', 'identified_by_36': '%Queiroz, G.A.%', 'identified_by_37': '%R. Callejas Posada%', 'identified_by_38': '%Ruschel, D%', 'identified_by_39': '%Ruschel, D.%', 'identified_by_40': '%Rushel, D.%', 'identified_by_41': '%Silva, M.C.%', 'identified_by_42': '%Silva, MC%', 'identified_by_43': '%Silva, MCR%', 'identified_by_44': '%Tepe, EJ%', 'identified_by_45': '%T. G. Yuncker%', 'identified_by_46': '%W. Trelease%', 'identified_by_47': '%Yuncher, T.G.%', 'identified_by_48': '%Yuncker, T.G.%', 'identified_by_49': '%Yuncku, T.G.%'}\n"
     ]
    }
   ],
   "source": [
    "import shutil\n",
    "from sqlalchemy import or_\n",
    "\n",
    "list_identified = [DataSP.identified_by.ilike('%{}%'.format(r[0])) for r in result]\n",
    "\n",
    "query = session.query(DataSP.specific_epithet, DataSP.barcode).filter(DataSP.genus!=None, DataSP.specific_epithet!=None, or_(*list_identified)).all()\n",
    "\n",
    "path = 'out'\n",
    "pathlib.Path(path).mkdir(parents=True, exist_ok=True)\n",
    "for barcode in query:\n",
    "    result = sorted([f for f in list_images if barcode[1] in str(f.stem)])\n",
    "    if len(result) > 0:\n",
    "        if not os.path.exists(os.path.join(path, barcode[0])):\n",
    "            pathlib.Path(os.path.join(path, barcode[0])).mkdir(parents=True, exist_ok=True)\n",
    "\n",
    "        # print(result[0].name)\n",
    "        result = [result[0]]\n",
    "        for r in result:\n",
    "            dst = os.path.join(path, barcode[0], r.name)\n",
    "            shutil.copy(r, dst)"
   ],
   "metadata": {
    "collapsed": false
   }
  },
  {
   "cell_type": "code",
   "execution_count": null,
   "outputs": [],
   "source": [],
   "metadata": {
    "collapsed": false
   }
  }
 ],
 "metadata": {
  "kernelspec": {
   "display_name": "Python 3 (ipykernel)",
   "language": "python",
   "name": "python3"
  },
  "language_info": {
   "codemirror_mode": {
    "name": "ipython",
    "version": 3
   },
   "file_extension": ".py",
   "mimetype": "text/x-python",
   "name": "python",
   "nbconvert_exporter": "python",
   "pygments_lexer": "ipython3",
   "version": "3.8.13"
  }
 },
 "nbformat": 4,
 "nbformat_minor": 1
}
