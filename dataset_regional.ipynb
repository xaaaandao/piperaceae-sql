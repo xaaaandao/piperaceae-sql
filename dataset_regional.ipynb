{
 "cells": [
  {
   "cell_type": "code",
   "execution_count": 9,
   "outputs": [
    {
     "name": "stdout",
     "output_type": "stream",
     "text": [
      "The autoreload extension is already loaded. To reload it, use:\n",
      "  %reload_ext autoreload\n"
     ]
    }
   ],
   "source": [
    "%reload_ext autoreload\n",
    "%load_ext autoreload\n",
    "%autoreload 2"
   ],
   "metadata": {
    "collapsed": false
   }
  },
  {
   "cell_type": "code",
   "execution_count": 10,
   "outputs": [],
   "source": [
    "import os\n",
    "import pandas as pd\n",
    "import sqlalchemy as sa\n",
    "\n",
    "import database as db\n",
    "\n",
    "from images import copy_images, get_list_of_images_invalid, remove_images_invalid, separate_and_copy_images\n",
    "from tables import County, DataTrustedIdentifier, InfoImage"
   ],
   "metadata": {
    "collapsed": false
   }
  },
  {
   "cell_type": "markdown",
   "source": [
    "## Database connection"
   ],
   "metadata": {
    "collapsed": false
   }
  },
  {
   "cell_type": "code",
   "execution_count": 11,
   "outputs": [
    {
     "name": "stdout",
     "output_type": "stream",
     "text": [
      "2023-03-24 00:00:43,516 INFO sqlalchemy.engine.Engine select pg_catalog.version()\n",
      "2023-03-24 00:00:43,517 INFO sqlalchemy.engine.Engine [raw sql] {}\n",
      "2023-03-24 00:00:43,527 INFO sqlalchemy.engine.Engine select current_schema()\n",
      "2023-03-24 00:00:43,527 INFO sqlalchemy.engine.Engine [raw sql] {}\n",
      "2023-03-24 00:00:43,537 INFO sqlalchemy.engine.Engine show standard_conforming_strings\n",
      "2023-03-24 00:00:43,537 INFO sqlalchemy.engine.Engine [raw sql] {}\n"
     ]
    }
   ],
   "source": [
    "engine, session = db.connect()\n",
    "engine.echo = False"
   ],
   "metadata": {
    "collapsed": false
   }
  },
  {
   "cell_type": "markdown",
   "source": [
    "## List of images invalid"
   ],
   "metadata": {
    "collapsed": false
   }
  },
  {
   "cell_type": "code",
   "execution_count": 12,
   "outputs": [
    {
     "data": {
      "text/plain": "       barcode      reason\n0  INPA0248526  horizontal\n1  INPA0248523  horizontal\n2  INPA0248528  horizontal",
      "text/html": "<div>\n<style scoped>\n    .dataframe tbody tr th:only-of-type {\n        vertical-align: middle;\n    }\n\n    .dataframe tbody tr th {\n        vertical-align: top;\n    }\n\n    .dataframe thead th {\n        text-align: right;\n    }\n</style>\n<table border=\"1\" class=\"dataframe\">\n  <thead>\n    <tr style=\"text-align: right;\">\n      <th></th>\n      <th>barcode</th>\n      <th>reason</th>\n    </tr>\n  </thead>\n  <tbody>\n    <tr>\n      <th>0</th>\n      <td>INPA0248526</td>\n      <td>horizontal</td>\n    </tr>\n    <tr>\n      <th>1</th>\n      <td>INPA0248523</td>\n      <td>horizontal</td>\n    </tr>\n    <tr>\n      <th>2</th>\n      <td>INPA0248528</td>\n      <td>horizontal</td>\n    </tr>\n  </tbody>\n</table>\n</div>"
     },
     "execution_count": 12,
     "metadata": {},
     "output_type": "execute_result"
    }
   ],
   "source": [
    "list_images_invalid = get_list_of_images_invalid()\n",
    "pd.DataFrame(list_images_invalid).head(3)"
   ],
   "metadata": {
    "collapsed": false
   }
  },
  {
   "cell_type": "markdown",
   "source": [
    "## Define variable for build dataset"
   ],
   "metadata": {
    "collapsed": false
   }
  },
  {
   "cell_type": "code",
   "execution_count": 13,
   "outputs": [],
   "source": [
    "list_minimum_image=[5, 10, 20]\n",
    "list_regioes = ['Norte', 'Nordeste', 'Centro-Oeste', 'Sudeste', 'Sul']\n",
    "list_color=['rgb', 'grayscale']\n",
    "list_image_size=['256', '400', '512']\n",
    "path_out = '/home/xandao/Imagens/regioes_dataset'"
   ],
   "metadata": {
    "collapsed": false
   }
  },
  {
   "cell_type": "markdown",
   "source": [
    "## copy images"
   ],
   "metadata": {
    "collapsed": false
   }
  },
  {
   "cell_type": "code",
   "execution_count": 14,
   "outputs": [
    {
     "name": "stdout",
     "output_type": "stream",
     "text": [
      "specie: aleyreanum before: 49 after: 48\n",
      "diff: ['/home/xandao/Documentos/RGB/512/w_pred_mask/INPA0023115.jpeg']\n",
      "specie: arboreum before: 114 after: 113\n",
      "diff: ['/home/xandao/Documentos/RGB/512/w_pred_mask/INPA0248528.jpeg']\n",
      "specie: bartlingianum before: 144 after: 143\n",
      "diff: ['/home/xandao/Documentos/RGB/512/w_pred_mask/NY01421575_01.jpeg']\n",
      "specie: belterraense before: 14 after: 13\n",
      "diff: ['/home/xandao/Documentos/RGB/512/w_pred_mask/NL-U1484137.jpeg']\n",
      "specie: callosum before: 46 after: 45\n",
      "diff: ['/home/xandao/Documentos/RGB/512/w_pred_mask/INPA0022379_nd.jpeg']\n",
      "specie: hispidum before: 118 after: 117\n",
      "diff: ['/home/xandao/Documentos/RGB/512/w_pred_mask/INPA0032742_nd.jpeg']\n",
      "specie: hostmannianum before: 140 after: 138\n",
      "diff: ['/home/xandao/Documentos/RGB/512/w_pred_mask/INPA0248526.jpeg', '/home/xandao/Documentos/RGB/512/w_pred_mask/INPA0248523.jpeg']\n",
      "specie: peltatum before: 52 after: 51\n",
      "diff: ['/home/xandao/Documentos/RGB/512/w_pred_mask/INPA0146998.jpeg']\n",
      "specie: piresii before: 38 after: 37\n",
      "diff: ['/home/xandao/Documentos/RGB/512/w_pred_mask/INPA0019084_nd.jpeg']\n",
      "specie: spruceana before: 15 after: 14\n",
      "diff: ['/home/xandao/Documentos/RGB/512/w_pred_mask/INPA0012286.jpeg']\n"
     ]
    },
    {
     "data": {
      "text/plain": "'color: rgb image_size: 512 minimum_image: 5'"
     },
     "metadata": {},
     "output_type": "display_data"
    },
    {
     "data": {
      "text/plain": "'len(list_level_name): 107 len(paths_images): 2650'"
     },
     "metadata": {},
     "output_type": "display_data"
    },
    {
     "data": {
      "text/plain": "'save csv in /home/xandao/Imagens/regioes_dataset/Norte/RGB/512/5/dataset_informations.csv'"
     },
     "metadata": {},
     "output_type": "display_data"
    },
    {
     "data": {
      "text/plain": "   species                                              paths  count  \\\n0  aduncum  [/home/xandao/Documentos/RGB/512/w_pred_mask/C...     48   \n1  aequale  [/home/xandao/Documentos/RGB/512/w_pred_mask/C...      9   \n2    alata  [/home/xandao/Documentos/RGB/512/w_pred_mask/I...      8   \n\n                                                 dst  \n0  /home/xandao/Imagens/regioes_dataset/Norte/RGB...  \n1  /home/xandao/Imagens/regioes_dataset/Norte/RGB...  \n2  /home/xandao/Imagens/regioes_dataset/Norte/RGB...  ",
      "text/html": "<div>\n<style scoped>\n    .dataframe tbody tr th:only-of-type {\n        vertical-align: middle;\n    }\n\n    .dataframe tbody tr th {\n        vertical-align: top;\n    }\n\n    .dataframe thead th {\n        text-align: right;\n    }\n</style>\n<table border=\"1\" class=\"dataframe\">\n  <thead>\n    <tr style=\"text-align: right;\">\n      <th></th>\n      <th>species</th>\n      <th>paths</th>\n      <th>count</th>\n      <th>dst</th>\n    </tr>\n  </thead>\n  <tbody>\n    <tr>\n      <th>0</th>\n      <td>aduncum</td>\n      <td>[/home/xandao/Documentos/RGB/512/w_pred_mask/C...</td>\n      <td>48</td>\n      <td>/home/xandao/Imagens/regioes_dataset/Norte/RGB...</td>\n    </tr>\n    <tr>\n      <th>1</th>\n      <td>aequale</td>\n      <td>[/home/xandao/Documentos/RGB/512/w_pred_mask/C...</td>\n      <td>9</td>\n      <td>/home/xandao/Imagens/regioes_dataset/Norte/RGB...</td>\n    </tr>\n    <tr>\n      <th>2</th>\n      <td>alata</td>\n      <td>[/home/xandao/Documentos/RGB/512/w_pred_mask/I...</td>\n      <td>8</td>\n      <td>/home/xandao/Imagens/regioes_dataset/Norte/RGB...</td>\n    </tr>\n  </tbody>\n</table>\n</div>"
     },
     "metadata": {},
     "output_type": "display_data"
    },
    {
     "data": {
      "text/plain": "'total of images 2650'"
     },
     "metadata": {},
     "output_type": "display_data"
    },
    {
     "data": {
      "text/plain": "'image informations'"
     },
     "metadata": {},
     "output_type": "display_data"
    },
    {
     "data": {
      "text/plain": "'save csv in /home/xandao/Imagens/regioes_dataset/Norte/RGB/512/5/image_informations.csv'"
     },
     "metadata": {},
     "output_type": "display_data"
    },
    {
     "data": {
      "text/plain": "     seq  genus specific_epithet catalog_number      barcode  \\\n0  11358  Piper         callosum          68638  CEN00068638   \n1  11893  Piper          aduncum          94895  CEN00094895   \n2  11972  Piper    bartlingianum          36949  CEN00036949   \n\n                                          path_image institution_code  \\\n0  /home/xandao/Documentos/RGB/512/w_pred_mask/CE...         Cenargen   \n1  /home/xandao/Documentos/RGB/512/w_pred_mask/CE...         Cenargen   \n2  /home/xandao/Documentos/RGB/512/w_pred_mask/CE...         Cenargen   \n\n  collection_code                                                url  \n0             CEN  https://specieslink.net/search/util/osd-dezoom...  \n1             CEN  https://specieslink.net/search/util/osd-dezoom...  \n2             CEN  https://specieslink.net/search/util/osd-dezoom...  ",
      "text/html": "<div>\n<style scoped>\n    .dataframe tbody tr th:only-of-type {\n        vertical-align: middle;\n    }\n\n    .dataframe tbody tr th {\n        vertical-align: top;\n    }\n\n    .dataframe thead th {\n        text-align: right;\n    }\n</style>\n<table border=\"1\" class=\"dataframe\">\n  <thead>\n    <tr style=\"text-align: right;\">\n      <th></th>\n      <th>seq</th>\n      <th>genus</th>\n      <th>specific_epithet</th>\n      <th>catalog_number</th>\n      <th>barcode</th>\n      <th>path_image</th>\n      <th>institution_code</th>\n      <th>collection_code</th>\n      <th>url</th>\n    </tr>\n  </thead>\n  <tbody>\n    <tr>\n      <th>0</th>\n      <td>11358</td>\n      <td>Piper</td>\n      <td>callosum</td>\n      <td>68638</td>\n      <td>CEN00068638</td>\n      <td>/home/xandao/Documentos/RGB/512/w_pred_mask/CE...</td>\n      <td>Cenargen</td>\n      <td>CEN</td>\n      <td>https://specieslink.net/search/util/osd-dezoom...</td>\n    </tr>\n    <tr>\n      <th>1</th>\n      <td>11893</td>\n      <td>Piper</td>\n      <td>aduncum</td>\n      <td>94895</td>\n      <td>CEN00094895</td>\n      <td>/home/xandao/Documentos/RGB/512/w_pred_mask/CE...</td>\n      <td>Cenargen</td>\n      <td>CEN</td>\n      <td>https://specieslink.net/search/util/osd-dezoom...</td>\n    </tr>\n    <tr>\n      <th>2</th>\n      <td>11972</td>\n      <td>Piper</td>\n      <td>bartlingianum</td>\n      <td>36949</td>\n      <td>CEN00036949</td>\n      <td>/home/xandao/Documentos/RGB/512/w_pred_mask/CE...</td>\n      <td>Cenargen</td>\n      <td>CEN</td>\n      <td>https://specieslink.net/search/util/osd-dezoom...</td>\n    </tr>\n  </tbody>\n</table>\n</div>"
     },
     "metadata": {},
     "output_type": "display_data"
    },
    {
     "name": "stdout",
     "output_type": "stream",
     "text": [
      "specie: aleyreanum before: 49 after: 48\n",
      "diff: ['/home/xandao/Documentos/RGB/512/w_pred_mask/INPA0023115.jpeg']\n",
      "specie: arboreum before: 114 after: 113\n",
      "diff: ['/home/xandao/Documentos/RGB/512/w_pred_mask/INPA0248528.jpeg']\n",
      "specie: bartlingianum before: 144 after: 143\n",
      "diff: ['/home/xandao/Documentos/RGB/512/w_pred_mask/NY01421575_01.jpeg']\n",
      "specie: belterraense before: 14 after: 13\n",
      "diff: ['/home/xandao/Documentos/RGB/512/w_pred_mask/NL-U1484137.jpeg']\n",
      "specie: callosum before: 46 after: 45\n",
      "diff: ['/home/xandao/Documentos/RGB/512/w_pred_mask/INPA0022379_nd.jpeg']\n",
      "specie: hispidum before: 118 after: 117\n",
      "diff: ['/home/xandao/Documentos/RGB/512/w_pred_mask/INPA0032742_nd.jpeg']\n",
      "specie: hostmannianum before: 140 after: 138\n",
      "diff: ['/home/xandao/Documentos/RGB/512/w_pred_mask/INPA0248526.jpeg', '/home/xandao/Documentos/RGB/512/w_pred_mask/INPA0248523.jpeg']\n",
      "specie: peltatum before: 52 after: 51\n",
      "diff: ['/home/xandao/Documentos/RGB/512/w_pred_mask/INPA0146998.jpeg']\n",
      "specie: piresii before: 38 after: 37\n",
      "diff: ['/home/xandao/Documentos/RGB/512/w_pred_mask/INPA0019084_nd.jpeg']\n",
      "specie: spruceana before: 15 after: 14\n",
      "diff: ['/home/xandao/Documentos/RGB/512/w_pred_mask/INPA0012286.jpeg']\n"
     ]
    },
    {
     "data": {
      "text/plain": "'color: rgb image_size: 512 minimum_image: 10'"
     },
     "metadata": {},
     "output_type": "display_data"
    },
    {
     "data": {
      "text/plain": "'len(list_level_name): 68 len(paths_images): 2366'"
     },
     "metadata": {},
     "output_type": "display_data"
    },
    {
     "data": {
      "text/plain": "'save csv in /home/xandao/Imagens/regioes_dataset/Norte/RGB/512/5/RGB/512/10/dataset_informations.csv'"
     },
     "metadata": {},
     "output_type": "display_data"
    },
    {
     "data": {
      "text/plain": "       species                                              paths  count  \\\n0      aduncum  [/home/xandao/Documentos/RGB/512/w_pred_mask/C...     48   \n1  alatabaccum  [/home/xandao/Documentos/RGB/512/w_pred_mask/I...     28   \n2   aleyreanum  [/home/xandao/Documentos/RGB/512/w_pred_mask/I...     48   \n\n                                                 dst  \n0  /home/xandao/Imagens/regioes_dataset/Norte/RGB...  \n1  /home/xandao/Imagens/regioes_dataset/Norte/RGB...  \n2  /home/xandao/Imagens/regioes_dataset/Norte/RGB...  ",
      "text/html": "<div>\n<style scoped>\n    .dataframe tbody tr th:only-of-type {\n        vertical-align: middle;\n    }\n\n    .dataframe tbody tr th {\n        vertical-align: top;\n    }\n\n    .dataframe thead th {\n        text-align: right;\n    }\n</style>\n<table border=\"1\" class=\"dataframe\">\n  <thead>\n    <tr style=\"text-align: right;\">\n      <th></th>\n      <th>species</th>\n      <th>paths</th>\n      <th>count</th>\n      <th>dst</th>\n    </tr>\n  </thead>\n  <tbody>\n    <tr>\n      <th>0</th>\n      <td>aduncum</td>\n      <td>[/home/xandao/Documentos/RGB/512/w_pred_mask/C...</td>\n      <td>48</td>\n      <td>/home/xandao/Imagens/regioes_dataset/Norte/RGB...</td>\n    </tr>\n    <tr>\n      <th>1</th>\n      <td>alatabaccum</td>\n      <td>[/home/xandao/Documentos/RGB/512/w_pred_mask/I...</td>\n      <td>28</td>\n      <td>/home/xandao/Imagens/regioes_dataset/Norte/RGB...</td>\n    </tr>\n    <tr>\n      <th>2</th>\n      <td>aleyreanum</td>\n      <td>[/home/xandao/Documentos/RGB/512/w_pred_mask/I...</td>\n      <td>48</td>\n      <td>/home/xandao/Imagens/regioes_dataset/Norte/RGB...</td>\n    </tr>\n  </tbody>\n</table>\n</div>"
     },
     "metadata": {},
     "output_type": "display_data"
    },
    {
     "data": {
      "text/plain": "'total of images 2366'"
     },
     "metadata": {},
     "output_type": "display_data"
    },
    {
     "data": {
      "text/plain": "'image informations'"
     },
     "metadata": {},
     "output_type": "display_data"
    },
    {
     "data": {
      "text/plain": "'save csv in /home/xandao/Imagens/regioes_dataset/Norte/RGB/512/5/RGB/512/10/image_informations.csv'"
     },
     "metadata": {},
     "output_type": "display_data"
    },
    {
     "data": {
      "text/plain": "     seq  genus specific_epithet catalog_number      barcode  \\\n0  11358  Piper         callosum          68638  CEN00068638   \n1  11893  Piper          aduncum          94895  CEN00094895   \n2  11972  Piper    bartlingianum          36949  CEN00036949   \n\n                                          path_image institution_code  \\\n0  /home/xandao/Documentos/RGB/512/w_pred_mask/CE...         Cenargen   \n1  /home/xandao/Documentos/RGB/512/w_pred_mask/CE...         Cenargen   \n2  /home/xandao/Documentos/RGB/512/w_pred_mask/CE...         Cenargen   \n\n  collection_code                                                url  \n0             CEN  https://specieslink.net/search/util/osd-dezoom...  \n1             CEN  https://specieslink.net/search/util/osd-dezoom...  \n2             CEN  https://specieslink.net/search/util/osd-dezoom...  ",
      "text/html": "<div>\n<style scoped>\n    .dataframe tbody tr th:only-of-type {\n        vertical-align: middle;\n    }\n\n    .dataframe tbody tr th {\n        vertical-align: top;\n    }\n\n    .dataframe thead th {\n        text-align: right;\n    }\n</style>\n<table border=\"1\" class=\"dataframe\">\n  <thead>\n    <tr style=\"text-align: right;\">\n      <th></th>\n      <th>seq</th>\n      <th>genus</th>\n      <th>specific_epithet</th>\n      <th>catalog_number</th>\n      <th>barcode</th>\n      <th>path_image</th>\n      <th>institution_code</th>\n      <th>collection_code</th>\n      <th>url</th>\n    </tr>\n  </thead>\n  <tbody>\n    <tr>\n      <th>0</th>\n      <td>11358</td>\n      <td>Piper</td>\n      <td>callosum</td>\n      <td>68638</td>\n      <td>CEN00068638</td>\n      <td>/home/xandao/Documentos/RGB/512/w_pred_mask/CE...</td>\n      <td>Cenargen</td>\n      <td>CEN</td>\n      <td>https://specieslink.net/search/util/osd-dezoom...</td>\n    </tr>\n    <tr>\n      <th>1</th>\n      <td>11893</td>\n      <td>Piper</td>\n      <td>aduncum</td>\n      <td>94895</td>\n      <td>CEN00094895</td>\n      <td>/home/xandao/Documentos/RGB/512/w_pred_mask/CE...</td>\n      <td>Cenargen</td>\n      <td>CEN</td>\n      <td>https://specieslink.net/search/util/osd-dezoom...</td>\n    </tr>\n    <tr>\n      <th>2</th>\n      <td>11972</td>\n      <td>Piper</td>\n      <td>bartlingianum</td>\n      <td>36949</td>\n      <td>CEN00036949</td>\n      <td>/home/xandao/Documentos/RGB/512/w_pred_mask/CE...</td>\n      <td>Cenargen</td>\n      <td>CEN</td>\n      <td>https://specieslink.net/search/util/osd-dezoom...</td>\n    </tr>\n  </tbody>\n</table>\n</div>"
     },
     "metadata": {},
     "output_type": "display_data"
    },
    {
     "name": "stdout",
     "output_type": "stream",
     "text": [
      "specie: aleyreanum before: 49 after: 48\n",
      "diff: ['/home/xandao/Documentos/RGB/512/w_pred_mask/INPA0023115.jpeg']\n",
      "specie: arboreum before: 114 after: 113\n",
      "diff: ['/home/xandao/Documentos/RGB/512/w_pred_mask/INPA0248528.jpeg']\n",
      "specie: bartlingianum before: 144 after: 143\n",
      "diff: ['/home/xandao/Documentos/RGB/512/w_pred_mask/NY01421575_01.jpeg']\n",
      "specie: callosum before: 46 after: 45\n",
      "diff: ['/home/xandao/Documentos/RGB/512/w_pred_mask/INPA0022379_nd.jpeg']\n",
      "specie: hispidum before: 118 after: 117\n",
      "diff: ['/home/xandao/Documentos/RGB/512/w_pred_mask/INPA0032742_nd.jpeg']\n",
      "specie: hostmannianum before: 140 after: 138\n",
      "diff: ['/home/xandao/Documentos/RGB/512/w_pred_mask/INPA0248526.jpeg', '/home/xandao/Documentos/RGB/512/w_pred_mask/INPA0248523.jpeg']\n",
      "specie: peltatum before: 52 after: 51\n",
      "diff: ['/home/xandao/Documentos/RGB/512/w_pred_mask/INPA0146998.jpeg']\n",
      "specie: piresii before: 38 after: 37\n",
      "diff: ['/home/xandao/Documentos/RGB/512/w_pred_mask/INPA0019084_nd.jpeg']\n"
     ]
    },
    {
     "data": {
      "text/plain": "'color: rgb image_size: 512 minimum_image: 20'"
     },
     "metadata": {},
     "output_type": "display_data"
    },
    {
     "data": {
      "text/plain": "'len(list_level_name): 41 len(paths_images): 2029'"
     },
     "metadata": {},
     "output_type": "display_data"
    },
    {
     "data": {
      "text/plain": "'save csv in /home/xandao/Imagens/regioes_dataset/Norte/RGB/512/5/RGB/512/10/RGB/512/20/dataset_informations.csv'"
     },
     "metadata": {},
     "output_type": "display_data"
    },
    {
     "data": {
      "text/plain": "       species                                              paths  count  \\\n0      aduncum  [/home/xandao/Documentos/RGB/512/w_pred_mask/C...     48   \n1  alatabaccum  [/home/xandao/Documentos/RGB/512/w_pred_mask/I...     28   \n2   aleyreanum  [/home/xandao/Documentos/RGB/512/w_pred_mask/I...     48   \n\n                                                 dst  \n0  /home/xandao/Imagens/regioes_dataset/Norte/RGB...  \n1  /home/xandao/Imagens/regioes_dataset/Norte/RGB...  \n2  /home/xandao/Imagens/regioes_dataset/Norte/RGB...  ",
      "text/html": "<div>\n<style scoped>\n    .dataframe tbody tr th:only-of-type {\n        vertical-align: middle;\n    }\n\n    .dataframe tbody tr th {\n        vertical-align: top;\n    }\n\n    .dataframe thead th {\n        text-align: right;\n    }\n</style>\n<table border=\"1\" class=\"dataframe\">\n  <thead>\n    <tr style=\"text-align: right;\">\n      <th></th>\n      <th>species</th>\n      <th>paths</th>\n      <th>count</th>\n      <th>dst</th>\n    </tr>\n  </thead>\n  <tbody>\n    <tr>\n      <th>0</th>\n      <td>aduncum</td>\n      <td>[/home/xandao/Documentos/RGB/512/w_pred_mask/C...</td>\n      <td>48</td>\n      <td>/home/xandao/Imagens/regioes_dataset/Norte/RGB...</td>\n    </tr>\n    <tr>\n      <th>1</th>\n      <td>alatabaccum</td>\n      <td>[/home/xandao/Documentos/RGB/512/w_pred_mask/I...</td>\n      <td>28</td>\n      <td>/home/xandao/Imagens/regioes_dataset/Norte/RGB...</td>\n    </tr>\n    <tr>\n      <th>2</th>\n      <td>aleyreanum</td>\n      <td>[/home/xandao/Documentos/RGB/512/w_pred_mask/I...</td>\n      <td>48</td>\n      <td>/home/xandao/Imagens/regioes_dataset/Norte/RGB...</td>\n    </tr>\n  </tbody>\n</table>\n</div>"
     },
     "metadata": {},
     "output_type": "display_data"
    },
    {
     "data": {
      "text/plain": "'total of images 2029'"
     },
     "metadata": {},
     "output_type": "display_data"
    },
    {
     "data": {
      "text/plain": "'image informations'"
     },
     "metadata": {},
     "output_type": "display_data"
    },
    {
     "data": {
      "text/plain": "'save csv in /home/xandao/Imagens/regioes_dataset/Norte/RGB/512/5/RGB/512/10/RGB/512/20/image_informations.csv'"
     },
     "metadata": {},
     "output_type": "display_data"
    },
    {
     "data": {
      "text/plain": "     seq  genus specific_epithet catalog_number      barcode  \\\n0  11358  Piper         callosum          68638  CEN00068638   \n1  11893  Piper          aduncum          94895  CEN00094895   \n2  11972  Piper    bartlingianum          36949  CEN00036949   \n\n                                          path_image institution_code  \\\n0  /home/xandao/Documentos/RGB/512/w_pred_mask/CE...         Cenargen   \n1  /home/xandao/Documentos/RGB/512/w_pred_mask/CE...         Cenargen   \n2  /home/xandao/Documentos/RGB/512/w_pred_mask/CE...         Cenargen   \n\n  collection_code                                                url  \n0             CEN  https://specieslink.net/search/util/osd-dezoom...  \n1             CEN  https://specieslink.net/search/util/osd-dezoom...  \n2             CEN  https://specieslink.net/search/util/osd-dezoom...  ",
      "text/html": "<div>\n<style scoped>\n    .dataframe tbody tr th:only-of-type {\n        vertical-align: middle;\n    }\n\n    .dataframe tbody tr th {\n        vertical-align: top;\n    }\n\n    .dataframe thead th {\n        text-align: right;\n    }\n</style>\n<table border=\"1\" class=\"dataframe\">\n  <thead>\n    <tr style=\"text-align: right;\">\n      <th></th>\n      <th>seq</th>\n      <th>genus</th>\n      <th>specific_epithet</th>\n      <th>catalog_number</th>\n      <th>barcode</th>\n      <th>path_image</th>\n      <th>institution_code</th>\n      <th>collection_code</th>\n      <th>url</th>\n    </tr>\n  </thead>\n  <tbody>\n    <tr>\n      <th>0</th>\n      <td>11358</td>\n      <td>Piper</td>\n      <td>callosum</td>\n      <td>68638</td>\n      <td>CEN00068638</td>\n      <td>/home/xandao/Documentos/RGB/512/w_pred_mask/CE...</td>\n      <td>Cenargen</td>\n      <td>CEN</td>\n      <td>https://specieslink.net/search/util/osd-dezoom...</td>\n    </tr>\n    <tr>\n      <th>1</th>\n      <td>11893</td>\n      <td>Piper</td>\n      <td>aduncum</td>\n      <td>94895</td>\n      <td>CEN00094895</td>\n      <td>/home/xandao/Documentos/RGB/512/w_pred_mask/CE...</td>\n      <td>Cenargen</td>\n      <td>CEN</td>\n      <td>https://specieslink.net/search/util/osd-dezoom...</td>\n    </tr>\n    <tr>\n      <th>2</th>\n      <td>11972</td>\n      <td>Piper</td>\n      <td>bartlingianum</td>\n      <td>36949</td>\n      <td>CEN00036949</td>\n      <td>/home/xandao/Documentos/RGB/512/w_pred_mask/CE...</td>\n      <td>Cenargen</td>\n      <td>CEN</td>\n      <td>https://specieslink.net/search/util/osd-dezoom...</td>\n    </tr>\n  </tbody>\n</table>\n</div>"
     },
     "metadata": {},
     "output_type": "display_data"
    },
    {
     "name": "stdout",
     "output_type": "stream",
     "text": [
      "specie: sincorana before: 47 after: 46\n",
      "diff: ['/home/xandao/Documentos/RGB/512/w_pred_mask/HVASF000487_v01.jpeg']\n"
     ]
    },
    {
     "data": {
      "text/plain": "'color: rgb image_size: 512 minimum_image: 5'"
     },
     "metadata": {},
     "output_type": "display_data"
    },
    {
     "data": {
      "text/plain": "'len(list_level_name): 47 len(paths_images): 1057'"
     },
     "metadata": {},
     "output_type": "display_data"
    },
    {
     "data": {
      "text/plain": "'save csv in /home/xandao/Imagens/regioes_dataset/Norte/Nordeste/RGB/512/5/dataset_informations.csv'"
     },
     "metadata": {},
     "output_type": "display_data"
    },
    {
     "data": {
      "text/plain": "   species                                              paths  count  \\\n0  aduncum  [/home/xandao/Documentos/RGB/512/w_pred_mask/A...     30   \n1    alata  [/home/xandao/Documentos/RGB/512/w_pred_mask/H...     12   \n2  amalago  [/home/xandao/Documentos/RGB/512/w_pred_mask/A...     55   \n\n                                                 dst  \n0  /home/xandao/Imagens/regioes_dataset/Norte/Nor...  \n1  /home/xandao/Imagens/regioes_dataset/Norte/Nor...  \n2  /home/xandao/Imagens/regioes_dataset/Norte/Nor...  ",
      "text/html": "<div>\n<style scoped>\n    .dataframe tbody tr th:only-of-type {\n        vertical-align: middle;\n    }\n\n    .dataframe tbody tr th {\n        vertical-align: top;\n    }\n\n    .dataframe thead th {\n        text-align: right;\n    }\n</style>\n<table border=\"1\" class=\"dataframe\">\n  <thead>\n    <tr style=\"text-align: right;\">\n      <th></th>\n      <th>species</th>\n      <th>paths</th>\n      <th>count</th>\n      <th>dst</th>\n    </tr>\n  </thead>\n  <tbody>\n    <tr>\n      <th>0</th>\n      <td>aduncum</td>\n      <td>[/home/xandao/Documentos/RGB/512/w_pred_mask/A...</td>\n      <td>30</td>\n      <td>/home/xandao/Imagens/regioes_dataset/Norte/Nor...</td>\n    </tr>\n    <tr>\n      <th>1</th>\n      <td>alata</td>\n      <td>[/home/xandao/Documentos/RGB/512/w_pred_mask/H...</td>\n      <td>12</td>\n      <td>/home/xandao/Imagens/regioes_dataset/Norte/Nor...</td>\n    </tr>\n    <tr>\n      <th>2</th>\n      <td>amalago</td>\n      <td>[/home/xandao/Documentos/RGB/512/w_pred_mask/A...</td>\n      <td>55</td>\n      <td>/home/xandao/Imagens/regioes_dataset/Norte/Nor...</td>\n    </tr>\n  </tbody>\n</table>\n</div>"
     },
     "metadata": {},
     "output_type": "display_data"
    },
    {
     "data": {
      "text/plain": "'total of images 1057'"
     },
     "metadata": {},
     "output_type": "display_data"
    },
    {
     "data": {
      "text/plain": "'image informations'"
     },
     "metadata": {},
     "output_type": "display_data"
    },
    {
     "data": {
      "text/plain": "'save csv in /home/xandao/Imagens/regioes_dataset/Norte/Nordeste/RGB/512/5/image_informations.csv'"
     },
     "metadata": {},
     "output_type": "display_data"
    },
    {
     "data": {
      "text/plain": "     seq      genus specific_epithet catalog_number      barcode  \\\n0  12548      Piper        dilatatum          54499  CEN00054499   \n1  11397      Piper       mollicomum          57612  CEN00057612   \n2  11421  Peperomia        sincorana          28975  CEN00028975   \n\n                                          path_image institution_code  \\\n0  /home/xandao/Documentos/RGB/512/w_pred_mask/CE...         Cenargen   \n1  /home/xandao/Documentos/RGB/512/w_pred_mask/CE...         Cenargen   \n2  /home/xandao/Documentos/RGB/512/w_pred_mask/CE...         Cenargen   \n\n  collection_code                                                url  \n0             CEN  https://specieslink.net/search/util/osd-dezoom...  \n1             CEN  https://specieslink.net/search/util/osd-dezoom...  \n2             CEN  https://specieslink.net/search/util/osd-dezoom...  ",
      "text/html": "<div>\n<style scoped>\n    .dataframe tbody tr th:only-of-type {\n        vertical-align: middle;\n    }\n\n    .dataframe tbody tr th {\n        vertical-align: top;\n    }\n\n    .dataframe thead th {\n        text-align: right;\n    }\n</style>\n<table border=\"1\" class=\"dataframe\">\n  <thead>\n    <tr style=\"text-align: right;\">\n      <th></th>\n      <th>seq</th>\n      <th>genus</th>\n      <th>specific_epithet</th>\n      <th>catalog_number</th>\n      <th>barcode</th>\n      <th>path_image</th>\n      <th>institution_code</th>\n      <th>collection_code</th>\n      <th>url</th>\n    </tr>\n  </thead>\n  <tbody>\n    <tr>\n      <th>0</th>\n      <td>12548</td>\n      <td>Piper</td>\n      <td>dilatatum</td>\n      <td>54499</td>\n      <td>CEN00054499</td>\n      <td>/home/xandao/Documentos/RGB/512/w_pred_mask/CE...</td>\n      <td>Cenargen</td>\n      <td>CEN</td>\n      <td>https://specieslink.net/search/util/osd-dezoom...</td>\n    </tr>\n    <tr>\n      <th>1</th>\n      <td>11397</td>\n      <td>Piper</td>\n      <td>mollicomum</td>\n      <td>57612</td>\n      <td>CEN00057612</td>\n      <td>/home/xandao/Documentos/RGB/512/w_pred_mask/CE...</td>\n      <td>Cenargen</td>\n      <td>CEN</td>\n      <td>https://specieslink.net/search/util/osd-dezoom...</td>\n    </tr>\n    <tr>\n      <th>2</th>\n      <td>11421</td>\n      <td>Peperomia</td>\n      <td>sincorana</td>\n      <td>28975</td>\n      <td>CEN00028975</td>\n      <td>/home/xandao/Documentos/RGB/512/w_pred_mask/CE...</td>\n      <td>Cenargen</td>\n      <td>CEN</td>\n      <td>https://specieslink.net/search/util/osd-dezoom...</td>\n    </tr>\n  </tbody>\n</table>\n</div>"
     },
     "metadata": {},
     "output_type": "display_data"
    },
    {
     "name": "stdout",
     "output_type": "stream",
     "text": [
      "specie: sincorana before: 47 after: 46\n",
      "diff: ['/home/xandao/Documentos/RGB/512/w_pred_mask/HVASF000487_v01.jpeg']\n"
     ]
    },
    {
     "data": {
      "text/plain": "'color: rgb image_size: 512 minimum_image: 10'"
     },
     "metadata": {},
     "output_type": "display_data"
    },
    {
     "data": {
      "text/plain": "'len(list_level_name): 35 len(paths_images): 976'"
     },
     "metadata": {},
     "output_type": "display_data"
    },
    {
     "data": {
      "text/plain": "'save csv in /home/xandao/Imagens/regioes_dataset/Norte/Nordeste/RGB/512/5/RGB/512/10/dataset_informations.csv'"
     },
     "metadata": {},
     "output_type": "display_data"
    },
    {
     "data": {
      "text/plain": "   species                                              paths  count  \\\n0  aduncum  [/home/xandao/Documentos/RGB/512/w_pred_mask/A...     30   \n1    alata  [/home/xandao/Documentos/RGB/512/w_pred_mask/H...     12   \n2  amalago  [/home/xandao/Documentos/RGB/512/w_pred_mask/A...     55   \n\n                                                 dst  \n0  /home/xandao/Imagens/regioes_dataset/Norte/Nor...  \n1  /home/xandao/Imagens/regioes_dataset/Norte/Nor...  \n2  /home/xandao/Imagens/regioes_dataset/Norte/Nor...  ",
      "text/html": "<div>\n<style scoped>\n    .dataframe tbody tr th:only-of-type {\n        vertical-align: middle;\n    }\n\n    .dataframe tbody tr th {\n        vertical-align: top;\n    }\n\n    .dataframe thead th {\n        text-align: right;\n    }\n</style>\n<table border=\"1\" class=\"dataframe\">\n  <thead>\n    <tr style=\"text-align: right;\">\n      <th></th>\n      <th>species</th>\n      <th>paths</th>\n      <th>count</th>\n      <th>dst</th>\n    </tr>\n  </thead>\n  <tbody>\n    <tr>\n      <th>0</th>\n      <td>aduncum</td>\n      <td>[/home/xandao/Documentos/RGB/512/w_pred_mask/A...</td>\n      <td>30</td>\n      <td>/home/xandao/Imagens/regioes_dataset/Norte/Nor...</td>\n    </tr>\n    <tr>\n      <th>1</th>\n      <td>alata</td>\n      <td>[/home/xandao/Documentos/RGB/512/w_pred_mask/H...</td>\n      <td>12</td>\n      <td>/home/xandao/Imagens/regioes_dataset/Norte/Nor...</td>\n    </tr>\n    <tr>\n      <th>2</th>\n      <td>amalago</td>\n      <td>[/home/xandao/Documentos/RGB/512/w_pred_mask/A...</td>\n      <td>55</td>\n      <td>/home/xandao/Imagens/regioes_dataset/Norte/Nor...</td>\n    </tr>\n  </tbody>\n</table>\n</div>"
     },
     "metadata": {},
     "output_type": "display_data"
    },
    {
     "data": {
      "text/plain": "'total of images 976'"
     },
     "metadata": {},
     "output_type": "display_data"
    },
    {
     "data": {
      "text/plain": "'image informations'"
     },
     "metadata": {},
     "output_type": "display_data"
    },
    {
     "data": {
      "text/plain": "'save csv in /home/xandao/Imagens/regioes_dataset/Norte/Nordeste/RGB/512/5/RGB/512/10/image_informations.csv'"
     },
     "metadata": {},
     "output_type": "display_data"
    },
    {
     "data": {
      "text/plain": "     seq      genus specific_epithet catalog_number      barcode  \\\n0  12548      Piper        dilatatum          54499  CEN00054499   \n1  11397      Piper       mollicomum          57612  CEN00057612   \n2  11421  Peperomia        sincorana          28975  CEN00028975   \n\n                                          path_image institution_code  \\\n0  /home/xandao/Documentos/RGB/512/w_pred_mask/CE...         Cenargen   \n1  /home/xandao/Documentos/RGB/512/w_pred_mask/CE...         Cenargen   \n2  /home/xandao/Documentos/RGB/512/w_pred_mask/CE...         Cenargen   \n\n  collection_code                                                url  \n0             CEN  https://specieslink.net/search/util/osd-dezoom...  \n1             CEN  https://specieslink.net/search/util/osd-dezoom...  \n2             CEN  https://specieslink.net/search/util/osd-dezoom...  ",
      "text/html": "<div>\n<style scoped>\n    .dataframe tbody tr th:only-of-type {\n        vertical-align: middle;\n    }\n\n    .dataframe tbody tr th {\n        vertical-align: top;\n    }\n\n    .dataframe thead th {\n        text-align: right;\n    }\n</style>\n<table border=\"1\" class=\"dataframe\">\n  <thead>\n    <tr style=\"text-align: right;\">\n      <th></th>\n      <th>seq</th>\n      <th>genus</th>\n      <th>specific_epithet</th>\n      <th>catalog_number</th>\n      <th>barcode</th>\n      <th>path_image</th>\n      <th>institution_code</th>\n      <th>collection_code</th>\n      <th>url</th>\n    </tr>\n  </thead>\n  <tbody>\n    <tr>\n      <th>0</th>\n      <td>12548</td>\n      <td>Piper</td>\n      <td>dilatatum</td>\n      <td>54499</td>\n      <td>CEN00054499</td>\n      <td>/home/xandao/Documentos/RGB/512/w_pred_mask/CE...</td>\n      <td>Cenargen</td>\n      <td>CEN</td>\n      <td>https://specieslink.net/search/util/osd-dezoom...</td>\n    </tr>\n    <tr>\n      <th>1</th>\n      <td>11397</td>\n      <td>Piper</td>\n      <td>mollicomum</td>\n      <td>57612</td>\n      <td>CEN00057612</td>\n      <td>/home/xandao/Documentos/RGB/512/w_pred_mask/CE...</td>\n      <td>Cenargen</td>\n      <td>CEN</td>\n      <td>https://specieslink.net/search/util/osd-dezoom...</td>\n    </tr>\n    <tr>\n      <th>2</th>\n      <td>11421</td>\n      <td>Peperomia</td>\n      <td>sincorana</td>\n      <td>28975</td>\n      <td>CEN00028975</td>\n      <td>/home/xandao/Documentos/RGB/512/w_pred_mask/CE...</td>\n      <td>Cenargen</td>\n      <td>CEN</td>\n      <td>https://specieslink.net/search/util/osd-dezoom...</td>\n    </tr>\n  </tbody>\n</table>\n</div>"
     },
     "metadata": {},
     "output_type": "display_data"
    },
    {
     "name": "stdout",
     "output_type": "stream",
     "text": [
      "specie: sincorana before: 47 after: 46\n",
      "diff: ['/home/xandao/Documentos/RGB/512/w_pred_mask/HVASF000487_v01.jpeg']\n"
     ]
    },
    {
     "data": {
      "text/plain": "'color: rgb image_size: 512 minimum_image: 20'"
     },
     "metadata": {},
     "output_type": "display_data"
    },
    {
     "data": {
      "text/plain": "'len(list_level_name): 21 len(paths_images): 781'"
     },
     "metadata": {},
     "output_type": "display_data"
    },
    {
     "data": {
      "text/plain": "'save csv in /home/xandao/Imagens/regioes_dataset/Norte/Nordeste/RGB/512/5/RGB/512/10/RGB/512/20/dataset_informations.csv'"
     },
     "metadata": {},
     "output_type": "display_data"
    },
    {
     "data": {
      "text/plain": "   species                                              paths  count  \\\n0  aduncum  [/home/xandao/Documentos/RGB/512/w_pred_mask/A...     30   \n1  amalago  [/home/xandao/Documentos/RGB/512/w_pred_mask/A...     55   \n2   amplum  [/home/xandao/Documentos/RGB/512/w_pred_mask/H...     33   \n\n                                                 dst  \n0  /home/xandao/Imagens/regioes_dataset/Norte/Nor...  \n1  /home/xandao/Imagens/regioes_dataset/Norte/Nor...  \n2  /home/xandao/Imagens/regioes_dataset/Norte/Nor...  ",
      "text/html": "<div>\n<style scoped>\n    .dataframe tbody tr th:only-of-type {\n        vertical-align: middle;\n    }\n\n    .dataframe tbody tr th {\n        vertical-align: top;\n    }\n\n    .dataframe thead th {\n        text-align: right;\n    }\n</style>\n<table border=\"1\" class=\"dataframe\">\n  <thead>\n    <tr style=\"text-align: right;\">\n      <th></th>\n      <th>species</th>\n      <th>paths</th>\n      <th>count</th>\n      <th>dst</th>\n    </tr>\n  </thead>\n  <tbody>\n    <tr>\n      <th>0</th>\n      <td>aduncum</td>\n      <td>[/home/xandao/Documentos/RGB/512/w_pred_mask/A...</td>\n      <td>30</td>\n      <td>/home/xandao/Imagens/regioes_dataset/Norte/Nor...</td>\n    </tr>\n    <tr>\n      <th>1</th>\n      <td>amalago</td>\n      <td>[/home/xandao/Documentos/RGB/512/w_pred_mask/A...</td>\n      <td>55</td>\n      <td>/home/xandao/Imagens/regioes_dataset/Norte/Nor...</td>\n    </tr>\n    <tr>\n      <th>2</th>\n      <td>amplum</td>\n      <td>[/home/xandao/Documentos/RGB/512/w_pred_mask/H...</td>\n      <td>33</td>\n      <td>/home/xandao/Imagens/regioes_dataset/Norte/Nor...</td>\n    </tr>\n  </tbody>\n</table>\n</div>"
     },
     "metadata": {},
     "output_type": "display_data"
    },
    {
     "data": {
      "text/plain": "'total of images 781'"
     },
     "metadata": {},
     "output_type": "display_data"
    },
    {
     "data": {
      "text/plain": "'image informations'"
     },
     "metadata": {},
     "output_type": "display_data"
    },
    {
     "data": {
      "text/plain": "'save csv in /home/xandao/Imagens/regioes_dataset/Norte/Nordeste/RGB/512/5/RGB/512/10/RGB/512/20/image_informations.csv'"
     },
     "metadata": {},
     "output_type": "display_data"
    },
    {
     "data": {
      "text/plain": "     seq      genus specific_epithet catalog_number      barcode  \\\n0  12548      Piper        dilatatum          54499  CEN00054499   \n1  11397      Piper       mollicomum          57612  CEN00057612   \n2  11421  Peperomia        sincorana          28975  CEN00028975   \n\n                                          path_image institution_code  \\\n0  /home/xandao/Documentos/RGB/512/w_pred_mask/CE...         Cenargen   \n1  /home/xandao/Documentos/RGB/512/w_pred_mask/CE...         Cenargen   \n2  /home/xandao/Documentos/RGB/512/w_pred_mask/CE...         Cenargen   \n\n  collection_code                                                url  \n0             CEN  https://specieslink.net/search/util/osd-dezoom...  \n1             CEN  https://specieslink.net/search/util/osd-dezoom...  \n2             CEN  https://specieslink.net/search/util/osd-dezoom...  ",
      "text/html": "<div>\n<style scoped>\n    .dataframe tbody tr th:only-of-type {\n        vertical-align: middle;\n    }\n\n    .dataframe tbody tr th {\n        vertical-align: top;\n    }\n\n    .dataframe thead th {\n        text-align: right;\n    }\n</style>\n<table border=\"1\" class=\"dataframe\">\n  <thead>\n    <tr style=\"text-align: right;\">\n      <th></th>\n      <th>seq</th>\n      <th>genus</th>\n      <th>specific_epithet</th>\n      <th>catalog_number</th>\n      <th>barcode</th>\n      <th>path_image</th>\n      <th>institution_code</th>\n      <th>collection_code</th>\n      <th>url</th>\n    </tr>\n  </thead>\n  <tbody>\n    <tr>\n      <th>0</th>\n      <td>12548</td>\n      <td>Piper</td>\n      <td>dilatatum</td>\n      <td>54499</td>\n      <td>CEN00054499</td>\n      <td>/home/xandao/Documentos/RGB/512/w_pred_mask/CE...</td>\n      <td>Cenargen</td>\n      <td>CEN</td>\n      <td>https://specieslink.net/search/util/osd-dezoom...</td>\n    </tr>\n    <tr>\n      <th>1</th>\n      <td>11397</td>\n      <td>Piper</td>\n      <td>mollicomum</td>\n      <td>57612</td>\n      <td>CEN00057612</td>\n      <td>/home/xandao/Documentos/RGB/512/w_pred_mask/CE...</td>\n      <td>Cenargen</td>\n      <td>CEN</td>\n      <td>https://specieslink.net/search/util/osd-dezoom...</td>\n    </tr>\n    <tr>\n      <th>2</th>\n      <td>11421</td>\n      <td>Peperomia</td>\n      <td>sincorana</td>\n      <td>28975</td>\n      <td>CEN00028975</td>\n      <td>/home/xandao/Documentos/RGB/512/w_pred_mask/CE...</td>\n      <td>Cenargen</td>\n      <td>CEN</td>\n      <td>https://specieslink.net/search/util/osd-dezoom...</td>\n    </tr>\n  </tbody>\n</table>\n</div>"
     },
     "metadata": {},
     "output_type": "display_data"
    },
    {
     "data": {
      "text/plain": "'color: rgb image_size: 512 minimum_image: 5'"
     },
     "metadata": {},
     "output_type": "display_data"
    },
    {
     "data": {
      "text/plain": "'len(list_level_name): 42 len(paths_images): 1137'"
     },
     "metadata": {},
     "output_type": "display_data"
    },
    {
     "data": {
      "text/plain": "'save csv in /home/xandao/Imagens/regioes_dataset/Norte/Nordeste/Centro-Oeste/RGB/512/5/dataset_informations.csv'"
     },
     "metadata": {},
     "output_type": "display_data"
    },
    {
     "data": {
      "text/plain": "   species                                              paths  count  \\\n0  aduncum  [/home/xandao/Documentos/RGB/512/w_pred_mask/C...    152   \n1  aequale  [/home/xandao/Documentos/RGB/512/w_pred_mask/C...     15   \n2    alata  [/home/xandao/Documentos/RGB/512/w_pred_mask/C...      8   \n\n                                                 dst  \n0  /home/xandao/Imagens/regioes_dataset/Norte/Nor...  \n1  /home/xandao/Imagens/regioes_dataset/Norte/Nor...  \n2  /home/xandao/Imagens/regioes_dataset/Norte/Nor...  ",
      "text/html": "<div>\n<style scoped>\n    .dataframe tbody tr th:only-of-type {\n        vertical-align: middle;\n    }\n\n    .dataframe tbody tr th {\n        vertical-align: top;\n    }\n\n    .dataframe thead th {\n        text-align: right;\n    }\n</style>\n<table border=\"1\" class=\"dataframe\">\n  <thead>\n    <tr style=\"text-align: right;\">\n      <th></th>\n      <th>species</th>\n      <th>paths</th>\n      <th>count</th>\n      <th>dst</th>\n    </tr>\n  </thead>\n  <tbody>\n    <tr>\n      <th>0</th>\n      <td>aduncum</td>\n      <td>[/home/xandao/Documentos/RGB/512/w_pred_mask/C...</td>\n      <td>152</td>\n      <td>/home/xandao/Imagens/regioes_dataset/Norte/Nor...</td>\n    </tr>\n    <tr>\n      <th>1</th>\n      <td>aequale</td>\n      <td>[/home/xandao/Documentos/RGB/512/w_pred_mask/C...</td>\n      <td>15</td>\n      <td>/home/xandao/Imagens/regioes_dataset/Norte/Nor...</td>\n    </tr>\n    <tr>\n      <th>2</th>\n      <td>alata</td>\n      <td>[/home/xandao/Documentos/RGB/512/w_pred_mask/C...</td>\n      <td>8</td>\n      <td>/home/xandao/Imagens/regioes_dataset/Norte/Nor...</td>\n    </tr>\n  </tbody>\n</table>\n</div>"
     },
     "metadata": {},
     "output_type": "display_data"
    },
    {
     "data": {
      "text/plain": "'total of images 1137'"
     },
     "metadata": {},
     "output_type": "display_data"
    },
    {
     "data": {
      "text/plain": "'image informations'"
     },
     "metadata": {},
     "output_type": "display_data"
    },
    {
     "data": {
      "text/plain": "'save csv in /home/xandao/Imagens/regioes_dataset/Norte/Nordeste/Centro-Oeste/RGB/512/5/image_informations.csv'"
     },
     "metadata": {},
     "output_type": "display_data"
    },
    {
     "data": {
      "text/plain": "     seq      genus specific_epithet catalog_number      barcode  \\\n0  11290  Peperomia         elongata          30640  CEN00030640   \n1  11289  Peperomia         elongata          29361  CEN00029361   \n2  11301  Peperomia        pellucida          30758  CEN00030758   \n\n                                          path_image institution_code  \\\n0  /home/xandao/Documentos/RGB/512/w_pred_mask/CE...         Cenargen   \n1  /home/xandao/Documentos/RGB/512/w_pred_mask/CE...         Cenargen   \n2  /home/xandao/Documentos/RGB/512/w_pred_mask/CE...         Cenargen   \n\n  collection_code                                                url  \n0             CEN  https://specieslink.net/search/util/osd-dezoom...  \n1             CEN  https://specieslink.net/search/util/osd-dezoom...  \n2             CEN  https://specieslink.net/search/util/osd-dezoom...  ",
      "text/html": "<div>\n<style scoped>\n    .dataframe tbody tr th:only-of-type {\n        vertical-align: middle;\n    }\n\n    .dataframe tbody tr th {\n        vertical-align: top;\n    }\n\n    .dataframe thead th {\n        text-align: right;\n    }\n</style>\n<table border=\"1\" class=\"dataframe\">\n  <thead>\n    <tr style=\"text-align: right;\">\n      <th></th>\n      <th>seq</th>\n      <th>genus</th>\n      <th>specific_epithet</th>\n      <th>catalog_number</th>\n      <th>barcode</th>\n      <th>path_image</th>\n      <th>institution_code</th>\n      <th>collection_code</th>\n      <th>url</th>\n    </tr>\n  </thead>\n  <tbody>\n    <tr>\n      <th>0</th>\n      <td>11290</td>\n      <td>Peperomia</td>\n      <td>elongata</td>\n      <td>30640</td>\n      <td>CEN00030640</td>\n      <td>/home/xandao/Documentos/RGB/512/w_pred_mask/CE...</td>\n      <td>Cenargen</td>\n      <td>CEN</td>\n      <td>https://specieslink.net/search/util/osd-dezoom...</td>\n    </tr>\n    <tr>\n      <th>1</th>\n      <td>11289</td>\n      <td>Peperomia</td>\n      <td>elongata</td>\n      <td>29361</td>\n      <td>CEN00029361</td>\n      <td>/home/xandao/Documentos/RGB/512/w_pred_mask/CE...</td>\n      <td>Cenargen</td>\n      <td>CEN</td>\n      <td>https://specieslink.net/search/util/osd-dezoom...</td>\n    </tr>\n    <tr>\n      <th>2</th>\n      <td>11301</td>\n      <td>Peperomia</td>\n      <td>pellucida</td>\n      <td>30758</td>\n      <td>CEN00030758</td>\n      <td>/home/xandao/Documentos/RGB/512/w_pred_mask/CE...</td>\n      <td>Cenargen</td>\n      <td>CEN</td>\n      <td>https://specieslink.net/search/util/osd-dezoom...</td>\n    </tr>\n  </tbody>\n</table>\n</div>"
     },
     "metadata": {},
     "output_type": "display_data"
    },
    {
     "data": {
      "text/plain": "'color: rgb image_size: 512 minimum_image: 10'"
     },
     "metadata": {},
     "output_type": "display_data"
    },
    {
     "data": {
      "text/plain": "'len(list_level_name): 29 len(paths_images): 1045'"
     },
     "metadata": {},
     "output_type": "display_data"
    },
    {
     "data": {
      "text/plain": "'save csv in /home/xandao/Imagens/regioes_dataset/Norte/Nordeste/Centro-Oeste/RGB/512/5/RGB/512/10/dataset_informations.csv'"
     },
     "metadata": {},
     "output_type": "display_data"
    },
    {
     "data": {
      "text/plain": "   species                                              paths  count  \\\n0  aduncum  [/home/xandao/Documentos/RGB/512/w_pred_mask/C...    152   \n1  aequale  [/home/xandao/Documentos/RGB/512/w_pred_mask/C...     15   \n2  amalago  [/home/xandao/Documentos/RGB/512/w_pred_mask/A...     31   \n\n                                                 dst  \n0  /home/xandao/Imagens/regioes_dataset/Norte/Nor...  \n1  /home/xandao/Imagens/regioes_dataset/Norte/Nor...  \n2  /home/xandao/Imagens/regioes_dataset/Norte/Nor...  ",
      "text/html": "<div>\n<style scoped>\n    .dataframe tbody tr th:only-of-type {\n        vertical-align: middle;\n    }\n\n    .dataframe tbody tr th {\n        vertical-align: top;\n    }\n\n    .dataframe thead th {\n        text-align: right;\n    }\n</style>\n<table border=\"1\" class=\"dataframe\">\n  <thead>\n    <tr style=\"text-align: right;\">\n      <th></th>\n      <th>species</th>\n      <th>paths</th>\n      <th>count</th>\n      <th>dst</th>\n    </tr>\n  </thead>\n  <tbody>\n    <tr>\n      <th>0</th>\n      <td>aduncum</td>\n      <td>[/home/xandao/Documentos/RGB/512/w_pred_mask/C...</td>\n      <td>152</td>\n      <td>/home/xandao/Imagens/regioes_dataset/Norte/Nor...</td>\n    </tr>\n    <tr>\n      <th>1</th>\n      <td>aequale</td>\n      <td>[/home/xandao/Documentos/RGB/512/w_pred_mask/C...</td>\n      <td>15</td>\n      <td>/home/xandao/Imagens/regioes_dataset/Norte/Nor...</td>\n    </tr>\n    <tr>\n      <th>2</th>\n      <td>amalago</td>\n      <td>[/home/xandao/Documentos/RGB/512/w_pred_mask/A...</td>\n      <td>31</td>\n      <td>/home/xandao/Imagens/regioes_dataset/Norte/Nor...</td>\n    </tr>\n  </tbody>\n</table>\n</div>"
     },
     "metadata": {},
     "output_type": "display_data"
    },
    {
     "data": {
      "text/plain": "'total of images 1045'"
     },
     "metadata": {},
     "output_type": "display_data"
    },
    {
     "data": {
      "text/plain": "'image informations'"
     },
     "metadata": {},
     "output_type": "display_data"
    },
    {
     "data": {
      "text/plain": "'save csv in /home/xandao/Imagens/regioes_dataset/Norte/Nordeste/Centro-Oeste/RGB/512/5/RGB/512/10/image_informations.csv'"
     },
     "metadata": {},
     "output_type": "display_data"
    },
    {
     "data": {
      "text/plain": "     seq      genus specific_epithet catalog_number      barcode  \\\n0  11290  Peperomia         elongata          30640  CEN00030640   \n1  11289  Peperomia         elongata          29361  CEN00029361   \n2  11339      Piper          aduncum          36440  CEN00036440   \n\n                                          path_image institution_code  \\\n0  /home/xandao/Documentos/RGB/512/w_pred_mask/CE...         Cenargen   \n1  /home/xandao/Documentos/RGB/512/w_pred_mask/CE...         Cenargen   \n2  /home/xandao/Documentos/RGB/512/w_pred_mask/CE...         Cenargen   \n\n  collection_code                                                url  \n0             CEN  https://specieslink.net/search/util/osd-dezoom...  \n1             CEN  https://specieslink.net/search/util/osd-dezoom...  \n2             CEN  https://specieslink.net/search/util/osd-dezoom...  ",
      "text/html": "<div>\n<style scoped>\n    .dataframe tbody tr th:only-of-type {\n        vertical-align: middle;\n    }\n\n    .dataframe tbody tr th {\n        vertical-align: top;\n    }\n\n    .dataframe thead th {\n        text-align: right;\n    }\n</style>\n<table border=\"1\" class=\"dataframe\">\n  <thead>\n    <tr style=\"text-align: right;\">\n      <th></th>\n      <th>seq</th>\n      <th>genus</th>\n      <th>specific_epithet</th>\n      <th>catalog_number</th>\n      <th>barcode</th>\n      <th>path_image</th>\n      <th>institution_code</th>\n      <th>collection_code</th>\n      <th>url</th>\n    </tr>\n  </thead>\n  <tbody>\n    <tr>\n      <th>0</th>\n      <td>11290</td>\n      <td>Peperomia</td>\n      <td>elongata</td>\n      <td>30640</td>\n      <td>CEN00030640</td>\n      <td>/home/xandao/Documentos/RGB/512/w_pred_mask/CE...</td>\n      <td>Cenargen</td>\n      <td>CEN</td>\n      <td>https://specieslink.net/search/util/osd-dezoom...</td>\n    </tr>\n    <tr>\n      <th>1</th>\n      <td>11289</td>\n      <td>Peperomia</td>\n      <td>elongata</td>\n      <td>29361</td>\n      <td>CEN00029361</td>\n      <td>/home/xandao/Documentos/RGB/512/w_pred_mask/CE...</td>\n      <td>Cenargen</td>\n      <td>CEN</td>\n      <td>https://specieslink.net/search/util/osd-dezoom...</td>\n    </tr>\n    <tr>\n      <th>2</th>\n      <td>11339</td>\n      <td>Piper</td>\n      <td>aduncum</td>\n      <td>36440</td>\n      <td>CEN00036440</td>\n      <td>/home/xandao/Documentos/RGB/512/w_pred_mask/CE...</td>\n      <td>Cenargen</td>\n      <td>CEN</td>\n      <td>https://specieslink.net/search/util/osd-dezoom...</td>\n    </tr>\n  </tbody>\n</table>\n</div>"
     },
     "metadata": {},
     "output_type": "display_data"
    },
    {
     "data": {
      "text/plain": "'color: rgb image_size: 512 minimum_image: 20'"
     },
     "metadata": {},
     "output_type": "display_data"
    },
    {
     "data": {
      "text/plain": "'len(list_level_name): 17 len(paths_images): 888'"
     },
     "metadata": {},
     "output_type": "display_data"
    },
    {
     "data": {
      "text/plain": "'save csv in /home/xandao/Imagens/regioes_dataset/Norte/Nordeste/Centro-Oeste/RGB/512/5/RGB/512/10/RGB/512/20/dataset_informations.csv'"
     },
     "metadata": {},
     "output_type": "display_data"
    },
    {
     "data": {
      "text/plain": "    species                                              paths  count  \\\n0   aduncum  [/home/xandao/Documentos/RGB/512/w_pred_mask/C...    152   \n1   amalago  [/home/xandao/Documentos/RGB/512/w_pred_mask/A...     31   \n2  arboreum  [/home/xandao/Documentos/RGB/512/w_pred_mask/C...    203   \n\n                                                 dst  \n0  /home/xandao/Imagens/regioes_dataset/Norte/Nor...  \n1  /home/xandao/Imagens/regioes_dataset/Norte/Nor...  \n2  /home/xandao/Imagens/regioes_dataset/Norte/Nor...  ",
      "text/html": "<div>\n<style scoped>\n    .dataframe tbody tr th:only-of-type {\n        vertical-align: middle;\n    }\n\n    .dataframe tbody tr th {\n        vertical-align: top;\n    }\n\n    .dataframe thead th {\n        text-align: right;\n    }\n</style>\n<table border=\"1\" class=\"dataframe\">\n  <thead>\n    <tr style=\"text-align: right;\">\n      <th></th>\n      <th>species</th>\n      <th>paths</th>\n      <th>count</th>\n      <th>dst</th>\n    </tr>\n  </thead>\n  <tbody>\n    <tr>\n      <th>0</th>\n      <td>aduncum</td>\n      <td>[/home/xandao/Documentos/RGB/512/w_pred_mask/C...</td>\n      <td>152</td>\n      <td>/home/xandao/Imagens/regioes_dataset/Norte/Nor...</td>\n    </tr>\n    <tr>\n      <th>1</th>\n      <td>amalago</td>\n      <td>[/home/xandao/Documentos/RGB/512/w_pred_mask/A...</td>\n      <td>31</td>\n      <td>/home/xandao/Imagens/regioes_dataset/Norte/Nor...</td>\n    </tr>\n    <tr>\n      <th>2</th>\n      <td>arboreum</td>\n      <td>[/home/xandao/Documentos/RGB/512/w_pred_mask/C...</td>\n      <td>203</td>\n      <td>/home/xandao/Imagens/regioes_dataset/Norte/Nor...</td>\n    </tr>\n  </tbody>\n</table>\n</div>"
     },
     "metadata": {},
     "output_type": "display_data"
    },
    {
     "data": {
      "text/plain": "'total of images 888'"
     },
     "metadata": {},
     "output_type": "display_data"
    },
    {
     "data": {
      "text/plain": "'image informations'"
     },
     "metadata": {},
     "output_type": "display_data"
    },
    {
     "data": {
      "text/plain": "'save csv in /home/xandao/Imagens/regioes_dataset/Norte/Nordeste/Centro-Oeste/RGB/512/5/RGB/512/10/RGB/512/20/image_informations.csv'"
     },
     "metadata": {},
     "output_type": "display_data"
    },
    {
     "data": {
      "text/plain": "     seq      genus specific_epithet catalog_number      barcode  \\\n0  11290  Peperomia         elongata          30640  CEN00030640   \n1  11289  Peperomia         elongata          29361  CEN00029361   \n2  11339      Piper          aduncum          36440  CEN00036440   \n\n                                          path_image institution_code  \\\n0  /home/xandao/Documentos/RGB/512/w_pred_mask/CE...         Cenargen   \n1  /home/xandao/Documentos/RGB/512/w_pred_mask/CE...         Cenargen   \n2  /home/xandao/Documentos/RGB/512/w_pred_mask/CE...         Cenargen   \n\n  collection_code                                                url  \n0             CEN  https://specieslink.net/search/util/osd-dezoom...  \n1             CEN  https://specieslink.net/search/util/osd-dezoom...  \n2             CEN  https://specieslink.net/search/util/osd-dezoom...  ",
      "text/html": "<div>\n<style scoped>\n    .dataframe tbody tr th:only-of-type {\n        vertical-align: middle;\n    }\n\n    .dataframe tbody tr th {\n        vertical-align: top;\n    }\n\n    .dataframe thead th {\n        text-align: right;\n    }\n</style>\n<table border=\"1\" class=\"dataframe\">\n  <thead>\n    <tr style=\"text-align: right;\">\n      <th></th>\n      <th>seq</th>\n      <th>genus</th>\n      <th>specific_epithet</th>\n      <th>catalog_number</th>\n      <th>barcode</th>\n      <th>path_image</th>\n      <th>institution_code</th>\n      <th>collection_code</th>\n      <th>url</th>\n    </tr>\n  </thead>\n  <tbody>\n    <tr>\n      <th>0</th>\n      <td>11290</td>\n      <td>Peperomia</td>\n      <td>elongata</td>\n      <td>30640</td>\n      <td>CEN00030640</td>\n      <td>/home/xandao/Documentos/RGB/512/w_pred_mask/CE...</td>\n      <td>Cenargen</td>\n      <td>CEN</td>\n      <td>https://specieslink.net/search/util/osd-dezoom...</td>\n    </tr>\n    <tr>\n      <th>1</th>\n      <td>11289</td>\n      <td>Peperomia</td>\n      <td>elongata</td>\n      <td>29361</td>\n      <td>CEN00029361</td>\n      <td>/home/xandao/Documentos/RGB/512/w_pred_mask/CE...</td>\n      <td>Cenargen</td>\n      <td>CEN</td>\n      <td>https://specieslink.net/search/util/osd-dezoom...</td>\n    </tr>\n    <tr>\n      <th>2</th>\n      <td>11339</td>\n      <td>Piper</td>\n      <td>aduncum</td>\n      <td>36440</td>\n      <td>CEN00036440</td>\n      <td>/home/xandao/Documentos/RGB/512/w_pred_mask/CE...</td>\n      <td>Cenargen</td>\n      <td>CEN</td>\n      <td>https://specieslink.net/search/util/osd-dezoom...</td>\n    </tr>\n  </tbody>\n</table>\n</div>"
     },
     "metadata": {},
     "output_type": "display_data"
    },
    {
     "name": "stdout",
     "output_type": "stream",
     "text": [
      "specie: blanda before: 35 after: 34\n",
      "diff: ['/home/xandao/Documentos/RGB/512/w_pred_mask/HUFSJ001133_v00.jpeg']\n",
      "specie: decora before: 38 after: 37\n",
      "diff: ['/home/xandao/Documentos/RGB/512/w_pred_mask/HUFSJ002198_v00.jpeg']\n",
      "specie: quadrifolia before: 11 after: 9\n",
      "diff: ['/home/xandao/Documentos/RGB/512/w_pred_mask/HUFSJ001689_v00.jpeg', '/home/xandao/Documentos/RGB/512/w_pred_mask/HUFSJ003255_v00.jpeg']\n"
     ]
    },
    {
     "data": {
      "text/plain": "'color: rgb image_size: 512 minimum_image: 5'"
     },
     "metadata": {},
     "output_type": "display_data"
    },
    {
     "data": {
      "text/plain": "'len(list_level_name): 102 len(paths_images): 2748'"
     },
     "metadata": {},
     "output_type": "display_data"
    },
    {
     "data": {
      "text/plain": "'save csv in /home/xandao/Imagens/regioes_dataset/Norte/Nordeste/Centro-Oeste/Sudeste/RGB/512/5/dataset_informations.csv'"
     },
     "metadata": {},
     "output_type": "display_data"
    },
    {
     "data": {
      "text/plain": "       species                                              paths  count  \\\n0  abutiloides  [/home/xandao/Documentos/RGB/512/w_pred_mask/C...      6   \n1      aduncum  [/home/xandao/Documentos/RGB/512/w_pred_mask/A...     91   \n2        alata  [/home/xandao/Documentos/RGB/512/w_pred_mask/C...     28   \n\n                                                 dst  \n0  /home/xandao/Imagens/regioes_dataset/Norte/Nor...  \n1  /home/xandao/Imagens/regioes_dataset/Norte/Nor...  \n2  /home/xandao/Imagens/regioes_dataset/Norte/Nor...  ",
      "text/html": "<div>\n<style scoped>\n    .dataframe tbody tr th:only-of-type {\n        vertical-align: middle;\n    }\n\n    .dataframe tbody tr th {\n        vertical-align: top;\n    }\n\n    .dataframe thead th {\n        text-align: right;\n    }\n</style>\n<table border=\"1\" class=\"dataframe\">\n  <thead>\n    <tr style=\"text-align: right;\">\n      <th></th>\n      <th>species</th>\n      <th>paths</th>\n      <th>count</th>\n      <th>dst</th>\n    </tr>\n  </thead>\n  <tbody>\n    <tr>\n      <th>0</th>\n      <td>abutiloides</td>\n      <td>[/home/xandao/Documentos/RGB/512/w_pred_mask/C...</td>\n      <td>6</td>\n      <td>/home/xandao/Imagens/regioes_dataset/Norte/Nor...</td>\n    </tr>\n    <tr>\n      <th>1</th>\n      <td>aduncum</td>\n      <td>[/home/xandao/Documentos/RGB/512/w_pred_mask/A...</td>\n      <td>91</td>\n      <td>/home/xandao/Imagens/regioes_dataset/Norte/Nor...</td>\n    </tr>\n    <tr>\n      <th>2</th>\n      <td>alata</td>\n      <td>[/home/xandao/Documentos/RGB/512/w_pred_mask/C...</td>\n      <td>28</td>\n      <td>/home/xandao/Imagens/regioes_dataset/Norte/Nor...</td>\n    </tr>\n  </tbody>\n</table>\n</div>"
     },
     "metadata": {},
     "output_type": "display_data"
    },
    {
     "data": {
      "text/plain": "'total of images 2748'"
     },
     "metadata": {},
     "output_type": "display_data"
    },
    {
     "data": {
      "text/plain": "'image informations'"
     },
     "metadata": {},
     "output_type": "display_data"
    },
    {
     "data": {
      "text/plain": "'save csv in /home/xandao/Imagens/regioes_dataset/Norte/Nordeste/Centro-Oeste/Sudeste/RGB/512/5/image_informations.csv'"
     },
     "metadata": {},
     "output_type": "display_data"
    },
    {
     "data": {
      "text/plain": "     seq      genus specific_epithet catalog_number      barcode  \\\n0  11297  Peperomia        hispidula          36864  CEN00036864   \n1  11300  Peperomia        hispidula          53942  CEN00053942   \n2  11302  Peperomia        hispidula          58591  CEN00058591   \n\n                                          path_image institution_code  \\\n0  /home/xandao/Documentos/RGB/512/w_pred_mask/CE...         Cenargen   \n1  /home/xandao/Documentos/RGB/512/w_pred_mask/CE...         Cenargen   \n2  /home/xandao/Documentos/RGB/512/w_pred_mask/CE...         Cenargen   \n\n  collection_code                                                url  \n0             CEN  https://specieslink.net/search/util/osd-dezoom...  \n1             CEN  https://specieslink.net/search/util/osd-dezoom...  \n2             CEN  https://specieslink.net/search/util/osd-dezoom...  ",
      "text/html": "<div>\n<style scoped>\n    .dataframe tbody tr th:only-of-type {\n        vertical-align: middle;\n    }\n\n    .dataframe tbody tr th {\n        vertical-align: top;\n    }\n\n    .dataframe thead th {\n        text-align: right;\n    }\n</style>\n<table border=\"1\" class=\"dataframe\">\n  <thead>\n    <tr style=\"text-align: right;\">\n      <th></th>\n      <th>seq</th>\n      <th>genus</th>\n      <th>specific_epithet</th>\n      <th>catalog_number</th>\n      <th>barcode</th>\n      <th>path_image</th>\n      <th>institution_code</th>\n      <th>collection_code</th>\n      <th>url</th>\n    </tr>\n  </thead>\n  <tbody>\n    <tr>\n      <th>0</th>\n      <td>11297</td>\n      <td>Peperomia</td>\n      <td>hispidula</td>\n      <td>36864</td>\n      <td>CEN00036864</td>\n      <td>/home/xandao/Documentos/RGB/512/w_pred_mask/CE...</td>\n      <td>Cenargen</td>\n      <td>CEN</td>\n      <td>https://specieslink.net/search/util/osd-dezoom...</td>\n    </tr>\n    <tr>\n      <th>1</th>\n      <td>11300</td>\n      <td>Peperomia</td>\n      <td>hispidula</td>\n      <td>53942</td>\n      <td>CEN00053942</td>\n      <td>/home/xandao/Documentos/RGB/512/w_pred_mask/CE...</td>\n      <td>Cenargen</td>\n      <td>CEN</td>\n      <td>https://specieslink.net/search/util/osd-dezoom...</td>\n    </tr>\n    <tr>\n      <th>2</th>\n      <td>11302</td>\n      <td>Peperomia</td>\n      <td>hispidula</td>\n      <td>58591</td>\n      <td>CEN00058591</td>\n      <td>/home/xandao/Documentos/RGB/512/w_pred_mask/CE...</td>\n      <td>Cenargen</td>\n      <td>CEN</td>\n      <td>https://specieslink.net/search/util/osd-dezoom...</td>\n    </tr>\n  </tbody>\n</table>\n</div>"
     },
     "metadata": {},
     "output_type": "display_data"
    },
    {
     "name": "stdout",
     "output_type": "stream",
     "text": [
      "specie: blanda before: 35 after: 34\n",
      "diff: ['/home/xandao/Documentos/RGB/512/w_pred_mask/HUFSJ001133_v00.jpeg']\n",
      "specie: decora before: 38 after: 37\n",
      "diff: ['/home/xandao/Documentos/RGB/512/w_pred_mask/HUFSJ002198_v00.jpeg']\n",
      "specie: quadrifolia before: 11 after: 9\n",
      "diff: ['/home/xandao/Documentos/RGB/512/w_pred_mask/HUFSJ001689_v00.jpeg', '/home/xandao/Documentos/RGB/512/w_pred_mask/HUFSJ003255_v00.jpeg']\n"
     ]
    },
    {
     "data": {
      "text/plain": "'color: rgb image_size: 512 minimum_image: 10'"
     },
     "metadata": {},
     "output_type": "display_data"
    },
    {
     "data": {
      "text/plain": "'len(list_level_name): 68 len(paths_images): 2523'"
     },
     "metadata": {},
     "output_type": "display_data"
    },
    {
     "data": {
      "text/plain": "'save csv in /home/xandao/Imagens/regioes_dataset/Norte/Nordeste/Centro-Oeste/Sudeste/RGB/512/5/RGB/512/10/dataset_informations.csv'"
     },
     "metadata": {},
     "output_type": "display_data"
    },
    {
     "data": {
      "text/plain": "   species                                              paths  count  \\\n0  aduncum  [/home/xandao/Documentos/RGB/512/w_pred_mask/A...     91   \n1    alata  [/home/xandao/Documentos/RGB/512/w_pred_mask/C...     28   \n2  amalago  [/home/xandao/Documentos/RGB/512/w_pred_mask/C...    111   \n\n                                                 dst  \n0  /home/xandao/Imagens/regioes_dataset/Norte/Nor...  \n1  /home/xandao/Imagens/regioes_dataset/Norte/Nor...  \n2  /home/xandao/Imagens/regioes_dataset/Norte/Nor...  ",
      "text/html": "<div>\n<style scoped>\n    .dataframe tbody tr th:only-of-type {\n        vertical-align: middle;\n    }\n\n    .dataframe tbody tr th {\n        vertical-align: top;\n    }\n\n    .dataframe thead th {\n        text-align: right;\n    }\n</style>\n<table border=\"1\" class=\"dataframe\">\n  <thead>\n    <tr style=\"text-align: right;\">\n      <th></th>\n      <th>species</th>\n      <th>paths</th>\n      <th>count</th>\n      <th>dst</th>\n    </tr>\n  </thead>\n  <tbody>\n    <tr>\n      <th>0</th>\n      <td>aduncum</td>\n      <td>[/home/xandao/Documentos/RGB/512/w_pred_mask/A...</td>\n      <td>91</td>\n      <td>/home/xandao/Imagens/regioes_dataset/Norte/Nor...</td>\n    </tr>\n    <tr>\n      <th>1</th>\n      <td>alata</td>\n      <td>[/home/xandao/Documentos/RGB/512/w_pred_mask/C...</td>\n      <td>28</td>\n      <td>/home/xandao/Imagens/regioes_dataset/Norte/Nor...</td>\n    </tr>\n    <tr>\n      <th>2</th>\n      <td>amalago</td>\n      <td>[/home/xandao/Documentos/RGB/512/w_pred_mask/C...</td>\n      <td>111</td>\n      <td>/home/xandao/Imagens/regioes_dataset/Norte/Nor...</td>\n    </tr>\n  </tbody>\n</table>\n</div>"
     },
     "metadata": {},
     "output_type": "display_data"
    },
    {
     "data": {
      "text/plain": "'total of images 2523'"
     },
     "metadata": {},
     "output_type": "display_data"
    },
    {
     "data": {
      "text/plain": "'image informations'"
     },
     "metadata": {},
     "output_type": "display_data"
    },
    {
     "data": {
      "text/plain": "'save csv in /home/xandao/Imagens/regioes_dataset/Norte/Nordeste/Centro-Oeste/Sudeste/RGB/512/5/RGB/512/10/image_informations.csv'"
     },
     "metadata": {},
     "output_type": "display_data"
    },
    {
     "data": {
      "text/plain": "     seq      genus specific_epithet catalog_number      barcode  \\\n0  11297  Peperomia        hispidula          36864  CEN00036864   \n1  11300  Peperomia        hispidula          53942  CEN00053942   \n2  11302  Peperomia        hispidula          58591  CEN00058591   \n\n                                          path_image institution_code  \\\n0  /home/xandao/Documentos/RGB/512/w_pred_mask/CE...         Cenargen   \n1  /home/xandao/Documentos/RGB/512/w_pred_mask/CE...         Cenargen   \n2  /home/xandao/Documentos/RGB/512/w_pred_mask/CE...         Cenargen   \n\n  collection_code                                                url  \n0             CEN  https://specieslink.net/search/util/osd-dezoom...  \n1             CEN  https://specieslink.net/search/util/osd-dezoom...  \n2             CEN  https://specieslink.net/search/util/osd-dezoom...  ",
      "text/html": "<div>\n<style scoped>\n    .dataframe tbody tr th:only-of-type {\n        vertical-align: middle;\n    }\n\n    .dataframe tbody tr th {\n        vertical-align: top;\n    }\n\n    .dataframe thead th {\n        text-align: right;\n    }\n</style>\n<table border=\"1\" class=\"dataframe\">\n  <thead>\n    <tr style=\"text-align: right;\">\n      <th></th>\n      <th>seq</th>\n      <th>genus</th>\n      <th>specific_epithet</th>\n      <th>catalog_number</th>\n      <th>barcode</th>\n      <th>path_image</th>\n      <th>institution_code</th>\n      <th>collection_code</th>\n      <th>url</th>\n    </tr>\n  </thead>\n  <tbody>\n    <tr>\n      <th>0</th>\n      <td>11297</td>\n      <td>Peperomia</td>\n      <td>hispidula</td>\n      <td>36864</td>\n      <td>CEN00036864</td>\n      <td>/home/xandao/Documentos/RGB/512/w_pred_mask/CE...</td>\n      <td>Cenargen</td>\n      <td>CEN</td>\n      <td>https://specieslink.net/search/util/osd-dezoom...</td>\n    </tr>\n    <tr>\n      <th>1</th>\n      <td>11300</td>\n      <td>Peperomia</td>\n      <td>hispidula</td>\n      <td>53942</td>\n      <td>CEN00053942</td>\n      <td>/home/xandao/Documentos/RGB/512/w_pred_mask/CE...</td>\n      <td>Cenargen</td>\n      <td>CEN</td>\n      <td>https://specieslink.net/search/util/osd-dezoom...</td>\n    </tr>\n    <tr>\n      <th>2</th>\n      <td>11302</td>\n      <td>Peperomia</td>\n      <td>hispidula</td>\n      <td>58591</td>\n      <td>CEN00058591</td>\n      <td>/home/xandao/Documentos/RGB/512/w_pred_mask/CE...</td>\n      <td>Cenargen</td>\n      <td>CEN</td>\n      <td>https://specieslink.net/search/util/osd-dezoom...</td>\n    </tr>\n  </tbody>\n</table>\n</div>"
     },
     "metadata": {},
     "output_type": "display_data"
    },
    {
     "name": "stdout",
     "output_type": "stream",
     "text": [
      "specie: blanda before: 35 after: 34\n",
      "diff: ['/home/xandao/Documentos/RGB/512/w_pred_mask/HUFSJ001133_v00.jpeg']\n",
      "specie: decora before: 38 after: 37\n",
      "diff: ['/home/xandao/Documentos/RGB/512/w_pred_mask/HUFSJ002198_v00.jpeg']\n"
     ]
    },
    {
     "data": {
      "text/plain": "'color: rgb image_size: 512 minimum_image: 20'"
     },
     "metadata": {},
     "output_type": "display_data"
    },
    {
     "data": {
      "text/plain": "'len(list_level_name): 40 len(paths_images): 2170'"
     },
     "metadata": {},
     "output_type": "display_data"
    },
    {
     "data": {
      "text/plain": "'save csv in /home/xandao/Imagens/regioes_dataset/Norte/Nordeste/Centro-Oeste/Sudeste/RGB/512/5/RGB/512/10/RGB/512/20/dataset_informations.csv'"
     },
     "metadata": {},
     "output_type": "display_data"
    },
    {
     "data": {
      "text/plain": "   species                                              paths  count  \\\n0  aduncum  [/home/xandao/Documentos/RGB/512/w_pred_mask/A...     91   \n1    alata  [/home/xandao/Documentos/RGB/512/w_pred_mask/C...     28   \n2  amalago  [/home/xandao/Documentos/RGB/512/w_pred_mask/C...    111   \n\n                                                 dst  \n0  /home/xandao/Imagens/regioes_dataset/Norte/Nor...  \n1  /home/xandao/Imagens/regioes_dataset/Norte/Nor...  \n2  /home/xandao/Imagens/regioes_dataset/Norte/Nor...  ",
      "text/html": "<div>\n<style scoped>\n    .dataframe tbody tr th:only-of-type {\n        vertical-align: middle;\n    }\n\n    .dataframe tbody tr th {\n        vertical-align: top;\n    }\n\n    .dataframe thead th {\n        text-align: right;\n    }\n</style>\n<table border=\"1\" class=\"dataframe\">\n  <thead>\n    <tr style=\"text-align: right;\">\n      <th></th>\n      <th>species</th>\n      <th>paths</th>\n      <th>count</th>\n      <th>dst</th>\n    </tr>\n  </thead>\n  <tbody>\n    <tr>\n      <th>0</th>\n      <td>aduncum</td>\n      <td>[/home/xandao/Documentos/RGB/512/w_pred_mask/A...</td>\n      <td>91</td>\n      <td>/home/xandao/Imagens/regioes_dataset/Norte/Nor...</td>\n    </tr>\n    <tr>\n      <th>1</th>\n      <td>alata</td>\n      <td>[/home/xandao/Documentos/RGB/512/w_pred_mask/C...</td>\n      <td>28</td>\n      <td>/home/xandao/Imagens/regioes_dataset/Norte/Nor...</td>\n    </tr>\n    <tr>\n      <th>2</th>\n      <td>amalago</td>\n      <td>[/home/xandao/Documentos/RGB/512/w_pred_mask/C...</td>\n      <td>111</td>\n      <td>/home/xandao/Imagens/regioes_dataset/Norte/Nor...</td>\n    </tr>\n  </tbody>\n</table>\n</div>"
     },
     "metadata": {},
     "output_type": "display_data"
    },
    {
     "data": {
      "text/plain": "'total of images 2170'"
     },
     "metadata": {},
     "output_type": "display_data"
    },
    {
     "data": {
      "text/plain": "'image informations'"
     },
     "metadata": {},
     "output_type": "display_data"
    },
    {
     "data": {
      "text/plain": "'save csv in /home/xandao/Imagens/regioes_dataset/Norte/Nordeste/Centro-Oeste/Sudeste/RGB/512/5/RGB/512/10/RGB/512/20/image_informations.csv'"
     },
     "metadata": {},
     "output_type": "display_data"
    },
    {
     "data": {
      "text/plain": "     seq      genus specific_epithet catalog_number      barcode  \\\n0  11323  Peperomia    subrubrispica          49317  CEN00049317   \n1  11325  Peperomia      tetraphylla          36909  CEN00036909   \n2  11348      Piper           anisum          39761  CEN00039761   \n\n                                          path_image institution_code  \\\n0  /home/xandao/Documentos/RGB/512/w_pred_mask/CE...         Cenargen   \n1  /home/xandao/Documentos/RGB/512/w_pred_mask/CE...         Cenargen   \n2  /home/xandao/Documentos/RGB/512/w_pred_mask/CE...         Cenargen   \n\n  collection_code                                                url  \n0             CEN  https://specieslink.net/search/util/osd-dezoom...  \n1             CEN  https://specieslink.net/search/util/osd-dezoom...  \n2             CEN  https://specieslink.net/search/util/osd-dezoom...  ",
      "text/html": "<div>\n<style scoped>\n    .dataframe tbody tr th:only-of-type {\n        vertical-align: middle;\n    }\n\n    .dataframe tbody tr th {\n        vertical-align: top;\n    }\n\n    .dataframe thead th {\n        text-align: right;\n    }\n</style>\n<table border=\"1\" class=\"dataframe\">\n  <thead>\n    <tr style=\"text-align: right;\">\n      <th></th>\n      <th>seq</th>\n      <th>genus</th>\n      <th>specific_epithet</th>\n      <th>catalog_number</th>\n      <th>barcode</th>\n      <th>path_image</th>\n      <th>institution_code</th>\n      <th>collection_code</th>\n      <th>url</th>\n    </tr>\n  </thead>\n  <tbody>\n    <tr>\n      <th>0</th>\n      <td>11323</td>\n      <td>Peperomia</td>\n      <td>subrubrispica</td>\n      <td>49317</td>\n      <td>CEN00049317</td>\n      <td>/home/xandao/Documentos/RGB/512/w_pred_mask/CE...</td>\n      <td>Cenargen</td>\n      <td>CEN</td>\n      <td>https://specieslink.net/search/util/osd-dezoom...</td>\n    </tr>\n    <tr>\n      <th>1</th>\n      <td>11325</td>\n      <td>Peperomia</td>\n      <td>tetraphylla</td>\n      <td>36909</td>\n      <td>CEN00036909</td>\n      <td>/home/xandao/Documentos/RGB/512/w_pred_mask/CE...</td>\n      <td>Cenargen</td>\n      <td>CEN</td>\n      <td>https://specieslink.net/search/util/osd-dezoom...</td>\n    </tr>\n    <tr>\n      <th>2</th>\n      <td>11348</td>\n      <td>Piper</td>\n      <td>anisum</td>\n      <td>39761</td>\n      <td>CEN00039761</td>\n      <td>/home/xandao/Documentos/RGB/512/w_pred_mask/CE...</td>\n      <td>Cenargen</td>\n      <td>CEN</td>\n      <td>https://specieslink.net/search/util/osd-dezoom...</td>\n    </tr>\n  </tbody>\n</table>\n</div>"
     },
     "metadata": {},
     "output_type": "display_data"
    },
    {
     "data": {
      "text/plain": "'color: rgb image_size: 512 minimum_image: 5'"
     },
     "metadata": {},
     "output_type": "display_data"
    },
    {
     "data": {
      "text/plain": "'len(list_level_name): 71 len(paths_images): 2461'"
     },
     "metadata": {},
     "output_type": "display_data"
    },
    {
     "data": {
      "text/plain": "'save csv in /home/xandao/Imagens/regioes_dataset/Norte/Nordeste/Centro-Oeste/Sudeste/Sul/RGB/512/5/dataset_informations.csv'"
     },
     "metadata": {},
     "output_type": "display_data"
    },
    {
     "data": {
      "text/plain": "    species                                              paths  count  \\\n0   aduncum  [/home/xandao/Documentos/RGB/512/w_pred_mask/A...     56   \n1     alata  [/home/xandao/Documentos/RGB/512/w_pred_mask/C...     25   \n2  alnoides  [/home/xandao/Documentos/RGB/512/w_pred_mask/C...      9   \n\n                                                 dst  \n0  /home/xandao/Imagens/regioes_dataset/Norte/Nor...  \n1  /home/xandao/Imagens/regioes_dataset/Norte/Nor...  \n2  /home/xandao/Imagens/regioes_dataset/Norte/Nor...  ",
      "text/html": "<div>\n<style scoped>\n    .dataframe tbody tr th:only-of-type {\n        vertical-align: middle;\n    }\n\n    .dataframe tbody tr th {\n        vertical-align: top;\n    }\n\n    .dataframe thead th {\n        text-align: right;\n    }\n</style>\n<table border=\"1\" class=\"dataframe\">\n  <thead>\n    <tr style=\"text-align: right;\">\n      <th></th>\n      <th>species</th>\n      <th>paths</th>\n      <th>count</th>\n      <th>dst</th>\n    </tr>\n  </thead>\n  <tbody>\n    <tr>\n      <th>0</th>\n      <td>aduncum</td>\n      <td>[/home/xandao/Documentos/RGB/512/w_pred_mask/A...</td>\n      <td>56</td>\n      <td>/home/xandao/Imagens/regioes_dataset/Norte/Nor...</td>\n    </tr>\n    <tr>\n      <th>1</th>\n      <td>alata</td>\n      <td>[/home/xandao/Documentos/RGB/512/w_pred_mask/C...</td>\n      <td>25</td>\n      <td>/home/xandao/Imagens/regioes_dataset/Norte/Nor...</td>\n    </tr>\n    <tr>\n      <th>2</th>\n      <td>alnoides</td>\n      <td>[/home/xandao/Documentos/RGB/512/w_pred_mask/C...</td>\n      <td>9</td>\n      <td>/home/xandao/Imagens/regioes_dataset/Norte/Nor...</td>\n    </tr>\n  </tbody>\n</table>\n</div>"
     },
     "metadata": {},
     "output_type": "display_data"
    },
    {
     "data": {
      "text/plain": "'total of images 2461'"
     },
     "metadata": {},
     "output_type": "display_data"
    },
    {
     "data": {
      "text/plain": "'image informations'"
     },
     "metadata": {},
     "output_type": "display_data"
    },
    {
     "data": {
      "text/plain": "'save csv in /home/xandao/Imagens/regioes_dataset/Norte/Nordeste/Centro-Oeste/Sudeste/Sul/RGB/512/5/image_informations.csv'"
     },
     "metadata": {},
     "output_type": "display_data"
    },
    {
     "data": {
      "text/plain": "     seq      genus specific_epithet catalog_number      barcode  \\\n0  11292  Peperomia         glabella          45015  CEN00045015   \n1  11294  Peperomia         glabella          82226  CEN00082226   \n2  11299  Peperomia        hispidula          47117  CEN00047117   \n\n                                          path_image institution_code  \\\n0  /home/xandao/Documentos/RGB/512/w_pred_mask/CE...         Cenargen   \n1  /home/xandao/Documentos/RGB/512/w_pred_mask/CE...         Cenargen   \n2  /home/xandao/Documentos/RGB/512/w_pred_mask/CE...         Cenargen   \n\n  collection_code                                                url  \n0             CEN  https://specieslink.net/search/util/osd-dezoom...  \n1             CEN  https://specieslink.net/search/util/osd-dezoom...  \n2             CEN  https://specieslink.net/search/util/osd-dezoom...  ",
      "text/html": "<div>\n<style scoped>\n    .dataframe tbody tr th:only-of-type {\n        vertical-align: middle;\n    }\n\n    .dataframe tbody tr th {\n        vertical-align: top;\n    }\n\n    .dataframe thead th {\n        text-align: right;\n    }\n</style>\n<table border=\"1\" class=\"dataframe\">\n  <thead>\n    <tr style=\"text-align: right;\">\n      <th></th>\n      <th>seq</th>\n      <th>genus</th>\n      <th>specific_epithet</th>\n      <th>catalog_number</th>\n      <th>barcode</th>\n      <th>path_image</th>\n      <th>institution_code</th>\n      <th>collection_code</th>\n      <th>url</th>\n    </tr>\n  </thead>\n  <tbody>\n    <tr>\n      <th>0</th>\n      <td>11292</td>\n      <td>Peperomia</td>\n      <td>glabella</td>\n      <td>45015</td>\n      <td>CEN00045015</td>\n      <td>/home/xandao/Documentos/RGB/512/w_pred_mask/CE...</td>\n      <td>Cenargen</td>\n      <td>CEN</td>\n      <td>https://specieslink.net/search/util/osd-dezoom...</td>\n    </tr>\n    <tr>\n      <th>1</th>\n      <td>11294</td>\n      <td>Peperomia</td>\n      <td>glabella</td>\n      <td>82226</td>\n      <td>CEN00082226</td>\n      <td>/home/xandao/Documentos/RGB/512/w_pred_mask/CE...</td>\n      <td>Cenargen</td>\n      <td>CEN</td>\n      <td>https://specieslink.net/search/util/osd-dezoom...</td>\n    </tr>\n    <tr>\n      <th>2</th>\n      <td>11299</td>\n      <td>Peperomia</td>\n      <td>hispidula</td>\n      <td>47117</td>\n      <td>CEN00047117</td>\n      <td>/home/xandao/Documentos/RGB/512/w_pred_mask/CE...</td>\n      <td>Cenargen</td>\n      <td>CEN</td>\n      <td>https://specieslink.net/search/util/osd-dezoom...</td>\n    </tr>\n  </tbody>\n</table>\n</div>"
     },
     "metadata": {},
     "output_type": "display_data"
    },
    {
     "data": {
      "text/plain": "'color: rgb image_size: 512 minimum_image: 10'"
     },
     "metadata": {},
     "output_type": "display_data"
    },
    {
     "data": {
      "text/plain": "'len(list_level_name): 48 len(paths_images): 2313'"
     },
     "metadata": {},
     "output_type": "display_data"
    },
    {
     "data": {
      "text/plain": "'save csv in /home/xandao/Imagens/regioes_dataset/Norte/Nordeste/Centro-Oeste/Sudeste/Sul/RGB/512/5/RGB/512/10/dataset_informations.csv'"
     },
     "metadata": {},
     "output_type": "display_data"
    },
    {
     "data": {
      "text/plain": "   species                                              paths  count  \\\n0  aduncum  [/home/xandao/Documentos/RGB/512/w_pred_mask/A...     56   \n1    alata  [/home/xandao/Documentos/RGB/512/w_pred_mask/C...     25   \n2  amalago  [/home/xandao/Documentos/RGB/512/w_pred_mask/A...     83   \n\n                                                 dst  \n0  /home/xandao/Imagens/regioes_dataset/Norte/Nor...  \n1  /home/xandao/Imagens/regioes_dataset/Norte/Nor...  \n2  /home/xandao/Imagens/regioes_dataset/Norte/Nor...  ",
      "text/html": "<div>\n<style scoped>\n    .dataframe tbody tr th:only-of-type {\n        vertical-align: middle;\n    }\n\n    .dataframe tbody tr th {\n        vertical-align: top;\n    }\n\n    .dataframe thead th {\n        text-align: right;\n    }\n</style>\n<table border=\"1\" class=\"dataframe\">\n  <thead>\n    <tr style=\"text-align: right;\">\n      <th></th>\n      <th>species</th>\n      <th>paths</th>\n      <th>count</th>\n      <th>dst</th>\n    </tr>\n  </thead>\n  <tbody>\n    <tr>\n      <th>0</th>\n      <td>aduncum</td>\n      <td>[/home/xandao/Documentos/RGB/512/w_pred_mask/A...</td>\n      <td>56</td>\n      <td>/home/xandao/Imagens/regioes_dataset/Norte/Nor...</td>\n    </tr>\n    <tr>\n      <th>1</th>\n      <td>alata</td>\n      <td>[/home/xandao/Documentos/RGB/512/w_pred_mask/C...</td>\n      <td>25</td>\n      <td>/home/xandao/Imagens/regioes_dataset/Norte/Nor...</td>\n    </tr>\n    <tr>\n      <th>2</th>\n      <td>amalago</td>\n      <td>[/home/xandao/Documentos/RGB/512/w_pred_mask/A...</td>\n      <td>83</td>\n      <td>/home/xandao/Imagens/regioes_dataset/Norte/Nor...</td>\n    </tr>\n  </tbody>\n</table>\n</div>"
     },
     "metadata": {},
     "output_type": "display_data"
    },
    {
     "data": {
      "text/plain": "'total of images 2313'"
     },
     "metadata": {},
     "output_type": "display_data"
    },
    {
     "data": {
      "text/plain": "'image informations'"
     },
     "metadata": {},
     "output_type": "display_data"
    },
    {
     "data": {
      "text/plain": "'save csv in /home/xandao/Imagens/regioes_dataset/Norte/Nordeste/Centro-Oeste/Sudeste/Sul/RGB/512/5/RGB/512/10/image_informations.csv'"
     },
     "metadata": {},
     "output_type": "display_data"
    },
    {
     "data": {
      "text/plain": "     seq      genus specific_epithet catalog_number      barcode  \\\n0  11292  Peperomia         glabella          45015  CEN00045015   \n1  11294  Peperomia         glabella          82226  CEN00082226   \n2  11299  Peperomia        hispidula          47117  CEN00047117   \n\n                                          path_image institution_code  \\\n0  /home/xandao/Documentos/RGB/512/w_pred_mask/CE...         Cenargen   \n1  /home/xandao/Documentos/RGB/512/w_pred_mask/CE...         Cenargen   \n2  /home/xandao/Documentos/RGB/512/w_pred_mask/CE...         Cenargen   \n\n  collection_code                                                url  \n0             CEN  https://specieslink.net/search/util/osd-dezoom...  \n1             CEN  https://specieslink.net/search/util/osd-dezoom...  \n2             CEN  https://specieslink.net/search/util/osd-dezoom...  ",
      "text/html": "<div>\n<style scoped>\n    .dataframe tbody tr th:only-of-type {\n        vertical-align: middle;\n    }\n\n    .dataframe tbody tr th {\n        vertical-align: top;\n    }\n\n    .dataframe thead th {\n        text-align: right;\n    }\n</style>\n<table border=\"1\" class=\"dataframe\">\n  <thead>\n    <tr style=\"text-align: right;\">\n      <th></th>\n      <th>seq</th>\n      <th>genus</th>\n      <th>specific_epithet</th>\n      <th>catalog_number</th>\n      <th>barcode</th>\n      <th>path_image</th>\n      <th>institution_code</th>\n      <th>collection_code</th>\n      <th>url</th>\n    </tr>\n  </thead>\n  <tbody>\n    <tr>\n      <th>0</th>\n      <td>11292</td>\n      <td>Peperomia</td>\n      <td>glabella</td>\n      <td>45015</td>\n      <td>CEN00045015</td>\n      <td>/home/xandao/Documentos/RGB/512/w_pred_mask/CE...</td>\n      <td>Cenargen</td>\n      <td>CEN</td>\n      <td>https://specieslink.net/search/util/osd-dezoom...</td>\n    </tr>\n    <tr>\n      <th>1</th>\n      <td>11294</td>\n      <td>Peperomia</td>\n      <td>glabella</td>\n      <td>82226</td>\n      <td>CEN00082226</td>\n      <td>/home/xandao/Documentos/RGB/512/w_pred_mask/CE...</td>\n      <td>Cenargen</td>\n      <td>CEN</td>\n      <td>https://specieslink.net/search/util/osd-dezoom...</td>\n    </tr>\n    <tr>\n      <th>2</th>\n      <td>11299</td>\n      <td>Peperomia</td>\n      <td>hispidula</td>\n      <td>47117</td>\n      <td>CEN00047117</td>\n      <td>/home/xandao/Documentos/RGB/512/w_pred_mask/CE...</td>\n      <td>Cenargen</td>\n      <td>CEN</td>\n      <td>https://specieslink.net/search/util/osd-dezoom...</td>\n    </tr>\n  </tbody>\n</table>\n</div>"
     },
     "metadata": {},
     "output_type": "display_data"
    },
    {
     "data": {
      "text/plain": "'color: rgb image_size: 512 minimum_image: 20'"
     },
     "metadata": {},
     "output_type": "display_data"
    },
    {
     "data": {
      "text/plain": "'len(list_level_name): 32 len(paths_images): 2113'"
     },
     "metadata": {},
     "output_type": "display_data"
    },
    {
     "data": {
      "text/plain": "'save csv in /home/xandao/Imagens/regioes_dataset/Norte/Nordeste/Centro-Oeste/Sudeste/Sul/RGB/512/5/RGB/512/10/RGB/512/20/dataset_informations.csv'"
     },
     "metadata": {},
     "output_type": "display_data"
    },
    {
     "data": {
      "text/plain": "   species                                              paths  count  \\\n0  aduncum  [/home/xandao/Documentos/RGB/512/w_pred_mask/A...     56   \n1    alata  [/home/xandao/Documentos/RGB/512/w_pred_mask/C...     25   \n2  amalago  [/home/xandao/Documentos/RGB/512/w_pred_mask/A...     83   \n\n                                                 dst  \n0  /home/xandao/Imagens/regioes_dataset/Norte/Nor...  \n1  /home/xandao/Imagens/regioes_dataset/Norte/Nor...  \n2  /home/xandao/Imagens/regioes_dataset/Norte/Nor...  ",
      "text/html": "<div>\n<style scoped>\n    .dataframe tbody tr th:only-of-type {\n        vertical-align: middle;\n    }\n\n    .dataframe tbody tr th {\n        vertical-align: top;\n    }\n\n    .dataframe thead th {\n        text-align: right;\n    }\n</style>\n<table border=\"1\" class=\"dataframe\">\n  <thead>\n    <tr style=\"text-align: right;\">\n      <th></th>\n      <th>species</th>\n      <th>paths</th>\n      <th>count</th>\n      <th>dst</th>\n    </tr>\n  </thead>\n  <tbody>\n    <tr>\n      <th>0</th>\n      <td>aduncum</td>\n      <td>[/home/xandao/Documentos/RGB/512/w_pred_mask/A...</td>\n      <td>56</td>\n      <td>/home/xandao/Imagens/regioes_dataset/Norte/Nor...</td>\n    </tr>\n    <tr>\n      <th>1</th>\n      <td>alata</td>\n      <td>[/home/xandao/Documentos/RGB/512/w_pred_mask/C...</td>\n      <td>25</td>\n      <td>/home/xandao/Imagens/regioes_dataset/Norte/Nor...</td>\n    </tr>\n    <tr>\n      <th>2</th>\n      <td>amalago</td>\n      <td>[/home/xandao/Documentos/RGB/512/w_pred_mask/A...</td>\n      <td>83</td>\n      <td>/home/xandao/Imagens/regioes_dataset/Norte/Nor...</td>\n    </tr>\n  </tbody>\n</table>\n</div>"
     },
     "metadata": {},
     "output_type": "display_data"
    },
    {
     "data": {
      "text/plain": "'total of images 2113'"
     },
     "metadata": {},
     "output_type": "display_data"
    },
    {
     "data": {
      "text/plain": "'image informations'"
     },
     "metadata": {},
     "output_type": "display_data"
    },
    {
     "data": {
      "text/plain": "'save csv in /home/xandao/Imagens/regioes_dataset/Norte/Nordeste/Centro-Oeste/Sudeste/Sul/RGB/512/5/RGB/512/10/RGB/512/20/image_informations.csv'"
     },
     "metadata": {},
     "output_type": "display_data"
    },
    {
     "data": {
      "text/plain": "     seq      genus specific_epithet catalog_number      barcode  \\\n0  11292  Peperomia         glabella          45015  CEN00045015   \n1  11294  Peperomia         glabella          82226  CEN00082226   \n2  11299  Peperomia        hispidula          47117  CEN00047117   \n\n                                          path_image institution_code  \\\n0  /home/xandao/Documentos/RGB/512/w_pred_mask/CE...         Cenargen   \n1  /home/xandao/Documentos/RGB/512/w_pred_mask/CE...         Cenargen   \n2  /home/xandao/Documentos/RGB/512/w_pred_mask/CE...         Cenargen   \n\n  collection_code                                                url  \n0             CEN  https://specieslink.net/search/util/osd-dezoom...  \n1             CEN  https://specieslink.net/search/util/osd-dezoom...  \n2             CEN  https://specieslink.net/search/util/osd-dezoom...  ",
      "text/html": "<div>\n<style scoped>\n    .dataframe tbody tr th:only-of-type {\n        vertical-align: middle;\n    }\n\n    .dataframe tbody tr th {\n        vertical-align: top;\n    }\n\n    .dataframe thead th {\n        text-align: right;\n    }\n</style>\n<table border=\"1\" class=\"dataframe\">\n  <thead>\n    <tr style=\"text-align: right;\">\n      <th></th>\n      <th>seq</th>\n      <th>genus</th>\n      <th>specific_epithet</th>\n      <th>catalog_number</th>\n      <th>barcode</th>\n      <th>path_image</th>\n      <th>institution_code</th>\n      <th>collection_code</th>\n      <th>url</th>\n    </tr>\n  </thead>\n  <tbody>\n    <tr>\n      <th>0</th>\n      <td>11292</td>\n      <td>Peperomia</td>\n      <td>glabella</td>\n      <td>45015</td>\n      <td>CEN00045015</td>\n      <td>/home/xandao/Documentos/RGB/512/w_pred_mask/CE...</td>\n      <td>Cenargen</td>\n      <td>CEN</td>\n      <td>https://specieslink.net/search/util/osd-dezoom...</td>\n    </tr>\n    <tr>\n      <th>1</th>\n      <td>11294</td>\n      <td>Peperomia</td>\n      <td>glabella</td>\n      <td>82226</td>\n      <td>CEN00082226</td>\n      <td>/home/xandao/Documentos/RGB/512/w_pred_mask/CE...</td>\n      <td>Cenargen</td>\n      <td>CEN</td>\n      <td>https://specieslink.net/search/util/osd-dezoom...</td>\n    </tr>\n    <tr>\n      <th>2</th>\n      <td>11299</td>\n      <td>Peperomia</td>\n      <td>hispidula</td>\n      <td>47117</td>\n      <td>CEN00047117</td>\n      <td>/home/xandao/Documentos/RGB/512/w_pred_mask/CE...</td>\n      <td>Cenargen</td>\n      <td>CEN</td>\n      <td>https://specieslink.net/search/util/osd-dezoom...</td>\n    </tr>\n  </tbody>\n</table>\n</div>"
     },
     "metadata": {},
     "output_type": "display_data"
    }
   ],
   "source": [
    "for regiao in list_regioes:\n",
    "    query = session.query(County)\\\n",
    "        .filter(County.regiao==regiao)\\\n",
    "        .distinct()\\\n",
    "        .all()\n",
    "\n",
    "    uf_unaccented_lower, state_unaccented_lower, county_unaccented_lower = db.get_list_uf_state_county(query)\n",
    "\n",
    "    level = DataTrustedIdentifier.specific_epithet\n",
    "    condition = sa.and_(DataTrustedIdentifier.country_trusted =='Brasil',\n",
    "                    DataTrustedIdentifier.specific_epithet.is_not(None),\n",
    "                     sa.or_(uf_unaccented_lower, state_unaccented_lower))\n",
    "\n",
    "    path_out = os.path.join(path_out, regiao)\n",
    "\n",
    "    separate_and_copy_images(condition, level, list_color, list_images_invalid, list_minimum_image, list_image_size, path_out, session)"
   ],
   "metadata": {
    "collapsed": false
   }
  },
  {
   "cell_type": "markdown",
   "source": [
    "## Close connection"
   ],
   "metadata": {
    "collapsed": false
   }
  },
  {
   "cell_type": "code",
   "execution_count": 15,
   "outputs": [
    {
     "ename": "AttributeError",
     "evalue": "'Engine' object has no attribute 'close'",
     "output_type": "error",
     "traceback": [
      "\u001B[0;31m---------------------------------------------------------------------------\u001B[0m",
      "\u001B[0;31mAttributeError\u001B[0m                            Traceback (most recent call last)",
      "Cell \u001B[0;32mIn[15], line 2\u001B[0m\n\u001B[1;32m      1\u001B[0m session\u001B[38;5;241m.\u001B[39mclose()\n\u001B[0;32m----> 2\u001B[0m \u001B[43mengine\u001B[49m\u001B[38;5;241;43m.\u001B[39;49m\u001B[43mclose\u001B[49m()\n",
      "\u001B[0;31mAttributeError\u001B[0m: 'Engine' object has no attribute 'close'"
     ]
    }
   ],
   "source": [
    "session.close()\n",
    "engine.close()"
   ],
   "metadata": {
    "collapsed": false
   }
  }
 ],
 "metadata": {
  "kernelspec": {
   "display_name": "base",
   "language": "python",
   "name": "python3"
  },
  "language_info": {
   "codemirror_mode": {
    "name": "ipython",
    "version": 3
   },
   "file_extension": ".py",
   "mimetype": "text/x-python",
   "name": "python",
   "nbconvert_exporter": "python",
   "pygments_lexer": "ipython3",
   "version": "3.9.12"
  },
  "vscode": {
   "interpreter": {
    "hash": "53ce972a288a646521e393254486dd3d4e40ae124f0f9a66da52dff344d61cdc"
   }
  }
 },
 "nbformat": 4,
 "nbformat_minor": 1
}
