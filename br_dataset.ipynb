{
 "cells": [
  {
   "cell_type": "code",
   "execution_count": 10,
   "outputs": [
    {
     "name": "stdout",
     "output_type": "stream",
     "text": [
      "The autoreload extension is already loaded. To reload it, use:\n",
      "  %reload_ext autoreload\n"
     ]
    }
   ],
   "source": [
    "%reload_ext autoreload\n",
    "%load_ext autoreload\n",
    "%autoreload 2"
   ],
   "metadata": {
    "collapsed": false
   }
  },
  {
   "cell_type": "code",
   "execution_count": 11,
   "outputs": [],
   "source": [
    "import os\n",
    "import sqlalchemy as sa\n",
    "\n",
    "import database as db\n",
    "from images import copy_images, get_list_of_images_invalid, save_metadata\n",
    "from models import County, DataTrustedIdentifier, Image\n",
    "from unaccent import unaccent"
   ],
   "metadata": {
    "collapsed": false
   }
  },
  {
   "cell_type": "code",
   "execution_count": 12,
   "outputs": [
    {
     "name": "stdout",
     "output_type": "stream",
     "text": [
      "2023-03-30 09:30:31,725 INFO sqlalchemy.engine.Engine select pg_catalog.version()\n",
      "2023-03-30 09:30:31,726 INFO sqlalchemy.engine.Engine [raw sql] {}\n",
      "2023-03-30 09:30:31,727 INFO sqlalchemy.engine.Engine select current_schema()\n",
      "2023-03-30 09:30:31,727 INFO sqlalchemy.engine.Engine [raw sql] {}\n",
      "2023-03-30 09:30:31,728 INFO sqlalchemy.engine.Engine show standard_conforming_strings\n",
      "2023-03-30 09:30:31,728 INFO sqlalchemy.engine.Engine [raw sql] {}\n"
     ]
    }
   ],
   "source": [
    "engine, session=db.connect()\n",
    "engine.echo=False"
   ],
   "metadata": {
    "collapsed": false
   }
  },
  {
   "cell_type": "code",
   "execution_count": 13,
   "outputs": [],
   "source": [
    "query = session.query(County).distinct().all()\n",
    "\n",
    "list_uf = [unaccent(sa.func.lower(q.uf)) for q in query]\n",
    "list_state = [unaccent(sa.func.lower(q.state)) for q in query]\n",
    "list_county = [unaccent(sa.func.lower(q.county)) for q in query]\n",
    "\n",
    "uf_unaccented_lower = unaccent(sa.func.lower(DataTrustedIdentifier.state_province)).in_(list_uf)\n",
    "state_unaccented_lower = unaccent(sa.func.lower(DataTrustedIdentifier.state_province)).in_(list_state)\n",
    "county_unaccented_lower = unaccent(sa.func.lower(DataTrustedIdentifier.county)).in_(list_county)"
   ],
   "metadata": {
    "collapsed": false
   }
  },
  {
   "cell_type": "code",
   "execution_count": 14,
   "outputs": [
    {
     "data": {
      "text/plain": "['INPA0248526',\n 'INPA0248523',\n 'INPA0248528',\n 'NY01421926_01',\n 'NY01421575_01',\n 'HUFSJ001689_v00',\n 'HUFSJ001133_v00',\n 'HUFSJ002198_v00',\n 'HUFSJ003255_v00',\n 'HVASF000487_v01',\n 'HUFSJ001689_v01',\n 'INPA0019084_nd',\n 'INPA0022379_nd',\n 'INPA0032742_nd',\n 'INPA0023115',\n 'NL-U1484137',\n 'NY01397568_01',\n 'INPA0012286',\n 'INPA0146998']"
     },
     "execution_count": 14,
     "metadata": {},
     "output_type": "execute_result"
    }
   ],
   "source": [
    "list_minimum_image=[5, 10, 20]\n",
    "list_color=['rgb', 'grayscale']\n",
    "list_image_size=['256', '400', '512']\n",
    "path_out = '/home/xandao/Imagens/br_dataset'\n",
    "list_images_invalid=get_list_of_images_invalid()\n",
    "list_images_invalid=list_images_invalid['barcode']\n",
    "list_images_invalid"
   ],
   "metadata": {
    "collapsed": false
   }
  },
  {
   "cell_type": "code",
   "execution_count": 15,
   "outputs": [
    {
     "name": "stdout",
     "output_type": "stream",
     "text": [
      "color: RGB image_size: 256 minimum_image: 5\n",
      "total of levels: 235 total of images: 10515\n"
     ]
    },
    {
     "data": {
      "text/plain": "        levels                                              paths  count  \\\n0  abutiloides  [/media/xandao/c2f58d30-ff2c-47f7-95af-91ad6fd...      8   \n1      aduncum  [/media/xandao/c2f58d30-ff2c-47f7-95af-91ad6fd...    377   \n2      aequale  [/media/xandao/c2f58d30-ff2c-47f7-95af-91ad6fd...     30   \n3        alata  [/media/xandao/c2f58d30-ff2c-47f7-95af-91ad6fd...     81   \n\n                                                 seq  \n0  [9416, 10009, 10651, 12428, 25112, 37910, 3847...  \n1  [7220, 7221, 7222, 7234, 7742, 7757, 8224, 868...  \n2  [8727, 9316, 10163, 11517, 12577, 20200, 21125...  \n3  [6857, 6861, 6862, 6863, 6864, 7565, 7859, 986...  ",
      "text/html": "<div>\n<style scoped>\n    .dataframe tbody tr th:only-of-type {\n        vertical-align: middle;\n    }\n\n    .dataframe tbody tr th {\n        vertical-align: top;\n    }\n\n    .dataframe thead th {\n        text-align: right;\n    }\n</style>\n<table border=\"1\" class=\"dataframe\">\n  <thead>\n    <tr style=\"text-align: right;\">\n      <th></th>\n      <th>levels</th>\n      <th>paths</th>\n      <th>count</th>\n      <th>seq</th>\n    </tr>\n  </thead>\n  <tbody>\n    <tr>\n      <th>0</th>\n      <td>abutiloides</td>\n      <td>[/media/xandao/c2f58d30-ff2c-47f7-95af-91ad6fd...</td>\n      <td>8</td>\n      <td>[9416, 10009, 10651, 12428, 25112, 37910, 3847...</td>\n    </tr>\n    <tr>\n      <th>1</th>\n      <td>aduncum</td>\n      <td>[/media/xandao/c2f58d30-ff2c-47f7-95af-91ad6fd...</td>\n      <td>377</td>\n      <td>[7220, 7221, 7222, 7234, 7742, 7757, 8224, 868...</td>\n    </tr>\n    <tr>\n      <th>2</th>\n      <td>aequale</td>\n      <td>[/media/xandao/c2f58d30-ff2c-47f7-95af-91ad6fd...</td>\n      <td>30</td>\n      <td>[8727, 9316, 10163, 11517, 12577, 20200, 21125...</td>\n    </tr>\n    <tr>\n      <th>3</th>\n      <td>alata</td>\n      <td>[/media/xandao/c2f58d30-ff2c-47f7-95af-91ad6fd...</td>\n      <td>81</td>\n      <td>[6857, 6861, 6862, 6863, 6864, 7565, 7859, 986...</td>\n    </tr>\n  </tbody>\n</table>\n</div>"
     },
     "metadata": {},
     "output_type": "display_data"
    },
    {
     "data": {
      "text/plain": "     seq    genus specific_epithet genus_trusted specific_epithet_trusted  \\\n0   9735    Piper         arboreum         Piper                 arboreum   \n1  19770  Ottonia           anisum         Piper                   anisum   \n2  40891  Ottonia         taperana         Piper                   anisum   \n3   7333    Piper     corcovadense         Piper                grazielae   \n\n                                                urls  \n0  [https://storage.googleapis.com/cria-zoomify/h...  \n1  [https://storage.googleapis.com/cria-zoomify/h...  \n2  [https://storage.googleapis.com/cria-zoomify/h...  \n3  [https://storage.googleapis.com/cria-zoomify/h...  ",
      "text/html": "<div>\n<style scoped>\n    .dataframe tbody tr th:only-of-type {\n        vertical-align: middle;\n    }\n\n    .dataframe tbody tr th {\n        vertical-align: top;\n    }\n\n    .dataframe thead th {\n        text-align: right;\n    }\n</style>\n<table border=\"1\" class=\"dataframe\">\n  <thead>\n    <tr style=\"text-align: right;\">\n      <th></th>\n      <th>seq</th>\n      <th>genus</th>\n      <th>specific_epithet</th>\n      <th>genus_trusted</th>\n      <th>specific_epithet_trusted</th>\n      <th>urls</th>\n    </tr>\n  </thead>\n  <tbody>\n    <tr>\n      <th>0</th>\n      <td>9735</td>\n      <td>Piper</td>\n      <td>arboreum</td>\n      <td>Piper</td>\n      <td>arboreum</td>\n      <td>[https://storage.googleapis.com/cria-zoomify/h...</td>\n    </tr>\n    <tr>\n      <th>1</th>\n      <td>19770</td>\n      <td>Ottonia</td>\n      <td>anisum</td>\n      <td>Piper</td>\n      <td>anisum</td>\n      <td>[https://storage.googleapis.com/cria-zoomify/h...</td>\n    </tr>\n    <tr>\n      <th>2</th>\n      <td>40891</td>\n      <td>Ottonia</td>\n      <td>taperana</td>\n      <td>Piper</td>\n      <td>anisum</td>\n      <td>[https://storage.googleapis.com/cria-zoomify/h...</td>\n    </tr>\n    <tr>\n      <th>3</th>\n      <td>7333</td>\n      <td>Piper</td>\n      <td>corcovadense</td>\n      <td>Piper</td>\n      <td>grazielae</td>\n      <td>[https://storage.googleapis.com/cria-zoomify/h...</td>\n    </tr>\n  </tbody>\n</table>\n</div>"
     },
     "metadata": {},
     "output_type": "display_data"
    },
    {
     "name": "stdout",
     "output_type": "stream",
     "text": [
      "color: RGB image_size: 256 minimum_image: 10\n",
      "total of levels: 160 total of images: 9991\n"
     ]
    },
    {
     "data": {
      "text/plain": "        levels                                              paths  count  \\\n0      aduncum  [/media/xandao/c2f58d30-ff2c-47f7-95af-91ad6fd...    377   \n1      aequale  [/media/xandao/c2f58d30-ff2c-47f7-95af-91ad6fd...     30   \n2        alata  [/media/xandao/c2f58d30-ff2c-47f7-95af-91ad6fd...     81   \n3  alatabaccum  [/media/xandao/c2f58d30-ff2c-47f7-95af-91ad6fd...     28   \n\n                                                 seq  \n0  [7220, 7221, 7222, 7234, 7742, 7757, 8224, 868...  \n1  [8727, 9316, 10163, 11517, 12577, 20200, 21125...  \n2  [6857, 6861, 6862, 6863, 6864, 7565, 7859, 986...  \n3  [26207, 30555, 30557, 30558, 30560, 30561, 305...  ",
      "text/html": "<div>\n<style scoped>\n    .dataframe tbody tr th:only-of-type {\n        vertical-align: middle;\n    }\n\n    .dataframe tbody tr th {\n        vertical-align: top;\n    }\n\n    .dataframe thead th {\n        text-align: right;\n    }\n</style>\n<table border=\"1\" class=\"dataframe\">\n  <thead>\n    <tr style=\"text-align: right;\">\n      <th></th>\n      <th>levels</th>\n      <th>paths</th>\n      <th>count</th>\n      <th>seq</th>\n    </tr>\n  </thead>\n  <tbody>\n    <tr>\n      <th>0</th>\n      <td>aduncum</td>\n      <td>[/media/xandao/c2f58d30-ff2c-47f7-95af-91ad6fd...</td>\n      <td>377</td>\n      <td>[7220, 7221, 7222, 7234, 7742, 7757, 8224, 868...</td>\n    </tr>\n    <tr>\n      <th>1</th>\n      <td>aequale</td>\n      <td>[/media/xandao/c2f58d30-ff2c-47f7-95af-91ad6fd...</td>\n      <td>30</td>\n      <td>[8727, 9316, 10163, 11517, 12577, 20200, 21125...</td>\n    </tr>\n    <tr>\n      <th>2</th>\n      <td>alata</td>\n      <td>[/media/xandao/c2f58d30-ff2c-47f7-95af-91ad6fd...</td>\n      <td>81</td>\n      <td>[6857, 6861, 6862, 6863, 6864, 7565, 7859, 986...</td>\n    </tr>\n    <tr>\n      <th>3</th>\n      <td>alatabaccum</td>\n      <td>[/media/xandao/c2f58d30-ff2c-47f7-95af-91ad6fd...</td>\n      <td>28</td>\n      <td>[26207, 30555, 30557, 30558, 30560, 30561, 305...</td>\n    </tr>\n  </tbody>\n</table>\n</div>"
     },
     "metadata": {},
     "output_type": "display_data"
    },
    {
     "data": {
      "text/plain": "     seq    genus specific_epithet genus_trusted specific_epithet_trusted  \\\n0   9735    Piper         arboreum         Piper                 arboreum   \n1  19770  Ottonia           anisum         Piper                   anisum   \n2  40891  Ottonia         taperana         Piper                   anisum   \n3   7333    Piper     corcovadense         Piper                grazielae   \n\n                                                urls  \n0  [https://storage.googleapis.com/cria-zoomify/h...  \n1  [https://storage.googleapis.com/cria-zoomify/h...  \n2  [https://storage.googleapis.com/cria-zoomify/h...  \n3  [https://storage.googleapis.com/cria-zoomify/h...  ",
      "text/html": "<div>\n<style scoped>\n    .dataframe tbody tr th:only-of-type {\n        vertical-align: middle;\n    }\n\n    .dataframe tbody tr th {\n        vertical-align: top;\n    }\n\n    .dataframe thead th {\n        text-align: right;\n    }\n</style>\n<table border=\"1\" class=\"dataframe\">\n  <thead>\n    <tr style=\"text-align: right;\">\n      <th></th>\n      <th>seq</th>\n      <th>genus</th>\n      <th>specific_epithet</th>\n      <th>genus_trusted</th>\n      <th>specific_epithet_trusted</th>\n      <th>urls</th>\n    </tr>\n  </thead>\n  <tbody>\n    <tr>\n      <th>0</th>\n      <td>9735</td>\n      <td>Piper</td>\n      <td>arboreum</td>\n      <td>Piper</td>\n      <td>arboreum</td>\n      <td>[https://storage.googleapis.com/cria-zoomify/h...</td>\n    </tr>\n    <tr>\n      <th>1</th>\n      <td>19770</td>\n      <td>Ottonia</td>\n      <td>anisum</td>\n      <td>Piper</td>\n      <td>anisum</td>\n      <td>[https://storage.googleapis.com/cria-zoomify/h...</td>\n    </tr>\n    <tr>\n      <th>2</th>\n      <td>40891</td>\n      <td>Ottonia</td>\n      <td>taperana</td>\n      <td>Piper</td>\n      <td>anisum</td>\n      <td>[https://storage.googleapis.com/cria-zoomify/h...</td>\n    </tr>\n    <tr>\n      <th>3</th>\n      <td>7333</td>\n      <td>Piper</td>\n      <td>corcovadense</td>\n      <td>Piper</td>\n      <td>grazielae</td>\n      <td>[https://storage.googleapis.com/cria-zoomify/h...</td>\n    </tr>\n  </tbody>\n</table>\n</div>"
     },
     "metadata": {},
     "output_type": "display_data"
    },
    {
     "name": "stdout",
     "output_type": "stream",
     "text": [
      "color: RGB image_size: 256 minimum_image: 20\n",
      "total of levels: 106 total of images: 9248\n"
     ]
    },
    {
     "data": {
      "text/plain": "        levels                                              paths  count  \\\n0      aduncum  [/media/xandao/c2f58d30-ff2c-47f7-95af-91ad6fd...    377   \n1      aequale  [/media/xandao/c2f58d30-ff2c-47f7-95af-91ad6fd...     30   \n2        alata  [/media/xandao/c2f58d30-ff2c-47f7-95af-91ad6fd...     81   \n3  alatabaccum  [/media/xandao/c2f58d30-ff2c-47f7-95af-91ad6fd...     28   \n\n                                                 seq  \n0  [7220, 7221, 7222, 7234, 7742, 7757, 8224, 868...  \n1  [8727, 9316, 10163, 11517, 12577, 20200, 21125...  \n2  [6857, 6861, 6862, 6863, 6864, 7565, 7859, 986...  \n3  [26207, 30555, 30557, 30558, 30560, 30561, 305...  ",
      "text/html": "<div>\n<style scoped>\n    .dataframe tbody tr th:only-of-type {\n        vertical-align: middle;\n    }\n\n    .dataframe tbody tr th {\n        vertical-align: top;\n    }\n\n    .dataframe thead th {\n        text-align: right;\n    }\n</style>\n<table border=\"1\" class=\"dataframe\">\n  <thead>\n    <tr style=\"text-align: right;\">\n      <th></th>\n      <th>levels</th>\n      <th>paths</th>\n      <th>count</th>\n      <th>seq</th>\n    </tr>\n  </thead>\n  <tbody>\n    <tr>\n      <th>0</th>\n      <td>aduncum</td>\n      <td>[/media/xandao/c2f58d30-ff2c-47f7-95af-91ad6fd...</td>\n      <td>377</td>\n      <td>[7220, 7221, 7222, 7234, 7742, 7757, 8224, 868...</td>\n    </tr>\n    <tr>\n      <th>1</th>\n      <td>aequale</td>\n      <td>[/media/xandao/c2f58d30-ff2c-47f7-95af-91ad6fd...</td>\n      <td>30</td>\n      <td>[8727, 9316, 10163, 11517, 12577, 20200, 21125...</td>\n    </tr>\n    <tr>\n      <th>2</th>\n      <td>alata</td>\n      <td>[/media/xandao/c2f58d30-ff2c-47f7-95af-91ad6fd...</td>\n      <td>81</td>\n      <td>[6857, 6861, 6862, 6863, 6864, 7565, 7859, 986...</td>\n    </tr>\n    <tr>\n      <th>3</th>\n      <td>alatabaccum</td>\n      <td>[/media/xandao/c2f58d30-ff2c-47f7-95af-91ad6fd...</td>\n      <td>28</td>\n      <td>[26207, 30555, 30557, 30558, 30560, 30561, 305...</td>\n    </tr>\n  </tbody>\n</table>\n</div>"
     },
     "metadata": {},
     "output_type": "display_data"
    },
    {
     "data": {
      "text/plain": "     seq    genus specific_epithet genus_trusted specific_epithet_trusted  \\\n0   9735    Piper         arboreum         Piper                 arboreum   \n1  19770  Ottonia           anisum         Piper                   anisum   \n2  40891  Ottonia         taperana         Piper                   anisum   \n3   7333    Piper     corcovadense         Piper                grazielae   \n\n                                                urls  \n0  [https://storage.googleapis.com/cria-zoomify/h...  \n1  [https://storage.googleapis.com/cria-zoomify/h...  \n2  [https://storage.googleapis.com/cria-zoomify/h...  \n3  [https://storage.googleapis.com/cria-zoomify/h...  ",
      "text/html": "<div>\n<style scoped>\n    .dataframe tbody tr th:only-of-type {\n        vertical-align: middle;\n    }\n\n    .dataframe tbody tr th {\n        vertical-align: top;\n    }\n\n    .dataframe thead th {\n        text-align: right;\n    }\n</style>\n<table border=\"1\" class=\"dataframe\">\n  <thead>\n    <tr style=\"text-align: right;\">\n      <th></th>\n      <th>seq</th>\n      <th>genus</th>\n      <th>specific_epithet</th>\n      <th>genus_trusted</th>\n      <th>specific_epithet_trusted</th>\n      <th>urls</th>\n    </tr>\n  </thead>\n  <tbody>\n    <tr>\n      <th>0</th>\n      <td>9735</td>\n      <td>Piper</td>\n      <td>arboreum</td>\n      <td>Piper</td>\n      <td>arboreum</td>\n      <td>[https://storage.googleapis.com/cria-zoomify/h...</td>\n    </tr>\n    <tr>\n      <th>1</th>\n      <td>19770</td>\n      <td>Ottonia</td>\n      <td>anisum</td>\n      <td>Piper</td>\n      <td>anisum</td>\n      <td>[https://storage.googleapis.com/cria-zoomify/h...</td>\n    </tr>\n    <tr>\n      <th>2</th>\n      <td>40891</td>\n      <td>Ottonia</td>\n      <td>taperana</td>\n      <td>Piper</td>\n      <td>anisum</td>\n      <td>[https://storage.googleapis.com/cria-zoomify/h...</td>\n    </tr>\n    <tr>\n      <th>3</th>\n      <td>7333</td>\n      <td>Piper</td>\n      <td>corcovadense</td>\n      <td>Piper</td>\n      <td>grazielae</td>\n      <td>[https://storage.googleapis.com/cria-zoomify/h...</td>\n    </tr>\n  </tbody>\n</table>\n</div>"
     },
     "metadata": {},
     "output_type": "display_data"
    },
    {
     "name": "stdout",
     "output_type": "stream",
     "text": [
      "color: RGB image_size: 400 minimum_image: 5\n",
      "total of levels: 235 total of images: 10515\n"
     ]
    },
    {
     "data": {
      "text/plain": "        levels                                              paths  count  \\\n0  abutiloides  [/media/xandao/c2f58d30-ff2c-47f7-95af-91ad6fd...      8   \n1      aduncum  [/media/xandao/c2f58d30-ff2c-47f7-95af-91ad6fd...    377   \n2      aequale  [/media/xandao/c2f58d30-ff2c-47f7-95af-91ad6fd...     30   \n3        alata  [/media/xandao/c2f58d30-ff2c-47f7-95af-91ad6fd...     81   \n\n                                                 seq  \n0  [9416, 10009, 10651, 12428, 25112, 37910, 3847...  \n1  [7220, 7221, 7222, 7234, 7742, 7757, 8224, 868...  \n2  [8727, 9316, 10163, 11517, 12577, 20200, 21125...  \n3  [6857, 6861, 6862, 6863, 6864, 7565, 7859, 986...  ",
      "text/html": "<div>\n<style scoped>\n    .dataframe tbody tr th:only-of-type {\n        vertical-align: middle;\n    }\n\n    .dataframe tbody tr th {\n        vertical-align: top;\n    }\n\n    .dataframe thead th {\n        text-align: right;\n    }\n</style>\n<table border=\"1\" class=\"dataframe\">\n  <thead>\n    <tr style=\"text-align: right;\">\n      <th></th>\n      <th>levels</th>\n      <th>paths</th>\n      <th>count</th>\n      <th>seq</th>\n    </tr>\n  </thead>\n  <tbody>\n    <tr>\n      <th>0</th>\n      <td>abutiloides</td>\n      <td>[/media/xandao/c2f58d30-ff2c-47f7-95af-91ad6fd...</td>\n      <td>8</td>\n      <td>[9416, 10009, 10651, 12428, 25112, 37910, 3847...</td>\n    </tr>\n    <tr>\n      <th>1</th>\n      <td>aduncum</td>\n      <td>[/media/xandao/c2f58d30-ff2c-47f7-95af-91ad6fd...</td>\n      <td>377</td>\n      <td>[7220, 7221, 7222, 7234, 7742, 7757, 8224, 868...</td>\n    </tr>\n    <tr>\n      <th>2</th>\n      <td>aequale</td>\n      <td>[/media/xandao/c2f58d30-ff2c-47f7-95af-91ad6fd...</td>\n      <td>30</td>\n      <td>[8727, 9316, 10163, 11517, 12577, 20200, 21125...</td>\n    </tr>\n    <tr>\n      <th>3</th>\n      <td>alata</td>\n      <td>[/media/xandao/c2f58d30-ff2c-47f7-95af-91ad6fd...</td>\n      <td>81</td>\n      <td>[6857, 6861, 6862, 6863, 6864, 7565, 7859, 986...</td>\n    </tr>\n  </tbody>\n</table>\n</div>"
     },
     "metadata": {},
     "output_type": "display_data"
    },
    {
     "data": {
      "text/plain": "     seq    genus specific_epithet genus_trusted specific_epithet_trusted  \\\n0   9735    Piper         arboreum         Piper                 arboreum   \n1  19770  Ottonia           anisum         Piper                   anisum   \n2  40891  Ottonia         taperana         Piper                   anisum   \n3   7333    Piper     corcovadense         Piper                grazielae   \n\n                                                urls  \n0  [https://storage.googleapis.com/cria-zoomify/h...  \n1  [https://storage.googleapis.com/cria-zoomify/h...  \n2  [https://storage.googleapis.com/cria-zoomify/h...  \n3  [https://storage.googleapis.com/cria-zoomify/h...  ",
      "text/html": "<div>\n<style scoped>\n    .dataframe tbody tr th:only-of-type {\n        vertical-align: middle;\n    }\n\n    .dataframe tbody tr th {\n        vertical-align: top;\n    }\n\n    .dataframe thead th {\n        text-align: right;\n    }\n</style>\n<table border=\"1\" class=\"dataframe\">\n  <thead>\n    <tr style=\"text-align: right;\">\n      <th></th>\n      <th>seq</th>\n      <th>genus</th>\n      <th>specific_epithet</th>\n      <th>genus_trusted</th>\n      <th>specific_epithet_trusted</th>\n      <th>urls</th>\n    </tr>\n  </thead>\n  <tbody>\n    <tr>\n      <th>0</th>\n      <td>9735</td>\n      <td>Piper</td>\n      <td>arboreum</td>\n      <td>Piper</td>\n      <td>arboreum</td>\n      <td>[https://storage.googleapis.com/cria-zoomify/h...</td>\n    </tr>\n    <tr>\n      <th>1</th>\n      <td>19770</td>\n      <td>Ottonia</td>\n      <td>anisum</td>\n      <td>Piper</td>\n      <td>anisum</td>\n      <td>[https://storage.googleapis.com/cria-zoomify/h...</td>\n    </tr>\n    <tr>\n      <th>2</th>\n      <td>40891</td>\n      <td>Ottonia</td>\n      <td>taperana</td>\n      <td>Piper</td>\n      <td>anisum</td>\n      <td>[https://storage.googleapis.com/cria-zoomify/h...</td>\n    </tr>\n    <tr>\n      <th>3</th>\n      <td>7333</td>\n      <td>Piper</td>\n      <td>corcovadense</td>\n      <td>Piper</td>\n      <td>grazielae</td>\n      <td>[https://storage.googleapis.com/cria-zoomify/h...</td>\n    </tr>\n  </tbody>\n</table>\n</div>"
     },
     "metadata": {},
     "output_type": "display_data"
    },
    {
     "name": "stdout",
     "output_type": "stream",
     "text": [
      "color: RGB image_size: 400 minimum_image: 10\n",
      "total of levels: 160 total of images: 9991\n"
     ]
    },
    {
     "data": {
      "text/plain": "        levels                                              paths  count  \\\n0      aduncum  [/media/xandao/c2f58d30-ff2c-47f7-95af-91ad6fd...    377   \n1      aequale  [/media/xandao/c2f58d30-ff2c-47f7-95af-91ad6fd...     30   \n2        alata  [/media/xandao/c2f58d30-ff2c-47f7-95af-91ad6fd...     81   \n3  alatabaccum  [/media/xandao/c2f58d30-ff2c-47f7-95af-91ad6fd...     28   \n\n                                                 seq  \n0  [7220, 7221, 7222, 7234, 7742, 7757, 8224, 868...  \n1  [8727, 9316, 10163, 11517, 12577, 20200, 21125...  \n2  [6857, 6861, 6862, 6863, 6864, 7565, 7859, 986...  \n3  [26207, 30555, 30557, 30558, 30560, 30561, 305...  ",
      "text/html": "<div>\n<style scoped>\n    .dataframe tbody tr th:only-of-type {\n        vertical-align: middle;\n    }\n\n    .dataframe tbody tr th {\n        vertical-align: top;\n    }\n\n    .dataframe thead th {\n        text-align: right;\n    }\n</style>\n<table border=\"1\" class=\"dataframe\">\n  <thead>\n    <tr style=\"text-align: right;\">\n      <th></th>\n      <th>levels</th>\n      <th>paths</th>\n      <th>count</th>\n      <th>seq</th>\n    </tr>\n  </thead>\n  <tbody>\n    <tr>\n      <th>0</th>\n      <td>aduncum</td>\n      <td>[/media/xandao/c2f58d30-ff2c-47f7-95af-91ad6fd...</td>\n      <td>377</td>\n      <td>[7220, 7221, 7222, 7234, 7742, 7757, 8224, 868...</td>\n    </tr>\n    <tr>\n      <th>1</th>\n      <td>aequale</td>\n      <td>[/media/xandao/c2f58d30-ff2c-47f7-95af-91ad6fd...</td>\n      <td>30</td>\n      <td>[8727, 9316, 10163, 11517, 12577, 20200, 21125...</td>\n    </tr>\n    <tr>\n      <th>2</th>\n      <td>alata</td>\n      <td>[/media/xandao/c2f58d30-ff2c-47f7-95af-91ad6fd...</td>\n      <td>81</td>\n      <td>[6857, 6861, 6862, 6863, 6864, 7565, 7859, 986...</td>\n    </tr>\n    <tr>\n      <th>3</th>\n      <td>alatabaccum</td>\n      <td>[/media/xandao/c2f58d30-ff2c-47f7-95af-91ad6fd...</td>\n      <td>28</td>\n      <td>[26207, 30555, 30557, 30558, 30560, 30561, 305...</td>\n    </tr>\n  </tbody>\n</table>\n</div>"
     },
     "metadata": {},
     "output_type": "display_data"
    },
    {
     "data": {
      "text/plain": "     seq    genus specific_epithet genus_trusted specific_epithet_trusted  \\\n0   9735    Piper         arboreum         Piper                 arboreum   \n1  19770  Ottonia           anisum         Piper                   anisum   \n2  40891  Ottonia         taperana         Piper                   anisum   \n3   7333    Piper     corcovadense         Piper                grazielae   \n\n                                                urls  \n0  [https://storage.googleapis.com/cria-zoomify/h...  \n1  [https://storage.googleapis.com/cria-zoomify/h...  \n2  [https://storage.googleapis.com/cria-zoomify/h...  \n3  [https://storage.googleapis.com/cria-zoomify/h...  ",
      "text/html": "<div>\n<style scoped>\n    .dataframe tbody tr th:only-of-type {\n        vertical-align: middle;\n    }\n\n    .dataframe tbody tr th {\n        vertical-align: top;\n    }\n\n    .dataframe thead th {\n        text-align: right;\n    }\n</style>\n<table border=\"1\" class=\"dataframe\">\n  <thead>\n    <tr style=\"text-align: right;\">\n      <th></th>\n      <th>seq</th>\n      <th>genus</th>\n      <th>specific_epithet</th>\n      <th>genus_trusted</th>\n      <th>specific_epithet_trusted</th>\n      <th>urls</th>\n    </tr>\n  </thead>\n  <tbody>\n    <tr>\n      <th>0</th>\n      <td>9735</td>\n      <td>Piper</td>\n      <td>arboreum</td>\n      <td>Piper</td>\n      <td>arboreum</td>\n      <td>[https://storage.googleapis.com/cria-zoomify/h...</td>\n    </tr>\n    <tr>\n      <th>1</th>\n      <td>19770</td>\n      <td>Ottonia</td>\n      <td>anisum</td>\n      <td>Piper</td>\n      <td>anisum</td>\n      <td>[https://storage.googleapis.com/cria-zoomify/h...</td>\n    </tr>\n    <tr>\n      <th>2</th>\n      <td>40891</td>\n      <td>Ottonia</td>\n      <td>taperana</td>\n      <td>Piper</td>\n      <td>anisum</td>\n      <td>[https://storage.googleapis.com/cria-zoomify/h...</td>\n    </tr>\n    <tr>\n      <th>3</th>\n      <td>7333</td>\n      <td>Piper</td>\n      <td>corcovadense</td>\n      <td>Piper</td>\n      <td>grazielae</td>\n      <td>[https://storage.googleapis.com/cria-zoomify/h...</td>\n    </tr>\n  </tbody>\n</table>\n</div>"
     },
     "metadata": {},
     "output_type": "display_data"
    },
    {
     "name": "stdout",
     "output_type": "stream",
     "text": [
      "color: RGB image_size: 400 minimum_image: 20\n",
      "total of levels: 106 total of images: 9248\n"
     ]
    },
    {
     "data": {
      "text/plain": "        levels                                              paths  count  \\\n0      aduncum  [/media/xandao/c2f58d30-ff2c-47f7-95af-91ad6fd...    377   \n1      aequale  [/media/xandao/c2f58d30-ff2c-47f7-95af-91ad6fd...     30   \n2        alata  [/media/xandao/c2f58d30-ff2c-47f7-95af-91ad6fd...     81   \n3  alatabaccum  [/media/xandao/c2f58d30-ff2c-47f7-95af-91ad6fd...     28   \n\n                                                 seq  \n0  [7220, 7221, 7222, 7234, 7742, 7757, 8224, 868...  \n1  [8727, 9316, 10163, 11517, 12577, 20200, 21125...  \n2  [6857, 6861, 6862, 6863, 6864, 7565, 7859, 986...  \n3  [26207, 30555, 30557, 30558, 30560, 30561, 305...  ",
      "text/html": "<div>\n<style scoped>\n    .dataframe tbody tr th:only-of-type {\n        vertical-align: middle;\n    }\n\n    .dataframe tbody tr th {\n        vertical-align: top;\n    }\n\n    .dataframe thead th {\n        text-align: right;\n    }\n</style>\n<table border=\"1\" class=\"dataframe\">\n  <thead>\n    <tr style=\"text-align: right;\">\n      <th></th>\n      <th>levels</th>\n      <th>paths</th>\n      <th>count</th>\n      <th>seq</th>\n    </tr>\n  </thead>\n  <tbody>\n    <tr>\n      <th>0</th>\n      <td>aduncum</td>\n      <td>[/media/xandao/c2f58d30-ff2c-47f7-95af-91ad6fd...</td>\n      <td>377</td>\n      <td>[7220, 7221, 7222, 7234, 7742, 7757, 8224, 868...</td>\n    </tr>\n    <tr>\n      <th>1</th>\n      <td>aequale</td>\n      <td>[/media/xandao/c2f58d30-ff2c-47f7-95af-91ad6fd...</td>\n      <td>30</td>\n      <td>[8727, 9316, 10163, 11517, 12577, 20200, 21125...</td>\n    </tr>\n    <tr>\n      <th>2</th>\n      <td>alata</td>\n      <td>[/media/xandao/c2f58d30-ff2c-47f7-95af-91ad6fd...</td>\n      <td>81</td>\n      <td>[6857, 6861, 6862, 6863, 6864, 7565, 7859, 986...</td>\n    </tr>\n    <tr>\n      <th>3</th>\n      <td>alatabaccum</td>\n      <td>[/media/xandao/c2f58d30-ff2c-47f7-95af-91ad6fd...</td>\n      <td>28</td>\n      <td>[26207, 30555, 30557, 30558, 30560, 30561, 305...</td>\n    </tr>\n  </tbody>\n</table>\n</div>"
     },
     "metadata": {},
     "output_type": "display_data"
    },
    {
     "data": {
      "text/plain": "     seq    genus specific_epithet genus_trusted specific_epithet_trusted  \\\n0   9735    Piper         arboreum         Piper                 arboreum   \n1  19770  Ottonia           anisum         Piper                   anisum   \n2  40891  Ottonia         taperana         Piper                   anisum   \n3   7333    Piper     corcovadense         Piper                grazielae   \n\n                                                urls  \n0  [https://storage.googleapis.com/cria-zoomify/h...  \n1  [https://storage.googleapis.com/cria-zoomify/h...  \n2  [https://storage.googleapis.com/cria-zoomify/h...  \n3  [https://storage.googleapis.com/cria-zoomify/h...  ",
      "text/html": "<div>\n<style scoped>\n    .dataframe tbody tr th:only-of-type {\n        vertical-align: middle;\n    }\n\n    .dataframe tbody tr th {\n        vertical-align: top;\n    }\n\n    .dataframe thead th {\n        text-align: right;\n    }\n</style>\n<table border=\"1\" class=\"dataframe\">\n  <thead>\n    <tr style=\"text-align: right;\">\n      <th></th>\n      <th>seq</th>\n      <th>genus</th>\n      <th>specific_epithet</th>\n      <th>genus_trusted</th>\n      <th>specific_epithet_trusted</th>\n      <th>urls</th>\n    </tr>\n  </thead>\n  <tbody>\n    <tr>\n      <th>0</th>\n      <td>9735</td>\n      <td>Piper</td>\n      <td>arboreum</td>\n      <td>Piper</td>\n      <td>arboreum</td>\n      <td>[https://storage.googleapis.com/cria-zoomify/h...</td>\n    </tr>\n    <tr>\n      <th>1</th>\n      <td>19770</td>\n      <td>Ottonia</td>\n      <td>anisum</td>\n      <td>Piper</td>\n      <td>anisum</td>\n      <td>[https://storage.googleapis.com/cria-zoomify/h...</td>\n    </tr>\n    <tr>\n      <th>2</th>\n      <td>40891</td>\n      <td>Ottonia</td>\n      <td>taperana</td>\n      <td>Piper</td>\n      <td>anisum</td>\n      <td>[https://storage.googleapis.com/cria-zoomify/h...</td>\n    </tr>\n    <tr>\n      <th>3</th>\n      <td>7333</td>\n      <td>Piper</td>\n      <td>corcovadense</td>\n      <td>Piper</td>\n      <td>grazielae</td>\n      <td>[https://storage.googleapis.com/cria-zoomify/h...</td>\n    </tr>\n  </tbody>\n</table>\n</div>"
     },
     "metadata": {},
     "output_type": "display_data"
    },
    {
     "name": "stdout",
     "output_type": "stream",
     "text": [
      "color: RGB image_size: 512 minimum_image: 5\n",
      "total of levels: 235 total of images: 10515\n"
     ]
    },
    {
     "data": {
      "text/plain": "        levels                                              paths  count  \\\n0  abutiloides  [/media/xandao/c2f58d30-ff2c-47f7-95af-91ad6fd...      8   \n1      aduncum  [/media/xandao/c2f58d30-ff2c-47f7-95af-91ad6fd...    377   \n2      aequale  [/media/xandao/c2f58d30-ff2c-47f7-95af-91ad6fd...     30   \n3        alata  [/media/xandao/c2f58d30-ff2c-47f7-95af-91ad6fd...     81   \n\n                                                 seq  \n0  [9416, 10009, 10651, 12428, 25112, 37910, 3847...  \n1  [7220, 7221, 7222, 7234, 7742, 7757, 8224, 868...  \n2  [8727, 9316, 10163, 11517, 12577, 20200, 21125...  \n3  [6857, 6861, 6862, 6863, 6864, 7565, 7859, 986...  ",
      "text/html": "<div>\n<style scoped>\n    .dataframe tbody tr th:only-of-type {\n        vertical-align: middle;\n    }\n\n    .dataframe tbody tr th {\n        vertical-align: top;\n    }\n\n    .dataframe thead th {\n        text-align: right;\n    }\n</style>\n<table border=\"1\" class=\"dataframe\">\n  <thead>\n    <tr style=\"text-align: right;\">\n      <th></th>\n      <th>levels</th>\n      <th>paths</th>\n      <th>count</th>\n      <th>seq</th>\n    </tr>\n  </thead>\n  <tbody>\n    <tr>\n      <th>0</th>\n      <td>abutiloides</td>\n      <td>[/media/xandao/c2f58d30-ff2c-47f7-95af-91ad6fd...</td>\n      <td>8</td>\n      <td>[9416, 10009, 10651, 12428, 25112, 37910, 3847...</td>\n    </tr>\n    <tr>\n      <th>1</th>\n      <td>aduncum</td>\n      <td>[/media/xandao/c2f58d30-ff2c-47f7-95af-91ad6fd...</td>\n      <td>377</td>\n      <td>[7220, 7221, 7222, 7234, 7742, 7757, 8224, 868...</td>\n    </tr>\n    <tr>\n      <th>2</th>\n      <td>aequale</td>\n      <td>[/media/xandao/c2f58d30-ff2c-47f7-95af-91ad6fd...</td>\n      <td>30</td>\n      <td>[8727, 9316, 10163, 11517, 12577, 20200, 21125...</td>\n    </tr>\n    <tr>\n      <th>3</th>\n      <td>alata</td>\n      <td>[/media/xandao/c2f58d30-ff2c-47f7-95af-91ad6fd...</td>\n      <td>81</td>\n      <td>[6857, 6861, 6862, 6863, 6864, 7565, 7859, 986...</td>\n    </tr>\n  </tbody>\n</table>\n</div>"
     },
     "metadata": {},
     "output_type": "display_data"
    },
    {
     "data": {
      "text/plain": "     seq    genus specific_epithet genus_trusted specific_epithet_trusted  \\\n0   9735    Piper         arboreum         Piper                 arboreum   \n1  19770  Ottonia           anisum         Piper                   anisum   \n2  40891  Ottonia         taperana         Piper                   anisum   \n3   7333    Piper     corcovadense         Piper                grazielae   \n\n                                                urls  \n0  [https://storage.googleapis.com/cria-zoomify/h...  \n1  [https://storage.googleapis.com/cria-zoomify/h...  \n2  [https://storage.googleapis.com/cria-zoomify/h...  \n3  [https://storage.googleapis.com/cria-zoomify/h...  ",
      "text/html": "<div>\n<style scoped>\n    .dataframe tbody tr th:only-of-type {\n        vertical-align: middle;\n    }\n\n    .dataframe tbody tr th {\n        vertical-align: top;\n    }\n\n    .dataframe thead th {\n        text-align: right;\n    }\n</style>\n<table border=\"1\" class=\"dataframe\">\n  <thead>\n    <tr style=\"text-align: right;\">\n      <th></th>\n      <th>seq</th>\n      <th>genus</th>\n      <th>specific_epithet</th>\n      <th>genus_trusted</th>\n      <th>specific_epithet_trusted</th>\n      <th>urls</th>\n    </tr>\n  </thead>\n  <tbody>\n    <tr>\n      <th>0</th>\n      <td>9735</td>\n      <td>Piper</td>\n      <td>arboreum</td>\n      <td>Piper</td>\n      <td>arboreum</td>\n      <td>[https://storage.googleapis.com/cria-zoomify/h...</td>\n    </tr>\n    <tr>\n      <th>1</th>\n      <td>19770</td>\n      <td>Ottonia</td>\n      <td>anisum</td>\n      <td>Piper</td>\n      <td>anisum</td>\n      <td>[https://storage.googleapis.com/cria-zoomify/h...</td>\n    </tr>\n    <tr>\n      <th>2</th>\n      <td>40891</td>\n      <td>Ottonia</td>\n      <td>taperana</td>\n      <td>Piper</td>\n      <td>anisum</td>\n      <td>[https://storage.googleapis.com/cria-zoomify/h...</td>\n    </tr>\n    <tr>\n      <th>3</th>\n      <td>7333</td>\n      <td>Piper</td>\n      <td>corcovadense</td>\n      <td>Piper</td>\n      <td>grazielae</td>\n      <td>[https://storage.googleapis.com/cria-zoomify/h...</td>\n    </tr>\n  </tbody>\n</table>\n</div>"
     },
     "metadata": {},
     "output_type": "display_data"
    },
    {
     "name": "stdout",
     "output_type": "stream",
     "text": [
      "color: RGB image_size: 512 minimum_image: 10\n",
      "total of levels: 160 total of images: 9991\n"
     ]
    },
    {
     "data": {
      "text/plain": "        levels                                              paths  count  \\\n0      aduncum  [/media/xandao/c2f58d30-ff2c-47f7-95af-91ad6fd...    377   \n1      aequale  [/media/xandao/c2f58d30-ff2c-47f7-95af-91ad6fd...     30   \n2        alata  [/media/xandao/c2f58d30-ff2c-47f7-95af-91ad6fd...     81   \n3  alatabaccum  [/media/xandao/c2f58d30-ff2c-47f7-95af-91ad6fd...     28   \n\n                                                 seq  \n0  [7220, 7221, 7222, 7234, 7742, 7757, 8224, 868...  \n1  [8727, 9316, 10163, 11517, 12577, 20200, 21125...  \n2  [6857, 6861, 6862, 6863, 6864, 7565, 7859, 986...  \n3  [26207, 30555, 30557, 30558, 30560, 30561, 305...  ",
      "text/html": "<div>\n<style scoped>\n    .dataframe tbody tr th:only-of-type {\n        vertical-align: middle;\n    }\n\n    .dataframe tbody tr th {\n        vertical-align: top;\n    }\n\n    .dataframe thead th {\n        text-align: right;\n    }\n</style>\n<table border=\"1\" class=\"dataframe\">\n  <thead>\n    <tr style=\"text-align: right;\">\n      <th></th>\n      <th>levels</th>\n      <th>paths</th>\n      <th>count</th>\n      <th>seq</th>\n    </tr>\n  </thead>\n  <tbody>\n    <tr>\n      <th>0</th>\n      <td>aduncum</td>\n      <td>[/media/xandao/c2f58d30-ff2c-47f7-95af-91ad6fd...</td>\n      <td>377</td>\n      <td>[7220, 7221, 7222, 7234, 7742, 7757, 8224, 868...</td>\n    </tr>\n    <tr>\n      <th>1</th>\n      <td>aequale</td>\n      <td>[/media/xandao/c2f58d30-ff2c-47f7-95af-91ad6fd...</td>\n      <td>30</td>\n      <td>[8727, 9316, 10163, 11517, 12577, 20200, 21125...</td>\n    </tr>\n    <tr>\n      <th>2</th>\n      <td>alata</td>\n      <td>[/media/xandao/c2f58d30-ff2c-47f7-95af-91ad6fd...</td>\n      <td>81</td>\n      <td>[6857, 6861, 6862, 6863, 6864, 7565, 7859, 986...</td>\n    </tr>\n    <tr>\n      <th>3</th>\n      <td>alatabaccum</td>\n      <td>[/media/xandao/c2f58d30-ff2c-47f7-95af-91ad6fd...</td>\n      <td>28</td>\n      <td>[26207, 30555, 30557, 30558, 30560, 30561, 305...</td>\n    </tr>\n  </tbody>\n</table>\n</div>"
     },
     "metadata": {},
     "output_type": "display_data"
    },
    {
     "data": {
      "text/plain": "     seq    genus specific_epithet genus_trusted specific_epithet_trusted  \\\n0   9735    Piper         arboreum         Piper                 arboreum   \n1  19770  Ottonia           anisum         Piper                   anisum   \n2  40891  Ottonia         taperana         Piper                   anisum   \n3   7333    Piper     corcovadense         Piper                grazielae   \n\n                                                urls  \n0  [https://storage.googleapis.com/cria-zoomify/h...  \n1  [https://storage.googleapis.com/cria-zoomify/h...  \n2  [https://storage.googleapis.com/cria-zoomify/h...  \n3  [https://storage.googleapis.com/cria-zoomify/h...  ",
      "text/html": "<div>\n<style scoped>\n    .dataframe tbody tr th:only-of-type {\n        vertical-align: middle;\n    }\n\n    .dataframe tbody tr th {\n        vertical-align: top;\n    }\n\n    .dataframe thead th {\n        text-align: right;\n    }\n</style>\n<table border=\"1\" class=\"dataframe\">\n  <thead>\n    <tr style=\"text-align: right;\">\n      <th></th>\n      <th>seq</th>\n      <th>genus</th>\n      <th>specific_epithet</th>\n      <th>genus_trusted</th>\n      <th>specific_epithet_trusted</th>\n      <th>urls</th>\n    </tr>\n  </thead>\n  <tbody>\n    <tr>\n      <th>0</th>\n      <td>9735</td>\n      <td>Piper</td>\n      <td>arboreum</td>\n      <td>Piper</td>\n      <td>arboreum</td>\n      <td>[https://storage.googleapis.com/cria-zoomify/h...</td>\n    </tr>\n    <tr>\n      <th>1</th>\n      <td>19770</td>\n      <td>Ottonia</td>\n      <td>anisum</td>\n      <td>Piper</td>\n      <td>anisum</td>\n      <td>[https://storage.googleapis.com/cria-zoomify/h...</td>\n    </tr>\n    <tr>\n      <th>2</th>\n      <td>40891</td>\n      <td>Ottonia</td>\n      <td>taperana</td>\n      <td>Piper</td>\n      <td>anisum</td>\n      <td>[https://storage.googleapis.com/cria-zoomify/h...</td>\n    </tr>\n    <tr>\n      <th>3</th>\n      <td>7333</td>\n      <td>Piper</td>\n      <td>corcovadense</td>\n      <td>Piper</td>\n      <td>grazielae</td>\n      <td>[https://storage.googleapis.com/cria-zoomify/h...</td>\n    </tr>\n  </tbody>\n</table>\n</div>"
     },
     "metadata": {},
     "output_type": "display_data"
    },
    {
     "name": "stdout",
     "output_type": "stream",
     "text": [
      "color: RGB image_size: 512 minimum_image: 20\n",
      "total of levels: 106 total of images: 9248\n"
     ]
    },
    {
     "data": {
      "text/plain": "        levels                                              paths  count  \\\n0      aduncum  [/media/xandao/c2f58d30-ff2c-47f7-95af-91ad6fd...    377   \n1      aequale  [/media/xandao/c2f58d30-ff2c-47f7-95af-91ad6fd...     30   \n2        alata  [/media/xandao/c2f58d30-ff2c-47f7-95af-91ad6fd...     81   \n3  alatabaccum  [/media/xandao/c2f58d30-ff2c-47f7-95af-91ad6fd...     28   \n\n                                                 seq  \n0  [7220, 7221, 7222, 7234, 7742, 7757, 8224, 868...  \n1  [8727, 9316, 10163, 11517, 12577, 20200, 21125...  \n2  [6857, 6861, 6862, 6863, 6864, 7565, 7859, 986...  \n3  [26207, 30555, 30557, 30558, 30560, 30561, 305...  ",
      "text/html": "<div>\n<style scoped>\n    .dataframe tbody tr th:only-of-type {\n        vertical-align: middle;\n    }\n\n    .dataframe tbody tr th {\n        vertical-align: top;\n    }\n\n    .dataframe thead th {\n        text-align: right;\n    }\n</style>\n<table border=\"1\" class=\"dataframe\">\n  <thead>\n    <tr style=\"text-align: right;\">\n      <th></th>\n      <th>levels</th>\n      <th>paths</th>\n      <th>count</th>\n      <th>seq</th>\n    </tr>\n  </thead>\n  <tbody>\n    <tr>\n      <th>0</th>\n      <td>aduncum</td>\n      <td>[/media/xandao/c2f58d30-ff2c-47f7-95af-91ad6fd...</td>\n      <td>377</td>\n      <td>[7220, 7221, 7222, 7234, 7742, 7757, 8224, 868...</td>\n    </tr>\n    <tr>\n      <th>1</th>\n      <td>aequale</td>\n      <td>[/media/xandao/c2f58d30-ff2c-47f7-95af-91ad6fd...</td>\n      <td>30</td>\n      <td>[8727, 9316, 10163, 11517, 12577, 20200, 21125...</td>\n    </tr>\n    <tr>\n      <th>2</th>\n      <td>alata</td>\n      <td>[/media/xandao/c2f58d30-ff2c-47f7-95af-91ad6fd...</td>\n      <td>81</td>\n      <td>[6857, 6861, 6862, 6863, 6864, 7565, 7859, 986...</td>\n    </tr>\n    <tr>\n      <th>3</th>\n      <td>alatabaccum</td>\n      <td>[/media/xandao/c2f58d30-ff2c-47f7-95af-91ad6fd...</td>\n      <td>28</td>\n      <td>[26207, 30555, 30557, 30558, 30560, 30561, 305...</td>\n    </tr>\n  </tbody>\n</table>\n</div>"
     },
     "metadata": {},
     "output_type": "display_data"
    },
    {
     "data": {
      "text/plain": "     seq    genus specific_epithet genus_trusted specific_epithet_trusted  \\\n0   9735    Piper         arboreum         Piper                 arboreum   \n1  19770  Ottonia           anisum         Piper                   anisum   \n2  40891  Ottonia         taperana         Piper                   anisum   \n3   7333    Piper     corcovadense         Piper                grazielae   \n\n                                                urls  \n0  [https://storage.googleapis.com/cria-zoomify/h...  \n1  [https://storage.googleapis.com/cria-zoomify/h...  \n2  [https://storage.googleapis.com/cria-zoomify/h...  \n3  [https://storage.googleapis.com/cria-zoomify/h...  ",
      "text/html": "<div>\n<style scoped>\n    .dataframe tbody tr th:only-of-type {\n        vertical-align: middle;\n    }\n\n    .dataframe tbody tr th {\n        vertical-align: top;\n    }\n\n    .dataframe thead th {\n        text-align: right;\n    }\n</style>\n<table border=\"1\" class=\"dataframe\">\n  <thead>\n    <tr style=\"text-align: right;\">\n      <th></th>\n      <th>seq</th>\n      <th>genus</th>\n      <th>specific_epithet</th>\n      <th>genus_trusted</th>\n      <th>specific_epithet_trusted</th>\n      <th>urls</th>\n    </tr>\n  </thead>\n  <tbody>\n    <tr>\n      <th>0</th>\n      <td>9735</td>\n      <td>Piper</td>\n      <td>arboreum</td>\n      <td>Piper</td>\n      <td>arboreum</td>\n      <td>[https://storage.googleapis.com/cria-zoomify/h...</td>\n    </tr>\n    <tr>\n      <th>1</th>\n      <td>19770</td>\n      <td>Ottonia</td>\n      <td>anisum</td>\n      <td>Piper</td>\n      <td>anisum</td>\n      <td>[https://storage.googleapis.com/cria-zoomify/h...</td>\n    </tr>\n    <tr>\n      <th>2</th>\n      <td>40891</td>\n      <td>Ottonia</td>\n      <td>taperana</td>\n      <td>Piper</td>\n      <td>anisum</td>\n      <td>[https://storage.googleapis.com/cria-zoomify/h...</td>\n    </tr>\n    <tr>\n      <th>3</th>\n      <td>7333</td>\n      <td>Piper</td>\n      <td>corcovadense</td>\n      <td>Piper</td>\n      <td>grazielae</td>\n      <td>[https://storage.googleapis.com/cria-zoomify/h...</td>\n    </tr>\n  </tbody>\n</table>\n</div>"
     },
     "metadata": {},
     "output_type": "display_data"
    },
    {
     "name": "stdout",
     "output_type": "stream",
     "text": [
      "color: GRAYSCALE image_size: 256 minimum_image: 5\n",
      "total of levels: 235 total of images: 10515\n"
     ]
    },
    {
     "data": {
      "text/plain": "        levels                                              paths  count  \\\n0  abutiloides  [/media/xandao/c2f58d30-ff2c-47f7-95af-91ad6fd...      8   \n1      aduncum  [/media/xandao/c2f58d30-ff2c-47f7-95af-91ad6fd...    377   \n2      aequale  [/media/xandao/c2f58d30-ff2c-47f7-95af-91ad6fd...     30   \n3        alata  [/media/xandao/c2f58d30-ff2c-47f7-95af-91ad6fd...     81   \n\n                                                 seq  \n0  [9416, 10009, 10651, 12428, 25112, 37910, 3847...  \n1  [7220, 7221, 7222, 7234, 7742, 7757, 8224, 868...  \n2  [8727, 9316, 10163, 11517, 12577, 20200, 21125...  \n3  [6857, 6861, 6862, 6863, 6864, 7565, 7859, 986...  ",
      "text/html": "<div>\n<style scoped>\n    .dataframe tbody tr th:only-of-type {\n        vertical-align: middle;\n    }\n\n    .dataframe tbody tr th {\n        vertical-align: top;\n    }\n\n    .dataframe thead th {\n        text-align: right;\n    }\n</style>\n<table border=\"1\" class=\"dataframe\">\n  <thead>\n    <tr style=\"text-align: right;\">\n      <th></th>\n      <th>levels</th>\n      <th>paths</th>\n      <th>count</th>\n      <th>seq</th>\n    </tr>\n  </thead>\n  <tbody>\n    <tr>\n      <th>0</th>\n      <td>abutiloides</td>\n      <td>[/media/xandao/c2f58d30-ff2c-47f7-95af-91ad6fd...</td>\n      <td>8</td>\n      <td>[9416, 10009, 10651, 12428, 25112, 37910, 3847...</td>\n    </tr>\n    <tr>\n      <th>1</th>\n      <td>aduncum</td>\n      <td>[/media/xandao/c2f58d30-ff2c-47f7-95af-91ad6fd...</td>\n      <td>377</td>\n      <td>[7220, 7221, 7222, 7234, 7742, 7757, 8224, 868...</td>\n    </tr>\n    <tr>\n      <th>2</th>\n      <td>aequale</td>\n      <td>[/media/xandao/c2f58d30-ff2c-47f7-95af-91ad6fd...</td>\n      <td>30</td>\n      <td>[8727, 9316, 10163, 11517, 12577, 20200, 21125...</td>\n    </tr>\n    <tr>\n      <th>3</th>\n      <td>alata</td>\n      <td>[/media/xandao/c2f58d30-ff2c-47f7-95af-91ad6fd...</td>\n      <td>81</td>\n      <td>[6857, 6861, 6862, 6863, 6864, 7565, 7859, 986...</td>\n    </tr>\n  </tbody>\n</table>\n</div>"
     },
     "metadata": {},
     "output_type": "display_data"
    },
    {
     "data": {
      "text/plain": "     seq    genus specific_epithet genus_trusted specific_epithet_trusted  \\\n0   9735    Piper         arboreum         Piper                 arboreum   \n1  19770  Ottonia           anisum         Piper                   anisum   \n2  40891  Ottonia         taperana         Piper                   anisum   \n3   7333    Piper     corcovadense         Piper                grazielae   \n\n                                                urls  \n0  [https://storage.googleapis.com/cria-zoomify/h...  \n1  [https://storage.googleapis.com/cria-zoomify/h...  \n2  [https://storage.googleapis.com/cria-zoomify/h...  \n3  [https://storage.googleapis.com/cria-zoomify/h...  ",
      "text/html": "<div>\n<style scoped>\n    .dataframe tbody tr th:only-of-type {\n        vertical-align: middle;\n    }\n\n    .dataframe tbody tr th {\n        vertical-align: top;\n    }\n\n    .dataframe thead th {\n        text-align: right;\n    }\n</style>\n<table border=\"1\" class=\"dataframe\">\n  <thead>\n    <tr style=\"text-align: right;\">\n      <th></th>\n      <th>seq</th>\n      <th>genus</th>\n      <th>specific_epithet</th>\n      <th>genus_trusted</th>\n      <th>specific_epithet_trusted</th>\n      <th>urls</th>\n    </tr>\n  </thead>\n  <tbody>\n    <tr>\n      <th>0</th>\n      <td>9735</td>\n      <td>Piper</td>\n      <td>arboreum</td>\n      <td>Piper</td>\n      <td>arboreum</td>\n      <td>[https://storage.googleapis.com/cria-zoomify/h...</td>\n    </tr>\n    <tr>\n      <th>1</th>\n      <td>19770</td>\n      <td>Ottonia</td>\n      <td>anisum</td>\n      <td>Piper</td>\n      <td>anisum</td>\n      <td>[https://storage.googleapis.com/cria-zoomify/h...</td>\n    </tr>\n    <tr>\n      <th>2</th>\n      <td>40891</td>\n      <td>Ottonia</td>\n      <td>taperana</td>\n      <td>Piper</td>\n      <td>anisum</td>\n      <td>[https://storage.googleapis.com/cria-zoomify/h...</td>\n    </tr>\n    <tr>\n      <th>3</th>\n      <td>7333</td>\n      <td>Piper</td>\n      <td>corcovadense</td>\n      <td>Piper</td>\n      <td>grazielae</td>\n      <td>[https://storage.googleapis.com/cria-zoomify/h...</td>\n    </tr>\n  </tbody>\n</table>\n</div>"
     },
     "metadata": {},
     "output_type": "display_data"
    },
    {
     "name": "stdout",
     "output_type": "stream",
     "text": [
      "color: GRAYSCALE image_size: 256 minimum_image: 10\n",
      "total of levels: 160 total of images: 9991\n"
     ]
    },
    {
     "data": {
      "text/plain": "        levels                                              paths  count  \\\n0      aduncum  [/media/xandao/c2f58d30-ff2c-47f7-95af-91ad6fd...    377   \n1      aequale  [/media/xandao/c2f58d30-ff2c-47f7-95af-91ad6fd...     30   \n2        alata  [/media/xandao/c2f58d30-ff2c-47f7-95af-91ad6fd...     81   \n3  alatabaccum  [/media/xandao/c2f58d30-ff2c-47f7-95af-91ad6fd...     28   \n\n                                                 seq  \n0  [7220, 7221, 7222, 7234, 7742, 7757, 8224, 868...  \n1  [8727, 9316, 10163, 11517, 12577, 20200, 21125...  \n2  [6857, 6861, 6862, 6863, 6864, 7565, 7859, 986...  \n3  [26207, 30555, 30557, 30558, 30560, 30561, 305...  ",
      "text/html": "<div>\n<style scoped>\n    .dataframe tbody tr th:only-of-type {\n        vertical-align: middle;\n    }\n\n    .dataframe tbody tr th {\n        vertical-align: top;\n    }\n\n    .dataframe thead th {\n        text-align: right;\n    }\n</style>\n<table border=\"1\" class=\"dataframe\">\n  <thead>\n    <tr style=\"text-align: right;\">\n      <th></th>\n      <th>levels</th>\n      <th>paths</th>\n      <th>count</th>\n      <th>seq</th>\n    </tr>\n  </thead>\n  <tbody>\n    <tr>\n      <th>0</th>\n      <td>aduncum</td>\n      <td>[/media/xandao/c2f58d30-ff2c-47f7-95af-91ad6fd...</td>\n      <td>377</td>\n      <td>[7220, 7221, 7222, 7234, 7742, 7757, 8224, 868...</td>\n    </tr>\n    <tr>\n      <th>1</th>\n      <td>aequale</td>\n      <td>[/media/xandao/c2f58d30-ff2c-47f7-95af-91ad6fd...</td>\n      <td>30</td>\n      <td>[8727, 9316, 10163, 11517, 12577, 20200, 21125...</td>\n    </tr>\n    <tr>\n      <th>2</th>\n      <td>alata</td>\n      <td>[/media/xandao/c2f58d30-ff2c-47f7-95af-91ad6fd...</td>\n      <td>81</td>\n      <td>[6857, 6861, 6862, 6863, 6864, 7565, 7859, 986...</td>\n    </tr>\n    <tr>\n      <th>3</th>\n      <td>alatabaccum</td>\n      <td>[/media/xandao/c2f58d30-ff2c-47f7-95af-91ad6fd...</td>\n      <td>28</td>\n      <td>[26207, 30555, 30557, 30558, 30560, 30561, 305...</td>\n    </tr>\n  </tbody>\n</table>\n</div>"
     },
     "metadata": {},
     "output_type": "display_data"
    },
    {
     "data": {
      "text/plain": "     seq    genus specific_epithet genus_trusted specific_epithet_trusted  \\\n0   9735    Piper         arboreum         Piper                 arboreum   \n1  19770  Ottonia           anisum         Piper                   anisum   \n2  40891  Ottonia         taperana         Piper                   anisum   \n3   7333    Piper     corcovadense         Piper                grazielae   \n\n                                                urls  \n0  [https://storage.googleapis.com/cria-zoomify/h...  \n1  [https://storage.googleapis.com/cria-zoomify/h...  \n2  [https://storage.googleapis.com/cria-zoomify/h...  \n3  [https://storage.googleapis.com/cria-zoomify/h...  ",
      "text/html": "<div>\n<style scoped>\n    .dataframe tbody tr th:only-of-type {\n        vertical-align: middle;\n    }\n\n    .dataframe tbody tr th {\n        vertical-align: top;\n    }\n\n    .dataframe thead th {\n        text-align: right;\n    }\n</style>\n<table border=\"1\" class=\"dataframe\">\n  <thead>\n    <tr style=\"text-align: right;\">\n      <th></th>\n      <th>seq</th>\n      <th>genus</th>\n      <th>specific_epithet</th>\n      <th>genus_trusted</th>\n      <th>specific_epithet_trusted</th>\n      <th>urls</th>\n    </tr>\n  </thead>\n  <tbody>\n    <tr>\n      <th>0</th>\n      <td>9735</td>\n      <td>Piper</td>\n      <td>arboreum</td>\n      <td>Piper</td>\n      <td>arboreum</td>\n      <td>[https://storage.googleapis.com/cria-zoomify/h...</td>\n    </tr>\n    <tr>\n      <th>1</th>\n      <td>19770</td>\n      <td>Ottonia</td>\n      <td>anisum</td>\n      <td>Piper</td>\n      <td>anisum</td>\n      <td>[https://storage.googleapis.com/cria-zoomify/h...</td>\n    </tr>\n    <tr>\n      <th>2</th>\n      <td>40891</td>\n      <td>Ottonia</td>\n      <td>taperana</td>\n      <td>Piper</td>\n      <td>anisum</td>\n      <td>[https://storage.googleapis.com/cria-zoomify/h...</td>\n    </tr>\n    <tr>\n      <th>3</th>\n      <td>7333</td>\n      <td>Piper</td>\n      <td>corcovadense</td>\n      <td>Piper</td>\n      <td>grazielae</td>\n      <td>[https://storage.googleapis.com/cria-zoomify/h...</td>\n    </tr>\n  </tbody>\n</table>\n</div>"
     },
     "metadata": {},
     "output_type": "display_data"
    },
    {
     "name": "stdout",
     "output_type": "stream",
     "text": [
      "color: GRAYSCALE image_size: 256 minimum_image: 20\n",
      "total of levels: 106 total of images: 9248\n"
     ]
    },
    {
     "data": {
      "text/plain": "        levels                                              paths  count  \\\n0      aduncum  [/media/xandao/c2f58d30-ff2c-47f7-95af-91ad6fd...    377   \n1      aequale  [/media/xandao/c2f58d30-ff2c-47f7-95af-91ad6fd...     30   \n2        alata  [/media/xandao/c2f58d30-ff2c-47f7-95af-91ad6fd...     81   \n3  alatabaccum  [/media/xandao/c2f58d30-ff2c-47f7-95af-91ad6fd...     28   \n\n                                                 seq  \n0  [7220, 7221, 7222, 7234, 7742, 7757, 8224, 868...  \n1  [8727, 9316, 10163, 11517, 12577, 20200, 21125...  \n2  [6857, 6861, 6862, 6863, 6864, 7565, 7859, 986...  \n3  [26207, 30555, 30557, 30558, 30560, 30561, 305...  ",
      "text/html": "<div>\n<style scoped>\n    .dataframe tbody tr th:only-of-type {\n        vertical-align: middle;\n    }\n\n    .dataframe tbody tr th {\n        vertical-align: top;\n    }\n\n    .dataframe thead th {\n        text-align: right;\n    }\n</style>\n<table border=\"1\" class=\"dataframe\">\n  <thead>\n    <tr style=\"text-align: right;\">\n      <th></th>\n      <th>levels</th>\n      <th>paths</th>\n      <th>count</th>\n      <th>seq</th>\n    </tr>\n  </thead>\n  <tbody>\n    <tr>\n      <th>0</th>\n      <td>aduncum</td>\n      <td>[/media/xandao/c2f58d30-ff2c-47f7-95af-91ad6fd...</td>\n      <td>377</td>\n      <td>[7220, 7221, 7222, 7234, 7742, 7757, 8224, 868...</td>\n    </tr>\n    <tr>\n      <th>1</th>\n      <td>aequale</td>\n      <td>[/media/xandao/c2f58d30-ff2c-47f7-95af-91ad6fd...</td>\n      <td>30</td>\n      <td>[8727, 9316, 10163, 11517, 12577, 20200, 21125...</td>\n    </tr>\n    <tr>\n      <th>2</th>\n      <td>alata</td>\n      <td>[/media/xandao/c2f58d30-ff2c-47f7-95af-91ad6fd...</td>\n      <td>81</td>\n      <td>[6857, 6861, 6862, 6863, 6864, 7565, 7859, 986...</td>\n    </tr>\n    <tr>\n      <th>3</th>\n      <td>alatabaccum</td>\n      <td>[/media/xandao/c2f58d30-ff2c-47f7-95af-91ad6fd...</td>\n      <td>28</td>\n      <td>[26207, 30555, 30557, 30558, 30560, 30561, 305...</td>\n    </tr>\n  </tbody>\n</table>\n</div>"
     },
     "metadata": {},
     "output_type": "display_data"
    },
    {
     "data": {
      "text/plain": "     seq    genus specific_epithet genus_trusted specific_epithet_trusted  \\\n0   9735    Piper         arboreum         Piper                 arboreum   \n1  19770  Ottonia           anisum         Piper                   anisum   \n2  40891  Ottonia         taperana         Piper                   anisum   \n3   7333    Piper     corcovadense         Piper                grazielae   \n\n                                                urls  \n0  [https://storage.googleapis.com/cria-zoomify/h...  \n1  [https://storage.googleapis.com/cria-zoomify/h...  \n2  [https://storage.googleapis.com/cria-zoomify/h...  \n3  [https://storage.googleapis.com/cria-zoomify/h...  ",
      "text/html": "<div>\n<style scoped>\n    .dataframe tbody tr th:only-of-type {\n        vertical-align: middle;\n    }\n\n    .dataframe tbody tr th {\n        vertical-align: top;\n    }\n\n    .dataframe thead th {\n        text-align: right;\n    }\n</style>\n<table border=\"1\" class=\"dataframe\">\n  <thead>\n    <tr style=\"text-align: right;\">\n      <th></th>\n      <th>seq</th>\n      <th>genus</th>\n      <th>specific_epithet</th>\n      <th>genus_trusted</th>\n      <th>specific_epithet_trusted</th>\n      <th>urls</th>\n    </tr>\n  </thead>\n  <tbody>\n    <tr>\n      <th>0</th>\n      <td>9735</td>\n      <td>Piper</td>\n      <td>arboreum</td>\n      <td>Piper</td>\n      <td>arboreum</td>\n      <td>[https://storage.googleapis.com/cria-zoomify/h...</td>\n    </tr>\n    <tr>\n      <th>1</th>\n      <td>19770</td>\n      <td>Ottonia</td>\n      <td>anisum</td>\n      <td>Piper</td>\n      <td>anisum</td>\n      <td>[https://storage.googleapis.com/cria-zoomify/h...</td>\n    </tr>\n    <tr>\n      <th>2</th>\n      <td>40891</td>\n      <td>Ottonia</td>\n      <td>taperana</td>\n      <td>Piper</td>\n      <td>anisum</td>\n      <td>[https://storage.googleapis.com/cria-zoomify/h...</td>\n    </tr>\n    <tr>\n      <th>3</th>\n      <td>7333</td>\n      <td>Piper</td>\n      <td>corcovadense</td>\n      <td>Piper</td>\n      <td>grazielae</td>\n      <td>[https://storage.googleapis.com/cria-zoomify/h...</td>\n    </tr>\n  </tbody>\n</table>\n</div>"
     },
     "metadata": {},
     "output_type": "display_data"
    },
    {
     "name": "stdout",
     "output_type": "stream",
     "text": [
      "color: GRAYSCALE image_size: 400 minimum_image: 5\n",
      "total of levels: 235 total of images: 10515\n"
     ]
    },
    {
     "data": {
      "text/plain": "        levels                                              paths  count  \\\n0  abutiloides  [/media/xandao/c2f58d30-ff2c-47f7-95af-91ad6fd...      8   \n1      aduncum  [/media/xandao/c2f58d30-ff2c-47f7-95af-91ad6fd...    377   \n2      aequale  [/media/xandao/c2f58d30-ff2c-47f7-95af-91ad6fd...     30   \n3        alata  [/media/xandao/c2f58d30-ff2c-47f7-95af-91ad6fd...     81   \n\n                                                 seq  \n0  [9416, 10009, 10651, 12428, 25112, 37910, 3847...  \n1  [7220, 7221, 7222, 7234, 7742, 7757, 8224, 868...  \n2  [8727, 9316, 10163, 11517, 12577, 20200, 21125...  \n3  [6857, 6861, 6862, 6863, 6864, 7565, 7859, 986...  ",
      "text/html": "<div>\n<style scoped>\n    .dataframe tbody tr th:only-of-type {\n        vertical-align: middle;\n    }\n\n    .dataframe tbody tr th {\n        vertical-align: top;\n    }\n\n    .dataframe thead th {\n        text-align: right;\n    }\n</style>\n<table border=\"1\" class=\"dataframe\">\n  <thead>\n    <tr style=\"text-align: right;\">\n      <th></th>\n      <th>levels</th>\n      <th>paths</th>\n      <th>count</th>\n      <th>seq</th>\n    </tr>\n  </thead>\n  <tbody>\n    <tr>\n      <th>0</th>\n      <td>abutiloides</td>\n      <td>[/media/xandao/c2f58d30-ff2c-47f7-95af-91ad6fd...</td>\n      <td>8</td>\n      <td>[9416, 10009, 10651, 12428, 25112, 37910, 3847...</td>\n    </tr>\n    <tr>\n      <th>1</th>\n      <td>aduncum</td>\n      <td>[/media/xandao/c2f58d30-ff2c-47f7-95af-91ad6fd...</td>\n      <td>377</td>\n      <td>[7220, 7221, 7222, 7234, 7742, 7757, 8224, 868...</td>\n    </tr>\n    <tr>\n      <th>2</th>\n      <td>aequale</td>\n      <td>[/media/xandao/c2f58d30-ff2c-47f7-95af-91ad6fd...</td>\n      <td>30</td>\n      <td>[8727, 9316, 10163, 11517, 12577, 20200, 21125...</td>\n    </tr>\n    <tr>\n      <th>3</th>\n      <td>alata</td>\n      <td>[/media/xandao/c2f58d30-ff2c-47f7-95af-91ad6fd...</td>\n      <td>81</td>\n      <td>[6857, 6861, 6862, 6863, 6864, 7565, 7859, 986...</td>\n    </tr>\n  </tbody>\n</table>\n</div>"
     },
     "metadata": {},
     "output_type": "display_data"
    },
    {
     "data": {
      "text/plain": "     seq    genus specific_epithet genus_trusted specific_epithet_trusted  \\\n0   9735    Piper         arboreum         Piper                 arboreum   \n1  19770  Ottonia           anisum         Piper                   anisum   \n2  40891  Ottonia         taperana         Piper                   anisum   \n3   7333    Piper     corcovadense         Piper                grazielae   \n\n                                                urls  \n0  [https://storage.googleapis.com/cria-zoomify/h...  \n1  [https://storage.googleapis.com/cria-zoomify/h...  \n2  [https://storage.googleapis.com/cria-zoomify/h...  \n3  [https://storage.googleapis.com/cria-zoomify/h...  ",
      "text/html": "<div>\n<style scoped>\n    .dataframe tbody tr th:only-of-type {\n        vertical-align: middle;\n    }\n\n    .dataframe tbody tr th {\n        vertical-align: top;\n    }\n\n    .dataframe thead th {\n        text-align: right;\n    }\n</style>\n<table border=\"1\" class=\"dataframe\">\n  <thead>\n    <tr style=\"text-align: right;\">\n      <th></th>\n      <th>seq</th>\n      <th>genus</th>\n      <th>specific_epithet</th>\n      <th>genus_trusted</th>\n      <th>specific_epithet_trusted</th>\n      <th>urls</th>\n    </tr>\n  </thead>\n  <tbody>\n    <tr>\n      <th>0</th>\n      <td>9735</td>\n      <td>Piper</td>\n      <td>arboreum</td>\n      <td>Piper</td>\n      <td>arboreum</td>\n      <td>[https://storage.googleapis.com/cria-zoomify/h...</td>\n    </tr>\n    <tr>\n      <th>1</th>\n      <td>19770</td>\n      <td>Ottonia</td>\n      <td>anisum</td>\n      <td>Piper</td>\n      <td>anisum</td>\n      <td>[https://storage.googleapis.com/cria-zoomify/h...</td>\n    </tr>\n    <tr>\n      <th>2</th>\n      <td>40891</td>\n      <td>Ottonia</td>\n      <td>taperana</td>\n      <td>Piper</td>\n      <td>anisum</td>\n      <td>[https://storage.googleapis.com/cria-zoomify/h...</td>\n    </tr>\n    <tr>\n      <th>3</th>\n      <td>7333</td>\n      <td>Piper</td>\n      <td>corcovadense</td>\n      <td>Piper</td>\n      <td>grazielae</td>\n      <td>[https://storage.googleapis.com/cria-zoomify/h...</td>\n    </tr>\n  </tbody>\n</table>\n</div>"
     },
     "metadata": {},
     "output_type": "display_data"
    },
    {
     "name": "stdout",
     "output_type": "stream",
     "text": [
      "color: GRAYSCALE image_size: 400 minimum_image: 10\n",
      "total of levels: 160 total of images: 9991\n"
     ]
    },
    {
     "data": {
      "text/plain": "        levels                                              paths  count  \\\n0      aduncum  [/media/xandao/c2f58d30-ff2c-47f7-95af-91ad6fd...    377   \n1      aequale  [/media/xandao/c2f58d30-ff2c-47f7-95af-91ad6fd...     30   \n2        alata  [/media/xandao/c2f58d30-ff2c-47f7-95af-91ad6fd...     81   \n3  alatabaccum  [/media/xandao/c2f58d30-ff2c-47f7-95af-91ad6fd...     28   \n\n                                                 seq  \n0  [7220, 7221, 7222, 7234, 7742, 7757, 8224, 868...  \n1  [8727, 9316, 10163, 11517, 12577, 20200, 21125...  \n2  [6857, 6861, 6862, 6863, 6864, 7565, 7859, 986...  \n3  [26207, 30555, 30557, 30558, 30560, 30561, 305...  ",
      "text/html": "<div>\n<style scoped>\n    .dataframe tbody tr th:only-of-type {\n        vertical-align: middle;\n    }\n\n    .dataframe tbody tr th {\n        vertical-align: top;\n    }\n\n    .dataframe thead th {\n        text-align: right;\n    }\n</style>\n<table border=\"1\" class=\"dataframe\">\n  <thead>\n    <tr style=\"text-align: right;\">\n      <th></th>\n      <th>levels</th>\n      <th>paths</th>\n      <th>count</th>\n      <th>seq</th>\n    </tr>\n  </thead>\n  <tbody>\n    <tr>\n      <th>0</th>\n      <td>aduncum</td>\n      <td>[/media/xandao/c2f58d30-ff2c-47f7-95af-91ad6fd...</td>\n      <td>377</td>\n      <td>[7220, 7221, 7222, 7234, 7742, 7757, 8224, 868...</td>\n    </tr>\n    <tr>\n      <th>1</th>\n      <td>aequale</td>\n      <td>[/media/xandao/c2f58d30-ff2c-47f7-95af-91ad6fd...</td>\n      <td>30</td>\n      <td>[8727, 9316, 10163, 11517, 12577, 20200, 21125...</td>\n    </tr>\n    <tr>\n      <th>2</th>\n      <td>alata</td>\n      <td>[/media/xandao/c2f58d30-ff2c-47f7-95af-91ad6fd...</td>\n      <td>81</td>\n      <td>[6857, 6861, 6862, 6863, 6864, 7565, 7859, 986...</td>\n    </tr>\n    <tr>\n      <th>3</th>\n      <td>alatabaccum</td>\n      <td>[/media/xandao/c2f58d30-ff2c-47f7-95af-91ad6fd...</td>\n      <td>28</td>\n      <td>[26207, 30555, 30557, 30558, 30560, 30561, 305...</td>\n    </tr>\n  </tbody>\n</table>\n</div>"
     },
     "metadata": {},
     "output_type": "display_data"
    },
    {
     "data": {
      "text/plain": "     seq    genus specific_epithet genus_trusted specific_epithet_trusted  \\\n0   9735    Piper         arboreum         Piper                 arboreum   \n1  19770  Ottonia           anisum         Piper                   anisum   \n2  40891  Ottonia         taperana         Piper                   anisum   \n3   7333    Piper     corcovadense         Piper                grazielae   \n\n                                                urls  \n0  [https://storage.googleapis.com/cria-zoomify/h...  \n1  [https://storage.googleapis.com/cria-zoomify/h...  \n2  [https://storage.googleapis.com/cria-zoomify/h...  \n3  [https://storage.googleapis.com/cria-zoomify/h...  ",
      "text/html": "<div>\n<style scoped>\n    .dataframe tbody tr th:only-of-type {\n        vertical-align: middle;\n    }\n\n    .dataframe tbody tr th {\n        vertical-align: top;\n    }\n\n    .dataframe thead th {\n        text-align: right;\n    }\n</style>\n<table border=\"1\" class=\"dataframe\">\n  <thead>\n    <tr style=\"text-align: right;\">\n      <th></th>\n      <th>seq</th>\n      <th>genus</th>\n      <th>specific_epithet</th>\n      <th>genus_trusted</th>\n      <th>specific_epithet_trusted</th>\n      <th>urls</th>\n    </tr>\n  </thead>\n  <tbody>\n    <tr>\n      <th>0</th>\n      <td>9735</td>\n      <td>Piper</td>\n      <td>arboreum</td>\n      <td>Piper</td>\n      <td>arboreum</td>\n      <td>[https://storage.googleapis.com/cria-zoomify/h...</td>\n    </tr>\n    <tr>\n      <th>1</th>\n      <td>19770</td>\n      <td>Ottonia</td>\n      <td>anisum</td>\n      <td>Piper</td>\n      <td>anisum</td>\n      <td>[https://storage.googleapis.com/cria-zoomify/h...</td>\n    </tr>\n    <tr>\n      <th>2</th>\n      <td>40891</td>\n      <td>Ottonia</td>\n      <td>taperana</td>\n      <td>Piper</td>\n      <td>anisum</td>\n      <td>[https://storage.googleapis.com/cria-zoomify/h...</td>\n    </tr>\n    <tr>\n      <th>3</th>\n      <td>7333</td>\n      <td>Piper</td>\n      <td>corcovadense</td>\n      <td>Piper</td>\n      <td>grazielae</td>\n      <td>[https://storage.googleapis.com/cria-zoomify/h...</td>\n    </tr>\n  </tbody>\n</table>\n</div>"
     },
     "metadata": {},
     "output_type": "display_data"
    },
    {
     "name": "stdout",
     "output_type": "stream",
     "text": [
      "color: GRAYSCALE image_size: 400 minimum_image: 20\n",
      "total of levels: 106 total of images: 9248\n"
     ]
    },
    {
     "data": {
      "text/plain": "        levels                                              paths  count  \\\n0      aduncum  [/media/xandao/c2f58d30-ff2c-47f7-95af-91ad6fd...    377   \n1      aequale  [/media/xandao/c2f58d30-ff2c-47f7-95af-91ad6fd...     30   \n2        alata  [/media/xandao/c2f58d30-ff2c-47f7-95af-91ad6fd...     81   \n3  alatabaccum  [/media/xandao/c2f58d30-ff2c-47f7-95af-91ad6fd...     28   \n\n                                                 seq  \n0  [7220, 7221, 7222, 7234, 7742, 7757, 8224, 868...  \n1  [8727, 9316, 10163, 11517, 12577, 20200, 21125...  \n2  [6857, 6861, 6862, 6863, 6864, 7565, 7859, 986...  \n3  [26207, 30555, 30557, 30558, 30560, 30561, 305...  ",
      "text/html": "<div>\n<style scoped>\n    .dataframe tbody tr th:only-of-type {\n        vertical-align: middle;\n    }\n\n    .dataframe tbody tr th {\n        vertical-align: top;\n    }\n\n    .dataframe thead th {\n        text-align: right;\n    }\n</style>\n<table border=\"1\" class=\"dataframe\">\n  <thead>\n    <tr style=\"text-align: right;\">\n      <th></th>\n      <th>levels</th>\n      <th>paths</th>\n      <th>count</th>\n      <th>seq</th>\n    </tr>\n  </thead>\n  <tbody>\n    <tr>\n      <th>0</th>\n      <td>aduncum</td>\n      <td>[/media/xandao/c2f58d30-ff2c-47f7-95af-91ad6fd...</td>\n      <td>377</td>\n      <td>[7220, 7221, 7222, 7234, 7742, 7757, 8224, 868...</td>\n    </tr>\n    <tr>\n      <th>1</th>\n      <td>aequale</td>\n      <td>[/media/xandao/c2f58d30-ff2c-47f7-95af-91ad6fd...</td>\n      <td>30</td>\n      <td>[8727, 9316, 10163, 11517, 12577, 20200, 21125...</td>\n    </tr>\n    <tr>\n      <th>2</th>\n      <td>alata</td>\n      <td>[/media/xandao/c2f58d30-ff2c-47f7-95af-91ad6fd...</td>\n      <td>81</td>\n      <td>[6857, 6861, 6862, 6863, 6864, 7565, 7859, 986...</td>\n    </tr>\n    <tr>\n      <th>3</th>\n      <td>alatabaccum</td>\n      <td>[/media/xandao/c2f58d30-ff2c-47f7-95af-91ad6fd...</td>\n      <td>28</td>\n      <td>[26207, 30555, 30557, 30558, 30560, 30561, 305...</td>\n    </tr>\n  </tbody>\n</table>\n</div>"
     },
     "metadata": {},
     "output_type": "display_data"
    },
    {
     "data": {
      "text/plain": "     seq    genus specific_epithet genus_trusted specific_epithet_trusted  \\\n0   9735    Piper         arboreum         Piper                 arboreum   \n1  19770  Ottonia           anisum         Piper                   anisum   \n2  40891  Ottonia         taperana         Piper                   anisum   \n3   7333    Piper     corcovadense         Piper                grazielae   \n\n                                                urls  \n0  [https://storage.googleapis.com/cria-zoomify/h...  \n1  [https://storage.googleapis.com/cria-zoomify/h...  \n2  [https://storage.googleapis.com/cria-zoomify/h...  \n3  [https://storage.googleapis.com/cria-zoomify/h...  ",
      "text/html": "<div>\n<style scoped>\n    .dataframe tbody tr th:only-of-type {\n        vertical-align: middle;\n    }\n\n    .dataframe tbody tr th {\n        vertical-align: top;\n    }\n\n    .dataframe thead th {\n        text-align: right;\n    }\n</style>\n<table border=\"1\" class=\"dataframe\">\n  <thead>\n    <tr style=\"text-align: right;\">\n      <th></th>\n      <th>seq</th>\n      <th>genus</th>\n      <th>specific_epithet</th>\n      <th>genus_trusted</th>\n      <th>specific_epithet_trusted</th>\n      <th>urls</th>\n    </tr>\n  </thead>\n  <tbody>\n    <tr>\n      <th>0</th>\n      <td>9735</td>\n      <td>Piper</td>\n      <td>arboreum</td>\n      <td>Piper</td>\n      <td>arboreum</td>\n      <td>[https://storage.googleapis.com/cria-zoomify/h...</td>\n    </tr>\n    <tr>\n      <th>1</th>\n      <td>19770</td>\n      <td>Ottonia</td>\n      <td>anisum</td>\n      <td>Piper</td>\n      <td>anisum</td>\n      <td>[https://storage.googleapis.com/cria-zoomify/h...</td>\n    </tr>\n    <tr>\n      <th>2</th>\n      <td>40891</td>\n      <td>Ottonia</td>\n      <td>taperana</td>\n      <td>Piper</td>\n      <td>anisum</td>\n      <td>[https://storage.googleapis.com/cria-zoomify/h...</td>\n    </tr>\n    <tr>\n      <th>3</th>\n      <td>7333</td>\n      <td>Piper</td>\n      <td>corcovadense</td>\n      <td>Piper</td>\n      <td>grazielae</td>\n      <td>[https://storage.googleapis.com/cria-zoomify/h...</td>\n    </tr>\n  </tbody>\n</table>\n</div>"
     },
     "metadata": {},
     "output_type": "display_data"
    },
    {
     "name": "stdout",
     "output_type": "stream",
     "text": [
      "color: GRAYSCALE image_size: 512 minimum_image: 5\n",
      "total of levels: 235 total of images: 10515\n"
     ]
    },
    {
     "data": {
      "text/plain": "        levels                                              paths  count  \\\n0  abutiloides  [/media/xandao/c2f58d30-ff2c-47f7-95af-91ad6fd...      8   \n1      aduncum  [/media/xandao/c2f58d30-ff2c-47f7-95af-91ad6fd...    377   \n2      aequale  [/media/xandao/c2f58d30-ff2c-47f7-95af-91ad6fd...     30   \n3        alata  [/media/xandao/c2f58d30-ff2c-47f7-95af-91ad6fd...     81   \n\n                                                 seq  \n0  [9416, 10009, 10651, 12428, 25112, 37910, 3847...  \n1  [7220, 7221, 7222, 7234, 7742, 7757, 8224, 868...  \n2  [8727, 9316, 10163, 11517, 12577, 20200, 21125...  \n3  [6857, 6861, 6862, 6863, 6864, 7565, 7859, 986...  ",
      "text/html": "<div>\n<style scoped>\n    .dataframe tbody tr th:only-of-type {\n        vertical-align: middle;\n    }\n\n    .dataframe tbody tr th {\n        vertical-align: top;\n    }\n\n    .dataframe thead th {\n        text-align: right;\n    }\n</style>\n<table border=\"1\" class=\"dataframe\">\n  <thead>\n    <tr style=\"text-align: right;\">\n      <th></th>\n      <th>levels</th>\n      <th>paths</th>\n      <th>count</th>\n      <th>seq</th>\n    </tr>\n  </thead>\n  <tbody>\n    <tr>\n      <th>0</th>\n      <td>abutiloides</td>\n      <td>[/media/xandao/c2f58d30-ff2c-47f7-95af-91ad6fd...</td>\n      <td>8</td>\n      <td>[9416, 10009, 10651, 12428, 25112, 37910, 3847...</td>\n    </tr>\n    <tr>\n      <th>1</th>\n      <td>aduncum</td>\n      <td>[/media/xandao/c2f58d30-ff2c-47f7-95af-91ad6fd...</td>\n      <td>377</td>\n      <td>[7220, 7221, 7222, 7234, 7742, 7757, 8224, 868...</td>\n    </tr>\n    <tr>\n      <th>2</th>\n      <td>aequale</td>\n      <td>[/media/xandao/c2f58d30-ff2c-47f7-95af-91ad6fd...</td>\n      <td>30</td>\n      <td>[8727, 9316, 10163, 11517, 12577, 20200, 21125...</td>\n    </tr>\n    <tr>\n      <th>3</th>\n      <td>alata</td>\n      <td>[/media/xandao/c2f58d30-ff2c-47f7-95af-91ad6fd...</td>\n      <td>81</td>\n      <td>[6857, 6861, 6862, 6863, 6864, 7565, 7859, 986...</td>\n    </tr>\n  </tbody>\n</table>\n</div>"
     },
     "metadata": {},
     "output_type": "display_data"
    },
    {
     "data": {
      "text/plain": "     seq    genus specific_epithet genus_trusted specific_epithet_trusted  \\\n0   9735    Piper         arboreum         Piper                 arboreum   \n1  19770  Ottonia           anisum         Piper                   anisum   \n2  40891  Ottonia         taperana         Piper                   anisum   \n3   7333    Piper     corcovadense         Piper                grazielae   \n\n                                                urls  \n0  [https://storage.googleapis.com/cria-zoomify/h...  \n1  [https://storage.googleapis.com/cria-zoomify/h...  \n2  [https://storage.googleapis.com/cria-zoomify/h...  \n3  [https://storage.googleapis.com/cria-zoomify/h...  ",
      "text/html": "<div>\n<style scoped>\n    .dataframe tbody tr th:only-of-type {\n        vertical-align: middle;\n    }\n\n    .dataframe tbody tr th {\n        vertical-align: top;\n    }\n\n    .dataframe thead th {\n        text-align: right;\n    }\n</style>\n<table border=\"1\" class=\"dataframe\">\n  <thead>\n    <tr style=\"text-align: right;\">\n      <th></th>\n      <th>seq</th>\n      <th>genus</th>\n      <th>specific_epithet</th>\n      <th>genus_trusted</th>\n      <th>specific_epithet_trusted</th>\n      <th>urls</th>\n    </tr>\n  </thead>\n  <tbody>\n    <tr>\n      <th>0</th>\n      <td>9735</td>\n      <td>Piper</td>\n      <td>arboreum</td>\n      <td>Piper</td>\n      <td>arboreum</td>\n      <td>[https://storage.googleapis.com/cria-zoomify/h...</td>\n    </tr>\n    <tr>\n      <th>1</th>\n      <td>19770</td>\n      <td>Ottonia</td>\n      <td>anisum</td>\n      <td>Piper</td>\n      <td>anisum</td>\n      <td>[https://storage.googleapis.com/cria-zoomify/h...</td>\n    </tr>\n    <tr>\n      <th>2</th>\n      <td>40891</td>\n      <td>Ottonia</td>\n      <td>taperana</td>\n      <td>Piper</td>\n      <td>anisum</td>\n      <td>[https://storage.googleapis.com/cria-zoomify/h...</td>\n    </tr>\n    <tr>\n      <th>3</th>\n      <td>7333</td>\n      <td>Piper</td>\n      <td>corcovadense</td>\n      <td>Piper</td>\n      <td>grazielae</td>\n      <td>[https://storage.googleapis.com/cria-zoomify/h...</td>\n    </tr>\n  </tbody>\n</table>\n</div>"
     },
     "metadata": {},
     "output_type": "display_data"
    },
    {
     "name": "stdout",
     "output_type": "stream",
     "text": [
      "color: GRAYSCALE image_size: 512 minimum_image: 10\n",
      "total of levels: 160 total of images: 9991\n"
     ]
    },
    {
     "data": {
      "text/plain": "        levels                                              paths  count  \\\n0      aduncum  [/media/xandao/c2f58d30-ff2c-47f7-95af-91ad6fd...    377   \n1      aequale  [/media/xandao/c2f58d30-ff2c-47f7-95af-91ad6fd...     30   \n2        alata  [/media/xandao/c2f58d30-ff2c-47f7-95af-91ad6fd...     81   \n3  alatabaccum  [/media/xandao/c2f58d30-ff2c-47f7-95af-91ad6fd...     28   \n\n                                                 seq  \n0  [7220, 7221, 7222, 7234, 7742, 7757, 8224, 868...  \n1  [8727, 9316, 10163, 11517, 12577, 20200, 21125...  \n2  [6857, 6861, 6862, 6863, 6864, 7565, 7859, 986...  \n3  [26207, 30555, 30557, 30558, 30560, 30561, 305...  ",
      "text/html": "<div>\n<style scoped>\n    .dataframe tbody tr th:only-of-type {\n        vertical-align: middle;\n    }\n\n    .dataframe tbody tr th {\n        vertical-align: top;\n    }\n\n    .dataframe thead th {\n        text-align: right;\n    }\n</style>\n<table border=\"1\" class=\"dataframe\">\n  <thead>\n    <tr style=\"text-align: right;\">\n      <th></th>\n      <th>levels</th>\n      <th>paths</th>\n      <th>count</th>\n      <th>seq</th>\n    </tr>\n  </thead>\n  <tbody>\n    <tr>\n      <th>0</th>\n      <td>aduncum</td>\n      <td>[/media/xandao/c2f58d30-ff2c-47f7-95af-91ad6fd...</td>\n      <td>377</td>\n      <td>[7220, 7221, 7222, 7234, 7742, 7757, 8224, 868...</td>\n    </tr>\n    <tr>\n      <th>1</th>\n      <td>aequale</td>\n      <td>[/media/xandao/c2f58d30-ff2c-47f7-95af-91ad6fd...</td>\n      <td>30</td>\n      <td>[8727, 9316, 10163, 11517, 12577, 20200, 21125...</td>\n    </tr>\n    <tr>\n      <th>2</th>\n      <td>alata</td>\n      <td>[/media/xandao/c2f58d30-ff2c-47f7-95af-91ad6fd...</td>\n      <td>81</td>\n      <td>[6857, 6861, 6862, 6863, 6864, 7565, 7859, 986...</td>\n    </tr>\n    <tr>\n      <th>3</th>\n      <td>alatabaccum</td>\n      <td>[/media/xandao/c2f58d30-ff2c-47f7-95af-91ad6fd...</td>\n      <td>28</td>\n      <td>[26207, 30555, 30557, 30558, 30560, 30561, 305...</td>\n    </tr>\n  </tbody>\n</table>\n</div>"
     },
     "metadata": {},
     "output_type": "display_data"
    },
    {
     "data": {
      "text/plain": "     seq    genus specific_epithet genus_trusted specific_epithet_trusted  \\\n0   9735    Piper         arboreum         Piper                 arboreum   \n1  19770  Ottonia           anisum         Piper                   anisum   \n2  40891  Ottonia         taperana         Piper                   anisum   \n3   7333    Piper     corcovadense         Piper                grazielae   \n\n                                                urls  \n0  [https://storage.googleapis.com/cria-zoomify/h...  \n1  [https://storage.googleapis.com/cria-zoomify/h...  \n2  [https://storage.googleapis.com/cria-zoomify/h...  \n3  [https://storage.googleapis.com/cria-zoomify/h...  ",
      "text/html": "<div>\n<style scoped>\n    .dataframe tbody tr th:only-of-type {\n        vertical-align: middle;\n    }\n\n    .dataframe tbody tr th {\n        vertical-align: top;\n    }\n\n    .dataframe thead th {\n        text-align: right;\n    }\n</style>\n<table border=\"1\" class=\"dataframe\">\n  <thead>\n    <tr style=\"text-align: right;\">\n      <th></th>\n      <th>seq</th>\n      <th>genus</th>\n      <th>specific_epithet</th>\n      <th>genus_trusted</th>\n      <th>specific_epithet_trusted</th>\n      <th>urls</th>\n    </tr>\n  </thead>\n  <tbody>\n    <tr>\n      <th>0</th>\n      <td>9735</td>\n      <td>Piper</td>\n      <td>arboreum</td>\n      <td>Piper</td>\n      <td>arboreum</td>\n      <td>[https://storage.googleapis.com/cria-zoomify/h...</td>\n    </tr>\n    <tr>\n      <th>1</th>\n      <td>19770</td>\n      <td>Ottonia</td>\n      <td>anisum</td>\n      <td>Piper</td>\n      <td>anisum</td>\n      <td>[https://storage.googleapis.com/cria-zoomify/h...</td>\n    </tr>\n    <tr>\n      <th>2</th>\n      <td>40891</td>\n      <td>Ottonia</td>\n      <td>taperana</td>\n      <td>Piper</td>\n      <td>anisum</td>\n      <td>[https://storage.googleapis.com/cria-zoomify/h...</td>\n    </tr>\n    <tr>\n      <th>3</th>\n      <td>7333</td>\n      <td>Piper</td>\n      <td>corcovadense</td>\n      <td>Piper</td>\n      <td>grazielae</td>\n      <td>[https://storage.googleapis.com/cria-zoomify/h...</td>\n    </tr>\n  </tbody>\n</table>\n</div>"
     },
     "metadata": {},
     "output_type": "display_data"
    },
    {
     "name": "stdout",
     "output_type": "stream",
     "text": [
      "color: GRAYSCALE image_size: 512 minimum_image: 20\n",
      "total of levels: 106 total of images: 9248\n"
     ]
    },
    {
     "data": {
      "text/plain": "        levels                                              paths  count  \\\n0      aduncum  [/media/xandao/c2f58d30-ff2c-47f7-95af-91ad6fd...    377   \n1      aequale  [/media/xandao/c2f58d30-ff2c-47f7-95af-91ad6fd...     30   \n2        alata  [/media/xandao/c2f58d30-ff2c-47f7-95af-91ad6fd...     81   \n3  alatabaccum  [/media/xandao/c2f58d30-ff2c-47f7-95af-91ad6fd...     28   \n\n                                                 seq  \n0  [7220, 7221, 7222, 7234, 7742, 7757, 8224, 868...  \n1  [8727, 9316, 10163, 11517, 12577, 20200, 21125...  \n2  [6857, 6861, 6862, 6863, 6864, 7565, 7859, 986...  \n3  [26207, 30555, 30557, 30558, 30560, 30561, 305...  ",
      "text/html": "<div>\n<style scoped>\n    .dataframe tbody tr th:only-of-type {\n        vertical-align: middle;\n    }\n\n    .dataframe tbody tr th {\n        vertical-align: top;\n    }\n\n    .dataframe thead th {\n        text-align: right;\n    }\n</style>\n<table border=\"1\" class=\"dataframe\">\n  <thead>\n    <tr style=\"text-align: right;\">\n      <th></th>\n      <th>levels</th>\n      <th>paths</th>\n      <th>count</th>\n      <th>seq</th>\n    </tr>\n  </thead>\n  <tbody>\n    <tr>\n      <th>0</th>\n      <td>aduncum</td>\n      <td>[/media/xandao/c2f58d30-ff2c-47f7-95af-91ad6fd...</td>\n      <td>377</td>\n      <td>[7220, 7221, 7222, 7234, 7742, 7757, 8224, 868...</td>\n    </tr>\n    <tr>\n      <th>1</th>\n      <td>aequale</td>\n      <td>[/media/xandao/c2f58d30-ff2c-47f7-95af-91ad6fd...</td>\n      <td>30</td>\n      <td>[8727, 9316, 10163, 11517, 12577, 20200, 21125...</td>\n    </tr>\n    <tr>\n      <th>2</th>\n      <td>alata</td>\n      <td>[/media/xandao/c2f58d30-ff2c-47f7-95af-91ad6fd...</td>\n      <td>81</td>\n      <td>[6857, 6861, 6862, 6863, 6864, 7565, 7859, 986...</td>\n    </tr>\n    <tr>\n      <th>3</th>\n      <td>alatabaccum</td>\n      <td>[/media/xandao/c2f58d30-ff2c-47f7-95af-91ad6fd...</td>\n      <td>28</td>\n      <td>[26207, 30555, 30557, 30558, 30560, 30561, 305...</td>\n    </tr>\n  </tbody>\n</table>\n</div>"
     },
     "metadata": {},
     "output_type": "display_data"
    },
    {
     "data": {
      "text/plain": "     seq    genus specific_epithet genus_trusted specific_epithet_trusted  \\\n0   9735    Piper         arboreum         Piper                 arboreum   \n1  19770  Ottonia           anisum         Piper                   anisum   \n2  40891  Ottonia         taperana         Piper                   anisum   \n3   7333    Piper     corcovadense         Piper                grazielae   \n\n                                                urls  \n0  [https://storage.googleapis.com/cria-zoomify/h...  \n1  [https://storage.googleapis.com/cria-zoomify/h...  \n2  [https://storage.googleapis.com/cria-zoomify/h...  \n3  [https://storage.googleapis.com/cria-zoomify/h...  ",
      "text/html": "<div>\n<style scoped>\n    .dataframe tbody tr th:only-of-type {\n        vertical-align: middle;\n    }\n\n    .dataframe tbody tr th {\n        vertical-align: top;\n    }\n\n    .dataframe thead th {\n        text-align: right;\n    }\n</style>\n<table border=\"1\" class=\"dataframe\">\n  <thead>\n    <tr style=\"text-align: right;\">\n      <th></th>\n      <th>seq</th>\n      <th>genus</th>\n      <th>specific_epithet</th>\n      <th>genus_trusted</th>\n      <th>specific_epithet_trusted</th>\n      <th>urls</th>\n    </tr>\n  </thead>\n  <tbody>\n    <tr>\n      <th>0</th>\n      <td>9735</td>\n      <td>Piper</td>\n      <td>arboreum</td>\n      <td>Piper</td>\n      <td>arboreum</td>\n      <td>[https://storage.googleapis.com/cria-zoomify/h...</td>\n    </tr>\n    <tr>\n      <th>1</th>\n      <td>19770</td>\n      <td>Ottonia</td>\n      <td>anisum</td>\n      <td>Piper</td>\n      <td>anisum</td>\n      <td>[https://storage.googleapis.com/cria-zoomify/h...</td>\n    </tr>\n    <tr>\n      <th>2</th>\n      <td>40891</td>\n      <td>Ottonia</td>\n      <td>taperana</td>\n      <td>Piper</td>\n      <td>anisum</td>\n      <td>[https://storage.googleapis.com/cria-zoomify/h...</td>\n    </tr>\n    <tr>\n      <th>3</th>\n      <td>7333</td>\n      <td>Piper</td>\n      <td>corcovadense</td>\n      <td>Piper</td>\n      <td>grazielae</td>\n      <td>[https://storage.googleapis.com/cria-zoomify/h...</td>\n    </tr>\n  </tbody>\n</table>\n</div>"
     },
     "metadata": {},
     "output_type": "display_data"
    }
   ],
   "source": [
    "for color in list_color:\n",
    "    for image_size in list_image_size:\n",
    "        for minimum_image in list_minimum_image:\n",
    "            list_level = []\n",
    "            list_path_images_final = []\n",
    "            list_seq_final = []\n",
    "            list_count_samples = []\n",
    "\n",
    "            level=DataTrustedIdentifier.specific_epithet_trusted\n",
    "            out=os.path.join(path_out, color.upper(), level.name, image_size, str(minimum_image))\n",
    "\n",
    "            condition = sa.and_(DataTrustedIdentifier.country_trusted == 'Brasil',\n",
    "                                level.is_not(None),\n",
    "                                sa.or_(uf_unaccented_lower, state_unaccented_lower))\n",
    "\n",
    "            columns = [level,\n",
    "                       sa.func.array_agg(DataTrustedIdentifier.seq).label('list_seq')]\n",
    "            query = session.query(*columns) \\\n",
    "                .filter(condition) \\\n",
    "                .distinct() \\\n",
    "                .group_by(level) \\\n",
    "                .order_by(level) \\\n",
    "                .having(sa.func.count(level) >= minimum_image) \\\n",
    "                .all()\n",
    "\n",
    "            print('color: %s image_size: %s minimum_image: %d' % (color.upper(), image_size, minimum_image))\n",
    "            for q in query:\n",
    "                qzao = session.query(Image.seq_id, sa.func.array_agg(Image.path_segmented).label('list_path_segmented')) \\\n",
    "                    .filter(sa.and_(Image.seq_id.in_(q.list_seq),\n",
    "                                    Image.color_mode.__eq__(color.upper()),\n",
    "                                    Image.height.__eq__(image_size),\n",
    "                                    Image.width.__eq__(image_size),\n",
    "                                    sa.not_(Image.filename.in_(list_images_invalid)),\n",
    "                                    sa.not_(Image.filename.ilike('%_v0%')),\n",
    "                                    sa.not_(Image.filename.like('%_e%')),\n",
    "                                    sa.not_(Image.filename.like('%_nd%')),\n",
    "                                    ))\\\n",
    "                    .group_by(Image.seq_id)\\\n",
    "                    .all()\n",
    "\n",
    "                list_one_image_per_seq = []\n",
    "                list_seq_one_image = []\n",
    "                for qzinho in qzao:\n",
    "                    list_seq_one_image.append(qzinho.seq_id)\n",
    "                    list_one_image_per_seq.append(sorted(qzinho.list_path_segmented)[0])\n",
    "\n",
    "                if len(list_one_image_per_seq) >= minimum_image:\n",
    "                    list_count_samples.append(len(list_one_image_per_seq))\n",
    "                    list_level.append(q.specific_epithet_trusted)\n",
    "                    list_path_images_final.append(list_one_image_per_seq)\n",
    "                    list_seq_final.append(list_seq_one_image)\n",
    "\n",
    "            copy_images(list_level, list_path_images_final, out)\n",
    "            save_metadata(list_count_samples, list_level, list_path_images_final, list_seq_final, out, session)"
   ],
   "metadata": {
    "collapsed": false
   }
  },
  {
   "cell_type": "code",
   "execution_count": 16,
   "outputs": [],
   "source": [
    "session.close()\n",
    "engine.dispose()"
   ],
   "metadata": {
    "collapsed": false
   }
  }
 ],
 "metadata": {
  "kernelspec": {
   "display_name": "Python 3",
   "language": "python",
   "name": "python3"
  },
  "language_info": {
   "codemirror_mode": {
    "name": "ipython",
    "version": 2
   },
   "file_extension": ".py",
   "mimetype": "text/x-python",
   "name": "python",
   "nbconvert_exporter": "python",
   "pygments_lexer": "ipython2",
   "version": "2.7.6"
  }
 },
 "nbformat": 4,
 "nbformat_minor": 0
}
