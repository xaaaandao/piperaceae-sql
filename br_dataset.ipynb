{
 "cells": [
  {
   "cell_type": "code",
   "execution_count": 32,
   "outputs": [
    {
     "name": "stdout",
     "output_type": "stream",
     "text": [
      "The autoreload extension is already loaded. To reload it, use:\n",
      "  %reload_ext autoreload\n"
     ]
    }
   ],
   "source": [
    "%reload_ext autoreload\n",
    "%load_ext autoreload\n",
    "%autoreload 2"
   ],
   "metadata": {
    "collapsed": false
   }
  },
  {
   "cell_type": "code",
   "execution_count": 33,
   "outputs": [],
   "source": [
    "import pandas as pd\n",
    "import sqlalchemy as sa\n",
    "\n",
    "import database as db\n",
    "\n",
    "from images import get_list_of_images_invalid, separate_and_copy_images\n",
    "from models import County, DataTrustedIdentifier"
   ],
   "metadata": {
    "collapsed": false
   }
  },
  {
   "cell_type": "markdown",
   "source": [
    "## Database connection"
   ],
   "metadata": {
    "collapsed": false
   }
  },
  {
   "cell_type": "code",
   "execution_count": 34,
   "outputs": [
    {
     "name": "stdout",
     "output_type": "stream",
     "text": [
      "2023-03-27 20:45:24,151 INFO sqlalchemy.engine.Engine select pg_catalog.version()\n",
      "2023-03-27 20:45:24,152 INFO sqlalchemy.engine.Engine [raw sql] {}\n",
      "2023-03-27 20:45:24,153 INFO sqlalchemy.engine.Engine select current_schema()\n",
      "2023-03-27 20:45:24,153 INFO sqlalchemy.engine.Engine [raw sql] {}\n",
      "2023-03-27 20:45:24,154 INFO sqlalchemy.engine.Engine show standard_conforming_strings\n",
      "2023-03-27 20:45:24,154 INFO sqlalchemy.engine.Engine [raw sql] {}\n"
     ]
    }
   ],
   "source": [
    "engine, session = db.connect()\n",
    "engine.echo = False"
   ],
   "metadata": {
    "collapsed": false
   }
  },
  {
   "cell_type": "markdown",
   "source": [
    "## List of images invalid"
   ],
   "metadata": {
    "collapsed": false
   }
  },
  {
   "cell_type": "code",
   "execution_count": 35,
   "outputs": [
    {
     "data": {
      "text/plain": "       barcode      reason\n0  INPA0248526  horizontal\n1  INPA0248523  horizontal\n2  INPA0248528  horizontal",
      "text/html": "<div>\n<style scoped>\n    .dataframe tbody tr th:only-of-type {\n        vertical-align: middle;\n    }\n\n    .dataframe tbody tr th {\n        vertical-align: top;\n    }\n\n    .dataframe thead th {\n        text-align: right;\n    }\n</style>\n<table border=\"1\" class=\"dataframe\">\n  <thead>\n    <tr style=\"text-align: right;\">\n      <th></th>\n      <th>barcode</th>\n      <th>reason</th>\n    </tr>\n  </thead>\n  <tbody>\n    <tr>\n      <th>0</th>\n      <td>INPA0248526</td>\n      <td>horizontal</td>\n    </tr>\n    <tr>\n      <th>1</th>\n      <td>INPA0248523</td>\n      <td>horizontal</td>\n    </tr>\n    <tr>\n      <th>2</th>\n      <td>INPA0248528</td>\n      <td>horizontal</td>\n    </tr>\n  </tbody>\n</table>\n</div>"
     },
     "execution_count": 35,
     "metadata": {},
     "output_type": "execute_result"
    }
   ],
   "source": [
    "list_images_invalid = get_list_of_images_invalid()\n",
    "pd.DataFrame(list_images_invalid).head(3)"
   ],
   "metadata": {
    "collapsed": false
   }
  },
  {
   "cell_type": "markdown",
   "source": [
    "## BR dataset"
   ],
   "metadata": {
    "collapsed": false
   }
  },
  {
   "cell_type": "code",
   "execution_count": 36,
   "outputs": [],
   "source": [
    "query = session.query(County).distinct().all()\n",
    "\n",
    "uf_unaccented_lower, state_unaccented_lower, county_unaccented_lower = db.get_list_uf_state_county(query)"
   ],
   "metadata": {
    "collapsed": false
   }
  },
  {
   "cell_type": "markdown",
   "source": [
    "## Define variable for build dataset"
   ],
   "metadata": {
    "collapsed": false
   }
  },
  {
   "cell_type": "code",
   "execution_count": 37,
   "outputs": [],
   "source": [
    "list_minimum_image=[5]#, 10, 20]\n",
    "list_color=['rgb', 'grayscale']\n",
    "list_image_size=['256']#, '400', '512']\n",
    "path_out = '/home/xandao/Imagens/br_dataset'"
   ],
   "metadata": {
    "collapsed": false
   }
  },
  {
   "cell_type": "markdown",
   "source": [
    "## copy images"
   ],
   "metadata": {
    "collapsed": false
   }
  },
  {
   "cell_type": "code",
   "execution_count": 38,
   "outputs": [
    {
     "name": "stdout",
     "output_type": "stream",
     "text": [
      "specie: aleyreanum before: 54 after: 53\n",
      "diff: ['/media/xandao/c2f58d30-ff2c-47f7-95af-91ad6fd69760/dataset/dataset-52k-sp-RGB-resize-xcf-mask-segmented/RGB/256/w_pred_mask/INPA0023115.jpeg']\n",
      "matching: ['/media/xandao/c2f58d30-ff2c-47f7-95af-91ad6fd69760/dataset/dataset-52k-sp-RGB-resize-xcf-mask-segmented/RGB/256/w_pred_mask/INPA0023715.jpeg', '/media/xandao/c2f58d30-ff2c-47f7-95af-91ad6fd69760/dataset/dataset-52k-sp-RGB-resize-xcf-mask-segmented/RGB/256/w_pred_mask/INPA0023763.jpeg', '/media/xandao/c2f58d30-ff2c-47f7-95af-91ad6fd69760/dataset/dataset-52k-sp-RGB-resize-xcf-mask-segmented/RGB/256/w_pred_mask/INPA0023883.jpeg', '/media/xandao/c2f58d30-ff2c-47f7-95af-91ad6fd69760/dataset/dataset-52k-sp-RGB-resize-xcf-mask-segmented/RGB/256/w_pred_mask/INPA0031787.jpeg', '/media/xandao/c2f58d30-ff2c-47f7-95af-91ad6fd69760/dataset/dataset-52k-sp-RGB-resize-xcf-mask-segmented/RGB/256/w_pred_mask/INPA0041527.jpeg', '/media/xandao/c2f58d30-ff2c-47f7-95af-91ad6fd69760/dataset/dataset-52k-sp-RGB-resize-xcf-mask-segmented/RGB/256/w_pred_mask/INPA0078263.jpeg', '/media/xandao/c2f58d30-ff2c-47f7-95af-91ad6fd69760/dataset/dataset-52k-sp-RGB-resize-xcf-mask-segmented/RGB/256/w_pred_mask/INPA0088450.jpeg', '/media/xandao/c2f58d30-ff2c-47f7-95af-91ad6fd69760/dataset/dataset-52k-sp-RGB-resize-xcf-mask-segmented/RGB/256/w_pred_mask/INPA0091120.jpeg', '/media/xandao/c2f58d30-ff2c-47f7-95af-91ad6fd69760/dataset/dataset-52k-sp-RGB-resize-xcf-mask-segmented/RGB/256/w_pred_mask/INPA0097486.jpeg', '/media/xandao/c2f58d30-ff2c-47f7-95af-91ad6fd69760/dataset/dataset-52k-sp-RGB-resize-xcf-mask-segmented/RGB/256/w_pred_mask/INPA0104677.jpeg', '/media/xandao/c2f58d30-ff2c-47f7-95af-91ad6fd69760/dataset/dataset-52k-sp-RGB-resize-xcf-mask-segmented/RGB/256/w_pred_mask/INPA0107423.jpeg', '/media/xandao/c2f58d30-ff2c-47f7-95af-91ad6fd69760/dataset/dataset-52k-sp-RGB-resize-xcf-mask-segmented/RGB/256/w_pred_mask/INPA0112758.jpeg', '/media/xandao/c2f58d30-ff2c-47f7-95af-91ad6fd69760/dataset/dataset-52k-sp-RGB-resize-xcf-mask-segmented/RGB/256/w_pred_mask/INPA0118398.jpeg', '/media/xandao/c2f58d30-ff2c-47f7-95af-91ad6fd69760/dataset/dataset-52k-sp-RGB-resize-xcf-mask-segmented/RGB/256/w_pred_mask/INPA0123659.jpeg', '/media/xandao/c2f58d30-ff2c-47f7-95af-91ad6fd69760/dataset/dataset-52k-sp-RGB-resize-xcf-mask-segmented/RGB/256/w_pred_mask/INPA0125850.jpeg', '/media/xandao/c2f58d30-ff2c-47f7-95af-91ad6fd69760/dataset/dataset-52k-sp-RGB-resize-xcf-mask-segmented/RGB/256/w_pred_mask/INPA0150587.jpeg', '/media/xandao/c2f58d30-ff2c-47f7-95af-91ad6fd69760/dataset/dataset-52k-sp-RGB-resize-xcf-mask-segmented/RGB/256/w_pred_mask/NY00330839_01.jpeg', '/media/xandao/c2f58d30-ff2c-47f7-95af-91ad6fd69760/dataset/dataset-52k-sp-RGB-resize-xcf-mask-segmented/RGB/256/w_pred_mask/NY00756118_01.jpeg', '/media/xandao/c2f58d30-ff2c-47f7-95af-91ad6fd69760/dataset/dataset-52k-sp-RGB-resize-xcf-mask-segmented/RGB/256/w_pred_mask/NY00756254_01.jpeg', '/media/xandao/c2f58d30-ff2c-47f7-95af-91ad6fd69760/dataset/dataset-52k-sp-RGB-resize-xcf-mask-segmented/RGB/256/w_pred_mask/NY00756255_01.jpeg', '/media/xandao/c2f58d30-ff2c-47f7-95af-91ad6fd69760/dataset/dataset-52k-sp-RGB-resize-xcf-mask-segmented/RGB/256/w_pred_mask/NY00756256_01.jpeg', '/media/xandao/c2f58d30-ff2c-47f7-95af-91ad6fd69760/dataset/dataset-52k-sp-RGB-resize-xcf-mask-segmented/RGB/256/w_pred_mask/NY00756257_01.jpeg', '/media/xandao/c2f58d30-ff2c-47f7-95af-91ad6fd69760/dataset/dataset-52k-sp-RGB-resize-xcf-mask-segmented/RGB/256/w_pred_mask/NY00756258_01.jpeg', '/media/xandao/c2f58d30-ff2c-47f7-95af-91ad6fd69760/dataset/dataset-52k-sp-RGB-resize-xcf-mask-segmented/RGB/256/w_pred_mask/NY00756321_01.jpeg', '/media/xandao/c2f58d30-ff2c-47f7-95af-91ad6fd69760/dataset/dataset-52k-sp-RGB-resize-xcf-mask-segmented/RGB/256/w_pred_mask/NY00756335_01.jpeg', '/media/xandao/c2f58d30-ff2c-47f7-95af-91ad6fd69760/dataset/dataset-52k-sp-RGB-resize-xcf-mask-segmented/RGB/256/w_pred_mask/NY00957132_01.jpeg', '/media/xandao/c2f58d30-ff2c-47f7-95af-91ad6fd69760/dataset/dataset-52k-sp-RGB-resize-xcf-mask-segmented/RGB/256/w_pred_mask/NY00957133_01.jpeg', '/media/xandao/c2f58d30-ff2c-47f7-95af-91ad6fd69760/dataset/dataset-52k-sp-RGB-resize-xcf-mask-segmented/RGB/256/w_pred_mask/NY00957134_01.jpeg', '/media/xandao/c2f58d30-ff2c-47f7-95af-91ad6fd69760/dataset/dataset-52k-sp-RGB-resize-xcf-mask-segmented/RGB/256/w_pred_mask/NY01075706_01.jpeg', '/media/xandao/c2f58d30-ff2c-47f7-95af-91ad6fd69760/dataset/dataset-52k-sp-RGB-resize-xcf-mask-segmented/RGB/256/w_pred_mask/NY01421052_01.jpeg', '/media/xandao/c2f58d30-ff2c-47f7-95af-91ad6fd69760/dataset/dataset-52k-sp-RGB-resize-xcf-mask-segmented/RGB/256/w_pred_mask/NY01421053_01.jpeg', '/media/xandao/c2f58d30-ff2c-47f7-95af-91ad6fd69760/dataset/dataset-52k-sp-RGB-resize-xcf-mask-segmented/RGB/256/w_pred_mask/NY01421054_01.jpeg', '/media/xandao/c2f58d30-ff2c-47f7-95af-91ad6fd69760/dataset/dataset-52k-sp-RGB-resize-xcf-mask-segmented/RGB/256/w_pred_mask/NY01421056_01.jpeg', '/media/xandao/c2f58d30-ff2c-47f7-95af-91ad6fd69760/dataset/dataset-52k-sp-RGB-resize-xcf-mask-segmented/RGB/256/w_pred_mask/NY01421057_01.jpeg', '/media/xandao/c2f58d30-ff2c-47f7-95af-91ad6fd69760/dataset/dataset-52k-sp-RGB-resize-xcf-mask-segmented/RGB/256/w_pred_mask/NY01421058_01.jpeg', '/media/xandao/c2f58d30-ff2c-47f7-95af-91ad6fd69760/dataset/dataset-52k-sp-RGB-resize-xcf-mask-segmented/RGB/256/w_pred_mask/NY01421059_01.jpeg', '/media/xandao/c2f58d30-ff2c-47f7-95af-91ad6fd69760/dataset/dataset-52k-sp-RGB-resize-xcf-mask-segmented/RGB/256/w_pred_mask/NY01421061_01.jpeg', '/media/xandao/c2f58d30-ff2c-47f7-95af-91ad6fd69760/dataset/dataset-52k-sp-RGB-resize-xcf-mask-segmented/RGB/256/w_pred_mask/NY01421063_01.jpeg', '/media/xandao/c2f58d30-ff2c-47f7-95af-91ad6fd69760/dataset/dataset-52k-sp-RGB-resize-xcf-mask-segmented/RGB/256/w_pred_mask/NY01421064_01.jpeg', '/media/xandao/c2f58d30-ff2c-47f7-95af-91ad6fd69760/dataset/dataset-52k-sp-RGB-resize-xcf-mask-segmented/RGB/256/w_pred_mask/NY01421065_01.jpeg', '/media/xandao/c2f58d30-ff2c-47f7-95af-91ad6fd69760/dataset/dataset-52k-sp-RGB-resize-xcf-mask-segmented/RGB/256/w_pred_mask/NY01421066_01.jpeg', '/media/xandao/c2f58d30-ff2c-47f7-95af-91ad6fd69760/dataset/dataset-52k-sp-RGB-resize-xcf-mask-segmented/RGB/256/w_pred_mask/NY01421067_01.jpeg', '/media/xandao/c2f58d30-ff2c-47f7-95af-91ad6fd69760/dataset/dataset-52k-sp-RGB-resize-xcf-mask-segmented/RGB/256/w_pred_mask/NY01421068_01.jpeg', '/media/xandao/c2f58d30-ff2c-47f7-95af-91ad6fd69760/dataset/dataset-52k-sp-RGB-resize-xcf-mask-segmented/RGB/256/w_pred_mask/NY01421547_01.jpeg', '/media/xandao/c2f58d30-ff2c-47f7-95af-91ad6fd69760/dataset/dataset-52k-sp-RGB-resize-xcf-mask-segmented/RGB/256/w_pred_mask/NY01421876_01.jpeg', '/media/xandao/c2f58d30-ff2c-47f7-95af-91ad6fd69760/dataset/dataset-52k-sp-RGB-resize-xcf-mask-segmented/RGB/256/w_pred_mask/RON00001562.jpeg', '/media/xandao/c2f58d30-ff2c-47f7-95af-91ad6fd69760/dataset/dataset-52k-sp-RGB-resize-xcf-mask-segmented/RGB/256/w_pred_mask/RON00001563.jpeg', '/media/xandao/c2f58d30-ff2c-47f7-95af-91ad6fd69760/dataset/dataset-52k-sp-RGB-resize-xcf-mask-segmented/RGB/256/w_pred_mask/RON00001564.jpeg', '/media/xandao/c2f58d30-ff2c-47f7-95af-91ad6fd69760/dataset/dataset-52k-sp-RGB-resize-xcf-mask-segmented/RGB/256/w_pred_mask/RON00001566.jpeg', '/media/xandao/c2f58d30-ff2c-47f7-95af-91ad6fd69760/dataset/dataset-52k-sp-RGB-resize-xcf-mask-segmented/RGB/256/w_pred_mask/RON00001567.jpeg', '/media/xandao/c2f58d30-ff2c-47f7-95af-91ad6fd69760/dataset/dataset-52k-sp-RGB-resize-xcf-mask-segmented/RGB/256/w_pred_mask/RON00001568.jpeg', '/media/xandao/c2f58d30-ff2c-47f7-95af-91ad6fd69760/dataset/dataset-52k-sp-RGB-resize-xcf-mask-segmented/RGB/256/w_pred_mask/RON00001570.jpeg', '/media/xandao/c2f58d30-ff2c-47f7-95af-91ad6fd69760/dataset/dataset-52k-sp-RGB-resize-xcf-mask-segmented/RGB/256/w_pred_mask/RON00001571.jpeg']\n"
     ]
    },
    {
     "ename": "SystemExit",
     "evalue": "",
     "output_type": "error",
     "traceback": [
      "An exception has occurred, use %tb to see the full traceback.\n",
      "\u001B[0;31mSystemExit\u001B[0m\n"
     ]
    },
    {
     "name": "stderr",
     "output_type": "stream",
     "text": [
      "/home/xandao/miniconda3/lib/python3.9/site-packages/IPython/core/interactiveshell.py:3450: UserWarning: To exit: use 'exit', 'quit', or Ctrl-D.\n",
      "  warn(\"To exit: use 'exit', 'quit', or Ctrl-D.\", stacklevel=1)\n"
     ]
    }
   ],
   "source": [
    "level = DataTrustedIdentifier.specific_epithet_trusted\n",
    "if level == DataTrustedIdentifier.genus_trusted:\n",
    "    condition_level = DataTrustedIdentifier.genus_trusted.is_not(None)\n",
    "else:\n",
    "    condition_level = DataTrustedIdentifier.specific_epithet_trusted.is_not(None)\n",
    "\n",
    "condition = sa.and_(DataTrustedIdentifier.country_trusted =='Brasil',\n",
    "                condition_level,\n",
    "                 sa.or_(uf_unaccented_lower, state_unaccented_lower))\n",
    "\n",
    "separate_and_copy_images(condition, level, list_color, list_images_invalid, list_minimum_image, list_image_size, path_out, session)"
   ],
   "metadata": {
    "collapsed": false
   }
  },
  {
   "cell_type": "markdown",
   "source": [
    "## Close connection"
   ],
   "metadata": {
    "collapsed": false
   }
  },
  {
   "cell_type": "code",
   "execution_count": 31,
   "outputs": [],
   "source": [
    "session.close()\n",
    "engine.dispose()"
   ],
   "metadata": {
    "collapsed": false
   }
  }
 ],
 "metadata": {
  "kernelspec": {
   "display_name": "base",
   "language": "python",
   "name": "python3"
  },
  "language_info": {
   "codemirror_mode": {
    "name": "ipython",
    "version": 3
   },
   "file_extension": ".py",
   "mimetype": "text/x-python",
   "name": "python",
   "nbconvert_exporter": "python",
   "pygments_lexer": "ipython3",
   "version": "3.9.12"
  },
  "vscode": {
   "interpreter": {
    "hash": "53ce972a288a646521e393254486dd3d4e40ae124f0f9a66da52dff344d61cdc"
   }
  }
 },
 "nbformat": 4,
 "nbformat_minor": 1
}
