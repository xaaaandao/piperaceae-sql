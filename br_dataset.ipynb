{
 "cells": [
  {
   "cell_type": "code",
   "execution_count": 14,
   "outputs": [
    {
     "name": "stdout",
     "output_type": "stream",
     "text": [
      "The autoreload extension is already loaded. To reload it, use:\n",
      "  %reload_ext autoreload\n"
     ]
    }
   ],
   "source": [
    "%reload_ext autoreload\n",
    "%load_ext autoreload\n",
    "%autoreload 2"
   ],
   "metadata": {
    "collapsed": false
   }
  },
  {
   "cell_type": "code",
   "execution_count": 15,
   "outputs": [],
   "source": [
    "import os\n",
    "import pandas as pd\n",
    "import sqlalchemy as sa\n",
    "\n",
    "import database as db\n",
    "\n",
    "from images import copy_images, get_list_of_images_invalid, remove_images_invalid, save_metadata, separate_and_copy_images\n",
    "from models import County, DataTrustedIdentifier, Image"
   ],
   "metadata": {
    "collapsed": false
   }
  },
  {
   "cell_type": "markdown",
   "source": [
    "## Database connection"
   ],
   "metadata": {
    "collapsed": false
   }
  },
  {
   "cell_type": "code",
   "execution_count": 16,
   "outputs": [
    {
     "name": "stdout",
     "output_type": "stream",
     "text": [
      "2023-03-23 23:56:02,837 INFO sqlalchemy.engine.Engine select pg_catalog.version()\n",
      "2023-03-23 23:56:02,837 INFO sqlalchemy.engine.Engine [raw sql] {}\n",
      "2023-03-23 23:56:02,847 INFO sqlalchemy.engine.Engine select current_schema()\n",
      "2023-03-23 23:56:02,847 INFO sqlalchemy.engine.Engine [raw sql] {}\n",
      "2023-03-23 23:56:02,858 INFO sqlalchemy.engine.Engine show standard_conforming_strings\n",
      "2023-03-23 23:56:02,858 INFO sqlalchemy.engine.Engine [raw sql] {}\n"
     ]
    }
   ],
   "source": [
    "engine, session = db.connect()\n",
    "engine.echo = False"
   ],
   "metadata": {
    "collapsed": false
   }
  },
  {
   "cell_type": "markdown",
   "source": [
    "## List of images invalid"
   ],
   "metadata": {
    "collapsed": false
   }
  },
  {
   "cell_type": "code",
   "execution_count": 17,
   "outputs": [
    {
     "data": {
      "text/plain": "       barcode      reason\n0  INPA0248526  horizontal\n1  INPA0248523  horizontal\n2  INPA0248528  horizontal",
      "text/html": "<div>\n<style scoped>\n    .dataframe tbody tr th:only-of-type {\n        vertical-align: middle;\n    }\n\n    .dataframe tbody tr th {\n        vertical-align: top;\n    }\n\n    .dataframe thead th {\n        text-align: right;\n    }\n</style>\n<table border=\"1\" class=\"dataframe\">\n  <thead>\n    <tr style=\"text-align: right;\">\n      <th></th>\n      <th>barcode</th>\n      <th>reason</th>\n    </tr>\n  </thead>\n  <tbody>\n    <tr>\n      <th>0</th>\n      <td>INPA0248526</td>\n      <td>horizontal</td>\n    </tr>\n    <tr>\n      <th>1</th>\n      <td>INPA0248523</td>\n      <td>horizontal</td>\n    </tr>\n    <tr>\n      <th>2</th>\n      <td>INPA0248528</td>\n      <td>horizontal</td>\n    </tr>\n  </tbody>\n</table>\n</div>"
     },
     "execution_count": 17,
     "metadata": {},
     "output_type": "execute_result"
    }
   ],
   "source": [
    "list_images_invalid = get_list_of_images_invalid()\n",
    "pd.DataFrame(list_images_invalid).head(3)"
   ],
   "metadata": {
    "collapsed": false
   }
  },
  {
   "cell_type": "markdown",
   "source": [
    "## BR dataset"
   ],
   "metadata": {
    "collapsed": false
   }
  },
  {
   "cell_type": "code",
   "execution_count": 18,
   "outputs": [],
   "source": [
    "query = session.query(County).distinct().all()\n",
    "\n",
    "uf_unaccented_lower, state_unaccented_lower, county_unaccented_lower = db.get_list_uf_state_county(query)"
   ],
   "metadata": {
    "collapsed": false
   }
  },
  {
   "cell_type": "markdown",
   "source": [
    "## Define variable for build dataset"
   ],
   "metadata": {
    "collapsed": false
   }
  },
  {
   "cell_type": "code",
   "execution_count": 19,
   "outputs": [],
   "source": [
    "list_minimum_image=[5, 10, 20]\n",
    "list_color=['rgb', 'grayscale']\n",
    "list_image_size=['256', '400', '512']\n",
    "path_out = '/home/xandao/Imagens/br_dataset'"
   ],
   "metadata": {
    "collapsed": false
   }
  },
  {
   "cell_type": "markdown",
   "source": [
    "## copy images"
   ],
   "metadata": {
    "collapsed": false
   }
  },
  {
   "cell_type": "code",
   "execution_count": 20,
   "outputs": [
    {
     "name": "stdout",
     "output_type": "stream",
     "text": [
      "specie: aleyreanum before: 54 after: 53\n",
      "diff: ['/home/xandao/Documentos/RGB/512/w_pred_mask/INPA0023115.jpeg']\n",
      "specie: arboreum before: 621 after: 620\n",
      "diff: ['/home/xandao/Documentos/RGB/512/w_pred_mask/INPA0248528.jpeg']\n",
      "specie: bartlingianum before: 146 after: 145\n",
      "diff: ['/home/xandao/Documentos/RGB/512/w_pred_mask/NY01421575_01.jpeg']\n",
      "specie: belterraense before: 14 after: 13\n",
      "diff: ['/home/xandao/Documentos/RGB/512/w_pred_mask/NL-U1484137.jpeg']\n",
      "specie: blanda before: 114 after: 113\n",
      "diff: ['/home/xandao/Documentos/RGB/512/w_pred_mask/HUFSJ001133_v00.jpeg']\n",
      "specie: callosum before: 60 after: 59\n",
      "diff: ['/home/xandao/Documentos/RGB/512/w_pred_mask/INPA0022379_nd.jpeg']\n",
      "specie: decora before: 39 after: 38\n",
      "diff: ['/home/xandao/Documentos/RGB/512/w_pred_mask/HUFSJ002198_v00.jpeg']\n",
      "specie: hispidum before: 332 after: 331\n",
      "diff: ['/home/xandao/Documentos/RGB/512/w_pred_mask/INPA0032742_nd.jpeg']\n",
      "specie: hostmannianum before: 146 after: 144\n",
      "diff: ['/home/xandao/Documentos/RGB/512/w_pred_mask/INPA0248526.jpeg', '/home/xandao/Documentos/RGB/512/w_pred_mask/INPA0248523.jpeg']\n",
      "specie: peltatum before: 55 after: 54\n",
      "diff: ['/home/xandao/Documentos/RGB/512/w_pred_mask/INPA0146998.jpeg']\n",
      "specie: piresii before: 38 after: 37\n",
      "diff: ['/home/xandao/Documentos/RGB/512/w_pred_mask/INPA0019084_nd.jpeg']\n",
      "specie: quadrifolia before: 13 after: 11\n",
      "diff: ['/home/xandao/Documentos/RGB/512/w_pred_mask/HUFSJ001689_v00.jpeg', '/home/xandao/Documentos/RGB/512/w_pred_mask/HUFSJ003255_v00.jpeg']\n",
      "specie: sincorana before: 48 after: 47\n",
      "diff: ['/home/xandao/Documentos/RGB/512/w_pred_mask/HVASF000487_v01.jpeg']\n",
      "specie: spruceana before: 15 after: 14\n",
      "diff: ['/home/xandao/Documentos/RGB/512/w_pred_mask/INPA0012286.jpeg']\n"
     ]
    },
    {
     "data": {
      "text/plain": "'color: rgb image_size: 512 minimum_image: 5'"
     },
     "metadata": {},
     "output_type": "display_data"
    },
    {
     "data": {
      "text/plain": "'len(list_level_name): 235 len(paths_images): 10512'"
     },
     "metadata": {},
     "output_type": "display_data"
    },
    {
     "data": {
      "text/plain": "'save csv in /home/xandao/Imagens/br_dataset/RGB/512/5/dataset_informations.csv'"
     },
     "metadata": {},
     "output_type": "display_data"
    },
    {
     "data": {
      "text/plain": "       species                                              paths  count  \\\n0  abutiloides  [/home/xandao/Documentos/RGB/512/w_pred_mask/C...      8   \n1      aduncum  [/home/xandao/Documentos/RGB/512/w_pred_mask/A...    377   \n2      aequale  [/home/xandao/Documentos/RGB/512/w_pred_mask/C...     30   \n\n                                            dst  \n0  /home/xandao/Imagens/br_dataset/RGB/512/5/f1  \n1  /home/xandao/Imagens/br_dataset/RGB/512/5/f2  \n2  /home/xandao/Imagens/br_dataset/RGB/512/5/f3  ",
      "text/html": "<div>\n<style scoped>\n    .dataframe tbody tr th:only-of-type {\n        vertical-align: middle;\n    }\n\n    .dataframe tbody tr th {\n        vertical-align: top;\n    }\n\n    .dataframe thead th {\n        text-align: right;\n    }\n</style>\n<table border=\"1\" class=\"dataframe\">\n  <thead>\n    <tr style=\"text-align: right;\">\n      <th></th>\n      <th>species</th>\n      <th>paths</th>\n      <th>count</th>\n      <th>dst</th>\n    </tr>\n  </thead>\n  <tbody>\n    <tr>\n      <th>0</th>\n      <td>abutiloides</td>\n      <td>[/home/xandao/Documentos/RGB/512/w_pred_mask/C...</td>\n      <td>8</td>\n      <td>/home/xandao/Imagens/br_dataset/RGB/512/5/f1</td>\n    </tr>\n    <tr>\n      <th>1</th>\n      <td>aduncum</td>\n      <td>[/home/xandao/Documentos/RGB/512/w_pred_mask/A...</td>\n      <td>377</td>\n      <td>/home/xandao/Imagens/br_dataset/RGB/512/5/f2</td>\n    </tr>\n    <tr>\n      <th>2</th>\n      <td>aequale</td>\n      <td>[/home/xandao/Documentos/RGB/512/w_pred_mask/C...</td>\n      <td>30</td>\n      <td>/home/xandao/Imagens/br_dataset/RGB/512/5/f3</td>\n    </tr>\n  </tbody>\n</table>\n</div>"
     },
     "metadata": {},
     "output_type": "display_data"
    },
    {
     "data": {
      "text/plain": "'total of images 10512'"
     },
     "metadata": {},
     "output_type": "display_data"
    },
    {
     "data": {
      "text/plain": "'image informations'"
     },
     "metadata": {},
     "output_type": "display_data"
    },
    {
     "data": {
      "text/plain": "'save csv in /home/xandao/Imagens/br_dataset/RGB/512/5/image_informations.csv'"
     },
     "metadata": {},
     "output_type": "display_data"
    },
    {
     "data": {
      "text/plain": "     seq      genus specific_epithet catalog_number      barcode  \\\n0  12548      Piper        dilatatum          54499  CEN00054499   \n1  11290  Peperomia         elongata          30640  CEN00030640   \n2  11292  Peperomia         glabella          45015  CEN00045015   \n\n                                          path_image institution_code  \\\n0  /home/xandao/Documentos/RGB/512/w_pred_mask/CE...         Cenargen   \n1  /home/xandao/Documentos/RGB/512/w_pred_mask/CE...         Cenargen   \n2  /home/xandao/Documentos/RGB/512/w_pred_mask/CE...         Cenargen   \n\n  collection_code                                                url  \n0             CEN  https://specieslink.net/search/util/osd-dezoom...  \n1             CEN  https://specieslink.net/search/util/osd-dezoom...  \n2             CEN  https://specieslink.net/search/util/osd-dezoom...  ",
      "text/html": "<div>\n<style scoped>\n    .dataframe tbody tr th:only-of-type {\n        vertical-align: middle;\n    }\n\n    .dataframe tbody tr th {\n        vertical-align: top;\n    }\n\n    .dataframe thead th {\n        text-align: right;\n    }\n</style>\n<table border=\"1\" class=\"dataframe\">\n  <thead>\n    <tr style=\"text-align: right;\">\n      <th></th>\n      <th>seq</th>\n      <th>genus</th>\n      <th>specific_epithet</th>\n      <th>catalog_number</th>\n      <th>barcode</th>\n      <th>path_image</th>\n      <th>institution_code</th>\n      <th>collection_code</th>\n      <th>url</th>\n    </tr>\n  </thead>\n  <tbody>\n    <tr>\n      <th>0</th>\n      <td>12548</td>\n      <td>Piper</td>\n      <td>dilatatum</td>\n      <td>54499</td>\n      <td>CEN00054499</td>\n      <td>/home/xandao/Documentos/RGB/512/w_pred_mask/CE...</td>\n      <td>Cenargen</td>\n      <td>CEN</td>\n      <td>https://specieslink.net/search/util/osd-dezoom...</td>\n    </tr>\n    <tr>\n      <th>1</th>\n      <td>11290</td>\n      <td>Peperomia</td>\n      <td>elongata</td>\n      <td>30640</td>\n      <td>CEN00030640</td>\n      <td>/home/xandao/Documentos/RGB/512/w_pred_mask/CE...</td>\n      <td>Cenargen</td>\n      <td>CEN</td>\n      <td>https://specieslink.net/search/util/osd-dezoom...</td>\n    </tr>\n    <tr>\n      <th>2</th>\n      <td>11292</td>\n      <td>Peperomia</td>\n      <td>glabella</td>\n      <td>45015</td>\n      <td>CEN00045015</td>\n      <td>/home/xandao/Documentos/RGB/512/w_pred_mask/CE...</td>\n      <td>Cenargen</td>\n      <td>CEN</td>\n      <td>https://specieslink.net/search/util/osd-dezoom...</td>\n    </tr>\n  </tbody>\n</table>\n</div>"
     },
     "metadata": {},
     "output_type": "display_data"
    },
    {
     "name": "stdout",
     "output_type": "stream",
     "text": [
      "specie: aleyreanum before: 54 after: 53\n",
      "diff: ['/home/xandao/Documentos/RGB/512/w_pred_mask/INPA0023115.jpeg']\n",
      "specie: arboreum before: 621 after: 620\n",
      "diff: ['/home/xandao/Documentos/RGB/512/w_pred_mask/INPA0248528.jpeg']\n",
      "specie: bartlingianum before: 146 after: 145\n",
      "diff: ['/home/xandao/Documentos/RGB/512/w_pred_mask/NY01421575_01.jpeg']\n",
      "specie: belterraense before: 14 after: 13\n",
      "diff: ['/home/xandao/Documentos/RGB/512/w_pred_mask/NL-U1484137.jpeg']\n",
      "specie: blanda before: 114 after: 113\n",
      "diff: ['/home/xandao/Documentos/RGB/512/w_pred_mask/HUFSJ001133_v00.jpeg']\n",
      "specie: callosum before: 60 after: 59\n",
      "diff: ['/home/xandao/Documentos/RGB/512/w_pred_mask/INPA0022379_nd.jpeg']\n",
      "specie: decora before: 39 after: 38\n",
      "diff: ['/home/xandao/Documentos/RGB/512/w_pred_mask/HUFSJ002198_v00.jpeg']\n",
      "specie: hispidum before: 332 after: 331\n",
      "diff: ['/home/xandao/Documentos/RGB/512/w_pred_mask/INPA0032742_nd.jpeg']\n",
      "specie: hostmannianum before: 146 after: 144\n",
      "diff: ['/home/xandao/Documentos/RGB/512/w_pred_mask/INPA0248526.jpeg', '/home/xandao/Documentos/RGB/512/w_pred_mask/INPA0248523.jpeg']\n",
      "specie: peltatum before: 55 after: 54\n",
      "diff: ['/home/xandao/Documentos/RGB/512/w_pred_mask/INPA0146998.jpeg']\n",
      "specie: piresii before: 38 after: 37\n",
      "diff: ['/home/xandao/Documentos/RGB/512/w_pred_mask/INPA0019084_nd.jpeg']\n",
      "specie: quadrifolia before: 13 after: 11\n",
      "diff: ['/home/xandao/Documentos/RGB/512/w_pred_mask/HUFSJ001689_v00.jpeg', '/home/xandao/Documentos/RGB/512/w_pred_mask/HUFSJ003255_v00.jpeg']\n",
      "specie: sincorana before: 48 after: 47\n",
      "diff: ['/home/xandao/Documentos/RGB/512/w_pred_mask/HVASF000487_v01.jpeg']\n",
      "specie: spruceana before: 15 after: 14\n",
      "diff: ['/home/xandao/Documentos/RGB/512/w_pred_mask/INPA0012286.jpeg']\n"
     ]
    },
    {
     "data": {
      "text/plain": "'color: rgb image_size: 512 minimum_image: 10'"
     },
     "metadata": {},
     "output_type": "display_data"
    },
    {
     "data": {
      "text/plain": "'len(list_level_name): 160 len(paths_images): 9988'"
     },
     "metadata": {},
     "output_type": "display_data"
    },
    {
     "data": {
      "text/plain": "'save csv in /home/xandao/Imagens/br_dataset/RGB/512/5/RGB/512/10/dataset_informations.csv'"
     },
     "metadata": {},
     "output_type": "display_data"
    },
    {
     "data": {
      "text/plain": "   species                                              paths  count  \\\n0  aduncum  [/home/xandao/Documentos/RGB/512/w_pred_mask/A...    377   \n1  aequale  [/home/xandao/Documentos/RGB/512/w_pred_mask/C...     30   \n2    alata  [/home/xandao/Documentos/RGB/512/w_pred_mask/C...     81   \n\n                                                 dst  \n0  /home/xandao/Imagens/br_dataset/RGB/512/5/RGB/...  \n1  /home/xandao/Imagens/br_dataset/RGB/512/5/RGB/...  \n2  /home/xandao/Imagens/br_dataset/RGB/512/5/RGB/...  ",
      "text/html": "<div>\n<style scoped>\n    .dataframe tbody tr th:only-of-type {\n        vertical-align: middle;\n    }\n\n    .dataframe tbody tr th {\n        vertical-align: top;\n    }\n\n    .dataframe thead th {\n        text-align: right;\n    }\n</style>\n<table border=\"1\" class=\"dataframe\">\n  <thead>\n    <tr style=\"text-align: right;\">\n      <th></th>\n      <th>species</th>\n      <th>paths</th>\n      <th>count</th>\n      <th>dst</th>\n    </tr>\n  </thead>\n  <tbody>\n    <tr>\n      <th>0</th>\n      <td>aduncum</td>\n      <td>[/home/xandao/Documentos/RGB/512/w_pred_mask/A...</td>\n      <td>377</td>\n      <td>/home/xandao/Imagens/br_dataset/RGB/512/5/RGB/...</td>\n    </tr>\n    <tr>\n      <th>1</th>\n      <td>aequale</td>\n      <td>[/home/xandao/Documentos/RGB/512/w_pred_mask/C...</td>\n      <td>30</td>\n      <td>/home/xandao/Imagens/br_dataset/RGB/512/5/RGB/...</td>\n    </tr>\n    <tr>\n      <th>2</th>\n      <td>alata</td>\n      <td>[/home/xandao/Documentos/RGB/512/w_pred_mask/C...</td>\n      <td>81</td>\n      <td>/home/xandao/Imagens/br_dataset/RGB/512/5/RGB/...</td>\n    </tr>\n  </tbody>\n</table>\n</div>"
     },
     "metadata": {},
     "output_type": "display_data"
    },
    {
     "data": {
      "text/plain": "'total of images 9988'"
     },
     "metadata": {},
     "output_type": "display_data"
    },
    {
     "data": {
      "text/plain": "'image informations'"
     },
     "metadata": {},
     "output_type": "display_data"
    },
    {
     "data": {
      "text/plain": "'save csv in /home/xandao/Imagens/br_dataset/RGB/512/5/RGB/512/10/image_informations.csv'"
     },
     "metadata": {},
     "output_type": "display_data"
    },
    {
     "data": {
      "text/plain": "     seq      genus specific_epithet catalog_number      barcode  \\\n0  12548      Piper        dilatatum          54499  CEN00054499   \n1  11290  Peperomia         elongata          30640  CEN00030640   \n2  11292  Peperomia         glabella          45015  CEN00045015   \n\n                                          path_image institution_code  \\\n0  /home/xandao/Documentos/RGB/512/w_pred_mask/CE...         Cenargen   \n1  /home/xandao/Documentos/RGB/512/w_pred_mask/CE...         Cenargen   \n2  /home/xandao/Documentos/RGB/512/w_pred_mask/CE...         Cenargen   \n\n  collection_code                                                url  \n0             CEN  https://specieslink.net/search/util/osd-dezoom...  \n1             CEN  https://specieslink.net/search/util/osd-dezoom...  \n2             CEN  https://specieslink.net/search/util/osd-dezoom...  ",
      "text/html": "<div>\n<style scoped>\n    .dataframe tbody tr th:only-of-type {\n        vertical-align: middle;\n    }\n\n    .dataframe tbody tr th {\n        vertical-align: top;\n    }\n\n    .dataframe thead th {\n        text-align: right;\n    }\n</style>\n<table border=\"1\" class=\"dataframe\">\n  <thead>\n    <tr style=\"text-align: right;\">\n      <th></th>\n      <th>seq</th>\n      <th>genus</th>\n      <th>specific_epithet</th>\n      <th>catalog_number</th>\n      <th>barcode</th>\n      <th>path_image</th>\n      <th>institution_code</th>\n      <th>collection_code</th>\n      <th>url</th>\n    </tr>\n  </thead>\n  <tbody>\n    <tr>\n      <th>0</th>\n      <td>12548</td>\n      <td>Piper</td>\n      <td>dilatatum</td>\n      <td>54499</td>\n      <td>CEN00054499</td>\n      <td>/home/xandao/Documentos/RGB/512/w_pred_mask/CE...</td>\n      <td>Cenargen</td>\n      <td>CEN</td>\n      <td>https://specieslink.net/search/util/osd-dezoom...</td>\n    </tr>\n    <tr>\n      <th>1</th>\n      <td>11290</td>\n      <td>Peperomia</td>\n      <td>elongata</td>\n      <td>30640</td>\n      <td>CEN00030640</td>\n      <td>/home/xandao/Documentos/RGB/512/w_pred_mask/CE...</td>\n      <td>Cenargen</td>\n      <td>CEN</td>\n      <td>https://specieslink.net/search/util/osd-dezoom...</td>\n    </tr>\n    <tr>\n      <th>2</th>\n      <td>11292</td>\n      <td>Peperomia</td>\n      <td>glabella</td>\n      <td>45015</td>\n      <td>CEN00045015</td>\n      <td>/home/xandao/Documentos/RGB/512/w_pred_mask/CE...</td>\n      <td>Cenargen</td>\n      <td>CEN</td>\n      <td>https://specieslink.net/search/util/osd-dezoom...</td>\n    </tr>\n  </tbody>\n</table>\n</div>"
     },
     "metadata": {},
     "output_type": "display_data"
    },
    {
     "name": "stdout",
     "output_type": "stream",
     "text": [
      "specie: aleyreanum before: 54 after: 53\n",
      "diff: ['/home/xandao/Documentos/RGB/512/w_pred_mask/INPA0023115.jpeg']\n",
      "specie: arboreum before: 621 after: 620\n",
      "diff: ['/home/xandao/Documentos/RGB/512/w_pred_mask/INPA0248528.jpeg']\n",
      "specie: bartlingianum before: 146 after: 145\n",
      "diff: ['/home/xandao/Documentos/RGB/512/w_pred_mask/NY01421575_01.jpeg']\n",
      "specie: blanda before: 114 after: 113\n",
      "diff: ['/home/xandao/Documentos/RGB/512/w_pred_mask/HUFSJ001133_v00.jpeg']\n",
      "specie: callosum before: 60 after: 59\n",
      "diff: ['/home/xandao/Documentos/RGB/512/w_pred_mask/INPA0022379_nd.jpeg']\n",
      "specie: decora before: 39 after: 38\n",
      "diff: ['/home/xandao/Documentos/RGB/512/w_pred_mask/HUFSJ002198_v00.jpeg']\n",
      "specie: hispidum before: 332 after: 331\n",
      "diff: ['/home/xandao/Documentos/RGB/512/w_pred_mask/INPA0032742_nd.jpeg']\n",
      "specie: hostmannianum before: 146 after: 144\n",
      "diff: ['/home/xandao/Documentos/RGB/512/w_pred_mask/INPA0248526.jpeg', '/home/xandao/Documentos/RGB/512/w_pred_mask/INPA0248523.jpeg']\n",
      "specie: peltatum before: 55 after: 54\n",
      "diff: ['/home/xandao/Documentos/RGB/512/w_pred_mask/INPA0146998.jpeg']\n",
      "specie: piresii before: 38 after: 37\n",
      "diff: ['/home/xandao/Documentos/RGB/512/w_pred_mask/INPA0019084_nd.jpeg']\n",
      "specie: sincorana before: 48 after: 47\n",
      "diff: ['/home/xandao/Documentos/RGB/512/w_pred_mask/HVASF000487_v01.jpeg']\n"
     ]
    },
    {
     "data": {
      "text/plain": "'color: rgb image_size: 512 minimum_image: 20'"
     },
     "metadata": {},
     "output_type": "display_data"
    },
    {
     "data": {
      "text/plain": "'len(list_level_name): 105 len(paths_images): 9235'"
     },
     "metadata": {},
     "output_type": "display_data"
    },
    {
     "data": {
      "text/plain": "'save csv in /home/xandao/Imagens/br_dataset/RGB/512/5/RGB/512/10/RGB/512/20/dataset_informations.csv'"
     },
     "metadata": {},
     "output_type": "display_data"
    },
    {
     "data": {
      "text/plain": "   species                                              paths  count  \\\n0  aduncum  [/home/xandao/Documentos/RGB/512/w_pred_mask/A...    377   \n1  aequale  [/home/xandao/Documentos/RGB/512/w_pred_mask/C...     30   \n2    alata  [/home/xandao/Documentos/RGB/512/w_pred_mask/C...     81   \n\n                                                 dst  \n0  /home/xandao/Imagens/br_dataset/RGB/512/5/RGB/...  \n1  /home/xandao/Imagens/br_dataset/RGB/512/5/RGB/...  \n2  /home/xandao/Imagens/br_dataset/RGB/512/5/RGB/...  ",
      "text/html": "<div>\n<style scoped>\n    .dataframe tbody tr th:only-of-type {\n        vertical-align: middle;\n    }\n\n    .dataframe tbody tr th {\n        vertical-align: top;\n    }\n\n    .dataframe thead th {\n        text-align: right;\n    }\n</style>\n<table border=\"1\" class=\"dataframe\">\n  <thead>\n    <tr style=\"text-align: right;\">\n      <th></th>\n      <th>species</th>\n      <th>paths</th>\n      <th>count</th>\n      <th>dst</th>\n    </tr>\n  </thead>\n  <tbody>\n    <tr>\n      <th>0</th>\n      <td>aduncum</td>\n      <td>[/home/xandao/Documentos/RGB/512/w_pred_mask/A...</td>\n      <td>377</td>\n      <td>/home/xandao/Imagens/br_dataset/RGB/512/5/RGB/...</td>\n    </tr>\n    <tr>\n      <th>1</th>\n      <td>aequale</td>\n      <td>[/home/xandao/Documentos/RGB/512/w_pred_mask/C...</td>\n      <td>30</td>\n      <td>/home/xandao/Imagens/br_dataset/RGB/512/5/RGB/...</td>\n    </tr>\n    <tr>\n      <th>2</th>\n      <td>alata</td>\n      <td>[/home/xandao/Documentos/RGB/512/w_pred_mask/C...</td>\n      <td>81</td>\n      <td>/home/xandao/Imagens/br_dataset/RGB/512/5/RGB/...</td>\n    </tr>\n  </tbody>\n</table>\n</div>"
     },
     "metadata": {},
     "output_type": "display_data"
    },
    {
     "data": {
      "text/plain": "'total of images 9235'"
     },
     "metadata": {},
     "output_type": "display_data"
    },
    {
     "data": {
      "text/plain": "'image informations'"
     },
     "metadata": {},
     "output_type": "display_data"
    },
    {
     "data": {
      "text/plain": "'save csv in /home/xandao/Imagens/br_dataset/RGB/512/5/RGB/512/10/RGB/512/20/image_informations.csv'"
     },
     "metadata": {},
     "output_type": "display_data"
    },
    {
     "data": {
      "text/plain": "     seq      genus specific_epithet catalog_number      barcode  \\\n0  12548      Piper        dilatatum          54499  CEN00054499   \n1  11290  Peperomia         elongata          30640  CEN00030640   \n2  11292  Peperomia         glabella          45015  CEN00045015   \n\n                                          path_image institution_code  \\\n0  /home/xandao/Documentos/RGB/512/w_pred_mask/CE...         Cenargen   \n1  /home/xandao/Documentos/RGB/512/w_pred_mask/CE...         Cenargen   \n2  /home/xandao/Documentos/RGB/512/w_pred_mask/CE...         Cenargen   \n\n  collection_code                                                url  \n0             CEN  https://specieslink.net/search/util/osd-dezoom...  \n1             CEN  https://specieslink.net/search/util/osd-dezoom...  \n2             CEN  https://specieslink.net/search/util/osd-dezoom...  ",
      "text/html": "<div>\n<style scoped>\n    .dataframe tbody tr th:only-of-type {\n        vertical-align: middle;\n    }\n\n    .dataframe tbody tr th {\n        vertical-align: top;\n    }\n\n    .dataframe thead th {\n        text-align: right;\n    }\n</style>\n<table border=\"1\" class=\"dataframe\">\n  <thead>\n    <tr style=\"text-align: right;\">\n      <th></th>\n      <th>seq</th>\n      <th>genus</th>\n      <th>specific_epithet</th>\n      <th>catalog_number</th>\n      <th>barcode</th>\n      <th>path_image</th>\n      <th>institution_code</th>\n      <th>collection_code</th>\n      <th>url</th>\n    </tr>\n  </thead>\n  <tbody>\n    <tr>\n      <th>0</th>\n      <td>12548</td>\n      <td>Piper</td>\n      <td>dilatatum</td>\n      <td>54499</td>\n      <td>CEN00054499</td>\n      <td>/home/xandao/Documentos/RGB/512/w_pred_mask/CE...</td>\n      <td>Cenargen</td>\n      <td>CEN</td>\n      <td>https://specieslink.net/search/util/osd-dezoom...</td>\n    </tr>\n    <tr>\n      <th>1</th>\n      <td>11290</td>\n      <td>Peperomia</td>\n      <td>elongata</td>\n      <td>30640</td>\n      <td>CEN00030640</td>\n      <td>/home/xandao/Documentos/RGB/512/w_pred_mask/CE...</td>\n      <td>Cenargen</td>\n      <td>CEN</td>\n      <td>https://specieslink.net/search/util/osd-dezoom...</td>\n    </tr>\n    <tr>\n      <th>2</th>\n      <td>11292</td>\n      <td>Peperomia</td>\n      <td>glabella</td>\n      <td>45015</td>\n      <td>CEN00045015</td>\n      <td>/home/xandao/Documentos/RGB/512/w_pred_mask/CE...</td>\n      <td>Cenargen</td>\n      <td>CEN</td>\n      <td>https://specieslink.net/search/util/osd-dezoom...</td>\n    </tr>\n  </tbody>\n</table>\n</div>"
     },
     "metadata": {},
     "output_type": "display_data"
    }
   ],
   "source": [
    "level = DataTrustedIdentifier.specific_epithet\n",
    "if level == DataTrustedIdentifier.genus:\n",
    "    condition_level = DataTrustedIdentifier.genus.is_not(None)\n",
    "else:\n",
    "    condition_level = DataTrustedIdentifier.specific_epithet.is_not(None)\n",
    "\n",
    "condition = sa.and_(DataTrustedIdentifier.country_trusted =='Brasil',\n",
    "                condition_level,\n",
    "                 sa.or_(uf_unaccented_lower, state_unaccented_lower))\n",
    "\n",
    "separate_and_copy_images(condition, level, list_color, list_images_invalid, list_minimum_image, list_image_size, path_out, session)"
   ],
   "metadata": {
    "collapsed": false
   }
  },
  {
   "cell_type": "markdown",
   "source": [
    "## Close connection"
   ],
   "metadata": {
    "collapsed": false
   }
  },
  {
   "cell_type": "code",
   "execution_count": 21,
   "outputs": [
    {
     "ename": "AttributeError",
     "evalue": "'Engine' object has no attribute 'close'",
     "output_type": "error",
     "traceback": [
      "\u001B[0;31m---------------------------------------------------------------------------\u001B[0m",
      "\u001B[0;31mAttributeError\u001B[0m                            Traceback (most recent call last)",
      "Cell \u001B[0;32mIn[21], line 2\u001B[0m\n\u001B[1;32m      1\u001B[0m session\u001B[38;5;241m.\u001B[39mclose()\n\u001B[0;32m----> 2\u001B[0m \u001B[43mengine\u001B[49m\u001B[38;5;241;43m.\u001B[39;49m\u001B[43mclose\u001B[49m()\n",
      "\u001B[0;31mAttributeError\u001B[0m: 'Engine' object has no attribute 'close'"
     ]
    }
   ],
   "source": [
    "session.close()\n",
    "engine.dispose()"
   ],
   "metadata": {
    "collapsed": false
   }
  }
 ],
 "metadata": {
  "kernelspec": {
   "display_name": "base",
   "language": "python",
   "name": "python3"
  },
  "language_info": {
   "codemirror_mode": {
    "name": "ipython",
    "version": 3
   },
   "file_extension": ".py",
   "mimetype": "text/x-python",
   "name": "python",
   "nbconvert_exporter": "python",
   "pygments_lexer": "ipython3",
   "version": "3.9.12"
  },
  "vscode": {
   "interpreter": {
    "hash": "53ce972a288a646521e393254486dd3d4e40ae124f0f9a66da52dff344d61cdc"
   }
  }
 },
 "nbformat": 4,
 "nbformat_minor": 1
}
