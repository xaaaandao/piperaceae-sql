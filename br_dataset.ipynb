{
 "cells": [
  {
   "cell_type": "code",
   "execution_count": 1,
   "metadata": {},
   "outputs": [],
   "source": [
    "import os\n",
    "import pandas as pd\n",
    "import pathlib"
   ]
  },
  {
   "cell_type": "markdown",
   "source": [
    "# br dataset"
   ],
   "metadata": {
    "collapsed": false
   }
  },
  {
   "cell_type": "code",
   "execution_count": 6,
   "outputs": [
    {
     "name": "stdout",
     "output_type": "stream",
     "text": [
      "/home/xandao/Documentos/dataset_gimp/imagens_br/imagens/RGB/specific_epithet/256/5\n"
     ]
    },
    {
     "data": {
      "text/plain": "'color: RGB image_size: 256 minimum_image: 5'"
     },
     "metadata": {},
     "output_type": "display_data"
    },
    {
     "data": {
      "text/plain": "             species folder  count  \\\n0            aduncum     f1    377   \n1             anisum     f2     94   \n2        michelianum     f3      6   \n3  pubisubmarginalum     f4     15   \n4          glaziovii     f5      6   \n\n                                         list_images  \n0  ['SPF00035812', 'NY00956894_01', 'SPF00134166'...  \n1  ['SPF00035812', 'NY00956894_01', 'SPF00134166'...  \n2  ['SPF00035812', 'NY00956894_01', 'SPF00134166'...  \n3  ['SPF00035812', 'NY00956894_01', 'SPF00134166'...  \n4  ['SPF00035812', 'NY00956894_01', 'SPF00134166'...  ",
      "text/html": "<div>\n<style scoped>\n    .dataframe tbody tr th:only-of-type {\n        vertical-align: middle;\n    }\n\n    .dataframe tbody tr th {\n        vertical-align: top;\n    }\n\n    .dataframe thead th {\n        text-align: right;\n    }\n</style>\n<table border=\"1\" class=\"dataframe\">\n  <thead>\n    <tr style=\"text-align: right;\">\n      <th></th>\n      <th>species</th>\n      <th>folder</th>\n      <th>count</th>\n      <th>list_images</th>\n    </tr>\n  </thead>\n  <tbody>\n    <tr>\n      <th>0</th>\n      <td>aduncum</td>\n      <td>f1</td>\n      <td>377</td>\n      <td>['SPF00035812', 'NY00956894_01', 'SPF00134166'...</td>\n    </tr>\n    <tr>\n      <th>1</th>\n      <td>anisum</td>\n      <td>f2</td>\n      <td>94</td>\n      <td>['SPF00035812', 'NY00956894_01', 'SPF00134166'...</td>\n    </tr>\n    <tr>\n      <th>2</th>\n      <td>michelianum</td>\n      <td>f3</td>\n      <td>6</td>\n      <td>['SPF00035812', 'NY00956894_01', 'SPF00134166'...</td>\n    </tr>\n    <tr>\n      <th>3</th>\n      <td>pubisubmarginalum</td>\n      <td>f4</td>\n      <td>15</td>\n      <td>['SPF00035812', 'NY00956894_01', 'SPF00134166'...</td>\n    </tr>\n    <tr>\n      <th>4</th>\n      <td>glaziovii</td>\n      <td>f5</td>\n      <td>6</td>\n      <td>['SPF00035812', 'NY00956894_01', 'SPF00134166'...</td>\n    </tr>\n  </tbody>\n</table>\n</div>"
     },
     "metadata": {},
     "output_type": "display_data"
    },
    {
     "name": "stdout",
     "output_type": "stream",
     "text": [
      "/home/xandao/Documentos/dataset_gimp/imagens_br/imagens/RGB/specific_epithet/256/10\n"
     ]
    },
    {
     "data": {
      "text/plain": "'color: RGB image_size: 256 minimum_image: 10'"
     },
     "metadata": {},
     "output_type": "display_data"
    },
    {
     "data": {
      "text/plain": "             species folder  count  \\\n0            aduncum     f1    377   \n1             anisum     f2     94   \n2  pubisubmarginalum     f3     15   \n3           peltatum     f4     55   \n4        nigrispicum     f5     22   \n\n                                         list_images  \n0  ['SPF00035812', 'NY00956894_01', 'SPF00134166'...  \n1  ['SPF00035812', 'NY00956894_01', 'SPF00134166'...  \n2  ['SPF00035812', 'NY00956894_01', 'SPF00134166'...  \n3  ['SPF00035812', 'NY00956894_01', 'SPF00134166'...  \n4  ['SPF00035812', 'NY00956894_01', 'SPF00134166'...  ",
      "text/html": "<div>\n<style scoped>\n    .dataframe tbody tr th:only-of-type {\n        vertical-align: middle;\n    }\n\n    .dataframe tbody tr th {\n        vertical-align: top;\n    }\n\n    .dataframe thead th {\n        text-align: right;\n    }\n</style>\n<table border=\"1\" class=\"dataframe\">\n  <thead>\n    <tr style=\"text-align: right;\">\n      <th></th>\n      <th>species</th>\n      <th>folder</th>\n      <th>count</th>\n      <th>list_images</th>\n    </tr>\n  </thead>\n  <tbody>\n    <tr>\n      <th>0</th>\n      <td>aduncum</td>\n      <td>f1</td>\n      <td>377</td>\n      <td>['SPF00035812', 'NY00956894_01', 'SPF00134166'...</td>\n    </tr>\n    <tr>\n      <th>1</th>\n      <td>anisum</td>\n      <td>f2</td>\n      <td>94</td>\n      <td>['SPF00035812', 'NY00956894_01', 'SPF00134166'...</td>\n    </tr>\n    <tr>\n      <th>2</th>\n      <td>pubisubmarginalum</td>\n      <td>f3</td>\n      <td>15</td>\n      <td>['SPF00035812', 'NY00956894_01', 'SPF00134166'...</td>\n    </tr>\n    <tr>\n      <th>3</th>\n      <td>peltatum</td>\n      <td>f4</td>\n      <td>55</td>\n      <td>['SPF00035812', 'NY00956894_01', 'SPF00134166'...</td>\n    </tr>\n    <tr>\n      <th>4</th>\n      <td>nigrispicum</td>\n      <td>f5</td>\n      <td>22</td>\n      <td>['SPF00035812', 'NY00956894_01', 'SPF00134166'...</td>\n    </tr>\n  </tbody>\n</table>\n</div>"
     },
     "metadata": {},
     "output_type": "display_data"
    },
    {
     "name": "stdout",
     "output_type": "stream",
     "text": [
      "/home/xandao/Documentos/dataset_gimp/imagens_br/imagens/RGB/specific_epithet/256/20\n"
     ]
    },
    {
     "data": {
      "text/plain": "'color: RGB image_size: 256 minimum_image: 20'"
     },
     "metadata": {},
     "output_type": "display_data"
    },
    {
     "data": {
      "text/plain": "       species folder  count  \\\n0      aduncum     f1    377   \n1       anisum     f2     94   \n2     peltatum     f3     55   \n3  nigrispicum     f4     22   \n4     caldense     f5    167   \n\n                                         list_images  \n0  ['SPF00035812', 'NY00956894_01', 'SPF00134166'...  \n1  ['SPF00035812', 'NY00956894_01', 'SPF00134166'...  \n2  ['SPF00035812', 'NY00956894_01', 'SPF00134166'...  \n3  ['SPF00035812', 'NY00956894_01', 'SPF00134166'...  \n4  ['SPF00035812', 'NY00956894_01', 'SPF00134166'...  ",
      "text/html": "<div>\n<style scoped>\n    .dataframe tbody tr th:only-of-type {\n        vertical-align: middle;\n    }\n\n    .dataframe tbody tr th {\n        vertical-align: top;\n    }\n\n    .dataframe thead th {\n        text-align: right;\n    }\n</style>\n<table border=\"1\" class=\"dataframe\">\n  <thead>\n    <tr style=\"text-align: right;\">\n      <th></th>\n      <th>species</th>\n      <th>folder</th>\n      <th>count</th>\n      <th>list_images</th>\n    </tr>\n  </thead>\n  <tbody>\n    <tr>\n      <th>0</th>\n      <td>aduncum</td>\n      <td>f1</td>\n      <td>377</td>\n      <td>['SPF00035812', 'NY00956894_01', 'SPF00134166'...</td>\n    </tr>\n    <tr>\n      <th>1</th>\n      <td>anisum</td>\n      <td>f2</td>\n      <td>94</td>\n      <td>['SPF00035812', 'NY00956894_01', 'SPF00134166'...</td>\n    </tr>\n    <tr>\n      <th>2</th>\n      <td>peltatum</td>\n      <td>f3</td>\n      <td>55</td>\n      <td>['SPF00035812', 'NY00956894_01', 'SPF00134166'...</td>\n    </tr>\n    <tr>\n      <th>3</th>\n      <td>nigrispicum</td>\n      <td>f4</td>\n      <td>22</td>\n      <td>['SPF00035812', 'NY00956894_01', 'SPF00134166'...</td>\n    </tr>\n    <tr>\n      <th>4</th>\n      <td>caldense</td>\n      <td>f5</td>\n      <td>167</td>\n      <td>['SPF00035812', 'NY00956894_01', 'SPF00134166'...</td>\n    </tr>\n  </tbody>\n</table>\n</div>"
     },
     "metadata": {},
     "output_type": "display_data"
    },
    {
     "name": "stdout",
     "output_type": "stream",
     "text": [
      "/home/xandao/Documentos/dataset_gimp/imagens_br/imagens/RGB/specific_epithet/400/5\n"
     ]
    },
    {
     "data": {
      "text/plain": "'color: RGB image_size: 400 minimum_image: 5'"
     },
     "metadata": {},
     "output_type": "display_data"
    },
    {
     "data": {
      "text/plain": "             species folder  count  \\\n0            aduncum     f1    377   \n1             anisum     f2     94   \n2        michelianum     f3      6   \n3  pubisubmarginalum     f4     15   \n4          glaziovii     f5      6   \n\n                                         list_images  \n0  ['SPF00035812', 'NY00956894_01', 'SPF00134166'...  \n1  ['SPF00035812', 'NY00956894_01', 'SPF00134166'...  \n2  ['SPF00035812', 'NY00956894_01', 'SPF00134166'...  \n3  ['SPF00035812', 'NY00956894_01', 'SPF00134166'...  \n4  ['SPF00035812', 'NY00956894_01', 'SPF00134166'...  ",
      "text/html": "<div>\n<style scoped>\n    .dataframe tbody tr th:only-of-type {\n        vertical-align: middle;\n    }\n\n    .dataframe tbody tr th {\n        vertical-align: top;\n    }\n\n    .dataframe thead th {\n        text-align: right;\n    }\n</style>\n<table border=\"1\" class=\"dataframe\">\n  <thead>\n    <tr style=\"text-align: right;\">\n      <th></th>\n      <th>species</th>\n      <th>folder</th>\n      <th>count</th>\n      <th>list_images</th>\n    </tr>\n  </thead>\n  <tbody>\n    <tr>\n      <th>0</th>\n      <td>aduncum</td>\n      <td>f1</td>\n      <td>377</td>\n      <td>['SPF00035812', 'NY00956894_01', 'SPF00134166'...</td>\n    </tr>\n    <tr>\n      <th>1</th>\n      <td>anisum</td>\n      <td>f2</td>\n      <td>94</td>\n      <td>['SPF00035812', 'NY00956894_01', 'SPF00134166'...</td>\n    </tr>\n    <tr>\n      <th>2</th>\n      <td>michelianum</td>\n      <td>f3</td>\n      <td>6</td>\n      <td>['SPF00035812', 'NY00956894_01', 'SPF00134166'...</td>\n    </tr>\n    <tr>\n      <th>3</th>\n      <td>pubisubmarginalum</td>\n      <td>f4</td>\n      <td>15</td>\n      <td>['SPF00035812', 'NY00956894_01', 'SPF00134166'...</td>\n    </tr>\n    <tr>\n      <th>4</th>\n      <td>glaziovii</td>\n      <td>f5</td>\n      <td>6</td>\n      <td>['SPF00035812', 'NY00956894_01', 'SPF00134166'...</td>\n    </tr>\n  </tbody>\n</table>\n</div>"
     },
     "metadata": {},
     "output_type": "display_data"
    },
    {
     "name": "stdout",
     "output_type": "stream",
     "text": [
      "/home/xandao/Documentos/dataset_gimp/imagens_br/imagens/RGB/specific_epithet/400/10\n"
     ]
    },
    {
     "data": {
      "text/plain": "'color: RGB image_size: 400 minimum_image: 10'"
     },
     "metadata": {},
     "output_type": "display_data"
    },
    {
     "data": {
      "text/plain": "             species folder  count  \\\n0            aduncum     f1    377   \n1             anisum     f2     94   \n2  pubisubmarginalum     f3     15   \n3           peltatum     f4     55   \n4        nigrispicum     f5     22   \n\n                                         list_images  \n0  ['SPF00035812', 'NY00956894_01', 'SPF00134166'...  \n1  ['SPF00035812', 'NY00956894_01', 'SPF00134166'...  \n2  ['SPF00035812', 'NY00956894_01', 'SPF00134166'...  \n3  ['SPF00035812', 'NY00956894_01', 'SPF00134166'...  \n4  ['SPF00035812', 'NY00956894_01', 'SPF00134166'...  ",
      "text/html": "<div>\n<style scoped>\n    .dataframe tbody tr th:only-of-type {\n        vertical-align: middle;\n    }\n\n    .dataframe tbody tr th {\n        vertical-align: top;\n    }\n\n    .dataframe thead th {\n        text-align: right;\n    }\n</style>\n<table border=\"1\" class=\"dataframe\">\n  <thead>\n    <tr style=\"text-align: right;\">\n      <th></th>\n      <th>species</th>\n      <th>folder</th>\n      <th>count</th>\n      <th>list_images</th>\n    </tr>\n  </thead>\n  <tbody>\n    <tr>\n      <th>0</th>\n      <td>aduncum</td>\n      <td>f1</td>\n      <td>377</td>\n      <td>['SPF00035812', 'NY00956894_01', 'SPF00134166'...</td>\n    </tr>\n    <tr>\n      <th>1</th>\n      <td>anisum</td>\n      <td>f2</td>\n      <td>94</td>\n      <td>['SPF00035812', 'NY00956894_01', 'SPF00134166'...</td>\n    </tr>\n    <tr>\n      <th>2</th>\n      <td>pubisubmarginalum</td>\n      <td>f3</td>\n      <td>15</td>\n      <td>['SPF00035812', 'NY00956894_01', 'SPF00134166'...</td>\n    </tr>\n    <tr>\n      <th>3</th>\n      <td>peltatum</td>\n      <td>f4</td>\n      <td>55</td>\n      <td>['SPF00035812', 'NY00956894_01', 'SPF00134166'...</td>\n    </tr>\n    <tr>\n      <th>4</th>\n      <td>nigrispicum</td>\n      <td>f5</td>\n      <td>22</td>\n      <td>['SPF00035812', 'NY00956894_01', 'SPF00134166'...</td>\n    </tr>\n  </tbody>\n</table>\n</div>"
     },
     "metadata": {},
     "output_type": "display_data"
    },
    {
     "name": "stdout",
     "output_type": "stream",
     "text": [
      "/home/xandao/Documentos/dataset_gimp/imagens_br/imagens/RGB/specific_epithet/400/20\n"
     ]
    },
    {
     "data": {
      "text/plain": "'color: RGB image_size: 400 minimum_image: 20'"
     },
     "metadata": {},
     "output_type": "display_data"
    },
    {
     "data": {
      "text/plain": "       species folder  count  \\\n0      aduncum     f1    377   \n1       anisum     f2     94   \n2     peltatum     f3     55   \n3  nigrispicum     f4     22   \n4     caldense     f5    167   \n\n                                         list_images  \n0  ['SPF00035812', 'NY00956894_01', 'SPF00134166'...  \n1  ['SPF00035812', 'NY00956894_01', 'SPF00134166'...  \n2  ['SPF00035812', 'NY00956894_01', 'SPF00134166'...  \n3  ['SPF00035812', 'NY00956894_01', 'SPF00134166'...  \n4  ['SPF00035812', 'NY00956894_01', 'SPF00134166'...  ",
      "text/html": "<div>\n<style scoped>\n    .dataframe tbody tr th:only-of-type {\n        vertical-align: middle;\n    }\n\n    .dataframe tbody tr th {\n        vertical-align: top;\n    }\n\n    .dataframe thead th {\n        text-align: right;\n    }\n</style>\n<table border=\"1\" class=\"dataframe\">\n  <thead>\n    <tr style=\"text-align: right;\">\n      <th></th>\n      <th>species</th>\n      <th>folder</th>\n      <th>count</th>\n      <th>list_images</th>\n    </tr>\n  </thead>\n  <tbody>\n    <tr>\n      <th>0</th>\n      <td>aduncum</td>\n      <td>f1</td>\n      <td>377</td>\n      <td>['SPF00035812', 'NY00956894_01', 'SPF00134166'...</td>\n    </tr>\n    <tr>\n      <th>1</th>\n      <td>anisum</td>\n      <td>f2</td>\n      <td>94</td>\n      <td>['SPF00035812', 'NY00956894_01', 'SPF00134166'...</td>\n    </tr>\n    <tr>\n      <th>2</th>\n      <td>peltatum</td>\n      <td>f3</td>\n      <td>55</td>\n      <td>['SPF00035812', 'NY00956894_01', 'SPF00134166'...</td>\n    </tr>\n    <tr>\n      <th>3</th>\n      <td>nigrispicum</td>\n      <td>f4</td>\n      <td>22</td>\n      <td>['SPF00035812', 'NY00956894_01', 'SPF00134166'...</td>\n    </tr>\n    <tr>\n      <th>4</th>\n      <td>caldense</td>\n      <td>f5</td>\n      <td>167</td>\n      <td>['SPF00035812', 'NY00956894_01', 'SPF00134166'...</td>\n    </tr>\n  </tbody>\n</table>\n</div>"
     },
     "metadata": {},
     "output_type": "display_data"
    },
    {
     "name": "stdout",
     "output_type": "stream",
     "text": [
      "/home/xandao/Documentos/dataset_gimp/imagens_br/imagens/RGB/specific_epithet/512/5\n"
     ]
    },
    {
     "data": {
      "text/plain": "'color: RGB image_size: 512 minimum_image: 5'"
     },
     "metadata": {},
     "output_type": "display_data"
    },
    {
     "data": {
      "text/plain": "             species folder  count  \\\n0            aduncum     f1    377   \n1             anisum     f2     94   \n2        michelianum     f3      6   \n3  pubisubmarginalum     f4     15   \n4          glaziovii     f5      6   \n\n                                         list_images  \n0  ['SPF00035812', 'NY00956894_01', 'SPF00134166'...  \n1  ['SPF00035812', 'NY00956894_01', 'SPF00134166'...  \n2  ['SPF00035812', 'NY00956894_01', 'SPF00134166'...  \n3  ['SPF00035812', 'NY00956894_01', 'SPF00134166'...  \n4  ['SPF00035812', 'NY00956894_01', 'SPF00134166'...  ",
      "text/html": "<div>\n<style scoped>\n    .dataframe tbody tr th:only-of-type {\n        vertical-align: middle;\n    }\n\n    .dataframe tbody tr th {\n        vertical-align: top;\n    }\n\n    .dataframe thead th {\n        text-align: right;\n    }\n</style>\n<table border=\"1\" class=\"dataframe\">\n  <thead>\n    <tr style=\"text-align: right;\">\n      <th></th>\n      <th>species</th>\n      <th>folder</th>\n      <th>count</th>\n      <th>list_images</th>\n    </tr>\n  </thead>\n  <tbody>\n    <tr>\n      <th>0</th>\n      <td>aduncum</td>\n      <td>f1</td>\n      <td>377</td>\n      <td>['SPF00035812', 'NY00956894_01', 'SPF00134166'...</td>\n    </tr>\n    <tr>\n      <th>1</th>\n      <td>anisum</td>\n      <td>f2</td>\n      <td>94</td>\n      <td>['SPF00035812', 'NY00956894_01', 'SPF00134166'...</td>\n    </tr>\n    <tr>\n      <th>2</th>\n      <td>michelianum</td>\n      <td>f3</td>\n      <td>6</td>\n      <td>['SPF00035812', 'NY00956894_01', 'SPF00134166'...</td>\n    </tr>\n    <tr>\n      <th>3</th>\n      <td>pubisubmarginalum</td>\n      <td>f4</td>\n      <td>15</td>\n      <td>['SPF00035812', 'NY00956894_01', 'SPF00134166'...</td>\n    </tr>\n    <tr>\n      <th>4</th>\n      <td>glaziovii</td>\n      <td>f5</td>\n      <td>6</td>\n      <td>['SPF00035812', 'NY00956894_01', 'SPF00134166'...</td>\n    </tr>\n  </tbody>\n</table>\n</div>"
     },
     "metadata": {},
     "output_type": "display_data"
    },
    {
     "name": "stdout",
     "output_type": "stream",
     "text": [
      "/home/xandao/Documentos/dataset_gimp/imagens_br/imagens/RGB/specific_epithet/512/10\n"
     ]
    },
    {
     "data": {
      "text/plain": "'color: RGB image_size: 512 minimum_image: 10'"
     },
     "metadata": {},
     "output_type": "display_data"
    },
    {
     "data": {
      "text/plain": "             species folder  count  \\\n0            aduncum     f1    377   \n1             anisum     f2     94   \n2  pubisubmarginalum     f3     15   \n3           peltatum     f4     55   \n4        nigrispicum     f5     22   \n\n                                         list_images  \n0  ['SPF00035812', 'NY00956894_01', 'SPF00134166'...  \n1  ['SPF00035812', 'NY00956894_01', 'SPF00134166'...  \n2  ['SPF00035812', 'NY00956894_01', 'SPF00134166'...  \n3  ['SPF00035812', 'NY00956894_01', 'SPF00134166'...  \n4  ['SPF00035812', 'NY00956894_01', 'SPF00134166'...  ",
      "text/html": "<div>\n<style scoped>\n    .dataframe tbody tr th:only-of-type {\n        vertical-align: middle;\n    }\n\n    .dataframe tbody tr th {\n        vertical-align: top;\n    }\n\n    .dataframe thead th {\n        text-align: right;\n    }\n</style>\n<table border=\"1\" class=\"dataframe\">\n  <thead>\n    <tr style=\"text-align: right;\">\n      <th></th>\n      <th>species</th>\n      <th>folder</th>\n      <th>count</th>\n      <th>list_images</th>\n    </tr>\n  </thead>\n  <tbody>\n    <tr>\n      <th>0</th>\n      <td>aduncum</td>\n      <td>f1</td>\n      <td>377</td>\n      <td>['SPF00035812', 'NY00956894_01', 'SPF00134166'...</td>\n    </tr>\n    <tr>\n      <th>1</th>\n      <td>anisum</td>\n      <td>f2</td>\n      <td>94</td>\n      <td>['SPF00035812', 'NY00956894_01', 'SPF00134166'...</td>\n    </tr>\n    <tr>\n      <th>2</th>\n      <td>pubisubmarginalum</td>\n      <td>f3</td>\n      <td>15</td>\n      <td>['SPF00035812', 'NY00956894_01', 'SPF00134166'...</td>\n    </tr>\n    <tr>\n      <th>3</th>\n      <td>peltatum</td>\n      <td>f4</td>\n      <td>55</td>\n      <td>['SPF00035812', 'NY00956894_01', 'SPF00134166'...</td>\n    </tr>\n    <tr>\n      <th>4</th>\n      <td>nigrispicum</td>\n      <td>f5</td>\n      <td>22</td>\n      <td>['SPF00035812', 'NY00956894_01', 'SPF00134166'...</td>\n    </tr>\n  </tbody>\n</table>\n</div>"
     },
     "metadata": {},
     "output_type": "display_data"
    },
    {
     "name": "stdout",
     "output_type": "stream",
     "text": [
      "/home/xandao/Documentos/dataset_gimp/imagens_br/imagens/RGB/specific_epithet/512/20\n"
     ]
    },
    {
     "data": {
      "text/plain": "'color: RGB image_size: 512 minimum_image: 20'"
     },
     "metadata": {},
     "output_type": "display_data"
    },
    {
     "data": {
      "text/plain": "       species folder  count  \\\n0      aduncum     f1    377   \n1       anisum     f2     94   \n2     peltatum     f3     55   \n3  nigrispicum     f4     22   \n4     caldense     f5    167   \n\n                                         list_images  \n0  ['SPF00035812', 'NY00956894_01', 'SPF00134166'...  \n1  ['SPF00035812', 'NY00956894_01', 'SPF00134166'...  \n2  ['SPF00035812', 'NY00956894_01', 'SPF00134166'...  \n3  ['SPF00035812', 'NY00956894_01', 'SPF00134166'...  \n4  ['SPF00035812', 'NY00956894_01', 'SPF00134166'...  ",
      "text/html": "<div>\n<style scoped>\n    .dataframe tbody tr th:only-of-type {\n        vertical-align: middle;\n    }\n\n    .dataframe tbody tr th {\n        vertical-align: top;\n    }\n\n    .dataframe thead th {\n        text-align: right;\n    }\n</style>\n<table border=\"1\" class=\"dataframe\">\n  <thead>\n    <tr style=\"text-align: right;\">\n      <th></th>\n      <th>species</th>\n      <th>folder</th>\n      <th>count</th>\n      <th>list_images</th>\n    </tr>\n  </thead>\n  <tbody>\n    <tr>\n      <th>0</th>\n      <td>aduncum</td>\n      <td>f1</td>\n      <td>377</td>\n      <td>['SPF00035812', 'NY00956894_01', 'SPF00134166'...</td>\n    </tr>\n    <tr>\n      <th>1</th>\n      <td>anisum</td>\n      <td>f2</td>\n      <td>94</td>\n      <td>['SPF00035812', 'NY00956894_01', 'SPF00134166'...</td>\n    </tr>\n    <tr>\n      <th>2</th>\n      <td>peltatum</td>\n      <td>f3</td>\n      <td>55</td>\n      <td>['SPF00035812', 'NY00956894_01', 'SPF00134166'...</td>\n    </tr>\n    <tr>\n      <th>3</th>\n      <td>nigrispicum</td>\n      <td>f4</td>\n      <td>22</td>\n      <td>['SPF00035812', 'NY00956894_01', 'SPF00134166'...</td>\n    </tr>\n    <tr>\n      <th>4</th>\n      <td>caldense</td>\n      <td>f5</td>\n      <td>167</td>\n      <td>['SPF00035812', 'NY00956894_01', 'SPF00134166'...</td>\n    </tr>\n  </tbody>\n</table>\n</div>"
     },
     "metadata": {},
     "output_type": "display_data"
    },
    {
     "name": "stdout",
     "output_type": "stream",
     "text": [
      "/home/xandao/Documentos/dataset_gimp/imagens_br/imagens/grayscale/specific_epithet/256/5\n"
     ]
    },
    {
     "data": {
      "text/plain": "'color: grayscale image_size: 256 minimum_image: 5'"
     },
     "metadata": {},
     "output_type": "display_data"
    },
    {
     "data": {
      "text/plain": "      species folder  count                                        list_images\n0  piscatorum     f1     14  ['INPA0179861', 'INPA0023412', 'NY01421846_01'...\n1    glaziovi     f2      5  ['INPA0179861', 'INPA0023412', 'NY01421846_01'...\n2    obliquum     f3     67  ['INPA0179861', 'INPA0023412', 'NY01421846_01'...\n3  fuligineum     f4    177  ['INPA0179861', 'INPA0023412', 'NY01421846_01'...\n4  javariense     f5     11  ['INPA0179861', 'INPA0023412', 'NY01421846_01'...",
      "text/html": "<div>\n<style scoped>\n    .dataframe tbody tr th:only-of-type {\n        vertical-align: middle;\n    }\n\n    .dataframe tbody tr th {\n        vertical-align: top;\n    }\n\n    .dataframe thead th {\n        text-align: right;\n    }\n</style>\n<table border=\"1\" class=\"dataframe\">\n  <thead>\n    <tr style=\"text-align: right;\">\n      <th></th>\n      <th>species</th>\n      <th>folder</th>\n      <th>count</th>\n      <th>list_images</th>\n    </tr>\n  </thead>\n  <tbody>\n    <tr>\n      <th>0</th>\n      <td>piscatorum</td>\n      <td>f1</td>\n      <td>14</td>\n      <td>['INPA0179861', 'INPA0023412', 'NY01421846_01'...</td>\n    </tr>\n    <tr>\n      <th>1</th>\n      <td>glaziovi</td>\n      <td>f2</td>\n      <td>5</td>\n      <td>['INPA0179861', 'INPA0023412', 'NY01421846_01'...</td>\n    </tr>\n    <tr>\n      <th>2</th>\n      <td>obliquum</td>\n      <td>f3</td>\n      <td>67</td>\n      <td>['INPA0179861', 'INPA0023412', 'NY01421846_01'...</td>\n    </tr>\n    <tr>\n      <th>3</th>\n      <td>fuligineum</td>\n      <td>f4</td>\n      <td>177</td>\n      <td>['INPA0179861', 'INPA0023412', 'NY01421846_01'...</td>\n    </tr>\n    <tr>\n      <th>4</th>\n      <td>javariense</td>\n      <td>f5</td>\n      <td>11</td>\n      <td>['INPA0179861', 'INPA0023412', 'NY01421846_01'...</td>\n    </tr>\n  </tbody>\n</table>\n</div>"
     },
     "metadata": {},
     "output_type": "display_data"
    },
    {
     "name": "stdout",
     "output_type": "stream",
     "text": [
      "/home/xandao/Documentos/dataset_gimp/imagens_br/imagens/grayscale/specific_epithet/256/10\n"
     ]
    },
    {
     "data": {
      "text/plain": "'color: grayscale image_size: 256 minimum_image: 10'"
     },
     "metadata": {},
     "output_type": "display_data"
    },
    {
     "data": {
      "text/plain": "      species folder  count                                        list_images\n0  piscatorum     f1     14  ['NY01801096_01', 'UEC149373', 'CEN00051602', ...\n1    obliquum     f2     67  ['NY01801096_01', 'UEC149373', 'CEN00051602', ...\n2  fuligineum     f3    177  ['NY01801096_01', 'UEC149373', 'CEN00051602', ...\n3  javariense     f4     11  ['NY01801096_01', 'UEC149373', 'CEN00051602', ...\n4   coruscans     f5     15  ['NY01801096_01', 'UEC149373', 'CEN00051602', ...",
      "text/html": "<div>\n<style scoped>\n    .dataframe tbody tr th:only-of-type {\n        vertical-align: middle;\n    }\n\n    .dataframe tbody tr th {\n        vertical-align: top;\n    }\n\n    .dataframe thead th {\n        text-align: right;\n    }\n</style>\n<table border=\"1\" class=\"dataframe\">\n  <thead>\n    <tr style=\"text-align: right;\">\n      <th></th>\n      <th>species</th>\n      <th>folder</th>\n      <th>count</th>\n      <th>list_images</th>\n    </tr>\n  </thead>\n  <tbody>\n    <tr>\n      <th>0</th>\n      <td>piscatorum</td>\n      <td>f1</td>\n      <td>14</td>\n      <td>['NY01801096_01', 'UEC149373', 'CEN00051602', ...</td>\n    </tr>\n    <tr>\n      <th>1</th>\n      <td>obliquum</td>\n      <td>f2</td>\n      <td>67</td>\n      <td>['NY01801096_01', 'UEC149373', 'CEN00051602', ...</td>\n    </tr>\n    <tr>\n      <th>2</th>\n      <td>fuligineum</td>\n      <td>f3</td>\n      <td>177</td>\n      <td>['NY01801096_01', 'UEC149373', 'CEN00051602', ...</td>\n    </tr>\n    <tr>\n      <th>3</th>\n      <td>javariense</td>\n      <td>f4</td>\n      <td>11</td>\n      <td>['NY01801096_01', 'UEC149373', 'CEN00051602', ...</td>\n    </tr>\n    <tr>\n      <th>4</th>\n      <td>coruscans</td>\n      <td>f5</td>\n      <td>15</td>\n      <td>['NY01801096_01', 'UEC149373', 'CEN00051602', ...</td>\n    </tr>\n  </tbody>\n</table>\n</div>"
     },
     "metadata": {},
     "output_type": "display_data"
    },
    {
     "name": "stdout",
     "output_type": "stream",
     "text": [
      "/home/xandao/Documentos/dataset_gimp/imagens_br/imagens/grayscale/specific_epithet/256/20\n"
     ]
    },
    {
     "data": {
      "text/plain": "'color: grayscale image_size: 256 minimum_image: 20'"
     },
     "metadata": {},
     "output_type": "display_data"
    },
    {
     "data": {
      "text/plain": "         species folder  count  \\\n0       obliquum     f1     67   \n1     fuligineum     f2    177   \n2      oreophila     f3     30   \n3  corcovadensis     f4    323   \n4      regnellii     f5    121   \n\n                                         list_images  \n0  ['ESA031454', 'MBM116011', 'SPF00164804', 'MBM...  \n1  ['ESA031454', 'MBM116011', 'SPF00164804', 'MBM...  \n2  ['ESA031454', 'MBM116011', 'SPF00164804', 'MBM...  \n3  ['ESA031454', 'MBM116011', 'SPF00164804', 'MBM...  \n4  ['ESA031454', 'MBM116011', 'SPF00164804', 'MBM...  ",
      "text/html": "<div>\n<style scoped>\n    .dataframe tbody tr th:only-of-type {\n        vertical-align: middle;\n    }\n\n    .dataframe tbody tr th {\n        vertical-align: top;\n    }\n\n    .dataframe thead th {\n        text-align: right;\n    }\n</style>\n<table border=\"1\" class=\"dataframe\">\n  <thead>\n    <tr style=\"text-align: right;\">\n      <th></th>\n      <th>species</th>\n      <th>folder</th>\n      <th>count</th>\n      <th>list_images</th>\n    </tr>\n  </thead>\n  <tbody>\n    <tr>\n      <th>0</th>\n      <td>obliquum</td>\n      <td>f1</td>\n      <td>67</td>\n      <td>['ESA031454', 'MBM116011', 'SPF00164804', 'MBM...</td>\n    </tr>\n    <tr>\n      <th>1</th>\n      <td>fuligineum</td>\n      <td>f2</td>\n      <td>177</td>\n      <td>['ESA031454', 'MBM116011', 'SPF00164804', 'MBM...</td>\n    </tr>\n    <tr>\n      <th>2</th>\n      <td>oreophila</td>\n      <td>f3</td>\n      <td>30</td>\n      <td>['ESA031454', 'MBM116011', 'SPF00164804', 'MBM...</td>\n    </tr>\n    <tr>\n      <th>3</th>\n      <td>corcovadensis</td>\n      <td>f4</td>\n      <td>323</td>\n      <td>['ESA031454', 'MBM116011', 'SPF00164804', 'MBM...</td>\n    </tr>\n    <tr>\n      <th>4</th>\n      <td>regnellii</td>\n      <td>f5</td>\n      <td>121</td>\n      <td>['ESA031454', 'MBM116011', 'SPF00164804', 'MBM...</td>\n    </tr>\n  </tbody>\n</table>\n</div>"
     },
     "metadata": {},
     "output_type": "display_data"
    },
    {
     "name": "stdout",
     "output_type": "stream",
     "text": [
      "/home/xandao/Documentos/dataset_gimp/imagens_br/imagens/grayscale/specific_epithet/400/5\n"
     ]
    },
    {
     "data": {
      "text/plain": "'color: grayscale image_size: 400 minimum_image: 5'"
     },
     "metadata": {},
     "output_type": "display_data"
    },
    {
     "data": {
      "text/plain": "      species folder  count                                        list_images\n0  piscatorum     f1     14  ['INPA0179861', 'INPA0023412', 'NY01421846_01'...\n1    glaziovi     f2      5  ['INPA0179861', 'INPA0023412', 'NY01421846_01'...\n2    obliquum     f3     67  ['INPA0179861', 'INPA0023412', 'NY01421846_01'...\n3  fuligineum     f4    177  ['INPA0179861', 'INPA0023412', 'NY01421846_01'...\n4  javariense     f5     11  ['INPA0179861', 'INPA0023412', 'NY01421846_01'...",
      "text/html": "<div>\n<style scoped>\n    .dataframe tbody tr th:only-of-type {\n        vertical-align: middle;\n    }\n\n    .dataframe tbody tr th {\n        vertical-align: top;\n    }\n\n    .dataframe thead th {\n        text-align: right;\n    }\n</style>\n<table border=\"1\" class=\"dataframe\">\n  <thead>\n    <tr style=\"text-align: right;\">\n      <th></th>\n      <th>species</th>\n      <th>folder</th>\n      <th>count</th>\n      <th>list_images</th>\n    </tr>\n  </thead>\n  <tbody>\n    <tr>\n      <th>0</th>\n      <td>piscatorum</td>\n      <td>f1</td>\n      <td>14</td>\n      <td>['INPA0179861', 'INPA0023412', 'NY01421846_01'...</td>\n    </tr>\n    <tr>\n      <th>1</th>\n      <td>glaziovi</td>\n      <td>f2</td>\n      <td>5</td>\n      <td>['INPA0179861', 'INPA0023412', 'NY01421846_01'...</td>\n    </tr>\n    <tr>\n      <th>2</th>\n      <td>obliquum</td>\n      <td>f3</td>\n      <td>67</td>\n      <td>['INPA0179861', 'INPA0023412', 'NY01421846_01'...</td>\n    </tr>\n    <tr>\n      <th>3</th>\n      <td>fuligineum</td>\n      <td>f4</td>\n      <td>177</td>\n      <td>['INPA0179861', 'INPA0023412', 'NY01421846_01'...</td>\n    </tr>\n    <tr>\n      <th>4</th>\n      <td>javariense</td>\n      <td>f5</td>\n      <td>11</td>\n      <td>['INPA0179861', 'INPA0023412', 'NY01421846_01'...</td>\n    </tr>\n  </tbody>\n</table>\n</div>"
     },
     "metadata": {},
     "output_type": "display_data"
    },
    {
     "name": "stdout",
     "output_type": "stream",
     "text": [
      "/home/xandao/Documentos/dataset_gimp/imagens_br/imagens/grayscale/specific_epithet/400/10\n"
     ]
    },
    {
     "data": {
      "text/plain": "'color: grayscale image_size: 400 minimum_image: 10'"
     },
     "metadata": {},
     "output_type": "display_data"
    },
    {
     "data": {
      "text/plain": "      species folder  count                                        list_images\n0  piscatorum     f1     14  ['NY01801096_01', 'UEC149373', 'CEN00051602', ...\n1    obliquum     f2     67  ['NY01801096_01', 'UEC149373', 'CEN00051602', ...\n2  fuligineum     f3    177  ['NY01801096_01', 'UEC149373', 'CEN00051602', ...\n3  javariense     f4     11  ['NY01801096_01', 'UEC149373', 'CEN00051602', ...\n4   coruscans     f5     15  ['NY01801096_01', 'UEC149373', 'CEN00051602', ...",
      "text/html": "<div>\n<style scoped>\n    .dataframe tbody tr th:only-of-type {\n        vertical-align: middle;\n    }\n\n    .dataframe tbody tr th {\n        vertical-align: top;\n    }\n\n    .dataframe thead th {\n        text-align: right;\n    }\n</style>\n<table border=\"1\" class=\"dataframe\">\n  <thead>\n    <tr style=\"text-align: right;\">\n      <th></th>\n      <th>species</th>\n      <th>folder</th>\n      <th>count</th>\n      <th>list_images</th>\n    </tr>\n  </thead>\n  <tbody>\n    <tr>\n      <th>0</th>\n      <td>piscatorum</td>\n      <td>f1</td>\n      <td>14</td>\n      <td>['NY01801096_01', 'UEC149373', 'CEN00051602', ...</td>\n    </tr>\n    <tr>\n      <th>1</th>\n      <td>obliquum</td>\n      <td>f2</td>\n      <td>67</td>\n      <td>['NY01801096_01', 'UEC149373', 'CEN00051602', ...</td>\n    </tr>\n    <tr>\n      <th>2</th>\n      <td>fuligineum</td>\n      <td>f3</td>\n      <td>177</td>\n      <td>['NY01801096_01', 'UEC149373', 'CEN00051602', ...</td>\n    </tr>\n    <tr>\n      <th>3</th>\n      <td>javariense</td>\n      <td>f4</td>\n      <td>11</td>\n      <td>['NY01801096_01', 'UEC149373', 'CEN00051602', ...</td>\n    </tr>\n    <tr>\n      <th>4</th>\n      <td>coruscans</td>\n      <td>f5</td>\n      <td>15</td>\n      <td>['NY01801096_01', 'UEC149373', 'CEN00051602', ...</td>\n    </tr>\n  </tbody>\n</table>\n</div>"
     },
     "metadata": {},
     "output_type": "display_data"
    },
    {
     "name": "stdout",
     "output_type": "stream",
     "text": [
      "/home/xandao/Documentos/dataset_gimp/imagens_br/imagens/grayscale/specific_epithet/400/20\n"
     ]
    },
    {
     "data": {
      "text/plain": "'color: grayscale image_size: 400 minimum_image: 20'"
     },
     "metadata": {},
     "output_type": "display_data"
    },
    {
     "data": {
      "text/plain": "         species folder  count  \\\n0       obliquum     f1     67   \n1     fuligineum     f2    177   \n2      oreophila     f3     30   \n3  corcovadensis     f4    323   \n4      regnellii     f5    121   \n\n                                         list_images  \n0  ['ESA031454', 'MBM116011', 'SPF00164804', 'MBM...  \n1  ['ESA031454', 'MBM116011', 'SPF00164804', 'MBM...  \n2  ['ESA031454', 'MBM116011', 'SPF00164804', 'MBM...  \n3  ['ESA031454', 'MBM116011', 'SPF00164804', 'MBM...  \n4  ['ESA031454', 'MBM116011', 'SPF00164804', 'MBM...  ",
      "text/html": "<div>\n<style scoped>\n    .dataframe tbody tr th:only-of-type {\n        vertical-align: middle;\n    }\n\n    .dataframe tbody tr th {\n        vertical-align: top;\n    }\n\n    .dataframe thead th {\n        text-align: right;\n    }\n</style>\n<table border=\"1\" class=\"dataframe\">\n  <thead>\n    <tr style=\"text-align: right;\">\n      <th></th>\n      <th>species</th>\n      <th>folder</th>\n      <th>count</th>\n      <th>list_images</th>\n    </tr>\n  </thead>\n  <tbody>\n    <tr>\n      <th>0</th>\n      <td>obliquum</td>\n      <td>f1</td>\n      <td>67</td>\n      <td>['ESA031454', 'MBM116011', 'SPF00164804', 'MBM...</td>\n    </tr>\n    <tr>\n      <th>1</th>\n      <td>fuligineum</td>\n      <td>f2</td>\n      <td>177</td>\n      <td>['ESA031454', 'MBM116011', 'SPF00164804', 'MBM...</td>\n    </tr>\n    <tr>\n      <th>2</th>\n      <td>oreophila</td>\n      <td>f3</td>\n      <td>30</td>\n      <td>['ESA031454', 'MBM116011', 'SPF00164804', 'MBM...</td>\n    </tr>\n    <tr>\n      <th>3</th>\n      <td>corcovadensis</td>\n      <td>f4</td>\n      <td>323</td>\n      <td>['ESA031454', 'MBM116011', 'SPF00164804', 'MBM...</td>\n    </tr>\n    <tr>\n      <th>4</th>\n      <td>regnellii</td>\n      <td>f5</td>\n      <td>121</td>\n      <td>['ESA031454', 'MBM116011', 'SPF00164804', 'MBM...</td>\n    </tr>\n  </tbody>\n</table>\n</div>"
     },
     "metadata": {},
     "output_type": "display_data"
    },
    {
     "name": "stdout",
     "output_type": "stream",
     "text": [
      "/home/xandao/Documentos/dataset_gimp/imagens_br/imagens/grayscale/specific_epithet/512/5\n"
     ]
    },
    {
     "data": {
      "text/plain": "'color: grayscale image_size: 512 minimum_image: 5'"
     },
     "metadata": {},
     "output_type": "display_data"
    },
    {
     "data": {
      "text/plain": "      species folder  count                                        list_images\n0  piscatorum     f1     14  ['INPA0179861', 'INPA0023412', 'NY01421846_01'...\n1    glaziovi     f2      5  ['INPA0179861', 'INPA0023412', 'NY01421846_01'...\n2    obliquum     f3     67  ['INPA0179861', 'INPA0023412', 'NY01421846_01'...\n3  fuligineum     f4    177  ['INPA0179861', 'INPA0023412', 'NY01421846_01'...\n4  javariense     f5     11  ['INPA0179861', 'INPA0023412', 'NY01421846_01'...",
      "text/html": "<div>\n<style scoped>\n    .dataframe tbody tr th:only-of-type {\n        vertical-align: middle;\n    }\n\n    .dataframe tbody tr th {\n        vertical-align: top;\n    }\n\n    .dataframe thead th {\n        text-align: right;\n    }\n</style>\n<table border=\"1\" class=\"dataframe\">\n  <thead>\n    <tr style=\"text-align: right;\">\n      <th></th>\n      <th>species</th>\n      <th>folder</th>\n      <th>count</th>\n      <th>list_images</th>\n    </tr>\n  </thead>\n  <tbody>\n    <tr>\n      <th>0</th>\n      <td>piscatorum</td>\n      <td>f1</td>\n      <td>14</td>\n      <td>['INPA0179861', 'INPA0023412', 'NY01421846_01'...</td>\n    </tr>\n    <tr>\n      <th>1</th>\n      <td>glaziovi</td>\n      <td>f2</td>\n      <td>5</td>\n      <td>['INPA0179861', 'INPA0023412', 'NY01421846_01'...</td>\n    </tr>\n    <tr>\n      <th>2</th>\n      <td>obliquum</td>\n      <td>f3</td>\n      <td>67</td>\n      <td>['INPA0179861', 'INPA0023412', 'NY01421846_01'...</td>\n    </tr>\n    <tr>\n      <th>3</th>\n      <td>fuligineum</td>\n      <td>f4</td>\n      <td>177</td>\n      <td>['INPA0179861', 'INPA0023412', 'NY01421846_01'...</td>\n    </tr>\n    <tr>\n      <th>4</th>\n      <td>javariense</td>\n      <td>f5</td>\n      <td>11</td>\n      <td>['INPA0179861', 'INPA0023412', 'NY01421846_01'...</td>\n    </tr>\n  </tbody>\n</table>\n</div>"
     },
     "metadata": {},
     "output_type": "display_data"
    },
    {
     "name": "stdout",
     "output_type": "stream",
     "text": [
      "/home/xandao/Documentos/dataset_gimp/imagens_br/imagens/grayscale/specific_epithet/512/10\n"
     ]
    },
    {
     "data": {
      "text/plain": "'color: grayscale image_size: 512 minimum_image: 10'"
     },
     "metadata": {},
     "output_type": "display_data"
    },
    {
     "data": {
      "text/plain": "      species folder  count                                        list_images\n0  piscatorum     f1     14  ['NY01801096_01', 'UEC149373', 'CEN00051602', ...\n1    obliquum     f2     67  ['NY01801096_01', 'UEC149373', 'CEN00051602', ...\n2  fuligineum     f3    177  ['NY01801096_01', 'UEC149373', 'CEN00051602', ...\n3  javariense     f4     11  ['NY01801096_01', 'UEC149373', 'CEN00051602', ...\n4   coruscans     f5     15  ['NY01801096_01', 'UEC149373', 'CEN00051602', ...",
      "text/html": "<div>\n<style scoped>\n    .dataframe tbody tr th:only-of-type {\n        vertical-align: middle;\n    }\n\n    .dataframe tbody tr th {\n        vertical-align: top;\n    }\n\n    .dataframe thead th {\n        text-align: right;\n    }\n</style>\n<table border=\"1\" class=\"dataframe\">\n  <thead>\n    <tr style=\"text-align: right;\">\n      <th></th>\n      <th>species</th>\n      <th>folder</th>\n      <th>count</th>\n      <th>list_images</th>\n    </tr>\n  </thead>\n  <tbody>\n    <tr>\n      <th>0</th>\n      <td>piscatorum</td>\n      <td>f1</td>\n      <td>14</td>\n      <td>['NY01801096_01', 'UEC149373', 'CEN00051602', ...</td>\n    </tr>\n    <tr>\n      <th>1</th>\n      <td>obliquum</td>\n      <td>f2</td>\n      <td>67</td>\n      <td>['NY01801096_01', 'UEC149373', 'CEN00051602', ...</td>\n    </tr>\n    <tr>\n      <th>2</th>\n      <td>fuligineum</td>\n      <td>f3</td>\n      <td>177</td>\n      <td>['NY01801096_01', 'UEC149373', 'CEN00051602', ...</td>\n    </tr>\n    <tr>\n      <th>3</th>\n      <td>javariense</td>\n      <td>f4</td>\n      <td>11</td>\n      <td>['NY01801096_01', 'UEC149373', 'CEN00051602', ...</td>\n    </tr>\n    <tr>\n      <th>4</th>\n      <td>coruscans</td>\n      <td>f5</td>\n      <td>15</td>\n      <td>['NY01801096_01', 'UEC149373', 'CEN00051602', ...</td>\n    </tr>\n  </tbody>\n</table>\n</div>"
     },
     "metadata": {},
     "output_type": "display_data"
    },
    {
     "name": "stdout",
     "output_type": "stream",
     "text": [
      "/home/xandao/Documentos/dataset_gimp/imagens_br/imagens/grayscale/specific_epithet/512/20\n"
     ]
    },
    {
     "data": {
      "text/plain": "'color: grayscale image_size: 512 minimum_image: 20'"
     },
     "metadata": {},
     "output_type": "display_data"
    },
    {
     "data": {
      "text/plain": "         species folder  count  \\\n0       obliquum     f1     67   \n1     fuligineum     f2    177   \n2      oreophila     f3     30   \n3  corcovadensis     f4    323   \n4      regnellii     f5    121   \n\n                                         list_images  \n0  ['ESA031454', 'MBM116011', 'SPF00164804', 'MBM...  \n1  ['ESA031454', 'MBM116011', 'SPF00164804', 'MBM...  \n2  ['ESA031454', 'MBM116011', 'SPF00164804', 'MBM...  \n3  ['ESA031454', 'MBM116011', 'SPF00164804', 'MBM...  \n4  ['ESA031454', 'MBM116011', 'SPF00164804', 'MBM...  ",
      "text/html": "<div>\n<style scoped>\n    .dataframe tbody tr th:only-of-type {\n        vertical-align: middle;\n    }\n\n    .dataframe tbody tr th {\n        vertical-align: top;\n    }\n\n    .dataframe thead th {\n        text-align: right;\n    }\n</style>\n<table border=\"1\" class=\"dataframe\">\n  <thead>\n    <tr style=\"text-align: right;\">\n      <th></th>\n      <th>species</th>\n      <th>folder</th>\n      <th>count</th>\n      <th>list_images</th>\n    </tr>\n  </thead>\n  <tbody>\n    <tr>\n      <th>0</th>\n      <td>obliquum</td>\n      <td>f1</td>\n      <td>67</td>\n      <td>['ESA031454', 'MBM116011', 'SPF00164804', 'MBM...</td>\n    </tr>\n    <tr>\n      <th>1</th>\n      <td>fuligineum</td>\n      <td>f2</td>\n      <td>177</td>\n      <td>['ESA031454', 'MBM116011', 'SPF00164804', 'MBM...</td>\n    </tr>\n    <tr>\n      <th>2</th>\n      <td>oreophila</td>\n      <td>f3</td>\n      <td>30</td>\n      <td>['ESA031454', 'MBM116011', 'SPF00164804', 'MBM...</td>\n    </tr>\n    <tr>\n      <th>3</th>\n      <td>corcovadensis</td>\n      <td>f4</td>\n      <td>323</td>\n      <td>['ESA031454', 'MBM116011', 'SPF00164804', 'MBM...</td>\n    </tr>\n    <tr>\n      <th>4</th>\n      <td>regnellii</td>\n      <td>f5</td>\n      <td>121</td>\n      <td>['ESA031454', 'MBM116011', 'SPF00164804', 'MBM...</td>\n    </tr>\n  </tbody>\n</table>\n</div>"
     },
     "metadata": {},
     "output_type": "display_data"
    }
   ],
   "source": [
    "list_color = ['RGB', 'grayscale']\n",
    "list_image_size = ['256', '400', '512']\n",
    "list_minimum_image = ['5', '10', '20']\n",
    "path_dataset = '/home/xandao/Documentos/dataset_gimp/imagens_br/imagens/'\n",
    "\n",
    "for color in list_color:\n",
    "    for image_size in list_image_size:\n",
    "        for minimum_image in list_minimum_image:\n",
    "            p = os.path.join(path_dataset, color, 'specific_epithet', image_size, minimum_image)\n",
    "            print(p)\n",
    "            file_labels = [f for f in pathlib.Path(p).rglob('label2.txt') if f.is_file()]\n",
    "            if len(file_labels) == 1:\n",
    "                df = pd.read_csv(file_labels[0], header=None, sep=';', names=['species', 'folder', 'count'])\n",
    "                display('color: %s image_size: %s minimum_image: %s' % (\n",
    "                color, image_size, minimum_image))\n",
    "                for folder_name in df['folder']:\n",
    "                    df['list_images'] = str(\n",
    "                        [str(image.stem) for image in pathlib.Path(os.path.join(p, folder_name)).rglob('*.jpeg') if\n",
    "                         image.is_file()])\n",
    "                display(df.head(5))\n",
    "                filename = '%s_%s_%s.csv' % (color, image_size, minimum_image)\n",
    "                filename = os.path.join('csv', 'br', filename)\n",
    "                df.to_csv(filename, sep=';', header=None, index=None, lineterminator='\\n')"
   ],
   "metadata": {
    "collapsed": false
   }
  }
 ],
 "metadata": {
  "kernelspec": {
   "display_name": "base",
   "language": "python",
   "name": "python3"
  },
  "language_info": {
   "codemirror_mode": {
    "name": "ipython",
    "version": 3
   },
   "file_extension": ".py",
   "mimetype": "text/x-python",
   "name": "python",
   "nbconvert_exporter": "python",
   "pygments_lexer": "ipython3",
   "version": "3.9.12"
  },
  "vscode": {
   "interpreter": {
    "hash": "53ce972a288a646521e393254486dd3d4e40ae124f0f9a66da52dff344d61cdc"
   }
  }
 },
 "nbformat": 4,
 "nbformat_minor": 1
}
